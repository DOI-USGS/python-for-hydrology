{
 "cells": [
  {
   "cell_type": "markdown",
   "id": "77327da6",
   "metadata": {},
   "source": [
    "# Parse Martin Luther King's \"I have a dream\" speech and count the most commonly used words, skipping the so-called \"stop words\" (like \"I\", \"an\", \"the\", etc.)"
   ]
  },
  {
   "cell_type": "markdown",
   "id": "078e4343",
   "metadata": {},
   "source": [
    "### We'll go step by step through this"
   ]
  },
  {
   "cell_type": "code",
   "execution_count": null,
   "id": "d9d56b3e",
   "metadata": {},
   "outputs": [],
   "source": [
    "# importing some libraries - we will discuss this more later\n",
    "from pathlib import Path # this library is helpful for navigating file locations\n",
    "datapath = Path('data') # setting a path for location of data files\n",
    "from sklearn.feature_extraction.text import ENGLISH_STOP_WORDS # here is a list of the English stop words\n",
    "stopwords = list(ENGLISH_STOP_WORDS)\n",
    "print(stopwords)"
   ]
  },
  {
   "cell_type": "markdown",
   "id": "d63ff466",
   "metadata": {},
   "source": [
    "### Now we will read in the speech and do some cleaning of the data (usually called \"data munging\"--see glossary in `more_resources` folder). Don't sweat the details of the next few lines....this is just here for future you to come back to"
   ]
  },
  {
   "cell_type": "code",
   "execution_count": null,
   "id": "dc7b3c85",
   "metadata": {},
   "outputs": [],
   "source": [
    "speech_raw = open(datapath / 'dream.txt').readlines() \n",
    "speech = [i.strip() for i in speech_raw]"
   ]
  },
  {
   "cell_type": "code",
   "execution_count": null,
   "id": "a536464e",
   "metadata": {},
   "outputs": [],
   "source": [
    "words = []\n",
    "for i in speech:\n",
    "    words.append(i)\n",
    "words"
   ]
  },
  {
   "cell_type": "code",
   "execution_count": null,
   "id": "5722af2e",
   "metadata": {
    "scrolled": true
   },
   "outputs": [],
   "source": [
    "words = ' '.join(words)\n",
    "words"
   ]
  },
  {
   "cell_type": "code",
   "execution_count": null,
   "id": "13bee0c1",
   "metadata": {},
   "outputs": [],
   "source": [
    "# put this all in lower case\n",
    "words = words.lower()"
   ]
  },
  {
   "cell_type": "code",
   "execution_count": null,
   "id": "f249a10b",
   "metadata": {},
   "outputs": [],
   "source": [
    "# get rid of punctuation using replace and replacing with empty string (e.g. '')\n",
    "punks = ['.',',',':',';','!','-']\n",
    "for cp in punks:\n",
    "    words = words.replace(cp, '')"
   ]
  },
  {
   "cell_type": "code",
   "execution_count": null,
   "id": "b755a4ce",
   "metadata": {},
   "outputs": [],
   "source": [
    "# finally split on \"whitespace\" resulting in a list of words\n",
    "words = words.split()\n",
    "words"
   ]
  },
  {
   "cell_type": "markdown",
   "id": "a2852613",
   "metadata": {},
   "source": [
    "# NOW - it's your turn "
   ]
  },
  {
   "cell_type": "code",
   "execution_count": null,
   "id": "a78bd52b",
   "metadata": {},
   "outputs": [],
   "source": [
    "# loop through the words and, check whether each one is in the stopwords list and,\n",
    "# if it is NOT, keep it in a new list called \"kept_words\""
   ]
  },
  {
   "cell_type": "code",
   "execution_count": null,
   "id": "8814359f",
   "metadata": {},
   "outputs": [],
   "source": [
    "# hint: look at the following line and see what it returns. try \"not in\" as well\n",
    "'the' in stopwords"
   ]
  },
  {
   "cell_type": "code",
   "execution_count": null,
   "id": "aaffd255",
   "metadata": {},
   "outputs": [],
   "source": [
    "# hint: remember the difference between append and extend for lists"
   ]
  },
  {
   "cell_type": "code",
   "execution_count": null,
   "id": "82e4fb4b",
   "metadata": {},
   "outputs": [],
   "source": [
    "kept_words = [] # make an empty list\n",
    "# fill the list with words that are NOT in stopwords"
   ]
  },
  {
   "cell_type": "code",
   "execution_count": null,
   "id": "6f0072ec",
   "metadata": {},
   "outputs": [],
   "source": []
  },
  {
   "cell_type": "markdown",
   "id": "8ab3fade",
   "metadata": {},
   "source": [
    "### cool - got rid of stop words"
   ]
  },
  {
   "cell_type": "code",
   "execution_count": null,
   "id": "91ab4353",
   "metadata": {},
   "outputs": [],
   "source": [
    "# make an empty dictionary that will have keys being the unique words in the speech, \n",
    "# and values being their counts\n",
    "counts = dict()"
   ]
  },
  {
   "cell_type": "code",
   "execution_count": null,
   "id": "65f1d4c7",
   "metadata": {},
   "outputs": [],
   "source": [
    "# hint: recall dictionaries have properties like .keys(), .values(), and .items()"
   ]
  },
  {
   "cell_type": "code",
   "execution_count": null,
   "id": "58186c25",
   "metadata": {},
   "outputs": [],
   "source": [
    "# fill the counts here"
   ]
  },
  {
   "cell_type": "code",
   "execution_count": null,
   "id": "3a2c0bde",
   "metadata": {},
   "outputs": [],
   "source": [
    "counts"
   ]
  },
  {
   "cell_type": "markdown",
   "id": "15af22a1",
   "metadata": {},
   "source": [
    "### can we organize these by sorting them? \n",
    "hint: look at the function `sorted()` and its options  \n",
    "hint: we can get the values from the dictionary using `counts.values()`"
   ]
  },
  {
   "cell_type": "code",
   "execution_count": null,
   "id": "34b298eb",
   "metadata": {},
   "outputs": [],
   "source": [
    "#top_counts = ..."
   ]
  },
  {
   "cell_type": "code",
   "execution_count": null,
   "id": "114a9ae5",
   "metadata": {},
   "outputs": [],
   "source": [
    "# it would be really nice to reduce this to a unique set of values rather than repeated numbers\n",
    "#top_counts_unique = ..."
   ]
  },
  {
   "cell_type": "markdown",
   "id": "3c26f189",
   "metadata": {},
   "source": [
    "### and finally, let's print out the words with their counts in descending order\n",
    "hint: a common way to iterate over a dictionary is like the following:"
   ]
  },
  {
   "cell_type": "code",
   "execution_count": null,
   "id": "1ea4ef60",
   "metadata": {},
   "outputs": [],
   "source": [
    "for key, val in counts.items():\n",
    "    print(key, val)"
   ]
  },
  {
   "cell_type": "code",
   "execution_count": null,
   "id": "c9d3aba1",
   "metadata": {},
   "outputs": [],
   "source": [
    "# so how about we iterate over the counts (top_counts_unique)\n",
    "# and print the corresponding keys and values from the dictionary\n",
    "\n"
   ]
  },
  {
   "cell_type": "code",
   "execution_count": null,
   "id": "916e692e",
   "metadata": {},
   "outputs": [],
   "source": []
  }
 ],
 "metadata": {
  "kernelspec": {
   "display_name": "Python 3 (ipykernel)",
   "language": "python",
   "name": "python3"
  },
  "language_info": {
   "codemirror_mode": {
    "name": "ipython",
    "version": 3
   },
   "file_extension": ".py",
   "mimetype": "text/x-python",
   "name": "python",
   "nbconvert_exporter": "python",
   "pygments_lexer": "ipython3",
   "version": "3.11.7"
  }
 },
 "nbformat": 4,
 "nbformat_minor": 5
}
