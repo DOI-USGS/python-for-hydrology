{
 "cells": [
  {
   "cell_type": "markdown",
   "metadata": {},
   "source": [
    "# Introduction to python for hydrologists &mdash; `matplotlib` &mdash; 2D and 3D plotting\n",
    "\n",
    "This IPython Notebook is based on a notebook developed by J.R. Johansson (jrjohansson@gmail.com $-$ http://jrjohansson.github.io)\n",
    "\n",
    "The latest version of this [jupyter notebook](http://ipython.org/notebook.html) lecture is available at [https://github.com/jrjohansson/scientific-python-lectures/blob/master/Lecture-4-Matplotlib.ipynb](https://github.com/jrjohansson/scientific-python-lectures/blob/master/Lecture-4-Matplotlib.ipynb).\n",
    "\n",
    "The other notebooks in this lecture series are indexed at [https://github.com/jrjohansson/scientific-python-lectures](https://github.com/jrjohansson/scientific-python-lectures)."
   ]
  },
  {
   "cell_type": "code",
   "execution_count": null,
   "metadata": {},
   "outputs": [],
   "source": [
    "from IPython.display import clear_output, display\n",
    "\n",
    "import pathlib as pl\n",
    "\n",
    "output_path = pl.Path(\"./data/matplotlib\")\n",
    "output_path.mkdir(exist_ok=True, parents=True)"
   ]
  },
  {
   "cell_type": "markdown",
   "metadata": {},
   "source": [
    "## Introduction"
   ]
  },
  {
   "cell_type": "markdown",
   "metadata": {},
   "source": [
    "``matplotlib`` is an excellent 2D and 3D graphics library for generating scientific figures. Some of the many advantages of this library include:\n",
    "\n",
    "* Easy to get started\n",
    "* Support for $\\LaTeX$ formatted labels and texts\n",
    "* Great control of every element in a figure, including figure size and DPI. \n",
    "* High-quality output in many formats, including PNG, PDF, SVG, EPS.\n",
    "* GUI for interactively exploring figures *and* support for headless generation of figure files (useful for batch jobs).\n",
    "\n",
    "One of the of the key features of ``matplotlib`` that that makes `matplotlib` highly suitable for generating figures for scientific publications is that all aspects of the figure can be controlled *programmatically*. This is important for reproducibility and convenient when one needs to regenerate the figure with updated data or change its appearance. \n"
   ]
  },
  {
   "cell_type": "markdown",
   "metadata": {},
   "source": [
    "Import the `matplotlib.pyplot` module under the name `plt` (a better approach to using `python` packages since the `matplotlib.pyplot` namespace is explicitly defined):"
   ]
  },
  {
   "cell_type": "code",
   "execution_count": null,
   "metadata": {},
   "outputs": [],
   "source": [
    "import matplotlib.pyplot as plt\n",
    "import numpy as np"
   ]
  },
  {
   "cell_type": "markdown",
   "metadata": {},
   "source": [
    "Find the Errorbar subsampling example in the matplotlib gallery. Copy the code in to the empty code block below and execute the code."
   ]
  },
  {
   "cell_type": "code",
   "execution_count": null,
   "metadata": {},
   "outputs": [],
   "source": []
  },
  {
   "cell_type": "markdown",
   "metadata": {},
   "source": [
    "Congratulations you have created your first `matplotlib` figure. Let's go further down the `matplotlib` rabbit hole.\n",
    "\n",
    "\n",
    "\n",
    "\n",
    "# The `matplotlib` object-oriented API\n",
    "\n",
    "The main idea with object-oriented programming is to have objects that one can apply functions and actions on, and no object or program states should be global (such as the MATLAB-like API). The real advantage of this approach becomes apparent when more than one figure is created, or when a figure contains more than one subplot. \n",
    "\n",
    "When using the object-oriented API a reference to the newly created figure instance is stored in the `fig` variable, and from it a new axis instance `axes` is created using the `add_axes` method in the `Figure` class instance `fig`:"
   ]
  },
  {
   "cell_type": "code",
   "execution_count": null,
   "metadata": {},
   "outputs": [],
   "source": [
    "fig = plt.figure()\n",
    "\n",
    "axes = fig.add_axes(\n",
    "    [0.1, 0.1, 0.8, 0.8]\n",
    ")  # left, bottom, width, height (range 0 to 1)\n",
    "x = np.arange(10)\n",
    "y = np.arange(10)\n",
    "axes.plot(x, y, \"r\")\n",
    "\n",
    "axes.set_xlabel(\"x\")\n",
    "axes.set_ylabel(\"y\")\n",
    "axes.set_title(\"title\");"
   ]
  },
  {
   "cell_type": "markdown",
   "metadata": {},
   "source": [
    "### Inset figures\n",
    "\n",
    "Although a little bit more code is involved, the advantage is that you now have full control of where the plot axes are placed, and you can easily add more than one axis to the figure:"
   ]
  },
  {
   "cell_type": "code",
   "execution_count": null,
   "metadata": {},
   "outputs": [],
   "source": [
    "fig = plt.figure()\n",
    "\n",
    "axes1 = fig.add_axes([0.1, 0.1, 0.8, 0.8])  # main axes\n",
    "axes2 = fig.add_axes([0.55, 0.55, 0.3, 0.3])  # inset axes\n",
    "\n",
    "# main figure\n",
    "axes1.plot(x, y, \"r\")\n",
    "axes1.set_xlabel(\"x\")\n",
    "axes1.set_ylabel(\"y\")\n",
    "axes1.set_title(\"title\")\n",
    "\n",
    "# insert\n",
    "axes2.plot(y, x, color=\"blue\")\n",
    "axes2.set_xlabel(\"y\")\n",
    "axes2.set_ylabel(\"x\")\n",
    "axes2.set_title(\"insert title\");"
   ]
  },
  {
   "cell_type": "markdown",
   "metadata": {},
   "source": [
    "Copy the code in the previous block to the empty code block below. Then we will modify the location of the inset. The coordinates of the plots are in page coordinates `(fig.add_axes([lowerleftx, lowerlefty, xlen, ylen]))`."
   ]
  },
  {
   "cell_type": "code",
   "execution_count": null,
   "metadata": {},
   "outputs": [],
   "source": []
  },
  {
   "cell_type": "code",
   "execution_count": null,
   "metadata": {},
   "outputs": [],
   "source": []
  },
  {
   "cell_type": "markdown",
   "metadata": {},
   "source": [
    "### Figures with subplots"
   ]
  },
  {
   "cell_type": "code",
   "execution_count": null,
   "metadata": {},
   "outputs": [],
   "source": [
    "fig, axes = plt.subplots(nrows=1, ncols=2)\n",
    "\n",
    "for ax in axes:\n",
    "    ax.plot(x, y, \"r\")\n",
    "    ax.set_xlabel(\"x\")\n",
    "    ax.set_ylabel(\"y\")\n",
    "    ax.set_title(\"title\");"
   ]
  },
  {
   "cell_type": "markdown",
   "metadata": {},
   "source": [
    "## Legends, labels and titles\n",
    "\n",
    "Now that the basics of how to create a figure canvas and add axes instances to the canvas have been covered, methods for decorating a figure with titles, axis labels, and legends will be covered.\n",
    "\n",
    "**Figure titles**\n",
    "\n",
    "A title can be added to each axis instance in a figure. To set the title, use the `set_title` method in the axes instance:\n",
    "\n",
    "```python\n",
    "ax.set_title('title')\n",
    "```\n",
    "\n",
    "**Axis labels**\n",
    "\n",
    "Similarly, the labels of the X and Y axes can be set with the methods `set_xlabel` and `set_ylabel`:\n",
    "\n",
    "```python\n",
    "ax.set_xlabel('x')\n",
    "ax.set_ylabel('y')\n",
    "```\n",
    "\n",
    "**Legends**\n",
    "\n",
    "Legends for curves in a figure can be added in two ways. One method is to use the `legend` method of the axis object and pass a list/tuple of legend texts for the previously defined curves:\n",
    "\n",
    "```python\n",
    "ax.legend(['curve1', 'curve2', 'curve3'])\n",
    "```\n",
    "\n",
    "\n",
    "The method described above follows the MATLAB API. It is somewhat prone to errors and unflexible if curves are added to or removed from the figure (resulting in a wrongly labelled curve).\n",
    "\n",
    "A better method is to use the `label=\"label text\"` keyword argument when plots or other objects are added to the figure, and then using the `legend` method without arguments to add the legend to the figure: "
   ]
  },
  {
   "cell_type": "code",
   "execution_count": null,
   "metadata": {},
   "outputs": [],
   "source": [
    "fig = plt.figure()\n",
    "ax = fig.add_axes(\n",
    "    [0.1, 0.1, 0.8, 0.8]\n",
    ")  # left, bottom, width, height (range 0 to 1)\n",
    "ax.plot(x, x**2, label=\"curve1\")\n",
    "ax.plot(x, x**3, label=\"curve2\")\n",
    "ax.legend();"
   ]
  },
  {
   "cell_type": "markdown",
   "metadata": {},
   "source": [
    "The advantage with this method is that if curves are added or removed from the figure, the legend is automatically updated accordingly.\n",
    "\n",
    "The `legend` function takes an optional keywork argument `loc` that can be used to specify where in the figure the legend is to be drawn. The allowed values of `loc` are numerical codes for the various places the legend can be drawn. See http://`matplotlib`.org/users/legend_guide.html#legend-location for details. Some of the most common `loc` values are:\n",
    "\n",
    "```python\n",
    "ax.legend(loc=0) # let `matplotlib` decide the optimal location\n",
    "ax.legend(loc=1) # upper right corner\n",
    "ax.legend(loc=2) # upper left corner\n",
    "ax.legend(loc=3) # lower left corner\n",
    "ax.legend(loc=4) # lower right corner\n",
    "```\n",
    "\n",
    "# .. many more options are available\n",
    "\n",
    "Alternatively, location keywords can also be used.\n",
    "\n",
    "```python\n",
    "ax.legend(loc='best')\n",
    "ax.legend(loc='upper right')\n",
    "ax.legend(loc='upper left')\n",
    "ax.legend(loc='lower left')\n",
    "ax.legend(loc='lower right')\n",
    "```\n",
    "\n",
    "## Setting colors, linewidths, linetypes\n",
    "\n",
    "### Colors\n",
    "\n",
    "With `matplotlib`, the colors of lines and other graphical elements can be defined in a number of ways. First of all, MATLAB-like syntax can be used where `'b'` means blue, `'g'` means green, etc. The MATLAB API for selecting line styles are also supported: where, for example, 'b.-' means a blue line with dots:"
   ]
  },
  {
   "cell_type": "code",
   "execution_count": null,
   "metadata": {},
   "outputs": [],
   "source": [
    "# MATLAB style line color and style\n",
    "fig, ax = plt.subplots()\n",
    "# blue line with dots\n",
    "ax.plot(x, x**2, \"b.-\")\n",
    "# green dashed line\n",
    "ax.plot(x, x**3, \"g--\");"
   ]
  },
  {
   "cell_type": "markdown",
   "metadata": {},
   "source": [
    "Colors can also be defined by their names or RGB hex codes and optionally provide an alpha value using the `color` and `alpha` keyword arguments:"
   ]
  },
  {
   "cell_type": "code",
   "execution_count": null,
   "metadata": {},
   "outputs": [],
   "source": [
    "fig, ax = plt.subplots()\n",
    "\n",
    "# half-transparant red\n",
    "ax.plot(x, x + 1, color=\"red\", alpha=0.5)\n",
    "# RGB hex code for a bluish color\n",
    "ax.plot(x, x + 2, color=\"#1155dd\")\n",
    "# RGB hex code for a greenish color\n",
    "ax.plot(x, x + 3, color=\"#15cc55\");"
   ]
  },
  {
   "cell_type": "markdown",
   "metadata": {},
   "source": [
    "### Line and marker styles\n",
    "\n",
    "The line width can be changed using the `linewidth` or `lw` keyword argument. The line style can be selected using the `linestyle` or `ls` keyword arguments:"
   ]
  },
  {
   "cell_type": "code",
   "execution_count": null,
   "metadata": {},
   "outputs": [],
   "source": [
    "fig, ax = plt.subplots(figsize=(12, 6))\n",
    "\n",
    "ax.plot(x, x + 1, color=\"blue\", linewidth=0.25)\n",
    "ax.plot(x, x + 2, color=\"blue\", linewidth=0.50)\n",
    "ax.plot(x, x + 3, color=\"blue\", linewidth=1.00)\n",
    "ax.plot(x, x + 4, color=\"blue\", linewidth=2.00)\n",
    "\n",
    "# possible linestype options ‘-‘, ‘–’, ‘-.’, ‘:’, ‘steps’\n",
    "ax.plot(x, x + 5, color=\"red\", lw=2, linestyle=\"-\")\n",
    "ax.plot(x, x + 6, color=\"red\", lw=2, ls=\"-.\")\n",
    "ax.plot(x, x + 7, color=\"red\", lw=2, ls=\":\")\n",
    "\n",
    "# custom dash\n",
    "(line,) = ax.plot(x, x + 8, color=\"black\", lw=1.50)\n",
    "line.set_dashes([5, 10, 15, 10])  # format: line length, space length, ...\n",
    "\n",
    "# possible marker symbols: marker = '+', 'o', '*', 's', ',', '.', '1', '2', '3', '4', ...\n",
    "ax.plot(x, x + 9, color=\"green\", lw=2, ls=\"-\", marker=\"+\")\n",
    "ax.plot(x, x + 10, color=\"green\", lw=2, ls=\"-.\", marker=\"o\")\n",
    "ax.plot(x, x + 11, color=\"green\", lw=2, ls=\"-\", marker=\"s\")\n",
    "ax.plot(x, x + 12, color=\"green\", lw=2, ls=\"-\", marker=\"1\")\n",
    "\n",
    "# marker size and color\n",
    "ax.plot(x, x + 13, color=\"purple\", lw=1, ls=\"-\", marker=\"o\", markersize=2)\n",
    "ax.plot(x, x + 14, color=\"purple\", lw=1, ls=\"-\", marker=\"o\", markersize=4)\n",
    "ax.plot(\n",
    "    x,\n",
    "    x + 15,\n",
    "    color=\"purple\",\n",
    "    lw=1,\n",
    "    ls=\"-\",\n",
    "    marker=\"o\",\n",
    "    markersize=8,\n",
    "    markerfacecolor=\"red\",\n",
    ")\n",
    "ax.plot(\n",
    "    x,\n",
    "    x + 16,\n",
    "    color=\"purple\",\n",
    "    lw=1,\n",
    "    ls=\"-\",\n",
    "    marker=\"s\",\n",
    "    markersize=8,\n",
    "    markerfacecolor=\"yellow\",\n",
    "    markeredgewidth=2,\n",
    "    markeredgecolor=\"blue\",\n",
    ");"
   ]
  },
  {
   "cell_type": "markdown",
   "metadata": {},
   "source": [
    "## Simple plots of NWIS data\n",
    "\n",
    "We will use a the USGS `dataretrival` package to retrieve NWIS data as a pandas dataframe. We will talk more about pandas later"
   ]
  },
  {
   "cell_type": "code",
   "execution_count": null,
   "metadata": {},
   "outputs": [],
   "source": [
    "import dataretrieval.nwis as nwis"
   ]
  },
  {
   "cell_type": "markdown",
   "metadata": {},
   "source": [
    "Below we retrieve data for two sites and make a simple `matplotlib` plot."
   ]
  },
  {
   "cell_type": "code",
   "execution_count": null,
   "metadata": {},
   "outputs": [],
   "source": [
    "site = \"07010000\"\n",
    "\n",
    "start = \"2015-10-01\"\n",
    "end = \"2016-09-30\"\n",
    "\n",
    "data = nwis.get_record(\n",
    "    sites=site,\n",
    "    service=\"iv\",\n",
    "    start=start,\n",
    "    end=end,\n",
    ")"
   ]
  },
  {
   "cell_type": "code",
   "execution_count": null,
   "metadata": {},
   "outputs": [],
   "source": [
    "data"
   ]
  },
  {
   "cell_type": "code",
   "execution_count": null,
   "metadata": {},
   "outputs": [],
   "source": [
    "data[\"00060\"]"
   ]
  },
  {
   "cell_type": "code",
   "execution_count": null,
   "metadata": {},
   "outputs": [],
   "source": [
    "data[\"00060\"].plot()"
   ]
  },
  {
   "cell_type": "markdown",
   "metadata": {},
   "source": [
    "## More figure customization\n",
    "\n",
    "### Adjusting figure layout\n",
    "\n",
    "That was easy, but it isn't so pretty with overlapping figure axes and labels, right?\n",
    "\n",
    "Overlapping figures can be dealt with using the `fig.tight_layout` method, which automatically adjusts the positions of the axes on the figure canvas so that there is no overlapping content:"
   ]
  },
  {
   "cell_type": "code",
   "execution_count": null,
   "metadata": {},
   "outputs": [],
   "source": [
    "fig, axes = plt.subplots(nrows=1, ncols=2)\n",
    "\n",
    "for ax in axes:\n",
    "    ax.plot(x, y, \"r\")\n",
    "    ax.set_xlabel(\"x\")\n",
    "    ax.set_ylabel(\"y\")\n",
    "    ax.set_title(\"title\")\n",
    "\n",
    "fig.tight_layout();"
   ]
  },
  {
   "cell_type": "code",
   "execution_count": null,
   "metadata": {},
   "outputs": [],
   "source": []
  },
  {
   "cell_type": "markdown",
   "metadata": {},
   "source": [
    "## Figure size, aspect ratio and DPI"
   ]
  },
  {
   "cell_type": "markdown",
   "metadata": {},
   "source": [
    "`matplotlib` allows the aspect ratio, DPI and figure size to be specified when the `Figure` object is created, using the `figsize` and `dpi` keyword arguments. `figsize` is a tuple of the width and height of the figure in inches, and `dpi` is the dots-per-inch (pixel per inch). To create an 800x400 pixel, 100 dots-per-inch figure, we can do: "
   ]
  },
  {
   "cell_type": "code",
   "execution_count": null,
   "metadata": {},
   "outputs": [],
   "source": [
    "fig, axes = plt.subplots(figsize=(12, 3), dpi=100)\n",
    "\n",
    "axes.plot(x, y, \"r\")\n",
    "axes.set_xlabel(\"x\")\n",
    "axes.set_ylabel(\"y\")\n",
    "axes.set_title(\"title\");"
   ]
  },
  {
   "cell_type": "markdown",
   "metadata": {},
   "source": [
    "## Saving figures\n",
    "\n",
    "To save a figure to a file, the `savefig` method in the `Figure` class is used:"
   ]
  },
  {
   "cell_type": "code",
   "execution_count": null,
   "metadata": {},
   "outputs": [],
   "source": [
    "fig.savefig(output_path / \"filename.png\")"
   ]
  },
  {
   "cell_type": "markdown",
   "metadata": {},
   "source": [
    "The DPI can also optionally be specified and different different output formats selected:"
   ]
  },
  {
   "cell_type": "code",
   "execution_count": null,
   "metadata": {},
   "outputs": [],
   "source": [
    "fig.savefig(output_path / \"filename.png\", dpi=200)"
   ]
  },
  {
   "cell_type": "markdown",
   "metadata": {},
   "source": [
    "### What formats are available and which ones should be used for best quality?\n",
    "\n",
    "`matplotlib` can generate high-quality output in a number formats, including PNG, JPG, EPS, SVG, and PDF. For scientific papers, use PDF whenever possible. ($\\LaTeX$ documents compiled with `pdflatex` can include PDFs using the `includegraphics` command $-$ PDFs can also be edited using Adobe Illustrator and other similar graphics programs). \n",
    "\n",
    "The figure type (pdf, png, *etc.*) can be changed simply by changing the file extension."
   ]
  },
  {
   "cell_type": "code",
   "execution_count": null,
   "metadata": {},
   "outputs": [],
   "source": [
    "fig.savefig(output_path / \"filename.svg\")"
   ]
  },
  {
   "cell_type": "markdown",
   "metadata": {},
   "source": [
    "## Formatting text: $\\LaTeX$, fontsize, font family\n",
    "\n",
    "The figure above is functional, but it does not (yet) satisfy the criteria for a figure used in a publication. First and foremost, it may be neccesary to use $\\LaTeX$ formatted text, and second, it may be necessary to adjust the font size to appear right in a publication.\n",
    "\n",
    "`matplotlib` has great support for $\\LaTeX$. All that is required to incorporate $\\LaTeX$ text is to encapsulate any text (legend, title, label, etc.) in dollar signs. For example, `'$y=x^3$'`.\n",
    "\n",
    "But here we can run into a slightly subtle problem with $\\LaTeX$ code and Python text strings. In $\\LaTeX$, the backslash is frequently used in commands, for example `\\alpha` to produce the symbol $\\alpha$. But the backslash already has a meaning in Python strings (the escape code character). To avoid Python messing up our latex code, we need to use \"raw\" text strings. Raw text strings are prepended with an '`r`', like `r'\\alpha'` instead of `'\\alpha'`:"
   ]
  },
  {
   "cell_type": "code",
   "execution_count": null,
   "metadata": {},
   "outputs": [],
   "source": [
    "fig, ax = plt.subplots()\n",
    "\n",
    "ax.plot(x, x**2, label=r\"$y = \\alpha^2$\")\n",
    "ax.plot(x, x**3, label=r\"$y = \\alpha^3$\")\n",
    "ax.set_xlabel(r\"$\\alpha$\", fontsize=18)\n",
    "ax.set_ylabel(r\"$y$\", fontsize=18)\n",
    "ax.set_title(\"title\")\n",
    "ax.legend(loc=\"upper left\");"
   ]
  },
  {
   "cell_type": "markdown",
   "metadata": {},
   "source": [
    "## Control over axis appearance\n",
    "\n",
    "The appearance of the axes is an important aspect of a figure that often must be modified to make publication quality graphics. It also may be necessary to control where the ticks and labels are placed, modify the font size and possibly the labels used on the axes. Methods for  controlling axis properties and appearance in a `matplotlib` figure are explored in this section.\n",
    "\n",
    "### Plot range\n",
    "\n",
    "Axes ranges can be configured using the `set_ylim` and `set_xlim` methods in the axis object, or `axis('tight')` for automatrically getting \"tightly fitted\" axes ranges:"
   ]
  },
  {
   "cell_type": "code",
   "execution_count": null,
   "metadata": {},
   "outputs": [],
   "source": [
    "fig, axes = plt.subplots(1, 3, figsize=(12, 4))\n",
    "\n",
    "axes[0].plot(x, x**2, x, x**3)\n",
    "axes[0].set_title(\"default axes ranges\")\n",
    "\n",
    "axes[1].plot(x, x**2, x, x**3)\n",
    "axes[1].axis(\"tight\")\n",
    "axes[1].set_title(\"tight axes\")\n",
    "\n",
    "axes[2].plot(x, x**2, x, x**3)\n",
    "axes[2].set_ylim([0, 60])\n",
    "axes[2].set_xlim([2, 3])\n",
    "axes[2].set_title(\"custom axes range\");"
   ]
  },
  {
   "cell_type": "markdown",
   "metadata": {},
   "source": [
    "### Logarithmic scale\n",
    "\n",
    "It is also possible to set a logarithmic scale for one or both axes. This functionality is in fact only one application of a more general transformation system in `matplotlib`. Each of the axes' scales are set seperately using `set_xscale` and `set_yscale` methods which accept one parameter (with the value \"log\" in this case):"
   ]
  },
  {
   "cell_type": "code",
   "execution_count": null,
   "metadata": {},
   "outputs": [],
   "source": [
    "fig, axes = plt.subplots(1, 2, figsize=(10, 4))\n",
    "\n",
    "axes[0].plot(x, x**2, x, np.exp(x))\n",
    "axes[0].set_title(\"Normal scale\")\n",
    "\n",
    "axes[1].plot(x, x**2, x, np.exp(x))\n",
    "axes[1].set_yscale(\"log\")\n",
    "axes[1].set_title(\"Logarithmic scale (y)\");"
   ]
  },
  {
   "cell_type": "markdown",
   "metadata": {},
   "source": [
    "Logarithmic scales can also be specified using `semilogx()`, `semilogy()`, or `loglog()`. What are the differences in the figures plotted using `.set_yscale(\"log\")` and `.semilogy()`?\n",
    "\n",
    "### Placement of ticks and custom tick labels\n",
    "\n",
    "The axis ticks can be explicitly set using with `set_xticks` and `set_yticks`, which both take a list of values for where on the axis the ticks are to be placed. The `set_xticklabels` and `set_yticklabels` methods can be used to provide a list of custom text labels for each tick location:"
   ]
  },
  {
   "cell_type": "code",
   "execution_count": null,
   "metadata": {},
   "outputs": [],
   "source": [
    "fig, ax = plt.subplots(figsize=(10, 4))\n",
    "\n",
    "ax.plot(x, x**2, x, x**3, lw=2)\n",
    "\n",
    "ax.set_xticks([1, 2, 3, 4, 5])\n",
    "ax.set_xticklabels(\n",
    "    [r\"$\\alpha$\", r\"$\\beta$\", r\"$\\gamma$\", r\"$\\delta$\", r\"$\\epsilon$\"],\n",
    "    fontsize=18,\n",
    ")\n",
    "\n",
    "yticks = [0, 50, 100, 150]\n",
    "ax.set_yticks(yticks)\n",
    "# use LaTeX formatted labels\n",
    "ax.set_yticklabels([\"$%.1f$\" % y for y in yticks], fontsize=18);"
   ]
  },
  {
   "cell_type": "markdown",
   "metadata": {},
   "source": [
    "There are a number of more advanced methods for controlling major and minor tick placement in `matplotlib` figures, such as automatic placement according to different policies. See http://`matplotlib`.org/api/ticker_api.html for details.\n",
    "\n",
    "### Axis grid\n",
    "\n",
    "With the `grid` method in the axis object, grid lines can be turned on and off. The appearance of the grid lines can also be customized using the same keyword arguments as the `plot` function:"
   ]
  },
  {
   "cell_type": "code",
   "execution_count": null,
   "metadata": {},
   "outputs": [],
   "source": [
    "fig, axes = plt.subplots(1, 2, figsize=(10, 3))\n",
    "\n",
    "# default grid appearance\n",
    "axes[0].plot(x, x**2, x, x**3, lw=2)\n",
    "axes[0].grid(True)\n",
    "\n",
    "# custom grid appearance\n",
    "axes[1].plot(x, x**2, x, x**3, lw=2)\n",
    "axes[1].grid(color=\"b\", alpha=0.5, linestyle=\"dashed\", linewidth=0.5);"
   ]
  },
  {
   "cell_type": "markdown",
   "metadata": {},
   "source": [
    "### Twin axes\n",
    "\n",
    "Sometimes it is useful to have dual x or y axes in a figure; for example, when plotting curves with different units together. `matplotlib` supports this with the `twinx` and `twiny` functions:"
   ]
  },
  {
   "cell_type": "code",
   "execution_count": null,
   "metadata": {},
   "outputs": [],
   "source": [
    "fig, ax1 = plt.subplots()\n",
    "\n",
    "ax1.plot(x, x**2, lw=2, color=\"blue\")\n",
    "ax1.set_ylabel(r\"area $(m^2)$\", fontsize=18, color=\"blue\")\n",
    "for label in ax1.get_yticklabels():\n",
    "    label.set_color(\"blue\")\n",
    "\n",
    "ax2 = ax1.twinx()\n",
    "ax2.plot(x, x**3, lw=2, color=\"red\")\n",
    "ax2.set_ylabel(r\"volume $(m^3)$\", fontsize=18, color=\"red\")\n",
    "for label in ax2.get_yticklabels():\n",
    "    label.set_color(\"red\");"
   ]
  },
  {
   "cell_type": "markdown",
   "metadata": {},
   "source": [
    "## Other 2D plot styles\n",
    "\n",
    "In addition to the regular `plot` method, there are a number of other functions for generating different kind of plots. See the `matplotlib` plot gallery for a complete list of available plot types: http://`matplotlib`.org/gallery.html. Some of the more useful ones are show below:"
   ]
  },
  {
   "cell_type": "code",
   "execution_count": null,
   "metadata": {},
   "outputs": [],
   "source": [
    "xx = np.linspace(-0.75, 1.0, 100)\n",
    "n = np.array([0, 1, 2, 3, 4, 5])\n",
    "\n",
    "fig, axes = plt.subplots(1, 4, figsize=(12, 3))\n",
    "\n",
    "axes[0].scatter(xx, xx + 0.25 * np.random.randn(len(xx)))\n",
    "axes[0].set_title(\"scatter\")\n",
    "\n",
    "axes[1].step(n, n**2, lw=2)\n",
    "axes[1].set_title(\"step\")\n",
    "\n",
    "axes[2].bar(n, n**2, align=\"center\", width=0.5, alpha=0.5)\n",
    "axes[2].set_title(\"bar\")\n",
    "\n",
    "axes[3].fill_between(x, x**2, x**3, color=\"green\", alpha=0.5)\n",
    "axes[3].set_title(\"fill_between\");"
   ]
  },
  {
   "cell_type": "markdown",
   "metadata": {},
   "source": [
    "### Histograms"
   ]
  },
  {
   "cell_type": "code",
   "execution_count": null,
   "metadata": {},
   "outputs": [],
   "source": [
    "# A histogram\n",
    "n = np.random.randn(100000)\n",
    "fig, axes = plt.subplots(1, 2, figsize=(12, 4))\n",
    "\n",
    "axes[0].hist(n)\n",
    "axes[0].set_title(\"Default histogram\")\n",
    "axes[0].set_xlim((min(n), max(n)))\n",
    "\n",
    "axes[1].hist(n, cumulative=True, bins=50)\n",
    "axes[1].set_title(\"Cumulative detailed histogram\")\n",
    "axes[1].set_xlim((min(n), max(n)));"
   ]
  },
  {
   "cell_type": "markdown",
   "metadata": {},
   "source": [
    "## Text annotation\n",
    "\n",
    "Annotating text in `matplotlib` figures can be done using the `text` function. It supports LaTeX formatting just like axis label texts and titles:"
   ]
  },
  {
   "cell_type": "code",
   "execution_count": null,
   "metadata": {},
   "outputs": [],
   "source": [
    "fig, ax = plt.subplots()\n",
    "\n",
    "ax.plot(xx, xx**2, xx, xx**3)\n",
    "\n",
    "ax.text(0.15, 0.2, r\"$\\alpha y=x^2$\", fontsize=20, color=\"blue\")\n",
    "ax.text(0.65, 0.1, r\"$y=x^3$\", fontsize=20, color=\"green\");"
   ]
  },
  {
   "cell_type": "markdown",
   "metadata": {},
   "source": [
    "## Colormap and contour figures\n",
    "\n",
    "Colormaps and contour figures are useful for plotting functions of two variables. A colormap will be used to encode one dimension of the data in most of these functions. There are a number of predefined colormaps. It is relatively straightforward to define custom colormaps. For a list of pre-defined colormaps, see: http://www.scipy.org/Cookbook/`matplotlib`/Show_colormaps"
   ]
  },
  {
   "cell_type": "code",
   "execution_count": null,
   "metadata": {},
   "outputs": [],
   "source": [
    "alpha = 0.7\n",
    "phi_ext = 2 * np.pi * 0.5\n",
    "\n",
    "\n",
    "def flux_qubit_potential(phi_m, phi_p):\n",
    "    return (\n",
    "        2\n",
    "        + alpha\n",
    "        - 2 * np.cos(phi_p) * np.cos(phi_m)\n",
    "        - alpha * np.cos(phi_ext - 2 * phi_p)\n",
    "    )"
   ]
  },
  {
   "cell_type": "code",
   "execution_count": null,
   "metadata": {},
   "outputs": [],
   "source": [
    "phi_m = np.linspace(0, 2 * np.pi, 100)\n",
    "phi_p = np.linspace(0, 2 * np.pi, 100)\n",
    "X, Y = np.meshgrid(phi_p, phi_m)\n",
    "Z = flux_qubit_potential(X, Y).T"
   ]
  },
  {
   "cell_type": "markdown",
   "metadata": {},
   "source": [
    "### pcolor"
   ]
  },
  {
   "cell_type": "code",
   "execution_count": null,
   "metadata": {},
   "outputs": [],
   "source": [
    "fig, ax = plt.subplots()\n",
    "\n",
    "p = ax.pcolor(\n",
    "    X / (2 * np.pi),\n",
    "    Y / (2 * np.pi),\n",
    "    Z,\n",
    "    cmap=plt.cm.RdBu,\n",
    "    vmin=abs(Z).min(),\n",
    "    vmax=abs(Z).max(),\n",
    ")\n",
    "cb = fig.colorbar(p, ax=ax)"
   ]
  },
  {
   "cell_type": "markdown",
   "metadata": {},
   "source": [
    "### imshow"
   ]
  },
  {
   "cell_type": "code",
   "execution_count": null,
   "metadata": {},
   "outputs": [],
   "source": [
    "fig, ax = plt.subplots()\n",
    "\n",
    "im = plt.imshow(\n",
    "    Z,\n",
    "    cmap=plt.cm.RdBu,\n",
    "    vmin=abs(Z).min(),\n",
    "    vmax=abs(Z).max(),\n",
    "    extent=[0, 1, 0, 1],\n",
    ")\n",
    "im.set_interpolation(\"bilinear\")\n",
    "\n",
    "cb = fig.colorbar(im, ax=ax)"
   ]
  },
  {
   "cell_type": "markdown",
   "metadata": {},
   "source": [
    "### contour"
   ]
  },
  {
   "cell_type": "code",
   "execution_count": null,
   "metadata": {},
   "outputs": [],
   "source": [
    "fig, ax = plt.subplots()\n",
    "\n",
    "cnt = plt.contour(\n",
    "    Z,\n",
    "    cmap=plt.cm.RdBu,\n",
    "    vmin=abs(Z).min(),\n",
    "    vmax=abs(Z).max(),\n",
    "    extent=[0, 1, 0, 1],\n",
    ")"
   ]
  },
  {
   "cell_type": "markdown",
   "metadata": {},
   "source": [
    "## Miscellaneous topics\n"
   ]
  },
  {
   "cell_type": "markdown",
   "metadata": {},
   "source": [
    "### Using FloPy styles to make figures for USGS publications\n",
    "\n",
    "FloPy's plotting routines can be used with built in styles from the `styles` module. The `styles` module takes advantage of matplotlib's temporary styling routines by reading in pre-built style sheets. Two different types of styles have been built for flopy: `USGSMap()` and `USGSPlot()` styles which can be used to create report quality figures. The styles module also contains a number of methods that can be used for adding axis labels, text, annotations, headings, removing tick lines, and updating the current font.\n",
    "\n",
    "\n",
    "Addition information on use of flopy styles can be found in https://flopy.readthedocs.io/en/latest/Notebooks/plot_map_view_example.html and https://flopy.readthedocs.io/en/latest/Notebooks/plot_cross_section_example.html"
   ]
  },
  {
   "cell_type": "code",
   "execution_count": null,
   "metadata": {},
   "outputs": [],
   "source": [
    "from flopy.plot import styles"
   ]
  },
  {
   "cell_type": "markdown",
   "metadata": {},
   "source": [
    "#### Make a timeseries"
   ]
  },
  {
   "cell_type": "code",
   "execution_count": null,
   "metadata": {},
   "outputs": [],
   "source": [
    "with styles.USGSPlot():\n",
    "    fig, ax = plt.subplots()\n",
    "    ax.plot([0, 100], [0, 10])\n",
    "    styles.heading(ax=ax, idx=0)"
   ]
  },
  {
   "cell_type": "markdown",
   "metadata": {},
   "source": [
    "Change the font used in the timeseries plot above. The fonts available to matplotlib can be found using\n",
    "\n",
    "```\n",
    "import matplotlib.font_manager\n",
    "matplotlib.font_manager.findSystemFonts(fontpaths=None, fontext='ttf')\n",
    "```\n",
    "\n",
    "A possible option is family `sans-serif` fontname `Arial Narrow`."
   ]
  },
  {
   "cell_type": "markdown",
   "metadata": {},
   "source": [
    "#### Make a map"
   ]
  },
  {
   "cell_type": "code",
   "execution_count": null,
   "metadata": {},
   "outputs": [],
   "source": [
    "x = np.random.random((10,10))\n",
    "X, Y = np.meshgrid(np.arange(0, 10, 1), np.arange(0, 10, 1))\n",
    "with styles.USGSMap():\n",
    "    plt.pcolormesh(X, Y, x)"
   ]
  },
  {
   "cell_type": "markdown",
   "metadata": {},
   "source": [
    "### Creating animations with matplotlib\n",
    "\n",
    "We will animate the sin function over the range of 0 to 2$\\pi$. The first step is to make a numpy array from 0 to 2 using `arange` to define the variable `x`. Start with a interval of `x` on the order of 0.1."
   ]
  },
  {
   "cell_type": "code",
   "execution_count": null,
   "metadata": {},
   "outputs": [],
   "source": []
  },
  {
   "cell_type": "markdown",
   "metadata": {},
   "source": [
    "After creating `x` animate `np.sin()` for all values of `x` using the code below."
   ]
  },
  {
   "cell_type": "code",
   "execution_count": null,
   "metadata": {},
   "outputs": [],
   "source": [
    "fig, ax = plt.subplots(nrows=1, ncols=1)\n",
    "fig.set_figheight(4)\n",
    "fig.set_figwidth(5)\n",
    "\n",
    "for idx in range(x.shape[0]):\n",
    "\n",
    "    ax.cla()\n",
    "\n",
    "    ax.set_xlim(0, 2)\n",
    "    ax.set_ylim(-1.1, 1.1)\n",
    "\n",
    "    i1 = idx + 1\n",
    "    y = np.sin(x[:i1] * np.pi)\n",
    "    line = ax.plot(x[:i1], y)\n",
    "    ax.axhline(y=0, lw=0.5, color=\"black\")\n",
    "    title_text = fig.suptitle(f\"{x[idx]:>2.2f} $\\pi$\")\n",
    "\n",
    "    display(fig)\n",
    "    clear_output(wait=True)\n",
    "    plt.pause(0.1)"
   ]
  },
  {
   "cell_type": "markdown",
   "metadata": {},
   "source": [
    "Modify the animation to show the sine function for the full range of 0 to 2$\\pi$ but show the time as a point on the curve that moves in time."
   ]
  },
  {
   "cell_type": "code",
   "execution_count": null,
   "metadata": {},
   "outputs": [],
   "source": []
  },
  {
   "cell_type": "markdown",
   "metadata": {},
   "source": [
    "### Using PdfPages to create multi-page PDFs\n",
    "\n",
    "Use your sine function plot to create a pdf for each time. A PdfPages example can be found in the matplotlib gallery at https://matplotlib.org/stable/gallery/misc/multipage_pdf.html"
   ]
  },
  {
   "cell_type": "code",
   "execution_count": null,
   "metadata": {},
   "outputs": [],
   "source": [
    "from matplotlib.backends.backend_pdf import PdfPages"
   ]
  },
  {
   "cell_type": "code",
   "execution_count": null,
   "metadata": {},
   "outputs": [],
   "source": [
    "path = pl.Path(f\"{output_path}/multipage_pdf.pdf\")\n",
    "y = np.sin(x * np.pi)\n",
    "\n",
    "with PdfPages(path) as pdf:\n",
    "    for idx, (xx, yy) in enumerate(zip(x, y)):\n",
    "        fig, ax = plt.subplots(nrows=1, ncols=1)\n",
    "        fig.set_figheight(4)\n",
    "        fig.set_figwidth(5)\n",
    "\n",
    "        ax.set_xlim(0, 2)\n",
    "        ax.set_ylim(-1.1, 1.1)\n",
    "\n",
    "        # add your plotting\n",
    "        ax.plot(x, y)\n",
    "        ax.plot(\n",
    "            xx, yy, lw=0, marker=\"o\", ms=4, mfc=\"red\", mec=\"red\", clip_on=False\n",
    "        )\n",
    "\n",
    "        ax.set_title(r\"Page {} - {:6.2f} $\\pi$\".format(idx + 1, xx))\n",
    "        pdf.savefig()  # saves the current figure into a pdf page\n",
    "        plt.close()"
   ]
  },
  {
   "cell_type": "markdown",
   "metadata": {},
   "source": [
    "\n",
    "\n"
   ]
  }
 ],
 "metadata": {
  "language_info": {
   "name": "python"
  }
 },
 "nbformat": 4,
 "nbformat_minor": 4
}
