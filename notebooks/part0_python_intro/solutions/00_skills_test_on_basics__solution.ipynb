{
 "cells": [
  {
   "cell_type": "markdown",
   "id": "c9f71516",
   "metadata": {},
   "source": [
    "# Parse Martin Luther King's \"I have a dream\" speech and count the most commonly used words, skipping the so-called \"stop words\" (like \"I\", \"an\", \"the\", etc.)"
   ]
  },
  {
   "cell_type": "markdown",
   "id": "e68c9eed",
   "metadata": {},
   "source": [
    "### We'll go step by step through this"
   ]
  },
  {
   "cell_type": "code",
   "execution_count": null,
   "id": "4109b30a",
   "metadata": {},
   "outputs": [],
   "source": [
    "# importing some libraries - we will discuss this more later\n",
    "from pathlib import Path # this library is helpful for navigating file locations\n",
    "datapath = Path('../data') # setting a path for location of data files\n",
    "from sklearn.feature_extraction.text import ENGLISH_STOP_WORDS # here is a list of the English stop words\n",
    "stopwords = list(ENGLISH_STOP_WORDS)\n",
    "print(stopwords)"
   ]
  },
  {
   "cell_type": "markdown",
   "id": "4c89c114",
   "metadata": {},
   "source": [
    "### Now we will read in the speech and do some cleaning of the data (usually called \"data munging\"--see glossary in `more_resources` folder). Don't sweat the details of the next few lines....this is just here for future you to come back to"
   ]
  },
  {
   "cell_type": "code",
   "execution_count": null,
   "id": "e2d6cc4c",
   "metadata": {},
   "outputs": [],
   "source": [
    "speech_raw = open(datapath / 'dream.txt').readlines() \n",
    "speech = [i.strip() for i in speech_raw]"
   ]
  },
  {
   "cell_type": "code",
   "execution_count": null,
   "id": "4c66e962",
   "metadata": {},
   "outputs": [],
   "source": [
    "pwd"
   ]
  },
  {
   "cell_type": "code",
   "execution_count": null,
   "id": "0da5821c",
   "metadata": {},
   "outputs": [],
   "source": [
    "words = []\n",
    "for i in speech:\n",
    "    words.append(i)\n",
    "words"
   ]
  },
  {
   "cell_type": "code",
   "execution_count": null,
   "id": "9423dcb6",
   "metadata": {},
   "outputs": [],
   "source": [
    "words = ' '.join(words)\n",
    "words"
   ]
  },
  {
   "cell_type": "code",
   "execution_count": null,
   "id": "2b159e14",
   "metadata": {},
   "outputs": [],
   "source": [
    "# put this all in lower case\n",
    "words = words.lower()"
   ]
  },
  {
   "cell_type": "code",
   "execution_count": null,
   "id": "823918d3",
   "metadata": {},
   "outputs": [],
   "source": [
    "# get rid of punctutation using replace and replacing with empty streng (e.g. '')\n",
    "punks = ['.',',',':',';','!','-']\n",
    "for cp in punks:\n",
    "    words = words.replace(cp, '')"
   ]
  },
  {
   "cell_type": "code",
   "execution_count": null,
   "id": "40ae63a4",
   "metadata": {},
   "outputs": [],
   "source": [
    "# finally split on \"whitespace\" resulting in a list of words\n",
    "words = words.split()\n",
    "words"
   ]
  },
  {
   "cell_type": "markdown",
   "id": "05de2ef8",
   "metadata": {},
   "source": [
    "# NOW - it's your turn "
   ]
  },
  {
   "cell_type": "code",
   "execution_count": null,
   "id": "b5e28976",
   "metadata": {},
   "outputs": [],
   "source": [
    "# loop through the words and, check whether each one is in the stopwords list and,\n",
    "# if it is NOT, keep it in a new list called \"kept_words\""
   ]
  },
  {
   "cell_type": "code",
   "execution_count": null,
   "id": "487c4ffe",
   "metadata": {},
   "outputs": [],
   "source": [
    "# hint: look at the following line and see what it returns. try \"not in\" as well\n",
    "'the' in stopwords"
   ]
  },
  {
   "cell_type": "code",
   "execution_count": null,
   "id": "08d18b3b",
   "metadata": {},
   "outputs": [],
   "source": [
    "# hint: remember the difference between append and extend for lists"
   ]
  },
  {
   "cell_type": "code",
   "execution_count": null,
   "id": "7e9899c1",
   "metadata": {},
   "outputs": [],
   "source": [
    "kept_words = [] # make an empty list\n",
    "for w in words:\n",
    "    if w not in stopwords:\n",
    "        kept_words.append(w)"
   ]
  },
  {
   "cell_type": "code",
   "execution_count": null,
   "id": "713e96c9",
   "metadata": {},
   "outputs": [],
   "source": [
    "kept_words"
   ]
  },
  {
   "cell_type": "markdown",
   "id": "5cf8edbb",
   "metadata": {},
   "source": [
    "### cool - got rid of stop words"
   ]
  },
  {
   "cell_type": "code",
   "execution_count": null,
   "id": "bd5ed745",
   "metadata": {},
   "outputs": [],
   "source": [
    "# make an empty dictionary that will have keys being the unique words in the speech, \n",
    "# and values being their counts\n",
    "counts = dict()"
   ]
  },
  {
   "cell_type": "code",
   "execution_count": null,
   "id": "92b02c8d",
   "metadata": {},
   "outputs": [],
   "source": [
    "# hint: recall dictionaries have properties like .keys(), .values(), and .items()"
   ]
  },
  {
   "cell_type": "code",
   "execution_count": null,
   "id": "71b1d26e",
   "metadata": {},
   "outputs": [],
   "source": [
    "for cw in kept_words:\n",
    "    if cw in counts.keys():\n",
    "        counts[cw] += 1\n",
    "    else:\n",
    "        counts[cw] = 1"
   ]
  },
  {
   "cell_type": "code",
   "execution_count": null,
   "id": "427b3422",
   "metadata": {},
   "outputs": [],
   "source": [
    "counts"
   ]
  },
  {
   "cell_type": "markdown",
   "id": "57aac58d",
   "metadata": {},
   "source": [
    "### can we organize these by sorting them? \n",
    "hint: look at the function `sorted()` and its options  \n",
    "hint: we can get the values from the dictionary using `counts.values()`"
   ]
  },
  {
   "cell_type": "code",
   "execution_count": null,
   "id": "cd0bbe7f",
   "metadata": {},
   "outputs": [],
   "source": [
    "top_counts = sorted(counts.values(), reverse=True)\n",
    "len(top_counts)"
   ]
  },
  {
   "cell_type": "code",
   "execution_count": null,
   "id": "c30bc0a0",
   "metadata": {},
   "outputs": [],
   "source": [
    "# it would be really nice to reduce this to a unique set of values rather than repeated numbers\n",
    "top_counts_unique = []\n",
    "for i in top_counts:\n",
    "    if i not in top_counts_unique:\n",
    "        top_counts_unique.append(i)\n",
    "len(top_counts_unique)"
   ]
  },
  {
   "cell_type": "markdown",
   "id": "b2176003",
   "metadata": {},
   "source": [
    "### and finally, let's print out the words with their counts in descending order\n",
    "hint: a common way to iterate over a dictionary is like the following:"
   ]
  },
  {
   "cell_type": "code",
   "execution_count": null,
   "id": "ceaa61e8",
   "metadata": {},
   "outputs": [],
   "source": [
    "for key, val in counts.items():\n",
    "    print(key, val)"
   ]
  },
  {
   "cell_type": "code",
   "execution_count": null,
   "id": "094d15cb",
   "metadata": {},
   "outputs": [],
   "source": [
    "# so how about we iterate over the counts (top_counts_unique)\n",
    "# and print the corresponding keys and values from the dictionary\n",
    "for ccount in top_counts_unique:\n",
    "    for key, val in counts.items():\n",
    "        if val==ccount:\n",
    "            print(key, val)"
   ]
  },
  {
   "cell_type": "code",
   "execution_count": null,
   "id": "c3b5449c-430b-491c-af66-3a35ed63e377",
   "metadata": {},
   "outputs": [],
   "source": []
  }
 ],
 "metadata": {
  "language_info": {
   "name": "python"
  }
 },
 "nbformat": 4,
 "nbformat_minor": 5
}
