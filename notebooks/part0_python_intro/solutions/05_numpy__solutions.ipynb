{
 "cells": [
  {
   "cell_type": "markdown",
   "id": "2067682b",
   "metadata": {},
   "source": [
    "# 05: NumPy exercise solutions"
   ]
  },
  {
   "cell_type": "code",
   "execution_count": null,
   "id": "c3c92587",
   "metadata": {},
   "outputs": [],
   "source": [
    "import os\n",
    "from pathlib import Path\n",
    "import matplotlib.pyplot as plt\n",
    "import numpy as np\n",
    "#this line sets up the directory paths that we will be using\n",
    "datapath = Path('../data/numpy/')\n",
    "print('Data will be loaded from the following directory: ', datapath)"
   ]
  },
  {
   "cell_type": "markdown",
   "id": "82c069e9",
   "metadata": {},
   "source": [
    "## TEST YOUR SKILLS #0\n",
    "\n",
    "1. Write the Mt. St. Helens array (before) to a new file called `mynewarray.dat` in the same folder as `mt_st_helens_before.dat`. Explore different formats (see the note under [documentation](https://numpy.org/doc/stable/reference/generated/numpy.savetxt.html) for more) and see if you can read it back in again. What are the file size ramifications of format choices?\n",
    "2. Take a look at `bottom_commented.dat` in a text editor.  What about this file?  Can you read this file using `loadtxt` without having to manually change the file?  Hint: look at the `loadtxt` arguments."
   ]
  },
  {
   "cell_type": "markdown",
   "id": "aa10f2e0",
   "metadata": {},
   "source": [
    "### part 0.0"
   ]
  },
  {
   "cell_type": "code",
   "execution_count": null,
   "id": "70d32477",
   "metadata": {},
   "outputs": [],
   "source": [
    "before = np.loadtxt(datapath / 'mt_st_helens_before.dat', dtype=np.float32)"
   ]
  },
  {
   "cell_type": "code",
   "execution_count": null,
   "id": "afd7051a",
   "metadata": {},
   "outputs": [],
   "source": [
    "np.savetxt(datapath / 'mynewarray.dat', before, fmt='%4.3f')"
   ]
  },
  {
   "cell_type": "code",
   "execution_count": null,
   "id": "3608baf5",
   "metadata": {},
   "outputs": [],
   "source": [
    "b4 = np.loadtxt(datapath / 'mynewarray.dat')\n",
    "plt.imshow(b4)"
   ]
  },
  {
   "cell_type": "code",
   "execution_count": null,
   "id": "9f731dec",
   "metadata": {},
   "outputs": [],
   "source": [
    "# how about the built-in binary formats?\n",
    "np.save(datapath / 'tmpfile', before)"
   ]
  },
  {
   "cell_type": "code",
   "execution_count": null,
   "id": "552eefd2",
   "metadata": {},
   "outputs": [],
   "source": [
    "b4_2 = np.load(datapath / 'tmpfile.npy')"
   ]
  },
  {
   "cell_type": "code",
   "execution_count": null,
   "id": "39b3f92c",
   "metadata": {},
   "outputs": [],
   "source": [
    "plt.imshow(b4_2)"
   ]
  },
  {
   "cell_type": "markdown",
   "id": "01c05d04",
   "metadata": {},
   "source": [
    "## part 0.1"
   ]
  },
  {
   "cell_type": "code",
   "execution_count": null,
   "id": "5eeab7f7",
   "metadata": {},
   "outputs": [],
   "source": [
    "filename = datapath / 'bottom_commented.dat'"
   ]
  },
  {
   "cell_type": "code",
   "execution_count": null,
   "id": "9dbd9d59",
   "metadata": {},
   "outputs": [],
   "source": [
    "bots = np.loadtxt(filename, comments = '!')\n",
    "plt.imshow(bots)"
   ]
  },
  {
   "cell_type": "markdown",
   "id": "5d9abae8",
   "metadata": {},
   "source": [
    "what happens if you don't include the `comment` argument?"
   ]
  },
  {
   "cell_type": "markdown",
   "id": "d8f2d626",
   "metadata": {},
   "source": [
    "## TEST YOUR SKILLS #1\n",
    "Let's calculate the amount of material lost from Mt. St. Helens in the 1980 eruption. We have the before and after elevation arrays in the data folder noted in the next cell. We will need to load them up. \n",
    "- The before and after files are the same dimensions, but they have some zeros around the edges indicating \"nodata\" values. \n",
    "- Check to see - are the zeros in the same place in both arrays? (`np.where` and friends can help with that). \n",
    "- If there are no-data zeros in one array at a different location than the other array, what happens if you look at the difference?\n",
    "- assume each pixel is 25 x 25 feet and the elevation arrays are provided in meters to calculate a volumetric difference between before and after arrays."
   ]
  },
  {
   "cell_type": "code",
   "execution_count": null,
   "id": "72c76fad",
   "metadata": {},
   "outputs": [],
   "source": [
    "before_file = datapath / 'mt_st_helens_before.dat'\n",
    "after_file = datapath / 'mt_st_helens_after.dat'"
   ]
  },
  {
   "cell_type": "code",
   "execution_count": null,
   "id": "f227c96f",
   "metadata": {},
   "outputs": [],
   "source": [
    "before = np.loadtxt(before_file)\n",
    "after = np.loadtxt(after_file)\n",
    "# convert from meters to feet (!)\n",
    "before *= 3.28084\n",
    "after *= 3.28084"
   ]
  },
  {
   "cell_type": "code",
   "execution_count": null,
   "id": "0f5812d8",
   "metadata": {},
   "outputs": [],
   "source": [
    "np.sum((before-after) * 25 * 25)"
   ]
  },
  {
   "cell_type": "markdown",
   "id": "75ab3095",
   "metadata": {},
   "source": [
    "### are there the same number of 0 values in each array?"
   ]
  },
  {
   "cell_type": "code",
   "execution_count": null,
   "id": "ce536d78",
   "metadata": {},
   "outputs": [],
   "source": [
    "# compare np.where results\n",
    "# use np.where\n",
    "print('using np.where')\n",
    "print(len(np.where(before==0)[0]) , len(np.where(after==0)[0]))"
   ]
  },
  {
   "cell_type": "markdown",
   "id": "a822e0ac",
   "metadata": {},
   "source": [
    "### d'oh! not the same .... what to do?"
   ]
  },
  {
   "cell_type": "code",
   "execution_count": null,
   "id": "bd3c6325",
   "metadata": {},
   "outputs": [],
   "source": [
    "# we need to find the values where EITHER after is 0 or before is 0 and deal with them somehow\n",
    "zero_args = np.where((before==0) | (after==0))\n",
    "zero_args"
   ]
  },
  {
   "cell_type": "code",
   "execution_count": null,
   "id": "b58c4bd3",
   "metadata": {},
   "outputs": [],
   "source": [
    "# or we can find good locations (note the \"and\" rather than \"or\" here...)\n",
    "good_args = np.where((before!=0) & (after!=0))\n",
    "good_args"
   ]
  },
  {
   "cell_type": "code",
   "execution_count": null,
   "id": "d7e344b0",
   "metadata": {},
   "outputs": [],
   "source": [
    "np.prod(before.shape)"
   ]
  },
  {
   "cell_type": "code",
   "execution_count": null,
   "id": "17cbeca2",
   "metadata": {},
   "outputs": [],
   "source": [
    "len(zero_args[0])+len(good_args[0])"
   ]
  },
  {
   "cell_type": "code",
   "execution_count": null,
   "id": "1ad163a2",
   "metadata": {},
   "outputs": [],
   "source": [
    "# we could use the good_args mask to only compare the valid data and leave the nodata (and their differences) as 0\n",
    "np.sum((before[good_args]-after[good_args]) * 25 * 25)"
   ]
  },
  {
   "cell_type": "code",
   "execution_count": null,
   "id": "e61196ec",
   "metadata": {},
   "outputs": [],
   "source": [
    "# Or how about we set all the 0s in either array to 0, or to np.nan? What will happen when we subtract?"
   ]
  },
  {
   "cell_type": "code",
   "execution_count": null,
   "id": "5bc56140",
   "metadata": {},
   "outputs": [],
   "source": [
    "before[zero_args] = 0\n",
    "after[zero_args] = 0"
   ]
  },
  {
   "cell_type": "code",
   "execution_count": null,
   "id": "02965386",
   "metadata": {},
   "outputs": [],
   "source": [
    "np.sum((before-after) * 25 * 25)"
   ]
  },
  {
   "cell_type": "code",
   "execution_count": null,
   "id": "7a18bef7",
   "metadata": {},
   "outputs": [],
   "source": [
    "# this second option makes it easier to make a plot of the results\n",
    "fig, ax = plt.subplots(1,3)\n",
    "ax[0].imshow(before)\n",
    "ax[1].imshow(after)\n",
    "ax[2].imshow(before-after)\n",
    "plt.tight_layout()"
   ]
  },
  {
   "cell_type": "code",
   "execution_count": null,
   "id": "a8f207bb-994b-4427-97ed-2ceeea2bb8c6",
   "metadata": {},
   "outputs": [],
   "source": [
    "# or we can take advantage of the behavior of nan (not a number)\n",
    "before = np.loadtxt(before_file)\n",
    "after = np.loadtxt(after_file)\n",
    "# convert from meters to feet (!)\n",
    "before *= 3.28084\n",
    "after *= 3.28084"
   ]
  },
  {
   "cell_type": "code",
   "execution_count": null,
   "id": "7364a0af-50a1-4f08-92b1-d088a9209de7",
   "metadata": {},
   "outputs": [],
   "source": [
    "# first note that the result of doing any math with nan returns nan\n",
    "1-np.nan"
   ]
  },
  {
   "cell_type": "code",
   "execution_count": null,
   "id": "9bce30dc-71f0-407d-a2ca-d3895f695efc",
   "metadata": {},
   "outputs": [],
   "source": [
    "# so, we can just convert all the 0 values in both arrays to np.nan and subtract\n",
    "before[before==0] = np.nan\n",
    "after[after==0] = np.nan\n",
    "diff = before-after\n",
    "np.nansum(diff) * 25*25"
   ]
  },
  {
   "cell_type": "code",
   "execution_count": null,
   "id": "32375fc2-2f81-4bee-954a-ae73760881ac",
   "metadata": {},
   "outputs": [],
   "source": [
    "# this second option makes it easier to make a plot of the results\n",
    "fig, ax = plt.subplots(1,3)\n",
    "ax[0].imshow(before)\n",
    "ax[1].imshow(after)\n",
    "ax[2].imshow(before-after)\n",
    "plt.tight_layout()"
   ]
  },
  {
   "cell_type": "markdown",
   "id": "53df4e0c",
   "metadata": {},
   "source": [
    "## TEST YOUR SKILLS #2\n",
    "\n",
    "1. In an earlier exercise, you made x and y using the following lines of code.  Now use vstack to add another row to y that has the cosine of x.  Then plot them both on the same figure.\n",
    "- hint `plt.plot(x,y)` makes plots of arrays x and y"
   ]
  },
  {
   "cell_type": "code",
   "execution_count": null,
   "id": "a8b377cb",
   "metadata": {},
   "outputs": [],
   "source": [
    "x = np.linspace(0, 2*np.pi)    \n",
    "y = np.sin(x)"
   ]
  },
  {
   "cell_type": "code",
   "execution_count": null,
   "id": "7ab531d3",
   "metadata": {},
   "outputs": [],
   "source": [
    "y2 = np.cos(x)"
   ]
  },
  {
   "cell_type": "code",
   "execution_count": null,
   "id": "53c1b74c",
   "metadata": {},
   "outputs": [],
   "source": [
    "# using vstack\n",
    "yy2 = np.vstack((y,y2))\n",
    "yy2"
   ]
  },
  {
   "cell_type": "code",
   "execution_count": null,
   "id": "ba60a884",
   "metadata": {},
   "outputs": [],
   "source": [
    "plt.plot(x,yy2[0])\n",
    "plt.plot(x,yy2[1])"
   ]
  },
  {
   "cell_type": "code",
   "execution_count": null,
   "id": "1647d82a",
   "metadata": {},
   "outputs": [],
   "source": [
    "# using hstack\n",
    "yy2 = np.hstack((y,y2))\n",
    "yy2"
   ]
  },
  {
   "cell_type": "code",
   "execution_count": null,
   "id": "5f63d5b4",
   "metadata": {},
   "outputs": [],
   "source": [
    "plt.plot(x,yy2[0:len(x)])\n",
    "plt.plot(x,yy2[len(x):])"
   ]
  },
  {
   "cell_type": "code",
   "execution_count": null,
   "id": "007931d6",
   "metadata": {},
   "outputs": [],
   "source": []
  },
  {
   "cell_type": "code",
   "execution_count": null,
   "id": "44d10d6a-b42d-4a21-a0b8-2bf0d34da895",
   "metadata": {},
   "outputs": [],
   "source": []
  }
 ],
 "metadata": {
  "kernelspec": {
   "display_name": "Python 3 (ipykernel)",
   "language": "python",
   "name": "python3"
  },
  "language_info": {
   "codemirror_mode": {
    "name": "ipython",
    "version": 3
   },
   "file_extension": ".py",
   "mimetype": "text/x-python",
   "name": "python",
   "nbconvert_exporter": "python",
   "pygments_lexer": "ipython3",
   "version": "3.12.11"
  }
 },
 "nbformat": 4,
 "nbformat_minor": 5
}
