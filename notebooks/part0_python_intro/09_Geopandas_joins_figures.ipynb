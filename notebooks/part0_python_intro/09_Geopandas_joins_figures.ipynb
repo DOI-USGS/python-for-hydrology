{
 "cells": [
  {
   "cell_type": "code",
   "execution_count": null,
   "id": "adapted-heath",
   "metadata": {},
   "outputs": [],
   "source": [
    "import os\n",
    "import numpy as np\n",
    "import pandas as pd\n",
    "import geopandas as gp\n",
    "from shapely.geometry import Point, Polygon"
   ]
  },
  {
   "cell_type": "markdown",
   "id": "0010de6e",
   "metadata": {},
   "source": [
    "# GeoPandas - dataframes with geometry for GIS applications"
   ]
  },
  {
   "cell_type": "markdown",
   "id": "25758dd5",
   "metadata": {},
   "source": [
    "### get some data - `read_file` is the ticket for GeoJSON, shapefiles, GDB, etc."
   ]
  },
  {
   "cell_type": "code",
   "execution_count": null,
   "id": "6071b801",
   "metadata": {},
   "outputs": [],
   "source": [
    "parks = gp.read_file('data/Madison_Parks.geojson')"
   ]
  },
  {
   "cell_type": "markdown",
   "id": "c2022bd9",
   "metadata": {},
   "source": [
    "### this now looks like a Pandas DataFrame but there's a special column `geometry`"
   ]
  },
  {
   "cell_type": "code",
   "execution_count": null,
   "id": "d8605f3b",
   "metadata": {},
   "outputs": [],
   "source": [
    "parks.head()"
   ]
  },
  {
   "cell_type": "markdown",
   "id": "77b67685",
   "metadata": {},
   "source": [
    "### also some important metadata particularly the [CRS](https://en.wikipedia.org/wiki/Spatial_reference_system)"
   ]
  },
  {
   "cell_type": "code",
   "execution_count": null,
   "id": "8bf15b54",
   "metadata": {},
   "outputs": [],
   "source": [
    "parks.crs"
   ]
  },
  {
   "cell_type": "markdown",
   "id": "2a4d7e19",
   "metadata": {},
   "source": [
    "> ## pro tip: You can have multiple geometry columns but only one is _active_ -- this is important later as we do operations on GeoDataFrames. The column labeled `geometry` is typically the active one but you [you can change it](https://geopandas.org/en/stable/docs/reference/api/geopandas.GeoDataFrame.set_geometry.html)."
   ]
  },
  {
   "cell_type": "markdown",
   "id": "9d329631",
   "metadata": {},
   "source": [
    "## So what's up with these geometries? They are represented as [`shapely`](https://shapely.readthedocs.io/en/stable/manual.html) objects so can be:\n",
    "- ### polygon / multi-polygon\n",
    "- ### point / multi-point\n",
    "- ### line / multi-line"
   ]
  },
  {
   "cell_type": "markdown",
   "id": "a8b12c66",
   "metadata": {},
   "source": [
    "## we can access with pandas `loc` and `iloc` references"
   ]
  },
  {
   "cell_type": "code",
   "execution_count": null,
   "id": "f9a8279f",
   "metadata": {},
   "outputs": [],
   "source": [
    "parks.iloc[1].geometry.type"
   ]
  },
  {
   "cell_type": "code",
   "execution_count": null,
   "id": "cbb36250",
   "metadata": {},
   "outputs": [],
   "source": [
    "parks.loc[parks.ShortName=='Olin'].geometry.type"
   ]
  },
  {
   "cell_type": "markdown",
   "id": "31d5ce38",
   "metadata": {},
   "source": [
    "### There are other cool shapely properties like `area`"
   ]
  },
  {
   "cell_type": "code",
   "execution_count": null,
   "id": "dd06c108",
   "metadata": {},
   "outputs": [],
   "source": [
    "parks.loc[parks.ShortName=='Olin'].geometry.area"
   ]
  },
  {
   "cell_type": "markdown",
   "id": "2579e1b8",
   "metadata": {},
   "source": [
    "### ruh-roh - what's up with this CRS and tiny area number?"
   ]
  },
  {
   "cell_type": "code",
   "execution_count": null,
   "id": "5461bf40",
   "metadata": {},
   "outputs": [],
   "source": [
    "parks.crs"
   ]
  },
  {
   "cell_type": "markdown",
   "id": "0a9caf27",
   "metadata": {},
   "source": [
    "## area units in lat/long don't make sense. Let's project to something in meters (but how?)"
   ]
  },
  {
   "cell_type": "code",
   "execution_count": null,
   "id": "2d8c5a74",
   "metadata": {},
   "outputs": [],
   "source": [
    "parks.to_crs(3071, inplace=True)\n",
    "parks.crs"
   ]
  },
  {
   "cell_type": "code",
   "execution_count": null,
   "id": "cca38a2e",
   "metadata": {},
   "outputs": [],
   "source": [
    "parks.loc[parks.ShortName=='Olin'].geometry.area"
   ]
  },
  {
   "cell_type": "markdown",
   "id": "7a4b29fc",
   "metadata": {},
   "source": [
    "### there are loads of useful methods for `shapely` objects for relationships between geometries (intersection, distance, etc.) but we will skip these for now because GeoPandas facilitates these things for entire geodataframes! #sick"
   ]
  },
  {
   "cell_type": "markdown",
   "id": "93e92c56",
   "metadata": {},
   "source": [
    "## So back to GeoDataFrames.....we can look at them spatially as well with `plot()`"
   ]
  },
  {
   "cell_type": "code",
   "execution_count": null,
   "id": "edba04e1",
   "metadata": {},
   "outputs": [],
   "source": [
    "parks.plot()"
   ]
  },
  {
   "cell_type": "markdown",
   "id": "a152a006",
   "metadata": {},
   "source": [
    "## easily make a chloropleth map using a selected column as the color (and add a legend)"
   ]
  },
  {
   "cell_type": "code",
   "execution_count": null,
   "id": "2413e932",
   "metadata": {},
   "outputs": [],
   "source": [
    "parks.columns"
   ]
  },
  {
   "cell_type": "code",
   "execution_count": null,
   "id": "6f3d6c94",
   "metadata": {},
   "outputs": [],
   "source": [
    "parks.sample(4)"
   ]
  },
  {
   "cell_type": "code",
   "execution_count": null,
   "id": "fd8940a1",
   "metadata": {},
   "outputs": [],
   "source": [
    "parks.plot(column=\"Acreage\", cmap = 'magma', k=5, legend=True, legend_kwds={'shrink': 0.6})"
   ]
  },
  {
   "cell_type": "markdown",
   "id": "f87e653b",
   "metadata": {},
   "source": [
    "## also a very cool interactive plot options with a basemap"
   ]
  },
  {
   "cell_type": "code",
   "execution_count": null,
   "id": "current-dictionary",
   "metadata": {},
   "outputs": [],
   "source": [
    "parks.explore(column='Acreage', cmap='magma')"
   ]
  },
  {
   "cell_type": "markdown",
   "id": "7cc25673",
   "metadata": {},
   "source": [
    "## we can read in another shapefile"
   ]
  },
  {
   "cell_type": "code",
   "execution_count": null,
   "id": "c17a8db0",
   "metadata": {},
   "outputs": [],
   "source": [
    "hoods = gp.read_file('data/Neighborhood_Associations.geojson')"
   ]
  },
  {
   "cell_type": "code",
   "execution_count": null,
   "id": "e9498615",
   "metadata": {},
   "outputs": [],
   "source": [
    "hoods.sample(5)"
   ]
  },
  {
   "cell_type": "markdown",
   "id": "2b86bba1",
   "metadata": {},
   "source": [
    "### and we can plot these on top of each other"
   ]
  },
  {
   "cell_type": "code",
   "execution_count": null,
   "id": "4fd99b53",
   "metadata": {},
   "outputs": [],
   "source": [
    "ax_hood = hoods.plot()\n",
    "# now plot the other one but specify which axis to plot on (ax=ax_hood)\n",
    "parks.plot(column=\"Acreage\", cmap = 'magma', k=5, legend=True, legend_kwds={'shrink': 0.6}, ax=ax_hood)"
   ]
  },
  {
   "cell_type": "markdown",
   "id": "64ca1dbe",
   "metadata": {},
   "source": [
    "## WAT! Why so far apart?"
   ]
  },
  {
   "cell_type": "code",
   "execution_count": null,
   "id": "feaaeaf6",
   "metadata": {},
   "outputs": [],
   "source": [
    "hoods.crs"
   ]
  },
  {
   "cell_type": "markdown",
   "id": "d38d28d3",
   "metadata": {},
   "source": [
    "## we need to reproject. Geopandas uses `to_crs()` for this purpose"
   ]
  },
  {
   "cell_type": "code",
   "execution_count": null,
   "id": "7b94a650",
   "metadata": {},
   "outputs": [],
   "source": [
    "# we can reproject, and set hoods to park crs \n",
    "hoods.to_crs(parks.crs, inplace=True)"
   ]
  },
  {
   "cell_type": "code",
   "execution_count": null,
   "id": "c512a436",
   "metadata": {},
   "outputs": [],
   "source": [
    "ax_hood = hoods.plot()\n",
    "# now plot the other one but specify which axis to plot on (ax=ax_hood)\n",
    "parks.plot(column=\"Acreage\", cmap = 'magma', k=5, legend=True, legend_kwds={'shrink': 0.6}, ax=ax_hood)"
   ]
  },
  {
   "cell_type": "markdown",
   "id": "77528630",
   "metadata": {},
   "source": [
    "## or similarly with the interactive maps"
   ]
  },
  {
   "cell_type": "code",
   "execution_count": null,
   "id": "9587774d",
   "metadata": {},
   "outputs": [],
   "source": [
    "m_hood = hoods.explore()\n",
    "parks.explore(column=\"Acreage\", cmap = 'magma', k=5, legend=True, legend_kwds={'shrink': 0.6}, m=m_hood)"
   ]
  },
  {
   "cell_type": "markdown",
   "id": "c368f951",
   "metadata": {},
   "source": [
    "## we can make a new geodataframe using shapely properties of the geometry - how about centroids?"
   ]
  },
  {
   "cell_type": "markdown",
   "id": "c216fe7e",
   "metadata": {},
   "source": [
    "## TEST YOUR SKILLS #0\n",
    "- make a new geodataframe of the parks\n",
    "- add a columns with centroids for each park\n",
    "- plot an interactive window with the park centroids and the neighborhoods\n",
    "- hints: \n",
    "    - remember the shapely methods are available for each geometry object (e.g. `centroid()`) \n",
    "    - you can loop over the column in a couple different ways\n",
    "    - you can define which columns contains the geometry of a geodataframe\n",
    "    - you will likely have to define the CRS"
   ]
  },
  {
   "cell_type": "code",
   "execution_count": null,
   "id": "52d5d06f",
   "metadata": {},
   "outputs": [],
   "source": []
  },
  {
   "cell_type": "code",
   "execution_count": null,
   "id": "e33196e3",
   "metadata": {},
   "outputs": [],
   "source": []
  },
  {
   "cell_type": "code",
   "execution_count": null,
   "id": "5a23afe4",
   "metadata": {},
   "outputs": [],
   "source": []
  },
  {
   "cell_type": "code",
   "execution_count": null,
   "id": "40f1e68c",
   "metadata": {},
   "outputs": [],
   "source": []
  },
  {
   "cell_type": "markdown",
   "id": "fd2e835e",
   "metadata": {},
   "source": [
    "# Operations on and among geodataframes...do I need to use a GIS program?"
   ]
  },
  {
   "cell_type": "markdown",
   "id": "59e832e6",
   "metadata": {},
   "source": [
    "## Dissolve"
   ]
  },
  {
   "cell_type": "code",
   "execution_count": null,
   "id": "aa0e784b",
   "metadata": {},
   "outputs": [],
   "source": [
    "hoods.dissolve() # note it defaults to filling all the columns with the first value"
   ]
  },
  {
   "cell_type": "code",
   "execution_count": null,
   "id": "94a355b3",
   "metadata": {},
   "outputs": [],
   "source": [
    "ax=hoods.dissolve().plot()\n",
    "hoods.plot(facecolor=None, edgecolor='orange', ax=ax)"
   ]
  },
  {
   "cell_type": "markdown",
   "id": "247414fd",
   "metadata": {},
   "source": [
    "## Convex Hull"
   ]
  },
  {
   "cell_type": "code",
   "execution_count": null,
   "id": "9c002c59",
   "metadata": {},
   "outputs": [],
   "source": [
    "ax = hoods.dissolve().convex_hull.plot()\n",
    "hoods.plot(facecolor=None, edgecolor='orange', ax=ax)"
   ]
  },
  {
   "cell_type": "markdown",
   "id": "17eb1ed8",
   "metadata": {},
   "source": [
    "## Bounding Box"
   ]
  },
  {
   "cell_type": "code",
   "execution_count": null,
   "id": "d508584d",
   "metadata": {},
   "outputs": [],
   "source": [
    "hoods.bounds # that's per each row"
   ]
  },
  {
   "cell_type": "code",
   "execution_count": null,
   "id": "8f54fb63",
   "metadata": {},
   "outputs": [],
   "source": [
    "tb = hoods.total_bounds # this gives overall bounds\n",
    "tb"
   ]
  },
  {
   "cell_type": "markdown",
   "id": "b054106c",
   "metadata": {},
   "source": [
    "## We can make a polygon from these coordinates with `shapely`"
   ]
  },
  {
   "cell_type": "code",
   "execution_count": null,
   "id": "cc55c6e1",
   "metadata": {},
   "outputs": [],
   "source": [
    "from shapely.geometry import box"
   ]
  },
  {
   "cell_type": "code",
   "execution_count": null,
   "id": "29bc4bdf",
   "metadata": {},
   "outputs": [],
   "source": [
    "bbox = box(tb[0], tb[1], tb[2], tb[3])\n",
    "# pro tip - when passing a bunch of ordered arguments, '*' will unpack them #nice\n",
    "bbox = box(*hoods.total_bounds)"
   ]
  },
  {
   "cell_type": "markdown",
   "id": "4febb485",
   "metadata": {},
   "source": [
    "## to make a GeoDataFrame from scratch, the minimum you need is geometry, but a crs is important, and some data will populate more columns"
   ]
  },
  {
   "cell_type": "code",
   "execution_count": null,
   "id": "a63370e5",
   "metadata": {},
   "outputs": [],
   "source": [
    "\n",
    "hoods_boundary = gp.GeoDataFrame(data={'thing':['bounding_box']},geometry=[bbox], crs=hoods.crs)\n",
    "hoods_boundary"
   ]
  },
  {
   "cell_type": "code",
   "execution_count": null,
   "id": "42dc47ad",
   "metadata": {},
   "outputs": [],
   "source": [
    "ax = hoods_boundary.plot()\n",
    "hoods.plot(facecolor=None, edgecolor='orange', ax=ax)"
   ]
  },
  {
   "cell_type": "markdown",
   "id": "50525a00",
   "metadata": {},
   "source": [
    "# How about some spatial joins?"
   ]
  },
  {
   "cell_type": "markdown",
   "id": "e9c23ba8",
   "metadata": {},
   "source": [
    "## we can bring in information based on locational overlap. Let's look at just a couple neighborhoods (Marquette and Tenny-Lapham) on the Isthmus"
   ]
  },
  {
   "cell_type": "code",
   "execution_count": null,
   "id": "5ac05ee6",
   "metadata": {},
   "outputs": [],
   "source": [
    "isthmus = hoods.loc[hoods['NEIGHB_NAME'].str.contains('Marquette') | \n",
    "                   hoods['NEIGHB_NAME'].str.contains('Tenney')]\n",
    "isthmus"
   ]
  },
  {
   "cell_type": "code",
   "execution_count": null,
   "id": "f877531f",
   "metadata": {},
   "outputs": [],
   "source": [
    "isthmus.explore()"
   ]
  },
  {
   "cell_type": "code",
   "execution_count": null,
   "id": "af9796ca",
   "metadata": {},
   "outputs": [],
   "source": [
    "isthmus.sjoin(parks).explore()"
   ]
  },
  {
   "cell_type": "code",
   "execution_count": null,
   "id": "dc4e058b",
   "metadata": {},
   "outputs": [],
   "source": [
    "parks.sjoin(isthmus).explore()"
   ]
  },
  {
   "cell_type": "markdown",
   "id": "752856a0",
   "metadata": {},
   "source": [
    "### so, it matters which direction you join from. The geometry is preserved from the dataframe \"on the left\"\n",
    "### equivalently, you can be more explicit in calling `sjoin`"
   ]
  },
  {
   "cell_type": "code",
   "execution_count": null,
   "id": "fdfa2fdb",
   "metadata": {},
   "outputs": [],
   "source": [
    "gp.sjoin(left_df=parks, right_df=isthmus).explore()"
   ]
  },
  {
   "cell_type": "code",
   "execution_count": null,
   "id": "6ae41813",
   "metadata": {},
   "outputs": [],
   "source": [
    "isthmus_parks = gp.sjoin(left_df=parks, right_df=isthmus)"
   ]
  },
  {
   "cell_type": "markdown",
   "id": "93be2a56",
   "metadata": {},
   "source": [
    "## we are going to use this `isthmus_parks` geoDataFrame a little later, but we want to trim out some unneeded and distracting columns. We can use `.drop()` just like with a regular Pandas DataFrame"
   ]
  },
  {
   "cell_type": "code",
   "execution_count": null,
   "id": "dfa29044",
   "metadata": {},
   "outputs": [],
   "source": [
    "isthmus_parks.columns"
   ]
  },
  {
   "cell_type": "code",
   "execution_count": null,
   "id": "dd9e6454",
   "metadata": {},
   "outputs": [],
   "source": [
    "isthmus_parks.drop(columns=[ 'index_right','OBJECTID_right', 'NA_ID', 'STATUS', 'CLASSIFICA', 'Web',\n",
    "       'ShapeSTArea', 'ShapeSTLength'], inplace=True)"
   ]
  },
  {
   "cell_type": "markdown",
   "id": "33baed2f",
   "metadata": {},
   "source": [
    "# Let's explore the various predicates with a small intersecting box"
   ]
  },
  {
   "cell_type": "code",
   "execution_count": null,
   "id": "348e3ef6",
   "metadata": {},
   "outputs": [],
   "source": [
    "bbox = box(570600, 290000, 573100, 291700)\n",
    "bounds = gp.GeoDataFrame(geometry=[bbox],crs=parks.crs)\n",
    "bounds.plot()"
   ]
  },
  {
   "cell_type": "markdown",
   "id": "f18a9bc7",
   "metadata": {},
   "source": [
    "## See [documentation](https://shapely.readthedocs.io/en/latest/manual.html#binary-predicates) for full set of options for predicates. We'll just check out a couple options: `intersects`, `contains`, `within`"
   ]
  },
  {
   "cell_type": "markdown",
   "id": "a6717770",
   "metadata": {},
   "source": [
    "# TEST YOUR SKILLS #1\n",
    "Using the `bounds` geodataframe you just made, write a function to visualize predicate behaviors.\n",
    "- your function should accept a left geodataframe, a right geodataframe, and a string for the predicate\n",
    "- your function should plot:\n",
    "    - the left geodataframe in (default) blue\n",
    "    - the result of the spatial join operation in another color\n",
    "    - the right geodataframe in another color with outline only\n",
    "- then you should set the title of the plot to the string predicate value used\n",
    "- the geodataframes to test with are `isthmus_parks` and `bounds`\n",
    "- your function should `return` the joined geodataframe\n",
    "\n",
    "- a couple hints:\n",
    "    - in the `plot` method are a couple args called `facecolor` and `edgecolor` that will help plot the rectangle\n",
    "    - there are other predicates to try out \n",
    "\n",
    "- _advanced options_: if that was easy, you can try a couple other things like:\n",
    "    - explore joins with points and lines in addition to just polygons\n",
    "    - change around the `bounds` polygon dimensions \n",
    "    - use `explore()` to make an interactive map"
   ]
  },
  {
   "cell_type": "code",
   "execution_count": null,
   "id": "16c16bbd",
   "metadata": {},
   "outputs": [],
   "source": []
  },
  {
   "cell_type": "code",
   "execution_count": null,
   "id": "6282cc1c",
   "metadata": {},
   "outputs": [],
   "source": []
  },
  {
   "cell_type": "code",
   "execution_count": null,
   "id": "b52c70df",
   "metadata": {},
   "outputs": [],
   "source": []
  },
  {
   "cell_type": "code",
   "execution_count": null,
   "id": "134ce652",
   "metadata": {},
   "outputs": [],
   "source": []
  },
  {
   "cell_type": "code",
   "execution_count": null,
   "id": "f517eee6",
   "metadata": {},
   "outputs": [],
   "source": []
  },
  {
   "cell_type": "markdown",
   "id": "e03e0bb2",
   "metadata": {},
   "source": [
    "# Spatial joins are particularly useful with collections of points. A common case is to add a polygon attribute to points falling within each polygon. Let's check out a bigger point dataset with all the trees on streets in Madison"
   ]
  },
  {
   "cell_type": "code",
   "execution_count": null,
   "id": "8448b733",
   "metadata": {},
   "outputs": [],
   "source": [
    "trees = gp.read_file('data/Street_Trees.geojson', index_col=0)\n",
    "trees.plot(column='SPECIES')"
   ]
  },
  {
   "cell_type": "markdown",
   "id": "176b8187",
   "metadata": {},
   "source": [
    "## let's put this into the same crs as neighborhoods and join the data together so we can have a neighborhood attribute on the trees geodataframe"
   ]
  },
  {
   "cell_type": "code",
   "execution_count": null,
   "id": "a5e01688",
   "metadata": {},
   "outputs": [],
   "source": [
    "trees.to_crs(hoods.crs, inplace=True)"
   ]
  },
  {
   "cell_type": "code",
   "execution_count": null,
   "id": "383785fa",
   "metadata": {},
   "outputs": [],
   "source": [
    "hoods.columns"
   ]
  },
  {
   "cell_type": "markdown",
   "id": "e6dc5f63",
   "metadata": {},
   "source": [
    "## NOTE: if we pass only some columns of the GeoDataFrame, only those columns will be included in the result, which is cool. _But_ - must include the active geometry column as well!"
   ]
  },
  {
   "cell_type": "code",
   "execution_count": null,
   "id": "209c0dd4",
   "metadata": {},
   "outputs": [],
   "source": [
    "trees_with_hoods = trees[['SPECIES','DIAMETER','geometry']].sjoin(hoods[['NEIGHB_NAME','geometry']])\n",
    "trees_with_hoods"
   ]
  },
  {
   "cell_type": "markdown",
   "id": "64922d2e",
   "metadata": {},
   "source": [
    "# now we can do a groupby, for example, to find things like the average or max diameter of trees in each neighborhood"
   ]
  },
  {
   "cell_type": "code",
   "execution_count": null,
   "id": "c3dd01c2",
   "metadata": {},
   "outputs": [],
   "source": [
    "trees_with_hoods.groupby('NEIGHB_NAME')['DIAMETER'].max().plot(kind='bar')"
   ]
  },
  {
   "cell_type": "markdown",
   "id": "33b25331",
   "metadata": {},
   "source": [
    "# we can flip this back to the original neighborhoods GeoDataFrame to make a more useful spatial plot"
   ]
  },
  {
   "cell_type": "code",
   "execution_count": null,
   "id": "ee24905b",
   "metadata": {},
   "outputs": [],
   "source": [
    "hood_trees = hoods.copy()\n",
    "tree_summary = trees_with_hoods.groupby('NEIGHB_NAME')['DIAMETER'].max()\n",
    "hood_trees.merge(tree_summary,\n",
    "                left_on = 'NEIGHB_NAME', right_on='NEIGHB_NAME').explore(column=\"DIAMETER\")"
   ]
  },
  {
   "cell_type": "markdown",
   "id": "e63a1ab3",
   "metadata": {},
   "source": [
    "## As we've seen, spatial joins are powerful, but they really only gather data from multiple collections. What if we want to actually calculate the amount of overlap among shapes? Or create new shapes based on instersection or not intersection of shapes? [`overlay`](https://geopandas.org/en/stable/docs/user_guide/set_operations.html?highlight=overlay) does these things."
   ]
  },
  {
   "cell_type": "code",
   "execution_count": null,
   "id": "40e2f534",
   "metadata": {},
   "outputs": [],
   "source": []
  },
  {
   "cell_type": "code",
   "execution_count": null,
   "id": "a6a83677",
   "metadata": {},
   "outputs": [],
   "source": [
    "len(parks_cent), len(hoods)"
   ]
  },
  {
   "cell_type": "code",
   "execution_count": null,
   "id": "ae4720e4",
   "metadata": {},
   "outputs": [],
   "source": [
    "hoods"
   ]
  },
  {
   "cell_type": "code",
   "execution_count": null,
   "id": "5928a13a",
   "metadata": {},
   "outputs": [],
   "source": []
  },
  {
   "cell_type": "code",
   "execution_count": null,
   "id": "3e9a3efe",
   "metadata": {},
   "outputs": [],
   "source": []
  },
  {
   "cell_type": "code",
   "execution_count": null,
   "id": "b101263d",
   "metadata": {},
   "outputs": [],
   "source": []
  },
  {
   "cell_type": "code",
   "execution_count": null,
   "id": "7188ab91",
   "metadata": {},
   "outputs": [],
   "source": []
  },
  {
   "cell_type": "code",
   "execution_count": null,
   "id": "4b4455ff",
   "metadata": {},
   "outputs": [],
   "source": []
  },
  {
   "cell_type": "code",
   "execution_count": null,
   "id": "d8d15ca2",
   "metadata": {},
   "outputs": [],
   "source": [
    "trees = gp.read_file('data/Street_Trees.geojson', index_col=0)\n",
    "trees"
   ]
  },
  {
   "cell_type": "code",
   "execution_count": null,
   "id": "3cab1ea3",
   "metadata": {},
   "outputs": [],
   "source": [
    "trees.plot(markersize=.2, column='SPECIES')"
   ]
  },
  {
   "cell_type": "code",
   "execution_count": null,
   "id": "eb312f71",
   "metadata": {},
   "outputs": [],
   "source": []
  },
  {
   "cell_type": "code",
   "execution_count": null,
   "id": "77abb8ae",
   "metadata": {},
   "outputs": [],
   "source": []
  },
  {
   "cell_type": "code",
   "execution_count": null,
   "id": "8ef3a1a4",
   "metadata": {},
   "outputs": [],
   "source": []
  },
  {
   "cell_type": "code",
   "execution_count": null,
   "id": "feae2c36",
   "metadata": {},
   "outputs": [],
   "source": []
  },
  {
   "cell_type": "code",
   "execution_count": null,
   "id": "83be74af",
   "metadata": {},
   "outputs": [],
   "source": []
  },
  {
   "cell_type": "markdown",
   "id": "molecular-magic",
   "metadata": {},
   "source": [
    "# a little aside on spatial joins"
   ]
  },
  {
   "cell_type": "code",
   "execution_count": null,
   "id": "olympic-wheat",
   "metadata": {},
   "outputs": [],
   "source": [
    "# let's zoom in on a small area to look at\n",
    "croprot.plot()\n",
    "plt.xlim([550000,555000])\n",
    "plt.ylim([400000, 405000])\n"
   ]
  },
  {
   "cell_type": "code",
   "execution_count": null,
   "id": "continuing-bermuda",
   "metadata": {},
   "outputs": [],
   "source": [
    "# we can cook up a polygon and yank out only the polygons within it\n"
   ]
  },
  {
   "cell_type": "code",
   "execution_count": null,
   "id": "spread-saskatchewan",
   "metadata": {},
   "outputs": [],
   "source": [
    "subset = Polygon([(550000,400000),\n",
    "                  (550000,405000), \n",
    "                  (555000,405000),\n",
    "                  (555000,400000),\n",
    "                 (550000,400000)])\n",
    "subgdf = gp.GeoDataFrame({'outline':['p0'],\n",
    "                         'geometry':[subset]},\n",
    "                        crs=croprot.crs)"
   ]
  },
  {
   "cell_type": "code",
   "execution_count": null,
   "id": "racial-strand",
   "metadata": {},
   "outputs": [],
   "source": [
    "subgdf.plot()"
   ]
  },
  {
   "cell_type": "code",
   "execution_count": null,
   "id": "settled-archive",
   "metadata": {},
   "outputs": [],
   "source": [
    "croprot_sub = gp.overlay(croprot, subgdf)"
   ]
  },
  {
   "cell_type": "code",
   "execution_count": null,
   "id": "republican-mechanics",
   "metadata": {},
   "outputs": [],
   "source": [
    "# we need to cook up a dataframe real quick once\n",
    "pt_df = gp.GeoDataFrame({'ptname':['pt0','pt1'],\n",
    "                        'geometry':[Point(554000,403000),\n",
    "                                   Point(552000,403000)]},\n",
    "                       crs=croprot.crs)"
   ]
  },
  {
   "cell_type": "code",
   "execution_count": null,
   "id": "structural-pledge",
   "metadata": {},
   "outputs": [],
   "source": [
    "pt_df"
   ]
  },
  {
   "cell_type": "code",
   "execution_count": null,
   "id": "laughing-ozone",
   "metadata": {},
   "outputs": [],
   "source": [
    "# we can pick a point at which we want attributes\n",
    "ax = croprot_sub.plot()\n",
    "\n",
    "pt_df.plot(marker='*', facecolor='orange', markersize=50, ax=ax)\n",
    "\n",
    "# sadly, labeling points is BRUTAL\n",
    "for x,y,label in zip(pt_df.geometry.x, pt_df.geometry.y, pt_df.ptname):\n",
    "    ax.annotate(label, xy=(x,y), xytext=(3,3), size=14, textcoords = \"offset points\")\n"
   ]
  },
  {
   "cell_type": "code",
   "execution_count": null,
   "id": "documented-identity",
   "metadata": {},
   "outputs": [],
   "source": [
    "gp.sjoin(croprot_sub, pt_df, predicate='intersects')"
   ]
  },
  {
   "cell_type": "code",
   "execution_count": null,
   "id": "permanent-insulation",
   "metadata": {},
   "outputs": [],
   "source": [
    "# Let's add a polygon\n",
    "poly_df = gp.GeoDataFrame({'polname':['p0'],\n",
    "                        'geometry':[Polygon([(554000,403000),\n",
    "                                            (552000,403000),\n",
    "                                            (553000,402000),\n",
    "                                            (554000,402000),\n",
    "                                            (554000,403000)])]},\n",
    "                       crs=croprot.crs)\n"
   ]
  },
  {
   "cell_type": "code",
   "execution_count": null,
   "id": "boxed-chancellor",
   "metadata": {},
   "outputs": [],
   "source": [
    "ax = croprot_sub.plot()\n",
    "\n",
    "poly_df.plot(ax=ax, facecolor='none', edgecolor='orange')"
   ]
  },
  {
   "cell_type": "code",
   "execution_count": null,
   "id": "finite-roommate",
   "metadata": {},
   "outputs": [],
   "source": [
    "# there are a few ways to spatially join. Let's check them out"
   ]
  },
  {
   "cell_type": "code",
   "execution_count": null,
   "id": "solar-constitutional",
   "metadata": {},
   "outputs": [],
   "source": [
    "ax = croprot_sub.plot()\n",
    "gp.sjoin(croprot_sub, poly_df, predicate='intersects').plot(ax=ax, facecolor='k')\n",
    "poly_df.plot(ax=ax, facecolor='none', edgecolor='orange')\n",
    "plt.title('instersects')"
   ]
  },
  {
   "cell_type": "code",
   "execution_count": null,
   "id": "collaborative-coffee",
   "metadata": {},
   "outputs": [],
   "source": [
    "ax = croprot_sub.plot()\n",
    "gp.sjoin(croprot_sub, poly_df, predicate='contains').plot(ax=ax, facecolor='k')\n",
    "poly_df.plot(ax=ax, facecolor='none', edgecolor='orange')\n",
    "plt.title('contains')"
   ]
  },
  {
   "cell_type": "code",
   "execution_count": null,
   "id": "light-keyboard",
   "metadata": {},
   "outputs": [],
   "source": [
    "ax = croprot_sub.plot()\n",
    "gp.sjoin(croprot_sub, poly_df, predicate='within').plot(ax=ax, facecolor='k')\n",
    "poly_df.plot(ax=ax, facecolor='none', edgecolor='orange')\n",
    "plt.title('within')"
   ]
  },
  {
   "cell_type": "code",
   "execution_count": null,
   "id": "given-revelation",
   "metadata": {},
   "outputs": [],
   "source": [
    "ax = croprot_sub.plot()\n",
    "gp.sjoin(poly_df, croprot_sub, predicate='contains').plot(ax=ax, facecolor='k')\n",
    "poly_df.plot(ax=ax, facecolor='none', edgecolor='orange')\n",
    "plt.title('contains from the opposite direction')"
   ]
  },
  {
   "cell_type": "markdown",
   "id": "chronic-overview",
   "metadata": {},
   "source": [
    "# now back to the main goal"
   ]
  },
  {
   "cell_type": "code",
   "execution_count": null,
   "id": "accessible-gabriel",
   "metadata": {},
   "outputs": [],
   "source": [
    "croprot.plot(column='rotation', legend=True, figsize=(10,10))\n"
   ]
  },
  {
   "cell_type": "code",
   "execution_count": null,
   "id": "compatible-drive",
   "metadata": {},
   "outputs": [],
   "source": [
    "# we will need bounding boxes for the inset models\n",
    "pfl_bbox = gp.read_file('../plainfield-lakes-lgr/pst_setup/postproc/shps/pfl_lgr_parent_bbox.shp')\n",
    "plsnt_bbox = gp.read_file('../pleasant-lake-lgr/pst_setup/postproc/shps/plsnt_lgr_parent_bbox.shp')\n"
   ]
  },
  {
   "cell_type": "code",
   "execution_count": null,
   "id": "intellectual-stock",
   "metadata": {},
   "outputs": [],
   "source": [
    "# we will need to trim this to the model boundary\n",
    "regional_bbox = gp.read_file('../gis/centralsands/model_domain_poly.shp').to_crs(pfl_bbox.crs)\n",
    "regional_bbox.crs"
   ]
  },
  {
   "cell_type": "code",
   "execution_count": null,
   "id": "grand-kuwait",
   "metadata": {},
   "outputs": [],
   "source": [
    "# let's intersect the main coverage with just the two insets"
   ]
  },
  {
   "cell_type": "code",
   "execution_count": null,
   "id": "persistent-treasure",
   "metadata": {},
   "outputs": [],
   "source": [
    "gp.overlay(croprot,pfl_bbox, how='intersection')"
   ]
  },
  {
   "cell_type": "code",
   "execution_count": null,
   "id": "focal-anthropology",
   "metadata": {},
   "outputs": [],
   "source": [
    "# 'doh! let's reproject"
   ]
  },
  {
   "cell_type": "code",
   "execution_count": null,
   "id": "induced-traffic",
   "metadata": {},
   "outputs": [],
   "source": [
    "croprot = croprot.to_crs(pfl_bbox.crs)"
   ]
  },
  {
   "cell_type": "code",
   "execution_count": null,
   "id": "indian-electricity",
   "metadata": {},
   "outputs": [],
   "source": [
    "# WTH? NoneType???\n",
    "croprot"
   ]
  },
  {
   "cell_type": "code",
   "execution_count": null,
   "id": "announced-condition",
   "metadata": {},
   "outputs": [],
   "source": [
    "croprot = croprot.dropna()\n",
    "croprot"
   ]
  },
  {
   "cell_type": "code",
   "execution_count": null,
   "id": "configured-malpractice",
   "metadata": {},
   "outputs": [],
   "source": [
    "# try again\n",
    "croprot = croprot.to_crs(pfl_bbox.crs)"
   ]
  },
  {
   "cell_type": "code",
   "execution_count": null,
   "id": "polish-garden",
   "metadata": {},
   "outputs": [],
   "source": [
    "croprot.crs"
   ]
  },
  {
   "cell_type": "code",
   "execution_count": null,
   "id": "fifteen-funds",
   "metadata": {},
   "outputs": [],
   "source": [
    "pfl_LU = gp.overlay(croprot,pfl_bbox, how='intersection')"
   ]
  },
  {
   "cell_type": "code",
   "execution_count": null,
   "id": "superb-rally",
   "metadata": {},
   "outputs": [],
   "source": [
    "#sweet! no warning about crs"
   ]
  },
  {
   "cell_type": "code",
   "execution_count": null,
   "id": "prepared-russell",
   "metadata": {},
   "outputs": [],
   "source": [
    "croprot = gp.overlay(croprot, regional_bbox, how='intersection')"
   ]
  },
  {
   "cell_type": "code",
   "execution_count": null,
   "id": "stopped-fruit",
   "metadata": {},
   "outputs": [],
   "source": [
    "ax = croprot.plot(column='rotation', legend=True, figsize=(10,10))\n",
    "pfl_bbox.plot(ax=ax, facecolor=\"none\", edgecolor='black')\n",
    "plsnt_bbox.plot(ax=ax, facecolor=\"none\", edgecolor='black')\n",
    "regional_bbox.plot(ax=ax, facecolor=\"none\", edgecolor='black')"
   ]
  },
  {
   "cell_type": "code",
   "execution_count": null,
   "id": "available-visiting",
   "metadata": {},
   "outputs": [],
   "source": [
    "ax = pfl_LU.plot(column='rotation', legend=True)\n",
    "pfl_bbox.plot(ax=ax, facecolor=\"none\", edgecolor='black')"
   ]
  },
  {
   "cell_type": "code",
   "execution_count": null,
   "id": "difficult-thermal",
   "metadata": {},
   "outputs": [],
   "source": [
    "# let's bring in the lakes to plot as well\n",
    "alllakes = gp.read_file('../gis/centralsands/all_lakes.shp')"
   ]
  },
  {
   "cell_type": "code",
   "execution_count": null,
   "id": "civilian-panama",
   "metadata": {},
   "outputs": [],
   "source": [
    "# make sure in the correct CRS\n",
    "assert alllakes.crs == pfl_bbox.crs"
   ]
  },
  {
   "cell_type": "code",
   "execution_count": null,
   "id": "literary-hurricane",
   "metadata": {},
   "outputs": [],
   "source": [
    "pfl_lakes = gp.overlay(alllakes, pfl_bbox, how='intersection')\n",
    "plsnt_lakes = gp.overlay(alllakes, plsnt_bbox, how='intersection')\n"
   ]
  },
  {
   "cell_type": "code",
   "execution_count": null,
   "id": "unable-superintendent",
   "metadata": {},
   "outputs": [],
   "source": [
    "ax = pfl_LU.plot(column='rotation', legend=True)\n",
    "pfl_bbox.plot(ax=ax, facecolor=\"none\", edgecolor='black')\n",
    "pfl_lakes.plot(ax=ax, facecolor=\"blue\")"
   ]
  },
  {
   "cell_type": "code",
   "execution_count": null,
   "id": "extra-masters",
   "metadata": {},
   "outputs": [],
   "source": [
    "plsnt_LU = gp.overlay(croprot,plsnt_bbox, how='intersection')"
   ]
  },
  {
   "cell_type": "code",
   "execution_count": null,
   "id": "neutral-respect",
   "metadata": {},
   "outputs": [],
   "source": [
    "ax = plsnt_LU.plot(column='rotation', legend=True)\n",
    "plsnt_bbox.plot(ax=ax, facecolor=\"none\", edgecolor='black')\n",
    "plsnt_lakes.plot(ax=ax, facecolor=\"blue\")"
   ]
  },
  {
   "cell_type": "code",
   "execution_count": null,
   "id": "veterinary-material",
   "metadata": {},
   "outputs": [],
   "source": [
    "# let's get nutty with the legend "
   ]
  },
  {
   "cell_type": "code",
   "execution_count": null,
   "id": "supported-english",
   "metadata": {},
   "outputs": [],
   "source": [
    "plsnt_LU.rotation.unique()"
   ]
  },
  {
   "cell_type": "code",
   "execution_count": null,
   "id": "starting-myanmar",
   "metadata": {},
   "outputs": [],
   "source": [
    "# grab some colors form the interwebs\n",
    "# https://htmlcolorcodes.com/color-names/\n",
    "rotcolors = {'non-ag':'Black',\n",
    "             'cash_grain':'DarkGreen',\n",
    "             'dairy': 'Orange',\n",
    "             'potato/veg': 'SlateGrey',\n",
    "             'pasture/hay': 'Gold'\n",
    "            }\n",
    "rotnames ={'non-ag':'Non Agriculture',\n",
    "             'cash_grain':'Cash Grain',\n",
    "             'dairy': 'Dairy',\n",
    "             'potato/veg': 'Potato/Vegetable',\n",
    "             'pasture/hay': 'Pasture/Hay'\n",
    "            }"
   ]
  },
  {
   "cell_type": "markdown",
   "id": "copyrighted-comment",
   "metadata": {},
   "source": [
    "##### read in the non-ag landuse "
   ]
  },
  {
   "cell_type": "code",
   "execution_count": null,
   "id": "operational-given",
   "metadata": {},
   "outputs": [],
   "source": [
    "nonag_lu = gp.read_file('shapefiles/no_irrigation_LU/irr_parcel_reclass_20210212/irr_parcel_reclass_20210212.shp')\n",
    "nonag_lu.crs"
   ]
  },
  {
   "cell_type": "code",
   "execution_count": null,
   "id": "smoking-sucking",
   "metadata": {},
   "outputs": [],
   "source": [
    "nonag_lu = nonag_lu.to_crs(pfl_bbox.crs)\n",
    "nonag_lu.crs"
   ]
  },
  {
   "cell_type": "code",
   "execution_count": null,
   "id": "robust-migration",
   "metadata": {},
   "outputs": [],
   "source": [
    "# read in the code lookup for nonag\n",
    "nonag_lookup = pd.read_csv('shapefiles/no_irrigation_LU/wiscland_xref.csv', index_col = 0)"
   ]
  },
  {
   "cell_type": "code",
   "execution_count": null,
   "id": "cardiovascular-sunglasses",
   "metadata": {},
   "outputs": [],
   "source": [
    "nonag_lookup.head()\n"
   ]
  },
  {
   "cell_type": "code",
   "execution_count": null,
   "id": "instrumental-component",
   "metadata": {},
   "outputs": [],
   "source": [
    "nonag_lookup.loc[2100]['label']"
   ]
  },
  {
   "cell_type": "code",
   "execution_count": null,
   "id": "comparable-phone",
   "metadata": {},
   "outputs": [],
   "source": [
    "# we can do normal pandas things\n",
    "nonag_lu.wl_lev2_cd = [nonag_lookup.loc[i,'label'] for i in nonag_lu.wl_lev2_cd]"
   ]
  },
  {
   "cell_type": "code",
   "execution_count": null,
   "id": "future-pepper",
   "metadata": {},
   "outputs": [],
   "source": [
    "nonag_lu.loc[nonag_lu.wl_lev2_cd == 'Crop Rotation', 'wl_lev2_cd'] = 'Nonirrigated Agriculture'"
   ]
  },
  {
   "cell_type": "code",
   "execution_count": null,
   "id": "determined-fountain",
   "metadata": {},
   "outputs": [],
   "source": []
  },
  {
   "cell_type": "code",
   "execution_count": null,
   "id": "industrial-christopher",
   "metadata": {},
   "outputs": [],
   "source": [
    "# and change \"Crop Rotation\" label to \"Nonirrigated Agriculture\"\n",
    "ax = nonag_lu.plot(column = 'wl_lev2_cd', legend=True, figsize=(10,10))\n",
    "regional_bbox.plot(ax=ax, edgecolor=\"k\", facecolor='none' )"
   ]
  },
  {
   "cell_type": "code",
   "execution_count": null,
   "id": "million-semiconductor",
   "metadata": {},
   "outputs": [],
   "source": [
    "from Figures import ReportFigures\n",
    "\n",
    "rf = ReportFigures()\n",
    "rf.set_style()\n",
    "default_aspect = 6 / 8.0 # h/w\n",
    "tall_aspect = 7 / 8.0\n",
    "singlecolumn_width = 21/6.0\n",
    "doublecolumn_width = 42/6.0\n",
    "\n",
    "singlecolumn_size = (singlecolumn_width, singlecolumn_width * default_aspect)\n",
    "singlecolumn_sizeT = (singlecolumn_width, singlecolumn_width * tall_aspect)\n",
    "doublecolumn_size = (doublecolumn_width, doublecolumn_width * default_aspect)\n",
    "doublecolumn_sizeT = (doublecolumn_width, doublecolumn_width * tall_aspect)"
   ]
  },
  {
   "cell_type": "markdown",
   "id": "intensive-venezuela",
   "metadata": {},
   "source": [
    "# now plot the regional model land use with and without irrigated ag"
   ]
  },
  {
   "cell_type": "code",
   "execution_count": null,
   "id": "considered-complex",
   "metadata": {},
   "outputs": [],
   "source": [
    "fig, ax = plt.subplots(figsize=doublecolumn_sizeT)\n",
    "for ct, dat in croprot.groupby('rotation'):\n",
    "    ccol = rotcolors[ct]\n",
    "    dat.plot(color=ccol,\n",
    "            ax=ax)\n",
    "plsnt_bbox.plot(ax=ax, facecolor=\"none\", edgecolor='black')\n",
    "ax.annotate(text='Pleasant Lake\\nInset Model', xy=plsnt_bbox.geometry.values[0].centroid.coords[0],\n",
    "           horizontalalignment = 'center')\n",
    "pfl_bbox.plot(ax=ax, facecolor=\"none\", edgecolor='black')\n",
    "ax.annotate(text='Plainfield Lakes\\nInset Model', xy=pfl_bbox.geometry.values[0].centroid.coords[0],\n",
    "           horizontalalignment = 'center')\n",
    "alllakes.plot(ax=ax, facecolor=\"blue\")\n",
    "regional_bbox.plot(ax=ax, facecolor=\"none\", edgecolor='GoldenRod')\n",
    "\n",
    "# set up legend patches using the color and long-name dicts from above\n",
    "leg_patches =[mpatches.Patch(color=c, label=rotnames[v]) for v,c in rotcolors.items()]\n",
    "leg_patches.append(mpatches.Patch(color='blue', label='Lakes'))\n",
    "leg_patches.append(mpatches.Patch(facecolor='none',edgecolor='black', label='Inset Model Boundary'))\n",
    "leg_patches.append(mpatches.Patch(facecolor='none',edgecolor='GoldenRod', label='Regional Model Boundary'))\n",
    "\n",
    "ax.legend(bbox_to_anchor=(1.35, .96), handles=leg_patches, title='EXPLANATION')\n",
    "ax.xaxis.set_major_formatter(mpl.ticker.StrMethodFormatter('{x:,.0f}'))\n",
    "ax.yaxis.set_major_formatter(mpl.ticker.StrMethodFormatter('{x:,.0f}'))\n",
    "\n",
    "plt.xlabel('Easting (m)')\n",
    "plt.ylabel('Northing (m)')\n",
    "plt.title('Crop Rotations for Regional Model')\n",
    "plt.tight_layout()\n",
    "plt.savefig('fig_x_regional_crop_rotations_map.pdf', bbox_inches='tight')"
   ]
  },
  {
   "cell_type": "code",
   "execution_count": null,
   "id": "advised-cardiff",
   "metadata": {},
   "outputs": [],
   "source": [
    "nonag_lu.wl_lev2_cd.unique()"
   ]
  },
  {
   "cell_type": "code",
   "execution_count": null,
   "id": "continued-mechanism",
   "metadata": {},
   "outputs": [],
   "source": [
    "\n",
    "nonag_colors = {\n",
    "    'Nonirrigated Agriculture': 'SlateGrey',\n",
    "    'Forage Grassland': 'Gold',\n",
    "    'Idle Grassland':'PaleGoldenRod',\n",
    "    'Broad-leaved Deciduous Forest':'ForestGreen', \n",
    "    'Coniferous Forest': 'DarkGreen', \n",
    "    'Emergent/Wet Meadow': 'DeepSkyBlue',\n",
    "    'Forested Wetland': 'SlateBlue'\n",
    "}"
   ]
  },
  {
   "cell_type": "code",
   "execution_count": null,
   "id": "theoretical-uniform",
   "metadata": {},
   "outputs": [],
   "source": [
    "fig, ax = plt.subplots(figsize=doublecolumn_sizeT)\n",
    "for ct, dat in nonag_lu.groupby('wl_lev2_cd'):\n",
    "    ccol = nonag_colors[ct]\n",
    "    dat.plot(color=ccol,\n",
    "            ax=ax)\n",
    "plsnt_bbox.plot(ax=ax, facecolor=\"none\", edgecolor='black')\n",
    "ax.annotate(text='Pleasant Lake\\nInset Model', xy=plsnt_bbox.geometry.values[0].centroid.coords[0],\n",
    "           horizontalalignment = 'center')\n",
    "pfl_bbox.plot(ax=ax, facecolor=\"none\", edgecolor='black')\n",
    "ax.annotate(text='Plainfield Lakes\\nInset Model', xy=pfl_bbox.geometry.values[0].centroid.coords[0],\n",
    "           horizontalalignment = 'center')\n",
    "alllakes.plot(ax=ax, facecolor=\"blue\")\n",
    "regional_bbox.plot(ax=ax, facecolor=\"none\", edgecolor='GoldenRod')\n",
    "\n",
    "# set up legend patches using the color and long-name dicts from above\n",
    "leg_patches =[mpatches.Patch(color=c, label=v) for v,c in nonag_colors.items()]\n",
    "leg_patches.append(mpatches.Patch(color='blue', label='Lakes'))\n",
    "leg_patches.append(mpatches.Patch(facecolor='none',edgecolor='black', label='Inset Model Boundary'))\n",
    "leg_patches.append(mpatches.Patch(facecolor='none',edgecolor='GoldenRod', label='Regional Model Boundary'))\n",
    "\n",
    "ax.legend(bbox_to_anchor=(1.38, .96), handles=leg_patches, title='EXPLANATION')\n",
    "ax.xaxis.set_major_formatter(mpl.ticker.StrMethodFormatter('{x:,.0f}'))\n",
    "ax.yaxis.set_major_formatter(mpl.ticker.StrMethodFormatter('{x:,.0f}'))\n",
    "\n",
    "plt.xlabel('Easting (m)')\n",
    "plt.ylabel('Northing (m)')\n",
    "plt.title('Crop Rotations for Regional Model')\n",
    "plt.tight_layout()\n",
    "plt.savefig('fig_x_regional_nonag_landuse_map.pdf', bbox_inches='tight')"
   ]
  },
  {
   "cell_type": "code",
   "execution_count": null,
   "id": "packed-merit",
   "metadata": {},
   "outputs": [],
   "source": [
    "# now for insets\n",
    "pfl_nonag = gp.overlay(nonag_lu, pfl_bbox, how='intersection')"
   ]
  },
  {
   "cell_type": "code",
   "execution_count": null,
   "id": "individual-infrastructure",
   "metadata": {
    "scrolled": false
   },
   "outputs": [],
   "source": [
    "fig, ax = plt.subplots(2,1, figsize=doublecolumn_sizeT)\n",
    "#pfl ag\n",
    "for ct, dat in pfl_LU.groupby('rotation'):\n",
    "    ccol = rotcolors[ct]\n",
    "    dat.plot(color=ccol,\n",
    "            ax=ax[0])\n",
    "pfl_bbox.plot(ax=ax[0], facecolor=\"none\", edgecolor='black')\n",
    "pfl_lakes.plot(ax=ax[0], facecolor=\"blue\")\n",
    "\n",
    "\n",
    "# set up legend patches using the color and long-name dicts from above\n",
    "leg_patches =[mpatches.Patch(color=c, label=rotnames[v]) for v,c in rotcolors.items()]\n",
    "leg_patches.append(mpatches.Patch(color='blue', label='Lakes'))\n",
    "leg_patches.append(mpatches.Patch(facecolor='none',edgecolor='black', label='Model Boundary'))\n",
    "ax[0].legend(bbox_to_anchor=(1.5, 1.0), handles=leg_patches, title='EXPLANATION')\n",
    "ax[0].xaxis.set_major_formatter(mpl.ticker.StrMethodFormatter('{x:,.0f}'))\n",
    "ax[0].yaxis.set_major_formatter(mpl.ticker.StrMethodFormatter('{x:,.0f}'))\n",
    "ax[0].set_xlabel('Easting (m)')\n",
    "ax[0].set_ylabel('Northing (m)')\n",
    "rf.title(ax[0],'Crop Rotations for Plainfield Lakes Inset Model',\n",
    "                capitalize=False,\n",
    "                 wrap=500,\n",
    "                subplot_prefix='A')\n",
    "\n",
    "# pfl no ag \n",
    "for ct, dat in pfl_nonag.groupby('wl_lev2_cd'):\n",
    "    ccol = nonag_colors[ct]\n",
    "    dat.plot(color=ccol,\n",
    "            ax=ax[1])\n",
    "pfl_bbox.plot(ax=ax[1], facecolor=\"none\", edgecolor='black')\n",
    "pfl_lakes.plot(ax=ax[1], facecolor=\"blue\")\n",
    "\n",
    "\n",
    "# set up legend patches using the color and long-name dicts from above\n",
    "leg_patches =[mpatches.Patch(color=c, label=v) for v,c in nonag_colors.items()]\n",
    "leg_patches.append(mpatches.Patch(color='blue', label='Lakes'))\n",
    "leg_patches.append(mpatches.Patch(facecolor='none',edgecolor='black', label='Model Boundary'))\n",
    "ax[1].legend(bbox_to_anchor=(1.7, 1.0), handles=leg_patches, title='EXPLANATION')\n",
    "ax[1].xaxis.set_major_formatter(mpl.ticker.StrMethodFormatter('{x:,.0f}'))\n",
    "ax[1].yaxis.set_major_formatter(mpl.ticker.StrMethodFormatter('{x:,.0f}'))\n",
    "ax[1].set_xlabel('Easting (m)')\n",
    "ax[1].set_ylabel('Northing (m)')\n",
    "rf.title(ax[1],'No Irrigated Agriculture Land Use for Plainfield Lakes Inset Model',\n",
    "                capitalize=False,\n",
    "                 wrap=500,\n",
    "                subplot_prefix='B')\n",
    "plt.tight_layout()\n",
    "plt.savefig('fig_x_pfl_inset_crop_rotations_map.pdf', bbox_inches='tight')\n",
    "\n",
    "\n",
    "\n"
   ]
  },
  {
   "cell_type": "code",
   "execution_count": null,
   "id": "sharp-employer",
   "metadata": {},
   "outputs": [],
   "source": [
    "plsnt_nonag = gp.overlay(nonag_lu, plsnt_bbox, how='intersection')"
   ]
  },
  {
   "cell_type": "code",
   "execution_count": null,
   "id": "finnish-contest",
   "metadata": {},
   "outputs": [],
   "source": [
    "fig, ax = plt.subplots(2,1, figsize=doublecolumn_sizeT)\n",
    "#pfl ag\n",
    "for ct, dat in plsnt_LU.groupby('rotation'):\n",
    "    ccol = rotcolors[ct]\n",
    "    dat.plot(color=ccol,\n",
    "            ax=ax[0])\n",
    "plsnt_bbox.plot(ax=ax[0], facecolor=\"none\", edgecolor='black')\n",
    "plsnt_lakes.plot(ax=ax[0], facecolor=\"blue\")\n",
    "\n",
    "\n",
    "# set up legend patches using the color and long-name dicts from above\n",
    "leg_patches =[mpatches.Patch(color=c, label=rotnames[v]) for v,c in rotcolors.items()]\n",
    "leg_patches.append(mpatches.Patch(color='blue', label='Lakes'))\n",
    "leg_patches.append(mpatches.Patch(facecolor='none',edgecolor='black', label='Model Boundary'))\n",
    "ax[0].legend(bbox_to_anchor=(1.6, 1.0), handles=leg_patches, title='EXPLANATION')\n",
    "ax[0].xaxis.set_major_formatter(mpl.ticker.StrMethodFormatter('{x:,.0f}'))\n",
    "ax[0].yaxis.set_major_formatter(mpl.ticker.StrMethodFormatter('{x:,.0f}'))\n",
    "ax[0].set_xlabel('Easting (m)')\n",
    "ax[0].set_ylabel('Northing (m)')\n",
    "rf.title(ax[0],'Crop Rotations for Pleasant Lake Inset Model',\n",
    "                capitalize=False,\n",
    "                 wrap=500,\n",
    "                subplot_prefix='A')\n",
    "\n",
    "# pfl no ag \n",
    "for ct, dat in plsnt_nonag.groupby('wl_lev2_cd'):\n",
    "    ccol = nonag_colors[ct]\n",
    "    dat.plot(color=ccol,\n",
    "            ax=ax[1])\n",
    "plsnt_bbox.plot(ax=ax[1], facecolor=\"none\", edgecolor='black')\n",
    "plsnt_lakes.plot(ax=ax[1], facecolor=\"blue\")\n",
    "\n",
    "\n",
    "# set up legend patches using the color and long-name dicts from above\n",
    "leg_patches =[mpatches.Patch(color=c, label=v) for v,c in nonag_colors.items()]\n",
    "leg_patches.append(mpatches.Patch(color='blue', label='Lakes'))\n",
    "leg_patches.append(mpatches.Patch(facecolor='none',edgecolor='black', label='Model Boundary'))\n",
    "ax[1].legend(bbox_to_anchor=(1.8, 1.0), handles=leg_patches, title='EXPLANATION')\n",
    "ax[1].xaxis.set_major_formatter(mpl.ticker.StrMethodFormatter('{x:,.0f}'))\n",
    "ax[1].yaxis.set_major_formatter(mpl.ticker.StrMethodFormatter('{x:,.0f}'))\n",
    "ax[1].set_xlabel('Easting (m)')\n",
    "ax[1].set_ylabel('Northing (m)')\n",
    "rf.title(ax[1],'No Irrigated Agriculture Land Use for Pleasant Lake Inset Model',\n",
    "                capitalize=False,\n",
    "                 wrap=500,\n",
    "                subplot_prefix='B')\n",
    "plt.tight_layout()\n",
    "plt.savefig('fig_x_plsnt_inset_crop_rotations_map.pdf', bbox_inches='tight')"
   ]
  },
  {
   "cell_type": "code",
   "execution_count": null,
   "id": "historic-charleston",
   "metadata": {},
   "outputs": [],
   "source": []
  },
  {
   "cell_type": "code",
   "execution_count": null,
   "id": "broad-northern",
   "metadata": {},
   "outputs": [],
   "source": []
  }
 ],
 "metadata": {
  "kernelspec": {
   "display_name": "Python 3 (ipykernel)",
   "language": "python",
   "name": "python3"
  },
  "language_info": {
   "codemirror_mode": {
    "name": "ipython",
    "version": 3
   },
   "file_extension": ".py",
   "mimetype": "text/x-python",
   "name": "python",
   "nbconvert_exporter": "python",
   "pygments_lexer": "ipython3",
   "version": "3.9.13"
  }
 },
 "nbformat": 4,
 "nbformat_minor": 5
}
