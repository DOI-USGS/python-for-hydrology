{
 "cells": [
  {
   "cell_type": "markdown",
   "metadata": {},
   "source": [
    "# 05: Unstructred Grids\n",
    "\n",
    "This notebook demonstrates FloPy functionality for creating different types of model grids.  Six different model grids are constructed for the same domain.  The domain is defined by a polygon intended to represent a hydrologic basin.\n",
    "\n",
    "The grids generated in this notebook include the following:\n",
    "\n",
    "* Regular MODFLOW grid\n",
    "* Irregular MODFLOW grid with variable row and column spacings\n",
    "* Nested grid, consisting of parent and child grids\n",
    "* Quadtree grid created using the FloPy wrapper for the [USGS Gridgen program](https://www.usgs.gov/software/gridgen-program-generating-unstructured-finite-volume-grids)\n",
    "* Triangular grid created using the FloPy wrapper for the [Triangle program](https://www.cs.cmu.edu/~quake/triangle.html).\n",
    "* Voronoi grid created using the [Triangle program](https://www.cs.cmu.edu/~quake/triangle.html) and the [Scipy voronoi class](https://docs.scipy.org/doc/scipy/reference/generated/scipy.spatial.Voronoi.html#scipy.spatial.Voronoi)  "
   ]
  },
  {
   "cell_type": "markdown",
   "metadata": {},
   "source": [
    "## Notebook Setup"
   ]
  },
  {
   "cell_type": "code",
   "execution_count": 1,
   "metadata": {
    "execution": {
     "iopub.execute_input": "2024-07-30T21:10:07.608350Z",
     "iopub.status.busy": "2024-07-30T21:10:07.608181Z",
     "iopub.status.idle": "2024-07-30T21:10:08.833929Z",
     "shell.execute_reply": "2024-07-30T21:10:08.833314Z"
    }
   },
   "outputs": [
    {
     "ename": "AttributeError",
     "evalue": "`np.float_` was removed in the NumPy 2.0 release. Use `np.float64` instead.",
     "output_type": "error",
     "traceback": [
      "\u001b[0;31m---------------------------------------------------------------------------\u001b[0m",
      "\u001b[0;31mAttributeError\u001b[0m                            Traceback (most recent call last)",
      "Cell \u001b[0;32mIn[1], line 5\u001b[0m\n\u001b[1;32m      3\u001b[0m \u001b[38;5;28;01mimport\u001b[39;00m \u001b[38;5;21;01mmatplotlib\u001b[39;00m\u001b[38;5;21;01m.\u001b[39;00m\u001b[38;5;21;01mpyplot\u001b[39;00m \u001b[38;5;28;01mas\u001b[39;00m \u001b[38;5;21;01mplt\u001b[39;00m\n\u001b[1;32m      4\u001b[0m \u001b[38;5;28;01mfrom\u001b[39;00m \u001b[38;5;21;01mshapely\u001b[39;00m\u001b[38;5;21;01m.\u001b[39;00m\u001b[38;5;21;01mgeometry\u001b[39;00m \u001b[38;5;28;01mimport\u001b[39;00m Polygon\n\u001b[0;32m----> 5\u001b[0m \u001b[38;5;28;01mimport\u001b[39;00m \u001b[38;5;21;01mflopy\u001b[39;00m\n\u001b[1;32m      6\u001b[0m \u001b[38;5;28;01mfrom\u001b[39;00m \u001b[38;5;21;01mflopy\u001b[39;00m\u001b[38;5;21;01m.\u001b[39;00m\u001b[38;5;21;01mdiscretization\u001b[39;00m \u001b[38;5;28;01mimport\u001b[39;00m StructuredGrid, VertexGrid\n\u001b[1;32m      7\u001b[0m \u001b[38;5;28;01mfrom\u001b[39;00m \u001b[38;5;21;01mflopy\u001b[39;00m\u001b[38;5;21;01m.\u001b[39;00m\u001b[38;5;21;01mutils\u001b[39;00m\u001b[38;5;21;01m.\u001b[39;00m\u001b[38;5;21;01mtriangle\u001b[39;00m \u001b[38;5;28;01mimport\u001b[39;00m Triangle\n",
      "File \u001b[0;32m~/micromamba/envs/pyclass-docs/lib/python3.11/site-packages/flopy/__init__.py:26\u001b[0m\n\u001b[1;32m     23\u001b[0m __author__ \u001b[38;5;241m=\u001b[39m \u001b[38;5;124m\"\u001b[39m\u001b[38;5;124mFloPy Team\u001b[39m\u001b[38;5;124m\"\u001b[39m\n\u001b[1;32m     25\u001b[0m \u001b[38;5;28;01mfrom\u001b[39;00m \u001b[38;5;21;01m.\u001b[39;00m\u001b[38;5;21;01mversion\u001b[39;00m \u001b[38;5;28;01mimport\u001b[39;00m __version__  \u001b[38;5;66;03m# isort:skip\u001b[39;00m\n\u001b[0;32m---> 26\u001b[0m \u001b[38;5;28;01mfrom\u001b[39;00m \u001b[38;5;21;01m.\u001b[39;00m \u001b[38;5;28;01mimport\u001b[39;00m (\n\u001b[1;32m     27\u001b[0m     discretization,\n\u001b[1;32m     28\u001b[0m     export,\n\u001b[1;32m     29\u001b[0m     mf6,\n\u001b[1;32m     30\u001b[0m     mfusg,\n\u001b[1;32m     31\u001b[0m     modflow,\n\u001b[1;32m     32\u001b[0m     modflowlgr,\n\u001b[1;32m     33\u001b[0m     modpath,\n\u001b[1;32m     34\u001b[0m     mt3d,\n\u001b[1;32m     35\u001b[0m     pest,\n\u001b[1;32m     36\u001b[0m     plot,\n\u001b[1;32m     37\u001b[0m     seawat,\n\u001b[1;32m     38\u001b[0m     utils,\n\u001b[1;32m     39\u001b[0m )\n\u001b[1;32m     40\u001b[0m \u001b[38;5;28;01mfrom\u001b[39;00m \u001b[38;5;21;01m.\u001b[39;00m\u001b[38;5;21;01mmbase\u001b[39;00m \u001b[38;5;28;01mimport\u001b[39;00m run_model, which\n\u001b[1;32m     42\u001b[0m __all__ \u001b[38;5;241m=\u001b[39m [\n\u001b[1;32m     43\u001b[0m     \u001b[38;5;124m\"\u001b[39m\u001b[38;5;124m__author__\u001b[39m\u001b[38;5;124m\"\u001b[39m,\n\u001b[1;32m     44\u001b[0m     \u001b[38;5;124m\"\u001b[39m\u001b[38;5;124m__version__\u001b[39m\u001b[38;5;124m\"\u001b[39m,\n\u001b[0;32m   (...)\u001b[0m\n\u001b[1;32m     58\u001b[0m     \u001b[38;5;124m\"\u001b[39m\u001b[38;5;124mwhich\u001b[39m\u001b[38;5;124m\"\u001b[39m,\n\u001b[1;32m     59\u001b[0m ]\n",
      "File \u001b[0;32m~/micromamba/envs/pyclass-docs/lib/python3.11/site-packages/flopy/discretization/__init__.py:1\u001b[0m\n\u001b[0;32m----> 1\u001b[0m \u001b[38;5;28;01mfrom\u001b[39;00m \u001b[38;5;21;01m.\u001b[39;00m\u001b[38;5;21;01mstructuredgrid\u001b[39;00m \u001b[38;5;28;01mimport\u001b[39;00m StructuredGrid\n\u001b[1;32m      2\u001b[0m \u001b[38;5;28;01mfrom\u001b[39;00m \u001b[38;5;21;01m.\u001b[39;00m\u001b[38;5;21;01munstructuredgrid\u001b[39;00m \u001b[38;5;28;01mimport\u001b[39;00m UnstructuredGrid\n\u001b[1;32m      3\u001b[0m \u001b[38;5;28;01mfrom\u001b[39;00m \u001b[38;5;21;01m.\u001b[39;00m\u001b[38;5;21;01mvertexgrid\u001b[39;00m \u001b[38;5;28;01mimport\u001b[39;00m VertexGrid\n",
      "File \u001b[0;32m~/micromamba/envs/pyclass-docs/lib/python3.11/site-packages/flopy/discretization/structuredgrid.py:7\u001b[0m\n\u001b[1;32m      3\u001b[0m \u001b[38;5;28;01mfrom\u001b[39;00m \u001b[38;5;21;01mtyping\u001b[39;00m \u001b[38;5;28;01mimport\u001b[39;00m Union\n\u001b[1;32m      5\u001b[0m \u001b[38;5;28;01mimport\u001b[39;00m \u001b[38;5;21;01mnumpy\u001b[39;00m \u001b[38;5;28;01mas\u001b[39;00m \u001b[38;5;21;01mnp\u001b[39;00m\n\u001b[0;32m----> 7\u001b[0m \u001b[38;5;28;01mfrom\u001b[39;00m \u001b[38;5;21;01m.\u001b[39;00m\u001b[38;5;21;01mgrid\u001b[39;00m \u001b[38;5;28;01mimport\u001b[39;00m CachedData, Grid\n\u001b[1;32m     10\u001b[0m \u001b[38;5;28;01mdef\u001b[39;00m \u001b[38;5;21marray_at_verts_basic2d\u001b[39m(a):\n\u001b[1;32m     11\u001b[0m \u001b[38;5;250m    \u001b[39m\u001b[38;5;124;03m\"\"\"\u001b[39;00m\n\u001b[1;32m     12\u001b[0m \u001b[38;5;124;03m    Computes values at cell vertices on 2d array using neighbor averaging.\u001b[39;00m\n\u001b[1;32m     13\u001b[0m \n\u001b[0;32m   (...)\u001b[0m\n\u001b[1;32m     22\u001b[0m \u001b[38;5;124;03m        Array values at cell vertices, shape (a.shape[0]+1, a.shape[1]+1).\u001b[39;00m\n\u001b[1;32m     23\u001b[0m \u001b[38;5;124;03m    \"\"\"\u001b[39;00m\n",
      "File \u001b[0;32m~/micromamba/envs/pyclass-docs/lib/python3.11/site-packages/flopy/discretization/grid.py:16\u001b[0m\n\u001b[1;32m     13\u001b[0m \u001b[38;5;28;01mexcept\u001b[39;00m \u001b[38;5;167;01mImportError\u001b[39;00m:\n\u001b[1;32m     14\u001b[0m     HAS_PYPROJ \u001b[38;5;241m=\u001b[39m \u001b[38;5;28;01mFalse\u001b[39;00m\n\u001b[0;32m---> 16\u001b[0m \u001b[38;5;28;01mfrom\u001b[39;00m \u001b[38;5;21;01m.\u001b[39;00m\u001b[38;5;21;01m.\u001b[39;00m\u001b[38;5;21;01mutils\u001b[39;00m \u001b[38;5;28;01mimport\u001b[39;00m geometry\n\u001b[1;32m     17\u001b[0m \u001b[38;5;28;01mfrom\u001b[39;00m \u001b[38;5;21;01m.\u001b[39;00m\u001b[38;5;21;01m.\u001b[39;00m\u001b[38;5;21;01mutils\u001b[39;00m\u001b[38;5;21;01m.\u001b[39;00m\u001b[38;5;21;01mcrs\u001b[39;00m \u001b[38;5;28;01mimport\u001b[39;00m get_crs\n\u001b[1;32m     18\u001b[0m \u001b[38;5;28;01mfrom\u001b[39;00m \u001b[38;5;21;01m.\u001b[39;00m\u001b[38;5;21;01m.\u001b[39;00m\u001b[38;5;21;01mutils\u001b[39;00m\u001b[38;5;21;01m.\u001b[39;00m\u001b[38;5;21;01mgridutil\u001b[39;00m \u001b[38;5;28;01mimport\u001b[39;00m get_lni\n",
      "File \u001b[0;32m~/micromamba/envs/pyclass-docs/lib/python3.11/site-packages/flopy/utils/__init__.py:51\u001b[0m\n\u001b[1;32m     49\u001b[0m \u001b[38;5;28;01mfrom\u001b[39;00m \u001b[38;5;21;01m.\u001b[39;00m\u001b[38;5;21;01moptionblock\u001b[39;00m \u001b[38;5;28;01mimport\u001b[39;00m OptionBlock\n\u001b[1;32m     50\u001b[0m \u001b[38;5;28;01mfrom\u001b[39;00m \u001b[38;5;21;01m.\u001b[39;00m\u001b[38;5;21;01mpostprocessing\u001b[39;00m \u001b[38;5;28;01mimport\u001b[39;00m get_specific_discharge, get_transmissivities\n\u001b[0;32m---> 51\u001b[0m \u001b[38;5;28;01mfrom\u001b[39;00m \u001b[38;5;21;01m.\u001b[39;00m\u001b[38;5;21;01mrasters\u001b[39;00m \u001b[38;5;28;01mimport\u001b[39;00m Raster\n\u001b[1;32m     52\u001b[0m \u001b[38;5;28;01mfrom\u001b[39;00m \u001b[38;5;21;01m.\u001b[39;00m\u001b[38;5;21;01mrecarray_utils\u001b[39;00m \u001b[38;5;28;01mimport\u001b[39;00m create_empty_recarray, ra_slice, recarray\n\u001b[1;32m     53\u001b[0m \u001b[38;5;28;01mfrom\u001b[39;00m \u001b[38;5;21;01m.\u001b[39;00m\u001b[38;5;21;01mreference\u001b[39;00m \u001b[38;5;28;01mimport\u001b[39;00m TemporalReference\n",
      "File \u001b[0;32m~/micromamba/envs/pyclass-docs/lib/python3.11/site-packages/flopy/utils/rasters.py:13\u001b[0m\n\u001b[1;32m      8\u001b[0m \u001b[38;5;28;01mfrom\u001b[39;00m \u001b[38;5;21;01m.\u001b[39;00m\u001b[38;5;21;01mutl_import\u001b[39;00m \u001b[38;5;28;01mimport\u001b[39;00m import_optional_dependency\n\u001b[1;32m     10\u001b[0m warnings\u001b[38;5;241m.\u001b[39msimplefilter(\u001b[38;5;124m\"\u001b[39m\u001b[38;5;124malways\u001b[39m\u001b[38;5;124m\"\u001b[39m, \u001b[38;5;167;01mDeprecationWarning\u001b[39;00m)\n\u001b[0;32m---> 13\u001b[0m \u001b[38;5;28;43;01mclass\u001b[39;49;00m\u001b[43m \u001b[49m\u001b[38;5;21;43;01mRaster\u001b[39;49;00m\u001b[43m:\u001b[49m\n\u001b[1;32m     14\u001b[0m \u001b[38;5;250;43m    \u001b[39;49m\u001b[38;5;124;43;03m\"\"\"\u001b[39;49;00m\n\u001b[1;32m     15\u001b[0m \u001b[38;5;124;43;03m    The Raster object is used for cropping, sampling raster values,\u001b[39;49;00m\n\u001b[1;32m     16\u001b[0m \u001b[38;5;124;43;03m    and re-sampling raster values to grids, and provides methods to\u001b[39;49;00m\n\u001b[0;32m   (...)\u001b[0m\n\u001b[1;32m     45\u001b[0m \n\u001b[1;32m     46\u001b[0m \u001b[38;5;124;43;03m    \"\"\"\u001b[39;49;00m\n\u001b[1;32m     48\u001b[0m \u001b[43m    \u001b[49m\u001b[43mFLOAT32\u001b[49m\u001b[43m \u001b[49m\u001b[38;5;241;43m=\u001b[39;49m\u001b[43m \u001b[49m\u001b[43m(\u001b[49m\u001b[38;5;28;43mfloat\u001b[39;49m\u001b[43m,\u001b[49m\u001b[43m \u001b[49m\u001b[43mnp\u001b[49m\u001b[38;5;241;43m.\u001b[39;49m\u001b[43mfloat32\u001b[49m\u001b[43m,\u001b[49m\u001b[43m \u001b[49m\u001b[43mnp\u001b[49m\u001b[38;5;241;43m.\u001b[39;49m\u001b[43mfloat_\u001b[49m\u001b[43m)\u001b[49m\n",
      "File \u001b[0;32m~/micromamba/envs/pyclass-docs/lib/python3.11/site-packages/flopy/utils/rasters.py:48\u001b[0m, in \u001b[0;36mRaster\u001b[0;34m()\u001b[0m\n\u001b[1;32m     13\u001b[0m \u001b[38;5;28;01mclass\u001b[39;00m \u001b[38;5;21;01mRaster\u001b[39;00m:\n\u001b[1;32m     14\u001b[0m \u001b[38;5;250m    \u001b[39m\u001b[38;5;124;03m\"\"\"\u001b[39;00m\n\u001b[1;32m     15\u001b[0m \u001b[38;5;124;03m    The Raster object is used for cropping, sampling raster values,\u001b[39;00m\n\u001b[1;32m     16\u001b[0m \u001b[38;5;124;03m    and re-sampling raster values to grids, and provides methods to\u001b[39;00m\n\u001b[0;32m   (...)\u001b[0m\n\u001b[1;32m     45\u001b[0m \n\u001b[1;32m     46\u001b[0m \u001b[38;5;124;03m    \"\"\"\u001b[39;00m\n\u001b[0;32m---> 48\u001b[0m     FLOAT32 \u001b[38;5;241m=\u001b[39m (\u001b[38;5;28mfloat\u001b[39m, np\u001b[38;5;241m.\u001b[39mfloat32, \u001b[43mnp\u001b[49m\u001b[38;5;241;43m.\u001b[39;49m\u001b[43mfloat_\u001b[49m)\n\u001b[1;32m     49\u001b[0m     FLOAT64 \u001b[38;5;241m=\u001b[39m (np\u001b[38;5;241m.\u001b[39mfloat64,)\n\u001b[1;32m     50\u001b[0m     INT8 \u001b[38;5;241m=\u001b[39m (np\u001b[38;5;241m.\u001b[39mint8, np\u001b[38;5;241m.\u001b[39muint8)\n",
      "File \u001b[0;32m~/micromamba/envs/pyclass-docs/lib/python3.11/site-packages/numpy/__init__.py:397\u001b[0m, in \u001b[0;36m__getattr__\u001b[0;34m(attr)\u001b[0m\n\u001b[1;32m    394\u001b[0m     \u001b[38;5;28;01mraise\u001b[39;00m \u001b[38;5;167;01mAttributeError\u001b[39;00m(__former_attrs__[attr])\n\u001b[1;32m    396\u001b[0m \u001b[38;5;28;01mif\u001b[39;00m attr \u001b[38;5;129;01min\u001b[39;00m __expired_attributes__:\n\u001b[0;32m--> 397\u001b[0m     \u001b[38;5;28;01mraise\u001b[39;00m \u001b[38;5;167;01mAttributeError\u001b[39;00m(\n\u001b[1;32m    398\u001b[0m         \u001b[38;5;124mf\u001b[39m\u001b[38;5;124m\"\u001b[39m\u001b[38;5;124m`np.\u001b[39m\u001b[38;5;132;01m{\u001b[39;00mattr\u001b[38;5;132;01m}\u001b[39;00m\u001b[38;5;124m` was removed in the NumPy 2.0 release. \u001b[39m\u001b[38;5;124m\"\u001b[39m\n\u001b[1;32m    399\u001b[0m         \u001b[38;5;124mf\u001b[39m\u001b[38;5;124m\"\u001b[39m\u001b[38;5;132;01m{\u001b[39;00m__expired_attributes__[attr]\u001b[38;5;132;01m}\u001b[39;00m\u001b[38;5;124m\"\u001b[39m\n\u001b[1;32m    400\u001b[0m     )\n\u001b[1;32m    402\u001b[0m \u001b[38;5;28;01mif\u001b[39;00m attr \u001b[38;5;241m==\u001b[39m \u001b[38;5;124m\"\u001b[39m\u001b[38;5;124mchararray\u001b[39m\u001b[38;5;124m\"\u001b[39m:\n\u001b[1;32m    403\u001b[0m     warnings\u001b[38;5;241m.\u001b[39mwarn(\n\u001b[1;32m    404\u001b[0m         \u001b[38;5;124m\"\u001b[39m\u001b[38;5;124m`np.chararray` is deprecated and will be removed from \u001b[39m\u001b[38;5;124m\"\u001b[39m\n\u001b[1;32m    405\u001b[0m         \u001b[38;5;124m\"\u001b[39m\u001b[38;5;124mthe main namespace in the future. Use an array with a string \u001b[39m\u001b[38;5;124m\"\u001b[39m\n\u001b[1;32m    406\u001b[0m         \u001b[38;5;124m\"\u001b[39m\u001b[38;5;124mor bytes dtype instead.\u001b[39m\u001b[38;5;124m\"\u001b[39m, \u001b[38;5;167;01mDeprecationWarning\u001b[39;00m, stacklevel\u001b[38;5;241m=\u001b[39m\u001b[38;5;241m2\u001b[39m)\n",
      "\u001b[0;31mAttributeError\u001b[0m: `np.float_` was removed in the NumPy 2.0 release. Use `np.float64` instead."
     ]
    }
   ],
   "source": [
    "import pathlib as pl\n",
    "import numpy as np\n",
    "import matplotlib.pyplot as plt\n",
    "from shapely.geometry import Polygon\n",
    "import flopy\n",
    "from flopy.discretization import StructuredGrid, VertexGrid\n",
    "from flopy.utils.triangle import Triangle\n",
    "from flopy.utils.voronoi import VoronoiGrid\n",
    "from flopy.utils.gridgen import Gridgen"
   ]
  },
  {
   "cell_type": "code",
   "execution_count": 2,
   "metadata": {
    "execution": {
     "iopub.execute_input": "2024-07-30T21:10:08.836185Z",
     "iopub.status.busy": "2024-07-30T21:10:08.835819Z",
     "iopub.status.idle": "2024-07-30T21:10:08.839420Z",
     "shell.execute_reply": "2024-07-30T21:10:08.839009Z"
    }
   },
   "outputs": [],
   "source": [
    "# import basin data and utilities from basin.py\n",
    "import basin"
   ]
  },
  {
   "cell_type": "code",
   "execution_count": 3,
   "metadata": {
    "execution": {
     "iopub.execute_input": "2024-07-30T21:10:08.841115Z",
     "iopub.status.busy": "2024-07-30T21:10:08.840963Z",
     "iopub.status.idle": "2024-07-30T21:10:08.843681Z",
     "shell.execute_reply": "2024-07-30T21:10:08.843248Z"
    }
   },
   "outputs": [],
   "source": [
    "temp_path = pl.Path(\"./temp\")\n",
    "temp_path.mkdir(exist_ok=True, parents=True)"
   ]
  },
  {
   "cell_type": "markdown",
   "metadata": {},
   "source": [
    "## Basin Example"
   ]
  },
  {
   "cell_type": "code",
   "execution_count": 4,
   "metadata": {
    "execution": {
     "iopub.execute_input": "2024-07-30T21:10:08.845503Z",
     "iopub.status.busy": "2024-07-30T21:10:08.845190Z",
     "iopub.status.idle": "2024-07-30T21:10:08.942260Z",
     "shell.execute_reply": "2024-07-30T21:10:08.941850Z"
    }
   },
   "outputs": [
    {
     "name": "stdout",
     "output_type": "stream",
     "text": [
      "len boundary 55\n",
      "Len segment:  38\n",
      "Len segment:  14\n",
      "Len segment:  12\n",
      "Len segment:  13\n"
     ]
    },
    {
     "data": {
      "image/png": "[encoded data removed]",
      "text/plain": [
       "<Figure size 640x480 with 1 Axes>"
      ]
     },
     "metadata": {},
     "output_type": "display_data"
    }
   ],
   "source": [
    "boundary_polygon = basin.string2geom(basin.boundary)\n",
    "print(\"len boundary\", len(boundary_polygon))\n",
    "bp = np.array(boundary_polygon)\n",
    "\n",
    "sgs = [\n",
    "    basin.string2geom(sg) for sg in (\n",
    "        basin.streamseg1, basin.streamseg2, basin.streamseg3, basin.streamseg4\n",
    "        )\n",
    "]\n",
    "\n",
    "fig = plt.figure()\n",
    "ax = fig.add_subplot()\n",
    "ax.set_aspect(\"equal\")\n",
    "\n",
    "ax.plot(bp[:, 0], bp[:, 1], \"ks-\")\n",
    "colors = (\"blue\", \"cyan\", \"green\", \"limegreen\")\n",
    "for idx, sg in enumerate(sgs):\n",
    "    print(\"Len segment: \", len(sg))\n",
    "    sa = np.array(sg)\n",
    "    ax.plot(sa[:, 0], sa[:, 1], marker=\"o\", color=colors[idx])"
   ]
  },
  {
   "cell_type": "markdown",
   "metadata": {},
   "source": [
    "## FloPy `StructuredGrid`"
   ]
  },
  {
   "cell_type": "code",
   "execution_count": 5,
   "metadata": {
    "execution": {
     "iopub.execute_input": "2024-07-30T21:10:08.944331Z",
     "iopub.status.busy": "2024-07-30T21:10:08.943998Z",
     "iopub.status.idle": "2024-07-30T21:10:08.961375Z",
     "shell.execute_reply": "2024-07-30T21:10:08.960983Z"
    }
   },
   "outputs": [
    {
     "name": "stdout",
     "output_type": "stream",
     "text": [
      "180000 100000 50 90\n"
     ]
    },
    {
     "ename": "NameError",
     "evalue": "name 'StructuredGrid' is not defined",
     "output_type": "error",
     "traceback": [
      "\u001b[0;31m---------------------------------------------------------------------------\u001b[0m",
      "\u001b[0;31mNameError\u001b[0m                                 Traceback (most recent call last)",
      "Cell \u001b[0;32mIn[5], line 10\u001b[0m\n\u001b[1;32m      8\u001b[0m delr \u001b[38;5;241m=\u001b[39m np\u001b[38;5;241m.\u001b[39marray(ncol \u001b[38;5;241m*\u001b[39m [dx])\n\u001b[1;32m      9\u001b[0m delc \u001b[38;5;241m=\u001b[39m np\u001b[38;5;241m.\u001b[39marray(nrow \u001b[38;5;241m*\u001b[39m [dy])\n\u001b[0;32m---> 10\u001b[0m regular_grid \u001b[38;5;241m=\u001b[39m \u001b[43mStructuredGrid\u001b[49m(delr\u001b[38;5;241m=\u001b[39mdelr, delc\u001b[38;5;241m=\u001b[39mdelc, xoff\u001b[38;5;241m=\u001b[39m\u001b[38;5;241m0.0\u001b[39m, yoff\u001b[38;5;241m=\u001b[39m\u001b[38;5;241m0.0\u001b[39m)\n\u001b[1;32m     12\u001b[0m fig \u001b[38;5;241m=\u001b[39m plt\u001b[38;5;241m.\u001b[39mfigure()\n\u001b[1;32m     13\u001b[0m ax \u001b[38;5;241m=\u001b[39m fig\u001b[38;5;241m.\u001b[39madd_subplot()\n",
      "\u001b[0;31mNameError\u001b[0m: name 'StructuredGrid' is not defined"
     ]
    }
   ],
   "source": [
    "# Create a regular MODFLOW grid\n",
    "Lx = 180000\n",
    "Ly = 100000\n",
    "dx = dy = 2000\n",
    "nrow = int(Ly / dy)\n",
    "ncol = int(Lx / dx)\n",
    "print(Lx, Ly, nrow, ncol)\n",
    "delr = np.array(ncol * [dx])\n",
    "delc = np.array(nrow * [dy])\n",
    "regular_grid = StructuredGrid(delr=delr, delc=delc, xoff=0.0, yoff=0.0)\n",
    "\n",
    "fig = plt.figure()\n",
    "ax = fig.add_subplot()\n",
    "ax.set_aspect(\"equal\")\n",
    "regular_grid.plot(ax=ax)\n",
    "ax.plot(bp[:, 0], bp[:, 1], \"k-\")\n",
    "for sg in sgs:\n",
    "    sa = np.array(sg)\n",
    "    ax.plot(sa[:, 0], sa[:, 1], \"b-\")"
   ]
  },
  {
   "cell_type": "code",
   "execution_count": 6,
   "metadata": {
    "execution": {
     "iopub.execute_input": "2024-07-30T21:10:08.963399Z",
     "iopub.status.busy": "2024-07-30T21:10:08.962978Z",
     "iopub.status.idle": "2024-07-30T21:10:08.967120Z",
     "shell.execute_reply": "2024-07-30T21:10:08.966646Z"
    }
   },
   "outputs": [],
   "source": [
    "def set_idomain(grid, boundary):\n",
    "    from flopy.utils.gridintersect import GridIntersect\n",
    "    from shapely.geometry import Polygon\n",
    "\n",
    "    ix = GridIntersect(grid, method=\"vertex\", rtree=True)\n",
    "    result = ix.intersect(Polygon(boundary))\n",
    "    idx = [coords for coords in result.cellids]\n",
    "    idx = np.array(idx, dtype=int)\n",
    "    nr = idx.shape[0]\n",
    "    if idx.ndim == 1:\n",
    "        idx = idx.reshape((nr, 1))\n",
    "    print(idx.shape, idx.ndim)\n",
    "    idx = tuple([idx[:, i] for i in range(idx.shape[1])])\n",
    "    # idx = (idx[:, 0], idx[:, 1])\n",
    "    idomain = np.zeros(grid.shape[1:], dtype=int)\n",
    "    idomain[idx] = 1\n",
    "    idomain = idomain.reshape(grid.shape)\n",
    "    grid.idomain = idomain"
   ]
  },
  {
   "cell_type": "markdown",
   "metadata": {},
   "source": [
    "### Regular MODFLOW Grid (DIS)"
   ]
  },
  {
   "cell_type": "code",
   "execution_count": 7,
   "metadata": {
    "execution": {
     "iopub.execute_input": "2024-07-30T21:10:08.969195Z",
     "iopub.status.busy": "2024-07-30T21:10:08.968859Z",
     "iopub.status.idle": "2024-07-30T21:10:08.985062Z",
     "shell.execute_reply": "2024-07-30T21:10:08.984562Z"
    }
   },
   "outputs": [
    {
     "name": "stdout",
     "output_type": "stream",
     "text": [
      "180000 100000 50 90\n"
     ]
    },
    {
     "ename": "NameError",
     "evalue": "name 'StructuredGrid' is not defined",
     "output_type": "error",
     "traceback": [
      "\u001b[0;31m---------------------------------------------------------------------------\u001b[0m",
      "\u001b[0;31mNameError\u001b[0m                                 Traceback (most recent call last)",
      "Cell \u001b[0;32mIn[7], line 10\u001b[0m\n\u001b[1;32m      8\u001b[0m delr \u001b[38;5;241m=\u001b[39m np\u001b[38;5;241m.\u001b[39marray(ncol \u001b[38;5;241m*\u001b[39m [dx])\n\u001b[1;32m      9\u001b[0m delc \u001b[38;5;241m=\u001b[39m np\u001b[38;5;241m.\u001b[39marray(nrow \u001b[38;5;241m*\u001b[39m [dy])\n\u001b[0;32m---> 10\u001b[0m regular_grid \u001b[38;5;241m=\u001b[39m \u001b[43mStructuredGrid\u001b[49m(nlay\u001b[38;5;241m=\u001b[39m\u001b[38;5;241m1\u001b[39m, delr\u001b[38;5;241m=\u001b[39mdelr, delc\u001b[38;5;241m=\u001b[39mdelc, xoff\u001b[38;5;241m=\u001b[39m\u001b[38;5;241m0.0\u001b[39m, yoff\u001b[38;5;241m=\u001b[39m\u001b[38;5;241m0.0\u001b[39m)\n\u001b[1;32m     12\u001b[0m set_idomain(regular_grid, boundary_polygon)\n\u001b[1;32m     14\u001b[0m fig \u001b[38;5;241m=\u001b[39m plt\u001b[38;5;241m.\u001b[39mfigure()\n",
      "\u001b[0;31mNameError\u001b[0m: name 'StructuredGrid' is not defined"
     ]
    }
   ],
   "source": [
    "# Create a regular MODFLOW grid\n",
    "Lx = 180000\n",
    "Ly = 100000\n",
    "dx = dy = 2000\n",
    "nrow = int(Ly / dy)\n",
    "ncol = int(Lx / dx)\n",
    "print(Lx, Ly, nrow, ncol)\n",
    "delr = np.array(ncol * [dx])\n",
    "delc = np.array(nrow * [dy])\n",
    "regular_grid = StructuredGrid(nlay=1, delr=delr, delc=delc, xoff=0.0, yoff=0.0)\n",
    "\n",
    "set_idomain(regular_grid, boundary_polygon)\n",
    "\n",
    "fig = plt.figure()\n",
    "ax = fig.add_subplot()\n",
    "pmv = flopy.plot.PlotMapView(modelgrid=regular_grid)\n",
    "ax.set_aspect(\"equal\")\n",
    "pmv.plot_grid()\n",
    "pmv.plot_inactive()\n",
    "# regular_grid.plot(ax=ax, )\n",
    "ax.plot(bp[:, 0], bp[:, 1], \"k-\")\n",
    "for sg in sgs:\n",
    "    sa = np.array(sg)\n",
    "    ax.plot(sa[:, 0], sa[:, 1], \"b-\")"
   ]
  },
  {
   "cell_type": "markdown",
   "metadata": {},
   "source": [
    "### Irregular Grid (DIS)"
   ]
  },
  {
   "cell_type": "code",
   "execution_count": 8,
   "metadata": {
    "execution": {
     "iopub.execute_input": "2024-07-30T21:10:08.987080Z",
     "iopub.status.busy": "2024-07-30T21:10:08.986739Z",
     "iopub.status.idle": "2024-07-30T21:10:09.003290Z",
     "shell.execute_reply": "2024-07-30T21:10:09.002800Z"
    }
   },
   "outputs": [
    {
     "ename": "NameError",
     "evalue": "name 'StructuredGrid' is not defined",
     "output_type": "error",
     "traceback": [
      "\u001b[0;31m---------------------------------------------------------------------------\u001b[0m",
      "\u001b[0;31mNameError\u001b[0m                                 Traceback (most recent call last)",
      "Cell \u001b[0;32mIn[8], line 17\u001b[0m\n\u001b[1;32m     15\u001b[0m delr \u001b[38;5;241m=\u001b[39m np\u001b[38;5;241m.\u001b[39marray(dx)\n\u001b[1;32m     16\u001b[0m delc \u001b[38;5;241m=\u001b[39m np\u001b[38;5;241m.\u001b[39marray(dy)\n\u001b[0;32m---> 17\u001b[0m irregular_grid \u001b[38;5;241m=\u001b[39m \u001b[43mStructuredGrid\u001b[49m(\n\u001b[1;32m     18\u001b[0m     nlay\u001b[38;5;241m=\u001b[39m\u001b[38;5;241m1\u001b[39m, delr\u001b[38;5;241m=\u001b[39mdelr, delc\u001b[38;5;241m=\u001b[39mdelc, xoff\u001b[38;5;241m=\u001b[39m\u001b[38;5;241m0.0\u001b[39m, yoff\u001b[38;5;241m=\u001b[39m\u001b[38;5;241m0.0\u001b[39m\n\u001b[1;32m     19\u001b[0m )\n\u001b[1;32m     20\u001b[0m set_idomain(irregular_grid, boundary_polygon)\n\u001b[1;32m     22\u001b[0m fig \u001b[38;5;241m=\u001b[39m plt\u001b[38;5;241m.\u001b[39mfigure()\n",
      "\u001b[0;31mNameError\u001b[0m: name 'StructuredGrid' is not defined"
     ]
    }
   ],
   "source": [
    "# Create an irregular MODFLOW grid\n",
    "Lx = 180000\n",
    "Ly = 100000\n",
    "dx = dy = 5000\n",
    "\n",
    "smooth = [5000 / 1.2**i for i in range(9)]\n",
    "smoothr = smooth.copy()\n",
    "smoothr.reverse()\n",
    "dx = 12 * [5000] + smooth + 12 * [1000] + smoothr + 12 * [5000]\n",
    "dy = 4 * [5000] + smooth + 12 * [1000] + smoothr + 4 * [5000]\n",
    "\n",
    "ncol = len(dx)\n",
    "nrow = len(dy)\n",
    "\n",
    "delr = np.array(dx)\n",
    "delc = np.array(dy)\n",
    "irregular_grid = StructuredGrid(\n",
    "    nlay=1, delr=delr, delc=delc, xoff=0.0, yoff=0.0\n",
    ")\n",
    "set_idomain(irregular_grid, boundary_polygon)\n",
    "\n",
    "fig = plt.figure()\n",
    "ax = fig.add_subplot()\n",
    "pmv = flopy.plot.PlotMapView(modelgrid=irregular_grid)\n",
    "ax.set_aspect(\"equal\")\n",
    "pmv.plot_grid()\n",
    "pmv.plot_inactive()\n",
    "ax.plot(bp[:, 0], bp[:, 1], \"k-\")\n",
    "for sg in sgs:\n",
    "    sa = np.array(sg)\n",
    "    ax.plot(sa[:, 0], sa[:, 1], \"b-\")"
   ]
  },
  {
   "cell_type": "markdown",
   "metadata": {},
   "source": [
    "### Nested grid - two regular grids (DIS)"
   ]
  },
  {
   "cell_type": "code",
   "execution_count": 9,
   "metadata": {
    "execution": {
     "iopub.execute_input": "2024-07-30T21:10:09.005286Z",
     "iopub.status.busy": "2024-07-30T21:10:09.004982Z",
     "iopub.status.idle": "2024-07-30T21:10:09.303996Z",
     "shell.execute_reply": "2024-07-30T21:10:09.303388Z"
    }
   },
   "outputs": [
    {
     "ename": "AttributeError",
     "evalue": "`np.float_` was removed in the NumPy 2.0 release. Use `np.float64` instead.",
     "output_type": "error",
     "traceback": [
      "\u001b[0;31m---------------------------------------------------------------------------\u001b[0m",
      "\u001b[0;31mAttributeError\u001b[0m                            Traceback (most recent call last)",
      "Cell \u001b[0;32mIn[9], line 2\u001b[0m\n\u001b[1;32m      1\u001b[0m \u001b[38;5;66;03m# nested grid\u001b[39;00m\n\u001b[0;32m----> 2\u001b[0m \u001b[38;5;28;01mfrom\u001b[39;00m \u001b[38;5;21;01mflopy\u001b[39;00m\u001b[38;5;21;01m.\u001b[39;00m\u001b[38;5;21;01mutils\u001b[39;00m\u001b[38;5;21;01m.\u001b[39;00m\u001b[38;5;21;01mlgrutil\u001b[39;00m \u001b[38;5;28;01mimport\u001b[39;00m Lgr\n\u001b[1;32m      4\u001b[0m \u001b[38;5;66;03m# define parent grid information\u001b[39;00m\n\u001b[1;32m      5\u001b[0m nlayp \u001b[38;5;241m=\u001b[39m \u001b[38;5;241m1\u001b[39m\n",
      "File \u001b[0;32m~/micromamba/envs/pyclass-docs/lib/python3.11/site-packages/flopy/__init__.py:26\u001b[0m\n\u001b[1;32m     23\u001b[0m __author__ \u001b[38;5;241m=\u001b[39m \u001b[38;5;124m\"\u001b[39m\u001b[38;5;124mFloPy Team\u001b[39m\u001b[38;5;124m\"\u001b[39m\n\u001b[1;32m     25\u001b[0m \u001b[38;5;28;01mfrom\u001b[39;00m \u001b[38;5;21;01m.\u001b[39;00m\u001b[38;5;21;01mversion\u001b[39;00m \u001b[38;5;28;01mimport\u001b[39;00m __version__  \u001b[38;5;66;03m# isort:skip\u001b[39;00m\n\u001b[0;32m---> 26\u001b[0m \u001b[38;5;28;01mfrom\u001b[39;00m \u001b[38;5;21;01m.\u001b[39;00m \u001b[38;5;28;01mimport\u001b[39;00m (\n\u001b[1;32m     27\u001b[0m     discretization,\n\u001b[1;32m     28\u001b[0m     export,\n\u001b[1;32m     29\u001b[0m     mf6,\n\u001b[1;32m     30\u001b[0m     mfusg,\n\u001b[1;32m     31\u001b[0m     modflow,\n\u001b[1;32m     32\u001b[0m     modflowlgr,\n\u001b[1;32m     33\u001b[0m     modpath,\n\u001b[1;32m     34\u001b[0m     mt3d,\n\u001b[1;32m     35\u001b[0m     pest,\n\u001b[1;32m     36\u001b[0m     plot,\n\u001b[1;32m     37\u001b[0m     seawat,\n\u001b[1;32m     38\u001b[0m     utils,\n\u001b[1;32m     39\u001b[0m )\n\u001b[1;32m     40\u001b[0m \u001b[38;5;28;01mfrom\u001b[39;00m \u001b[38;5;21;01m.\u001b[39;00m\u001b[38;5;21;01mmbase\u001b[39;00m \u001b[38;5;28;01mimport\u001b[39;00m run_model, which\n\u001b[1;32m     42\u001b[0m __all__ \u001b[38;5;241m=\u001b[39m [\n\u001b[1;32m     43\u001b[0m     \u001b[38;5;124m\"\u001b[39m\u001b[38;5;124m__author__\u001b[39m\u001b[38;5;124m\"\u001b[39m,\n\u001b[1;32m     44\u001b[0m     \u001b[38;5;124m\"\u001b[39m\u001b[38;5;124m__version__\u001b[39m\u001b[38;5;124m\"\u001b[39m,\n\u001b[0;32m   (...)\u001b[0m\n\u001b[1;32m     58\u001b[0m     \u001b[38;5;124m\"\u001b[39m\u001b[38;5;124mwhich\u001b[39m\u001b[38;5;124m\"\u001b[39m,\n\u001b[1;32m     59\u001b[0m ]\n",
      "File \u001b[0;32m~/micromamba/envs/pyclass-docs/lib/python3.11/site-packages/flopy/discretization/__init__.py:1\u001b[0m\n\u001b[0;32m----> 1\u001b[0m \u001b[38;5;28;01mfrom\u001b[39;00m \u001b[38;5;21;01m.\u001b[39;00m\u001b[38;5;21;01mstructuredgrid\u001b[39;00m \u001b[38;5;28;01mimport\u001b[39;00m StructuredGrid\n\u001b[1;32m      2\u001b[0m \u001b[38;5;28;01mfrom\u001b[39;00m \u001b[38;5;21;01m.\u001b[39;00m\u001b[38;5;21;01munstructuredgrid\u001b[39;00m \u001b[38;5;28;01mimport\u001b[39;00m UnstructuredGrid\n\u001b[1;32m      3\u001b[0m \u001b[38;5;28;01mfrom\u001b[39;00m \u001b[38;5;21;01m.\u001b[39;00m\u001b[38;5;21;01mvertexgrid\u001b[39;00m \u001b[38;5;28;01mimport\u001b[39;00m VertexGrid\n",
      "File \u001b[0;32m~/micromamba/envs/pyclass-docs/lib/python3.11/site-packages/flopy/discretization/structuredgrid.py:7\u001b[0m\n\u001b[1;32m      3\u001b[0m \u001b[38;5;28;01mfrom\u001b[39;00m \u001b[38;5;21;01mtyping\u001b[39;00m \u001b[38;5;28;01mimport\u001b[39;00m Union\n\u001b[1;32m      5\u001b[0m \u001b[38;5;28;01mimport\u001b[39;00m \u001b[38;5;21;01mnumpy\u001b[39;00m \u001b[38;5;28;01mas\u001b[39;00m \u001b[38;5;21;01mnp\u001b[39;00m\n\u001b[0;32m----> 7\u001b[0m \u001b[38;5;28;01mfrom\u001b[39;00m \u001b[38;5;21;01m.\u001b[39;00m\u001b[38;5;21;01mgrid\u001b[39;00m \u001b[38;5;28;01mimport\u001b[39;00m CachedData, Grid\n\u001b[1;32m     10\u001b[0m \u001b[38;5;28;01mdef\u001b[39;00m \u001b[38;5;21marray_at_verts_basic2d\u001b[39m(a):\n\u001b[1;32m     11\u001b[0m \u001b[38;5;250m    \u001b[39m\u001b[38;5;124;03m\"\"\"\u001b[39;00m\n\u001b[1;32m     12\u001b[0m \u001b[38;5;124;03m    Computes values at cell vertices on 2d array using neighbor averaging.\u001b[39;00m\n\u001b[1;32m     13\u001b[0m \n\u001b[0;32m   (...)\u001b[0m\n\u001b[1;32m     22\u001b[0m \u001b[38;5;124;03m        Array values at cell vertices, shape (a.shape[0]+1, a.shape[1]+1).\u001b[39;00m\n\u001b[1;32m     23\u001b[0m \u001b[38;5;124;03m    \"\"\"\u001b[39;00m\n",
      "File \u001b[0;32m~/micromamba/envs/pyclass-docs/lib/python3.11/site-packages/flopy/discretization/grid.py:16\u001b[0m\n\u001b[1;32m     13\u001b[0m \u001b[38;5;28;01mexcept\u001b[39;00m \u001b[38;5;167;01mImportError\u001b[39;00m:\n\u001b[1;32m     14\u001b[0m     HAS_PYPROJ \u001b[38;5;241m=\u001b[39m \u001b[38;5;28;01mFalse\u001b[39;00m\n\u001b[0;32m---> 16\u001b[0m \u001b[38;5;28;01mfrom\u001b[39;00m \u001b[38;5;21;01m.\u001b[39;00m\u001b[38;5;21;01m.\u001b[39;00m\u001b[38;5;21;01mutils\u001b[39;00m \u001b[38;5;28;01mimport\u001b[39;00m geometry\n\u001b[1;32m     17\u001b[0m \u001b[38;5;28;01mfrom\u001b[39;00m \u001b[38;5;21;01m.\u001b[39;00m\u001b[38;5;21;01m.\u001b[39;00m\u001b[38;5;21;01mutils\u001b[39;00m\u001b[38;5;21;01m.\u001b[39;00m\u001b[38;5;21;01mcrs\u001b[39;00m \u001b[38;5;28;01mimport\u001b[39;00m get_crs\n\u001b[1;32m     18\u001b[0m \u001b[38;5;28;01mfrom\u001b[39;00m \u001b[38;5;21;01m.\u001b[39;00m\u001b[38;5;21;01m.\u001b[39;00m\u001b[38;5;21;01mutils\u001b[39;00m\u001b[38;5;21;01m.\u001b[39;00m\u001b[38;5;21;01mgridutil\u001b[39;00m \u001b[38;5;28;01mimport\u001b[39;00m get_lni\n",
      "File \u001b[0;32m~/micromamba/envs/pyclass-docs/lib/python3.11/site-packages/flopy/utils/__init__.py:51\u001b[0m\n\u001b[1;32m     49\u001b[0m \u001b[38;5;28;01mfrom\u001b[39;00m \u001b[38;5;21;01m.\u001b[39;00m\u001b[38;5;21;01moptionblock\u001b[39;00m \u001b[38;5;28;01mimport\u001b[39;00m OptionBlock\n\u001b[1;32m     50\u001b[0m \u001b[38;5;28;01mfrom\u001b[39;00m \u001b[38;5;21;01m.\u001b[39;00m\u001b[38;5;21;01mpostprocessing\u001b[39;00m \u001b[38;5;28;01mimport\u001b[39;00m get_specific_discharge, get_transmissivities\n\u001b[0;32m---> 51\u001b[0m \u001b[38;5;28;01mfrom\u001b[39;00m \u001b[38;5;21;01m.\u001b[39;00m\u001b[38;5;21;01mrasters\u001b[39;00m \u001b[38;5;28;01mimport\u001b[39;00m Raster\n\u001b[1;32m     52\u001b[0m \u001b[38;5;28;01mfrom\u001b[39;00m \u001b[38;5;21;01m.\u001b[39;00m\u001b[38;5;21;01mrecarray_utils\u001b[39;00m \u001b[38;5;28;01mimport\u001b[39;00m create_empty_recarray, ra_slice, recarray\n\u001b[1;32m     53\u001b[0m \u001b[38;5;28;01mfrom\u001b[39;00m \u001b[38;5;21;01m.\u001b[39;00m\u001b[38;5;21;01mreference\u001b[39;00m \u001b[38;5;28;01mimport\u001b[39;00m TemporalReference\n",
      "File \u001b[0;32m~/micromamba/envs/pyclass-docs/lib/python3.11/site-packages/flopy/utils/rasters.py:13\u001b[0m\n\u001b[1;32m      8\u001b[0m \u001b[38;5;28;01mfrom\u001b[39;00m \u001b[38;5;21;01m.\u001b[39;00m\u001b[38;5;21;01mutl_import\u001b[39;00m \u001b[38;5;28;01mimport\u001b[39;00m import_optional_dependency\n\u001b[1;32m     10\u001b[0m warnings\u001b[38;5;241m.\u001b[39msimplefilter(\u001b[38;5;124m\"\u001b[39m\u001b[38;5;124malways\u001b[39m\u001b[38;5;124m\"\u001b[39m, \u001b[38;5;167;01mDeprecationWarning\u001b[39;00m)\n\u001b[0;32m---> 13\u001b[0m \u001b[38;5;28;43;01mclass\u001b[39;49;00m\u001b[43m \u001b[49m\u001b[38;5;21;43;01mRaster\u001b[39;49;00m\u001b[43m:\u001b[49m\n\u001b[1;32m     14\u001b[0m \u001b[38;5;250;43m    \u001b[39;49m\u001b[38;5;124;43;03m\"\"\"\u001b[39;49;00m\n\u001b[1;32m     15\u001b[0m \u001b[38;5;124;43;03m    The Raster object is used for cropping, sampling raster values,\u001b[39;49;00m\n\u001b[1;32m     16\u001b[0m \u001b[38;5;124;43;03m    and re-sampling raster values to grids, and provides methods to\u001b[39;49;00m\n\u001b[0;32m   (...)\u001b[0m\n\u001b[1;32m     45\u001b[0m \n\u001b[1;32m     46\u001b[0m \u001b[38;5;124;43;03m    \"\"\"\u001b[39;49;00m\n\u001b[1;32m     48\u001b[0m \u001b[43m    \u001b[49m\u001b[43mFLOAT32\u001b[49m\u001b[43m \u001b[49m\u001b[38;5;241;43m=\u001b[39;49m\u001b[43m \u001b[49m\u001b[43m(\u001b[49m\u001b[38;5;28;43mfloat\u001b[39;49m\u001b[43m,\u001b[49m\u001b[43m \u001b[49m\u001b[43mnp\u001b[49m\u001b[38;5;241;43m.\u001b[39;49m\u001b[43mfloat32\u001b[49m\u001b[43m,\u001b[49m\u001b[43m \u001b[49m\u001b[43mnp\u001b[49m\u001b[38;5;241;43m.\u001b[39;49m\u001b[43mfloat_\u001b[49m\u001b[43m)\u001b[49m\n",
      "File \u001b[0;32m~/micromamba/envs/pyclass-docs/lib/python3.11/site-packages/flopy/utils/rasters.py:48\u001b[0m, in \u001b[0;36mRaster\u001b[0;34m()\u001b[0m\n\u001b[1;32m     13\u001b[0m \u001b[38;5;28;01mclass\u001b[39;00m \u001b[38;5;21;01mRaster\u001b[39;00m:\n\u001b[1;32m     14\u001b[0m \u001b[38;5;250m    \u001b[39m\u001b[38;5;124;03m\"\"\"\u001b[39;00m\n\u001b[1;32m     15\u001b[0m \u001b[38;5;124;03m    The Raster object is used for cropping, sampling raster values,\u001b[39;00m\n\u001b[1;32m     16\u001b[0m \u001b[38;5;124;03m    and re-sampling raster values to grids, and provides methods to\u001b[39;00m\n\u001b[0;32m   (...)\u001b[0m\n\u001b[1;32m     45\u001b[0m \n\u001b[1;32m     46\u001b[0m \u001b[38;5;124;03m    \"\"\"\u001b[39;00m\n\u001b[0;32m---> 48\u001b[0m     FLOAT32 \u001b[38;5;241m=\u001b[39m (\u001b[38;5;28mfloat\u001b[39m, np\u001b[38;5;241m.\u001b[39mfloat32, \u001b[43mnp\u001b[49m\u001b[38;5;241;43m.\u001b[39;49m\u001b[43mfloat_\u001b[49m)\n\u001b[1;32m     49\u001b[0m     FLOAT64 \u001b[38;5;241m=\u001b[39m (np\u001b[38;5;241m.\u001b[39mfloat64,)\n\u001b[1;32m     50\u001b[0m     INT8 \u001b[38;5;241m=\u001b[39m (np\u001b[38;5;241m.\u001b[39mint8, np\u001b[38;5;241m.\u001b[39muint8)\n",
      "File \u001b[0;32m~/micromamba/envs/pyclass-docs/lib/python3.11/site-packages/numpy/__init__.py:397\u001b[0m, in \u001b[0;36m__getattr__\u001b[0;34m(attr)\u001b[0m\n\u001b[1;32m    394\u001b[0m     \u001b[38;5;28;01mraise\u001b[39;00m \u001b[38;5;167;01mAttributeError\u001b[39;00m(__former_attrs__[attr])\n\u001b[1;32m    396\u001b[0m \u001b[38;5;28;01mif\u001b[39;00m attr \u001b[38;5;129;01min\u001b[39;00m __expired_attributes__:\n\u001b[0;32m--> 397\u001b[0m     \u001b[38;5;28;01mraise\u001b[39;00m \u001b[38;5;167;01mAttributeError\u001b[39;00m(\n\u001b[1;32m    398\u001b[0m         \u001b[38;5;124mf\u001b[39m\u001b[38;5;124m\"\u001b[39m\u001b[38;5;124m`np.\u001b[39m\u001b[38;5;132;01m{\u001b[39;00mattr\u001b[38;5;132;01m}\u001b[39;00m\u001b[38;5;124m` was removed in the NumPy 2.0 release. \u001b[39m\u001b[38;5;124m\"\u001b[39m\n\u001b[1;32m    399\u001b[0m         \u001b[38;5;124mf\u001b[39m\u001b[38;5;124m\"\u001b[39m\u001b[38;5;132;01m{\u001b[39;00m__expired_attributes__[attr]\u001b[38;5;132;01m}\u001b[39;00m\u001b[38;5;124m\"\u001b[39m\n\u001b[1;32m    400\u001b[0m     )\n\u001b[1;32m    402\u001b[0m \u001b[38;5;28;01mif\u001b[39;00m attr \u001b[38;5;241m==\u001b[39m \u001b[38;5;124m\"\u001b[39m\u001b[38;5;124mchararray\u001b[39m\u001b[38;5;124m\"\u001b[39m:\n\u001b[1;32m    403\u001b[0m     warnings\u001b[38;5;241m.\u001b[39mwarn(\n\u001b[1;32m    404\u001b[0m         \u001b[38;5;124m\"\u001b[39m\u001b[38;5;124m`np.chararray` is deprecated and will be removed from \u001b[39m\u001b[38;5;124m\"\u001b[39m\n\u001b[1;32m    405\u001b[0m         \u001b[38;5;124m\"\u001b[39m\u001b[38;5;124mthe main namespace in the future. Use an array with a string \u001b[39m\u001b[38;5;124m\"\u001b[39m\n\u001b[1;32m    406\u001b[0m         \u001b[38;5;124m\"\u001b[39m\u001b[38;5;124mor bytes dtype instead.\u001b[39m\u001b[38;5;124m\"\u001b[39m, \u001b[38;5;167;01mDeprecationWarning\u001b[39;00m, stacklevel\u001b[38;5;241m=\u001b[39m\u001b[38;5;241m2\u001b[39m)\n",
      "\u001b[0;31mAttributeError\u001b[0m: `np.float_` was removed in the NumPy 2.0 release. Use `np.float64` instead."
     ]
    }
   ],
   "source": [
    "# nested grid\n",
    "from flopy.utils.lgrutil import Lgr\n",
    "\n",
    "# define parent grid information\n",
    "nlayp = 1\n",
    "dx = 5000\n",
    "nrowp = int(Ly / dx)\n",
    "ncolp = int(Lx / dx)\n",
    "delrp = dx\n",
    "delcp = dx\n",
    "topp = 1.0\n",
    "botmp = [0.0]\n",
    "idomainp = np.ones((nlayp, nrowp, ncolp), dtype=int)\n",
    "idomainp[0, 8:12, 13:18] = 0\n",
    "\n",
    "# define child grid resolution parameters\n",
    "ncpp = 3\n",
    "ncppl = [1]\n",
    "\n",
    "lgr = Lgr(\n",
    "    nlayp,\n",
    "    nrowp,\n",
    "    ncolp,\n",
    "    delrp,\n",
    "    delcp,\n",
    "    topp,\n",
    "    botmp,\n",
    "    idomainp,\n",
    "    ncpp=ncpp,\n",
    "    ncppl=ncppl,\n",
    "    xllp=0.0,\n",
    "    yllp=0.0,\n",
    ")\n",
    "\n",
    "delr = np.array(ncolp * [dx])\n",
    "delc = np.array(nrowp * [dx])\n",
    "regular_gridp = StructuredGrid(nlay=1, delr=delr, delc=delc, idomain=idomainp)\n",
    "set_idomain(regular_gridp, boundary_polygon)\n",
    "\n",
    "delr, delc = lgr.get_delr_delc()\n",
    "xoff, yoff = lgr.get_lower_left()\n",
    "regular_gridc = StructuredGrid(\n",
    "    delr=delr, delc=delc, xoff=xoff, yoff=yoff, idomain=idomainp\n",
    ")\n",
    "\n",
    "nested_grid = [regular_gridp, regular_gridc]\n",
    "\n",
    "fig = plt.figure()\n",
    "ax = fig.add_subplot()\n",
    "pmv = flopy.plot.PlotMapView(modelgrid=regular_gridp)\n",
    "pmv.plot_inactive()\n",
    "ax.set_aspect(\"equal\")\n",
    "regular_gridc.plot(ax=ax)\n",
    "pmv.plot_grid()\n",
    "\n",
    "# regular_gridp.plot(ax=ax)\n",
    "\n",
    "ax.plot(bp[:, 0], bp[:, 1], \"k-\")\n",
    "for sg in sgs:\n",
    "    sa = np.array(sg)\n",
    "    ax.plot(sa[:, 0], sa[:, 1], \"b-\")"
   ]
  },
  {
   "cell_type": "markdown",
   "metadata": {},
   "source": []
  },
  {
   "cell_type": "markdown",
   "metadata": {},
   "source": [
    "## FloPy `VertexGrid`\n",
    "\n",
    "### Quadtree Grid (DISV)"
   ]
  },
  {
   "cell_type": "code",
   "execution_count": 10,
   "metadata": {
    "execution": {
     "iopub.execute_input": "2024-07-30T21:10:09.305995Z",
     "iopub.status.busy": "2024-07-30T21:10:09.305834Z",
     "iopub.status.idle": "2024-07-30T21:10:09.323094Z",
     "shell.execute_reply": "2024-07-30T21:10:09.322580Z"
    }
   },
   "outputs": [
    {
     "ename": "NameError",
     "evalue": "name 'flopy' is not defined",
     "output_type": "error",
     "traceback": [
      "\u001b[0;31m---------------------------------------------------------------------------\u001b[0m",
      "\u001b[0;31mNameError\u001b[0m                                 Traceback (most recent call last)",
      "Cell \u001b[0;32mIn[10], line 2\u001b[0m\n\u001b[1;32m      1\u001b[0m \u001b[38;5;66;03m# quadtree grid\u001b[39;00m\n\u001b[0;32m----> 2\u001b[0m sim \u001b[38;5;241m=\u001b[39m \u001b[43mflopy\u001b[49m\u001b[38;5;241m.\u001b[39mmf6\u001b[38;5;241m.\u001b[39mMFSimulation()\n\u001b[1;32m      3\u001b[0m gwf \u001b[38;5;241m=\u001b[39m flopy\u001b[38;5;241m.\u001b[39mmf6\u001b[38;5;241m.\u001b[39mModflowGwf(sim)\n\u001b[1;32m      4\u001b[0m dx \u001b[38;5;241m=\u001b[39m dy \u001b[38;5;241m=\u001b[39m \u001b[38;5;241m5000.0\u001b[39m\n",
      "\u001b[0;31mNameError\u001b[0m: name 'flopy' is not defined"
     ]
    }
   ],
   "source": [
    "# quadtree grid\n",
    "sim = flopy.mf6.MFSimulation()\n",
    "gwf = flopy.mf6.ModflowGwf(sim)\n",
    "dx = dy = 5000.0\n",
    "nr = int(Ly / dy)\n",
    "nc = int(Lx / dx)\n",
    "dis6 = flopy.mf6.ModflowGwfdis(\n",
    "    gwf,\n",
    "    nrow=nr,\n",
    "    ncol=nc,\n",
    "    delr=dy,\n",
    "    delc=dx,\n",
    ")\n",
    "\n",
    "# Create gridgen object, add refinement features, and build grid\n",
    "g = Gridgen(gwf.modelgrid, model_ws=temp_path)\n",
    "refine_line = sgs\n",
    "g.add_refinement_features(refine_line, \"line\", 2, range(1))\n",
    "g.build(verbose=False)\n",
    "\n",
    "gridprops_vg = g.get_gridprops_vertexgrid()\n",
    "quadtree_grid = flopy.discretization.VertexGrid(**gridprops_vg)\n",
    "set_idomain(quadtree_grid, boundary_polygon)\n",
    "\n",
    "fig = plt.figure()\n",
    "ax = fig.add_subplot()\n",
    "pmv = flopy.plot.PlotMapView(modelgrid=quadtree_grid)\n",
    "pmv.plot_grid()\n",
    "pmv.plot_inactive()\n",
    "ax.set_aspect(\"equal\")\n",
    "\n",
    "ax.plot(bp[:, 0], bp[:, 1], \"k-\")\n",
    "for sg in sgs:\n",
    "    sa = np.array(sg)\n",
    "    ax.plot(sa[:, 0], sa[:, 1], \"b-\")"
   ]
  },
  {
   "cell_type": "markdown",
   "metadata": {},
   "source": [
    "### Triangular grid (DISV)"
   ]
  },
  {
   "cell_type": "code",
   "execution_count": 11,
   "metadata": {
    "execution": {
     "iopub.execute_input": "2024-07-30T21:10:09.325085Z",
     "iopub.status.busy": "2024-07-30T21:10:09.324696Z",
     "iopub.status.idle": "2024-07-30T21:10:09.345954Z",
     "shell.execute_reply": "2024-07-30T21:10:09.345469Z"
    }
   },
   "outputs": [
    {
     "ename": "NameError",
     "evalue": "name 'Triangle' is not defined",
     "output_type": "error",
     "traceback": [
      "\u001b[0;31m---------------------------------------------------------------------------\u001b[0m",
      "\u001b[0;31mNameError\u001b[0m                                 Traceback (most recent call last)",
      "Cell \u001b[0;32mIn[11], line 11\u001b[0m\n\u001b[1;32m      8\u001b[0m nodes \u001b[38;5;241m=\u001b[39m np\u001b[38;5;241m.\u001b[39marray(nodes)\n\u001b[1;32m     10\u001b[0m \u001b[38;5;66;03m# Use the flopy Triangle class to build a triangular mesh\u001b[39;00m\n\u001b[0;32m---> 11\u001b[0m tri \u001b[38;5;241m=\u001b[39m \u001b[43mTriangle\u001b[49m(angle\u001b[38;5;241m=\u001b[39m\u001b[38;5;241m30\u001b[39m, maximum_area\u001b[38;5;241m=\u001b[39mmaximum_area, nodes\u001b[38;5;241m=\u001b[39mnodes, model_ws\u001b[38;5;241m=\u001b[39mtemp_path)\n\u001b[1;32m     12\u001b[0m poly \u001b[38;5;241m=\u001b[39m bp\n\u001b[1;32m     13\u001b[0m tri\u001b[38;5;241m.\u001b[39madd_polygon(poly)\n",
      "\u001b[0;31mNameError\u001b[0m: name 'Triangle' is not defined"
     ]
    }
   ],
   "source": [
    "# Set maximum cell area\n",
    "maximum_area = 5000 * 5000\n",
    "\n",
    "nodes = []\n",
    "for sg in sgs:\n",
    "    sg_densify = basin.densify_geometry(sg, 2000)\n",
    "    nodes += sg_densify\n",
    "nodes = np.array(nodes)\n",
    "\n",
    "# Use the flopy Triangle class to build a triangular mesh\n",
    "tri = Triangle(angle=30, maximum_area=maximum_area, nodes=nodes, model_ws=temp_path)\n",
    "poly = bp\n",
    "tri.add_polygon(poly)\n",
    "tri.build(verbose=False)\n",
    "\n",
    "# Create a flopy VertexGrid\n",
    "cell2d = tri.get_cell2d()\n",
    "vertices = tri.get_vertices()\n",
    "idomain = np.ones((1, tri.ncpl), dtype=int)\n",
    "triangular_grid = VertexGrid(vertices=vertices, cell2d=cell2d, idomain=idomain)\n",
    "\n",
    "fig = plt.figure()\n",
    "ax = fig.add_subplot()\n",
    "ax.set_aspect(\"equal\")\n",
    "triangular_grid.plot(ax=ax)\n",
    "\n",
    "if False:\n",
    "    ax.plot(bp[:, 0], bp[:, 1], \"k-\")\n",
    "    for sg in sgs:\n",
    "        sa = np.array(sg)\n",
    "        ax.plot(sa[:, 0], sa[:, 1], \"b-\")"
   ]
  },
  {
   "cell_type": "markdown",
   "metadata": {},
   "source": [
    "### Voronoi Grid (DISV)"
   ]
  },
  {
   "cell_type": "code",
   "execution_count": 12,
   "metadata": {
    "execution": {
     "iopub.execute_input": "2024-07-30T21:10:09.347943Z",
     "iopub.status.busy": "2024-07-30T21:10:09.347684Z",
     "iopub.status.idle": "2024-07-30T21:10:09.368583Z",
     "shell.execute_reply": "2024-07-30T21:10:09.368097Z"
    }
   },
   "outputs": [
    {
     "ename": "NameError",
     "evalue": "name 'Triangle' is not defined",
     "output_type": "error",
     "traceback": [
      "\u001b[0;31m---------------------------------------------------------------------------\u001b[0m",
      "\u001b[0;31mNameError\u001b[0m                                 Traceback (most recent call last)",
      "Cell \u001b[0;32mIn[12], line 10\u001b[0m\n\u001b[1;32m      7\u001b[0m nodes \u001b[38;5;241m=\u001b[39m np\u001b[38;5;241m.\u001b[39marray(nodes)\n\u001b[1;32m      9\u001b[0m \u001b[38;5;66;03m# Use the flopy Triangle class to build a triangular mesh\u001b[39;00m\n\u001b[0;32m---> 10\u001b[0m tri \u001b[38;5;241m=\u001b[39m \u001b[43mTriangle\u001b[49m(angle\u001b[38;5;241m=\u001b[39m\u001b[38;5;241m30\u001b[39m, maximum_area\u001b[38;5;241m=\u001b[39mmaximum_area \u001b[38;5;241m/\u001b[39m \u001b[38;5;241m1\u001b[39m, nodes\u001b[38;5;241m=\u001b[39mnodes, model_ws\u001b[38;5;241m=\u001b[39mtemp_path)\n\u001b[1;32m     11\u001b[0m poly \u001b[38;5;241m=\u001b[39m bp\n\u001b[1;32m     12\u001b[0m tri\u001b[38;5;241m.\u001b[39madd_polygon(poly)\n",
      "\u001b[0;31mNameError\u001b[0m: name 'Triangle' is not defined"
     ]
    }
   ],
   "source": [
    "maximum_area = 5000 * 5000\n",
    "\n",
    "nodes = []\n",
    "for sg in sgs:\n",
    "    sg_densify = basin.densify_geometry(sg, 2000)\n",
    "    nodes += sg_densify\n",
    "nodes = np.array(nodes)\n",
    "\n",
    "# Use the flopy Triangle class to build a triangular mesh\n",
    "tri = Triangle(angle=30, maximum_area=maximum_area / 1, nodes=nodes, model_ws=temp_path)\n",
    "poly = bp\n",
    "tri.add_polygon(poly)\n",
    "tri.build(verbose=False)\n",
    "\n",
    "# Create the flopy Voronoi grid object and the flopy VertexGrid\n",
    "vor = VoronoiGrid(tri)\n",
    "gridprops = vor.get_gridprops_vertexgrid()\n",
    "idomain = np.ones((1, vor.ncpl), dtype=int)\n",
    "voronoi_grid = VertexGrid(**gridprops, nlay=1, idomain=idomain)\n",
    "\n",
    "fig = plt.figure()\n",
    "ax = fig.add_subplot()\n",
    "ax.set_aspect(\"equal\")\n",
    "voronoi_grid.plot(ax=ax)"
   ]
  },
  {
   "cell_type": "code",
   "execution_count": null,
   "metadata": {},
   "outputs": [],
   "source": []
  }
 ],
 "metadata": {
  "kernelspec": {
   "display_name": "Python 3 (ipykernel)",
   "language": "python",
   "name": "python3"
  },
  "language_info": {
   "codemirror_mode": {
    "name": "ipython",
    "version": 3
   },
   "file_extension": ".py",
   "mimetype": "text/x-python",
   "name": "python",
   "nbconvert_exporter": "python",
   "pygments_lexer": "ipython3",
   "version": "3.11.9"
  }
 },
 "nbformat": 4,
 "nbformat_minor": 4
}
