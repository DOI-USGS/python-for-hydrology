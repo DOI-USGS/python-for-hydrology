{
 "cells": [
  {
   "cell_type": "code",
   "execution_count": null,
   "id": "fc15635f-e887-417c-a9b6-583f1d0c758e",
   "metadata": {},
   "outputs": [],
   "source": [
    "import numpy as np\n",
    "import matplotlib.pyplot as plt\n",
    "import geopandas as gpd\n",
    "import shapely\n",
    "import shapefile\n",
    "import flopy\n",
    "from flopy.utils.gridgen import Gridgen\n",
    "from flopy.discretization import StructuredGrid, VertexGrid\n",
    "from flopy.utils.triangle import Triangle as Triangle\n",
    "from flopy.utils.voronoi import VoronoiGrid\n",
    "from flopy.utils.gridintersect import GridIntersect"
   ]
  },
  {
   "cell_type": "code",
   "execution_count": null,
   "id": "f55b0c73-ec82-4654-ac95-d840845c6a80",
   "metadata": {},
   "outputs": [],
   "source": [
    "model_ws = \"../temp/structured/\""
   ]
  },
  {
   "cell_type": "markdown",
   "id": "ff71738e-4c13-40f1-88e2-ac42cf408c5a",
   "metadata": {},
   "source": [
    "Load a few raster files"
   ]
  },
  {
   "cell_type": "code",
   "execution_count": null,
   "id": "c1f45d54-e585-4b6f-aa44-8db54d57b68c",
   "metadata": {},
   "outputs": [],
   "source": [
    "bottom = flopy.utils.Raster.load(\"../data_project/aquifer_bottom.asc\")\n",
    "top = flopy.utils.Raster.load(\"../data_project/aquifer_top.asc\")\n",
    "kaq = flopy.utils.Raster.load(\"../data_project/aquifer_k.asc\")"
   ]
  },
  {
   "cell_type": "markdown",
   "id": "d27b2059-7d15-48be-89e4-5ea3a0a4f246",
   "metadata": {},
   "source": [
    "Load a few shapefiles with geopandas"
   ]
  },
  {
   "cell_type": "code",
   "execution_count": null,
   "id": "a056df43-3d04-41c4-9e6d-641fd118f331",
   "metadata": {},
   "outputs": [],
   "source": [
    "river = gpd.read_file(\"../data_project/Flowline_river.shp\")\n",
    "inactive = gpd.read_file(\"../data_project/inactive_area.shp\")\n",
    "active = gpd.read_file(\"../data_project/active_area.shp\")\n",
    "wells = gpd.read_file(\"../data_project/pumping_well_locations.shp\")"
   ]
  },
  {
   "cell_type": "markdown",
   "id": "4ec28213-31e6-45f4-9899-56772618afb5",
   "metadata": {},
   "source": [
    "Plot the shapefiles with geopandas"
   ]
  },
  {
   "cell_type": "code",
   "execution_count": null,
   "id": "802e1ec8-04c4-42c6-905d-e28ec06d3515",
   "metadata": {},
   "outputs": [],
   "source": [
    "ax = river.plot(color=\"cyan\")\n",
    "active.plot(ax=ax, color=\"blue\")\n",
    "inactive.plot(ax=ax, color=\"white\")\n",
    "wells.plot(ax=ax, color=\"red\", markersize=8);"
   ]
  },
  {
   "cell_type": "markdown",
   "id": "649393e3-e455-41ee-968d-8131c0057a79",
   "metadata": {},
   "source": [
    "#### Make a structured model grid"
   ]
  },
  {
   "cell_type": "code",
   "execution_count": null,
   "id": "99fee6a1-dba6-4c47-9239-f0b2c0e81e04",
   "metadata": {},
   "outputs": [],
   "source": [
    "nlay, nrow, ncol = 3, 160, 80\n",
    "shape2d, shape3d = (nrow, ncol), (nlay, nrow, ncol)\n",
    "xlen, ylen = 5000.0, 10000.0\n",
    "delr = np.full(ncol, xlen / ncol, dtype=float)\n",
    "delc = np.full(nrow, ylen / nrow, dtype=float)\n",
    "ttop = np.full(shape2d, 1.0, dtype=float)\n",
    "tbotm = np.full(shape3d, 0.0, dtype=float)"
   ]
  },
  {
   "cell_type": "code",
   "execution_count": null,
   "id": "a44240d6-b0f0-4436-bd2d-fbba92d6dd7e",
   "metadata": {},
   "outputs": [],
   "source": [
    "base_grid = StructuredGrid(\n",
    "    delc=delc, delr=delr, nlay=1, nrow=nrow, ncol=ncol, \n",
    "    top=ttop, botm=tbotm\n",
    ")"
   ]
  },
  {
   "cell_type": "markdown",
   "id": "87e67c65-3a48-4489-b284-8a535c195c8a",
   "metadata": {},
   "source": [
    "### Intersect the modelgrid with the shapefiles\n",
    "\n",
    "#### Create an intersection object"
   ]
  },
  {
   "cell_type": "code",
   "execution_count": null,
   "id": "9eb9a7bd-02f1-4966-b522-4bdbabeb0d40",
   "metadata": {},
   "outputs": [],
   "source": [
    "ix = GridIntersect(base_grid, method=\"vertex\", rtree=True)"
   ]
  },
  {
   "cell_type": "markdown",
   "id": "ed099929-5257-4c83-93da-337aecfab0a1",
   "metadata": {},
   "source": [
    "#### Intersect inactive and active shapefiles with the modelgrid\n",
    "\n",
    "After all of the intersection operations, take a look at the data contained in the returned objects"
   ]
  },
  {
   "cell_type": "code",
   "execution_count": null,
   "id": "c8e5ef38-e57c-41f7-8c45-a953ae1a5568",
   "metadata": {},
   "outputs": [],
   "source": [
    "bedrock = ix.intersect(inactive.geometry[0])\n",
    "active_cells = ix.intersect(active.geometry[0])"
   ]
  },
  {
   "cell_type": "code",
   "execution_count": null,
   "id": "8d5ee1df-925f-4d93-8d06-7adaff89522f",
   "metadata": {},
   "outputs": [],
   "source": [
    "active_cells[:4], active_cells.dtype"
   ]
  },
  {
   "cell_type": "markdown",
   "id": "01ea9e5f-0aa0-4219-9bdf-cc8c639188e4",
   "metadata": {},
   "source": [
    "#### Intersect well shapefile with the modelgrid"
   ]
  },
  {
   "cell_type": "code",
   "execution_count": null,
   "id": "07742516-d0b2-4bb3-9afe-e25afcd55bcd",
   "metadata": {},
   "outputs": [],
   "source": [
    "well_cells = []\n",
    "for g in wells.geometry:\n",
    "    v = ix.intersect(g)\n",
    "    well_cells += v[\"cellids\"].tolist()"
   ]
  },
  {
   "cell_type": "code",
   "execution_count": null,
   "id": "71700525-1e82-4334-868a-33c84af18c79",
   "metadata": {},
   "outputs": [],
   "source": [
    "well_cells"
   ]
  },
  {
   "cell_type": "markdown",
   "id": "04ecb26d-183a-4629-8adb-6dd22a22d787",
   "metadata": {},
   "source": [
    "#### Intersect river shapefile with the modelgrid"
   ]
  },
  {
   "cell_type": "code",
   "execution_count": null,
   "id": "26e2f376-7ba5-42ae-8b8f-822f244cc888",
   "metadata": {},
   "outputs": [],
   "source": [
    "river_cells = ix.intersect(river.geometry[0])"
   ]
  },
  {
   "cell_type": "code",
   "execution_count": null,
   "id": "0fa25077-4dc4-4b64-9629-42733843cf9a",
   "metadata": {},
   "outputs": [],
   "source": [
    "river_cells[:4], river_cells.dtype"
   ]
  },
  {
   "cell_type": "markdown",
   "id": "da8d7508-eaa8-4a66-a0a9-6a9a3302a957",
   "metadata": {},
   "source": [
    "### Intersect constant head line with the modelgrid\n",
    "\n",
    "Use a line with two points to defined the location of the constant head cells. The line verticase are `[(1250, 0.1), (4250, 0.1)]`."
   ]
  },
  {
   "cell_type": "code",
   "execution_count": null,
   "id": "d1ad7c18-b221-4272-bd4c-aa8b4145373b",
   "metadata": {},
   "outputs": [],
   "source": [
    "constant_cells = ix.intersect(\n",
    "    [(1250, 0.1), (4250, 0.1)], shapetype=\"linestring\"\n",
    ")"
   ]
  },
  {
   "cell_type": "code",
   "execution_count": null,
   "id": "5b452111-1be5-40a9-afeb-878fb48875eb",
   "metadata": {},
   "outputs": [],
   "source": [
    "constant_cells[:4], constant_cells.dtype"
   ]
  },
  {
   "cell_type": "markdown",
   "id": "b16d9318-24e8-417e-8944-343da5262632",
   "metadata": {},
   "source": [
    "### Resample the raster data to the modelgrid\n",
    "\n",
    "Use the `resample_to_grid()` method on each raster object."
   ]
  },
  {
   "cell_type": "code",
   "execution_count": null,
   "id": "00e8eed1-2735-48c8-8bc7-cb2ea88a78a6",
   "metadata": {},
   "outputs": [],
   "source": [
    "rtop = top.resample_to_grid(\n",
    "    base_grid,\n",
    "    band=top.bands[0],\n",
    "    method=\"linear\",\n",
    "    extrapolate_edges=True,\n",
    ")\n",
    "rbot = bottom.resample_to_grid(\n",
    "    base_grid,\n",
    "    band=bottom.bands[0],\n",
    "    method=\"linear\",\n",
    "    extrapolate_edges=True,\n",
    ")\n",
    "rkaq = (\n",
    "    kaq.resample_to_grid(\n",
    "        base_grid, band=kaq.bands[0], method=\"linear\", \n",
    "        extrapolate_edges=True\n",
    "    )\n",
    "    * 86400.0\n",
    ")"
   ]
  },
  {
   "cell_type": "markdown",
   "id": "4d38c553-7319-445a-bda1-b9f1b324ba87",
   "metadata": {},
   "source": [
    "### Plot the resampled data \n",
    "\n",
    "Plot the aquifer top, bottom, and hydraulic conductivity. Also plot the aquifer thickness."
   ]
  },
  {
   "cell_type": "code",
   "execution_count": null,
   "id": "d3e680a2-7112-4c79-81b8-5c9dc15c0f89",
   "metadata": {},
   "outputs": [],
   "source": [
    "mm = flopy.plot.PlotMapView(modelgrid=base_grid)\n",
    "mm.plot_array(rtop)\n",
    "mm.plot_grid(lw=0.5, color=\"0.5\");"
   ]
  },
  {
   "cell_type": "code",
   "execution_count": null,
   "id": "0e344430-3dd6-40f3-99dc-eb3ff4525fd9",
   "metadata": {},
   "outputs": [],
   "source": [
    "mm = flopy.plot.PlotMapView(modelgrid=base_grid)\n",
    "mm.plot_array(rbot)\n",
    "mm.plot_grid(lw=0.5, color=\"0.5\");"
   ]
  },
  {
   "cell_type": "code",
   "execution_count": null,
   "id": "6025c075-3b2f-4bc4-929c-6ded94d7fb49",
   "metadata": {},
   "outputs": [],
   "source": [
    "mm = flopy.plot.PlotMapView(modelgrid=base_grid)\n",
    "cb = mm.plot_array(rtop - rbot)\n",
    "mm.plot_grid(lw=0.5, color=\"0.5\")\n",
    "plt.colorbar(cb);"
   ]
  },
  {
   "cell_type": "code",
   "execution_count": null,
   "id": "fc131289-28c2-4c27-9c28-e2393760ee7a",
   "metadata": {},
   "outputs": [],
   "source": [
    "mm = flopy.plot.PlotMapView(modelgrid=base_grid)\n",
    "cb = mm.plot_array(rkaq, cmap=\"jet\", vmin=1, vmax=10)\n",
    "mm.plot_grid(lw=0.5, color=\"0.5\")\n",
    "plt.colorbar(cb);"
   ]
  },
  {
   "cell_type": "markdown",
   "id": "e9f459b8-7ba3-4778-a790-25ea654f5b49",
   "metadata": {},
   "source": [
    "#### Build the model data\n",
    "\n",
    "_Create the bottom of each model layer_\n",
    "\n",
    "Assume that the thickness of each layer at a row, column location is equal."
   ]
  },
  {
   "cell_type": "code",
   "execution_count": null,
   "id": "fa75d47d-2a36-4d14-9e3a-8e690933315a",
   "metadata": {},
   "outputs": [],
   "source": [
    "botm = np.zeros(shape3d, dtype=float)\n",
    "botm[-1, :, :] = rbot[:, :]\n",
    "layer_thickness = (rtop - rbot) / nlay\n",
    "for k in reversed(range(nlay - 1)):\n",
    "    botm[k] = botm[k + 1] + layer_thickness"
   ]
  },
  {
   "cell_type": "markdown",
   "id": "78271f86-4d9b-4e95-8f6d-159340ba0030",
   "metadata": {},
   "source": [
    "_Create the idomain array_\n",
    "\n",
    "Use the intersection data from the active and inactive shapefiles to create the idomain array"
   ]
  },
  {
   "cell_type": "code",
   "execution_count": null,
   "id": "6bb26307-5b6f-46e1-b633-45b6a851c2bb",
   "metadata": {},
   "outputs": [],
   "source": [
    "idomain = np.zeros((nlay, nrow, ncol), dtype=float)\n",
    "for i, j in active_cells[\"cellids\"]:\n",
    "    idomain[:, i, j] = 1\n",
    "for i, j in bedrock[\"cellids\"]:\n",
    "    idomain[:, i, j] = 0"
   ]
  },
  {
   "cell_type": "markdown",
   "id": "187e97f7-ba7c-41f8-8d39-1c1ab8245903",
   "metadata": {},
   "source": [
    "_A more pythonic approach_"
   ]
  },
  {
   "cell_type": "code",
   "execution_count": null,
   "id": "af769a74-b776-4dba-b8bd-c4457530664f",
   "metadata": {},
   "outputs": [],
   "source": [
    "idomain_bool = np.zeros((nrow, ncol), dtype=bool)"
   ]
  },
  {
   "cell_type": "code",
   "execution_count": null,
   "id": "261de40a-739b-4524-a072-42a937f35608",
   "metadata": {},
   "outputs": [],
   "source": [
    "idomain_bool[tuple(zip(*active_cells[\"cellids\"].tolist()))] = True"
   ]
  },
  {
   "cell_type": "code",
   "execution_count": null,
   "id": "707b1911-6ce1-4cee-9b6f-092112cda57b",
   "metadata": {},
   "outputs": [],
   "source": [
    "idomain_bool[tuple(zip(*bedrock[\"cellids\"].tolist()))] = False"
   ]
  },
  {
   "cell_type": "code",
   "execution_count": null,
   "id": "f01f4f25-5954-459b-9847-a2dfc59333ba",
   "metadata": {},
   "outputs": [],
   "source": [
    "plt.imshow(idomain_bool)"
   ]
  },
  {
   "cell_type": "code",
   "execution_count": null,
   "id": "10ed5e0a-7fd5-4dc8-b6c1-dd3271288032",
   "metadata": {},
   "outputs": [],
   "source": [
    "idomain_bool"
   ]
  },
  {
   "cell_type": "code",
   "execution_count": null,
   "id": "16ac7af1-49c4-4cde-bbbb-84f935b68830",
   "metadata": {},
   "outputs": [],
   "source": [
    "idomain = np.zeros((nrow, ncol), dtype=float)\n",
    "idomain[idomain_bool] = 1\n",
    "v = plt.imshow(idomain)\n",
    "plt.colorbar(v)"
   ]
  },
  {
   "cell_type": "code",
   "execution_count": null,
   "id": "2ab2c53b-1e4f-4974-9325-0bfce1dc9dbe",
   "metadata": {},
   "outputs": [],
   "source": [
    "idomain = np.array([idomain, idomain, idomain])\n",
    "idomain.shape"
   ]
  },
  {
   "cell_type": "markdown",
   "id": "410fd6be-b9b2-44d8-8e45-cf022470d4a5",
   "metadata": {},
   "source": [
    "_Build the well package stress period data_\n",
    "\n",
    "* The pumping rates are in the `wells` geopandas dataframe\n",
    "* Pumping rates are in m$^3$/sec\n",
    "* The wells are located in model layer 3"
   ]
  },
  {
   "cell_type": "code",
   "execution_count": null,
   "id": "8abad8ba-f38b-4c85-bafe-040b8bd5de26",
   "metadata": {},
   "outputs": [],
   "source": [
    "wells"
   ]
  },
  {
   "cell_type": "code",
   "execution_count": null,
   "id": "92672b02-13cb-4253-b009-cfa23ff572be",
   "metadata": {},
   "outputs": [],
   "source": [
    "well_spd = []\n",
    "for (i, j), q in zip(well_cells, wells[\"Q\"]):\n",
    "    well_spd.append([2, i, j, q * 86400.0])\n",
    "well_spd"
   ]
  },
  {
   "cell_type": "markdown",
   "id": "b9acc234-e7b7-434a-8a1d-8533c7225003",
   "metadata": {},
   "source": [
    "_Build the river package stress period data_\n",
    "\n",
    "* Calculate the length of the river using the `\"lengths\"` key. \n",
    "* The vertical hydraulic conductivity of the river bed sediments is 3.5 m/d.\n",
    "* The thickness of river bottom sediments at the upstream (North) and downstream (South) end of the river is 0.5 and 1.5 meters, respectively. \n",
    "* The river bottom at the upstream and downstream end of the river is 16.5 and 14.5 meters, respectively. The river width at the upstream and downstream end of the river is 5.0 and 10.0 meters, respectively. \n",
    "* The river stage at the upstream and downstream end of the river is 16.6 and 15.5 meters, respectively.\n",
    "* Use the boundname `upstream` for river cells where the upstream end of the river cell is less than 5000 m from the North end of the model. Use the boundname `downstream` for all other river cells. \n",
    "* Make sure the river cell is in the upper most layer where the river bottom exceeds the bottom of the cell.\n",
    "\n",
    "Use the upstream and downstream values to interpolate the river sediment thickness, bottom, width, and stage for each river cell.\n",
    "\n",
    "The river cells will be conected to model layer 1. The river bottom, width, and stage values should be calculated at the center of the river reach."
   ]
  },
  {
   "cell_type": "code",
   "execution_count": null,
   "id": "1f0b8a27-6dba-4f62-b11c-f92bdada50a8",
   "metadata": {},
   "outputs": [],
   "source": [
    "river_kv = 3.5\n",
    "river_thickness_up, river_thickness_down = 0.5, 1.5\n",
    "river_bot_up, river_bot_down = 16.5, 14.5\n",
    "river_width_up, river_width_down = 5.0, 10.0\n",
    "stage_up, stage_down = 16.6, 15.5"
   ]
  },
  {
   "cell_type": "code",
   "execution_count": null,
   "id": "d0013ce6-3c75-4f25-b7a4-17cf7ce7e456",
   "metadata": {},
   "outputs": [],
   "source": [
    "river_length = river_cells[\"lengths\"].sum()\n",
    "river_length"
   ]
  },
  {
   "cell_type": "code",
   "execution_count": null,
   "id": "a565b394-c57c-45bd-a947-8565c86ed87b",
   "metadata": {},
   "outputs": [],
   "source": [
    "river_thickness_slope = (\n",
    "    river_thickness_down - river_thickness_up\n",
    ") / river_length"
   ]
  },
  {
   "cell_type": "code",
   "execution_count": null,
   "id": "488d4e1b-6ee5-474e-91a0-6fe1dc764dee",
   "metadata": {},
   "outputs": [],
   "source": [
    "river_bot_slope = (river_bot_down - river_bot_up) / river_length"
   ]
  },
  {
   "cell_type": "code",
   "execution_count": null,
   "id": "9f7fca4f-b31a-4679-a06c-9fe79abd4318",
   "metadata": {},
   "outputs": [],
   "source": [
    "river_width_slope = (river_width_down - river_width_up) / river_length"
   ]
  },
  {
   "cell_type": "code",
   "execution_count": null,
   "id": "9d5cafa8-be40-4055-a56b-b67878c78e73",
   "metadata": {},
   "outputs": [],
   "source": [
    "stage_slope = (stage_down - stage_up) / river_length"
   ]
  },
  {
   "cell_type": "code",
   "execution_count": null,
   "id": "d693f849-55a8-450c-934b-2cb7a2ddcc80",
   "metadata": {
    "scrolled": true
   },
   "outputs": [],
   "source": [
    "boundname = \"upstream\"\n",
    "total_length = 0.0\n",
    "river_spd = []\n",
    "for idx, (cellid, length) in enumerate(\n",
    "    zip(river_cells[\"cellids\"], river_cells[\"lengths\"])\n",
    "):\n",
    "    if total_length >= 5000.0 and boundname == \"upstream\":\n",
    "        boundname = \"downstream\"\n",
    "    dx = 0.5 * length\n",
    "    total_length += dx\n",
    "    river_thickness = river_thickness_up + river_thickness_slope * total_length\n",
    "    river_bot = river_bot_up + river_bot_slope * total_length\n",
    "    river_width = river_width_up + river_width_slope * total_length\n",
    "    river_stage = stage_up + stage_slope * total_length\n",
    "    conductance = river_kv * length * river_width / river_thickness\n",
    "\n",
    "    i, j = cellid\n",
    "    for k in range(nlay):\n",
    "        if river_bot - river_thickness > botm[k, i, j]:\n",
    "            riv_layer = k\n",
    "            break\n",
    "\n",
    "    river_spd.append(\n",
    "        [riv_layer, i, j, river_stage, conductance, river_bot, boundname]\n",
    "    )\n",
    "    total_length += dx\n",
    "river_spd[:2], river_spd[-2:]"
   ]
  },
  {
   "cell_type": "markdown",
   "id": "3d7f40ea-769f-4a79-8c3d-71c8a66b77f0",
   "metadata": {},
   "source": [
    "_A more pythonic approach_"
   ]
  },
  {
   "cell_type": "code",
   "execution_count": null,
   "id": "364d718f-cf55-4464-a700-34e4ffd4a995",
   "metadata": {},
   "outputs": [],
   "source": [
    "xmid = river_cells[\"lengths\"].cumsum() - 0.5 * river_cells[\"lengths\"]\n",
    "xp = [0, river_cells[\"lengths\"].cumsum()[-1]]\n",
    "xp"
   ]
  },
  {
   "cell_type": "code",
   "execution_count": null,
   "id": "2e7733e1-d760-4a86-bdd0-473ff6be4e08",
   "metadata": {},
   "outputs": [],
   "source": [
    "riv_stage = np.interp(xmid, xp, [stage_up, stage_down])\n",
    "riv_thick = np.interp(xmid, xp, [river_thickness_up, river_thickness_down])\n",
    "riv_bot = np.interp(xmid, xp, [river_bot_up, river_bot_down])\n",
    "riv_wid = np.interp(xmid, xp, [river_width_up, river_width_down])\n",
    "riv_cond = river_kv * river_cells[\"lengths\"] * riv_wid / riv_thick"
   ]
  },
  {
   "cell_type": "code",
   "execution_count": null,
   "id": "3e6d136c-50b1-4659-90a7-ef5b3f75cb9f",
   "metadata": {},
   "outputs": [],
   "source": [
    "riv_bot_elev = riv_bot - riv_thick\n",
    "riv_layer = [0 if riv_bot_elev[idx] > botm[0, i, j] else 1 for idx, (i, j) in enumerate(river_cells[\"cellids\"])] "
   ]
  },
  {
   "cell_type": "code",
   "execution_count": null,
   "id": "94386a56-f10b-44c2-9972-99172b36a9a6",
   "metadata": {},
   "outputs": [],
   "source": [
    "riv_bndname = np.full(riv_cond.shape, \"upstream\", dtype=\"|S10\")\n",
    "riv_bndname[xmid > 5000.] = \"downstream\""
   ]
  },
  {
   "cell_type": "code",
   "execution_count": null,
   "id": "5b520e0a-a6a0-4cec-bc5c-42c738bc9f99",
   "metadata": {},
   "outputs": [],
   "source": [
    "river_spd = [(riv_layer[idx], i, j, riv_stage[idx], riv_cond[idx], riv_bot[idx], riv_bndname[idx].decode('UTF-8')) \n",
    "             for idx, (i,j) in enumerate(river_cells[\"cellids\"])]\n",
    "river_spd[:2], river_spd[-2:]"
   ]
  },
  {
   "cell_type": "markdown",
   "id": "837ae702-a313-4e4e-90f0-6bc6c6b5ef61",
   "metadata": {},
   "source": [
    "_Define river observations_"
   ]
  },
  {
   "cell_type": "code",
   "execution_count": null,
   "id": "452fa4f3-aac7-422b-b38b-1045e8b4cd1f",
   "metadata": {},
   "outputs": [],
   "source": [
    "riv_obs = {\n",
    "    \"riv_obs.csv\": [\n",
    "        (\"UPSTREAM\", \"RIV\", \"UPSTREAM\"),\n",
    "        (\"DOWNSTREAM\", \"RIV\", \"DOWNSTREAM\"),\n",
    "    ],\n",
    "    \"more_riv_obs.csv\": [\n",
    "        (\"00000000\", \"RIV\", 0, 0, 0),\n",
    "        (\"gage2\", \"RIV\", 1, 2, 3),\n",
    "    ],\n",
    "}"
   ]
  },
  {
   "cell_type": "markdown",
   "id": "7906e810-488e-4894-9120-a91419a0c803",
   "metadata": {},
   "source": [
    "_Define the constant head cells_\n",
    "\n",
    "Assume the constant head cells are located in all three layers and have values equal to the downstream river stage (`stage_down`). Make sure the constant head stage is greater that the bottom of the layer."
   ]
  },
  {
   "cell_type": "code",
   "execution_count": null,
   "id": "7eb1d1d6-13e3-48a6-ae02-dc82e1878652",
   "metadata": {},
   "outputs": [],
   "source": [
    "chd_spd = []\n",
    "for i, j in constant_cells[\"cellids\"]:\n",
    "    for k in range(nlay):\n",
    "        if stage_down > botm[k, i, j] and idomain[k, i, j] > 0:\n",
    "            chd_spd.append((k, i, j, stage_down))\n",
    "chd_spd[:2], chd_spd[-2:]"
   ]
  },
  {
   "cell_type": "markdown",
   "id": "a5f85bfe-d6df-42ff-b475-3d63773a3c2f",
   "metadata": {},
   "source": [
    "_Define recharge rates_\n",
    "\n",
    "* The recharge rate is 0.16000000E-08 m/sec"
   ]
  },
  {
   "cell_type": "code",
   "execution_count": null,
   "id": "08edb467-a90f-47c9-8465-0b619ea02e83",
   "metadata": {},
   "outputs": [],
   "source": [
    "recharge_rate = 0.16000000e-08 * 86400.0\n",
    "recharge_rate"
   ]
  },
  {
   "cell_type": "markdown",
   "id": "6353df62-e5b5-4bab-9e32-0f4cf3e679df",
   "metadata": {},
   "source": [
    "#### Build the model\n",
    "\n",
    "Build a steady-state model using the data that you have created. Packages to create:\n",
    "\n",
    "* Simulation\n",
    "* TDIS (1 stress period, `TIME_UNITS='days'`)\n",
    "* IMS (default parameters)\n",
    "\n",
    "* GWF model (`SAVE_FLOWS=True`)\n",
    "* DIS (`LENGTH_UNITS='meters'`)\n",
    "* IC (`STRT=40.`)\n",
    "* NPF (Unconfined, same K for all layers, `SAVE_SPECIFIC_DISCHARGE=True`, `icelltype=1`)\n",
    "* RCH (array based)\n",
    "* RIV (`BOUNDNAMES=True`,add `RIV` observations for defined boundnames)\n",
    "* CHD\n",
    "* WEL\n",
    "* OC (Save `HEAD ALL` and `BUDGET ALL`)\n"
   ]
  },
  {
   "cell_type": "code",
   "execution_count": null,
   "id": "b98023a9-21da-4916-a419-4047a423b5df",
   "metadata": {},
   "outputs": [],
   "source": [
    "name = \"project\""
   ]
  },
  {
   "cell_type": "code",
   "execution_count": null,
   "id": "ceeb9cf4-c2a5-4eed-bb6e-058b141739d7",
   "metadata": {},
   "outputs": [],
   "source": [
    "sim = flopy.mf6.MFSimulation(sim_name=name, sim_ws=model_ws, exe_name=\"mf6\")\n",
    "tdis = flopy.mf6.ModflowTdis(sim, time_units=\"days\")\n",
    "ims = flopy.mf6.ModflowIms(\n",
    "    sim, outer_maximum=200, inner_maximum=100, linear_acceleration=\"bicgstab\"\n",
    ")"
   ]
  },
  {
   "cell_type": "code",
   "execution_count": null,
   "id": "9c85c033-c73a-43ec-8682-e866c094fcb9",
   "metadata": {},
   "outputs": [],
   "source": [
    "gwf = flopy.mf6.ModflowGwf(\n",
    "    sim,\n",
    "    modelname=name,\n",
    "    save_flows=True,\n",
    "    newtonoptions=\"NETWON UNDER_RELAXATION\",\n",
    ")"
   ]
  },
  {
   "cell_type": "code",
   "execution_count": null,
   "id": "0ce841a8-14ce-408a-844d-49251d91b091",
   "metadata": {},
   "outputs": [],
   "source": [
    "dis = flopy.mf6.ModflowGwfdis(\n",
    "    gwf,\n",
    "    length_units=\"meters\",\n",
    "    nlay=nlay,\n",
    "    nrow=nrow,\n",
    "    ncol=ncol,\n",
    "    delr=delr,\n",
    "    delc=delc,\n",
    "    top=rtop,\n",
    "    botm=botm,\n",
    "    idomain=idomain,\n",
    ")\n",
    "ic = flopy.mf6.ModflowGwfic(gwf, strt=40.0)\n",
    "npf = flopy.mf6.ModflowGwfnpf(\n",
    "    gwf, save_specific_discharge=True, k=[rkaq, rkaq, rkaq], icelltype=1\n",
    ")\n",
    "rch = flopy.mf6.ModflowGwfrcha(gwf, recharge=recharge_rate)\n",
    "riv = flopy.mf6.ModflowGwfriv(\n",
    "    gwf, boundnames=True, stress_period_data=river_spd\n",
    ")\n",
    "riv.obs.initialize(\n",
    "    filename=f\"{name}.riv.obs\",\n",
    "    digits=9,\n",
    "    print_input=True,\n",
    "    continuous=riv_obs,\n",
    ")\n",
    "wel = flopy.mf6.ModflowGwfwel(gwf, stress_period_data=well_spd)\n",
    "chd = flopy.mf6.ModflowGwfchd(gwf, stress_period_data=chd_spd)\n",
    "oc = flopy.mf6.ModflowGwfoc(\n",
    "    gwf,\n",
    "    head_filerecord=f\"{name}.hds\",\n",
    "    budget_filerecord=f\"{name}.cbc\",\n",
    "    saverecord=[(\"HEAD\", \"ALL\"), (\"BUDGET\", \"ALL\")],\n",
    ")"
   ]
  },
  {
   "cell_type": "markdown",
   "id": "9a6d3a06-05b3-4f68-aa34-00dec952ef7d",
   "metadata": {},
   "source": [
    "#### Write the model files"
   ]
  },
  {
   "cell_type": "code",
   "execution_count": null,
   "id": "6a671453-1197-41db-9905-cc6549f705e1",
   "metadata": {},
   "outputs": [],
   "source": [
    "sim.write_simulation()"
   ]
  },
  {
   "cell_type": "markdown",
   "id": "b53e1ada-e0a7-43b0-a72a-cc5ed8a4bc31",
   "metadata": {},
   "source": [
    "#### Run the model"
   ]
  },
  {
   "cell_type": "code",
   "execution_count": null,
   "id": "8f6a82ba-1005-484e-8a5a-3f59e732eb58",
   "metadata": {},
   "outputs": [],
   "source": [
    "sim.run_simulation()"
   ]
  },
  {
   "cell_type": "markdown",
   "id": "dab370b7-c023-402a-bf3d-792cc82ad4de",
   "metadata": {},
   "source": [
    "#### Post-process the results\n",
    "\n",
    "Use `gwf.output.` method to get the observations."
   ]
  },
  {
   "cell_type": "code",
   "execution_count": null,
   "id": "6b1b0a5d-b1e6-4824-94c3-c849e176146b",
   "metadata": {},
   "outputs": [],
   "source": [
    "myobs = gwf.riv.output.obs().get_data()\n",
    "myobs.dtype"
   ]
  },
  {
   "cell_type": "code",
   "execution_count": null,
   "id": "5f66f01c-9f11-4d83-be31-874c4df3717a",
   "metadata": {},
   "outputs": [],
   "source": [
    "myobs[\"UPSTREAM\"], myobs[\"DOWNSTREAM\"]"
   ]
  },
  {
   "cell_type": "markdown",
   "id": "50b64389-c690-4c21-bf74-2d4a5479de23",
   "metadata": {},
   "source": [
    "Use `gwf.output.` method to get the heads and specific discharge. Make a map and cross-sections of the data using `flopy.plot` methods. Plot specific discharge vectors on the map and cross-sections."
   ]
  },
  {
   "cell_type": "code",
   "execution_count": null,
   "id": "5d872228-ac57-4cba-8873-fb6430dac670",
   "metadata": {},
   "outputs": [],
   "source": [
    "head = gwf.output.head().get_data()"
   ]
  },
  {
   "cell_type": "markdown",
   "id": "8a38f807-ef85-4bbc-a66a-04f804c2633d",
   "metadata": {},
   "source": [
    "fpth = \"/Users/jdhughes/Documents/Training/python-for-hydrology/notebooks/part1_flopy/data_project/aquifer_top.asc\"\n",
    "np.savetxt(fpth, head[0] + 2.)"
   ]
  },
  {
   "cell_type": "code",
   "execution_count": null,
   "id": "4d75de40-e830-4c20-9b16-c5edfbdbb628",
   "metadata": {},
   "outputs": [],
   "source": [
    "gwf.output.budget().get_unique_record_names()"
   ]
  },
  {
   "cell_type": "code",
   "execution_count": null,
   "id": "cc988112-38dd-43dc-b4f0-77ec2f41b627",
   "metadata": {},
   "outputs": [],
   "source": [
    "spdis = gwf.output.budget().get_data(text=\"DATA-SPDIS\")[0]\n",
    "qx, qy, qz = flopy.utils.postprocessing.get_specific_discharge(\n",
    "    spdis, gwf, head=head\n",
    ")"
   ]
  },
  {
   "cell_type": "code",
   "execution_count": null,
   "id": "bd3c9c9f-be85-4a31-afd6-883fa78af810",
   "metadata": {},
   "outputs": [],
   "source": [
    "fig, ax = plt.subplots(\n",
    "    ncols=1,\n",
    "    nrows=1,\n",
    "    figsize=(5, 8),\n",
    "    constrained_layout=True,\n",
    "    subplot_kw=dict(aspect=\"equal\"),\n",
    ")\n",
    "mm = flopy.plot.PlotMapView(model=gwf, ax=ax, layer=0)\n",
    "cb = mm.plot_array(head, masked_values=[1e30], vmin=10, vmax=30)\n",
    "river.plot(color=\"cyan\", ax=mm.ax)\n",
    "mm.plot_grid(lw=0.5, color=\"0.5\")\n",
    "mm.plot_vector(qx, qy, normalize=True)\n",
    "cs = mm.contour_array(\n",
    "    head,\n",
    "    masked_values=[1e30],\n",
    "    colors=\"red\",\n",
    "    levels=np.arange(10, 28, 1),\n",
    "    linestyles=\":\",\n",
    "    linewidths=1.0,\n",
    ")\n",
    "ax.clabel(\n",
    "    cs,\n",
    "    inline=True,\n",
    "    fmt=\"%1.0f\",\n",
    "    fontsize=10,\n",
    "    inline_spacing=0.5,\n",
    ")\n",
    "# mm.plot_inactive(ibound=idomain)\n",
    "plt.colorbar(cb, ax=mm.ax, shrink=0.5)\n",
    "\n",
    "fig.savefig(\"../figures/freyberg-structured.png\", dpi=300);"
   ]
  },
  {
   "cell_type": "code",
   "execution_count": null,
   "id": "44dbdf83-3b9d-4a8e-9a00-c498647c5155",
   "metadata": {},
   "outputs": [],
   "source": [
    "fig, ax = plt.subplots(\n",
    "    ncols=1,\n",
    "    nrows=1,\n",
    "    figsize=(5, 8),\n",
    "    constrained_layout=True,\n",
    "    subplot_kw=dict(aspect=\"equal\"),\n",
    ")\n",
    "\n",
    "mm = flopy.plot.PlotMapView(model=gwf, ax=ax, layer=0)\n",
    "cb = mm.plot_array(gwf.dis.top.array, masked_values=[1e30], vmin=15, vmax=30)\n",
    "river.plot(color=\"cyan\", ax=mm.ax)\n",
    "mm.plot_grid(lw=0.5, color=\"0.5\", zorder=11)\n",
    "mm.plot_inactive(zorder=10)\n",
    "cs = mm.contour_array(\n",
    "    gwf.dis.top.array,\n",
    "    colors=\"red\",\n",
    "    levels=np.arange(15, 31, 1),\n",
    "    linestyles=\":\",\n",
    "    linewidths=1.0,\n",
    ")\n",
    "ax.clabel(\n",
    "    cs,\n",
    "    inline=True,\n",
    "    fmt=\"%1.0f\",\n",
    "    fontsize=10,\n",
    "    inline_spacing=0.5,\n",
    ")\n",
    "plt.colorbar(cb, ax=mm.ax, shrink=0.5)\n",
    "\n",
    "fig.savefig(\"../figures/freyberg-structured-grid.png\", dpi=300);"
   ]
  },
  {
   "cell_type": "code",
   "execution_count": null,
   "id": "ca1097ac-0fd5-4b46-b759-d24a4566dd59",
   "metadata": {},
   "outputs": [],
   "source": []
  }
 ],
 "metadata": {
  "kernelspec": {
   "display_name": "Python 3 (ipykernel)",
   "language": "python",
   "name": "python3"
  },
  "language_info": {
   "codemirror_mode": {
    "name": "ipython",
    "version": 3
   },
   "file_extension": ".py",
   "mimetype": "text/x-python",
   "name": "python",
   "nbconvert_exporter": "python",
   "pygments_lexer": "ipython3",
   "version": "3.9.18"
  }
 },
 "nbformat": 4,
 "nbformat_minor": 5
}