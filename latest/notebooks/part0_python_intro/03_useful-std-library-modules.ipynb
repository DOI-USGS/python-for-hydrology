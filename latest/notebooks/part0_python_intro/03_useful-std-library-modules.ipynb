{
 "cells": [
  {
   "cell_type": "markdown",
   "metadata": {},
   "source": [
    "# 03: Useful standard library modules\n",
    "(pathlib, shutil, sys, os, subprocess, zipfile, etc.)\n",
    "\n",
    "These packages are part of the standard python library and provide very useful functionality for working with your operating system and files.  This notebook will provide explore these packages and demonstrate some of their functionality.  Online documentation is at https://docs.python.org/3/library/.\n",
    "\n",
    "\n",
    "#### Topics covered:\n",
    "* **pathlib**:\n",
    "    * listing files\n",
    "    * creating, moving and deleting files\n",
    "    * absolute vs relative paths\n",
    "    * useful path object attributes\n",
    "* **shutil**: \n",
    "    * copying, moving and deleting files AND folders\n",
    "* **sys**: \n",
    "    * python and platform information\n",
    "    * command line arguments\n",
    "    * modifying the python path to import code from other locations\n",
    "* **os**:\n",
    "    * changing the working directory\n",
    "    * recursive iteration through folder structures\n",
    "    * accessing environmental variables\n",
    "* **subprocess**: \n",
    "    * running system commands and checking the results\n",
    "* **zipfile**:\n",
    "    * creating and extracting from zip archives"
   ]
  },
  {
   "cell_type": "code",
   "execution_count": 1,
   "metadata": {
    "execution": {
     "iopub.execute_input": "2024-07-30T17:18:38.342417Z",
     "iopub.status.busy": "2024-07-30T17:18:38.341971Z",
     "iopub.status.idle": "2024-07-30T17:18:38.346875Z",
     "shell.execute_reply": "2024-07-30T17:18:38.346486Z"
    }
   },
   "outputs": [],
   "source": [
    "import os\n",
    "from pathlib import Path\n",
    "import shutil\n",
    "import subprocess\n",
    "import sys\n",
    "import zipfile"
   ]
  },
  {
   "cell_type": "markdown",
   "metadata": {},
   "source": [
    "## ``pathlib`` — Object-oriented filesystem paths\n",
    "Pathlib provides convenient \"pathlike\" objects for working with file paths across platforms (meaning paths or operations done with pathlib work the same on Windows or POSIX systems (Linux, OSX, etc)). The main entry point for users is the ``Path()`` class.\n",
    "\n",
    "further reading:  \n",
    "https://treyhunner.com/2018/12/why-you-should-be-using-pathlib/  \n",
    "https://docs.python.org/3/library/pathlib.html"
   ]
  },
  {
   "cell_type": "markdown",
   "metadata": {},
   "source": [
    "#### Make a ``Path()`` object for the current folder"
   ]
  },
  {
   "cell_type": "code",
   "execution_count": 2,
   "metadata": {
    "execution": {
     "iopub.execute_input": "2024-07-30T17:18:38.348891Z",
     "iopub.status.busy": "2024-07-30T17:18:38.348497Z",
     "iopub.status.idle": "2024-07-30T17:18:38.353482Z",
     "shell.execute_reply": "2024-07-30T17:18:38.352987Z"
    }
   },
   "outputs": [
    {
     "data": {
      "text/plain": [
       "PosixPath('.')"
      ]
     },
     "execution_count": 2,
     "metadata": {},
     "output_type": "execute_result"
    }
   ],
   "source": [
    "cwd = Path('.')\n",
    "cwd"
   ]
  },
  {
   "cell_type": "markdown",
   "metadata": {},
   "source": [
    "### Listing files"
   ]
  },
  {
   "cell_type": "code",
   "execution_count": 3,
   "metadata": {
    "execution": {
     "iopub.execute_input": "2024-07-30T17:18:38.355517Z",
     "iopub.status.busy": "2024-07-30T17:18:38.355113Z",
     "iopub.status.idle": "2024-07-30T17:18:38.358095Z",
     "shell.execute_reply": "2024-07-30T17:18:38.357630Z"
    }
   },
   "outputs": [
    {
     "name": "stdout",
     "output_type": "stream",
     "text": [
      "11_xarray_mt_rainier_precip.ipynb\n",
      "05_numpy.ipynb\n",
      "09_b_Geopandas_ABQ.ipynb\n",
      "solutions\n",
      "09_a_Geopandas.ipynb\n",
      "10_Rasterio.ipynb\n",
      "06b_matplotlib_animation.ipynb\n",
      "00_python_basics_review.ipynb\n",
      "03_useful-std-library-modules.ipynb\n",
      "07b_VSCode.md\n",
      "data\n"
     ]
    }
   ],
   "source": [
    "for f in cwd.iterdir():\n",
    "    print(f)"
   ]
  },
  {
   "cell_type": "markdown",
   "metadata": {},
   "source": [
    "#### List just the notebooks using the ``.glob()`` method"
   ]
  },
  {
   "cell_type": "code",
   "execution_count": 4,
   "metadata": {
    "execution": {
     "iopub.execute_input": "2024-07-30T17:18:38.360054Z",
     "iopub.status.busy": "2024-07-30T17:18:38.359702Z",
     "iopub.status.idle": "2024-07-30T17:18:38.362619Z",
     "shell.execute_reply": "2024-07-30T17:18:38.362209Z"
    }
   },
   "outputs": [
    {
     "name": "stdout",
     "output_type": "stream",
     "text": [
      "11_xarray_mt_rainier_precip.ipynb\n",
      "05_numpy.ipynb\n",
      "09_b_Geopandas_ABQ.ipynb\n",
      "09_a_Geopandas.ipynb\n",
      "10_Rasterio.ipynb\n",
      "06b_matplotlib_animation.ipynb\n",
      "00_python_basics_review.ipynb\n",
      "03_useful-std-library-modules.ipynb\n"
     ]
    }
   ],
   "source": [
    "for nb in cwd.glob('*.ipynb'):\n",
    "    print(nb)"
   ]
  },
  {
   "cell_type": "markdown",
   "metadata": {},
   "source": [
    "#### Note: ``.glob()`` works across folders too\n",
    "List all notebooks for both class components"
   ]
  },
  {
   "cell_type": "code",
   "execution_count": 5,
   "metadata": {
    "execution": {
     "iopub.execute_input": "2024-07-30T17:18:38.364304Z",
     "iopub.status.busy": "2024-07-30T17:18:38.364151Z",
     "iopub.status.idle": "2024-07-30T17:18:38.367241Z",
     "shell.execute_reply": "2024-07-30T17:18:38.366790Z"
    }
   },
   "outputs": [
    {
     "name": "stdout",
     "output_type": "stream",
     "text": [
      "../part0_python_intro/11_xarray_mt_rainier_precip.ipynb\n",
      "../part0_python_intro/05_numpy.ipynb\n",
      "../part0_python_intro/09_b_Geopandas_ABQ.ipynb\n",
      "../part0_python_intro/09_a_Geopandas.ipynb\n",
      "../part0_python_intro/10_Rasterio.ipynb\n",
      "../part0_python_intro/06b_matplotlib_animation.ipynb\n",
      "../part0_python_intro/00_python_basics_review.ipynb\n",
      "../part0_python_intro/03_useful-std-library-modules.ipynb\n",
      "../part1_flopy/08_Modflow-setup-demo.ipynb\n",
      "../part1_flopy/05-unstructured-grids.ipynb\n",
      "../part1_flopy/09-gwt-voronoi-demo.ipynb\n",
      "../part1_flopy/10_modpath_particle_tracking-demo.ipynb\n",
      "../part1_flopy/01-Flopy-intro.ipynb\n"
     ]
    }
   ],
   "source": [
    "for nb in cwd.glob('../*/*.ipynb'):\n",
    "    print(nb)"
   ]
  },
  {
   "cell_type": "markdown",
   "metadata": {},
   "source": [
    "#### But ``glob`` results aren't sorted alphabetically!\n",
    "(and the sorting is platform-dependent)\n",
    "\n",
    "https://arstechnica.com/information-technology/2019/10/chemists-discover-cross-platform-python-scripts-not-so-cross-platform/?comments=1&post=38113333\n",
    "\n",
    "we can easily sort them by casting the results to a list"
   ]
  },
  {
   "cell_type": "code",
   "execution_count": 6,
   "metadata": {
    "execution": {
     "iopub.execute_input": "2024-07-30T17:18:38.369053Z",
     "iopub.status.busy": "2024-07-30T17:18:38.368703Z",
     "iopub.status.idle": "2024-07-30T17:18:38.372614Z",
     "shell.execute_reply": "2024-07-30T17:18:38.372239Z"
    }
   },
   "outputs": [
    {
     "data": {
      "text/plain": [
       "[PosixPath('../part0_python_intro/00_python_basics_review.ipynb'),\n",
       " PosixPath('../part0_python_intro/03_useful-std-library-modules.ipynb'),\n",
       " PosixPath('../part0_python_intro/05_numpy.ipynb'),\n",
       " PosixPath('../part0_python_intro/06b_matplotlib_animation.ipynb'),\n",
       " PosixPath('../part0_python_intro/09_a_Geopandas.ipynb'),\n",
       " PosixPath('../part0_python_intro/09_b_Geopandas_ABQ.ipynb'),\n",
       " PosixPath('../part0_python_intro/10_Rasterio.ipynb'),\n",
       " PosixPath('../part0_python_intro/11_xarray_mt_rainier_precip.ipynb'),\n",
       " PosixPath('../part1_flopy/01-Flopy-intro.ipynb'),\n",
       " PosixPath('../part1_flopy/05-unstructured-grids.ipynb'),\n",
       " PosixPath('../part1_flopy/08_Modflow-setup-demo.ipynb'),\n",
       " PosixPath('../part1_flopy/09-gwt-voronoi-demo.ipynb'),\n",
       " PosixPath('../part1_flopy/10_modpath_particle_tracking-demo.ipynb')]"
      ]
     },
     "execution_count": 6,
     "metadata": {},
     "output_type": "execute_result"
    }
   ],
   "source": [
    "sorted(list(cwd.glob('../*/*.ipynb')))"
   ]
  },
  {
   "cell_type": "markdown",
   "metadata": {},
   "source": [
    "**Note:** There is also a glob module in the standard python library that works directly with string paths"
   ]
  },
  {
   "cell_type": "code",
   "execution_count": 7,
   "metadata": {
    "execution": {
     "iopub.execute_input": "2024-07-30T17:18:38.374303Z",
     "iopub.status.busy": "2024-07-30T17:18:38.374120Z",
     "iopub.status.idle": "2024-07-30T17:18:38.377700Z",
     "shell.execute_reply": "2024-07-30T17:18:38.377299Z"
    }
   },
   "outputs": [
    {
     "data": {
      "text/plain": [
       "['../part0_python_intro/00_python_basics_review.ipynb',\n",
       " '../part0_python_intro/03_useful-std-library-modules.ipynb',\n",
       " '../part0_python_intro/05_numpy.ipynb',\n",
       " '../part0_python_intro/06b_matplotlib_animation.ipynb',\n",
       " '../part0_python_intro/09_a_Geopandas.ipynb',\n",
       " '../part0_python_intro/09_b_Geopandas_ABQ.ipynb',\n",
       " '../part0_python_intro/10_Rasterio.ipynb',\n",
       " '../part0_python_intro/11_xarray_mt_rainier_precip.ipynb',\n",
       " '../part1_flopy/01-Flopy-intro.ipynb',\n",
       " '../part1_flopy/05-unstructured-grids.ipynb',\n",
       " '../part1_flopy/08_Modflow-setup-demo.ipynb',\n",
       " '../part1_flopy/09-gwt-voronoi-demo.ipynb',\n",
       " '../part1_flopy/10_modpath_particle_tracking-demo.ipynb']"
      ]
     },
     "execution_count": 7,
     "metadata": {},
     "output_type": "execute_result"
    }
   ],
   "source": [
    "import glob\n",
    "sorted(list(glob.glob('../*/*.ipynb')))"
   ]
  },
  {
   "cell_type": "markdown",
   "metadata": {},
   "source": [
    "#### List just the subfolders"
   ]
  },
  {
   "cell_type": "code",
   "execution_count": 8,
   "metadata": {
    "execution": {
     "iopub.execute_input": "2024-07-30T17:18:38.379500Z",
     "iopub.status.busy": "2024-07-30T17:18:38.379188Z",
     "iopub.status.idle": "2024-07-30T17:18:38.382733Z",
     "shell.execute_reply": "2024-07-30T17:18:38.382354Z"
    }
   },
   "outputs": [
    {
     "data": {
      "text/plain": [
       "[PosixPath('solutions'), PosixPath('data')]"
      ]
     },
     "execution_count": 8,
     "metadata": {},
     "output_type": "execute_result"
    }
   ],
   "source": [
    "[f for f in cwd.iterdir() if f.is_dir()]"
   ]
  },
  {
   "cell_type": "markdown",
   "metadata": {},
   "source": [
    "#### Create a new path for the data subfolder"
   ]
  },
  {
   "cell_type": "code",
   "execution_count": 9,
   "metadata": {
    "execution": {
     "iopub.execute_input": "2024-07-30T17:18:38.384584Z",
     "iopub.status.busy": "2024-07-30T17:18:38.384286Z",
     "iopub.status.idle": "2024-07-30T17:18:38.387323Z",
     "shell.execute_reply": "2024-07-30T17:18:38.386936Z"
    }
   },
   "outputs": [
    {
     "data": {
      "text/plain": [
       "PosixPath('data')"
      ]
     },
     "execution_count": 9,
     "metadata": {},
     "output_type": "execute_result"
    }
   ],
   "source": [
    "data_path = cwd / 'data'\n",
    "data_path"
   ]
  },
  {
   "cell_type": "markdown",
   "metadata": {},
   "source": [
    "#### or an individual file"
   ]
  },
  {
   "cell_type": "code",
   "execution_count": 10,
   "metadata": {
    "execution": {
     "iopub.execute_input": "2024-07-30T17:18:38.389014Z",
     "iopub.status.busy": "2024-07-30T17:18:38.388772Z",
     "iopub.status.idle": "2024-07-30T17:18:38.391824Z",
     "shell.execute_reply": "2024-07-30T17:18:38.391443Z"
    }
   },
   "outputs": [
    {
     "data": {
      "text/plain": [
       "PosixPath('00_python_basics_review.ipynb')"
      ]
     },
     "execution_count": 10,
     "metadata": {},
     "output_type": "execute_result"
    }
   ],
   "source": [
    "f = cwd / '00_python_basics_review.ipynb'\n",
    "f"
   ]
  },
  {
   "cell_type": "markdown",
   "metadata": {},
   "source": [
    "#### check if it exists, or if it's a directory"
   ]
  },
  {
   "cell_type": "code",
   "execution_count": 11,
   "metadata": {
    "execution": {
     "iopub.execute_input": "2024-07-30T17:18:38.393583Z",
     "iopub.status.busy": "2024-07-30T17:18:38.393277Z",
     "iopub.status.idle": "2024-07-30T17:18:38.396493Z",
     "shell.execute_reply": "2024-07-30T17:18:38.396015Z"
    }
   },
   "outputs": [
    {
     "data": {
      "text/plain": [
       "(True, False)"
      ]
     },
     "execution_count": 11,
     "metadata": {},
     "output_type": "execute_result"
    }
   ],
   "source": [
    "f.exists(), f.is_dir()"
   ]
  },
  {
   "cell_type": "markdown",
   "metadata": {},
   "source": [
    "### Creating files and folders\n",
    "\n",
    "#### make a new subdirectory"
   ]
  },
  {
   "cell_type": "code",
   "execution_count": 12,
   "metadata": {
    "execution": {
     "iopub.execute_input": "2024-07-30T17:18:38.398411Z",
     "iopub.status.busy": "2024-07-30T17:18:38.397996Z",
     "iopub.status.idle": "2024-07-30T17:18:38.401290Z",
     "shell.execute_reply": "2024-07-30T17:18:38.400833Z"
    }
   },
   "outputs": [
    {
     "data": {
      "text/plain": [
       "PosixPath('more_files')"
      ]
     },
     "execution_count": 12,
     "metadata": {},
     "output_type": "execute_result"
    }
   ],
   "source": [
    "new_folder = cwd / 'more_files'\n",
    "new_folder"
   ]
  },
  {
   "cell_type": "code",
   "execution_count": 13,
   "metadata": {
    "execution": {
     "iopub.execute_input": "2024-07-30T17:18:38.403014Z",
     "iopub.status.busy": "2024-07-30T17:18:38.402859Z",
     "iopub.status.idle": "2024-07-30T17:18:38.406122Z",
     "shell.execute_reply": "2024-07-30T17:18:38.405716Z"
    }
   },
   "outputs": [
    {
     "data": {
      "text/plain": [
       "False"
      ]
     },
     "execution_count": 13,
     "metadata": {},
     "output_type": "execute_result"
    }
   ],
   "source": [
    "new_folder.exists()"
   ]
  },
  {
   "cell_type": "code",
   "execution_count": 14,
   "metadata": {
    "execution": {
     "iopub.execute_input": "2024-07-30T17:18:38.407741Z",
     "iopub.status.busy": "2024-07-30T17:18:38.407593Z",
     "iopub.status.idle": "2024-07-30T17:18:38.410926Z",
     "shell.execute_reply": "2024-07-30T17:18:38.410519Z"
    }
   },
   "outputs": [
    {
     "data": {
      "text/plain": [
       "True"
      ]
     },
     "execution_count": 14,
     "metadata": {},
     "output_type": "execute_result"
    }
   ],
   "source": [
    "new_folder.mkdir(); new_folder.exists()"
   ]
  },
  {
   "cell_type": "markdown",
   "metadata": {},
   "source": [
    "Note that if you try to run the above cell twice, you'll get an error that the folder already exists\n",
    "``exist_ok=True`` supresses these errors."
   ]
  },
  {
   "cell_type": "code",
   "execution_count": 15,
   "metadata": {
    "execution": {
     "iopub.execute_input": "2024-07-30T17:18:38.412797Z",
     "iopub.status.busy": "2024-07-30T17:18:38.412505Z",
     "iopub.status.idle": "2024-07-30T17:18:38.414774Z",
     "shell.execute_reply": "2024-07-30T17:18:38.414353Z"
    }
   },
   "outputs": [],
   "source": [
    "new_folder.mkdir(exist_ok=True)"
   ]
  },
  {
   "cell_type": "markdown",
   "metadata": {},
   "source": [
    "#### make a new subfolder within a new subfolder\n",
    "The ``parents=True`` argument allows for making subfolders within new subfolders"
   ]
  },
  {
   "cell_type": "code",
   "execution_count": 16,
   "metadata": {
    "execution": {
     "iopub.execute_input": "2024-07-30T17:18:38.416592Z",
     "iopub.status.busy": "2024-07-30T17:18:38.416289Z",
     "iopub.status.idle": "2024-07-30T17:18:38.418835Z",
     "shell.execute_reply": "2024-07-30T17:18:38.418358Z"
    }
   },
   "outputs": [],
   "source": [
    "(new_folder / 'subfolder').mkdir(exist_ok=True, parents=True)"
   ]
  },
  {
   "cell_type": "markdown",
   "metadata": {},
   "source": [
    "### absolute vs. relative pathing\n",
    "\n",
    "Get the absolute location of the current working directory"
   ]
  },
  {
   "cell_type": "code",
   "execution_count": 17,
   "metadata": {
    "execution": {
     "iopub.execute_input": "2024-07-30T17:18:38.420427Z",
     "iopub.status.busy": "2024-07-30T17:18:38.420277Z",
     "iopub.status.idle": "2024-07-30T17:18:38.423589Z",
     "shell.execute_reply": "2024-07-30T17:18:38.423115Z"
    }
   },
   "outputs": [
    {
     "data": {
      "text/plain": [
       "PosixPath('/home/runner/work/python-for-hydrology/python-for-hydrology/docs/source/notebooks/part0_python_intro')"
      ]
     },
     "execution_count": 17,
     "metadata": {},
     "output_type": "execute_result"
    }
   ],
   "source": [
    "abs_cwd = Path.cwd()\n",
    "abs_cwd"
   ]
  },
  {
   "cell_type": "markdown",
   "metadata": {},
   "source": [
    "Go up two levels to the course repository"
   ]
  },
  {
   "cell_type": "code",
   "execution_count": 18,
   "metadata": {
    "execution": {
     "iopub.execute_input": "2024-07-30T17:18:38.425415Z",
     "iopub.status.busy": "2024-07-30T17:18:38.425116Z",
     "iopub.status.idle": "2024-07-30T17:18:38.428309Z",
     "shell.execute_reply": "2024-07-30T17:18:38.427844Z"
    }
   },
   "outputs": [
    {
     "data": {
      "text/plain": [
       "PosixPath('/home/runner/work/python-for-hydrology/python-for-hydrology/docs/source/notebooks/part0_python_intro/../..')"
      ]
     },
     "execution_count": 18,
     "metadata": {},
     "output_type": "execute_result"
    }
   ],
   "source": [
    "class_root = (abs_cwd / '../../')\n",
    "class_root"
   ]
  },
  {
   "cell_type": "markdown",
   "metadata": {},
   "source": [
    "Simplify or resolve the path"
   ]
  },
  {
   "cell_type": "code",
   "execution_count": 19,
   "metadata": {
    "execution": {
     "iopub.execute_input": "2024-07-30T17:18:38.430188Z",
     "iopub.status.busy": "2024-07-30T17:18:38.429875Z",
     "iopub.status.idle": "2024-07-30T17:18:38.433791Z",
     "shell.execute_reply": "2024-07-30T17:18:38.433392Z"
    }
   },
   "outputs": [
    {
     "data": {
      "text/plain": [
       "PosixPath('/home/runner/work/python-for-hydrology/python-for-hydrology/docs/source')"
      ]
     },
     "execution_count": 19,
     "metadata": {},
     "output_type": "execute_result"
    }
   ],
   "source": [
    "class_root = class_root.resolve()\n",
    "class_root"
   ]
  },
  {
   "cell_type": "markdown",
   "metadata": {},
   "source": [
    "Get the cwd relative to the course repository"
   ]
  },
  {
   "cell_type": "code",
   "execution_count": 20,
   "metadata": {
    "execution": {
     "iopub.execute_input": "2024-07-30T17:18:38.435624Z",
     "iopub.status.busy": "2024-07-30T17:18:38.435352Z",
     "iopub.status.idle": "2024-07-30T17:18:38.438635Z",
     "shell.execute_reply": "2024-07-30T17:18:38.438180Z"
    }
   },
   "outputs": [
    {
     "data": {
      "text/plain": [
       "PosixPath('notebooks/part0_python_intro')"
      ]
     },
     "execution_count": 20,
     "metadata": {},
     "output_type": "execute_result"
    }
   ],
   "source": [
    "abs_cwd.relative_to(class_root)"
   ]
  },
  {
   "cell_type": "markdown",
   "metadata": {},
   "source": [
    "check if this is an absolute or relative path"
   ]
  },
  {
   "cell_type": "code",
   "execution_count": 21,
   "metadata": {
    "execution": {
     "iopub.execute_input": "2024-07-30T17:18:38.440429Z",
     "iopub.status.busy": "2024-07-30T17:18:38.440132Z",
     "iopub.status.idle": "2024-07-30T17:18:38.443252Z",
     "shell.execute_reply": "2024-07-30T17:18:38.442852Z"
    }
   },
   "outputs": [
    {
     "data": {
      "text/plain": [
       "False"
      ]
     },
     "execution_count": 21,
     "metadata": {},
     "output_type": "execute_result"
    }
   ],
   "source": [
    "abs_cwd.relative_to(class_root).is_absolute()"
   ]
  },
  {
   "cell_type": "code",
   "execution_count": 22,
   "metadata": {
    "execution": {
     "iopub.execute_input": "2024-07-30T17:18:38.445102Z",
     "iopub.status.busy": "2024-07-30T17:18:38.444729Z",
     "iopub.status.idle": "2024-07-30T17:18:38.447946Z",
     "shell.execute_reply": "2024-07-30T17:18:38.447500Z"
    }
   },
   "outputs": [
    {
     "data": {
      "text/plain": [
       "True"
      ]
     },
     "execution_count": 22,
     "metadata": {},
     "output_type": "execute_result"
    }
   ],
   "source": [
    "abs_cwd.is_absolute()"
   ]
  },
  {
   "cell_type": "markdown",
   "metadata": {},
   "source": [
    "**gottcha:** `Path.relative_to()` only works when the first path is a subpath of the second path, or if both paths are aboslute\n",
    "\n",
    "For example, try executing this line: \n",
    "\n",
    "```python\n",
    "Path('../part1_flopy/').relative_to('data')\n",
    "```"
   ]
  },
  {
   "cell_type": "markdown",
   "metadata": {},
   "source": [
    "If you need a relative path that will work robustly in a script, `os.path.relpath` might be a better choice"
   ]
  },
  {
   "cell_type": "code",
   "execution_count": 23,
   "metadata": {
    "execution": {
     "iopub.execute_input": "2024-07-30T17:18:38.449814Z",
     "iopub.status.busy": "2024-07-30T17:18:38.449467Z",
     "iopub.status.idle": "2024-07-30T17:18:38.452818Z",
     "shell.execute_reply": "2024-07-30T17:18:38.452410Z"
    }
   },
   "outputs": [
    {
     "data": {
      "text/plain": [
       "'../../part1_flopy'"
      ]
     },
     "execution_count": 23,
     "metadata": {},
     "output_type": "execute_result"
    }
   ],
   "source": [
    "os.path.relpath('../part1_flopy/', 'data')"
   ]
  },
  {
   "cell_type": "code",
   "execution_count": 24,
   "metadata": {
    "execution": {
     "iopub.execute_input": "2024-07-30T17:18:38.454647Z",
     "iopub.status.busy": "2024-07-30T17:18:38.454377Z",
     "iopub.status.idle": "2024-07-30T17:18:38.457670Z",
     "shell.execute_reply": "2024-07-30T17:18:38.457274Z"
    }
   },
   "outputs": [
    {
     "data": {
      "text/plain": [
       "'../part0_python_intro/data'"
      ]
     },
     "execution_count": 24,
     "metadata": {},
     "output_type": "execute_result"
    }
   ],
   "source": [
    "os.path.relpath('data', '../part1_flopy/')"
   ]
  },
  {
   "cell_type": "markdown",
   "metadata": {},
   "source": [
    "### useful attributes"
   ]
  },
  {
   "cell_type": "code",
   "execution_count": 25,
   "metadata": {
    "execution": {
     "iopub.execute_input": "2024-07-30T17:18:38.459465Z",
     "iopub.status.busy": "2024-07-30T17:18:38.459163Z",
     "iopub.status.idle": "2024-07-30T17:18:38.462364Z",
     "shell.execute_reply": "2024-07-30T17:18:38.461935Z"
    }
   },
   "outputs": [
    {
     "data": {
      "text/plain": [
       "PosixPath('/home/runner/work/python-for-hydrology/python-for-hydrology/docs/source/notebooks')"
      ]
     },
     "execution_count": 25,
     "metadata": {},
     "output_type": "execute_result"
    }
   ],
   "source": [
    "abs_cwd.parent"
   ]
  },
  {
   "cell_type": "code",
   "execution_count": 26,
   "metadata": {
    "execution": {
     "iopub.execute_input": "2024-07-30T17:18:38.464136Z",
     "iopub.status.busy": "2024-07-30T17:18:38.463760Z",
     "iopub.status.idle": "2024-07-30T17:18:38.466986Z",
     "shell.execute_reply": "2024-07-30T17:18:38.466522Z"
    }
   },
   "outputs": [
    {
     "data": {
      "text/plain": [
       "PosixPath('/home/runner/work/python-for-hydrology/python-for-hydrology/docs/source')"
      ]
     },
     "execution_count": 26,
     "metadata": {},
     "output_type": "execute_result"
    }
   ],
   "source": [
    "abs_cwd.parent.parent"
   ]
  },
  {
   "cell_type": "code",
   "execution_count": 27,
   "metadata": {
    "execution": {
     "iopub.execute_input": "2024-07-30T17:18:38.468774Z",
     "iopub.status.busy": "2024-07-30T17:18:38.468481Z",
     "iopub.status.idle": "2024-07-30T17:18:38.471671Z",
     "shell.execute_reply": "2024-07-30T17:18:38.471186Z"
    }
   },
   "outputs": [
    {
     "data": {
      "text/plain": [
       "'00_python_basics_review.ipynb'"
      ]
     },
     "execution_count": 27,
     "metadata": {},
     "output_type": "execute_result"
    }
   ],
   "source": [
    "f.name"
   ]
  },
  {
   "cell_type": "code",
   "execution_count": 28,
   "metadata": {
    "execution": {
     "iopub.execute_input": "2024-07-30T17:18:38.473629Z",
     "iopub.status.busy": "2024-07-30T17:18:38.473256Z",
     "iopub.status.idle": "2024-07-30T17:18:38.476476Z",
     "shell.execute_reply": "2024-07-30T17:18:38.476082Z"
    }
   },
   "outputs": [
    {
     "data": {
      "text/plain": [
       "'.ipynb'"
      ]
     },
     "execution_count": 28,
     "metadata": {},
     "output_type": "execute_result"
    }
   ],
   "source": [
    "f.suffix"
   ]
  },
  {
   "cell_type": "code",
   "execution_count": 29,
   "metadata": {
    "execution": {
     "iopub.execute_input": "2024-07-30T17:18:38.478271Z",
     "iopub.status.busy": "2024-07-30T17:18:38.477925Z",
     "iopub.status.idle": "2024-07-30T17:18:38.480976Z",
     "shell.execute_reply": "2024-07-30T17:18:38.480563Z"
    }
   },
   "outputs": [
    {
     "data": {
      "text/plain": [
       "PosixPath('00_python_basics_review.junk')"
      ]
     },
     "execution_count": 29,
     "metadata": {},
     "output_type": "execute_result"
    }
   ],
   "source": [
    "f.with_suffix('.junk')"
   ]
  },
  {
   "cell_type": "code",
   "execution_count": 30,
   "metadata": {
    "execution": {
     "iopub.execute_input": "2024-07-30T17:18:38.482574Z",
     "iopub.status.busy": "2024-07-30T17:18:38.482436Z",
     "iopub.status.idle": "2024-07-30T17:18:38.485549Z",
     "shell.execute_reply": "2024-07-30T17:18:38.485154Z"
    }
   },
   "outputs": [
    {
     "data": {
      "text/plain": [
       "'00_python_basics_review'"
      ]
     },
     "execution_count": 30,
     "metadata": {},
     "output_type": "execute_result"
    }
   ],
   "source": [
    "f.stem"
   ]
  },
  {
   "cell_type": "markdown",
   "metadata": {},
   "source": [
    "### Moving and deleting files\n",
    "\n",
    "Make a file"
   ]
  },
  {
   "cell_type": "code",
   "execution_count": 31,
   "metadata": {
    "execution": {
     "iopub.execute_input": "2024-07-30T17:18:38.487296Z",
     "iopub.status.busy": "2024-07-30T17:18:38.487007Z",
     "iopub.status.idle": "2024-07-30T17:18:38.489717Z",
     "shell.execute_reply": "2024-07-30T17:18:38.489318Z"
    }
   },
   "outputs": [],
   "source": [
    "fname = Path('new_file.txt')\n",
    "with open(fname, 'w') as dest:\n",
    "    dest.write(\"A new text file.\")"
   ]
  },
  {
   "cell_type": "code",
   "execution_count": 32,
   "metadata": {
    "execution": {
     "iopub.execute_input": "2024-07-30T17:18:38.491503Z",
     "iopub.status.busy": "2024-07-30T17:18:38.491223Z",
     "iopub.status.idle": "2024-07-30T17:18:38.494339Z",
     "shell.execute_reply": "2024-07-30T17:18:38.493859Z"
    }
   },
   "outputs": [
    {
     "data": {
      "text/plain": [
       "True"
      ]
     },
     "execution_count": 32,
     "metadata": {},
     "output_type": "execute_result"
    }
   ],
   "source": [
    "fname.exists()"
   ]
  },
  {
   "cell_type": "markdown",
   "metadata": {},
   "source": [
    "Move the file"
   ]
  },
  {
   "cell_type": "code",
   "execution_count": 33,
   "metadata": {
    "execution": {
     "iopub.execute_input": "2024-07-30T17:18:38.496027Z",
     "iopub.status.busy": "2024-07-30T17:18:38.495875Z",
     "iopub.status.idle": "2024-07-30T17:18:38.499325Z",
     "shell.execute_reply": "2024-07-30T17:18:38.498867Z"
    }
   },
   "outputs": [
    {
     "data": {
      "text/plain": [
       "PosixPath('new_file2.txt')"
      ]
     },
     "execution_count": 33,
     "metadata": {},
     "output_type": "execute_result"
    }
   ],
   "source": [
    "fname2 = Path('new_file2.txt')\n",
    "fname.rename(fname2)"
   ]
  },
  {
   "cell_type": "code",
   "execution_count": 34,
   "metadata": {
    "execution": {
     "iopub.execute_input": "2024-07-30T17:18:38.501215Z",
     "iopub.status.busy": "2024-07-30T17:18:38.500896Z",
     "iopub.status.idle": "2024-07-30T17:18:38.504145Z",
     "shell.execute_reply": "2024-07-30T17:18:38.503780Z"
    }
   },
   "outputs": [
    {
     "data": {
      "text/plain": [
       "False"
      ]
     },
     "execution_count": 34,
     "metadata": {},
     "output_type": "execute_result"
    }
   ],
   "source": [
    "fname.exists()"
   ]
  },
  {
   "cell_type": "markdown",
   "metadata": {},
   "source": [
    "Delete the file"
   ]
  },
  {
   "cell_type": "code",
   "execution_count": 35,
   "metadata": {
    "execution": {
     "iopub.execute_input": "2024-07-30T17:18:38.505794Z",
     "iopub.status.busy": "2024-07-30T17:18:38.505646Z",
     "iopub.status.idle": "2024-07-30T17:18:38.508103Z",
     "shell.execute_reply": "2024-07-30T17:18:38.507628Z"
    }
   },
   "outputs": [],
   "source": [
    "fname2.unlink()"
   ]
  },
  {
   "cell_type": "code",
   "execution_count": 36,
   "metadata": {
    "execution": {
     "iopub.execute_input": "2024-07-30T17:18:38.509822Z",
     "iopub.status.busy": "2024-07-30T17:18:38.509532Z",
     "iopub.status.idle": "2024-07-30T17:18:38.512528Z",
     "shell.execute_reply": "2024-07-30T17:18:38.512154Z"
    }
   },
   "outputs": [
    {
     "data": {
      "text/plain": [
       "False"
      ]
     },
     "execution_count": 36,
     "metadata": {},
     "output_type": "execute_result"
    }
   ],
   "source": [
    "fname2.exists()"
   ]
  },
  {
   "cell_type": "markdown",
   "metadata": {},
   "source": [
    "#### Delete the empty folder we made above\n",
    "Note: this only works for empty directories (use ``shutil.rmtree()`` very carefully for removing folders and all contents within)"
   ]
  },
  {
   "cell_type": "code",
   "execution_count": 37,
   "metadata": {
    "execution": {
     "iopub.execute_input": "2024-07-30T17:18:38.514325Z",
     "iopub.status.busy": "2024-07-30T17:18:38.513994Z",
     "iopub.status.idle": "2024-07-30T17:18:38.516376Z",
     "shell.execute_reply": "2024-07-30T17:18:38.515979Z"
    }
   },
   "outputs": [],
   "source": [
    "Path('more_files/subfolder/').rmdir()"
   ]
  },
  {
   "cell_type": "markdown",
   "metadata": {},
   "source": [
    "## ``shutil`` — High-level file operations\n",
    "module for copying, moving, and deleting files and directories.\n",
    "\n",
    "https://docs.python.org/3/library/shutil.html\n",
    "\n",
    "The functions from shutil that you may find useful are:\n",
    "\n",
    "    shutil.copy()\n",
    "    shutil.copy2()  # this preserves most metadata (i.e. dates); unlike copy()\n",
    "    shutil.copytree()\n",
    "    shutil.move()\n",
    "    shutil.rmtree()  #obviously, you need to be careful with this one!\n",
    "    \n",
    "Give these guys a shot and see what they do.  Remember, you can always get help by typing:\n",
    "\n",
    "    help(shutil.copy)\n"
   ]
  },
  {
   "cell_type": "code",
   "execution_count": 38,
   "metadata": {
    "execution": {
     "iopub.execute_input": "2024-07-30T17:18:38.518238Z",
     "iopub.status.busy": "2024-07-30T17:18:38.517921Z",
     "iopub.status.idle": "2024-07-30T17:18:38.520142Z",
     "shell.execute_reply": "2024-07-30T17:18:38.519748Z"
    }
   },
   "outputs": [],
   "source": [
    "#try them here.  Be careful!"
   ]
  },
  {
   "cell_type": "code",
   "execution_count": 39,
   "metadata": {
    "execution": {
     "iopub.execute_input": "2024-07-30T17:18:38.521872Z",
     "iopub.status.busy": "2024-07-30T17:18:38.521532Z",
     "iopub.status.idle": "2024-07-30T17:18:38.524132Z",
     "shell.execute_reply": "2024-07-30T17:18:38.523661Z"
    }
   },
   "outputs": [],
   "source": [
    "shutil.rmtree(new_folder)"
   ]
  },
  {
   "cell_type": "markdown",
   "metadata": {},
   "source": [
    "## ``sys`` — System-specific parameters and functions\n",
    "\n",
    "### Getting information about python and the os\n",
    "where python is installed"
   ]
  },
  {
   "cell_type": "code",
   "execution_count": 40,
   "metadata": {
    "execution": {
     "iopub.execute_input": "2024-07-30T17:18:38.526228Z",
     "iopub.status.busy": "2024-07-30T17:18:38.525812Z",
     "iopub.status.idle": "2024-07-30T17:18:38.528503Z",
     "shell.execute_reply": "2024-07-30T17:18:38.528054Z"
    }
   },
   "outputs": [
    {
     "name": "stdout",
     "output_type": "stream",
     "text": [
      "/home/runner/micromamba/envs/pyclass-docs\n"
     ]
    }
   ],
   "source": [
    "print(sys.prefix)"
   ]
  },
  {
   "cell_type": "code",
   "execution_count": 41,
   "metadata": {
    "execution": {
     "iopub.execute_input": "2024-07-30T17:18:38.530281Z",
     "iopub.status.busy": "2024-07-30T17:18:38.529990Z",
     "iopub.status.idle": "2024-07-30T17:18:38.532423Z",
     "shell.execute_reply": "2024-07-30T17:18:38.531959Z"
    }
   },
   "outputs": [
    {
     "name": "stdout",
     "output_type": "stream",
     "text": [
      "sys.version_info(major=3, minor=11, micro=9, releaselevel='final', serial=0)\n"
     ]
    }
   ],
   "source": [
    "print(sys.version_info)"
   ]
  },
  {
   "cell_type": "code",
   "execution_count": 42,
   "metadata": {
    "execution": {
     "iopub.execute_input": "2024-07-30T17:18:38.534064Z",
     "iopub.status.busy": "2024-07-30T17:18:38.533924Z",
     "iopub.status.idle": "2024-07-30T17:18:38.537136Z",
     "shell.execute_reply": "2024-07-30T17:18:38.536731Z"
    }
   },
   "outputs": [
    {
     "data": {
      "text/plain": [
       "'linux'"
      ]
     },
     "execution_count": 42,
     "metadata": {},
     "output_type": "execute_result"
    }
   ],
   "source": [
    "sys.platform"
   ]
  },
  {
   "cell_type": "markdown",
   "metadata": {},
   "source": [
    "### Adding command line arguments to a script\n",
    "Here the command line arguments reflect that we're running a Juptyer Notebook. \n",
    "\n",
    "In a python script, command line arguments are listed after the first item in the list."
   ]
  },
  {
   "cell_type": "code",
   "execution_count": 43,
   "metadata": {
    "execution": {
     "iopub.execute_input": "2024-07-30T17:18:38.539026Z",
     "iopub.status.busy": "2024-07-30T17:18:38.538732Z",
     "iopub.status.idle": "2024-07-30T17:18:38.541819Z",
     "shell.execute_reply": "2024-07-30T17:18:38.541299Z"
    }
   },
   "outputs": [
    {
     "data": {
      "text/plain": [
       "['/home/runner/micromamba/envs/pyclass-docs/lib/python3.11/site-packages/ipykernel_launcher.py',\n",
       " '-f',\n",
       " '/tmp/tmp63ststa2.json',\n",
       " '--HistoryManager.hist_file=:memory:']"
      ]
     },
     "execution_count": 43,
     "metadata": {},
     "output_type": "execute_result"
    }
   ],
   "source": [
    "sys.argv"
   ]
  },
  {
   "cell_type": "markdown",
   "metadata": {
    "jp-MarkdownHeadingCollapsed": true
   },
   "source": [
    "### Exercise: Make a script with a command line argument using sys.argv\n",
    "\n",
    "1) Using a text editor such as VSCode, make a new ``*.py`` file with the following contents:\n",
    "\n",
    "```python\n",
    "import sys\n",
    "\n",
    "if len(sys.argv) > 1:\n",
    "    for argument in sys.argv[1:]:\n",
    "        print(argument)\n",
    "else:\n",
    "    print(\"usage is: python <script name>.py argument\")\n",
    "    quit()\n",
    "```\n",
    "\n",
    "2) Try running the script at the command line"
   ]
  },
  {
   "cell_type": "markdown",
   "metadata": {},
   "source": [
    "### modifying the python path\n",
    "\n",
    "If you haven't seen `sys.path` already mentioned in a python script, you will soon.  `sys.path` is a list of directories.  This path list is used by python to search for python modules and packages.  If for some reason, you want to use a python package or  module that is not installed in the main python folder, you can add the directory containing your module to sys.path.\n",
    "\n",
    "Any packages installed by linking the source code in place (i.e. ``pip install -e .`` will also show up here."
   ]
  },
  {
   "cell_type": "code",
   "execution_count": 44,
   "metadata": {
    "execution": {
     "iopub.execute_input": "2024-07-30T17:18:38.543688Z",
     "iopub.status.busy": "2024-07-30T17:18:38.543316Z",
     "iopub.status.idle": "2024-07-30T17:18:38.545866Z",
     "shell.execute_reply": "2024-07-30T17:18:38.545439Z"
    }
   },
   "outputs": [
    {
     "name": "stdout",
     "output_type": "stream",
     "text": [
      "/home/runner/micromamba/envs/pyclass-docs/lib/python311.zip\n",
      "/home/runner/micromamba/envs/pyclass-docs/lib/python3.11\n",
      "/home/runner/micromamba/envs/pyclass-docs/lib/python3.11/lib-dynload\n",
      "\n",
      "/home/runner/micromamba/envs/pyclass-docs/lib/python3.11/site-packages\n"
     ]
    }
   ],
   "source": [
    "for pth in sys.path:\n",
    "    print(pth)"
   ]
  },
  {
   "cell_type": "markdown",
   "metadata": {},
   "source": [
    "### Using ``sys.path`` to import code from an arbitrary location\n",
    "\n",
    "1) Using a text editor such as VSCode (or ``pathlib`` and python) make a new ``*.py`` file in another folder (anything in the same folder as this notebook can already be imported). For example:"
   ]
  },
  {
   "cell_type": "code",
   "execution_count": 45,
   "metadata": {
    "execution": {
     "iopub.execute_input": "2024-07-30T17:18:38.547608Z",
     "iopub.status.busy": "2024-07-30T17:18:38.547449Z",
     "iopub.status.idle": "2024-07-30T17:18:38.550450Z",
     "shell.execute_reply": "2024-07-30T17:18:38.550059Z"
    }
   },
   "outputs": [],
   "source": [
    "subfolder = Path('another_subfolder/scripts')\n",
    "subfolder.mkdir(exist_ok=True, parents=True)\n",
    "\n",
    "with open(subfolder / 'mycode.py', 'w') as dest:\n",
    "    dest.write(\"stuff = {'this is': 'a dictionary'}\")"
   ]
  },
  {
   "cell_type": "markdown",
   "metadata": {},
   "source": [
    "Now add this folder to the python path"
   ]
  },
  {
   "cell_type": "code",
   "execution_count": 46,
   "metadata": {
    "execution": {
     "iopub.execute_input": "2024-07-30T17:18:38.552254Z",
     "iopub.status.busy": "2024-07-30T17:18:38.551904Z",
     "iopub.status.idle": "2024-07-30T17:18:38.554121Z",
     "shell.execute_reply": "2024-07-30T17:18:38.553735Z"
    }
   },
   "outputs": [],
   "source": [
    "sys.path.append('another_subfolder/scripts')"
   ]
  },
  {
   "cell_type": "markdown",
   "metadata": {},
   "source": [
    "Code can be imported by calling the containing module"
   ]
  },
  {
   "cell_type": "code",
   "execution_count": 47,
   "metadata": {
    "execution": {
     "iopub.execute_input": "2024-07-30T17:18:38.555995Z",
     "iopub.status.busy": "2024-07-30T17:18:38.555638Z",
     "iopub.status.idle": "2024-07-30T17:18:38.559380Z",
     "shell.execute_reply": "2024-07-30T17:18:38.558926Z"
    }
   },
   "outputs": [
    {
     "data": {
      "text/plain": [
       "{'this is': 'a dictionary'}"
      ]
     },
     "execution_count": 47,
     "metadata": {},
     "output_type": "execute_result"
    }
   ],
   "source": [
    "from mycode import stuff\n",
    "\n",
    "stuff"
   ]
  },
  {
   "cell_type": "markdown",
   "metadata": {},
   "source": [
    "**Note**: Generally, importing code using ``sys.path`` is considered bad practice, because \n",
    "\n",
    "* it can hide dependencies.    \n",
    "\n",
    "    * from the information above, we don't know whether ``mycode`` is a package that is installed, a module in the current folder, or anywhere else for that matter.\n",
    "    * Similarly, we know that any modules from ``'another_subfolder/scripts'`` can be imported, but we don't know which modules in that folder are needed without some additional checking.\n",
    "\n",
    "* importing code using ``sys.path`` is also sensitive to the location of the script relative to the path. If the script is moved or used on someone else's computer with a different file structure, it'll break.\n",
    "\n",
    "In general, [installing reusable code in a package is the best way to go](https://nsls-ii.github.io/scientific-python-cookiecutter/). Packages provide a framework for organizing, documenting, testing and sharing code in a way that is easily understood by others.\n",
    "\n",
    "Whatever you do, avoid importing with an `*` (i.e. ``from mycode import *``) at all costs. This imports everything from the namespace of a module, which can lead to unintended consequences."
   ]
  },
  {
   "cell_type": "markdown",
   "metadata": {},
   "source": [
    "## ``os`` — Miscellaneous operating system interfaces¶\n",
    "Historically, the ``os.path`` module was the de facto standard for file and path manipulation. Since python 3.4 however, ``pathlib`` is generally cleaner and easier to use for most of these operations. But there are some exceptions.\n",
    "\n",
    "### Changing the current working directory\n",
    "``pathlib`` doesn't do this.   \n",
    "Note: this can obviously lead to trouble in scripts, so should usually be avoided, but sometimes it is necessary."
   ]
  },
  {
   "cell_type": "code",
   "execution_count": 48,
   "metadata": {
    "execution": {
     "iopub.execute_input": "2024-07-30T17:18:38.561454Z",
     "iopub.status.busy": "2024-07-30T17:18:38.560967Z",
     "iopub.status.idle": "2024-07-30T17:18:38.564412Z",
     "shell.execute_reply": "2024-07-30T17:18:38.563951Z"
    }
   },
   "outputs": [
    {
     "name": "stdout",
     "output_type": "stream",
     "text": [
      "Now in:  /home/runner/work/python-for-hydrology/python-for-hydrology/docs/source/notebooks\n",
      "Switched back to:  /home/runner/work/python-for-hydrology/python-for-hydrology/docs/source/notebooks/part0_python_intro\n"
     ]
    }
   ],
   "source": [
    "# Example of changing the working directory\n",
    "old_wd = os.getcwd()\n",
    "\n",
    "# Go up one directory\n",
    "os.chdir('..')\n",
    "cwd = os.getcwd()\n",
    "print ('Now in: ', cwd)\n",
    "\n",
    "# Change back to original\n",
    "os.chdir(old_wd)\n",
    "cwd = os.getcwd()\n",
    "print('Switched back to: ', cwd)"
   ]
  },
  {
   "cell_type": "markdown",
   "metadata": {},
   "source": [
    "### os.walk\n",
    "\n",
    "os.walk() is a great way to recursively generate all the file names and folders in a directory.  The following shows how it can be used to identify large directories."
   ]
  },
  {
   "cell_type": "code",
   "execution_count": 49,
   "metadata": {
    "execution": {
     "iopub.execute_input": "2024-07-30T17:18:38.566072Z",
     "iopub.status.busy": "2024-07-30T17:18:38.565934Z",
     "iopub.status.idle": "2024-07-30T17:18:38.573195Z",
     "shell.execute_reply": "2024-07-30T17:18:38.572733Z"
    }
   },
   "outputs": [
    {
     "data": {
      "text/plain": [
       "[('..', ['part0_python_intro', 'part1_flopy'], []),\n",
       " ('../part0_python_intro',\n",
       "  ['another_subfolder', 'solutions', 'data'],\n",
       "  ['11_xarray_mt_rainier_precip.ipynb',\n",
       "   '05_numpy.ipynb',\n",
       "   '09_b_Geopandas_ABQ.ipynb',\n",
       "   '09_a_Geopandas.ipynb',\n",
       "   '10_Rasterio.ipynb',\n",
       "   '06b_matplotlib_animation.ipynb',\n",
       "   '00_python_basics_review.ipynb',\n",
       "   '03_useful-std-library-modules.ipynb',\n",
       "   '07b_VSCode.md']),\n",
       " ('../part0_python_intro/another_subfolder', ['scripts'], []),\n",
       " ('../part0_python_intro/another_subfolder/scripts',\n",
       "  ['__pycache__'],\n",
       "  ['mycode.py']),\n",
       " ('../part0_python_intro/another_subfolder/scripts/__pycache__',\n",
       "  [],\n",
       "  ['mycode.cpython-311.pyc']),\n",
       " ('../part0_python_intro/solutions',\n",
       "  [],\n",
       "  ['09_Geopandas__solutions.ipynb',\n",
       "   '03_useful-std-library-modules-solutions.ipynb',\n",
       "   '02_Namespace_objects_modules_packages__solution.ipynb',\n",
       "   '07a_Theis-exercise-solution.ipynb',\n",
       "   '08_pandas.ipynb',\n",
       "   '01_functions_script__solution.ipynb',\n",
       "   '05_numpy__solutions.ipynb',\n",
       "   '04_files_and_strings.ipynb',\n",
       "   '06_matplotlib__solution.ipynb']),\n",
       " ('../part0_python_intro/data',\n",
       "  ['pandas', 'xarray', 'rasterio', 'fileio', 'numpy', 'geopandas'],\n",
       "  ['dream.txt', 'netcdf_data.zip', 'theis_charles_vernon.jpg']),\n",
       " ('../part0_python_intro/data/pandas',\n",
       "  [],\n",
       "  ['RussianRiverGWsites.csv',\n",
       "   'panda.jpg',\n",
       "   'site_info.csv',\n",
       "   'stock_russian.jpg',\n",
       "   'santa_rosa_CIMIS_83.csv',\n",
       "   'RR_gage_data.csv']),\n",
       " ('../part0_python_intro/data/xarray',\n",
       "  [],\n",
       "  ['aligned-19700901_ned1_2003_adj_4269.tif',\n",
       "   'daymet_prcp_rainier_1980-2018.nc']),\n",
       " ('../part0_python_intro/data/rasterio',\n",
       "  [],\n",
       "  ['19700901_ned1_2003_adj_warp.tif',\n",
       "   'rgi60_glacierpoly_rainier.shp',\n",
       "   '20150818_rainier_summer-tile-30.tif',\n",
       "   'rgi60_glacierpoly_rainier.prj',\n",
       "   'rgi60_glacierpoly_rainier.shx',\n",
       "   '20080901_rainierlidar_30m-adj.tif',\n",
       "   'rgi60_glacierpoly_rainier.dbf']),\n",
       " ('../part0_python_intro/data/fileio',\n",
       "  [],\n",
       "  ['friends.txt', 'FileWithComments.txt']),\n",
       " ('../part0_python_intro/data/numpy',\n",
       "  [],\n",
       "  ['bottom.txt',\n",
       "   'ahf.csv',\n",
       "   'mt_st_helens_after.dat',\n",
       "   'bottom.dat',\n",
       "   'mt_st_helens_before.dat',\n",
       "   'bottom_commented.dat']),\n",
       " ('../part0_python_intro/data/geopandas',\n",
       "  ['abq'],\n",
       "  ['Madison_Tree_Species_Lookup.xlsx',\n",
       "   'Street_Trees.geojson',\n",
       "   'Neighborhood_Associations.geojson',\n",
       "   'Madison_Parks.geojson']),\n",
       " ('../part0_python_intro/data/geopandas/abq',\n",
       "  [],\n",
       "  ['zoneatlaspagegrid.kmz', 'abq_films.geojson']),\n",
       " ('../part1_flopy',\n",
       "  ['data_project', 'solutions', 'data'],\n",
       "  ['08_Modflow-setup-demo.ipynb',\n",
       "   '05-unstructured-grids.ipynb',\n",
       "   '09-gwt-voronoi-demo.ipynb',\n",
       "   '10_modpath_particle_tracking-demo.ipynb',\n",
       "   'basin.py',\n",
       "   '01-Flopy-intro.ipynb']),\n",
       " ('../part1_flopy/data_project',\n",
       "  [],\n",
       "  ['pumping_well_locations.dbf',\n",
       "   'Flowline_river.shx',\n",
       "   'Flowline_river.shp',\n",
       "   'Flowline_river.prj',\n",
       "   'aquifer_k.asc',\n",
       "   'active_area.shx',\n",
       "   'inactive_area.shx',\n",
       "   'active_area.shp',\n",
       "   'inactive_area.shp',\n",
       "   'aquifer_bottom.asc',\n",
       "   'active_area.dbf',\n",
       "   'pumping_well_locations.shx',\n",
       "   'pumping_well_locations.shp',\n",
       "   'inactive_area.dbf',\n",
       "   'Flowline_river.dbf',\n",
       "   'aquifer_top.asc']),\n",
       " ('../part1_flopy/solutions',\n",
       "  [],\n",
       "  ['06-Project-voronoi.ipynb',\n",
       "   '06-Project-structured_completed.ipynb',\n",
       "   '06-Project-quadtree.ipynb',\n",
       "   '02-Building-Post-Processing-MODFLOW6__solutions.ipynb',\n",
       "   '04_Modelgrid_and_intersection_solution.ipynb',\n",
       "   '07-stream_capture_voronoi.ipynb',\n",
       "   '03_Loading_and_visualizing_models-solutions.ipynb']),\n",
       " ('../part1_flopy/data',\n",
       "  ['pleasant-lake',\n",
       "   'voronoi',\n",
       "   'modelgrid_intersection',\n",
       "   'depletion_results',\n",
       "   'quadtree'],\n",
       "  ['pleasant_lgr_inset.yml', 'pleasant_lgr_parent.yml', 'flopylogo_sm.png']),\n",
       " ('../part1_flopy/data/pleasant-lake',\n",
       "  ['external', 'source_data'],\n",
       "  ['pleasant.rcha',\n",
       "   'pleasant.ic',\n",
       "   'pleasant.chd.obs',\n",
       "   'pleasant.ims',\n",
       "   'pleasant.lak.obs',\n",
       "   'pleasant.sto',\n",
       "   'pleasant.chd',\n",
       "   'pleasant.lak',\n",
       "   'pleasant.nam',\n",
       "   'pleasant.dis',\n",
       "   'pleasant.hds',\n",
       "   'pleasant.tdis',\n",
       "   'mfsim.nam',\n",
       "   'pleasant.wel',\n",
       "   'pleasant.obs',\n",
       "   'pleasant.npf',\n",
       "   'pleasant.sfr',\n",
       "   'pleasant.oc',\n",
       "   'pleasant.sfr.obs']),\n",
       " ('../part1_flopy/data/pleasant-lake/external',\n",
       "  [],\n",
       "  ['wel_004.dat',\n",
       "   'rch_007.dat',\n",
       "   'ss_001.dat',\n",
       "   'botm_000.dat',\n",
       "   'k_001.dat',\n",
       "   'wel_005.dat',\n",
       "   'strt_001.dat',\n",
       "   '600059060_stage_area_volume.dat',\n",
       "   'chd_007.dat',\n",
       "   'chd_002.dat',\n",
       "   'chd_000.dat',\n",
       "   'top.dat',\n",
       "   'wel_000.dat',\n",
       "   'k_003.dat',\n",
       "   'wel_010.dat',\n",
       "   'idomain_000.dat',\n",
       "   'k_002.dat',\n",
       "   'rch_002.dat',\n",
       "   'rch_003.dat',\n",
       "   'rch_001.dat',\n",
       "   'sy_003.dat',\n",
       "   'idomain_001.dat',\n",
       "   'botm_002.dat',\n",
       "   'rch_000.dat',\n",
       "   'strt_000.dat',\n",
       "   'ss_000.dat',\n",
       "   'idomain_002.dat',\n",
       "   'pleasant_top.dat.original',\n",
       "   'irch.dat',\n",
       "   'rch_008.dat',\n",
       "   'chd_012.dat',\n",
       "   'k33_000.dat',\n",
       "   'chd_010.dat',\n",
       "   'rch_004.dat',\n",
       "   'botm_003.dat',\n",
       "   'rch_006.dat',\n",
       "   'chd_008.dat',\n",
       "   'pleasant_packagedata.dat',\n",
       "   'wel_008.dat',\n",
       "   'chd_009.dat',\n",
       "   'k33_002.dat',\n",
       "   'sy_001.dat',\n",
       "   'wel_009.dat',\n",
       "   'wel_001.dat',\n",
       "   'wel_006.dat',\n",
       "   'chd_003.dat',\n",
       "   'rch_011.dat',\n",
       "   'chd_006.dat',\n",
       "   'wel_007.dat',\n",
       "   'strt_003.dat',\n",
       "   'sy_000.dat',\n",
       "   'rch_010.dat',\n",
       "   'botm_001.dat',\n",
       "   'sy_002.dat',\n",
       "   'idomain_003.dat',\n",
       "   'ss_003.dat',\n",
       "   'rch_009.dat',\n",
       "   'chd_011.dat',\n",
       "   'ss_002.dat',\n",
       "   'k_000.dat',\n",
       "   'k33_003.dat',\n",
       "   'chd_004.dat',\n",
       "   'k33_001.dat',\n",
       "   'rch_012.dat',\n",
       "   'rch_005.dat',\n",
       "   'strt_002.dat',\n",
       "   'chd_005.dat',\n",
       "   'chd_001.dat']),\n",
       " ('../part1_flopy/data/pleasant-lake/source_data',\n",
       "  ['shps', 'tables', 'rasters'],\n",
       "  ['PRISM_ppt_tmean_stable_4km_189501_201901_43.9850_-89.5522.csv']),\n",
       " ('../part1_flopy/data/pleasant-lake/source_data/shps',\n",
       "  ['NHDSnapshot', 'NHDPlusAttributes'],\n",
       "  ['all_lakes.shx',\n",
       "   'all_lakes.prj',\n",
       "   'all_lakes.cpg',\n",
       "   'all_lakes.dbf',\n",
       "   'all_lakes.shp']),\n",
       " ('../part1_flopy/data/pleasant-lake/source_data/shps/NHDSnapshot',\n",
       "  ['Hydrography'],\n",
       "  []),\n",
       " ('../part1_flopy/data/pleasant-lake/source_data/shps/NHDSnapshot/Hydrography',\n",
       "  [],\n",
       "  ['NHDFlowline.prj',\n",
       "   'NHDFlowline.shp',\n",
       "   'NHDFlowline.dbf',\n",
       "   'NHDFlowline.cpg',\n",
       "   'NHDFlowline.shx']),\n",
       " ('../part1_flopy/data/pleasant-lake/source_data/shps/NHDPlusAttributes',\n",
       "  [],\n",
       "  ['PlusFlow.dbf',\n",
       "   'PlusFlowlineVAA.cpg',\n",
       "   'PlusFlow.cpg',\n",
       "   'elevslope.dbf',\n",
       "   'PlusFlowlineVAA.dbf',\n",
       "   'elevslope.cpg']),\n",
       " ('../part1_flopy/data/pleasant-lake/source_data/tables',\n",
       "  [],\n",
       "  ['uwsp_heads.csv',\n",
       "   'gages.csv',\n",
       "   'nwis_heads_info_file.csv',\n",
       "   'area_stage_vol_Pleasant.csv',\n",
       "   'wdnr_gw_sites.csv',\n",
       "   'lake_sites.csv',\n",
       "   'wgnhs_head_targets.csv']),\n",
       " ('../part1_flopy/data/pleasant-lake/source_data/rasters',\n",
       "  [],\n",
       "  ['botm0.tif',\n",
       "   'botm1.tif',\n",
       "   'botm3.tif',\n",
       "   'botm2.tif',\n",
       "   'dem40m.tif',\n",
       "   'pleasant_bathymetry.tif']),\n",
       " ('../part1_flopy/data/voronoi',\n",
       "  ['grid'],\n",
       "  ['project.ims',\n",
       "   'project.ic',\n",
       "   'sfr_obs.csv',\n",
       "   'project.wel',\n",
       "   'project.oc',\n",
       "   'project.disv.grb',\n",
       "   'project.npf',\n",
       "   'project.nam',\n",
       "   'project.sfr.obs',\n",
       "   'project.tdis',\n",
       "   'project.hds',\n",
       "   'project.disv',\n",
       "   'mfsim.nam',\n",
       "   'project.cbc',\n",
       "   'project.rcha',\n",
       "   'project.chd',\n",
       "   'project.sfr',\n",
       "   'project.lst',\n",
       "   'mfsim.lst']),\n",
       " ('../part1_flopy/data/voronoi/grid',\n",
       "  [],\n",
       "  ['_triangle.0.poly',\n",
       "   '_triangle.1.ele',\n",
       "   '_triangle.0.node',\n",
       "   '_triangle.1.node',\n",
       "   '_triangle.1.neigh',\n",
       "   '_triangle.1.poly',\n",
       "   '_triangle.1.edge']),\n",
       " ('../part1_flopy/data/modelgrid_intersection',\n",
       "  [],\n",
       "  ['refined_area.dbf',\n",
       "   'sagehen_basin.shx',\n",
       "   'dem_30m.img',\n",
       "   'sagehen_basin.dbf',\n",
       "   'trib_cells.txt',\n",
       "   'refined_area.prj',\n",
       "   'sagehen_nhd.cpg',\n",
       "   'active_area.prj',\n",
       "   'sagehen_nhd.prj',\n",
       "   'active_area.shx',\n",
       "   'sagehen_basin.shp',\n",
       "   'active_area.shp',\n",
       "   'sagehen_main_nhd.shp',\n",
       "   'sagehen_basin.cpg',\n",
       "   'prcp.tif',\n",
       "   'active_area.dbf',\n",
       "   'sagehen_main_nhd.dbf',\n",
       "   'sagehen_main_nhd.cpg',\n",
       "   'sagehen_main_nhd.shx',\n",
       "   'ksat.img',\n",
       "   'refined_area.shp',\n",
       "   'refined_area.shx',\n",
       "   'sagehen_nhd.dbf',\n",
       "   'sagehen_nhd.shp',\n",
       "   'sagehen_main_nhd.prj',\n",
       "   'pet.tif',\n",
       "   'pet.txt',\n",
       "   'sagehen_gage_data.csv',\n",
       "   'sagehen_basin.prj',\n",
       "   'sagehen_nhd.shx']),\n",
       " ('../part1_flopy/data/depletion_results', [], ['depletion_results.csv']),\n",
       " ('../part1_flopy/data/quadtree',\n",
       "  ['grid'],\n",
       "  ['project.ims',\n",
       "   'project.ic',\n",
       "   'sfr_obs.csv',\n",
       "   'project.wel',\n",
       "   'project.oc',\n",
       "   'project.disv.grb',\n",
       "   'project.npf',\n",
       "   'project.nam',\n",
       "   'project.sfr.obs',\n",
       "   'project.tdis',\n",
       "   'project.hds',\n",
       "   'project.disv',\n",
       "   'mfsim.nam',\n",
       "   'project.cbc',\n",
       "   'project.rcha',\n",
       "   'project.chd',\n",
       "   'project.sfr',\n",
       "   'project.lst',\n",
       "   'mfsim.lst']),\n",
       " ('../part1_flopy/data/quadtree/grid',\n",
       "  [],\n",
       "  ['qtg_sv.vtu',\n",
       "   'qtgrid.shx',\n",
       "   'qtgrid.dbf',\n",
       "   'qtg.nod',\n",
       "   'qtg.area.dat',\n",
       "   'qtg.vtu',\n",
       "   'qtg.nodesperlay.dat',\n",
       "   'qtgrid_pt.dbf',\n",
       "   'qtg.gnc.dat',\n",
       "   'qtgrid_pt.shx',\n",
       "   'quadtreegrid.top1.dat',\n",
       "   'qtgrid_pt.shp',\n",
       "   'quadtreegrid.tsf',\n",
       "   'qtg.fahl.dat',\n",
       "   'qtg.ia.dat',\n",
       "   'qtg.iac.dat',\n",
       "   'quadtreegrid.dfn',\n",
       "   'qtg.c1.dat',\n",
       "   '_gridgen_build.dfn',\n",
       "   'quadtreegrid.bot1.dat',\n",
       "   '_gridgen_export.dfn',\n",
       "   'qtgrid.shp',\n",
       "   'qtg.c2.dat',\n",
       "   'qtg.ja.dat',\n",
       "   'qtg.fldr.dat'])]"
      ]
     },
     "execution_count": 49,
     "metadata": {},
     "output_type": "execute_result"
    }
   ],
   "source": [
    "pth = Path('..')\n",
    "results = list(os.walk(pth))\n",
    "results"
   ]
  },
  {
   "cell_type": "markdown",
   "metadata": {},
   "source": [
    "#### Make a more readable list of just the jupyter notebooks\n",
    "Note: the key advantage of ``os.walk`` over ``glob`` is the recursion-- individual subfolder levels don't need to be known or specified a priori."
   ]
  },
  {
   "cell_type": "code",
   "execution_count": 50,
   "metadata": {
    "execution": {
     "iopub.execute_input": "2024-07-30T17:18:38.574949Z",
     "iopub.status.busy": "2024-07-30T17:18:38.574797Z",
     "iopub.status.idle": "2024-07-30T17:18:38.580003Z",
     "shell.execute_reply": "2024-07-30T17:18:38.579540Z"
    }
   },
   "outputs": [
    {
     "name": "stdout",
     "output_type": "stream",
     "text": [
      "../part0_python_intro/11_xarray_mt_rainier_precip.ipynb\n",
      "../part0_python_intro/05_numpy.ipynb\n",
      "../part0_python_intro/09_b_Geopandas_ABQ.ipynb\n",
      "../part0_python_intro/09_a_Geopandas.ipynb\n",
      "../part0_python_intro/10_Rasterio.ipynb\n",
      "../part0_python_intro/06b_matplotlib_animation.ipynb\n",
      "../part0_python_intro/00_python_basics_review.ipynb\n",
      "../part0_python_intro/03_useful-std-library-modules.ipynb\n",
      "../part0_python_intro/solutions/09_Geopandas__solutions.ipynb\n",
      "../part0_python_intro/solutions/03_useful-std-library-modules-solutions.ipynb\n",
      "../part0_python_intro/solutions/02_Namespace_objects_modules_packages__solution.ipynb\n",
      "../part0_python_intro/solutions/07a_Theis-exercise-solution.ipynb\n",
      "../part0_python_intro/solutions/08_pandas.ipynb\n",
      "../part0_python_intro/solutions/01_functions_script__solution.ipynb\n",
      "../part0_python_intro/solutions/05_numpy__solutions.ipynb\n",
      "../part0_python_intro/solutions/04_files_and_strings.ipynb\n",
      "../part0_python_intro/solutions/06_matplotlib__solution.ipynb\n",
      "../part1_flopy/08_Modflow-setup-demo.ipynb\n",
      "../part1_flopy/05-unstructured-grids.ipynb\n",
      "../part1_flopy/09-gwt-voronoi-demo.ipynb\n",
      "../part1_flopy/10_modpath_particle_tracking-demo.ipynb\n",
      "../part1_flopy/01-Flopy-intro.ipynb\n",
      "../part1_flopy/solutions/06-Project-voronoi.ipynb\n",
      "../part1_flopy/solutions/06-Project-structured_completed.ipynb\n",
      "../part1_flopy/solutions/06-Project-quadtree.ipynb\n",
      "../part1_flopy/solutions/02-Building-Post-Processing-MODFLOW6__solutions.ipynb\n",
      "../part1_flopy/solutions/04_Modelgrid_and_intersection_solution.ipynb\n",
      "../part1_flopy/solutions/07-stream_capture_voronoi.ipynb\n",
      "../part1_flopy/solutions/03_Loading_and_visualizing_models-solutions.ipynb\n"
     ]
    }
   ],
   "source": [
    "for root, dirs, files in os.walk(pth):\n",
    "    for f in files:\n",
    "        filepath = Path(root, f)\n",
    "        if filepath.suffix == '.ipynb':\n",
    "            print(filepath)"
   ]
  },
  {
   "cell_type": "markdown",
   "metadata": {},
   "source": [
    "### Accessing environmental variables"
   ]
  },
  {
   "cell_type": "code",
   "execution_count": 51,
   "metadata": {
    "execution": {
     "iopub.execute_input": "2024-07-30T17:18:38.581739Z",
     "iopub.status.busy": "2024-07-30T17:18:38.581471Z",
     "iopub.status.idle": "2024-07-30T17:18:38.586224Z",
     "shell.execute_reply": "2024-07-30T17:18:38.585752Z"
    }
   },
   "outputs": [
    {
     "data": {
      "text/plain": [
       "environ{'GITHUB_STATE': '/home/runner/work/_temp/_runner_file_commands/save_state_2d4c9bcd-c117-4dc5-9623-f3258439c3c4',\n",
       "        'CONDA_PROMPT_MODIFIER': '(pyclass-docs) ',\n",
       "        'STATS_TRP': 'true',\n",
       "        'DOTNET_NOLOGO': '1',\n",
       "        'DEPLOYMENT_BASEPATH': '/opt/runner',\n",
       "        'USER': 'runner',\n",
       "        'CI': 'true',\n",
       "        'GITHUB_ENV': '/home/runner/work/_temp/_runner_file_commands/set_env_2d4c9bcd-c117-4dc5-9623-f3258439c3c4',\n",
       "        'PIPX_HOME': '/opt/pipx',\n",
       "        'RUNNER_ENVIRONMENT': 'github-hosted',\n",
       "        'JAVA_HOME_8_X64': '/usr/lib/jvm/temurin-8-jdk-amd64',\n",
       "        'SHLVL': '1',\n",
       "        'CONDA_SHLVL': '1',\n",
       "        'HOME': '/home/runner',\n",
       "        'RUNNER_TEMP': '/home/runner/work/_temp',\n",
       "        'GITHUB_EVENT_PATH': '/home/runner/work/_temp/_github_workflow/event.json',\n",
       "        'GITHUB_REPOSITORY_OWNER': 'DOI-USGS',\n",
       "        'JAVA_HOME_11_X64': '/usr/lib/jvm/temurin-11-jdk-amd64',\n",
       "        'PIPX_BIN_DIR': '/opt/pipx_bin',\n",
       "        'STATS_RDCL': 'true',\n",
       "        'ANDROID_NDK_LATEST_HOME': '/usr/local/lib/android/sdk/ndk/26.3.11579264',\n",
       "        'GRADLE_HOME': '/usr/share/gradle-8.9',\n",
       "        'GITHUB_RETENTION_DAYS': '80',\n",
       "        'JAVA_HOME_21_X64': '/usr/lib/jvm/temurin-21-jdk-amd64',\n",
       "        'POWERSHELL_DISTRIBUTION_CHANNEL': 'GitHub-Actions-ubuntu22',\n",
       "        'CPL_ZIP_ENCODING': 'UTF-8',\n",
       "        'GITHUB_HEAD_REF': '',\n",
       "        'GITHUB_REPOSITORY_OWNER_ID': '65027635',\n",
       "        'AZURE_EXTENSION_DIR': '/opt/az/azcliextensions',\n",
       "        'MAKEFLAGS': 'w',\n",
       "        'SYSTEMD_EXEC_PID': '592',\n",
       "        'GITHUB_GRAPHQL_URL': 'https://api.github.com/graphql',\n",
       "        'NVM_DIR': '/home/runner/.nvm',\n",
       "        'GOROOT_1_20_X64': '/opt/hostedtoolcache/go/1.20.14/x64',\n",
       "        'DOTNET_SKIP_FIRST_TIME_EXPERIENCE': '1',\n",
       "        'JAVA_HOME_17_X64': '/usr/lib/jvm/temurin-17-jdk-amd64',\n",
       "        'GOROOT_1_21_X64': '/opt/hostedtoolcache/go/1.21.12/x64',\n",
       "        'ImageVersion': '20240721.1.0',\n",
       "        'RUNNER_OS': 'Linux',\n",
       "        'GITHUB_API_URL': 'https://api.github.com',\n",
       "        'SWIFT_PATH': '/usr/share/swift/usr/bin',\n",
       "        'GOROOT_1_22_X64': '/opt/hostedtoolcache/go/1.22.5/x64',\n",
       "        'RUNNER_USER': 'runner',\n",
       "        'CHROMEWEBDRIVER': '/usr/local/share/chromedriver-linux64',\n",
       "        '_': '/usr/bin/make',\n",
       "        'JOURNAL_STREAM': '8:17107',\n",
       "        'GITHUB_WORKFLOW': 'Publish Docs',\n",
       "        'STATS_V3PS': 'true',\n",
       "        'CONDARC': '/home/runner/work/_temp/setup-micromamba/.condarc',\n",
       "        'STATS_D': 'false',\n",
       "        'GITHUB_RUN_ID': '10166830552',\n",
       "        'ACTIONS_RUNNER_ACTION_ARCHIVE_CACHE': '/opt/actionarchivecache',\n",
       "        'STATS_VMFE': 'true',\n",
       "        'GITHUB_WORKFLOW_SHA': 'f1bb9d89d44cfcd7b345a0e3fabb16837f7b38b4',\n",
       "        'MODFLOW_BIN_PATH': '/home/runner/.local/bin',\n",
       "        'BOOTSTRAP_HASKELL_NONINTERACTIVE': '1',\n",
       "        'GITHUB_REF_TYPE': 'branch',\n",
       "        'ImageOS': 'ubuntu22',\n",
       "        'GITHUB_BASE_REF': '',\n",
       "        'GITHUB_ACTION_REPOSITORY': '',\n",
       "        'PERFLOG_LOCATION_SETTING': 'RUNNER_PERFLOG',\n",
       "        'GITHUB_WORKFLOW_REF': 'DOI-USGS/python-for-hydrology/.github/workflows/build_docs.yaml@refs/heads/main',\n",
       "        'PATH': '/home/runner/micromamba/envs/pyclass-docs/bin:/home/runner/micromamba/condabin:/home/runner/.local/bin:/home/runner/work/_temp/setup-micromamba:/home/runner/micromamba-bin:/snap/bin:/home/runner/.local/bin:/opt/pipx_bin:/home/runner/.cargo/bin:/home/runner/.config/composer/vendor/bin:/usr/local/.ghcup/bin:/home/runner/.dotnet/tools:/usr/local/sbin:/usr/local/bin:/usr/sbin:/usr/bin:/sbin:/bin:/usr/games:/usr/local/games:/snap/bin:/home/runner/.dotnet/tools',\n",
       "        'RUNNER_TRACKING_ID': 'github_701f367a-592f-49c6-96af-0cb4ebca263c',\n",
       "        'DOTNET_MULTILEVEL_LOOKUP': '0',\n",
       "        'INVOCATION_ID': 'ccbce6918b7c4bed8ecc974807c07823',\n",
       "        'PROJ_NETWORK': 'ON',\n",
       "        'RUNNER_TOOL_CACHE': '/opt/hostedtoolcache',\n",
       "        'ANT_HOME': '/usr/share/ant',\n",
       "        'GITHUB_TRIGGERING_ACTOR': 'mnfienen',\n",
       "        'GITHUB_RUN_NUMBER': '33',\n",
       "        'RUNNER_ARCH': 'X64',\n",
       "        'XDG_RUNTIME_DIR': '/run/user/1001',\n",
       "        'AGENT_TOOLSDIRECTORY': '/opt/hostedtoolcache',\n",
       "        'GITHUB_ACTION': '__run_7',\n",
       "        'PROJ_DATA': '/home/runner/micromamba/envs/pyclass-docs/share/proj',\n",
       "        'MAKELEVEL': '1',\n",
       "        'MAMBA_ROOT_PREFIX': '/home/runner/micromamba',\n",
       "        'LANG': 'C.UTF-8',\n",
       "        'VCPKG_INSTALLATION_ROOT': '/usr/local/share/vcpkg',\n",
       "        'RUNNER_NAME': 'GitHub Actions 12',\n",
       "        'GITHUB_REF_NAME': 'main',\n",
       "        'STATS_D_D': 'false',\n",
       "        'XDG_CONFIG_HOME': '/home/runner/.config',\n",
       "        'CONDA': '/usr/share/miniconda',\n",
       "        'STATS_VMD': 'true',\n",
       "        'GITHUB_REPOSITORY': 'DOI-USGS/python-for-hydrology',\n",
       "        'XML_CATALOG_FILES': 'file:///home/runner/micromamba/envs/pyclass-docs/etc/xml/catalog file:///etc/xml/catalog',\n",
       "        'STATS_UE': 'true',\n",
       "        'GITHUB_ACTION_REF': '',\n",
       "        'ANDROID_NDK_ROOT': '/usr/local/lib/android/sdk/ndk/25.2.9519653',\n",
       "        'DEBIAN_FRONTEND': 'noninteractive',\n",
       "        'GSETTINGS_SCHEMA_DIR': '/home/runner/micromamba/envs/pyclass-docs/share/glib-2.0/schemas',\n",
       "        'GITHUB_REPOSITORY_ID': '537542085',\n",
       "        'GITHUB_ACTIONS': 'true',\n",
       "        'GDAL_DRIVER_PATH': '/home/runner/micromamba/envs/pyclass-docs/lib/gdalplugins',\n",
       "        'GITHUB_REF_PROTECTED': 'false',\n",
       "        'ACCEPT_EULA': 'Y',\n",
       "        'RUNNER_PERFLOG': '/home/runner/perflog',\n",
       "        'GITHUB_JOB': 'docs',\n",
       "        'CONDA_DEFAULT_ENV': 'pyclass-docs',\n",
       "        'GITHUB_WORKSPACE': '/home/runner/work/python-for-hydrology/python-for-hydrology',\n",
       "        'GITHUB_SHA': 'f1bb9d89d44cfcd7b345a0e3fabb16837f7b38b4',\n",
       "        'GITHUB_RUN_ATTEMPT': '1',\n",
       "        'GITHUB_REF': 'refs/heads/main',\n",
       "        'ANDROID_SDK_ROOT': '/usr/local/lib/android/sdk',\n",
       "        'MAMBA_EXE': '/home/runner/micromamba-bin/micromamba',\n",
       "        'GITHUB_ACTOR': 'mnfienen',\n",
       "        'LEIN_HOME': '/usr/local/lib/lein',\n",
       "        'JAVA_HOME': '/usr/lib/jvm/temurin-11-jdk-amd64',\n",
       "        'PWD': '/home/runner/work/python-for-hydrology/python-for-hydrology/docs',\n",
       "        'RUNNER_WORKSPACE': '/home/runner/work/python-for-hydrology',\n",
       "        'GITHUB_ACTOR_ID': '1110827',\n",
       "        'GITHUB_PATH': '/home/runner/work/_temp/_runner_file_commands/add_path_2d4c9bcd-c117-4dc5-9623-f3258439c3c4',\n",
       "        'GHCUP_INSTALL_BASE_PREFIX': '/usr/local',\n",
       "        'GITHUB_EVENT_NAME': 'push',\n",
       "        'XDG_DATA_DIRS': '/usr/local/share:/usr/share:/var/lib/snapd/desktop',\n",
       "        'GITHUB_SERVER_URL': 'https://github.com',\n",
       "        'STATS_TIS': 'mining',\n",
       "        'ANDROID_HOME': '/usr/local/lib/android/sdk',\n",
       "        'LEIN_JAR': '/usr/local/lib/lein/self-installs/leiningen-2.11.2-standalone.jar',\n",
       "        'GECKOWEBDRIVER': '/usr/local/share/gecko_driver',\n",
       "        'NVM_CD_FLAGS': '',\n",
       "        'HOMEBREW_CLEANUP_PERIODIC_FULL_DAYS': '3650',\n",
       "        'GITHUB_OUTPUT': '/home/runner/work/_temp/_runner_file_commands/set_output_2d4c9bcd-c117-4dc5-9623-f3258439c3c4',\n",
       "        'HOMEBREW_NO_AUTO_UPDATE': '1',\n",
       "        'EDGEWEBDRIVER': '/usr/local/share/edge_driver',\n",
       "        'STATS_EXT': 'true',\n",
       "        'SGX_AESM_ADDR': '1',\n",
       "        'CHROME_BIN': '/usr/bin/google-chrome',\n",
       "        'MFLAGS': '-w',\n",
       "        'CONDA_PREFIX': '/home/runner/micromamba/envs/pyclass-docs',\n",
       "        'ANDROID_NDK': '/usr/local/lib/android/sdk/ndk/25.2.9519653',\n",
       "        'GSETTINGS_SCHEMA_DIR_CONDA_BACKUP': '',\n",
       "        'SELENIUM_JAR_PATH': '/usr/share/java/selenium-server.jar',\n",
       "        'STATS_EXTP': 'https://provjobdsettingscdn.blob.core.windows.net/settings/provjobdsettings-0.5.181+6/provjobd.data',\n",
       "        'ANDROID_NDK_HOME': '/usr/local/lib/android/sdk/ndk/25.2.9519653',\n",
       "        'GDAL_DATA': '/home/runner/micromamba/envs/pyclass-docs/share/gdal',\n",
       "        'GITHUB_STEP_SUMMARY': '/home/runner/work/_temp/_runner_file_commands/step_summary_2d4c9bcd-c117-4dc5-9623-f3258439c3c4',\n",
       "        'DOCUTILSCONFIG': '/home/runner/work/python-for-hydrology/python-for-hydrology/docs/source/docutils.conf',\n",
       "        'JPY_PARENT_PID': '4319',\n",
       "        'PYDEVD_USE_FRAME_EVAL': 'NO',\n",
       "        'TERM': 'xterm-color',\n",
       "        'CLICOLOR': '1',\n",
       "        'FORCE_COLOR': '1',\n",
       "        'CLICOLOR_FORCE': '1',\n",
       "        'PAGER': 'cat',\n",
       "        'GIT_PAGER': 'cat',\n",
       "        'MPLBACKEND': 'module://matplotlib_inline.backend_inline'}"
      ]
     },
     "execution_count": 51,
     "metadata": {},
     "output_type": "execute_result"
    }
   ],
   "source": [
    "os.environ"
   ]
  },
  {
   "cell_type": "markdown",
   "metadata": {},
   "source": [
    "#### Example: get the location of the current python (Conda) environment"
   ]
  },
  {
   "cell_type": "code",
   "execution_count": 52,
   "metadata": {
    "execution": {
     "iopub.execute_input": "2024-07-30T17:18:38.588148Z",
     "iopub.status.busy": "2024-07-30T17:18:38.587792Z",
     "iopub.status.idle": "2024-07-30T17:18:38.591041Z",
     "shell.execute_reply": "2024-07-30T17:18:38.590635Z"
    }
   },
   "outputs": [
    {
     "data": {
      "text/plain": [
       "'/home/runner/micromamba/envs/pyclass-docs'"
      ]
     },
     "execution_count": 52,
     "metadata": {},
     "output_type": "execute_result"
    }
   ],
   "source": [
    "os.environ['CONDA_PREFIX']"
   ]
  },
  {
   "cell_type": "markdown",
   "metadata": {},
   "source": [
    "## ``subprocess`` — Subprocess management\n",
    "\n",
    "The subprocess module offers a way to execute system commands, for example MODFLOW, or any operating system command that you can type at the command line.\n",
    "\n",
    "The recommended approach to invoking subprocesses is to use the ``run()`` function for all use cases it can handle. For more advanced use cases, the underlying ``Popen`` interface can be used directly.\n",
    "\n",
    "Take a look at the following help descriptions for ``run``.\n",
    "\n",
    "Note, that on Windows, you may have to specify \"shell=True\" in order to access system commands."
   ]
  },
  {
   "cell_type": "code",
   "execution_count": 53,
   "metadata": {
    "execution": {
     "iopub.execute_input": "2024-07-30T17:18:38.592824Z",
     "iopub.status.busy": "2024-07-30T17:18:38.592525Z",
     "iopub.status.idle": "2024-07-30T17:18:38.595297Z",
     "shell.execute_reply": "2024-07-30T17:18:38.594834Z"
    }
   },
   "outputs": [
    {
     "name": "stdout",
     "output_type": "stream",
     "text": [
      "Help on function run in module subprocess:\n",
      "\n",
      "run(*popenargs, input=None, capture_output=False, timeout=None, check=False, **kwargs)\n",
      "    Run command with arguments and return a CompletedProcess instance.\n",
      "    \n",
      "    The returned instance will have attributes args, returncode, stdout and\n",
      "    stderr. By default, stdout and stderr are not captured, and those attributes\n",
      "    will be None. Pass stdout=PIPE and/or stderr=PIPE in order to capture them,\n",
      "    or pass capture_output=True to capture both.\n",
      "    \n",
      "    If check is True and the exit code was non-zero, it raises a\n",
      "    CalledProcessError. The CalledProcessError object will have the return code\n",
      "    in the returncode attribute, and output & stderr attributes if those streams\n",
      "    were captured.\n",
      "    \n",
      "    If timeout is given, and the process takes too long, a TimeoutExpired\n",
      "    exception will be raised.\n",
      "    \n",
      "    There is an optional argument \"input\", allowing you to\n",
      "    pass bytes or a string to the subprocess's stdin.  If you use this argument\n",
      "    you may not also use the Popen constructor's \"stdin\" argument, as\n",
      "    it will be used internally.\n",
      "    \n",
      "    By default, all communication is in bytes, and therefore any \"input\" should\n",
      "    be bytes, and the stdout and stderr will be bytes. If in text mode, any\n",
      "    \"input\" should be a string, and stdout and stderr will be strings decoded\n",
      "    according to locale encoding, or by \"encoding\" if set. Text mode is\n",
      "    triggered by setting any of text, encoding, errors or universal_newlines.\n",
      "    \n",
      "    The other arguments are the same as for the Popen constructor.\n",
      "\n"
     ]
    }
   ],
   "source": [
    "help(subprocess.run)"
   ]
  },
  {
   "cell_type": "code",
   "execution_count": 54,
   "metadata": {
    "execution": {
     "iopub.execute_input": "2024-07-30T17:18:38.597136Z",
     "iopub.status.busy": "2024-07-30T17:18:38.596775Z",
     "iopub.status.idle": "2024-07-30T17:18:38.601929Z",
     "shell.execute_reply": "2024-07-30T17:18:38.601536Z"
    }
   },
   "outputs": [
    {
     "name": "stdout",
     "output_type": "stream",
     "text": [
      "00_python_basics_review.ipynb\n",
      "03_useful-std-library-modules.ipynb\n",
      "05_numpy.ipynb\n",
      "06b_matplotlib_animation.ipynb\n",
      "07b_VSCode.md\n",
      "09_a_Geopandas.ipynb\n",
      "09_b_Geopandas_ABQ.ipynb\n",
      "10_Rasterio.ipynb\n",
      "11_xarray_mt_rainier_precip.ipynb\n",
      "another_subfolder\n",
      "data\n",
      "solutions\n",
      "CompletedProcess(args=['ls', '-l'], returncode=0)\n"
     ]
    }
   ],
   "source": [
    "# if on mac/unix\n",
    "print(subprocess.run(['ls', '-l'], shell=True))"
   ]
  },
  {
   "cell_type": "markdown",
   "metadata": {},
   "source": [
    "With the `cwd` argument, we can control the working directory for the command. Here we list the files in the parent directory."
   ]
  },
  {
   "cell_type": "code",
   "execution_count": 55,
   "metadata": {
    "execution": {
     "iopub.execute_input": "2024-07-30T17:18:38.603721Z",
     "iopub.status.busy": "2024-07-30T17:18:38.603425Z",
     "iopub.status.idle": "2024-07-30T17:18:38.608113Z",
     "shell.execute_reply": "2024-07-30T17:18:38.607660Z"
    }
   },
   "outputs": [
    {
     "name": "stdout",
     "output_type": "stream",
     "text": [
      "part0_python_intro\n",
      "part1_flopy\n",
      "CompletedProcess(args=['ls', '-l'], returncode=0)\n"
     ]
    }
   ],
   "source": [
    "print(subprocess.run(['ls', '-l'], shell=True, cwd='..'))"
   ]
  },
  {
   "cell_type": "code",
   "execution_count": 56,
   "metadata": {
    "execution": {
     "iopub.execute_input": "2024-07-30T17:18:38.609928Z",
     "iopub.status.busy": "2024-07-30T17:18:38.609644Z",
     "iopub.status.idle": "2024-07-30T17:18:38.637319Z",
     "shell.execute_reply": "2024-07-30T17:18:38.636922Z"
    }
   },
   "outputs": [
    {
     "name": "stdout",
     "output_type": "stream",
     "text": [
      "00_python_basics_review.ipynb\t     09_b_Geopandas_ABQ.ipynb\n",
      "03_useful-std-library-modules.ipynb  10_Rasterio.ipynb\n",
      "05_numpy.ipynb\t\t\t     11_xarray_mt_rainier_precip.ipynb\n",
      "06b_matplotlib_animation.ipynb\t     another_subfolder\n",
      "07b_VSCode.md\t\t\t     data\n",
      "09_a_Geopandas.ipynb\t\t     solutions\n",
      "CompletedProcess(args=['dir'], returncode=0)\n"
     ]
    }
   ],
   "source": [
    "# if on windows\n",
    "print(subprocess.run(['dir'], shell=True))"
   ]
  },
  {
   "cell_type": "markdown",
   "metadata": {},
   "source": [
    "## ``zipfile`` — Work with ZIP archives\n",
    "\n",
    "#### zip up one of the files in data/"
   ]
  },
  {
   "cell_type": "code",
   "execution_count": 57,
   "metadata": {
    "execution": {
     "iopub.execute_input": "2024-07-30T17:18:38.639142Z",
     "iopub.status.busy": "2024-07-30T17:18:38.638843Z",
     "iopub.status.idle": "2024-07-30T17:18:38.650327Z",
     "shell.execute_reply": "2024-07-30T17:18:38.649916Z"
    }
   },
   "outputs": [],
   "source": [
    "with zipfile.ZipFile('junk.zip', 'w') as dest:\n",
    "    dest.write('data/xarray/daymet_prcp_rainier_1980-2018.nc')"
   ]
  },
  {
   "cell_type": "markdown",
   "metadata": {},
   "source": [
    "#### now extract it"
   ]
  },
  {
   "cell_type": "code",
   "execution_count": 58,
   "metadata": {
    "execution": {
     "iopub.execute_input": "2024-07-30T17:18:38.652265Z",
     "iopub.status.busy": "2024-07-30T17:18:38.651787Z",
     "iopub.status.idle": "2024-07-30T17:18:38.661725Z",
     "shell.execute_reply": "2024-07-30T17:18:38.661263Z"
    }
   },
   "outputs": [],
   "source": [
    "with zipfile.ZipFile('junk.zip') as src:\n",
    "    src.extract('data/xarray/daymet_prcp_rainier_1980-2018.nc', path='extracted_data')"
   ]
  },
  {
   "cell_type": "markdown",
   "metadata": {},
   "source": [
    "## Testing Your Skills with a truly awful example:\n",
    "\n",
    "#### the problem:\n",
    "Pretend that the file `data/fileio/netcdf_data.zip` contains some climate data (in the NetCDF format with the ``*.nc`` extension) that we downloaded. If you open `data/fileio/netcdf_data.zip`, you'll see that within a subfolder `zipped` are a bunch of additional subfolders, each for a different year. Within each subfolder is another zipfile. Within each of these zipfiles is yet another subfolder, inside of which is the actual data file we want (`prcp.nc`). "
   ]
  },
  {
   "cell_type": "code",
   "execution_count": 59,
   "metadata": {
    "execution": {
     "iopub.execute_input": "2024-07-30T17:18:38.663644Z",
     "iopub.status.busy": "2024-07-30T17:18:38.663363Z",
     "iopub.status.idle": "2024-07-30T17:18:38.666882Z",
     "shell.execute_reply": "2024-07-30T17:18:38.666412Z"
    }
   },
   "outputs": [
    {
     "name": "stdout",
     "output_type": "stream",
     "text": [
      "netcdf_data/\n",
      "netcdf_data/zipped/\n",
      "netcdf_data/zipped/zipped_1991/\n",
      "netcdf_data/zipped/zipped_1991/12270_1991.zip\n",
      "netcdf_data/zipped/zipped_1996/\n",
      "netcdf_data/zipped/zipped_1996/12270_1996.zip\n",
      "netcdf_data/zipped/zipped_1998/\n",
      "netcdf_data/zipped/zipped_1998/12270_1998.zip\n",
      "netcdf_data/zipped/zipped_1999/\n",
      "netcdf_data/zipped/zipped_1999/12270_1999.zip\n"
     ]
    }
   ],
   "source": [
    "with zipfile.ZipFile('data/netcdf_data.zip') as src:\n",
    "    for f in src.namelist()[:10]:\n",
    "        print(f)"
   ]
  },
  {
   "cell_type": "markdown",
   "metadata": {},
   "source": [
    "#### the goal:\n",
    "To extract all of these `prcp.nc` files into a single folder, after renaming them with their respective years (obtained from their enclosing folders or zip files). e.g.  \n",
    "```\n",
    "prcp_1980.nc\n",
    "prcp_1981.nc\n",
    "...\n",
    "```\n",
    "This will allow us to open them together as a dataset in `xarray` (more on that later). Does this sound awful? I'm not making this up. This is the kind of structure you get when downloading tiles of climate data with the [Daymet Tile Selection Tool](https://daymet.ornl.gov/gridded/)\n",
    "\n",
    "#### hint:\n",
    "you might find these functions helpful:\n",
    "```\n",
    "ZipFile.extractall\n",
    "ZipFile.extract\n",
    "Path.glob\n",
    "Path.mkdir\n",
    "Path.stem\n",
    "Path.parent\n",
    "Path.name\n",
    "shutil.move\n",
    "Path.rmdir()\n",
    "```"
   ]
  },
  {
   "cell_type": "markdown",
   "metadata": {},
   "source": [
    "#### hint: start by using ``ZipFile.extractall()`` to extract all of the individual zip files from the main zip archive\n",
    "This extracts the entire contents of the zip file to a designated folder"
   ]
  },
  {
   "cell_type": "code",
   "execution_count": 60,
   "metadata": {
    "execution": {
     "iopub.execute_input": "2024-07-30T17:18:38.668774Z",
     "iopub.status.busy": "2024-07-30T17:18:38.668504Z",
     "iopub.status.idle": "2024-07-30T17:18:38.676950Z",
     "shell.execute_reply": "2024-07-30T17:18:38.676484Z"
    }
   },
   "outputs": [],
   "source": [
    "output_folder = Path('03-output')\n",
    "output_folder.mkdir(exist_ok=True)\n",
    "\n",
    "with zipfile.ZipFile('data/netcdf_data.zip') as src:\n",
    "    src.extractall(output_folder)"
   ]
  },
  {
   "cell_type": "markdown",
   "metadata": {},
   "source": [
    "Make a list of the zipfiles"
   ]
  },
  {
   "cell_type": "code",
   "execution_count": 61,
   "metadata": {
    "execution": {
     "iopub.execute_input": "2024-07-30T17:18:38.678722Z",
     "iopub.status.busy": "2024-07-30T17:18:38.678568Z",
     "iopub.status.idle": "2024-07-30T17:18:38.683097Z",
     "shell.execute_reply": "2024-07-30T17:18:38.682693Z"
    }
   },
   "outputs": [
    {
     "data": {
      "text/plain": [
       "[PosixPath('03-output/netcdf_data/zipped/zipped_1996/12270_1996.zip'),\n",
       " PosixPath('03-output/netcdf_data/zipped/zipped_2005/12270_2005.zip'),\n",
       " PosixPath('03-output/netcdf_data/zipped/zipped_1980/12270_1980.zip'),\n",
       " PosixPath('03-output/netcdf_data/zipped/zipped_2006/12270_2006.zip'),\n",
       " PosixPath('03-output/netcdf_data/zipped/zipped_1992/12270_1992.zip')]"
      ]
     },
     "execution_count": 61,
     "metadata": {},
     "output_type": "execute_result"
    }
   ],
   "source": [
    "zipfiles = list(output_folder.glob('netcdf_data/zipped/*/*.zip'))\n",
    "zipfiles[:5]"
   ]
  },
  {
   "cell_type": "markdown",
   "metadata": {},
   "source": [
    "### Part 1: extract with a single file"
   ]
  },
  {
   "cell_type": "code",
   "execution_count": 62,
   "metadata": {
    "execution": {
     "iopub.execute_input": "2024-07-30T17:18:38.684756Z",
     "iopub.status.busy": "2024-07-30T17:18:38.684605Z",
     "iopub.status.idle": "2024-07-30T17:18:38.687867Z",
     "shell.execute_reply": "2024-07-30T17:18:38.687473Z"
    }
   },
   "outputs": [
    {
     "data": {
      "text/plain": [
       "PosixPath('03-output/netcdf_data/zipped/zipped_1996/12270_1996.zip')"
      ]
     },
     "execution_count": 62,
     "metadata": {},
     "output_type": "execute_result"
    }
   ],
   "source": [
    "f = zipfiles[0]\n",
    "f"
   ]
  },
  {
   "cell_type": "markdown",
   "metadata": {},
   "source": [
    "#### 1a) Use ``ZipFile.namelist()`` (as above) list the contents\n",
    "\n",
    "This will yield the name of the ``*.nc`` file that we need to extract"
   ]
  },
  {
   "cell_type": "code",
   "execution_count": null,
   "metadata": {},
   "outputs": [],
   "source": []
  },
  {
   "cell_type": "markdown",
   "metadata": {},
   "source": [
    "#### 1b) Use ``ZipFile.extract()`` to extract the ``*.nc`` file to the destination folder\n",
    "(you may need to create the destination folder first)"
   ]
  },
  {
   "cell_type": "code",
   "execution_count": null,
   "metadata": {},
   "outputs": [],
   "source": []
  },
  {
   "cell_type": "markdown",
   "metadata": {},
   "source": [
    "#### 1c) Move the extracted file out of any enclosing subfolders, and rename to ``prcp_<year>.nc``\n",
    "(so that if we repeat this for subsequent files, the extracted ``*.nc`` files will end up in the same place)"
   ]
  },
  {
   "cell_type": "code",
   "execution_count": null,
   "metadata": {},
   "outputs": [],
   "source": []
  },
  {
   "cell_type": "markdown",
   "metadata": {},
   "source": [
    "#### 1d) Remove the extra subfolders that were extracted"
   ]
  },
  {
   "cell_type": "code",
   "execution_count": null,
   "metadata": {},
   "outputs": [],
   "source": []
  },
  {
   "cell_type": "markdown",
   "metadata": {},
   "source": [
    "### Part 2: put the above steps together into a loop to repeat the workflow for all of the NetCDF files"
   ]
  },
  {
   "cell_type": "code",
   "execution_count": null,
   "metadata": {},
   "outputs": [],
   "source": []
  },
  {
   "cell_type": "markdown",
   "metadata": {},
   "source": [
    "## Bonus Application -- Using ``os`` to find the location of an executable\n",
    "\n",
    "There are often times that you run an executable that is nested somewhere deep within your system path.  It can often be a good idea to know exactly where that executable is located.  This might help you one day from accidently using an older version of an executable, such as MODFLOW."
   ]
  },
  {
   "cell_type": "code",
   "execution_count": 63,
   "metadata": {
    "execution": {
     "iopub.execute_input": "2024-07-30T17:18:38.689890Z",
     "iopub.status.busy": "2024-07-30T17:18:38.689531Z",
     "iopub.status.idle": "2024-07-30T17:18:38.693361Z",
     "shell.execute_reply": "2024-07-30T17:18:38.692879Z"
    }
   },
   "outputs": [],
   "source": [
    "# Define two functions to help determine 'which' program you are using\n",
    "def is_exe(fpath):\n",
    "    \"\"\"\n",
    "    Return True if fpath is an executable, otherwise return False\n",
    "    \"\"\"\n",
    "    return os.path.isfile(fpath) and os.access(fpath, os.X_OK)\n",
    "\n",
    "def which(program):\n",
    "    \"\"\"\n",
    "    Locate the program and return its full path.  Return\n",
    "    None if the program cannot be located.\n",
    "    \"\"\"\n",
    "    fpath, fname = os.path.split(program)\n",
    "    if fpath:\n",
    "        if is_exe(program):\n",
    "            return program\n",
    "    else:\n",
    "        # test for exe in current working directory\n",
    "        if is_exe(program):\n",
    "            return program\n",
    "        # test for exe in path statement\n",
    "        for path in os.environ[\"PATH\"].split(os.pathsep):\n",
    "            path = path.strip('\"')\n",
    "            exe_file = os.path.join(path, program)\n",
    "            if is_exe(exe_file):\n",
    "                return exe_file\n",
    "    return None"
   ]
  },
  {
   "cell_type": "code",
   "execution_count": 64,
   "metadata": {
    "execution": {
     "iopub.execute_input": "2024-07-30T17:18:38.695360Z",
     "iopub.status.busy": "2024-07-30T17:18:38.695016Z",
     "iopub.status.idle": "2024-07-30T17:18:38.698370Z",
     "shell.execute_reply": "2024-07-30T17:18:38.697872Z"
    }
   },
   "outputs": [
    {
     "data": {
      "text/plain": [
       "'/home/runner/.local/bin/mf6'"
      ]
     },
     "execution_count": 64,
     "metadata": {},
     "output_type": "execute_result"
    }
   ],
   "source": [
    "which('mf6')"
   ]
  },
  {
   "cell_type": "code",
   "execution_count": null,
   "metadata": {},
   "outputs": [],
   "source": []
  }
 ],
 "metadata": {
  "kernelspec": {
   "display_name": "pyclass",
   "language": "python",
   "name": "python3"
  },
  "language_info": {
   "codemirror_mode": {
    "name": "ipython",
    "version": 3
   },
   "file_extension": ".py",
   "mimetype": "text/x-python",
   "name": "python",
   "nbconvert_exporter": "python",
   "pygments_lexer": "ipython3",
   "version": "3.11.9"
  }
 },
 "nbformat": 4,
 "nbformat_minor": 4
}
