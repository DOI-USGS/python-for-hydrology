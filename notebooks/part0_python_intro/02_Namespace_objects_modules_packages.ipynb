{
 "cells": [
  {
   "cell_type": "markdown",
   "id": "00aaaf25",
   "metadata": {},
   "source": [
    "# Python for hydrologists: namespace, modules, packages, and objects\n",
    "\n",
    "There are a variety of ways to import existing code into a Python script or interactive session.\n",
    "\n",
    "There is a lot of flexibility in how this is done, but a few suggested practices will be covered here."
   ]
  },
  {
   "cell_type": "code",
   "execution_count": null,
   "id": "b263fdce",
   "metadata": {},
   "outputs": [],
   "source": [
    "import this"
   ]
  },
  {
   "cell_type": "markdown",
   "id": "79cf8e16",
   "metadata": {},
   "source": [
    "In the above Easter Egg, we can learn a couple things. First, the end line highlights that namespaces are important!\n",
    "\n",
    "Also, by importing `this`, it actually executed some code (printing out the Zen of Python). This means Python knew where to find a module called `this` and executed it upon import."
   ]
  },
  {
   "cell_type": "markdown",
   "id": "ccff90ef",
   "metadata": {},
   "source": [
    "## Namespaces\n",
    "There's a nice explanation of namespaces [here](https://realpython.com/python-namespaces-scope/). \n",
    "\n",
    "First, we need to understand what is a _name_ in Python. A name is a general container referencing something. Like in many languages, think of a variable:\n"
   ]
  },
  {
   "cell_type": "code",
   "execution_count": null,
   "id": "90945336",
   "metadata": {},
   "outputs": [],
   "source": [
    "a = 5\n",
    "a"
   ]
  },
  {
   "cell_type": "markdown",
   "id": "303ca9bd",
   "metadata": {},
   "source": [
    "In python, we can also use a name for a function.\n",
    "\n",
    "*A note on string formatting*: We can add variables to strings using python's f\"\" strings. These are formatting strings and detailed usage is covered in the `strings_and_files` notebook. For this notebook, variable values can be printed inside the string by using the notation `f\"some text {my_variable}\"`"
   ]
  },
  {
   "cell_type": "code",
   "execution_count": null,
   "id": "1235392a",
   "metadata": {},
   "outputs": [],
   "source": [
    "def funky(description):\n",
    "    print (f'this {description} function is funky!')"
   ]
  },
  {
   "cell_type": "code",
   "execution_count": null,
   "id": "d40930d3",
   "metadata": {},
   "outputs": [],
   "source": [
    "funky"
   ]
  },
  {
   "cell_type": "code",
   "execution_count": null,
   "id": "6b77b909",
   "metadata": {},
   "outputs": [],
   "source": [
    "funky(\"Town\")"
   ]
  },
  {
   "cell_type": "code",
   "execution_count": null,
   "id": "883515a7",
   "metadata": {},
   "outputs": [],
   "source": [
    "f = funky"
   ]
  },
  {
   "cell_type": "code",
   "execution_count": null,
   "id": "289e645b",
   "metadata": {},
   "outputs": [],
   "source": []
  },
  {
   "cell_type": "markdown",
   "id": "32d73241",
   "metadata": {},
   "source": [
    "So, we assigned f to, in a sense, point to the function `funky`.\n",
    "\n",
    "Names (and therefore variables) can assume various types and get reused without definition."
   ]
  },
  {
   "cell_type": "code",
   "execution_count": null,
   "id": "fe256808",
   "metadata": {},
   "outputs": [],
   "source": [
    "a = 5\n",
    "print(a)\n",
    "a = [12.3, 44.9]\n",
    "print(a)\n",
    "a = 'stuff in quotes'\n",
    "print(a)"
   ]
  },
  {
   "cell_type": "markdown",
   "id": "f52a98da",
   "metadata": {},
   "source": [
    "So, namespace is a collection of all of the currently defined variable names and values that are accessible from any given section of a python script. There are multiple namespaces in python and we'll discuss more on this in the `\"Namespaces: Global to Local\"` section of this notebook. \n",
    "\n",
    "__An important caution with names:__\n",
    "\n",
    "Since you can think of a name of a variable as a tag, there is a special behavior related to lists that can cause massive grief!\n",
    "\n",
    "First, what happens when a single value is associated with a name (like a variable)"
   ]
  },
  {
   "cell_type": "code",
   "execution_count": null,
   "id": "4968e004",
   "metadata": {},
   "outputs": [],
   "source": [
    "a = 5\n",
    "b = a\n",
    "print(f\"{a=}, {b=}\")\n",
    "b = 6\n",
    "print(f\"{a=}, {b=}\")"
   ]
  },
  {
   "cell_type": "markdown",
   "id": "a167f45e",
   "metadata": {},
   "source": [
    "Now what happens when we have a list and change an element in `b`..."
   ]
  },
  {
   "cell_type": "code",
   "execution_count": null,
   "id": "d762bdad",
   "metadata": {},
   "outputs": [],
   "source": [
    "a=[1.0, 2.0, 3.5, 4.9]\n",
    "print (f'{a=}')\n",
    "b=a\n",
    "print (f'{b=}')\n",
    "print ('_'*15)\n",
    "b[2]=999\n",
    "print (f'{a=}')\n",
    "print (f'{b=}')"
   ]
  },
  {
   "cell_type": "markdown",
   "id": "71e4012c",
   "metadata": {},
   "source": [
    "*Oh no! Changing `b` also changed `a`!* \n",
    "\n",
    "The reason for this is that `a` and `b` are both pointing to the same memory location that's storing the information (in this case, starting with the list `[1.0, 2.0, 3.5, 4.9]` and later becoming the list `[1.0, 2.0, 999, 4.9]`). This same behavior happens when using `numpy` arrays.\n",
    "\n",
    "The way around this is to make a full copy of the information (by value rather than by reference). In typical Python, this means importing a module called `copy` and using either the function `copy.copy` or `copy.deepcopy`. In `numpy`, copy is built-in."
   ]
  },
  {
   "cell_type": "code",
   "execution_count": null,
   "id": "44747f32",
   "metadata": {},
   "outputs": [],
   "source": [
    "import copy\n",
    "a = [1,2,3]\n",
    "b = copy.copy(a)\n",
    "b[2] = 99\n",
    "print (a)\n",
    "print (b)"
   ]
  },
  {
   "cell_type": "markdown",
   "id": "2645d2d0",
   "metadata": {},
   "source": [
    "### Namespaces: Global to Local\n",
    "\n",
    "Python contains four common namespaces. We are going to investigate the behaviour of three of these:\n",
    "\n",
    "**The global namespace** contains all variables that defined in the \"main\" level of the program  \n",
    "**The enclosing namespace** contains variables that are accessible to a function/method and are also accessible to any methods defined inside this namespace  \n",
    "**The local namespace** contains variables that are only accessible to the method that they are defined in"
   ]
  },
  {
   "cell_type": "code",
   "execution_count": null,
   "id": "68decb13",
   "metadata": {},
   "outputs": [],
   "source": [
    "x = \"global\"\n",
    "\n",
    "def f():\n",
    "    x = \"enclosing\"\n",
    "    print(x)\n",
    "    \n",
    "    def g():\n",
    "        x = \"local\"\n",
    "        print(x)\n",
    "        \n",
    "    g()\n",
    "    print(x)\n",
    "\n",
    "print(x)\n",
    "f()\n",
    "print(x)"
   ]
  },
  {
   "cell_type": "markdown",
   "id": "232eb48e",
   "metadata": {},
   "source": [
    "Now remove `x = \"enclosing\"` and/or `x = \"local\"` and run the code. What's happening here?"
   ]
  },
  {
   "cell_type": "code",
   "execution_count": null,
   "id": "75ab3a1d",
   "metadata": {},
   "outputs": [],
   "source": []
  },
  {
   "cell_type": "markdown",
   "id": "dcfc1d53-4b60-4755-a90c-2ad66e2ac633",
   "metadata": {},
   "source": [
    "This example demonstrates the **\"LEGB\"** rule in python. Python will first look for the variable in the local namespace, if it's not found it'll look in the enclosing, then the global, and finally the \"built in\" namespace.\n",
    "\n",
    "Another way to say this is that, variables in the global namespace are accessible from the enclosing and local namespace. Similarly, variables defined in the enclosing namespace are accessible from the local namespace. "
   ]
  },
  {
   "cell_type": "markdown",
   "id": "c7c05912",
   "metadata": {},
   "source": [
    "## Objects\n",
    "\n",
    "Python supports object-oriented programming. This is, in fact, *awesome*! It can, however, be confusing at first. Let's break it down...\n",
    "\n",
    "Staring with a few definitions. First of all, basically everything in Python is an object. You can think of the word \"object\" to mean \"thing\". Any of these things--or objects--can have both `attributes` and `methods`. \n",
    "\n",
    "**Attributes** are just data associated with (or stored by) an object\n",
    "\n",
    "**Methods** are functions that do something with that data (or with other data).\n",
    "\n",
    "**Properties** are special functions that do something with data, but behave like attributes.\n",
    "\n",
    "A **class** is a set of definitions for the data structure and methods of an object. You can think of this like a blueprint.\n",
    "\n",
    "An **instance** is an object using the definitions of a class. You can think of this as a building made from the blueprint.\n",
    "\n",
    "Let's try out some examples."
   ]
  },
  {
   "cell_type": "code",
   "execution_count": null,
   "id": "c6462464",
   "metadata": {},
   "outputs": [],
   "source": [
    "def hola():\n",
    "    print(\"hello world\")\n",
    "    return 42, \"african or european?\""
   ]
  },
  {
   "cell_type": "code",
   "execution_count": null,
   "id": "96c7c521",
   "metadata": {},
   "outputs": [],
   "source": [
    "hola"
   ]
  },
  {
   "cell_type": "code",
   "execution_count": null,
   "id": "805326f5",
   "metadata": {},
   "outputs": [],
   "source": [
    "meaning_of_life, sparrow_velocity = hola()"
   ]
  },
  {
   "cell_type": "code",
   "execution_count": null,
   "id": "352bd792",
   "metadata": {},
   "outputs": [],
   "source": [
    "print(f\"{meaning_of_life=}, {sparrow_velocity=}\")"
   ]
  },
  {
   "cell_type": "code",
   "execution_count": null,
   "id": "3464cc0f",
   "metadata": {},
   "outputs": [],
   "source": []
  },
  {
   "cell_type": "code",
   "execution_count": null,
   "id": "5af862b2",
   "metadata": {},
   "outputs": [],
   "source": [
    "class Person:\n",
    "    def __init__(self, input_name, input_fav):\n",
    "        self.name = input_name\n",
    "        self.fav = input_fav\n",
    "    \n",
    "    def introduce_yourself(self):\n",
    "        print (f\"Hi, I'm {self.name}. I like {self.fav}\")"
   ]
  },
  {
   "cell_type": "code",
   "execution_count": null,
   "id": "e54efd7b",
   "metadata": {},
   "outputs": [],
   "source": [
    "Person"
   ]
  },
  {
   "cell_type": "code",
   "execution_count": null,
   "id": "eda6b3da",
   "metadata": {},
   "outputs": [],
   "source": [
    "Fred = Person('Fredrick', 'beer')\n",
    "Fred.name"
   ]
  },
  {
   "cell_type": "code",
   "execution_count": null,
   "id": "10b0d2bb",
   "metadata": {},
   "outputs": [],
   "source": [
    "# live coding example"
   ]
  },
  {
   "cell_type": "code",
   "execution_count": null,
   "id": "06a8c53d",
   "metadata": {},
   "outputs": [],
   "source": []
  },
  {
   "cell_type": "code",
   "execution_count": null,
   "id": "d0fc4393",
   "metadata": {},
   "outputs": [],
   "source": [
    "# live coding: create another object and compare to the first"
   ]
  },
  {
   "cell_type": "code",
   "execution_count": null,
   "id": "3c0707da",
   "metadata": {},
   "outputs": [],
   "source": []
  },
  {
   "cell_type": "markdown",
   "id": "f989839b",
   "metadata": {},
   "source": [
    "### A More Useful Class*\n",
    "\\*marginally more useful"
   ]
  },
  {
   "cell_type": "code",
   "execution_count": null,
   "id": "cfc5092f",
   "metadata": {},
   "outputs": [],
   "source": [
    "class Rectangle(object):\n",
    "    \"\"\"\n",
    "    this is a doc string\n",
    "    \"\"\"\n",
    "    #this is just a comment\n",
    "    def __init__(self, x, y, ID):\n",
    "        self.length = x\n",
    "        self.width = y\n",
    "        self.ID = ID"
   ]
  },
  {
   "cell_type": "code",
   "execution_count": null,
   "id": "a9e31831",
   "metadata": {},
   "outputs": [],
   "source": [
    "print(Rectangle)"
   ]
  },
  {
   "cell_type": "code",
   "execution_count": null,
   "id": "99393550",
   "metadata": {},
   "outputs": [],
   "source": [
    "r1 = Rectangle(2, 3, 'f')\n",
    "print(r1.length)\n",
    "print(r1.ID)\n",
    "r2 = Rectangle(5, 5, 'dd')"
   ]
  },
  {
   "cell_type": "code",
   "execution_count": null,
   "id": "a0ba121a",
   "metadata": {},
   "outputs": [],
   "source": []
  },
  {
   "cell_type": "code",
   "execution_count": null,
   "id": "efbd4d86",
   "metadata": {},
   "outputs": [],
   "source": []
  },
  {
   "cell_type": "code",
   "execution_count": null,
   "id": "b0a41016",
   "metadata": {},
   "outputs": [],
   "source": []
  },
  {
   "cell_type": "code",
   "execution_count": null,
   "id": "cde66e11",
   "metadata": {},
   "outputs": [],
   "source": []
  },
  {
   "cell_type": "markdown",
   "id": "07a48d6b",
   "metadata": {},
   "source": [
    "Here, we've set up a class from which we can create instances later. Note that the syntax looks like a function. There are a couple strange things that deserve an explanation.\n",
    "\n",
    "* The argument `object` is optional and has to do with inheritance (which will only be briefly introduced in this class). \n",
    "* It is common to include at least one method\n",
    "* `__init__` is a special operator that initializes the class. \n",
    "* The first argument of `__init__` and really any method of a class is `self`.\n",
    "\n",
    "### More about `self`\n",
    "`self` is the instance of the class that is being operated on. One could use a different name, but it is convention (deeply seated!!) to use `self`. A nice explanation is found on [Stack Overflow](http://stackoverflow.com/questions/2709821/python-self-explained) and Guido van Rossum wrote an essay on [why explicit self can't go away](http://neopythonic.blogspot.com/2008/10/why-explicit-self-has-to-stay.html). \n",
    "\n",
    "Here's one more explanation of the use and need for `self` [self history](https://docs.python.org/2/faq/design.html#why-must-self-be-used-explicitly-in-method-definitions-and-calls).\n",
    "\n",
    "Basically, it comes down to `Explicit is better then implicit`. We want to know explicitly that we are working on an a property of the object we are defining rather than some other function or variable that might be globally defined.\n",
    "\n",
    "Now let's make an instance and try all this out."
   ]
  },
  {
   "cell_type": "code",
   "execution_count": null,
   "id": "e1e20741",
   "metadata": {},
   "outputs": [],
   "source": [
    "big_rectangle = Rectangle(25, 35, 'rectangle one')\n",
    "big_rectangle\n",
    "vars(big_rectangle)"
   ]
  },
  {
   "cell_type": "code",
   "execution_count": null,
   "id": "7a70da84",
   "metadata": {},
   "outputs": [],
   "source": [
    "big_rectangle.length"
   ]
  },
  {
   "cell_type": "markdown",
   "id": "645911fd",
   "metadata": {},
   "source": [
    "We see now that we've made an instance and it is of the type `rectangle`. We can check out the attributes using a dot (`.`)."
   ]
  },
  {
   "cell_type": "code",
   "execution_count": null,
   "id": "170deebd",
   "metadata": {},
   "outputs": [],
   "source": [
    "print(big_rectangle.width)\n",
    "print(big_rectangle.length)\n",
    "print(big_rectangle.ID)"
   ]
  },
  {
   "cell_type": "markdown",
   "id": "fac41549",
   "metadata": {},
   "source": [
    "We can use this set of attributes as a kind of database.\n",
    "\n",
    "### Questions\n",
    "\n",
    "How could we make a group of rectangles of varying lengths and widths?\n",
    "   - We could make each attribute a list.\n",
    "   - We could make a list of instances with a member for each rectangle."
   ]
  },
  {
   "cell_type": "code",
   "execution_count": null,
   "id": "f478a217",
   "metadata": {},
   "outputs": [],
   "source": [
    "myrectangles = Rectangle([25, 78], [44, 42], ['r1', 'r2'])\n",
    "print(myrectangles)\n",
    "myrectangles.width[0]\n"
   ]
  },
  {
   "cell_type": "code",
   "execution_count": null,
   "id": "7a8f0e68",
   "metadata": {},
   "outputs": [],
   "source": [
    "# live code a better way to do this\n"
   ]
  },
  {
   "cell_type": "code",
   "execution_count": null,
   "id": "ceee7ba7",
   "metadata": {},
   "outputs": [],
   "source": []
  },
  {
   "cell_type": "markdown",
   "id": "57885895",
   "metadata": {},
   "source": [
    "### Test your skills\n",
    "Could we do this is a dictionary rather than a list?"
   ]
  },
  {
   "cell_type": "markdown",
   "id": "ec012e3b",
   "metadata": {},
   "source": [
    "keys ---> 'R1'   'R2'"
   ]
  },
  {
   "cell_type": "code",
   "execution_count": null,
   "id": "3248b98f",
   "metadata": {},
   "outputs": [],
   "source": []
  },
  {
   "cell_type": "code",
   "execution_count": null,
   "id": "9523dc6f",
   "metadata": {},
   "outputs": [],
   "source": []
  },
  {
   "cell_type": "code",
   "execution_count": null,
   "id": "311f7879",
   "metadata": {},
   "outputs": [],
   "source": []
  },
  {
   "cell_type": "code",
   "execution_count": null,
   "id": "8152a31a",
   "metadata": {},
   "outputs": [],
   "source": []
  },
  {
   "cell_type": "markdown",
   "id": "653dd7ad",
   "metadata": {},
   "source": [
    "There are advantages to both approaches. It would also be possible to define each attribute as a list or dictionary and make a single class. This is a bit more cumbersome, though, and part of the flexibility of dynamic lists and dictionaries is the ability to define multiple objects within them on the fly."
   ]
  },
  {
   "cell_type": "markdown",
   "id": "58e35f97",
   "metadata": {},
   "source": [
    "## Methods\n",
    "\n",
    "Now say we want to operate on these data, like to calculate the area of each rectangle."
   ]
  },
  {
   "cell_type": "markdown",
   "id": "455b3100",
   "metadata": {},
   "source": [
    "### Test your skills\n",
    "In the blank code block below, calculate the areas for each rectangle using a loop."
   ]
  },
  {
   "cell_type": "code",
   "execution_count": null,
   "id": "77837620",
   "metadata": {},
   "outputs": [],
   "source": []
  },
  {
   "cell_type": "code",
   "execution_count": null,
   "id": "5146ce31",
   "metadata": {},
   "outputs": [],
   "source": []
  },
  {
   "cell_type": "code",
   "execution_count": null,
   "id": "a5a274a8",
   "metadata": {},
   "outputs": [],
   "source": []
  },
  {
   "cell_type": "markdown",
   "id": "eeb6682e",
   "metadata": {},
   "source": [
    "Is there a more efficient way do this if we know, for example, that area will be of interest?\n",
    "\n",
    "We can create a method at definition of the class that uses the attributes of `length` and `width` to derive area if called and store it as an additional attribute."
   ]
  },
  {
   "cell_type": "code",
   "execution_count": null,
   "id": "ac48dc3f",
   "metadata": {},
   "outputs": [],
   "source": [
    "class Rectangle(object):\n",
    "    def __init__(self, x, y, ID):\n",
    "        self.length = x\n",
    "        self.width = y\n",
    "        self.ID = ID\n",
    "    \n",
    "    def calc_area(self):\n",
    "        # we only pass self because there are no additional attributes of concern\n",
    "        self.area = self.length * self.width"
   ]
  },
  {
   "cell_type": "code",
   "execution_count": null,
   "id": "c8cd57fa",
   "metadata": {},
   "outputs": [],
   "source": [
    "rr = Rectangle(3,4,'this')\n",
    "vars(rr)"
   ]
  },
  {
   "cell_type": "code",
   "execution_count": null,
   "id": "f49aeb69",
   "metadata": {},
   "outputs": [],
   "source": [
    "rr.calc_area()\n",
    "rr.__dict__"
   ]
  },
  {
   "cell_type": "markdown",
   "id": "5d9c428c",
   "metadata": {},
   "source": [
    "Let's make our list of `rectangle` objects again, but use a method to calculate the areas."
   ]
  },
  {
   "cell_type": "code",
   "execution_count": null,
   "id": "49ca5af4",
   "metadata": {},
   "outputs": [],
   "source": [
    "all_rectangles = list()\n",
    "all_rectangles.append(Rectangle(35,25,'rectangle one'))\n",
    "all_rectangles.append(Rectangle(150, 1000, 'big dog'))\n",
    "vars(all_rectangles[0])\n",
    "all_rectangles[0].__dict__"
   ]
  },
  {
   "cell_type": "code",
   "execution_count": null,
   "id": "5e7c5e8a",
   "metadata": {},
   "outputs": [],
   "source": [
    "for csqr in all_rectangles:\n",
    "    csqr.calc_area()"
   ]
  },
  {
   "cell_type": "code",
   "execution_count": null,
   "id": "04c34297",
   "metadata": {},
   "outputs": [],
   "source": [
    "# let's loop over again to show the area\n",
    "for csqr in all_rectangles:\n",
    "    print(f\"{csqr.ID} area={csqr.area}\")\n",
    "vars(all_rectangles[0])"
   ]
  },
  {
   "cell_type": "markdown",
   "id": "2002b019",
   "metadata": {},
   "source": [
    "We could even incorporate calculations into the `__init__` constructor so the area is calculated on instantiation."
   ]
  },
  {
   "cell_type": "code",
   "execution_count": null,
   "id": "f4b5ee57",
   "metadata": {},
   "outputs": [],
   "source": [
    "class Rectangle(object):\n",
    "    def __init__(self, x, y, ID):\n",
    "        self.length = x\n",
    "        self.width = y\n",
    "        self.area = x * y\n",
    "        self.ID = ID"
   ]
  },
  {
   "cell_type": "code",
   "execution_count": null,
   "id": "befb2a0a",
   "metadata": {},
   "outputs": [],
   "source": [
    "rr = Rectangle(4, 5,'bummer')\n",
    "rr.__dict__"
   ]
  },
  {
   "cell_type": "code",
   "execution_count": null,
   "id": "c5228679",
   "metadata": {},
   "outputs": [],
   "source": [
    "rr.length = 100\n",
    "rr.__dict__"
   ]
  },
  {
   "cell_type": "markdown",
   "id": "8a9e3fdf",
   "metadata": {},
   "source": [
    "Uh oh! Length changes but the overall area of the rectangle doesn't\n",
    "\n",
    "### Properties to the rescue!!!\n",
    "\n",
    "Properties are a special method that behaves similar to an attribute. These methods allow for on the fly (\"dynamic\") calculations and variable construction among other things. \n",
    "\n",
    "Properties are defined with a special decorator (`@property`). Decorators are an advanced topic and won't be covered in this course. More information about decorators, how they are used, and how they work can be found [here](https://betterprogramming.pub/decorators-in-python-72a1d578eac4).\n"
   ]
  },
  {
   "cell_type": "code",
   "execution_count": null,
   "id": "197762a7",
   "metadata": {},
   "outputs": [],
   "source": [
    "class Rectangle(object):\n",
    "    def __init__(self, x, y, ID):\n",
    "        self.length = x\n",
    "        self.width = y\n",
    "        self.ID = ID\n",
    "        \n",
    "    @property\n",
    "    def area(self):\n",
    "        return self.length * self.width"
   ]
  },
  {
   "cell_type": "code",
   "execution_count": null,
   "id": "aeb8ff44",
   "metadata": {},
   "outputs": [],
   "source": [
    "rect = Rectangle(5, 9, \"awesome rectangle\")\n",
    "print(rect.__dict__)\n",
    "print(rect.area)"
   ]
  },
  {
   "cell_type": "markdown",
   "id": "d932bd8d",
   "metadata": {},
   "source": [
    "what happens if the length of the rectangle grows?"
   ]
  },
  {
   "cell_type": "code",
   "execution_count": null,
   "id": "3de3b47d",
   "metadata": {},
   "outputs": [],
   "source": [
    "for new_length in range(5, 100, 11):\n",
    "    rect.length = new_length\n",
    "    print(f\"ID={rect.ID}, length={rect.length}, width={rect.width}, area={rect.area}\")"
   ]
  },
  {
   "cell_type": "markdown",
   "id": "95602f8e",
   "metadata": {},
   "source": [
    "### Test your skills!!!\n",
    "\n",
    "build a `Rectangle` class that includes an `area` and `perimiter_length` property method.\n"
   ]
  },
  {
   "cell_type": "code",
   "execution_count": null,
   "id": "e33ce1d5",
   "metadata": {},
   "outputs": [],
   "source": []
  },
  {
   "cell_type": "code",
   "execution_count": null,
   "id": "4314d746",
   "metadata": {},
   "outputs": [],
   "source": []
  },
  {
   "cell_type": "code",
   "execution_count": null,
   "id": "591426db",
   "metadata": {},
   "outputs": [],
   "source": []
  },
  {
   "cell_type": "markdown",
   "id": "0795056b",
   "metadata": {},
   "source": [
    "## Operator and Special Method Overloading*\n",
    "\n",
    "One special thing we can do is overload operators. This means we can customize the behavior that an object (as an instance of a class) will exhibit when called. The `__init__` constructor was an example of this which we have done something similar already. When an instance is made from a class, whatever is defined in `__init__` is performed as part of creating the instance which is effectively _overloading_ the special method `__init__`.\n",
    "\n",
    "Another really common example is `__str__`. This function provides a string for Python to display when `print` of `str` is called on an object.\n",
    "\n",
    "Looking at the example of `rectangle` objects we used above. \n",
    "\n",
    "\\*N.B. --> The concept of `overloading` is different in Python than in FORTRAN. Also, there appears to be a lack of precision about the use of the terms `overload` and `override`. I'm using the terminology from the _O' Reilly_ book here, but note that you might find other people using `override` instead. The concept in this case is the same."
   ]
  },
  {
   "cell_type": "code",
   "execution_count": null,
   "id": "73084666",
   "metadata": {},
   "outputs": [],
   "source": [
    "class Rectangle(object):\n",
    "    def __init__(self, x, y, ID):\n",
    "        self.length = x\n",
    "        self.width = y\n",
    "        self.ID = ID\n",
    "        \n",
    "    @property\n",
    "    def area(self):\n",
    "        return self.length * self.width\n",
    "    \n",
    "    def __str__(self):\n",
    "        return f\"I'm a Rectangle and my name is {self.ID}, \" \\\n",
    "            f\"length={self.length}, width={self.width}, area={self.area}\""
   ]
  },
  {
   "cell_type": "code",
   "execution_count": null,
   "id": "bfa0dedb",
   "metadata": {},
   "outputs": [],
   "source": [
    "rect = Rectangle(3, 4, 'super_awesome_rectangle')"
   ]
  },
  {
   "cell_type": "code",
   "execution_count": null,
   "id": "7be7aff8",
   "metadata": {},
   "outputs": [],
   "source": [
    "rect"
   ]
  },
  {
   "cell_type": "code",
   "execution_count": null,
   "id": "1d2d2b1b",
   "metadata": {},
   "outputs": [],
   "source": [
    "print(rect)"
   ]
  },
  {
   "cell_type": "markdown",
   "id": "50207d92",
   "metadata": {},
   "source": [
    "Notice that this prints out a default string telling us the `rectangle` is an object in this code (e.g. under `__main__`). But, we can _overload_ and provide a more useful return string using `__repr__`. This serves the same purpose as `__str__` but also returns the string in other circumstances.\n",
    "\n",
    "What's the difference between `__repr__` and `__str__`? The Diet Mountain Dew crew has discussed this [here](http://stackoverflow.com/questions/1436703/difference-between-str-and-repr-in-python)"
   ]
  },
  {
   "cell_type": "code",
   "execution_count": null,
   "id": "0c730327",
   "metadata": {},
   "outputs": [],
   "source": [
    "class Rectangle(object):\n",
    "    def __init__(self, x, y, ID):\n",
    "        self.length = x\n",
    "        self.width = y\n",
    "        self.ID = ID\n",
    "        \n",
    "    @property\n",
    "    def area(self):\n",
    "        return self.length * self.width\n",
    "    \n",
    "    def __repr__(self):\n",
    "        return f\"I'm a Rectangle and my name is {self.ID}, \" \\\n",
    "            f\"length={self.length}, width={self.width}, area={self.area}\""
   ]
  },
  {
   "cell_type": "code",
   "execution_count": null,
   "id": "79d44ebb",
   "metadata": {},
   "outputs": [],
   "source": [
    "rect = Rectangle(3, 4, 'super_awesome_rectangle')"
   ]
  },
  {
   "cell_type": "code",
   "execution_count": null,
   "id": "d88d2037",
   "metadata": {},
   "outputs": [],
   "source": [
    "rect"
   ]
  },
  {
   "cell_type": "code",
   "execution_count": null,
   "id": "6786fc9c",
   "metadata": {},
   "outputs": [],
   "source": [
    " print(rect)"
   ]
  },
  {
   "cell_type": "markdown",
   "id": "0ffee05f",
   "metadata": {},
   "source": [
    "We can even overload other operators like `__add__` which will control what happens when this object is added to another.\n",
    "\n",
    "A complete list of which special methods and operators can be overloaded is found [here](https://docs.python.org/3.9/reference/datamodel.html#special-method-names)."
   ]
  },
  {
   "cell_type": "code",
   "execution_count": null,
   "id": "c9876320",
   "metadata": {},
   "outputs": [],
   "source": [
    "class Rectangle(object):\n",
    "    def __init__(self, x, y, ID):\n",
    "        self.length = x\n",
    "        self.width = y\n",
    "        self.ID = ID\n",
    "        \n",
    "    @property\n",
    "    def area(self):\n",
    "        return self.length * self.width\n",
    "    \n",
    "    def __add__(self, other):\n",
    "        print(\"what should we add today???\")"
   ]
  },
  {
   "cell_type": "code",
   "execution_count": null,
   "id": "a4d7337d",
   "metadata": {},
   "outputs": [],
   "source": [
    "r1 = Rectangle(1, 1, \"Small rect\")\n",
    "r2 = Rectangle(3, 4, \"bigger one\")"
   ]
  },
  {
   "cell_type": "code",
   "execution_count": null,
   "id": "e094e21a",
   "metadata": {},
   "outputs": [],
   "source": [
    "r1 + r2"
   ]
  },
  {
   "cell_type": "markdown",
   "id": "bce3ff8d",
   "metadata": {},
   "source": [
    "### Test your skills -- overload `__add__` so that adding two rectangles adds their area\n",
    "\n",
    "Start with the class we just made. HINT: you will need to represent the other object with `other`."
   ]
  },
  {
   "cell_type": "code",
   "execution_count": null,
   "id": "bea8d230",
   "metadata": {},
   "outputs": [],
   "source": []
  },
  {
   "cell_type": "code",
   "execution_count": null,
   "id": "d260a39b",
   "metadata": {},
   "outputs": [],
   "source": []
  },
  {
   "cell_type": "code",
   "execution_count": null,
   "id": "5edeace1",
   "metadata": {},
   "outputs": [],
   "source": []
  },
  {
   "cell_type": "markdown",
   "id": "6146c874",
   "metadata": {},
   "source": [
    "Operator overloading is very powerful, but with great power comes great responsibility. Use with caution."
   ]
  },
  {
   "cell_type": "markdown",
   "id": "e0869202",
   "metadata": {},
   "source": [
    "## Object-oriented programming (OOP)\n",
    "\n",
    "In the O'Reilly book _Learning Python, 5th Edition_ is a great discussion about Object-Oriented Programming. The author makes this distinction that much of what we are doing with Python is _object-based_ but to truly be object-oriented, we need to also use something called inheritance."
   ]
  },
  {
   "cell_type": "markdown",
   "id": "842f678c",
   "metadata": {},
   "source": [
    "## Inheritance\n",
    "Let's revisit our class for rectangles without the overloading of `__add__`"
   ]
  },
  {
   "cell_type": "code",
   "execution_count": null,
   "id": "d5f3f918",
   "metadata": {},
   "outputs": [],
   "source": [
    "class Rectangle(object):\n",
    "    def __init__(self, x, y, ID):\n",
    "        self.length = x\n",
    "        self.width = y\n",
    "        self.ID = ID\n",
    "        self._type = \"Rectangle\"\n",
    "        \n",
    "    @property\n",
    "    def area(self):\n",
    "        return self.length * self.width\n",
    "    \n",
    "    def __repr__(self):\n",
    "        return f\"I'm a {self._type} and my name is {self.ID}, \" \\\n",
    "            f\"length={self.length}, width={self.width}, area={self.area}\"\n",
    "    "
   ]
  },
  {
   "cell_type": "markdown",
   "id": "9b3402f0",
   "metadata": {},
   "source": [
    "We can _inherit_ these characteristics (the methods and properties) in a new kind of class that has a custom bit of functionality. Say we would like to create a second class that is specifically for representing squares.\n",
    "\n",
    "We can redefine a new class _inheriting_ the rectangle attributes and methods. We can even add the new functionality on top of it.\n"
   ]
  },
  {
   "cell_type": "code",
   "execution_count": null,
   "id": "b7da06c5",
   "metadata": {},
   "outputs": [],
   "source": [
    "# Rectangle is the parent class\n",
    "class Square(Rectangle):\n",
    "    \"\"\"\n",
    "    Doc strings for Square\n",
    "    \"\"\"\n",
    "    def __init__(self, x, ID):\n",
    "        # initialize the parent class using the super().__init__ call\n",
    "        super().__init__(x, x, ID)\n",
    "        self._type = \"Square\"\n",
    "        \n",
    "    @property\n",
    "    def perimiter(self):\n",
    "        return 2 * (self.length + self.width)\n",
    "    \n",
    "    def __repr__(self):\n",
    "        # get the __repr__ from Rectangle using super()\n",
    "        s = super().__repr__()\n",
    "        s += f\", perimiter={self.perimiter}\"\n",
    "        return s"
   ]
  },
  {
   "cell_type": "code",
   "execution_count": null,
   "id": "befe6094",
   "metadata": {},
   "outputs": [],
   "source": [
    "# live code example for rectangle and square"
   ]
  },
  {
   "cell_type": "code",
   "execution_count": null,
   "id": "83bc5cf7",
   "metadata": {},
   "outputs": [],
   "source": []
  },
  {
   "cell_type": "code",
   "execution_count": null,
   "id": "6b4666b6",
   "metadata": {},
   "outputs": [],
   "source": []
  },
  {
   "cell_type": "markdown",
   "id": "eb154fe0",
   "metadata": {},
   "source": [
    "## Modules, Packages, and the Standard Python Library\n",
    "\n",
    "The [Standard Python Library](https://docs.python.org/3/library/) is the set of functions that are part of Python by default.\n",
    "\n",
    "More technically, names point to \"objects\". a \"module\" is a file (with extension `.py`) that contains python code. If there are functions in that code, they can be accessed using the name of the module and a dot (`.`). \n",
    "\n",
    "Packages are collections of modules and are often \"installed\" to be accessible to Python from anywhere. More on that at the end of the lesson.\n",
    "\n",
    "Let's import a module and find a function within it."
   ]
  },
  {
   "cell_type": "code",
   "execution_count": null,
   "id": "2f526fd3",
   "metadata": {},
   "outputs": [],
   "source": [
    "# live code example\n"
   ]
  },
  {
   "cell_type": "code",
   "execution_count": null,
   "id": "529c40bb",
   "metadata": {},
   "outputs": [],
   "source": []
  },
  {
   "cell_type": "code",
   "execution_count": null,
   "id": "cb76abf2",
   "metadata": {},
   "outputs": [],
   "source": []
  },
  {
   "cell_type": "markdown",
   "id": "7a1e33e2",
   "metadata": {},
   "source": [
    "## Importing code and handling namespaces\n",
    "There are several main ways to import a module. \n",
    "\n",
    "The most straightforward way is to just use `import <somepackage>` as we did above."
   ]
  },
  {
   "cell_type": "code",
   "execution_count": null,
   "id": "11c26e7e",
   "metadata": {},
   "outputs": [],
   "source": [
    "import math\n",
    "math"
   ]
  },
  {
   "cell_type": "markdown",
   "id": "dfe8f62b",
   "metadata": {},
   "source": [
    "This then shows that `math` is a module. Whenever you want to use a function from math, you just use the dot like `math.sqrt`.\n",
    "\n",
    "The main advantage to this approach is you always know the provenance of any function. Also, you could (bad idea!) make your own functions called `sqrt`. "
   ]
  },
  {
   "cell_type": "code",
   "execution_count": null,
   "id": "3877589a",
   "metadata": {},
   "outputs": [],
   "source": [
    "def sqrt(numb):\n",
    "    # newton's method \n",
    "    def f(i0, numb):\n",
    "        return (i0 ** 2) - numb \n",
    "    \n",
    "    def f_prime(i0):\n",
    "        return 2 * i0\n",
    "    \n",
    "    err = 100000\n",
    "    i0 = 5\n",
    "    while err > 0.01:\n",
    "        i1 = i0 - f(i0, numb) / f_prime(i0)\n",
    "        err = abs(i1 - i0)\n",
    "        i0 = i1\n",
    "        \n",
    "    print (f'my complicated function estimates sqrt as--> {i1}!')\n"
   ]
  },
  {
   "cell_type": "code",
   "execution_count": null,
   "id": "28b3a46c",
   "metadata": {},
   "outputs": [],
   "source": [
    "# live code example compare sqrt's\n"
   ]
  },
  {
   "cell_type": "code",
   "execution_count": null,
   "id": "226ab535",
   "metadata": {},
   "outputs": [],
   "source": []
  },
  {
   "cell_type": "code",
   "execution_count": null,
   "id": "03d0827e",
   "metadata": {},
   "outputs": [],
   "source": []
  },
  {
   "cell_type": "markdown",
   "id": "0df3d985",
   "metadata": {},
   "source": [
    "Another option is to import only some function you need from a module like `from math import sqrt`. The problem here is, we don't necessarily know where this came from. Whichever was either imported or created most recently gets that name in the namespace. DANGER!"
   ]
  },
  {
   "cell_type": "code",
   "execution_count": null,
   "id": "bae57903",
   "metadata": {},
   "outputs": [],
   "source": [
    "from math import sqrt\n",
    "sqrt"
   ]
  },
  {
   "cell_type": "markdown",
   "id": "082d1a9a",
   "metadata": {},
   "source": [
    "You can also use an alias to import a specific function like `from math import sqrt as math_sqrt`. In this case, and in the case above, you can get the provenance from the import statements at the top of the code, but if the code gets really long, this can be hard to keep track of."
   ]
  },
  {
   "cell_type": "code",
   "execution_count": null,
   "id": "5ab7f708",
   "metadata": {},
   "outputs": [],
   "source": [
    "from math import sqrt as math_sqrt\n",
    "math_sqrt"
   ]
  },
  {
   "cell_type": "markdown",
   "id": "20e41a55",
   "metadata": {},
   "source": [
    "Living really dangerously, you can import all functions from a module like `from math import *`"
   ]
  },
  {
   "cell_type": "code",
   "execution_count": null,
   "id": "0a38a8e9",
   "metadata": {},
   "outputs": [],
   "source": [
    "from math import *\n",
    "sqrt, log, log10, floor, ceil"
   ]
  },
  {
   "cell_type": "markdown",
   "id": "2c281c38",
   "metadata": {},
   "source": [
    "The problem here is, you now have access to all these functions, but you also don't know provenance at all. Some modules, like `numpy`, which will be covered later in this class, are large and have many functions (many of which may have common names that you might use yourself and that you might not be aware of).\n",
    "\n",
    "So.....really, the safest way is like the first way, but that can get long (for example, if you use `import matplotlib`, then every time you use a function from the module you have to type `matplotlib.<some function>` and that gets verbose. A compromise is importing an entire module but assigning it an alias like `import numpy as np`"
   ]
  },
  {
   "cell_type": "code",
   "execution_count": null,
   "id": "ade9edb7",
   "metadata": {},
   "outputs": [],
   "source": [
    "import numpy as np"
   ]
  },
  {
   "cell_type": "markdown",
   "id": "c5be848b",
   "metadata": {},
   "source": [
    "There is a commonly accepted set of aliases for some common scientific computing modules that we recommend: \n",
    "\n",
    "* `import matplotlib.pyplot as plt`\n",
    "* `import numpy as np`\n",
    "* `import matplotlib as mpl`\n",
    "* `import pandas as pd`\n",
    "\n",
    "In addition to keeping the provenance straight, adopting this protocol helps make your code more readable by other people. Remember the Zen of Python!!!"
   ]
  },
  {
   "cell_type": "code",
   "execution_count": null,
   "id": "2b1a24c2",
   "metadata": {},
   "outputs": [],
   "source": [
    "import this\n",
    "print(\"\".join([this.d.get(c, c) for c in this.s]))"
   ]
  },
  {
   "cell_type": "markdown",
   "id": "26281def",
   "metadata": {},
   "source": [
    "## Paths for importing and installation\n",
    "\n",
    "From the official [documentation](https://docs.python.org/3.9/tutorial/modules.html), the hierarchy of searching for modules and packages is:\n",
    "\n",
    "* the directory containing the input script (or the current directory).\n",
    "* PYTHONPATH (a list of directory names, with the same syntax as the shell variable PATH).\n",
    "* the installation-dependent default.\n",
    "\n",
    "The PYTHONPATH variable is a system variable on Windows and thus requires an administrative account to change/add to. You can see your search path using the built-in `sys` module."
   ]
  },
  {
   "cell_type": "code",
   "execution_count": null,
   "id": "d9ca864f",
   "metadata": {},
   "outputs": [],
   "source": [
    "import sys\n",
    "sys.path"
   ]
  },
  {
   "cell_type": "markdown",
   "id": "58f54355",
   "metadata": {},
   "source": [
    "## Exercise: putting it all together\n",
    "\n",
    "In this exercise we'll create our first module and import it into this notebook.\n",
    "\n",
    "Open the python file \"circle_module.py\" in an IDE or text editor and create a class called `Circle`. Inputs to circle should be a radius and ID. Include in the `Circle` class a way to the calculate area and the circumference. After building the class, try importing into this notebook and using it.\n",
    "\n",
    "**Bonus exercise:** Find a way to make the `Circle` objects divisible and compare the difference in area between a 12\" and 16\" pizza.\n"
   ]
  },
  {
   "cell_type": "code",
   "execution_count": null,
   "id": "31ebba7f",
   "metadata": {},
   "outputs": [],
   "source": []
  },
  {
   "cell_type": "code",
   "execution_count": null,
   "id": "ffa39b59",
   "metadata": {},
   "outputs": [],
   "source": []
  },
  {
   "cell_type": "code",
   "execution_count": null,
   "id": "942c7596",
   "metadata": {},
   "outputs": [],
   "source": []
  },
  {
   "cell_type": "code",
   "execution_count": null,
   "id": "1f7b1dc6",
   "metadata": {},
   "outputs": [],
   "source": []
  },
  {
   "cell_type": "code",
   "execution_count": null,
   "id": "211ace03",
   "metadata": {},
   "outputs": [],
   "source": []
  }
 ],
 "metadata": {
  "kernelspec": {
   "display_name": "Python 3 (ipykernel)",
   "language": "python",
   "name": "python3"
  },
  "language_info": {
   "codemirror_mode": {
    "name": "ipython",
    "version": 3
   },
   "file_extension": ".py",
   "mimetype": "text/x-python",
   "name": "python",
   "nbconvert_exporter": "python",
   "pygments_lexer": "ipython3",
   "version": "3.11.7"
  }
 },
 "nbformat": 4,
 "nbformat_minor": 5
}
