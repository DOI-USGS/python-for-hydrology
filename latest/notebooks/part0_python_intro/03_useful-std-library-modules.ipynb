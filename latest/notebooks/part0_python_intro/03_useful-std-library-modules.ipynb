{
 "cells": [
  {
   "cell_type": "markdown",
   "metadata": {},
   "source": [
    "# 03: Useful standard library modules\n",
    "(pathlib, shutil, sys, os, subprocess, zipfile, etc.)\n",
    "\n",
    "These packages are part of the standard python library and provide very useful functionality for working with your operating system and files.  This notebook will provide explore these packages and demonstrate some of their functionality.  Online documentation is at https://docs.python.org/3/library/.\n",
    "\n",
    "\n",
    "#### Topics covered:\n",
    "* **pathlib**:\n",
    "    * listing files\n",
    "    * creating, moving and deleting files\n",
    "    * absolute vs relative paths\n",
    "    * useful path object attributes\n",
    "* **shutil**: \n",
    "    * copying, moving and deleting files AND folders\n",
    "* **sys**: \n",
    "    * python and platform information\n",
    "    * command line arguments\n",
    "    * modifying the python path to import code from other locations\n",
    "* **os**:\n",
    "    * changing the working directory\n",
    "    * recursive iteration through folder structures\n",
    "    * accessing environmental variables\n",
    "* **subprocess**: \n",
    "    * running system commands and checking the results\n",
    "* **zipfile**:\n",
    "    * creating and extracting from zip archives"
   ]
  },
  {
   "cell_type": "code",
   "execution_count": 1,
   "metadata": {
    "execution": {
     "iopub.execute_input": "2024-04-12T14:58:27.032577Z",
     "iopub.status.busy": "2024-04-12T14:58:27.032416Z",
     "iopub.status.idle": "2024-04-12T14:58:27.039933Z",
     "shell.execute_reply": "2024-04-12T14:58:27.039436Z"
    }
   },
   "outputs": [],
   "source": [
    "import os\n",
    "from pathlib import Path\n",
    "import shutil\n",
    "import subprocess\n",
    "import sys\n",
    "import zipfile"
   ]
  },
  {
   "cell_type": "markdown",
   "metadata": {},
   "source": [
    "## ``pathlib`` — Object-oriented filesystem paths\n",
    "Pathlib provides convenient \"pathlike\" objects for working with file paths across platforms (meaning paths or operations done with pathlib work the same on Windows or POSIX systems (Linux, OSX, etc)). The main entry point for users is the ``Path()`` class.\n",
    "\n",
    "further reading:  \n",
    "https://treyhunner.com/2018/12/why-you-should-be-using-pathlib/  \n",
    "https://docs.python.org/3/library/pathlib.html"
   ]
  },
  {
   "cell_type": "markdown",
   "metadata": {},
   "source": [
    "#### Make a ``Path()`` object for the current folder"
   ]
  },
  {
   "cell_type": "code",
   "execution_count": 2,
   "metadata": {
    "execution": {
     "iopub.execute_input": "2024-04-12T14:58:27.041794Z",
     "iopub.status.busy": "2024-04-12T14:58:27.041635Z",
     "iopub.status.idle": "2024-04-12T14:58:27.046656Z",
     "shell.execute_reply": "2024-04-12T14:58:27.046174Z"
    }
   },
   "outputs": [
    {
     "data": {
      "text/plain": [
       "PosixPath('.')"
      ]
     },
     "execution_count": 2,
     "metadata": {},
     "output_type": "execute_result"
    }
   ],
   "source": [
    "cwd = Path('.')\n",
    "cwd"
   ]
  },
  {
   "cell_type": "markdown",
   "metadata": {},
   "source": [
    "### Listing files"
   ]
  },
  {
   "cell_type": "code",
   "execution_count": 3,
   "metadata": {
    "execution": {
     "iopub.execute_input": "2024-04-12T14:58:27.048427Z",
     "iopub.status.busy": "2024-04-12T14:58:27.048170Z",
     "iopub.status.idle": "2024-04-12T14:58:27.051375Z",
     "shell.execute_reply": "2024-04-12T14:58:27.050985Z"
    }
   },
   "outputs": [
    {
     "name": "stdout",
     "output_type": "stream",
     "text": [
      "11_xarray_mt_rainier_precip.ipynb\n",
      "09_a_Geopandas.ipynb\n",
      "05_numpy.ipynb\n",
      "03_useful-std-library-modules.ipynb\n",
      "07b_VSCode.md\n",
      "data\n",
      "06b_matplotlib_animation.ipynb\n",
      "10_Rasterio.ipynb\n",
      "09_b_Geopandas_ABQ.ipynb\n",
      "00_python_basics_review.ipynb\n",
      "solutions\n"
     ]
    }
   ],
   "source": [
    "for f in cwd.iterdir():\n",
    "    print(f)"
   ]
  },
  {
   "cell_type": "markdown",
   "metadata": {},
   "source": [
    "#### List just the notebooks using the ``.glob()`` method"
   ]
  },
  {
   "cell_type": "code",
   "execution_count": 4,
   "metadata": {
    "execution": {
     "iopub.execute_input": "2024-04-12T14:58:27.053260Z",
     "iopub.status.busy": "2024-04-12T14:58:27.052968Z",
     "iopub.status.idle": "2024-04-12T14:58:27.055688Z",
     "shell.execute_reply": "2024-04-12T14:58:27.055306Z"
    }
   },
   "outputs": [
    {
     "name": "stdout",
     "output_type": "stream",
     "text": [
      "11_xarray_mt_rainier_precip.ipynb\n",
      "09_a_Geopandas.ipynb\n",
      "05_numpy.ipynb\n",
      "03_useful-std-library-modules.ipynb\n",
      "06b_matplotlib_animation.ipynb\n",
      "10_Rasterio.ipynb\n",
      "09_b_Geopandas_ABQ.ipynb\n",
      "00_python_basics_review.ipynb\n"
     ]
    }
   ],
   "source": [
    "for nb in cwd.glob('*.ipynb'):\n",
    "    print(nb)"
   ]
  },
  {
   "cell_type": "markdown",
   "metadata": {},
   "source": [
    "#### Note: ``.glob()`` works across folders too\n",
    "List all notebooks for both class components"
   ]
  },
  {
   "cell_type": "code",
   "execution_count": 5,
   "metadata": {
    "execution": {
     "iopub.execute_input": "2024-04-12T14:58:27.057549Z",
     "iopub.status.busy": "2024-04-12T14:58:27.057186Z",
     "iopub.status.idle": "2024-04-12T14:58:27.060281Z",
     "shell.execute_reply": "2024-04-12T14:58:27.059831Z"
    }
   },
   "outputs": [
    {
     "name": "stdout",
     "output_type": "stream",
     "text": [
      "../part0_python_intro/11_xarray_mt_rainier_precip.ipynb\n",
      "../part0_python_intro/09_a_Geopandas.ipynb\n",
      "../part0_python_intro/05_numpy.ipynb\n",
      "../part0_python_intro/03_useful-std-library-modules.ipynb\n",
      "../part0_python_intro/06b_matplotlib_animation.ipynb\n",
      "../part0_python_intro/10_Rasterio.ipynb\n",
      "../part0_python_intro/09_b_Geopandas_ABQ.ipynb\n",
      "../part0_python_intro/00_python_basics_review.ipynb\n",
      "../part1_flopy/05-unstructured-grids.ipynb\n",
      "../part1_flopy/08_Modflow-setup-demo.ipynb\n",
      "../part1_flopy/09-gwt-voronoi-demo.ipynb\n",
      "../part1_flopy/01-Flopy-intro.ipynb\n",
      "../part1_flopy/10_modpath_particle_tracking-demo.ipynb\n"
     ]
    }
   ],
   "source": [
    "for nb in cwd.glob('../*/*.ipynb'):\n",
    "    print(nb)"
   ]
  },
  {
   "cell_type": "markdown",
   "metadata": {},
   "source": [
    "#### But ``glob`` results aren't sorted alphabetically!\n",
    "(and the sorting is platform-dependent)\n",
    "\n",
    "https://arstechnica.com/information-technology/2019/10/chemists-discover-cross-platform-python-scripts-not-so-cross-platform/?comments=1&post=38113333\n",
    "\n",
    "we can easily sort them by casting the results to a list"
   ]
  },
  {
   "cell_type": "code",
   "execution_count": 6,
   "metadata": {
    "execution": {
     "iopub.execute_input": "2024-04-12T14:58:27.062188Z",
     "iopub.status.busy": "2024-04-12T14:58:27.061915Z",
     "iopub.status.idle": "2024-04-12T14:58:27.065815Z",
     "shell.execute_reply": "2024-04-12T14:58:27.065433Z"
    }
   },
   "outputs": [
    {
     "data": {
      "text/plain": [
       "[PosixPath('../part0_python_intro/00_python_basics_review.ipynb'),\n",
       " PosixPath('../part0_python_intro/03_useful-std-library-modules.ipynb'),\n",
       " PosixPath('../part0_python_intro/05_numpy.ipynb'),\n",
       " PosixPath('../part0_python_intro/06b_matplotlib_animation.ipynb'),\n",
       " PosixPath('../part0_python_intro/09_a_Geopandas.ipynb'),\n",
       " PosixPath('../part0_python_intro/09_b_Geopandas_ABQ.ipynb'),\n",
       " PosixPath('../part0_python_intro/10_Rasterio.ipynb'),\n",
       " PosixPath('../part0_python_intro/11_xarray_mt_rainier_precip.ipynb'),\n",
       " PosixPath('../part1_flopy/01-Flopy-intro.ipynb'),\n",
       " PosixPath('../part1_flopy/05-unstructured-grids.ipynb'),\n",
       " PosixPath('../part1_flopy/08_Modflow-setup-demo.ipynb'),\n",
       " PosixPath('../part1_flopy/09-gwt-voronoi-demo.ipynb'),\n",
       " PosixPath('../part1_flopy/10_modpath_particle_tracking-demo.ipynb')]"
      ]
     },
     "execution_count": 6,
     "metadata": {},
     "output_type": "execute_result"
    }
   ],
   "source": [
    "sorted(list(cwd.glob('../*/*.ipynb')))"
   ]
  },
  {
   "cell_type": "markdown",
   "metadata": {},
   "source": [
    "**Note:** There is also a glob module in the standard python library that works directly with string paths"
   ]
  },
  {
   "cell_type": "code",
   "execution_count": 7,
   "metadata": {
    "execution": {
     "iopub.execute_input": "2024-04-12T14:58:27.067501Z",
     "iopub.status.busy": "2024-04-12T14:58:27.067234Z",
     "iopub.status.idle": "2024-04-12T14:58:27.070703Z",
     "shell.execute_reply": "2024-04-12T14:58:27.070308Z"
    }
   },
   "outputs": [
    {
     "data": {
      "text/plain": [
       "['../part0_python_intro/00_python_basics_review.ipynb',\n",
       " '../part0_python_intro/03_useful-std-library-modules.ipynb',\n",
       " '../part0_python_intro/05_numpy.ipynb',\n",
       " '../part0_python_intro/06b_matplotlib_animation.ipynb',\n",
       " '../part0_python_intro/09_a_Geopandas.ipynb',\n",
       " '../part0_python_intro/09_b_Geopandas_ABQ.ipynb',\n",
       " '../part0_python_intro/10_Rasterio.ipynb',\n",
       " '../part0_python_intro/11_xarray_mt_rainier_precip.ipynb',\n",
       " '../part1_flopy/01-Flopy-intro.ipynb',\n",
       " '../part1_flopy/05-unstructured-grids.ipynb',\n",
       " '../part1_flopy/08_Modflow-setup-demo.ipynb',\n",
       " '../part1_flopy/09-gwt-voronoi-demo.ipynb',\n",
       " '../part1_flopy/10_modpath_particle_tracking-demo.ipynb']"
      ]
     },
     "execution_count": 7,
     "metadata": {},
     "output_type": "execute_result"
    }
   ],
   "source": [
    "import glob\n",
    "sorted(list(glob.glob('../*/*.ipynb')))"
   ]
  },
  {
   "cell_type": "markdown",
   "metadata": {},
   "source": [
    "#### List just the subfolders"
   ]
  },
  {
   "cell_type": "code",
   "execution_count": 8,
   "metadata": {
    "execution": {
     "iopub.execute_input": "2024-04-12T14:58:27.072514Z",
     "iopub.status.busy": "2024-04-12T14:58:27.072223Z",
     "iopub.status.idle": "2024-04-12T14:58:27.075877Z",
     "shell.execute_reply": "2024-04-12T14:58:27.075494Z"
    }
   },
   "outputs": [
    {
     "data": {
      "text/plain": [
       "[PosixPath('data'), PosixPath('solutions')]"
      ]
     },
     "execution_count": 8,
     "metadata": {},
     "output_type": "execute_result"
    }
   ],
   "source": [
    "[f for f in cwd.iterdir() if f.is_dir()]"
   ]
  },
  {
   "cell_type": "markdown",
   "metadata": {},
   "source": [
    "#### Create a new path for the data subfolder"
   ]
  },
  {
   "cell_type": "code",
   "execution_count": 9,
   "metadata": {
    "execution": {
     "iopub.execute_input": "2024-04-12T14:58:27.077621Z",
     "iopub.status.busy": "2024-04-12T14:58:27.077328Z",
     "iopub.status.idle": "2024-04-12T14:58:27.080550Z",
     "shell.execute_reply": "2024-04-12T14:58:27.080148Z"
    }
   },
   "outputs": [
    {
     "data": {
      "text/plain": [
       "PosixPath('data')"
      ]
     },
     "execution_count": 9,
     "metadata": {},
     "output_type": "execute_result"
    }
   ],
   "source": [
    "data_path = cwd / 'data'\n",
    "data_path"
   ]
  },
  {
   "cell_type": "markdown",
   "metadata": {},
   "source": [
    "#### or an individual file"
   ]
  },
  {
   "cell_type": "code",
   "execution_count": 10,
   "metadata": {
    "execution": {
     "iopub.execute_input": "2024-04-12T14:58:27.082395Z",
     "iopub.status.busy": "2024-04-12T14:58:27.082092Z",
     "iopub.status.idle": "2024-04-12T14:58:27.085178Z",
     "shell.execute_reply": "2024-04-12T14:58:27.084749Z"
    }
   },
   "outputs": [
    {
     "data": {
      "text/plain": [
       "PosixPath('00_python_basics_review.ipynb')"
      ]
     },
     "execution_count": 10,
     "metadata": {},
     "output_type": "execute_result"
    }
   ],
   "source": [
    "f = cwd / '00_python_basics_review.ipynb'\n",
    "f"
   ]
  },
  {
   "cell_type": "markdown",
   "metadata": {},
   "source": [
    "#### check if it exists, or if it's a directory"
   ]
  },
  {
   "cell_type": "code",
   "execution_count": 11,
   "metadata": {
    "execution": {
     "iopub.execute_input": "2024-04-12T14:58:27.086857Z",
     "iopub.status.busy": "2024-04-12T14:58:27.086592Z",
     "iopub.status.idle": "2024-04-12T14:58:27.089876Z",
     "shell.execute_reply": "2024-04-12T14:58:27.089402Z"
    }
   },
   "outputs": [
    {
     "data": {
      "text/plain": [
       "(True, False)"
      ]
     },
     "execution_count": 11,
     "metadata": {},
     "output_type": "execute_result"
    }
   ],
   "source": [
    "f.exists(), f.is_dir()"
   ]
  },
  {
   "cell_type": "markdown",
   "metadata": {},
   "source": [
    "### Creating files and folders\n",
    "\n",
    "#### make a new subdirectory"
   ]
  },
  {
   "cell_type": "code",
   "execution_count": 12,
   "metadata": {
    "execution": {
     "iopub.execute_input": "2024-04-12T14:58:27.091557Z",
     "iopub.status.busy": "2024-04-12T14:58:27.091287Z",
     "iopub.status.idle": "2024-04-12T14:58:27.094543Z",
     "shell.execute_reply": "2024-04-12T14:58:27.094162Z"
    }
   },
   "outputs": [
    {
     "data": {
      "text/plain": [
       "PosixPath('more_files')"
      ]
     },
     "execution_count": 12,
     "metadata": {},
     "output_type": "execute_result"
    }
   ],
   "source": [
    "new_folder = cwd / 'more_files'\n",
    "new_folder"
   ]
  },
  {
   "cell_type": "code",
   "execution_count": 13,
   "metadata": {
    "execution": {
     "iopub.execute_input": "2024-04-12T14:58:27.096181Z",
     "iopub.status.busy": "2024-04-12T14:58:27.095922Z",
     "iopub.status.idle": "2024-04-12T14:58:27.099162Z",
     "shell.execute_reply": "2024-04-12T14:58:27.098704Z"
    }
   },
   "outputs": [
    {
     "data": {
      "text/plain": [
       "False"
      ]
     },
     "execution_count": 13,
     "metadata": {},
     "output_type": "execute_result"
    }
   ],
   "source": [
    "new_folder.exists()"
   ]
  },
  {
   "cell_type": "code",
   "execution_count": 14,
   "metadata": {
    "execution": {
     "iopub.execute_input": "2024-04-12T14:58:27.101049Z",
     "iopub.status.busy": "2024-04-12T14:58:27.100623Z",
     "iopub.status.idle": "2024-04-12T14:58:27.104089Z",
     "shell.execute_reply": "2024-04-12T14:58:27.103720Z"
    }
   },
   "outputs": [
    {
     "data": {
      "text/plain": [
       "True"
      ]
     },
     "execution_count": 14,
     "metadata": {},
     "output_type": "execute_result"
    }
   ],
   "source": [
    "new_folder.mkdir(); new_folder.exists()"
   ]
  },
  {
   "cell_type": "markdown",
   "metadata": {},
   "source": [
    "Note that if you try to run the above cell twice, you'll get an error that the folder already exists\n",
    "``exist_ok=True`` supresses these errors."
   ]
  },
  {
   "cell_type": "code",
   "execution_count": 15,
   "metadata": {
    "execution": {
     "iopub.execute_input": "2024-04-12T14:58:27.105898Z",
     "iopub.status.busy": "2024-04-12T14:58:27.105606Z",
     "iopub.status.idle": "2024-04-12T14:58:27.107774Z",
     "shell.execute_reply": "2024-04-12T14:58:27.107423Z"
    }
   },
   "outputs": [],
   "source": [
    "new_folder.mkdir(exist_ok=True)"
   ]
  },
  {
   "cell_type": "markdown",
   "metadata": {},
   "source": [
    "#### make a new subfolder within a new subfolder\n",
    "The ``parents=True`` argument allows for making subfolders within new subfolders"
   ]
  },
  {
   "cell_type": "code",
   "execution_count": 16,
   "metadata": {
    "execution": {
     "iopub.execute_input": "2024-04-12T14:58:27.109632Z",
     "iopub.status.busy": "2024-04-12T14:58:27.109273Z",
     "iopub.status.idle": "2024-04-12T14:58:27.111823Z",
     "shell.execute_reply": "2024-04-12T14:58:27.111437Z"
    }
   },
   "outputs": [],
   "source": [
    "(new_folder / 'subfolder').mkdir(exist_ok=True, parents=True)"
   ]
  },
  {
   "cell_type": "markdown",
   "metadata": {},
   "source": [
    "### absolute vs. relative pathing\n",
    "\n",
    "Get the absolute location of the current working directory"
   ]
  },
  {
   "cell_type": "code",
   "execution_count": 17,
   "metadata": {
    "execution": {
     "iopub.execute_input": "2024-04-12T14:58:27.113475Z",
     "iopub.status.busy": "2024-04-12T14:58:27.113231Z",
     "iopub.status.idle": "2024-04-12T14:58:27.116426Z",
     "shell.execute_reply": "2024-04-12T14:58:27.115969Z"
    }
   },
   "outputs": [
    {
     "data": {
      "text/plain": [
       "PosixPath('/home/runner/work/python-for-hydrology/python-for-hydrology/docs/source/notebooks/part0_python_intro')"
      ]
     },
     "execution_count": 17,
     "metadata": {},
     "output_type": "execute_result"
    }
   ],
   "source": [
    "abs_cwd = Path.cwd()\n",
    "abs_cwd"
   ]
  },
  {
   "cell_type": "markdown",
   "metadata": {},
   "source": [
    "Go up two levels to the course repository"
   ]
  },
  {
   "cell_type": "code",
   "execution_count": 18,
   "metadata": {
    "execution": {
     "iopub.execute_input": "2024-04-12T14:58:27.118165Z",
     "iopub.status.busy": "2024-04-12T14:58:27.117874Z",
     "iopub.status.idle": "2024-04-12T14:58:27.121016Z",
     "shell.execute_reply": "2024-04-12T14:58:27.120554Z"
    }
   },
   "outputs": [
    {
     "data": {
      "text/plain": [
       "PosixPath('/home/runner/work/python-for-hydrology/python-for-hydrology/docs/source/notebooks/part0_python_intro/../..')"
      ]
     },
     "execution_count": 18,
     "metadata": {},
     "output_type": "execute_result"
    }
   ],
   "source": [
    "class_root = (abs_cwd / '../../')\n",
    "class_root"
   ]
  },
  {
   "cell_type": "markdown",
   "metadata": {},
   "source": [
    "Simplify or resolve the path"
   ]
  },
  {
   "cell_type": "code",
   "execution_count": 19,
   "metadata": {
    "execution": {
     "iopub.execute_input": "2024-04-12T14:58:27.122576Z",
     "iopub.status.busy": "2024-04-12T14:58:27.122441Z",
     "iopub.status.idle": "2024-04-12T14:58:27.125722Z",
     "shell.execute_reply": "2024-04-12T14:58:27.125254Z"
    }
   },
   "outputs": [
    {
     "data": {
      "text/plain": [
       "PosixPath('/home/runner/work/python-for-hydrology/python-for-hydrology/docs/source')"
      ]
     },
     "execution_count": 19,
     "metadata": {},
     "output_type": "execute_result"
    }
   ],
   "source": [
    "class_root = class_root.resolve()\n",
    "class_root"
   ]
  },
  {
   "cell_type": "markdown",
   "metadata": {},
   "source": [
    "Get the cwd relative to the course repository"
   ]
  },
  {
   "cell_type": "code",
   "execution_count": 20,
   "metadata": {
    "execution": {
     "iopub.execute_input": "2024-04-12T14:58:27.127423Z",
     "iopub.status.busy": "2024-04-12T14:58:27.127173Z",
     "iopub.status.idle": "2024-04-12T14:58:27.130332Z",
     "shell.execute_reply": "2024-04-12T14:58:27.129891Z"
    }
   },
   "outputs": [
    {
     "data": {
      "text/plain": [
       "PosixPath('notebooks/part0_python_intro')"
      ]
     },
     "execution_count": 20,
     "metadata": {},
     "output_type": "execute_result"
    }
   ],
   "source": [
    "abs_cwd.relative_to(class_root)"
   ]
  },
  {
   "cell_type": "markdown",
   "metadata": {},
   "source": [
    "check if this is an absolute or relative path"
   ]
  },
  {
   "cell_type": "code",
   "execution_count": 21,
   "metadata": {
    "execution": {
     "iopub.execute_input": "2024-04-12T14:58:27.132209Z",
     "iopub.status.busy": "2024-04-12T14:58:27.131770Z",
     "iopub.status.idle": "2024-04-12T14:58:27.135055Z",
     "shell.execute_reply": "2024-04-12T14:58:27.134619Z"
    }
   },
   "outputs": [
    {
     "data": {
      "text/plain": [
       "False"
      ]
     },
     "execution_count": 21,
     "metadata": {},
     "output_type": "execute_result"
    }
   ],
   "source": [
    "abs_cwd.relative_to(class_root).is_absolute()"
   ]
  },
  {
   "cell_type": "code",
   "execution_count": 22,
   "metadata": {
    "execution": {
     "iopub.execute_input": "2024-04-12T14:58:27.136994Z",
     "iopub.status.busy": "2024-04-12T14:58:27.136595Z",
     "iopub.status.idle": "2024-04-12T14:58:27.139989Z",
     "shell.execute_reply": "2024-04-12T14:58:27.139525Z"
    }
   },
   "outputs": [
    {
     "data": {
      "text/plain": [
       "True"
      ]
     },
     "execution_count": 22,
     "metadata": {},
     "output_type": "execute_result"
    }
   ],
   "source": [
    "abs_cwd.is_absolute()"
   ]
  },
  {
   "cell_type": "markdown",
   "metadata": {},
   "source": [
    "**gottcha:** `Path.relative_to()` only works when the first path is a subpath of the second path, or if both paths are aboslute\n",
    "\n",
    "For example, try executing this line: \n",
    "\n",
    "```python\n",
    "Path('../part1_flopy/').relative_to('data')\n",
    "```"
   ]
  },
  {
   "cell_type": "markdown",
   "metadata": {},
   "source": [
    "If you need a relative path that will work robustly in a script, `os.path.relpath` might be a better choice"
   ]
  },
  {
   "cell_type": "code",
   "execution_count": 23,
   "metadata": {
    "execution": {
     "iopub.execute_input": "2024-04-12T14:58:27.141884Z",
     "iopub.status.busy": "2024-04-12T14:58:27.141588Z",
     "iopub.status.idle": "2024-04-12T14:58:27.144843Z",
     "shell.execute_reply": "2024-04-12T14:58:27.144370Z"
    }
   },
   "outputs": [
    {
     "data": {
      "text/plain": [
       "'../../part1_flopy'"
      ]
     },
     "execution_count": 23,
     "metadata": {},
     "output_type": "execute_result"
    }
   ],
   "source": [
    "os.path.relpath('../part1_flopy/', 'data')"
   ]
  },
  {
   "cell_type": "code",
   "execution_count": 24,
   "metadata": {
    "execution": {
     "iopub.execute_input": "2024-04-12T14:58:27.146707Z",
     "iopub.status.busy": "2024-04-12T14:58:27.146413Z",
     "iopub.status.idle": "2024-04-12T14:58:27.149634Z",
     "shell.execute_reply": "2024-04-12T14:58:27.149244Z"
    }
   },
   "outputs": [
    {
     "data": {
      "text/plain": [
       "'../part0_python_intro/data'"
      ]
     },
     "execution_count": 24,
     "metadata": {},
     "output_type": "execute_result"
    }
   ],
   "source": [
    "os.path.relpath('data', '../part1_flopy/')"
   ]
  },
  {
   "cell_type": "markdown",
   "metadata": {},
   "source": [
    "### useful attributes"
   ]
  },
  {
   "cell_type": "code",
   "execution_count": 25,
   "metadata": {
    "execution": {
     "iopub.execute_input": "2024-04-12T14:58:27.151242Z",
     "iopub.status.busy": "2024-04-12T14:58:27.151106Z",
     "iopub.status.idle": "2024-04-12T14:58:27.154224Z",
     "shell.execute_reply": "2024-04-12T14:58:27.153743Z"
    }
   },
   "outputs": [
    {
     "data": {
      "text/plain": [
       "PosixPath('/home/runner/work/python-for-hydrology/python-for-hydrology/docs/source/notebooks')"
      ]
     },
     "execution_count": 25,
     "metadata": {},
     "output_type": "execute_result"
    }
   ],
   "source": [
    "abs_cwd.parent"
   ]
  },
  {
   "cell_type": "code",
   "execution_count": 26,
   "metadata": {
    "execution": {
     "iopub.execute_input": "2024-04-12T14:58:27.155989Z",
     "iopub.status.busy": "2024-04-12T14:58:27.155707Z",
     "iopub.status.idle": "2024-04-12T14:58:27.158837Z",
     "shell.execute_reply": "2024-04-12T14:58:27.158385Z"
    }
   },
   "outputs": [
    {
     "data": {
      "text/plain": [
       "PosixPath('/home/runner/work/python-for-hydrology/python-for-hydrology/docs/source')"
      ]
     },
     "execution_count": 26,
     "metadata": {},
     "output_type": "execute_result"
    }
   ],
   "source": [
    "abs_cwd.parent.parent"
   ]
  },
  {
   "cell_type": "code",
   "execution_count": 27,
   "metadata": {
    "execution": {
     "iopub.execute_input": "2024-04-12T14:58:27.160614Z",
     "iopub.status.busy": "2024-04-12T14:58:27.160328Z",
     "iopub.status.idle": "2024-04-12T14:58:27.163311Z",
     "shell.execute_reply": "2024-04-12T14:58:27.162938Z"
    }
   },
   "outputs": [
    {
     "data": {
      "text/plain": [
       "'00_python_basics_review.ipynb'"
      ]
     },
     "execution_count": 27,
     "metadata": {},
     "output_type": "execute_result"
    }
   ],
   "source": [
    "f.name"
   ]
  },
  {
   "cell_type": "code",
   "execution_count": 28,
   "metadata": {
    "execution": {
     "iopub.execute_input": "2024-04-12T14:58:27.165011Z",
     "iopub.status.busy": "2024-04-12T14:58:27.164749Z",
     "iopub.status.idle": "2024-04-12T14:58:27.167889Z",
     "shell.execute_reply": "2024-04-12T14:58:27.167429Z"
    }
   },
   "outputs": [
    {
     "data": {
      "text/plain": [
       "'.ipynb'"
      ]
     },
     "execution_count": 28,
     "metadata": {},
     "output_type": "execute_result"
    }
   ],
   "source": [
    "f.suffix"
   ]
  },
  {
   "cell_type": "code",
   "execution_count": 29,
   "metadata": {
    "execution": {
     "iopub.execute_input": "2024-04-12T14:58:27.169652Z",
     "iopub.status.busy": "2024-04-12T14:58:27.169311Z",
     "iopub.status.idle": "2024-04-12T14:58:27.172525Z",
     "shell.execute_reply": "2024-04-12T14:58:27.172058Z"
    }
   },
   "outputs": [
    {
     "data": {
      "text/plain": [
       "PosixPath('00_python_basics_review.junk')"
      ]
     },
     "execution_count": 29,
     "metadata": {},
     "output_type": "execute_result"
    }
   ],
   "source": [
    "f.with_suffix('.junk')"
   ]
  },
  {
   "cell_type": "code",
   "execution_count": 30,
   "metadata": {
    "execution": {
     "iopub.execute_input": "2024-04-12T14:58:27.174181Z",
     "iopub.status.busy": "2024-04-12T14:58:27.174036Z",
     "iopub.status.idle": "2024-04-12T14:58:27.177148Z",
     "shell.execute_reply": "2024-04-12T14:58:27.176674Z"
    }
   },
   "outputs": [
    {
     "data": {
      "text/plain": [
       "'00_python_basics_review'"
      ]
     },
     "execution_count": 30,
     "metadata": {},
     "output_type": "execute_result"
    }
   ],
   "source": [
    "f.stem"
   ]
  },
  {
   "cell_type": "markdown",
   "metadata": {},
   "source": [
    "### Moving and deleting files\n",
    "\n",
    "Make a file"
   ]
  },
  {
   "cell_type": "code",
   "execution_count": 31,
   "metadata": {
    "execution": {
     "iopub.execute_input": "2024-04-12T14:58:27.178968Z",
     "iopub.status.busy": "2024-04-12T14:58:27.178586Z",
     "iopub.status.idle": "2024-04-12T14:58:27.181350Z",
     "shell.execute_reply": "2024-04-12T14:58:27.180878Z"
    }
   },
   "outputs": [],
   "source": [
    "fname = Path('new_file.txt')\n",
    "with open(fname, 'w') as dest:\n",
    "    dest.write(\"A new text file.\")"
   ]
  },
  {
   "cell_type": "code",
   "execution_count": 32,
   "metadata": {
    "execution": {
     "iopub.execute_input": "2024-04-12T14:58:27.183120Z",
     "iopub.status.busy": "2024-04-12T14:58:27.182729Z",
     "iopub.status.idle": "2024-04-12T14:58:27.185885Z",
     "shell.execute_reply": "2024-04-12T14:58:27.185440Z"
    }
   },
   "outputs": [
    {
     "data": {
      "text/plain": [
       "True"
      ]
     },
     "execution_count": 32,
     "metadata": {},
     "output_type": "execute_result"
    }
   ],
   "source": [
    "fname.exists()"
   ]
  },
  {
   "cell_type": "markdown",
   "metadata": {},
   "source": [
    "Move the file"
   ]
  },
  {
   "cell_type": "code",
   "execution_count": 33,
   "metadata": {
    "execution": {
     "iopub.execute_input": "2024-04-12T14:58:27.187996Z",
     "iopub.status.busy": "2024-04-12T14:58:27.187712Z",
     "iopub.status.idle": "2024-04-12T14:58:27.190912Z",
     "shell.execute_reply": "2024-04-12T14:58:27.190539Z"
    }
   },
   "outputs": [
    {
     "data": {
      "text/plain": [
       "PosixPath('new_file2.txt')"
      ]
     },
     "execution_count": 33,
     "metadata": {},
     "output_type": "execute_result"
    }
   ],
   "source": [
    "fname2 = Path('new_file2.txt')\n",
    "fname.rename(fname2)"
   ]
  },
  {
   "cell_type": "code",
   "execution_count": 34,
   "metadata": {
    "execution": {
     "iopub.execute_input": "2024-04-12T14:58:27.192514Z",
     "iopub.status.busy": "2024-04-12T14:58:27.192362Z",
     "iopub.status.idle": "2024-04-12T14:58:27.195736Z",
     "shell.execute_reply": "2024-04-12T14:58:27.195258Z"
    }
   },
   "outputs": [
    {
     "data": {
      "text/plain": [
       "False"
      ]
     },
     "execution_count": 34,
     "metadata": {},
     "output_type": "execute_result"
    }
   ],
   "source": [
    "fname.exists()"
   ]
  },
  {
   "cell_type": "markdown",
   "metadata": {},
   "source": [
    "Delete the file"
   ]
  },
  {
   "cell_type": "code",
   "execution_count": 35,
   "metadata": {
    "execution": {
     "iopub.execute_input": "2024-04-12T14:58:27.197507Z",
     "iopub.status.busy": "2024-04-12T14:58:27.197241Z",
     "iopub.status.idle": "2024-04-12T14:58:27.199537Z",
     "shell.execute_reply": "2024-04-12T14:58:27.199136Z"
    }
   },
   "outputs": [],
   "source": [
    "fname2.unlink()"
   ]
  },
  {
   "cell_type": "code",
   "execution_count": 36,
   "metadata": {
    "execution": {
     "iopub.execute_input": "2024-04-12T14:58:27.201110Z",
     "iopub.status.busy": "2024-04-12T14:58:27.200963Z",
     "iopub.status.idle": "2024-04-12T14:58:27.204067Z",
     "shell.execute_reply": "2024-04-12T14:58:27.203621Z"
    }
   },
   "outputs": [
    {
     "data": {
      "text/plain": [
       "False"
      ]
     },
     "execution_count": 36,
     "metadata": {},
     "output_type": "execute_result"
    }
   ],
   "source": [
    "fname2.exists()"
   ]
  },
  {
   "cell_type": "markdown",
   "metadata": {},
   "source": [
    "#### Delete the empty folder we made above\n",
    "Note: this only works for empty directories (use ``shutil.rmtree()`` very carefully for removing folders and all contents within)"
   ]
  },
  {
   "cell_type": "code",
   "execution_count": 37,
   "metadata": {
    "execution": {
     "iopub.execute_input": "2024-04-12T14:58:27.205838Z",
     "iopub.status.busy": "2024-04-12T14:58:27.205531Z",
     "iopub.status.idle": "2024-04-12T14:58:27.207936Z",
     "shell.execute_reply": "2024-04-12T14:58:27.207499Z"
    }
   },
   "outputs": [],
   "source": [
    "Path('more_files/subfolder/').rmdir()"
   ]
  },
  {
   "cell_type": "markdown",
   "metadata": {},
   "source": [
    "## ``shutil`` — High-level file operations\n",
    "module for copying, moving, and deleting files and directories.\n",
    "\n",
    "https://docs.python.org/3/library/shutil.html\n",
    "\n",
    "The functions from shutil that you may find useful are:\n",
    "\n",
    "    shutil.copy()\n",
    "    shutil.copy2()  # this preserves most metadata (i.e. dates); unlike copy()\n",
    "    shutil.copytree()\n",
    "    shutil.move()\n",
    "    shutil.rmtree()  #obviously, you need to be careful with this one!\n",
    "    \n",
    "Give these guys a shot and see what they do.  Remember, you can always get help by typing:\n",
    "\n",
    "    help(shutil.copy)\n"
   ]
  },
  {
   "cell_type": "code",
   "execution_count": 38,
   "metadata": {
    "execution": {
     "iopub.execute_input": "2024-04-12T14:58:27.209595Z",
     "iopub.status.busy": "2024-04-12T14:58:27.209460Z",
     "iopub.status.idle": "2024-04-12T14:58:27.211621Z",
     "shell.execute_reply": "2024-04-12T14:58:27.211239Z"
    }
   },
   "outputs": [],
   "source": [
    "#try them here.  Be careful!"
   ]
  },
  {
   "cell_type": "code",
   "execution_count": 39,
   "metadata": {
    "execution": {
     "iopub.execute_input": "2024-04-12T14:58:27.213183Z",
     "iopub.status.busy": "2024-04-12T14:58:27.213046Z",
     "iopub.status.idle": "2024-04-12T14:58:27.215495Z",
     "shell.execute_reply": "2024-04-12T14:58:27.215100Z"
    }
   },
   "outputs": [],
   "source": [
    "shutil.rmtree(new_folder)"
   ]
  },
  {
   "cell_type": "markdown",
   "metadata": {},
   "source": [
    "## ``sys`` — System-specific parameters and functions\n",
    "\n",
    "### Getting information about python and the os\n",
    "where python is installed"
   ]
  },
  {
   "cell_type": "code",
   "execution_count": 40,
   "metadata": {
    "execution": {
     "iopub.execute_input": "2024-04-12T14:58:27.217076Z",
     "iopub.status.busy": "2024-04-12T14:58:27.216938Z",
     "iopub.status.idle": "2024-04-12T14:58:27.219530Z",
     "shell.execute_reply": "2024-04-12T14:58:27.219137Z"
    }
   },
   "outputs": [
    {
     "name": "stdout",
     "output_type": "stream",
     "text": [
      "/home/runner/micromamba/envs/pyclass-docs\n"
     ]
    }
   ],
   "source": [
    "print(sys.prefix)"
   ]
  },
  {
   "cell_type": "code",
   "execution_count": 41,
   "metadata": {
    "execution": {
     "iopub.execute_input": "2024-04-12T14:58:27.221261Z",
     "iopub.status.busy": "2024-04-12T14:58:27.220967Z",
     "iopub.status.idle": "2024-04-12T14:58:27.223504Z",
     "shell.execute_reply": "2024-04-12T14:58:27.223036Z"
    }
   },
   "outputs": [
    {
     "name": "stdout",
     "output_type": "stream",
     "text": [
      "sys.version_info(major=3, minor=11, micro=8, releaselevel='final', serial=0)\n"
     ]
    }
   ],
   "source": [
    "print(sys.version_info)"
   ]
  },
  {
   "cell_type": "code",
   "execution_count": 42,
   "metadata": {
    "execution": {
     "iopub.execute_input": "2024-04-12T14:58:27.225108Z",
     "iopub.status.busy": "2024-04-12T14:58:27.224972Z",
     "iopub.status.idle": "2024-04-12T14:58:27.228086Z",
     "shell.execute_reply": "2024-04-12T14:58:27.227702Z"
    }
   },
   "outputs": [
    {
     "data": {
      "text/plain": [
       "'linux'"
      ]
     },
     "execution_count": 42,
     "metadata": {},
     "output_type": "execute_result"
    }
   ],
   "source": [
    "sys.platform"
   ]
  },
  {
   "cell_type": "markdown",
   "metadata": {},
   "source": [
    "### Adding command line arguments to a script\n",
    "Here the command line arguments reflect that we're running a Juptyer Notebook. \n",
    "\n",
    "In a python script, command line arguments are listed after the first item in the list."
   ]
  },
  {
   "cell_type": "code",
   "execution_count": 43,
   "metadata": {
    "execution": {
     "iopub.execute_input": "2024-04-12T14:58:27.229720Z",
     "iopub.status.busy": "2024-04-12T14:58:27.229580Z",
     "iopub.status.idle": "2024-04-12T14:58:27.232766Z",
     "shell.execute_reply": "2024-04-12T14:58:27.232382Z"
    }
   },
   "outputs": [
    {
     "data": {
      "text/plain": [
       "['/home/runner/micromamba/envs/pyclass-docs/lib/python3.11/site-packages/ipykernel_launcher.py',\n",
       " '-f',\n",
       " '/tmp/tmpxp40ayr_.json',\n",
       " '--HistoryManager.hist_file=:memory:']"
      ]
     },
     "execution_count": 43,
     "metadata": {},
     "output_type": "execute_result"
    }
   ],
   "source": [
    "sys.argv"
   ]
  },
  {
   "cell_type": "markdown",
   "metadata": {
    "jp-MarkdownHeadingCollapsed": true
   },
   "source": [
    "### Exercise: Make a script with a command line argument using sys.argv\n",
    "\n",
    "1) Using a text editor such as VSCode, make a new ``*.py`` file with the following contents:\n",
    "\n",
    "```python\n",
    "import sys\n",
    "\n",
    "if len(sys.argv) > 1:\n",
    "    for argument in sys.argv[1:]:\n",
    "        print(argument)\n",
    "else:\n",
    "    print(\"usage is: python <script name>.py argument\")\n",
    "    quit()\n",
    "```\n",
    "\n",
    "2) Try running the script at the command line"
   ]
  },
  {
   "cell_type": "markdown",
   "metadata": {},
   "source": [
    "### modifying the python path\n",
    "\n",
    "If you haven't seen `sys.path` already mentioned in a python script, you will soon.  `sys.path` is a list of directories.  This path list is used by python to search for python modules and packages.  If for some reason, you want to use a python package or  module that is not installed in the main python folder, you can add the directory containing your module to sys.path.\n",
    "\n",
    "Any packages installed by linking the source code in place (i.e. ``pip install -e .`` will also show up here."
   ]
  },
  {
   "cell_type": "code",
   "execution_count": 44,
   "metadata": {
    "execution": {
     "iopub.execute_input": "2024-04-12T14:58:27.234670Z",
     "iopub.status.busy": "2024-04-12T14:58:27.234381Z",
     "iopub.status.idle": "2024-04-12T14:58:27.236766Z",
     "shell.execute_reply": "2024-04-12T14:58:27.236322Z"
    }
   },
   "outputs": [
    {
     "name": "stdout",
     "output_type": "stream",
     "text": [
      "/home/runner/micromamba/envs/pyclass-docs/lib/python311.zip\n",
      "/home/runner/micromamba/envs/pyclass-docs/lib/python3.11\n",
      "/home/runner/micromamba/envs/pyclass-docs/lib/python3.11/lib-dynload\n",
      "\n",
      "/home/runner/micromamba/envs/pyclass-docs/lib/python3.11/site-packages\n"
     ]
    }
   ],
   "source": [
    "for pth in sys.path:\n",
    "    print(pth)"
   ]
  },
  {
   "cell_type": "markdown",
   "metadata": {},
   "source": [
    "### Using ``sys.path`` to import code from an arbitrary location\n",
    "\n",
    "1) Using a text editor such as VSCode (or ``pathlib`` and python) make a new ``*.py`` file in another folder (anything in the same folder as this notebook can already be imported). For example:"
   ]
  },
  {
   "cell_type": "code",
   "execution_count": 45,
   "metadata": {
    "execution": {
     "iopub.execute_input": "2024-04-12T14:58:27.238579Z",
     "iopub.status.busy": "2024-04-12T14:58:27.238226Z",
     "iopub.status.idle": "2024-04-12T14:58:27.241299Z",
     "shell.execute_reply": "2024-04-12T14:58:27.240826Z"
    }
   },
   "outputs": [],
   "source": [
    "subfolder = Path('another_subfolder/scripts')\n",
    "subfolder.mkdir(exist_ok=True, parents=True)\n",
    "\n",
    "with open(subfolder / 'mycode.py', 'w') as dest:\n",
    "    dest.write(\"stuff = {'this is': 'a dictionary'}\")"
   ]
  },
  {
   "cell_type": "markdown",
   "metadata": {},
   "source": [
    "Now add this folder to the python path"
   ]
  },
  {
   "cell_type": "code",
   "execution_count": 46,
   "metadata": {
    "execution": {
     "iopub.execute_input": "2024-04-12T14:58:27.242986Z",
     "iopub.status.busy": "2024-04-12T14:58:27.242721Z",
     "iopub.status.idle": "2024-04-12T14:58:27.245068Z",
     "shell.execute_reply": "2024-04-12T14:58:27.244591Z"
    }
   },
   "outputs": [],
   "source": [
    "sys.path.append('another_subfolder/scripts')"
   ]
  },
  {
   "cell_type": "markdown",
   "metadata": {},
   "source": [
    "Code can be imported by calling the containing module"
   ]
  },
  {
   "cell_type": "code",
   "execution_count": 47,
   "metadata": {
    "execution": {
     "iopub.execute_input": "2024-04-12T14:58:27.246864Z",
     "iopub.status.busy": "2024-04-12T14:58:27.246464Z",
     "iopub.status.idle": "2024-04-12T14:58:27.250329Z",
     "shell.execute_reply": "2024-04-12T14:58:27.249878Z"
    }
   },
   "outputs": [
    {
     "data": {
      "text/plain": [
       "{'this is': 'a dictionary'}"
      ]
     },
     "execution_count": 47,
     "metadata": {},
     "output_type": "execute_result"
    }
   ],
   "source": [
    "from mycode import stuff\n",
    "\n",
    "stuff"
   ]
  },
  {
   "cell_type": "markdown",
   "metadata": {},
   "source": [
    "**Note**: Generally, importing code using ``sys.path`` is considered bad practice, because \n",
    "\n",
    "* it can hide dependencies.    \n",
    "\n",
    "    * from the information above, we don't know whether ``mycode`` is a package that is installed, a module in the current folder, or anywhere else for that matter.\n",
    "    * Similarly, we know that any modules from ``'another_subfolder/scripts'`` can be imported, but we don't know which modules in that folder are needed without some additional checking.\n",
    "\n",
    "* importing code using ``sys.path`` is also sensitive to the location of the script relative to the path. If the script is moved or used on someone else's computer with a different file structure, it'll break.\n",
    "\n",
    "In general, [installing reusable code in a package is the best way to go](https://nsls-ii.github.io/scientific-python-cookiecutter/). Packages provide a framework for organizing, documenting, testing and sharing code in a way that is easily understood by others.\n",
    "\n",
    "Whatever you do, avoid importing with an `*` (i.e. ``from mycode import *``) at all costs. This imports everything from the namespace of a module, which can lead to unintended consequences."
   ]
  },
  {
   "cell_type": "markdown",
   "metadata": {},
   "source": [
    "## ``os`` — Miscellaneous operating system interfaces¶\n",
    "Historically, the ``os.path`` module was the de facto standard for file and path manipulation. Since python 3.4 however, ``pathlib`` is generally cleaner and easier to use for most of these operations. But there are some exceptions.\n",
    "\n",
    "### Changing the current working directory\n",
    "``pathlib`` doesn't do this.   \n",
    "Note: this can obviously lead to trouble in scripts, so should usually be avoided, but sometimes it is necessary."
   ]
  },
  {
   "cell_type": "code",
   "execution_count": 48,
   "metadata": {
    "execution": {
     "iopub.execute_input": "2024-04-12T14:58:27.252048Z",
     "iopub.status.busy": "2024-04-12T14:58:27.251767Z",
     "iopub.status.idle": "2024-04-12T14:58:27.254926Z",
     "shell.execute_reply": "2024-04-12T14:58:27.254482Z"
    }
   },
   "outputs": [
    {
     "name": "stdout",
     "output_type": "stream",
     "text": [
      "Now in:  /home/runner/work/python-for-hydrology/python-for-hydrology/docs/source/notebooks\n",
      "Switched back to:  /home/runner/work/python-for-hydrology/python-for-hydrology/docs/source/notebooks/part0_python_intro\n"
     ]
    }
   ],
   "source": [
    "# Example of changing the working directory\n",
    "old_wd = os.getcwd()\n",
    "\n",
    "# Go up one directory\n",
    "os.chdir('..')\n",
    "cwd = os.getcwd()\n",
    "print ('Now in: ', cwd)\n",
    "\n",
    "# Change back to original\n",
    "os.chdir(old_wd)\n",
    "cwd = os.getcwd()\n",
    "print('Switched back to: ', cwd)"
   ]
  },
  {
   "cell_type": "markdown",
   "metadata": {},
   "source": [
    "### os.walk\n",
    "\n",
    "os.walk() is a great way to recursively generate all the file names and folders in a directory.  The following shows how it can be used to identify large directories."
   ]
  },
  {
   "cell_type": "code",
   "execution_count": 49,
   "metadata": {
    "execution": {
     "iopub.execute_input": "2024-04-12T14:58:27.256581Z",
     "iopub.status.busy": "2024-04-12T14:58:27.256429Z",
     "iopub.status.idle": "2024-04-12T14:58:27.263865Z",
     "shell.execute_reply": "2024-04-12T14:58:27.263500Z"
    }
   },
   "outputs": [
    {
     "data": {
      "text/plain": [
       "[('..', ['part0_python_intro', 'part1_flopy'], []),\n",
       " ('../part0_python_intro',\n",
       "  ['data', 'solutions', 'another_subfolder'],\n",
       "  ['11_xarray_mt_rainier_precip.ipynb',\n",
       "   '09_a_Geopandas.ipynb',\n",
       "   '05_numpy.ipynb',\n",
       "   '03_useful-std-library-modules.ipynb',\n",
       "   '07b_VSCode.md',\n",
       "   '06b_matplotlib_animation.ipynb',\n",
       "   '10_Rasterio.ipynb',\n",
       "   '09_b_Geopandas_ABQ.ipynb',\n",
       "   '00_python_basics_review.ipynb']),\n",
       " ('../part0_python_intro/data',\n",
       "  ['xarray', 'numpy', 'pandas', 'rasterio', 'fileio', 'geopandas'],\n",
       "  ['netcdf_data.zip', 'theis_charles_vernon.jpg', 'dream.txt']),\n",
       " ('../part0_python_intro/data/xarray',\n",
       "  [],\n",
       "  ['daymet_prcp_rainier_1980-2018.nc',\n",
       "   'aligned-19700901_ned1_2003_adj_4269.tif']),\n",
       " ('../part0_python_intro/data/numpy',\n",
       "  [],\n",
       "  ['ahf.csv',\n",
       "   'bottom.txt',\n",
       "   'bottom_commented.dat',\n",
       "   'mt_st_helens_after.dat',\n",
       "   'mt_st_helens_before.dat',\n",
       "   'bottom.dat']),\n",
       " ('../part0_python_intro/data/pandas',\n",
       "  [],\n",
       "  ['panda.jpg',\n",
       "   'stock_russian.jpg',\n",
       "   'RR_gage_data.csv',\n",
       "   'site_info.csv',\n",
       "   'santa_rosa_CIMIS_83.csv',\n",
       "   'RussianRiverGWsites.csv']),\n",
       " ('../part0_python_intro/data/rasterio',\n",
       "  [],\n",
       "  ['19700901_ned1_2003_adj_warp.tif',\n",
       "   '20150818_rainier_summer-tile-30.tif',\n",
       "   'rgi60_glacierpoly_rainier.prj',\n",
       "   'rgi60_glacierpoly_rainier.shx',\n",
       "   '20080901_rainierlidar_30m-adj.tif',\n",
       "   'rgi60_glacierpoly_rainier.dbf',\n",
       "   'rgi60_glacierpoly_rainier.shp']),\n",
       " ('../part0_python_intro/data/fileio',\n",
       "  [],\n",
       "  ['FileWithComments.txt', 'friends.txt']),\n",
       " ('../part0_python_intro/data/geopandas',\n",
       "  ['abq'],\n",
       "  ['Madison_Tree_Species_Lookup.xlsx',\n",
       "   'Madison_Parks.geojson',\n",
       "   'Street_Trees.geojson',\n",
       "   'Neighborhood_Associations.geojson']),\n",
       " ('../part0_python_intro/data/geopandas/abq',\n",
       "  [],\n",
       "  ['abq_films.geojson', 'zoneatlaspagegrid.kmz']),\n",
       " ('../part0_python_intro/solutions',\n",
       "  [],\n",
       "  ['09_Geopandas__solutions.ipynb',\n",
       "   '04_files_and_strings.ipynb',\n",
       "   '02_Namespace_objects_modules_packages__solution.ipynb',\n",
       "   '08_pandas.ipynb',\n",
       "   '07a_Theis-exercise-solution.ipynb',\n",
       "   '01_functions_script__solution.ipynb',\n",
       "   '03_useful-std-library-modules-solutions.ipynb',\n",
       "   '06_matplotlib__solution.ipynb',\n",
       "   '05_numpy__solutions.ipynb']),\n",
       " ('../part0_python_intro/another_subfolder', ['scripts'], []),\n",
       " ('../part0_python_intro/another_subfolder/scripts',\n",
       "  ['__pycache__'],\n",
       "  ['mycode.py']),\n",
       " ('../part0_python_intro/another_subfolder/scripts/__pycache__',\n",
       "  [],\n",
       "  ['mycode.cpython-311.pyc']),\n",
       " ('../part1_flopy',\n",
       "  ['data_project', 'data', 'solutions'],\n",
       "  ['05-unstructured-grids.ipynb',\n",
       "   '08_Modflow-setup-demo.ipynb',\n",
       "   '09-gwt-voronoi-demo.ipynb',\n",
       "   '01-Flopy-intro.ipynb',\n",
       "   '10_modpath_particle_tracking-demo.ipynb',\n",
       "   'basin.py']),\n",
       " ('../part1_flopy/data_project',\n",
       "  [],\n",
       "  ['Flowline_river.prj',\n",
       "   'aquifer_top.asc',\n",
       "   'pumping_well_locations.dbf',\n",
       "   'active_area.shx',\n",
       "   'aquifer_k.asc',\n",
       "   'active_area.shp',\n",
       "   'pumping_well_locations.shp',\n",
       "   'inactive_area.shp',\n",
       "   'Flowline_river.shx',\n",
       "   'Flowline_river.shp',\n",
       "   'aquifer_bottom.asc',\n",
       "   'active_area.dbf',\n",
       "   'inactive_area.shx',\n",
       "   'inactive_area.dbf',\n",
       "   'pumping_well_locations.shx',\n",
       "   'Flowline_river.dbf']),\n",
       " ('../part1_flopy/data',\n",
       "  ['voronoi',\n",
       "   'pleasant-lake',\n",
       "   'modelgrid_intersection',\n",
       "   'depletion_results',\n",
       "   'quadtree'],\n",
       "  ['pleasant_lgr_inset.yml', 'pleasant_lgr_parent.yml', 'flopylogo_sm.png']),\n",
       " ('../part1_flopy/data/voronoi',\n",
       "  ['grid'],\n",
       "  ['project.cbc',\n",
       "   'project.tdis',\n",
       "   'project.disv.grb',\n",
       "   'project.ic',\n",
       "   'sfr_obs.csv',\n",
       "   'project.wel',\n",
       "   'project.sfr.obs',\n",
       "   'mfsim.nam',\n",
       "   'project.ims',\n",
       "   'mfsim.lst',\n",
       "   'project.oc',\n",
       "   'project.disv',\n",
       "   'project.npf',\n",
       "   'project.hds',\n",
       "   'project.chd',\n",
       "   'project.lst',\n",
       "   'project.rcha',\n",
       "   'project.nam',\n",
       "   'project.sfr']),\n",
       " ('../part1_flopy/data/voronoi/grid',\n",
       "  [],\n",
       "  ['_triangle.1.ele',\n",
       "   '_triangle.0.node',\n",
       "   '_triangle.1.node',\n",
       "   '_triangle.0.poly',\n",
       "   '_triangle.1.edge',\n",
       "   '_triangle.1.poly',\n",
       "   '_triangle.1.neigh']),\n",
       " ('../part1_flopy/data/pleasant-lake',\n",
       "  ['external', 'source_data'],\n",
       "  ['pleasant.npf',\n",
       "   'mfsim.nam',\n",
       "   'pleasant.chd.obs',\n",
       "   'pleasant.sto',\n",
       "   'pleasant.hds',\n",
       "   'pleasant.dis',\n",
       "   'pleasant.lak',\n",
       "   'pleasant.obs',\n",
       "   'pleasant.chd',\n",
       "   'pleasant.wel',\n",
       "   'pleasant.tdis',\n",
       "   'pleasant.lak.obs',\n",
       "   'pleasant.sfr',\n",
       "   'pleasant.rcha',\n",
       "   'pleasant.ims',\n",
       "   'pleasant.oc',\n",
       "   'pleasant.nam',\n",
       "   'pleasant.ic',\n",
       "   'pleasant.sfr.obs']),\n",
       " ('../part1_flopy/data/pleasant-lake/external',\n",
       "  [],\n",
       "  ['k_000.dat',\n",
       "   'ss_002.dat',\n",
       "   'rch_003.dat',\n",
       "   'top.dat',\n",
       "   'rch_001.dat',\n",
       "   'sy_003.dat',\n",
       "   'wel_004.dat',\n",
       "   'strt_000.dat',\n",
       "   'chd_005.dat',\n",
       "   'chd_000.dat',\n",
       "   'idomain_003.dat',\n",
       "   'rch_008.dat',\n",
       "   'chd_002.dat',\n",
       "   'sy_000.dat',\n",
       "   'wel_001.dat',\n",
       "   'strt_001.dat',\n",
       "   'wel_006.dat',\n",
       "   'chd_006.dat',\n",
       "   'chd_009.dat',\n",
       "   'pleasant_packagedata.dat',\n",
       "   'k_003.dat',\n",
       "   'ss_001.dat',\n",
       "   'rch_006.dat',\n",
       "   'rch_009.dat',\n",
       "   'wel_008.dat',\n",
       "   'chd_004.dat',\n",
       "   'botm_001.dat',\n",
       "   'chd_008.dat',\n",
       "   'idomain_001.dat',\n",
       "   'sy_001.dat',\n",
       "   'rch_004.dat',\n",
       "   'pleasant_top.dat.original',\n",
       "   'wel_005.dat',\n",
       "   'idomain_000.dat',\n",
       "   'chd_010.dat',\n",
       "   'rch_002.dat',\n",
       "   '600059060_stage_area_volume.dat',\n",
       "   'k_002.dat',\n",
       "   'irch.dat',\n",
       "   'rch_005.dat',\n",
       "   'k33_002.dat',\n",
       "   'strt_002.dat',\n",
       "   'botm_003.dat',\n",
       "   'wel_007.dat',\n",
       "   'botm_002.dat',\n",
       "   'k33_001.dat',\n",
       "   'wel_010.dat',\n",
       "   'wel_009.dat',\n",
       "   'k_001.dat',\n",
       "   'k33_003.dat',\n",
       "   'chd_012.dat',\n",
       "   'sy_002.dat',\n",
       "   'chd_007.dat',\n",
       "   'ss_003.dat',\n",
       "   'chd_011.dat',\n",
       "   'rch_012.dat',\n",
       "   'rch_007.dat',\n",
       "   'chd_001.dat',\n",
       "   'botm_000.dat',\n",
       "   'wel_000.dat',\n",
       "   'rch_011.dat',\n",
       "   'chd_003.dat',\n",
       "   'rch_010.dat',\n",
       "   'rch_000.dat',\n",
       "   'strt_003.dat',\n",
       "   'idomain_002.dat',\n",
       "   'k33_000.dat',\n",
       "   'ss_000.dat']),\n",
       " ('../part1_flopy/data/pleasant-lake/source_data',\n",
       "  ['shps', 'tables', 'rasters'],\n",
       "  ['PRISM_ppt_tmean_stable_4km_189501_201901_43.9850_-89.5522.csv']),\n",
       " ('../part1_flopy/data/pleasant-lake/source_data/shps',\n",
       "  ['NHDSnapshot', 'NHDPlusAttributes'],\n",
       "  ['all_lakes.cpg',\n",
       "   'all_lakes.dbf',\n",
       "   'all_lakes.shp',\n",
       "   'all_lakes.shx',\n",
       "   'all_lakes.prj']),\n",
       " ('../part1_flopy/data/pleasant-lake/source_data/shps/NHDSnapshot',\n",
       "  ['Hydrography'],\n",
       "  []),\n",
       " ('../part1_flopy/data/pleasant-lake/source_data/shps/NHDSnapshot/Hydrography',\n",
       "  [],\n",
       "  ['NHDFlowline.prj',\n",
       "   'NHDFlowline.dbf',\n",
       "   'NHDFlowline.cpg',\n",
       "   'NHDFlowline.shp',\n",
       "   'NHDFlowline.shx']),\n",
       " ('../part1_flopy/data/pleasant-lake/source_data/shps/NHDPlusAttributes',\n",
       "  [],\n",
       "  ['PlusFlowlineVAA.dbf',\n",
       "   'elevslope.dbf',\n",
       "   'PlusFlow.cpg',\n",
       "   'elevslope.cpg',\n",
       "   'PlusFlow.dbf',\n",
       "   'PlusFlowlineVAA.cpg']),\n",
       " ('../part1_flopy/data/pleasant-lake/source_data/tables',\n",
       "  [],\n",
       "  ['wdnr_gw_sites.csv',\n",
       "   'lake_sites.csv',\n",
       "   'area_stage_vol_Pleasant.csv',\n",
       "   'uwsp_heads.csv',\n",
       "   'wgnhs_head_targets.csv',\n",
       "   'gages.csv',\n",
       "   'nwis_heads_info_file.csv']),\n",
       " ('../part1_flopy/data/pleasant-lake/source_data/rasters',\n",
       "  [],\n",
       "  ['botm0.tif',\n",
       "   'pleasant_bathymetry.tif',\n",
       "   'botm3.tif',\n",
       "   'botm2.tif',\n",
       "   'botm1.tif',\n",
       "   'dem40m.tif']),\n",
       " ('../part1_flopy/data/modelgrid_intersection',\n",
       "  [],\n",
       "  ['sagehen_basin.cpg',\n",
       "   'refined_area.prj',\n",
       "   'prcp.tif',\n",
       "   'sagehen_nhd.dbf',\n",
       "   'refined_area.dbf',\n",
       "   'sagehen_basin.dbf',\n",
       "   'active_area.shx',\n",
       "   'trib_cells.txt',\n",
       "   'active_area.shp',\n",
       "   'pet.txt',\n",
       "   'sagehen_main_nhd.shx',\n",
       "   'sagehen_nhd.cpg',\n",
       "   'refined_area.shx',\n",
       "   'sagehen_main_nhd.shp',\n",
       "   'dem_30m.img',\n",
       "   'active_area.prj',\n",
       "   'sagehen_main_nhd.dbf',\n",
       "   'sagehen_gage_data.csv',\n",
       "   'sagehen_main_nhd.cpg',\n",
       "   'ksat.img',\n",
       "   'pet.tif',\n",
       "   'active_area.dbf',\n",
       "   'sagehen_basin.shp',\n",
       "   'sagehen_nhd.shx',\n",
       "   'sagehen_main_nhd.prj',\n",
       "   'sagehen_basin.shx',\n",
       "   'refined_area.shp',\n",
       "   'sagehen_nhd.shp',\n",
       "   'sagehen_nhd.prj',\n",
       "   'sagehen_basin.prj']),\n",
       " ('../part1_flopy/data/depletion_results', [], ['depletion_results.csv']),\n",
       " ('../part1_flopy/data/quadtree',\n",
       "  ['grid'],\n",
       "  ['project.cbc',\n",
       "   'project.tdis',\n",
       "   'project.disv.grb',\n",
       "   'project.ic',\n",
       "   'sfr_obs.csv',\n",
       "   'project.wel',\n",
       "   'project.sfr.obs',\n",
       "   'mfsim.nam',\n",
       "   'project.ims',\n",
       "   'mfsim.lst',\n",
       "   'project.oc',\n",
       "   'project.disv',\n",
       "   'project.npf',\n",
       "   'project.hds',\n",
       "   'project.chd',\n",
       "   'project.lst',\n",
       "   'project.rcha',\n",
       "   'project.nam',\n",
       "   'project.sfr']),\n",
       " ('../part1_flopy/data/quadtree/grid',\n",
       "  [],\n",
       "  ['qtg.vtu',\n",
       "   'qtg.c1.dat',\n",
       "   'quadtreegrid.dfn',\n",
       "   'qtg_sv.vtu',\n",
       "   'qtg.gnc.dat',\n",
       "   'qtg.c2.dat',\n",
       "   'qtgrid.dbf',\n",
       "   'quadtreegrid.bot1.dat',\n",
       "   'qtgrid_pt.dbf',\n",
       "   'qtgrid.shp',\n",
       "   'qtg.iac.dat',\n",
       "   'quadtreegrid.tsf',\n",
       "   'qtg.fldr.dat',\n",
       "   'qtgrid.shx',\n",
       "   'qtgrid_pt.shx',\n",
       "   'qtg.nod',\n",
       "   'qtgrid_pt.shp',\n",
       "   'qtg.ia.dat',\n",
       "   '_gridgen_export.dfn',\n",
       "   'qtg.ja.dat',\n",
       "   'qtg.fahl.dat',\n",
       "   'quadtreegrid.top1.dat',\n",
       "   '_gridgen_build.dfn',\n",
       "   'qtg.area.dat',\n",
       "   'qtg.nodesperlay.dat']),\n",
       " ('../part1_flopy/solutions',\n",
       "  [],\n",
       "  ['06-Project-structured_completed.ipynb',\n",
       "   '02-Building-Post-Processing-MODFLOW6__solutions.ipynb',\n",
       "   '06-Project-quadtree.ipynb',\n",
       "   '04_Modelgrid_and_intersection_solution.ipynb',\n",
       "   '06-Project-voronoi.ipynb',\n",
       "   '03_Loading_and_visualizing_models-solutions.ipynb',\n",
       "   '07-stream_capture_voronoi.ipynb'])]"
      ]
     },
     "execution_count": 49,
     "metadata": {},
     "output_type": "execute_result"
    }
   ],
   "source": [
    "pth = Path('..')\n",
    "results = list(os.walk(pth))\n",
    "results"
   ]
  },
  {
   "cell_type": "markdown",
   "metadata": {},
   "source": [
    "#### Make a more readable list of just the jupyter notebooks\n",
    "Note: the key advantage of ``os.walk`` over ``glob`` is the recursion-- individual subfolder levels don't need to be known or specified a priori."
   ]
  },
  {
   "cell_type": "code",
   "execution_count": 50,
   "metadata": {
    "execution": {
     "iopub.execute_input": "2024-04-12T14:58:27.265617Z",
     "iopub.status.busy": "2024-04-12T14:58:27.265344Z",
     "iopub.status.idle": "2024-04-12T14:58:27.270558Z",
     "shell.execute_reply": "2024-04-12T14:58:27.270168Z"
    }
   },
   "outputs": [
    {
     "name": "stdout",
     "output_type": "stream",
     "text": [
      "../part0_python_intro/11_xarray_mt_rainier_precip.ipynb\n",
      "../part0_python_intro/09_a_Geopandas.ipynb\n",
      "../part0_python_intro/05_numpy.ipynb\n",
      "../part0_python_intro/03_useful-std-library-modules.ipynb\n",
      "../part0_python_intro/06b_matplotlib_animation.ipynb\n",
      "../part0_python_intro/10_Rasterio.ipynb\n",
      "../part0_python_intro/09_b_Geopandas_ABQ.ipynb\n",
      "../part0_python_intro/00_python_basics_review.ipynb\n",
      "../part0_python_intro/solutions/09_Geopandas__solutions.ipynb\n",
      "../part0_python_intro/solutions/04_files_and_strings.ipynb\n",
      "../part0_python_intro/solutions/02_Namespace_objects_modules_packages__solution.ipynb\n",
      "../part0_python_intro/solutions/08_pandas.ipynb\n",
      "../part0_python_intro/solutions/07a_Theis-exercise-solution.ipynb\n",
      "../part0_python_intro/solutions/01_functions_script__solution.ipynb\n",
      "../part0_python_intro/solutions/03_useful-std-library-modules-solutions.ipynb\n",
      "../part0_python_intro/solutions/06_matplotlib__solution.ipynb\n",
      "../part0_python_intro/solutions/05_numpy__solutions.ipynb\n",
      "../part1_flopy/05-unstructured-grids.ipynb\n",
      "../part1_flopy/08_Modflow-setup-demo.ipynb\n",
      "../part1_flopy/09-gwt-voronoi-demo.ipynb\n",
      "../part1_flopy/01-Flopy-intro.ipynb\n",
      "../part1_flopy/10_modpath_particle_tracking-demo.ipynb\n",
      "../part1_flopy/solutions/06-Project-structured_completed.ipynb\n",
      "../part1_flopy/solutions/02-Building-Post-Processing-MODFLOW6__solutions.ipynb\n",
      "../part1_flopy/solutions/06-Project-quadtree.ipynb\n",
      "../part1_flopy/solutions/04_Modelgrid_and_intersection_solution.ipynb\n",
      "../part1_flopy/solutions/06-Project-voronoi.ipynb\n",
      "../part1_flopy/solutions/03_Loading_and_visualizing_models-solutions.ipynb\n",
      "../part1_flopy/solutions/07-stream_capture_voronoi.ipynb\n"
     ]
    }
   ],
   "source": [
    "for root, dirs, files in os.walk(pth):\n",
    "    for f in files:\n",
    "        filepath = Path(root, f)\n",
    "        if filepath.suffix == '.ipynb':\n",
    "            print(filepath)"
   ]
  },
  {
   "cell_type": "markdown",
   "metadata": {},
   "source": [
    "### Accessing environmental variables"
   ]
  },
  {
   "cell_type": "code",
   "execution_count": 51,
   "metadata": {
    "execution": {
     "iopub.execute_input": "2024-04-12T14:58:27.272274Z",
     "iopub.status.busy": "2024-04-12T14:58:27.271999Z",
     "iopub.status.idle": "2024-04-12T14:58:27.276683Z",
     "shell.execute_reply": "2024-04-12T14:58:27.276310Z"
    }
   },
   "outputs": [
    {
     "data": {
      "text/plain": [
       "environ{'GITHUB_STATE': '/home/runner/work/_temp/_runner_file_commands/save_state_5df10ce6-7185-4e13-b285-358e3aa3fb1b',\n",
       "        'CONDA_PROMPT_MODIFIER': '(pyclass-docs) ',\n",
       "        'STATS_TRP': 'true',\n",
       "        'DOTNET_NOLOGO': '1',\n",
       "        'DEPLOYMENT_BASEPATH': '/opt/runner',\n",
       "        'USER': 'runner',\n",
       "        'CI': 'true',\n",
       "        'GITHUB_ENV': '/home/runner/work/_temp/_runner_file_commands/set_env_5df10ce6-7185-4e13-b285-358e3aa3fb1b',\n",
       "        'PIPX_HOME': '/opt/pipx',\n",
       "        'RUNNER_ENVIRONMENT': 'github-hosted',\n",
       "        'JAVA_HOME_8_X64': '/usr/lib/jvm/temurin-8-jdk-amd64',\n",
       "        'SHLVL': '1',\n",
       "        'CONDA_SHLVL': '1',\n",
       "        'HOME': '/home/runner',\n",
       "        'RUNNER_TEMP': '/home/runner/work/_temp',\n",
       "        'GITHUB_EVENT_PATH': '/home/runner/work/_temp/_github_workflow/event.json',\n",
       "        'GITHUB_REPOSITORY_OWNER': 'DOI-USGS',\n",
       "        'JAVA_HOME_11_X64': '/usr/lib/jvm/temurin-11-jdk-amd64',\n",
       "        'PIPX_BIN_DIR': '/opt/pipx_bin',\n",
       "        'STATS_RDCL': 'true',\n",
       "        'ANDROID_NDK_LATEST_HOME': '/usr/local/lib/android/sdk/ndk/26.2.11394342',\n",
       "        'GRADLE_HOME': '/usr/share/gradle-8.7',\n",
       "        'GITHUB_RETENTION_DAYS': '80',\n",
       "        'JAVA_HOME_21_X64': '/usr/lib/jvm/temurin-21-jdk-amd64',\n",
       "        'POWERSHELL_DISTRIBUTION_CHANNEL': 'GitHub-Actions-ubuntu22',\n",
       "        'CPL_ZIP_ENCODING': 'UTF-8',\n",
       "        'GITHUB_HEAD_REF': '',\n",
       "        'GITHUB_REPOSITORY_OWNER_ID': '65027635',\n",
       "        'AZURE_EXTENSION_DIR': '/opt/az/azcliextensions',\n",
       "        'MAKEFLAGS': 'w',\n",
       "        'SYSTEMD_EXEC_PID': '589',\n",
       "        'GITHUB_GRAPHQL_URL': 'https://api.github.com/graphql',\n",
       "        'NVM_DIR': '/home/runner/.nvm',\n",
       "        'GOROOT_1_20_X64': '/opt/hostedtoolcache/go/1.20.14/x64',\n",
       "        'DOTNET_SKIP_FIRST_TIME_EXPERIENCE': '1',\n",
       "        'JAVA_HOME_17_X64': '/usr/lib/jvm/temurin-17-jdk-amd64',\n",
       "        'GOROOT_1_21_X64': '/opt/hostedtoolcache/go/1.21.9/x64',\n",
       "        'ImageVersion': '20240407.1.0',\n",
       "        'RUNNER_OS': 'Linux',\n",
       "        'GITHUB_API_URL': 'https://api.github.com',\n",
       "        'SWIFT_PATH': '/usr/share/swift/usr/bin',\n",
       "        'GOROOT_1_22_X64': '/opt/hostedtoolcache/go/1.22.2/x64',\n",
       "        'RUNNER_USER': 'runner',\n",
       "        'CHROMEWEBDRIVER': '/usr/local/share/chromedriver-linux64',\n",
       "        '_': '/usr/bin/make',\n",
       "        'JOURNAL_STREAM': '8:17042',\n",
       "        'GITHUB_WORKFLOW': 'Publish Docs',\n",
       "        'STATS_V3PS': 'true',\n",
       "        'CONDARC': '/home/runner/work/_temp/setup-micromamba/.condarc',\n",
       "        'STATS_D': 'false',\n",
       "        'GITHUB_RUN_ID': '8664017261',\n",
       "        'ACTIONS_RUNNER_ACTION_ARCHIVE_CACHE': '/opt/actionarchivecache',\n",
       "        'STATS_VMFE': 'true',\n",
       "        'GITHUB_WORKFLOW_SHA': '428f0a4c587c4ce92405235ec464f3bfc03c3a42',\n",
       "        'MODFLOW_BIN_PATH': '/home/runner/.local/bin',\n",
       "        'BOOTSTRAP_HASKELL_NONINTERACTIVE': '1',\n",
       "        'GITHUB_REF_TYPE': 'branch',\n",
       "        'ImageOS': 'ubuntu22',\n",
       "        'GITHUB_BASE_REF': '',\n",
       "        'GITHUB_ACTION_REPOSITORY': '',\n",
       "        'PERFLOG_LOCATION_SETTING': 'RUNNER_PERFLOG',\n",
       "        'GITHUB_WORKFLOW_REF': 'DOI-USGS/python-for-hydrology/.github/workflows/build_docs.yaml@refs/heads/main',\n",
       "        'PATH': '/home/runner/micromamba/envs/pyclass-docs/bin:/home/runner/micromamba/condabin:/home/runner/.local/bin:/home/runner/work/_temp/setup-micromamba:/home/runner/micromamba-bin:/snap/bin:/home/runner/.local/bin:/opt/pipx_bin:/home/runner/.cargo/bin:/home/runner/.config/composer/vendor/bin:/usr/local/.ghcup/bin:/home/runner/.dotnet/tools:/usr/local/sbin:/usr/local/bin:/usr/sbin:/usr/bin:/sbin:/bin:/usr/games:/usr/local/games:/snap/bin:/home/runner/.dotnet/tools',\n",
       "        'RUNNER_TRACKING_ID': 'github_26961ae3-35af-4511-9fb6-0e2238a8a72b',\n",
       "        'DOTNET_MULTILEVEL_LOOKUP': '0',\n",
       "        'INVOCATION_ID': '0adb28f9a3d048209eefc1997113f925',\n",
       "        'PROJ_NETWORK': 'ON',\n",
       "        'RUNNER_TOOL_CACHE': '/opt/hostedtoolcache',\n",
       "        'ANT_HOME': '/usr/share/ant',\n",
       "        'GITHUB_TRIGGERING_ACTOR': 'mnfienen',\n",
       "        'GITHUB_RUN_NUMBER': '31',\n",
       "        'RUNNER_ARCH': 'X64',\n",
       "        'XDG_RUNTIME_DIR': '/run/user/1001',\n",
       "        'AGENT_TOOLSDIRECTORY': '/opt/hostedtoolcache',\n",
       "        'GITHUB_ACTION': '__run_7',\n",
       "        'PROJ_DATA': '/home/runner/micromamba/envs/pyclass-docs/share/proj',\n",
       "        'MAKELEVEL': '1',\n",
       "        'MAMBA_ROOT_PREFIX': '/home/runner/micromamba',\n",
       "        'LANG': 'C.UTF-8',\n",
       "        'VCPKG_INSTALLATION_ROOT': '/usr/local/share/vcpkg',\n",
       "        'RUNNER_NAME': 'GitHub Actions 133',\n",
       "        'GITHUB_REF_NAME': 'main',\n",
       "        'STATS_D_D': 'false',\n",
       "        'XDG_CONFIG_HOME': '/home/runner/.config',\n",
       "        'CONDA': '/usr/share/miniconda',\n",
       "        'STATS_VMD': 'true',\n",
       "        'GITHUB_REPOSITORY': 'DOI-USGS/python-for-hydrology',\n",
       "        'XML_CATALOG_FILES': 'file:///home/runner/micromamba/envs/pyclass-docs/etc/xml/catalog file:///etc/xml/catalog',\n",
       "        'STATS_UE': 'true',\n",
       "        'GITHUB_ACTION_REF': '',\n",
       "        'ANDROID_NDK_ROOT': '/usr/local/lib/android/sdk/ndk/25.2.9519653',\n",
       "        'DEBIAN_FRONTEND': 'noninteractive',\n",
       "        'GSETTINGS_SCHEMA_DIR': '/home/runner/micromamba/envs/pyclass-docs/share/glib-2.0/schemas',\n",
       "        'GITHUB_REPOSITORY_ID': '537542085',\n",
       "        'GITHUB_ACTIONS': 'true',\n",
       "        'GDAL_DRIVER_PATH': '/home/runner/micromamba/envs/pyclass-docs/lib/gdalplugins',\n",
       "        'GITHUB_REF_PROTECTED': 'false',\n",
       "        'ACCEPT_EULA': 'Y',\n",
       "        'RUNNER_PERFLOG': '/home/runner/perflog',\n",
       "        'GITHUB_JOB': 'docs',\n",
       "        'CONDA_DEFAULT_ENV': 'pyclass-docs',\n",
       "        'GITHUB_WORKSPACE': '/home/runner/work/python-for-hydrology/python-for-hydrology',\n",
       "        'GITHUB_SHA': '428f0a4c587c4ce92405235ec464f3bfc03c3a42',\n",
       "        'GITHUB_RUN_ATTEMPT': '1',\n",
       "        'GITHUB_REF': 'refs/heads/main',\n",
       "        'ANDROID_SDK_ROOT': '/usr/local/lib/android/sdk',\n",
       "        'MAMBA_EXE': '/home/runner/micromamba-bin/micromamba',\n",
       "        'GITHUB_ACTOR': 'mnfienen',\n",
       "        'LEIN_HOME': '/usr/local/lib/lein',\n",
       "        'JAVA_HOME': '/usr/lib/jvm/temurin-11-jdk-amd64',\n",
       "        'PWD': '/home/runner/work/python-for-hydrology/python-for-hydrology/docs',\n",
       "        'RUNNER_WORKSPACE': '/home/runner/work/python-for-hydrology',\n",
       "        'GITHUB_ACTOR_ID': '1110827',\n",
       "        'GITHUB_PATH': '/home/runner/work/_temp/_runner_file_commands/add_path_5df10ce6-7185-4e13-b285-358e3aa3fb1b',\n",
       "        'GHCUP_INSTALL_BASE_PREFIX': '/usr/local',\n",
       "        'GITHUB_EVENT_NAME': 'push',\n",
       "        'XDG_DATA_DIRS': '/usr/local/share:/usr/share:/var/lib/snapd/desktop',\n",
       "        'GITHUB_SERVER_URL': 'https://github.com',\n",
       "        'STATS_TIS': 'mining',\n",
       "        'ANDROID_HOME': '/usr/local/lib/android/sdk',\n",
       "        'LEIN_JAR': '/usr/local/lib/lein/self-installs/leiningen-2.11.2-standalone.jar',\n",
       "        'GECKOWEBDRIVER': '/usr/local/share/gecko_driver',\n",
       "        'NVM_CD_FLAGS': '',\n",
       "        'HOMEBREW_CLEANUP_PERIODIC_FULL_DAYS': '3650',\n",
       "        'GITHUB_OUTPUT': '/home/runner/work/_temp/_runner_file_commands/set_output_5df10ce6-7185-4e13-b285-358e3aa3fb1b',\n",
       "        'HOMEBREW_NO_AUTO_UPDATE': '1',\n",
       "        'EDGEWEBDRIVER': '/usr/local/share/edge_driver',\n",
       "        'STATS_EXT': 'true',\n",
       "        'SGX_AESM_ADDR': '1',\n",
       "        'CHROME_BIN': '/usr/bin/google-chrome',\n",
       "        'MFLAGS': '-w',\n",
       "        'CONDA_PREFIX': '/home/runner/micromamba/envs/pyclass-docs',\n",
       "        'ANDROID_NDK': '/usr/local/lib/android/sdk/ndk/25.2.9519653',\n",
       "        'GSETTINGS_SCHEMA_DIR_CONDA_BACKUP': '',\n",
       "        'SELENIUM_JAR_PATH': '/usr/share/java/selenium-server.jar',\n",
       "        'STATS_EXTP': 'https://provjobdsettingscdn.blob.core.windows.net/settings/provjobdsettings-0.5.172+1/provjobd.data',\n",
       "        'ANDROID_NDK_HOME': '/usr/local/lib/android/sdk/ndk/25.2.9519653',\n",
       "        'GDAL_DATA': '/home/runner/micromamba/envs/pyclass-docs/share/gdal',\n",
       "        'GITHUB_STEP_SUMMARY': '/home/runner/work/_temp/_runner_file_commands/step_summary_5df10ce6-7185-4e13-b285-358e3aa3fb1b',\n",
       "        'DOCUTILSCONFIG': '/home/runner/work/python-for-hydrology/python-for-hydrology/docs/source/docutils.conf',\n",
       "        'JPY_PARENT_PID': '4205',\n",
       "        'PYDEVD_USE_FRAME_EVAL': 'NO',\n",
       "        'TERM': 'xterm-color',\n",
       "        'CLICOLOR': '1',\n",
       "        'FORCE_COLOR': '1',\n",
       "        'CLICOLOR_FORCE': '1',\n",
       "        'PAGER': 'cat',\n",
       "        'GIT_PAGER': 'cat',\n",
       "        'MPLBACKEND': 'module://matplotlib_inline.backend_inline'}"
      ]
     },
     "execution_count": 51,
     "metadata": {},
     "output_type": "execute_result"
    }
   ],
   "source": [
    "os.environ"
   ]
  },
  {
   "cell_type": "markdown",
   "metadata": {},
   "source": [
    "#### Example: get the location of the current python (Conda) environment"
   ]
  },
  {
   "cell_type": "code",
   "execution_count": 52,
   "metadata": {
    "execution": {
     "iopub.execute_input": "2024-04-12T14:58:27.278402Z",
     "iopub.status.busy": "2024-04-12T14:58:27.278248Z",
     "iopub.status.idle": "2024-04-12T14:58:27.281431Z",
     "shell.execute_reply": "2024-04-12T14:58:27.281035Z"
    }
   },
   "outputs": [
    {
     "data": {
      "text/plain": [
       "'/home/runner/micromamba/envs/pyclass-docs'"
      ]
     },
     "execution_count": 52,
     "metadata": {},
     "output_type": "execute_result"
    }
   ],
   "source": [
    "os.environ['CONDA_PREFIX']"
   ]
  },
  {
   "cell_type": "markdown",
   "metadata": {},
   "source": [
    "## ``subprocess`` — Subprocess management\n",
    "\n",
    "The subprocess module offers a way to execute system commands, for example MODFLOW, or any operating system command that you can type at the command line.\n",
    "\n",
    "The recommended approach to invoking subprocesses is to use the ``run()`` function for all use cases it can handle. For more advanced use cases, the underlying ``Popen`` interface can be used directly.\n",
    "\n",
    "Take a look at the following help descriptions for ``run``.\n",
    "\n",
    "Note, that on Windows, you may have to specify \"shell=True\" in order to access system commands."
   ]
  },
  {
   "cell_type": "code",
   "execution_count": 53,
   "metadata": {
    "execution": {
     "iopub.execute_input": "2024-04-12T14:58:27.283192Z",
     "iopub.status.busy": "2024-04-12T14:58:27.282891Z",
     "iopub.status.idle": "2024-04-12T14:58:27.285786Z",
     "shell.execute_reply": "2024-04-12T14:58:27.285384Z"
    }
   },
   "outputs": [
    {
     "name": "stdout",
     "output_type": "stream",
     "text": [
      "Help on function run in module subprocess:\n",
      "\n",
      "run(*popenargs, input=None, capture_output=False, timeout=None, check=False, **kwargs)\n",
      "    Run command with arguments and return a CompletedProcess instance.\n",
      "    \n",
      "    The returned instance will have attributes args, returncode, stdout and\n",
      "    stderr. By default, stdout and stderr are not captured, and those attributes\n",
      "    will be None. Pass stdout=PIPE and/or stderr=PIPE in order to capture them,\n",
      "    or pass capture_output=True to capture both.\n",
      "    \n",
      "    If check is True and the exit code was non-zero, it raises a\n",
      "    CalledProcessError. The CalledProcessError object will have the return code\n",
      "    in the returncode attribute, and output & stderr attributes if those streams\n",
      "    were captured.\n",
      "    \n",
      "    If timeout is given, and the process takes too long, a TimeoutExpired\n",
      "    exception will be raised.\n",
      "    \n",
      "    There is an optional argument \"input\", allowing you to\n",
      "    pass bytes or a string to the subprocess's stdin.  If you use this argument\n",
      "    you may not also use the Popen constructor's \"stdin\" argument, as\n",
      "    it will be used internally.\n",
      "    \n",
      "    By default, all communication is in bytes, and therefore any \"input\" should\n",
      "    be bytes, and the stdout and stderr will be bytes. If in text mode, any\n",
      "    \"input\" should be a string, and stdout and stderr will be strings decoded\n",
      "    according to locale encoding, or by \"encoding\" if set. Text mode is\n",
      "    triggered by setting any of text, encoding, errors or universal_newlines.\n",
      "    \n",
      "    The other arguments are the same as for the Popen constructor.\n",
      "\n"
     ]
    }
   ],
   "source": [
    "help(subprocess.run)"
   ]
  },
  {
   "cell_type": "code",
   "execution_count": 54,
   "metadata": {
    "execution": {
     "iopub.execute_input": "2024-04-12T14:58:27.287615Z",
     "iopub.status.busy": "2024-04-12T14:58:27.287309Z",
     "iopub.status.idle": "2024-04-12T14:58:27.293060Z",
     "shell.execute_reply": "2024-04-12T14:58:27.292614Z"
    }
   },
   "outputs": [
    {
     "name": "stdout",
     "output_type": "stream",
     "text": [
      "00_python_basics_review.ipynb\n",
      "03_useful-std-library-modules.ipynb\n",
      "05_numpy.ipynb\n",
      "06b_matplotlib_animation.ipynb\n",
      "07b_VSCode.md\n",
      "09_a_Geopandas.ipynb\n",
      "09_b_Geopandas_ABQ.ipynb\n",
      "10_Rasterio.ipynb\n",
      "11_xarray_mt_rainier_precip.ipynb\n",
      "another_subfolder\n",
      "data\n",
      "solutions\n",
      "CompletedProcess(args=['ls', '-l'], returncode=0)\n"
     ]
    }
   ],
   "source": [
    "# if on mac/unix\n",
    "print(subprocess.run(['ls', '-l'], shell=True))"
   ]
  },
  {
   "cell_type": "markdown",
   "metadata": {},
   "source": [
    "With the `cwd` argument, we can control the working directory for the command. Here we list the files in the parent directory."
   ]
  },
  {
   "cell_type": "code",
   "execution_count": 55,
   "metadata": {
    "execution": {
     "iopub.execute_input": "2024-04-12T14:58:27.294699Z",
     "iopub.status.busy": "2024-04-12T14:58:27.294548Z",
     "iopub.status.idle": "2024-04-12T14:58:27.299687Z",
     "shell.execute_reply": "2024-04-12T14:58:27.299304Z"
    }
   },
   "outputs": [
    {
     "name": "stdout",
     "output_type": "stream",
     "text": [
      "part0_python_intro\n",
      "part1_flopy\n",
      "CompletedProcess(args=['ls', '-l'], returncode=0)\n"
     ]
    }
   ],
   "source": [
    "print(subprocess.run(['ls', '-l'], shell=True, cwd='..'))"
   ]
  },
  {
   "cell_type": "code",
   "execution_count": 56,
   "metadata": {
    "execution": {
     "iopub.execute_input": "2024-04-12T14:58:27.301368Z",
     "iopub.status.busy": "2024-04-12T14:58:27.301218Z",
     "iopub.status.idle": "2024-04-12T14:58:27.306875Z",
     "shell.execute_reply": "2024-04-12T14:58:27.306426Z"
    }
   },
   "outputs": [
    {
     "name": "stdout",
     "output_type": "stream",
     "text": [
      "00_python_basics_review.ipynb\t     09_b_Geopandas_ABQ.ipynb\n",
      "03_useful-std-library-modules.ipynb  10_Rasterio.ipynb\n",
      "05_numpy.ipynb\t\t\t     11_xarray_mt_rainier_precip.ipynb\n",
      "06b_matplotlib_animation.ipynb\t     another_subfolder\n",
      "07b_VSCode.md\t\t\t     data\n",
      "09_a_Geopandas.ipynb\t\t     solutions\n",
      "CompletedProcess(args=['dir'], returncode=0)\n"
     ]
    }
   ],
   "source": [
    "# if on windows\n",
    "print(subprocess.run(['dir'], shell=True))"
   ]
  },
  {
   "cell_type": "markdown",
   "metadata": {},
   "source": [
    "## ``zipfile`` — Work with ZIP archives\n",
    "\n",
    "#### zip up one of the files in data/"
   ]
  },
  {
   "cell_type": "code",
   "execution_count": 57,
   "metadata": {
    "execution": {
     "iopub.execute_input": "2024-04-12T14:58:27.308583Z",
     "iopub.status.busy": "2024-04-12T14:58:27.308320Z",
     "iopub.status.idle": "2024-04-12T14:58:27.320035Z",
     "shell.execute_reply": "2024-04-12T14:58:27.319591Z"
    }
   },
   "outputs": [],
   "source": [
    "with zipfile.ZipFile('junk.zip', 'w') as dest:\n",
    "    dest.write('data/xarray/daymet_prcp_rainier_1980-2018.nc')"
   ]
  },
  {
   "cell_type": "markdown",
   "metadata": {},
   "source": [
    "#### now extract it"
   ]
  },
  {
   "cell_type": "code",
   "execution_count": 58,
   "metadata": {
    "execution": {
     "iopub.execute_input": "2024-04-12T14:58:27.321782Z",
     "iopub.status.busy": "2024-04-12T14:58:27.321628Z",
     "iopub.status.idle": "2024-04-12T14:58:27.331823Z",
     "shell.execute_reply": "2024-04-12T14:58:27.331405Z"
    }
   },
   "outputs": [],
   "source": [
    "with zipfile.ZipFile('junk.zip') as src:\n",
    "    src.extract('data/xarray/daymet_prcp_rainier_1980-2018.nc', path='extracted_data')"
   ]
  },
  {
   "cell_type": "markdown",
   "metadata": {},
   "source": [
    "## Testing Your Skills with a truly awful example:\n",
    "\n",
    "#### the problem:\n",
    "Pretend that the file `data/fileio/netcdf_data.zip` contains some climate data (in the NetCDF format with the ``*.nc`` extension) that we downloaded. If you open `data/fileio/netcdf_data.zip`, you'll see that within a subfolder `zipped` are a bunch of additional subfolders, each for a different year. Within each subfolder is another zipfile. Within each of these zipfiles is yet another subfolder, inside of which is the actual data file we want (`prcp.nc`). "
   ]
  },
  {
   "cell_type": "code",
   "execution_count": 59,
   "metadata": {
    "execution": {
     "iopub.execute_input": "2024-04-12T14:58:27.334008Z",
     "iopub.status.busy": "2024-04-12T14:58:27.333823Z",
     "iopub.status.idle": "2024-04-12T14:58:27.337774Z",
     "shell.execute_reply": "2024-04-12T14:58:27.337348Z"
    }
   },
   "outputs": [
    {
     "name": "stdout",
     "output_type": "stream",
     "text": [
      "netcdf_data/\n",
      "netcdf_data/zipped/\n",
      "netcdf_data/zipped/zipped_1991/\n",
      "netcdf_data/zipped/zipped_1991/12270_1991.zip\n",
      "netcdf_data/zipped/zipped_1996/\n",
      "netcdf_data/zipped/zipped_1996/12270_1996.zip\n",
      "netcdf_data/zipped/zipped_1998/\n",
      "netcdf_data/zipped/zipped_1998/12270_1998.zip\n",
      "netcdf_data/zipped/zipped_1999/\n",
      "netcdf_data/zipped/zipped_1999/12270_1999.zip\n"
     ]
    }
   ],
   "source": [
    "with zipfile.ZipFile('data/netcdf_data.zip') as src:\n",
    "    for f in src.namelist()[:10]:\n",
    "        print(f)"
   ]
  },
  {
   "cell_type": "markdown",
   "metadata": {},
   "source": [
    "#### the goal:\n",
    "To extract all of these `prcp.nc` files into a single folder, after renaming them with their respective years (obtained from their enclosing folders or zip files). e.g.  \n",
    "```\n",
    "prcp_1980.nc\n",
    "prcp_1981.nc\n",
    "...\n",
    "```\n",
    "This will allow us to open them together as a dataset in `xarray` (more on that later). Does this sound awful? I'm not making this up. This is the kind of structure you get when downloading tiles of climate data with the [Daymet Tile Selection Tool](https://daymet.ornl.gov/gridded/)\n",
    "\n",
    "#### hint:\n",
    "you might find these functions helpful:\n",
    "```\n",
    "ZipFile.extractall\n",
    "ZipFile.extract\n",
    "Path.glob\n",
    "Path.mkdir\n",
    "Path.stem\n",
    "Path.parent\n",
    "Path.name\n",
    "shutil.move\n",
    "Path.rmdir()\n",
    "```"
   ]
  },
  {
   "cell_type": "markdown",
   "metadata": {},
   "source": [
    "#### hint: start by using ``ZipFile.extractall()`` to extract all of the individual zip files from the main zip archive\n",
    "This extracts the entire contents of the zip file to a designated folder"
   ]
  },
  {
   "cell_type": "code",
   "execution_count": 60,
   "metadata": {
    "execution": {
     "iopub.execute_input": "2024-04-12T14:58:27.339642Z",
     "iopub.status.busy": "2024-04-12T14:58:27.339362Z",
     "iopub.status.idle": "2024-04-12T14:58:27.348012Z",
     "shell.execute_reply": "2024-04-12T14:58:27.347548Z"
    }
   },
   "outputs": [],
   "source": [
    "output_folder = Path('03-output')\n",
    "output_folder.mkdir(exist_ok=True)\n",
    "\n",
    "with zipfile.ZipFile('data/netcdf_data.zip') as src:\n",
    "    src.extractall(output_folder)"
   ]
  },
  {
   "cell_type": "markdown",
   "metadata": {},
   "source": [
    "Make a list of the zipfiles"
   ]
  },
  {
   "cell_type": "code",
   "execution_count": 61,
   "metadata": {
    "execution": {
     "iopub.execute_input": "2024-04-12T14:58:27.349846Z",
     "iopub.status.busy": "2024-04-12T14:58:27.349686Z",
     "iopub.status.idle": "2024-04-12T14:58:27.354059Z",
     "shell.execute_reply": "2024-04-12T14:58:27.353592Z"
    }
   },
   "outputs": [
    {
     "data": {
      "text/plain": [
       "[PosixPath('03-output/netcdf_data/zipped/zipped_1988/12270_1988.zip'),\n",
       " PosixPath('03-output/netcdf_data/zipped/zipped_2008/12270_2008.zip'),\n",
       " PosixPath('03-output/netcdf_data/zipped/zipped_2005/12270_2005.zip'),\n",
       " PosixPath('03-output/netcdf_data/zipped/zipped_2002/12270_2002.zip'),\n",
       " PosixPath('03-output/netcdf_data/zipped/zipped_2003/12270_2003.zip')]"
      ]
     },
     "execution_count": 61,
     "metadata": {},
     "output_type": "execute_result"
    }
   ],
   "source": [
    "zipfiles = list(output_folder.glob('netcdf_data/zipped/*/*.zip'))\n",
    "zipfiles[:5]"
   ]
  },
  {
   "cell_type": "markdown",
   "metadata": {},
   "source": [
    "### Part 1: extract with a single file"
   ]
  },
  {
   "cell_type": "code",
   "execution_count": 62,
   "metadata": {
    "execution": {
     "iopub.execute_input": "2024-04-12T14:58:27.355801Z",
     "iopub.status.busy": "2024-04-12T14:58:27.355644Z",
     "iopub.status.idle": "2024-04-12T14:58:27.358895Z",
     "shell.execute_reply": "2024-04-12T14:58:27.358508Z"
    }
   },
   "outputs": [
    {
     "data": {
      "text/plain": [
       "PosixPath('03-output/netcdf_data/zipped/zipped_1988/12270_1988.zip')"
      ]
     },
     "execution_count": 62,
     "metadata": {},
     "output_type": "execute_result"
    }
   ],
   "source": [
    "f = zipfiles[0]\n",
    "f"
   ]
  },
  {
   "cell_type": "markdown",
   "metadata": {},
   "source": [
    "#### 1a) Use ``ZipFile.namelist()`` (as above) list the contents\n",
    "\n",
    "This will yield the name of the ``*.nc`` file that we need to extract"
   ]
  },
  {
   "cell_type": "code",
   "execution_count": null,
   "metadata": {},
   "outputs": [],
   "source": []
  },
  {
   "cell_type": "markdown",
   "metadata": {},
   "source": [
    "#### 1b) Use ``ZipFile.extract()`` to extract the ``*.nc`` file to the destination folder\n",
    "(you may need to create the destination folder first)"
   ]
  },
  {
   "cell_type": "code",
   "execution_count": null,
   "metadata": {},
   "outputs": [],
   "source": []
  },
  {
   "cell_type": "markdown",
   "metadata": {},
   "source": [
    "#### 1c) Move the extracted file out of any enclosing subfolders, and rename to ``prcp_<year>.nc``\n",
    "(so that if we repeat this for subsequent files, the extracted ``*.nc`` files will end up in the same place)"
   ]
  },
  {
   "cell_type": "code",
   "execution_count": null,
   "metadata": {},
   "outputs": [],
   "source": []
  },
  {
   "cell_type": "markdown",
   "metadata": {},
   "source": [
    "#### 1d) Remove the extra subfolders that were extracted"
   ]
  },
  {
   "cell_type": "code",
   "execution_count": null,
   "metadata": {},
   "outputs": [],
   "source": []
  },
  {
   "cell_type": "markdown",
   "metadata": {},
   "source": [
    "### Part 2: put the above steps together into a loop to repeat the workflow for all of the NetCDF files"
   ]
  },
  {
   "cell_type": "code",
   "execution_count": null,
   "metadata": {},
   "outputs": [],
   "source": []
  },
  {
   "cell_type": "markdown",
   "metadata": {},
   "source": [
    "## Bonus Application -- Using ``os`` to find the location of an executable\n",
    "\n",
    "There are often times that you run an executable that is nested somewhere deep within your system path.  It can often be a good idea to know exactly where that executable is located.  This might help you one day from accidently using an older version of an executable, such as MODFLOW."
   ]
  },
  {
   "cell_type": "code",
   "execution_count": 63,
   "metadata": {
    "execution": {
     "iopub.execute_input": "2024-04-12T14:58:27.360777Z",
     "iopub.status.busy": "2024-04-12T14:58:27.360628Z",
     "iopub.status.idle": "2024-04-12T14:58:27.364469Z",
     "shell.execute_reply": "2024-04-12T14:58:27.364070Z"
    }
   },
   "outputs": [],
   "source": [
    "# Define two functions to help determine 'which' program you are using\n",
    "def is_exe(fpath):\n",
    "    \"\"\"\n",
    "    Return True if fpath is an executable, otherwise return False\n",
    "    \"\"\"\n",
    "    return os.path.isfile(fpath) and os.access(fpath, os.X_OK)\n",
    "\n",
    "def which(program):\n",
    "    \"\"\"\n",
    "    Locate the program and return its full path.  Return\n",
    "    None if the program cannot be located.\n",
    "    \"\"\"\n",
    "    fpath, fname = os.path.split(program)\n",
    "    if fpath:\n",
    "        if is_exe(program):\n",
    "            return program\n",
    "    else:\n",
    "        # test for exe in current working directory\n",
    "        if is_exe(program):\n",
    "            return program\n",
    "        # test for exe in path statement\n",
    "        for path in os.environ[\"PATH\"].split(os.pathsep):\n",
    "            path = path.strip('\"')\n",
    "            exe_file = os.path.join(path, program)\n",
    "            if is_exe(exe_file):\n",
    "                return exe_file\n",
    "    return None"
   ]
  },
  {
   "cell_type": "code",
   "execution_count": 64,
   "metadata": {
    "execution": {
     "iopub.execute_input": "2024-04-12T14:58:27.366263Z",
     "iopub.status.busy": "2024-04-12T14:58:27.365992Z",
     "iopub.status.idle": "2024-04-12T14:58:27.369391Z",
     "shell.execute_reply": "2024-04-12T14:58:27.368998Z"
    }
   },
   "outputs": [
    {
     "data": {
      "text/plain": [
       "'/home/runner/.local/bin/mf6'"
      ]
     },
     "execution_count": 64,
     "metadata": {},
     "output_type": "execute_result"
    }
   ],
   "source": [
    "which('mf6')"
   ]
  },
  {
   "cell_type": "code",
   "execution_count": null,
   "metadata": {},
   "outputs": [],
   "source": []
  }
 ],
 "metadata": {
  "kernelspec": {
   "display_name": "pyclass",
   "language": "python",
   "name": "python3"
  },
  "language_info": {
   "codemirror_mode": {
    "name": "ipython",
    "version": 3
   },
   "file_extension": ".py",
   "mimetype": "text/x-python",
   "name": "python",
   "nbconvert_exporter": "python",
   "pygments_lexer": "ipython3",
   "version": "3.11.8"
  }
 },
 "nbformat": 4,
 "nbformat_minor": 4
}
