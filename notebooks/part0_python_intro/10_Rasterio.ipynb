{
 "cells": [
  {
   "cell_type": "markdown",
   "id": "216729ac",
   "metadata": {},
   "source": [
    "# Rasterio: Mt. Rainier glaciers example\n",
    "\n",
    "This exercise focuses on working with [GIS raster data](https://docs.qgis.org/3.4/en/docs/gentle_gis_introduction/raster_data.html). It is based on a [GeoHackWeek tutorial](https://github.com/geohackweek/tutorial_contents/blob/master/raster/notebooks/rainier_dem_example.ipynb). We will use the `rasterio` and `rasterstats` libraries, along with `numpy` and `matplotlib` to look changes in the surface elevations of mapped glaciers since 1970.\n",
    "\n",
    "#### Key takeaways:\n",
    "* raster formats such as GeoTiff map array data on a regular grid using a simple transform (offset, rotation and pixel size).\n",
    "* working with raster data in python is inherently a little difficult, because the raster data model is designed to work efficiently with large datasets on disk (without loading whole thing into memory). Other available tools, such as the [gdal commandline tools](https://gdal.org/programs/index.html) or ArcPy macros, tend to stay in this paradigm by taking files as input to fuctions that write files as output.\n",
    "* conversely, when we work with arrays in-memory with `numpy`, we typically think it terms of rows and columns\n",
    "\n",
    "#### The main idea is to   \n",
    "   1) use `rasterio` (or another tool) to handle the files and any transformations needed to align the data. As we'll see below, most of these operations aren't especially intuitive or easy to remember. Thankfully, there are recipes available online that are easy to copy for performing common tasks. The [rasterio manual](https://rasterio.readthedocs.io/en/stable/) is a great place to start.  \n",
    "   2) once the data are in numpy, use `numpy` and other tools in the scientific python stack (e.g. `scipy`) to do the computations  \n",
    "\n",
    "#### Datasets:\n",
    "* 3 Digital Elevation Models (DEMs) of Mt. Rainier elevations in 1970, 2008 and 2015; each on a different grid.\n",
    "* shapefile of glacier extents\n",
    "\n",
    "#### Operations:\n",
    "* read and write rasters to/from `numpy` arrays\n",
    "* plotting raster data\n",
    "* warping (resampling) raster data to different grids\n",
    "* reprojecting raster data to different coordinate reference systems\n",
    "* getting raster data at discrete points\n",
    "* zonal statistics\n",
    "* mapping vector features onto rasters (\"rasterizing\")\n",
    "\n",
    "#### References:\n",
    "* The [rasterio manual](https://rasterio.readthedocs.io/en/stable/)\n",
    "* The [GeoHackWeek tutorials](https://geohackweek.github.io/raster/) for more information on working with raster data in the python"
   ]
  },
  {
   "cell_type": "code",
   "execution_count": 1,
   "id": "745136bb",
   "metadata": {},
   "outputs": [],
   "source": [
    "import os\n",
    "import numpy as np\n",
    "import geopandas as gp\n",
    "import rasterio\n",
    "from rasterio.plot import show\n",
    "from rasterio import features\n",
    "import matplotlib.pyplot as plt\n",
    "from matplotlib.colors import LightSource\n",
    "\n",
    "# for elevation hillshade if we want to use it\n",
    "ls = LightSource(azdeg=315, altdeg=45)"
   ]
  },
  {
   "cell_type": "code",
   "execution_count": null,
   "id": "255e8440",
   "metadata": {},
   "outputs": [],
   "source": []
  }
 ],
 "metadata": {
  "kernelspec": {
   "display_name": "Python 3 (ipykernel)",
   "language": "python",
   "name": "python3"
  },
  "language_info": {
   "codemirror_mode": {
    "name": "ipython",
    "version": 3
   },
   "file_extension": ".py",
   "mimetype": "text/x-python",
   "name": "python",
   "nbconvert_exporter": "python",
   "pygments_lexer": "ipython3",
   "version": "3.9.12"
  }
 },
 "nbformat": 4,
 "nbformat_minor": 5
}
