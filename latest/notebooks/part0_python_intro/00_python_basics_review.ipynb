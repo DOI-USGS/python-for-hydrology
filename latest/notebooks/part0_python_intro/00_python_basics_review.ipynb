{
 "cells": [
  {
   "cell_type": "markdown",
   "metadata": {},
   "source": [
    "# 00: Introduction to python for hydrologists\n",
    "\n",
    "In this background introduction, we will review concepts introduced in the \n",
    "[University of Waterloo Python Background Tutorial](https://cscircles.cemc.uwaterloo.ca/)\n",
    "\n",
    "This notebook is a general overview of Python. We will cover many of the basic aspects of Python that are distinct (and sometimes confusing) relative to other programming and scripting languages. \n",
    "\n",
    "First let's consider three ways that we can interact with Python:\n",
    "\n",
    "1. Through a command-line session\n",
    "2. Using iPython\n",
    "3. Using a Jupyter notebook like this one\n",
    "\n"
   ]
  },
  {
   "cell_type": "code",
   "execution_count": 1,
   "metadata": {
    "execution": {
     "iopub.execute_input": "2025-08-11T21:33:30.812172Z",
     "iopub.status.busy": "2025-08-11T21:33:30.811940Z",
     "iopub.status.idle": "2025-08-11T21:33:30.817402Z",
     "shell.execute_reply": "2025-08-11T21:33:30.816889Z"
    }
   },
   "outputs": [
    {
     "name": "stdout",
     "output_type": "stream",
     "text": [
      "hello world\n"
     ]
    }
   ],
   "source": [
    "print('hello world')"
   ]
  },
  {
   "cell_type": "markdown",
   "metadata": {},
   "source": [
    "## Using Python as a Calculator\n",
    "Python can be used to simple perform arithmetic operations.\n",
    "(note: in an iPython notebook like this one, shift-ENTER evaluates the code)"
   ]
  },
  {
   "cell_type": "markdown",
   "metadata": {},
   "source": [
    "Spaces are fine"
   ]
  },
  {
   "cell_type": "code",
   "execution_count": 2,
   "metadata": {
    "execution": {
     "iopub.execute_input": "2025-08-11T21:33:30.839596Z",
     "iopub.status.busy": "2025-08-11T21:33:30.839452Z",
     "iopub.status.idle": "2025-08-11T21:33:30.844061Z",
     "shell.execute_reply": "2025-08-11T21:33:30.843562Z"
    }
   },
   "outputs": [
    {
     "data": {
      "text/plain": [
       "54"
      ]
     },
     "execution_count": 2,
     "metadata": {},
     "output_type": "execute_result"
    }
   ],
   "source": [
    "6*9"
   ]
  },
  {
   "cell_type": "code",
   "execution_count": 3,
   "metadata": {
    "execution": {
     "iopub.execute_input": "2025-08-11T21:33:30.845428Z",
     "iopub.status.busy": "2025-08-11T21:33:30.845281Z",
     "iopub.status.idle": "2025-08-11T21:33:30.848443Z",
     "shell.execute_reply": "2025-08-11T21:33:30.848041Z"
    }
   },
   "outputs": [
    {
     "data": {
      "text/plain": [
       "505.90000000000003"
      ]
     },
     "execution_count": 3,
     "metadata": {},
     "output_type": "execute_result"
    }
   ],
   "source": [
    "6 + (99.98 * 5.)"
   ]
  },
  {
   "cell_type": "markdown",
   "metadata": {},
   "source": [
    "Exponents use `**` rather than `^` in some other languages."
   ]
  },
  {
   "cell_type": "code",
   "execution_count": 4,
   "metadata": {
    "execution": {
     "iopub.execute_input": "2025-08-11T21:33:30.849852Z",
     "iopub.status.busy": "2025-08-11T21:33:30.849703Z",
     "iopub.status.idle": "2025-08-11T21:33:30.852200Z",
     "shell.execute_reply": "2025-08-11T21:33:30.851781Z"
    }
   },
   "outputs": [
    {
     "name": "stdout",
     "output_type": "stream",
     "text": [
      "2294177.623218786\n"
     ]
    }
   ],
   "source": [
    "print (5**9.1)"
   ]
  },
  {
   "cell_type": "code",
   "execution_count": null,
   "metadata": {},
   "outputs": [],
   "source": []
  },
  {
   "cell_type": "markdown",
   "metadata": {},
   "source": [
    "### What if you want to do more than basic arithmetic?\n",
    "There are a couple ways to access more mathematical functions:  "
   ]
  },
  {
   "cell_type": "code",
   "execution_count": 5,
   "metadata": {
    "execution": {
     "iopub.execute_input": "2025-08-11T21:33:30.853632Z",
     "iopub.status.busy": "2025-08-11T21:33:30.853491Z",
     "iopub.status.idle": "2025-08-11T21:33:30.904553Z",
     "shell.execute_reply": "2025-08-11T21:33:30.904074Z"
    }
   },
   "outputs": [
    {
     "data": {
      "text/plain": [
       "np.float64(3.0)"
      ]
     },
     "execution_count": 5,
     "metadata": {},
     "output_type": "execute_result"
    }
   ],
   "source": [
    "import numpy as np\n",
    "import math\n",
    "np.sqrt(9)"
   ]
  },
  {
   "cell_type": "code",
   "execution_count": 6,
   "metadata": {
    "execution": {
     "iopub.execute_input": "2025-08-11T21:33:30.907405Z",
     "iopub.status.busy": "2025-08-11T21:33:30.907181Z",
     "iopub.status.idle": "2025-08-11T21:33:30.910949Z",
     "shell.execute_reply": "2025-08-11T21:33:30.910503Z"
    }
   },
   "outputs": [],
   "source": [
    "? np"
   ]
  },
  {
   "cell_type": "code",
   "execution_count": 7,
   "metadata": {
    "execution": {
     "iopub.execute_input": "2025-08-11T21:33:30.913205Z",
     "iopub.status.busy": "2025-08-11T21:33:30.912424Z",
     "iopub.status.idle": "2025-08-11T21:33:30.917353Z",
     "shell.execute_reply": "2025-08-11T21:33:30.916974Z"
    }
   },
   "outputs": [
    {
     "data": {
      "text/plain": [
       "3.0166206257996713"
      ]
     },
     "execution_count": 7,
     "metadata": {},
     "output_type": "execute_result"
    }
   ],
   "source": [
    "math.sqrt(9.1)"
   ]
  },
  {
   "cell_type": "markdown",
   "metadata": {},
   "source": [
    "Of these two options, we typically use `np` because, as we will cover in detail later, `numpy` provides many other features important to the kind of scientific work we perform."
   ]
  },
  {
   "cell_type": "markdown",
   "metadata": {},
   "source": [
    "## Data Structures and a few definitions  \n",
    "**data structure** -- A way to store and organize data in a computer.  \n",
    "In Python, there are a variety of data structures -- some mutable, and others immutable\n",
    "\n",
    "**mutability** -- An _immutable_ object is one whose property or state cannot be changed, whereas, _mutable_ objects can change state  \n",
    "\n",
    "The most basic data types are numbers, including:  \n",
    "`integer (int)`  \n",
    "`float/double precision (float)`  \n",
    "`long ingteger (long)`  \n",
    "`complex (complex)`\n",
    "There are also groups of characters:\n",
    "`string (str)`\n",
    "\n",
    "Variables can be of any type and the results can be assigned to symbols without predefining type (like `DIMENSION` in FORTRAN). `print` statements display values to standard output, and the `type` function tells you which number type a variable (or number) is.\n"
   ]
  },
  {
   "cell_type": "code",
   "execution_count": 8,
   "metadata": {
    "execution": {
     "iopub.execute_input": "2025-08-11T21:33:30.919086Z",
     "iopub.status.busy": "2025-08-11T21:33:30.918916Z",
     "iopub.status.idle": "2025-08-11T21:33:30.923339Z",
     "shell.execute_reply": "2025-08-11T21:33:30.922909Z"
    }
   },
   "outputs": [
    {
     "name": "stdout",
     "output_type": "stream",
     "text": [
      "5.9\n",
      "5.9\n",
      "5.91\n"
     ]
    }
   ],
   "source": [
    "a = 5.9\n",
    "print (a)\n",
    "aa = 5.91\n",
    "print (a)\n",
    "print (aa)"
   ]
  },
  {
   "cell_type": "code",
   "execution_count": 9,
   "metadata": {
    "execution": {
     "iopub.execute_input": "2025-08-11T21:33:30.925657Z",
     "iopub.status.busy": "2025-08-11T21:33:30.924996Z",
     "iopub.status.idle": "2025-08-11T21:33:30.930581Z",
     "shell.execute_reply": "2025-08-11T21:33:30.930171Z"
    }
   },
   "outputs": [
    {
     "name": "stdout",
     "output_type": "stream",
     "text": [
      "5.0\n"
     ]
    },
    {
     "data": {
      "text/plain": [
       "float"
      ]
     },
     "execution_count": 9,
     "metadata": {},
     "output_type": "execute_result"
    }
   ],
   "source": [
    "a2 = 5.\n",
    "print (a2)\n",
    "type(a2)"
   ]
  },
  {
   "cell_type": "markdown",
   "metadata": {},
   "source": [
    "## Variables and types\n",
    "\n",
    "### Symbol names \n",
    "\n",
    "Variable names in Python can contain alphanumerical characters `a-z`, `A-Z`, `0-9` and some special characters such as `_`. Normal variable names must start with a letter. \n",
    "\n",
    "By convention, variable names start with a lower-case letter, and Class names start with a capital letter. \n",
    "\n",
    "In addition, there are a number of Python keywords that cannot be used as variable names. These keywords are:\n",
    "\n",
    ">    `and, as, assert, break, class, continue, def, del, elif, else, except, exec, finally, for, from, global, if, import, in, is, lambda, not, or, pass, print, raise, return, try, while, with, yield`\n",
    "\n",
    "Note: Be aware of the keyword `lambda`, which could easily be a natural variable name in a scientific program. But being a keyword, it cannot be used as a variable name.\n"
   ]
  },
  {
   "cell_type": "code",
   "execution_count": 10,
   "metadata": {
    "execution": {
     "iopub.execute_input": "2025-08-11T21:33:30.932280Z",
     "iopub.status.busy": "2025-08-11T21:33:30.932096Z",
     "iopub.status.idle": "2025-08-11T21:33:30.937077Z",
     "shell.execute_reply": "2025-08-11T21:33:30.936666Z"
    }
   },
   "outputs": [
    {
     "data": {
      "text/plain": [
       "['False',\n",
       " 'None',\n",
       " 'True',\n",
       " 'and',\n",
       " 'as',\n",
       " 'assert',\n",
       " 'async',\n",
       " 'await',\n",
       " 'break',\n",
       " 'class',\n",
       " 'continue',\n",
       " 'def',\n",
       " 'del',\n",
       " 'elif',\n",
       " 'else',\n",
       " 'except',\n",
       " 'finally',\n",
       " 'for',\n",
       " 'from',\n",
       " 'global',\n",
       " 'if',\n",
       " 'import',\n",
       " 'in',\n",
       " 'is',\n",
       " 'lambda',\n",
       " 'nonlocal',\n",
       " 'not',\n",
       " 'or',\n",
       " 'pass',\n",
       " 'raise',\n",
       " 'return',\n",
       " 'try',\n",
       " 'while',\n",
       " 'with',\n",
       " 'yield']"
      ]
     },
     "execution_count": 10,
     "metadata": {},
     "output_type": "execute_result"
    }
   ],
   "source": [
    "import keyword\n",
    "keyword.kwlist"
   ]
  },
  {
   "cell_type": "markdown",
   "metadata": {},
   "source": [
    "There are also built-in objects that should not be used as variable names."
   ]
  },
  {
   "cell_type": "code",
   "execution_count": 11,
   "metadata": {
    "execution": {
     "iopub.execute_input": "2025-08-11T21:33:30.939397Z",
     "iopub.status.busy": "2025-08-11T21:33:30.938753Z",
     "iopub.status.idle": "2025-08-11T21:33:30.944460Z",
     "shell.execute_reply": "2025-08-11T21:33:30.944040Z"
    }
   },
   "outputs": [
    {
     "data": {
      "text/plain": [
       "['ArithmeticError',\n",
       " 'AssertionError',\n",
       " 'AttributeError',\n",
       " 'BaseException',\n",
       " 'BaseExceptionGroup',\n",
       " 'BlockingIOError',\n",
       " 'BrokenPipeError',\n",
       " 'BufferError',\n",
       " 'BytesWarning',\n",
       " 'ChildProcessError',\n",
       " 'ConnectionAbortedError',\n",
       " 'ConnectionError',\n",
       " 'ConnectionRefusedError',\n",
       " 'ConnectionResetError',\n",
       " 'DeprecationWarning',\n",
       " 'EOFError',\n",
       " 'Ellipsis',\n",
       " 'EncodingWarning',\n",
       " 'EnvironmentError',\n",
       " 'Exception',\n",
       " 'ExceptionGroup',\n",
       " 'False',\n",
       " 'FileExistsError',\n",
       " 'FileNotFoundError',\n",
       " 'FloatingPointError',\n",
       " 'FutureWarning',\n",
       " 'GeneratorExit',\n",
       " 'IOError',\n",
       " 'ImportError',\n",
       " 'ImportWarning',\n",
       " 'IndentationError',\n",
       " 'IndexError',\n",
       " 'InterruptedError',\n",
       " 'IsADirectoryError',\n",
       " 'KeyError',\n",
       " 'KeyboardInterrupt',\n",
       " 'LookupError',\n",
       " 'MemoryError',\n",
       " 'ModuleNotFoundError',\n",
       " 'NameError',\n",
       " 'None',\n",
       " 'NotADirectoryError',\n",
       " 'NotImplemented',\n",
       " 'NotImplementedError',\n",
       " 'OSError',\n",
       " 'OverflowError',\n",
       " 'PendingDeprecationWarning',\n",
       " 'PermissionError',\n",
       " 'ProcessLookupError',\n",
       " 'RecursionError',\n",
       " 'ReferenceError',\n",
       " 'ResourceWarning',\n",
       " 'RuntimeError',\n",
       " 'RuntimeWarning',\n",
       " 'StopAsyncIteration',\n",
       " 'StopIteration',\n",
       " 'SyntaxError',\n",
       " 'SyntaxWarning',\n",
       " 'SystemError',\n",
       " 'SystemExit',\n",
       " 'TabError',\n",
       " 'TimeoutError',\n",
       " 'True',\n",
       " 'TypeError',\n",
       " 'UnboundLocalError',\n",
       " 'UnicodeDecodeError',\n",
       " 'UnicodeEncodeError',\n",
       " 'UnicodeError',\n",
       " 'UnicodeTranslateError',\n",
       " 'UnicodeWarning',\n",
       " 'UserWarning',\n",
       " 'ValueError',\n",
       " 'Warning',\n",
       " 'ZeroDivisionError',\n",
       " '__IPYTHON__',\n",
       " '__build_class__',\n",
       " '__debug__',\n",
       " '__doc__',\n",
       " '__import__',\n",
       " '__loader__',\n",
       " '__name__',\n",
       " '__package__',\n",
       " '__spec__',\n",
       " 'abs',\n",
       " 'aiter',\n",
       " 'all',\n",
       " 'anext',\n",
       " 'any',\n",
       " 'ascii',\n",
       " 'bin',\n",
       " 'bool',\n",
       " 'breakpoint',\n",
       " 'bytearray',\n",
       " 'bytes',\n",
       " 'callable',\n",
       " 'chr',\n",
       " 'classmethod',\n",
       " 'compile',\n",
       " 'complex',\n",
       " 'copyright',\n",
       " 'credits',\n",
       " 'delattr',\n",
       " 'dict',\n",
       " 'dir',\n",
       " 'display',\n",
       " 'divmod',\n",
       " 'enumerate',\n",
       " 'eval',\n",
       " 'exec',\n",
       " 'execfile',\n",
       " 'filter',\n",
       " 'float',\n",
       " 'format',\n",
       " 'frozenset',\n",
       " 'get_ipython',\n",
       " 'getattr',\n",
       " 'globals',\n",
       " 'hasattr',\n",
       " 'hash',\n",
       " 'help',\n",
       " 'hex',\n",
       " 'id',\n",
       " 'input',\n",
       " 'int',\n",
       " 'isinstance',\n",
       " 'issubclass',\n",
       " 'iter',\n",
       " 'len',\n",
       " 'license',\n",
       " 'list',\n",
       " 'locals',\n",
       " 'map',\n",
       " 'max',\n",
       " 'memoryview',\n",
       " 'min',\n",
       " 'next',\n",
       " 'object',\n",
       " 'oct',\n",
       " 'open',\n",
       " 'ord',\n",
       " 'pow',\n",
       " 'print',\n",
       " 'property',\n",
       " 'range',\n",
       " 'repr',\n",
       " 'reversed',\n",
       " 'round',\n",
       " 'runfile',\n",
       " 'set',\n",
       " 'setattr',\n",
       " 'slice',\n",
       " 'sorted',\n",
       " 'staticmethod',\n",
       " 'str',\n",
       " 'sum',\n",
       " 'super',\n",
       " 'tuple',\n",
       " 'type',\n",
       " 'vars',\n",
       " 'zip']"
      ]
     },
     "execution_count": 11,
     "metadata": {},
     "output_type": "execute_result"
    }
   ],
   "source": [
    "import builtins\n",
    "dir(builtins)"
   ]
  },
  {
   "cell_type": "markdown",
   "metadata": {},
   "source": [
    "### Assignment\n",
    "\n",
    "The assignment operator in Python is `=`. Python is a dynamically typed language, so we do not need to specify the type of a variable when we create one.\n",
    "\n",
    "Assigning a value to a new variable creates the variable:"
   ]
  },
  {
   "cell_type": "code",
   "execution_count": 12,
   "metadata": {
    "execution": {
     "iopub.execute_input": "2025-08-11T21:33:30.946221Z",
     "iopub.status.busy": "2025-08-11T21:33:30.946039Z",
     "iopub.status.idle": "2025-08-11T21:33:30.950184Z",
     "shell.execute_reply": "2025-08-11T21:33:30.949761Z"
    }
   },
   "outputs": [
    {
     "name": "stdout",
     "output_type": "stream",
     "text": [
      "7\n"
     ]
    }
   ],
   "source": [
    "b=99.1\n",
    "# variable names can practically as long as you like\n",
    "this_reallyDESCRIPTIVE_crazyvariableNAME_is_maybe_a_bit_long = 7\n",
    "print(this_reallyDESCRIPTIVE_crazyvariableNAME_is_maybe_a_bit_long)"
   ]
  },
  {
   "cell_type": "markdown",
   "metadata": {},
   "source": [
    "In general, appropriate type conversion is possible:"
   ]
  },
  {
   "cell_type": "code",
   "execution_count": 13,
   "metadata": {
    "execution": {
     "iopub.execute_input": "2025-08-11T21:33:30.951818Z",
     "iopub.status.busy": "2025-08-11T21:33:30.951661Z",
     "iopub.status.idle": "2025-08-11T21:33:30.957121Z",
     "shell.execute_reply": "2025-08-11T21:33:30.956700Z"
    }
   },
   "outputs": [
    {
     "name": "stdout",
     "output_type": "stream",
     "text": [
      "8\n"
     ]
    },
    {
     "data": {
      "text/plain": [
       "8"
      ]
     },
     "execution_count": 13,
     "metadata": {},
     "output_type": "execute_result"
    }
   ],
   "source": [
    "a = 8.9\n",
    "b = int(a)\n",
    "print (b)\n",
    "c = str(a)\n",
    "b"
   ]
  },
  {
   "cell_type": "markdown",
   "metadata": {},
   "source": [
    "### Strings\n",
    "Grouping characters together creates strings."
   ]
  },
  {
   "cell_type": "code",
   "execution_count": 14,
   "metadata": {
    "execution": {
     "iopub.execute_input": "2025-08-11T21:33:30.958738Z",
     "iopub.status.busy": "2025-08-11T21:33:30.958586Z",
     "iopub.status.idle": "2025-08-11T21:33:30.964069Z",
     "shell.execute_reply": "2025-08-11T21:33:30.963661Z"
    }
   },
   "outputs": [
    {
     "name": "stdout",
     "output_type": "stream",
     "text": [
      "this is a string (Includes 'spaces' and punctuation)\n"
     ]
    },
    {
     "data": {
      "text/plain": [
       "52"
      ]
     },
     "execution_count": 14,
     "metadata": {},
     "output_type": "execute_result"
    }
   ],
   "source": [
    "avar = \"this is a string (Includes 'spaces' and punctuation)\"\n",
    "print(avar)\n",
    "len(avar)"
   ]
  },
  {
   "cell_type": "markdown",
   "metadata": {},
   "source": [
    "Using square brackets (`[]`) we can dereference values as if the string were an array or a list (as we will discuss next)"
   ]
  },
  {
   "cell_type": "code",
   "execution_count": 15,
   "metadata": {
    "execution": {
     "iopub.execute_input": "2025-08-11T21:33:30.966391Z",
     "iopub.status.busy": "2025-08-11T21:33:30.965741Z",
     "iopub.status.idle": "2025-08-11T21:33:30.969678Z",
     "shell.execute_reply": "2025-08-11T21:33:30.969227Z"
    }
   },
   "outputs": [
    {
     "name": "stdout",
     "output_type": "stream",
     "text": [
      "t\n",
      "h\n",
      ")\n",
      "n\n",
      "tss rgIle'asa nui)\n"
     ]
    }
   ],
   "source": [
    "print(avar[0])\n",
    "print(avar[1])\n",
    "# negative indices count from the end of the string\n",
    "print(avar[-1])\n",
    "print(avar[-2])\n",
    "# we can even print every nth character\n",
    "print(avar[::3])"
   ]
  },
  {
   "cell_type": "markdown",
   "metadata": {},
   "source": [
    "Since strings are just sequences of characters, they can be operated on using addition and multiplication."
   ]
  },
  {
   "cell_type": "code",
   "execution_count": 16,
   "metadata": {
    "execution": {
     "iopub.execute_input": "2025-08-11T21:33:30.971163Z",
     "iopub.status.busy": "2025-08-11T21:33:30.970987Z",
     "iopub.status.idle": "2025-08-11T21:33:30.973656Z",
     "shell.execute_reply": "2025-08-11T21:33:30.973313Z"
    }
   },
   "outputs": [
    {
     "name": "stdout",
     "output_type": "stream",
     "text": [
      "ab c \n",
      "ab c ab c ab c ab c ab c \n"
     ]
    }
   ],
   "source": [
    "d =  'a' + 'b' + ' c '\n",
    "print (d)\n",
    "print (d*5)\n"
   ]
  },
  {
   "cell_type": "markdown",
   "metadata": {},
   "source": [
    "For comparisons, it can be important to match case, so we can cast to upper or lower or a couple other options"
   ]
  },
  {
   "cell_type": "code",
   "execution_count": 17,
   "metadata": {
    "execution": {
     "iopub.execute_input": "2025-08-11T21:33:30.975000Z",
     "iopub.status.busy": "2025-08-11T21:33:30.974865Z",
     "iopub.status.idle": "2025-08-11T21:33:30.977827Z",
     "shell.execute_reply": "2025-08-11T21:33:30.977491Z"
    }
   },
   "outputs": [
    {
     "data": {
      "text/plain": [
       "\"THIS IS A STRING (INCLUDES 'SPACES' AND PUNCTUATION)\""
      ]
     },
     "execution_count": 17,
     "metadata": {},
     "output_type": "execute_result"
    }
   ],
   "source": [
    "avar.upper()"
   ]
  },
  {
   "cell_type": "code",
   "execution_count": 18,
   "metadata": {
    "execution": {
     "iopub.execute_input": "2025-08-11T21:33:30.979182Z",
     "iopub.status.busy": "2025-08-11T21:33:30.979011Z",
     "iopub.status.idle": "2025-08-11T21:33:30.981996Z",
     "shell.execute_reply": "2025-08-11T21:33:30.981650Z"
    }
   },
   "outputs": [
    {
     "data": {
      "text/plain": [
       "\"this is a string (includes 'spaces' and punctuation)\""
      ]
     },
     "execution_count": 18,
     "metadata": {},
     "output_type": "execute_result"
    }
   ],
   "source": [
    "avar.lower()"
   ]
  },
  {
   "cell_type": "code",
   "execution_count": 19,
   "metadata": {
    "execution": {
     "iopub.execute_input": "2025-08-11T21:33:30.983413Z",
     "iopub.status.busy": "2025-08-11T21:33:30.983186Z",
     "iopub.status.idle": "2025-08-11T21:33:30.986123Z",
     "shell.execute_reply": "2025-08-11T21:33:30.985758Z"
    }
   },
   "outputs": [
    {
     "data": {
      "text/plain": [
       "\"This is a string (includes 'spaces' and punctuation)\""
      ]
     },
     "execution_count": 19,
     "metadata": {},
     "output_type": "execute_result"
    }
   ],
   "source": [
    "avar.capitalize()"
   ]
  },
  {
   "cell_type": "code",
   "execution_count": 20,
   "metadata": {
    "execution": {
     "iopub.execute_input": "2025-08-11T21:33:30.987456Z",
     "iopub.status.busy": "2025-08-11T21:33:30.987316Z",
     "iopub.status.idle": "2025-08-11T21:33:30.989985Z",
     "shell.execute_reply": "2025-08-11T21:33:30.989610Z"
    }
   },
   "outputs": [
    {
     "data": {
      "text/plain": [
       "\"THIS IS A STRING (iNCLUDES 'SPACES' AND PUNCTUATION)\""
      ]
     },
     "execution_count": 20,
     "metadata": {},
     "output_type": "execute_result"
    }
   ],
   "source": [
    "avar.swapcase()"
   ]
  },
  {
   "cell_type": "markdown",
   "metadata": {},
   "source": [
    "We can also replace text using `replace()`"
   ]
  },
  {
   "cell_type": "code",
   "execution_count": 21,
   "metadata": {
    "execution": {
     "iopub.execute_input": "2025-08-11T21:33:30.991343Z",
     "iopub.status.busy": "2025-08-11T21:33:30.991197Z",
     "iopub.status.idle": "2025-08-11T21:33:30.993948Z",
     "shell.execute_reply": "2025-08-11T21:33:30.993572Z"
    }
   },
   "outputs": [
    {
     "data": {
      "text/plain": [
       "\"this is a string (Includes 'spaces' & punctuation)\""
      ]
     },
     "execution_count": 21,
     "metadata": {},
     "output_type": "execute_result"
    }
   ],
   "source": [
    "avar.replace('and','&')"
   ]
  },
  {
   "cell_type": "markdown",
   "metadata": {},
   "source": [
    "### Lists ###\n",
    "There are a few ways to group values in Python. The most basic way is a list, defined by square brackets(`[ ]`) and comma-delimited \n"
   ]
  },
  {
   "cell_type": "code",
   "execution_count": 22,
   "metadata": {
    "execution": {
     "iopub.execute_input": "2025-08-11T21:33:30.995339Z",
     "iopub.status.busy": "2025-08-11T21:33:30.995200Z",
     "iopub.status.idle": "2025-08-11T21:33:30.997706Z",
     "shell.execute_reply": "2025-08-11T21:33:30.997301Z"
    }
   },
   "outputs": [
    {
     "name": "stdout",
     "output_type": "stream",
     "text": [
      "<class 'list'>\n",
      "<class 'float'>\n",
      "[2.3, 3.4, 5.5, 12.4, 33]\n"
     ]
    }
   ],
   "source": [
    "a = [2.3, 3.4, 5.5, 12.4, 33]\n",
    "print(type(a))\n",
    "print(type(a[1]))\n",
    "print(a)"
   ]
  },
  {
   "cell_type": "markdown",
   "metadata": {},
   "source": [
    "#### Important Note!!! -->\n",
    "Python uses zero-referencing (like C, but unlike MATLAB and FORTRAN). Using square brackets, look at the various values of `a` (e.g. `a[0]`, `a[2]`). Also, see what you get with `a[-1]` and `a[-2]`"
   ]
  },
  {
   "cell_type": "code",
   "execution_count": 23,
   "metadata": {
    "execution": {
     "iopub.execute_input": "2025-08-11T21:33:30.999096Z",
     "iopub.status.busy": "2025-08-11T21:33:30.998949Z",
     "iopub.status.idle": "2025-08-11T21:33:31.001902Z",
     "shell.execute_reply": "2025-08-11T21:33:31.001423Z"
    }
   },
   "outputs": [
    {
     "data": {
      "text/plain": [
       "2.3"
      ]
     },
     "execution_count": 23,
     "metadata": {},
     "output_type": "execute_result"
    }
   ],
   "source": [
    "a[0]"
   ]
  },
  {
   "cell_type": "markdown",
   "metadata": {},
   "source": [
    "### Lists of Lists\n",
    "You can make lists made up of anything (e.g. numbers, other lists, etc.)"
   ]
  },
  {
   "cell_type": "code",
   "execution_count": 24,
   "metadata": {
    "execution": {
     "iopub.execute_input": "2025-08-11T21:33:31.003362Z",
     "iopub.status.busy": "2025-08-11T21:33:31.003203Z",
     "iopub.status.idle": "2025-08-11T21:33:31.006356Z",
     "shell.execute_reply": "2025-08-11T21:33:31.005931Z"
    }
   },
   "outputs": [
    {
     "name": "stdout",
     "output_type": "stream",
     "text": [
      "[[2.3, 3.4, 5.5, 12.4, 33], 5, [3, '4stuff', 5.9]]\n",
      "[2.3, 3.4, 5.5, 12.4, 33]\n",
      "5\n",
      "[3, '4stuff', 5.9]\n"
     ]
    }
   ],
   "source": [
    "b=5\n",
    "c=[3,'4stuff',5.9]\n",
    "d = [a,b,c]\n",
    "print (d)\n",
    "print (d[0])\n",
    "print (d[1])\n",
    "print (d[2])"
   ]
  },
  {
   "cell_type": "code",
   "execution_count": 25,
   "metadata": {
    "execution": {
     "iopub.execute_input": "2025-08-11T21:33:31.007771Z",
     "iopub.status.busy": "2025-08-11T21:33:31.007606Z",
     "iopub.status.idle": "2025-08-11T21:33:31.010841Z",
     "shell.execute_reply": "2025-08-11T21:33:31.010377Z"
    }
   },
   "outputs": [
    {
     "data": {
      "text/plain": [
       "[1, 2, 3, 5]"
      ]
     },
     "execution_count": 25,
     "metadata": {},
     "output_type": "execute_result"
    }
   ],
   "source": [
    "aaaa = [1,2,3]\n",
    "aaaa + [5]"
   ]
  },
  {
   "cell_type": "markdown",
   "metadata": {},
   "source": [
    "### `append` versus `extend`\n",
    "You can add to a list in two ways -- using the `extend` or `append` methods. Let's look at `append` first:"
   ]
  },
  {
   "cell_type": "code",
   "execution_count": 26,
   "metadata": {
    "execution": {
     "iopub.execute_input": "2025-08-11T21:33:31.012172Z",
     "iopub.status.busy": "2025-08-11T21:33:31.012009Z",
     "iopub.status.idle": "2025-08-11T21:33:31.014669Z",
     "shell.execute_reply": "2025-08-11T21:33:31.014188Z"
    }
   },
   "outputs": [
    {
     "name": "stdout",
     "output_type": "stream",
     "text": [
      "[1, 2, 3]\n"
     ]
    }
   ],
   "source": [
    "a=[1,2,3]\n",
    "print (a)"
   ]
  },
  {
   "cell_type": "code",
   "execution_count": 27,
   "metadata": {
    "execution": {
     "iopub.execute_input": "2025-08-11T21:33:31.015982Z",
     "iopub.status.busy": "2025-08-11T21:33:31.015828Z",
     "iopub.status.idle": "2025-08-11T21:33:31.018621Z",
     "shell.execute_reply": "2025-08-11T21:33:31.018210Z"
    }
   },
   "outputs": [
    {
     "name": "stdout",
     "output_type": "stream",
     "text": [
      "[1, 2, 3, 4, 5]\n"
     ]
    }
   ],
   "source": [
    "a.append(4)\n",
    "a.append(5)\n",
    "print (a)"
   ]
  },
  {
   "cell_type": "code",
   "execution_count": 28,
   "metadata": {
    "execution": {
     "iopub.execute_input": "2025-08-11T21:33:31.019926Z",
     "iopub.status.busy": "2025-08-11T21:33:31.019780Z",
     "iopub.status.idle": "2025-08-11T21:33:31.023348Z",
     "shell.execute_reply": "2025-08-11T21:33:31.022932Z"
    }
   },
   "outputs": [
    {
     "name": "stdout",
     "output_type": "stream",
     "text": [
      "[1, 2, 3, 4, 5, [6, 7, 8]]\n"
     ]
    },
    {
     "data": {
      "text/plain": [
       "[6, 7, 8]"
      ]
     },
     "execution_count": 28,
     "metadata": {},
     "output_type": "execute_result"
    }
   ],
   "source": [
    "a.append([6,7,8])\n",
    "print (a)\n",
    "a[-1]"
   ]
  },
  {
   "cell_type": "markdown",
   "metadata": {},
   "source": [
    "This did exactly what it should, but looks strange at first. We `appended` on the data we wanted to, but since we passed a list, we just took the list `[6,7,8]` on to the end of `a`. What if we wanted to continue our sequence? Then we could use `extend`."
   ]
  },
  {
   "cell_type": "code",
   "execution_count": 29,
   "metadata": {
    "execution": {
     "iopub.execute_input": "2025-08-11T21:33:31.024686Z",
     "iopub.status.busy": "2025-08-11T21:33:31.024540Z",
     "iopub.status.idle": "2025-08-11T21:33:31.027315Z",
     "shell.execute_reply": "2025-08-11T21:33:31.026837Z"
    }
   },
   "outputs": [
    {
     "name": "stdout",
     "output_type": "stream",
     "text": [
      "[1, 2, 3, 4, 5, 6, 7, 8]\n"
     ]
    }
   ],
   "source": [
    "a=[1,2,3,4,5]\n",
    "a.extend([6,7,8])\n",
    "print (a)"
   ]
  },
  {
   "cell_type": "markdown",
   "metadata": {},
   "source": [
    "The same behavior will happen even if the list as it is is already made up of multiple types."
   ]
  },
  {
   "cell_type": "code",
   "execution_count": 30,
   "metadata": {
    "execution": {
     "iopub.execute_input": "2025-08-11T21:33:31.028660Z",
     "iopub.status.busy": "2025-08-11T21:33:31.028519Z",
     "iopub.status.idle": "2025-08-11T21:33:31.031300Z",
     "shell.execute_reply": "2025-08-11T21:33:31.030823Z"
    }
   },
   "outputs": [
    {
     "name": "stdout",
     "output_type": "stream",
     "text": [
      "[[2.3, 3.4, 5.5, 12.4, 33], 5, [3, '4stuff', 5.9]]\n",
      "[[2.3, 3.4, 5.5, 12.4, 33], 5, [3, '4stuff', 5.9], [5, 6, 7, 8, 9]]\n"
     ]
    }
   ],
   "source": [
    "print (d)\n",
    "d.append([5,6,7,8,9])\n",
    "print (d)"
   ]
  },
  {
   "cell_type": "markdown",
   "metadata": {},
   "source": [
    "We can create an empty list two ways"
   ]
  },
  {
   "cell_type": "code",
   "execution_count": 31,
   "metadata": {
    "execution": {
     "iopub.execute_input": "2025-08-11T21:33:31.032597Z",
     "iopub.status.busy": "2025-08-11T21:33:31.032455Z",
     "iopub.status.idle": "2025-08-11T21:33:31.035269Z",
     "shell.execute_reply": "2025-08-11T21:33:31.034771Z"
    }
   },
   "outputs": [
    {
     "name": "stdout",
     "output_type": "stream",
     "text": [
      "<class 'list'> []\n",
      "<class 'list'> []\n"
     ]
    }
   ],
   "source": [
    "a = list()\n",
    "print (type(a),  a)\n",
    "b = []\n",
    "print (type(b), b)"
   ]
  },
  {
   "cell_type": "code",
   "execution_count": 32,
   "metadata": {
    "execution": {
     "iopub.execute_input": "2025-08-11T21:33:31.036503Z",
     "iopub.status.busy": "2025-08-11T21:33:31.036363Z",
     "iopub.status.idle": "2025-08-11T21:33:31.038950Z",
     "shell.execute_reply": "2025-08-11T21:33:31.038474Z"
    }
   },
   "outputs": [
    {
     "name": "stdout",
     "output_type": "stream",
     "text": [
      "['stuff', 99]\n"
     ]
    }
   ],
   "source": [
    "a.append('stuff')\n",
    "a.append(99)\n",
    "print (a)"
   ]
  },
  {
   "cell_type": "code",
   "execution_count": 33,
   "metadata": {
    "execution": {
     "iopub.execute_input": "2025-08-11T21:33:31.040260Z",
     "iopub.status.busy": "2025-08-11T21:33:31.040095Z",
     "iopub.status.idle": "2025-08-11T21:33:31.043308Z",
     "shell.execute_reply": "2025-08-11T21:33:31.042819Z"
    }
   },
   "outputs": [
    {
     "data": {
      "text/plain": [
       "[0, 8]"
      ]
     },
     "execution_count": 33,
     "metadata": {},
     "output_type": "execute_result"
    }
   ],
   "source": [
    "aaa = [0]\n",
    "aaa.append(8)\n",
    "aaa"
   ]
  },
  {
   "cell_type": "markdown",
   "metadata": {},
   "source": [
    "We can also add and remove elements from lists in a couple ways:"
   ]
  },
  {
   "cell_type": "code",
   "execution_count": 34,
   "metadata": {
    "execution": {
     "iopub.execute_input": "2025-08-11T21:33:31.044571Z",
     "iopub.status.busy": "2025-08-11T21:33:31.044430Z",
     "iopub.status.idle": "2025-08-11T21:33:31.047329Z",
     "shell.execute_reply": "2025-08-11T21:33:31.046948Z"
    }
   },
   "outputs": [
    {
     "data": {
      "text/plain": [
       "['stuff', 99]"
      ]
     },
     "execution_count": 34,
     "metadata": {},
     "output_type": "execute_result"
    }
   ],
   "source": [
    "a"
   ]
  },
  {
   "cell_type": "code",
   "execution_count": 35,
   "metadata": {
    "execution": {
     "iopub.execute_input": "2025-08-11T21:33:31.048718Z",
     "iopub.status.busy": "2025-08-11T21:33:31.048584Z",
     "iopub.status.idle": "2025-08-11T21:33:31.051983Z",
     "shell.execute_reply": "2025-08-11T21:33:31.051607Z"
    }
   },
   "outputs": [
    {
     "name": "stdout",
     "output_type": "stream",
     "text": [
      "1\n"
     ]
    },
    {
     "data": {
      "text/plain": [
       "[2, 99, 2, 99, 'stuff']"
      ]
     },
     "execution_count": 35,
     "metadata": {},
     "output_type": "execute_result"
    }
   ],
   "source": [
    "a = [ 2,99,2,99, 'stuff']\n",
    "print (a.index(99))\n",
    "a"
   ]
  },
  {
   "cell_type": "code",
   "execution_count": 36,
   "metadata": {
    "execution": {
     "iopub.execute_input": "2025-08-11T21:33:31.053302Z",
     "iopub.status.busy": "2025-08-11T21:33:31.053166Z",
     "iopub.status.idle": "2025-08-11T21:33:31.055750Z",
     "shell.execute_reply": "2025-08-11T21:33:31.055373Z"
    }
   },
   "outputs": [
    {
     "name": "stdout",
     "output_type": "stream",
     "text": [
      "1\n",
      "4\n",
      "['newstuff', 2, 99, 2, 99, 'stuff']\n"
     ]
    }
   ],
   "source": [
    "# index tells us where in a list a specific value resides\n",
    "print (a.index(99))\n",
    "print (a.index('stuff'))\n",
    "# insert can add a value -- note that this shifts the list over\n",
    "a.insert(0, 'newstuff')\n",
    "print (a)"
   ]
  },
  {
   "cell_type": "code",
   "execution_count": 37,
   "metadata": {
    "execution": {
     "iopub.execute_input": "2025-08-11T21:33:31.057004Z",
     "iopub.status.busy": "2025-08-11T21:33:31.056872Z",
     "iopub.status.idle": "2025-08-11T21:33:31.060607Z",
     "shell.execute_reply": "2025-08-11T21:33:31.060218Z"
    }
   },
   "outputs": [
    {
     "name": "stdout",
     "output_type": "stream",
     "text": [
      "[99999, 2, 99, 2, 99, 'stuff']\n",
      "99\n"
     ]
    },
    {
     "data": {
      "text/plain": [
       "[99999, 2, 99, 2, 'stuff']"
      ]
     },
     "execution_count": 37,
     "metadata": {},
     "output_type": "execute_result"
    }
   ],
   "source": [
    "a[0] = 99999\n",
    "print (a)\n",
    "b = a.pop(4)  #remove item in position 4 and assign to b\n",
    "print (b)\n",
    "a"
   ]
  },
  {
   "cell_type": "markdown",
   "metadata": {},
   "source": [
    "### Tuples\n",
    "A similar construction to a `list` is a `tuple`. A `tuple` is defined using regular parentheses (`()`). The key differences is tuples are *immutable*.\n"
   ]
  },
  {
   "cell_type": "code",
   "execution_count": 38,
   "metadata": {
    "execution": {
     "iopub.execute_input": "2025-08-11T21:33:31.061864Z",
     "iopub.status.busy": "2025-08-11T21:33:31.061735Z",
     "iopub.status.idle": "2025-08-11T21:33:31.064600Z",
     "shell.execute_reply": "2025-08-11T21:33:31.064201Z"
    }
   },
   "outputs": [
    {
     "name": "stdout",
     "output_type": "stream",
     "text": [
      "<class 'list'>\n",
      "[3, 4, 5]\n",
      "[999, 4, 5]\n"
     ]
    }
   ],
   "source": [
    "# we can make a list\n",
    "a = [3,4,5]\n",
    "print (type(a))\n",
    "print (a)\n",
    "# it's mutable meaning we can change it in place\n",
    "a[0] = 999\n",
    "print (a)"
   ]
  },
  {
   "cell_type": "code",
   "execution_count": 39,
   "metadata": {
    "execution": {
     "iopub.execute_input": "2025-08-11T21:33:31.065985Z",
     "iopub.status.busy": "2025-08-11T21:33:31.065834Z",
     "iopub.status.idle": "2025-08-11T21:33:31.225244Z",
     "shell.execute_reply": "2025-08-11T21:33:31.224812Z"
    }
   },
   "outputs": [
    {
     "name": "stdout",
     "output_type": "stream",
     "text": [
      "<class 'tuple'>\n",
      "(3, 4, 5)\n",
      "3\n"
     ]
    },
    {
     "ename": "TypeError",
     "evalue": "'tuple' object does not support item assignment",
     "output_type": "error",
     "traceback": [
      "\u001b[31m---------------------------------------------------------------------------\u001b[39m",
      "\u001b[31mTypeError\u001b[39m                                 Traceback (most recent call last)",
      "\u001b[36mCell\u001b[39m\u001b[36m \u001b[39m\u001b[32mIn[39]\u001b[39m\u001b[32m, line 8\u001b[39m\n\u001b[32m      6\u001b[39m \u001b[38;5;28mprint\u001b[39m (a[\u001b[32m0\u001b[39m])\n\u001b[32m      7\u001b[39m \u001b[38;5;66;03m# but we cannot change values in place\u001b[39;00m\n\u001b[32m----> \u001b[39m\u001b[32m8\u001b[39m \u001b[43ma\u001b[49m\u001b[43m[\u001b[49m\u001b[32;43m0\u001b[39;49m\u001b[43m]\u001b[49m = \u001b[32m999\u001b[39m\n",
      "\u001b[31mTypeError\u001b[39m: 'tuple' object does not support item assignment"
     ]
    }
   ],
   "source": [
    "# a tuple is similar\n",
    "a = (3,4,5)\n",
    "print(type(a))\n",
    "print (a)\n",
    "# we can dereference values from it in the same way as we would a list\n",
    "print (a[0])\n",
    "# but we cannot change values in place\n",
    "a[0] = 999"
   ]
  },
  {
   "cell_type": "code",
   "execution_count": 40,
   "metadata": {
    "execution": {
     "iopub.execute_input": "2025-08-11T21:33:31.226725Z",
     "iopub.status.busy": "2025-08-11T21:33:31.226566Z",
     "iopub.status.idle": "2025-08-11T21:33:31.229589Z",
     "shell.execute_reply": "2025-08-11T21:33:31.229076Z"
    }
   },
   "outputs": [
    {
     "name": "stdout",
     "output_type": "stream",
     "text": [
      "<class 'tuple'>\n",
      "<class 'list'>\n"
     ]
    }
   ],
   "source": [
    "a=(1,'howdy')\n",
    "b=list(a)\n",
    "print (type(a))\n",
    "print (type(b))"
   ]
  },
  {
   "cell_type": "markdown",
   "metadata": {},
   "source": [
    "We won't talk very much about `tuples` except to say that they are sometimes required as input to functions, sometimes functions return them, and they can be useful for other reasons. Also, they can be constructed using `zip` to pull together a couple `lists`."
   ]
  },
  {
   "cell_type": "code",
   "execution_count": 41,
   "metadata": {
    "execution": {
     "iopub.execute_input": "2025-08-11T21:33:31.230951Z",
     "iopub.status.busy": "2025-08-11T21:33:31.230806Z",
     "iopub.status.idle": "2025-08-11T21:33:31.233645Z",
     "shell.execute_reply": "2025-08-11T21:33:31.233246Z"
    }
   },
   "outputs": [
    {
     "name": "stdout",
     "output_type": "stream",
     "text": [
      "<zip object at 0x7fa110804200>\n",
      "<class 'zip'>\n",
      "(1, 11, 111)\n",
      "(2, 22, 222)\n"
     ]
    }
   ],
   "source": [
    "a = zip([1,2],[11,22],[111,222])\n",
    "print (a)\n",
    "print(type(a))\n",
    "for b in a:\n",
    "    print(b)"
   ]
  },
  {
   "cell_type": "markdown",
   "metadata": {},
   "source": [
    "We can also assign tuples without using parentheses, although it's kind of sloppy. We can unpack a tuple into multiple variables."
   ]
  },
  {
   "cell_type": "code",
   "execution_count": 42,
   "metadata": {
    "execution": {
     "iopub.execute_input": "2025-08-11T21:33:31.234946Z",
     "iopub.status.busy": "2025-08-11T21:33:31.234803Z",
     "iopub.status.idle": "2025-08-11T21:33:31.237525Z",
     "shell.execute_reply": "2025-08-11T21:33:31.237132Z"
    }
   },
   "outputs": [
    {
     "name": "stdout",
     "output_type": "stream",
     "text": [
      "(5, 6, 7)\n",
      "5\n",
      "6\n",
      "7\n"
     ]
    }
   ],
   "source": [
    "a = 5,6,7\n",
    "val1, val2, val3 = a\n",
    "print (a)\n",
    "print (val1)\n",
    "print (val2)\n",
    "print (val3)\n"
   ]
  },
  {
   "cell_type": "markdown",
   "metadata": {},
   "source": [
    "This can be done all at once as well!"
   ]
  },
  {
   "cell_type": "code",
   "execution_count": 43,
   "metadata": {
    "execution": {
     "iopub.execute_input": "2025-08-11T21:33:31.238874Z",
     "iopub.status.busy": "2025-08-11T21:33:31.238736Z",
     "iopub.status.idle": "2025-08-11T21:33:31.241276Z",
     "shell.execute_reply": "2025-08-11T21:33:31.240868Z"
    }
   },
   "outputs": [
    {
     "name": "stdout",
     "output_type": "stream",
     "text": [
      "5\n",
      "6\n",
      "7\n"
     ]
    }
   ],
   "source": [
    "val1, val2, val3 = 5,6,7\n",
    "print (val1)\n",
    "print (val2)\n",
    "print (val3)"
   ]
  },
  {
   "cell_type": "markdown",
   "metadata": {},
   "source": [
    "### Dictionaries\n",
    "\n",
    "Dictionaries are also like lists, except that each element is a key-value pair. The syntax for dictionaries is `{key1 : value1, ...}`:"
   ]
  },
  {
   "cell_type": "code",
   "execution_count": 44,
   "metadata": {
    "execution": {
     "iopub.execute_input": "2025-08-11T21:33:31.242578Z",
     "iopub.status.busy": "2025-08-11T21:33:31.242444Z",
     "iopub.status.idle": "2025-08-11T21:33:31.245501Z",
     "shell.execute_reply": "2025-08-11T21:33:31.245079Z"
    }
   },
   "outputs": [
    {
     "name": "stdout",
     "output_type": "stream",
     "text": [
      "<class 'dict'>\n",
      "{'parameter1': 1.0, 'parameter2': 2.0, 'parameter3': 3.0}\n",
      "{'parameter1': 1.0, 'parameter2': 2.0, 'parameter3': 3.0}\n"
     ]
    }
   ],
   "source": [
    "params = {\"parameter1\" : 1.0,\n",
    "          \"parameter2\" : 2.0,\n",
    "          \"parameter3\" : 3.0,}\n",
    "\n",
    "print(type(params))\n",
    "print(params)\n",
    "\n",
    "parlist = [ 1.0, 2.0, 3.0]\n",
    "print (params)"
   ]
  },
  {
   "cell_type": "code",
   "execution_count": 45,
   "metadata": {
    "execution": {
     "iopub.execute_input": "2025-08-11T21:33:31.246808Z",
     "iopub.status.busy": "2025-08-11T21:33:31.246658Z",
     "iopub.status.idle": "2025-08-11T21:33:31.249795Z",
     "shell.execute_reply": "2025-08-11T21:33:31.249322Z"
    }
   },
   "outputs": [
    {
     "data": {
      "text/plain": [
       "dict_items([('parameter1', 1.0), ('parameter2', 2.0), ('parameter3', 3.0)])"
      ]
     },
     "execution_count": 45,
     "metadata": {},
     "output_type": "execute_result"
    }
   ],
   "source": [
    "params.items()"
   ]
  },
  {
   "cell_type": "markdown",
   "metadata": {},
   "source": [
    "The keys can be obtained separate from their values as a list."
   ]
  },
  {
   "cell_type": "code",
   "execution_count": 46,
   "metadata": {
    "execution": {
     "iopub.execute_input": "2025-08-11T21:33:31.251169Z",
     "iopub.status.busy": "2025-08-11T21:33:31.251015Z",
     "iopub.status.idle": "2025-08-11T21:33:31.253635Z",
     "shell.execute_reply": "2025-08-11T21:33:31.253231Z"
    }
   },
   "outputs": [
    {
     "name": "stdout",
     "output_type": "stream",
     "text": [
      "parameter1\n",
      "parameter2\n",
      "parameter3\n"
     ]
    }
   ],
   "source": [
    "for i in params.keys():\n",
    "    print (i)\n"
   ]
  },
  {
   "cell_type": "code",
   "execution_count": 47,
   "metadata": {
    "execution": {
     "iopub.execute_input": "2025-08-11T21:33:31.254833Z",
     "iopub.status.busy": "2025-08-11T21:33:31.254700Z",
     "iopub.status.idle": "2025-08-11T21:33:31.256833Z",
     "shell.execute_reply": "2025-08-11T21:33:31.256465Z"
    }
   },
   "outputs": [],
   "source": [
    "ckeys = [i for i in params.keys()]"
   ]
  },
  {
   "cell_type": "code",
   "execution_count": 48,
   "metadata": {
    "execution": {
     "iopub.execute_input": "2025-08-11T21:33:31.258127Z",
     "iopub.status.busy": "2025-08-11T21:33:31.257963Z",
     "iopub.status.idle": "2025-08-11T21:33:31.261086Z",
     "shell.execute_reply": "2025-08-11T21:33:31.260693Z"
    }
   },
   "outputs": [
    {
     "data": {
      "text/plain": [
       "2.0"
      ]
     },
     "execution_count": 48,
     "metadata": {},
     "output_type": "execute_result"
    }
   ],
   "source": [
    "params[ckeys[1]]"
   ]
  },
  {
   "cell_type": "code",
   "execution_count": 49,
   "metadata": {
    "execution": {
     "iopub.execute_input": "2025-08-11T21:33:31.262347Z",
     "iopub.status.busy": "2025-08-11T21:33:31.262204Z",
     "iopub.status.idle": "2025-08-11T21:33:31.265120Z",
     "shell.execute_reply": "2025-08-11T21:33:31.264691Z"
    }
   },
   "outputs": [
    {
     "name": "stdout",
     "output_type": "stream",
     "text": [
      "parameter1 = 1.0\n",
      "parameter2 = 2.0\n",
      "parameter3 = 3.0\n"
     ]
    }
   ],
   "source": [
    "print(\"parameter1 = \" + str(params[\"parameter1\"]))\n",
    "print(\"parameter2 = \" + str(params[\"parameter2\"]))\n",
    "print(\"parameter3 = \" + str(params[\"parameter3\"]))"
   ]
  },
  {
   "cell_type": "markdown",
   "metadata": {},
   "source": [
    "Can also get just the values"
   ]
  },
  {
   "cell_type": "code",
   "execution_count": 50,
   "metadata": {
    "execution": {
     "iopub.execute_input": "2025-08-11T21:33:31.266396Z",
     "iopub.status.busy": "2025-08-11T21:33:31.266249Z",
     "iopub.status.idle": "2025-08-11T21:33:31.269362Z",
     "shell.execute_reply": "2025-08-11T21:33:31.268873Z"
    }
   },
   "outputs": [
    {
     "data": {
      "text/plain": [
       "dict_values([1.0, 2.0, 3.0])"
      ]
     },
     "execution_count": 50,
     "metadata": {},
     "output_type": "execute_result"
    }
   ],
   "source": [
    "params.values()"
   ]
  },
  {
   "cell_type": "markdown",
   "metadata": {},
   "source": [
    "Or everyone's favorite....`tuples`! `.items()` returns tuples of the key, values pairs"
   ]
  },
  {
   "cell_type": "code",
   "execution_count": 51,
   "metadata": {
    "execution": {
     "iopub.execute_input": "2025-08-11T21:33:31.270764Z",
     "iopub.status.busy": "2025-08-11T21:33:31.270625Z",
     "iopub.status.idle": "2025-08-11T21:33:31.273656Z",
     "shell.execute_reply": "2025-08-11T21:33:31.273165Z"
    }
   },
   "outputs": [
    {
     "data": {
      "text/plain": [
       "dict_items([('parameter1', 1.0), ('parameter2', 2.0), ('parameter3', 3.0)])"
      ]
     },
     "execution_count": 51,
     "metadata": {},
     "output_type": "execute_result"
    }
   ],
   "source": [
    "params.items()"
   ]
  },
  {
   "cell_type": "code",
   "execution_count": 52,
   "metadata": {
    "execution": {
     "iopub.execute_input": "2025-08-11T21:33:31.275020Z",
     "iopub.status.busy": "2025-08-11T21:33:31.274881Z",
     "iopub.status.idle": "2025-08-11T21:33:31.277904Z",
     "shell.execute_reply": "2025-08-11T21:33:31.277532Z"
    }
   },
   "outputs": [
    {
     "name": "stdout",
     "output_type": "stream",
     "text": [
      "parameter1 = A\n",
      "parameter2 = B\n",
      "parameter3 = 3.0\n",
      "parameter4 = D\n"
     ]
    }
   ],
   "source": [
    "params[\"parameter1\"] = \"A\"\n",
    "params[\"parameter2\"] = \"B\"\n",
    "\n",
    "# add a new entry\n",
    "params[\"parameter4\"] = \"D\"\n",
    "\n",
    "print(\"parameter1 = \" + str(params[\"parameter1\"]))\n",
    "print(\"parameter2 = \" + str(params[\"parameter2\"]))\n",
    "print(\"parameter3 = \" + str(params[\"parameter3\"]))\n",
    "print(\"parameter4 = \" + str(params[\"parameter4\"]))"
   ]
  },
  {
   "cell_type": "markdown",
   "metadata": {},
   "source": [
    "#### A trick using `zip` and `dict` ####\n",
    "Say we have two lists -- one of which is a set of keys and another is accompanying values (like we read them in from two columns in a spreadsheet)"
   ]
  },
  {
   "cell_type": "code",
   "execution_count": 53,
   "metadata": {
    "execution": {
     "iopub.execute_input": "2025-08-11T21:33:31.279225Z",
     "iopub.status.busy": "2025-08-11T21:33:31.279063Z",
     "iopub.status.idle": "2025-08-11T21:33:31.282393Z",
     "shell.execute_reply": "2025-08-11T21:33:31.282002Z"
    }
   },
   "outputs": [
    {
     "data": {
      "text/plain": [
       "{'HK': 1.2e-06, 'VKA': 0.001, 'RCH': 1.9e-09, 'COND': 4.0}"
      ]
     },
     "execution_count": 53,
     "metadata": {},
     "output_type": "execute_result"
    }
   ],
   "source": [
    "keys = ['HK','VKA','RCH','COND']\n",
    "vals = [1.2e-6, 0.001, 1.9e-9, 4.0]\n",
    "MFdict = dict(zip(keys,vals))\n",
    "MFdict"
   ]
  },
  {
   "cell_type": "markdown",
   "metadata": {},
   "source": [
    "## Process Flow\n",
    "We will cover conditional statements and a variety of loop types.\n",
    "### Conditional statements: if, elif, else\n",
    "\n",
    "The Python syntax for conditional execution of code use the keywords `if`, `elif` (else if), `else`:"
   ]
  },
  {
   "cell_type": "code",
   "execution_count": 54,
   "metadata": {
    "execution": {
     "iopub.execute_input": "2025-08-11T21:33:31.283691Z",
     "iopub.status.busy": "2025-08-11T21:33:31.283556Z",
     "iopub.status.idle": "2025-08-11T21:33:31.286512Z",
     "shell.execute_reply": "2025-08-11T21:33:31.286097Z"
    }
   },
   "outputs": [
    {
     "name": "stdout",
     "output_type": "stream",
     "text": [
      "statement1 is True\n"
     ]
    }
   ],
   "source": [
    "statement1 = True\n",
    "statement2 = True\n",
    "\n",
    "if statement1==True:\n",
    "    print(\"statement1 is True\")\n",
    "    \n",
    "elif statement2==True:\n",
    "    print(\"statement2 is True\")\n",
    "    \n",
    "else:\n",
    "    print(\"statement1 and statement2 are False\")"
   ]
  },
  {
   "cell_type": "markdown",
   "metadata": {},
   "source": [
    "There are a couple critical things to see here. \n",
    "\n",
    "1. There is no `end if ` or other closing of the statement. This is all controlled by indentation.\n",
    "2. Each statement ends in a `':'`\n"
   ]
  },
  {
   "cell_type": "code",
   "execution_count": 55,
   "metadata": {
    "execution": {
     "iopub.execute_input": "2025-08-11T21:33:31.287760Z",
     "iopub.status.busy": "2025-08-11T21:33:31.287617Z",
     "iopub.status.idle": "2025-08-11T21:33:31.290705Z",
     "shell.execute_reply": "2025-08-11T21:33:31.290246Z"
    }
   },
   "outputs": [
    {
     "data": {
      "text/plain": [
       "True"
      ]
     },
     "execution_count": 55,
     "metadata": {},
     "output_type": "execute_result"
    }
   ],
   "source": [
    "statement1 or statement2"
   ]
  },
  {
   "cell_type": "code",
   "execution_count": 56,
   "metadata": {
    "execution": {
     "iopub.execute_input": "2025-08-11T21:33:31.292135Z",
     "iopub.status.busy": "2025-08-11T21:33:31.291964Z",
     "iopub.status.idle": "2025-08-11T21:33:31.294986Z",
     "shell.execute_reply": "2025-08-11T21:33:31.294530Z"
    }
   },
   "outputs": [
    {
     "data": {
      "text/plain": [
       "False"
      ]
     },
     "execution_count": 56,
     "metadata": {},
     "output_type": "execute_result"
    }
   ],
   "source": [
    "not statement2"
   ]
  },
  {
   "cell_type": "markdown",
   "metadata": {},
   "source": [
    "Rather than just `True` or `False`, we can check for equivalence to other values.\n",
    "\n",
    "1. '`==`' indicates test for equality\n",
    "2. '`!=`' indicates test for nonequality"
   ]
  },
  {
   "cell_type": "code",
   "execution_count": 57,
   "metadata": {
    "execution": {
     "iopub.execute_input": "2025-08-11T21:33:31.296323Z",
     "iopub.status.busy": "2025-08-11T21:33:31.296179Z",
     "iopub.status.idle": "2025-08-11T21:33:31.299503Z",
     "shell.execute_reply": "2025-08-11T21:33:31.299121Z"
    }
   },
   "outputs": [
    {
     "name": "stdout",
     "output_type": "stream",
     "text": [
      "5\n"
     ]
    },
    {
     "data": {
      "text/plain": [
       "True"
      ]
     },
     "execution_count": 57,
     "metadata": {},
     "output_type": "execute_result"
    }
   ],
   "source": [
    "a = 5\n",
    "print (a)\n",
    "a!=5.01"
   ]
  },
  {
   "cell_type": "code",
   "execution_count": 58,
   "metadata": {
    "execution": {
     "iopub.execute_input": "2025-08-11T21:33:31.300774Z",
     "iopub.status.busy": "2025-08-11T21:33:31.300627Z",
     "iopub.status.idle": "2025-08-11T21:33:31.303584Z",
     "shell.execute_reply": "2025-08-11T21:33:31.303116Z"
    }
   },
   "outputs": [
    {
     "name": "stdout",
     "output_type": "stream",
     "text": [
      "neither \"junky\" nor 5\n",
      "wow - it worked?\n"
     ]
    }
   ],
   "source": [
    "statement1 = 5.2\n",
    "\n",
    "if statement1 == 'junk':\n",
    "    print ('junky')\n",
    "       \n",
    "elif statement1 != 5:\n",
    "    print ('neither \"junky\" nor 5')\n",
    "else:\n",
    "    print ('must be 5 eh?')\n",
    "print ('wow - it worked?')"
   ]
  },
  {
   "cell_type": "markdown",
   "metadata": {},
   "source": [
    "### An aside on indentation\n",
    "Technically, tabs or any *consistent* number of spaces can be used to control indentation. A casual standard is using 4 spaces. Many editors replace tabs with spaces to be safe. \n",
    "\n",
    "The level of indentation defines blocks without requiring a symbol or word to close a block or loop."
   ]
  },
  {
   "cell_type": "markdown",
   "metadata": {},
   "source": [
    "####  few examples of indentation behavior:"
   ]
  },
  {
   "cell_type": "code",
   "execution_count": 59,
   "metadata": {
    "execution": {
     "iopub.execute_input": "2025-08-11T21:33:31.304927Z",
     "iopub.status.busy": "2025-08-11T21:33:31.304797Z",
     "iopub.status.idle": "2025-08-11T21:33:31.307641Z",
     "shell.execute_reply": "2025-08-11T21:33:31.307136Z"
    }
   },
   "outputs": [
    {
     "name": "stdout",
     "output_type": "stream",
     "text": [
      "both statement1 and statement2 are True\n",
      "True\n"
     ]
    }
   ],
   "source": [
    "statement1 = True\n",
    "statement2 = True\n",
    "\n",
    "if statement1==True:\n",
    "    if statement2==True:\n",
    "        print(\"both statement1 and statement2 are True\")\n",
    "print( statement2)"
   ]
  },
  {
   "cell_type": "code",
   "execution_count": 60,
   "metadata": {
    "execution": {
     "iopub.execute_input": "2025-08-11T21:33:31.309025Z",
     "iopub.status.busy": "2025-08-11T21:33:31.308872Z",
     "iopub.status.idle": "2025-08-11T21:33:31.312121Z",
     "shell.execute_reply": "2025-08-11T21:33:31.311609Z"
    }
   },
   "outputs": [
    {
     "ename": "IndentationError",
     "evalue": "expected an indented block after 'if' statement on line 3 (2973964442.py, line 4)",
     "output_type": "error",
     "traceback": [
      "  \u001b[36mCell\u001b[39m\u001b[36m \u001b[39m\u001b[32mIn[60]\u001b[39m\u001b[32m, line 4\u001b[39m\n\u001b[31m    \u001b[39m\u001b[31mprint(\"both statement1 and statement2 are True\")  # this line is not properly indented\u001b[39m\n    ^\n\u001b[31mIndentationError\u001b[39m\u001b[31m:\u001b[39m expected an indented block after 'if' statement on line 3\n"
     ]
    }
   ],
   "source": [
    "# Bad indentation!\n",
    "if statement1==True:\n",
    "    if statement2==True:\n",
    "    print(\"both statement1 and statement2 are True\")  # this line is not properly indented"
   ]
  },
  {
   "cell_type": "code",
   "execution_count": 61,
   "metadata": {
    "execution": {
     "iopub.execute_input": "2025-08-11T21:33:31.313503Z",
     "iopub.status.busy": "2025-08-11T21:33:31.313362Z",
     "iopub.status.idle": "2025-08-11T21:33:31.315844Z",
     "shell.execute_reply": "2025-08-11T21:33:31.315466Z"
    }
   },
   "outputs": [
    {
     "name": "stdout",
     "output_type": "stream",
     "text": [
      "printed if statement1 is True\n",
      "Trying to say False but still inside the if block\n"
     ]
    }
   ],
   "source": [
    "statement1 = True \n",
    "\n",
    "if statement1==True:\n",
    "    print(\"printed if statement1 is True\")\n",
    "    \n",
    "    print(\"Trying to say False but still inside the if block\")"
   ]
  },
  {
   "cell_type": "code",
   "execution_count": 62,
   "metadata": {
    "execution": {
     "iopub.execute_input": "2025-08-11T21:33:31.317098Z",
     "iopub.status.busy": "2025-08-11T21:33:31.316952Z",
     "iopub.status.idle": "2025-08-11T21:33:31.319625Z",
     "shell.execute_reply": "2025-08-11T21:33:31.319168Z"
    }
   },
   "outputs": [
    {
     "name": "stdout",
     "output_type": "stream",
     "text": [
      "printed if statement1 is True\n",
      "Statement 1 is false --- printed now outside the if block\n"
     ]
    }
   ],
   "source": [
    "if statement1:\n",
    "    print(\"printed if statement1 is True\")\n",
    "    \n",
    "print(\"Statement 1 is false --- printed now outside the if block\")"
   ]
  },
  {
   "cell_type": "markdown",
   "metadata": {},
   "source": [
    "## Loops\n",
    "\n",
    "In Python, loops can be programmed in a number of different ways. The most common is the `for` loop, which is used together with iterable objects, such as lists. The basic syntax is:\n",
    "\n",
    "\n",
    "**`for` loops**:"
   ]
  },
  {
   "cell_type": "code",
   "execution_count": 63,
   "metadata": {
    "execution": {
     "iopub.execute_input": "2025-08-11T21:33:31.320946Z",
     "iopub.status.busy": "2025-08-11T21:33:31.320803Z",
     "iopub.status.idle": "2025-08-11T21:33:31.323521Z",
     "shell.execute_reply": "2025-08-11T21:33:31.323020Z"
    }
   },
   "outputs": [
    {
     "name": "stdout",
     "output_type": "stream",
     "text": [
      "1\n",
      "2\n",
      "[9, 8, 0]\n",
      "4\n"
     ]
    }
   ],
   "source": [
    "for i in [1,2,[9,8,0],4]:\n",
    "    print (i)"
   ]
  },
  {
   "cell_type": "markdown",
   "metadata": {},
   "source": [
    "The `for` loop iterates over the elements of the supplied list, and executes the containing block once for each element. Note the same indentation rules as for `if` statements. \n",
    "\n",
    "Any kind of list can be used in the `for` loop. For example:"
   ]
  },
  {
   "cell_type": "code",
   "execution_count": 64,
   "metadata": {
    "execution": {
     "iopub.execute_input": "2025-08-11T21:33:31.324956Z",
     "iopub.status.busy": "2025-08-11T21:33:31.324826Z",
     "iopub.status.idle": "2025-08-11T21:33:31.327891Z",
     "shell.execute_reply": "2025-08-11T21:33:31.327503Z"
    }
   },
   "outputs": [
    {
     "data": {
      "text/plain": [
       "range(0, 4)"
      ]
     },
     "execution_count": 64,
     "metadata": {},
     "output_type": "execute_result"
    }
   ],
   "source": [
    "range(4)"
   ]
  },
  {
   "cell_type": "code",
   "execution_count": 65,
   "metadata": {
    "execution": {
     "iopub.execute_input": "2025-08-11T21:33:31.329133Z",
     "iopub.status.busy": "2025-08-11T21:33:31.328969Z",
     "iopub.status.idle": "2025-08-11T21:33:31.331894Z",
     "shell.execute_reply": "2025-08-11T21:33:31.331408Z"
    }
   },
   "outputs": [
    {
     "name": "stdout",
     "output_type": "stream",
     "text": [
      "0\n",
      "1\n",
      "2\n",
      "3\n",
      "------------\n",
      "4 is missing but the length is 4\n"
     ]
    }
   ],
   "source": [
    "for x in range(4): # by default range start at 0\n",
    "    print(x)\n",
    "print ('-'*12)\n",
    "print ('4 is missing but the length is {0}'.format(len(range(4))))"
   ]
  },
  {
   "cell_type": "markdown",
   "metadata": {},
   "source": [
    "Uh oh! Where is 4? `range` constructions do not include the final value. This takes some getting used to! \n",
    "\n",
    "There is a long discussion here: http://stackoverflow.com/questions/4504662/why-does-rangestart-end-not-include-end\n",
    "\n",
    "Suffice it to say that the length of a range is the number stated and this is all related to zero indexing.\n",
    "\n",
    "Ranges can also start at values other than 0, but still never include the final value."
   ]
  },
  {
   "cell_type": "code",
   "execution_count": 66,
   "metadata": {
    "execution": {
     "iopub.execute_input": "2025-08-11T21:33:31.333311Z",
     "iopub.status.busy": "2025-08-11T21:33:31.333148Z",
     "iopub.status.idle": "2025-08-11T21:33:31.335771Z",
     "shell.execute_reply": "2025-08-11T21:33:31.335283Z"
    }
   },
   "outputs": [
    {
     "name": "stdout",
     "output_type": "stream",
     "text": [
      "-3\n",
      "-2\n",
      "-1\n",
      "0\n",
      "1\n",
      "2\n"
     ]
    }
   ],
   "source": [
    "for x in range(-3,3):\n",
    "    print(x)"
   ]
  },
  {
   "cell_type": "markdown",
   "metadata": {},
   "source": [
    "Notice that we aren't using an index like `i` to dereference items from the list. Rather, we are just iterating over those items. They need not be numbers."
   ]
  },
  {
   "cell_type": "code",
   "execution_count": 67,
   "metadata": {
    "execution": {
     "iopub.execute_input": "2025-08-11T21:33:31.337121Z",
     "iopub.status.busy": "2025-08-11T21:33:31.336963Z",
     "iopub.status.idle": "2025-08-11T21:33:31.339645Z",
     "shell.execute_reply": "2025-08-11T21:33:31.339171Z"
    }
   },
   "outputs": [
    {
     "name": "stdout",
     "output_type": "stream",
     "text": [
      "This\n",
      "is\n",
      "different\n",
      "than\n",
      "F77\n"
     ]
    }
   ],
   "source": [
    "a = ['This', 'is', 'different', 'than', 'F77']\n",
    "for word in a:\n",
    "    print (word)"
   ]
  },
  {
   "cell_type": "markdown",
   "metadata": {},
   "source": [
    "We could do this like in other languages, but quickly it becomes clear that it would be contrived."
   ]
  },
  {
   "cell_type": "code",
   "execution_count": 68,
   "metadata": {
    "execution": {
     "iopub.execute_input": "2025-08-11T21:33:31.341056Z",
     "iopub.status.busy": "2025-08-11T21:33:31.340909Z",
     "iopub.status.idle": "2025-08-11T21:33:31.343617Z",
     "shell.execute_reply": "2025-08-11T21:33:31.343128Z"
    }
   },
   "outputs": [
    {
     "name": "stdout",
     "output_type": "stream",
     "text": [
      "This\n",
      "is\n",
      "different\n",
      "than\n",
      "F77\n"
     ]
    }
   ],
   "source": [
    "for i in range(len(a)):\n",
    "    print (a[i])"
   ]
  },
  {
   "cell_type": "markdown",
   "metadata": {},
   "source": [
    "Sometimes we also need an index for some reason. We can get both using `enumerate`"
   ]
  },
  {
   "cell_type": "code",
   "execution_count": 69,
   "metadata": {
    "execution": {
     "iopub.execute_input": "2025-08-11T21:33:31.344961Z",
     "iopub.status.busy": "2025-08-11T21:33:31.344820Z",
     "iopub.status.idle": "2025-08-11T21:33:31.347186Z",
     "shell.execute_reply": "2025-08-11T21:33:31.346693Z"
    }
   },
   "outputs": [
    {
     "name": "stdout",
     "output_type": "stream",
     "text": [
      "word number 0 is \"This\"\n",
      "word number 1 is \"is\"\n",
      "word number 2 is \"different\"\n",
      "word number 3 is \"than\"\n",
      "word number 4 is \"F77\"\n"
     ]
    }
   ],
   "source": [
    "for i, word in enumerate(a):\n",
    "    print ('word number {0} is \"{1}\"'.format(i, word))"
   ]
  },
  {
   "cell_type": "markdown",
   "metadata": {},
   "source": [
    "We can also iterate over the keys of a dictionary in a couple ways. First, just iterating over the keys:"
   ]
  },
  {
   "cell_type": "code",
   "execution_count": 70,
   "metadata": {
    "execution": {
     "iopub.execute_input": "2025-08-11T21:33:31.348500Z",
     "iopub.status.busy": "2025-08-11T21:33:31.348358Z",
     "iopub.status.idle": "2025-08-11T21:33:31.350985Z",
     "shell.execute_reply": "2025-08-11T21:33:31.350513Z"
    }
   },
   "outputs": [
    {
     "name": "stdout",
     "output_type": "stream",
     "text": [
      "parameter1 = A\n",
      "parameter2 = B\n",
      "parameter3 = 3.0\n",
      "parameter4 = D\n"
     ]
    }
   ],
   "source": [
    "for key in params.keys():\n",
    "    print (key + \" = \" + str(params[key]))"
   ]
  },
  {
   "cell_type": "code",
   "execution_count": 71,
   "metadata": {
    "execution": {
     "iopub.execute_input": "2025-08-11T21:33:31.352309Z",
     "iopub.status.busy": "2025-08-11T21:33:31.352161Z",
     "iopub.status.idle": "2025-08-11T21:33:31.354565Z",
     "shell.execute_reply": "2025-08-11T21:33:31.354185Z"
    }
   },
   "outputs": [
    {
     "name": "stdout",
     "output_type": "stream",
     "text": [
      "parameter1 = A\n",
      "parameter2 = B\n",
      "parameter3 = 3.0\n",
      "parameter4 = D\n"
     ]
    }
   ],
   "source": [
    "# the following shorthand is now preferred\n",
    "for key in params:\n",
    "    print (key + \" = \" + str(params[key]))"
   ]
  },
  {
   "cell_type": "markdown",
   "metadata": {},
   "source": [
    "Second we can iterate over the items and unpack them."
   ]
  },
  {
   "cell_type": "code",
   "execution_count": 72,
   "metadata": {
    "execution": {
     "iopub.execute_input": "2025-08-11T21:33:31.355872Z",
     "iopub.status.busy": "2025-08-11T21:33:31.355738Z",
     "iopub.status.idle": "2025-08-11T21:33:31.358278Z",
     "shell.execute_reply": "2025-08-11T21:33:31.357878Z"
    }
   },
   "outputs": [
    {
     "name": "stdout",
     "output_type": "stream",
     "text": [
      "parameter1 = A\n",
      "parameter2 = B\n",
      "parameter3 = 3.0\n",
      "parameter4 = D\n"
     ]
    }
   ],
   "source": [
    "for key, val in params.items():\n",
    "    print (key + \" = \" + str(val))\n",
    "    #print (poo)"
   ]
  },
  {
   "cell_type": "markdown",
   "metadata": {},
   "source": [
    "### List Comprehension\n",
    "\n",
    "A very Pythonic and compact way to build a list using a `for` loop is using a `list comprehension`"
   ]
  },
  {
   "cell_type": "code",
   "execution_count": 73,
   "metadata": {
    "execution": {
     "iopub.execute_input": "2025-08-11T21:33:31.359588Z",
     "iopub.status.busy": "2025-08-11T21:33:31.359454Z",
     "iopub.status.idle": "2025-08-11T21:33:31.362177Z",
     "shell.execute_reply": "2025-08-11T21:33:31.361751Z"
    }
   },
   "outputs": [
    {
     "name": "stdout",
     "output_type": "stream",
     "text": [
      "[0, 1, 8, 27, 64, 125, 216, 343, 512, 729]\n"
     ]
    }
   ],
   "source": [
    "a = [x**3 for x in range(10)]\n",
    "print (a)"
   ]
  },
  {
   "cell_type": "markdown",
   "metadata": {},
   "source": [
    "You can get conditional statements into a  list comprehension -- but, once it get too complicated, it gets to be \"clever\" and it's better to be more explicit"
   ]
  },
  {
   "cell_type": "code",
   "execution_count": 74,
   "metadata": {
    "execution": {
     "iopub.execute_input": "2025-08-11T21:33:31.363440Z",
     "iopub.status.busy": "2025-08-11T21:33:31.363307Z",
     "iopub.status.idle": "2025-08-11T21:33:31.366038Z",
     "shell.execute_reply": "2025-08-11T21:33:31.365644Z"
    }
   },
   "outputs": [
    {
     "name": "stdout",
     "output_type": "stream",
     "text": [
      "[-5, -4, -3, -2, -1, 0, 1, 8, 27, 64]\n"
     ]
    }
   ],
   "source": [
    "b = [x**3 if x>0 else x for x in range(-5,5)]\n",
    "print (b)"
   ]
  },
  {
   "cell_type": "code",
   "execution_count": 75,
   "metadata": {
    "execution": {
     "iopub.execute_input": "2025-08-11T21:33:31.367266Z",
     "iopub.status.busy": "2025-08-11T21:33:31.367135Z",
     "iopub.status.idle": "2025-08-11T21:33:31.369289Z",
     "shell.execute_reply": "2025-08-11T21:33:31.368886Z"
    }
   },
   "outputs": [],
   "source": [
    "adict = dict(zip(range(10),a))"
   ]
  },
  {
   "cell_type": "code",
   "execution_count": 76,
   "metadata": {
    "execution": {
     "iopub.execute_input": "2025-08-11T21:33:31.370531Z",
     "iopub.status.busy": "2025-08-11T21:33:31.370395Z",
     "iopub.status.idle": "2025-08-11T21:33:31.373172Z",
     "shell.execute_reply": "2025-08-11T21:33:31.372746Z"
    }
   },
   "outputs": [
    {
     "name": "stdout",
     "output_type": "stream",
     "text": [
      "0^3 = 0\n",
      "1^3 = 1\n",
      "2^3 = 8\n",
      "3^3 = 27\n",
      "4^3 = 64\n",
      "5^3 = 125\n",
      "6^3 = 216\n",
      "7^3 = 343\n",
      "8^3 = 512\n",
      "9^3 = 729\n"
     ]
    }
   ],
   "source": [
    "for key, value in adict.items():\n",
    "    print (str(key) + \"^3 = \" + str(value))"
   ]
  },
  {
   "cell_type": "markdown",
   "metadata": {},
   "source": [
    "We can also do a \"dictionary comprehension\"  \n",
    "http://stackoverflow.com/questions/1747817/python-create-a-dictionary-with-list-comprehension"
   ]
  },
  {
   "cell_type": "code",
   "execution_count": 77,
   "metadata": {
    "execution": {
     "iopub.execute_input": "2025-08-11T21:33:31.374381Z",
     "iopub.status.busy": "2025-08-11T21:33:31.374253Z",
     "iopub.status.idle": "2025-08-11T21:33:31.376960Z",
     "shell.execute_reply": "2025-08-11T21:33:31.376552Z"
    }
   },
   "outputs": [
    {
     "name": "stdout",
     "output_type": "stream",
     "text": [
      "{'0^3': 0, '1^3': 1, '2^3': 8, '3^3': 27, '4^3': 64, '5^3': 125, '6^3': 216, '7^3': 343, '8^3': 512, '9^3': 729}\n"
     ]
    }
   ],
   "source": [
    "d = {str(a) + \"^3\": a**3 for a in range(10)}\n",
    "print (d)"
   ]
  },
  {
   "cell_type": "markdown",
   "metadata": {},
   "source": [
    "**`while` loops**:"
   ]
  },
  {
   "cell_type": "code",
   "execution_count": 78,
   "metadata": {
    "execution": {
     "iopub.execute_input": "2025-08-11T21:33:31.378248Z",
     "iopub.status.busy": "2025-08-11T21:33:31.378093Z",
     "iopub.status.idle": "2025-08-11T21:33:31.380538Z",
     "shell.execute_reply": "2025-08-11T21:33:31.380170Z"
    }
   },
   "outputs": [
    {
     "name": "stdout",
     "output_type": "stream",
     "text": [
      "0\n",
      "1\n",
      "2\n",
      "3\n"
     ]
    }
   ],
   "source": [
    "i = 0\n",
    "while i<4:\n",
    "    print(i)\n",
    "    i += 1 # shorthand for i = i + 1"
   ]
  },
  {
   "cell_type": "code",
   "execution_count": 79,
   "metadata": {
    "execution": {
     "iopub.execute_input": "2025-08-11T21:33:31.381824Z",
     "iopub.status.busy": "2025-08-11T21:33:31.381694Z",
     "iopub.status.idle": "2025-08-11T21:33:31.384439Z",
     "shell.execute_reply": "2025-08-11T21:33:31.384020Z"
    }
   },
   "outputs": [
    {
     "name": "stdout",
     "output_type": "stream",
     "text": [
      "howdy again\n",
      "howdy again\n",
      "howdy again\n",
      "howdy again\n",
      "howdy again\n"
     ]
    }
   ],
   "source": [
    "i = 5\n",
    "while i: # shorthand for while i != 0\n",
    "    print('howdy again')\n",
    "    i -= 1 # shorthand for i = i - 1"
   ]
  },
  {
   "cell_type": "code",
   "execution_count": 80,
   "metadata": {
    "execution": {
     "iopub.execute_input": "2025-08-11T21:33:31.385684Z",
     "iopub.status.busy": "2025-08-11T21:33:31.385555Z",
     "iopub.status.idle": "2025-08-11T21:33:31.388309Z",
     "shell.execute_reply": "2025-08-11T21:33:31.387889Z"
    }
   },
   "outputs": [
    {
     "name": "stdout",
     "output_type": "stream",
     "text": [
      "0\n",
      "2\n",
      "4\n",
      "6\n",
      "8\n",
      "10\n"
     ]
    }
   ],
   "source": [
    "i = 0\n",
    "while 3:\n",
    "    print(i)\n",
    "    i += 2\n",
    "    if i > 10:\n",
    "        break"
   ]
  },
  {
   "cell_type": "markdown",
   "metadata": {},
   "source": [
    "## HEEEEEELP!\n",
    "\n",
    "You will always need help with Python. There are so many packages, modules, functions, datatypes, and everything else it takes a while to keep it all straight, and you will always need to update \n",
    "\n",
    "1. Stackoverflow is amazing--it can be toxic at times, but the community often converges on useful answers. Here's an [example](http://stackoverflow.com/questions/5505380/most-efficient-way-to-pull-specified-rows-from-a-2-d-array).\n",
    "2. Official documentation is good, but can overwhelm.\n",
    "    \n",
    "    * Python in general: https://docs.python.org/3/contents.html\n",
    "    * numpy and scipy: http://docs.scipy.org/doc/\n",
    "    * matplotlib: https://matplotlib.org/stable/users/index.html and especially https://matplotlib.org/stable/gallery/index.html\n",
    "3. Of course, Google is good _Google your error message text!_\n",
    "4. If you like books, consider [O'Reilly](http://shop.oreilly.com/product/0636920028154.do)\n",
    "5. While in iPython (or a notebook) try `help(os)` or `? os` for example.\n",
    "\n",
    "    * `help(os)` brings up docstrings in the output window\n",
    "    * `?os` opens a separate pane below (that you can kick out to another tab using a button next to the X)  \n",
    "  \n",
    "6. what about chatGPT? For sure, you can try to get chatGPT to write your code. It's pretty effective, but definitely you need to verify what it suggests!\n"
   ]
  },
  {
   "cell_type": "code",
   "execution_count": null,
   "metadata": {},
   "outputs": [],
   "source": []
  }
 ],
 "metadata": {
  "kernelspec": {
   "display_name": "Python 3 (ipykernel)",
   "language": "python",
   "name": "python3"
  },
  "language_info": {
   "codemirror_mode": {
    "name": "ipython",
    "version": 3
   },
   "file_extension": ".py",
   "mimetype": "text/x-python",
   "name": "python",
   "nbconvert_exporter": "python",
   "pygments_lexer": "ipython3",
   "version": "3.11.13"
  }
 },
 "nbformat": 4,
 "nbformat_minor": 4
}
