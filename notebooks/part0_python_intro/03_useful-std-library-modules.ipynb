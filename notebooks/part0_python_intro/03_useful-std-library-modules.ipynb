{
 "cells": [
  {
   "cell_type": "markdown",
   "metadata": {},
   "source": [
    "# Useful standard library modules\n",
    "(pathlib, shutil, sys, os, subprocess, zipfile, etc.)\n",
    "\n",
    "These packages are part of the standard python library and provide very useful functionality for working with your operating system and files.  This notebook will provide explore these packages and demonstrate some of their functionality.  Online documentation is at https://docs.python.org/3/library/.\n",
    "\n",
    "\n",
    "#### Topics covered:\n",
    "* **``pathlib``**:\n",
    "    * listing files\n",
    "    * creating, moving and deleting files\n",
    "    * absolute vs relative paths\n",
    "    * useful path object attributes\n",
    "* **``shutil``**: \n",
    "    * copying, moving and deleting files AND folders\n",
    "* **``sys``**: \n",
    "    * python and platform information\n",
    "    * command line arguments\n",
    "    * modifying the python path to import code from other locations\n",
    "* **``os``**:\n",
    "    * changing the working directory\n",
    "    * recursive iteration through folder structures\n",
    "    * accessing environmental variables\n",
    "* **``subprocess``**: \n",
    "    * running system commands and checking the results\n",
    "* **``zipfile``**:\n",
    "    * creating and extracting from zip archives"
   ]
  },
  {
   "cell_type": "code",
   "execution_count": 1,
   "metadata": {},
   "outputs": [],
   "source": [
    "import os\n",
    "from pathlib import Path\n",
    "import shutil\n",
    "import subprocess\n",
    "import sys\n",
    "import zipfile"
   ]
  },
  {
   "cell_type": "markdown",
   "metadata": {},
   "source": [
    "## ``pathlib`` — Object-oriented filesystem paths\n",
    "Pathlib provides convenient \"pathlike\" objects for working with file paths across platforms (meaning paths or operations done with pathlib work the same on Windows or POSIX systems (Linux, OSX, etc)). The main entry point for users is the ``Path()`` class.\n",
    "\n",
    "further reading:  \n",
    "https://treyhunner.com/2018/12/why-you-should-be-using-pathlib/  \n",
    "https://docs.python.org/3/library/pathlib.html"
   ]
  },
  {
   "cell_type": "markdown",
   "metadata": {},
   "source": [
    "#### Make a ``Path()`` object for the current folder"
   ]
  },
  {
   "cell_type": "code",
   "execution_count": 2,
   "metadata": {},
   "outputs": [
    {
     "data": {
      "text/plain": [
       "PosixPath('.')"
      ]
     },
     "execution_count": 2,
     "metadata": {},
     "output_type": "execute_result"
    }
   ],
   "source": [
    "cwd = Path('.')\n",
    "cwd"
   ]
  },
  {
   "cell_type": "markdown",
   "metadata": {},
   "source": [
    "### Listing files"
   ]
  },
  {
   "cell_type": "code",
   "execution_count": 3,
   "metadata": {},
   "outputs": [
    {
     "name": "stdout",
     "output_type": "stream",
     "text": [
      "extracted_data\n",
      "07b_VSCode.md\n",
      "03-output\n",
      ".DS_Store\n",
      "russian_river.png\n",
      "00_skills_test_on_basics.ipynb\n",
      "00_python_basics_review.ipynb\n",
      "05_numpy.ipynb\n",
      "02_Namespace_objects_modules_packages.ipynb\n",
      "06_matplotlib.ipynb\n",
      "solutions\n",
      "another_subfolder\n",
      "__pycache__\n",
      "test.py\n",
      "01_functions_scripts.ipynb\n",
      "08_pandas.ipynb\n",
      "04_files_and_strings.ipynb\n",
      "10_Rasterio.ipynb\n",
      ".ipynb_checkpoints\n",
      "03_useful-std-library-modules.ipynb\n",
      "11_xarray_mt_rainier_precip.ipynb\n",
      "07a_Theis-exercise-solution.py\n",
      "data\n",
      "07a_Theis-exercise.ipynb\n",
      "09_Geopandas.ipynb\n",
      "junk.zip\n",
      "circle_module.py\n"
     ]
    }
   ],
   "source": [
    "for f in cwd.iterdir():\n",
    "    print(f)"
   ]
  },
  {
   "cell_type": "markdown",
   "metadata": {},
   "source": [
    "#### List just the notebooks using the ``.glob()`` method"
   ]
  },
  {
   "cell_type": "code",
   "execution_count": 4,
   "metadata": {},
   "outputs": [
    {
     "name": "stdout",
     "output_type": "stream",
     "text": [
      "00_skills_test_on_basics.ipynb\n",
      "00_python_basics_review.ipynb\n",
      "05_numpy.ipynb\n",
      "02_Namespace_objects_modules_packages.ipynb\n",
      "06_matplotlib.ipynb\n",
      "01_functions_scripts.ipynb\n",
      "08_pandas.ipynb\n",
      "04_files_and_strings.ipynb\n",
      "10_Rasterio.ipynb\n",
      "03_useful-std-library-modules.ipynb\n",
      "11_xarray_mt_rainier_precip.ipynb\n",
      "07a_Theis-exercise.ipynb\n",
      "09_Geopandas.ipynb\n"
     ]
    }
   ],
   "source": [
    "for nb in cwd.glob('*.ipynb'):\n",
    "    print(nb)"
   ]
  },
  {
   "cell_type": "markdown",
   "metadata": {},
   "source": [
    "#### Note: ``.glob()`` works across folders too\n",
    "List all notebooks for both class components"
   ]
  },
  {
   "cell_type": "code",
   "execution_count": 5,
   "metadata": {},
   "outputs": [
    {
     "name": "stdout",
     "output_type": "stream",
     "text": [
      "../part1_flopy/05-unstructured-grids.ipynb\n",
      "../part1_flopy/10_modpath-demo.ipynb\n",
      "../part1_flopy/09-gwt-voronoi-demo.ipynb\n",
      "../part1_flopy/03_Loading_and_visualizing_models.ipynb\n",
      "../part1_flopy/07-stream_capture_voronoi.ipynb\n",
      "../part1_flopy/06-Project-structured.ipynb\n",
      "../part1_flopy/08_Modflow-setup-demo.ipynb\n",
      "../part1_flopy/04_Modelgrid_and_intersection.ipynb\n",
      "../part1_flopy/02-Building-Post-Processing-MODFLOW6.ipynb\n",
      "../part0_python_intro/00_skills_test_on_basics.ipynb\n",
      "../part0_python_intro/00_python_basics_review.ipynb\n",
      "../part0_python_intro/05_numpy.ipynb\n",
      "../part0_python_intro/02_Namespace_objects_modules_packages.ipynb\n",
      "../part0_python_intro/06_matplotlib.ipynb\n",
      "../part0_python_intro/01_functions_scripts.ipynb\n",
      "../part0_python_intro/08_pandas.ipynb\n",
      "../part0_python_intro/04_files_and_strings.ipynb\n",
      "../part0_python_intro/10_Rasterio.ipynb\n",
      "../part0_python_intro/03_useful-std-library-modules.ipynb\n",
      "../part0_python_intro/11_xarray_mt_rainier_precip.ipynb\n",
      "../part0_python_intro/07a_Theis-exercise.ipynb\n",
      "../part0_python_intro/09_Geopandas.ipynb\n"
     ]
    }
   ],
   "source": [
    "for nb in cwd.glob('../*/*.ipynb'):\n",
    "    print(nb)"
   ]
  },
  {
   "cell_type": "markdown",
   "metadata": {},
   "source": [
    "#### But ``glob`` results aren't sorted alphabetically!\n",
    "(and the sorting is platform-dependent)\n",
    "\n",
    "https://arstechnica.com/information-technology/2019/10/chemists-discover-cross-platform-python-scripts-not-so-cross-platform/?comments=1&post=38113333\n",
    "\n",
    "we can easily sort them by casting the results to a list"
   ]
  },
  {
   "cell_type": "code",
   "execution_count": 6,
   "metadata": {},
   "outputs": [
    {
     "data": {
      "text/plain": [
       "[PosixPath('../part0_python_intro/00_python_basics_review.ipynb'),\n",
       " PosixPath('../part0_python_intro/00_skills_test_on_basics.ipynb'),\n",
       " PosixPath('../part0_python_intro/01_functions_scripts.ipynb'),\n",
       " PosixPath('../part0_python_intro/02_Namespace_objects_modules_packages.ipynb'),\n",
       " PosixPath('../part0_python_intro/03_useful-std-library-modules.ipynb'),\n",
       " PosixPath('../part0_python_intro/04_files_and_strings.ipynb'),\n",
       " PosixPath('../part0_python_intro/05_numpy.ipynb'),\n",
       " PosixPath('../part0_python_intro/06_matplotlib.ipynb'),\n",
       " PosixPath('../part0_python_intro/07a_Theis-exercise.ipynb'),\n",
       " PosixPath('../part0_python_intro/08_pandas.ipynb'),\n",
       " PosixPath('../part0_python_intro/09_Geopandas.ipynb'),\n",
       " PosixPath('../part0_python_intro/10_Rasterio.ipynb'),\n",
       " PosixPath('../part0_python_intro/11_xarray_mt_rainier_precip.ipynb'),\n",
       " PosixPath('../part1_flopy/02-Building-Post-Processing-MODFLOW6.ipynb'),\n",
       " PosixPath('../part1_flopy/03_Loading_and_visualizing_models.ipynb'),\n",
       " PosixPath('../part1_flopy/04_Modelgrid_and_intersection.ipynb'),\n",
       " PosixPath('../part1_flopy/05-unstructured-grids.ipynb'),\n",
       " PosixPath('../part1_flopy/06-Project-structured.ipynb'),\n",
       " PosixPath('../part1_flopy/07-stream_capture_voronoi.ipynb'),\n",
       " PosixPath('../part1_flopy/08_Modflow-setup-demo.ipynb'),\n",
       " PosixPath('../part1_flopy/09-gwt-voronoi-demo.ipynb'),\n",
       " PosixPath('../part1_flopy/10_modpath-demo.ipynb')]"
      ]
     },
     "execution_count": 6,
     "metadata": {},
     "output_type": "execute_result"
    }
   ],
   "source": [
    "sorted(list(cwd.glob('../*/*.ipynb')))"
   ]
  },
  {
   "cell_type": "markdown",
   "metadata": {},
   "source": [
    "**Note:** There is also a glob module in the standard python library that works directly with string paths"
   ]
  },
  {
   "cell_type": "code",
   "execution_count": 7,
   "metadata": {},
   "outputs": [
    {
     "data": {
      "text/plain": [
       "['../part0_python_intro/00_python_basics_review.ipynb',\n",
       " '../part0_python_intro/00_skills_test_on_basics.ipynb',\n",
       " '../part0_python_intro/01_functions_scripts.ipynb',\n",
       " '../part0_python_intro/02_Namespace_objects_modules_packages.ipynb',\n",
       " '../part0_python_intro/03_useful-std-library-modules.ipynb',\n",
       " '../part0_python_intro/04_files_and_strings.ipynb',\n",
       " '../part0_python_intro/05_numpy.ipynb',\n",
       " '../part0_python_intro/06_matplotlib.ipynb',\n",
       " '../part0_python_intro/07a_Theis-exercise.ipynb',\n",
       " '../part0_python_intro/08_pandas.ipynb',\n",
       " '../part0_python_intro/09_Geopandas.ipynb',\n",
       " '../part0_python_intro/10_Rasterio.ipynb',\n",
       " '../part0_python_intro/11_xarray_mt_rainier_precip.ipynb',\n",
       " '../part1_flopy/02-Building-Post-Processing-MODFLOW6.ipynb',\n",
       " '../part1_flopy/03_Loading_and_visualizing_models.ipynb',\n",
       " '../part1_flopy/04_Modelgrid_and_intersection.ipynb',\n",
       " '../part1_flopy/05-unstructured-grids.ipynb',\n",
       " '../part1_flopy/06-Project-structured.ipynb',\n",
       " '../part1_flopy/07-stream_capture_voronoi.ipynb',\n",
       " '../part1_flopy/08_Modflow-setup-demo.ipynb',\n",
       " '../part1_flopy/09-gwt-voronoi-demo.ipynb',\n",
       " '../part1_flopy/10_modpath-demo.ipynb']"
      ]
     },
     "execution_count": 7,
     "metadata": {},
     "output_type": "execute_result"
    }
   ],
   "source": [
    "import glob\n",
    "sorted(list(glob.glob('../*/*.ipynb')))"
   ]
  },
  {
   "cell_type": "markdown",
   "metadata": {},
   "source": [
    "#### List just the subfolders"
   ]
  },
  {
   "cell_type": "code",
   "execution_count": 8,
   "metadata": {},
   "outputs": [
    {
     "data": {
      "text/plain": [
       "[PosixPath('extracted_data'),\n",
       " PosixPath('03-output'),\n",
       " PosixPath('solutions'),\n",
       " PosixPath('another_subfolder'),\n",
       " PosixPath('__pycache__'),\n",
       " PosixPath('.ipynb_checkpoints'),\n",
       " PosixPath('data')]"
      ]
     },
     "execution_count": 8,
     "metadata": {},
     "output_type": "execute_result"
    }
   ],
   "source": [
    "[f for f in cwd.iterdir() if f.is_dir()]"
   ]
  },
  {
   "cell_type": "markdown",
   "metadata": {},
   "source": [
    "#### Create a new path for the data subfolder"
   ]
  },
  {
   "cell_type": "code",
   "execution_count": 9,
   "metadata": {},
   "outputs": [
    {
     "data": {
      "text/plain": [
       "PosixPath('data')"
      ]
     },
     "execution_count": 9,
     "metadata": {},
     "output_type": "execute_result"
    }
   ],
   "source": [
    "data_path = cwd / 'data'\n",
    "data_path"
   ]
  },
  {
   "cell_type": "markdown",
   "metadata": {},
   "source": [
    "#### or an individual file"
   ]
  },
  {
   "cell_type": "code",
   "execution_count": 10,
   "metadata": {},
   "outputs": [
    {
     "data": {
      "text/plain": [
       "PosixPath('00_python_basics_review.ipynb')"
      ]
     },
     "execution_count": 10,
     "metadata": {},
     "output_type": "execute_result"
    }
   ],
   "source": [
    "f = cwd / '00_python_basics_review.ipynb'\n",
    "f"
   ]
  },
  {
   "cell_type": "markdown",
   "metadata": {},
   "source": [
    "#### check if it exists, or if it's a directory"
   ]
  },
  {
   "cell_type": "code",
   "execution_count": 11,
   "metadata": {},
   "outputs": [
    {
     "data": {
      "text/plain": [
       "(True, False)"
      ]
     },
     "execution_count": 11,
     "metadata": {},
     "output_type": "execute_result"
    }
   ],
   "source": [
    "f.exists(), f.is_dir()"
   ]
  },
  {
   "cell_type": "markdown",
   "metadata": {},
   "source": [
    "### Creating files and folders\n",
    "\n",
    "#### make a new subdirectory"
   ]
  },
  {
   "cell_type": "code",
   "execution_count": 12,
   "metadata": {},
   "outputs": [
    {
     "data": {
      "text/plain": [
       "PosixPath('more_files')"
      ]
     },
     "execution_count": 12,
     "metadata": {},
     "output_type": "execute_result"
    }
   ],
   "source": [
    "new_folder = cwd / 'more_files'\n",
    "new_folder"
   ]
  },
  {
   "cell_type": "code",
   "execution_count": 13,
   "metadata": {},
   "outputs": [
    {
     "data": {
      "text/plain": [
       "False"
      ]
     },
     "execution_count": 13,
     "metadata": {},
     "output_type": "execute_result"
    }
   ],
   "source": [
    "new_folder.exists()"
   ]
  },
  {
   "cell_type": "code",
   "execution_count": 14,
   "metadata": {},
   "outputs": [
    {
     "data": {
      "text/plain": [
       "True"
      ]
     },
     "execution_count": 14,
     "metadata": {},
     "output_type": "execute_result"
    }
   ],
   "source": [
    "new_folder.mkdir(); new_folder.exists()"
   ]
  },
  {
   "cell_type": "markdown",
   "metadata": {},
   "source": [
    "Note that if you try to run the above cell twice, you'll get an error that the folder already exists\n",
    "``exist_ok=True`` supresses these errors."
   ]
  },
  {
   "cell_type": "code",
   "execution_count": 15,
   "metadata": {},
   "outputs": [],
   "source": [
    "new_folder.mkdir(exist_ok=True)"
   ]
  },
  {
   "cell_type": "markdown",
   "metadata": {},
   "source": [
    "#### make a new subfolder within a new subfolder\n",
    "The ``parents=True`` argument allows for making subfolders within new subfolders"
   ]
  },
  {
   "cell_type": "code",
   "execution_count": 16,
   "metadata": {},
   "outputs": [],
   "source": [
    "(new_folder / 'subfolder').mkdir(exist_ok=True, parents=True)"
   ]
  },
  {
   "cell_type": "markdown",
   "metadata": {},
   "source": [
    "### absolute vs. relative pathing\n",
    "\n",
    "Get the absolute location of the current working directory"
   ]
  },
  {
   "cell_type": "code",
   "execution_count": 17,
   "metadata": {},
   "outputs": [
    {
     "data": {
      "text/plain": [
       "PosixPath('/Users/aleaf/Documents/Python_course/python-for-hydrology/notebooks/part0_python_intro')"
      ]
     },
     "execution_count": 17,
     "metadata": {},
     "output_type": "execute_result"
    }
   ],
   "source": [
    "abs_cwd = Path.cwd()\n",
    "abs_cwd"
   ]
  },
  {
   "cell_type": "markdown",
   "metadata": {},
   "source": [
    "Go up two levels to the course repository"
   ]
  },
  {
   "cell_type": "code",
   "execution_count": 18,
   "metadata": {},
   "outputs": [
    {
     "data": {
      "text/plain": [
       "PosixPath('/Users/aleaf/Documents/Python_course/python-for-hydrology/notebooks/part0_python_intro/../..')"
      ]
     },
     "execution_count": 18,
     "metadata": {},
     "output_type": "execute_result"
    }
   ],
   "source": [
    "class_root = (abs_cwd / '../../')\n",
    "class_root"
   ]
  },
  {
   "cell_type": "markdown",
   "metadata": {},
   "source": [
    "Simplify or resolve the path"
   ]
  },
  {
   "cell_type": "code",
   "execution_count": 19,
   "metadata": {},
   "outputs": [
    {
     "data": {
      "text/plain": [
       "PosixPath('/Users/aleaf/Documents/Python_course/python-for-hydrology')"
      ]
     },
     "execution_count": 19,
     "metadata": {},
     "output_type": "execute_result"
    }
   ],
   "source": [
    "class_root = class_root.resolve()\n",
    "class_root"
   ]
  },
  {
   "cell_type": "markdown",
   "metadata": {},
   "source": [
    "Get the cwd relative to the course repository"
   ]
  },
  {
   "cell_type": "code",
   "execution_count": 20,
   "metadata": {},
   "outputs": [
    {
     "data": {
      "text/plain": [
       "PosixPath('notebooks/part0_python_intro')"
      ]
     },
     "execution_count": 20,
     "metadata": {},
     "output_type": "execute_result"
    }
   ],
   "source": [
    "abs_cwd.relative_to(class_root)"
   ]
  },
  {
   "cell_type": "markdown",
   "metadata": {},
   "source": [
    "check if this is an absolute or relative path"
   ]
  },
  {
   "cell_type": "code",
   "execution_count": 21,
   "metadata": {},
   "outputs": [
    {
     "data": {
      "text/plain": [
       "False"
      ]
     },
     "execution_count": 21,
     "metadata": {},
     "output_type": "execute_result"
    }
   ],
   "source": [
    "abs_cwd.relative_to(class_root).is_absolute()"
   ]
  },
  {
   "cell_type": "code",
   "execution_count": 22,
   "metadata": {},
   "outputs": [
    {
     "data": {
      "text/plain": [
       "True"
      ]
     },
     "execution_count": 22,
     "metadata": {},
     "output_type": "execute_result"
    }
   ],
   "source": [
    "abs_cwd.is_absolute()"
   ]
  },
  {
   "cell_type": "markdown",
   "metadata": {},
   "source": [
    "**gottcha:** `Path.relative_to()` only works when the first path is a subpath of the second path, or if both paths are aboslute\n",
    "\n",
    "For example, try executing this line: \n",
    "\n",
    "```python\n",
    "Path('../part1_flopy/').relative_to('data')\n",
    "```"
   ]
  },
  {
   "cell_type": "markdown",
   "metadata": {},
   "source": [
    "If you need a relative path that will work robustly in a script, `os.path.relpath` might be a better choice"
   ]
  },
  {
   "cell_type": "code",
   "execution_count": 23,
   "metadata": {},
   "outputs": [
    {
     "data": {
      "text/plain": [
       "'../../part1_flopy'"
      ]
     },
     "execution_count": 23,
     "metadata": {},
     "output_type": "execute_result"
    }
   ],
   "source": [
    "os.path.relpath('../part1_flopy/', 'data')"
   ]
  },
  {
   "cell_type": "code",
   "execution_count": 24,
   "metadata": {},
   "outputs": [
    {
     "data": {
      "text/plain": [
       "'../part0_python_intro/data'"
      ]
     },
     "execution_count": 24,
     "metadata": {},
     "output_type": "execute_result"
    }
   ],
   "source": [
    "os.path.relpath('data', '../part1_flopy/')"
   ]
  },
  {
   "cell_type": "markdown",
   "metadata": {},
   "source": [
    "### useful attributes"
   ]
  },
  {
   "cell_type": "code",
   "execution_count": 25,
   "metadata": {},
   "outputs": [
    {
     "data": {
      "text/plain": [
       "PosixPath('/Users/aleaf/Documents/Python_course/python-for-hydrology/notebooks')"
      ]
     },
     "execution_count": 25,
     "metadata": {},
     "output_type": "execute_result"
    }
   ],
   "source": [
    "abs_cwd.parent"
   ]
  },
  {
   "cell_type": "code",
   "execution_count": 26,
   "metadata": {},
   "outputs": [
    {
     "data": {
      "text/plain": [
       "PosixPath('/Users/aleaf/Documents/Python_course/python-for-hydrology')"
      ]
     },
     "execution_count": 26,
     "metadata": {},
     "output_type": "execute_result"
    }
   ],
   "source": [
    "abs_cwd.parent.parent"
   ]
  },
  {
   "cell_type": "code",
   "execution_count": 27,
   "metadata": {},
   "outputs": [
    {
     "data": {
      "text/plain": [
       "'00_python_basics_review.ipynb'"
      ]
     },
     "execution_count": 27,
     "metadata": {},
     "output_type": "execute_result"
    }
   ],
   "source": [
    "f.name"
   ]
  },
  {
   "cell_type": "code",
   "execution_count": 28,
   "metadata": {},
   "outputs": [
    {
     "data": {
      "text/plain": [
       "'.ipynb'"
      ]
     },
     "execution_count": 28,
     "metadata": {},
     "output_type": "execute_result"
    }
   ],
   "source": [
    "f.suffix"
   ]
  },
  {
   "cell_type": "code",
   "execution_count": 29,
   "metadata": {},
   "outputs": [
    {
     "data": {
      "text/plain": [
       "PosixPath('00_python_basics_review.junk')"
      ]
     },
     "execution_count": 29,
     "metadata": {},
     "output_type": "execute_result"
    }
   ],
   "source": [
    "f.with_suffix('.junk')"
   ]
  },
  {
   "cell_type": "code",
   "execution_count": 30,
   "metadata": {},
   "outputs": [
    {
     "data": {
      "text/plain": [
       "'00_python_basics_review'"
      ]
     },
     "execution_count": 30,
     "metadata": {},
     "output_type": "execute_result"
    }
   ],
   "source": [
    "f.stem"
   ]
  },
  {
   "cell_type": "markdown",
   "metadata": {},
   "source": [
    "### Moving and deleting files\n",
    "\n",
    "Make a file"
   ]
  },
  {
   "cell_type": "code",
   "execution_count": 31,
   "metadata": {},
   "outputs": [],
   "source": [
    "fname = Path('new_file.txt')\n",
    "with open(fname, 'w') as dest:\n",
    "    dest.write(\"A new text file.\")"
   ]
  },
  {
   "cell_type": "code",
   "execution_count": 32,
   "metadata": {},
   "outputs": [
    {
     "data": {
      "text/plain": [
       "True"
      ]
     },
     "execution_count": 32,
     "metadata": {},
     "output_type": "execute_result"
    }
   ],
   "source": [
    "fname.exists()"
   ]
  },
  {
   "cell_type": "markdown",
   "metadata": {},
   "source": [
    "Delete the file"
   ]
  },
  {
   "cell_type": "code",
   "execution_count": 33,
   "metadata": {},
   "outputs": [],
   "source": [
    "fname.unlink()"
   ]
  },
  {
   "cell_type": "code",
   "execution_count": 34,
   "metadata": {},
   "outputs": [
    {
     "data": {
      "text/plain": [
       "False"
      ]
     },
     "execution_count": 34,
     "metadata": {},
     "output_type": "execute_result"
    }
   ],
   "source": [
    "fname.exists()"
   ]
  },
  {
   "cell_type": "markdown",
   "metadata": {},
   "source": [
    "#### Delete the empty folder we made above\n",
    "Note: this only works for empty directories (use ``shutil.rmtree()`` very carefully for removing folders and all contents within)"
   ]
  },
  {
   "cell_type": "code",
   "execution_count": 35,
   "metadata": {},
   "outputs": [],
   "source": [
    "Path('more_files/subfolder/').rmdir()"
   ]
  },
  {
   "cell_type": "markdown",
   "metadata": {},
   "source": [
    "## ``shutil`` — High-level file operations\n",
    "module for copying, moving, and deleting files and directories.\n",
    "\n",
    "https://docs.python.org/3/library/shutil.html\n",
    "\n",
    "The functions from shutil that you may find useful are:\n",
    "\n",
    "    shutil.copy()\n",
    "    shutil.copy2()  # this preserves most metadata (i.e. dates); unlike copy()\n",
    "    shutil.copytree()\n",
    "    shutil.move()\n",
    "    shutil.rmtree()  #obviously, you need to be careful with this one!\n",
    "    \n",
    "Give these guys a shot and see what they do.  Remember, you can always get help by typing:\n",
    "\n",
    "    help(shutil.copy)\n"
   ]
  },
  {
   "cell_type": "code",
   "execution_count": 36,
   "metadata": {},
   "outputs": [],
   "source": [
    "#try them here.  Be careful!"
   ]
  },
  {
   "cell_type": "code",
   "execution_count": 37,
   "metadata": {},
   "outputs": [],
   "source": [
    "shutil.rmtree(new_folder)"
   ]
  },
  {
   "cell_type": "markdown",
   "metadata": {},
   "source": [
    "## ``sys`` — System-specific parameters and functions\n",
    "\n",
    "### Getting information about python and the os\n",
    "where python is installed"
   ]
  },
  {
   "cell_type": "code",
   "execution_count": 38,
   "metadata": {},
   "outputs": [
    {
     "name": "stdout",
     "output_type": "stream",
     "text": [
      "/Users/aleaf/mambaforge/envs/pyclass\n"
     ]
    }
   ],
   "source": [
    "print(sys.prefix)"
   ]
  },
  {
   "cell_type": "code",
   "execution_count": 39,
   "metadata": {},
   "outputs": [
    {
     "name": "stdout",
     "output_type": "stream",
     "text": [
      "sys.version_info(major=3, minor=11, micro=7, releaselevel='final', serial=0)\n"
     ]
    }
   ],
   "source": [
    "print(sys.version_info)"
   ]
  },
  {
   "cell_type": "code",
   "execution_count": 40,
   "metadata": {},
   "outputs": [
    {
     "data": {
      "text/plain": [
       "'darwin'"
      ]
     },
     "execution_count": 40,
     "metadata": {},
     "output_type": "execute_result"
    }
   ],
   "source": [
    "sys.platform"
   ]
  },
  {
   "cell_type": "markdown",
   "metadata": {},
   "source": [
    "### Adding command line arguments to a script\n",
    "Here the command line arguments reflect that we're running a Juptyer Notebook. \n",
    "\n",
    "In a python script, command line arguments are listed after the first item in the list."
   ]
  },
  {
   "cell_type": "code",
   "execution_count": 41,
   "metadata": {},
   "outputs": [
    {
     "data": {
      "text/plain": [
       "['/Users/aleaf/mambaforge/envs/pyclass/lib/python3.11/site-packages/ipykernel_launcher.py',\n",
       " '-f',\n",
       " '/Users/aleaf/Library/Jupyter/runtime/kernel-2091c8d8-e99b-47f5-a1c6-66b107b23e27.json']"
      ]
     },
     "execution_count": 41,
     "metadata": {},
     "output_type": "execute_result"
    }
   ],
   "source": [
    "sys.argv"
   ]
  },
  {
   "cell_type": "markdown",
   "metadata": {
    "jp-MarkdownHeadingCollapsed": true
   },
   "source": [
    "### Exercise: Make a script with a command line argument using sys.argv\n",
    "\n",
    "1) Using a text editor such as VSCode, make a new ``*.py`` file with the following contents:\n",
    "\n",
    "```python\n",
    "import sys\n",
    "\n",
    "if len(sys.argv) > 1:\n",
    "    for argument in sys.argv[1:]:\n",
    "        print(argument)\n",
    "else:\n",
    "    print(\"usage is: python <script name>.py argument\")\n",
    "    quit()\n",
    "```\n",
    "\n",
    "2) Try running the script at the command line"
   ]
  },
  {
   "cell_type": "markdown",
   "metadata": {},
   "source": [
    "### modifying the python path\n",
    "\n",
    "If you haven't seen `sys.path` already mentioned in a python script, you will soon.  `sys.path` is a list of directories.  This path list is used by python to search for python modules and packages.  If for some reason, you want to use a python package or  module that is not installed in the main python folder, you can add the directory containing your module to sys.path.\n",
    "\n",
    "Any packages installed by linking the source code in place (i.e. ``pip install -e .`` will also show up here."
   ]
  },
  {
   "cell_type": "code",
   "execution_count": 42,
   "metadata": {},
   "outputs": [
    {
     "name": "stdout",
     "output_type": "stream",
     "text": [
      "/Users/aleaf/Documents/Python_course/python-for-hydrology/notebooks/part0_python_intro\n",
      "/Users/aleaf/mambaforge/envs/pyclass/lib/python311.zip\n",
      "/Users/aleaf/mambaforge/envs/pyclass/lib/python3.11\n",
      "/Users/aleaf/mambaforge/envs/pyclass/lib/python3.11/lib-dynload\n",
      "\n",
      "/Users/aleaf/mambaforge/envs/pyclass/lib/python3.11/site-packages\n"
     ]
    }
   ],
   "source": [
    "for pth in sys.path:\n",
    "    print(pth)"
   ]
  },
  {
   "cell_type": "markdown",
   "metadata": {},
   "source": [
    "### Using ``sys.path`` to import code from an arbitrary location\n",
    "\n",
    "1) Using a text editor such as VSCode (or ``pathlib`` and python) make a new ``*.py`` file in another folder (anything in the same folder as this notebook can already be imported). For example:"
   ]
  },
  {
   "cell_type": "code",
   "execution_count": 43,
   "metadata": {},
   "outputs": [],
   "source": [
    "subfolder = Path('another_subfolder/scripts')\n",
    "subfolder.mkdir(exist_ok=True, parents=True)\n",
    "\n",
    "with open(subfolder / 'mycode.py', 'w') as dest:\n",
    "    dest.write(\"stuff = {'this is': 'a dictionary'}\")"
   ]
  },
  {
   "cell_type": "markdown",
   "metadata": {},
   "source": [
    "Now add this folder to the python path"
   ]
  },
  {
   "cell_type": "code",
   "execution_count": 44,
   "metadata": {},
   "outputs": [],
   "source": [
    "sys.path.append('another_subfolder/scripts')"
   ]
  },
  {
   "cell_type": "markdown",
   "metadata": {},
   "source": [
    "Code can be imported by calling the containing module"
   ]
  },
  {
   "cell_type": "code",
   "execution_count": 45,
   "metadata": {},
   "outputs": [
    {
     "data": {
      "text/plain": [
       "{'this is': 'a dictionary'}"
      ]
     },
     "execution_count": 45,
     "metadata": {},
     "output_type": "execute_result"
    }
   ],
   "source": [
    "from mycode import stuff\n",
    "\n",
    "stuff"
   ]
  },
  {
   "cell_type": "markdown",
   "metadata": {},
   "source": [
    "**Note**: Generally, importing code using ``sys.path`` is considered bad practice, because \n",
    "\n",
    "* it can hide dependencies.    \n",
    "\n",
    "    * from the information above, we don't know whether ``mycode`` is a package that is installed, a module in the current folder, or anywhere else for that matter.\n",
    "    * Similarly, we know that any modules from ``'another_subfolder/scripts'`` can be imported, but we don't know which modules in that folder are needed without some additional checking.\n",
    "\n",
    "* importing code using ``sys.path`` is also sensitive to the location of the script relative to the path. If the script is moved or used on someone else's computer with a different file structure, it'll break.\n",
    "\n",
    "In general, [installing reusable code in a package is the best way to go](https://nsls-ii.github.io/scientific-python-cookiecutter/). Packages provide a framework for organizing, documenting, testing and sharing code in a way that is easily understood by others.\n",
    "\n",
    "Whatever you do, avoid importing with an `*` (i.e. ``from mycode import *``) at all costs. This imports everything from the namespace of a module, which can lead to unintended consequences."
   ]
  },
  {
   "cell_type": "markdown",
   "metadata": {},
   "source": [
    "## ``os`` — Miscellaneous operating system interfaces¶\n",
    "Historically, the ``os.path`` module was the de facto standard for file and path manipulation. Since python 3.4 however, ``pathlib`` is generally cleaner and easier to use for most of these operations. But there are some exceptions.\n",
    "\n",
    "### Changing the current working directory\n",
    "``pathlib`` doesn't do this.   \n",
    "Note: this can obviously lead to trouble in scripts, so should usually be avoided, but sometimes it is necessary."
   ]
  },
  {
   "cell_type": "code",
   "execution_count": 46,
   "metadata": {},
   "outputs": [
    {
     "name": "stdout",
     "output_type": "stream",
     "text": [
      "Now in:  /Users/aleaf/Documents/Python_course/python-for-hydrology/notebooks\n",
      "Switched back to:  /Users/aleaf/Documents/Python_course/python-for-hydrology/notebooks/part0_python_intro\n"
     ]
    }
   ],
   "source": [
    "# Example of changing the working directory\n",
    "old_wd = os.getcwd()\n",
    "\n",
    "# Go up one directory\n",
    "os.chdir('..')\n",
    "cwd = os.getcwd()\n",
    "print ('Now in: ', cwd)\n",
    "\n",
    "# Change back to original\n",
    "os.chdir(old_wd)\n",
    "cwd = os.getcwd()\n",
    "print('Switched back to: ', cwd)"
   ]
  },
  {
   "cell_type": "markdown",
   "metadata": {},
   "source": [
    "### os.walk\n",
    "\n",
    "os.walk() is a great way to recursively generate all the file names and folders in a directory.  The following shows how it can be used to identify large directories."
   ]
  },
  {
   "cell_type": "code",
   "execution_count": 47,
   "metadata": {},
   "outputs": [
    {
     "data": {
      "text/plain": [
       "[('..', ['part1_flopy', 'part0_python_intro'], ['.DS_Store']),\n",
       " ('../part1_flopy',\n",
       "  ['03-output',\n",
       "   'temp',\n",
       "   'solutions',\n",
       "   '__pycache__',\n",
       "   'docs',\n",
       "   'data_project',\n",
       "   '.ipynb_checkpoints',\n",
       "   'data'],\n",
       "  ['05-unstructured-grids.ipynb',\n",
       "   '10_modpath-demo.ipynb',\n",
       "   '.DS_Store',\n",
       "   '09-gwt-voronoi-demo.ipynb',\n",
       "   '03_Loading_and_visualizing_models.ipynb',\n",
       "   '07-stream_capture_voronoi.ipynb',\n",
       "   '06-Project-structured.ipynb',\n",
       "   'defaults.py',\n",
       "   '08_Modflow-setup-demo.ipynb',\n",
       "   '04_Modelgrid_and_intersection.ipynb',\n",
       "   '02-Building-Post-Processing-MODFLOW6.ipynb']),\n",
       " ('../part1_flopy/03-output',\n",
       "  [],\n",
       "  ['op.tif.aux.xml',\n",
       "   'pleasant_grid.shp',\n",
       "   'pleasant_grid.shx',\n",
       "   'pleasant_grid.dbf',\n",
       "   'pleasant_grid.prj',\n",
       "   'op.tif',\n",
       "   'water_table.tif']),\n",
       " ('../part1_flopy/temp',\n",
       "  ['ex10a',\n",
       "   'depletion',\n",
       "   'voronoi-gwt',\n",
       "   'ex01b',\n",
       "   'voronoi',\n",
       "   'structured',\n",
       "   'quadtree'],\n",
       "  ['qtg.area.dat',\n",
       "   'qtgrid_pt.dbf',\n",
       "   'quadtreegrid.tsf',\n",
       "   'rf0.dbf',\n",
       "   'rf1.dbf',\n",
       "   '_gridgen_build.dfn',\n",
       "   '_triangle.1.edge',\n",
       "   'rf1.shx',\n",
       "   'rf0.shx',\n",
       "   'qtg.ja.dat',\n",
       "   'rf1.shp',\n",
       "   'rf0.shp',\n",
       "   'qtgrid_pt.shx',\n",
       "   'qtgrid_pt.shp',\n",
       "   'qtg.vtu',\n",
       "   'quadtreegrid.top1.dat',\n",
       "   '_gridgen_export.dfn',\n",
       "   'qtg.nodesperlay.dat',\n",
       "   'qtgrid.shp',\n",
       "   'qtg.fldr.dat',\n",
       "   'qtg.iac.dat',\n",
       "   'qtg.gnc.dat',\n",
       "   '_triangle.1.ele',\n",
       "   'qtgrid.shx',\n",
       "   'qtg.ia.dat',\n",
       "   'qtg_sv.vtu',\n",
       "   'qtg.c2.dat',\n",
       "   '_triangle.1.poly',\n",
       "   'qtg.fahl.dat',\n",
       "   '_triangle.0.node',\n",
       "   'qtg.c1.dat',\n",
       "   'qtgrid.dbf',\n",
       "   'quadtreegrid.bot1.dat',\n",
       "   '_triangle.1.node',\n",
       "   '_triangle.0.poly',\n",
       "   'qtg.nod',\n",
       "   '_triangle.1.neigh',\n",
       "   'quadtreegrid.dfn']),\n",
       " ('../part1_flopy/temp/ex10a',\n",
       "  [],\n",
       "  ['pathline.shp',\n",
       "   'project.disv',\n",
       "   'project.lst',\n",
       "   'pathline.shx',\n",
       "   'mpath7.log',\n",
       "   'project.sfr',\n",
       "   'project.disv.grb',\n",
       "   'project.ic',\n",
       "   'project.nam',\n",
       "   'project.ims',\n",
       "   'project.cbc',\n",
       "   'project.chd',\n",
       "   'pathline.dbf',\n",
       "   'project.npf',\n",
       "   'project.tdis',\n",
       "   'project_mp.mpsim',\n",
       "   'project_mp.mpnam',\n",
       "   'project_mp.mpbas',\n",
       "   'project.hds',\n",
       "   'project_mp.mplst',\n",
       "   'sfr_obs.csv',\n",
       "   'project.wel',\n",
       "   'project.oc',\n",
       "   'project_mp.sloc',\n",
       "   'mfsim.nam',\n",
       "   'project.sfr.obs',\n",
       "   'project_mp.mpend',\n",
       "   'project.rcha',\n",
       "   'mfsim.lst',\n",
       "   'project_mp.mppth']),\n",
       " ('../part1_flopy/temp/depletion',\n",
       "  [],\n",
       "  ['project.disv',\n",
       "   'project.lst',\n",
       "   'project.sfr',\n",
       "   'project.disv.grb',\n",
       "   'project.ic',\n",
       "   'project.nam',\n",
       "   'project_0.wel',\n",
       "   'project.ims',\n",
       "   'project.cbc',\n",
       "   'project.chd',\n",
       "   'nul',\n",
       "   'project.npf',\n",
       "   'project.tdis',\n",
       "   'project.hds',\n",
       "   'sfr_obs.csv',\n",
       "   'project.wel',\n",
       "   'project.oc',\n",
       "   'mfsim.nam',\n",
       "   'project.sfr.obs',\n",
       "   'project.rcha',\n",
       "   'mfsim.lst']),\n",
       " ('../part1_flopy/temp/voronoi-gwt',\n",
       "  [],\n",
       "  ['voronoi.ucn',\n",
       "   'voronoi.nam',\n",
       "   'voronoi.lst',\n",
       "   'voronoi.dsp',\n",
       "   'voronoi.ims',\n",
       "   'voronoi.adv',\n",
       "   'voronoi.ic',\n",
       "   'voronoi.tdis',\n",
       "   'voronoi.fmi',\n",
       "   'mfsim.nam',\n",
       "   'voronoi.ssm',\n",
       "   'voronoi.oc',\n",
       "   'voronoi.cnc',\n",
       "   'mfsim.lst',\n",
       "   'voronoi.disv',\n",
       "   'voronoi.mst']),\n",
       " ('../part1_flopy/temp/ex01b',\n",
       "  [],\n",
       "  ['ex01b.riv',\n",
       "   'ex01b.rcha',\n",
       "   'ex01b.hds',\n",
       "   'ex01b.wel',\n",
       "   'ex01b.ic',\n",
       "   'ex01b.npf',\n",
       "   'ex01b.tdis',\n",
       "   'ex01b.ims',\n",
       "   'ex01b.cbc',\n",
       "   'ex01b.dis.grb',\n",
       "   'ex01b.dis',\n",
       "   'mfsim.nam',\n",
       "   'ex01b.nam',\n",
       "   'mfsim.lst',\n",
       "   'ex01b.oc',\n",
       "   'ex01b.lst']),\n",
       " ('../part1_flopy/temp/voronoi',\n",
       "  ['grid'],\n",
       "  ['project.disv',\n",
       "   'project.lst',\n",
       "   'project.sfr',\n",
       "   'project.disv.grb',\n",
       "   'project.ic',\n",
       "   'project.nam',\n",
       "   'project.ims',\n",
       "   'project.cbc',\n",
       "   'project.chd',\n",
       "   'project.npf',\n",
       "   'project.tdis',\n",
       "   'project.hds',\n",
       "   'sfr_obs.csv',\n",
       "   'project.wel',\n",
       "   'project.oc',\n",
       "   'mfsim.nam',\n",
       "   'project.sfr.obs',\n",
       "   'project.rcha',\n",
       "   'mfsim.lst']),\n",
       " ('../part1_flopy/temp/voronoi/grid',\n",
       "  [],\n",
       "  ['_triangle.1.edge',\n",
       "   '_triangle.1.ele',\n",
       "   '_triangle.1.poly',\n",
       "   '_triangle.0.node',\n",
       "   '_triangle.1.node',\n",
       "   '_triangle.0.poly',\n",
       "   '_triangle.1.neigh']),\n",
       " ('../part1_flopy/temp/structured',\n",
       "  [],\n",
       "  ['project.dis.grb',\n",
       "   'project.lst',\n",
       "   'project.ic',\n",
       "   'project.nam',\n",
       "   'project.riv.obs',\n",
       "   'project.dis',\n",
       "   'project.ims',\n",
       "   'project.cbc',\n",
       "   'project.chd',\n",
       "   'project.npf',\n",
       "   'project.tdis',\n",
       "   'project.hds',\n",
       "   'project.wel',\n",
       "   'project.oc',\n",
       "   'mfsim.nam',\n",
       "   'project.rcha',\n",
       "   'mfsim.lst',\n",
       "   'project.riv',\n",
       "   'riv_obs.csv']),\n",
       " ('../part1_flopy/temp/quadtree',\n",
       "  ['grid'],\n",
       "  ['project.disv',\n",
       "   'project.lst',\n",
       "   'project.sfr',\n",
       "   'project.disv.grb',\n",
       "   'project.ic',\n",
       "   'project.nam',\n",
       "   'project.ims',\n",
       "   'project.cbc',\n",
       "   'project.chd',\n",
       "   'project.npf',\n",
       "   'project.tdis',\n",
       "   'project.hds',\n",
       "   'sfr_obs.csv',\n",
       "   'project.wel',\n",
       "   'project.oc',\n",
       "   'mfsim.nam',\n",
       "   'project.sfr.obs',\n",
       "   'project.rcha',\n",
       "   'mfsim.lst']),\n",
       " ('../part1_flopy/temp/quadtree/grid',\n",
       "  [],\n",
       "  ['qtg.area.dat',\n",
       "   'qtgrid_pt.dbf',\n",
       "   'quadtreegrid.tsf',\n",
       "   '_gridgen_build.dfn',\n",
       "   'qtg.ja.dat',\n",
       "   'qtgrid_pt.shx',\n",
       "   'qtgrid_pt.shp',\n",
       "   'qtg.vtu',\n",
       "   'quadtreegrid.top1.dat',\n",
       "   '_gridgen_export.dfn',\n",
       "   'qtg.nodesperlay.dat',\n",
       "   'qtgrid.shp',\n",
       "   'qtg.fldr.dat',\n",
       "   'qtg.iac.dat',\n",
       "   'qtg.gnc.dat',\n",
       "   'qtgrid.shx',\n",
       "   'qtg.ia.dat',\n",
       "   'qtg_sv.vtu',\n",
       "   'qtg.c2.dat',\n",
       "   'qtg.fahl.dat',\n",
       "   'qtg.c1.dat',\n",
       "   'qtgrid.dbf',\n",
       "   'quadtreegrid.bot1.dat',\n",
       "   'qtg.nod',\n",
       "   'quadtreegrid.dfn']),\n",
       " ('../part1_flopy/solutions',\n",
       "  ['03-output',\n",
       "   'temp',\n",
       "   '__pycache__',\n",
       "   'figures',\n",
       "   '.ipynb_checkpoints',\n",
       "   'data'],\n",
       "  ['03_Loading_and_visualizing_models-solutions.ipynb',\n",
       "   '07-stream_capture_voronoi.ipynb',\n",
       "   '06-Project-voronoi.ipynb',\n",
       "   '06-Project-quadtree.ipynb',\n",
       "   'project_grid_functions.py',\n",
       "   '06-Project-structured_completed.ipynb',\n",
       "   '02-Building-Post-Processing-MODFLOW6__solutions.ipynb',\n",
       "   '04_Modelgrid_and_intersection.ipynb']),\n",
       " ('../part1_flopy/solutions/03-output',\n",
       "  [],\n",
       "  ['pleasant_grid.shp',\n",
       "   'pleasant_grid.shx',\n",
       "   'pleasant_grid.dbf',\n",
       "   'pleasant_grid.prj',\n",
       "   'op.tif',\n",
       "   'water_table.tif']),\n",
       " ('../part1_flopy/solutions/temp', ['depletion'], []),\n",
       " ('../part1_flopy/solutions/temp/depletion',\n",
       "  [],\n",
       "  ['project.disv',\n",
       "   'project.lst',\n",
       "   'project.sfr',\n",
       "   'project.disv.grb',\n",
       "   'project.ic',\n",
       "   'project.nam',\n",
       "   'project_0.wel',\n",
       "   'project.ims',\n",
       "   'project.cbc',\n",
       "   'project.chd',\n",
       "   'nul',\n",
       "   'project.npf',\n",
       "   'project.tdis',\n",
       "   'project.hds',\n",
       "   'sfr_obs.csv',\n",
       "   'project.wel',\n",
       "   'project.oc',\n",
       "   'mfsim.nam',\n",
       "   'project.sfr.obs',\n",
       "   'project.rcha',\n",
       "   'mfsim.lst']),\n",
       " ('../part1_flopy/solutions/__pycache__',\n",
       "  [],\n",
       "  ['project_grid_functions.cpython-311.pyc',\n",
       "   'project_grid_functions.cpython-39.pyc']),\n",
       " ('../part1_flopy/solutions/figures', [], []),\n",
       " ('../part1_flopy/solutions/.ipynb_checkpoints',\n",
       "  [],\n",
       "  ['03_Loading_and_visualizing_models-solutions-checkpoint.ipynb']),\n",
       " ('../part1_flopy/solutions/data', ['pleasant-lake'], []),\n",
       " ('../part1_flopy/solutions/data/pleasant-lake', [], []),\n",
       " ('../part1_flopy/__pycache__', [], ['defaults.cpython-311.pyc']),\n",
       " ('../part1_flopy/docs',\n",
       "  [],\n",
       "  ['02-Building-Post-Processing-MODFLOW6_introduction.pdf']),\n",
       " ('../part1_flopy/data_project',\n",
       "  [],\n",
       "  ['Flowline_river.shp',\n",
       "   'active_area.shx',\n",
       "   'Flowline_river.shx',\n",
       "   'active_area.shp',\n",
       "   'inactive_area.dbf',\n",
       "   'inactive_area.shp',\n",
       "   'aquifer_bottom.asc',\n",
       "   'inactive_area.shx',\n",
       "   'active_area.dbf',\n",
       "   'aquifer_top.asc',\n",
       "   'Flowline_river.dbf',\n",
       "   'Flowline_river.prj',\n",
       "   'pumping_well_locations.shp',\n",
       "   'pumping_well_locations.shx',\n",
       "   'aquifer_k.asc',\n",
       "   'pumping_well_locations.dbf']),\n",
       " ('../part1_flopy/.ipynb_checkpoints',\n",
       "  [],\n",
       "  ['08_Modflow-setup-demo-checkpoint.ipynb',\n",
       "   '03_Loading_and_visualizing_models-checkpoint.ipynb']),\n",
       " ('../part1_flopy/data',\n",
       "  ['depletion_results',\n",
       "   'pleasant-lgr',\n",
       "   'modelgrid_intersection',\n",
       "   'voronoi',\n",
       "   'pleasant-lake',\n",
       "   'quadtree'],\n",
       "  ['pleasant_lgr_parent.yml', '.DS_Store', 'pleasant_lgr_inset.yml']),\n",
       " ('../part1_flopy/data/depletion_results', [], ['depletion_results.csv']),\n",
       " ('../part1_flopy/data/pleasant-lgr',\n",
       "  ['tables', 'postproc', 'external'],\n",
       "  ['plsnt-lgr-parent_grid.json',\n",
       "   'pleasant-lgr.ims',\n",
       "   'plsnt-lgr-parent.hds',\n",
       "   'plsnt-lgr-inset.sfr.stage.bin',\n",
       "   'plsnt-lgr-parent.wel',\n",
       "   'plsnt-lgr-inset.lak.obs',\n",
       "   'plsnt-lgr-parent.npf',\n",
       "   'plsnt-lgr-parent_SFR.chk',\n",
       "   'plsnt-lgr-parent.wel.obs.output.csv',\n",
       "   'plsnt-lgr-parent.sfr.obs.output.csv',\n",
       "   'pleasant-lgr.mvr',\n",
       "   'plsnt-lgr-parent.dis.grb',\n",
       "   'plsnt-lgr-inset.head.obs',\n",
       "   'plsnt-lgr-inset.rcha',\n",
       "   'plsnt-lgr-parent.oc',\n",
       "   'plsnt-lgr-inset.dis.grb',\n",
       "   'plsnt-lgr-inset.npf',\n",
       "   'plsnt-lgr-parent.list',\n",
       "   'plsnt-lgr-inset.hds',\n",
       "   'plsnt-lgr-inset.lak',\n",
       "   'plsnt-lgr-inset.ic',\n",
       "   'plsnt-lgr-parent.sfr',\n",
       "   'plsnt-lgr-parent.rcha',\n",
       "   'plsnt-lgr-inset.dis',\n",
       "   'plsnt-lgr-parent.nam',\n",
       "   'plsnt-lgr-inset.sfr.cbc',\n",
       "   'plsnt-lgr-parent.sto',\n",
       "   'plsnt-lgr-parent.chd.obs',\n",
       "   'plsnt-lgr-inset.cbc',\n",
       "   'pleasant-lgr.tdis',\n",
       "   'plsnt-lgr-inset.obs',\n",
       "   'pleasant-lgr.gwfgwf',\n",
       "   'plsnt-lgr-inset.list',\n",
       "   'lake1.obs.csv',\n",
       "   'mfsim.nam',\n",
       "   'plsnt-lgr-parent.ic',\n",
       "   'plsnt-lgr-parent.cbc',\n",
       "   'plsnt-lgr-parent.obs',\n",
       "   'plsnt-lgr-inset.sto',\n",
       "   'plsnt-lgr-inset_grid.json',\n",
       "   'plsnt-lgr-parent.chd',\n",
       "   'mfsim.lst',\n",
       "   'plsnt-lgr-parent.dis',\n",
       "   'plsnt-lgr-inset.oc',\n",
       "   'plsnt-lgr-inset.nam',\n",
       "   'plsnt-lgr-parent.head.obs',\n",
       "   'plsnt-lgr-parent_dropped_wells.csv',\n",
       "   'plsnt-lgr-parent.wel.obs',\n",
       "   'plsnt-lgr-parent.chd.obs.output.csv',\n",
       "   'plsnt-lgr-parent.sfr.obs',\n",
       "   'plsnt-lgr-parent.sfr.out.bin',\n",
       "   'plsnt-lgr-inset.sfr',\n",
       "   'plsnt-lgr-parent.sfr.stage.bin',\n",
       "   'plsnt-lgr-inset_lak_lookup.csv']),\n",
       " ('../part1_flopy/data/pleasant-lgr/tables',\n",
       "  [],\n",
       "  ['plsnt-lgr-inset_sfr_reach_data.csv',\n",
       "   'boundary_cells.shx',\n",
       "   'boundary_cells.cpg',\n",
       "   'boundary_cells.shp',\n",
       "   'plsnt-lgr-parent_sfr_segment_data.csv',\n",
       "   'plsnt-lgr-inset_sfr_segment_data.csv',\n",
       "   'boundary_cells.dbf',\n",
       "   'boundary_cells.prj',\n",
       "   'stress_period_data.csv',\n",
       "   'plsnt-lgr-inset_lak_connections_lookup.csv',\n",
       "   'plsnt-lgr-parent_sfr_reach_data.csv',\n",
       "   'plsnt-lgr-inset_wel_lookup.csv',\n",
       "   'plsnt-lgr-parent_wel_lookup.csv']),\n",
       " ('../part1_flopy/data/pleasant-lgr/postproc',\n",
       "  ['shps', 'pdfs', 'rasters'],\n",
       "  []),\n",
       " ('../part1_flopy/data/pleasant-lgr/postproc/shps',\n",
       "  [],\n",
       "  ['plsnt_lgr_parent_grid.shp',\n",
       "   'plsnt-lgr-inset_bbox.shx',\n",
       "   'plsnt_lgr_parent_grid.cpg',\n",
       "   'plsnt-lgr-parent_sfr_observations.shx',\n",
       "   'plsnt-lgr-inset_sfr_routing.dbf',\n",
       "   'plsnt-lgr-inset_bbox.shp',\n",
       "   'plsnt_lgr_parent_grid.shx',\n",
       "   'plsnt-lgr-inset_bbox.cpg',\n",
       "   'plsnt-lgr-parent_sfr_observations.shp',\n",
       "   'plsnt-lgr-parent_sfr_observations.cpg',\n",
       "   'plsnt-lgr-parent_sfr_lines.dbf',\n",
       "   'plsnt-lgr-inset_sfr_cells.prj',\n",
       "   'plsnt-lgr-parent_bbox.prj',\n",
       "   'plsnt-lgr-parent_sfr_cells.dbf',\n",
       "   'plsnt-lgr-inset_sfr_outlets.dbf',\n",
       "   'plsnt-lgr-inset_sfr_lines.prj',\n",
       "   'plsnt-lgr-parent_grid.dbf',\n",
       "   'plsnt-lgr-inset_sfr_outlets.shp',\n",
       "   'plsnt-lgr-parent_sfr_cells.cpg',\n",
       "   'plsnt-lgr-parent_sfr_lines.shx',\n",
       "   'plsnt-lgr-inset_sfr_outlets.cpg',\n",
       "   'plsnt-lgr-parent_sfr_cells.shp',\n",
       "   'plsnt-lgr-parent_grid.shp',\n",
       "   'plsnt-lgr-parent_sfr_outlets.prj',\n",
       "   'plsnt-lgr-parent_grid.cpg',\n",
       "   'plsnt-lgr-parent_sfr_lines.cpg',\n",
       "   'plsnt-lgr-inset_sfr_outlets.shx',\n",
       "   'plsnt-lgr-parent_sfr_cells.shx',\n",
       "   'plsnt-lgr-parent_sfr_lines.shp',\n",
       "   'plsnt-lgr-parent_grid.shx',\n",
       "   'plsnt-lgr-inset_bbox.dbf',\n",
       "   'plsnt-lgr-parent_sfr_observations.dbf',\n",
       "   'plsnt-lgr-inset_sfr_routing.shp',\n",
       "   'plsnt-lgr-inset_sfr_routing.cpg',\n",
       "   'plsnt-lgr-parent_sfr_routing.prj',\n",
       "   'plsnt-lgr-inset_grid.prj',\n",
       "   'plsnt_lgr_parent_grid.dbf',\n",
       "   'plsnt-lgr-inset_sfr_routing.shx',\n",
       "   'plsnt_lgr_parent_grid.prj',\n",
       "   'plsnt-lgr-inset_grid.dbf',\n",
       "   'plsnt-lgr-parent_sfr_routing.dbf',\n",
       "   'plsnt-lgr-inset_bbox.prj',\n",
       "   'plsnt-lgr-parent_sfr_observations.prj',\n",
       "   'plsnt-lgr-parent_bbox.shx',\n",
       "   'plsnt-lgr-inset_sfr_cells.cpg',\n",
       "   'plsnt-lgr-inset_sfr_cells.shp',\n",
       "   'plsnt-lgr-inset_sfr_lines.shx',\n",
       "   'plsnt-lgr-parent_bbox.cpg',\n",
       "   'plsnt-lgr-parent_bbox.shp',\n",
       "   'plsnt-lgr-inset_sfr_lines.cpg',\n",
       "   'plsnt-lgr-inset_sfr_lines.shp',\n",
       "   'plsnt-lgr-inset_sfr_cells.shx',\n",
       "   'plsnt-lgr-parent_sfr_outlets.dbf',\n",
       "   'plsnt-lgr-inset_sfr_lines.dbf',\n",
       "   'plsnt-lgr-inset_sfr_outlets.prj',\n",
       "   'plsnt-lgr-parent_sfr_cells.prj',\n",
       "   'plsnt-lgr-parent_sfr_outlets.shp',\n",
       "   'plsnt-lgr-parent_grid.prj',\n",
       "   'plsnt-lgr-parent_sfr_outlets.cpg',\n",
       "   'plsnt-lgr-parent_bbox.dbf',\n",
       "   'plsnt-lgr-inset_sfr_cells.dbf',\n",
       "   'plsnt-lgr-parent_sfr_lines.prj',\n",
       "   'plsnt-lgr-parent_sfr_outlets.shx',\n",
       "   'plsnt-lgr-inset_sfr_routing.prj',\n",
       "   'plsnt-lgr-inset_grid.cpg',\n",
       "   'plsnt-lgr-parent_sfr_routing.shp',\n",
       "   'plsnt-lgr-parent_sfr_routing.cpg',\n",
       "   'plsnt-lgr-inset_grid.shp',\n",
       "   'plsnt-lgr-parent_sfr_routing.shx',\n",
       "   'plsnt-lgr-inset_grid.shx']),\n",
       " ('../part1_flopy/data/pleasant-lgr/postproc/pdfs', [], ['figure_2.pdf']),\n",
       " ('../part1_flopy/data/pleasant-lgr/postproc/rasters', [], []),\n",
       " ('../part1_flopy/data/pleasant-lgr/external',\n",
       "  [],\n",
       "  ['plsnt-lgr-parent_idomain_004.dat',\n",
       "   'plsnt-lgr-parent_rch_004.dat',\n",
       "   'plsnt-lgr-parent_rch_010.dat',\n",
       "   'plsnt-lgr-inset_sy_003.dat',\n",
       "   'plsnt-lgr-inset_botm_001.dat',\n",
       "   'plsnt-lgr-inset_strt_000.dat',\n",
       "   'plsnt-lgr-inset_irch.dat',\n",
       "   'plsnt-lgr-inset_strt_001.dat',\n",
       "   'plsnt-lgr-inset_botm_000.dat',\n",
       "   'plsnt-lgr-inset_sy_002.dat',\n",
       "   'plsnt-lgr-parent_rch_011.dat',\n",
       "   'plsnt-lgr-parent_rch_005.dat',\n",
       "   'plsnt-lgr-inset_k_004.dat',\n",
       "   'plsnt-lgr-parent_rch_007.dat',\n",
       "   'plsnt-lgr-inset_sy_000.dat',\n",
       "   'plsnt-lgr-inset_botm_002.dat',\n",
       "   'plsnt-lgr-inset_strt_003.dat',\n",
       "   'plsnt-lgr-inset_strt_002.dat',\n",
       "   'plsnt-lgr-inset_botm_003.dat',\n",
       "   'plsnt-lgr-inset_sy_001.dat',\n",
       "   'plsnt-lgr-parent_rch_006.dat',\n",
       "   'plsnt-lgr-parent_rch_012.dat',\n",
       "   'plsnt-lgr-inset_k_003.dat',\n",
       "   'plsnt-lgr-parent_idomain_002.dat',\n",
       "   'plsnt-lgr-parent_rch_002.dat',\n",
       "   'plsnt-lgr-inset_sy_004.dat',\n",
       "   'plsnt-lgr-parent_rch_003.dat',\n",
       "   'plsnt-lgr-parent_idomain_003.dat',\n",
       "   'plsnt-lgr-inset_k_002.dat',\n",
       "   'plsnt-lgr-inset_k_000.dat',\n",
       "   'plsnt-lgr-parent_idomain_001.dat',\n",
       "   'plsnt-lgr-parent_rch_001.dat',\n",
       "   'plsnt-lgr-inset_botm_004.dat',\n",
       "   'plsnt-lgr-inset_strt_004.dat',\n",
       "   'plsnt-lgr-parent_rch_000.dat',\n",
       "   'plsnt-lgr-parent_idomain_000.dat',\n",
       "   'plsnt-lgr-parent_top.dat',\n",
       "   'plsnt-lgr-inset_k_001.dat',\n",
       "   'plsnt-lgr-parent_chd_007.dat',\n",
       "   'plsnt-lgr-inset_rch_009.dat',\n",
       "   'plsnt-lgr-parent_wel_005.dat',\n",
       "   'plsnt-lgr-inset_k33_004.dat',\n",
       "   'plsnt-lgr-inset_ss_003.dat',\n",
       "   'plsnt-lgr-inset_ss_002.dat',\n",
       "   'plsnt-lgr-parent_wel_010.dat',\n",
       "   'plsnt-lgr-inset_rch_008.dat',\n",
       "   'plsnt-lgr-parent_chd_006.dat',\n",
       "   'plsnt-lgr-parent_chd_012.dat',\n",
       "   'plsnt-lgr-parent_chd_004.dat',\n",
       "   'plsnt-lgr-parent_chd_010.dat',\n",
       "   'plsnt-lgr-parent_wel_006.dat',\n",
       "   'plsnt-lgr-inset_ss_000.dat',\n",
       "   'plsnt-lgr-inset_ss_001.dat',\n",
       "   'plsnt-lgr-inset_top.dat.original',\n",
       "   'plsnt-lgr-parent_wel_007.dat',\n",
       "   'plsnt-lgr-inset_top.dat',\n",
       "   'plsnt-lgr-parent_chd_011.dat',\n",
       "   'plsnt-lgr-parent_chd_005.dat',\n",
       "   'plsnt-lgr-parent_chd_001.dat',\n",
       "   'plsnt-lgr-inset_k33_002.dat',\n",
       "   'plsnt-lgr-inset_ss_004.dat',\n",
       "   'plsnt-lgr-inset_k33_003.dat',\n",
       "   'plsnt-lgr-parent_chd_000.dat',\n",
       "   'plsnt-lgr-parent_chd_002.dat',\n",
       "   'plsnt-lgr-parent_wel_000.dat',\n",
       "   'plsnt-lgr-inset_k33_001.dat',\n",
       "   'plsnt-lgr-parent_top.dat.original',\n",
       "   'plsnt-lgr-inset_k33_000.dat',\n",
       "   'plsnt-lgr-parent_packagedata.dat',\n",
       "   'plsnt-lgr-parent_wel_001.dat',\n",
       "   'plsnt-lgr-parent_chd_003.dat',\n",
       "   'plsnt-lgr-inset_rch_000.dat',\n",
       "   'plsnt-lgr-parent_sy_002.dat',\n",
       "   'plsnt-lgr-inset_idomain_004.dat',\n",
       "   '600059060_stage_area_volume.dat',\n",
       "   'plsnt-lgr-parent_sy_003.dat',\n",
       "   'plsnt-lgr-inset_rch_001.dat',\n",
       "   'plsnt-lgr-inset_rch_003.dat',\n",
       "   'plsnt-lgr-parent_sy_001.dat',\n",
       "   'plsnt-lgr-parent_sy_000.dat',\n",
       "   'plsnt-lgr-inset_rch_002.dat',\n",
       "   'plsnt-lgr-parent_chd_008.dat',\n",
       "   'plsnt-lgr-parent_irch.dat',\n",
       "   'plsnt-lgr-inset_rch_012.dat',\n",
       "   'plsnt-lgr-inset_rch_006.dat',\n",
       "   'plsnt-lgr-parent_sy_004.dat',\n",
       "   'plsnt-lgr-inset_idomain_002.dat',\n",
       "   'plsnt-lgr-inset_idomain_003.dat',\n",
       "   'plsnt-lgr-inset_rch_007.dat',\n",
       "   'plsnt-lgr-parent_chd_009.dat',\n",
       "   'plsnt-lgr-inset_rch_005.dat',\n",
       "   'plsnt-lgr-inset_rch_011.dat',\n",
       "   'plsnt-lgr-parent_wel_009.dat',\n",
       "   'plsnt-lgr-inset_idomain_001.dat',\n",
       "   'plsnt-lgr-inset_idomain_000.dat',\n",
       "   'plsnt-lgr-parent_wel_008.dat',\n",
       "   'plsnt-lgr-inset_rch_010.dat',\n",
       "   'plsnt-lgr-inset_rch_004.dat',\n",
       "   'plsnt-lgr-parent_ss_002.dat',\n",
       "   'plsnt-lgr-parent_k33_000.dat',\n",
       "   'plsnt-lgr-parent_k33_001.dat',\n",
       "   'plsnt-lgr-parent_ss_003.dat',\n",
       "   'plsnt-lgr-parent_ss_001.dat',\n",
       "   'plsnt-lgr-parent_botm_004.dat',\n",
       "   'plsnt-lgr-parent_k33_003.dat',\n",
       "   'plsnt-lgr-parent_k33_002.dat',\n",
       "   'plsnt-lgr-parent_strt_004.dat',\n",
       "   'plsnt-lgr-parent_k_004.dat',\n",
       "   'plsnt-lgr-parent_ss_000.dat',\n",
       "   'plsnt-lgr-parent_ss_004.dat',\n",
       "   'plsnt-lgr-parent_k_000.dat',\n",
       "   'plsnt-lgr-parent_strt_000.dat',\n",
       "   'plsnt-lgr-parent_botm_001.dat',\n",
       "   'plsnt-lgr-parent_botm_000.dat',\n",
       "   'plsnt-lgr-parent_strt_001.dat',\n",
       "   'plsnt-lgr-parent_k_001.dat',\n",
       "   'plsnt-lgr-parent_k_003.dat',\n",
       "   'plsnt-lgr-parent_rch_008.dat',\n",
       "   'plsnt-lgr-parent_strt_003.dat',\n",
       "   'plsnt-lgr-parent_botm_002.dat',\n",
       "   'plsnt-lgr-parent_botm_003.dat',\n",
       "   'plsnt-lgr-parent_k33_004.dat',\n",
       "   'plsnt-lgr-parent_strt_002.dat',\n",
       "   'plsnt-lgr-parent_rch_009.dat',\n",
       "   'plsnt-lgr-parent_k_002.dat']),\n",
       " ('../part1_flopy/data/modelgrid_intersection',\n",
       "  [],\n",
       "  ['active_area.shx',\n",
       "   'sagehen_nhd.shp',\n",
       "   'sagehen_main_nhd.cpg',\n",
       "   'sagehen_main_nhd.shp',\n",
       "   'sagehen_nhd.cpg',\n",
       "   'active_area.shp',\n",
       "   'sagehen_nhd.shx',\n",
       "   'sagehen_main_nhd.shx',\n",
       "   'trib_cells.txt',\n",
       "   'sagehen_basin.prj',\n",
       "   'refined_area.prj',\n",
       "   'active_area.dbf',\n",
       "   'ksat.img',\n",
       "   'sagehen_main_nhd.dbf',\n",
       "   'sagehen_nhd.dbf',\n",
       "   'pet.txt',\n",
       "   'sagehen_nhd.prj',\n",
       "   'sagehen_main_nhd.prj',\n",
       "   'refined_area.dbf',\n",
       "   'active_area.prj',\n",
       "   'pet.tif',\n",
       "   'sagehen_basin.shx',\n",
       "   'sagehen_basin.cpg',\n",
       "   'sagehen_basin.shp',\n",
       "   'sagehen_basin.dbf',\n",
       "   'dem_30m.img',\n",
       "   'prcp.tif',\n",
       "   'refined_area.shp',\n",
       "   'refined_area.shx']),\n",
       " ('../part1_flopy/data/voronoi',\n",
       "  ['grid'],\n",
       "  ['project.disv',\n",
       "   'project.lst',\n",
       "   'project.sfr',\n",
       "   'project.disv.grb',\n",
       "   'project.ic',\n",
       "   'project.nam',\n",
       "   'project.ims',\n",
       "   'project.cbc',\n",
       "   'project.chd',\n",
       "   'project.npf',\n",
       "   'project.tdis',\n",
       "   'project.hds',\n",
       "   'sfr_obs.csv',\n",
       "   'project.wel',\n",
       "   'project.oc',\n",
       "   'mfsim.nam',\n",
       "   'project.sfr.obs',\n",
       "   'project.rcha',\n",
       "   'mfsim.lst']),\n",
       " ('../part1_flopy/data/voronoi/grid',\n",
       "  [],\n",
       "  ['_triangle.1.edge',\n",
       "   '_triangle.1.ele',\n",
       "   '_triangle.1.poly',\n",
       "   '_triangle.0.node',\n",
       "   '_triangle.1.node',\n",
       "   '_triangle.0.poly',\n",
       "   '_triangle.1.neigh']),\n",
       " ('../part1_flopy/data/pleasant-lake',\n",
       "  ['source_data', 'external'],\n",
       "  ['pleasant.tdis',\n",
       "   'pleasant.sfr.out.bin',\n",
       "   'pleasant.sto',\n",
       "   'pleasant.lak.obs',\n",
       "   'pleasant.nam',\n",
       "   '.DS_Store',\n",
       "   'pleasant_grid.json',\n",
       "   'pleasant.sfr',\n",
       "   'pleasant.oc',\n",
       "   'pleasant.sfr.obs.output.csv',\n",
       "   'pleasant.dis',\n",
       "   'pleasant.obs',\n",
       "   'pleasant.dis.grb',\n",
       "   'pleasant.rcha',\n",
       "   'pleasant.cbc',\n",
       "   'pleasant.chd',\n",
       "   'pleasant_SFR.chk',\n",
       "   'pleasant.ims',\n",
       "   'pleasant.list',\n",
       "   'pleasant.head.obs',\n",
       "   'pleasant.npf',\n",
       "   'pleasant.chd.obs.output.csv',\n",
       "   'pleasant.hds',\n",
       "   'pleasant.sfr.obs',\n",
       "   'pleasant.wel',\n",
       "   'pleasant.lak',\n",
       "   'lake1.obs.csv',\n",
       "   'mfsim.nam',\n",
       "   'pleasant.sfr.stage.bin',\n",
       "   'pleasant_lak_lookup.csv',\n",
       "   'pleasant.ic',\n",
       "   'mfsim.lst',\n",
       "   'pleasant.chd.obs']),\n",
       " ('../part1_flopy/data/pleasant-lake/source_data',\n",
       "  ['tables', 'shps', 'rasters'],\n",
       "  ['.DS_Store',\n",
       "   'PRISM_ppt_tmean_stable_4km_189501_201901_43.9850_-89.5522.csv']),\n",
       " ('../part1_flopy/data/pleasant-lake/source_data/tables',\n",
       "  [],\n",
       "  ['uwsp_heads.csv',\n",
       "   'wdnr_gw_sites.csv',\n",
       "   'gages.csv',\n",
       "   'area_stage_vol_Pleasant.csv',\n",
       "   'wgnhs_head_targets.csv',\n",
       "   'lake_sites.csv',\n",
       "   'master_wu.csv',\n",
       "   'nwis_heads_info_file.csv']),\n",
       " ('../part1_flopy/data/pleasant-lake/source_data/shps',\n",
       "  ['NHDSnapshot', 'NHDPlusAttributes'],\n",
       "  ['all_lakes.dbf',\n",
       "   '.DS_Store',\n",
       "   'ghb_lake.dbf',\n",
       "   'wood_lake.shp',\n",
       "   'wood_lake.cpg',\n",
       "   'wood_lake.shx',\n",
       "   'ghb_lake.shx',\n",
       "   'wood_lake.dbf',\n",
       "   'ghb_lake.shp',\n",
       "   'ghb_lake.cpg',\n",
       "   'all_lakes.shx',\n",
       "   'all_lakes.cpg',\n",
       "   'all_lakes.shp',\n",
       "   'wood_lake.qpj',\n",
       "   'csls_sources_wu_pts.dbf',\n",
       "   'wood_lake.prj',\n",
       "   'ghb_lake.prj',\n",
       "   'csls_sources_wu_pts.shp',\n",
       "   'csls_sources_wu_pts.cpg',\n",
       "   'all_lakes.prj',\n",
       "   'ghb_lake.qpj',\n",
       "   'csls_sources_wu_pts.shx']),\n",
       " ('../part1_flopy/data/pleasant-lake/source_data/shps/NHDSnapshot',\n",
       "  ['Hydrography'],\n",
       "  ['.DS_Store']),\n",
       " ('../part1_flopy/data/pleasant-lake/source_data/shps/NHDSnapshot/Hydrography',\n",
       "  [],\n",
       "  ['NHDFlowline.dbf',\n",
       "   'NHDFlowline.shx',\n",
       "   'NHDFlowline.shp',\n",
       "   'NHDFlowline.cpg',\n",
       "   'NHDFlowline.prj']),\n",
       " ('../part1_flopy/data/pleasant-lake/source_data/shps/NHDPlusAttributes',\n",
       "  [],\n",
       "  ['elevslope.dbf',\n",
       "   'elevslope.cpg',\n",
       "   'PlusFlowlineVAA.cpg',\n",
       "   'PlusFlow.cpg',\n",
       "   'PlusFlow.dbf',\n",
       "   'PlusFlowlineVAA.dbf']),\n",
       " ('../part1_flopy/data/pleasant-lake/source_data/rasters',\n",
       "  [],\n",
       "  ['.DS_Store',\n",
       "   'dem40m.tif',\n",
       "   'dem40m.projected.tif',\n",
       "   'pleasant_bathymetry.projected.tif.aux.xml',\n",
       "   'botm1.tif',\n",
       "   'botm0.tif',\n",
       "   'botm2.tif',\n",
       "   'pleasant_bathymetry.tif.aux.xml',\n",
       "   'dem40m.tif.aux.xml',\n",
       "   'botm3.tif',\n",
       "   'pleasant_bathymetry.tif']),\n",
       " ('../part1_flopy/data/pleasant-lake/external',\n",
       "  [],\n",
       "  ['rch_009.dat',\n",
       "   'rch_008.dat',\n",
       "   'k33_002.dat',\n",
       "   'sy_001.dat',\n",
       "   'sy_000.dat',\n",
       "   'k33_003.dat',\n",
       "   'k33_001.dat',\n",
       "   'sy_002.dat',\n",
       "   'sy_003.dat',\n",
       "   'k33_000.dat',\n",
       "   'wel_008.dat',\n",
       "   'wel_009.dat',\n",
       "   'chd_009.dat',\n",
       "   'chd_008.dat',\n",
       "   'ss_001.dat',\n",
       "   'k_003.dat',\n",
       "   'k_002.dat',\n",
       "   'ss_000.dat',\n",
       "   'ss_002.dat',\n",
       "   'pleasant_top.dat.original',\n",
       "   'k_000.dat',\n",
       "   'k_001.dat',\n",
       "   'ss_003.dat',\n",
       "   'wel_001.dat',\n",
       "   'chd_003.dat',\n",
       "   'chd_002.dat',\n",
       "   '600059060_stage_area_volume.dat',\n",
       "   'wel_000.dat',\n",
       "   'chd_000.dat',\n",
       "   'chd_001.dat',\n",
       "   'wel_007.dat',\n",
       "   'top.dat',\n",
       "   'chd_005.dat',\n",
       "   'chd_011.dat',\n",
       "   'chd_010.dat',\n",
       "   'chd_004.dat',\n",
       "   'wel_006.dat',\n",
       "   'wel_004.dat',\n",
       "   'wel_010.dat',\n",
       "   'chd_012.dat',\n",
       "   'chd_006.dat',\n",
       "   'chd_007.dat',\n",
       "   'wel_005.dat',\n",
       "   'botm_002.dat',\n",
       "   'strt_003.dat',\n",
       "   'pleasant_packagedata.dat',\n",
       "   'rch_000.dat',\n",
       "   'rch_001.dat',\n",
       "   'strt_002.dat',\n",
       "   'botm_003.dat',\n",
       "   'botm_001.dat',\n",
       "   'strt_000.dat',\n",
       "   'rch_003.dat',\n",
       "   'irch.dat',\n",
       "   'rch_002.dat',\n",
       "   'strt_001.dat',\n",
       "   'botm_000.dat',\n",
       "   'rch_012.dat',\n",
       "   'idomain_002.dat',\n",
       "   'rch_006.dat',\n",
       "   'rch_007.dat',\n",
       "   'idomain_003.dat',\n",
       "   'rch_005.dat',\n",
       "   'idomain_001.dat',\n",
       "   'rch_011.dat',\n",
       "   'idomain_000.dat',\n",
       "   'rch_010.dat',\n",
       "   'rch_004.dat']),\n",
       " ('../part1_flopy/data/quadtree',\n",
       "  ['grid'],\n",
       "  ['project.disv',\n",
       "   'project.lst',\n",
       "   'project.sfr',\n",
       "   'project.disv.grb',\n",
       "   'project.ic',\n",
       "   'project.nam',\n",
       "   'project.ims',\n",
       "   'project.cbc',\n",
       "   'project.chd',\n",
       "   'project.npf',\n",
       "   'project.tdis',\n",
       "   'project.hds',\n",
       "   'sfr_obs.csv',\n",
       "   'project.wel',\n",
       "   'project.oc',\n",
       "   'mfsim.nam',\n",
       "   'project.sfr.obs',\n",
       "   'project.rcha',\n",
       "   'mfsim.lst']),\n",
       " ('../part1_flopy/data/quadtree/grid',\n",
       "  [],\n",
       "  ['qtg.area.dat',\n",
       "   'qtgrid_pt.dbf',\n",
       "   'quadtreegrid.tsf',\n",
       "   '_gridgen_build.dfn',\n",
       "   'qtg.ja.dat',\n",
       "   'qtgrid_pt.shx',\n",
       "   'qtgrid_pt.shp',\n",
       "   'qtg.vtu',\n",
       "   'quadtreegrid.top1.dat',\n",
       "   '_gridgen_export.dfn',\n",
       "   'qtg.nodesperlay.dat',\n",
       "   'qtgrid.shp',\n",
       "   'qtg.fldr.dat',\n",
       "   'qtg.iac.dat',\n",
       "   'qtg.gnc.dat',\n",
       "   'qtgrid.shx',\n",
       "   'qtg.ia.dat',\n",
       "   'qtg_sv.vtu',\n",
       "   'qtg.c2.dat',\n",
       "   'qtg.fahl.dat',\n",
       "   'qtg.c1.dat',\n",
       "   'qtgrid.dbf',\n",
       "   'quadtreegrid.bot1.dat',\n",
       "   'qtg.nod',\n",
       "   'quadtreegrid.dfn']),\n",
       " ('../part0_python_intro',\n",
       "  ['extracted_data',\n",
       "   '03-output',\n",
       "   'solutions',\n",
       "   'another_subfolder',\n",
       "   '__pycache__',\n",
       "   '.ipynb_checkpoints',\n",
       "   'data'],\n",
       "  ['07b_VSCode.md',\n",
       "   '.DS_Store',\n",
       "   'russian_river.png',\n",
       "   '00_skills_test_on_basics.ipynb',\n",
       "   '00_python_basics_review.ipynb',\n",
       "   '05_numpy.ipynb',\n",
       "   '02_Namespace_objects_modules_packages.ipynb',\n",
       "   '06_matplotlib.ipynb',\n",
       "   'test.py',\n",
       "   '01_functions_scripts.ipynb',\n",
       "   '08_pandas.ipynb',\n",
       "   '04_files_and_strings.ipynb',\n",
       "   '10_Rasterio.ipynb',\n",
       "   '03_useful-std-library-modules.ipynb',\n",
       "   '11_xarray_mt_rainier_precip.ipynb',\n",
       "   '07a_Theis-exercise-solution.py',\n",
       "   '07a_Theis-exercise.ipynb',\n",
       "   '09_Geopandas.ipynb',\n",
       "   'junk.zip',\n",
       "   'circle_module.py']),\n",
       " ('../part0_python_intro/extracted_data', ['data'], []),\n",
       " ('../part0_python_intro/extracted_data/data', ['xarray'], []),\n",
       " ('../part0_python_intro/extracted_data/data/xarray',\n",
       "  [],\n",
       "  ['daymet_prcp_rainier_1980-2018.nc']),\n",
       " ('../part0_python_intro/03-output',\n",
       "  ['netcdf_data'],\n",
       "  ['prcp_2001.nc',\n",
       "   'prcp_1980.nc',\n",
       "   'prcp_1990.nc',\n",
       "   'prcp_2011.nc',\n",
       "   'prcp_2005.nc',\n",
       "   'prcp_1984.nc',\n",
       "   'prcp_1994.nc',\n",
       "   'prcp_2015.nc',\n",
       "   'prcp_2004.nc',\n",
       "   'prcp_1985.nc',\n",
       "   'prcp_1995.nc',\n",
       "   'prcp_2014.nc',\n",
       "   'prcp_2000.nc',\n",
       "   'prcp_1981.nc',\n",
       "   'prcp_1991.nc',\n",
       "   'prcp_2010.nc',\n",
       "   'prcp_2007.nc',\n",
       "   'prcp_1986.nc',\n",
       "   'prcp_1996.nc',\n",
       "   'prcp_2017.nc',\n",
       "   'prcp_2003.nc',\n",
       "   'prcp_1982.nc',\n",
       "   'prcp_1992.nc',\n",
       "   'prcp_2013.nc',\n",
       "   'prcp_2002.nc',\n",
       "   'prcp_1983.nc',\n",
       "   'prcp_1993.nc',\n",
       "   'prcp_2012.nc',\n",
       "   'prcp_2006.nc',\n",
       "   'prcp_1987.nc',\n",
       "   'prcp_1997.nc',\n",
       "   'prcp_2016.nc',\n",
       "   'prcp_1988.nc',\n",
       "   'prcp_2009.nc',\n",
       "   'prcp_1998.nc',\n",
       "   'prcp_1989.nc',\n",
       "   'prcp_2008.nc',\n",
       "   'prcp_1999.nc']),\n",
       " ('../part0_python_intro/03-output/netcdf_data', ['zipped'], []),\n",
       " ('../part0_python_intro/03-output/netcdf_data/zipped',\n",
       "  ['zipped_1991',\n",
       "   'zipped_1996',\n",
       "   'zipped_1998',\n",
       "   'zipped_1999',\n",
       "   'zipped_1997',\n",
       "   'zipped_1990',\n",
       "   'zipped_2003',\n",
       "   'zipped_2004',\n",
       "   'zipped_2005',\n",
       "   'zipped_2002',\n",
       "   'zipped_2011',\n",
       "   'zipped_2016',\n",
       "   'zipped_2017',\n",
       "   'zipped_2010',\n",
       "   'zipped_1983',\n",
       "   'zipped_1984',\n",
       "   'zipped_1985',\n",
       "   'zipped_1982',\n",
       "   'zipped_1995',\n",
       "   'zipped_1992',\n",
       "   'zipped_1993',\n",
       "   'zipped_1994',\n",
       "   'zipped_2009',\n",
       "   'zipped_2007',\n",
       "   'zipped_2000',\n",
       "   'zipped_2001',\n",
       "   'zipped_2006',\n",
       "   'zipped_2008',\n",
       "   'zipped_2015',\n",
       "   'zipped_2012',\n",
       "   'zipped_2013',\n",
       "   'zipped_2014',\n",
       "   'zipped_1989',\n",
       "   'zipped_1987',\n",
       "   'zipped_1980',\n",
       "   'zipped_1981',\n",
       "   'zipped_1986',\n",
       "   'zipped_1988'],\n",
       "  []),\n",
       " ('../part0_python_intro/03-output/netcdf_data/zipped/zipped_1991',\n",
       "  [],\n",
       "  ['12270_1991.zip']),\n",
       " ('../part0_python_intro/03-output/netcdf_data/zipped/zipped_1996',\n",
       "  [],\n",
       "  ['12270_1996.zip']),\n",
       " ('../part0_python_intro/03-output/netcdf_data/zipped/zipped_1998',\n",
       "  [],\n",
       "  ['12270_1998.zip']),\n",
       " ('../part0_python_intro/03-output/netcdf_data/zipped/zipped_1999',\n",
       "  [],\n",
       "  ['12270_1999.zip']),\n",
       " ('../part0_python_intro/03-output/netcdf_data/zipped/zipped_1997',\n",
       "  [],\n",
       "  ['12270_1997.zip']),\n",
       " ('../part0_python_intro/03-output/netcdf_data/zipped/zipped_1990',\n",
       "  [],\n",
       "  ['12270_1990.zip']),\n",
       " ('../part0_python_intro/03-output/netcdf_data/zipped/zipped_2003',\n",
       "  [],\n",
       "  ['12270_2003.zip']),\n",
       " ('../part0_python_intro/03-output/netcdf_data/zipped/zipped_2004',\n",
       "  [],\n",
       "  ['12270_2004.zip']),\n",
       " ('../part0_python_intro/03-output/netcdf_data/zipped/zipped_2005',\n",
       "  [],\n",
       "  ['12270_2005.zip']),\n",
       " ('../part0_python_intro/03-output/netcdf_data/zipped/zipped_2002',\n",
       "  [],\n",
       "  ['12270_2002.zip']),\n",
       " ('../part0_python_intro/03-output/netcdf_data/zipped/zipped_2011',\n",
       "  [],\n",
       "  ['12270_2011.zip']),\n",
       " ('../part0_python_intro/03-output/netcdf_data/zipped/zipped_2016',\n",
       "  [],\n",
       "  ['12270_2016.zip']),\n",
       " ('../part0_python_intro/03-output/netcdf_data/zipped/zipped_2017',\n",
       "  [],\n",
       "  ['12270_2017.zip']),\n",
       " ('../part0_python_intro/03-output/netcdf_data/zipped/zipped_2010',\n",
       "  [],\n",
       "  ['12270_2010.zip']),\n",
       " ('../part0_python_intro/03-output/netcdf_data/zipped/zipped_1983',\n",
       "  [],\n",
       "  ['12270_1983.zip']),\n",
       " ('../part0_python_intro/03-output/netcdf_data/zipped/zipped_1984',\n",
       "  [],\n",
       "  ['12270_1984.zip']),\n",
       " ('../part0_python_intro/03-output/netcdf_data/zipped/zipped_1985',\n",
       "  [],\n",
       "  ['12270_1985.zip']),\n",
       " ('../part0_python_intro/03-output/netcdf_data/zipped/zipped_1982',\n",
       "  [],\n",
       "  ['12270_1982.zip']),\n",
       " ('../part0_python_intro/03-output/netcdf_data/zipped/zipped_1995',\n",
       "  [],\n",
       "  ['12270_1995.zip']),\n",
       " ('../part0_python_intro/03-output/netcdf_data/zipped/zipped_1992',\n",
       "  [],\n",
       "  ['12270_1992.zip']),\n",
       " ('../part0_python_intro/03-output/netcdf_data/zipped/zipped_1993',\n",
       "  [],\n",
       "  ['12270_1993.zip']),\n",
       " ('../part0_python_intro/03-output/netcdf_data/zipped/zipped_1994',\n",
       "  [],\n",
       "  ['12270_1994.zip']),\n",
       " ('../part0_python_intro/03-output/netcdf_data/zipped/zipped_2009',\n",
       "  [],\n",
       "  ['12270_2009.zip']),\n",
       " ('../part0_python_intro/03-output/netcdf_data/zipped/zipped_2007',\n",
       "  [],\n",
       "  ['12270_2007.zip']),\n",
       " ('../part0_python_intro/03-output/netcdf_data/zipped/zipped_2000',\n",
       "  [],\n",
       "  ['12270_2000.zip']),\n",
       " ('../part0_python_intro/03-output/netcdf_data/zipped/zipped_2001',\n",
       "  [],\n",
       "  ['12270_2001.zip']),\n",
       " ('../part0_python_intro/03-output/netcdf_data/zipped/zipped_2006',\n",
       "  [],\n",
       "  ['12270_2006.zip']),\n",
       " ('../part0_python_intro/03-output/netcdf_data/zipped/zipped_2008',\n",
       "  [],\n",
       "  ['12270_2008.zip']),\n",
       " ('../part0_python_intro/03-output/netcdf_data/zipped/zipped_2015',\n",
       "  [],\n",
       "  ['12270_2015.zip']),\n",
       " ('../part0_python_intro/03-output/netcdf_data/zipped/zipped_2012',\n",
       "  [],\n",
       "  ['12270_2012.zip']),\n",
       " ('../part0_python_intro/03-output/netcdf_data/zipped/zipped_2013',\n",
       "  [],\n",
       "  ['12270_2013.zip']),\n",
       " ('../part0_python_intro/03-output/netcdf_data/zipped/zipped_2014',\n",
       "  [],\n",
       "  ['12270_2014.zip']),\n",
       " ('../part0_python_intro/03-output/netcdf_data/zipped/zipped_1989',\n",
       "  [],\n",
       "  ['12270_1989.zip']),\n",
       " ('../part0_python_intro/03-output/netcdf_data/zipped/zipped_1987',\n",
       "  [],\n",
       "  ['12270_1987.zip']),\n",
       " ('../part0_python_intro/03-output/netcdf_data/zipped/zipped_1980',\n",
       "  [],\n",
       "  ['12270_1980.zip']),\n",
       " ('../part0_python_intro/03-output/netcdf_data/zipped/zipped_1981',\n",
       "  [],\n",
       "  ['12270_1981.zip']),\n",
       " ('../part0_python_intro/03-output/netcdf_data/zipped/zipped_1986',\n",
       "  [],\n",
       "  ['12270_1986.zip']),\n",
       " ('../part0_python_intro/03-output/netcdf_data/zipped/zipped_1988',\n",
       "  [],\n",
       "  ['12270_1988.zip']),\n",
       " ('../part0_python_intro/solutions',\n",
       "  ['extracted_data', '__pycache__', '.ipynb_checkpoints'],\n",
       "  ['.DS_Store',\n",
       "   '00_python_basics_review__solutions.ipynb',\n",
       "   '01_functions_script__solution.ipynb',\n",
       "   '06_matplotlib__solution.ipynb',\n",
       "   '09_Geopandas__solutions.ipynb',\n",
       "   '08_pandas.ipynb',\n",
       "   '05_numpy__solutions.ipynb',\n",
       "   '04_files_and_strings.ipynb',\n",
       "   'myscript.py',\n",
       "   '02_Namespace_objects_modules_packages__solution.ipynb',\n",
       "   '00_skills_test_on_basics__solution.ipynb',\n",
       "   '07a_Theis-exercise-solution.py',\n",
       "   '07a_Theis-exercise-solution.ipynb',\n",
       "   '03_useful-std-library-modules-solutions.ipynb',\n",
       "   'circle_module.py']),\n",
       " ('../part0_python_intro/solutions/extracted_data',\n",
       "  [],\n",
       "  ['prcp_2001.nc',\n",
       "   'prcp_1980.nc',\n",
       "   'prcp_1990.nc',\n",
       "   'prcp_2011.nc',\n",
       "   'prcp_2005.nc',\n",
       "   'prcp_1984.nc',\n",
       "   'prcp_1994.nc',\n",
       "   'prcp_2015.nc',\n",
       "   'prcp_2004.nc',\n",
       "   'prcp_1985.nc',\n",
       "   'prcp_1995.nc',\n",
       "   'prcp_2014.nc',\n",
       "   'prcp_2000.nc',\n",
       "   'prcp_1981.nc',\n",
       "   'prcp_1991.nc',\n",
       "   'prcp_2010.nc',\n",
       "   'prcp_2007.nc',\n",
       "   'prcp_1986.nc',\n",
       "   'prcp_1996.nc',\n",
       "   'prcp_2017.nc',\n",
       "   'prcp_2003.nc',\n",
       "   'prcp_1982.nc',\n",
       "   'prcp_1992.nc',\n",
       "   'prcp_2013.nc',\n",
       "   'prcp_2002.nc',\n",
       "   'prcp_1983.nc',\n",
       "   'prcp_1993.nc',\n",
       "   'prcp_2012.nc',\n",
       "   'prcp_2006.nc',\n",
       "   'prcp_1987.nc',\n",
       "   'prcp_1997.nc',\n",
       "   'prcp_2016.nc',\n",
       "   'prcp_1988.nc',\n",
       "   'prcp_2009.nc',\n",
       "   'prcp_1998.nc',\n",
       "   'prcp_1989.nc',\n",
       "   'prcp_2008.nc',\n",
       "   'prcp_1999.nc']),\n",
       " ('../part0_python_intro/solutions/__pycache__',\n",
       "  [],\n",
       "  ['circle_module.cpython-311.pyc']),\n",
       " ('../part0_python_intro/solutions/.ipynb_checkpoints',\n",
       "  [],\n",
       "  ['07_Theis-exercise-solution-Copy1-checkpoint.ipynb',\n",
       "   '07_Theis-exercise-solution-checkpoint.ipynb',\n",
       "   '07a_Theis-exercise-solution-checkpoint.ipynb',\n",
       "   '03_useful-std-library-modules-solutions-checkpoint.ipynb',\n",
       "   '03_sys-os-shutil-pathlib-solutions-checkpoint.ipynb']),\n",
       " ('../part0_python_intro/another_subfolder', ['scripts'], []),\n",
       " ('../part0_python_intro/another_subfolder/scripts',\n",
       "  ['__pycache__'],\n",
       "  ['mycode.py']),\n",
       " ('../part0_python_intro/another_subfolder/scripts/__pycache__',\n",
       "  [],\n",
       "  ['mycode.cpython-39.pyc', 'mycode.cpython-311.pyc']),\n",
       " ('../part0_python_intro/__pycache__', [], ['circle_module.cpython-39.pyc']),\n",
       " ('../part0_python_intro/.ipynb_checkpoints',\n",
       "  [],\n",
       "  ['07_Theis-exercise-checkpoint.ipynb',\n",
       "   '07a_Theis-exercise-solution-checkpoint.py',\n",
       "   '11_xarray_mt_rainier_precip-checkpoint.ipynb',\n",
       "   '03_sys-os-shutil-pathlib-Copy1-checkpoint.ipynb',\n",
       "   '07a_Theis-exercise-checkpoint.ipynb',\n",
       "   '03_sys-os-shutil-pathlib-checkpoint.ipynb',\n",
       "   '03_useful-std-library-modules-checkpoint.ipynb']),\n",
       " ('../part0_python_intro/data',\n",
       "  ['rasterio',\n",
       "   'fileio',\n",
       "   'geopandas',\n",
       "   'numpy',\n",
       "   'matplotlib',\n",
       "   'xarray',\n",
       "   'pandas'],\n",
       "  ['netcdf_data.zip', 'dream.txt', '.DS_Store', 'theis_charles_vernon.jpg']),\n",
       " ('../part0_python_intro/data/rasterio',\n",
       "  [],\n",
       "  ['20150818_rainier_summer-tile-30.tif',\n",
       "   'rgi60_glacierpoly_rainier.prj',\n",
       "   'aligned-19700901_ned1_2003_adj_4269.tif',\n",
       "   'rainier_glaciers_1970-2015_el_change_m.tif.msk',\n",
       "   'rainier_glaciers_1970-2015_el_change_m.tif',\n",
       "   'rgi60_glacierpoly_rainier.shx',\n",
       "   'rgi60_glacierpoly_rainier.shp',\n",
       "   'aligned-20150818_rainier_summer-tile-30.tif',\n",
       "   'aligned-19700901_ned1_2003_adj_warp.tif',\n",
       "   '20080901_rainierlidar_30m-adj.tif',\n",
       "   '19700901_ned1_2003_adj_warp.tif',\n",
       "   'rgi60_glacierpoly_rainier.dbf',\n",
       "   'aligned-20080901_rainierlidar_30m-adj.tif']),\n",
       " ('../part0_python_intro/data/fileio',\n",
       "  [],\n",
       "  ['FileWithComments.txt', 'friends.txt']),\n",
       " ('../part0_python_intro/data/geopandas',\n",
       "  [],\n",
       "  ['parks.prj',\n",
       "   'Madison_Parks.geojson',\n",
       "   'Madison_Tree_Species_Lookup.xlsx',\n",
       "   'TreePlots.pdf',\n",
       "   'Street_Trees.geojson',\n",
       "   'parks.cpg',\n",
       "   'parks.shp',\n",
       "   'parks.json',\n",
       "   'parks.shx',\n",
       "   'Neighborhood_Associations.geojson',\n",
       "   'parks.dbf']),\n",
       " ('../part0_python_intro/data/numpy',\n",
       "  [],\n",
       "  ['mynewarray.dat',\n",
       "   'bottom.txt',\n",
       "   'mt_st_helens_before.dat',\n",
       "   'mt_st_helens_after.dat',\n",
       "   'bottom.dat',\n",
       "   'ahf.csv',\n",
       "   'tmpfile.npy',\n",
       "   'bottom_commented.dat']),\n",
       " ('../part0_python_intro/data/matplotlib', [], []),\n",
       " ('../part0_python_intro/data/xarray',\n",
       "  [],\n",
       "  ['aligned-19700901_ned1_2003_adj_4269.tif',\n",
       "   '.DS_Store',\n",
       "   'daymet_prcp_rainier_1980-2018.nc',\n",
       "   'rainier_prcp_subset.nc']),\n",
       " ('../part0_python_intro/data/pandas',\n",
       "  [],\n",
       "  ['santa_rosa_CIMIS_83.csv',\n",
       "   'RussianRiverGWsites.csv',\n",
       "   'all_years_russian.pdf',\n",
       "   'panda.jpg'])]"
      ]
     },
     "execution_count": 47,
     "metadata": {},
     "output_type": "execute_result"
    }
   ],
   "source": [
    "pth = Path('..')\n",
    "results = list(os.walk(pth))\n",
    "results"
   ]
  },
  {
   "cell_type": "markdown",
   "metadata": {},
   "source": [
    "#### Make a more readable list of just the jupyter notebooks\n",
    "Note: the key advantage of ``os.walk`` over ``glob`` is the recursion-- individual subfolder levels don't need to be known or specified a priori."
   ]
  },
  {
   "cell_type": "code",
   "execution_count": 48,
   "metadata": {},
   "outputs": [
    {
     "name": "stdout",
     "output_type": "stream",
     "text": [
      "../part1_flopy/05-unstructured-grids.ipynb\n",
      "../part1_flopy/10_modpath-demo.ipynb\n",
      "../part1_flopy/09-gwt-voronoi-demo.ipynb\n",
      "../part1_flopy/03_Loading_and_visualizing_models.ipynb\n",
      "../part1_flopy/07-stream_capture_voronoi.ipynb\n",
      "../part1_flopy/06-Project-structured.ipynb\n",
      "../part1_flopy/08_Modflow-setup-demo.ipynb\n",
      "../part1_flopy/04_Modelgrid_and_intersection.ipynb\n",
      "../part1_flopy/02-Building-Post-Processing-MODFLOW6.ipynb\n",
      "../part1_flopy/solutions/03_Loading_and_visualizing_models-solutions.ipynb\n",
      "../part1_flopy/solutions/07-stream_capture_voronoi.ipynb\n",
      "../part1_flopy/solutions/06-Project-voronoi.ipynb\n",
      "../part1_flopy/solutions/06-Project-quadtree.ipynb\n",
      "../part1_flopy/solutions/06-Project-structured_completed.ipynb\n",
      "../part1_flopy/solutions/02-Building-Post-Processing-MODFLOW6__solutions.ipynb\n",
      "../part1_flopy/solutions/04_Modelgrid_and_intersection.ipynb\n",
      "../part1_flopy/solutions/.ipynb_checkpoints/03_Loading_and_visualizing_models-solutions-checkpoint.ipynb\n",
      "../part1_flopy/.ipynb_checkpoints/08_Modflow-setup-demo-checkpoint.ipynb\n",
      "../part1_flopy/.ipynb_checkpoints/03_Loading_and_visualizing_models-checkpoint.ipynb\n",
      "../part0_python_intro/00_skills_test_on_basics.ipynb\n",
      "../part0_python_intro/00_python_basics_review.ipynb\n",
      "../part0_python_intro/05_numpy.ipynb\n",
      "../part0_python_intro/02_Namespace_objects_modules_packages.ipynb\n",
      "../part0_python_intro/06_matplotlib.ipynb\n",
      "../part0_python_intro/01_functions_scripts.ipynb\n",
      "../part0_python_intro/08_pandas.ipynb\n",
      "../part0_python_intro/04_files_and_strings.ipynb\n",
      "../part0_python_intro/10_Rasterio.ipynb\n",
      "../part0_python_intro/03_useful-std-library-modules.ipynb\n",
      "../part0_python_intro/11_xarray_mt_rainier_precip.ipynb\n",
      "../part0_python_intro/07a_Theis-exercise.ipynb\n",
      "../part0_python_intro/09_Geopandas.ipynb\n",
      "../part0_python_intro/solutions/00_python_basics_review__solutions.ipynb\n",
      "../part0_python_intro/solutions/01_functions_script__solution.ipynb\n",
      "../part0_python_intro/solutions/06_matplotlib__solution.ipynb\n",
      "../part0_python_intro/solutions/09_Geopandas__solutions.ipynb\n",
      "../part0_python_intro/solutions/08_pandas.ipynb\n",
      "../part0_python_intro/solutions/05_numpy__solutions.ipynb\n",
      "../part0_python_intro/solutions/04_files_and_strings.ipynb\n",
      "../part0_python_intro/solutions/02_Namespace_objects_modules_packages__solution.ipynb\n",
      "../part0_python_intro/solutions/00_skills_test_on_basics__solution.ipynb\n",
      "../part0_python_intro/solutions/07a_Theis-exercise-solution.ipynb\n",
      "../part0_python_intro/solutions/03_useful-std-library-modules-solutions.ipynb\n",
      "../part0_python_intro/solutions/.ipynb_checkpoints/07_Theis-exercise-solution-Copy1-checkpoint.ipynb\n",
      "../part0_python_intro/solutions/.ipynb_checkpoints/07_Theis-exercise-solution-checkpoint.ipynb\n",
      "../part0_python_intro/solutions/.ipynb_checkpoints/07a_Theis-exercise-solution-checkpoint.ipynb\n",
      "../part0_python_intro/solutions/.ipynb_checkpoints/03_useful-std-library-modules-solutions-checkpoint.ipynb\n",
      "../part0_python_intro/solutions/.ipynb_checkpoints/03_sys-os-shutil-pathlib-solutions-checkpoint.ipynb\n",
      "../part0_python_intro/.ipynb_checkpoints/07_Theis-exercise-checkpoint.ipynb\n",
      "../part0_python_intro/.ipynb_checkpoints/11_xarray_mt_rainier_precip-checkpoint.ipynb\n",
      "../part0_python_intro/.ipynb_checkpoints/03_sys-os-shutil-pathlib-Copy1-checkpoint.ipynb\n",
      "../part0_python_intro/.ipynb_checkpoints/07a_Theis-exercise-checkpoint.ipynb\n",
      "../part0_python_intro/.ipynb_checkpoints/03_sys-os-shutil-pathlib-checkpoint.ipynb\n",
      "../part0_python_intro/.ipynb_checkpoints/03_useful-std-library-modules-checkpoint.ipynb\n"
     ]
    }
   ],
   "source": [
    "for root, dirs, files in os.walk(pth):\n",
    "    for f in files:\n",
    "        filepath = Path(root, f)\n",
    "        if filepath.suffix == '.ipynb':\n",
    "            print(filepath)"
   ]
  },
  {
   "cell_type": "markdown",
   "metadata": {},
   "source": [
    "### Accessing environmental variables"
   ]
  },
  {
   "cell_type": "code",
   "execution_count": 49,
   "metadata": {},
   "outputs": [
    {
     "data": {
      "text/plain": [
       "environ{'TERM_PROGRAM': 'Apple_Terminal',\n",
       "        'SHELL': '/bin/zsh',\n",
       "        'TERM': 'xterm-color',\n",
       "        'TMPDIR': '/var/folders/4x/bmhyjcdn3mgfdvkk_jgz6bsrlnfk3t/T/',\n",
       "        'TERM_PROGRAM_VERSION': '447.1',\n",
       "        'TERM_SESSION_ID': '13ABCC33-0635-4044-A27B-84112DED9C7C',\n",
       "        'USER': 'aleaf',\n",
       "        'SSH_AUTH_SOCK': '/private/tmp/com.apple.launchd.xdjZ8B0Zuc/Listeners',\n",
       "        'PATH': '/Users/aleaf/mambaforge/envs/pyclass/bin:/Users/aleaf/mambaforge/condabin:/usr/local/bin:/System/Cryptexes/App/usr/bin:/usr/bin:/bin:/usr/sbin:/sbin:/var/run/com.apple.security.cryptexd/codex.system/bootstrap/usr/local/bin:/var/run/com.apple.security.cryptexd/codex.system/bootstrap/usr/bin:/var/run/com.apple.security.cryptexd/codex.system/bootstrap/usr/appleinternal/bin:/Users/aleaf/Documents/software/beopest-12.0.1-binaries/x86_64-darwin:/Users/aleaf/Documents/software/pestpp-binaries/mac:/Users/aleaf/Documents/software/modflow_exes:/Users/aleaf/.pixi/bin',\n",
       "        'LaunchInstanceID': '18F4F446-7143-4157-8B2D-F97F31DFD514',\n",
       "        '__CFBundleIdentifier': 'com.apple.Terminal',\n",
       "        'PWD': '/Users/aleaf',\n",
       "        'XPC_FLAGS': '0x0',\n",
       "        'XPC_SERVICE_NAME': '0',\n",
       "        'SHLVL': '1',\n",
       "        'HOME': '/Users/aleaf',\n",
       "        'LOGNAME': 'aleaf',\n",
       "        'SECURITYSESSIONID': '186c7',\n",
       "        'OLDPWD': '/Users/aleaf/Documents/Python_course/python-for-hydrology',\n",
       "        'SSL_CERT_FILE': '/Users/aleaf/cert.pem',\n",
       "        'REQUESTS_CA_BUNDLE': '/Users/aleaf/cert.pem',\n",
       "        'CONDA_EXE': '/Users/aleaf/mambaforge/bin/conda',\n",
       "        '_CE_M': '',\n",
       "        '_CE_CONDA': '',\n",
       "        'CONDA_PYTHON_EXE': '/Users/aleaf/mambaforge/bin/python',\n",
       "        'CONDA_SHLVL': '2',\n",
       "        'CONDA_PREFIX': '/Users/aleaf/mambaforge/envs/pyclass',\n",
       "        'CONDA_DEFAULT_ENV': 'pyclass',\n",
       "        'CONDA_PROMPT_MODIFIER': '(pyclass) ',\n",
       "        'CONDA_PREFIX_1': '/Users/aleaf/mambaforge',\n",
       "        'GDAL_DATA': '/Users/aleaf/mambaforge/envs/pyclass/share/gdal',\n",
       "        'GDAL_DRIVER_PATH': '/Users/aleaf/mambaforge/envs/pyclass/lib/gdalplugins',\n",
       "        'CPL_ZIP_ENCODING': 'UTF-8',\n",
       "        'GSETTINGS_SCHEMA_DIR_CONDA_BACKUP': '',\n",
       "        'GSETTINGS_SCHEMA_DIR': '/Users/aleaf/mambaforge/envs/pyclass/share/glib-2.0/schemas',\n",
       "        'XML_CATALOG_FILES': 'file:///Users/aleaf/mambaforge/envs/pyclass/etc/xml/catalog file:///etc/xml/catalog',\n",
       "        'PROJ_DATA': '/Users/aleaf/mambaforge/envs/pyclass/share/proj',\n",
       "        'PROJ_NETWORK': 'ON',\n",
       "        'LANG': 'en_US.UTF-8',\n",
       "        '_': '/Users/aleaf/mambaforge/envs/pyclass/bin/jupyter',\n",
       "        '__CF_USER_TEXT_ENCODING': '0x2757487A:0x0:0x0',\n",
       "        'PYDEVD_USE_FRAME_EVAL': 'NO',\n",
       "        'JPY_SESSION_NAME': '/Users/aleaf/Documents/Python_course/python-for-hydrology/notebooks/part0_python_intro/03_useful-std-library-modules.ipynb',\n",
       "        'JPY_PARENT_PID': '99297',\n",
       "        'CLICOLOR': '1',\n",
       "        'FORCE_COLOR': '1',\n",
       "        'CLICOLOR_FORCE': '1',\n",
       "        'PAGER': 'cat',\n",
       "        'GIT_PAGER': 'cat',\n",
       "        'MPLBACKEND': 'module://matplotlib_inline.backend_inline'}"
      ]
     },
     "execution_count": 49,
     "metadata": {},
     "output_type": "execute_result"
    }
   ],
   "source": [
    "os.environ"
   ]
  },
  {
   "cell_type": "markdown",
   "metadata": {},
   "source": [
    "#### Example: get the location of the current python (Conda) environment"
   ]
  },
  {
   "cell_type": "code",
   "execution_count": 50,
   "metadata": {},
   "outputs": [
    {
     "data": {
      "text/plain": [
       "'/Users/aleaf/mambaforge/envs/pyclass'"
      ]
     },
     "execution_count": 50,
     "metadata": {},
     "output_type": "execute_result"
    }
   ],
   "source": [
    "os.environ['CONDA_PREFIX']"
   ]
  },
  {
   "cell_type": "markdown",
   "metadata": {},
   "source": [
    "## ``subprocess`` — Subprocess management\n",
    "\n",
    "The subprocess module offers a way to execute system commands, for example MODFLOW, or any operating system command that you can type at the command line.\n",
    "\n",
    "The recommended approach to invoking subprocesses is to use the ``run()`` function for all use cases it can handle. For more advanced use cases, the underlying ``Popen`` interface can be used directly.\n",
    "\n",
    "Take a look at the following help descriptions for ``run``.\n",
    "\n",
    "Note, that on Windows, you may have to specify \"shell=True\" in order to access system commands."
   ]
  },
  {
   "cell_type": "code",
   "execution_count": 51,
   "metadata": {},
   "outputs": [
    {
     "name": "stdout",
     "output_type": "stream",
     "text": [
      "Help on function run in module subprocess:\n",
      "\n",
      "run(*popenargs, input=None, capture_output=False, timeout=None, check=False, **kwargs)\n",
      "    Run command with arguments and return a CompletedProcess instance.\n",
      "    \n",
      "    The returned instance will have attributes args, returncode, stdout and\n",
      "    stderr. By default, stdout and stderr are not captured, and those attributes\n",
      "    will be None. Pass stdout=PIPE and/or stderr=PIPE in order to capture them,\n",
      "    or pass capture_output=True to capture both.\n",
      "    \n",
      "    If check is True and the exit code was non-zero, it raises a\n",
      "    CalledProcessError. The CalledProcessError object will have the return code\n",
      "    in the returncode attribute, and output & stderr attributes if those streams\n",
      "    were captured.\n",
      "    \n",
      "    If timeout is given, and the process takes too long, a TimeoutExpired\n",
      "    exception will be raised.\n",
      "    \n",
      "    There is an optional argument \"input\", allowing you to\n",
      "    pass bytes or a string to the subprocess's stdin.  If you use this argument\n",
      "    you may not also use the Popen constructor's \"stdin\" argument, as\n",
      "    it will be used internally.\n",
      "    \n",
      "    By default, all communication is in bytes, and therefore any \"input\" should\n",
      "    be bytes, and the stdout and stderr will be bytes. If in text mode, any\n",
      "    \"input\" should be a string, and stdout and stderr will be strings decoded\n",
      "    according to locale encoding, or by \"encoding\" if set. Text mode is\n",
      "    triggered by setting any of text, encoding, errors or universal_newlines.\n",
      "    \n",
      "    The other arguments are the same as for the Popen constructor.\n",
      "\n"
     ]
    }
   ],
   "source": [
    "help(subprocess.run)"
   ]
  },
  {
   "cell_type": "code",
   "execution_count": 52,
   "metadata": {},
   "outputs": [
    {
     "name": "stdout",
     "output_type": "stream",
     "text": [
      "00_python_basics_review.ipynb\n",
      "00_skills_test_on_basics.ipynb\n",
      "01_functions_scripts.ipynb\n",
      "02_Namespace_objects_modules_packages.ipynb\n",
      "\u001b[34m03-output\u001b[m\u001b[m\n",
      "03_useful-std-library-modules.ipynb\n",
      "04_files_and_strings.ipynb\n",
      "05_numpy.ipynb\n",
      "06_matplotlib.ipynb\n",
      "07a_Theis-exercise-solution.py\n",
      "07a_Theis-exercise.ipynb\n",
      "07b_VSCode.md\n",
      "08_pandas.ipynb\n",
      "09_Geopandas.ipynb\n",
      "10_Rasterio.ipynb\n",
      "11_xarray_mt_rainier_precip.ipynb\n",
      "\u001b[34m__pycache__\u001b[m\u001b[m\n",
      "\u001b[34manother_subfolder\u001b[m\u001b[m\n",
      "circle_module.py\n",
      "\u001b[34mdata\u001b[m\u001b[m\n",
      "\u001b[34mextracted_data\u001b[m\u001b[m\n",
      "junk.zip\n",
      "russian_river.png\n",
      "\u001b[34msolutions\u001b[m\u001b[m\n",
      "test.py\n",
      "CompletedProcess(args=['ls', '-l'], returncode=0)\n"
     ]
    }
   ],
   "source": [
    "# if on mac/unix\n",
    "print(subprocess.run(['ls', '-l'], shell=True))"
   ]
  },
  {
   "cell_type": "code",
   "execution_count": 53,
   "metadata": {},
   "outputs": [
    {
     "name": "stdout",
     "output_type": "stream",
     "text": [
      "CompletedProcess(args=['dir'], returncode=127)\n"
     ]
    },
    {
     "name": "stderr",
     "output_type": "stream",
     "text": [
      "/bin/sh: dir: command not found\n"
     ]
    }
   ],
   "source": [
    "# if on windows\n",
    "print(subprocess.run(['dir'], shell=True))"
   ]
  },
  {
   "cell_type": "markdown",
   "metadata": {},
   "source": [
    "## ``zipfile`` — Work with ZIP archives\n",
    "\n",
    "#### zip up one of the files in data/"
   ]
  },
  {
   "cell_type": "code",
   "execution_count": 54,
   "metadata": {},
   "outputs": [],
   "source": [
    "with zipfile.ZipFile('junk.zip', 'w') as dest:\n",
    "    dest.write('data/xarray/daymet_prcp_rainier_1980-2018.nc')"
   ]
  },
  {
   "cell_type": "markdown",
   "metadata": {},
   "source": [
    "#### now extract it"
   ]
  },
  {
   "cell_type": "code",
   "execution_count": 55,
   "metadata": {},
   "outputs": [],
   "source": [
    "with zipfile.ZipFile('junk.zip') as src:\n",
    "    src.extract('data/xarray/daymet_prcp_rainier_1980-2018.nc', path='extracted_data')"
   ]
  },
  {
   "cell_type": "markdown",
   "metadata": {},
   "source": [
    "## Testing Your Skills with a truly awful example:\n",
    "\n",
    "#### the problem:\n",
    "Pretend that the file `data/fileio/netcdf_data.zip` contains some climate data (in the NetCDF format with the ``*.nc`` extension) that we downloaded. If you open `data/fileio/netcdf_data.zip`, you'll see that within a subfolder `zipped` are a bunch of additional subfolders, each for a different year. Within each subfolder is another zipfile. Within each of these zipfiles is yet another subfolder, inside of which is the actual data file we want (`prcp.nc`). "
   ]
  },
  {
   "cell_type": "code",
   "execution_count": 56,
   "metadata": {},
   "outputs": [
    {
     "name": "stdout",
     "output_type": "stream",
     "text": [
      "netcdf_data/\n",
      "netcdf_data/zipped/\n",
      "netcdf_data/zipped/zipped_1991/\n",
      "netcdf_data/zipped/zipped_1991/12270_1991.zip\n",
      "netcdf_data/zipped/zipped_1996/\n",
      "netcdf_data/zipped/zipped_1996/12270_1996.zip\n",
      "netcdf_data/zipped/zipped_1998/\n",
      "netcdf_data/zipped/zipped_1998/12270_1998.zip\n",
      "netcdf_data/zipped/zipped_1999/\n",
      "netcdf_data/zipped/zipped_1999/12270_1999.zip\n"
     ]
    }
   ],
   "source": [
    "with zipfile.ZipFile('data/netcdf_data.zip') as src:\n",
    "    for f in src.namelist()[:10]:\n",
    "        print(f)"
   ]
  },
  {
   "cell_type": "markdown",
   "metadata": {},
   "source": [
    "#### the goal:\n",
    "To extract all of these `prcp.nc` files into a single folder, after renaming them with their respective years (obtained from their enclosing folders or zip files). e.g.  \n",
    "```\n",
    "prcp_1980.nc\n",
    "prcp_1981.nc\n",
    "...\n",
    "```\n",
    "This will allow us to open them together as a dataset in `xarray` (more on that later). Does this sound awful? I'm not making this up. This is the kind of structure you get when downloading tiles of climate data with the [Daymet Tile Selection Tool](https://daymet.ornl.gov/gridded/)\n",
    "\n",
    "#### hint:\n",
    "you might find these functions helpful:\n",
    "```\n",
    "ZipFile.extractall\n",
    "ZipFile.extract\n",
    "Path.glob\n",
    "Path.mkdir\n",
    "Path.stem\n",
    "Path.parent\n",
    "Path.name\n",
    "shutil.move\n",
    "Path.rmdir()\n",
    "```"
   ]
  },
  {
   "cell_type": "markdown",
   "metadata": {},
   "source": [
    "#### hint: start by using ``ZipFile.extractall()`` to extract all of the individual zip files from the main zip archive\n",
    "This extracts the entire contents of the zip file to a designated folder"
   ]
  },
  {
   "cell_type": "code",
   "execution_count": 57,
   "metadata": {},
   "outputs": [],
   "source": [
    "output_folder = Path('03-output')\n",
    "output_folder.mkdir(exist_ok=True)\n",
    "\n",
    "with zipfile.ZipFile('data/netcdf_data.zip') as src:\n",
    "    src.extractall(output_folder)"
   ]
  },
  {
   "cell_type": "markdown",
   "metadata": {},
   "source": [
    "Make a list of the zipfiles"
   ]
  },
  {
   "cell_type": "code",
   "execution_count": 58,
   "metadata": {},
   "outputs": [
    {
     "data": {
      "text/plain": [
       "[PosixPath('03-output/netcdf_data/zipped/zipped_1991/12270_1991.zip'),\n",
       " PosixPath('03-output/netcdf_data/zipped/zipped_1996/12270_1996.zip'),\n",
       " PosixPath('03-output/netcdf_data/zipped/zipped_1998/12270_1998.zip'),\n",
       " PosixPath('03-output/netcdf_data/zipped/zipped_1999/12270_1999.zip'),\n",
       " PosixPath('03-output/netcdf_data/zipped/zipped_1997/12270_1997.zip')]"
      ]
     },
     "execution_count": 58,
     "metadata": {},
     "output_type": "execute_result"
    }
   ],
   "source": [
    "zipfiles = list(output_folder.glob('netcdf_data/zipped/*/*.zip'))\n",
    "zipfiles[:5]"
   ]
  },
  {
   "cell_type": "markdown",
   "metadata": {},
   "source": [
    "### Part 1: extract with a single file"
   ]
  },
  {
   "cell_type": "code",
   "execution_count": 59,
   "metadata": {},
   "outputs": [
    {
     "data": {
      "text/plain": [
       "PosixPath('03-output/netcdf_data/zipped/zipped_1991/12270_1991.zip')"
      ]
     },
     "execution_count": 59,
     "metadata": {},
     "output_type": "execute_result"
    }
   ],
   "source": [
    "f = zipfiles[0]\n",
    "f"
   ]
  },
  {
   "cell_type": "markdown",
   "metadata": {},
   "source": [
    "#### 1a) Use ``ZipFile.namelist()`` (as above) list the contents\n",
    "\n",
    "This will yield the name of the ``*.nc`` file that we need to extract"
   ]
  },
  {
   "cell_type": "code",
   "execution_count": null,
   "metadata": {},
   "outputs": [],
   "source": []
  },
  {
   "cell_type": "markdown",
   "metadata": {},
   "source": [
    "#### 1b) Use ``ZipFile.extract()`` to extract the ``*.nc`` file to the destination folder\n",
    "(you may need to create the destination folder first)"
   ]
  },
  {
   "cell_type": "code",
   "execution_count": null,
   "metadata": {},
   "outputs": [],
   "source": []
  },
  {
   "cell_type": "markdown",
   "metadata": {},
   "source": [
    "#### 1c) Move the extracted file out of any enclosing subfolders, and rename to ``prcp_<year>.nc``\n",
    "(so that if we repeat this for subsequent files, the extracted ``*.nc`` files will end up in the same place)"
   ]
  },
  {
   "cell_type": "code",
   "execution_count": null,
   "metadata": {},
   "outputs": [],
   "source": []
  },
  {
   "cell_type": "markdown",
   "metadata": {},
   "source": [
    "#### 1d) Remove the extra subfolders that were extracted"
   ]
  },
  {
   "cell_type": "code",
   "execution_count": null,
   "metadata": {},
   "outputs": [],
   "source": []
  },
  {
   "cell_type": "markdown",
   "metadata": {},
   "source": [
    "### Part 2: put the above steps together into a loop to repeat the workflow for all of the NetCDF files"
   ]
  },
  {
   "cell_type": "code",
   "execution_count": null,
   "metadata": {},
   "outputs": [],
   "source": []
  },
  {
   "cell_type": "markdown",
   "metadata": {},
   "source": [
    "## Bonus Application -- Using ``os`` to find the location of an executable\n",
    "\n",
    "There are often times that you run an executable that is nested somewhere deep within your system path.  It can often be a good idea to know exactly where that executable is located.  This might help you one day from accidently using an older version of an executable, such as MODFLOW."
   ]
  },
  {
   "cell_type": "code",
   "execution_count": 60,
   "metadata": {},
   "outputs": [],
   "source": [
    "# Define two functions to help determine 'which' program you are using\n",
    "def is_exe(fpath):\n",
    "    \"\"\"\n",
    "    Return True if fpath is an executable, otherwise return False\n",
    "    \"\"\"\n",
    "    return os.path.isfile(fpath) and os.access(fpath, os.X_OK)\n",
    "\n",
    "def which(program):\n",
    "    \"\"\"\n",
    "    Locate the program and return its full path.  Return\n",
    "    None if the program cannot be located.\n",
    "    \"\"\"\n",
    "    fpath, fname = os.path.split(program)\n",
    "    if fpath:\n",
    "        if is_exe(program):\n",
    "            return program\n",
    "    else:\n",
    "        # test for exe in current working directory\n",
    "        if is_exe(program):\n",
    "            return program\n",
    "        # test for exe in path statement\n",
    "        for path in os.environ[\"PATH\"].split(os.pathsep):\n",
    "            path = path.strip('\"')\n",
    "            exe_file = os.path.join(path, program)\n",
    "            if is_exe(exe_file):\n",
    "                return exe_file\n",
    "    return None"
   ]
  },
  {
   "cell_type": "code",
   "execution_count": 61,
   "metadata": {},
   "outputs": [
    {
     "data": {
      "text/plain": [
       "'/Users/aleaf/Documents/software/modflow_exes/mf6'"
      ]
     },
     "execution_count": 61,
     "metadata": {},
     "output_type": "execute_result"
    }
   ],
   "source": [
    "which('mf6')"
   ]
  },
  {
   "cell_type": "code",
   "execution_count": null,
   "metadata": {},
   "outputs": [],
   "source": []
  }
 ],
 "metadata": {
  "anaconda-cloud": {},
  "kernelspec": {
   "display_name": "Python 3 (ipykernel)",
   "language": "python",
   "name": "python3"
  },
  "language_info": {
   "codemirror_mode": {
    "name": "ipython",
    "version": 3
   },
   "file_extension": ".py",
   "mimetype": "text/x-python",
   "name": "python",
   "nbconvert_exporter": "python",
   "pygments_lexer": "ipython3",
   "version": "3.11.7"
  }
 },
 "nbformat": 4,
 "nbformat_minor": 4
}
