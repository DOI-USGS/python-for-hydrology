{
 "cells": [
  {
   "cell_type": "code",
   "execution_count": null,
   "id": "ffc212df",
   "metadata": {},
   "outputs": [],
   "source": [
    "import os\n",
    "import flopy as fp\n",
    "import flopy.utils as fu\n",
    "import pandas as pd\n",
    "import matplotlib.pyplot as plt\n",
    "import numpy as np\n",
    "from pathlib import Path"
   ]
  },
  {
   "cell_type": "markdown",
   "id": "78e57a53",
   "metadata": {},
   "source": [
    "### load in the voronoi version of the class project model"
   ]
  },
  {
   "cell_type": "code",
   "execution_count": null,
   "id": "27b1afd7",
   "metadata": {},
   "outputs": [],
   "source": [
    "modelpath = Path('temp/voronoi/')"
   ]
  },
  {
   "cell_type": "code",
   "execution_count": null,
   "id": "3e82ace2",
   "metadata": {},
   "outputs": [],
   "source": [
    "base_sim = fp.mf6.MFSimulation.load(sim_ws=str(modelpath))"
   ]
  },
  {
   "cell_type": "code",
   "execution_count": null,
   "id": "fa7fc8fa",
   "metadata": {},
   "outputs": [],
   "source": [
    "base_m = base_sim.get_model()"
   ]
  },
  {
   "cell_type": "markdown",
   "id": "b85c9a92",
   "metadata": {},
   "source": [
    "### let's make sure we can read in the SFR observations data which we will need for calculating depletion"
   ]
  },
  {
   "cell_type": "code",
   "execution_count": null,
   "id": "b1866934",
   "metadata": {},
   "outputs": [],
   "source": [
    "sfr_base_obs = pd.read_csv(modelpath / 'sfr_obs.csv', index_col=0)"
   ]
  },
  {
   "cell_type": "code",
   "execution_count": null,
   "id": "75a6c488",
   "metadata": {},
   "outputs": [],
   "source": [
    "sfr_base_obs = sfr_base_obs[['GAGE1','GAGE2']]"
   ]
  },
  {
   "cell_type": "code",
   "execution_count": null,
   "id": "020e9bd3",
   "metadata": {},
   "outputs": [],
   "source": [
    "sfr_base_obs"
   ]
  },
  {
   "cell_type": "markdown",
   "id": "1bef5834",
   "metadata": {},
   "source": [
    "## find all the locations of cells"
   ]
  },
  {
   "cell_type": "code",
   "execution_count": null,
   "id": "361a183a",
   "metadata": {},
   "outputs": [],
   "source": [
    "cells = pd.DataFrame.from_records(base_m.dis.cell2d.array)\n",
    "cells"
   ]
  },
  {
   "cell_type": "markdown",
   "id": "f28664a4",
   "metadata": {},
   "source": [
    "# find the locations of cells that  contain streams and let's not place wells in or under them "
   ]
  },
  {
   "cell_type": "code",
   "execution_count": null,
   "id": "769a39ce",
   "metadata": {},
   "outputs": [],
   "source": [
    "sfrcells = pd.DataFrame.from_records(base_m.sfr.packagedata.array)\n",
    "sfrcells"
   ]
  },
  {
   "cell_type": "code",
   "execution_count": null,
   "id": "2c3efaa1",
   "metadata": {},
   "outputs": [],
   "source": [
    "# make a new columns with just the cellid regardless of layer\n",
    "sfrcells['cell_no_layer'] = [i[1] for i in sfrcells.cellid]\n",
    "sfrcells"
   ]
  },
  {
   "cell_type": "markdown",
   "id": "6d7dbe70",
   "metadata": {},
   "source": [
    "## now we can find the cells from disv that are _not_ also in SFR using a `set` operation"
   ]
  },
  {
   "cell_type": "code",
   "execution_count": null,
   "id": "8675dba5",
   "metadata": {},
   "outputs": [],
   "source": [
    "len(set(cells.icell2d)), len(set(sfrcells.cell_no_layer)),"
   ]
  },
  {
   "cell_type": "code",
   "execution_count": null,
   "id": "df535b68",
   "metadata": {},
   "outputs": [],
   "source": [
    "len(set(cells.icell2d))-len(set(sfrcells.cell_no_layer))"
   ]
  },
  {
   "cell_type": "code",
   "execution_count": null,
   "id": "1158011c",
   "metadata": {},
   "outputs": [],
   "source": [
    "cells_for_wells = list(set(cells.icell2d)-set(sfrcells.cell_no_layer))\n",
    "len(cells_for_wells)"
   ]
  },
  {
   "cell_type": "markdown",
   "id": "6cd10078",
   "metadata": {},
   "source": [
    "### now lets load the well file to find a representative pumping rate"
   ]
  },
  {
   "cell_type": "code",
   "execution_count": null,
   "id": "625d8db5",
   "metadata": {},
   "outputs": [],
   "source": [
    "wells = pd.DataFrame.from_records(base_m.wel.stress_period_data.array[0])\n",
    "wells"
   ]
  },
  {
   "cell_type": "code",
   "execution_count": null,
   "id": "17ecb444",
   "metadata": {},
   "outputs": [],
   "source": [
    "newq = wells.q.mean()\n",
    "newq"
   ]
  },
  {
   "cell_type": "markdown",
   "id": "541f5328",
   "metadata": {},
   "source": [
    "## now let's see about adding a new well - we will reload the model and reset the path to be sure and not stomp on the original model"
   ]
  },
  {
   "cell_type": "code",
   "execution_count": null,
   "id": "48dd434d",
   "metadata": {},
   "outputs": [],
   "source": [
    "sim = fp.mf6.MFSimulation.load(sim_ws=str(modelpath))"
   ]
  },
  {
   "cell_type": "code",
   "execution_count": null,
   "id": "281f1bd1",
   "metadata": {},
   "outputs": [],
   "source": [
    "testmod = sim.get_model()"
   ]
  },
  {
   "cell_type": "code",
   "execution_count": null,
   "id": "0bae231a",
   "metadata": {},
   "outputs": [],
   "source": [
    "wells.dtypes"
   ]
  },
  {
   "cell_type": "markdown",
   "id": "9d9d36f8",
   "metadata": {},
   "source": [
    "### now we can add a new well with the average Q in layer 0, cell 0"
   ]
  },
  {
   "cell_type": "code",
   "execution_count": null,
   "id": "8eaed08d",
   "metadata": {},
   "outputs": [],
   "source": [
    "twell = fp.mf6.ModflowGwfwel(testmod, save_flows=True, stress_period_data=[[(0,0), newq]])"
   ]
  },
  {
   "cell_type": "code",
   "execution_count": null,
   "id": "555ad503",
   "metadata": {},
   "outputs": [],
   "source": [
    "runpath = Path('temp/depletion/')\n",
    "sim.set_sim_path(str(runpath))"
   ]
  },
  {
   "cell_type": "code",
   "execution_count": null,
   "id": "322b230b",
   "metadata": {},
   "outputs": [],
   "source": [
    "sim.exe_name='mf6'\n",
    "sim.write_simulation()"
   ]
  },
  {
   "cell_type": "code",
   "execution_count": null,
   "id": "3d03aa56",
   "metadata": {},
   "outputs": [],
   "source": [
    "sim.run_simulation()"
   ]
  },
  {
   "cell_type": "markdown",
   "id": "56c5c0ee",
   "metadata": {},
   "source": [
    "### now read in the SFR observations and compare with the base run"
   ]
  },
  {
   "cell_type": "code",
   "execution_count": null,
   "id": "92af5d55",
   "metadata": {},
   "outputs": [],
   "source": [
    "sfr_test1 = pd.DataFrame.from_records(testmod.sfr.output.obs().get_data())"
   ]
  },
  {
   "cell_type": "code",
   "execution_count": null,
   "id": "cb13f21c",
   "metadata": {},
   "outputs": [],
   "source": [
    "sfr_test1"
   ]
  },
  {
   "cell_type": "code",
   "execution_count": null,
   "id": "5752f416",
   "metadata": {},
   "outputs": [],
   "source": [
    "sfr_test = pd.read_csv(runpath / 'sfr_obs.csv')[['GAGE1','GAGE2']]"
   ]
  },
  {
   "cell_type": "code",
   "execution_count": null,
   "id": "9059386c",
   "metadata": {},
   "outputs": [],
   "source": [
    "sfr_test"
   ]
  },
  {
   "cell_type": "code",
   "execution_count": null,
   "id": "2075cb43",
   "metadata": {},
   "outputs": [],
   "source": [
    "sfr_base_obs"
   ]
  },
  {
   "cell_type": "code",
   "execution_count": null,
   "id": "9412afce",
   "metadata": {},
   "outputs": [],
   "source": [
    "(sfr_base_obs.GAGE2.values-sfr_test.GAGE2.values)"
   ]
  },
  {
   "cell_type": "markdown",
   "id": "2bc098f2",
   "metadata": {},
   "source": [
    "# Cool! We can see a difference in flow pretty close to the new pumping rate. Now we are ready to systematically work with the entire model!"
   ]
  },
  {
   "cell_type": "markdown",
   "id": "2dcab79b",
   "metadata": {},
   "source": [
    "## now let's make a dataframe to hold the depletion calculation results"
   ]
  },
  {
   "cell_type": "code",
   "execution_count": null,
   "id": "46d80de2",
   "metadata": {},
   "outputs": [],
   "source": [
    "cellids = np.hstack((cells.icell2d.values, cells.icell2d.values, cells.icell2d.values)) # three layers\n",
    "layers = np.hstack(([0 for i in range(len(cells.icell2d.values))],\n",
    "                   [1 for i in range(len(cells.icell2d.values))],\n",
    "                   [2 for i in range(len(cells.icell2d.values))]))"
   ]
  },
  {
   "cell_type": "code",
   "execution_count": null,
   "id": "4d675fb7",
   "metadata": {},
   "outputs": [],
   "source": [
    "cells_with_layers = list(zip(layers,cellids))"
   ]
  },
  {
   "cell_type": "code",
   "execution_count": null,
   "id": "6354f39c",
   "metadata": {},
   "outputs": [],
   "source": [
    "depletion_results = pd.DataFrame(index=pd.MultiIndex.from_tuples(cells_with_layers), data = {'Gage1':np.nan, 'Gage2':np.nan})\n",
    "depletion_results"
   ]
  },
  {
   "cell_type": "markdown",
   "id": "09d73dac",
   "metadata": {},
   "source": [
    "# now make a function to run ... the slow way\n",
    "\n",
    "## we know how to read in the model with flopy, make a change, run it, etc. all using flopy"
   ]
  },
  {
   "cell_type": "code",
   "execution_count": null,
   "id": "b2a0d8f3",
   "metadata": {},
   "outputs": [],
   "source": [
    "def run_a_well_flopy(layer, cellid, newq, sfr_base_obs, depletion_results):\n",
    "    # read in the simulation\n",
    "    sim = fp.mf6.MFSimulation.load(sim_ws=str(modelpath))\n",
    "    # get the model\n",
    "    testmod = sim.get_model()\n",
    "    # add the test well \n",
    "    well_cellid = (layer,cellid)\n",
    "    twell = fp.mf6.ModflowGwfwel(testmod, save_flows=True, stress_period_data=[[well_cellid, newq]])\n",
    "    runpath = Path('temp/depletion/')\n",
    "    sim.set_sim_path(str(runpath))\n",
    "    sim.exe_name='mf6'\n",
    "    sim.write_simulation()\n",
    "    sim.run_simulation()\n",
    "    sfr_test = pd.read_csv(runpath / 'sfr_obs.csv')[['GAGE1','GAGE2']]\n",
    "    depletion_results.loc[well_cellid, 'Gage1'] = (sfr_base_obs.GAGE1.values-sfr_test.GAGE1.values)/newq\n",
    "    depletion_results.loc[well_cellid, 'Gage2'] = (sfr_base_obs.GAGE2.values-sfr_test.GAGE2.values)/newq\n",
    "    "
   ]
  },
  {
   "cell_type": "code",
   "execution_count": null,
   "id": "5484122e",
   "metadata": {
    "scrolled": true
   },
   "outputs": [],
   "source": [
    "%%timeit -r 5 # the timeit special function will run the folling code a few times and indicate how long \n",
    "              # the mean runtime and variance are\n",
    "for clay in range(3):\n",
    "    for cellid in cells_for_wells[:5]:\n",
    "        run_a_well_flopy(clay, cellid, newq,sfr_base_obs, depletion_results)"
   ]
  },
  {
   "cell_type": "markdown",
   "id": "a2dd8128",
   "metadata": {},
   "source": [
    "# now make a function to run ... the FAST way\n",
    "### we will use flopy only to make the initial model and then manipulate and run only with MF6 files directly"
   ]
  },
  {
   "cell_type": "markdown",
   "id": "cd4dfb5c",
   "metadata": {},
   "source": [
    "### make a test directory to run in"
   ]
  },
  {
   "cell_type": "code",
   "execution_count": null,
   "id": "2599a667",
   "metadata": {},
   "outputs": [],
   "source": [
    "sim = fp.mf6.MFSimulation.load(sim_ws=str(modelpath))\n",
    "# get the model\n",
    "testmod = sim.get_model()\n",
    "# add the test well \n",
    "twell = fp.mf6.ModflowGwfwel(testmod, save_flows=True, stress_period_data=[[(0,0), newq]])\n",
    "runpath = Path('temp/depletion/')\n",
    "sim.set_sim_path(str(runpath))\n",
    "sim.exe_name='mf6'\n",
    "sim.write_simulation()"
   ]
  },
  {
   "cell_type": "markdown",
   "id": "22cb5dd2",
   "metadata": {},
   "source": [
    "### navigate the wel file to see where to put the new cell ids "
   ]
  },
  {
   "cell_type": "code",
   "execution_count": null,
   "id": "576bcc85",
   "metadata": {},
   "outputs": [],
   "source": [
    "inwell = open(runpath / 'project_0.wel', 'r').readlines()\n",
    "inwell"
   ]
  },
  {
   "cell_type": "code",
   "execution_count": null,
   "id": "b8b279ad",
   "metadata": {},
   "outputs": [],
   "source": [
    "well_template = []\n",
    "for line in inwell:\n",
    "    if str(int(newq)) not in line: # we can just look for our new flowrate\n",
    "        well_template.append(line)\n",
    "    else:\n",
    "        well_template.append('<replace_me>\\n')"
   ]
  },
  {
   "cell_type": "code",
   "execution_count": null,
   "id": "87065dc0",
   "metadata": {},
   "outputs": [],
   "source": [
    "well_template = ' '.join(well_template)"
   ]
  },
  {
   "cell_type": "code",
   "execution_count": null,
   "id": "b38bda7d",
   "metadata": {},
   "outputs": [],
   "source": [
    "well_template.replace('<replace_me>',f'1 1 {newq:0.4f}')"
   ]
  },
  {
   "cell_type": "markdown",
   "id": "b86b76ad",
   "metadata": {},
   "source": [
    "### now we can run these by just rewriting the wel file directly and suppressing output - should be faster"
   ]
  },
  {
   "cell_type": "code",
   "execution_count": null,
   "id": "a0d70087",
   "metadata": {},
   "outputs": [],
   "source": [
    "# set the current working directory so that we can change as needed to run MF6\n",
    "cwd = os.getcwd()"
   ]
  },
  {
   "cell_type": "code",
   "execution_count": null,
   "id": "867ace37",
   "metadata": {},
   "outputs": [],
   "source": [
    "def run_a_well_just_mf6(layer, cellid, newq, sfr_base_obs, depletion_results_fast):\n",
    "    print(f'running layer = {layer}, cellid = {cellid}\\r', end='')\n",
    "    with open(runpath / 'project_0.wel','w') as ofp:\n",
    "        ofp.write(well_template.replace('<replace_me>',f'{layer+1:d} {cellid+1:d} {newq:0.4f}'))\n",
    "    well_cellid = (layer, cellid)\n",
    "    os.chdir(runpath)\n",
    "    os.system('mf6 > nul')\n",
    "    os.chdir(cwd)\n",
    "    sfr_test = pd.read_csv(runpath / 'sfr_obs.csv')[['GAGE1','GAGE2']]\n",
    "    depletion_results_fast.loc[well_cellid, 'Gage1'] = (sfr_base_obs.GAGE1.values-sfr_test.GAGE1.values)/newq\n",
    "    depletion_results_fast.loc[well_cellid, 'Gage2'] = (sfr_base_obs.GAGE2.values-sfr_test.GAGE2.values)/newq"
   ]
  },
  {
   "cell_type": "code",
   "execution_count": null,
   "id": "1f7de900",
   "metadata": {},
   "outputs": [],
   "source": [
    "depletion_results_fast = pd.DataFrame(index=pd.MultiIndex.from_tuples(cells_with_layers), \n",
    "                                      data = {'Gage1':np.nan, 'Gage2':np.nan})"
   ]
  },
  {
   "cell_type": "code",
   "execution_count": null,
   "id": "6a73c9b0",
   "metadata": {},
   "outputs": [],
   "source": [
    "%%timeit -r 5\n",
    "for lay in range(3):\n",
    "    for cid in cells_for_wells[:5]:\n",
    "        run_a_well_just_mf6(lay, cid, newq, sfr_base_obs, depletion_results_fast)"
   ]
  },
  {
   "cell_type": "code",
   "execution_count": null,
   "id": "f180d062",
   "metadata": {},
   "outputs": [],
   "source": [
    "freshrun = False\n",
    "if freshrun:\n",
    "    depletion_results_fast.to_csv('data/depletion_results/depletion_results.csv')"
   ]
  },
  {
   "cell_type": "code",
   "execution_count": null,
   "id": "ea56fe6c",
   "metadata": {},
   "outputs": [],
   "source": [
    "drf = pd.read_csv('data/depletion_results/depletion_results.csv', index_col=[0,1])"
   ]
  },
  {
   "cell_type": "code",
   "execution_count": null,
   "id": "fd8e62ba",
   "metadata": {},
   "outputs": [],
   "source": [
    "fig, ax = plt.subplots(2,3, figsize=(9,8))\n",
    "ax = ax.ravel()\n",
    "ax_num = 0\n",
    "for gage_num in range(2):\n",
    "    for lay_num in range(3):\n",
    "        cax = ax[ax_num]\n",
    "        data = drf.loc[lay_num][f'Gage{gage_num+1}'].values\n",
    "        data[data<0] =0\n",
    "        mm = fp.plot.PlotMapView(model= base_m)\n",
    "        cb = mm.plot_array(data, vmin=0, vmax=1.0, ax=cax, cmap='magma')\n",
    "        mm.plot_grid(lw=0.5, color=\"0.25\",ax=cax)\n",
    "        cax.set_aspect('equal')\n",
    "        cax.set_title(f'Gage{gage_num+1} layer {lay_num}')\n",
    "        plt.colorbar(cb, ax=cax)\n",
    "        cax.axis('off')\n",
    "        ax_num += 1"
   ]
  },
  {
   "cell_type": "code",
   "execution_count": null,
   "id": "db1828c3",
   "metadata": {},
   "outputs": [],
   "source": []
  }
 ],
 "metadata": {
  "kernelspec": {
   "display_name": "Python 3 (ipykernel)",
   "language": "python",
   "name": "python3"
  },
  "language_info": {
   "codemirror_mode": {
    "name": "ipython",
    "version": 3
   },
   "file_extension": ".py",
   "mimetype": "text/x-python",
   "name": "python",
   "nbconvert_exporter": "python",
   "pygments_lexer": "ipython3",
   "version": "3.9.13"
  }
 },
 "nbformat": 4,
 "nbformat_minor": 5
}
