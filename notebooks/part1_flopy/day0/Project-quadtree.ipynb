{
 "cells": [
  {
   "cell_type": "code",
   "execution_count": null,
   "id": "fc15635f-e887-417c-a9b6-583f1d0c758e",
   "metadata": {},
   "outputs": [],
   "source": [
    "import pathlib as pl\n",
    "import numpy as np\n",
    "import matplotlib.pyplot as plt\n",
    "import geopandas as gpd\n",
    "import shapely\n",
    "import shapefile\n",
    "\n",
    "import flopy\n",
    "from flopy.utils.gridgen import Gridgen\n",
    "from flopy.discretization import StructuredGrid, VertexGrid\n",
    "from flopy.utils.triangle import Triangle as Triangle\n",
    "from flopy.utils.voronoi import VoronoiGrid\n",
    "from flopy.utils.gridintersect import GridIntersect"
   ]
  },
  {
   "cell_type": "code",
   "execution_count": null,
   "id": "f55b0c73-ec82-4654-ac95-d840845c6a80",
   "metadata": {},
   "outputs": [],
   "source": [
    "model_ws = \"../temp/quadtree/\"\n",
    "grid_ws = f\"{model_ws}grid/\"\n",
    "pl.Path(grid_ws).mkdir(parents=True, exist_ok=True)"
   ]
  },
  {
   "cell_type": "markdown",
   "id": "ff71738e-4c13-40f1-88e2-ac42cf408c5a",
   "metadata": {},
   "source": [
    "Load a few raster files"
   ]
  },
  {
   "cell_type": "code",
   "execution_count": null,
   "id": "c1f45d54-e585-4b6f-aa44-8db54d57b68c",
   "metadata": {},
   "outputs": [],
   "source": [
    "bottom = flopy.utils.Raster.load(\"../data_project/aquifer_bottom.asc\")\n",
    "top = flopy.utils.Raster.load(\"../data_project/aquifer_top.asc\")\n",
    "kaq = flopy.utils.Raster.load(\"../data_project/aquifer_k.asc\")"
   ]
  },
  {
   "cell_type": "markdown",
   "id": "d27b2059-7d15-48be-89e4-5ea3a0a4f246",
   "metadata": {},
   "source": [
    "Load a few shapefiles with geopandas"
   ]
  },
  {
   "cell_type": "code",
   "execution_count": null,
   "id": "a056df43-3d04-41c4-9e6d-641fd118f331",
   "metadata": {},
   "outputs": [],
   "source": [
    "river = gpd.read_file(\"../data_project/Flowline_river.shp\")\n",
    "inactive = gpd.read_file(\"../data_project/inactive_area.shp\")\n",
    "active = gpd.read_file(\"../data_project/active_area.shp\")\n",
    "wells = gpd.read_file(\"../data_project/pumping_well_locations.shp\")"
   ]
  },
  {
   "cell_type": "markdown",
   "id": "4ec28213-31e6-45f4-9899-56772618afb5",
   "metadata": {},
   "source": [
    "Plot the shapefiles with geopandas"
   ]
  },
  {
   "cell_type": "code",
   "execution_count": null,
   "id": "802e1ec8-04c4-42c6-905d-e28ec06d3515",
   "metadata": {},
   "outputs": [],
   "source": [
    "ax = river.plot(color=\"cyan\")\n",
    "active.plot(ax=ax, color=\"blue\")\n",
    "inactive.plot(ax=ax, color=\"white\")\n",
    "wells.plot(ax=ax, color=\"red\", markersize=8);"
   ]
  },
  {
   "cell_type": "markdown",
   "id": "58f70862-cc56-45bd-b208-512aa9186d9f",
   "metadata": {},
   "source": [
    "#### Make a quadtree grid"
   ]
  },
  {
   "cell_type": "code",
   "execution_count": null,
   "id": "a6ad60d3-234a-49dd-a01b-c63f256bc26f",
   "metadata": {},
   "outputs": [],
   "source": [
    "# quadtree grid\n",
    "sim = flopy.mf6.MFSimulation()\n",
    "gwf = flopy.mf6.ModflowGwf(sim)\n",
    "dx = dy = 250.0\n",
    "nrow = 40\n",
    "ncol = 20\n",
    "dis6 = flopy.mf6.ModflowGwfdis(\n",
    "    gwf,\n",
    "    nrow=nrow,\n",
    "    ncol=ncol,\n",
    "    delr=dy,\n",
    "    delc=dx,\n",
    ")\n",
    "g = Gridgen(dis6, model_ws=grid_ws)"
   ]
  },
  {
   "cell_type": "code",
   "execution_count": null,
   "id": "54d5790e-5e06-42b3-ba68-5392d6a51bec",
   "metadata": {},
   "outputs": [],
   "source": [
    "g.add_refinement_features(\"../../../data_project/Flowline_river.shp\", \"line\", 4, range(1))\n",
    "g.add_refinement_features(\"../../../data_project/pumping_well_locations.shp\", \"point\", 4, range(1))"
   ]
  },
  {
   "cell_type": "code",
   "execution_count": null,
   "id": "6a435862-467f-41e4-9e21-8e582c47a896",
   "metadata": {},
   "outputs": [],
   "source": [
    "g.build(verbose=False)"
   ]
  },
  {
   "cell_type": "code",
   "execution_count": null,
   "id": "a533621d-cf14-47fe-b2d9-e0e2fb5c04c3",
   "metadata": {},
   "outputs": [],
   "source": [
    "gridprops = g.get_gridprops_vertexgrid()\n",
    "base_grid = VertexGrid(**gridprops)"
   ]
  },
  {
   "cell_type": "code",
   "execution_count": null,
   "id": "ae8e837a-26fd-44d9-a712-0a16135b0d07",
   "metadata": {},
   "outputs": [],
   "source": [
    "gridprops_qt.keys()"
   ]
  },
  {
   "cell_type": "code",
   "execution_count": null,
   "id": "bd6d13ba-7e29-48a0-af5a-c85bce0df6c6",
   "metadata": {},
   "outputs": [],
   "source": [
    "base_grid.plot()\n",
    "river.plot(color=\"cyan\", ax=plt.gca(), linewidth=0.5)\n",
    "wells.plot(ax=plt.gca(), color=\"red\", markersize=8, zorder=100);"
   ]
  },
  {
   "cell_type": "markdown",
   "id": "649393e3-e455-41ee-968d-8131c0057a79",
   "metadata": {},
   "source": [
    "#### Define the number of layers and some simple shapes"
   ]
  },
  {
   "cell_type": "code",
   "execution_count": null,
   "id": "99fee6a1-dba6-4c47-9239-f0b2c0e81e04",
   "metadata": {},
   "outputs": [],
   "source": [
    "nlay = 3\n",
    "shape2d, shape3d = (base_grid.ncpl), (nlay, base_grid.ncpl)\n",
    "xlen, ylen = 5000., 10000."
   ]
  },
  {
   "cell_type": "markdown",
   "id": "87e67c65-3a48-4489-b284-8a535c195c8a",
   "metadata": {},
   "source": [
    "### Intersect the modelgrid with the shapefiles\n",
    "\n",
    "#### Create an intersection object"
   ]
  },
  {
   "cell_type": "code",
   "execution_count": null,
   "id": "9eb9a7bd-02f1-4966-b522-4bdbabeb0d40",
   "metadata": {},
   "outputs": [],
   "source": [
    "ix = GridIntersect(base_grid, method=\"vertex\", rtree=True)"
   ]
  },
  {
   "cell_type": "markdown",
   "id": "ed099929-5257-4c83-93da-337aecfab0a1",
   "metadata": {},
   "source": [
    "#### Intersect inactive and active shapefiles with the modelgrid\n",
    "\n",
    "After all of the intersection operations, take a look at the data contained in the returned objects"
   ]
  },
  {
   "cell_type": "code",
   "execution_count": null,
   "id": "c8e5ef38-e57c-41f7-8c45-a953ae1a5568",
   "metadata": {},
   "outputs": [],
   "source": [
    "bedrock = ix.intersect(inactive.geometry[0])\n",
    "active_cells = ix.intersect(active.geometry[0])"
   ]
  },
  {
   "cell_type": "code",
   "execution_count": null,
   "id": "8d5ee1df-925f-4d93-8d06-7adaff89522f",
   "metadata": {},
   "outputs": [],
   "source": [
    "active_cells[:4], active_cells.dtype"
   ]
  },
  {
   "cell_type": "markdown",
   "id": "01ea9e5f-0aa0-4219-9bdf-cc8c639188e4",
   "metadata": {},
   "source": [
    "#### Intersect well shapefile with the modelgrid"
   ]
  },
  {
   "cell_type": "code",
   "execution_count": null,
   "id": "07742516-d0b2-4bb3-9afe-e25afcd55bcd",
   "metadata": {},
   "outputs": [],
   "source": [
    "well_cells = []\n",
    "for g in wells.geometry:\n",
    "    v = ix.intersect(g)\n",
    "    well_cells += v[\"cellids\"].tolist()"
   ]
  },
  {
   "cell_type": "code",
   "execution_count": null,
   "id": "71700525-1e82-4334-868a-33c84af18c79",
   "metadata": {},
   "outputs": [],
   "source": [
    "well_cells"
   ]
  },
  {
   "cell_type": "markdown",
   "id": "04ecb26d-183a-4629-8adb-6dd22a22d787",
   "metadata": {},
   "source": [
    "#### Intersect river shapefile with the modelgrid"
   ]
  },
  {
   "cell_type": "code",
   "execution_count": null,
   "id": "26e2f376-7ba5-42ae-8b8f-822f244cc888",
   "metadata": {},
   "outputs": [],
   "source": [
    "river_cells = ix.intersect(river.geometry[0])"
   ]
  },
  {
   "cell_type": "code",
   "execution_count": null,
   "id": "0fa25077-4dc4-4b64-9629-42733843cf9a",
   "metadata": {},
   "outputs": [],
   "source": [
    "river_cells[:4], river_cells.dtype"
   ]
  },
  {
   "cell_type": "markdown",
   "id": "da8d7508-eaa8-4a66-a0a9-6a9a3302a957",
   "metadata": {},
   "source": [
    "### Intersect constant head line with the modelgrid\n",
    "\n",
    "Use a line with two points to defined the location of the constant head cells. The line verticase are `[(1250, 0.1), (4250, 0.1)]`."
   ]
  },
  {
   "cell_type": "code",
   "execution_count": null,
   "id": "d1ad7c18-b221-4272-bd4c-aa8b4145373b",
   "metadata": {},
   "outputs": [],
   "source": [
    "constant_cells = ix.intersect([(1250, 0.1), (4250, 0.1)], shapetype=\"linestring\")"
   ]
  },
  {
   "cell_type": "code",
   "execution_count": null,
   "id": "5b452111-1be5-40a9-afeb-878fb48875eb",
   "metadata": {},
   "outputs": [],
   "source": [
    "constant_cells[:4], constant_cells.dtype"
   ]
  },
  {
   "cell_type": "markdown",
   "id": "b16d9318-24e8-417e-8944-343da5262632",
   "metadata": {},
   "source": [
    "### Resample the raster data to the modelgrid\n",
    "\n",
    "Use the `resample_to_grid()` method on each raster object."
   ]
  },
  {
   "cell_type": "code",
   "execution_count": null,
   "id": "00e8eed1-2735-48c8-8bc7-cb2ea88a78a6",
   "metadata": {},
   "outputs": [],
   "source": [
    "rtop = top.resample_to_grid(\n",
    "    base_grid,\n",
    "    band=top.bands[0],\n",
    "    method=\"linear\",\n",
    "    extrapolate_edges=True,\n",
    ")\n",
    "rbot = bottom.resample_to_grid(\n",
    "    base_grid,\n",
    "    band=bottom.bands[0],\n",
    "    method=\"linear\",\n",
    "    extrapolate_edges=True,\n",
    ")\n",
    "rkaq = kaq.resample_to_grid(\n",
    "    base_grid,\n",
    "    band=kaq.bands[0],\n",
    "    method=\"linear\",\n",
    "    extrapolate_edges=True) * 86400."
   ]
  },
  {
   "cell_type": "markdown",
   "id": "4d38c553-7319-445a-bda1-b9f1b324ba87",
   "metadata": {},
   "source": [
    "### Plot the resampled data \n",
    "\n",
    "Plot the aquifer top, bottom, and hydraulic conductivity. Also plot the aquifer thickness."
   ]
  },
  {
   "cell_type": "code",
   "execution_count": null,
   "id": "d3e680a2-7112-4c79-81b8-5c9dc15c0f89",
   "metadata": {},
   "outputs": [],
   "source": [
    "mm = flopy.plot.PlotMapView(modelgrid=base_grid)\n",
    "cb = mm.plot_array(rtop)\n",
    "mm.plot_grid(lw=0.5, color=\"0.5\");\n",
    "plt.colorbar(cb, ax=plt.gca());"
   ]
  },
  {
   "cell_type": "code",
   "execution_count": null,
   "id": "0e344430-3dd6-40f3-99dc-eb3ff4525fd9",
   "metadata": {},
   "outputs": [],
   "source": [
    "mm = flopy.plot.PlotMapView(modelgrid=base_grid)\n",
    "cb = mm.plot_array(rbot)\n",
    "mm.plot_grid(lw=0.5, color=\"0.5\");\n",
    "plt.colorbar(cb, ax=plt.gca());"
   ]
  },
  {
   "cell_type": "code",
   "execution_count": null,
   "id": "6025c075-3b2f-4bc4-929c-6ded94d7fb49",
   "metadata": {},
   "outputs": [],
   "source": [
    "mm = flopy.plot.PlotMapView(modelgrid=base_grid)\n",
    "cb = mm.plot_array(rtop - rbot)\n",
    "mm.plot_grid(lw=0.5, color=\"0.5\");\n",
    "plt.colorbar(cb);"
   ]
  },
  {
   "cell_type": "code",
   "execution_count": null,
   "id": "fc131289-28c2-4c27-9c28-e2393760ee7a",
   "metadata": {},
   "outputs": [],
   "source": [
    "mm = flopy.plot.PlotMapView(modelgrid=base_grid)\n",
    "cb = mm.plot_array(rkaq)\n",
    "mm.plot_grid(lw=0.5, color=\"0.5\");\n",
    "plt.colorbar(cb);"
   ]
  },
  {
   "cell_type": "markdown",
   "id": "e9f459b8-7ba3-4778-a790-25ea654f5b49",
   "metadata": {},
   "source": [
    "#### Build the model data\n",
    "\n",
    "_Create the bottom of each model layer_\n",
    "\n",
    "Assume that the thickness of each layer at a row, column location is equal."
   ]
  },
  {
   "cell_type": "code",
   "execution_count": null,
   "id": "fa75d47d-2a36-4d14-9e3a-8e690933315a",
   "metadata": {},
   "outputs": [],
   "source": [
    "botm = np.zeros(shape3d, dtype=float)\n",
    "botm[-1, :] = rbot[:]\n",
    "layer_thickness = (rtop - rbot) / nlay\n",
    "for k in reversed(range(nlay - 1)):\n",
    "    botm[k] = botm[k+1] + layer_thickness"
   ]
  },
  {
   "cell_type": "markdown",
   "id": "78271f86-4d9b-4e95-8f6d-159340ba0030",
   "metadata": {},
   "source": [
    "_Create the idomain array_\n",
    "\n",
    "Use the intersection data from the active and inactive shapefiles to create the idomain array"
   ]
  },
  {
   "cell_type": "code",
   "execution_count": null,
   "id": "6bb26307-5b6f-46e1-b633-45b6a851c2bb",
   "metadata": {},
   "outputs": [],
   "source": [
    "idomain = np.zeros(shape3d, dtype=float)\n",
    "for node in active_cells[\"cellids\"]:\n",
    "    idomain[:, node] = 1\n",
    "for node in bedrock[\"cellids\"]:\n",
    "        idomain[:, node] = 0"
   ]
  },
  {
   "cell_type": "markdown",
   "id": "410fd6be-b9b2-44d8-8e45-cf022470d4a5",
   "metadata": {},
   "source": [
    "_Build the well package stress period data_\n",
    "\n",
    "* The pumping rates are in the `wells` geopandas dataframe\n",
    "* Pumping rates are in m/sec\n",
    "* The wells are located in model layer 3"
   ]
  },
  {
   "cell_type": "code",
   "execution_count": null,
   "id": "8abad8ba-f38b-4c85-bafe-040b8bd5de26",
   "metadata": {},
   "outputs": [],
   "source": [
    "wells"
   ]
  },
  {
   "cell_type": "code",
   "execution_count": null,
   "id": "92672b02-13cb-4253-b009-cfa23ff572be",
   "metadata": {},
   "outputs": [],
   "source": [
    "well_spd = []\n",
    "for (cellid, q) in zip(well_cells, wells[\"Q\"]):\n",
    "    well_spd.append([2, cellid, q * 86400.])\n",
    "well_spd"
   ]
  },
  {
   "cell_type": "markdown",
   "id": "b9acc234-e7b7-434a-8a1d-8533c7225003",
   "metadata": {},
   "source": [
    "_Build the river package stress period data_\n",
    "\n",
    "* Calculate the length of the river using the `\"lengths\"` key. \n",
    "* The vertical hydraulic conductivity of the river bed sediments is 3.5 m/d.\n",
    "* The thickness of river bottom sediments at the upstream (North) and downstream (South) end of the river is 0.5 and 1.5 meters, respectively. \n",
    "* The river bottom at the upstream and downstream end of the river is 16.5 and 14.5 meters, respectively. The river width at the upstream and downstream end of the river is 5.0 and 10.0 meters, respectively. \n",
    "* The river stage at the upstream and downstream end of the river is 16.6 and 15.5 meters, respectively.\n",
    "* Use the boundname `upstream` for river cells where the upstream end of the river cell is less than 5000 m from the North end of the model. Use the boundname `downstream` for all other river cells.\n",
    "\n",
    "Use the upstream and downstream values to interpolate the river sediment thickness, bottom, width, and stage for each river cell.\n",
    "\n",
    "The river cells will be conected to model layer 1. The river bottom, width, and stage values should be calculated at the center of the river reach."
   ]
  },
  {
   "cell_type": "code",
   "execution_count": null,
   "id": "1f0b8a27-6dba-4f62-b11c-f92bdada50a8",
   "metadata": {},
   "outputs": [],
   "source": [
    "river_kv = 3.5\n",
    "river_thickness_up, river_thickness_down = 0.5, 1.5\n",
    "river_bot_up, river_bot_down = 16.5, 14.5\n",
    "river_width_up, river_width_down = 5., 10.\n",
    "stage_up, stage_down = 16.6, 15.5"
   ]
  },
  {
   "cell_type": "code",
   "execution_count": null,
   "id": "d0013ce6-3c75-4f25-b7a4-17cf7ce7e456",
   "metadata": {},
   "outputs": [],
   "source": [
    "river_length = river_cells[\"lengths\"].sum()\n",
    "river_length"
   ]
  },
  {
   "cell_type": "code",
   "execution_count": null,
   "id": "a565b394-c57c-45bd-a947-8565c86ed87b",
   "metadata": {},
   "outputs": [],
   "source": [
    "river_thickness_slope = (river_thickness_down - river_thickness_up) / river_length"
   ]
  },
  {
   "cell_type": "code",
   "execution_count": null,
   "id": "488d4e1b-6ee5-474e-91a0-6fe1dc764dee",
   "metadata": {},
   "outputs": [],
   "source": [
    "river_bot_slope = (river_bot_down - river_bot_up) / river_length"
   ]
  },
  {
   "cell_type": "code",
   "execution_count": null,
   "id": "9f7fca4f-b31a-4679-a06c-9fe79abd4318",
   "metadata": {},
   "outputs": [],
   "source": [
    "river_width_slope = (river_width_down - river_width_up) / river_length"
   ]
  },
  {
   "cell_type": "code",
   "execution_count": null,
   "id": "9d5cafa8-be40-4055-a56b-b67878c78e73",
   "metadata": {},
   "outputs": [],
   "source": [
    "stage_slope = (stage_down - stage_up) / river_length"
   ]
  },
  {
   "cell_type": "code",
   "execution_count": null,
   "id": "d693f849-55a8-450c-934b-2cb7a2ddcc80",
   "metadata": {},
   "outputs": [],
   "source": [
    "boundname = \"upstream\"\n",
    "total_length = 0.\n",
    "river_spd = []\n",
    "river_top_delta = []\n",
    "for idx, (cellid, length) in enumerate(zip(river_cells[\"cellids\"], river_cells[\"lengths\"])):\n",
    "    if total_length >= 5000. and boundname == \"upstream\":\n",
    "        boundname = \"downstream\"        \n",
    "    dx = 0.5 * length\n",
    "    total_length += dx\n",
    "\n",
    "    river_thickness = river_thickness_up + river_thickness_slope * total_length\n",
    "    river_bot = river_bot_up + river_bot_slope * total_length\n",
    "    river_width = river_width_up + river_width_slope * total_length\n",
    "    river_stage = stage_up + stage_slope * total_length\n",
    "    conductance = river_kv * length * river_width / river_thickness\n",
    "    river_spd.append([0, cellid, river_stage, conductance, river_bot, boundname])\n",
    "    river_top_delta.append(river_bot - rtop[cellid])\n",
    "    \n",
    "    total_length += dx\n",
    "river_top_delta = np.array(river_top_delta)\n",
    "river_spd[:2], river_spd[-2:]"
   ]
  },
  {
   "cell_type": "code",
   "execution_count": null,
   "id": "713c3406-48ca-4e60-80f5-bd9a9d78aa9f",
   "metadata": {},
   "outputs": [],
   "source": [
    "river_top_delta.min(), river_top_delta.max(), river_top_delta.mean(), river_top_delta[-2:]"
   ]
  },
  {
   "cell_type": "markdown",
   "id": "837ae702-a313-4e4e-90f0-6bc6c6b5ef61",
   "metadata": {},
   "source": [
    "_Define river observations_"
   ]
  },
  {
   "cell_type": "code",
   "execution_count": null,
   "id": "452fa4f3-aac7-422b-b38b-1045e8b4cd1f",
   "metadata": {},
   "outputs": [],
   "source": [
    "riv_obs = {\n",
    "    \"riv_obs.csv\": [\n",
    "        (\"UPSTREAM\", \"RIV\", \"UPSTREAM\"),\n",
    "        (\"DOWNSTREAM\", \"RIV\", \"DOWNSTREAM\"),\n",
    "    ],\n",
    "}"
   ]
  },
  {
   "cell_type": "markdown",
   "id": "d6972f4c-a24c-4622-a665-e1b5fbe06530",
   "metadata": {},
   "source": [
    "_Build SFR datasets_\n",
    "\n",
    "`<rno> <cellid(ncelldim)> <rlen> <rwid> <rgrd> <rtp> <rbth> <rhk> <man> <ncon> <ustrf> <ndv> [<aux(naux)>] [<boundname>]`"
   ]
  },
  {
   "cell_type": "code",
   "execution_count": null,
   "id": "b4a497cd-22af-468a-adb7-5b640c2f9c97",
   "metadata": {},
   "outputs": [],
   "source": [
    "nreaches = river_cells.shape[0]\n",
    "nreaches"
   ]
  },
  {
   "cell_type": "code",
   "execution_count": null,
   "id": "07b90a0d-a474-4f8a-90f7-9d62d2268e5e",
   "metadata": {},
   "outputs": [],
   "source": [
    "boundname = \"upstream\"\n",
    "gage1_loc = None\n",
    "total_length = 0.\n",
    "sfr_packagedata = []\n",
    "sfr_connectivity = []\n",
    "for idx, (cellid, length) in enumerate(zip(river_cells[\"cellids\"], river_cells[\"lengths\"])):\n",
    "    if total_length >= 5000. and boundname == \"upstream\":\n",
    "        boundname = \"downstream\" \n",
    "        gage1_loc = idx - 1\n",
    "    dx = 0.5 * length\n",
    "    total_length += dx\n",
    "\n",
    "    river_thickness = river_thickness_up + river_thickness_slope * total_length\n",
    "    river_bot = river_bot_up + river_bot_slope * total_length\n",
    "    river_width = river_width_up + river_width_slope * total_length\n",
    "    \n",
    "    if idx == 0:\n",
    "        nconn = 1\n",
    "        sfr_connectivity.append((idx, -(idx + 1)))\n",
    "    elif idx == nreaches - 1:\n",
    "        nconn = 1\n",
    "        sfr_connectivity.append((idx, (idx - 1)))\n",
    "    else:\n",
    "        nconn = 2\n",
    "        sfr_connectivity.append((idx, (idx - 1), -(idx + 1)))\n",
    "    \n",
    "    sfr_layer = None\n",
    "    for k in range(nlay):\n",
    "        if river_bot - river_thickness > botm[k, cellid]:\n",
    "            sfr_layer = k\n",
    "    \n",
    "    if sfr_layer is None:\n",
    "        sfr_cellid = \"none\"\n",
    "    else:\n",
    "        sfr_cellid = (sfr_layer, cellid)\n",
    "    \n",
    "    leakance = river_kv * river_thickness\n",
    "    sfr_packagedata.append(\n",
    "        (idx, sfr_cellid, length, river_width, -river_bot_slope, \n",
    "         river_bot, river_thickness, river_kv, 0.035, \n",
    "         nconn, 1., 0, boundname)\n",
    "    )\n",
    "    \n",
    "    total_length += dx"
   ]
  },
  {
   "cell_type": "code",
   "execution_count": null,
   "id": "34430a13-a043-4ab8-9f87-6aebb407f17b",
   "metadata": {},
   "outputs": [],
   "source": [
    "sfr_spd = {0: [(0, \"inflow\", 864000.0)]}\n",
    "sfr_spd"
   ]
  },
  {
   "cell_type": "markdown",
   "id": "a655722c-29ac-460c-919d-c599d4f1dfc3",
   "metadata": {},
   "source": [
    "`<rno> <cellid(ncelldim)> <rlen> <rwid> <rgrd> <rtp> <rbth> <rhk> <man> <ncon> <ustrf> <ndv> [<aux(naux)>] [<boundname>]`"
   ]
  },
  {
   "cell_type": "code",
   "execution_count": null,
   "id": "c43db498-27a6-425c-8cae-f9622d700c03",
   "metadata": {},
   "outputs": [],
   "source": [
    "sfr_packagedata[:2], sfr_packagedata[-2:]"
   ]
  },
  {
   "cell_type": "code",
   "execution_count": null,
   "id": "4f0f0568-b1ef-45a1-8ca1-4e2c0c549363",
   "metadata": {},
   "outputs": [],
   "source": [
    "sfr_connectivity[:2], sfr_connectivity[-2:]"
   ]
  },
  {
   "cell_type": "code",
   "execution_count": null,
   "id": "a2bebce1-274b-47a6-b078-4d532e14f4d1",
   "metadata": {},
   "outputs": [],
   "source": [
    "sfr_obs = {\n",
    "    \"sfr_obs.csv\": [\n",
    "        (\"UPSTREAM\", \"SFR\", \"UPSTREAM\"),\n",
    "        (\"DOWNSTREAM\", \"SFR\", \"DOWNSTREAM\"),\n",
    "        (\"GAGE1\", \"downstream-flow\", (gage1_loc,)),\n",
    "        (\"GAGE2\", \"ext-outflow\", (nreaches - 1,)),\n",
    "        \n",
    "    ],\n",
    "}"
   ]
  },
  {
   "cell_type": "markdown",
   "id": "a5f85bfe-d6df-42ff-b475-3d63773a3c2f",
   "metadata": {},
   "source": [
    "_Define recharge rates_\n",
    "\n",
    "* The recharge rate is 0.16000000E-08 m/sec"
   ]
  },
  {
   "cell_type": "code",
   "execution_count": null,
   "id": "08edb467-a90f-47c9-8465-0b619ea02e83",
   "metadata": {},
   "outputs": [],
   "source": [
    "recharge_rate = 0.16000000E-08 * 86400.\n",
    "recharge_rate"
   ]
  },
  {
   "cell_type": "markdown",
   "id": "6353df62-e5b5-4bab-9e32-0f4cf3e679df",
   "metadata": {},
   "source": [
    "#### Build the model\n",
    "\n",
    "Build a steady-state model using the data that you have created. Packages to create:\n",
    "\n",
    "* Simulation\n",
    "* TDIS (1 stress period, `TIME_UNITS='days'`)\n",
    "* IMS (default parameters)\n",
    "\n",
    "* GWF model (`SAVE_FLOWS=True`)\n",
    "* DISV (`LENGTH_UNITS='meters'`)\n",
    "* IC (`STRT=40.`)\n",
    "* NPF (Unconfined, same K for all layers, save `SAVE_SPECIFIC_DISCHARGE=True`)\n",
    "* RCH (array based)\n",
    "* RIV (`BOUNDNAMES=True`,add `RIV` observations for defined boundnames)\n",
    "* WEL\n",
    "* OC (Save `HEAD ALL` and `BUDGET ALL`)\n"
   ]
  },
  {
   "cell_type": "code",
   "execution_count": null,
   "id": "b98023a9-21da-4916-a419-4047a423b5df",
   "metadata": {},
   "outputs": [],
   "source": [
    "name = \"project\"\n",
    "exe_name = pl.Path(\"/Users/jdhughes/Documents/Training/python-for-hydrology/notebooks/part1_flopy/day0\").resolve() / \"mf6\"  #\"/Users/jdhughes/Documents/Development/modflow6/modflow6/bin/mf6\"\n",
    "exe_name"
   ]
  },
  {
   "cell_type": "code",
   "execution_count": null,
   "id": "ceeb9cf4-c2a5-4eed-bb6e-058b141739d7",
   "metadata": {},
   "outputs": [],
   "source": [
    "sim = flopy.mf6.MFSimulation(sim_name=name, sim_ws=model_ws, exe_name=str(exe_name))\n",
    "tdis = flopy.mf6.ModflowTdis(sim, time_units=\"days\")\n",
    "ims = flopy.mf6.ModflowIms(sim, linear_acceleration=\"bicgstab\", \n",
    "                           outer_maximum=200,\n",
    "                           inner_maximum=100, \n",
    "                           print_option=\"all\",\n",
    "                          )"
   ]
  },
  {
   "cell_type": "code",
   "execution_count": null,
   "id": "9c85c033-c73a-43ec-8682-e866c094fcb9",
   "metadata": {},
   "outputs": [],
   "source": [
    "gwf = flopy.mf6.ModflowGwf(sim, modelname=name, save_flows=True, newtonoptions=\"NEWTON UNDER_RELAXATION\")"
   ]
  },
  {
   "cell_type": "code",
   "execution_count": null,
   "id": "0ce841a8-14ce-408a-844d-49251d91b091",
   "metadata": {},
   "outputs": [],
   "source": [
    "dis = flopy.mf6.ModflowGwfdisv(gwf, length_units=\"meters\", \n",
    "                               nlay=nlay, \n",
    "                               ncpl=base_grid.ncpl,\n",
    "                               nvert=base_grid.nvert,\n",
    "                               vertices=gridprops[\"vertices\"],\n",
    "                               cell2d=gridprops[\"cell2d\"],\n",
    "                               top=rtop, \n",
    "                               botm=botm,\n",
    "                               idomain=idomain,\n",
    "                              )\n",
    "ic = flopy.mf6.ModflowGwfic(gwf, strt=[rtop for k in range(nlay)])\n",
    "npf = flopy.mf6.ModflowGwfnpf(gwf, save_specific_discharge=True, k=[rkaq, rkaq, rkaq], icelltype=1)\n",
    "rch = flopy.mf6.ModflowGwfrcha(gwf, recharge=recharge_rate)\n",
    "# riv = flopy.mf6.ModflowGwfriv(gwf, boundnames=True, stress_period_data=river_spd)\n",
    "# riv.obs.initialize(\n",
    "#     filename=f\"{name}.riv.obs\",\n",
    "#     print_input=True,\n",
    "#     continuous=riv_obs,\n",
    "# )\n",
    "sfr = flopy.mf6.ModflowGwfsfr(gwf,\n",
    "                              unit_conversion=86400.,\n",
    "                              boundnames=True,\n",
    "                              print_flows=True,\n",
    "                              print_stage=True,\n",
    "                              nreaches=nreaches,\n",
    "                              packagedata=sfr_packagedata,\n",
    "                              connectiondata=sfr_connectivity,\n",
    "                              perioddata=sfr_spd,\n",
    "                             )\n",
    "sfr.obs.initialize(\n",
    "    filename=f\"{name}.sfr.obs\",\n",
    "    print_input=True,\n",
    "    continuous=sfr_obs,\n",
    ")\n",
    "wel = flopy.mf6.ModflowGwfwel(gwf, stress_period_data=well_spd)\n",
    "# chd = flopy.mf6.ModflowGwfchd(gwf, stress_period_data=chd_spd)\n",
    "oc = flopy.mf6.ModflowGwfoc(gwf, \n",
    "                            head_filerecord=f\"{name}.hds\", \n",
    "                            budget_filerecord=f\"{name}.cbc\", \n",
    "                            saverecord=[(\"HEAD\", \"ALL\"), (\"BUDGET\", \"ALL\")],\n",
    "                           )"
   ]
  },
  {
   "cell_type": "markdown",
   "id": "9a6d3a06-05b3-4f68-aa34-00dec952ef7d",
   "metadata": {},
   "source": [
    "#### Write the model files"
   ]
  },
  {
   "cell_type": "code",
   "execution_count": null,
   "id": "6a671453-1197-41db-9905-cc6549f705e1",
   "metadata": {},
   "outputs": [],
   "source": [
    "sim.write_simulation()"
   ]
  },
  {
   "cell_type": "markdown",
   "id": "b53e1ada-e0a7-43b0-a72a-cc5ed8a4bc31",
   "metadata": {},
   "source": [
    "#### Run the model"
   ]
  },
  {
   "cell_type": "code",
   "execution_count": null,
   "id": "8f6a82ba-1005-484e-8a5a-3f59e732eb58",
   "metadata": {},
   "outputs": [],
   "source": [
    "sim.run_simulation()"
   ]
  },
  {
   "cell_type": "markdown",
   "id": "dab370b7-c023-402a-bf3d-792cc82ad4de",
   "metadata": {},
   "source": [
    "#### Post-process the results\n",
    "\n",
    "Use `gwf.output.` method to get the observations."
   ]
  },
  {
   "cell_type": "code",
   "execution_count": null,
   "id": "6b1b0a5d-b1e6-4824-94c3-c849e176146b",
   "metadata": {},
   "outputs": [],
   "source": [
    "myobs = gwf.sfr.output.obs().get_data()\n",
    "myobs.dtype"
   ]
  },
  {
   "cell_type": "code",
   "execution_count": null,
   "id": "5f66f01c-9f11-4d83-be31-874c4df3717a",
   "metadata": {},
   "outputs": [],
   "source": [
    "myobs[\"UPSTREAM\"], myobs[\"DOWNSTREAM\"]"
   ]
  },
  {
   "cell_type": "markdown",
   "id": "50b64389-c690-4c21-bf74-2d4a5479de23",
   "metadata": {},
   "source": [
    "Use `gwf.output.` method to get the heads and specific discharge. Make a map and cross-sections of the data using `flopy.plot` methods. Plot specific discharge vectors on the map and cross-sections."
   ]
  },
  {
   "cell_type": "code",
   "execution_count": null,
   "id": "5d872228-ac57-4cba-8873-fb6430dac670",
   "metadata": {},
   "outputs": [],
   "source": [
    "head = gwf.output.head().get_data()"
   ]
  },
  {
   "cell_type": "code",
   "execution_count": null,
   "id": "4d75de40-e830-4c20-9b16-c5edfbdbb628",
   "metadata": {},
   "outputs": [],
   "source": [
    "gwf.output.budget().get_unique_record_names()"
   ]
  },
  {
   "cell_type": "code",
   "execution_count": null,
   "id": "cc988112-38dd-43dc-b4f0-77ec2f41b627",
   "metadata": {},
   "outputs": [],
   "source": [
    "spdis = gwf.output.budget().get_data(text=\"DATA-SPDIS\")[0]\n",
    "qx, qy, qz = flopy.utils.postprocessing.get_specific_discharge(spdis, gwf, head=head)"
   ]
  },
  {
   "cell_type": "code",
   "execution_count": null,
   "id": "263dd83d-0579-4340-9107-fdb9c7bc600a",
   "metadata": {},
   "outputs": [],
   "source": [
    "fig, ax = plt.subplots(\n",
    "        ncols=1,\n",
    "        nrows=1,\n",
    "        figsize=(5,10),\n",
    "        constrained_layout=True,\n",
    "        subplot_kw=dict(aspect=\"equal\"),\n",
    "    )\n",
    "mm = flopy.plot.PlotMapView(model=gwf, ax=ax, layer=0)\n",
    "cb = mm.plot_array(head, masked_values=[1e30], vmin=10, vmax=30)\n",
    "river.plot(color=\"cyan\", ax=mm.ax)\n",
    "mm.plot_grid(lw=0.5, color=\"0.5\");\n",
    "mm.plot_vector(qx, qy, qz, normalize=True)\n",
    "cs = mm.contour_array(head, colors=\"red\", levels=np.arange(10, 28, 1), linestyles=\":\", linewidths=1.)\n",
    "ax.clabel(\n",
    "    cs,\n",
    "    inline=True,\n",
    "    fmt=\"%1.0f\",\n",
    "    fontsize=10,\n",
    "    inline_spacing=0.5,\n",
    ")\n",
    "plt.colorbar(cb, ax=mm.ax, shrink=0.5);"
   ]
  },
  {
   "cell_type": "code",
   "execution_count": null,
   "id": "664dbc94-3436-4c7a-9c00-c1dfe2d303b6",
   "metadata": {},
   "outputs": [],
   "source": []
  }
 ],
 "metadata": {
  "kernelspec": {
   "display_name": "Python 3 (ipykernel)",
   "language": "python",
   "name": "python3"
  },
  "language_info": {
   "codemirror_mode": {
    "name": "ipython",
    "version": 3
   },
   "file_extension": ".py",
   "mimetype": "text/x-python",
   "name": "python",
   "nbconvert_exporter": "python",
   "pygments_lexer": "ipython3",
   "version": "3.9.13"
  }
 },
 "nbformat": 4,
 "nbformat_minor": 5
}
