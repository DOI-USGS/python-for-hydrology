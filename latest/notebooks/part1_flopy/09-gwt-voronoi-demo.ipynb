{
 "cells": [
  {
   "cell_type": "markdown",
   "id": "afad5282",
   "metadata": {},
   "source": [
    "# 09: Demonstration of MODFLOW 6 Groundwater Transport with a Voronoi Grid\n",
    "\n",
    "MODFLOW 6 includes a Groundwater Transport (GWT) Model for simulation of solute transport through the subsurface.  The GWT Model can be used with structured or unstructured model grids.  The purpose of this example is to demonstrate the construction, running, and post-processing of a simple solute transport model.\n",
    "\n",
    "The solute transport model is based on an existing flow model of the Freyberg example.  The flow model usesd a voronoi model grid to simulate steady-state conditions.  In this notebook, we create a transient solute transport model using the same voronoi grid that was used for flow.\n",
    "\n",
    "The following steps are used in this notebook.\n",
    "* Load the existing flow model into FloPy\n",
    "* Plot the model grid\n",
    "* Create the solute transport model\n",
    "* Run the solute transport model with MODFLOW 6\n",
    "* Create animations of the model results"
   ]
  },
  {
   "cell_type": "markdown",
   "id": "88945275-63d6-4c07-8189-45e2911bc5cc",
   "metadata": {},
   "source": [
    "### Imports"
   ]
  },
  {
   "cell_type": "code",
   "execution_count": 1,
   "id": "fc15635f-e887-417c-a9b6-583f1d0c758e",
   "metadata": {
    "execution": {
     "iopub.execute_input": "2024-07-30T21:10:14.771139Z",
     "iopub.status.busy": "2024-07-30T21:10:14.770720Z",
     "iopub.status.idle": "2024-07-30T21:10:16.028244Z",
     "shell.execute_reply": "2024-07-30T21:10:16.027682Z"
    }
   },
   "outputs": [
    {
     "ename": "AttributeError",
     "evalue": "`np.float_` was removed in the NumPy 2.0 release. Use `np.float64` instead.",
     "output_type": "error",
     "traceback": [
      "\u001b[0;31m---------------------------------------------------------------------------\u001b[0m",
      "\u001b[0;31mAttributeError\u001b[0m                            Traceback (most recent call last)",
      "Cell \u001b[0;32mIn[1], line 6\u001b[0m\n\u001b[1;32m      3\u001b[0m \u001b[38;5;28;01mimport\u001b[39;00m \u001b[38;5;21;01mmatplotlib\u001b[39;00m\u001b[38;5;21;01m.\u001b[39;00m\u001b[38;5;21;01mpyplot\u001b[39;00m \u001b[38;5;28;01mas\u001b[39;00m \u001b[38;5;21;01mplt\u001b[39;00m\n\u001b[1;32m      4\u001b[0m \u001b[38;5;28;01mimport\u001b[39;00m \u001b[38;5;21;01mmatplotlib\u001b[39;00m\u001b[38;5;21;01m.\u001b[39;00m\u001b[38;5;21;01mcolors\u001b[39;00m \u001b[38;5;28;01mas\u001b[39;00m \u001b[38;5;21;01mcolors\u001b[39;00m\n\u001b[0;32m----> 6\u001b[0m \u001b[38;5;28;01mimport\u001b[39;00m \u001b[38;5;21;01mflopy\u001b[39;00m\n\u001b[1;32m      7\u001b[0m \u001b[38;5;28;01mfrom\u001b[39;00m \u001b[38;5;21;01mflopy\u001b[39;00m\u001b[38;5;21;01m.\u001b[39;00m\u001b[38;5;21;01mutils\u001b[39;00m\u001b[38;5;21;01m.\u001b[39;00m\u001b[38;5;21;01mtriangle\u001b[39;00m \u001b[38;5;28;01mimport\u001b[39;00m Triangle \u001b[38;5;28;01mas\u001b[39;00m Triangle\n",
      "File \u001b[0;32m~/micromamba/envs/pyclass-docs/lib/python3.11/site-packages/flopy/__init__.py:26\u001b[0m\n\u001b[1;32m     23\u001b[0m __author__ \u001b[38;5;241m=\u001b[39m \u001b[38;5;124m\"\u001b[39m\u001b[38;5;124mFloPy Team\u001b[39m\u001b[38;5;124m\"\u001b[39m\n\u001b[1;32m     25\u001b[0m \u001b[38;5;28;01mfrom\u001b[39;00m \u001b[38;5;21;01m.\u001b[39;00m\u001b[38;5;21;01mversion\u001b[39;00m \u001b[38;5;28;01mimport\u001b[39;00m __version__  \u001b[38;5;66;03m# isort:skip\u001b[39;00m\n\u001b[0;32m---> 26\u001b[0m \u001b[38;5;28;01mfrom\u001b[39;00m \u001b[38;5;21;01m.\u001b[39;00m \u001b[38;5;28;01mimport\u001b[39;00m (\n\u001b[1;32m     27\u001b[0m     discretization,\n\u001b[1;32m     28\u001b[0m     export,\n\u001b[1;32m     29\u001b[0m     mf6,\n\u001b[1;32m     30\u001b[0m     mfusg,\n\u001b[1;32m     31\u001b[0m     modflow,\n\u001b[1;32m     32\u001b[0m     modflowlgr,\n\u001b[1;32m     33\u001b[0m     modpath,\n\u001b[1;32m     34\u001b[0m     mt3d,\n\u001b[1;32m     35\u001b[0m     pest,\n\u001b[1;32m     36\u001b[0m     plot,\n\u001b[1;32m     37\u001b[0m     seawat,\n\u001b[1;32m     38\u001b[0m     utils,\n\u001b[1;32m     39\u001b[0m )\n\u001b[1;32m     40\u001b[0m \u001b[38;5;28;01mfrom\u001b[39;00m \u001b[38;5;21;01m.\u001b[39;00m\u001b[38;5;21;01mmbase\u001b[39;00m \u001b[38;5;28;01mimport\u001b[39;00m run_model, which\n\u001b[1;32m     42\u001b[0m __all__ \u001b[38;5;241m=\u001b[39m [\n\u001b[1;32m     43\u001b[0m     \u001b[38;5;124m\"\u001b[39m\u001b[38;5;124m__author__\u001b[39m\u001b[38;5;124m\"\u001b[39m,\n\u001b[1;32m     44\u001b[0m     \u001b[38;5;124m\"\u001b[39m\u001b[38;5;124m__version__\u001b[39m\u001b[38;5;124m\"\u001b[39m,\n\u001b[0;32m   (...)\u001b[0m\n\u001b[1;32m     58\u001b[0m     \u001b[38;5;124m\"\u001b[39m\u001b[38;5;124mwhich\u001b[39m\u001b[38;5;124m\"\u001b[39m,\n\u001b[1;32m     59\u001b[0m ]\n",
      "File \u001b[0;32m~/micromamba/envs/pyclass-docs/lib/python3.11/site-packages/flopy/discretization/__init__.py:1\u001b[0m\n\u001b[0;32m----> 1\u001b[0m \u001b[38;5;28;01mfrom\u001b[39;00m \u001b[38;5;21;01m.\u001b[39;00m\u001b[38;5;21;01mstructuredgrid\u001b[39;00m \u001b[38;5;28;01mimport\u001b[39;00m StructuredGrid\n\u001b[1;32m      2\u001b[0m \u001b[38;5;28;01mfrom\u001b[39;00m \u001b[38;5;21;01m.\u001b[39;00m\u001b[38;5;21;01munstructuredgrid\u001b[39;00m \u001b[38;5;28;01mimport\u001b[39;00m UnstructuredGrid\n\u001b[1;32m      3\u001b[0m \u001b[38;5;28;01mfrom\u001b[39;00m \u001b[38;5;21;01m.\u001b[39;00m\u001b[38;5;21;01mvertexgrid\u001b[39;00m \u001b[38;5;28;01mimport\u001b[39;00m VertexGrid\n",
      "File \u001b[0;32m~/micromamba/envs/pyclass-docs/lib/python3.11/site-packages/flopy/discretization/structuredgrid.py:7\u001b[0m\n\u001b[1;32m      3\u001b[0m \u001b[38;5;28;01mfrom\u001b[39;00m \u001b[38;5;21;01mtyping\u001b[39;00m \u001b[38;5;28;01mimport\u001b[39;00m Union\n\u001b[1;32m      5\u001b[0m \u001b[38;5;28;01mimport\u001b[39;00m \u001b[38;5;21;01mnumpy\u001b[39;00m \u001b[38;5;28;01mas\u001b[39;00m \u001b[38;5;21;01mnp\u001b[39;00m\n\u001b[0;32m----> 7\u001b[0m \u001b[38;5;28;01mfrom\u001b[39;00m \u001b[38;5;21;01m.\u001b[39;00m\u001b[38;5;21;01mgrid\u001b[39;00m \u001b[38;5;28;01mimport\u001b[39;00m CachedData, Grid\n\u001b[1;32m     10\u001b[0m \u001b[38;5;28;01mdef\u001b[39;00m \u001b[38;5;21marray_at_verts_basic2d\u001b[39m(a):\n\u001b[1;32m     11\u001b[0m \u001b[38;5;250m    \u001b[39m\u001b[38;5;124;03m\"\"\"\u001b[39;00m\n\u001b[1;32m     12\u001b[0m \u001b[38;5;124;03m    Computes values at cell vertices on 2d array using neighbor averaging.\u001b[39;00m\n\u001b[1;32m     13\u001b[0m \n\u001b[0;32m   (...)\u001b[0m\n\u001b[1;32m     22\u001b[0m \u001b[38;5;124;03m        Array values at cell vertices, shape (a.shape[0]+1, a.shape[1]+1).\u001b[39;00m\n\u001b[1;32m     23\u001b[0m \u001b[38;5;124;03m    \"\"\"\u001b[39;00m\n",
      "File \u001b[0;32m~/micromamba/envs/pyclass-docs/lib/python3.11/site-packages/flopy/discretization/grid.py:16\u001b[0m\n\u001b[1;32m     13\u001b[0m \u001b[38;5;28;01mexcept\u001b[39;00m \u001b[38;5;167;01mImportError\u001b[39;00m:\n\u001b[1;32m     14\u001b[0m     HAS_PYPROJ \u001b[38;5;241m=\u001b[39m \u001b[38;5;28;01mFalse\u001b[39;00m\n\u001b[0;32m---> 16\u001b[0m \u001b[38;5;28;01mfrom\u001b[39;00m \u001b[38;5;21;01m.\u001b[39;00m\u001b[38;5;21;01m.\u001b[39;00m\u001b[38;5;21;01mutils\u001b[39;00m \u001b[38;5;28;01mimport\u001b[39;00m geometry\n\u001b[1;32m     17\u001b[0m \u001b[38;5;28;01mfrom\u001b[39;00m \u001b[38;5;21;01m.\u001b[39;00m\u001b[38;5;21;01m.\u001b[39;00m\u001b[38;5;21;01mutils\u001b[39;00m\u001b[38;5;21;01m.\u001b[39;00m\u001b[38;5;21;01mcrs\u001b[39;00m \u001b[38;5;28;01mimport\u001b[39;00m get_crs\n\u001b[1;32m     18\u001b[0m \u001b[38;5;28;01mfrom\u001b[39;00m \u001b[38;5;21;01m.\u001b[39;00m\u001b[38;5;21;01m.\u001b[39;00m\u001b[38;5;21;01mutils\u001b[39;00m\u001b[38;5;21;01m.\u001b[39;00m\u001b[38;5;21;01mgridutil\u001b[39;00m \u001b[38;5;28;01mimport\u001b[39;00m get_lni\n",
      "File \u001b[0;32m~/micromamba/envs/pyclass-docs/lib/python3.11/site-packages/flopy/utils/__init__.py:51\u001b[0m\n\u001b[1;32m     49\u001b[0m \u001b[38;5;28;01mfrom\u001b[39;00m \u001b[38;5;21;01m.\u001b[39;00m\u001b[38;5;21;01moptionblock\u001b[39;00m \u001b[38;5;28;01mimport\u001b[39;00m OptionBlock\n\u001b[1;32m     50\u001b[0m \u001b[38;5;28;01mfrom\u001b[39;00m \u001b[38;5;21;01m.\u001b[39;00m\u001b[38;5;21;01mpostprocessing\u001b[39;00m \u001b[38;5;28;01mimport\u001b[39;00m get_specific_discharge, get_transmissivities\n\u001b[0;32m---> 51\u001b[0m \u001b[38;5;28;01mfrom\u001b[39;00m \u001b[38;5;21;01m.\u001b[39;00m\u001b[38;5;21;01mrasters\u001b[39;00m \u001b[38;5;28;01mimport\u001b[39;00m Raster\n\u001b[1;32m     52\u001b[0m \u001b[38;5;28;01mfrom\u001b[39;00m \u001b[38;5;21;01m.\u001b[39;00m\u001b[38;5;21;01mrecarray_utils\u001b[39;00m \u001b[38;5;28;01mimport\u001b[39;00m create_empty_recarray, ra_slice, recarray\n\u001b[1;32m     53\u001b[0m \u001b[38;5;28;01mfrom\u001b[39;00m \u001b[38;5;21;01m.\u001b[39;00m\u001b[38;5;21;01mreference\u001b[39;00m \u001b[38;5;28;01mimport\u001b[39;00m TemporalReference\n",
      "File \u001b[0;32m~/micromamba/envs/pyclass-docs/lib/python3.11/site-packages/flopy/utils/rasters.py:13\u001b[0m\n\u001b[1;32m      8\u001b[0m \u001b[38;5;28;01mfrom\u001b[39;00m \u001b[38;5;21;01m.\u001b[39;00m\u001b[38;5;21;01mutl_import\u001b[39;00m \u001b[38;5;28;01mimport\u001b[39;00m import_optional_dependency\n\u001b[1;32m     10\u001b[0m warnings\u001b[38;5;241m.\u001b[39msimplefilter(\u001b[38;5;124m\"\u001b[39m\u001b[38;5;124malways\u001b[39m\u001b[38;5;124m\"\u001b[39m, \u001b[38;5;167;01mDeprecationWarning\u001b[39;00m)\n\u001b[0;32m---> 13\u001b[0m \u001b[38;5;28;43;01mclass\u001b[39;49;00m\u001b[43m \u001b[49m\u001b[38;5;21;43;01mRaster\u001b[39;49;00m\u001b[43m:\u001b[49m\n\u001b[1;32m     14\u001b[0m \u001b[38;5;250;43m    \u001b[39;49m\u001b[38;5;124;43;03m\"\"\"\u001b[39;49;00m\n\u001b[1;32m     15\u001b[0m \u001b[38;5;124;43;03m    The Raster object is used for cropping, sampling raster values,\u001b[39;49;00m\n\u001b[1;32m     16\u001b[0m \u001b[38;5;124;43;03m    and re-sampling raster values to grids, and provides methods to\u001b[39;49;00m\n\u001b[0;32m   (...)\u001b[0m\n\u001b[1;32m     45\u001b[0m \n\u001b[1;32m     46\u001b[0m \u001b[38;5;124;43;03m    \"\"\"\u001b[39;49;00m\n\u001b[1;32m     48\u001b[0m \u001b[43m    \u001b[49m\u001b[43mFLOAT32\u001b[49m\u001b[43m \u001b[49m\u001b[38;5;241;43m=\u001b[39;49m\u001b[43m \u001b[49m\u001b[43m(\u001b[49m\u001b[38;5;28;43mfloat\u001b[39;49m\u001b[43m,\u001b[49m\u001b[43m \u001b[49m\u001b[43mnp\u001b[49m\u001b[38;5;241;43m.\u001b[39;49m\u001b[43mfloat32\u001b[49m\u001b[43m,\u001b[49m\u001b[43m \u001b[49m\u001b[43mnp\u001b[49m\u001b[38;5;241;43m.\u001b[39;49m\u001b[43mfloat_\u001b[49m\u001b[43m)\u001b[49m\n",
      "File \u001b[0;32m~/micromamba/envs/pyclass-docs/lib/python3.11/site-packages/flopy/utils/rasters.py:48\u001b[0m, in \u001b[0;36mRaster\u001b[0;34m()\u001b[0m\n\u001b[1;32m     13\u001b[0m \u001b[38;5;28;01mclass\u001b[39;00m \u001b[38;5;21;01mRaster\u001b[39;00m:\n\u001b[1;32m     14\u001b[0m \u001b[38;5;250m    \u001b[39m\u001b[38;5;124;03m\"\"\"\u001b[39;00m\n\u001b[1;32m     15\u001b[0m \u001b[38;5;124;03m    The Raster object is used for cropping, sampling raster values,\u001b[39;00m\n\u001b[1;32m     16\u001b[0m \u001b[38;5;124;03m    and re-sampling raster values to grids, and provides methods to\u001b[39;00m\n\u001b[0;32m   (...)\u001b[0m\n\u001b[1;32m     45\u001b[0m \n\u001b[1;32m     46\u001b[0m \u001b[38;5;124;03m    \"\"\"\u001b[39;00m\n\u001b[0;32m---> 48\u001b[0m     FLOAT32 \u001b[38;5;241m=\u001b[39m (\u001b[38;5;28mfloat\u001b[39m, np\u001b[38;5;241m.\u001b[39mfloat32, \u001b[43mnp\u001b[49m\u001b[38;5;241;43m.\u001b[39;49m\u001b[43mfloat_\u001b[49m)\n\u001b[1;32m     49\u001b[0m     FLOAT64 \u001b[38;5;241m=\u001b[39m (np\u001b[38;5;241m.\u001b[39mfloat64,)\n\u001b[1;32m     50\u001b[0m     INT8 \u001b[38;5;241m=\u001b[39m (np\u001b[38;5;241m.\u001b[39mint8, np\u001b[38;5;241m.\u001b[39muint8)\n",
      "File \u001b[0;32m~/micromamba/envs/pyclass-docs/lib/python3.11/site-packages/numpy/__init__.py:397\u001b[0m, in \u001b[0;36m__getattr__\u001b[0;34m(attr)\u001b[0m\n\u001b[1;32m    394\u001b[0m     \u001b[38;5;28;01mraise\u001b[39;00m \u001b[38;5;167;01mAttributeError\u001b[39;00m(__former_attrs__[attr])\n\u001b[1;32m    396\u001b[0m \u001b[38;5;28;01mif\u001b[39;00m attr \u001b[38;5;129;01min\u001b[39;00m __expired_attributes__:\n\u001b[0;32m--> 397\u001b[0m     \u001b[38;5;28;01mraise\u001b[39;00m \u001b[38;5;167;01mAttributeError\u001b[39;00m(\n\u001b[1;32m    398\u001b[0m         \u001b[38;5;124mf\u001b[39m\u001b[38;5;124m\"\u001b[39m\u001b[38;5;124m`np.\u001b[39m\u001b[38;5;132;01m{\u001b[39;00mattr\u001b[38;5;132;01m}\u001b[39;00m\u001b[38;5;124m` was removed in the NumPy 2.0 release. \u001b[39m\u001b[38;5;124m\"\u001b[39m\n\u001b[1;32m    399\u001b[0m         \u001b[38;5;124mf\u001b[39m\u001b[38;5;124m\"\u001b[39m\u001b[38;5;132;01m{\u001b[39;00m__expired_attributes__[attr]\u001b[38;5;132;01m}\u001b[39;00m\u001b[38;5;124m\"\u001b[39m\n\u001b[1;32m    400\u001b[0m     )\n\u001b[1;32m    402\u001b[0m \u001b[38;5;28;01mif\u001b[39;00m attr \u001b[38;5;241m==\u001b[39m \u001b[38;5;124m\"\u001b[39m\u001b[38;5;124mchararray\u001b[39m\u001b[38;5;124m\"\u001b[39m:\n\u001b[1;32m    403\u001b[0m     warnings\u001b[38;5;241m.\u001b[39mwarn(\n\u001b[1;32m    404\u001b[0m         \u001b[38;5;124m\"\u001b[39m\u001b[38;5;124m`np.chararray` is deprecated and will be removed from \u001b[39m\u001b[38;5;124m\"\u001b[39m\n\u001b[1;32m    405\u001b[0m         \u001b[38;5;124m\"\u001b[39m\u001b[38;5;124mthe main namespace in the future. Use an array with a string \u001b[39m\u001b[38;5;124m\"\u001b[39m\n\u001b[1;32m    406\u001b[0m         \u001b[38;5;124m\"\u001b[39m\u001b[38;5;124mor bytes dtype instead.\u001b[39m\u001b[38;5;124m\"\u001b[39m, \u001b[38;5;167;01mDeprecationWarning\u001b[39;00m, stacklevel\u001b[38;5;241m=\u001b[39m\u001b[38;5;241m2\u001b[39m)\n",
      "\u001b[0;31mAttributeError\u001b[0m: `np.float_` was removed in the NumPy 2.0 release. Use `np.float64` instead."
     ]
    }
   ],
   "source": [
    "import warnings\n",
    "import numpy as np\n",
    "import matplotlib.pyplot as plt\n",
    "import matplotlib.colors as colors\n",
    "\n",
    "import flopy\n",
    "from flopy.utils.triangle import Triangle as Triangle"
   ]
  },
  {
   "cell_type": "markdown",
   "id": "01909c79-e3d5-45c9-b058-ffb1d8216f51",
   "metadata": {},
   "source": [
    "### Load and Plot the Existing Flow Model"
   ]
  },
  {
   "cell_type": "code",
   "execution_count": 2,
   "id": "f55b0c73-ec82-4654-ac95-d840845c6a80",
   "metadata": {
    "execution": {
     "iopub.execute_input": "2024-07-30T21:10:16.030409Z",
     "iopub.status.busy": "2024-07-30T21:10:16.030109Z",
     "iopub.status.idle": "2024-07-30T21:10:16.032716Z",
     "shell.execute_reply": "2024-07-30T21:10:16.032315Z"
    }
   },
   "outputs": [],
   "source": [
    "model_ws_load = \"./data/voronoi/\"\n",
    "model_ws = \"./temp/voronoi-gwt/\"\n",
    "name = \"voronoi\"\n",
    "name_load = \"project\""
   ]
  },
  {
   "cell_type": "markdown",
   "id": "945eddc2-b144-4305-b51e-d659feb6cf50",
   "metadata": {},
   "source": [
    "Load a few shapefiles with geopandas"
   ]
  },
  {
   "cell_type": "code",
   "execution_count": 3,
   "id": "6e5e72a3-edfd-4595-ba6d-420f210a5d84",
   "metadata": {
    "execution": {
     "iopub.execute_input": "2024-07-30T21:10:16.034486Z",
     "iopub.status.busy": "2024-07-30T21:10:16.034319Z",
     "iopub.status.idle": "2024-07-30T21:10:16.036677Z",
     "shell.execute_reply": "2024-07-30T21:10:16.036277Z"
    }
   },
   "outputs": [],
   "source": [
    "river_shp = \"data_project/Flowline_river.shp\"\n",
    "wells_shp = \"data_project/pumping_well_locations.shp\""
   ]
  },
  {
   "cell_type": "markdown",
   "id": "30df1ad3-a236-4e1a-9dc2-6093c2d1c372",
   "metadata": {
    "tags": []
   },
   "source": [
    "Load the existing voronoi groundwater flow model"
   ]
  },
  {
   "cell_type": "code",
   "execution_count": 4,
   "id": "20f556d4-fc16-4114-a9d0-5c14181d8ebb",
   "metadata": {
    "execution": {
     "iopub.execute_input": "2024-07-30T21:10:16.038403Z",
     "iopub.status.busy": "2024-07-30T21:10:16.038244Z",
     "iopub.status.idle": "2024-07-30T21:10:16.049639Z",
     "shell.execute_reply": "2024-07-30T21:10:16.049205Z"
    }
   },
   "outputs": [
    {
     "ename": "NameError",
     "evalue": "name 'flopy' is not defined",
     "output_type": "error",
     "traceback": [
      "\u001b[0;31m---------------------------------------------------------------------------\u001b[0m",
      "\u001b[0;31mNameError\u001b[0m                                 Traceback (most recent call last)",
      "Cell \u001b[0;32mIn[4], line 1\u001b[0m\n\u001b[0;32m----> 1\u001b[0m sim \u001b[38;5;241m=\u001b[39m \u001b[43mflopy\u001b[49m\u001b[38;5;241m.\u001b[39mmf6\u001b[38;5;241m.\u001b[39mMFSimulation\u001b[38;5;241m.\u001b[39mload(sim_ws\u001b[38;5;241m=\u001b[39mmodel_ws_load, sim_name\u001b[38;5;241m=\u001b[39mname)\n",
      "\u001b[0;31mNameError\u001b[0m: name 'flopy' is not defined"
     ]
    }
   ],
   "source": [
    "%%capture\n",
    "sim = flopy.mf6.MFSimulation.load(sim_ws=model_ws_load, sim_name=name)"
   ]
  },
  {
   "cell_type": "markdown",
   "id": "d3828269-85ab-4c14-879e-b6c28450a465",
   "metadata": {},
   "source": [
    "Get the gwf model"
   ]
  },
  {
   "cell_type": "code",
   "execution_count": 5,
   "id": "48b8a191-3230-4e41-b0df-6e00d43a5b04",
   "metadata": {
    "execution": {
     "iopub.execute_input": "2024-07-30T21:10:16.051789Z",
     "iopub.status.busy": "2024-07-30T21:10:16.051367Z",
     "iopub.status.idle": "2024-07-30T21:10:16.061815Z",
     "shell.execute_reply": "2024-07-30T21:10:16.061392Z"
    }
   },
   "outputs": [
    {
     "ename": "NameError",
     "evalue": "name 'sim' is not defined",
     "output_type": "error",
     "traceback": [
      "\u001b[0;31m---------------------------------------------------------------------------\u001b[0m",
      "\u001b[0;31mNameError\u001b[0m                                 Traceback (most recent call last)",
      "Cell \u001b[0;32mIn[5], line 1\u001b[0m\n\u001b[0;32m----> 1\u001b[0m gwf \u001b[38;5;241m=\u001b[39m \u001b[43msim\u001b[49m\u001b[38;5;241m.\u001b[39mget_model()\n",
      "\u001b[0;31mNameError\u001b[0m: name 'sim' is not defined"
     ]
    }
   ],
   "source": [
    "gwf = sim.get_model()"
   ]
  },
  {
   "cell_type": "markdown",
   "id": "24a69ac7-9fd0-4dbb-940e-138f7a7493e5",
   "metadata": {},
   "source": [
    "Assign a constant concentration condition to the x, y location of 550, 7900.  Use the `modelgrid.intersect` method to determine the cell number for the constant concentration condition."
   ]
  },
  {
   "cell_type": "code",
   "execution_count": 6,
   "id": "dd922664-30cf-4be1-941f-e0d8ce186c3b",
   "metadata": {
    "execution": {
     "iopub.execute_input": "2024-07-30T21:10:16.063714Z",
     "iopub.status.busy": "2024-07-30T21:10:16.063515Z",
     "iopub.status.idle": "2024-07-30T21:10:16.073968Z",
     "shell.execute_reply": "2024-07-30T21:10:16.073454Z"
    }
   },
   "outputs": [
    {
     "ename": "NameError",
     "evalue": "name 'gwf' is not defined",
     "output_type": "error",
     "traceback": [
      "\u001b[0;31m---------------------------------------------------------------------------\u001b[0m",
      "\u001b[0;31mNameError\u001b[0m                                 Traceback (most recent call last)",
      "Cell \u001b[0;32mIn[6], line 1\u001b[0m\n\u001b[0;32m----> 1\u001b[0m \u001b[43mgwf\u001b[49m\u001b[38;5;241m.\u001b[39mmodelgrid\u001b[38;5;241m.\u001b[39mintersect(\u001b[38;5;241m550\u001b[39m, \u001b[38;5;241m7900\u001b[39m)\n",
      "\u001b[0;31mNameError\u001b[0m: name 'gwf' is not defined"
     ]
    }
   ],
   "source": [
    "gwf.modelgrid.intersect(550, 7900)"
   ]
  },
  {
   "cell_type": "markdown",
   "id": "dedb537b-3a25-4183-b573-7f2f72c54c62",
   "metadata": {},
   "source": [
    "Plot the grid"
   ]
  },
  {
   "cell_type": "code",
   "execution_count": 7,
   "id": "8d5d5361-3361-4568-b711-3cfa482f2993",
   "metadata": {
    "execution": {
     "iopub.execute_input": "2024-07-30T21:10:16.076047Z",
     "iopub.status.busy": "2024-07-30T21:10:16.075739Z",
     "iopub.status.idle": "2024-07-30T21:10:16.086415Z",
     "shell.execute_reply": "2024-07-30T21:10:16.085996Z"
    }
   },
   "outputs": [
    {
     "ename": "NameError",
     "evalue": "name 'gwf' is not defined",
     "output_type": "error",
     "traceback": [
      "\u001b[0;31m---------------------------------------------------------------------------\u001b[0m",
      "\u001b[0;31mNameError\u001b[0m                                 Traceback (most recent call last)",
      "Cell \u001b[0;32mIn[7], line 1\u001b[0m\n\u001b[0;32m----> 1\u001b[0m \u001b[43mgwf\u001b[49m\u001b[38;5;241m.\u001b[39mmodelgrid\u001b[38;5;241m.\u001b[39mplot()\n\u001b[1;32m      2\u001b[0m ax \u001b[38;5;241m=\u001b[39m plt\u001b[38;5;241m.\u001b[39mgca()\n\u001b[1;32m      3\u001b[0m ax\u001b[38;5;241m.\u001b[39mplot(\u001b[38;5;241m550\u001b[39m, \u001b[38;5;241m7900\u001b[39m, marker\u001b[38;5;241m=\u001b[39m\u001b[38;5;124m\"\u001b[39m\u001b[38;5;124mo\u001b[39m\u001b[38;5;124m\"\u001b[39m, lw\u001b[38;5;241m=\u001b[39m\u001b[38;5;241m0\u001b[39m, color\u001b[38;5;241m=\u001b[39m\u001b[38;5;124m\"\u001b[39m\u001b[38;5;124mred\u001b[39m\u001b[38;5;124m\"\u001b[39m, )\n",
      "\u001b[0;31mNameError\u001b[0m: name 'gwf' is not defined"
     ]
    }
   ],
   "source": [
    "gwf.modelgrid.plot()\n",
    "ax = plt.gca()\n",
    "ax.plot(550, 7900, marker=\"o\", lw=0, color=\"red\", )"
   ]
  },
  {
   "cell_type": "markdown",
   "id": "e664ff92-50bf-444b-b78d-86d85e2497e8",
   "metadata": {},
   "source": [
    "### Create the Groundwater Transport Model"
   ]
  },
  {
   "cell_type": "markdown",
   "id": "e64ee71d-342a-4e5f-aad7-adcadf6ce700",
   "metadata": {},
   "source": [
    "Get data from the GWF DISV package"
   ]
  },
  {
   "cell_type": "code",
   "execution_count": 8,
   "id": "de99b252-29f7-4da8-b0f4-207ed36a26fd",
   "metadata": {
    "execution": {
     "iopub.execute_input": "2024-07-30T21:10:16.088429Z",
     "iopub.status.busy": "2024-07-30T21:10:16.088081Z",
     "iopub.status.idle": "2024-07-30T21:10:16.098272Z",
     "shell.execute_reply": "2024-07-30T21:10:16.097736Z"
    }
   },
   "outputs": [
    {
     "ename": "NameError",
     "evalue": "name 'gwf' is not defined",
     "output_type": "error",
     "traceback": [
      "\u001b[0;31m---------------------------------------------------------------------------\u001b[0m",
      "\u001b[0;31mNameError\u001b[0m                                 Traceback (most recent call last)",
      "Cell \u001b[0;32mIn[8], line 1\u001b[0m\n\u001b[0;32m----> 1\u001b[0m nlay, ncpl \u001b[38;5;241m=\u001b[39m \u001b[43mgwf\u001b[49m\u001b[38;5;241m.\u001b[39mdisv\u001b[38;5;241m.\u001b[39mnlay\u001b[38;5;241m.\u001b[39marray, gwf\u001b[38;5;241m.\u001b[39mdisv\u001b[38;5;241m.\u001b[39mncpl\u001b[38;5;241m.\u001b[39marray\n\u001b[1;32m      2\u001b[0m nlay, ncpl\n",
      "\u001b[0;31mNameError\u001b[0m: name 'gwf' is not defined"
     ]
    }
   ],
   "source": [
    "nlay, ncpl = gwf.disv.nlay.array, gwf.disv.ncpl.array\n",
    "nlay, ncpl"
   ]
  },
  {
   "cell_type": "code",
   "execution_count": 9,
   "id": "806af036-109a-40dd-bf47-c8e5c9e92dad",
   "metadata": {
    "execution": {
     "iopub.execute_input": "2024-07-30T21:10:16.099975Z",
     "iopub.status.busy": "2024-07-30T21:10:16.099820Z",
     "iopub.status.idle": "2024-07-30T21:10:16.110658Z",
     "shell.execute_reply": "2024-07-30T21:10:16.110256Z"
    }
   },
   "outputs": [
    {
     "ename": "NameError",
     "evalue": "name 'gwf' is not defined",
     "output_type": "error",
     "traceback": [
      "\u001b[0;31m---------------------------------------------------------------------------\u001b[0m",
      "\u001b[0;31mNameError\u001b[0m                                 Traceback (most recent call last)",
      "Cell \u001b[0;32mIn[9], line 1\u001b[0m\n\u001b[0;32m----> 1\u001b[0m top, botm \u001b[38;5;241m=\u001b[39m \u001b[43mgwf\u001b[49m\u001b[38;5;241m.\u001b[39mdisv\u001b[38;5;241m.\u001b[39mtop\u001b[38;5;241m.\u001b[39marray, gwf\u001b[38;5;241m.\u001b[39mdisv\u001b[38;5;241m.\u001b[39mbotm\u001b[38;5;241m.\u001b[39marray\n\u001b[1;32m      2\u001b[0m top\u001b[38;5;241m.\u001b[39mshape, botm\u001b[38;5;241m.\u001b[39mshape\n",
      "\u001b[0;31mNameError\u001b[0m: name 'gwf' is not defined"
     ]
    }
   ],
   "source": [
    "top, botm = gwf.disv.top.array, gwf.disv.botm.array\n",
    "top.shape, botm.shape"
   ]
  },
  {
   "cell_type": "code",
   "execution_count": 10,
   "id": "8581e8ec-c521-4758-a04b-438c4ef6fd1d",
   "metadata": {
    "execution": {
     "iopub.execute_input": "2024-07-30T21:10:16.112493Z",
     "iopub.status.busy": "2024-07-30T21:10:16.112241Z",
     "iopub.status.idle": "2024-07-30T21:10:16.121935Z",
     "shell.execute_reply": "2024-07-30T21:10:16.121534Z"
    }
   },
   "outputs": [
    {
     "ename": "NameError",
     "evalue": "name 'gwf' is not defined",
     "output_type": "error",
     "traceback": [
      "\u001b[0;31m---------------------------------------------------------------------------\u001b[0m",
      "\u001b[0;31mNameError\u001b[0m                                 Traceback (most recent call last)",
      "Cell \u001b[0;32mIn[10], line 1\u001b[0m\n\u001b[0;32m----> 1\u001b[0m nverts \u001b[38;5;241m=\u001b[39m \u001b[43mgwf\u001b[49m\u001b[38;5;241m.\u001b[39mdisv\u001b[38;5;241m.\u001b[39mnvert\u001b[38;5;241m.\u001b[39marray\n\u001b[1;32m      2\u001b[0m nverts\n",
      "\u001b[0;31mNameError\u001b[0m: name 'gwf' is not defined"
     ]
    }
   ],
   "source": [
    "nverts = gwf.disv.nvert.array\n",
    "nverts"
   ]
  },
  {
   "cell_type": "code",
   "execution_count": 11,
   "id": "ab044fde-018d-43f8-a743-1637358d4b0b",
   "metadata": {
    "execution": {
     "iopub.execute_input": "2024-07-30T21:10:16.123806Z",
     "iopub.status.busy": "2024-07-30T21:10:16.123437Z",
     "iopub.status.idle": "2024-07-30T21:10:16.133798Z",
     "shell.execute_reply": "2024-07-30T21:10:16.133293Z"
    }
   },
   "outputs": [
    {
     "ename": "NameError",
     "evalue": "name 'gwf' is not defined",
     "output_type": "error",
     "traceback": [
      "\u001b[0;31m---------------------------------------------------------------------------\u001b[0m",
      "\u001b[0;31mNameError\u001b[0m                                 Traceback (most recent call last)",
      "Cell \u001b[0;32mIn[11], line 1\u001b[0m\n\u001b[0;32m----> 1\u001b[0m vertices, cell2d \u001b[38;5;241m=\u001b[39m \u001b[43mgwf\u001b[49m\u001b[38;5;241m.\u001b[39mdisv\u001b[38;5;241m.\u001b[39mvertices\u001b[38;5;241m.\u001b[39marray, gwf\u001b[38;5;241m.\u001b[39mdisv\u001b[38;5;241m.\u001b[39mcell2d\u001b[38;5;241m.\u001b[39marray\n",
      "\u001b[0;31mNameError\u001b[0m: name 'gwf' is not defined"
     ]
    }
   ],
   "source": [
    "vertices, cell2d = gwf.disv.vertices.array, gwf.disv.cell2d.array"
   ]
  },
  {
   "cell_type": "markdown",
   "id": "78b8fff6-39db-4277-a6c5-839de61e3ff6",
   "metadata": {},
   "source": [
    "Create the GWT model"
   ]
  },
  {
   "cell_type": "code",
   "execution_count": 12,
   "id": "f03b0549-d677-4f23-b01d-b28a164f953b",
   "metadata": {
    "execution": {
     "iopub.execute_input": "2024-07-30T21:10:16.135821Z",
     "iopub.status.busy": "2024-07-30T21:10:16.135418Z",
     "iopub.status.idle": "2024-07-30T21:10:16.147493Z",
     "shell.execute_reply": "2024-07-30T21:10:16.146970Z"
    }
   },
   "outputs": [
    {
     "ename": "NameError",
     "evalue": "name 'flopy' is not defined",
     "output_type": "error",
     "traceback": [
      "\u001b[0;31m---------------------------------------------------------------------------\u001b[0m",
      "\u001b[0;31mNameError\u001b[0m                                 Traceback (most recent call last)",
      "Cell \u001b[0;32mIn[12], line 1\u001b[0m\n\u001b[0;32m----> 1\u001b[0m sim_gwt \u001b[38;5;241m=\u001b[39m \u001b[43mflopy\u001b[49m\u001b[38;5;241m.\u001b[39mmf6\u001b[38;5;241m.\u001b[39mMFSimulation(sim_name\u001b[38;5;241m=\u001b[39mname, sim_ws\u001b[38;5;241m=\u001b[39mmodel_ws)\n\u001b[1;32m      2\u001b[0m tdis \u001b[38;5;241m=\u001b[39m flopy\u001b[38;5;241m.\u001b[39mmf6\u001b[38;5;241m.\u001b[39mModflowTdis(sim_gwt, \n\u001b[1;32m      3\u001b[0m                              time_units\u001b[38;5;241m=\u001b[39m\u001b[38;5;124m\"\u001b[39m\u001b[38;5;124mdays\u001b[39m\u001b[38;5;124m\"\u001b[39m,\n\u001b[1;32m      4\u001b[0m                              perioddata\u001b[38;5;241m=\u001b[39m((\u001b[38;5;241m10000.0\u001b[39m, \u001b[38;5;241m100\u001b[39m, \u001b[38;5;241m1.0\u001b[39m),),\n\u001b[1;32m      5\u001b[0m                             )\n\u001b[1;32m      6\u001b[0m ims \u001b[38;5;241m=\u001b[39m flopy\u001b[38;5;241m.\u001b[39mmf6\u001b[38;5;241m.\u001b[39mModflowIms(\n\u001b[1;32m      7\u001b[0m     sim_gwt,\n\u001b[1;32m      8\u001b[0m     linear_acceleration\u001b[38;5;241m=\u001b[39m\u001b[38;5;124m\"\u001b[39m\u001b[38;5;124mbicgstab\u001b[39m\u001b[38;5;124m\"\u001b[39m,\n\u001b[0;32m   (...)\u001b[0m\n\u001b[1;32m     11\u001b[0m     print_option\u001b[38;5;241m=\u001b[39m\u001b[38;5;124m\"\u001b[39m\u001b[38;5;124mall\u001b[39m\u001b[38;5;124m\"\u001b[39m,\n\u001b[1;32m     12\u001b[0m )\n",
      "\u001b[0;31mNameError\u001b[0m: name 'flopy' is not defined"
     ]
    }
   ],
   "source": [
    "sim_gwt = flopy.mf6.MFSimulation(sim_name=name, sim_ws=model_ws)\n",
    "tdis = flopy.mf6.ModflowTdis(sim_gwt, \n",
    "                             time_units=\"days\",\n",
    "                             perioddata=((10000.0, 100, 1.0),),\n",
    "                            )\n",
    "ims = flopy.mf6.ModflowIms(\n",
    "    sim_gwt,\n",
    "    linear_acceleration=\"bicgstab\",\n",
    "    outer_maximum=200,\n",
    "    inner_maximum=100,\n",
    "    print_option=\"all\",\n",
    ")"
   ]
  },
  {
   "cell_type": "code",
   "execution_count": 13,
   "id": "845f8a67-c82b-48eb-b151-adc0f8e58b90",
   "metadata": {
    "execution": {
     "iopub.execute_input": "2024-07-30T21:10:16.149465Z",
     "iopub.status.busy": "2024-07-30T21:10:16.149289Z",
     "iopub.status.idle": "2024-07-30T21:10:16.160462Z",
     "shell.execute_reply": "2024-07-30T21:10:16.159968Z"
    }
   },
   "outputs": [
    {
     "ename": "NameError",
     "evalue": "name 'flopy' is not defined",
     "output_type": "error",
     "traceback": [
      "\u001b[0;31m---------------------------------------------------------------------------\u001b[0m",
      "\u001b[0;31mNameError\u001b[0m                                 Traceback (most recent call last)",
      "Cell \u001b[0;32mIn[13], line 1\u001b[0m\n\u001b[0;32m----> 1\u001b[0m gwt \u001b[38;5;241m=\u001b[39m \u001b[43mflopy\u001b[49m\u001b[38;5;241m.\u001b[39mmf6\u001b[38;5;241m.\u001b[39mModflowGwt(sim_gwt, modelname\u001b[38;5;241m=\u001b[39mname)\n",
      "\u001b[0;31mNameError\u001b[0m: name 'flopy' is not defined"
     ]
    }
   ],
   "source": [
    "gwt = flopy.mf6.ModflowGwt(sim_gwt, modelname=name)"
   ]
  },
  {
   "cell_type": "markdown",
   "id": "c690cae9-5a17-45e8-b7ff-f9f99d7a1cdc",
   "metadata": {},
   "source": [
    "Create the GWT packages"
   ]
  },
  {
   "cell_type": "code",
   "execution_count": 14,
   "id": "0c5fc188-4f1a-4a43-a997-85598d15e9e1",
   "metadata": {
    "execution": {
     "iopub.execute_input": "2024-07-30T21:10:16.162381Z",
     "iopub.status.busy": "2024-07-30T21:10:16.162218Z",
     "iopub.status.idle": "2024-07-30T21:10:16.177569Z",
     "shell.execute_reply": "2024-07-30T21:10:16.177055Z"
    }
   },
   "outputs": [
    {
     "ename": "NameError",
     "evalue": "name 'flopy' is not defined",
     "output_type": "error",
     "traceback": [
      "\u001b[0;31m---------------------------------------------------------------------------\u001b[0m",
      "\u001b[0;31mNameError\u001b[0m                                 Traceback (most recent call last)",
      "Cell \u001b[0;32mIn[14], line 1\u001b[0m\n\u001b[0;32m----> 1\u001b[0m dis \u001b[38;5;241m=\u001b[39m \u001b[43mflopy\u001b[49m\u001b[38;5;241m.\u001b[39mmf6\u001b[38;5;241m.\u001b[39mModflowGwtdisv(\n\u001b[1;32m      2\u001b[0m     gwt,\n\u001b[1;32m      3\u001b[0m     length_units\u001b[38;5;241m=\u001b[39m\u001b[38;5;124m\"\u001b[39m\u001b[38;5;124mfeet\u001b[39m\u001b[38;5;124m\"\u001b[39m,\n\u001b[1;32m      4\u001b[0m     nlay\u001b[38;5;241m=\u001b[39mnlay,\n\u001b[1;32m      5\u001b[0m     ncpl\u001b[38;5;241m=\u001b[39mncpl,\n\u001b[1;32m      6\u001b[0m     nvert\u001b[38;5;241m=\u001b[39mnverts,\n\u001b[1;32m      7\u001b[0m     top\u001b[38;5;241m=\u001b[39mtop,\n\u001b[1;32m      8\u001b[0m     botm\u001b[38;5;241m=\u001b[39mbotm,\n\u001b[1;32m      9\u001b[0m     vertices\u001b[38;5;241m=\u001b[39mvertices,\n\u001b[1;32m     10\u001b[0m     cell2d\u001b[38;5;241m=\u001b[39mcell2d,\n\u001b[1;32m     11\u001b[0m )\n\u001b[1;32m     12\u001b[0m ic \u001b[38;5;241m=\u001b[39m flopy\u001b[38;5;241m.\u001b[39mmf6\u001b[38;5;241m.\u001b[39mModflowGwtic(gwt, strt\u001b[38;5;241m=\u001b[39m\u001b[38;5;241m0.0\u001b[39m)\n\u001b[1;32m     13\u001b[0m adv \u001b[38;5;241m=\u001b[39m flopy\u001b[38;5;241m.\u001b[39mmf6\u001b[38;5;241m.\u001b[39mModflowGwtadv(\n\u001b[1;32m     14\u001b[0m     gwt, \n\u001b[1;32m     15\u001b[0m     scheme\u001b[38;5;241m=\u001b[39m\u001b[38;5;124m\"\u001b[39m\u001b[38;5;124mtvd\u001b[39m\u001b[38;5;124m\"\u001b[39m,\n\u001b[1;32m     16\u001b[0m )\n",
      "\u001b[0;31mNameError\u001b[0m: name 'flopy' is not defined"
     ]
    }
   ],
   "source": [
    "dis = flopy.mf6.ModflowGwtdisv(\n",
    "    gwt,\n",
    "    length_units=\"feet\",\n",
    "    nlay=nlay,\n",
    "    ncpl=ncpl,\n",
    "    nvert=nverts,\n",
    "    top=top,\n",
    "    botm=botm,\n",
    "    vertices=vertices,\n",
    "    cell2d=cell2d,\n",
    ")\n",
    "ic = flopy.mf6.ModflowGwtic(gwt, strt=0.0)\n",
    "adv = flopy.mf6.ModflowGwtadv(\n",
    "    gwt, \n",
    "    scheme=\"tvd\",\n",
    ")\n",
    "dsp = flopy.mf6.ModflowGwtdsp(gwt, alh=50.0, ath1=5)\n",
    "mst = flopy.mf6.ModflowGwtmst(gwt, porosity=0.2)\n",
    "pd = [\n",
    "    (\"GWFHEAD\", f\"../../{model_ws_load}{name_load}.hds\", None),\n",
    "    (\"GWFBUDGET\", f\"../../{model_ws_load}{name_load}.cbc\", None),\n",
    "]\n",
    "fmi = flopy.mf6.ModflowGwtfmi(gwt, packagedata=pd)\n",
    "ssm = flopy.mf6.ModflowGwtssm(gwt)\n",
    "cnc = flopy.mf6.ModflowGwtcnc(gwt, stress_period_data=[(0, 2027, 100.)])\n",
    "\n",
    "oc = flopy.mf6.ModflowGwtoc(\n",
    "    gwt,\n",
    "    concentration_filerecord=f\"{name}.ucn\",\n",
    "    saverecord=[(\"CONCENTRATION\", \"ALL\"),],\n",
    "    printrecord=[(\"BUDGET\", \"ALL\")],\n",
    ")\n",
    "# write the model datasets\n",
    "sim_gwt.write_simulation()"
   ]
  },
  {
   "cell_type": "markdown",
   "id": "cc7c4f0c-1dc6-4a1b-b933-caa6ba5c360f",
   "metadata": {},
   "source": [
    "### Run the Solute Transport Model"
   ]
  },
  {
   "cell_type": "code",
   "execution_count": 15,
   "id": "0a98e64c-cbbb-4f74-9dc6-5f72b23bf13b",
   "metadata": {
    "execution": {
     "iopub.execute_input": "2024-07-30T21:10:16.179700Z",
     "iopub.status.busy": "2024-07-30T21:10:16.179292Z",
     "iopub.status.idle": "2024-07-30T21:10:16.189955Z",
     "shell.execute_reply": "2024-07-30T21:10:16.189486Z"
    }
   },
   "outputs": [
    {
     "ename": "NameError",
     "evalue": "name 'sim_gwt' is not defined",
     "output_type": "error",
     "traceback": [
      "\u001b[0;31m---------------------------------------------------------------------------\u001b[0m",
      "\u001b[0;31mNameError\u001b[0m                                 Traceback (most recent call last)",
      "Cell \u001b[0;32mIn[15], line 1\u001b[0m\n\u001b[0;32m----> 1\u001b[0m \u001b[43msim_gwt\u001b[49m\u001b[38;5;241m.\u001b[39mrun_simulation()\n",
      "\u001b[0;31mNameError\u001b[0m: name 'sim_gwt' is not defined"
     ]
    }
   ],
   "source": [
    "sim_gwt.run_simulation()"
   ]
  },
  {
   "cell_type": "markdown",
   "id": "dab370b7-c023-402a-bf3d-792cc82ad4de",
   "metadata": {},
   "source": [
    "### Post-process the results"
   ]
  },
  {
   "cell_type": "markdown",
   "id": "50b64389-c690-4c21-bf74-2d4a5479de23",
   "metadata": {},
   "source": [
    "Use `gwt.output.` method to get the concentrations. Make an animation the concentrations using `flopy.plot` methods."
   ]
  },
  {
   "cell_type": "code",
   "execution_count": 16,
   "id": "e0cd47c4-f591-4acd-aeed-7ac399e7447c",
   "metadata": {
    "execution": {
     "iopub.execute_input": "2024-07-30T21:10:16.191801Z",
     "iopub.status.busy": "2024-07-30T21:10:16.191639Z",
     "iopub.status.idle": "2024-07-30T21:10:16.203316Z",
     "shell.execute_reply": "2024-07-30T21:10:16.202806Z"
    }
   },
   "outputs": [
    {
     "ename": "NameError",
     "evalue": "name 'gwf' is not defined",
     "output_type": "error",
     "traceback": [
      "\u001b[0;31m---------------------------------------------------------------------------\u001b[0m",
      "\u001b[0;31mNameError\u001b[0m                                 Traceback (most recent call last)",
      "Cell \u001b[0;32mIn[16], line 1\u001b[0m\n\u001b[0;32m----> 1\u001b[0m head \u001b[38;5;241m=\u001b[39m \u001b[43mgwf\u001b[49m\u001b[38;5;241m.\u001b[39moutput\u001b[38;5;241m.\u001b[39mhead()\u001b[38;5;241m.\u001b[39mget_data()\n\u001b[1;32m      2\u001b[0m spdis \u001b[38;5;241m=\u001b[39m gwf\u001b[38;5;241m.\u001b[39moutput\u001b[38;5;241m.\u001b[39mbudget()\u001b[38;5;241m.\u001b[39mget_data(text\u001b[38;5;241m=\u001b[39m\u001b[38;5;124m\"\u001b[39m\u001b[38;5;124mDATA-SPDIS\u001b[39m\u001b[38;5;124m\"\u001b[39m)[\u001b[38;5;241m0\u001b[39m]\n\u001b[1;32m      3\u001b[0m qx, qy, qz \u001b[38;5;241m=\u001b[39m flopy\u001b[38;5;241m.\u001b[39mutils\u001b[38;5;241m.\u001b[39mpostprocessing\u001b[38;5;241m.\u001b[39mget_specific_discharge(\n\u001b[1;32m      4\u001b[0m     spdis, gwf, head\u001b[38;5;241m=\u001b[39mgwf\u001b[38;5;241m.\u001b[39moutput\u001b[38;5;241m.\u001b[39mhead()\u001b[38;5;241m.\u001b[39mget_data(),\n\u001b[1;32m      5\u001b[0m )\n",
      "\u001b[0;31mNameError\u001b[0m: name 'gwf' is not defined"
     ]
    }
   ],
   "source": [
    "head = gwf.output.head().get_data()\n",
    "spdis = gwf.output.budget().get_data(text=\"DATA-SPDIS\")[0]\n",
    "qx, qy, qz = flopy.utils.postprocessing.get_specific_discharge(\n",
    "    spdis, gwf, head=gwf.output.head().get_data(),\n",
    ")"
   ]
  },
  {
   "cell_type": "code",
   "execution_count": 17,
   "id": "5d872228-ac57-4cba-8873-fb6430dac670",
   "metadata": {
    "execution": {
     "iopub.execute_input": "2024-07-30T21:10:16.205359Z",
     "iopub.status.busy": "2024-07-30T21:10:16.205071Z",
     "iopub.status.idle": "2024-07-30T21:10:16.215789Z",
     "shell.execute_reply": "2024-07-30T21:10:16.215334Z"
    }
   },
   "outputs": [
    {
     "ename": "NameError",
     "evalue": "name 'gwt' is not defined",
     "output_type": "error",
     "traceback": [
      "\u001b[0;31m---------------------------------------------------------------------------\u001b[0m",
      "\u001b[0;31mNameError\u001b[0m                                 Traceback (most recent call last)",
      "Cell \u001b[0;32mIn[17], line 1\u001b[0m\n\u001b[0;32m----> 1\u001b[0m times \u001b[38;5;241m=\u001b[39m \u001b[43mgwt\u001b[49m\u001b[38;5;241m.\u001b[39moutput\u001b[38;5;241m.\u001b[39mconcentration()\u001b[38;5;241m.\u001b[39mget_times()\n",
      "\u001b[0;31mNameError\u001b[0m: name 'gwt' is not defined"
     ]
    }
   ],
   "source": [
    "times = gwt.output.concentration().get_times()"
   ]
  },
  {
   "cell_type": "code",
   "execution_count": 18,
   "id": "36492a7c",
   "metadata": {
    "execution": {
     "iopub.execute_input": "2024-07-30T21:10:16.217568Z",
     "iopub.status.busy": "2024-07-30T21:10:16.217408Z",
     "iopub.status.idle": "2024-07-30T21:10:16.350339Z",
     "shell.execute_reply": "2024-07-30T21:10:16.349895Z"
    }
   },
   "outputs": [
    {
     "ename": "NameError",
     "evalue": "name 'times' is not defined",
     "output_type": "error",
     "traceback": [
      "\u001b[0;31m---------------------------------------------------------------------------\u001b[0m",
      "\u001b[0;31mNameError\u001b[0m                                 Traceback (most recent call last)",
      "Cell \u001b[0;32mIn[18], line 7\u001b[0m\n\u001b[1;32m      5\u001b[0m ax\u001b[38;5;241m.\u001b[39mset_xlabel(\u001b[38;5;124mr\u001b[39m\u001b[38;5;124m'\u001b[39m\u001b[38;5;124mx\u001b[39m\u001b[38;5;124m'\u001b[39m)\n\u001b[1;32m      6\u001b[0m ax\u001b[38;5;241m.\u001b[39mset_ylabel(\u001b[38;5;124mr\u001b[39m\u001b[38;5;124m'\u001b[39m\u001b[38;5;124my\u001b[39m\u001b[38;5;124m'\u001b[39m)\n\u001b[0;32m----> 7\u001b[0m title \u001b[38;5;241m=\u001b[39m ax\u001b[38;5;241m.\u001b[39mset_title(\u001b[38;5;124mf\u001b[39m\u001b[38;5;124m\"\u001b[39m\u001b[38;5;124mTime = \u001b[39m\u001b[38;5;132;01m{\u001b[39;00m\u001b[43mtimes\u001b[49m[\u001b[38;5;241m0\u001b[39m]\u001b[38;5;132;01m}\u001b[39;00m\u001b[38;5;124m days\u001b[39m\u001b[38;5;124m\"\u001b[39m)\n\u001b[1;32m      9\u001b[0m \u001b[38;5;66;03m# plot persistent items\u001b[39;00m\n\u001b[1;32m     10\u001b[0m vmin, vmax \u001b[38;5;241m=\u001b[39m \u001b[38;5;241m1e-3\u001b[39m, \u001b[38;5;241m100.\u001b[39m\n",
      "\u001b[0;31mNameError\u001b[0m: name 'times' is not defined"
     ]
    },
    {
     "data": {
      "image/png": "[encoded data removed]",
      "text/plain": [
       "<Figure size 400x600 with 1 Axes>"
      ]
     },
     "metadata": {},
     "output_type": "display_data"
    }
   ],
   "source": [
    "warnings.filterwarnings(\"ignore\")\n",
    "\n",
    "fig, ax = plt.subplots(figsize=(4, 6), constrained_layout=True)\n",
    "ax.set_aspect(1)\n",
    "ax.set_xlabel(r'x')\n",
    "ax.set_ylabel(r'y')\n",
    "title = ax.set_title(f\"Time = {times[0]} days\")\n",
    "\n",
    "# plot persistent items\n",
    "vmin, vmax = 1e-3, 100.\n",
    "norm = colors.LogNorm(vmin=vmin, vmax=vmax)\n",
    "\n",
    "pmv = flopy.plot.PlotMapView(gwt, ax=ax)\n",
    "pmv.plot_grid(lw=0.5, color=\"0.5\")\n",
    "pmv.contour_array(\n",
    "    head, \n",
    "    levels=np.linspace(0, 30, 30), \n",
    "    tri_mask=True,\n",
    "    linestyles=\"-\",\n",
    "    colors=\"blue\",\n",
    "    linewidths=0.5,\n",
    ")\n",
    "ca_dict = {\n",
    "    \"vmin\": vmin,\n",
    "    \"vmax\": vmax,\n",
    "    \"norm\": norm,\n",
    "    \"masked_values\": [0],\n",
    "}\n",
    "conc_alldata = gwt.output.concentration().get_alldata()\n",
    "c = conc_alldata[0]\n",
    "c[c < vmin] = 0.\n",
    "cont = pmv.plot_array(c, **ca_dict)\n",
    "clb = fig.colorbar(\n",
    "    cont, \n",
    "    shrink=0.5, \n",
    ")\n",
    "\n",
    "def animate(i):\n",
    "    c = conc_alldata[i].flatten()\n",
    "    c[c < vmin] = 0.\n",
    "    cont.set_array(c)\n",
    "    title = ax.set_title(f\"Time = {times[i]} days\")\n",
    "    return cont\n",
    "\n",
    "import matplotlib.animation\n",
    "ani = matplotlib.animation.FuncAnimation(fig, animate, frames=conc_alldata.shape[0])\n",
    "plt.close()\n",
    "\n",
    "from IPython.display import HTML\n",
    "HTML(ani.to_jshtml())\n",
    "\n",
    "# can use this command to write animation to file\n",
    "#ani.save(\"voronoi-conc-animation.avi\")"
   ]
  },
  {
   "cell_type": "code",
   "execution_count": 19,
   "id": "7694f069-60e1-4dd1-a150-ecd79872dae3",
   "metadata": {
    "execution": {
     "iopub.execute_input": "2024-07-30T21:10:16.352316Z",
     "iopub.status.busy": "2024-07-30T21:10:16.352155Z",
     "iopub.status.idle": "2024-07-30T21:10:16.366206Z",
     "shell.execute_reply": "2024-07-30T21:10:16.365799Z"
    }
   },
   "outputs": [
    {
     "ename": "NameError",
     "evalue": "name 'flopy' is not defined",
     "output_type": "error",
     "traceback": [
      "\u001b[0;31m---------------------------------------------------------------------------\u001b[0m",
      "\u001b[0;31mNameError\u001b[0m                                 Traceback (most recent call last)",
      "Cell \u001b[0;32mIn[19], line 2\u001b[0m\n\u001b[1;32m      1\u001b[0m line \u001b[38;5;241m=\u001b[39m [(\u001b[38;5;241m0\u001b[39m, \u001b[38;5;241m8100\u001b[39m), (\u001b[38;5;241m2000\u001b[39m, \u001b[38;5;241m8300\u001b[39m), (\u001b[38;5;241m5000\u001b[39m, \u001b[38;5;241m8100\u001b[39m)]\n\u001b[0;32m----> 2\u001b[0m xs \u001b[38;5;241m=\u001b[39m \u001b[43mflopy\u001b[49m\u001b[38;5;241m.\u001b[39mplot\u001b[38;5;241m.\u001b[39mPlotCrossSection(model\u001b[38;5;241m=\u001b[39mgwt, line\u001b[38;5;241m=\u001b[39m{\u001b[38;5;124m\"\u001b[39m\u001b[38;5;124mline\u001b[39m\u001b[38;5;124m\"\u001b[39m: line}) \n\u001b[1;32m      3\u001b[0m cb \u001b[38;5;241m=\u001b[39m xs\u001b[38;5;241m.\u001b[39mplot_array(conc_alldata[\u001b[38;5;241m-\u001b[39m\u001b[38;5;241m1\u001b[39m],\n\u001b[1;32m      4\u001b[0m                    head\u001b[38;5;241m=\u001b[39mgwf\u001b[38;5;241m.\u001b[39moutput\u001b[38;5;241m.\u001b[39mhead()\u001b[38;5;241m.\u001b[39mget_data(),\n\u001b[1;32m      5\u001b[0m                    norm\u001b[38;5;241m=\u001b[39mnorm,\n\u001b[1;32m      6\u001b[0m                    masked_values\u001b[38;5;241m=\u001b[39m[\u001b[38;5;241m0\u001b[39m], vmin\u001b[38;5;241m=\u001b[39mvmin, vmax\u001b[38;5;241m=\u001b[39mvmax)\n\u001b[1;32m      7\u001b[0m xs\u001b[38;5;241m.\u001b[39mplot_grid(lw\u001b[38;5;241m=\u001b[39m\u001b[38;5;241m0.5\u001b[39m, color\u001b[38;5;241m=\u001b[39m\u001b[38;5;124m\"\u001b[39m\u001b[38;5;124m0.5\u001b[39m\u001b[38;5;124m\"\u001b[39m)\n",
      "\u001b[0;31mNameError\u001b[0m: name 'flopy' is not defined"
     ]
    }
   ],
   "source": [
    "line = [(0, 8100), (2000, 8300), (5000, 8100)]\n",
    "xs = flopy.plot.PlotCrossSection(model=gwt, line={\"line\": line}) \n",
    "cb = xs.plot_array(conc_alldata[-1],\n",
    "                   head=gwf.output.head().get_data(),\n",
    "                   norm=norm,\n",
    "                   masked_values=[0], vmin=vmin, vmax=vmax)\n",
    "xs.plot_grid(lw=0.5, color=\"0.5\")\n",
    "plt.colorbar(cb, ax=xs.ax)\n"
   ]
  },
  {
   "cell_type": "code",
   "execution_count": null,
   "id": "eb2c863a",
   "metadata": {},
   "outputs": [],
   "source": []
  }
 ],
 "metadata": {
  "kernelspec": {
   "display_name": "Python 3 (ipykernel)",
   "language": "python",
   "name": "python3"
  },
  "language_info": {
   "codemirror_mode": {
    "name": "ipython",
    "version": 3
   },
   "file_extension": ".py",
   "mimetype": "text/x-python",
   "name": "python",
   "nbconvert_exporter": "python",
   "pygments_lexer": "ipython3",
   "version": "3.11.9"
  }
 },
 "nbformat": 4,
 "nbformat_minor": 5
}
