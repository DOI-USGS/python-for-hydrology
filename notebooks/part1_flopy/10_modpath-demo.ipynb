{
 "cells": [
  {
   "cell_type": "code",
   "execution_count": null,
   "metadata": {},
   "outputs": [],
   "source": [
    "import os\n",
    "import numpy as np\n",
    "import matplotlib.pyplot as plt\n",
    "import geopandas as gpd\n",
    "from flopy.utils.gridintersect import GridIntersect\n",
    "import flopy"
   ]
  },
  {
   "cell_type": "markdown",
   "metadata": {},
   "source": [
    "# Groundwater Modeling and Python Programming\n",
    "\n",
    "In this exercise, we will use MODPATH to simulate advective transport with the Freyberg flow model. For this exercise, we will use the flow model created in `07-stream_capture_voronoi`.\n",
    "\n",
    "The location of the contamination patch and the nodes that the define bounding cells of the patch are calculated below."
   ]
  },
  {
   "cell_type": "code",
   "execution_count": null,
   "metadata": {},
   "outputs": [],
   "source": [
    "# patch upper left and lower right\n",
    "xmin, xmax = 250. * 1, 250. * 3\n",
    "ymin, ymax = (40 - 14) * 250., (40 - 11) * 250. \n",
    "# todo: update this to use gridintersect\n",
    "csx, csy = [xmin, xmin, xmax, xmax, xmin], [ymin, ymax, ymax, ymin, ymin]\n",
    "polygon = [list(zip(csx, csy))]\n",
    "(xmin, ymax), (xmax, ymin)"
   ]
  },
  {
   "cell_type": "code",
   "execution_count": null,
   "metadata": {},
   "outputs": [],
   "source": [
    "# patch edge node coordinates\n",
    "xmin_node, xmax_node = xmin + 125, xmax - 125\n",
    "ymin_node, ymax_node = ymin + 125, ymax - 125\n",
    "(xmin_node, ymax_node), (xmax_node, ymin_node)"
   ]
  },
  {
   "cell_type": "markdown",
   "metadata": {},
   "source": [
    "--------------------------\n",
    "\n",
    "### Define the workspace and model names."
   ]
  },
  {
   "cell_type": "code",
   "execution_count": null,
   "metadata": {},
   "outputs": [],
   "source": [
    "load_ws = os.path.join('data', 'quadtree')\n",
    "ws = os.path.join(\"temp\", \"ex10a\")\n",
    "name = \"project\"\n",
    "name_mp = name + '_mp'\n",
    "exe_name = 'mf6'"
   ]
  },
  {
   "cell_type": "markdown",
   "metadata": {},
   "source": [
    "## Load the MODFLOW 6 Model\n",
    "\n",
    "Load a simulation object using `flopy.mf6.MFSimulation().load()`."
   ]
  },
  {
   "cell_type": "code",
   "execution_count": null,
   "metadata": {},
   "outputs": [],
   "source": [
    "sim = flopy.mf6.MFSimulation.load(sim_name=name, exe_name=exe_name,\n",
    "                                    sim_ws=load_ws)"
   ]
  },
  {
   "cell_type": "markdown",
   "metadata": {},
   "source": [
    "### Load the groundwater flow model"
   ]
  },
  {
   "cell_type": "code",
   "execution_count": null,
   "metadata": {},
   "outputs": [],
   "source": [
    "gwf = sim.get_model(name)\n",
    "gwf.modelgrid"
   ]
  },
  {
   "cell_type": "markdown",
   "metadata": {},
   "source": [
    "### Change the workspace"
   ]
  },
  {
   "cell_type": "code",
   "execution_count": null,
   "metadata": {},
   "outputs": [],
   "source": [
    "sim.set_sim_path(ws)"
   ]
  },
  {
   "cell_type": "markdown",
   "metadata": {},
   "source": [
    "### Write the model files"
   ]
  },
  {
   "cell_type": "code",
   "execution_count": null,
   "metadata": {},
   "outputs": [],
   "source": [
    "sim.write_simulation()"
   ]
  },
  {
   "cell_type": "markdown",
   "metadata": {},
   "source": [
    "Run the simulation."
   ]
  },
  {
   "cell_type": "code",
   "execution_count": null,
   "metadata": {},
   "outputs": [],
   "source": [
    "sim.run_simulation()"
   ]
  },
  {
   "cell_type": "markdown",
   "metadata": {},
   "source": [
    "## Create and Run the MODPATH model\n",
    "\n",
    "\n",
    "### Lets plot the model grid and the location of the contamination patch."
   ]
  },
  {
   "cell_type": "code",
   "execution_count": null,
   "metadata": {},
   "outputs": [],
   "source": [
    "fig, ax = plt.subplots(figsize=(5, 9))\n",
    "mm = flopy.plot.PlotMapView(gwf, layer=0, ax=ax)\n",
    "\n",
    "mm.plot_bc('SFR', color=\"b\", plotAll=True)\n",
    "mm.plot_bc('WEL', plotAll=True)\n",
    "mm.plot_inactive(alpha=0.75)\n",
    "\n",
    "mm.plot_grid(lw=0.25, color='grey')\n",
    "\n",
    "ax.fill(csx, csy, color='#e534eb');"
   ]
  },
  {
   "cell_type": "markdown",
   "metadata": {},
   "source": [
    "Find the node numbers of the contamination patch using the groundwater model grid object and the `GridIntersect` utility. The `GridIntersect` utility has an `intersect` method that can be used to identified cellids from points, lines, and polygons."
   ]
  },
  {
   "cell_type": "code",
   "execution_count": null,
   "metadata": {},
   "outputs": [],
   "source": [
    "gx = GridIntersect(gwf.modelgrid)\n",
    "results = gx.intersect(polygon, 'Polygon')\n",
    "nodes = results.cellids\n",
    "nodes"
   ]
  },
  {
   "cell_type": "markdown",
   "metadata": {},
   "source": [
    "### Create the MODPATH particle data"
   ]
  },
  {
   "cell_type": "code",
   "execution_count": null,
   "metadata": {},
   "outputs": [],
   "source": [
    "# create\n",
    "sd = flopy.modpath.CellDataType()\n",
    "p = flopy.modpath.NodeParticleData(subdivisiondata=[sd],\n",
    "                                   nodes=list(nodes))\n",
    "# create forward particle group\n",
    "fpth = name_mp + '.sloc'\n",
    "pg = flopy.modpath.ParticleGroupNodeTemplate(particlegroupname='contaminant',\n",
    "                                             particledata=p,\n",
    "                                             filename=fpth)"
   ]
  },
  {
   "cell_type": "markdown",
   "metadata": {},
   "source": [
    "### Create the MODPATH 7 files"
   ]
  },
  {
   "cell_type": "code",
   "execution_count": null,
   "metadata": {},
   "outputs": [],
   "source": [
    "# create modpath files\n",
    "mp = flopy.modpath.Modpath7(modelname=name_mp, flowmodel=gwf,\n",
    "                            exe_name='mp7', model_ws=ws)\n",
    "mpbas = flopy.modpath.Modpath7Bas(mp, porosity=0.1)\n",
    "mpsim = flopy.modpath.Modpath7Sim(mp, simulationtype='pathline', \n",
    "                                  trackingdirection='forward',\n",
    "                                  weaksinkoption='pass_through',\n",
    "                                  weaksourceoption='pass_through',\n",
    "                                  referencetime=0.,\n",
    "                                  stoptimeoption='extend',\n",
    "                                  particlegroups=pg)"
   ]
  },
  {
   "cell_type": "markdown",
   "metadata": {},
   "source": [
    "### Write MODPATH 7 files and run the model"
   ]
  },
  {
   "cell_type": "code",
   "execution_count": null,
   "metadata": {},
   "outputs": [],
   "source": [
    "# write modpath datasets\n",
    "mp.write_input()\n",
    "\n",
    "# run modpath\n",
    "mp.run_model()"
   ]
  },
  {
   "cell_type": "markdown",
   "metadata": {},
   "source": [
    "## Post-Process the MODFLOW and MODPATH Results\n",
    "\n",
    "\n",
    "### Load MODFLOW and MODPATH results from the heads and pathline files\n",
    "\n",
    "Load the MODFLOW heads"
   ]
  },
  {
   "cell_type": "code",
   "execution_count": null,
   "metadata": {},
   "outputs": [],
   "source": [
    "hname = gwf.oc.head_filerecord.array[0][0]\n",
    "hname"
   ]
  },
  {
   "cell_type": "code",
   "execution_count": null,
   "metadata": {},
   "outputs": [],
   "source": [
    "fpth = os.path.join(ws, hname)\n",
    "hobj = flopy.utils.HeadFile(fpth)\n",
    "hds = hobj.get_data()"
   ]
  },
  {
   "cell_type": "markdown",
   "metadata": {},
   "source": [
    "Load the pathline file"
   ]
  },
  {
   "cell_type": "code",
   "execution_count": null,
   "metadata": {},
   "outputs": [],
   "source": [
    "ppth = os.path.join(ws, name_mp + '.mppth')\n",
    "p = flopy.utils.PathlineFile(ppth)\n",
    "p0 = p.get_alldata()"
   ]
  },
  {
   "cell_type": "code",
   "execution_count": null,
   "metadata": {},
   "outputs": [],
   "source": [
    "#p0"
   ]
  },
  {
   "cell_type": "markdown",
   "metadata": {},
   "source": [
    "### Plot the heads and pathlines"
   ]
  },
  {
   "cell_type": "code",
   "execution_count": null,
   "metadata": {},
   "outputs": [],
   "source": [
    "fig, ax = plt.subplots(figsize=(5, 9))\n",
    "mm = flopy.plot.PlotMapView(model=gwf, layer=0, ax=ax)\n",
    "mm.plot_array(hds, masked_values=[1e30])\n",
    "\n",
    "mm.plot_bc('SFR', color='b', plotAll=True)\n",
    "mm.plot_bc('WEL', plotAll=True)\n",
    "mm.plot_ibound()\n",
    "mm.plot_pathline(p0, layer='all', color='blue', lw=0.75)\n",
    "\n",
    "ax = plt.gca()\n",
    "ax.fill(csx, csy, color='#e534eb', zorder=100, alpha=.75);"
   ]
  },
  {
   "cell_type": "markdown",
   "metadata": {},
   "source": [
    "### Export the pathlines to a shapefile"
   ]
  },
  {
   "cell_type": "code",
   "execution_count": null,
   "metadata": {},
   "outputs": [],
   "source": [
    "spth = os.path.join(ws, 'pathline.shp')\n",
    "p.write_shapefile(p0, mg=gwf.modelgrid, one_per_particle=False, shpname=spth)"
   ]
  },
  {
   "cell_type": "markdown",
   "metadata": {},
   "source": [
    "### Load the shapefile into geopandas"
   ]
  },
  {
   "cell_type": "code",
   "execution_count": null,
   "metadata": {},
   "outputs": [],
   "source": [
    "rshp = gpd.read_file(spth)"
   ]
  },
  {
   "cell_type": "markdown",
   "metadata": {},
   "source": [
    "### Show the dataframe"
   ]
  },
  {
   "cell_type": "code",
   "execution_count": null,
   "metadata": {},
   "outputs": [],
   "source": [
    "rshp"
   ]
  },
  {
   "cell_type": "markdown",
   "metadata": {},
   "source": [
    "### Plot the geopandas dataframe on the modelgrid"
   ]
  },
  {
   "cell_type": "code",
   "execution_count": null,
   "metadata": {},
   "outputs": [],
   "source": [
    "fig, ax = plt.subplots(figsize=(6, 10))\n",
    "pmv = flopy.plot.PlotMapView(gwf, ax=ax)\n",
    "pmv.plot_grid(lw=0.5)\n",
    "pmv.plot_shapes(rshp.geometry.to_list(), edgecolor=\"grey\") #, edgecolor=\"b\")\n",
    "pmv.plot_ibound();"
   ]
  },
  {
   "cell_type": "code",
   "execution_count": null,
   "metadata": {},
   "outputs": [],
   "source": []
  }
 ],
 "metadata": {
  "kernelspec": {
   "display_name": "Python 3 (ipykernel)",
   "language": "python",
   "name": "python3"
  },
  "language_info": {
   "codemirror_mode": {
    "name": "ipython",
    "version": 3
   },
   "file_extension": ".py",
   "mimetype": "text/x-python",
   "name": "python",
   "nbconvert_exporter": "python",
   "pygments_lexer": "ipython3",
   "version": "3.9.13"
  }
 },
 "nbformat": 4,
 "nbformat_minor": 4
}
