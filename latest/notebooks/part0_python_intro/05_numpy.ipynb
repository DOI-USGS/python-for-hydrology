{
 "cells": [
  {
   "cell_type": "markdown",
   "metadata": {},
   "source": [
    "# 05: NumPy\n",
    "\n",
    "This notebook demonstrates how to import and use the Numpy module to work with arrays. The NumPy library includes (among other things) ways of storing and manipulating data that are more efficient than standard Python arrays. Using NumPy with numerical data is much faster than using Python lists or tuples.\n",
    "\n",
    "### References\n",
    "[Numpy documentation](https://docs.scipy.org/doc/)  \n",
    "The [Scipy lecture notes](http://scipy-lectures.org/intro/numpy/index.html) provide a pretty comprehensive demo of the core features of numpy.\n",
    "\n",
    "\n",
    "\n",
    "### Outline\n",
    "* Loading Numpy\n",
    "* Creating a Numpy Array\n",
    "* Array Operations\n",
    "* Accessing Array Elements\n",
    "* Reshaping and Stacking Arrays\n",
    "* Record Arrays\n"
   ]
  },
  {
   "cell_type": "code",
   "execution_count": 1,
   "metadata": {
    "execution": {
     "iopub.execute_input": "2024-02-08T14:37:03.301070Z",
     "iopub.status.busy": "2024-02-08T14:37:03.300909Z",
     "iopub.status.idle": "2024-02-08T14:37:03.622475Z",
     "shell.execute_reply": "2024-02-08T14:37:03.621904Z"
    }
   },
   "outputs": [
    {
     "name": "stdout",
     "output_type": "stream",
     "text": [
      "Data will be loaded from the following directory:  data/numpy\n"
     ]
    }
   ],
   "source": [
    "import os\n",
    "from pathlib import Path\n",
    "import matplotlib.pyplot as plt\n",
    "\n",
    "#this line sets up the directory paths that we will be using\n",
    "datapath = Path('data/numpy/')\n",
    "print('Data will be loaded from the following directory: ', datapath)"
   ]
  },
  {
   "cell_type": "markdown",
   "metadata": {},
   "source": [
    "## Importing Numpy\n",
    "The first step is to import the numpy module.  It's not a requirement, but almost a requirement to rename it as `np` as part of the import statement as follows.\n",
    "\n",
    "Note that at any time, you can enter the name of an object or method and the \"?\" to see help.  Also remember that shift-tab will bring help."
   ]
  },
  {
   "cell_type": "code",
   "execution_count": 2,
   "metadata": {
    "execution": {
     "iopub.execute_input": "2024-02-08T14:37:03.624503Z",
     "iopub.status.busy": "2024-02-08T14:37:03.624272Z",
     "iopub.status.idle": "2024-02-08T14:37:03.626664Z",
     "shell.execute_reply": "2024-02-08T14:37:03.626274Z"
    }
   },
   "outputs": [],
   "source": [
    "import numpy as np"
   ]
  },
  {
   "cell_type": "markdown",
   "metadata": {},
   "source": [
    "Many packages, including Numpy, have a `__version__` attribute.  It is a good idea to be aware of what package version you are using."
   ]
  },
  {
   "cell_type": "code",
   "execution_count": 3,
   "metadata": {
    "execution": {
     "iopub.execute_input": "2024-02-08T14:37:03.628604Z",
     "iopub.status.busy": "2024-02-08T14:37:03.628170Z",
     "iopub.status.idle": "2024-02-08T14:37:03.630974Z",
     "shell.execute_reply": "2024-02-08T14:37:03.630571Z"
    }
   },
   "outputs": [
    {
     "name": "stdout",
     "output_type": "stream",
     "text": [
      "I am running numpy version:  1.26.4\n"
     ]
    }
   ],
   "source": [
    "#To see the version of numpy that was loaded, enter the following command\n",
    "print('I am running numpy version: ', np.__version__)"
   ]
  },
  {
   "cell_type": "markdown",
   "metadata": {},
   "source": [
    "## Numpy Arrays\n",
    "***\n",
    "\n",
    "Numpy `array` objects (also called ndarray) are the cental data structure for `numpy`. Let's check out how to make arrays:\n",
    "1. Convert a list or tuple into an array\n",
    "2. Use a numpy function\n",
    "3. Read from a file"
   ]
  },
  {
   "cell_type": "markdown",
   "metadata": {},
   "source": [
    "### Creating a Numpy Array from a List\n",
    "The following is an example of converting a list into a numpy array using the numpy [array](http://wiki.scipy.org/Numpy_Example_List#array) function."
   ]
  },
  {
   "cell_type": "code",
   "execution_count": 4,
   "metadata": {
    "execution": {
     "iopub.execute_input": "2024-02-08T14:37:03.632803Z",
     "iopub.status.busy": "2024-02-08T14:37:03.632495Z",
     "iopub.status.idle": "2024-02-08T14:37:03.635640Z",
     "shell.execute_reply": "2024-02-08T14:37:03.635158Z"
    }
   },
   "outputs": [
    {
     "name": "stdout",
     "output_type": "stream",
     "text": [
      "The array is:  [1 3 5 7]\n",
      "The type of an array is:  <class 'numpy.ndarray'>\n"
     ]
    }
   ],
   "source": [
    "#create a new list\n",
    "lst = [1, 3, 5, 7]\n",
    "\n",
    "#convert the list into a new array\n",
    "a = np.array(lst)\n",
    "\n",
    "#print some information about the new array\n",
    "print('The array is: ', a)\n",
    "print('The type of an array is: ', type(a))"
   ]
  },
  {
   "cell_type": "markdown",
   "metadata": {},
   "source": [
    "Note that the following does not work.  Brackets are required so that the input is a list.\n",
    "\n",
    "```python\n",
    "a = np.array(1, 2, 3)\n",
    "```"
   ]
  },
  {
   "cell_type": "markdown",
   "metadata": {},
   "source": [
    "Every array contains additional information that is stored as an attribute as part of the array.  These attributes include the dimension (ndim) and the array shape (shape), for example."
   ]
  },
  {
   "cell_type": "code",
   "execution_count": 5,
   "metadata": {
    "execution": {
     "iopub.execute_input": "2024-02-08T14:37:03.637334Z",
     "iopub.status.busy": "2024-02-08T14:37:03.637188Z",
     "iopub.status.idle": "2024-02-08T14:37:03.639986Z",
     "shell.execute_reply": "2024-02-08T14:37:03.639574Z"
    }
   },
   "outputs": [
    {
     "name": "stdout",
     "output_type": "stream",
     "text": [
      "The number of dimensions for a:  1\n"
     ]
    }
   ],
   "source": [
    "print('The number of dimensions for a: ', a.ndim)"
   ]
  },
  {
   "cell_type": "code",
   "execution_count": 6,
   "metadata": {
    "execution": {
     "iopub.execute_input": "2024-02-08T14:37:03.641671Z",
     "iopub.status.busy": "2024-02-08T14:37:03.641517Z",
     "iopub.status.idle": "2024-02-08T14:37:03.643905Z",
     "shell.execute_reply": "2024-02-08T14:37:03.643465Z"
    }
   },
   "outputs": [
    {
     "name": "stdout",
     "output_type": "stream",
     "text": [
      "The shape of a:  (4,)\n"
     ]
    }
   ],
   "source": [
    "print('The shape of a: ', a.shape)"
   ]
  },
  {
   "cell_type": "code",
   "execution_count": 7,
   "metadata": {
    "execution": {
     "iopub.execute_input": "2024-02-08T14:37:03.645614Z",
     "iopub.status.busy": "2024-02-08T14:37:03.645308Z",
     "iopub.status.idle": "2024-02-08T14:37:03.647889Z",
     "shell.execute_reply": "2024-02-08T14:37:03.647439Z"
    }
   },
   "outputs": [
    {
     "name": "stdout",
     "output_type": "stream",
     "text": [
      "The type of a:  int64\n"
     ]
    }
   ],
   "source": [
    "print('The type of a: ', a.dtype)"
   ]
  },
  {
   "cell_type": "markdown",
   "metadata": {},
   "source": [
    "A two-dimensional array can be created by providing two lists within brackets to the numpy array function."
   ]
  },
  {
   "cell_type": "code",
   "execution_count": 8,
   "metadata": {
    "execution": {
     "iopub.execute_input": "2024-02-08T14:37:03.649556Z",
     "iopub.status.busy": "2024-02-08T14:37:03.649409Z",
     "iopub.status.idle": "2024-02-08T14:37:03.652987Z",
     "shell.execute_reply": "2024-02-08T14:37:03.652567Z"
    }
   },
   "outputs": [
    {
     "name": "stdout",
     "output_type": "stream",
     "text": [
      "The array is: \n",
      "[[ 1  3  5  7]\n",
      " [ 9 12 14 32]]\n",
      "The type of the array is:  <class 'numpy.ndarray'>\n",
      "The dimension of the array is:  2\n",
      "The shape of the array is:  (2, 4)\n"
     ]
    }
   ],
   "source": [
    "#create a new list\n",
    "lst1 = [1, 3, 5, 7]\n",
    "lst2 = [9, 12, 14, 32]\n",
    "\n",
    "#convert the list into a new array\n",
    "a = np.array([lst1, lst2])\n",
    "\n",
    "#print some information about the new array\n",
    "print('The array is: ')\n",
    "print(a)\n",
    "print('The type of the array is: ', type(a))\n",
    "print('The dimension of the array is: ', a.ndim)\n",
    "print('The shape of the array is: ', a.shape)"
   ]
  },
  {
   "cell_type": "markdown",
   "metadata": {},
   "source": [
    "We could also skip the step of creating two lists and just put them right into the `np.array` function as follows."
   ]
  },
  {
   "cell_type": "code",
   "execution_count": 9,
   "metadata": {
    "execution": {
     "iopub.execute_input": "2024-02-08T14:37:03.654744Z",
     "iopub.status.busy": "2024-02-08T14:37:03.654443Z",
     "iopub.status.idle": "2024-02-08T14:37:03.659343Z",
     "shell.execute_reply": "2024-02-08T14:37:03.658976Z"
    }
   },
   "outputs": [
    {
     "data": {
      "text/plain": [
       "array([[ 1,  3,  5,  7],\n",
       "       [ 9, 12, 14, 32]])"
      ]
     },
     "execution_count": 9,
     "metadata": {},
     "output_type": "execute_result"
    }
   ],
   "source": [
    "np.array([[1, 3, 5, 7],[9, 12, 14, 32]])"
   ]
  },
  {
   "cell_type": "markdown",
   "metadata": {},
   "source": [
    "## Array Generating Functions\n",
    "\n",
    "There are many different functions for creating numpy arrays.  They are described [here](http://docs.scipy.org/doc/numpy/reference/routines.array-creation.html).  \n",
    "\n",
    "Here are a few common array generating functions with links to their descriptions:\n",
    "\n",
    "* [empty](https://numpy.org/doc/stable/reference/generated/numpy.empty.html#numpy.empty)\n",
    "* [zeros](https://numpy.org/doc/stable/reference/generated/numpy.zeros.html#numpy.zeros)\n",
    "* [full](https://numpy.org/doc/stable/reference/generated/numpy.full.html#numpy.full)\n",
    "* [ones](https://numpy.org/doc/stable/reference/generated/numpy.ones.html#numpy.ones)\n",
    "* [arange](https://numpy.org/doc/stable/reference/generated/numpy.arange.html#numpy.arange)\n",
    "* [linspace](https://numpy.org/doc/stable/reference/generated/numpy.linspace.html#numpy.linspace)\n",
    "\n",
    "empty, zeros, and ones will all create a new array, and they all have the same syntax.  The only difference is the value that will be assigned to all of the array elements upon initialization.  The syntax for creating an empty array is:\n",
    "\n",
    "    a = np.empty( (shape), dtype )\n"
   ]
  },
  {
   "cell_type": "code",
   "execution_count": 10,
   "metadata": {
    "execution": {
     "iopub.execute_input": "2024-02-08T14:37:03.661188Z",
     "iopub.status.busy": "2024-02-08T14:37:03.660894Z",
     "iopub.status.idle": "2024-02-08T14:37:03.663349Z",
     "shell.execute_reply": "2024-02-08T14:37:03.662914Z"
    }
   },
   "outputs": [
    {
     "name": "stdout",
     "output_type": "stream",
     "text": [
      "[[1 3]\n",
      " [5 7]]\n"
     ]
    }
   ],
   "source": [
    "# Create an empty array\n",
    "print(np.empty((2,2), dtype=int))"
   ]
  },
  {
   "cell_type": "markdown",
   "metadata": {},
   "source": [
    "You are probably asking, what is this junk?  When you use `np.empty`, the only guarantee is that none of the values will be initialized.  You'll get whatever garbage was in that memory address.  You will only want to use `np.empty` if you know that you will be filling the array with meaningful values.\n",
    "\n",
    "The `dtype` is the type of array to create.  Some common examples are `int` (INTEGER), `float` (a floating point, or REAL for you FORTRAN people).  Numpy also has some of its own, like `np.int32`, `np.int64`, `np.float32`, `np.float64`, etc. if you want to specify resolution\n",
    "\n",
    "Here is an empty float array."
   ]
  },
  {
   "cell_type": "code",
   "execution_count": 11,
   "metadata": {
    "execution": {
     "iopub.execute_input": "2024-02-08T14:37:03.665169Z",
     "iopub.status.busy": "2024-02-08T14:37:03.664847Z",
     "iopub.status.idle": "2024-02-08T14:37:03.667817Z",
     "shell.execute_reply": "2024-02-08T14:37:03.667415Z"
    }
   },
   "outputs": [
    {
     "name": "stdout",
     "output_type": "stream",
     "text": [
      "[[4.66422028e-310 0.00000000e+000 0.00000000e+000]\n",
      " [0.00000000e+000 0.00000000e+000 0.00000000e+000]\n",
      " [0.00000000e+000 0.00000000e+000 0.00000000e+000]]\n"
     ]
    }
   ],
   "source": [
    "a = np.empty((3,3), dtype=float)\n",
    "print(a)"
   ]
  },
  {
   "cell_type": "markdown",
   "metadata": {},
   "source": [
    "As you might expect, `np.zeros` and `np.ones` make arrays with values initialized one zero and one, respectively."
   ]
  },
  {
   "cell_type": "code",
   "execution_count": 12,
   "metadata": {
    "execution": {
     "iopub.execute_input": "2024-02-08T14:37:03.669378Z",
     "iopub.status.busy": "2024-02-08T14:37:03.669242Z",
     "iopub.status.idle": "2024-02-08T14:37:03.672423Z",
     "shell.execute_reply": "2024-02-08T14:37:03.672018Z"
    }
   },
   "outputs": [
    {
     "name": "stdout",
     "output_type": "stream",
     "text": [
      "[[[1 1 1]\n",
      "  [1 1 1]\n",
      "  [1 1 1]]\n",
      "\n",
      " [[1 1 1]\n",
      "  [1 1 1]\n",
      "  [1 1 1]]\n",
      "\n",
      " [[1 1 1]\n",
      "  [1 1 1]\n",
      "  [1 1 1]]]\n",
      "[[[0. 0.]\n",
      "  [0. 0.]]\n",
      "\n",
      " [[0. 0.]\n",
      "  [0. 0.]]]\n"
     ]
    }
   ],
   "source": [
    "print(np.ones((3,3,3), int))\n",
    "print(np.zeros((2,2,2), float))"
   ]
  },
  {
   "cell_type": "markdown",
   "metadata": {},
   "source": [
    "## Input and Output\n",
    "\n",
    "Numpy has a great set of tools for saving arrays to files and reading arrays from files.  Details on these tools are [here](http://docs.scipy.org/doc/numpy/reference/routines.io.html).\n",
    "\n",
    "The following are the common ones:\n",
    "\n",
    "* [loadtxt](http://docs.scipy.org/doc/numpy/reference/generated/numpy.loadtxt.html#numpy.loadtxt)\n",
    "* [savetxt](http://docs.scipy.org/doc/numpy/reference/generated/numpy.savetxt.html#numpy.savetxt)\n",
    "\n",
    "We will now test these functions using data in the `data` directory.  In this folder, there is a file called `mt_st_helens_before.dat`.  This file is a simple text array with a grid of elevations for Mt. St Helens prior to the 1980 eruption.  We can read this array using the `loadtxt` function as follows."
   ]
  },
  {
   "cell_type": "code",
   "execution_count": 13,
   "metadata": {
    "execution": {
     "iopub.execute_input": "2024-02-08T14:37:03.674320Z",
     "iopub.status.busy": "2024-02-08T14:37:03.673844Z",
     "iopub.status.idle": "2024-02-08T14:37:03.898146Z",
     "shell.execute_reply": "2024-02-08T14:37:03.897683Z"
    }
   },
   "outputs": [
    {
     "ename": "FileNotFoundError",
     "evalue": "data/numpy/mt_st_helens_before.dat not found.",
     "output_type": "error",
     "traceback": [
      "\u001b[0;31m---------------------------------------------------------------------------\u001b[0m",
      "\u001b[0;31mFileNotFoundError\u001b[0m                         Traceback (most recent call last)",
      "Cell \u001b[0;32mIn[13], line 1\u001b[0m\n\u001b[0;32m----> 1\u001b[0m before \u001b[38;5;241m=\u001b[39m \u001b[43mnp\u001b[49m\u001b[38;5;241;43m.\u001b[39;49m\u001b[43mloadtxt\u001b[49m\u001b[43m(\u001b[49m\u001b[43mdatapath\u001b[49m\u001b[43m \u001b[49m\u001b[38;5;241;43m/\u001b[39;49m\u001b[43m \u001b[49m\u001b[38;5;124;43m'\u001b[39;49m\u001b[38;5;124;43mmt_st_helens_before.dat\u001b[39;49m\u001b[38;5;124;43m'\u001b[39;49m\u001b[43m,\u001b[49m\u001b[43m \u001b[49m\u001b[43mdtype\u001b[49m\u001b[38;5;241;43m=\u001b[39;49m\u001b[43mnp\u001b[49m\u001b[38;5;241;43m.\u001b[39;49m\u001b[43mfloat32\u001b[49m\u001b[43m)\u001b[49m\n\u001b[1;32m      2\u001b[0m \u001b[38;5;28mprint\u001b[39m(before\u001b[38;5;241m.\u001b[39mshape, before\u001b[38;5;241m.\u001b[39mdtype)\n",
      "File \u001b[0;32m~/micromamba/envs/pyclass-docs/lib/python3.11/site-packages/numpy/lib/npyio.py:1373\u001b[0m, in \u001b[0;36mloadtxt\u001b[0;34m(fname, dtype, comments, delimiter, converters, skiprows, usecols, unpack, ndmin, encoding, max_rows, quotechar, like)\u001b[0m\n\u001b[1;32m   1370\u001b[0m \u001b[38;5;28;01mif\u001b[39;00m \u001b[38;5;28misinstance\u001b[39m(delimiter, \u001b[38;5;28mbytes\u001b[39m):\n\u001b[1;32m   1371\u001b[0m     delimiter \u001b[38;5;241m=\u001b[39m delimiter\u001b[38;5;241m.\u001b[39mdecode(\u001b[38;5;124m'\u001b[39m\u001b[38;5;124mlatin1\u001b[39m\u001b[38;5;124m'\u001b[39m)\n\u001b[0;32m-> 1373\u001b[0m arr \u001b[38;5;241m=\u001b[39m \u001b[43m_read\u001b[49m\u001b[43m(\u001b[49m\u001b[43mfname\u001b[49m\u001b[43m,\u001b[49m\u001b[43m \u001b[49m\u001b[43mdtype\u001b[49m\u001b[38;5;241;43m=\u001b[39;49m\u001b[43mdtype\u001b[49m\u001b[43m,\u001b[49m\u001b[43m \u001b[49m\u001b[43mcomment\u001b[49m\u001b[38;5;241;43m=\u001b[39;49m\u001b[43mcomment\u001b[49m\u001b[43m,\u001b[49m\u001b[43m \u001b[49m\u001b[43mdelimiter\u001b[49m\u001b[38;5;241;43m=\u001b[39;49m\u001b[43mdelimiter\u001b[49m\u001b[43m,\u001b[49m\n\u001b[1;32m   1374\u001b[0m \u001b[43m            \u001b[49m\u001b[43mconverters\u001b[49m\u001b[38;5;241;43m=\u001b[39;49m\u001b[43mconverters\u001b[49m\u001b[43m,\u001b[49m\u001b[43m \u001b[49m\u001b[43mskiplines\u001b[49m\u001b[38;5;241;43m=\u001b[39;49m\u001b[43mskiprows\u001b[49m\u001b[43m,\u001b[49m\u001b[43m \u001b[49m\u001b[43musecols\u001b[49m\u001b[38;5;241;43m=\u001b[39;49m\u001b[43musecols\u001b[49m\u001b[43m,\u001b[49m\n\u001b[1;32m   1375\u001b[0m \u001b[43m            \u001b[49m\u001b[43munpack\u001b[49m\u001b[38;5;241;43m=\u001b[39;49m\u001b[43munpack\u001b[49m\u001b[43m,\u001b[49m\u001b[43m \u001b[49m\u001b[43mndmin\u001b[49m\u001b[38;5;241;43m=\u001b[39;49m\u001b[43mndmin\u001b[49m\u001b[43m,\u001b[49m\u001b[43m \u001b[49m\u001b[43mencoding\u001b[49m\u001b[38;5;241;43m=\u001b[39;49m\u001b[43mencoding\u001b[49m\u001b[43m,\u001b[49m\n\u001b[1;32m   1376\u001b[0m \u001b[43m            \u001b[49m\u001b[43mmax_rows\u001b[49m\u001b[38;5;241;43m=\u001b[39;49m\u001b[43mmax_rows\u001b[49m\u001b[43m,\u001b[49m\u001b[43m \u001b[49m\u001b[43mquote\u001b[49m\u001b[38;5;241;43m=\u001b[39;49m\u001b[43mquotechar\u001b[49m\u001b[43m)\u001b[49m\n\u001b[1;32m   1378\u001b[0m \u001b[38;5;28;01mreturn\u001b[39;00m arr\n",
      "File \u001b[0;32m~/micromamba/envs/pyclass-docs/lib/python3.11/site-packages/numpy/lib/npyio.py:992\u001b[0m, in \u001b[0;36m_read\u001b[0;34m(fname, delimiter, comment, quote, imaginary_unit, usecols, skiplines, max_rows, converters, ndmin, unpack, dtype, encoding)\u001b[0m\n\u001b[1;32m    990\u001b[0m     fname \u001b[38;5;241m=\u001b[39m os\u001b[38;5;241m.\u001b[39mfspath(fname)\n\u001b[1;32m    991\u001b[0m \u001b[38;5;28;01mif\u001b[39;00m \u001b[38;5;28misinstance\u001b[39m(fname, \u001b[38;5;28mstr\u001b[39m):\n\u001b[0;32m--> 992\u001b[0m     fh \u001b[38;5;241m=\u001b[39m \u001b[43mnp\u001b[49m\u001b[38;5;241;43m.\u001b[39;49m\u001b[43mlib\u001b[49m\u001b[38;5;241;43m.\u001b[39;49m\u001b[43m_datasource\u001b[49m\u001b[38;5;241;43m.\u001b[39;49m\u001b[43mopen\u001b[49m\u001b[43m(\u001b[49m\u001b[43mfname\u001b[49m\u001b[43m,\u001b[49m\u001b[43m \u001b[49m\u001b[38;5;124;43m'\u001b[39;49m\u001b[38;5;124;43mrt\u001b[39;49m\u001b[38;5;124;43m'\u001b[39;49m\u001b[43m,\u001b[49m\u001b[43m \u001b[49m\u001b[43mencoding\u001b[49m\u001b[38;5;241;43m=\u001b[39;49m\u001b[43mencoding\u001b[49m\u001b[43m)\u001b[49m\n\u001b[1;32m    993\u001b[0m     \u001b[38;5;28;01mif\u001b[39;00m encoding \u001b[38;5;129;01mis\u001b[39;00m \u001b[38;5;28;01mNone\u001b[39;00m:\n\u001b[1;32m    994\u001b[0m         encoding \u001b[38;5;241m=\u001b[39m \u001b[38;5;28mgetattr\u001b[39m(fh, \u001b[38;5;124m'\u001b[39m\u001b[38;5;124mencoding\u001b[39m\u001b[38;5;124m'\u001b[39m, \u001b[38;5;124m'\u001b[39m\u001b[38;5;124mlatin1\u001b[39m\u001b[38;5;124m'\u001b[39m)\n",
      "File \u001b[0;32m~/micromamba/envs/pyclass-docs/lib/python3.11/site-packages/numpy/lib/_datasource.py:193\u001b[0m, in \u001b[0;36mopen\u001b[0;34m(path, mode, destpath, encoding, newline)\u001b[0m\n\u001b[1;32m    156\u001b[0m \u001b[38;5;250m\u001b[39m\u001b[38;5;124;03m\"\"\"\u001b[39;00m\n\u001b[1;32m    157\u001b[0m \u001b[38;5;124;03mOpen `path` with `mode` and return the file object.\u001b[39;00m\n\u001b[1;32m    158\u001b[0m \n\u001b[0;32m   (...)\u001b[0m\n\u001b[1;32m    189\u001b[0m \n\u001b[1;32m    190\u001b[0m \u001b[38;5;124;03m\"\"\"\u001b[39;00m\n\u001b[1;32m    192\u001b[0m ds \u001b[38;5;241m=\u001b[39m DataSource(destpath)\n\u001b[0;32m--> 193\u001b[0m \u001b[38;5;28;01mreturn\u001b[39;00m \u001b[43mds\u001b[49m\u001b[38;5;241;43m.\u001b[39;49m\u001b[43mopen\u001b[49m\u001b[43m(\u001b[49m\u001b[43mpath\u001b[49m\u001b[43m,\u001b[49m\u001b[43m \u001b[49m\u001b[43mmode\u001b[49m\u001b[43m,\u001b[49m\u001b[43m \u001b[49m\u001b[43mencoding\u001b[49m\u001b[38;5;241;43m=\u001b[39;49m\u001b[43mencoding\u001b[49m\u001b[43m,\u001b[49m\u001b[43m \u001b[49m\u001b[43mnewline\u001b[49m\u001b[38;5;241;43m=\u001b[39;49m\u001b[43mnewline\u001b[49m\u001b[43m)\u001b[49m\n",
      "File \u001b[0;32m~/micromamba/envs/pyclass-docs/lib/python3.11/site-packages/numpy/lib/_datasource.py:533\u001b[0m, in \u001b[0;36mDataSource.open\u001b[0;34m(self, path, mode, encoding, newline)\u001b[0m\n\u001b[1;32m    530\u001b[0m     \u001b[38;5;28;01mreturn\u001b[39;00m _file_openers[ext](found, mode\u001b[38;5;241m=\u001b[39mmode,\n\u001b[1;32m    531\u001b[0m                               encoding\u001b[38;5;241m=\u001b[39mencoding, newline\u001b[38;5;241m=\u001b[39mnewline)\n\u001b[1;32m    532\u001b[0m \u001b[38;5;28;01melse\u001b[39;00m:\n\u001b[0;32m--> 533\u001b[0m     \u001b[38;5;28;01mraise\u001b[39;00m \u001b[38;5;167;01mFileNotFoundError\u001b[39;00m(\u001b[38;5;124mf\u001b[39m\u001b[38;5;124m\"\u001b[39m\u001b[38;5;132;01m{\u001b[39;00mpath\u001b[38;5;132;01m}\u001b[39;00m\u001b[38;5;124m not found.\u001b[39m\u001b[38;5;124m\"\u001b[39m)\n",
      "\u001b[0;31mFileNotFoundError\u001b[0m: data/numpy/mt_st_helens_before.dat not found."
     ]
    }
   ],
   "source": [
    "before = np.loadtxt(datapath / 'mt_st_helens_before.dat', dtype=np.float32)\n",
    "print(before.shape, before.dtype)"
   ]
  },
  {
   "cell_type": "markdown",
   "metadata": {},
   "source": [
    "We can very quickly plot a two-dimensional numpy array using the `imshow` function from `matplotlib`. Spoiler alert: we will talk about `matplotlib` a bunch later."
   ]
  },
  {
   "cell_type": "code",
   "execution_count": 14,
   "metadata": {
    "execution": {
     "iopub.execute_input": "2024-02-08T14:37:03.900005Z",
     "iopub.status.busy": "2024-02-08T14:37:03.899846Z",
     "iopub.status.idle": "2024-02-08T14:37:03.910009Z",
     "shell.execute_reply": "2024-02-08T14:37:03.909599Z"
    }
   },
   "outputs": [
    {
     "ename": "NameError",
     "evalue": "name 'before' is not defined",
     "output_type": "error",
     "traceback": [
      "\u001b[0;31m---------------------------------------------------------------------------\u001b[0m",
      "\u001b[0;31mNameError\u001b[0m                                 Traceback (most recent call last)",
      "Cell \u001b[0;32mIn[14], line 1\u001b[0m\n\u001b[0;32m----> 1\u001b[0m plt\u001b[38;5;241m.\u001b[39mimshow(\u001b[43mbefore\u001b[49m)\n\u001b[1;32m      2\u001b[0m plt\u001b[38;5;241m.\u001b[39mcolorbar()\n",
      "\u001b[0;31mNameError\u001b[0m: name 'before' is not defined"
     ]
    }
   ],
   "source": [
    "plt.imshow(before)\n",
    "plt.colorbar()"
   ]
  },
  {
   "cell_type": "markdown",
   "metadata": {},
   "source": [
    "## TEST YOUR SKILLS #0\n",
    "\n",
    "1. Write the Mt. St. Helens array (before) to a new file called `mynewarray.dat` in the same folder as `mt_st_helens_before.dat`. Explore different formats (see the note under [documentation](https://numpy.org/doc/stable/reference/generated/numpy.savetxt.html) for more) and see if you can read it back in again. What are the file size ramifications of format choices?\n",
    "2. Take a look at `bottom_commented.dat` in a text editor.  What about this file?  Can you read this file using `loadtxt` without having to manually change the file?  Hint: look at the `loadtxt` arguments."
   ]
  },
  {
   "cell_type": "code",
   "execution_count": 15,
   "metadata": {
    "execution": {
     "iopub.execute_input": "2024-02-08T14:37:03.911633Z",
     "iopub.status.busy": "2024-02-08T14:37:03.911480Z",
     "iopub.status.idle": "2024-02-08T14:37:03.913485Z",
     "shell.execute_reply": "2024-02-08T14:37:03.913120Z"
    }
   },
   "outputs": [],
   "source": [
    "#Skill Test 0.0\n",
    "#use np.savetxt here to write before to mynewarray.dat in the same folder (datapath). \n",
    "# What other options are there? What are some advantages/disadvantages?\n"
   ]
  },
  {
   "cell_type": "code",
   "execution_count": 16,
   "metadata": {
    "execution": {
     "iopub.execute_input": "2024-02-08T14:37:03.915071Z",
     "iopub.status.busy": "2024-02-08T14:37:03.914922Z",
     "iopub.status.idle": "2024-02-08T14:37:03.917078Z",
     "shell.execute_reply": "2024-02-08T14:37:03.916720Z"
    }
   },
   "outputs": [],
   "source": [
    "#Skill Test 0.1\n",
    "\n",
    "filename = datapath / 'bottom_commented.dat'\n",
    "\n",
    "# fill this in\n",
    "#bot2 = \n",
    "#print bot2.shape, bot2.dtype"
   ]
  },
  {
   "cell_type": "markdown",
   "metadata": {},
   "source": [
    "## Array Operations\n",
    "***\n",
    "It is very easy to perform arithmetic operations on arrays. So we can easily add and subtract arrays and use them in `numpy` functions. \n",
    ">pro tip: These operations, generally, are _element-wise_ -- so, don't expect matrix maths to be the result. That comes later..."
   ]
  },
  {
   "cell_type": "code",
   "execution_count": 17,
   "metadata": {
    "execution": {
     "iopub.execute_input": "2024-02-08T14:37:03.918692Z",
     "iopub.status.busy": "2024-02-08T14:37:03.918542Z",
     "iopub.status.idle": "2024-02-08T14:37:03.922320Z",
     "shell.execute_reply": "2024-02-08T14:37:03.921945Z"
    }
   },
   "outputs": [
    {
     "name": "stdout",
     "output_type": "stream",
     "text": [
      "[[2. 2. 2. ... 2. 2. 2.]\n",
      " [2. 2. 2. ... 2. 2. 2.]\n",
      " [2. 2. 2. ... 2. 2. 2.]\n",
      " ...\n",
      " [2. 2. 2. ... 2. 2. 2.]\n",
      " [2. 2. 2. ... 2. 2. 2.]\n",
      " [2. 2. 2. ... 2. 2. 2.]]\n",
      "[[0.08846075 0.08846075 0.08846075 ... 0.08846075 0.08846075 0.08846075]\n",
      " [0.08846075 0.08846075 0.08846075 ... 0.08846075 0.08846075 0.08846075]\n",
      " [0.08846075 0.08846075 0.08846075 ... 0.08846075 0.08846075 0.08846075]\n",
      " ...\n",
      " [0.08846075 0.08846075 0.08846075 ... 0.08846075 0.08846075 0.08846075]\n",
      " [0.08846075 0.08846075 0.08846075 ... 0.08846075 0.08846075 0.08846075]\n",
      " [0.08846075 0.08846075 0.08846075 ... 0.08846075 0.08846075 0.08846075]]\n"
     ]
    }
   ],
   "source": [
    "#add\n",
    "a = np.ones((100, 100))\n",
    "a = a + 1\n",
    "print(a)\n",
    "\n",
    "#powers, division\n",
    "a = a ** 2.73 / 75\n",
    "print(a)"
   ]
  },
  {
   "cell_type": "markdown",
   "metadata": {},
   "source": [
    "### remember the behavior of lists?"
   ]
  },
  {
   "cell_type": "code",
   "execution_count": 18,
   "metadata": {
    "execution": {
     "iopub.execute_input": "2024-02-08T14:37:03.923985Z",
     "iopub.status.busy": "2024-02-08T14:37:03.923830Z",
     "iopub.status.idle": "2024-02-08T14:37:03.927270Z",
     "shell.execute_reply": "2024-02-08T14:37:03.926800Z"
    }
   },
   "outputs": [
    {
     "data": {
      "text/plain": [
       "[1, 2, 3, 4, 1, 2, 3, 4]"
      ]
     },
     "execution_count": 18,
     "metadata": {},
     "output_type": "execute_result"
    }
   ],
   "source": [
    "a = [1,2,3,4]\n",
    "a*2"
   ]
  },
  {
   "cell_type": "code",
   "execution_count": 19,
   "metadata": {
    "execution": {
     "iopub.execute_input": "2024-02-08T14:37:03.928826Z",
     "iopub.status.busy": "2024-02-08T14:37:03.928674Z",
     "iopub.status.idle": "2024-02-08T14:37:03.931942Z",
     "shell.execute_reply": "2024-02-08T14:37:03.931547Z"
    }
   },
   "outputs": [
    {
     "data": {
      "text/plain": [
       "array([2, 4, 6, 8])"
      ]
     },
     "execution_count": 19,
     "metadata": {},
     "output_type": "execute_result"
    }
   ],
   "source": [
    "a = np.array(a)\n",
    "a*2"
   ]
  },
  {
   "cell_type": "markdown",
   "metadata": {},
   "source": [
    "### Lists are general, but `numpy` is for the maths ..."
   ]
  },
  {
   "cell_type": "markdown",
   "metadata": {},
   "source": [
    "### There is so much you can do with numpy arrays and the available functions.  For a list of the mathematical functions look [here](http://docs.scipy.org/doc/numpy/reference/routines.math.html)."
   ]
  },
  {
   "cell_type": "code",
   "execution_count": 20,
   "metadata": {
    "execution": {
     "iopub.execute_input": "2024-02-08T14:37:03.933546Z",
     "iopub.status.busy": "2024-02-08T14:37:03.933396Z",
     "iopub.status.idle": "2024-02-08T14:37:03.936738Z",
     "shell.execute_reply": "2024-02-08T14:37:03.936279Z"
    }
   },
   "outputs": [
    {
     "name": "stdout",
     "output_type": "stream",
     "text": [
      "[0.         0.12822827 0.25645654 0.38468481 0.51291309 0.64114136\n",
      " 0.76936963 0.8975979  1.02582617 1.15405444 1.28228272 1.41051099\n",
      " 1.53873926 1.66696753 1.7951958  1.92342407 2.05165235 2.17988062\n",
      " 2.30810889 2.43633716 2.56456543 2.6927937  2.82102197 2.94925025\n",
      " 3.07747852 3.20570679 3.33393506 3.46216333 3.5903916  3.71861988\n",
      " 3.84684815 3.97507642 4.10330469 4.23153296 4.35976123 4.48798951\n",
      " 4.61621778 4.74444605 4.87267432 5.00090259 5.12913086 5.25735913\n",
      " 5.38558741 5.51381568 5.64204395 5.77027222 5.89850049 6.02672876\n",
      " 6.15495704 6.28318531] [ 0.00000000e+00  1.27877162e-01  2.53654584e-01  3.75267005e-01\n",
      "  4.90717552e-01  5.98110530e-01  6.95682551e-01  7.81831482e-01\n",
      "  8.55142763e-01  9.14412623e-01  9.58667853e-01  9.87181783e-01\n",
      "  9.99486216e-01  9.95379113e-01  9.74927912e-01  9.38468422e-01\n",
      "  8.86599306e-01  8.20172255e-01  7.40277997e-01  6.48228395e-01\n",
      "  5.45534901e-01  4.33883739e-01  3.15108218e-01  1.91158629e-01\n",
      "  6.40702200e-02 -6.40702200e-02 -1.91158629e-01 -3.15108218e-01\n",
      " -4.33883739e-01 -5.45534901e-01 -6.48228395e-01 -7.40277997e-01\n",
      " -8.20172255e-01 -8.86599306e-01 -9.38468422e-01 -9.74927912e-01\n",
      " -9.95379113e-01 -9.99486216e-01 -9.87181783e-01 -9.58667853e-01\n",
      " -9.14412623e-01 -8.55142763e-01 -7.81831482e-01 -6.95682551e-01\n",
      " -5.98110530e-01 -4.90717552e-01 -3.75267005e-01 -2.53654584e-01\n",
      " -1.27877162e-01 -2.44929360e-16]\n"
     ]
    }
   ],
   "source": [
    "#or how about a sin function\n",
    "x = np.linspace(0, 2*np.pi)\n",
    "y = np.sin(x)\n",
    "print(x, y)"
   ]
  },
  {
   "cell_type": "code",
   "execution_count": 21,
   "metadata": {
    "execution": {
     "iopub.execute_input": "2024-02-08T14:37:03.938506Z",
     "iopub.status.busy": "2024-02-08T14:37:03.938204Z",
     "iopub.status.idle": "2024-02-08T14:37:04.086503Z",
     "shell.execute_reply": "2024-02-08T14:37:04.086003Z"
    }
   },
   "outputs": [
    {
     "data": {
      "text/plain": [
       "[<matplotlib.lines.Line2D at 0x7ff933bd0e50>]"
      ]
     },
     "execution_count": 21,
     "metadata": {},
     "output_type": "execute_result"
    },
    {
     "data": {
      "image/png": "[encoded data removed]",
      "text/plain": [
       "<Figure size 640x480 with 1 Axes>"
      ]
     },
     "metadata": {},
     "output_type": "display_data"
    }
   ],
   "source": [
    "# An x, y plot can be quickly generated using plt.plot()\n",
    "plt.plot(x, y)"
   ]
  },
  {
   "cell_type": "markdown",
   "metadata": {},
   "source": [
    "## Accessing Array Elements\n",
    "\n",
    "Okay, now for the good stuff...\n",
    "\n",
    "Numpy arrays are zero based, which means the first position is referenced as 0.  If you are a FORTRAN person or a MATLAB person, THIS WILL CAUSE YOU GREAT GRIEF!  You will be burned by the fact that the first element in an array is not `a[1]`.  It is `a[0]`.  You will accept it, eventually, and then you will find zero-based arrays to be more intuitive, maybe.\n",
    "\n",
    "Let's do some array slicing to see how all of this works."
   ]
  },
  {
   "cell_type": "code",
   "execution_count": 22,
   "metadata": {
    "execution": {
     "iopub.execute_input": "2024-02-08T14:37:04.088496Z",
     "iopub.status.busy": "2024-02-08T14:37:04.088191Z",
     "iopub.status.idle": "2024-02-08T14:37:04.091194Z",
     "shell.execute_reply": "2024-02-08T14:37:04.090728Z"
    }
   },
   "outputs": [
    {
     "name": "stdout",
     "output_type": "stream",
     "text": [
      "[50.         51.11111111 52.22222222 53.33333333 54.44444444 55.55555556\n",
      " 56.66666667 57.77777778 58.88888889 60.        ]\n"
     ]
    }
   ],
   "source": [
    "#create an array with 10 equally spaced values\n",
    "a = np.linspace(50, 60, 10)\n",
    "print(a)"
   ]
  },
  {
   "cell_type": "code",
   "execution_count": 23,
   "metadata": {
    "execution": {
     "iopub.execute_input": "2024-02-08T14:37:04.092809Z",
     "iopub.status.busy": "2024-02-08T14:37:04.092645Z",
     "iopub.status.idle": "2024-02-08T14:37:04.095265Z",
     "shell.execute_reply": "2024-02-08T14:37:04.094823Z"
    }
   },
   "outputs": [
    {
     "name": "stdout",
     "output_type": "stream",
     "text": [
      "The first value is:  50.0\n",
      "The last value is:  60.0\n"
     ]
    }
   ],
   "source": [
    "#we can access the first value as\n",
    "print('The first value is: ', a[0])\n",
    "\n",
    "#the last value is\n",
    "print('The last value is: ', a[9])"
   ]
  },
  {
   "cell_type": "markdown",
   "metadata": {},
   "source": [
    "Okay, this is all good. Now there is another cool part of numpy arrays, and that is that we can use negative index numbers.  So instead of a[9], we could also say a[-1]."
   ]
  },
  {
   "cell_type": "code",
   "execution_count": 24,
   "metadata": {
    "execution": {
     "iopub.execute_input": "2024-02-08T14:37:04.096884Z",
     "iopub.status.busy": "2024-02-08T14:37:04.096731Z",
     "iopub.status.idle": "2024-02-08T14:37:04.099508Z",
     "shell.execute_reply": "2024-02-08T14:37:04.099103Z"
    }
   },
   "outputs": [
    {
     "name": "stdout",
     "output_type": "stream",
     "text": [
      "The last value is:  60.0\n",
      "The second to last value is:  58.888888888888886\n"
     ]
    }
   ],
   "source": [
    "print('The last value is: ', a[-1])\n",
    "\n",
    "#hmm.  Does that mean?  yup.\n",
    "print('The second to last value is: ', a[-2])"
   ]
  },
  {
   "cell_type": "markdown",
   "metadata": {},
   "source": [
    "### Accessing Parts of an Array\n",
    "\n",
    "So how do we access parts of an array?  The formal syntax for a one dimensional array is:\n",
    "\n",
    "    array[idxstart : idxstop : idxstride]\n",
    "    \n",
    "where idxstart is the zero-based array position to start; idxstop is the zero-based index to go up to, BUT NOT INCLUDE, and idxstride is the number of values to skip.  The following are valid array slides:\n",
    "\n",
    "    a[:]    #all elements\n",
    "    a[0:-1] #all elements\n",
    "    a[2:10] #elements in the third position up to elements in the 10th position\n",
    "    a[::2]  #start in position 0 and include every other element\n",
    "    a[::-1] #start at the end and reverse the order\n",
    "\n",
    "The following are some examples.\n"
   ]
  },
  {
   "cell_type": "code",
   "execution_count": 25,
   "metadata": {
    "execution": {
     "iopub.execute_input": "2024-02-08T14:37:04.101217Z",
     "iopub.status.busy": "2024-02-08T14:37:04.101064Z",
     "iopub.status.idle": "2024-02-08T14:37:04.104413Z",
     "shell.execute_reply": "2024-02-08T14:37:04.103998Z"
    }
   },
   "outputs": [
    {
     "name": "stdout",
     "output_type": "stream",
     "text": [
      "a= [ 0  1  2  3  4  5  6  7  8  9 10 11 12 13 14 15 16 17 18 19 20 21 22 23\n",
      " 24 25 26 27 28 29]\n",
      "a[:10]:  [0 1 2 3 4 5 6 7 8 9]\n",
      "a[90:] [20 21 22 23 24 25 26 27 28 29]\n"
     ]
    }
   ],
   "source": [
    "#make a fresh array with 30 values\n",
    "a = np.arange(30)\n",
    "print('a=', a)\n",
    "\n",
    "#print values from the beginning up to but not including the 10th value\n",
    "print('a[:10]: ', a[:10])\n",
    "\n",
    "#or print the values from postion 20 to the end\n",
    "print('a[90:]', a[20:])"
   ]
  },
  {
   "cell_type": "markdown",
   "metadata": {},
   "source": [
    "This is all good, but what if want to skip over values.  Then we can also enter a stride. "
   ]
  },
  {
   "cell_type": "code",
   "execution_count": 26,
   "metadata": {
    "execution": {
     "iopub.execute_input": "2024-02-08T14:37:04.106059Z",
     "iopub.status.busy": "2024-02-08T14:37:04.105880Z",
     "iopub.status.idle": "2024-02-08T14:37:04.108506Z",
     "shell.execute_reply": "2024-02-08T14:37:04.108048Z"
    }
   },
   "outputs": [
    {
     "name": "stdout",
     "output_type": "stream",
     "text": [
      "[ 0  2  4  6  8 10 12 14 16 18 20 22 24 26 28]\n"
     ]
    }
   ],
   "source": [
    "# Print every second value\n",
    "print(a[::2])"
   ]
  },
  {
   "cell_type": "code",
   "execution_count": 27,
   "metadata": {
    "execution": {
     "iopub.execute_input": "2024-02-08T14:37:04.110108Z",
     "iopub.status.busy": "2024-02-08T14:37:04.109955Z",
     "iopub.status.idle": "2024-02-08T14:37:04.112674Z",
     "shell.execute_reply": "2024-02-08T14:37:04.112273Z"
    }
   },
   "outputs": [
    {
     "name": "stdout",
     "output_type": "stream",
     "text": [
      "[ 5 10 15 20 25]\n"
     ]
    }
   ],
   "source": [
    "# Print every 5th value from 5 to 25\n",
    "print(a[5::5])"
   ]
  },
  {
   "cell_type": "markdown",
   "metadata": {},
   "source": [
    "**Note** the slice notation `5::5` above is actually shorthand for the built-in slice object"
   ]
  },
  {
   "cell_type": "code",
   "execution_count": 28,
   "metadata": {
    "execution": {
     "iopub.execute_input": "2024-02-08T14:37:04.114404Z",
     "iopub.status.busy": "2024-02-08T14:37:04.114267Z",
     "iopub.status.idle": "2024-02-08T14:37:04.117324Z",
     "shell.execute_reply": "2024-02-08T14:37:04.116911Z"
    }
   },
   "outputs": [
    {
     "data": {
      "text/plain": [
       "array([], dtype=int64)"
      ]
     },
     "execution_count": 28,
     "metadata": {},
     "output_type": "execute_result"
    }
   ],
   "source": [
    "a[slice(50, None, 5)]"
   ]
  },
  {
   "cell_type": "markdown",
   "metadata": {},
   "source": [
    "And this all works for multi-dimensional arrays as well.  So we can access parts of a multi-dimensional array, just separate the slice commands with a `','`"
   ]
  },
  {
   "cell_type": "code",
   "execution_count": 29,
   "metadata": {
    "execution": {
     "iopub.execute_input": "2024-02-08T14:37:04.119019Z",
     "iopub.status.busy": "2024-02-08T14:37:04.118866Z",
     "iopub.status.idle": "2024-02-08T14:37:04.121675Z",
     "shell.execute_reply": "2024-02-08T14:37:04.121233Z"
    }
   },
   "outputs": [
    {
     "name": "stdout",
     "output_type": "stream",
     "text": [
      "[[1 1 1 1 1 1 1 1 1 1]\n",
      " [1 1 1 1 1 1 1 1 1 1]\n",
      " [1 1 1 1 1 1 1 1 1 1]\n",
      " [1 1 1 1 1 1 1 1 1 1]\n",
      " [1 1 1 1 1 1 1 1 1 1]\n",
      " [1 1 1 1 1 1 1 1 1 1]\n",
      " [1 1 1 1 1 1 1 1 1 1]\n",
      " [1 1 1 1 1 1 1 1 1 1]\n",
      " [1 1 1 1 1 1 1 1 1 1]\n",
      " [1 1 1 1 1 1 1 1 1 1]]\n"
     ]
    }
   ],
   "source": [
    "a = np.ones((10, 10), dtype=int)\n",
    "print(a)"
   ]
  },
  {
   "cell_type": "code",
   "execution_count": 30,
   "metadata": {
    "execution": {
     "iopub.execute_input": "2024-02-08T14:37:04.123275Z",
     "iopub.status.busy": "2024-02-08T14:37:04.123124Z",
     "iopub.status.idle": "2024-02-08T14:37:04.125855Z",
     "shell.execute_reply": "2024-02-08T14:37:04.125413Z"
    }
   },
   "outputs": [
    {
     "name": "stdout",
     "output_type": "stream",
     "text": [
      "[[2 2 2 2 2 1 1 1 1 1]\n",
      " [2 2 2 2 2 1 1 1 1 1]\n",
      " [2 2 2 2 2 1 1 1 1 1]\n",
      " [2 2 2 2 2 1 1 1 1 1]\n",
      " [2 2 2 2 2 1 1 1 1 1]\n",
      " [1 1 1 1 1 1 1 1 1 1]\n",
      " [1 1 1 1 1 1 1 1 1 1]\n",
      " [1 1 1 1 1 1 1 1 1 1]\n",
      " [1 1 1 1 1 1 1 1 1 1]\n",
      " [1 1 1 1 1 1 1 1 1 1]]\n"
     ]
    }
   ],
   "source": [
    "#now lets set the upper left quadrant of a to 2\n",
    "a[:5, :5] = 2\n",
    "print(a)"
   ]
  },
  {
   "cell_type": "markdown",
   "metadata": {},
   "source": [
    "### Accessing Array Elements Using an Index List or Array\n",
    "\n",
    "If we know the array indices that we want to access, we can specify them in a list and pass that list to the array through the brackets."
   ]
  },
  {
   "cell_type": "code",
   "execution_count": 31,
   "metadata": {
    "execution": {
     "iopub.execute_input": "2024-02-08T14:37:04.127533Z",
     "iopub.status.busy": "2024-02-08T14:37:04.127380Z",
     "iopub.status.idle": "2024-02-08T14:37:04.130707Z",
     "shell.execute_reply": "2024-02-08T14:37:04.130227Z"
    }
   },
   "outputs": [
    {
     "name": "stdout",
     "output_type": "stream",
     "text": [
      "[0.309303   0.17449447 0.35325547 0.07053146 0.98308811 0.31645147\n",
      " 0.03982437 0.0753751  0.280167   0.57810449]\n",
      "values in 2, 3, and 7 positions [0.35325547 0.07053146 0.0753751 ]\n"
     ]
    }
   ],
   "source": [
    "a = np.random.random(10)\n",
    "print(a)\n",
    "print('values in 2, 3, and 7 positions', a[[2, 3, 7]])"
   ]
  },
  {
   "cell_type": "code",
   "execution_count": 32,
   "metadata": {
    "execution": {
     "iopub.execute_input": "2024-02-08T14:37:04.132362Z",
     "iopub.status.busy": "2024-02-08T14:37:04.132094Z",
     "iopub.status.idle": "2024-02-08T14:37:04.135260Z",
     "shell.execute_reply": "2024-02-08T14:37:04.134811Z"
    }
   },
   "outputs": [
    {
     "name": "stdout",
     "output_type": "stream",
     "text": [
      "[[1 0 0 0 0 0 0 0 0 0]\n",
      " [0 1 0 0 0 0 0 0 0 0]\n",
      " [0 0 1 0 0 0 0 0 0 0]\n",
      " [0 0 0 1 0 0 0 0 0 0]\n",
      " [0 0 0 0 1 0 0 0 0 0]\n",
      " [0 0 0 0 0 1 0 0 0 0]\n",
      " [0 0 0 0 0 0 1 0 0 0]\n",
      " [0 0 0 0 0 0 0 1 0 0]\n",
      " [0 0 0 0 0 0 0 0 1 0]\n",
      " [0 0 0 0 0 0 0 0 0 1]]\n"
     ]
    }
   ],
   "source": [
    "#this also works for multi dimensions\n",
    "icoord = np.arange(10)\n",
    "jcoord = icoord\n",
    "a = np.zeros((10, 10), dtype='int')\n",
    "a[icoord, jcoord] = 1\n",
    "print(a)  #hey, its the identity matrix!\n",
    "\n",
    "#what do you think?  Do you think numpy has an identity function?"
   ]
  },
  {
   "cell_type": "markdown",
   "metadata": {},
   "source": [
    "### Boolean indexing\n",
    "conditional statements can also be used to slice arrays\n",
    "what if we want to identify nodata in the Mt. St. Helens array, which have a value of 0, and convert them to nodata?"
   ]
  },
  {
   "cell_type": "code",
   "execution_count": 33,
   "metadata": {
    "execution": {
     "iopub.execute_input": "2024-02-08T14:37:04.137095Z",
     "iopub.status.busy": "2024-02-08T14:37:04.136733Z",
     "iopub.status.idle": "2024-02-08T14:37:04.147439Z",
     "shell.execute_reply": "2024-02-08T14:37:04.146966Z"
    }
   },
   "outputs": [
    {
     "ename": "NameError",
     "evalue": "name 'before' is not defined",
     "output_type": "error",
     "traceback": [
      "\u001b[0;31m---------------------------------------------------------------------------\u001b[0m",
      "\u001b[0;31mNameError\u001b[0m                                 Traceback (most recent call last)",
      "Cell \u001b[0;32mIn[33], line 1\u001b[0m\n\u001b[0;32m----> 1\u001b[0m \u001b[43mbefore\u001b[49m\n",
      "\u001b[0;31mNameError\u001b[0m: name 'before' is not defined"
     ]
    }
   ],
   "source": [
    "before"
   ]
  },
  {
   "cell_type": "markdown",
   "metadata": {},
   "source": [
    "### comparing arrays"
   ]
  },
  {
   "cell_type": "markdown",
   "metadata": {},
   "source": [
    "[Value Comparisons](https://docs.python.org/3.9/reference/expressions.html?highlight=bitwise#value-comparisons) yield Boolean True/False results and include `==`,`<`,`<=`,`>=`,`!=` (the last being \"not equal\")"
   ]
  },
  {
   "cell_type": "code",
   "execution_count": 34,
   "metadata": {
    "execution": {
     "iopub.execute_input": "2024-02-08T14:37:04.149174Z",
     "iopub.status.busy": "2024-02-08T14:37:04.148903Z",
     "iopub.status.idle": "2024-02-08T14:37:04.158013Z",
     "shell.execute_reply": "2024-02-08T14:37:04.157607Z"
    }
   },
   "outputs": [
    {
     "ename": "NameError",
     "evalue": "name 'before' is not defined",
     "output_type": "error",
     "traceback": [
      "\u001b[0;31m---------------------------------------------------------------------------\u001b[0m",
      "\u001b[0;31mNameError\u001b[0m                                 Traceback (most recent call last)",
      "Cell \u001b[0;32mIn[34], line 1\u001b[0m\n\u001b[0;32m----> 1\u001b[0m \u001b[43mbefore\u001b[49m\u001b[38;5;241m==\u001b[39m\u001b[38;5;241m0\u001b[39m \n",
      "\u001b[0;31mNameError\u001b[0m: name 'before' is not defined"
     ]
    }
   ],
   "source": [
    "before==0 "
   ]
  },
  {
   "cell_type": "code",
   "execution_count": 35,
   "metadata": {
    "execution": {
     "iopub.execute_input": "2024-02-08T14:37:04.159765Z",
     "iopub.status.busy": "2024-02-08T14:37:04.159468Z",
     "iopub.status.idle": "2024-02-08T14:37:04.168595Z",
     "shell.execute_reply": "2024-02-08T14:37:04.168181Z"
    }
   },
   "outputs": [
    {
     "ename": "NameError",
     "evalue": "name 'before' is not defined",
     "output_type": "error",
     "traceback": [
      "\u001b[0;31m---------------------------------------------------------------------------\u001b[0m",
      "\u001b[0;31mNameError\u001b[0m                                 Traceback (most recent call last)",
      "Cell \u001b[0;32mIn[35], line 1\u001b[0m\n\u001b[0;32m----> 1\u001b[0m \u001b[43mbefore\u001b[49m \u001b[38;5;241m!=\u001b[39m \u001b[38;5;241m0\u001b[39m\n",
      "\u001b[0;31mNameError\u001b[0m: name 'before' is not defined"
     ]
    }
   ],
   "source": [
    "before != 0"
   ]
  },
  {
   "cell_type": "code",
   "execution_count": 36,
   "metadata": {
    "execution": {
     "iopub.execute_input": "2024-02-08T14:37:04.170219Z",
     "iopub.status.busy": "2024-02-08T14:37:04.170076Z",
     "iopub.status.idle": "2024-02-08T14:37:04.179484Z",
     "shell.execute_reply": "2024-02-08T14:37:04.179010Z"
    }
   },
   "outputs": [
    {
     "ename": "NameError",
     "evalue": "name 'before' is not defined",
     "output_type": "error",
     "traceback": [
      "\u001b[0;31m---------------------------------------------------------------------------\u001b[0m",
      "\u001b[0;31mNameError\u001b[0m                                 Traceback (most recent call last)",
      "Cell \u001b[0;32mIn[36], line 2\u001b[0m\n\u001b[1;32m      1\u001b[0m \u001b[38;5;66;03m# use a Boolean result to operate on an array\u001b[39;00m\n\u001b[0;32m----> 2\u001b[0m \u001b[43mbefore\u001b[49m[before \u001b[38;5;241m==\u001b[39m \u001b[38;5;241m0\u001b[39m] \u001b[38;5;241m=\u001b[39m np\u001b[38;5;241m.\u001b[39mnan\n",
      "\u001b[0;31mNameError\u001b[0m: name 'before' is not defined"
     ]
    }
   ],
   "source": [
    "# use a Boolean result to operate on an array\n",
    "before[before == 0] = np.nan"
   ]
  },
  {
   "cell_type": "code",
   "execution_count": 37,
   "metadata": {
    "execution": {
     "iopub.execute_input": "2024-02-08T14:37:04.181288Z",
     "iopub.status.busy": "2024-02-08T14:37:04.180929Z",
     "iopub.status.idle": "2024-02-08T14:37:04.189791Z",
     "shell.execute_reply": "2024-02-08T14:37:04.189328Z"
    }
   },
   "outputs": [
    {
     "ename": "NameError",
     "evalue": "name 'before' is not defined",
     "output_type": "error",
     "traceback": [
      "\u001b[0;31m---------------------------------------------------------------------------\u001b[0m",
      "\u001b[0;31mNameError\u001b[0m                                 Traceback (most recent call last)",
      "Cell \u001b[0;32mIn[37], line 1\u001b[0m\n\u001b[0;32m----> 1\u001b[0m \u001b[43mbefore\u001b[49m\n",
      "\u001b[0;31mNameError\u001b[0m: name 'before' is not defined"
     ]
    }
   ],
   "source": [
    "before"
   ]
  },
  {
   "cell_type": "markdown",
   "metadata": {},
   "source": [
    "or, what if we want to identify cells with elevations above 2000 meters?\n",
    "`before > 2000` returns `True` for each position in the array that meets this condition (yellow in plot below), `False` everywhere else (purple)"
   ]
  },
  {
   "cell_type": "code",
   "execution_count": 38,
   "metadata": {
    "execution": {
     "iopub.execute_input": "2024-02-08T14:37:04.191591Z",
     "iopub.status.busy": "2024-02-08T14:37:04.191256Z",
     "iopub.status.idle": "2024-02-08T14:37:04.201010Z",
     "shell.execute_reply": "2024-02-08T14:37:04.200550Z"
    }
   },
   "outputs": [
    {
     "ename": "NameError",
     "evalue": "name 'before' is not defined",
     "output_type": "error",
     "traceback": [
      "\u001b[0;31m---------------------------------------------------------------------------\u001b[0m",
      "\u001b[0;31mNameError\u001b[0m                                 Traceback (most recent call last)",
      "Cell \u001b[0;32mIn[38], line 1\u001b[0m\n\u001b[0;32m----> 1\u001b[0m plt\u001b[38;5;241m.\u001b[39mimshow(\u001b[43mbefore\u001b[49m \u001b[38;5;241m>\u001b[39m \u001b[38;5;241m2000\u001b[39m)\n",
      "\u001b[0;31mNameError\u001b[0m: name 'before' is not defined"
     ]
    }
   ],
   "source": [
    "plt.imshow(before > 2000)"
   ]
  },
  {
   "cell_type": "markdown",
   "metadata": {},
   "source": [
    "### this can be applied, element-by-element to entire arrays"
   ]
  },
  {
   "cell_type": "code",
   "execution_count": 39,
   "metadata": {
    "execution": {
     "iopub.execute_input": "2024-02-08T14:37:04.202885Z",
     "iopub.status.busy": "2024-02-08T14:37:04.202608Z",
     "iopub.status.idle": "2024-02-08T14:37:04.205292Z",
     "shell.execute_reply": "2024-02-08T14:37:04.204837Z"
    }
   },
   "outputs": [],
   "source": [
    "a = np.random.random((5,5))\n",
    "b = a.copy()\n",
    "c = b.copy() \n",
    "c[0,0] = 99 # tweak a single entry in c"
   ]
  },
  {
   "cell_type": "code",
   "execution_count": 40,
   "metadata": {
    "execution": {
     "iopub.execute_input": "2024-02-08T14:37:04.206980Z",
     "iopub.status.busy": "2024-02-08T14:37:04.206701Z",
     "iopub.status.idle": "2024-02-08T14:37:04.209903Z",
     "shell.execute_reply": "2024-02-08T14:37:04.209456Z"
    }
   },
   "outputs": [
    {
     "data": {
      "text/plain": [
       "array([[ True,  True,  True,  True,  True],\n",
       "       [ True,  True,  True,  True,  True],\n",
       "       [ True,  True,  True,  True,  True],\n",
       "       [ True,  True,  True,  True,  True],\n",
       "       [ True,  True,  True,  True,  True]])"
      ]
     },
     "execution_count": 40,
     "metadata": {},
     "output_type": "execute_result"
    }
   ],
   "source": [
    "a==b"
   ]
  },
  {
   "cell_type": "code",
   "execution_count": 41,
   "metadata": {
    "execution": {
     "iopub.execute_input": "2024-02-08T14:37:04.211577Z",
     "iopub.status.busy": "2024-02-08T14:37:04.211297Z",
     "iopub.status.idle": "2024-02-08T14:37:04.214397Z",
     "shell.execute_reply": "2024-02-08T14:37:04.213948Z"
    }
   },
   "outputs": [
    {
     "data": {
      "text/plain": [
       "array([[False,  True,  True,  True,  True],\n",
       "       [ True,  True,  True,  True,  True],\n",
       "       [ True,  True,  True,  True,  True],\n",
       "       [ True,  True,  True,  True,  True],\n",
       "       [ True,  True,  True,  True,  True]])"
      ]
     },
     "execution_count": 41,
     "metadata": {},
     "output_type": "execute_result"
    }
   ],
   "source": [
    "b==c"
   ]
  },
  {
   "cell_type": "code",
   "execution_count": 42,
   "metadata": {
    "execution": {
     "iopub.execute_input": "2024-02-08T14:37:04.216052Z",
     "iopub.status.busy": "2024-02-08T14:37:04.215769Z",
     "iopub.status.idle": "2024-02-08T14:37:04.219054Z",
     "shell.execute_reply": "2024-02-08T14:37:04.218597Z"
    }
   },
   "outputs": [
    {
     "data": {
      "text/plain": [
       "(True, False)"
      ]
     },
     "execution_count": 42,
     "metadata": {},
     "output_type": "execute_result"
    }
   ],
   "source": [
    "# are they the same shape and have all the xam\n",
    "np.array_equal(a, b), np.array_equal(b,c)"
   ]
  },
  {
   "cell_type": "markdown",
   "metadata": {},
   "source": [
    "### Logical operations: `any` and `all`"
   ]
  },
  {
   "cell_type": "code",
   "execution_count": 43,
   "metadata": {
    "execution": {
     "iopub.execute_input": "2024-02-08T14:37:04.220723Z",
     "iopub.status.busy": "2024-02-08T14:37:04.220451Z",
     "iopub.status.idle": "2024-02-08T14:37:04.223678Z",
     "shell.execute_reply": "2024-02-08T14:37:04.223238Z"
    }
   },
   "outputs": [
    {
     "data": {
      "text/plain": [
       "(True, False)"
      ]
     },
     "execution_count": 43,
     "metadata": {},
     "output_type": "execute_result"
    }
   ],
   "source": [
    "np.any(a==c), np.all(a==c)"
   ]
  },
  {
   "cell_type": "markdown",
   "metadata": {},
   "source": [
    "### [Bitwise operations](https://docs.python.org/3.9/reference/expressions.html?highlight=bitwise#binary-bitwise-operations) are required to compare Boolean (and other binary) arrays and include \"and\" `&` and \"or\" `|`. "
   ]
  },
  {
   "cell_type": "code",
   "execution_count": 44,
   "metadata": {
    "execution": {
     "iopub.execute_input": "2024-02-08T14:37:04.225360Z",
     "iopub.status.busy": "2024-02-08T14:37:04.225085Z",
     "iopub.status.idle": "2024-02-08T14:37:04.227645Z",
     "shell.execute_reply": "2024-02-08T14:37:04.227174Z"
    }
   },
   "outputs": [],
   "source": [
    "# compare two binary arrays\n",
    "a=np.random.random((5,5))\n",
    "little = a<.2\n",
    "big = a>.6"
   ]
  },
  {
   "cell_type": "code",
   "execution_count": 45,
   "metadata": {
    "execution": {
     "iopub.execute_input": "2024-02-08T14:37:04.229332Z",
     "iopub.status.busy": "2024-02-08T14:37:04.229031Z",
     "iopub.status.idle": "2024-02-08T14:37:04.232181Z",
     "shell.execute_reply": "2024-02-08T14:37:04.231693Z"
    }
   },
   "outputs": [
    {
     "data": {
      "text/plain": [
       "array([[ True, False,  True, False, False],\n",
       "       [False, False,  True,  True, False],\n",
       "       [False, False, False, False, False],\n",
       "       [ True, False, False, False,  True],\n",
       "       [False, False, False, False, False]])"
      ]
     },
     "execution_count": 45,
     "metadata": {},
     "output_type": "execute_result"
    }
   ],
   "source": [
    "little"
   ]
  },
  {
   "cell_type": "code",
   "execution_count": 46,
   "metadata": {
    "execution": {
     "iopub.execute_input": "2024-02-08T14:37:04.233845Z",
     "iopub.status.busy": "2024-02-08T14:37:04.233603Z",
     "iopub.status.idle": "2024-02-08T14:37:04.236738Z",
     "shell.execute_reply": "2024-02-08T14:37:04.236271Z"
    }
   },
   "outputs": [
    {
     "data": {
      "text/plain": [
       "array([[False,  True, False,  True, False],\n",
       "       [ True, False, False, False,  True],\n",
       "       [ True,  True,  True,  True,  True],\n",
       "       [False, False, False,  True, False],\n",
       "       [ True, False, False, False,  True]])"
      ]
     },
     "execution_count": 46,
     "metadata": {},
     "output_type": "execute_result"
    }
   ],
   "source": [
    "big"
   ]
  },
  {
   "cell_type": "code",
   "execution_count": 47,
   "metadata": {
    "execution": {
     "iopub.execute_input": "2024-02-08T14:37:04.238476Z",
     "iopub.status.busy": "2024-02-08T14:37:04.238203Z",
     "iopub.status.idle": "2024-02-08T14:37:04.241373Z",
     "shell.execute_reply": "2024-02-08T14:37:04.240974Z"
    }
   },
   "outputs": [
    {
     "data": {
      "text/plain": [
       "array([[False, False, False, False, False],\n",
       "       [False, False, False, False, False],\n",
       "       [False, False, False, False, False],\n",
       "       [False, False, False, False, False],\n",
       "       [False, False, False, False, False]])"
      ]
     },
     "execution_count": 47,
     "metadata": {},
     "output_type": "execute_result"
    }
   ],
   "source": [
    "little & big # can't be both, right?"
   ]
  },
  {
   "cell_type": "code",
   "execution_count": 48,
   "metadata": {
    "execution": {
     "iopub.execute_input": "2024-02-08T14:37:04.243129Z",
     "iopub.status.busy": "2024-02-08T14:37:04.242823Z",
     "iopub.status.idle": "2024-02-08T14:37:04.246013Z",
     "shell.execute_reply": "2024-02-08T14:37:04.245525Z"
    }
   },
   "outputs": [
    {
     "data": {
      "text/plain": [
       "array([[ True,  True,  True,  True, False],\n",
       "       [ True, False,  True,  True,  True],\n",
       "       [ True,  True,  True,  True,  True],\n",
       "       [ True, False, False,  True,  True],\n",
       "       [ True, False, False, False,  True]])"
      ]
     },
     "execution_count": 48,
     "metadata": {},
     "output_type": "execute_result"
    }
   ],
   "source": [
    "little | big"
   ]
  },
  {
   "cell_type": "code",
   "execution_count": 49,
   "metadata": {
    "execution": {
     "iopub.execute_input": "2024-02-08T14:37:04.247757Z",
     "iopub.status.busy": "2024-02-08T14:37:04.247427Z",
     "iopub.status.idle": "2024-02-08T14:37:04.250899Z",
     "shell.execute_reply": "2024-02-08T14:37:04.250419Z"
    }
   },
   "outputs": [
    {
     "data": {
      "text/plain": [
       "array([[0.        , 0.        , 0.        , 0.        , 0.44653994],\n",
       "       [0.        , 0.4978704 , 0.        , 0.        , 0.        ],\n",
       "       [0.        , 0.        , 0.        , 0.        , 0.        ],\n",
       "       [0.        , 0.43733772, 0.40523096, 0.        , 0.        ],\n",
       "       [0.        , 0.55383702, 0.22456797, 0.23563959, 0.        ]])"
      ]
     },
     "execution_count": 49,
     "metadata": {},
     "output_type": "execute_result"
    }
   ],
   "source": [
    "a[little | big] = 0\n",
    "a"
   ]
  },
  {
   "cell_type": "markdown",
   "metadata": {},
   "source": [
    ">pro tip: If you stack the comparison together with bitwise comparisons, you need to wrap those in (). This may seem abstract but will be important soon. Like really soon."
   ]
  },
  {
   "cell_type": "code",
   "execution_count": 50,
   "metadata": {
    "execution": {
     "iopub.execute_input": "2024-02-08T14:37:04.252691Z",
     "iopub.status.busy": "2024-02-08T14:37:04.252400Z",
     "iopub.status.idle": "2024-02-08T14:37:04.255901Z",
     "shell.execute_reply": "2024-02-08T14:37:04.255429Z"
    }
   },
   "outputs": [
    {
     "data": {
      "text/plain": [
       "array([[0.        , 0.        , 0.        , 0.        , 9.        ],\n",
       "       [0.        , 9.        , 0.        , 0.        , 0.        ],\n",
       "       [0.        , 0.        , 0.        , 0.        , 0.        ],\n",
       "       [0.        , 9.        , 9.        , 0.        , 0.        ],\n",
       "       [0.        , 0.55383702, 0.22456797, 0.23563959, 0.        ]])"
      ]
     },
     "execution_count": 50,
     "metadata": {},
     "output_type": "execute_result"
    }
   ],
   "source": [
    "a[(a>.3) & (a<.5)] = 9\n",
    "a"
   ]
  },
  {
   "cell_type": "markdown",
   "metadata": {},
   "source": [
    "### there are times when it's useful to have a list of indices meeting some condition. [`np.where`](https://numpy.org/doc/stable/reference/generated/numpy.where.html) will hook you up. (also check out [`nonzero`](https://numpy.org/doc/stable/reference/generated/numpy.nonzero.html) and [`argwhere`](https://numpy.org/doc/stable/reference/generated/numpy.argwhere.html) for some nuanced options)"
   ]
  },
  {
   "cell_type": "code",
   "execution_count": 51,
   "metadata": {
    "execution": {
     "iopub.execute_input": "2024-02-08T14:37:04.257625Z",
     "iopub.status.busy": "2024-02-08T14:37:04.257339Z",
     "iopub.status.idle": "2024-02-08T14:37:04.260838Z",
     "shell.execute_reply": "2024-02-08T14:37:04.260336Z"
    }
   },
   "outputs": [
    {
     "data": {
      "text/plain": [
       "array([[0.18783018, 0.20437777, 0.85616669],\n",
       "       [0.91894675, 0.16477701, 0.34446522],\n",
       "       [0.44701707, 0.281505  , 0.459717  ]])"
      ]
     },
     "execution_count": 51,
     "metadata": {},
     "output_type": "execute_result"
    }
   ],
   "source": [
    "a = np.random.random((3,3))\n",
    "a"
   ]
  },
  {
   "cell_type": "code",
   "execution_count": 52,
   "metadata": {
    "execution": {
     "iopub.execute_input": "2024-02-08T14:37:04.262523Z",
     "iopub.status.busy": "2024-02-08T14:37:04.262234Z",
     "iopub.status.idle": "2024-02-08T14:37:04.265579Z",
     "shell.execute_reply": "2024-02-08T14:37:04.265114Z"
    }
   },
   "outputs": [
    {
     "data": {
      "text/plain": [
       "(array([0, 0, 1, 1, 2, 2, 2]), array([0, 1, 1, 2, 0, 1, 2]))"
      ]
     },
     "execution_count": 52,
     "metadata": {},
     "output_type": "execute_result"
    }
   ],
   "source": [
    "idx = np.where(a<0.5)\n",
    "idx"
   ]
  },
  {
   "cell_type": "code",
   "execution_count": 53,
   "metadata": {
    "execution": {
     "iopub.execute_input": "2024-02-08T14:37:04.267255Z",
     "iopub.status.busy": "2024-02-08T14:37:04.266972Z",
     "iopub.status.idle": "2024-02-08T14:37:04.270088Z",
     "shell.execute_reply": "2024-02-08T14:37:04.269692Z"
    }
   },
   "outputs": [
    {
     "data": {
      "text/plain": [
       "array([[0.18783018, 0.20437777, 0.85616669],\n",
       "       [0.91894675, 0.16477701, 0.34446522],\n",
       "       [0.44701707, 0.281505  , 0.459717  ]])"
      ]
     },
     "execution_count": 53,
     "metadata": {},
     "output_type": "execute_result"
    }
   ],
   "source": [
    "a"
   ]
  },
  {
   "cell_type": "code",
   "execution_count": 54,
   "metadata": {
    "execution": {
     "iopub.execute_input": "2024-02-08T14:37:04.271880Z",
     "iopub.status.busy": "2024-02-08T14:37:04.271584Z",
     "iopub.status.idle": "2024-02-08T14:37:04.274832Z",
     "shell.execute_reply": "2024-02-08T14:37:04.274368Z"
    }
   },
   "outputs": [
    {
     "data": {
      "text/plain": [
       "array([0.18783018, 0.20437777, 0.16477701, 0.34446522, 0.44701707,\n",
       "       0.281505  , 0.459717  ])"
      ]
     },
     "execution_count": 54,
     "metadata": {},
     "output_type": "execute_result"
    }
   ],
   "source": [
    "a[idx]"
   ]
  },
  {
   "cell_type": "markdown",
   "metadata": {},
   "source": [
    "## TEST YOUR SKILLS #1\n",
    "Let's calculate the amount of material lost from Mt. St. Helens in the 1980 eruption. We have the before and after elevation arrays in the data folder noted in the next cell. We will need to load them up. \n",
    "- The before and after files are the same dimensions, but they have some zeros around the edges indicating \"nodata\" values. \n",
    "- Check to see - are the zeros in the same place in both arrays? (`np.where` and friends can help with that). \n",
    "- If there are no-data zeros in one array at a different location than the other array, what happens if you look at the difference?\n",
    "- assume each pixel is 25 x 25 feet and the elevation arrays are provided in meters to calculate a volumetric difference between before and after arrays."
   ]
  },
  {
   "cell_type": "code",
   "execution_count": 55,
   "metadata": {
    "execution": {
     "iopub.execute_input": "2024-02-08T14:37:04.276661Z",
     "iopub.status.busy": "2024-02-08T14:37:04.276370Z",
     "iopub.status.idle": "2024-02-08T14:37:04.278726Z",
     "shell.execute_reply": "2024-02-08T14:37:04.278274Z"
    }
   },
   "outputs": [],
   "source": [
    "before_file = datapath / 'mt_st_helens_before.dat'\n",
    "after_file = datapath / 'mt_st_helens_after.dat'"
   ]
  },
  {
   "cell_type": "code",
   "execution_count": null,
   "metadata": {},
   "outputs": [],
   "source": []
  },
  {
   "cell_type": "code",
   "execution_count": null,
   "metadata": {},
   "outputs": [],
   "source": []
  },
  {
   "cell_type": "code",
   "execution_count": null,
   "metadata": {},
   "outputs": [],
   "source": []
  },
  {
   "cell_type": "code",
   "execution_count": null,
   "metadata": {},
   "outputs": [],
   "source": []
  },
  {
   "cell_type": "code",
   "execution_count": null,
   "metadata": {},
   "outputs": [],
   "source": []
  },
  {
   "cell_type": "code",
   "execution_count": null,
   "metadata": {},
   "outputs": [],
   "source": []
  },
  {
   "cell_type": "code",
   "execution_count": null,
   "metadata": {},
   "outputs": [],
   "source": []
  },
  {
   "cell_type": "markdown",
   "metadata": {},
   "source": [
    "## Views vs. Copies\n",
    "***\n",
    "**Slice indexing returns a view** That means if you change the slice, you change the original 🤔 "
   ]
  },
  {
   "cell_type": "code",
   "execution_count": 56,
   "metadata": {
    "execution": {
     "iopub.execute_input": "2024-02-08T14:37:04.280474Z",
     "iopub.status.busy": "2024-02-08T14:37:04.280324Z",
     "iopub.status.idle": "2024-02-08T14:37:04.283533Z",
     "shell.execute_reply": "2024-02-08T14:37:04.283078Z"
    }
   },
   "outputs": [
    {
     "data": {
      "text/plain": [
       "array([[0.18783018, 0.20437777, 0.85616669],\n",
       "       [0.91894675, 0.16477701, 0.34446522],\n",
       "       [0.44701707, 0.281505  , 0.459717  ]])"
      ]
     },
     "execution_count": 56,
     "metadata": {},
     "output_type": "execute_result"
    }
   ],
   "source": [
    "a"
   ]
  },
  {
   "cell_type": "code",
   "execution_count": 57,
   "metadata": {
    "execution": {
     "iopub.execute_input": "2024-02-08T14:37:04.285262Z",
     "iopub.status.busy": "2024-02-08T14:37:04.284973Z",
     "iopub.status.idle": "2024-02-08T14:37:04.287220Z",
     "shell.execute_reply": "2024-02-08T14:37:04.286851Z"
    }
   },
   "outputs": [],
   "source": [
    "b = a[:2, :2]\n",
    "b[1,1] = 10"
   ]
  },
  {
   "cell_type": "code",
   "execution_count": 58,
   "metadata": {
    "execution": {
     "iopub.execute_input": "2024-02-08T14:37:04.288914Z",
     "iopub.status.busy": "2024-02-08T14:37:04.288632Z",
     "iopub.status.idle": "2024-02-08T14:37:04.291897Z",
     "shell.execute_reply": "2024-02-08T14:37:04.291432Z"
    }
   },
   "outputs": [
    {
     "data": {
      "text/plain": [
       "array([[ 0.18783018,  0.20437777],\n",
       "       [ 0.91894675, 10.        ]])"
      ]
     },
     "execution_count": 58,
     "metadata": {},
     "output_type": "execute_result"
    }
   ],
   "source": [
    "b"
   ]
  },
  {
   "cell_type": "code",
   "execution_count": 59,
   "metadata": {
    "execution": {
     "iopub.execute_input": "2024-02-08T14:37:04.293589Z",
     "iopub.status.busy": "2024-02-08T14:37:04.293306Z",
     "iopub.status.idle": "2024-02-08T14:37:04.296645Z",
     "shell.execute_reply": "2024-02-08T14:37:04.296183Z"
    }
   },
   "outputs": [
    {
     "data": {
      "text/plain": [
       "array([[ 0.18783018,  0.20437777,  0.85616669],\n",
       "       [ 0.91894675, 10.        ,  0.34446522],\n",
       "       [ 0.44701707,  0.281505  ,  0.459717  ]])"
      ]
     },
     "execution_count": 59,
     "metadata": {},
     "output_type": "execute_result"
    }
   ],
   "source": [
    "a"
   ]
  },
  {
   "cell_type": "markdown",
   "metadata": {},
   "source": [
    "### how can this happen??? `id()` returns the memory location a value is stored in within the computer"
   ]
  },
  {
   "cell_type": "markdown",
   "metadata": {},
   "source": [
    "## first check out where `a` and `b` are located"
   ]
  },
  {
   "cell_type": "code",
   "execution_count": 60,
   "metadata": {
    "execution": {
     "iopub.execute_input": "2024-02-08T14:37:04.298281Z",
     "iopub.status.busy": "2024-02-08T14:37:04.298147Z",
     "iopub.status.idle": "2024-02-08T14:37:04.301454Z",
     "shell.execute_reply": "2024-02-08T14:37:04.300980Z"
    }
   },
   "outputs": [
    {
     "data": {
      "text/plain": [
       "(140707570289424, 140707902037936)"
      ]
     },
     "execution_count": 60,
     "metadata": {},
     "output_type": "execute_result"
    }
   ],
   "source": [
    "id(a), id(b)"
   ]
  },
  {
   "cell_type": "markdown",
   "metadata": {},
   "source": [
    "### ok, but what about the actual data?"
   ]
  },
  {
   "cell_type": "code",
   "execution_count": 61,
   "metadata": {
    "execution": {
     "iopub.execute_input": "2024-02-08T14:37:04.303118Z",
     "iopub.status.busy": "2024-02-08T14:37:04.302973Z",
     "iopub.status.idle": "2024-02-08T14:37:04.306242Z",
     "shell.execute_reply": "2024-02-08T14:37:04.305835Z"
    }
   },
   "outputs": [
    {
     "data": {
      "text/plain": [
       "(140707569950704, 140707569950704)"
      ]
     },
     "execution_count": 61,
     "metadata": {},
     "output_type": "execute_result"
    }
   ],
   "source": [
    "id(a[1,1]), id(b[1,1])"
   ]
  },
  {
   "cell_type": "code",
   "execution_count": 62,
   "metadata": {
    "execution": {
     "iopub.execute_input": "2024-02-08T14:37:04.307779Z",
     "iopub.status.busy": "2024-02-08T14:37:04.307626Z",
     "iopub.status.idle": "2024-02-08T14:37:04.310843Z",
     "shell.execute_reply": "2024-02-08T14:37:04.310370Z"
    }
   },
   "outputs": [
    {
     "data": {
      "text/plain": [
       "(140707569950768, 140707569950768)"
      ]
     },
     "execution_count": 62,
     "metadata": {},
     "output_type": "execute_result"
    }
   ],
   "source": [
    "id(a[1,0]), id(b[1,0])"
   ]
  },
  {
   "cell_type": "markdown",
   "metadata": {},
   "source": [
    "**Array and Boolean indexing returns a copy**. Operations on the copy do not affect the original array."
   ]
  },
  {
   "cell_type": "code",
   "execution_count": 63,
   "metadata": {
    "execution": {
     "iopub.execute_input": "2024-02-08T14:37:04.312722Z",
     "iopub.status.busy": "2024-02-08T14:37:04.312422Z",
     "iopub.status.idle": "2024-02-08T14:37:04.315564Z",
     "shell.execute_reply": "2024-02-08T14:37:04.315171Z"
    }
   },
   "outputs": [
    {
     "data": {
      "text/plain": [
       "[0, 1]"
      ]
     },
     "execution_count": 63,
     "metadata": {},
     "output_type": "execute_result"
    }
   ],
   "source": [
    "list(range(2))"
   ]
  },
  {
   "cell_type": "code",
   "execution_count": 64,
   "metadata": {
    "execution": {
     "iopub.execute_input": "2024-02-08T14:37:04.317097Z",
     "iopub.status.busy": "2024-02-08T14:37:04.316961Z",
     "iopub.status.idle": "2024-02-08T14:37:04.320195Z",
     "shell.execute_reply": "2024-02-08T14:37:04.319717Z"
    }
   },
   "outputs": [
    {
     "data": {
      "text/plain": [
       "array([ 0.85616669,  0.91894675, 10.        ,  0.44701707,  0.459717  ])"
      ]
     },
     "execution_count": 64,
     "metadata": {},
     "output_type": "execute_result"
    }
   ],
   "source": [
    "c = a[a>.4]\n",
    "c"
   ]
  },
  {
   "cell_type": "code",
   "execution_count": 65,
   "metadata": {
    "execution": {
     "iopub.execute_input": "2024-02-08T14:37:04.321980Z",
     "iopub.status.busy": "2024-02-08T14:37:04.321663Z",
     "iopub.status.idle": "2024-02-08T14:37:04.324922Z",
     "shell.execute_reply": "2024-02-08T14:37:04.324437Z"
    }
   },
   "outputs": [
    {
     "data": {
      "text/plain": [
       "array([ 0.85616669, 20.        , 10.        ,  0.44701707,  0.459717  ])"
      ]
     },
     "execution_count": 65,
     "metadata": {},
     "output_type": "execute_result"
    }
   ],
   "source": [
    "c[1] = 20\n",
    "c"
   ]
  },
  {
   "cell_type": "code",
   "execution_count": 66,
   "metadata": {
    "execution": {
     "iopub.execute_input": "2024-02-08T14:37:04.326536Z",
     "iopub.status.busy": "2024-02-08T14:37:04.326368Z",
     "iopub.status.idle": "2024-02-08T14:37:04.329589Z",
     "shell.execute_reply": "2024-02-08T14:37:04.329191Z"
    }
   },
   "outputs": [
    {
     "data": {
      "text/plain": [
       "array([[ 0.18783018,  0.20437777,  0.85616669],\n",
       "       [ 0.91894675, 10.        ,  0.34446522],\n",
       "       [ 0.44701707,  0.281505  ,  0.459717  ]])"
      ]
     },
     "execution_count": 66,
     "metadata": {},
     "output_type": "execute_result"
    }
   ],
   "source": [
    "a"
   ]
  },
  {
   "cell_type": "markdown",
   "metadata": {},
   "source": [
    "### again, we can look at these memory addresses to confirm what's happening"
   ]
  },
  {
   "cell_type": "code",
   "execution_count": 67,
   "metadata": {
    "execution": {
     "iopub.execute_input": "2024-02-08T14:37:04.331443Z",
     "iopub.status.busy": "2024-02-08T14:37:04.331145Z",
     "iopub.status.idle": "2024-02-08T14:37:04.334240Z",
     "shell.execute_reply": "2024-02-08T14:37:04.333839Z"
    }
   },
   "outputs": [
    {
     "data": {
      "text/plain": [
       "(140707570289424, 140707902031408)"
      ]
     },
     "execution_count": 67,
     "metadata": {},
     "output_type": "execute_result"
    }
   ],
   "source": [
    "id(a), id(c)"
   ]
  },
  {
   "cell_type": "code",
   "execution_count": 68,
   "metadata": {
    "execution": {
     "iopub.execute_input": "2024-02-08T14:37:04.336006Z",
     "iopub.status.busy": "2024-02-08T14:37:04.335641Z",
     "iopub.status.idle": "2024-02-08T14:37:04.339049Z",
     "shell.execute_reply": "2024-02-08T14:37:04.338569Z"
    }
   },
   "outputs": [
    {
     "data": {
      "text/plain": [
       "(140707902034864, 140707569949712)"
      ]
     },
     "execution_count": 68,
     "metadata": {},
     "output_type": "execute_result"
    }
   ],
   "source": [
    "id(a[1]), id(c[1])"
   ]
  },
  {
   "cell_type": "markdown",
   "metadata": {},
   "source": [
    "## Reshaping and Stacking Arrays\n",
    "\n",
    "Reshaping of arrays is easy to do with the `np.reshape` function.  The function works by taking an array and desired shape, and then returning a new array with that shape.  Note, however, that the requested shape must be consistent with the array that is passed in.  The syntax is:\n",
    "\n",
    "    np.reshape(a, (newshape))\n",
    "\n",
    "Arrays also have a reshape method, which means you can use the following form:\n",
    "\n",
    "    a.reshape( (newshape) )\n",
    "    \n",
    "Example follows."
   ]
  },
  {
   "cell_type": "code",
   "execution_count": 69,
   "metadata": {
    "execution": {
     "iopub.execute_input": "2024-02-08T14:37:04.340895Z",
     "iopub.status.busy": "2024-02-08T14:37:04.340512Z",
     "iopub.status.idle": "2024-02-08T14:37:04.343744Z",
     "shell.execute_reply": "2024-02-08T14:37:04.343292Z"
    }
   },
   "outputs": [
    {
     "name": "stdout",
     "output_type": "stream",
     "text": [
      "a:  [0 1 2 3 4 5 6 7 8]\n",
      "b:  [[0 1 2]\n",
      " [3 4 5]\n",
      " [6 7 8]]\n"
     ]
    }
   ],
   "source": [
    "a = np.arange(9)\n",
    "print('a: ', a)\n",
    "b = np.reshape(a, (3,3))\n",
    "print('b: ', b)"
   ]
  },
  {
   "cell_type": "markdown",
   "metadata": {},
   "source": [
    "### just to hammer home to `view` vs. `copy` behavior, look at `a` and `b` more closely"
   ]
  },
  {
   "cell_type": "code",
   "execution_count": 70,
   "metadata": {
    "execution": {
     "iopub.execute_input": "2024-02-08T14:37:04.345597Z",
     "iopub.status.busy": "2024-02-08T14:37:04.345239Z",
     "iopub.status.idle": "2024-02-08T14:37:04.348439Z",
     "shell.execute_reply": "2024-02-08T14:37:04.347981Z"
    }
   },
   "outputs": [
    {
     "data": {
      "text/plain": [
       "array([0, 1, 2, 3, 4, 5, 6, 7, 8])"
      ]
     },
     "execution_count": 70,
     "metadata": {},
     "output_type": "execute_result"
    }
   ],
   "source": [
    "a"
   ]
  },
  {
   "cell_type": "code",
   "execution_count": 71,
   "metadata": {
    "execution": {
     "iopub.execute_input": "2024-02-08T14:37:04.350198Z",
     "iopub.status.busy": "2024-02-08T14:37:04.349884Z",
     "iopub.status.idle": "2024-02-08T14:37:04.353001Z",
     "shell.execute_reply": "2024-02-08T14:37:04.352517Z"
    }
   },
   "outputs": [
    {
     "data": {
      "text/plain": [
       "array([0, 1, 2, 3, 4, 5, 6, 7, 8])"
      ]
     },
     "execution_count": 71,
     "metadata": {},
     "output_type": "execute_result"
    }
   ],
   "source": [
    "b.base"
   ]
  },
  {
   "cell_type": "code",
   "execution_count": 72,
   "metadata": {
    "execution": {
     "iopub.execute_input": "2024-02-08T14:37:04.354766Z",
     "iopub.status.busy": "2024-02-08T14:37:04.354488Z",
     "iopub.status.idle": "2024-02-08T14:37:04.357520Z",
     "shell.execute_reply": "2024-02-08T14:37:04.357124Z"
    }
   },
   "outputs": [
    {
     "data": {
      "text/plain": [
       "array([[0, 1, 2],\n",
       "       [3, 4, 5],\n",
       "       [6, 7, 8]])"
      ]
     },
     "execution_count": 72,
     "metadata": {},
     "output_type": "execute_result"
    }
   ],
   "source": [
    "b"
   ]
  },
  {
   "cell_type": "code",
   "execution_count": 73,
   "metadata": {
    "execution": {
     "iopub.execute_input": "2024-02-08T14:37:04.359308Z",
     "iopub.status.busy": "2024-02-08T14:37:04.359009Z",
     "iopub.status.idle": "2024-02-08T14:37:04.361166Z",
     "shell.execute_reply": "2024-02-08T14:37:04.360805Z"
    }
   },
   "outputs": [],
   "source": [
    "b[1,1] = 999"
   ]
  },
  {
   "cell_type": "code",
   "execution_count": 74,
   "metadata": {
    "execution": {
     "iopub.execute_input": "2024-02-08T14:37:04.362987Z",
     "iopub.status.busy": "2024-02-08T14:37:04.362637Z",
     "iopub.status.idle": "2024-02-08T14:37:04.365799Z",
     "shell.execute_reply": "2024-02-08T14:37:04.365338Z"
    }
   },
   "outputs": [
    {
     "data": {
      "text/plain": [
       "array([  0,   1,   2,   3, 999,   5,   6,   7,   8])"
      ]
     },
     "execution_count": 74,
     "metadata": {},
     "output_type": "execute_result"
    }
   ],
   "source": [
    "a"
   ]
  },
  {
   "cell_type": "code",
   "execution_count": 75,
   "metadata": {
    "execution": {
     "iopub.execute_input": "2024-02-08T14:37:04.367507Z",
     "iopub.status.busy": "2024-02-08T14:37:04.367218Z",
     "iopub.status.idle": "2024-02-08T14:37:04.370386Z",
     "shell.execute_reply": "2024-02-08T14:37:04.369908Z"
    }
   },
   "outputs": [
    {
     "data": {
      "text/plain": [
       "array([[  0,   1,   2],\n",
       "       [  3, 999,   5],\n",
       "       [  6,   7,   8]])"
      ]
     },
     "execution_count": 75,
     "metadata": {},
     "output_type": "execute_result"
    }
   ],
   "source": [
    "b"
   ]
  },
  {
   "cell_type": "code",
   "execution_count": 76,
   "metadata": {
    "execution": {
     "iopub.execute_input": "2024-02-08T14:37:04.372013Z",
     "iopub.status.busy": "2024-02-08T14:37:04.371761Z",
     "iopub.status.idle": "2024-02-08T14:37:04.375083Z",
     "shell.execute_reply": "2024-02-08T14:37:04.374720Z"
    }
   },
   "outputs": [
    {
     "data": {
      "text/plain": [
       "(140707569949712, 140707569949712, 140707569949712)"
      ]
     },
     "execution_count": 76,
     "metadata": {},
     "output_type": "execute_result"
    }
   ],
   "source": [
    "id(a[1]), id(b[0,1]), id(b.base[1])"
   ]
  },
  {
   "cell_type": "markdown",
   "metadata": {},
   "source": [
    "## hstack and vstack\n",
    "\n",
    "hstack and vstack can be used to add columns to an array or rows to an array."
   ]
  },
  {
   "cell_type": "code",
   "execution_count": 77,
   "metadata": {
    "execution": {
     "iopub.execute_input": "2024-02-08T14:37:04.376713Z",
     "iopub.status.busy": "2024-02-08T14:37:04.376560Z",
     "iopub.status.idle": "2024-02-08T14:37:04.380126Z",
     "shell.execute_reply": "2024-02-08T14:37:04.379716Z"
    }
   },
   "outputs": [
    {
     "name": "stdout",
     "output_type": "stream",
     "text": [
      "[[0. 0. 0.]\n",
      " [0. 0. 0.]\n",
      " [0. 0. 0.]]\n",
      "[[0. 0. 0.]\n",
      " [0. 0. 0.]\n",
      " [0. 0. 0.]\n",
      " [2. 2. 2.]]\n",
      "The shape of b is  (4, 3)\n"
     ]
    }
   ],
   "source": [
    "#vstack example -- add a row to an array\n",
    "a = np.zeros((3, 3), dtype=float)\n",
    "print(a)\n",
    "b = np.vstack((a, np.array([2, 2, 2])))\n",
    "print(b)\n",
    "print('The shape of b is ', b.shape)"
   ]
  },
  {
   "cell_type": "markdown",
   "metadata": {},
   "source": [
    "## Flattening arrays\n",
    "oftentimes we need to flatten a 2D array to one dimension\n",
    "the `ndarray.flat` attribute provides a means of iterating over a numpy array in one-dimension"
   ]
  },
  {
   "cell_type": "code",
   "execution_count": 78,
   "metadata": {
    "execution": {
     "iopub.execute_input": "2024-02-08T14:37:04.381708Z",
     "iopub.status.busy": "2024-02-08T14:37:04.381556Z",
     "iopub.status.idle": "2024-02-08T14:37:04.384914Z",
     "shell.execute_reply": "2024-02-08T14:37:04.384514Z"
    }
   },
   "outputs": [
    {
     "data": {
      "text/plain": [
       "[0.0, 0.0, 0.0, 0.0, 0.0, 0.0, 0.0, 0.0, 0.0, 2.0, 2.0, 2.0]"
      ]
     },
     "execution_count": 78,
     "metadata": {},
     "output_type": "execute_result"
    }
   ],
   "source": [
    "[value for value in b.flat]"
   ]
  },
  {
   "cell_type": "markdown",
   "metadata": {},
   "source": [
    "if we need a 1D copy returned instead, we can use the `ndarray.flatten` method"
   ]
  },
  {
   "cell_type": "code",
   "execution_count": 79,
   "metadata": {
    "execution": {
     "iopub.execute_input": "2024-02-08T14:37:04.386535Z",
     "iopub.status.busy": "2024-02-08T14:37:04.386386Z",
     "iopub.status.idle": "2024-02-08T14:37:04.389656Z",
     "shell.execute_reply": "2024-02-08T14:37:04.389273Z"
    }
   },
   "outputs": [
    {
     "data": {
      "text/plain": [
       "array([0., 0., 0., 0., 0., 0., 0., 0., 0., 2., 2., 2.])"
      ]
     },
     "execution_count": 79,
     "metadata": {},
     "output_type": "execute_result"
    }
   ],
   "source": [
    "b.flatten()"
   ]
  },
  {
   "cell_type": "markdown",
   "metadata": {},
   "source": [
    "`.ravel()` returns a view instead of a copy when possible"
   ]
  },
  {
   "cell_type": "code",
   "execution_count": 80,
   "metadata": {
    "execution": {
     "iopub.execute_input": "2024-02-08T14:37:04.391255Z",
     "iopub.status.busy": "2024-02-08T14:37:04.391105Z",
     "iopub.status.idle": "2024-02-08T14:37:04.394473Z",
     "shell.execute_reply": "2024-02-08T14:37:04.393979Z"
    }
   },
   "outputs": [
    {
     "data": {
      "text/plain": [
       "array([[0., 4., 0.],\n",
       "       [0., 0., 0.],\n",
       "       [0., 0., 0.],\n",
       "       [2., 2., 2.]])"
      ]
     },
     "execution_count": 80,
     "metadata": {},
     "output_type": "execute_result"
    }
   ],
   "source": [
    "c = b.ravel()\n",
    "c[1] = 4\n",
    "b"
   ]
  },
  {
   "cell_type": "code",
   "execution_count": 81,
   "metadata": {
    "execution": {
     "iopub.execute_input": "2024-02-08T14:37:04.396177Z",
     "iopub.status.busy": "2024-02-08T14:37:04.395888Z",
     "iopub.status.idle": "2024-02-08T14:37:04.399093Z",
     "shell.execute_reply": "2024-02-08T14:37:04.398702Z"
    }
   },
   "outputs": [
    {
     "data": {
      "text/plain": [
       "array([0., 4., 0., 0., 0., 0., 0., 0., 0., 2., 2., 2.])"
      ]
     },
     "execution_count": 81,
     "metadata": {},
     "output_type": "execute_result"
    }
   ],
   "source": [
    "c"
   ]
  },
  {
   "cell_type": "markdown",
   "metadata": {},
   "source": [
    "## TEST YOUR SKILLS #2\n",
    "\n",
    "1. In an earlier exercise, you made x and y using the following lines of code.  Now use vstack to add another row to y that has the cosine of x.  Then plot them both on the same figure.\n",
    "- hint `plt.plot(x,y)` makes plots of arrays x and y"
   ]
  },
  {
   "cell_type": "code",
   "execution_count": 82,
   "metadata": {
    "execution": {
     "iopub.execute_input": "2024-02-08T14:37:04.400698Z",
     "iopub.status.busy": "2024-02-08T14:37:04.400547Z",
     "iopub.status.idle": "2024-02-08T14:37:04.402898Z",
     "shell.execute_reply": "2024-02-08T14:37:04.402526Z"
    }
   },
   "outputs": [],
   "source": [
    "x = np.linspace(0, 2*np.pi)    \n",
    "y = np.sin(x)"
   ]
  },
  {
   "cell_type": "code",
   "execution_count": null,
   "metadata": {},
   "outputs": [],
   "source": []
  },
  {
   "cell_type": "code",
   "execution_count": null,
   "metadata": {},
   "outputs": [],
   "source": []
  },
  {
   "cell_type": "code",
   "execution_count": null,
   "metadata": {},
   "outputs": [],
   "source": []
  },
  {
   "cell_type": "code",
   "execution_count": null,
   "metadata": {},
   "outputs": [],
   "source": []
  },
  {
   "cell_type": "code",
   "execution_count": null,
   "metadata": {},
   "outputs": [],
   "source": []
  },
  {
   "cell_type": "code",
   "execution_count": null,
   "metadata": {},
   "outputs": [],
   "source": []
  },
  {
   "cell_type": "markdown",
   "metadata": {},
   "source": [
    "## Masking an Array\n",
    "\n",
    "Masking is the process of performing array operations on a specific set of cells, called a mask.  A mask is a logical array with the same shape as the array it is applied to.  Here is an example."
   ]
  },
  {
   "cell_type": "code",
   "execution_count": 83,
   "metadata": {
    "execution": {
     "iopub.execute_input": "2024-02-08T14:37:04.404611Z",
     "iopub.status.busy": "2024-02-08T14:37:04.404463Z",
     "iopub.status.idle": "2024-02-08T14:37:04.407387Z",
     "shell.execute_reply": "2024-02-08T14:37:04.406922Z"
    }
   },
   "outputs": [
    {
     "name": "stdout",
     "output_type": "stream",
     "text": [
      "a:\n",
      " [[ 0  1  2  3  4  5  6  7  8  9]\n",
      " [10 11 12 13 14 15 16 17 18 19]\n",
      " [20 21 22 23 24 25 26 27 28 29]\n",
      " [30 31 32 33 34 35 36 37 38 39]\n",
      " [40 41 42 43 44 45 46 47 48 49]\n",
      " [50 51 52 53 54 55 56 57 58 59]\n",
      " [60 61 62 63 64 65 66 67 68 69]\n",
      " [70 71 72 73 74 75 76 77 78 79]\n",
      " [80 81 82 83 84 85 86 87 88 89]\n",
      " [90 91 92 93 94 95 96 97 98 99]]\n"
     ]
    }
   ],
   "source": [
    "#create a 10 by 10 array\n",
    "a = np.arange(100).reshape((10,10))\n",
    "print('a:\\n', a)"
   ]
  },
  {
   "cell_type": "code",
   "execution_count": 84,
   "metadata": {
    "execution": {
     "iopub.execute_input": "2024-02-08T14:37:04.409189Z",
     "iopub.status.busy": "2024-02-08T14:37:04.408794Z",
     "iopub.status.idle": "2024-02-08T14:37:04.411543Z",
     "shell.execute_reply": "2024-02-08T14:37:04.411178Z"
    }
   },
   "outputs": [
    {
     "name": "stdout",
     "output_type": "stream",
     "text": [
      "mask array for a == 1:\n",
      " [[False  True False False False False False False False False]\n",
      " [False False False False False False False False False False]\n",
      " [False False False False False False False False False False]\n",
      " [False False False False False False False False False False]\n",
      " [False False False False False False False False False False]\n",
      " [False False False False False False False False False False]\n",
      " [False False False False False False False False False False]\n",
      " [False False False False False False False False False False]\n",
      " [False False False False False False False False False False]\n",
      " [False False False False False False False False False False]]\n"
     ]
    }
   ],
   "source": [
    "print('mask array for a == 1:\\n', a[:, :] == 1)"
   ]
  },
  {
   "cell_type": "code",
   "execution_count": 85,
   "metadata": {
    "execution": {
     "iopub.execute_input": "2024-02-08T14:37:04.413212Z",
     "iopub.status.busy": "2024-02-08T14:37:04.412921Z",
     "iopub.status.idle": "2024-02-08T14:37:04.416238Z",
     "shell.execute_reply": "2024-02-08T14:37:04.415772Z"
    }
   },
   "outputs": [
    {
     "name": "stdout",
     "output_type": "stream",
     "text": [
      "[[False False False False False False False False False False]\n",
      " [False False False False False False False False False False]\n",
      " [False False False False False False False False False False]\n",
      " [False False False False False False False False False False]\n",
      " [False False False False False False False False False False]\n",
      " [False False False False False False False False False False]\n",
      " [False False False False False False False False False False]\n",
      " [False False False False False  True  True  True  True  True]\n",
      " [ True  True  True  True  True  True  True  True  True  True]\n",
      " [ True  True  True  True  True  True  True  True  True  True]]\n",
      "[[  0   1   2   3   4   5   6   7   8   9]\n",
      " [ 10  11  12  13  14  15  16  17  18  19]\n",
      " [ 20  21  22  23  24  25  26  27  28  29]\n",
      " [ 30  31  32  33  34  35  36  37  38  39]\n",
      " [ 40  41  42  43  44  45  46  47  48  49]\n",
      " [ 50  51  52  53  54  55  56  57  58  59]\n",
      " [ 60  61  62  63  64  65  66  67  68  69]\n",
      " [ 70  71  72  73  74 100 100 100 100 100]\n",
      " [100 100 100 100 100 100 100 100 100 100]\n",
      " [100 100 100 100 100 100 100 100 100 100]]\n"
     ]
    }
   ],
   "source": [
    "# We can create a mask array as follows\n",
    "# enclosing the conditional statement in parentheses is added for clarity\n",
    "mask = (a[:,:]>=75)\n",
    "print(mask)\n",
    "\n",
    "#Now we can use the mask to set values\n",
    "a[mask] = 100\n",
    "print(a)"
   ]
  },
  {
   "cell_type": "markdown",
   "metadata": {},
   "source": [
    "### Multi-Conditional Masking\n",
    "\n",
    "For more complicated masks, we can bring back the bitwise operators from above (`&`, `|`, and `^`)"
   ]
  },
  {
   "cell_type": "code",
   "execution_count": 86,
   "metadata": {
    "execution": {
     "iopub.execute_input": "2024-02-08T14:37:04.418070Z",
     "iopub.status.busy": "2024-02-08T14:37:04.417651Z",
     "iopub.status.idle": "2024-02-08T14:37:04.420124Z",
     "shell.execute_reply": "2024-02-08T14:37:04.419666Z"
    }
   },
   "outputs": [],
   "source": [
    "b = a.copy()"
   ]
  },
  {
   "cell_type": "code",
   "execution_count": 87,
   "metadata": {
    "execution": {
     "iopub.execute_input": "2024-02-08T14:37:04.421881Z",
     "iopub.status.busy": "2024-02-08T14:37:04.421516Z",
     "iopub.status.idle": "2024-02-08T14:37:04.512341Z",
     "shell.execute_reply": "2024-02-08T14:37:04.511843Z"
    }
   },
   "outputs": [
    {
     "name": "stdout",
     "output_type": "stream",
     "text": [
      "[[  0   1   2   3   4   5   6   7   8   9]\n",
      " [ 10  11  12  13  14  15  16  17  18  19]\n",
      " [ 20  21  22  23  24  25  26  27  28  29]\n",
      " [ 30  31  32  33  34  35  36  37  38  39]\n",
      " [ 40  41  42  43  44  45  46  47  48  49]\n",
      " [ 50  51  52  53  54  55  56  57  58  59]\n",
      " [ 60  61  62  63  64  65  66  67  68  69]\n",
      " [ 70  71  72  73  74 100 100 100 100 100]\n",
      " [100 100 100 100 100 100 100 100 100 100]\n",
      " [100 100 100 100 100 100 100 100 100 100]]\n"
     ]
    },
    {
     "data": {
      "text/plain": [
       "<matplotlib.image.AxesImage at 0x7ff908c0a550>"
      ]
     },
     "execution_count": 87,
     "metadata": {},
     "output_type": "execute_result"
    },
    {
     "data": {
      "image/png": "[encoded data removed]",
      "text/plain": [
       "<Figure size 640x480 with 1 Axes>"
      ]
     },
     "metadata": {},
     "output_type": "display_data"
    }
   ],
   "source": [
    "mask = (b[:,:]>50) & (b[:,:]<75)\n",
    "print(b)\n",
    "plt.imshow(mask)"
   ]
  },
  {
   "cell_type": "code",
   "execution_count": 88,
   "metadata": {
    "execution": {
     "iopub.execute_input": "2024-02-08T14:37:04.514379Z",
     "iopub.status.busy": "2024-02-08T14:37:04.514065Z",
     "iopub.status.idle": "2024-02-08T14:37:04.605609Z",
     "shell.execute_reply": "2024-02-08T14:37:04.605168Z"
    }
   },
   "outputs": [
    {
     "name": "stdout",
     "output_type": "stream",
     "text": [
      "[[  0   1   2   3   4   5   6   7   8   9]\n",
      " [ 10  11  12  13  14  15  16  17  18  19]\n",
      " [ 20  21  22  23  24  25  26  27  28  29]\n",
      " [ 30  31  32  33  34  35  36  37  38  39]\n",
      " [ 40  41  42  43  44  45  46  47  48  49]\n",
      " [ 50 200 200 200 200 200 200 200 200 200]\n",
      " [200 200 200 200 200 200 200 200 200 200]\n",
      " [200 200 200 200 200 100 100 100 100 100]\n",
      " [100 100 100 100 100 100 100 100 100 100]\n",
      " [100 100 100 100 100 100 100 100 100 100]]\n"
     ]
    },
    {
     "data": {
      "text/plain": [
       "<matplotlib.image.AxesImage at 0x7ff908be5550>"
      ]
     },
     "execution_count": 88,
     "metadata": {},
     "output_type": "execute_result"
    },
    {
     "data": {
      "image/png": "[encoded data removed]",
      "text/plain": [
       "<Figure size 640x480 with 1 Axes>"
      ]
     },
     "metadata": {},
     "output_type": "display_data"
    }
   ],
   "source": [
    "b[mask] = 200\n",
    "print(b)\n",
    "plt.imshow(b)"
   ]
  },
  {
   "cell_type": "markdown",
   "metadata": {},
   "source": [
    "### Masked arrays provide a convient away to explicitly handle nan values in the same object"
   ]
  },
  {
   "cell_type": "code",
   "execution_count": 89,
   "metadata": {
    "execution": {
     "iopub.execute_input": "2024-02-08T14:37:04.607625Z",
     "iopub.status.busy": "2024-02-08T14:37:04.607287Z",
     "iopub.status.idle": "2024-02-08T14:37:04.700573Z",
     "shell.execute_reply": "2024-02-08T14:37:04.700034Z"
    }
   },
   "outputs": [
    {
     "data": {
      "text/plain": [
       "<matplotlib.image.AxesImage at 0x7ff908a9ef10>"
      ]
     },
     "execution_count": 89,
     "metadata": {},
     "output_type": "execute_result"
    },
    {
     "data": {
      "image/png": "[encoded data removed]",
      "text/plain": [
       "<Figure size 640x480 with 1 Axes>"
      ]
     },
     "metadata": {},
     "output_type": "display_data"
    }
   ],
   "source": [
    "b_masked = np.ma.masked_array(b, mask=mask)\n",
    "plt.imshow(b_masked)"
   ]
  },
  {
   "cell_type": "markdown",
   "metadata": {},
   "source": [
    "## Record Arrays\n",
    "\n",
    "Record arrays, also known as structured arrays, are a great way to store columns of data that have different types.  They can be created by specifying a dtype that defines the columns.  For example:\n",
    "\n",
    "    dtype=[('x', int), ('y', float), ('z', int)]) \n",
    "    \n",
    "Now, let's use this dtype to create an array with ones in it."
   ]
  },
  {
   "cell_type": "code",
   "execution_count": 90,
   "metadata": {
    "execution": {
     "iopub.execute_input": "2024-02-08T14:37:04.702756Z",
     "iopub.status.busy": "2024-02-08T14:37:04.702407Z",
     "iopub.status.idle": "2024-02-08T14:37:04.706153Z",
     "shell.execute_reply": "2024-02-08T14:37:04.705563Z"
    }
   },
   "outputs": [
    {
     "name": "stdout",
     "output_type": "stream",
     "text": [
      "[(1, 1., 1) (1, 1., 1) (1, 1., 1) (1, 1., 1) (1, 1., 1) (1, 1., 1)\n",
      " (1, 1., 1) (1, 1., 1) (1, 1., 1) (1, 1., 1)]\n"
     ]
    }
   ],
   "source": [
    "dtype=[('x', int), ('y', float), ('z', int)]\n",
    "a = np.ones( (10), dtype=dtype)\n",
    "print(a)"
   ]
  },
  {
   "cell_type": "code",
   "execution_count": 91,
   "metadata": {
    "execution": {
     "iopub.execute_input": "2024-02-08T14:37:04.708088Z",
     "iopub.status.busy": "2024-02-08T14:37:04.707916Z",
     "iopub.status.idle": "2024-02-08T14:37:04.711051Z",
     "shell.execute_reply": "2024-02-08T14:37:04.710459Z"
    }
   },
   "outputs": [
    {
     "name": "stdout",
     "output_type": "stream",
     "text": [
      "[1 1 1 1 1 1 1 1 1 1]\n",
      "[1. 1. 1. 1. 1. 1. 1. 1. 1. 1.]\n",
      "[1 1 1 1 1 1 1 1 1 1]\n"
     ]
    }
   ],
   "source": [
    "#we can access each column by using the column names\n",
    "print(a['x'])\n",
    "print(a['y'])\n",
    "print(a['z'])"
   ]
  },
  {
   "cell_type": "code",
   "execution_count": 92,
   "metadata": {
    "execution": {
     "iopub.execute_input": "2024-02-08T14:37:04.713059Z",
     "iopub.status.busy": "2024-02-08T14:37:04.712716Z",
     "iopub.status.idle": "2024-02-08T14:37:04.716336Z",
     "shell.execute_reply": "2024-02-08T14:37:04.715926Z"
    }
   },
   "outputs": [
    {
     "name": "stdout",
     "output_type": "stream",
     "text": [
      "[1 1 1 1 1 1 1 1 1 1]\n",
      "[1. 1. 1. 1. 1. 1. 1. 1. 1. 1.]\n",
      "[1 1 1 1 1 1 1 1 1 1]\n"
     ]
    }
   ],
   "source": [
    "#we can also change how we view the record array so that we can access columns more easily\n",
    "a = a.view(np.recarray)\n",
    "print(a.x)\n",
    "print(a.y)\n",
    "print(a.z)"
   ]
  },
  {
   "cell_type": "code",
   "execution_count": 93,
   "metadata": {
    "execution": {
     "iopub.execute_input": "2024-02-08T14:37:04.717951Z",
     "iopub.status.busy": "2024-02-08T14:37:04.717785Z",
     "iopub.status.idle": "2024-02-08T14:37:04.723109Z",
     "shell.execute_reply": "2024-02-08T14:37:04.722729Z"
    }
   },
   "outputs": [
    {
     "name": "stdout",
     "output_type": "stream",
     "text": [
      "Now we have appended string_column to a: \n",
      " [(1, 1., 1, b'text string') (1, 1., 1, b'text string')\n",
      " (1, 1., 1, b'text string') (1, 1., 1, b'text string')\n",
      " (1, 1., 1, b'text string') (1, 1., 1, b'text string')\n",
      " (1, 1., 1, b'text string') (1, 1., 1, b'text string')\n",
      " (1, 1., 1, b'text string') (1, 1., 1, b'text string')]\n",
      "b is of shape:  (10,)\n",
      "('x', 'y', 'z', 'name')\n"
     ]
    }
   ],
   "source": [
    "#to add a column, use vstack!\n",
    "dt = [('name', 'S15')]\n",
    "string_column = np.empty((10), dtype=dt).view(np.recarray)\n",
    "string_column.name = 'text string'\n",
    "\n",
    "#we can use a merge_arrays function to add a column\n",
    "import numpy.lib.recfunctions as rfn\n",
    "b = rfn.merge_arrays((a, string_column), flatten = True, usemask = False)\n",
    "\n",
    "#we need to convert b to a recarray to access individual columns as before\n",
    "b = b.view(np.recarray)\n",
    "print('Now we have appended string_column to a: \\n', b)\n",
    "print('b is of shape: ', b.shape)\n",
    "print(b.dtype.names)"
   ]
  },
  {
   "cell_type": "markdown",
   "metadata": {},
   "source": [
    "## Testing your Skills\n",
    "\n",
    "1. Become familiar with recarrays by creating one that has four columns and 100 rows.  In the first column, put an integer that starts at 99 and decreases to 0.  In the second column, put a text string that has 'row n', where n is the actual row value.  In the third column put a random number, and in the fourth column, put your name.\n"
   ]
  },
  {
   "cell_type": "code",
   "execution_count": 94,
   "metadata": {
    "execution": {
     "iopub.execute_input": "2024-02-08T14:37:04.724777Z",
     "iopub.status.busy": "2024-02-08T14:37:04.724625Z",
     "iopub.status.idle": "2024-02-08T14:37:04.726660Z",
     "shell.execute_reply": "2024-02-08T14:37:04.726294Z"
    }
   },
   "outputs": [],
   "source": [
    "#do the exercise here"
   ]
  },
  {
   "cell_type": "markdown",
   "metadata": {},
   "source": [
    "## genfromtxt and Record Arrays\n",
    "\n",
    "genfromtxt can automatically create a record array if the following arguments are provided (dtype=None, names=True).  When these arguments are set this way, genfromtxt will automatically determine the type for each column and will use the first non-commented line of the data file as column labels.  \n",
    "\n",
    "In the 03_numpy folder, there is a csv file called ahf.csv.  This file contains airborne helicopter measurements of elevation taken at points in the everglades.  This data was downloaded from: http://sofia.usgs.gov/exchange/desmond/desmondelev.html.\n",
    "\n",
    "In the following cell, we use genfromtxt to load this csv file into a recarray.  The beauty of this is that genfromtxt automatically determines the type of information in each columns and fills the array accordingly.  When this is done correctly, we can access each column in the array using the column text identifier as follows."
   ]
  },
  {
   "cell_type": "code",
   "execution_count": 95,
   "metadata": {
    "execution": {
     "iopub.execute_input": "2024-02-08T14:37:04.728391Z",
     "iopub.status.busy": "2024-02-08T14:37:04.728114Z",
     "iopub.status.idle": "2024-02-08T14:37:04.798338Z",
     "shell.execute_reply": "2024-02-08T14:37:04.797872Z"
    }
   },
   "outputs": [
    {
     "name": "stdout",
     "output_type": "stream",
     "text": [
      "Data will be loaded from:  data/numpy/ahf.csv\n"
     ]
    },
    {
     "ename": "FileNotFoundError",
     "evalue": "data/numpy/ahf.csv not found.",
     "output_type": "error",
     "traceback": [
      "\u001b[0;31m---------------------------------------------------------------------------\u001b[0m",
      "\u001b[0;31mFileNotFoundError\u001b[0m                         Traceback (most recent call last)",
      "Cell \u001b[0;32mIn[95], line 6\u001b[0m\n\u001b[1;32m      3\u001b[0m \u001b[38;5;28mprint\u001b[39m(\u001b[38;5;124m'\u001b[39m\u001b[38;5;124mData will be loaded from: \u001b[39m\u001b[38;5;124m'\u001b[39m, fname)\n\u001b[1;32m      5\u001b[0m \u001b[38;5;66;03m#load the array\u001b[39;00m\n\u001b[0;32m----> 6\u001b[0m a \u001b[38;5;241m=\u001b[39m \u001b[43mnp\u001b[49m\u001b[38;5;241;43m.\u001b[39;49m\u001b[43mgenfromtxt\u001b[49m\u001b[43m(\u001b[49m\u001b[43mfname\u001b[49m\u001b[43m,\u001b[49m\u001b[43m \u001b[49m\u001b[43mdtype\u001b[49m\u001b[38;5;241;43m=\u001b[39;49m\u001b[38;5;28;43;01mNone\u001b[39;49;00m\u001b[43m,\u001b[49m\u001b[43m \u001b[49m\u001b[43mnames\u001b[49m\u001b[38;5;241;43m=\u001b[39;49m\u001b[38;5;28;43;01mTrue\u001b[39;49;00m\u001b[43m,\u001b[49m\u001b[43m \u001b[49m\u001b[43mdelimiter\u001b[49m\u001b[38;5;241;43m=\u001b[39;49m\u001b[38;5;124;43m'\u001b[39;49m\u001b[38;5;124;43m,\u001b[39;49m\u001b[38;5;124;43m'\u001b[39;49m\u001b[43m)\u001b[49m\n\u001b[1;32m      8\u001b[0m \u001b[38;5;66;03m#print information about the array\u001b[39;00m\n\u001b[1;32m      9\u001b[0m \u001b[38;5;28mprint\u001b[39m(\u001b[38;5;124m'\u001b[39m\u001b[38;5;124mdypte contains the column information: \u001b[39m\u001b[38;5;124m'\u001b[39m, a\u001b[38;5;241m.\u001b[39mdtype)\n",
      "File \u001b[0;32m~/micromamba/envs/pyclass-docs/lib/python3.11/site-packages/numpy/lib/npyio.py:1980\u001b[0m, in \u001b[0;36mgenfromtxt\u001b[0;34m(fname, dtype, comments, delimiter, skip_header, skip_footer, converters, missing_values, filling_values, usecols, names, excludelist, deletechars, replace_space, autostrip, case_sensitive, defaultfmt, unpack, usemask, loose, invalid_raise, max_rows, encoding, ndmin, like)\u001b[0m\n\u001b[1;32m   1978\u001b[0m     fname \u001b[38;5;241m=\u001b[39m os_fspath(fname)\n\u001b[1;32m   1979\u001b[0m \u001b[38;5;28;01mif\u001b[39;00m \u001b[38;5;28misinstance\u001b[39m(fname, \u001b[38;5;28mstr\u001b[39m):\n\u001b[0;32m-> 1980\u001b[0m     fid \u001b[38;5;241m=\u001b[39m \u001b[43mnp\u001b[49m\u001b[38;5;241;43m.\u001b[39;49m\u001b[43mlib\u001b[49m\u001b[38;5;241;43m.\u001b[39;49m\u001b[43m_datasource\u001b[49m\u001b[38;5;241;43m.\u001b[39;49m\u001b[43mopen\u001b[49m\u001b[43m(\u001b[49m\u001b[43mfname\u001b[49m\u001b[43m,\u001b[49m\u001b[43m \u001b[49m\u001b[38;5;124;43m'\u001b[39;49m\u001b[38;5;124;43mrt\u001b[39;49m\u001b[38;5;124;43m'\u001b[39;49m\u001b[43m,\u001b[49m\u001b[43m \u001b[49m\u001b[43mencoding\u001b[49m\u001b[38;5;241;43m=\u001b[39;49m\u001b[43mencoding\u001b[49m\u001b[43m)\u001b[49m\n\u001b[1;32m   1981\u001b[0m     fid_ctx \u001b[38;5;241m=\u001b[39m contextlib\u001b[38;5;241m.\u001b[39mclosing(fid)\n\u001b[1;32m   1982\u001b[0m \u001b[38;5;28;01melse\u001b[39;00m:\n",
      "File \u001b[0;32m~/micromamba/envs/pyclass-docs/lib/python3.11/site-packages/numpy/lib/_datasource.py:193\u001b[0m, in \u001b[0;36mopen\u001b[0;34m(path, mode, destpath, encoding, newline)\u001b[0m\n\u001b[1;32m    156\u001b[0m \u001b[38;5;250m\u001b[39m\u001b[38;5;124;03m\"\"\"\u001b[39;00m\n\u001b[1;32m    157\u001b[0m \u001b[38;5;124;03mOpen `path` with `mode` and return the file object.\u001b[39;00m\n\u001b[1;32m    158\u001b[0m \n\u001b[0;32m   (...)\u001b[0m\n\u001b[1;32m    189\u001b[0m \n\u001b[1;32m    190\u001b[0m \u001b[38;5;124;03m\"\"\"\u001b[39;00m\n\u001b[1;32m    192\u001b[0m ds \u001b[38;5;241m=\u001b[39m DataSource(destpath)\n\u001b[0;32m--> 193\u001b[0m \u001b[38;5;28;01mreturn\u001b[39;00m \u001b[43mds\u001b[49m\u001b[38;5;241;43m.\u001b[39;49m\u001b[43mopen\u001b[49m\u001b[43m(\u001b[49m\u001b[43mpath\u001b[49m\u001b[43m,\u001b[49m\u001b[43m \u001b[49m\u001b[43mmode\u001b[49m\u001b[43m,\u001b[49m\u001b[43m \u001b[49m\u001b[43mencoding\u001b[49m\u001b[38;5;241;43m=\u001b[39;49m\u001b[43mencoding\u001b[49m\u001b[43m,\u001b[49m\u001b[43m \u001b[49m\u001b[43mnewline\u001b[49m\u001b[38;5;241;43m=\u001b[39;49m\u001b[43mnewline\u001b[49m\u001b[43m)\u001b[49m\n",
      "File \u001b[0;32m~/micromamba/envs/pyclass-docs/lib/python3.11/site-packages/numpy/lib/_datasource.py:533\u001b[0m, in \u001b[0;36mDataSource.open\u001b[0;34m(self, path, mode, encoding, newline)\u001b[0m\n\u001b[1;32m    530\u001b[0m     \u001b[38;5;28;01mreturn\u001b[39;00m _file_openers[ext](found, mode\u001b[38;5;241m=\u001b[39mmode,\n\u001b[1;32m    531\u001b[0m                               encoding\u001b[38;5;241m=\u001b[39mencoding, newline\u001b[38;5;241m=\u001b[39mnewline)\n\u001b[1;32m    532\u001b[0m \u001b[38;5;28;01melse\u001b[39;00m:\n\u001b[0;32m--> 533\u001b[0m     \u001b[38;5;28;01mraise\u001b[39;00m \u001b[38;5;167;01mFileNotFoundError\u001b[39;00m(\u001b[38;5;124mf\u001b[39m\u001b[38;5;124m\"\u001b[39m\u001b[38;5;132;01m{\u001b[39;00mpath\u001b[38;5;132;01m}\u001b[39;00m\u001b[38;5;124m not found.\u001b[39m\u001b[38;5;124m\"\u001b[39m)\n",
      "\u001b[0;31mFileNotFoundError\u001b[0m: data/numpy/ahf.csv not found."
     ]
    }
   ],
   "source": [
    "#specify the file name\n",
    "fname = datapath / 'ahf.csv'\n",
    "print('Data will be loaded from: ', fname)\n",
    "\n",
    "#load the array\n",
    "a = np.genfromtxt(fname, dtype=None, names=True, delimiter=',')\n",
    "\n",
    "#print information about the array\n",
    "print('dypte contains the column information: ', a.dtype)\n",
    "print()\n",
    "print('this is the array: ', a)\n",
    "print()\n",
    "print('this is just the column names: ', a.dtype.names)\n",
    "print()\n",
    "\n",
    "#now we can create scatter plot of the points very easily using the plt.scatter command\n",
    "#the nice thing here is that we access the array columns directly using the column names\n",
    "plt.scatter(a['X_UTM'], a['Y_UTM'], c=a['ELEV_M'], s=10)"
   ]
  },
  {
   "cell_type": "markdown",
   "metadata": {},
   "source": [
    "## Reading a Wrapped MODFLOW Array\n",
    "\n",
    "It is unlikely that there will be time for this, but the following function is a quick hack that can be used to read a MODFLOW external array where the columns are wrapped.  Note that you cannot use `np.genfromtxt` or `np.loadtxt` to do this if the columns are wrapped.\n",
    "\n",
    "Keep this little function in your back pocket in case you need it one day.  If you have time, read bottom.txt in the 04_numpy directory and plot it.  This array has 142 rows and 113 columns."
   ]
  },
  {
   "cell_type": "code",
   "execution_count": 96,
   "metadata": {
    "execution": {
     "iopub.execute_input": "2024-02-08T14:37:04.800205Z",
     "iopub.status.busy": "2024-02-08T14:37:04.800046Z",
     "iopub.status.idle": "2024-02-08T14:37:04.803506Z",
     "shell.execute_reply": "2024-02-08T14:37:04.803106Z"
    }
   },
   "outputs": [],
   "source": [
    "# This is a little goodie that you might need one day.\n",
    "def readarray(fname, nrow, ncol):\n",
    "    f = open(fname, 'r')\n",
    "    arraylist = []\n",
    "    for line in f:\n",
    "        linelist = line.strip().split()\n",
    "        for v in linelist:\n",
    "            dtype = np.int\n",
    "            if '.' in v:\n",
    "                dtype = np.float\n",
    "            arraylist.append(dtype(v))\n",
    "    f.close()\n",
    "    return np.reshape(np.array(arraylist[:ncol*nrow]), (nrow, ncol))"
   ]
  },
  {
   "cell_type": "code",
   "execution_count": 97,
   "metadata": {
    "execution": {
     "iopub.execute_input": "2024-02-08T14:37:04.805335Z",
     "iopub.status.busy": "2024-02-08T14:37:04.804987Z",
     "iopub.status.idle": "2024-02-08T14:37:04.807261Z",
     "shell.execute_reply": "2024-02-08T14:37:04.806871Z"
    }
   },
   "outputs": [],
   "source": [
    "#read bottom.txt here"
   ]
  },
  {
   "cell_type": "code",
   "execution_count": null,
   "metadata": {},
   "outputs": [],
   "source": []
  },
  {
   "cell_type": "code",
   "execution_count": null,
   "metadata": {},
   "outputs": [],
   "source": []
  },
  {
   "cell_type": "code",
   "execution_count": 98,
   "metadata": {
    "execution": {
     "iopub.execute_input": "2024-02-08T14:37:04.808891Z",
     "iopub.status.busy": "2024-02-08T14:37:04.808740Z",
     "iopub.status.idle": "2024-02-08T14:37:04.813773Z",
     "shell.execute_reply": "2024-02-08T14:37:04.813363Z"
    }
   },
   "outputs": [
    {
     "name": "stdout",
     "output_type": "stream",
     "text": [
      "('col1', 'col2', 'col3', 'col4')\n",
      "[(99, b'row ', 0.93539296, b'cdl') (98, b'row ', 0.87806622, b'cdl')\n",
      " (97, b'row ', 0.80640586, b'cdl') (96, b'row ', 0.19887576, b'cdl')\n",
      " (95, b'row ', 0.49158273, b'cdl') (94, b'row ', 0.16166211, b'cdl')\n",
      " (93, b'row ', 0.40876878, b'cdl') (92, b'row ', 0.33311422, b'cdl')\n",
      " (91, b'row ', 0.06541786, b'cdl') (90, b'row ', 0.65412236, b'cdl')\n",
      " (89, b'row ', 0.60818202, b'cdl') (88, b'row ', 0.2696873 , b'cdl')\n",
      " (87, b'row ', 0.78752337, b'cdl') (86, b'row ', 0.88572345, b'cdl')\n",
      " (85, b'row ', 0.19177877, b'cdl') (84, b'row ', 0.84070611, b'cdl')\n",
      " (83, b'row ', 0.77119539, b'cdl') (82, b'row ', 0.29512565, b'cdl')\n",
      " (81, b'row ', 0.01243255, b'cdl') (80, b'row ', 0.38013611, b'cdl')\n",
      " (79, b'row ', 0.29160896, b'cdl') (78, b'row ', 0.67260848, b'cdl')\n",
      " (77, b'row ', 0.74086879, b'cdl') (76, b'row ', 0.38498855, b'cdl')\n",
      " (75, b'row ', 0.2906563 , b'cdl') (74, b'row ', 0.53628241, b'cdl')\n",
      " (73, b'row ', 0.4721755 , b'cdl') (72, b'row ', 0.60577656, b'cdl')\n",
      " (71, b'row ', 0.87468301, b'cdl') (70, b'row ', 0.05028409, b'cdl')\n",
      " (69, b'row ', 0.18458387, b'cdl') (68, b'row ', 0.61222294, b'cdl')\n",
      " (67, b'row ', 0.17713882, b'cdl') (66, b'row ', 0.32432615, b'cdl')\n",
      " (65, b'row ', 0.18325828, b'cdl') (64, b'row ', 0.33028087, b'cdl')\n",
      " (63, b'row ', 0.24145325, b'cdl') (62, b'row ', 0.68981246, b'cdl')\n",
      " (61, b'row ', 0.72420834, b'cdl') (60, b'row ', 0.33835652, b'cdl')\n",
      " (59, b'row ', 0.18026169, b'cdl') (58, b'row ', 0.06118439, b'cdl')\n",
      " (57, b'row ', 0.08604899, b'cdl') (56, b'row ', 0.41544755, b'cdl')\n",
      " (55, b'row ', 0.10613591, b'cdl') (54, b'row ', 0.68121469, b'cdl')\n",
      " (53, b'row ', 0.76700738, b'cdl') (52, b'row ', 0.93436698, b'cdl')\n",
      " (51, b'row ', 0.19587667, b'cdl') (50, b'row ', 0.10596949, b'cdl')\n",
      " (49, b'row ', 0.47519129, b'cdl') (48, b'row ', 0.64628889, b'cdl')\n",
      " (47, b'row ', 0.18327968, b'cdl') (46, b'row ', 0.54395786, b'cdl')\n",
      " (45, b'row ', 0.67650008, b'cdl') (44, b'row ', 0.34504237, b'cdl')\n",
      " (43, b'row ', 0.81077188, b'cdl') (42, b'row ', 0.78569858, b'cdl')\n",
      " (41, b'row ', 0.18363111, b'cdl') (40, b'row ', 0.329088  , b'cdl')\n",
      " (39, b'row ', 0.79145976, b'cdl') (38, b'row ', 0.42754014, b'cdl')\n",
      " (37, b'row ', 0.76291103, b'cdl') (36, b'row ', 0.65323337, b'cdl')\n",
      " (35, b'row ', 0.43341377, b'cdl') (34, b'row ', 0.9867933 , b'cdl')\n",
      " (33, b'row ', 0.63935228, b'cdl') (32, b'row ', 0.42084883, b'cdl')\n",
      " (31, b'row ', 0.42111154, b'cdl') (30, b'row ', 0.86895132, b'cdl')\n",
      " (29, b'row ', 0.33671532, b'cdl') (28, b'row ', 0.98235734, b'cdl')\n",
      " (27, b'row ', 0.02046842, b'cdl') (26, b'row ', 0.33603797, b'cdl')\n",
      " (25, b'row ', 0.033149  , b'cdl') (24, b'row ', 0.87583168, b'cdl')\n",
      " (23, b'row ', 0.29270542, b'cdl') (22, b'row ', 0.33742615, b'cdl')\n",
      " (21, b'row ', 0.86482234, b'cdl') (20, b'row ', 0.61035371, b'cdl')\n",
      " (19, b'row ', 0.95714781, b'cdl') (18, b'row ', 0.6988756 , b'cdl')\n",
      " (17, b'row ', 0.26256128, b'cdl') (16, b'row ', 0.50908531, b'cdl')\n",
      " (15, b'row ', 0.98831534, b'cdl') (14, b'row ', 0.65613503, b'cdl')\n",
      " (13, b'row ', 0.3973689 , b'cdl') (12, b'row ', 0.64116899, b'cdl')\n",
      " (11, b'row ', 0.32064574, b'cdl') (10, b'row ', 0.4763297 , b'cdl')\n",
      " ( 9, b'row ', 0.98646805, b'cdl') ( 8, b'row ', 0.36027912, b'cdl')\n",
      " ( 7, b'row ', 0.61798507, b'cdl') ( 6, b'row ', 0.79005386, b'cdl')\n",
      " ( 5, b'row ', 0.48076212, b'cdl') ( 4, b'row ', 0.24404122, b'cdl')\n",
      " ( 3, b'row ', 0.62975789, b'cdl') ( 2, b'row ', 0.07569589, b'cdl')\n",
      " ( 1, b'row ', 0.14416414, b'cdl') ( 0, b'row ', 0.76327677, b'cdl')]\n"
     ]
    }
   ],
   "source": [
    "# answer for earlier sk test\n",
    "dt=[('col1', int), ('col2', 'S10'), ('col3', float), ('col4', 'S20')]\n",
    "myrecarray = np.zeros((100), dtype=dt).view(np.recarray)\n",
    "myrecarray.col1[:] = np.arange(99,-1, -1)\n",
    "myrecarray.col2[:] = 'row '\n",
    "myrecarray.col3[:] = np.random.random((100))\n",
    "myrecarray.col4[:] = 'cdl'\n",
    "print(myrecarray.dtype.names)\n",
    "print(myrecarray)"
   ]
  },
  {
   "cell_type": "markdown",
   "metadata": {},
   "source": [
    "## Flow around a cylinder (from Mark Bakker)\n",
    "\n",
    "The radial and tangential components of the velocity vector $\\vec{v}=(v_r,v_\\theta)$ for inviscid fluid flow around a cylinder are given by\n",
    "\n",
    "$\\begin{split}\n",
    "v_r&=U(1-R^2/r^2)\\cos(\\theta) \\qquad r\\ge R \\\\\n",
    "v_\\theta&=-U(1+R^2/r^2)\\sin(\\theta) \\qquad r\\ge R\n",
    "\\end{split}$\n",
    "\n",
    "and is zero otherwise. The $x$ and $y$ components of the velocity vector may be obtained from the radial and tangential components as\n",
    "\n",
    "$\\begin{split}\n",
    "v_x&=v_r\\cos(\\theta) - v_\\theta\\sin(\\theta) \\\\\n",
    "v_y &= v_r\\sin(\\theta) + v_\\theta\\cos(\\theta) \n",
    "\\end{split}$\n",
    "\n",
    "1. Write a function that returns the $x$ and $y$ components of the velocity vector for fluid flow around a cylinder with $R=1.5$ and $U=2$.\n",
    "\n",
    "2. Test your function by making sure that at $(x,y) = (2,3)$ the velocity vector is $(v_x,v_y)=(2.1331, -0.3195)$.\n",
    "\n",
    "3. Compute the $x$ and $y$ components of the velocity vector on a grid of 50 by 50 points where `x` varies from -4 to +4, and `y` varies from -3 to 3. \n",
    "\n",
    "4. Plot the `vx` and `vy` arrays using `plt.imshow`.\n",
    "\n",
    "5. Create a stream plot using the cool function `plt.streamplot`, which takes four arguments: `x`, `y`, `vx`, `vy`.\n"
   ]
  },
  {
   "cell_type": "markdown",
   "metadata": {},
   "source": [
    "## 1D Solute Transport\n",
    "\n",
    "A simple 1D transport analytical solution (Zheng and Bennet page 174; orignally from Ogata and Banks, 1961):\n",
    "\n",
    "$\\frac{C}{C_0} = \\frac{1}{2} \\left [ erfc \\left ( \\frac{x - v t}{\\sqrt{4Dt}} \\right ) + exp \\left ( \\frac{xv}{D} \\right ) erfc \\left ( \\frac{x + v t}{\\sqrt{4Dt}} \\right )  \\right ]$\n",
    "\n",
    "Make a plot of solute concentration as a function of distance and also as a function of time for different values of velocity and dispersion coefficient."
   ]
  }
 ],
 "metadata": {
  "kernelspec": {
   "display_name": "pyclass",
   "language": "python",
   "name": "python3"
  },
  "language_info": {
   "codemirror_mode": {
    "name": "ipython",
    "version": 3
   },
   "file_extension": ".py",
   "mimetype": "text/x-python",
   "name": "python",
   "nbconvert_exporter": "python",
   "pygments_lexer": "ipython3",
   "version": "3.11.7"
  }
 },
 "nbformat": 4,
 "nbformat_minor": 4
}
