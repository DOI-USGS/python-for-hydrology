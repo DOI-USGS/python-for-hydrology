{
 "cells": [
  {
   "cell_type": "code",
   "execution_count": null,
   "id": "fc15635f-e887-417c-a9b6-583f1d0c758e",
   "metadata": {},
   "outputs": [],
   "source": [
    "import numpy as np\n",
    "import matplotlib.pyplot as plt\n",
    "import geopandas as gpd\n",
    "import shapely\n",
    "import shapefile\n",
    "import flopy\n",
    "from flopy.utils.gridgen import Gridgen\n",
    "from flopy.discretization import StructuredGrid, VertexGrid\n",
    "from flopy.utils.triangle import Triangle as Triangle\n",
    "from flopy.utils.voronoi import VoronoiGrid\n",
    "from flopy.utils.gridintersect import GridIntersect"
   ]
  },
  {
   "cell_type": "code",
   "execution_count": null,
   "id": "f55b0c73-ec82-4654-ac95-d840845c6a80",
   "metadata": {},
   "outputs": [],
   "source": [
    "model_ws = \"temp/structured/\""
   ]
  },
  {
   "cell_type": "markdown",
   "id": "ff71738e-4c13-40f1-88e2-ac42cf408c5a",
   "metadata": {},
   "source": [
    "Load a few raster files"
   ]
  },
  {
   "cell_type": "code",
   "execution_count": null,
   "id": "c1f45d54-e585-4b6f-aa44-8db54d57b68c",
   "metadata": {},
   "outputs": [],
   "source": [
    "bottom = flopy.utils.Raster.load(\"data_project/aquifer_bottom.asc\")\n",
    "top = flopy.utils.Raster.load(\"data_project/aquifer_top.asc\")\n",
    "kaq = flopy.utils.Raster.load(\"data_project/aquifer_k.asc\")"
   ]
  },
  {
   "cell_type": "markdown",
   "id": "d27b2059-7d15-48be-89e4-5ea3a0a4f246",
   "metadata": {},
   "source": [
    "Load a few shapefiles with geopandas"
   ]
  },
  {
   "cell_type": "code",
   "execution_count": null,
   "id": "a056df43-3d04-41c4-9e6d-641fd118f331",
   "metadata": {},
   "outputs": [],
   "source": [
    "river = gpd.read_file(\"data_project/Flowline_river.shp\")\n",
    "inactive = gpd.read_file(\"data_project/inactive_area.shp\")\n",
    "active = gpd.read_file(\"data_project/active_area.shp\")\n",
    "wells = gpd.read_file(\"data_project/pumping_well_locations.shp\")"
   ]
  },
  {
   "cell_type": "markdown",
   "id": "4ec28213-31e6-45f4-9899-56772618afb5",
   "metadata": {},
   "source": [
    "Plot the shapefiles with geopandas"
   ]
  },
  {
   "cell_type": "code",
   "execution_count": null,
   "id": "802e1ec8-04c4-42c6-905d-e28ec06d3515",
   "metadata": {},
   "outputs": [],
   "source": [
    "ax = river.plot(color=\"cyan\")\n",
    "active.plot(ax=ax, color=\"blue\")\n",
    "inactive.plot(ax=ax, color=\"white\")\n",
    "wells.plot(ax=ax, color=\"red\", markersize=8);"
   ]
  },
  {
   "cell_type": "markdown",
   "id": "649393e3-e455-41ee-968d-8131c0057a79",
   "metadata": {},
   "source": [
    "#### Make a structured model grid"
   ]
  },
  {
   "cell_type": "code",
   "execution_count": null,
   "id": "99fee6a1-dba6-4c47-9239-f0b2c0e81e04",
   "metadata": {},
   "outputs": [],
   "source": [
    "nlay, nrow, ncol = 3, 40, 20  # 80, 40\n",
    "shape2d, shape3d = (nrow, ncol), (nlay, nrow, ncol)\n",
    "xlen, ylen = 5000.0, 10000.0\n",
    "delr = np.full(ncol, xlen / ncol, dtype=float)\n",
    "delc = np.full(nrow, ylen / nrow, dtype=float)\n",
    "ttop = np.full(shape2d, 1.0, dtype=float)\n",
    "tbotm = np.full(shape3d, 0.0, dtype=float)"
   ]
  },
  {
   "cell_type": "code",
   "execution_count": null,
   "id": "a44240d6-b0f0-4436-bd2d-fbba92d6dd7e",
   "metadata": {},
   "outputs": [],
   "source": [
    "# create base_grid using StructuredGrid() method\n"
   ]
  },
  {
   "cell_type": "markdown",
   "id": "87e67c65-3a48-4489-b284-8a535c195c8a",
   "metadata": {},
   "source": [
    "### Intersect the modelgrid with the shapefiles\n",
    "\n",
    "#### Create an intersection object"
   ]
  },
  {
   "cell_type": "code",
   "execution_count": null,
   "id": "9eb9a7bd-02f1-4966-b522-4bdbabeb0d40",
   "metadata": {},
   "outputs": [],
   "source": [
    "ix = GridIntersect(base_grid, method=\"vertex\", rtree=True)"
   ]
  },
  {
   "cell_type": "markdown",
   "id": "ed099929-5257-4c83-93da-337aecfab0a1",
   "metadata": {},
   "source": [
    "#### Intersect inactive and active shapefiles with the modelgrid\n",
    "\n",
    "After all of the intersection operations, take a look at the data contained in the returned objects"
   ]
  },
  {
   "cell_type": "code",
   "execution_count": null,
   "id": "c8e5ef38-e57c-41f7-8c45-a953ae1a5568",
   "metadata": {},
   "outputs": [],
   "source": []
  },
  {
   "cell_type": "code",
   "execution_count": null,
   "id": "8d5ee1df-925f-4d93-8d06-7adaff89522f",
   "metadata": {},
   "outputs": [],
   "source": []
  },
  {
   "cell_type": "markdown",
   "id": "01ea9e5f-0aa0-4219-9bdf-cc8c639188e4",
   "metadata": {},
   "source": [
    "#### Intersect well shapefile with the modelgrid"
   ]
  },
  {
   "cell_type": "code",
   "execution_count": null,
   "id": "07742516-d0b2-4bb3-9afe-e25afcd55bcd",
   "metadata": {},
   "outputs": [],
   "source": [
    "well_cells = []\n",
    "for g in wells.geometry:\n",
    "    v = ix.intersect(g)\n",
    "    well_cells += v[\"cellids\"].tolist()"
   ]
  },
  {
   "cell_type": "code",
   "execution_count": null,
   "id": "71700525-1e82-4334-868a-33c84af18c79",
   "metadata": {},
   "outputs": [],
   "source": [
    "well_cells"
   ]
  },
  {
   "cell_type": "markdown",
   "id": "04ecb26d-183a-4629-8adb-6dd22a22d787",
   "metadata": {},
   "source": [
    "#### Intersect river shapefile with the modelgrid"
   ]
  },
  {
   "cell_type": "code",
   "execution_count": null,
   "id": "26e2f376-7ba5-42ae-8b8f-822f244cc888",
   "metadata": {},
   "outputs": [],
   "source": [
    "river_cells = ix.intersect(river.geometry[0])"
   ]
  },
  {
   "cell_type": "code",
   "execution_count": null,
   "id": "0fa25077-4dc4-4b64-9629-42733843cf9a",
   "metadata": {},
   "outputs": [],
   "source": [
    "river_cells[:4], river_cells.dtype"
   ]
  },
  {
   "cell_type": "markdown",
   "id": "da8d7508-eaa8-4a66-a0a9-6a9a3302a957",
   "metadata": {},
   "source": [
    "### Intersect constant head line with the modelgrid\n",
    "\n",
    "Use a line with two points to defined the location of the constant head cells. The line verticase are `[(1250, 0.1), (4250, 0.1)]`."
   ]
  },
  {
   "cell_type": "code",
   "execution_count": null,
   "id": "d1ad7c18-b221-4272-bd4c-aa8b4145373b",
   "metadata": {},
   "outputs": [],
   "source": [
    "constant_cells = ix.intersect(\n",
    "    [(1250, 0.1), (4250, 0.1)], shapetype=\"linestring\"\n",
    ")"
   ]
  },
  {
   "cell_type": "code",
   "execution_count": null,
   "id": "5b452111-1be5-40a9-afeb-878fb48875eb",
   "metadata": {},
   "outputs": [],
   "source": [
    "constant_cells[:4], constant_cells.dtype"
   ]
  },
  {
   "cell_type": "markdown",
   "id": "b16d9318-24e8-417e-8944-343da5262632",
   "metadata": {},
   "source": [
    "### Resample the raster data to the modelgrid\n",
    "\n",
    "Use the `resample_to_grid()` method on each raster object."
   ]
  },
  {
   "cell_type": "code",
   "execution_count": null,
   "id": "00e8eed1-2735-48c8-8bc7-cb2ea88a78a6",
   "metadata": {},
   "outputs": [],
   "source": [
    "rtop = top.resample_to_grid(\n",
    "    base_grid,\n",
    "    band=top.bands[0],\n",
    "    method=\"linear\",\n",
    "    extrapolate_edges=True,\n",
    ")\n",
    "rbot = bottom.resample_to_grid(\n",
    "    base_grid,\n",
    "    band=bottom.bands[0],\n",
    "    method=\"linear\",\n",
    "    extrapolate_edges=True,\n",
    ")\n",
    "rkaq = (\n",
    "    kaq.resample_to_grid(\n",
    "        base_grid, band=kaq.bands[0], method=\"linear\", extrapolate_edges=True\n",
    "    )\n",
    "    * 86400.0\n",
    ")"
   ]
  },
  {
   "cell_type": "markdown",
   "id": "4d38c553-7319-445a-bda1-b9f1b324ba87",
   "metadata": {},
   "source": [
    "### Plot the resampled data \n",
    "\n",
    "Plot the aquifer top, bottom, and hydraulic conductivity. Also plot the aquifer thickness."
   ]
  },
  {
   "cell_type": "code",
   "execution_count": null,
   "id": "5a9432c9-0f68-492b-8f00-121aef880676",
   "metadata": {},
   "outputs": [],
   "source": []
  },
  {
   "cell_type": "code",
   "execution_count": null,
   "id": "a17ec3d1-5034-4840-87c2-4f088891d2f6",
   "metadata": {},
   "outputs": [],
   "source": []
  },
  {
   "cell_type": "code",
   "execution_count": null,
   "id": "b677a2be-9a75-43e2-b795-f6846a9a84e2",
   "metadata": {},
   "outputs": [],
   "source": []
  },
  {
   "cell_type": "code",
   "execution_count": null,
   "id": "009b982f-621f-4a11-909e-b020979be137",
   "metadata": {},
   "outputs": [],
   "source": []
  },
  {
   "cell_type": "markdown",
   "id": "e9f459b8-7ba3-4778-a790-25ea654f5b49",
   "metadata": {},
   "source": [
    "#### Build the model data\n",
    "\n",
    "_Create the bottom of each model layer_\n",
    "\n",
    "Assume that the thickness of each layer at a row, column location is equal."
   ]
  },
  {
   "cell_type": "code",
   "execution_count": null,
   "id": "fa75d47d-2a36-4d14-9e3a-8e690933315a",
   "metadata": {},
   "outputs": [],
   "source": []
  },
  {
   "cell_type": "code",
   "execution_count": null,
   "id": "44d83654-374f-4f91-b6f1-65a346c110f9",
   "metadata": {},
   "outputs": [],
   "source": []
  },
  {
   "cell_type": "markdown",
   "id": "78271f86-4d9b-4e95-8f6d-159340ba0030",
   "metadata": {},
   "source": [
    "_Create the idomain array_\n",
    "\n",
    "Use the intersection data from the active and inactive shapefiles to create the idomain array"
   ]
  },
  {
   "cell_type": "code",
   "execution_count": null,
   "id": "6bb26307-5b6f-46e1-b633-45b6a851c2bb",
   "metadata": {},
   "outputs": [],
   "source": []
  },
  {
   "cell_type": "code",
   "execution_count": null,
   "id": "d5bf322d-9561-4d82-aa28-2f93c8dbe0f1",
   "metadata": {},
   "outputs": [],
   "source": []
  },
  {
   "cell_type": "markdown",
   "id": "410fd6be-b9b2-44d8-8e45-cf022470d4a5",
   "metadata": {},
   "source": [
    "_Build the well package stress period data_\n",
    "\n",
    "* The pumping rates are in the `wells` geopandas dataframe\n",
    "* Pumping rates are in m/sec\n",
    "* The wells are located in model layer 3"
   ]
  },
  {
   "cell_type": "code",
   "execution_count": null,
   "id": "8abad8ba-f38b-4c85-bafe-040b8bd5de26",
   "metadata": {},
   "outputs": [],
   "source": []
  },
  {
   "cell_type": "code",
   "execution_count": null,
   "id": "92672b02-13cb-4253-b009-cfa23ff572be",
   "metadata": {},
   "outputs": [],
   "source": []
  },
  {
   "cell_type": "markdown",
   "id": "b9acc234-e7b7-434a-8a1d-8533c7225003",
   "metadata": {},
   "source": [
    "_Build the river package stress period data_\n",
    "\n",
    "* Calculate the length of the river using the `\"lengths\"` key. \n",
    "* The vertical hydraulic conductivity of the river bed sediments is 3.5 m/d.\n",
    "* The thickness of river bottom sediments at the upstream (North) and downstream (South) end of the river is 0.5 and 1.5 meters, respectively. \n",
    "* The river bottom at the upstream and downstream end of the river is 16.5 and 14.5 meters, respectively. The river width at the upstream and downstream end of the river is 5.0 and 10.0 meters, respectively. \n",
    "* The river stage at the upstream and downstream end of the river is 16.6 and 15.5 meters, respectively.\n",
    "* Use the boundname `upstream` for river cells where the upstream end of the river cell is less than 5000 m from the North end of the model. Use the boundname `downstream` for all other river cells. \n",
    "* Make sure the river cell is in the upper most layer where the river bottom exceeds the bottom of the cell.\n",
    "\n",
    "Use the upstream and downstream values to interpolate the river sediment thickness, bottom, width, and stage for each river cell.\n",
    "\n",
    "The river cells will be connected to model layer 1. The river bottom, width, and stage values should be calculated at the center of the river reach."
   ]
  },
  {
   "cell_type": "code",
   "execution_count": null,
   "id": "1f0b8a27-6dba-4f62-b11c-f92bdada50a8",
   "metadata": {},
   "outputs": [],
   "source": [
    "# define river data"
   ]
  },
  {
   "cell_type": "code",
   "execution_count": null,
   "id": "d0013ce6-3c75-4f25-b7a4-17cf7ce7e456",
   "metadata": {},
   "outputs": [],
   "source": [
    "# calculate total river length\n"
   ]
  },
  {
   "cell_type": "code",
   "execution_count": null,
   "id": "a565b394-c57c-45bd-a947-8565c86ed87b",
   "metadata": {},
   "outputs": [],
   "source": [
    "# calculate river slope\n"
   ]
  },
  {
   "cell_type": "code",
   "execution_count": null,
   "id": "488d4e1b-6ee5-474e-91a0-6fe1dc764dee",
   "metadata": {},
   "outputs": [],
   "source": [
    "# calculate river bottom slope"
   ]
  },
  {
   "cell_type": "code",
   "execution_count": null,
   "id": "9f7fca4f-b31a-4679-a06c-9fe79abd4318",
   "metadata": {},
   "outputs": [],
   "source": [
    "# calculate river width slope\n"
   ]
  },
  {
   "cell_type": "code",
   "execution_count": null,
   "id": "9d5cafa8-be40-4055-a56b-b67878c78e73",
   "metadata": {},
   "outputs": [],
   "source": [
    "# calculate river stage slope\n"
   ]
  },
  {
   "cell_type": "code",
   "execution_count": null,
   "id": "a6f1e5b6-43a2-4d7f-ad52-9178187daef8",
   "metadata": {},
   "outputs": [],
   "source": [
    "# determine the boundname for each reach"
   ]
  },
  {
   "cell_type": "code",
   "execution_count": null,
   "id": "d693f849-55a8-450c-934b-2cb7a2ddcc80",
   "metadata": {},
   "outputs": [],
   "source": [
    "# create the river stress period data\n"
   ]
  },
  {
   "cell_type": "markdown",
   "id": "837ae702-a313-4e4e-90f0-6bc6c6b5ef61",
   "metadata": {},
   "source": [
    "_Define river observations_"
   ]
  },
  {
   "cell_type": "code",
   "execution_count": null,
   "id": "452fa4f3-aac7-422b-b38b-1045e8b4cd1f",
   "metadata": {},
   "outputs": [],
   "source": [
    "riv_obs = {\n",
    "    \"riv_obs.csv\": [\n",
    "        (\"UPSTREAM\", \"RIV\", \"UPSTREAM\"),\n",
    "        (\"DOWNSTREAM\", \"RIV\", \"DOWNSTREAM\"),\n",
    "    ],\n",
    "}"
   ]
  },
  {
   "cell_type": "markdown",
   "id": "7906e810-488e-4894-9120-a91419a0c803",
   "metadata": {},
   "source": [
    "_Define the constant head cells_\n",
    "\n",
    "Assume the constant head cells are located in all three layers and have values equal to the downstream river stage (`stage_down`). Make sure the constant head stage is greater that the bottom of the layer."
   ]
  },
  {
   "cell_type": "code",
   "execution_count": null,
   "id": "7eb1d1d6-13e3-48a6-ae02-dc82e1878652",
   "metadata": {},
   "outputs": [],
   "source": []
  },
  {
   "cell_type": "markdown",
   "id": "a5f85bfe-d6df-42ff-b475-3d63773a3c2f",
   "metadata": {},
   "source": [
    "_Define recharge rates_\n",
    "\n",
    "* The recharge rate is 0.16000000E-08 m/sec"
   ]
  },
  {
   "cell_type": "code",
   "execution_count": null,
   "id": "08edb467-a90f-47c9-8465-0b619ea02e83",
   "metadata": {},
   "outputs": [],
   "source": []
  },
  {
   "cell_type": "markdown",
   "id": "6353df62-e5b5-4bab-9e32-0f4cf3e679df",
   "metadata": {},
   "source": [
    "#### Build the model\n",
    "\n",
    "Build a steady-state model using the data that you have created. Packages to create:\n",
    "\n",
    "* Simulation\n",
    "* TDIS (1 stress period, `TIME_UNITS='days'`)\n",
    "* IMS (default parameters)\n",
    "\n",
    "* GWF model (`SAVE_FLOWS=True`)\n",
    "* DIS (`LENGTH_UNITS='meters'`)\n",
    "* IC (`STRT=40.`)\n",
    "* NPF (Unconfined, same K for all layers, `SAVE_SPECIFIC_DISCHARGE=True`, `icelltype=1`)\n",
    "* RCH (array based)\n",
    "* RIV (`BOUNDNAMES=True`,add `RIV` observations for defined boundnames)\n",
    "* CHD\n",
    "* WEL\n",
    "* OC (Save `HEAD ALL` and `BUDGET ALL`)\n"
   ]
  },
  {
   "cell_type": "code",
   "execution_count": null,
   "id": "b98023a9-21da-4916-a419-4047a423b5df",
   "metadata": {},
   "outputs": [],
   "source": [
    "name = \"project\""
   ]
  },
  {
   "cell_type": "code",
   "execution_count": null,
   "id": "fbee68dc-cd6f-4180-a01c-1a6be28e70fa",
   "metadata": {},
   "outputs": [],
   "source": [
    "# create the simulation file"
   ]
  },
  {
   "cell_type": "code",
   "execution_count": null,
   "id": "b08a3119-2917-445a-a524-e37744ec72b3",
   "metadata": {},
   "outputs": [],
   "source": [
    "# create the TDIS file"
   ]
  },
  {
   "cell_type": "code",
   "execution_count": null,
   "id": "ddd8d7c4-9f3d-4a59-9267-27ee64454797",
   "metadata": {},
   "outputs": [],
   "source": [
    "# create the IMS file"
   ]
  },
  {
   "cell_type": "code",
   "execution_count": null,
   "id": "dfe28f34-eb82-458e-a12d-fd3d723c41fe",
   "metadata": {},
   "outputs": [],
   "source": [
    "# create the GWF model"
   ]
  },
  {
   "cell_type": "code",
   "execution_count": null,
   "id": "c4e71fe2-5fdb-4d81-a700-368cae8f1e84",
   "metadata": {},
   "outputs": [],
   "source": [
    "# create the DIS file"
   ]
  },
  {
   "cell_type": "code",
   "execution_count": null,
   "id": "4c7d3df5-8d21-4a19-906f-e1b903040e10",
   "metadata": {},
   "outputs": [],
   "source": [
    "# create the IC file"
   ]
  },
  {
   "cell_type": "code",
   "execution_count": null,
   "id": "6ebba677-0549-4315-803f-365a67c53961",
   "metadata": {},
   "outputs": [],
   "source": [
    "# create the NPF file"
   ]
  },
  {
   "cell_type": "code",
   "execution_count": null,
   "id": "8e3f77d3-5603-42b8-b186-edabaa5ded90",
   "metadata": {},
   "outputs": [],
   "source": [
    "# create the RCH file"
   ]
  },
  {
   "cell_type": "code",
   "execution_count": null,
   "id": "d6cf741b-ff8d-49be-a3d2-66165a76da50",
   "metadata": {},
   "outputs": [],
   "source": [
    "# create the RIV file (riv =)"
   ]
  },
  {
   "cell_type": "code",
   "execution_count": null,
   "id": "16748de9-fdc6-4e0e-b7b1-3dc3af396c56",
   "metadata": {},
   "outputs": [],
   "source": [
    "# add the river observation file\n",
    "riv.obs.initialize(\n",
    "    filename=f\"{name}.riv.obs\",\n",
    "    digits=9,\n",
    "    print_input=True,\n",
    "    continuous=riv_obs,\n",
    ")"
   ]
  },
  {
   "cell_type": "code",
   "execution_count": null,
   "id": "82be939f-72ef-4568-9002-2d181e07f626",
   "metadata": {},
   "outputs": [],
   "source": [
    "# create the WEL file"
   ]
  },
  {
   "cell_type": "code",
   "execution_count": null,
   "id": "f6fb7d40-678a-4344-b19a-94f21455840a",
   "metadata": {},
   "outputs": [],
   "source": [
    "# create the CHD file"
   ]
  },
  {
   "cell_type": "code",
   "execution_count": null,
   "id": "37c3deae-4dcd-4ad9-8f37-a936fa403978",
   "metadata": {},
   "outputs": [],
   "source": [
    "# create the OC file"
   ]
  },
  {
   "cell_type": "markdown",
   "id": "9a6d3a06-05b3-4f68-aa34-00dec952ef7d",
   "metadata": {},
   "source": [
    "#### Write the model files"
   ]
  },
  {
   "cell_type": "code",
   "execution_count": null,
   "id": "6a671453-1197-41db-9905-cc6549f705e1",
   "metadata": {},
   "outputs": [],
   "source": []
  },
  {
   "cell_type": "markdown",
   "id": "b53e1ada-e0a7-43b0-a72a-cc5ed8a4bc31",
   "metadata": {},
   "source": [
    "#### Run the model"
   ]
  },
  {
   "cell_type": "code",
   "execution_count": null,
   "id": "8f6a82ba-1005-484e-8a5a-3f59e732eb58",
   "metadata": {},
   "outputs": [],
   "source": []
  },
  {
   "cell_type": "markdown",
   "id": "dab370b7-c023-402a-bf3d-792cc82ad4de",
   "metadata": {},
   "source": [
    "#### Post-process the results\n",
    "\n",
    "Use `gwf.output.` method to get the observations."
   ]
  },
  {
   "cell_type": "code",
   "execution_count": null,
   "id": "6b1b0a5d-b1e6-4824-94c3-c849e176146b",
   "metadata": {},
   "outputs": [],
   "source": []
  },
  {
   "cell_type": "code",
   "execution_count": null,
   "id": "5f66f01c-9f11-4d83-be31-874c4df3717a",
   "metadata": {},
   "outputs": [],
   "source": []
  },
  {
   "cell_type": "markdown",
   "id": "50b64389-c690-4c21-bf74-2d4a5479de23",
   "metadata": {},
   "source": [
    "Use `gwf.output.` method to get the heads and specific discharge. Make a map and cross-sections of the data using `flopy.plot` methods. Plot specific discharge vectors on the map and cross-sections."
   ]
  },
  {
   "cell_type": "code",
   "execution_count": null,
   "id": "5d872228-ac57-4cba-8873-fb6430dac670",
   "metadata": {},
   "outputs": [],
   "source": []
  },
  {
   "cell_type": "code",
   "execution_count": null,
   "id": "4d75de40-e830-4c20-9b16-c5edfbdbb628",
   "metadata": {},
   "outputs": [],
   "source": []
  },
  {
   "cell_type": "code",
   "execution_count": null,
   "id": "cc988112-38dd-43dc-b4f0-77ec2f41b627",
   "metadata": {},
   "outputs": [],
   "source": [
    "# process the specific discharge (DATA-SPDIS) into qx, qy, qz using flopy.utils.postprocessing.get_specific_discharge\n"
   ]
  },
  {
   "cell_type": "code",
   "execution_count": null,
   "id": "4b164e54-6c98-4728-b844-1c88aa634b2f",
   "metadata": {},
   "outputs": [],
   "source": [
    "# plot the results"
   ]
  },
  {
   "cell_type": "code",
   "execution_count": null,
   "id": "bd3c9c9f-be85-4a31-afd6-883fa78af810",
   "metadata": {},
   "outputs": [],
   "source": []
  },
  {
   "cell_type": "code",
   "execution_count": null,
   "id": "44dbdf83-3b9d-4a8e-9a00-c498647c5155",
   "metadata": {},
   "outputs": [],
   "source": []
  },
  {
   "cell_type": "code",
   "execution_count": null,
   "id": "ca1097ac-0fd5-4b46-b759-d24a4566dd59",
   "metadata": {},
   "outputs": [],
   "source": []
  }
 ],
 "metadata": {
  "language_info": {
   "name": "python"
  }
 },
 "nbformat": 4,
 "nbformat_minor": 5
}
