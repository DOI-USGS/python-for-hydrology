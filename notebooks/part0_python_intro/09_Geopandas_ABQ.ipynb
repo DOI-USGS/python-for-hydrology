{
 "cells": [
  {
   "cell_type": "markdown",
   "id": "1eb9cb43-692a-4d8c-83d2-85065aa4e1ae",
   "metadata": {},
   "source": [
    "# Let's get some free city data for Albuquerque, NM and make a heatmap of where in town most Breaking Bad filming took place"
   ]
  },
  {
   "cell_type": "code",
   "execution_count": null,
   "id": "cc1d171e-aab1-4982-a03b-28c72e4eb021",
   "metadata": {},
   "outputs": [],
   "source": [
    "import geopandas as gp\n",
    "import pathlib as pl\n",
    "import fiona\n",
    "fiona.drvsupport.supported_drivers['libkml'] = 'rw' # enable KML support which is disabled by default\n",
    "fiona.drvsupport.supported_drivers['LIBKML'] = 'rw' # enable KML support which is disabled by default\n"
   ]
  },
  {
   "cell_type": "code",
   "execution_count": null,
   "id": "d8485fb9-0c3f-4f8d-b7c5-2fd891c577b5",
   "metadata": {},
   "outputs": [],
   "source": [
    "# data from https://www.cabq.gov/abq-data/"
   ]
  },
  {
   "cell_type": "code",
   "execution_count": null,
   "id": "04b18ca6-1224-4b8d-8ae7-61ec13ec7953",
   "metadata": {},
   "outputs": [],
   "source": [
    "datapath = pl.Path('./data/geopandas/abq/')"
   ]
  },
  {
   "cell_type": "code",
   "execution_count": null,
   "id": "7e6ef5b9-afd4-4e04-a03a-7588bf6be72c",
   "metadata": {},
   "outputs": [],
   "source": [
    "gdf = gp.read_file(datapath / 'abq_films.geojson')\n",
    "gdf = gdf.loc[gdf.geometry != None] # there are some missing geometries, so we can skip those\n",
    "gdf['Title'] = gdf['Title'].apply(lambda x:x.strip()) # let's strip off extra spaces from the Titles field\n",
    "gdf.Title = ['In Plain Sight' if \"Plain Sight\" in i else i for i in gdf.Title]\n",
    "gdf['Year'] = [i.year for i in gdf.ShootDate]\n",
    "gdf = gdf.drop(columns='ShootDate') # something with this "
   ]
  },
  {
   "cell_type": "markdown",
   "id": "69d88a70-e721-422e-a304-b2139b534e20",
   "metadata": {},
   "source": [
    "### what are the top 20 projects filming in ABQ?"
   ]
  },
  {
   "cell_type": "code",
   "execution_count": null,
   "id": "3e691881-5402-4445-a315-7aafd370b6fa",
   "metadata": {},
   "outputs": [],
   "source": [
    "gdf.groupby('Title').count()['Type'].sort_values(ascending=False)[:20].plot.bar()"
   ]
  },
  {
   "cell_type": "code",
   "execution_count": null,
   "id": "646e80be-53f0-4797-8ae5-eef8d2143286",
   "metadata": {},
   "outputs": [],
   "source": [
    "gdf.loc[gdf.Title=='Breaking Bad'].explore()"
   ]
  },
  {
   "cell_type": "code",
   "execution_count": null,
   "id": "7d9b046d-1e9c-4e83-a60a-661175e9f959",
   "metadata": {},
   "outputs": [],
   "source": [
    "gdf['Title'].unique()"
   ]
  },
  {
   "cell_type": "code",
   "execution_count": null,
   "id": "6c0c882d-1497-4d84-8fd5-59c28e112e6a",
   "metadata": {},
   "outputs": [],
   "source": [
    "gdf['Type'].unique()"
   ]
  },
  {
   "cell_type": "markdown",
   "id": "1d96ecb2-ce40-446a-990d-6d22743523ec",
   "metadata": {},
   "source": [
    "## read in the zone atlas"
   ]
  },
  {
   "cell_type": "code",
   "execution_count": null,
   "id": "9b5e5c62-db6a-490d-95e1-63c3157a950b",
   "metadata": {},
   "outputs": [],
   "source": [
    "gdf_pg = gp.read_file(datapath / 'zoneatlaspagegrid.kmz')\n",
    "gdf_pg.explore()"
   ]
  },
  {
   "cell_type": "code",
   "execution_count": null,
   "id": "3b7e5652-89f3-42b3-931a-d65e1ad99e18",
   "metadata": {},
   "outputs": [],
   "source": [
    "title_to_plot = 'Breaking Bad'"
   ]
  },
  {
   "cell_type": "code",
   "execution_count": null,
   "id": "68a06afc-b668-4fc9-8640-82290ecf23ff",
   "metadata": {},
   "outputs": [],
   "source": [
    "gdf_pg = gp.read_file(datapath / 'zoneatlaspagegrid.kmz')\n",
    "gdf_pg = gdf_pg.merge(gdf_pg.sjoin(\n",
    "    gdf.loc[gdf.Title==title_to_plot].to_crs(gdf_pg.crs)).groupby(\n",
    "    'Name').count().geometry.rename('points').reset_index())"
   ]
  },
  {
   "cell_type": "code",
   "execution_count": null,
   "id": "454c001b-de05-43e5-8b28-f9076a1ea23f",
   "metadata": {},
   "outputs": [],
   "source": [
    "m = gdf_pg[['points','geometry']].explore(column='points', cmap='magma_r')\n",
    "gdf.loc[gdf.Title==title_to_plot][['Site', 'geometry']].explore(m=m)\n"
   ]
  },
  {
   "cell_type": "code",
   "execution_count": null,
   "id": "47abb704-2dc5-4a22-b628-7a3258a96ae2",
   "metadata": {},
   "outputs": [],
   "source": []
  }
 ],
 "metadata": {
  "kernelspec": {
   "display_name": "Python 3 (ipykernel)",
   "language": "python",
   "name": "python3"
  },
  "language_info": {
   "codemirror_mode": {
    "name": "ipython",
    "version": 3
   },
   "file_extension": ".py",
   "mimetype": "text/x-python",
   "name": "python",
   "nbconvert_exporter": "python",
   "pygments_lexer": "ipython3",
   "version": "3.11.7"
  }
 },
 "nbformat": 4,
 "nbformat_minor": 5
}
