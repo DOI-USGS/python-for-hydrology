{
 "cells": [
  {
   "cell_type": "code",
   "execution_count": null,
   "id": "adapted-heath",
   "metadata": {},
   "outputs": [],
   "source": [
    "import os\n",
    "import numpy as np\n",
    "import pandas as pd\n",
    "import geopandas as gp\n",
    "from shapely.geometry import Point, Polygon\n",
    "from pathlib import Path"
   ]
  },
  {
   "cell_type": "code",
   "execution_count": null,
   "id": "928f22eb",
   "metadata": {},
   "outputs": [],
   "source": [
    "datapath = Path('../data/')"
   ]
  },
  {
   "cell_type": "markdown",
   "id": "54ed3ea9",
   "metadata": {},
   "source": [
    "## TEST YOUR SKILLS #0\n",
    "- make a new geodataframe of the parks\n",
    "- add a columns with centroids for each park\n",
    "- plot an interactive window with the park centroids and the neighborhoods\n",
    "- hints: \n",
    "    - remember the shapely methods are available for each geometry object (e.g. `centroid()`) \n",
    "    - you can loop over the column in a couple different ways\n",
    "    - you can define which columns contains the geometry of a geodataframe\n",
    "    - you will likely have to define the CRS"
   ]
  },
  {
   "cell_type": "code",
   "execution_count": null,
   "id": "03b1b58e",
   "metadata": {},
   "outputs": [],
   "source": [
    "parks = gp.read_file(datapath / 'Madison_parks.geojson')\n",
    "hoods = gp.read_file(datapath / 'Neighborhood_Associations.geojson')"
   ]
  },
  {
   "cell_type": "code",
   "execution_count": null,
   "id": "d3ad33ec",
   "metadata": {},
   "outputs": [],
   "source": [
    "# loopy solution\n",
    "parks_cent = parks.copy()\n",
    "centroids = []\n",
    "for i in parks_cent.geometry.values:\n",
    "    centroids.append(i.centroid)\n",
    "parks_cent['centroid'] = centroids"
   ]
  },
  {
   "cell_type": "code",
   "execution_count": null,
   "id": "599de3e5",
   "metadata": {},
   "outputs": [],
   "source": [
    "# do it all at once with a list comprehension\n",
    "parks_cent['centroid'] = [i.centroid for i in parks_cent.geometry]"
   ]
  },
  {
   "cell_type": "code",
   "execution_count": null,
   "id": "bbe8574f",
   "metadata": {},
   "outputs": [],
   "source": [
    "# set the geometry and CRS\n",
    "parks_cent.set_geometry('centroid', inplace=True)\n",
    "parks_cent.set_crs(parks.crs, inplace=True);"
   ]
  },
  {
   "cell_type": "code",
   "execution_count": null,
   "id": "16fcbb94",
   "metadata": {},
   "outputs": [],
   "source": [
    "m_hoods = hoods.explore()\n",
    "parks_cent.explore(m=m_hoods)"
   ]
  },
  {
   "cell_type": "code",
   "execution_count": null,
   "id": "historic-charleston",
   "metadata": {},
   "outputs": [],
   "source": []
  },
  {
   "cell_type": "markdown",
   "id": "87c2939a",
   "metadata": {},
   "source": [
    "# TEST YOUR SKILLS #1\n",
    "Using the `bounds` geodataframe you just made, write a function to visualize predicate behaviors.\n",
    "- your function should accept a left geodataframe, a right geodataframe, and a string for the predicate\n",
    "- your function should plot:\n",
    "    - the left geodataframe in (default) blue\n",
    "    - the result of the spatial join operation in another color\n",
    "    - the right geodataframe in another color with outline only\n",
    "- then you should set the title of the plot to the string predicate value used\n",
    "- the geodataframes to test with are `isthmus_parks` and `bounds`\n",
    "- your function should `return` the joined geodataframe\n",
    "\n",
    "- a couple hints:\n",
    "    - in the `plot` method are a couple args called `facecolor` and `edgecolor` that will help plot the rectangle\n",
    "    - there are other predicates to try out \n",
    "\n",
    "- _advanced options_: if that was easy, you can try a couple other things like:\n",
    "    - explore joins with points and lines in addition to just polygons\n",
    "    - change around the `bounds` polygon dimensions \n",
    "    - use `explore()` to make an interactive map"
   ]
  },
  {
   "cell_type": "markdown",
   "id": "74576cf5",
   "metadata": {},
   "source": [
    "### first have to bring over some things from the main lesson"
   ]
  },
  {
   "cell_type": "code",
   "execution_count": null,
   "id": "1b3e7437",
   "metadata": {},
   "outputs": [],
   "source": [
    "parks.to_crs(3071, inplace=True)\n",
    "hoods.to_crs(parks.crs, inplace=True)\n",
    "isthmus = hoods.loc[hoods['NEIGHB_NAME'].str.contains('Marquette') | \n",
    "                   hoods['NEIGHB_NAME'].str.contains('Tenney')]\n",
    "from shapely.geometry import box\n",
    "bbox = box(570600, 290000, 573100, 291700)\n",
    "bounds = gp.GeoDataFrame(geometry=[bbox],crs=parks.crs)\n",
    "isthmus_parks = gp.sjoin(left_df=parks, right_df=isthmus)\n",
    "isthmus_parks.drop(columns=[ 'index_right','OBJECTID_right', 'NA_ID', 'STATUS', 'CLASSIFICA', 'Web',\n",
    "       'ShapeSTArea', 'ShapeSTLength'], inplace=True)"
   ]
  },
  {
   "cell_type": "code",
   "execution_count": null,
   "id": "2c88f25c",
   "metadata": {},
   "outputs": [],
   "source": [
    "def show_predicate(ldf,rdf,predicate):\n",
    "    sj = gp.sjoin(ldf, rdf, predicate=predicate)\n",
    "    ax = ldf.plot()\n",
    "    sj.plot(ax=ax, color='black')\n",
    "    rdf.plot(facecolor='none', edgecolor='orange', ax=ax)\n",
    "    ax.set_title(predicate)\n",
    "    return sj"
   ]
  },
  {
   "cell_type": "code",
   "execution_count": null,
   "id": "bf1d1f6c",
   "metadata": {},
   "outputs": [],
   "source": [
    "sj = show_predicate(isthmus_parks, bounds, 'intersects')\n",
    "sj.head()"
   ]
  },
  {
   "cell_type": "code",
   "execution_count": null,
   "id": "a9c46d03",
   "metadata": {},
   "outputs": [],
   "source": [
    "sj = show_predicate(bounds, isthmus_parks, 'within')\n",
    "sj.head()"
   ]
  },
  {
   "cell_type": "code",
   "execution_count": null,
   "id": "aca85679",
   "metadata": {},
   "outputs": [],
   "source": []
  }
 ],
 "metadata": {
  "kernelspec": {
   "display_name": "Python 3 (ipykernel)",
   "language": "python",
   "name": "python3"
  },
  "language_info": {
   "codemirror_mode": {
    "name": "ipython",
    "version": 3
   },
   "file_extension": ".py",
   "mimetype": "text/x-python",
   "name": "python",
   "nbconvert_exporter": "python",
   "pygments_lexer": "ipython3",
   "version": "3.9.13"
  }
 },
 "nbformat": 4,
 "nbformat_minor": 5
}
