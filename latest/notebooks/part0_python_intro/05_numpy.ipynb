{
 "cells": [
  {
   "cell_type": "markdown",
   "metadata": {},
   "source": [
    "# 05: NumPy\n",
    "\n",
    "This notebook demonstrates how to import and use the Numpy module to work with arrays. The NumPy library includes (among other things) ways of storing and manipulating data that are more efficient than standard Python arrays. Using NumPy with numerical data is much faster than using Python lists or tuples.\n",
    "\n",
    "### Important Note\n",
    "The data structures and functionality of numpy underly many of the more advanced python tools that we will use including scipy, matplotlib, pandas, geopandas, flopy, and more.\n",
    "\n",
    "### References\n",
    "[Numpy documentation](https://docs.scipy.org/doc/)  \n",
    "The [Scipy lecture notes](http://scipy-lectures.org/intro/numpy/index.html) provide a pretty comprehensive demo of the core features of numpy.\n",
    "\n",
    "\n",
    "\n",
    "### Outline\n",
    "* Loading Numpy\n",
    "* Creating a Numpy Array\n",
    "* Array Operations\n",
    "* Accessing Array Elements\n",
    "* Reshaping and Stacking Arrays\n",
    "* Record Arrays\n"
   ]
  },
  {
   "cell_type": "code",
   "execution_count": 1,
   "metadata": {
    "execution": {
     "iopub.execute_input": "2024-11-20T18:07:04.376490Z",
     "iopub.status.busy": "2024-11-20T18:07:04.376329Z",
     "iopub.status.idle": "2024-11-20T18:07:04.691659Z",
     "shell.execute_reply": "2024-11-20T18:07:04.691151Z"
    }
   },
   "outputs": [
    {
     "name": "stdout",
     "output_type": "stream",
     "text": [
      "Data will be loaded from the following directory:  data/numpy\n"
     ]
    }
   ],
   "source": [
    "import os\n",
    "from pathlib import Path\n",
    "import matplotlib.pyplot as plt\n",
    "\n",
    "#this line sets up the directory paths that we will be using\n",
    "datapath = Path('data/numpy/')\n",
    "print('Data will be loaded from the following directory: ', datapath)"
   ]
  },
  {
   "cell_type": "markdown",
   "metadata": {},
   "source": [
    "## Importing Numpy\n",
    "The first step is to import the numpy module.  It's not a requirement, but almost a requirement to rename it as `np` as part of the import statement as follows.\n",
    "\n",
    "Note that at any time, you can enter the name of an object or method and the \"?\" to see help.  Also remember that shift-tab will bring help."
   ]
  },
  {
   "cell_type": "code",
   "execution_count": 2,
   "metadata": {
    "execution": {
     "iopub.execute_input": "2024-11-20T18:07:04.693700Z",
     "iopub.status.busy": "2024-11-20T18:07:04.693487Z",
     "iopub.status.idle": "2024-11-20T18:07:04.696140Z",
     "shell.execute_reply": "2024-11-20T18:07:04.695679Z"
    }
   },
   "outputs": [],
   "source": [
    "import numpy as np"
   ]
  },
  {
   "cell_type": "markdown",
   "metadata": {},
   "source": [
    "Many packages, including Numpy, have a `__version__` attribute.  It is a good idea to be aware of what package version you are using."
   ]
  },
  {
   "cell_type": "code",
   "execution_count": 3,
   "metadata": {
    "execution": {
     "iopub.execute_input": "2024-11-20T18:07:04.698000Z",
     "iopub.status.busy": "2024-11-20T18:07:04.697805Z",
     "iopub.status.idle": "2024-11-20T18:07:04.701303Z",
     "shell.execute_reply": "2024-11-20T18:07:04.700557Z"
    }
   },
   "outputs": [
    {
     "name": "stdout",
     "output_type": "stream",
     "text": [
      "I am running numpy version:  2.1.3\n"
     ]
    }
   ],
   "source": [
    "#To see the version of numpy that was loaded, enter the following command\n",
    "print('I am running numpy version: ', np.__version__)"
   ]
  },
  {
   "cell_type": "markdown",
   "metadata": {},
   "source": [
    "## Numpy Arrays\n",
    "***\n",
    "\n",
    "Numpy `array` objects (also called ndarray) are the cental data structure for `numpy`. Let's check out how to make arrays:\n",
    "1. Convert a list or tuple into an array\n",
    "2. Use a numpy function\n",
    "3. Read from a file"
   ]
  },
  {
   "cell_type": "markdown",
   "metadata": {},
   "source": [
    "### Creating a Numpy Array from a List\n",
    "The following is an example of converting a list into a numpy array using the numpy [array](http://wiki.scipy.org/Numpy_Example_List#array) function."
   ]
  },
  {
   "cell_type": "code",
   "execution_count": 4,
   "metadata": {
    "execution": {
     "iopub.execute_input": "2024-11-20T18:07:04.703644Z",
     "iopub.status.busy": "2024-11-20T18:07:04.703328Z",
     "iopub.status.idle": "2024-11-20T18:07:04.706645Z",
     "shell.execute_reply": "2024-11-20T18:07:04.706228Z"
    }
   },
   "outputs": [
    {
     "name": "stdout",
     "output_type": "stream",
     "text": [
      "The array is:  [1 3 5 7]\n",
      "The type of an array is:  <class 'numpy.ndarray'>\n"
     ]
    }
   ],
   "source": [
    "#create a new list\n",
    "lst = [1, 3, 5, 7]\n",
    "\n",
    "#convert the list into a new array\n",
    "a = np.array(lst)\n",
    "\n",
    "#print some information about the new array\n",
    "print('The array is: ', a)\n",
    "print('The type of an array is: ', type(a))"
   ]
  },
  {
   "cell_type": "markdown",
   "metadata": {},
   "source": [
    "Note that the following does not work.  Brackets are required so that the input is a list.\n",
    "\n",
    "```python\n",
    "a = np.array(1, 2, 3)\n",
    "```"
   ]
  },
  {
   "cell_type": "markdown",
   "metadata": {},
   "source": [
    "Every array contains additional information that is stored as an attribute as part of the array.  These attributes include the dimension (ndim) and the array shape (shape), for example."
   ]
  },
  {
   "cell_type": "code",
   "execution_count": 5,
   "metadata": {
    "execution": {
     "iopub.execute_input": "2024-11-20T18:07:04.708592Z",
     "iopub.status.busy": "2024-11-20T18:07:04.708230Z",
     "iopub.status.idle": "2024-11-20T18:07:04.711075Z",
     "shell.execute_reply": "2024-11-20T18:07:04.710658Z"
    }
   },
   "outputs": [
    {
     "name": "stdout",
     "output_type": "stream",
     "text": [
      "The number of dimensions for a:  1\n"
     ]
    }
   ],
   "source": [
    "print('The number of dimensions for a: ', a.ndim)"
   ]
  },
  {
   "cell_type": "code",
   "execution_count": 6,
   "metadata": {
    "execution": {
     "iopub.execute_input": "2024-11-20T18:07:04.712900Z",
     "iopub.status.busy": "2024-11-20T18:07:04.712598Z",
     "iopub.status.idle": "2024-11-20T18:07:04.715381Z",
     "shell.execute_reply": "2024-11-20T18:07:04.714953Z"
    }
   },
   "outputs": [
    {
     "name": "stdout",
     "output_type": "stream",
     "text": [
      "The shape of a:  (4,)\n"
     ]
    }
   ],
   "source": [
    "print('The shape of a: ', a.shape)"
   ]
  },
  {
   "cell_type": "code",
   "execution_count": 7,
   "metadata": {
    "execution": {
     "iopub.execute_input": "2024-11-20T18:07:04.717153Z",
     "iopub.status.busy": "2024-11-20T18:07:04.716856Z",
     "iopub.status.idle": "2024-11-20T18:07:04.719450Z",
     "shell.execute_reply": "2024-11-20T18:07:04.718990Z"
    }
   },
   "outputs": [
    {
     "name": "stdout",
     "output_type": "stream",
     "text": [
      "The type of a:  int64\n"
     ]
    }
   ],
   "source": [
    "print('The type of a: ', a.dtype)"
   ]
  },
  {
   "cell_type": "markdown",
   "metadata": {},
   "source": [
    "A two-dimensional array can be created by providing two lists within brackets to the numpy array function."
   ]
  },
  {
   "cell_type": "code",
   "execution_count": 8,
   "metadata": {
    "execution": {
     "iopub.execute_input": "2024-11-20T18:07:04.721258Z",
     "iopub.status.busy": "2024-11-20T18:07:04.720954Z",
     "iopub.status.idle": "2024-11-20T18:07:04.724663Z",
     "shell.execute_reply": "2024-11-20T18:07:04.724239Z"
    }
   },
   "outputs": [
    {
     "name": "stdout",
     "output_type": "stream",
     "text": [
      "The array is: \n",
      "[[ 1  3  5  7]\n",
      " [ 9 12 14 32]]\n",
      "The type of the array is:  <class 'numpy.ndarray'>\n",
      "The dimension of the array is:  2\n",
      "The shape of the array is:  (2, 4)\n"
     ]
    }
   ],
   "source": [
    "#create a new list\n",
    "lst1 = [1, 3, 5, 7]\n",
    "lst2 = [9, 12, 14, 32]\n",
    "\n",
    "#convert the list into a new array\n",
    "a = np.array([lst1, lst2])\n",
    "\n",
    "#print some information about the new array\n",
    "print('The array is: ')\n",
    "print(a)\n",
    "print('The type of the array is: ', type(a))\n",
    "print('The dimension of the array is: ', a.ndim)\n",
    "print('The shape of the array is: ', a.shape)"
   ]
  },
  {
   "cell_type": "markdown",
   "metadata": {},
   "source": [
    "We could also skip the step of creating two lists and just put them right into the `np.array` function as follows."
   ]
  },
  {
   "cell_type": "code",
   "execution_count": 9,
   "metadata": {
    "execution": {
     "iopub.execute_input": "2024-11-20T18:07:04.726537Z",
     "iopub.status.busy": "2024-11-20T18:07:04.726243Z",
     "iopub.status.idle": "2024-11-20T18:07:04.731055Z",
     "shell.execute_reply": "2024-11-20T18:07:04.730603Z"
    }
   },
   "outputs": [
    {
     "data": {
      "text/plain": [
       "array([[ 1,  3,  5,  7],\n",
       "       [ 9, 12, 14, 32]])"
      ]
     },
     "execution_count": 9,
     "metadata": {},
     "output_type": "execute_result"
    }
   ],
   "source": [
    "np.array([[1, 3, 5, 7],[9, 12, 14, 32]])"
   ]
  },
  {
   "cell_type": "markdown",
   "metadata": {},
   "source": [
    "## Array Generating Functions\n",
    "\n",
    "There are many different functions for creating numpy arrays.  They are described [here](http://docs.scipy.org/doc/numpy/reference/routines.array-creation.html).  \n",
    "\n",
    "Here are a few common array generating functions with links to their descriptions:\n",
    "\n",
    "* [empty](https://numpy.org/doc/stable/reference/generated/numpy.empty.html#numpy.empty)\n",
    "* [zeros](https://numpy.org/doc/stable/reference/generated/numpy.zeros.html#numpy.zeros)\n",
    "* [full](https://numpy.org/doc/stable/reference/generated/numpy.full.html#numpy.full)\n",
    "* [ones](https://numpy.org/doc/stable/reference/generated/numpy.ones.html#numpy.ones)\n",
    "* [arange](https://numpy.org/doc/stable/reference/generated/numpy.arange.html#numpy.arange)\n",
    "* [linspace](https://numpy.org/doc/stable/reference/generated/numpy.linspace.html#numpy.linspace)\n",
    "\n",
    "empty, zeros, and ones will all create a new array, and they all have the same syntax.  The only difference is the value that will be assigned to all of the array elements upon initialization.  The syntax for creating an empty array is:\n",
    "\n",
    "    a = np.empty( (shape), dtype )\n"
   ]
  },
  {
   "cell_type": "code",
   "execution_count": 10,
   "metadata": {
    "execution": {
     "iopub.execute_input": "2024-11-20T18:07:04.732759Z",
     "iopub.status.busy": "2024-11-20T18:07:04.732615Z",
     "iopub.status.idle": "2024-11-20T18:07:04.735437Z",
     "shell.execute_reply": "2024-11-20T18:07:04.735024Z"
    }
   },
   "outputs": [
    {
     "name": "stdout",
     "output_type": "stream",
     "text": [
      "[[1 3]\n",
      " [5 7]]\n"
     ]
    }
   ],
   "source": [
    "# Create an empty array\n",
    "print(np.empty((2,2), dtype=int))"
   ]
  },
  {
   "cell_type": "markdown",
   "metadata": {},
   "source": [
    "You are probably asking, what is this junk?  When you use `np.empty`, the only guarantee is that none of the values will be initialized.  You'll get whatever garbage was in that memory address.  You will only want to use `np.empty` if you know that you will be filling the array with meaningful values.\n",
    "\n",
    "The `dtype` is the type of array to create.  Some common examples are `int` (INTEGER), `float` (a floating point, or REAL for you FORTRAN people).  Numpy also has some of its own, like `np.int32`, `np.int64`, `np.float32`, `np.float64`, etc. if you want to specify resolution\n",
    "\n",
    "Here is an empty float array."
   ]
  },
  {
   "cell_type": "code",
   "execution_count": 11,
   "metadata": {
    "execution": {
     "iopub.execute_input": "2024-11-20T18:07:04.737063Z",
     "iopub.status.busy": "2024-11-20T18:07:04.736923Z",
     "iopub.status.idle": "2024-11-20T18:07:04.739919Z",
     "shell.execute_reply": "2024-11-20T18:07:04.739507Z"
    }
   },
   "outputs": [
    {
     "name": "stdout",
     "output_type": "stream",
     "text": [
      "[[4.6699732e-310 0.0000000e+000 0.0000000e+000]\n",
      " [0.0000000e+000 0.0000000e+000 0.0000000e+000]\n",
      " [0.0000000e+000 0.0000000e+000 0.0000000e+000]]\n"
     ]
    }
   ],
   "source": [
    "a = np.empty((3,3), dtype=float)\n",
    "print(a)"
   ]
  },
  {
   "cell_type": "markdown",
   "metadata": {},
   "source": [
    "As you might expect, `np.zeros` and `np.ones` make arrays with values initialized one zero and one, respectively."
   ]
  },
  {
   "cell_type": "code",
   "execution_count": 12,
   "metadata": {
    "execution": {
     "iopub.execute_input": "2024-11-20T18:07:04.741528Z",
     "iopub.status.busy": "2024-11-20T18:07:04.741389Z",
     "iopub.status.idle": "2024-11-20T18:07:04.744376Z",
     "shell.execute_reply": "2024-11-20T18:07:04.743882Z"
    }
   },
   "outputs": [
    {
     "name": "stdout",
     "output_type": "stream",
     "text": [
      "[[[1 1 1]\n",
      "  [1 1 1]\n",
      "  [1 1 1]]\n",
      "\n",
      " [[1 1 1]\n",
      "  [1 1 1]\n",
      "  [1 1 1]]\n",
      "\n",
      " [[1 1 1]\n",
      "  [1 1 1]\n",
      "  [1 1 1]]]\n",
      "[[[0. 0.]\n",
      "  [0. 0.]]\n",
      "\n",
      " [[0. 0.]\n",
      "  [0. 0.]]]\n"
     ]
    }
   ],
   "source": [
    "print(np.ones((3,3,3), int))\n",
    "print(np.zeros((2,2,2), float))"
   ]
  },
  {
   "cell_type": "markdown",
   "metadata": {},
   "source": [
    "## Input and Output\n",
    "\n",
    "Numpy has a great set of tools for saving arrays to files and reading arrays from files.  Details on these tools are [here](http://docs.scipy.org/doc/numpy/reference/routines.io.html).\n",
    "\n",
    "The following are the common ones:\n",
    "\n",
    "* [loadtxt](http://docs.scipy.org/doc/numpy/reference/generated/numpy.loadtxt.html#numpy.loadtxt)\n",
    "* [savetxt](http://docs.scipy.org/doc/numpy/reference/generated/numpy.savetxt.html#numpy.savetxt)\n",
    "\n",
    "We will now test these functions using data in the `data` directory.  In this folder, there is a file called `mt_st_helens_before.dat`.  This file is a simple text array with a grid of elevations for Mt. St Helens prior to the 1980 eruption.  We can read this array using the `loadtxt` function as follows."
   ]
  },
  {
   "cell_type": "code",
   "execution_count": 13,
   "metadata": {
    "execution": {
     "iopub.execute_input": "2024-11-20T18:07:04.746033Z",
     "iopub.status.busy": "2024-11-20T18:07:04.745891Z",
     "iopub.status.idle": "2024-11-20T18:07:04.756856Z",
     "shell.execute_reply": "2024-11-20T18:07:04.756355Z"
    }
   },
   "outputs": [
    {
     "name": "stdout",
     "output_type": "stream",
     "text": [
      "(466, 327) float32\n"
     ]
    }
   ],
   "source": [
    "before = np.loadtxt(datapath / 'mt_st_helens_before.dat', dtype=np.float32)\n",
    "print(before.shape, before.dtype)"
   ]
  },
  {
   "cell_type": "markdown",
   "metadata": {},
   "source": [
    "We can very quickly plot a two-dimensional numpy array using the `imshow` function from `matplotlib`. Spoiler alert: we will talk about `matplotlib` a bunch later."
   ]
  },
  {
   "cell_type": "code",
   "execution_count": 14,
   "metadata": {
    "execution": {
     "iopub.execute_input": "2024-11-20T18:07:04.758702Z",
     "iopub.status.busy": "2024-11-20T18:07:04.758449Z",
     "iopub.status.idle": "2024-11-20T18:07:04.914472Z",
     "shell.execute_reply": "2024-11-20T18:07:04.913967Z"
    }
   },
   "outputs": [
    {
     "data": {
      "text/plain": [
       "<matplotlib.colorbar.Colorbar at 0x7f1ab00febd0>"
      ]
     },
     "execution_count": 14,
     "metadata": {},
     "output_type": "execute_result"
    },
    {
     "data": {
      "image/png": "[encoded data removed]",
      "text/plain": [
       "<Figure size 640x480 with 2 Axes>"
      ]
     },
     "metadata": {},
     "output_type": "display_data"
    }
   ],
   "source": [
    "plt.imshow(before)\n",
    "plt.colorbar()"
   ]
  },
  {
   "cell_type": "markdown",
   "metadata": {},
   "source": [
    "## TEST YOUR SKILLS #0\n",
    "\n",
    "1. Write the Mt. St. Helens array (before) to a new file called `mynewarray.dat` in the same folder as `mt_st_helens_before.dat`. Explore different formats (see the note under [documentation](https://numpy.org/doc/stable/reference/generated/numpy.savetxt.html) for more) and see if you can read it back in again. What are the file size ramifications of format choices?\n",
    "2. Take a look at `bottom_commented.dat` in a text editor.  What about this file?  Can you read this file using `loadtxt` without having to manually change the file?  Hint: look at the `loadtxt` arguments."
   ]
  },
  {
   "cell_type": "code",
   "execution_count": 15,
   "metadata": {
    "execution": {
     "iopub.execute_input": "2024-11-20T18:07:04.916542Z",
     "iopub.status.busy": "2024-11-20T18:07:04.916251Z",
     "iopub.status.idle": "2024-11-20T18:07:04.918461Z",
     "shell.execute_reply": "2024-11-20T18:07:04.918067Z"
    }
   },
   "outputs": [],
   "source": [
    "#Skill Test 0.0\n",
    "#use np.savetxt here to write before to mynewarray.dat in the same folder (datapath). \n",
    "# What other options are there? What are some advantages/disadvantages?\n"
   ]
  },
  {
   "cell_type": "code",
   "execution_count": 16,
   "metadata": {
    "execution": {
     "iopub.execute_input": "2024-11-20T18:07:04.920130Z",
     "iopub.status.busy": "2024-11-20T18:07:04.919953Z",
     "iopub.status.idle": "2024-11-20T18:07:04.922601Z",
     "shell.execute_reply": "2024-11-20T18:07:04.922143Z"
    }
   },
   "outputs": [],
   "source": [
    "#Skill Test 0.1\n",
    "\n",
    "filename = datapath / 'bottom_commented.dat'\n",
    "\n",
    "# fill this in\n",
    "#bot2 = \n",
    "#print bot2.shape, bot2.dtype"
   ]
  },
  {
   "cell_type": "markdown",
   "metadata": {},
   "source": [
    "## Array Operations\n",
    "***\n",
    "It is very easy to perform arithmetic operations on arrays. So we can easily add and subtract arrays and use them in `numpy` functions. \n",
    ">pro tip: These operations, generally, are _element-wise_ -- so, don't expect matrix maths to be the result. That comes later..."
   ]
  },
  {
   "cell_type": "code",
   "execution_count": 17,
   "metadata": {
    "execution": {
     "iopub.execute_input": "2024-11-20T18:07:04.924314Z",
     "iopub.status.busy": "2024-11-20T18:07:04.924170Z",
     "iopub.status.idle": "2024-11-20T18:07:04.928086Z",
     "shell.execute_reply": "2024-11-20T18:07:04.927647Z"
    }
   },
   "outputs": [
    {
     "name": "stdout",
     "output_type": "stream",
     "text": [
      "[[2. 2. 2. ... 2. 2. 2.]\n",
      " [2. 2. 2. ... 2. 2. 2.]\n",
      " [2. 2. 2. ... 2. 2. 2.]\n",
      " ...\n",
      " [2. 2. 2. ... 2. 2. 2.]\n",
      " [2. 2. 2. ... 2. 2. 2.]\n",
      " [2. 2. 2. ... 2. 2. 2.]]\n",
      "[[0.08846075 0.08846075 0.08846075 ... 0.08846075 0.08846075 0.08846075]\n",
      " [0.08846075 0.08846075 0.08846075 ... 0.08846075 0.08846075 0.08846075]\n",
      " [0.08846075 0.08846075 0.08846075 ... 0.08846075 0.08846075 0.08846075]\n",
      " ...\n",
      " [0.08846075 0.08846075 0.08846075 ... 0.08846075 0.08846075 0.08846075]\n",
      " [0.08846075 0.08846075 0.08846075 ... 0.08846075 0.08846075 0.08846075]\n",
      " [0.08846075 0.08846075 0.08846075 ... 0.08846075 0.08846075 0.08846075]]\n"
     ]
    }
   ],
   "source": [
    "#add\n",
    "a = np.ones((100, 100))\n",
    "a = a + 1\n",
    "print(a)\n",
    "\n",
    "#powers, division\n",
    "a = a ** 2.73 / 75\n",
    "print(a)"
   ]
  },
  {
   "cell_type": "markdown",
   "metadata": {},
   "source": [
    "### remember the behavior of lists?"
   ]
  },
  {
   "cell_type": "code",
   "execution_count": 18,
   "metadata": {
    "execution": {
     "iopub.execute_input": "2024-11-20T18:07:04.929736Z",
     "iopub.status.busy": "2024-11-20T18:07:04.929581Z",
     "iopub.status.idle": "2024-11-20T18:07:04.933110Z",
     "shell.execute_reply": "2024-11-20T18:07:04.932626Z"
    }
   },
   "outputs": [
    {
     "data": {
      "text/plain": [
       "[1, 2, 3, 4, 1, 2, 3, 4]"
      ]
     },
     "execution_count": 18,
     "metadata": {},
     "output_type": "execute_result"
    }
   ],
   "source": [
    "a = [1,2,3,4]\n",
    "a*2"
   ]
  },
  {
   "cell_type": "code",
   "execution_count": 19,
   "metadata": {
    "execution": {
     "iopub.execute_input": "2024-11-20T18:07:04.934702Z",
     "iopub.status.busy": "2024-11-20T18:07:04.934562Z",
     "iopub.status.idle": "2024-11-20T18:07:04.938063Z",
     "shell.execute_reply": "2024-11-20T18:07:04.937666Z"
    }
   },
   "outputs": [
    {
     "data": {
      "text/plain": [
       "array([2, 4, 6, 8])"
      ]
     },
     "execution_count": 19,
     "metadata": {},
     "output_type": "execute_result"
    }
   ],
   "source": [
    "a = np.array(a)\n",
    "a*2"
   ]
  },
  {
   "cell_type": "markdown",
   "metadata": {},
   "source": [
    "### Lists are general, but `numpy` is for the maths ..."
   ]
  },
  {
   "cell_type": "markdown",
   "metadata": {},
   "source": [
    "### There is so much you can do with numpy arrays and the available functions.  For a list of the mathematical functions look [here](http://docs.scipy.org/doc/numpy/reference/routines.math.html)."
   ]
  },
  {
   "cell_type": "code",
   "execution_count": 20,
   "metadata": {
    "execution": {
     "iopub.execute_input": "2024-11-20T18:07:04.939952Z",
     "iopub.status.busy": "2024-11-20T18:07:04.939655Z",
     "iopub.status.idle": "2024-11-20T18:07:04.943110Z",
     "shell.execute_reply": "2024-11-20T18:07:04.942646Z"
    }
   },
   "outputs": [
    {
     "name": "stdout",
     "output_type": "stream",
     "text": [
      "[0.         0.12822827 0.25645654 0.38468481 0.51291309 0.64114136\n",
      " 0.76936963 0.8975979  1.02582617 1.15405444 1.28228272 1.41051099\n",
      " 1.53873926 1.66696753 1.7951958  1.92342407 2.05165235 2.17988062\n",
      " 2.30810889 2.43633716 2.56456543 2.6927937  2.82102197 2.94925025\n",
      " 3.07747852 3.20570679 3.33393506 3.46216333 3.5903916  3.71861988\n",
      " 3.84684815 3.97507642 4.10330469 4.23153296 4.35976123 4.48798951\n",
      " 4.61621778 4.74444605 4.87267432 5.00090259 5.12913086 5.25735913\n",
      " 5.38558741 5.51381568 5.64204395 5.77027222 5.89850049 6.02672876\n",
      " 6.15495704 6.28318531] [ 0.00000000e+00  1.27877162e-01  2.53654584e-01  3.75267005e-01\n",
      "  4.90717552e-01  5.98110530e-01  6.95682551e-01  7.81831482e-01\n",
      "  8.55142763e-01  9.14412623e-01  9.58667853e-01  9.87181783e-01\n",
      "  9.99486216e-01  9.95379113e-01  9.74927912e-01  9.38468422e-01\n",
      "  8.86599306e-01  8.20172255e-01  7.40277997e-01  6.48228395e-01\n",
      "  5.45534901e-01  4.33883739e-01  3.15108218e-01  1.91158629e-01\n",
      "  6.40702200e-02 -6.40702200e-02 -1.91158629e-01 -3.15108218e-01\n",
      " -4.33883739e-01 -5.45534901e-01 -6.48228395e-01 -7.40277997e-01\n",
      " -8.20172255e-01 -8.86599306e-01 -9.38468422e-01 -9.74927912e-01\n",
      " -9.95379113e-01 -9.99486216e-01 -9.87181783e-01 -9.58667853e-01\n",
      " -9.14412623e-01 -8.55142763e-01 -7.81831482e-01 -6.95682551e-01\n",
      " -5.98110530e-01 -4.90717552e-01 -3.75267005e-01 -2.53654584e-01\n",
      " -1.27877162e-01 -2.44929360e-16]\n"
     ]
    }
   ],
   "source": [
    "#or how about a sin function\n",
    "x = np.linspace(0, 2*np.pi)\n",
    "y = np.sin(x)\n",
    "print(x, y)"
   ]
  },
  {
   "cell_type": "code",
   "execution_count": 21,
   "metadata": {
    "execution": {
     "iopub.execute_input": "2024-11-20T18:07:04.944788Z",
     "iopub.status.busy": "2024-11-20T18:07:04.944641Z",
     "iopub.status.idle": "2024-11-20T18:07:05.033327Z",
     "shell.execute_reply": "2024-11-20T18:07:05.032859Z"
    }
   },
   "outputs": [
    {
     "data": {
      "text/plain": [
       "[<matplotlib.lines.Line2D at 0x7f1ab0112910>]"
      ]
     },
     "execution_count": 21,
     "metadata": {},
     "output_type": "execute_result"
    },
    {
     "data": {
      "image/png": "[encoded data removed]",
      "text/plain": [
       "<Figure size 640x480 with 1 Axes>"
      ]
     },
     "metadata": {},
     "output_type": "display_data"
    }
   ],
   "source": [
    "# An x, y plot can be quickly generated using plt.plot()\n",
    "plt.plot(x, y)"
   ]
  },
  {
   "cell_type": "markdown",
   "metadata": {},
   "source": [
    "## Accessing Array Elements\n",
    "\n",
    "Okay, now for the good stuff...\n",
    "\n",
    "Numpy arrays are zero based, which means the first position is referenced as 0.  If you are a FORTRAN person or a MATLAB person, THIS WILL CAUSE YOU GREAT GRIEF!  You will be burned by the fact that the first element in an array is not `a[1]`.  It is `a[0]`.  You will accept it, eventually, and then you will find zero-based arrays to be more intuitive, maybe.\n",
    "\n",
    "Let's do some array slicing to see how all of this works."
   ]
  },
  {
   "cell_type": "code",
   "execution_count": 22,
   "metadata": {
    "execution": {
     "iopub.execute_input": "2024-11-20T18:07:05.035171Z",
     "iopub.status.busy": "2024-11-20T18:07:05.035008Z",
     "iopub.status.idle": "2024-11-20T18:07:05.038358Z",
     "shell.execute_reply": "2024-11-20T18:07:05.037887Z"
    }
   },
   "outputs": [
    {
     "name": "stdout",
     "output_type": "stream",
     "text": [
      "[50.         51.11111111 52.22222222 53.33333333 54.44444444 55.55555556\n",
      " 56.66666667 57.77777778 58.88888889 60.        ]\n"
     ]
    }
   ],
   "source": [
    "#create an array with 10 equally spaced values\n",
    "a = np.linspace(50, 60, 10)\n",
    "print(a)"
   ]
  },
  {
   "cell_type": "code",
   "execution_count": 23,
   "metadata": {
    "execution": {
     "iopub.execute_input": "2024-11-20T18:07:05.040251Z",
     "iopub.status.busy": "2024-11-20T18:07:05.039851Z",
     "iopub.status.idle": "2024-11-20T18:07:05.042748Z",
     "shell.execute_reply": "2024-11-20T18:07:05.042273Z"
    }
   },
   "outputs": [
    {
     "name": "stdout",
     "output_type": "stream",
     "text": [
      "The first value is:  50.0\n",
      "The last value is:  60.0\n"
     ]
    }
   ],
   "source": [
    "#we can access the first value as\n",
    "print('The first value is: ', a[0])\n",
    "\n",
    "#the last value is\n",
    "print('The last value is: ', a[9])"
   ]
  },
  {
   "cell_type": "markdown",
   "metadata": {},
   "source": [
    "Okay, this is all good. Now there is another cool part of numpy arrays, and that is that we can use negative index numbers.  So instead of a[9], we could also say a[-1]."
   ]
  },
  {
   "cell_type": "code",
   "execution_count": 24,
   "metadata": {
    "execution": {
     "iopub.execute_input": "2024-11-20T18:07:05.044662Z",
     "iopub.status.busy": "2024-11-20T18:07:05.044258Z",
     "iopub.status.idle": "2024-11-20T18:07:05.046938Z",
     "shell.execute_reply": "2024-11-20T18:07:05.046455Z"
    }
   },
   "outputs": [
    {
     "name": "stdout",
     "output_type": "stream",
     "text": [
      "The last value is:  60.0\n",
      "The second to last value is:  58.888888888888886\n"
     ]
    }
   ],
   "source": [
    "print('The last value is: ', a[-1])\n",
    "\n",
    "#hmm.  Does that mean?  yup.\n",
    "print('The second to last value is: ', a[-2])"
   ]
  },
  {
   "cell_type": "markdown",
   "metadata": {},
   "source": [
    "### Accessing Parts of an Array\n",
    "\n",
    "So how do we access parts of an array?  The formal syntax for a one dimensional array is:\n",
    "\n",
    "    array[idxstart : idxstop : idxstride]\n",
    "    \n",
    "where idxstart is the zero-based array position to start; idxstop is the zero-based index to go up to, BUT NOT INCLUDE, and idxstride is the number of values to skip.  The following are valid array slides:\n",
    "\n",
    "    a[:]    #all elements\n",
    "    a[0:-1] #all elements\n",
    "    a[2:10] #elements in the third position up to elements in the 10th position\n",
    "    a[::2]  #start in position 0 and include every other element\n",
    "    a[::-1] #start at the end and reverse the order\n",
    "\n",
    "The following are some examples.\n"
   ]
  },
  {
   "cell_type": "code",
   "execution_count": 25,
   "metadata": {
    "execution": {
     "iopub.execute_input": "2024-11-20T18:07:05.048680Z",
     "iopub.status.busy": "2024-11-20T18:07:05.048520Z",
     "iopub.status.idle": "2024-11-20T18:07:05.051907Z",
     "shell.execute_reply": "2024-11-20T18:07:05.051417Z"
    }
   },
   "outputs": [
    {
     "name": "stdout",
     "output_type": "stream",
     "text": [
      "a= [ 0  1  2  3  4  5  6  7  8  9 10 11 12 13 14 15 16 17 18 19 20 21 22 23\n",
      " 24 25 26 27 28 29]\n",
      "a[:10]:  [0 1 2 3 4 5 6 7 8 9]\n",
      "a[90:] [20 21 22 23 24 25 26 27 28 29]\n"
     ]
    }
   ],
   "source": [
    "#make a fresh array with 30 values\n",
    "a = np.arange(30)\n",
    "print('a=', a)\n",
    "\n",
    "#print values from the beginning up to but not including the 10th value\n",
    "print('a[:10]: ', a[:10])\n",
    "\n",
    "#or print the values from position 20 to the end\n",
    "print('a[90:]', a[20:])"
   ]
  },
  {
   "cell_type": "markdown",
   "metadata": {},
   "source": [
    "This is all good, but what if want to skip over values.  Then we can also enter a stride. "
   ]
  },
  {
   "cell_type": "code",
   "execution_count": 26,
   "metadata": {
    "execution": {
     "iopub.execute_input": "2024-11-20T18:07:05.053760Z",
     "iopub.status.busy": "2024-11-20T18:07:05.053466Z",
     "iopub.status.idle": "2024-11-20T18:07:05.055953Z",
     "shell.execute_reply": "2024-11-20T18:07:05.055469Z"
    }
   },
   "outputs": [
    {
     "name": "stdout",
     "output_type": "stream",
     "text": [
      "[ 0  2  4  6  8 10 12 14 16 18 20 22 24 26 28]\n"
     ]
    }
   ],
   "source": [
    "# Print every second value\n",
    "print(a[::2])"
   ]
  },
  {
   "cell_type": "code",
   "execution_count": 27,
   "metadata": {
    "execution": {
     "iopub.execute_input": "2024-11-20T18:07:05.057589Z",
     "iopub.status.busy": "2024-11-20T18:07:05.057448Z",
     "iopub.status.idle": "2024-11-20T18:07:05.060227Z",
     "shell.execute_reply": "2024-11-20T18:07:05.059776Z"
    }
   },
   "outputs": [
    {
     "name": "stdout",
     "output_type": "stream",
     "text": [
      "[ 5 10 15 20 25]\n"
     ]
    }
   ],
   "source": [
    "# Print every 5th value from 5 to 25\n",
    "print(a[5::5])"
   ]
  },
  {
   "cell_type": "markdown",
   "metadata": {},
   "source": [
    "**Note** the slice notation `5::5` above is actually shorthand for the built-in slice object"
   ]
  },
  {
   "cell_type": "code",
   "execution_count": 28,
   "metadata": {
    "execution": {
     "iopub.execute_input": "2024-11-20T18:07:05.061965Z",
     "iopub.status.busy": "2024-11-20T18:07:05.061668Z",
     "iopub.status.idle": "2024-11-20T18:07:05.065110Z",
     "shell.execute_reply": "2024-11-20T18:07:05.064713Z"
    }
   },
   "outputs": [
    {
     "data": {
      "text/plain": [
       "array([], dtype=int64)"
      ]
     },
     "execution_count": 28,
     "metadata": {},
     "output_type": "execute_result"
    }
   ],
   "source": [
    "a[slice(50, None, 5)]"
   ]
  },
  {
   "cell_type": "markdown",
   "metadata": {},
   "source": [
    "And this all works for multi-dimensional arrays as well.  So we can access parts of a multi-dimensional array, just separate the slice commands with a `','`"
   ]
  },
  {
   "cell_type": "code",
   "execution_count": 29,
   "metadata": {
    "execution": {
     "iopub.execute_input": "2024-11-20T18:07:05.066700Z",
     "iopub.status.busy": "2024-11-20T18:07:05.066547Z",
     "iopub.status.idle": "2024-11-20T18:07:05.069639Z",
     "shell.execute_reply": "2024-11-20T18:07:05.069226Z"
    }
   },
   "outputs": [
    {
     "name": "stdout",
     "output_type": "stream",
     "text": [
      "[[1 1 1 1 1 1 1 1 1 1]\n",
      " [1 1 1 1 1 1 1 1 1 1]\n",
      " [1 1 1 1 1 1 1 1 1 1]\n",
      " [1 1 1 1 1 1 1 1 1 1]\n",
      " [1 1 1 1 1 1 1 1 1 1]\n",
      " [1 1 1 1 1 1 1 1 1 1]\n",
      " [1 1 1 1 1 1 1 1 1 1]\n",
      " [1 1 1 1 1 1 1 1 1 1]\n",
      " [1 1 1 1 1 1 1 1 1 1]\n",
      " [1 1 1 1 1 1 1 1 1 1]]\n"
     ]
    }
   ],
   "source": [
    "a = np.ones((10, 10), dtype=int)\n",
    "print(a)"
   ]
  },
  {
   "cell_type": "code",
   "execution_count": 30,
   "metadata": {
    "execution": {
     "iopub.execute_input": "2024-11-20T18:07:05.071354Z",
     "iopub.status.busy": "2024-11-20T18:07:05.071198Z",
     "iopub.status.idle": "2024-11-20T18:07:05.074022Z",
     "shell.execute_reply": "2024-11-20T18:07:05.073561Z"
    }
   },
   "outputs": [
    {
     "name": "stdout",
     "output_type": "stream",
     "text": [
      "[[2 2 2 2 2 1 1 1 1 1]\n",
      " [2 2 2 2 2 1 1 1 1 1]\n",
      " [2 2 2 2 2 1 1 1 1 1]\n",
      " [2 2 2 2 2 1 1 1 1 1]\n",
      " [2 2 2 2 2 1 1 1 1 1]\n",
      " [1 1 1 1 1 1 1 1 1 1]\n",
      " [1 1 1 1 1 1 1 1 1 1]\n",
      " [1 1 1 1 1 1 1 1 1 1]\n",
      " [1 1 1 1 1 1 1 1 1 1]\n",
      " [1 1 1 1 1 1 1 1 1 1]]\n"
     ]
    }
   ],
   "source": [
    "#now lets set the upper left quadrant of a to 2\n",
    "a[:5, :5] = 2\n",
    "print(a)"
   ]
  },
  {
   "cell_type": "markdown",
   "metadata": {},
   "source": [
    "### Accessing Array Elements Using an Index List or Array\n",
    "\n",
    "If we know the array indices that we want to access, we can specify them in a list and pass that list to the array through the brackets."
   ]
  },
  {
   "cell_type": "code",
   "execution_count": 31,
   "metadata": {
    "execution": {
     "iopub.execute_input": "2024-11-20T18:07:05.075752Z",
     "iopub.status.busy": "2024-11-20T18:07:05.075597Z",
     "iopub.status.idle": "2024-11-20T18:07:05.083167Z",
     "shell.execute_reply": "2024-11-20T18:07:05.082646Z"
    }
   },
   "outputs": [
    {
     "name": "stdout",
     "output_type": "stream",
     "text": [
      "[0.05552331 0.6136986  0.99197612 0.98258147 0.83136933 0.50784349\n",
      " 0.89246751 0.22179223 0.32793346 0.07081663]\n",
      "values in 2, 3, and 7 positions [0.99197612 0.98258147 0.22179223]\n"
     ]
    }
   ],
   "source": [
    "a = np.random.random(10)\n",
    "print(a)\n",
    "print('values in 2, 3, and 7 positions', a[[2, 3, 7]])"
   ]
  },
  {
   "cell_type": "code",
   "execution_count": 32,
   "metadata": {
    "execution": {
     "iopub.execute_input": "2024-11-20T18:07:05.085103Z",
     "iopub.status.busy": "2024-11-20T18:07:05.084888Z",
     "iopub.status.idle": "2024-11-20T18:07:05.088356Z",
     "shell.execute_reply": "2024-11-20T18:07:05.087917Z"
    }
   },
   "outputs": [
    {
     "name": "stdout",
     "output_type": "stream",
     "text": [
      "[[1 0 0 0 0 0 0 0 0 0]\n",
      " [0 1 0 0 0 0 0 0 0 0]\n",
      " [0 0 1 0 0 0 0 0 0 0]\n",
      " [0 0 0 1 0 0 0 0 0 0]\n",
      " [0 0 0 0 1 0 0 0 0 0]\n",
      " [0 0 0 0 0 1 0 0 0 0]\n",
      " [0 0 0 0 0 0 1 0 0 0]\n",
      " [0 0 0 0 0 0 0 1 0 0]\n",
      " [0 0 0 0 0 0 0 0 1 0]\n",
      " [0 0 0 0 0 0 0 0 0 1]]\n"
     ]
    }
   ],
   "source": [
    "#this also works for multi dimensions\n",
    "icoord = np.arange(10)\n",
    "jcoord = icoord\n",
    "a = np.zeros((10, 10), dtype='int')\n",
    "a[icoord, jcoord] = 1\n",
    "print(a)  #hey, its the identity matrix!\n",
    "\n",
    "#what do you think?  Do you think numpy has an identity function?"
   ]
  },
  {
   "cell_type": "markdown",
   "metadata": {},
   "source": [
    "### Boolean indexing\n",
    "conditional statements can also be used to slice arrays\n",
    "what if we want to identify nodata in the Mt. St. Helens array, which have a value of 0, and convert them to nodata?"
   ]
  },
  {
   "cell_type": "code",
   "execution_count": 33,
   "metadata": {
    "execution": {
     "iopub.execute_input": "2024-11-20T18:07:05.090071Z",
     "iopub.status.busy": "2024-11-20T18:07:05.089910Z",
     "iopub.status.idle": "2024-11-20T18:07:05.093377Z",
     "shell.execute_reply": "2024-11-20T18:07:05.092881Z"
    }
   },
   "outputs": [
    {
     "data": {
      "text/plain": [
       "array([[  0.,   0.,   0., ...,   0.,   0.,   0.],\n",
       "       [  0.,   0.,   0., ...,   0.,   0.,   0.],\n",
       "       [867., 872., 881., ...,   0.,   0.,   0.],\n",
       "       ...,\n",
       "       [  0.,   0.,   0., ...,   0.,   0.,   0.],\n",
       "       [  0.,   0.,   0., ...,   0.,   0.,   0.],\n",
       "       [  0.,   0.,   0., ...,   0.,   0.,   0.]], dtype=float32)"
      ]
     },
     "execution_count": 33,
     "metadata": {},
     "output_type": "execute_result"
    }
   ],
   "source": [
    "before"
   ]
  },
  {
   "cell_type": "markdown",
   "metadata": {},
   "source": [
    "### comparing arrays"
   ]
  },
  {
   "cell_type": "markdown",
   "metadata": {},
   "source": [
    "[Value Comparisons](https://docs.python.org/3.9/reference/expressions.html?highlight=bitwise#value-comparisons) yield Boolean True/False results and include `==`,`<`,`<=`,`>=`,`!=` (the last being \"not equal\")"
   ]
  },
  {
   "cell_type": "code",
   "execution_count": 34,
   "metadata": {
    "execution": {
     "iopub.execute_input": "2024-11-20T18:07:05.095429Z",
     "iopub.status.busy": "2024-11-20T18:07:05.095067Z",
     "iopub.status.idle": "2024-11-20T18:07:05.098707Z",
     "shell.execute_reply": "2024-11-20T18:07:05.098237Z"
    }
   },
   "outputs": [
    {
     "data": {
      "text/plain": [
       "array([[ True,  True,  True, ...,  True,  True,  True],\n",
       "       [ True,  True,  True, ...,  True,  True,  True],\n",
       "       [False, False, False, ...,  True,  True,  True],\n",
       "       ...,\n",
       "       [ True,  True,  True, ...,  True,  True,  True],\n",
       "       [ True,  True,  True, ...,  True,  True,  True],\n",
       "       [ True,  True,  True, ...,  True,  True,  True]])"
      ]
     },
     "execution_count": 34,
     "metadata": {},
     "output_type": "execute_result"
    }
   ],
   "source": [
    "before==0 "
   ]
  },
  {
   "cell_type": "code",
   "execution_count": 35,
   "metadata": {
    "execution": {
     "iopub.execute_input": "2024-11-20T18:07:05.100434Z",
     "iopub.status.busy": "2024-11-20T18:07:05.100278Z",
     "iopub.status.idle": "2024-11-20T18:07:05.103665Z",
     "shell.execute_reply": "2024-11-20T18:07:05.103293Z"
    }
   },
   "outputs": [
    {
     "data": {
      "text/plain": [
       "array([[False, False, False, ..., False, False, False],\n",
       "       [False, False, False, ..., False, False, False],\n",
       "       [ True,  True,  True, ..., False, False, False],\n",
       "       ...,\n",
       "       [False, False, False, ..., False, False, False],\n",
       "       [False, False, False, ..., False, False, False],\n",
       "       [False, False, False, ..., False, False, False]])"
      ]
     },
     "execution_count": 35,
     "metadata": {},
     "output_type": "execute_result"
    }
   ],
   "source": [
    "before != 0"
   ]
  },
  {
   "cell_type": "code",
   "execution_count": 36,
   "metadata": {
    "execution": {
     "iopub.execute_input": "2024-11-20T18:07:05.105464Z",
     "iopub.status.busy": "2024-11-20T18:07:05.105163Z",
     "iopub.status.idle": "2024-11-20T18:07:05.107525Z",
     "shell.execute_reply": "2024-11-20T18:07:05.107136Z"
    }
   },
   "outputs": [],
   "source": [
    "# use a Boolean result to operate on an array\n",
    "before[before == 0] = np.nan"
   ]
  },
  {
   "cell_type": "code",
   "execution_count": 37,
   "metadata": {
    "execution": {
     "iopub.execute_input": "2024-11-20T18:07:05.109250Z",
     "iopub.status.busy": "2024-11-20T18:07:05.109006Z",
     "iopub.status.idle": "2024-11-20T18:07:05.112545Z",
     "shell.execute_reply": "2024-11-20T18:07:05.112069Z"
    }
   },
   "outputs": [
    {
     "data": {
      "text/plain": [
       "array([[ nan,  nan,  nan, ...,  nan,  nan,  nan],\n",
       "       [ nan,  nan,  nan, ...,  nan,  nan,  nan],\n",
       "       [867., 872., 881., ...,  nan,  nan,  nan],\n",
       "       ...,\n",
       "       [ nan,  nan,  nan, ...,  nan,  nan,  nan],\n",
       "       [ nan,  nan,  nan, ...,  nan,  nan,  nan],\n",
       "       [ nan,  nan,  nan, ...,  nan,  nan,  nan]], dtype=float32)"
      ]
     },
     "execution_count": 37,
     "metadata": {},
     "output_type": "execute_result"
    }
   ],
   "source": [
    "before"
   ]
  },
  {
   "cell_type": "markdown",
   "metadata": {},
   "source": [
    "or, what if we want to identify cells with elevations above 2000 meters?\n",
    "`before > 2000` returns `True` for each position in the array that meets this condition (yellow in plot below), `False` everywhere else (purple)"
   ]
  },
  {
   "cell_type": "code",
   "execution_count": 38,
   "metadata": {
    "execution": {
     "iopub.execute_input": "2024-11-20T18:07:05.114403Z",
     "iopub.status.busy": "2024-11-20T18:07:05.114010Z",
     "iopub.status.idle": "2024-11-20T18:07:05.197802Z",
     "shell.execute_reply": "2024-11-20T18:07:05.197295Z"
    }
   },
   "outputs": [
    {
     "data": {
      "text/plain": [
       "<matplotlib.image.AxesImage at 0x7f1ab0132a10>"
      ]
     },
     "execution_count": 38,
     "metadata": {},
     "output_type": "execute_result"
    },
    {
     "data": {
      "image/png": "[encoded data removed]",
      "text/plain": [
       "<Figure size 640x480 with 1 Axes>"
      ]
     },
     "metadata": {},
     "output_type": "display_data"
    }
   ],
   "source": [
    "plt.imshow(before > 2000)"
   ]
  },
  {
   "cell_type": "markdown",
   "metadata": {},
   "source": [
    "### this can be applied, element-by-element to entire arrays"
   ]
  },
  {
   "cell_type": "code",
   "execution_count": 39,
   "metadata": {
    "execution": {
     "iopub.execute_input": "2024-11-20T18:07:05.199988Z",
     "iopub.status.busy": "2024-11-20T18:07:05.199691Z",
     "iopub.status.idle": "2024-11-20T18:07:05.202575Z",
     "shell.execute_reply": "2024-11-20T18:07:05.202100Z"
    }
   },
   "outputs": [],
   "source": [
    "a = np.random.random((5,5))\n",
    "b = a.copy()\n",
    "c = b.copy() \n",
    "c[0,0] = 99 # tweak a single entry in c"
   ]
  },
  {
   "cell_type": "code",
   "execution_count": 40,
   "metadata": {
    "execution": {
     "iopub.execute_input": "2024-11-20T18:07:05.204273Z",
     "iopub.status.busy": "2024-11-20T18:07:05.204107Z",
     "iopub.status.idle": "2024-11-20T18:07:05.207678Z",
     "shell.execute_reply": "2024-11-20T18:07:05.207277Z"
    }
   },
   "outputs": [
    {
     "data": {
      "text/plain": [
       "array([[ True,  True,  True,  True,  True],\n",
       "       [ True,  True,  True,  True,  True],\n",
       "       [ True,  True,  True,  True,  True],\n",
       "       [ True,  True,  True,  True,  True],\n",
       "       [ True,  True,  True,  True,  True]])"
      ]
     },
     "execution_count": 40,
     "metadata": {},
     "output_type": "execute_result"
    }
   ],
   "source": [
    "a==b"
   ]
  },
  {
   "cell_type": "code",
   "execution_count": 41,
   "metadata": {
    "execution": {
     "iopub.execute_input": "2024-11-20T18:07:05.209683Z",
     "iopub.status.busy": "2024-11-20T18:07:05.209265Z",
     "iopub.status.idle": "2024-11-20T18:07:05.212708Z",
     "shell.execute_reply": "2024-11-20T18:07:05.212303Z"
    }
   },
   "outputs": [
    {
     "data": {
      "text/plain": [
       "array([[False,  True,  True,  True,  True],\n",
       "       [ True,  True,  True,  True,  True],\n",
       "       [ True,  True,  True,  True,  True],\n",
       "       [ True,  True,  True,  True,  True],\n",
       "       [ True,  True,  True,  True,  True]])"
      ]
     },
     "execution_count": 41,
     "metadata": {},
     "output_type": "execute_result"
    }
   ],
   "source": [
    "b==c"
   ]
  },
  {
   "cell_type": "code",
   "execution_count": 42,
   "metadata": {
    "execution": {
     "iopub.execute_input": "2024-11-20T18:07:05.214506Z",
     "iopub.status.busy": "2024-11-20T18:07:05.214147Z",
     "iopub.status.idle": "2024-11-20T18:07:05.217521Z",
     "shell.execute_reply": "2024-11-20T18:07:05.217034Z"
    }
   },
   "outputs": [
    {
     "data": {
      "text/plain": [
       "(True, False)"
      ]
     },
     "execution_count": 42,
     "metadata": {},
     "output_type": "execute_result"
    }
   ],
   "source": [
    "# are they the same shape and have all the xam\n",
    "np.array_equal(a, b), np.array_equal(b,c)"
   ]
  },
  {
   "cell_type": "markdown",
   "metadata": {},
   "source": [
    "### Logical operations: `any` and `all`"
   ]
  },
  {
   "cell_type": "code",
   "execution_count": 43,
   "metadata": {
    "execution": {
     "iopub.execute_input": "2024-11-20T18:07:05.219220Z",
     "iopub.status.busy": "2024-11-20T18:07:05.219059Z",
     "iopub.status.idle": "2024-11-20T18:07:05.222422Z",
     "shell.execute_reply": "2024-11-20T18:07:05.221944Z"
    }
   },
   "outputs": [
    {
     "data": {
      "text/plain": [
       "(np.True_, np.False_)"
      ]
     },
     "execution_count": 43,
     "metadata": {},
     "output_type": "execute_result"
    }
   ],
   "source": [
    "np.any(a==c), np.all(a==c)"
   ]
  },
  {
   "cell_type": "markdown",
   "metadata": {},
   "source": [
    "### [Bitwise operations](https://docs.python.org/3.9/reference/expressions.html?highlight=bitwise#binary-bitwise-operations) are required to compare Boolean (and other binary) arrays and include \"and\" `&` and \"or\" `|`. "
   ]
  },
  {
   "cell_type": "code",
   "execution_count": 44,
   "metadata": {
    "execution": {
     "iopub.execute_input": "2024-11-20T18:07:05.224527Z",
     "iopub.status.busy": "2024-11-20T18:07:05.223994Z",
     "iopub.status.idle": "2024-11-20T18:07:05.226931Z",
     "shell.execute_reply": "2024-11-20T18:07:05.226454Z"
    }
   },
   "outputs": [],
   "source": [
    "# compare two binary arrays\n",
    "a=np.random.random((5,5))\n",
    "little = a<.2\n",
    "big = a>.6"
   ]
  },
  {
   "cell_type": "code",
   "execution_count": 45,
   "metadata": {
    "execution": {
     "iopub.execute_input": "2024-11-20T18:07:05.228817Z",
     "iopub.status.busy": "2024-11-20T18:07:05.228519Z",
     "iopub.status.idle": "2024-11-20T18:07:05.231683Z",
     "shell.execute_reply": "2024-11-20T18:07:05.231233Z"
    }
   },
   "outputs": [
    {
     "data": {
      "text/plain": [
       "array([[False,  True, False, False,  True],\n",
       "       [ True, False,  True, False, False],\n",
       "       [False, False,  True, False, False],\n",
       "       [False, False, False, False, False],\n",
       "       [False, False, False,  True,  True]])"
      ]
     },
     "execution_count": 45,
     "metadata": {},
     "output_type": "execute_result"
    }
   ],
   "source": [
    "little"
   ]
  },
  {
   "cell_type": "code",
   "execution_count": 46,
   "metadata": {
    "execution": {
     "iopub.execute_input": "2024-11-20T18:07:05.233290Z",
     "iopub.status.busy": "2024-11-20T18:07:05.233133Z",
     "iopub.status.idle": "2024-11-20T18:07:05.236419Z",
     "shell.execute_reply": "2024-11-20T18:07:05.235997Z"
    }
   },
   "outputs": [
    {
     "data": {
      "text/plain": [
       "array([[ True, False, False,  True, False],\n",
       "       [False, False, False, False,  True],\n",
       "       [ True,  True, False,  True, False],\n",
       "       [False, False, False, False,  True],\n",
       "       [ True,  True,  True, False, False]])"
      ]
     },
     "execution_count": 46,
     "metadata": {},
     "output_type": "execute_result"
    }
   ],
   "source": [
    "big"
   ]
  },
  {
   "cell_type": "code",
   "execution_count": 47,
   "metadata": {
    "execution": {
     "iopub.execute_input": "2024-11-20T18:07:05.238033Z",
     "iopub.status.busy": "2024-11-20T18:07:05.237882Z",
     "iopub.status.idle": "2024-11-20T18:07:05.241216Z",
     "shell.execute_reply": "2024-11-20T18:07:05.240717Z"
    }
   },
   "outputs": [
    {
     "data": {
      "text/plain": [
       "array([[False, False, False, False, False],\n",
       "       [False, False, False, False, False],\n",
       "       [False, False, False, False, False],\n",
       "       [False, False, False, False, False],\n",
       "       [False, False, False, False, False]])"
      ]
     },
     "execution_count": 47,
     "metadata": {},
     "output_type": "execute_result"
    }
   ],
   "source": [
    "little & big # can't be both, right?"
   ]
  },
  {
   "cell_type": "code",
   "execution_count": 48,
   "metadata": {
    "execution": {
     "iopub.execute_input": "2024-11-20T18:07:05.243123Z",
     "iopub.status.busy": "2024-11-20T18:07:05.242753Z",
     "iopub.status.idle": "2024-11-20T18:07:05.246097Z",
     "shell.execute_reply": "2024-11-20T18:07:05.245602Z"
    }
   },
   "outputs": [
    {
     "data": {
      "text/plain": [
       "array([[ True,  True, False,  True,  True],\n",
       "       [ True, False,  True, False,  True],\n",
       "       [ True,  True,  True,  True, False],\n",
       "       [False, False, False, False,  True],\n",
       "       [ True,  True,  True,  True,  True]])"
      ]
     },
     "execution_count": 48,
     "metadata": {},
     "output_type": "execute_result"
    }
   ],
   "source": [
    "little | big"
   ]
  },
  {
   "cell_type": "code",
   "execution_count": 49,
   "metadata": {
    "execution": {
     "iopub.execute_input": "2024-11-20T18:07:05.247971Z",
     "iopub.status.busy": "2024-11-20T18:07:05.247587Z",
     "iopub.status.idle": "2024-11-20T18:07:05.251141Z",
     "shell.execute_reply": "2024-11-20T18:07:05.250740Z"
    }
   },
   "outputs": [
    {
     "data": {
      "text/plain": [
       "array([[0.        , 0.        , 0.51924184, 0.        , 0.        ],\n",
       "       [0.        , 0.34033311, 0.        , 0.21242771, 0.        ],\n",
       "       [0.        , 0.        , 0.        , 0.        , 0.42340553],\n",
       "       [0.31562657, 0.41408363, 0.21026343, 0.25267066, 0.        ],\n",
       "       [0.        , 0.        , 0.        , 0.        , 0.        ]])"
      ]
     },
     "execution_count": 49,
     "metadata": {},
     "output_type": "execute_result"
    }
   ],
   "source": [
    "a[little | big] = 0\n",
    "a"
   ]
  },
  {
   "cell_type": "markdown",
   "metadata": {},
   "source": [
    ">pro tip: If you stack the comparison together with bitwise comparisons, you need to wrap those in (). This may seem abstract but will be important soon. Like really soon."
   ]
  },
  {
   "cell_type": "code",
   "execution_count": 50,
   "metadata": {
    "execution": {
     "iopub.execute_input": "2024-11-20T18:07:05.253000Z",
     "iopub.status.busy": "2024-11-20T18:07:05.252650Z",
     "iopub.status.idle": "2024-11-20T18:07:05.256276Z",
     "shell.execute_reply": "2024-11-20T18:07:05.255772Z"
    }
   },
   "outputs": [
    {
     "data": {
      "text/plain": [
       "array([[0.        , 0.        , 0.51924184, 0.        , 0.        ],\n",
       "       [0.        , 9.        , 0.        , 0.21242771, 0.        ],\n",
       "       [0.        , 0.        , 0.        , 0.        , 9.        ],\n",
       "       [9.        , 9.        , 0.21026343, 0.25267066, 0.        ],\n",
       "       [0.        , 0.        , 0.        , 0.        , 0.        ]])"
      ]
     },
     "execution_count": 50,
     "metadata": {},
     "output_type": "execute_result"
    }
   ],
   "source": [
    "a[(a>.3) & (a<.5)] = 9\n",
    "a"
   ]
  },
  {
   "cell_type": "markdown",
   "metadata": {},
   "source": [
    "### there are times when it's useful to have a list of indices meeting some condition. [`np.where`](https://numpy.org/doc/stable/reference/generated/numpy.where.html) will hook you up. (also check out [`nonzero`](https://numpy.org/doc/stable/reference/generated/numpy.nonzero.html) and [`argwhere`](https://numpy.org/doc/stable/reference/generated/numpy.argwhere.html) for some nuanced options)"
   ]
  },
  {
   "cell_type": "code",
   "execution_count": 51,
   "metadata": {
    "execution": {
     "iopub.execute_input": "2024-11-20T18:07:05.257988Z",
     "iopub.status.busy": "2024-11-20T18:07:05.257823Z",
     "iopub.status.idle": "2024-11-20T18:07:05.261415Z",
     "shell.execute_reply": "2024-11-20T18:07:05.261011Z"
    }
   },
   "outputs": [
    {
     "data": {
      "text/plain": [
       "array([[0.67202143, 0.55114862, 0.40590377],\n",
       "       [0.30715284, 0.79999231, 0.71355555],\n",
       "       [0.84720341, 0.37543035, 0.40020747]])"
      ]
     },
     "execution_count": 51,
     "metadata": {},
     "output_type": "execute_result"
    }
   ],
   "source": [
    "a = np.random.random((3,3))\n",
    "a"
   ]
  },
  {
   "cell_type": "code",
   "execution_count": 52,
   "metadata": {
    "execution": {
     "iopub.execute_input": "2024-11-20T18:07:05.263061Z",
     "iopub.status.busy": "2024-11-20T18:07:05.262908Z",
     "iopub.status.idle": "2024-11-20T18:07:05.266372Z",
     "shell.execute_reply": "2024-11-20T18:07:05.265980Z"
    }
   },
   "outputs": [
    {
     "data": {
      "text/plain": [
       "(array([0, 1, 2, 2]), array([2, 0, 1, 2]))"
      ]
     },
     "execution_count": 52,
     "metadata": {},
     "output_type": "execute_result"
    }
   ],
   "source": [
    "idx = np.where(a<0.5)\n",
    "idx"
   ]
  },
  {
   "cell_type": "code",
   "execution_count": 53,
   "metadata": {
    "execution": {
     "iopub.execute_input": "2024-11-20T18:07:05.268189Z",
     "iopub.status.busy": "2024-11-20T18:07:05.267785Z",
     "iopub.status.idle": "2024-11-20T18:07:05.271170Z",
     "shell.execute_reply": "2024-11-20T18:07:05.270762Z"
    }
   },
   "outputs": [
    {
     "data": {
      "text/plain": [
       "array([[0.67202143, 0.55114862, 0.40590377],\n",
       "       [0.30715284, 0.79999231, 0.71355555],\n",
       "       [0.84720341, 0.37543035, 0.40020747]])"
      ]
     },
     "execution_count": 53,
     "metadata": {},
     "output_type": "execute_result"
    }
   ],
   "source": [
    "a"
   ]
  },
  {
   "cell_type": "code",
   "execution_count": 54,
   "metadata": {
    "execution": {
     "iopub.execute_input": "2024-11-20T18:07:05.272809Z",
     "iopub.status.busy": "2024-11-20T18:07:05.272654Z",
     "iopub.status.idle": "2024-11-20T18:07:05.276137Z",
     "shell.execute_reply": "2024-11-20T18:07:05.275709Z"
    }
   },
   "outputs": [
    {
     "data": {
      "text/plain": [
       "array([0.40590377, 0.30715284, 0.37543035, 0.40020747])"
      ]
     },
     "execution_count": 54,
     "metadata": {},
     "output_type": "execute_result"
    }
   ],
   "source": [
    "a[idx]"
   ]
  },
  {
   "cell_type": "markdown",
   "metadata": {},
   "source": [
    "## TEST YOUR SKILLS #1\n",
    "Let's calculate the amount of material lost from Mt. St. Helens in the 1980 eruption. We have the before and after elevation arrays in the data folder noted in the next cell. We will need to load them up. \n",
    "- The before and after files are the same dimensions, but they have some zeros around the edges indicating \"nodata\" values. \n",
    "- Check to see - are the zeros in the same place in both arrays? (`np.where` and friends can help with that). \n",
    "- If there are no-data zeros in one array at a different location than the other array, what happens if you look at the difference?\n",
    "- assume each pixel is 25 x 25 feet and the elevation arrays are provided in meters to calculate a volumetric difference between before and after arrays."
   ]
  },
  {
   "cell_type": "code",
   "execution_count": 55,
   "metadata": {
    "execution": {
     "iopub.execute_input": "2024-11-20T18:07:05.277755Z",
     "iopub.status.busy": "2024-11-20T18:07:05.277604Z",
     "iopub.status.idle": "2024-11-20T18:07:05.279852Z",
     "shell.execute_reply": "2024-11-20T18:07:05.279469Z"
    }
   },
   "outputs": [],
   "source": [
    "before_file = datapath / 'mt_st_helens_before.dat'\n",
    "after_file = datapath / 'mt_st_helens_after.dat'"
   ]
  },
  {
   "cell_type": "code",
   "execution_count": null,
   "metadata": {},
   "outputs": [],
   "source": []
  },
  {
   "cell_type": "code",
   "execution_count": null,
   "metadata": {},
   "outputs": [],
   "source": []
  },
  {
   "cell_type": "code",
   "execution_count": null,
   "metadata": {},
   "outputs": [],
   "source": []
  },
  {
   "cell_type": "code",
   "execution_count": null,
   "metadata": {},
   "outputs": [],
   "source": []
  },
  {
   "cell_type": "code",
   "execution_count": null,
   "metadata": {},
   "outputs": [],
   "source": []
  },
  {
   "cell_type": "code",
   "execution_count": null,
   "metadata": {},
   "outputs": [],
   "source": []
  },
  {
   "cell_type": "code",
   "execution_count": null,
   "metadata": {},
   "outputs": [],
   "source": []
  },
  {
   "cell_type": "markdown",
   "metadata": {},
   "source": [
    "## Views vs. Copies\n",
    "***\n",
    "**Slice indexing returns a view** That means if you change the slice, you change the original 🤔 "
   ]
  },
  {
   "cell_type": "code",
   "execution_count": 56,
   "metadata": {
    "execution": {
     "iopub.execute_input": "2024-11-20T18:07:05.281660Z",
     "iopub.status.busy": "2024-11-20T18:07:05.281517Z",
     "iopub.status.idle": "2024-11-20T18:07:05.284636Z",
     "shell.execute_reply": "2024-11-20T18:07:05.284200Z"
    }
   },
   "outputs": [
    {
     "data": {
      "text/plain": [
       "array([[0.67202143, 0.55114862, 0.40590377],\n",
       "       [0.30715284, 0.79999231, 0.71355555],\n",
       "       [0.84720341, 0.37543035, 0.40020747]])"
      ]
     },
     "execution_count": 56,
     "metadata": {},
     "output_type": "execute_result"
    }
   ],
   "source": [
    "a"
   ]
  },
  {
   "cell_type": "code",
   "execution_count": 57,
   "metadata": {
    "execution": {
     "iopub.execute_input": "2024-11-20T18:07:05.286415Z",
     "iopub.status.busy": "2024-11-20T18:07:05.286114Z",
     "iopub.status.idle": "2024-11-20T18:07:05.288667Z",
     "shell.execute_reply": "2024-11-20T18:07:05.288180Z"
    }
   },
   "outputs": [],
   "source": [
    "b = a[:2, :2]\n",
    "b[1,1] = 10"
   ]
  },
  {
   "cell_type": "code",
   "execution_count": 58,
   "metadata": {
    "execution": {
     "iopub.execute_input": "2024-11-20T18:07:05.290507Z",
     "iopub.status.busy": "2024-11-20T18:07:05.290137Z",
     "iopub.status.idle": "2024-11-20T18:07:05.293488Z",
     "shell.execute_reply": "2024-11-20T18:07:05.292987Z"
    }
   },
   "outputs": [
    {
     "data": {
      "text/plain": [
       "array([[ 0.67202143,  0.55114862],\n",
       "       [ 0.30715284, 10.        ]])"
      ]
     },
     "execution_count": 58,
     "metadata": {},
     "output_type": "execute_result"
    }
   ],
   "source": [
    "b"
   ]
  },
  {
   "cell_type": "code",
   "execution_count": 59,
   "metadata": {
    "execution": {
     "iopub.execute_input": "2024-11-20T18:07:05.295286Z",
     "iopub.status.busy": "2024-11-20T18:07:05.294981Z",
     "iopub.status.idle": "2024-11-20T18:07:05.298323Z",
     "shell.execute_reply": "2024-11-20T18:07:05.297916Z"
    }
   },
   "outputs": [
    {
     "data": {
      "text/plain": [
       "array([[ 0.67202143,  0.55114862,  0.40590377],\n",
       "       [ 0.30715284, 10.        ,  0.71355555],\n",
       "       [ 0.84720341,  0.37543035,  0.40020747]])"
      ]
     },
     "execution_count": 59,
     "metadata": {},
     "output_type": "execute_result"
    }
   ],
   "source": [
    "a"
   ]
  },
  {
   "cell_type": "markdown",
   "metadata": {},
   "source": [
    "### how can this happen??? `id()` returns the memory location a value is stored in within the computer"
   ]
  },
  {
   "cell_type": "markdown",
   "metadata": {},
   "source": [
    "## first check out where `a` and `b` are located"
   ]
  },
  {
   "cell_type": "code",
   "execution_count": 60,
   "metadata": {
    "execution": {
     "iopub.execute_input": "2024-11-20T18:07:05.299947Z",
     "iopub.status.busy": "2024-11-20T18:07:05.299806Z",
     "iopub.status.idle": "2024-11-20T18:07:05.303049Z",
     "shell.execute_reply": "2024-11-20T18:07:05.302534Z"
    }
   },
   "outputs": [
    {
     "data": {
      "text/plain": [
       "(139752473961712, 139752474087216)"
      ]
     },
     "execution_count": 60,
     "metadata": {},
     "output_type": "execute_result"
    }
   ],
   "source": [
    "id(a), id(b)"
   ]
  },
  {
   "cell_type": "markdown",
   "metadata": {},
   "source": [
    "### ok, but what about the actual data?"
   ]
  },
  {
   "cell_type": "code",
   "execution_count": 61,
   "metadata": {
    "execution": {
     "iopub.execute_input": "2024-11-20T18:07:05.304974Z",
     "iopub.status.busy": "2024-11-20T18:07:05.304608Z",
     "iopub.status.idle": "2024-11-20T18:07:05.307978Z",
     "shell.execute_reply": "2024-11-20T18:07:05.307483Z"
    }
   },
   "outputs": [
    {
     "data": {
      "text/plain": [
       "(139752474117424, 139752474117424)"
      ]
     },
     "execution_count": 61,
     "metadata": {},
     "output_type": "execute_result"
    }
   ],
   "source": [
    "id(a[1,1]), id(b[1,1])"
   ]
  },
  {
   "cell_type": "code",
   "execution_count": 62,
   "metadata": {
    "execution": {
     "iopub.execute_input": "2024-11-20T18:07:05.309842Z",
     "iopub.status.busy": "2024-11-20T18:07:05.309488Z",
     "iopub.status.idle": "2024-11-20T18:07:05.312800Z",
     "shell.execute_reply": "2024-11-20T18:07:05.312305Z"
    }
   },
   "outputs": [
    {
     "data": {
      "text/plain": [
       "(139752474117552, 139752474117552)"
      ]
     },
     "execution_count": 62,
     "metadata": {},
     "output_type": "execute_result"
    }
   ],
   "source": [
    "id(a[1,0]), id(b[1,0])"
   ]
  },
  {
   "cell_type": "markdown",
   "metadata": {},
   "source": [
    "**Array and Boolean indexing returns a copy**. Operations on the copy do not affect the original array."
   ]
  },
  {
   "cell_type": "code",
   "execution_count": 63,
   "metadata": {
    "execution": {
     "iopub.execute_input": "2024-11-20T18:07:05.314860Z",
     "iopub.status.busy": "2024-11-20T18:07:05.314390Z",
     "iopub.status.idle": "2024-11-20T18:07:05.317959Z",
     "shell.execute_reply": "2024-11-20T18:07:05.317471Z"
    }
   },
   "outputs": [
    {
     "data": {
      "text/plain": [
       "[0, 1]"
      ]
     },
     "execution_count": 63,
     "metadata": {},
     "output_type": "execute_result"
    }
   ],
   "source": [
    "list(range(2))"
   ]
  },
  {
   "cell_type": "code",
   "execution_count": 64,
   "metadata": {
    "execution": {
     "iopub.execute_input": "2024-11-20T18:07:05.319814Z",
     "iopub.status.busy": "2024-11-20T18:07:05.319522Z",
     "iopub.status.idle": "2024-11-20T18:07:05.322918Z",
     "shell.execute_reply": "2024-11-20T18:07:05.322451Z"
    }
   },
   "outputs": [
    {
     "data": {
      "text/plain": [
       "array([ 0.67202143,  0.55114862,  0.40590377, 10.        ,  0.71355555,\n",
       "        0.84720341,  0.40020747])"
      ]
     },
     "execution_count": 64,
     "metadata": {},
     "output_type": "execute_result"
    }
   ],
   "source": [
    "c = a[a>.4]\n",
    "c"
   ]
  },
  {
   "cell_type": "code",
   "execution_count": 65,
   "metadata": {
    "execution": {
     "iopub.execute_input": "2024-11-20T18:07:05.324676Z",
     "iopub.status.busy": "2024-11-20T18:07:05.324385Z",
     "iopub.status.idle": "2024-11-20T18:07:05.327695Z",
     "shell.execute_reply": "2024-11-20T18:07:05.327232Z"
    }
   },
   "outputs": [
    {
     "data": {
      "text/plain": [
       "array([ 0.67202143, 20.        ,  0.40590377, 10.        ,  0.71355555,\n",
       "        0.84720341,  0.40020747])"
      ]
     },
     "execution_count": 65,
     "metadata": {},
     "output_type": "execute_result"
    }
   ],
   "source": [
    "c[1] = 20\n",
    "c"
   ]
  },
  {
   "cell_type": "code",
   "execution_count": 66,
   "metadata": {
    "execution": {
     "iopub.execute_input": "2024-11-20T18:07:05.329460Z",
     "iopub.status.busy": "2024-11-20T18:07:05.329170Z",
     "iopub.status.idle": "2024-11-20T18:07:05.332363Z",
     "shell.execute_reply": "2024-11-20T18:07:05.331949Z"
    }
   },
   "outputs": [
    {
     "data": {
      "text/plain": [
       "array([[ 0.67202143,  0.55114862,  0.40590377],\n",
       "       [ 0.30715284, 10.        ,  0.71355555],\n",
       "       [ 0.84720341,  0.37543035,  0.40020747]])"
      ]
     },
     "execution_count": 66,
     "metadata": {},
     "output_type": "execute_result"
    }
   ],
   "source": [
    "a"
   ]
  },
  {
   "cell_type": "markdown",
   "metadata": {},
   "source": [
    "### again, we can look at these memory addresses to confirm what's happening"
   ]
  },
  {
   "cell_type": "code",
   "execution_count": 67,
   "metadata": {
    "execution": {
     "iopub.execute_input": "2024-11-20T18:07:05.334025Z",
     "iopub.status.busy": "2024-11-20T18:07:05.333869Z",
     "iopub.status.idle": "2024-11-20T18:07:05.337209Z",
     "shell.execute_reply": "2024-11-20T18:07:05.336723Z"
    }
   },
   "outputs": [
    {
     "data": {
      "text/plain": [
       "(139752473961712, 139752474090768)"
      ]
     },
     "execution_count": 67,
     "metadata": {},
     "output_type": "execute_result"
    }
   ],
   "source": [
    "id(a), id(c)"
   ]
  },
  {
   "cell_type": "code",
   "execution_count": 68,
   "metadata": {
    "execution": {
     "iopub.execute_input": "2024-11-20T18:07:05.339158Z",
     "iopub.status.busy": "2024-11-20T18:07:05.338774Z",
     "iopub.status.idle": "2024-11-20T18:07:05.342304Z",
     "shell.execute_reply": "2024-11-20T18:07:05.341898Z"
    }
   },
   "outputs": [
    {
     "data": {
      "text/plain": [
       "(139752474085584, 139752474117840)"
      ]
     },
     "execution_count": 68,
     "metadata": {},
     "output_type": "execute_result"
    }
   ],
   "source": [
    "id(a[1]), id(c[1])"
   ]
  },
  {
   "cell_type": "markdown",
   "metadata": {},
   "source": [
    "## Reshaping and Stacking Arrays\n",
    "\n",
    "Reshaping of arrays is easy to do with the `np.reshape` function.  The function works by taking an array and desired shape, and then returning a new array with that shape.  Note, however, that the requested shape must be consistent with the array that is passed in.  The syntax is:\n",
    "\n",
    "    np.reshape(a, (newshape))\n",
    "\n",
    "Arrays also have a reshape method, which means you can use the following form:\n",
    "\n",
    "    a.reshape( (newshape) )\n",
    "    \n",
    "Example follows."
   ]
  },
  {
   "cell_type": "code",
   "execution_count": 69,
   "metadata": {
    "execution": {
     "iopub.execute_input": "2024-11-20T18:07:05.344005Z",
     "iopub.status.busy": "2024-11-20T18:07:05.343844Z",
     "iopub.status.idle": "2024-11-20T18:07:05.346949Z",
     "shell.execute_reply": "2024-11-20T18:07:05.346497Z"
    }
   },
   "outputs": [
    {
     "name": "stdout",
     "output_type": "stream",
     "text": [
      "a:  [0 1 2 3 4 5 6 7 8]\n",
      "b:  [[0 1 2]\n",
      " [3 4 5]\n",
      " [6 7 8]]\n"
     ]
    }
   ],
   "source": [
    "a = np.arange(9)\n",
    "print('a: ', a)\n",
    "b = np.reshape(a, (3,3))\n",
    "print('b: ', b)"
   ]
  },
  {
   "cell_type": "markdown",
   "metadata": {},
   "source": [
    "### just to hammer home to `view` vs. `copy` behavior, look at `a` and `b` more closely"
   ]
  },
  {
   "cell_type": "code",
   "execution_count": 70,
   "metadata": {
    "execution": {
     "iopub.execute_input": "2024-11-20T18:07:05.348597Z",
     "iopub.status.busy": "2024-11-20T18:07:05.348443Z",
     "iopub.status.idle": "2024-11-20T18:07:05.351602Z",
     "shell.execute_reply": "2024-11-20T18:07:05.351199Z"
    }
   },
   "outputs": [
    {
     "data": {
      "text/plain": [
       "array([0, 1, 2, 3, 4, 5, 6, 7, 8])"
      ]
     },
     "execution_count": 70,
     "metadata": {},
     "output_type": "execute_result"
    }
   ],
   "source": [
    "a"
   ]
  },
  {
   "cell_type": "code",
   "execution_count": 71,
   "metadata": {
    "execution": {
     "iopub.execute_input": "2024-11-20T18:07:05.353196Z",
     "iopub.status.busy": "2024-11-20T18:07:05.353045Z",
     "iopub.status.idle": "2024-11-20T18:07:05.356316Z",
     "shell.execute_reply": "2024-11-20T18:07:05.355896Z"
    }
   },
   "outputs": [
    {
     "data": {
      "text/plain": [
       "array([0, 1, 2, 3, 4, 5, 6, 7, 8])"
      ]
     },
     "execution_count": 71,
     "metadata": {},
     "output_type": "execute_result"
    }
   ],
   "source": [
    "b.base"
   ]
  },
  {
   "cell_type": "code",
   "execution_count": 72,
   "metadata": {
    "execution": {
     "iopub.execute_input": "2024-11-20T18:07:05.357906Z",
     "iopub.status.busy": "2024-11-20T18:07:05.357756Z",
     "iopub.status.idle": "2024-11-20T18:07:05.361017Z",
     "shell.execute_reply": "2024-11-20T18:07:05.360613Z"
    }
   },
   "outputs": [
    {
     "data": {
      "text/plain": [
       "array([[0, 1, 2],\n",
       "       [3, 4, 5],\n",
       "       [6, 7, 8]])"
      ]
     },
     "execution_count": 72,
     "metadata": {},
     "output_type": "execute_result"
    }
   ],
   "source": [
    "b"
   ]
  },
  {
   "cell_type": "code",
   "execution_count": 73,
   "metadata": {
    "execution": {
     "iopub.execute_input": "2024-11-20T18:07:05.362649Z",
     "iopub.status.busy": "2024-11-20T18:07:05.362497Z",
     "iopub.status.idle": "2024-11-20T18:07:05.364913Z",
     "shell.execute_reply": "2024-11-20T18:07:05.364512Z"
    }
   },
   "outputs": [],
   "source": [
    "b[1,1] = 999"
   ]
  },
  {
   "cell_type": "code",
   "execution_count": 74,
   "metadata": {
    "execution": {
     "iopub.execute_input": "2024-11-20T18:07:05.366609Z",
     "iopub.status.busy": "2024-11-20T18:07:05.366454Z",
     "iopub.status.idle": "2024-11-20T18:07:05.369591Z",
     "shell.execute_reply": "2024-11-20T18:07:05.369098Z"
    }
   },
   "outputs": [
    {
     "data": {
      "text/plain": [
       "array([  0,   1,   2,   3, 999,   5,   6,   7,   8])"
      ]
     },
     "execution_count": 74,
     "metadata": {},
     "output_type": "execute_result"
    }
   ],
   "source": [
    "a"
   ]
  },
  {
   "cell_type": "code",
   "execution_count": 75,
   "metadata": {
    "execution": {
     "iopub.execute_input": "2024-11-20T18:07:05.371528Z",
     "iopub.status.busy": "2024-11-20T18:07:05.371116Z",
     "iopub.status.idle": "2024-11-20T18:07:05.374334Z",
     "shell.execute_reply": "2024-11-20T18:07:05.373943Z"
    }
   },
   "outputs": [
    {
     "data": {
      "text/plain": [
       "array([[  0,   1,   2],\n",
       "       [  3, 999,   5],\n",
       "       [  6,   7,   8]])"
      ]
     },
     "execution_count": 75,
     "metadata": {},
     "output_type": "execute_result"
    }
   ],
   "source": [
    "b"
   ]
  },
  {
   "cell_type": "code",
   "execution_count": 76,
   "metadata": {
    "execution": {
     "iopub.execute_input": "2024-11-20T18:07:05.376162Z",
     "iopub.status.busy": "2024-11-20T18:07:05.375844Z",
     "iopub.status.idle": "2024-11-20T18:07:05.379337Z",
     "shell.execute_reply": "2024-11-20T18:07:05.378842Z"
    }
   },
   "outputs": [
    {
     "data": {
      "text/plain": [
       "(139752474117584, 139752474117584, 139752474117584)"
      ]
     },
     "execution_count": 76,
     "metadata": {},
     "output_type": "execute_result"
    }
   ],
   "source": [
    "id(a[1]), id(b[0,1]), id(b.base[1])"
   ]
  },
  {
   "cell_type": "markdown",
   "metadata": {},
   "source": [
    "## hstack and vstack\n",
    "\n",
    "hstack and vstack can be used to add columns to an array or rows to an array."
   ]
  },
  {
   "cell_type": "code",
   "execution_count": 77,
   "metadata": {
    "execution": {
     "iopub.execute_input": "2024-11-20T18:07:05.381383Z",
     "iopub.status.busy": "2024-11-20T18:07:05.380979Z",
     "iopub.status.idle": "2024-11-20T18:07:05.384731Z",
     "shell.execute_reply": "2024-11-20T18:07:05.384230Z"
    }
   },
   "outputs": [
    {
     "name": "stdout",
     "output_type": "stream",
     "text": [
      "[[0. 0. 0.]\n",
      " [0. 0. 0.]\n",
      " [0. 0. 0.]]\n",
      "[[0. 0. 0.]\n",
      " [0. 0. 0.]\n",
      " [0. 0. 0.]\n",
      " [2. 2. 2.]]\n",
      "The shape of b is  (4, 3)\n"
     ]
    }
   ],
   "source": [
    "#vstack example -- add a row to an array\n",
    "a = np.zeros((3, 3), dtype=float)\n",
    "print(a)\n",
    "b = np.vstack((a, np.array([2, 2, 2])))\n",
    "print(b)\n",
    "print('The shape of b is ', b.shape)"
   ]
  },
  {
   "cell_type": "markdown",
   "metadata": {},
   "source": [
    "## Flattening arrays\n",
    "oftentimes we need to flatten a 2D array to one dimension\n",
    "the `ndarray.flat` attribute provides a means of iterating over a numpy array in one-dimension"
   ]
  },
  {
   "cell_type": "code",
   "execution_count": 78,
   "metadata": {
    "execution": {
     "iopub.execute_input": "2024-11-20T18:07:05.386353Z",
     "iopub.status.busy": "2024-11-20T18:07:05.386199Z",
     "iopub.status.idle": "2024-11-20T18:07:05.389658Z",
     "shell.execute_reply": "2024-11-20T18:07:05.389249Z"
    }
   },
   "outputs": [
    {
     "data": {
      "text/plain": [
       "[np.float64(0.0),\n",
       " np.float64(0.0),\n",
       " np.float64(0.0),\n",
       " np.float64(0.0),\n",
       " np.float64(0.0),\n",
       " np.float64(0.0),\n",
       " np.float64(0.0),\n",
       " np.float64(0.0),\n",
       " np.float64(0.0),\n",
       " np.float64(2.0),\n",
       " np.float64(2.0),\n",
       " np.float64(2.0)]"
      ]
     },
     "execution_count": 78,
     "metadata": {},
     "output_type": "execute_result"
    }
   ],
   "source": [
    "[value for value in b.flat]"
   ]
  },
  {
   "cell_type": "markdown",
   "metadata": {},
   "source": [
    "if we need a 1D copy returned instead, we can use the `ndarray.flatten` method"
   ]
  },
  {
   "cell_type": "code",
   "execution_count": 79,
   "metadata": {
    "execution": {
     "iopub.execute_input": "2024-11-20T18:07:05.391316Z",
     "iopub.status.busy": "2024-11-20T18:07:05.391160Z",
     "iopub.status.idle": "2024-11-20T18:07:05.394500Z",
     "shell.execute_reply": "2024-11-20T18:07:05.394099Z"
    }
   },
   "outputs": [
    {
     "data": {
      "text/plain": [
       "array([0., 0., 0., 0., 0., 0., 0., 0., 0., 2., 2., 2.])"
      ]
     },
     "execution_count": 79,
     "metadata": {},
     "output_type": "execute_result"
    }
   ],
   "source": [
    "b.flatten()"
   ]
  },
  {
   "cell_type": "markdown",
   "metadata": {},
   "source": [
    "`.ravel()` returns a view instead of a copy when possible"
   ]
  },
  {
   "cell_type": "code",
   "execution_count": 80,
   "metadata": {
    "execution": {
     "iopub.execute_input": "2024-11-20T18:07:05.396142Z",
     "iopub.status.busy": "2024-11-20T18:07:05.395972Z",
     "iopub.status.idle": "2024-11-20T18:07:05.399400Z",
     "shell.execute_reply": "2024-11-20T18:07:05.398893Z"
    }
   },
   "outputs": [
    {
     "data": {
      "text/plain": [
       "array([[0., 4., 0.],\n",
       "       [0., 0., 0.],\n",
       "       [0., 0., 0.],\n",
       "       [2., 2., 2.]])"
      ]
     },
     "execution_count": 80,
     "metadata": {},
     "output_type": "execute_result"
    }
   ],
   "source": [
    "c = b.ravel()\n",
    "c[1] = 4\n",
    "b"
   ]
  },
  {
   "cell_type": "code",
   "execution_count": 81,
   "metadata": {
    "execution": {
     "iopub.execute_input": "2024-11-20T18:07:05.401339Z",
     "iopub.status.busy": "2024-11-20T18:07:05.400944Z",
     "iopub.status.idle": "2024-11-20T18:07:05.404095Z",
     "shell.execute_reply": "2024-11-20T18:07:05.403701Z"
    }
   },
   "outputs": [
    {
     "data": {
      "text/plain": [
       "array([0., 4., 0., 0., 0., 0., 0., 0., 0., 2., 2., 2.])"
      ]
     },
     "execution_count": 81,
     "metadata": {},
     "output_type": "execute_result"
    }
   ],
   "source": [
    "c"
   ]
  },
  {
   "cell_type": "markdown",
   "metadata": {},
   "source": [
    "## TEST YOUR SKILLS #2\n",
    "\n",
    "1. In an earlier exercise, you made x and y using the following lines of code.  Now use vstack to add another row to y that has the cosine of x.  Then plot them both on the same figure.\n",
    "- hint `plt.plot(x,y)` makes plots of arrays x and y"
   ]
  },
  {
   "cell_type": "code",
   "execution_count": 82,
   "metadata": {
    "execution": {
     "iopub.execute_input": "2024-11-20T18:07:05.405783Z",
     "iopub.status.busy": "2024-11-20T18:07:05.405624Z",
     "iopub.status.idle": "2024-11-20T18:07:05.408239Z",
     "shell.execute_reply": "2024-11-20T18:07:05.407812Z"
    }
   },
   "outputs": [],
   "source": [
    "x = np.linspace(0, 2*np.pi)    \n",
    "y = np.sin(x)"
   ]
  },
  {
   "cell_type": "code",
   "execution_count": null,
   "metadata": {},
   "outputs": [],
   "source": []
  },
  {
   "cell_type": "code",
   "execution_count": null,
   "metadata": {},
   "outputs": [],
   "source": []
  },
  {
   "cell_type": "code",
   "execution_count": null,
   "metadata": {},
   "outputs": [],
   "source": []
  },
  {
   "cell_type": "code",
   "execution_count": null,
   "metadata": {},
   "outputs": [],
   "source": []
  },
  {
   "cell_type": "code",
   "execution_count": null,
   "metadata": {},
   "outputs": [],
   "source": []
  },
  {
   "cell_type": "code",
   "execution_count": null,
   "metadata": {},
   "outputs": [],
   "source": []
  },
  {
   "cell_type": "markdown",
   "metadata": {},
   "source": [
    "## Masking an Array\n",
    "\n",
    "Masking is the process of performing array operations on a specific set of cells, called a mask.  A mask is a logical array with the same shape as the array it is applied to.  Here is an example. Also, note that `np.where` contains arguments that can accomplish a similar result."
   ]
  },
  {
   "cell_type": "code",
   "execution_count": 83,
   "metadata": {
    "execution": {
     "iopub.execute_input": "2024-11-20T18:07:05.410256Z",
     "iopub.status.busy": "2024-11-20T18:07:05.409873Z",
     "iopub.status.idle": "2024-11-20T18:07:05.412958Z",
     "shell.execute_reply": "2024-11-20T18:07:05.412503Z"
    }
   },
   "outputs": [
    {
     "name": "stdout",
     "output_type": "stream",
     "text": [
      "a:\n",
      " [[ 0  1  2  3  4  5  6  7  8  9]\n",
      " [10 11 12 13 14 15 16 17 18 19]\n",
      " [20 21 22 23 24 25 26 27 28 29]\n",
      " [30 31 32 33 34 35 36 37 38 39]\n",
      " [40 41 42 43 44 45 46 47 48 49]\n",
      " [50 51 52 53 54 55 56 57 58 59]\n",
      " [60 61 62 63 64 65 66 67 68 69]\n",
      " [70 71 72 73 74 75 76 77 78 79]\n",
      " [80 81 82 83 84 85 86 87 88 89]\n",
      " [90 91 92 93 94 95 96 97 98 99]]\n"
     ]
    }
   ],
   "source": [
    "#create a 10 by 10 array\n",
    "a = np.arange(100).reshape((10,10))\n",
    "print('a:\\n', a)"
   ]
  },
  {
   "cell_type": "code",
   "execution_count": 84,
   "metadata": {
    "execution": {
     "iopub.execute_input": "2024-11-20T18:07:05.414553Z",
     "iopub.status.busy": "2024-11-20T18:07:05.414410Z",
     "iopub.status.idle": "2024-11-20T18:07:05.417402Z",
     "shell.execute_reply": "2024-11-20T18:07:05.416922Z"
    }
   },
   "outputs": [
    {
     "name": "stdout",
     "output_type": "stream",
     "text": [
      "mask array for a == 1:\n",
      " [[False  True False False False False False False False False]\n",
      " [False False False False False False False False False False]\n",
      " [False False False False False False False False False False]\n",
      " [False False False False False False False False False False]\n",
      " [False False False False False False False False False False]\n",
      " [False False False False False False False False False False]\n",
      " [False False False False False False False False False False]\n",
      " [False False False False False False False False False False]\n",
      " [False False False False False False False False False False]\n",
      " [False False False False False False False False False False]]\n"
     ]
    }
   ],
   "source": [
    "print('mask array for a == 1:\\n', a[:, :] == 1)"
   ]
  },
  {
   "cell_type": "code",
   "execution_count": 85,
   "metadata": {
    "execution": {
     "iopub.execute_input": "2024-11-20T18:07:05.419219Z",
     "iopub.status.busy": "2024-11-20T18:07:05.418975Z",
     "iopub.status.idle": "2024-11-20T18:07:05.422374Z",
     "shell.execute_reply": "2024-11-20T18:07:05.421882Z"
    }
   },
   "outputs": [
    {
     "name": "stdout",
     "output_type": "stream",
     "text": [
      "[[False False False False False False False False False False]\n",
      " [False False False False False False False False False False]\n",
      " [False False False False False False False False False False]\n",
      " [False False False False False False False False False False]\n",
      " [False False False False False False False False False False]\n",
      " [False False False False False False False False False False]\n",
      " [False False False False False False False False False False]\n",
      " [False False False False False  True  True  True  True  True]\n",
      " [ True  True  True  True  True  True  True  True  True  True]\n",
      " [ True  True  True  True  True  True  True  True  True  True]]\n",
      "[[  0   1   2   3   4   5   6   7   8   9]\n",
      " [ 10  11  12  13  14  15  16  17  18  19]\n",
      " [ 20  21  22  23  24  25  26  27  28  29]\n",
      " [ 30  31  32  33  34  35  36  37  38  39]\n",
      " [ 40  41  42  43  44  45  46  47  48  49]\n",
      " [ 50  51  52  53  54  55  56  57  58  59]\n",
      " [ 60  61  62  63  64  65  66  67  68  69]\n",
      " [ 70  71  72  73  74 100 100 100 100 100]\n",
      " [100 100 100 100 100 100 100 100 100 100]\n",
      " [100 100 100 100 100 100 100 100 100 100]]\n"
     ]
    }
   ],
   "source": [
    "# We can create a mask array as follows\n",
    "# enclosing the conditional statement in parentheses is added for clarity\n",
    "mask = (a[:,:]>=75)\n",
    "print(mask)\n",
    "\n",
    "#Now we can use the mask to set values\n",
    "a[mask] = 100\n",
    "print(a)"
   ]
  },
  {
   "cell_type": "markdown",
   "metadata": {},
   "source": [
    "### Multi-Conditional Masking\n",
    "\n",
    "For more complicated masks, we can bring back the bitwise operators from above (`&`, `|`, and `^`)"
   ]
  },
  {
   "cell_type": "code",
   "execution_count": 86,
   "metadata": {
    "execution": {
     "iopub.execute_input": "2024-11-20T18:07:05.424279Z",
     "iopub.status.busy": "2024-11-20T18:07:05.423810Z",
     "iopub.status.idle": "2024-11-20T18:07:05.426405Z",
     "shell.execute_reply": "2024-11-20T18:07:05.425999Z"
    }
   },
   "outputs": [],
   "source": [
    "b = a.copy()"
   ]
  },
  {
   "cell_type": "code",
   "execution_count": 87,
   "metadata": {
    "execution": {
     "iopub.execute_input": "2024-11-20T18:07:05.428090Z",
     "iopub.status.busy": "2024-11-20T18:07:05.427923Z",
     "iopub.status.idle": "2024-11-20T18:07:05.504411Z",
     "shell.execute_reply": "2024-11-20T18:07:05.503856Z"
    }
   },
   "outputs": [
    {
     "name": "stdout",
     "output_type": "stream",
     "text": [
      "[[  0   1   2   3   4   5   6   7   8   9]\n",
      " [ 10  11  12  13  14  15  16  17  18  19]\n",
      " [ 20  21  22  23  24  25  26  27  28  29]\n",
      " [ 30  31  32  33  34  35  36  37  38  39]\n",
      " [ 40  41  42  43  44  45  46  47  48  49]\n",
      " [ 50  51  52  53  54  55  56  57  58  59]\n",
      " [ 60  61  62  63  64  65  66  67  68  69]\n",
      " [ 70  71  72  73  74 100 100 100 100 100]\n",
      " [100 100 100 100 100 100 100 100 100 100]\n",
      " [100 100 100 100 100 100 100 100 100 100]]\n"
     ]
    },
    {
     "data": {
      "text/plain": [
       "<matplotlib.image.AxesImage at 0x7f1aa896b790>"
      ]
     },
     "execution_count": 87,
     "metadata": {},
     "output_type": "execute_result"
    },
    {
     "data": {
      "image/png": "[encoded data removed]",
      "text/plain": [
       "<Figure size 640x480 with 1 Axes>"
      ]
     },
     "metadata": {},
     "output_type": "display_data"
    }
   ],
   "source": [
    "mask = (b[:,:]>50) & (b[:,:]<75)\n",
    "print(b)\n",
    "plt.imshow(mask)"
   ]
  },
  {
   "cell_type": "code",
   "execution_count": 88,
   "metadata": {
    "execution": {
     "iopub.execute_input": "2024-11-20T18:07:05.506436Z",
     "iopub.status.busy": "2024-11-20T18:07:05.506130Z",
     "iopub.status.idle": "2024-11-20T18:07:05.588554Z",
     "shell.execute_reply": "2024-11-20T18:07:05.588141Z"
    }
   },
   "outputs": [
    {
     "name": "stdout",
     "output_type": "stream",
     "text": [
      "[[  0   1   2   3   4   5   6   7   8   9]\n",
      " [ 10  11  12  13  14  15  16  17  18  19]\n",
      " [ 20  21  22  23  24  25  26  27  28  29]\n",
      " [ 30  31  32  33  34  35  36  37  38  39]\n",
      " [ 40  41  42  43  44  45  46  47  48  49]\n",
      " [ 50 200 200 200 200 200 200 200 200 200]\n",
      " [200 200 200 200 200 200 200 200 200 200]\n",
      " [200 200 200 200 200 100 100 100 100 100]\n",
      " [100 100 100 100 100 100 100 100 100 100]\n",
      " [100 100 100 100 100 100 100 100 100 100]]\n"
     ]
    },
    {
     "data": {
      "text/plain": [
       "<matplotlib.image.AxesImage at 0x7f1aa8989690>"
      ]
     },
     "execution_count": 88,
     "metadata": {},
     "output_type": "execute_result"
    },
    {
     "data": {
      "image/png": "[encoded data removed]",
      "text/plain": [
       "<Figure size 640x480 with 1 Axes>"
      ]
     },
     "metadata": {},
     "output_type": "display_data"
    }
   ],
   "source": [
    "b[mask] = 200\n",
    "print(b)\n",
    "plt.imshow(b)"
   ]
  },
  {
   "cell_type": "markdown",
   "metadata": {},
   "source": [
    "### Masked arrays provide a convenient way to explicitly handle nan values in the same object"
   ]
  },
  {
   "cell_type": "code",
   "execution_count": 89,
   "metadata": {
    "execution": {
     "iopub.execute_input": "2024-11-20T18:07:05.590570Z",
     "iopub.status.busy": "2024-11-20T18:07:05.590262Z",
     "iopub.status.idle": "2024-11-20T18:07:05.666800Z",
     "shell.execute_reply": "2024-11-20T18:07:05.666266Z"
    }
   },
   "outputs": [
    {
     "data": {
      "text/plain": [
       "<matplotlib.image.AxesImage at 0x7f1aa8831ad0>"
      ]
     },
     "execution_count": 89,
     "metadata": {},
     "output_type": "execute_result"
    },
    {
     "data": {
      "image/png": "[encoded data removed]",
      "text/plain": [
       "<Figure size 640x480 with 1 Axes>"
      ]
     },
     "metadata": {},
     "output_type": "display_data"
    }
   ],
   "source": [
    "b_masked = np.ma.masked_array(b, mask=mask)\n",
    "plt.imshow(b_masked)"
   ]
  },
  {
   "cell_type": "markdown",
   "metadata": {},
   "source": [
    "## Record Arrays\n",
    "\n",
    "Record arrays, also known as structured arrays, are a great way to store columns of data that have different types.  They can be created by specifying a dtype that defines the columns.  For example:\n",
    "\n",
    "    dtype=[('x', int), ('y', float), ('z', int)]) \n",
    "    \n",
    "Now, let's use this dtype to create an array with ones in it."
   ]
  },
  {
   "cell_type": "code",
   "execution_count": 90,
   "metadata": {
    "execution": {
     "iopub.execute_input": "2024-11-20T18:07:05.668681Z",
     "iopub.status.busy": "2024-11-20T18:07:05.668518Z",
     "iopub.status.idle": "2024-11-20T18:07:05.671852Z",
     "shell.execute_reply": "2024-11-20T18:07:05.671397Z"
    }
   },
   "outputs": [
    {
     "name": "stdout",
     "output_type": "stream",
     "text": [
      "[(1, 1., 1) (1, 1., 1) (1, 1., 1) (1, 1., 1) (1, 1., 1) (1, 1., 1)\n",
      " (1, 1., 1) (1, 1., 1) (1, 1., 1) (1, 1., 1)]\n"
     ]
    }
   ],
   "source": [
    "dtype=[('x', int), ('y', float), ('z', int)]\n",
    "a = np.ones( (10), dtype=dtype)\n",
    "print(a)"
   ]
  },
  {
   "cell_type": "code",
   "execution_count": 91,
   "metadata": {
    "execution": {
     "iopub.execute_input": "2024-11-20T18:07:05.673454Z",
     "iopub.status.busy": "2024-11-20T18:07:05.673311Z",
     "iopub.status.idle": "2024-11-20T18:07:05.676309Z",
     "shell.execute_reply": "2024-11-20T18:07:05.675831Z"
    }
   },
   "outputs": [
    {
     "name": "stdout",
     "output_type": "stream",
     "text": [
      "[1 1 1 1 1 1 1 1 1 1]\n",
      "[1. 1. 1. 1. 1. 1. 1. 1. 1. 1.]\n",
      "[1 1 1 1 1 1 1 1 1 1]\n"
     ]
    }
   ],
   "source": [
    "#we can access each column by using the column names\n",
    "print(a['x'])\n",
    "print(a['y'])\n",
    "print(a['z'])"
   ]
  },
  {
   "cell_type": "code",
   "execution_count": 92,
   "metadata": {
    "execution": {
     "iopub.execute_input": "2024-11-20T18:07:05.678099Z",
     "iopub.status.busy": "2024-11-20T18:07:05.677721Z",
     "iopub.status.idle": "2024-11-20T18:07:05.681058Z",
     "shell.execute_reply": "2024-11-20T18:07:05.680579Z"
    }
   },
   "outputs": [
    {
     "name": "stdout",
     "output_type": "stream",
     "text": [
      "[1 1 1 1 1 1 1 1 1 1]\n",
      "[1. 1. 1. 1. 1. 1. 1. 1. 1. 1.]\n",
      "[1 1 1 1 1 1 1 1 1 1]\n"
     ]
    }
   ],
   "source": [
    "#we can also change how we view the record array so that we can access columns more easily\n",
    "a = a.view(np.recarray)\n",
    "print(a.x)\n",
    "print(a.y)\n",
    "print(a.z)"
   ]
  },
  {
   "cell_type": "code",
   "execution_count": 93,
   "metadata": {
    "execution": {
     "iopub.execute_input": "2024-11-20T18:07:05.683046Z",
     "iopub.status.busy": "2024-11-20T18:07:05.682653Z",
     "iopub.status.idle": "2024-11-20T18:07:05.688101Z",
     "shell.execute_reply": "2024-11-20T18:07:05.687663Z"
    }
   },
   "outputs": [
    {
     "name": "stdout",
     "output_type": "stream",
     "text": [
      "Now we have appended string_column to a: \n",
      " [(1, 1., 1, b'text string') (1, 1., 1, b'text string')\n",
      " (1, 1., 1, b'text string') (1, 1., 1, b'text string')\n",
      " (1, 1., 1, b'text string') (1, 1., 1, b'text string')\n",
      " (1, 1., 1, b'text string') (1, 1., 1, b'text string')\n",
      " (1, 1., 1, b'text string') (1, 1., 1, b'text string')]\n",
      "b is of shape:  (10,)\n",
      "('x', 'y', 'z', 'name')\n"
     ]
    }
   ],
   "source": [
    "#to add a column, use vstack!\n",
    "dt = [('name', 'S15')]\n",
    "string_column = np.empty((10), dtype=dt).view(np.recarray)\n",
    "string_column.name = 'text string'\n",
    "\n",
    "#we can use a merge_arrays function to add a column\n",
    "import numpy.lib.recfunctions as rfn\n",
    "b = rfn.merge_arrays((a, string_column), flatten = True, usemask = False)\n",
    "\n",
    "#we need to convert b to a recarray to access individual columns as before\n",
    "b = b.view(np.recarray)\n",
    "print('Now we have appended string_column to a: \\n', b)\n",
    "print('b is of shape: ', b.shape)\n",
    "print(b.dtype.names)"
   ]
  },
  {
   "cell_type": "markdown",
   "metadata": {},
   "source": [
    "## Testing your Skills\n",
    "\n",
    "1. Become familiar with recarrays by creating one that has four columns and 100 rows.  In the first column, put an integer that starts at 99 and decreases to 0.  In the second column, put a text string that has 'row n', where n is the actual row value.  In the third column put a random number, and in the fourth column, put your name.\n"
   ]
  },
  {
   "cell_type": "code",
   "execution_count": 94,
   "metadata": {
    "execution": {
     "iopub.execute_input": "2024-11-20T18:07:05.689733Z",
     "iopub.status.busy": "2024-11-20T18:07:05.689591Z",
     "iopub.status.idle": "2024-11-20T18:07:05.691655Z",
     "shell.execute_reply": "2024-11-20T18:07:05.691281Z"
    }
   },
   "outputs": [],
   "source": [
    "#do the exercise here"
   ]
  },
  {
   "cell_type": "markdown",
   "metadata": {},
   "source": [
    "## genfromtxt and Record Arrays\n",
    "\n",
    "genfromtxt can automatically create a record array if the following arguments are provided (dtype=None, names=True).  When these arguments are set this way, genfromtxt will automatically determine the type for each column and will use the first non-commented line of the data file as column labels.  \n",
    "\n",
    "In the 03_numpy folder, there is a csv file called ahf.csv.  This file contains airborne helicopter measurements of elevation taken at points in the everglades.  This data was downloaded from: http://sofia.usgs.gov/exchange/desmond/desmondelev.html.\n",
    "\n",
    "In the following cell, we use genfromtxt to load this csv file into a recarray.  The beauty of this is that genfromtxt automatically determines the type of information in each columns and fills the array accordingly.  When this is done correctly, we can access each column in the array using the column text identifier as follows."
   ]
  },
  {
   "cell_type": "code",
   "execution_count": 95,
   "metadata": {
    "execution": {
     "iopub.execute_input": "2024-11-20T18:07:05.693528Z",
     "iopub.status.busy": "2024-11-20T18:07:05.693237Z",
     "iopub.status.idle": "2024-11-20T18:07:05.844167Z",
     "shell.execute_reply": "2024-11-20T18:07:05.843637Z"
    }
   },
   "outputs": [
    {
     "name": "stdout",
     "output_type": "stream",
     "text": [
      "Data will be loaded from:  data/numpy/ahf.csv\n",
      "dypte contains the column information:  [('ID', '<i8'), ('X_UTM', '<f8'), ('Y_UTM', '<f8'), ('ELEV_M', '<f8'), ('QUAD_NAME', '<U15'), ('VEG_FS', '<U18'), ('SUR_METHOD', '<U3'), ('SUR_INFO', '<U20'), ('SUR_FILE', '<U12')]\n",
      "\n",
      "this is the array:  [(   1, 525705.77, 2951410.9 , 4.87, 'Belle Glade', 'Broadleaf Emergent', 'AHF', 'BE33A26506 20061004Y', 'BE061004.PUB')\n",
      " (   2, 525875.53, 2951395.58, 4.39, 'Belle Glade', 'Shrub', 'AHF', 'BE33A26506 20061004Y', 'BE061004.PUB')\n",
      " (   3, 526235.55, 2951429.23, 3.73, 'Belle Glade', 'Shrub', 'AHF', 'BE33A26506 20061004Y', 'BE061004.PUB')\n",
      " ...\n",
      " (2863, 527017.04, 2961403.84, 4.85, 'Pahokee', 'Shrub', 'AHF', 'PA13L26906 20061012Y', 'PA061012.PUB')\n",
      " (2864, 526621.4 , 2961398.48, 4.98, 'Pahokee', 'Shrub', 'AHF', 'PA13L26906 20061012Y', 'PA061012.PUB')\n",
      " (2865, 526221.09, 2961407.38, 3.07, 'Pahokee', 'Knot Grass', 'AHF', 'PA13L26906 20061012Y', 'PA061012.PUB')]\n",
      "\n",
      "this is just the column names:  ('ID', 'X_UTM', 'Y_UTM', 'ELEV_M', 'QUAD_NAME', 'VEG_FS', 'SUR_METHOD', 'SUR_INFO', 'SUR_FILE')\n",
      "\n"
     ]
    },
    {
     "data": {
      "text/plain": [
       "<matplotlib.collections.PathCollection at 0x7f1aa8909350>"
      ]
     },
     "execution_count": 95,
     "metadata": {},
     "output_type": "execute_result"
    },
    {
     "data": {
      "image/png": "[encoded data removed]",
      "text/plain": [
       "<Figure size 640x480 with 1 Axes>"
      ]
     },
     "metadata": {},
     "output_type": "display_data"
    }
   ],
   "source": [
    "#specify the file name\n",
    "fname = datapath / 'ahf.csv'\n",
    "print('Data will be loaded from: ', fname)\n",
    "\n",
    "#load the array\n",
    "a = np.genfromtxt(fname, dtype=None, names=True, delimiter=',')\n",
    "\n",
    "#print information about the array\n",
    "print('dypte contains the column information: ', a.dtype)\n",
    "print()\n",
    "print('this is the array: ', a)\n",
    "print()\n",
    "print('this is just the column names: ', a.dtype.names)\n",
    "print()\n",
    "\n",
    "#now we can create scatter plot of the points very easily using the plt.scatter command\n",
    "#the nice thing here is that we access the array columns directly using the column names\n",
    "plt.scatter(a['X_UTM'], a['Y_UTM'], c=a['ELEV_M'], s=10)"
   ]
  },
  {
   "cell_type": "markdown",
   "metadata": {},
   "source": [
    "## Reading a Wrapped MODFLOW Array\n",
    "\n",
    "It is unlikely that there will be time for this, but the following function is a quick hack that can be used to read a MODFLOW external array where the columns are wrapped.  Note that you cannot use `np.genfromtxt` or `np.loadtxt` to do this if the columns are wrapped.\n",
    "\n",
    "Keep this little function in your back pocket in case you need it one day.  If you have time, read bottom.txt in the 04_numpy directory and plot it.  This array has 142 rows and 113 columns."
   ]
  },
  {
   "cell_type": "code",
   "execution_count": 96,
   "metadata": {
    "execution": {
     "iopub.execute_input": "2024-11-20T18:07:05.846305Z",
     "iopub.status.busy": "2024-11-20T18:07:05.845929Z",
     "iopub.status.idle": "2024-11-20T18:07:05.849452Z",
     "shell.execute_reply": "2024-11-20T18:07:05.848939Z"
    }
   },
   "outputs": [],
   "source": [
    "# This is a little goodie that you might need one day.\n",
    "def readarray(fname, nrow, ncol):\n",
    "    f = open(fname, 'r')\n",
    "    arraylist = []\n",
    "    for line in f:\n",
    "        linelist = line.strip().split()\n",
    "        for v in linelist:\n",
    "            dtype = np.int\n",
    "            if '.' in v:\n",
    "                dtype = np.float\n",
    "            arraylist.append(dtype(v))\n",
    "    f.close()\n",
    "    return np.reshape(np.array(arraylist[:ncol*nrow]), (nrow, ncol))"
   ]
  },
  {
   "cell_type": "code",
   "execution_count": 97,
   "metadata": {
    "execution": {
     "iopub.execute_input": "2024-11-20T18:07:05.851203Z",
     "iopub.status.busy": "2024-11-20T18:07:05.850903Z",
     "iopub.status.idle": "2024-11-20T18:07:05.853148Z",
     "shell.execute_reply": "2024-11-20T18:07:05.852754Z"
    }
   },
   "outputs": [],
   "source": [
    "#read bottom.txt here"
   ]
  },
  {
   "cell_type": "code",
   "execution_count": null,
   "metadata": {},
   "outputs": [],
   "source": []
  },
  {
   "cell_type": "code",
   "execution_count": null,
   "metadata": {},
   "outputs": [],
   "source": []
  },
  {
   "cell_type": "code",
   "execution_count": 98,
   "metadata": {
    "execution": {
     "iopub.execute_input": "2024-11-20T18:07:05.854860Z",
     "iopub.status.busy": "2024-11-20T18:07:05.854568Z",
     "iopub.status.idle": "2024-11-20T18:07:05.859976Z",
     "shell.execute_reply": "2024-11-20T18:07:05.859487Z"
    }
   },
   "outputs": [
    {
     "name": "stdout",
     "output_type": "stream",
     "text": [
      "('col1', 'col2', 'col3', 'col4')\n",
      "[(99, b'row ', 0.3331864 , b'cdl') (98, b'row ', 0.26871162, b'cdl')\n",
      " (97, b'row ', 0.20185628, b'cdl') (96, b'row ', 0.07297678, b'cdl')\n",
      " (95, b'row ', 0.84028135, b'cdl') (94, b'row ', 0.23146674, b'cdl')\n",
      " (93, b'row ', 0.79907055, b'cdl') (92, b'row ', 0.02173032, b'cdl')\n",
      " (91, b'row ', 0.33383154, b'cdl') (90, b'row ', 0.87696913, b'cdl')\n",
      " (89, b'row ', 0.32523496, b'cdl') (88, b'row ', 0.18086274, b'cdl')\n",
      " (87, b'row ', 0.68617669, b'cdl') (86, b'row ', 0.06277775, b'cdl')\n",
      " (85, b'row ', 0.57804205, b'cdl') (84, b'row ', 0.25017009, b'cdl')\n",
      " (83, b'row ', 0.68266073, b'cdl') (82, b'row ', 0.18274198, b'cdl')\n",
      " (81, b'row ', 0.33566119, b'cdl') (80, b'row ', 0.09107971, b'cdl')\n",
      " (79, b'row ', 0.86575253, b'cdl') (78, b'row ', 0.88509396, b'cdl')\n",
      " (77, b'row ', 0.43278313, b'cdl') (76, b'row ', 0.97257121, b'cdl')\n",
      " (75, b'row ', 0.35856711, b'cdl') (74, b'row ', 0.21221806, b'cdl')\n",
      " (73, b'row ', 0.93761197, b'cdl') (72, b'row ', 0.69857772, b'cdl')\n",
      " (71, b'row ', 0.58932598, b'cdl') (70, b'row ', 0.68744922, b'cdl')\n",
      " (69, b'row ', 0.1247568 , b'cdl') (68, b'row ', 0.39931122, b'cdl')\n",
      " (67, b'row ', 0.85670771, b'cdl') (66, b'row ', 0.66222214, b'cdl')\n",
      " (65, b'row ', 0.3506399 , b'cdl') (64, b'row ', 0.59432177, b'cdl')\n",
      " (63, b'row ', 0.73153955, b'cdl') (62, b'row ', 0.86343116, b'cdl')\n",
      " (61, b'row ', 0.82889546, b'cdl') (60, b'row ', 0.24256108, b'cdl')\n",
      " (59, b'row ', 0.0978541 , b'cdl') (58, b'row ', 0.6893007 , b'cdl')\n",
      " (57, b'row ', 0.10173985, b'cdl') (56, b'row ', 0.59767919, b'cdl')\n",
      " (55, b'row ', 0.35597012, b'cdl') (54, b'row ', 0.20304781, b'cdl')\n",
      " (53, b'row ', 0.90554189, b'cdl') (52, b'row ', 0.37361018, b'cdl')\n",
      " (51, b'row ', 0.01731646, b'cdl') (50, b'row ', 0.36741087, b'cdl')\n",
      " (49, b'row ', 0.87645751, b'cdl') (48, b'row ', 0.91426157, b'cdl')\n",
      " (47, b'row ', 0.8169613 , b'cdl') (46, b'row ', 0.5533799 , b'cdl')\n",
      " (45, b'row ', 0.10555641, b'cdl') (44, b'row ', 0.50080079, b'cdl')\n",
      " (43, b'row ', 0.75698666, b'cdl') (42, b'row ', 0.34925477, b'cdl')\n",
      " (41, b'row ', 0.36650544, b'cdl') (40, b'row ', 0.49394669, b'cdl')\n",
      " (39, b'row ', 0.41496622, b'cdl') (38, b'row ', 0.25522185, b'cdl')\n",
      " (37, b'row ', 0.3448469 , b'cdl') (36, b'row ', 0.5810609 , b'cdl')\n",
      " (35, b'row ', 0.37103373, b'cdl') (34, b'row ', 0.25280492, b'cdl')\n",
      " (33, b'row ', 0.60691485, b'cdl') (32, b'row ', 0.26441676, b'cdl')\n",
      " (31, b'row ', 0.61778992, b'cdl') (30, b'row ', 0.21439223, b'cdl')\n",
      " (29, b'row ', 0.18121145, b'cdl') (28, b'row ', 0.58635557, b'cdl')\n",
      " (27, b'row ', 0.90620776, b'cdl') (26, b'row ', 0.23103697, b'cdl')\n",
      " (25, b'row ', 0.45411779, b'cdl') (24, b'row ', 0.90210013, b'cdl')\n",
      " (23, b'row ', 0.01219581, b'cdl') (22, b'row ', 0.9577261 , b'cdl')\n",
      " (21, b'row ', 0.4507504 , b'cdl') (20, b'row ', 0.4982002 , b'cdl')\n",
      " (19, b'row ', 0.31397911, b'cdl') (18, b'row ', 0.42869894, b'cdl')\n",
      " (17, b'row ', 0.38886314, b'cdl') (16, b'row ', 0.43238311, b'cdl')\n",
      " (15, b'row ', 0.25465081, b'cdl') (14, b'row ', 0.5220014 , b'cdl')\n",
      " (13, b'row ', 0.10413072, b'cdl') (12, b'row ', 0.57455331, b'cdl')\n",
      " (11, b'row ', 0.19529241, b'cdl') (10, b'row ', 0.79498631, b'cdl')\n",
      " ( 9, b'row ', 0.0897544 , b'cdl') ( 8, b'row ', 0.89683014, b'cdl')\n",
      " ( 7, b'row ', 0.59472636, b'cdl') ( 6, b'row ', 0.40409598, b'cdl')\n",
      " ( 5, b'row ', 0.40417607, b'cdl') ( 4, b'row ', 0.91003596, b'cdl')\n",
      " ( 3, b'row ', 0.46683547, b'cdl') ( 2, b'row ', 0.93073969, b'cdl')\n",
      " ( 1, b'row ', 0.21758436, b'cdl') ( 0, b'row ', 0.10958864, b'cdl')]\n"
     ]
    }
   ],
   "source": [
    "# answer for earlier sk test\n",
    "dt=[('col1', int), ('col2', 'S10'), ('col3', float), ('col4', 'S20')]\n",
    "myrecarray = np.zeros((100), dtype=dt).view(np.recarray)\n",
    "myrecarray.col1[:] = np.arange(99,-1, -1)\n",
    "myrecarray.col2[:] = 'row '\n",
    "myrecarray.col3[:] = np.random.random((100))\n",
    "myrecarray.col4[:] = 'cdl'\n",
    "print(myrecarray.dtype.names)\n",
    "print(myrecarray)"
   ]
  },
  {
   "cell_type": "markdown",
   "metadata": {},
   "source": [
    "## Flow around a cylinder (from Mark Bakker)\n",
    "\n",
    "The radial and tangential components of the velocity vector $\\vec{v}=(v_r,v_\\theta)$ for inviscid fluid flow around a cylinder are given by\n",
    "\n",
    "$\\begin{split}\n",
    "v_r&=U(1-R^2/r^2)\\cos(\\theta) \\qquad r\\ge R \\\\\n",
    "v_\\theta&=-U(1+R^2/r^2)\\sin(\\theta) \\qquad r\\ge R\n",
    "\\end{split}$\n",
    "\n",
    "and is zero otherwise. The $x$ and $y$ components of the velocity vector may be obtained from the radial and tangential components as\n",
    "\n",
    "$\\begin{split}\n",
    "v_x&=v_r\\cos(\\theta) - v_\\theta\\sin(\\theta) \\\\\n",
    "v_y &= v_r\\sin(\\theta) + v_\\theta\\cos(\\theta) \n",
    "\\end{split}$\n",
    "\n",
    "1. Write a function that returns the $x$ and $y$ components of the velocity vector for fluid flow around a cylinder with $R=1.5$ and $U=2$.\n",
    "\n",
    "2. Test your function by making sure that at $(x,y) = (2,3)$ the velocity vector is $(v_x,v_y)=(2.1331, -0.3195)$.\n",
    "\n",
    "3. Compute the $x$ and $y$ components of the velocity vector on a grid of 50 by 50 points where `x` varies from -4 to +4, and `y` varies from -3 to 3. \n",
    "\n",
    "4. Plot the `vx` and `vy` arrays using `plt.imshow`.\n",
    "\n",
    "5. Create a stream plot using the cool function `plt.streamplot`, which takes four arguments: `x`, `y`, `vx`, `vy`.\n"
   ]
  },
  {
   "cell_type": "markdown",
   "metadata": {},
   "source": [
    "## 1D Solute Transport\n",
    "\n",
    "A simple 1D transport analytical solution (Zheng and Bennet page 174; originally from Ogata and Banks, 1961):\n",
    "\n",
    "$\\frac{C}{C_0} = \\frac{1}{2} \\left [ erfc \\left ( \\frac{x - v t}{\\sqrt{4Dt}} \\right ) + exp \\left ( \\frac{xv}{D} \\right ) erfc \\left ( \\frac{x + v t}{\\sqrt{4Dt}} \\right )  \\right ]$\n",
    "\n",
    "Make a plot of solute concentration as a function of distance and also as a function of time for different values of velocity and dispersion coefficient."
   ]
  }
 ],
 "metadata": {
  "kernelspec": {
   "display_name": "pyclass",
   "language": "python",
   "name": "python3"
  },
  "language_info": {
   "codemirror_mode": {
    "name": "ipython",
    "version": 3
   },
   "file_extension": ".py",
   "mimetype": "text/x-python",
   "name": "python",
   "nbconvert_exporter": "python",
   "pygments_lexer": "ipython3",
   "version": "3.11.10"
  }
 },
 "nbformat": 4,
 "nbformat_minor": 4
}
