{
 "cells": [
  {
   "cell_type": "markdown",
   "metadata": {},
   "source": [
    "# 07a: Using functions to solve an equation-- The Theis example\n",
    "In this exercise we will implement the Theis equation in Python using functions, to evaluate drawdown in hydraulic head from pumping at a well.\n",
    "\n",
    "\n",
    "### Background\n",
    "The Theis (1935) equation is used to calculate drawdown for two-dimensional radial groundwater flow to a point source in an infinite, homogeneous aquifer. The Theis equation was derived from heat transfer literature (with the mathematical help of C.I. Lubin) and is defined as:\n",
    "\n",
    "\\begin{equation}\n",
    "s = \\frac{Q}{4 \\pi T} W(u)\n",
    "\\end{equation}\n",
    "\n",
    "where  \n",
    "$s$ is drawdown [L],  \n",
    "$Q$ is the pumping rate [L$^3$/T],  \n",
    "$T$ is the aquifer transmissivity [L$^2$/T],  \n",
    "$u$ is a dimensionless time parameter [unitless], and  \n",
    "$W(u)$ is the Well function (exponential integral $E_1$) [unitless]. The exponential integral is available in ``scipy.special`` as the ``exp1()`` function.\n",
    "\n",
    "The dimensionless time parameter is defined as:\n",
    "\n",
    "\\begin{equation}\n",
    "u = \\frac{r^2S}{4Tt}\n",
    "\\end{equation}\n",
    "\n",
    "where  \n",
    "$r$ is the distance from the pumping well to a point where drawdown is observed [L],   \n",
    "$S$ is storativity [unitless], and  \n",
    "$t$ is the time since pumping began. \n",
    "\n",
    "Storativity is defined as:\n",
    "\n",
    "\\begin{equation}\n",
    "S = S_s b\n",
    "\\end{equation}\n",
    "\n",
    "where  \n",
    "$S_s$ is specific storage [1/L] and   \n",
    "$b$ is the thickness of the aquifer."
   ]
  },
  {
   "cell_type": "markdown",
   "metadata": {},
   "source": [
    "### imports"
   ]
  },
  {
   "cell_type": "code",
   "execution_count": null,
   "metadata": {},
   "outputs": [],
   "source": [
    "import numpy as np\n",
    "import matplotlib.pyplot as plt\n",
    "from scipy.special import exp1 as W"
   ]
  },
  {
   "cell_type": "markdown",
   "metadata": {},
   "source": [
    "### Step 1: Make a simple function to implement the Theis equation\n",
    "Make a function for the Theis equation. The function should include a [Numpy-style docstring](https://numpydoc.readthedocs.io/en/latest/format.html) that documents the inputs and what the function returns.\n",
    "\n",
    "\\begin{equation}\n",
    "s = \\frac{Q}{4 \\pi T} W(u)\n",
    "\\end{equation}\n",
    "\n",
    "\\begin{equation}\n",
    "u = \\frac{r^2S}{4Tt}\n",
    "\\end{equation}\n",
    "\n",
    "hints: \n",
    "* since this also includes the dimensionless time parameter, the inputs are $r$, $t$, $Q$, $T$, and $S$ \n",
    "* we imported $W$ above from ``scipy.special``"
   ]
  },
  {
   "cell_type": "code",
   "execution_count": null,
   "metadata": {},
   "outputs": [],
   "source": []
  },
  {
   "cell_type": "markdown",
   "metadata": {},
   "source": [
    "### Step 2: Compute drawdown at a single point in space and time\n",
    "\n",
    "Use the eqn. from Step 1) to compute drawdown at a distance of 1,000m, at 10 days, assuming a pumping rate of 4,088 m/day, transmissivity (T) of 1,000 m/day, and a storativity (S) of 3 x 10$^{-4}$\n",
    "\n",
    "hint: you should get ``1.40636669``"
   ]
  },
  {
   "cell_type": "code",
   "execution_count": null,
   "metadata": {},
   "outputs": [],
   "source": []
  },
  {
   "cell_type": "markdown",
   "metadata": {},
   "source": [
    "### Step 3: Plot drawdown over time at that point\n",
    "(use the same parameters as in Step 2)"
   ]
  },
  {
   "cell_type": "code",
   "execution_count": null,
   "metadata": {},
   "outputs": [],
   "source": []
  },
  {
   "cell_type": "markdown",
   "metadata": {},
   "source": [
    "### Step 4: Plot the spatial distribution of drawdown at various times\n",
    "\n",
    "Make a new function that accepts arrays of $x$ and $y$ locations, and a pumping well location ($x$, $y$), and returns a corresponding array of $s$ (drawdown) locations, for any number of times. This new function should call the function created in Step 1). To do this, you will need an additional function to compute the distance to the pumping well $r$ for any $x$, $y$ location.\n"
   ]
  },
  {
   "cell_type": "code",
   "execution_count": null,
   "metadata": {},
   "outputs": [],
   "source": []
  },
  {
   "cell_type": "markdown",
   "metadata": {},
   "source": [
    "### Step 5: Try out the function from step 4\n",
    "\n",
    "Use the function from Step 4) to make a 2D plot of drawdown at 10 days, on a 2,000 x 2,000 meter grid (with an origin of 0, 0), with the pumping well located at 1000, 1000.\n",
    "\n",
    "hint: if the function is taking too long to run, try calling function from step 1) with *vectors* of x,y instead of *scalars*. It should run in less than a second."
   ]
  },
  {
   "cell_type": "code",
   "execution_count": null,
   "metadata": {},
   "outputs": [],
   "source": []
  },
  {
   "cell_type": "markdown",
   "metadata": {},
   "source": [
    "### Step 6: Add additional wells\n",
    "With $s$ returned as an array for a given set of x, y locations, we can now use *superposition* (adding drawdowns together) to evaluate the effects of multiple pumping wells. Try calling the function from Step 4) again with a well at 500, 500. The $s$ output can be added to the results from Step 5) to get a composite map of drawdown with the two wells pumping."
   ]
  },
  {
   "cell_type": "code",
   "execution_count": null,
   "metadata": {},
   "outputs": [],
   "source": []
  },
  {
   "cell_type": "code",
   "execution_count": null,
   "metadata": {},
   "outputs": [],
   "source": []
  }
 ],
 "metadata": {
  "kernelspec": {
   "display_name": "Python 3 (ipykernel)",
   "language": "python",
   "name": "python3"
  }
 },
 "nbformat": 4,
 "nbformat_minor": 4
}
