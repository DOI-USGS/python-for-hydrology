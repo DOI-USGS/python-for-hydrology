{
 "cells": [
  {
   "cell_type": "markdown",
   "id": "8da35269",
   "metadata": {},
   "source": [
    "# 08: Working with tabular data in Pandas\n",
    "\n",
    "<img src = \"../data/pandas/panda.jpg\">"
   ]
  },
  {
   "cell_type": "markdown",
   "id": "adea9fbe",
   "metadata": {},
   "source": [
    "## Not that type of Panda -- Python's Pandas package\n",
    "\n",
    "Pandas is a powerful, flexible and easy to use open source data analysis and manipulation tool. Pandas is commonly used for operations that would normally be done in a spreadsheet environment and includes powerful data analysis and manipulation tools.\n",
    "\n",
    "Let's begin by importing the libraries and setting our data path "
   ]
  },
  {
   "cell_type": "code",
   "execution_count": 1,
   "id": "3b885ca2",
   "metadata": {
    "execution": {
     "iopub.execute_input": "2025-09-22T13:34:39.162934Z",
     "iopub.status.busy": "2025-09-22T13:34:39.162781Z",
     "iopub.status.idle": "2025-09-22T13:34:40.322879Z",
     "shell.execute_reply": "2025-09-22T13:34:40.322311Z"
    }
   },
   "outputs": [],
   "source": [
    "from pathlib import Path\n",
    "import numpy as np\n",
    "import matplotlib as mpl\n",
    "import matplotlib.pyplot as plt\n",
    "import pandas as pd\n",
    "import statsmodels.api as sm\n",
    "from dataretrieval import nwis\n",
    "from matplotlib.backends.backend_pdf import PdfPages\n",
    "from scipy.signal import detrend\n",
    "\n",
    "data_path = Path(\"..\", \"data\", \"pandas\")"
   ]
  },
  {
   "cell_type": "markdown",
   "id": "f32f58cb",
   "metadata": {},
   "source": [
    "## Get site information data for part of the Russian River near Guerneville, CA from NWIS "
   ]
  },
  {
   "cell_type": "code",
   "execution_count": 2,
   "id": "6d6d2451-5c5d-43ea-81d4-7daf3e757ad5",
   "metadata": {
    "execution": {
     "iopub.execute_input": "2025-09-22T13:34:40.324975Z",
     "iopub.status.busy": "2025-09-22T13:34:40.324698Z",
     "iopub.status.idle": "2025-09-22T13:35:41.503988Z",
     "shell.execute_reply": "2025-09-22T13:35:41.503270Z"
    }
   },
   "outputs": [
    {
     "ename": "SSLError",
     "evalue": "HTTPSConnectionPool(host='waterservices.usgs.gov', port=443): Max retries exceeded with url: /nwis/site?bBox=-123.1%2C38.45%2C-122.9%2C38.55&siteOutput=Expanded&format=rdb (Caused by SSLError(SSLEOFError(8, '[SSL: UNEXPECTED_EOF_WHILE_READING] EOF occurred in violation of protocol (_ssl.c:1016)')))",
     "output_type": "error",
     "traceback": [
      "\u001b[31m---------------------------------------------------------------------------\u001b[39m",
      "\u001b[31mSSLEOFError\u001b[39m                               Traceback (most recent call last)",
      "\u001b[36mFile \u001b[39m\u001b[32m~/micromamba/envs/pyclass-docs/lib/python3.11/site-packages/urllib3/connectionpool.py:464\u001b[39m, in \u001b[36mHTTPConnectionPool._make_request\u001b[39m\u001b[34m(self, conn, method, url, body, headers, retries, timeout, chunked, response_conn, preload_content, decode_content, enforce_content_length)\u001b[39m\n\u001b[32m    463\u001b[39m \u001b[38;5;28;01mtry\u001b[39;00m:\n\u001b[32m--> \u001b[39m\u001b[32m464\u001b[39m     \u001b[38;5;28;43mself\u001b[39;49m\u001b[43m.\u001b[49m\u001b[43m_validate_conn\u001b[49m\u001b[43m(\u001b[49m\u001b[43mconn\u001b[49m\u001b[43m)\u001b[49m\n\u001b[32m    465\u001b[39m \u001b[38;5;28;01mexcept\u001b[39;00m (SocketTimeout, BaseSSLError) \u001b[38;5;28;01mas\u001b[39;00m e:\n",
      "\u001b[36mFile \u001b[39m\u001b[32m~/micromamba/envs/pyclass-docs/lib/python3.11/site-packages/urllib3/connectionpool.py:1093\u001b[39m, in \u001b[36mHTTPSConnectionPool._validate_conn\u001b[39m\u001b[34m(self, conn)\u001b[39m\n\u001b[32m   1092\u001b[39m \u001b[38;5;28;01mif\u001b[39;00m conn.is_closed:\n\u001b[32m-> \u001b[39m\u001b[32m1093\u001b[39m     \u001b[43mconn\u001b[49m\u001b[43m.\u001b[49m\u001b[43mconnect\u001b[49m\u001b[43m(\u001b[49m\u001b[43m)\u001b[49m\n\u001b[32m   1095\u001b[39m \u001b[38;5;66;03m# TODO revise this, see https://github.com/urllib3/urllib3/issues/2791\u001b[39;00m\n",
      "\u001b[36mFile \u001b[39m\u001b[32m~/micromamba/envs/pyclass-docs/lib/python3.11/site-packages/urllib3/connection.py:790\u001b[39m, in \u001b[36mHTTPSConnection.connect\u001b[39m\u001b[34m(self)\u001b[39m\n\u001b[32m    788\u001b[39m server_hostname_rm_dot = server_hostname.rstrip(\u001b[33m\"\u001b[39m\u001b[33m.\u001b[39m\u001b[33m\"\u001b[39m)\n\u001b[32m--> \u001b[39m\u001b[32m790\u001b[39m sock_and_verified = \u001b[43m_ssl_wrap_socket_and_match_hostname\u001b[49m\u001b[43m(\u001b[49m\n\u001b[32m    791\u001b[39m \u001b[43m    \u001b[49m\u001b[43msock\u001b[49m\u001b[43m=\u001b[49m\u001b[43msock\u001b[49m\u001b[43m,\u001b[49m\n\u001b[32m    792\u001b[39m \u001b[43m    \u001b[49m\u001b[43mcert_reqs\u001b[49m\u001b[43m=\u001b[49m\u001b[38;5;28;43mself\u001b[39;49m\u001b[43m.\u001b[49m\u001b[43mcert_reqs\u001b[49m\u001b[43m,\u001b[49m\n\u001b[32m    793\u001b[39m \u001b[43m    \u001b[49m\u001b[43mssl_version\u001b[49m\u001b[43m=\u001b[49m\u001b[38;5;28;43mself\u001b[39;49m\u001b[43m.\u001b[49m\u001b[43mssl_version\u001b[49m\u001b[43m,\u001b[49m\n\u001b[32m    794\u001b[39m \u001b[43m    \u001b[49m\u001b[43mssl_minimum_version\u001b[49m\u001b[43m=\u001b[49m\u001b[38;5;28;43mself\u001b[39;49m\u001b[43m.\u001b[49m\u001b[43mssl_minimum_version\u001b[49m\u001b[43m,\u001b[49m\n\u001b[32m    795\u001b[39m \u001b[43m    \u001b[49m\u001b[43mssl_maximum_version\u001b[49m\u001b[43m=\u001b[49m\u001b[38;5;28;43mself\u001b[39;49m\u001b[43m.\u001b[49m\u001b[43mssl_maximum_version\u001b[49m\u001b[43m,\u001b[49m\n\u001b[32m    796\u001b[39m \u001b[43m    \u001b[49m\u001b[43mca_certs\u001b[49m\u001b[43m=\u001b[49m\u001b[38;5;28;43mself\u001b[39;49m\u001b[43m.\u001b[49m\u001b[43mca_certs\u001b[49m\u001b[43m,\u001b[49m\n\u001b[32m    797\u001b[39m \u001b[43m    \u001b[49m\u001b[43mca_cert_dir\u001b[49m\u001b[43m=\u001b[49m\u001b[38;5;28;43mself\u001b[39;49m\u001b[43m.\u001b[49m\u001b[43mca_cert_dir\u001b[49m\u001b[43m,\u001b[49m\n\u001b[32m    798\u001b[39m \u001b[43m    \u001b[49m\u001b[43mca_cert_data\u001b[49m\u001b[43m=\u001b[49m\u001b[38;5;28;43mself\u001b[39;49m\u001b[43m.\u001b[49m\u001b[43mca_cert_data\u001b[49m\u001b[43m,\u001b[49m\n\u001b[32m    799\u001b[39m \u001b[43m    \u001b[49m\u001b[43mcert_file\u001b[49m\u001b[43m=\u001b[49m\u001b[38;5;28;43mself\u001b[39;49m\u001b[43m.\u001b[49m\u001b[43mcert_file\u001b[49m\u001b[43m,\u001b[49m\n\u001b[32m    800\u001b[39m \u001b[43m    \u001b[49m\u001b[43mkey_file\u001b[49m\u001b[43m=\u001b[49m\u001b[38;5;28;43mself\u001b[39;49m\u001b[43m.\u001b[49m\u001b[43mkey_file\u001b[49m\u001b[43m,\u001b[49m\n\u001b[32m    801\u001b[39m \u001b[43m    \u001b[49m\u001b[43mkey_password\u001b[49m\u001b[43m=\u001b[49m\u001b[38;5;28;43mself\u001b[39;49m\u001b[43m.\u001b[49m\u001b[43mkey_password\u001b[49m\u001b[43m,\u001b[49m\n\u001b[32m    802\u001b[39m \u001b[43m    \u001b[49m\u001b[43mserver_hostname\u001b[49m\u001b[43m=\u001b[49m\u001b[43mserver_hostname_rm_dot\u001b[49m\u001b[43m,\u001b[49m\n\u001b[32m    803\u001b[39m \u001b[43m    \u001b[49m\u001b[43mssl_context\u001b[49m\u001b[43m=\u001b[49m\u001b[38;5;28;43mself\u001b[39;49m\u001b[43m.\u001b[49m\u001b[43mssl_context\u001b[49m\u001b[43m,\u001b[49m\n\u001b[32m    804\u001b[39m \u001b[43m    \u001b[49m\u001b[43mtls_in_tls\u001b[49m\u001b[43m=\u001b[49m\u001b[43mtls_in_tls\u001b[49m\u001b[43m,\u001b[49m\n\u001b[32m    805\u001b[39m \u001b[43m    \u001b[49m\u001b[43massert_hostname\u001b[49m\u001b[43m=\u001b[49m\u001b[38;5;28;43mself\u001b[39;49m\u001b[43m.\u001b[49m\u001b[43massert_hostname\u001b[49m\u001b[43m,\u001b[49m\n\u001b[32m    806\u001b[39m \u001b[43m    \u001b[49m\u001b[43massert_fingerprint\u001b[49m\u001b[43m=\u001b[49m\u001b[38;5;28;43mself\u001b[39;49m\u001b[43m.\u001b[49m\u001b[43massert_fingerprint\u001b[49m\u001b[43m,\u001b[49m\n\u001b[32m    807\u001b[39m \u001b[43m\u001b[49m\u001b[43m)\u001b[49m\n\u001b[32m    808\u001b[39m \u001b[38;5;28mself\u001b[39m.sock = sock_and_verified.socket\n",
      "\u001b[36mFile \u001b[39m\u001b[32m~/micromamba/envs/pyclass-docs/lib/python3.11/site-packages/urllib3/connection.py:969\u001b[39m, in \u001b[36m_ssl_wrap_socket_and_match_hostname\u001b[39m\u001b[34m(sock, cert_reqs, ssl_version, ssl_minimum_version, ssl_maximum_version, cert_file, key_file, key_password, ca_certs, ca_cert_dir, ca_cert_data, assert_hostname, assert_fingerprint, server_hostname, ssl_context, tls_in_tls)\u001b[39m\n\u001b[32m    967\u001b[39m         server_hostname = normalized\n\u001b[32m--> \u001b[39m\u001b[32m969\u001b[39m ssl_sock = \u001b[43mssl_wrap_socket\u001b[49m\u001b[43m(\u001b[49m\n\u001b[32m    970\u001b[39m \u001b[43m    \u001b[49m\u001b[43msock\u001b[49m\u001b[43m=\u001b[49m\u001b[43msock\u001b[49m\u001b[43m,\u001b[49m\n\u001b[32m    971\u001b[39m \u001b[43m    \u001b[49m\u001b[43mkeyfile\u001b[49m\u001b[43m=\u001b[49m\u001b[43mkey_file\u001b[49m\u001b[43m,\u001b[49m\n\u001b[32m    972\u001b[39m \u001b[43m    \u001b[49m\u001b[43mcertfile\u001b[49m\u001b[43m=\u001b[49m\u001b[43mcert_file\u001b[49m\u001b[43m,\u001b[49m\n\u001b[32m    973\u001b[39m \u001b[43m    \u001b[49m\u001b[43mkey_password\u001b[49m\u001b[43m=\u001b[49m\u001b[43mkey_password\u001b[49m\u001b[43m,\u001b[49m\n\u001b[32m    974\u001b[39m \u001b[43m    \u001b[49m\u001b[43mca_certs\u001b[49m\u001b[43m=\u001b[49m\u001b[43mca_certs\u001b[49m\u001b[43m,\u001b[49m\n\u001b[32m    975\u001b[39m \u001b[43m    \u001b[49m\u001b[43mca_cert_dir\u001b[49m\u001b[43m=\u001b[49m\u001b[43mca_cert_dir\u001b[49m\u001b[43m,\u001b[49m\n\u001b[32m    976\u001b[39m \u001b[43m    \u001b[49m\u001b[43mca_cert_data\u001b[49m\u001b[43m=\u001b[49m\u001b[43mca_cert_data\u001b[49m\u001b[43m,\u001b[49m\n\u001b[32m    977\u001b[39m \u001b[43m    \u001b[49m\u001b[43mserver_hostname\u001b[49m\u001b[43m=\u001b[49m\u001b[43mserver_hostname\u001b[49m\u001b[43m,\u001b[49m\n\u001b[32m    978\u001b[39m \u001b[43m    \u001b[49m\u001b[43mssl_context\u001b[49m\u001b[43m=\u001b[49m\u001b[43mcontext\u001b[49m\u001b[43m,\u001b[49m\n\u001b[32m    979\u001b[39m \u001b[43m    \u001b[49m\u001b[43mtls_in_tls\u001b[49m\u001b[43m=\u001b[49m\u001b[43mtls_in_tls\u001b[49m\u001b[43m,\u001b[49m\n\u001b[32m    980\u001b[39m \u001b[43m\u001b[49m\u001b[43m)\u001b[49m\n\u001b[32m    982\u001b[39m \u001b[38;5;28;01mtry\u001b[39;00m:\n",
      "\u001b[36mFile \u001b[39m\u001b[32m~/micromamba/envs/pyclass-docs/lib/python3.11/site-packages/urllib3/util/ssl_.py:480\u001b[39m, in \u001b[36mssl_wrap_socket\u001b[39m\u001b[34m(sock, keyfile, certfile, cert_reqs, ca_certs, server_hostname, ssl_version, ciphers, ssl_context, ca_cert_dir, key_password, ca_cert_data, tls_in_tls)\u001b[39m\n\u001b[32m    478\u001b[39m context.set_alpn_protocols(ALPN_PROTOCOLS)\n\u001b[32m--> \u001b[39m\u001b[32m480\u001b[39m ssl_sock = \u001b[43m_ssl_wrap_socket_impl\u001b[49m\u001b[43m(\u001b[49m\u001b[43msock\u001b[49m\u001b[43m,\u001b[49m\u001b[43m \u001b[49m\u001b[43mcontext\u001b[49m\u001b[43m,\u001b[49m\u001b[43m \u001b[49m\u001b[43mtls_in_tls\u001b[49m\u001b[43m,\u001b[49m\u001b[43m \u001b[49m\u001b[43mserver_hostname\u001b[49m\u001b[43m)\u001b[49m\n\u001b[32m    481\u001b[39m \u001b[38;5;28;01mreturn\u001b[39;00m ssl_sock\n",
      "\u001b[36mFile \u001b[39m\u001b[32m~/micromamba/envs/pyclass-docs/lib/python3.11/site-packages/urllib3/util/ssl_.py:524\u001b[39m, in \u001b[36m_ssl_wrap_socket_impl\u001b[39m\u001b[34m(sock, ssl_context, tls_in_tls, server_hostname)\u001b[39m\n\u001b[32m    522\u001b[39m     \u001b[38;5;28;01mreturn\u001b[39;00m SSLTransport(sock, ssl_context, server_hostname)\n\u001b[32m--> \u001b[39m\u001b[32m524\u001b[39m \u001b[38;5;28;01mreturn\u001b[39;00m \u001b[43mssl_context\u001b[49m\u001b[43m.\u001b[49m\u001b[43mwrap_socket\u001b[49m\u001b[43m(\u001b[49m\u001b[43msock\u001b[49m\u001b[43m,\u001b[49m\u001b[43m \u001b[49m\u001b[43mserver_hostname\u001b[49m\u001b[43m=\u001b[49m\u001b[43mserver_hostname\u001b[49m\u001b[43m)\u001b[49m\n",
      "\u001b[36mFile \u001b[39m\u001b[32m~/micromamba/envs/pyclass-docs/lib/python3.11/ssl.py:517\u001b[39m, in \u001b[36mSSLContext.wrap_socket\u001b[39m\u001b[34m(self, sock, server_side, do_handshake_on_connect, suppress_ragged_eofs, server_hostname, session)\u001b[39m\n\u001b[32m    511\u001b[39m \u001b[38;5;28;01mdef\u001b[39;00m\u001b[38;5;250m \u001b[39m\u001b[34mwrap_socket\u001b[39m(\u001b[38;5;28mself\u001b[39m, sock, server_side=\u001b[38;5;28;01mFalse\u001b[39;00m,\n\u001b[32m    512\u001b[39m                 do_handshake_on_connect=\u001b[38;5;28;01mTrue\u001b[39;00m,\n\u001b[32m    513\u001b[39m                 suppress_ragged_eofs=\u001b[38;5;28;01mTrue\u001b[39;00m,\n\u001b[32m    514\u001b[39m                 server_hostname=\u001b[38;5;28;01mNone\u001b[39;00m, session=\u001b[38;5;28;01mNone\u001b[39;00m):\n\u001b[32m    515\u001b[39m     \u001b[38;5;66;03m# SSLSocket class handles server_hostname encoding before it calls\u001b[39;00m\n\u001b[32m    516\u001b[39m     \u001b[38;5;66;03m# ctx._wrap_socket()\u001b[39;00m\n\u001b[32m--> \u001b[39m\u001b[32m517\u001b[39m     \u001b[38;5;28;01mreturn\u001b[39;00m \u001b[38;5;28;43mself\u001b[39;49m\u001b[43m.\u001b[49m\u001b[43msslsocket_class\u001b[49m\u001b[43m.\u001b[49m\u001b[43m_create\u001b[49m\u001b[43m(\u001b[49m\n\u001b[32m    518\u001b[39m \u001b[43m        \u001b[49m\u001b[43msock\u001b[49m\u001b[43m=\u001b[49m\u001b[43msock\u001b[49m\u001b[43m,\u001b[49m\n\u001b[32m    519\u001b[39m \u001b[43m        \u001b[49m\u001b[43mserver_side\u001b[49m\u001b[43m=\u001b[49m\u001b[43mserver_side\u001b[49m\u001b[43m,\u001b[49m\n\u001b[32m    520\u001b[39m \u001b[43m        \u001b[49m\u001b[43mdo_handshake_on_connect\u001b[49m\u001b[43m=\u001b[49m\u001b[43mdo_handshake_on_connect\u001b[49m\u001b[43m,\u001b[49m\n\u001b[32m    521\u001b[39m \u001b[43m        \u001b[49m\u001b[43msuppress_ragged_eofs\u001b[49m\u001b[43m=\u001b[49m\u001b[43msuppress_ragged_eofs\u001b[49m\u001b[43m,\u001b[49m\n\u001b[32m    522\u001b[39m \u001b[43m        \u001b[49m\u001b[43mserver_hostname\u001b[49m\u001b[43m=\u001b[49m\u001b[43mserver_hostname\u001b[49m\u001b[43m,\u001b[49m\n\u001b[32m    523\u001b[39m \u001b[43m        \u001b[49m\u001b[43mcontext\u001b[49m\u001b[43m=\u001b[49m\u001b[38;5;28;43mself\u001b[39;49m\u001b[43m,\u001b[49m\n\u001b[32m    524\u001b[39m \u001b[43m        \u001b[49m\u001b[43msession\u001b[49m\u001b[43m=\u001b[49m\u001b[43msession\u001b[49m\n\u001b[32m    525\u001b[39m \u001b[43m    \u001b[49m\u001b[43m)\u001b[49m\n",
      "\u001b[36mFile \u001b[39m\u001b[32m~/micromamba/envs/pyclass-docs/lib/python3.11/ssl.py:1104\u001b[39m, in \u001b[36mSSLSocket._create\u001b[39m\u001b[34m(cls, sock, server_side, do_handshake_on_connect, suppress_ragged_eofs, server_hostname, context, session)\u001b[39m\n\u001b[32m   1103\u001b[39m                 \u001b[38;5;28;01mraise\u001b[39;00m \u001b[38;5;167;01mValueError\u001b[39;00m(\u001b[33m\"\u001b[39m\u001b[33mdo_handshake_on_connect should not be specified for non-blocking sockets\u001b[39m\u001b[33m\"\u001b[39m)\n\u001b[32m-> \u001b[39m\u001b[32m1104\u001b[39m             \u001b[38;5;28;43mself\u001b[39;49m\u001b[43m.\u001b[49m\u001b[43mdo_handshake\u001b[49m\u001b[43m(\u001b[49m\u001b[43m)\u001b[49m\n\u001b[32m   1105\u001b[39m \u001b[38;5;28;01mexcept\u001b[39;00m:\n",
      "\u001b[36mFile \u001b[39m\u001b[32m~/micromamba/envs/pyclass-docs/lib/python3.11/ssl.py:1382\u001b[39m, in \u001b[36mSSLSocket.do_handshake\u001b[39m\u001b[34m(self, block)\u001b[39m\n\u001b[32m   1381\u001b[39m         \u001b[38;5;28mself\u001b[39m.settimeout(\u001b[38;5;28;01mNone\u001b[39;00m)\n\u001b[32m-> \u001b[39m\u001b[32m1382\u001b[39m     \u001b[38;5;28;43mself\u001b[39;49m\u001b[43m.\u001b[49m\u001b[43m_sslobj\u001b[49m\u001b[43m.\u001b[49m\u001b[43mdo_handshake\u001b[49m\u001b[43m(\u001b[49m\u001b[43m)\u001b[49m\n\u001b[32m   1383\u001b[39m \u001b[38;5;28;01mfinally\u001b[39;00m:\n",
      "\u001b[31mSSLEOFError\u001b[39m: [SSL: UNEXPECTED_EOF_WHILE_READING] EOF occurred in violation of protocol (_ssl.c:1016)",
      "\nDuring handling of the above exception, another exception occurred:\n",
      "\u001b[31mSSLError\u001b[39m                                  Traceback (most recent call last)",
      "\u001b[36mFile \u001b[39m\u001b[32m~/micromamba/envs/pyclass-docs/lib/python3.11/site-packages/urllib3/connectionpool.py:787\u001b[39m, in \u001b[36mHTTPConnectionPool.urlopen\u001b[39m\u001b[34m(self, method, url, body, headers, retries, redirect, assert_same_host, timeout, pool_timeout, release_conn, chunked, body_pos, preload_content, decode_content, **response_kw)\u001b[39m\n\u001b[32m    786\u001b[39m \u001b[38;5;66;03m# Make the request on the HTTPConnection object\u001b[39;00m\n\u001b[32m--> \u001b[39m\u001b[32m787\u001b[39m response = \u001b[38;5;28;43mself\u001b[39;49m\u001b[43m.\u001b[49m\u001b[43m_make_request\u001b[49m\u001b[43m(\u001b[49m\n\u001b[32m    788\u001b[39m \u001b[43m    \u001b[49m\u001b[43mconn\u001b[49m\u001b[43m,\u001b[49m\n\u001b[32m    789\u001b[39m \u001b[43m    \u001b[49m\u001b[43mmethod\u001b[49m\u001b[43m,\u001b[49m\n\u001b[32m    790\u001b[39m \u001b[43m    \u001b[49m\u001b[43murl\u001b[49m\u001b[43m,\u001b[49m\n\u001b[32m    791\u001b[39m \u001b[43m    \u001b[49m\u001b[43mtimeout\u001b[49m\u001b[43m=\u001b[49m\u001b[43mtimeout_obj\u001b[49m\u001b[43m,\u001b[49m\n\u001b[32m    792\u001b[39m \u001b[43m    \u001b[49m\u001b[43mbody\u001b[49m\u001b[43m=\u001b[49m\u001b[43mbody\u001b[49m\u001b[43m,\u001b[49m\n\u001b[32m    793\u001b[39m \u001b[43m    \u001b[49m\u001b[43mheaders\u001b[49m\u001b[43m=\u001b[49m\u001b[43mheaders\u001b[49m\u001b[43m,\u001b[49m\n\u001b[32m    794\u001b[39m \u001b[43m    \u001b[49m\u001b[43mchunked\u001b[49m\u001b[43m=\u001b[49m\u001b[43mchunked\u001b[49m\u001b[43m,\u001b[49m\n\u001b[32m    795\u001b[39m \u001b[43m    \u001b[49m\u001b[43mretries\u001b[49m\u001b[43m=\u001b[49m\u001b[43mretries\u001b[49m\u001b[43m,\u001b[49m\n\u001b[32m    796\u001b[39m \u001b[43m    \u001b[49m\u001b[43mresponse_conn\u001b[49m\u001b[43m=\u001b[49m\u001b[43mresponse_conn\u001b[49m\u001b[43m,\u001b[49m\n\u001b[32m    797\u001b[39m \u001b[43m    \u001b[49m\u001b[43mpreload_content\u001b[49m\u001b[43m=\u001b[49m\u001b[43mpreload_content\u001b[49m\u001b[43m,\u001b[49m\n\u001b[32m    798\u001b[39m \u001b[43m    \u001b[49m\u001b[43mdecode_content\u001b[49m\u001b[43m=\u001b[49m\u001b[43mdecode_content\u001b[49m\u001b[43m,\u001b[49m\n\u001b[32m    799\u001b[39m \u001b[43m    \u001b[49m\u001b[43m*\u001b[49m\u001b[43m*\u001b[49m\u001b[43mresponse_kw\u001b[49m\u001b[43m,\u001b[49m\n\u001b[32m    800\u001b[39m \u001b[43m\u001b[49m\u001b[43m)\u001b[49m\n\u001b[32m    802\u001b[39m \u001b[38;5;66;03m# Everything went great!\u001b[39;00m\n",
      "\u001b[36mFile \u001b[39m\u001b[32m~/micromamba/envs/pyclass-docs/lib/python3.11/site-packages/urllib3/connectionpool.py:488\u001b[39m, in \u001b[36mHTTPConnectionPool._make_request\u001b[39m\u001b[34m(self, conn, method, url, body, headers, retries, timeout, chunked, response_conn, preload_content, decode_content, enforce_content_length)\u001b[39m\n\u001b[32m    487\u001b[39m         new_e = _wrap_proxy_error(new_e, conn.proxy.scheme)\n\u001b[32m--> \u001b[39m\u001b[32m488\u001b[39m     \u001b[38;5;28;01mraise\u001b[39;00m new_e\n\u001b[32m    490\u001b[39m \u001b[38;5;66;03m# conn.request() calls http.client.*.request, not the method in\u001b[39;00m\n\u001b[32m    491\u001b[39m \u001b[38;5;66;03m# urllib3.request. It also calls makefile (recv) on the socket.\u001b[39;00m\n",
      "\u001b[31mSSLError\u001b[39m: [SSL: UNEXPECTED_EOF_WHILE_READING] EOF occurred in violation of protocol (_ssl.c:1016)",
      "\nThe above exception was the direct cause of the following exception:\n",
      "\u001b[31mMaxRetryError\u001b[39m                             Traceback (most recent call last)",
      "\u001b[36mFile \u001b[39m\u001b[32m~/micromamba/envs/pyclass-docs/lib/python3.11/site-packages/requests/adapters.py:644\u001b[39m, in \u001b[36mHTTPAdapter.send\u001b[39m\u001b[34m(self, request, stream, timeout, verify, cert, proxies)\u001b[39m\n\u001b[32m    643\u001b[39m \u001b[38;5;28;01mtry\u001b[39;00m:\n\u001b[32m--> \u001b[39m\u001b[32m644\u001b[39m     resp = \u001b[43mconn\u001b[49m\u001b[43m.\u001b[49m\u001b[43murlopen\u001b[49m\u001b[43m(\u001b[49m\n\u001b[32m    645\u001b[39m \u001b[43m        \u001b[49m\u001b[43mmethod\u001b[49m\u001b[43m=\u001b[49m\u001b[43mrequest\u001b[49m\u001b[43m.\u001b[49m\u001b[43mmethod\u001b[49m\u001b[43m,\u001b[49m\n\u001b[32m    646\u001b[39m \u001b[43m        \u001b[49m\u001b[43murl\u001b[49m\u001b[43m=\u001b[49m\u001b[43murl\u001b[49m\u001b[43m,\u001b[49m\n\u001b[32m    647\u001b[39m \u001b[43m        \u001b[49m\u001b[43mbody\u001b[49m\u001b[43m=\u001b[49m\u001b[43mrequest\u001b[49m\u001b[43m.\u001b[49m\u001b[43mbody\u001b[49m\u001b[43m,\u001b[49m\n\u001b[32m    648\u001b[39m \u001b[43m        \u001b[49m\u001b[43mheaders\u001b[49m\u001b[43m=\u001b[49m\u001b[43mrequest\u001b[49m\u001b[43m.\u001b[49m\u001b[43mheaders\u001b[49m\u001b[43m,\u001b[49m\n\u001b[32m    649\u001b[39m \u001b[43m        \u001b[49m\u001b[43mredirect\u001b[49m\u001b[43m=\u001b[49m\u001b[38;5;28;43;01mFalse\u001b[39;49;00m\u001b[43m,\u001b[49m\n\u001b[32m    650\u001b[39m \u001b[43m        \u001b[49m\u001b[43massert_same_host\u001b[49m\u001b[43m=\u001b[49m\u001b[38;5;28;43;01mFalse\u001b[39;49;00m\u001b[43m,\u001b[49m\n\u001b[32m    651\u001b[39m \u001b[43m        \u001b[49m\u001b[43mpreload_content\u001b[49m\u001b[43m=\u001b[49m\u001b[38;5;28;43;01mFalse\u001b[39;49;00m\u001b[43m,\u001b[49m\n\u001b[32m    652\u001b[39m \u001b[43m        \u001b[49m\u001b[43mdecode_content\u001b[49m\u001b[43m=\u001b[49m\u001b[38;5;28;43;01mFalse\u001b[39;49;00m\u001b[43m,\u001b[49m\n\u001b[32m    653\u001b[39m \u001b[43m        \u001b[49m\u001b[43mretries\u001b[49m\u001b[43m=\u001b[49m\u001b[38;5;28;43mself\u001b[39;49m\u001b[43m.\u001b[49m\u001b[43mmax_retries\u001b[49m\u001b[43m,\u001b[49m\n\u001b[32m    654\u001b[39m \u001b[43m        \u001b[49m\u001b[43mtimeout\u001b[49m\u001b[43m=\u001b[49m\u001b[43mtimeout\u001b[49m\u001b[43m,\u001b[49m\n\u001b[32m    655\u001b[39m \u001b[43m        \u001b[49m\u001b[43mchunked\u001b[49m\u001b[43m=\u001b[49m\u001b[43mchunked\u001b[49m\u001b[43m,\u001b[49m\n\u001b[32m    656\u001b[39m \u001b[43m    \u001b[49m\u001b[43m)\u001b[49m\n\u001b[32m    658\u001b[39m \u001b[38;5;28;01mexcept\u001b[39;00m (ProtocolError, \u001b[38;5;167;01mOSError\u001b[39;00m) \u001b[38;5;28;01mas\u001b[39;00m err:\n",
      "\u001b[36mFile \u001b[39m\u001b[32m~/micromamba/envs/pyclass-docs/lib/python3.11/site-packages/urllib3/connectionpool.py:841\u001b[39m, in \u001b[36mHTTPConnectionPool.urlopen\u001b[39m\u001b[34m(self, method, url, body, headers, retries, redirect, assert_same_host, timeout, pool_timeout, release_conn, chunked, body_pos, preload_content, decode_content, **response_kw)\u001b[39m\n\u001b[32m    839\u001b[39m     new_e = ProtocolError(\u001b[33m\"\u001b[39m\u001b[33mConnection aborted.\u001b[39m\u001b[33m\"\u001b[39m, new_e)\n\u001b[32m--> \u001b[39m\u001b[32m841\u001b[39m retries = \u001b[43mretries\u001b[49m\u001b[43m.\u001b[49m\u001b[43mincrement\u001b[49m\u001b[43m(\u001b[49m\n\u001b[32m    842\u001b[39m \u001b[43m    \u001b[49m\u001b[43mmethod\u001b[49m\u001b[43m,\u001b[49m\u001b[43m \u001b[49m\u001b[43murl\u001b[49m\u001b[43m,\u001b[49m\u001b[43m \u001b[49m\u001b[43merror\u001b[49m\u001b[43m=\u001b[49m\u001b[43mnew_e\u001b[49m\u001b[43m,\u001b[49m\u001b[43m \u001b[49m\u001b[43m_pool\u001b[49m\u001b[43m=\u001b[49m\u001b[38;5;28;43mself\u001b[39;49m\u001b[43m,\u001b[49m\u001b[43m \u001b[49m\u001b[43m_stacktrace\u001b[49m\u001b[43m=\u001b[49m\u001b[43msys\u001b[49m\u001b[43m.\u001b[49m\u001b[43mexc_info\u001b[49m\u001b[43m(\u001b[49m\u001b[43m)\u001b[49m\u001b[43m[\u001b[49m\u001b[32;43m2\u001b[39;49m\u001b[43m]\u001b[49m\n\u001b[32m    843\u001b[39m \u001b[43m\u001b[49m\u001b[43m)\u001b[49m\n\u001b[32m    844\u001b[39m retries.sleep()\n",
      "\u001b[36mFile \u001b[39m\u001b[32m~/micromamba/envs/pyclass-docs/lib/python3.11/site-packages/urllib3/util/retry.py:519\u001b[39m, in \u001b[36mRetry.increment\u001b[39m\u001b[34m(self, method, url, response, error, _pool, _stacktrace)\u001b[39m\n\u001b[32m    518\u001b[39m     reason = error \u001b[38;5;129;01mor\u001b[39;00m ResponseError(cause)\n\u001b[32m--> \u001b[39m\u001b[32m519\u001b[39m     \u001b[38;5;28;01mraise\u001b[39;00m MaxRetryError(_pool, url, reason) \u001b[38;5;28;01mfrom\u001b[39;00m\u001b[38;5;250m \u001b[39m\u001b[34;01mreason\u001b[39;00m  \u001b[38;5;66;03m# type: ignore[arg-type]\u001b[39;00m\n\u001b[32m    521\u001b[39m log.debug(\u001b[33m\"\u001b[39m\u001b[33mIncremented Retry for (url=\u001b[39m\u001b[33m'\u001b[39m\u001b[38;5;132;01m%s\u001b[39;00m\u001b[33m'\u001b[39m\u001b[33m): \u001b[39m\u001b[38;5;132;01m%r\u001b[39;00m\u001b[33m\"\u001b[39m, url, new_retry)\n",
      "\u001b[31mMaxRetryError\u001b[39m: HTTPSConnectionPool(host='waterservices.usgs.gov', port=443): Max retries exceeded with url: /nwis/site?bBox=-123.1%2C38.45%2C-122.9%2C38.55&siteOutput=Expanded&format=rdb (Caused by SSLError(SSLEOFError(8, '[SSL: UNEXPECTED_EOF_WHILE_READING] EOF occurred in violation of protocol (_ssl.c:1016)')))",
      "\nDuring handling of the above exception, another exception occurred:\n",
      "\u001b[31mSSLError\u001b[39m                                  Traceback (most recent call last)",
      "\u001b[36mCell\u001b[39m\u001b[36m \u001b[39m\u001b[32mIn[2]\u001b[39m\u001b[32m, line 2\u001b[39m\n\u001b[32m      1\u001b[39m bbox = (-\u001b[32m123.10\u001b[39m, \u001b[32m38.45\u001b[39m, -\u001b[32m122.90\u001b[39m, \u001b[32m38.55\u001b[39m)\n\u001b[32m----> \u001b[39m\u001b[32m2\u001b[39m info, metadata = \u001b[43mnwis\u001b[49m\u001b[43m.\u001b[49m\u001b[43mget_info\u001b[49m\u001b[43m(\u001b[49m\u001b[43mbBox\u001b[49m\u001b[43m=\u001b[49m\u001b[43m[\u001b[49m\u001b[38;5;28;43mstr\u001b[39;49m\u001b[43m(\u001b[49m\u001b[43mi\u001b[49m\u001b[43m)\u001b[49m\u001b[43m \u001b[49m\u001b[38;5;28;43;01mfor\u001b[39;49;00m\u001b[43m \u001b[49m\u001b[43mi\u001b[49m\u001b[43m \u001b[49m\u001b[38;5;129;43;01min\u001b[39;49;00m\u001b[43m \u001b[49m\u001b[43mbbox\u001b[49m\u001b[43m]\u001b[49m\u001b[43m)\u001b[49m\n\u001b[32m      3\u001b[39m \u001b[38;5;28;01mif\u001b[39;00m \u001b[33m'\u001b[39m\u001b[33mgeometry\u001b[39m\u001b[33m'\u001b[39m \u001b[38;5;129;01min\u001b[39;00m \u001b[38;5;28mlist\u001b[39m(info):\n\u001b[32m      4\u001b[39m     \u001b[38;5;66;03m# dataretreival now returns as geopandas dataframe, drop \"geometry\" column for this example\u001b[39;00m\n\u001b[32m      5\u001b[39m     info.drop(columns=[\u001b[33m\"\u001b[39m\u001b[33mgeometry\u001b[39m\u001b[33m\"\u001b[39m], inplace=\u001b[38;5;28;01mTrue\u001b[39;00m)\n",
      "\u001b[36mFile \u001b[39m\u001b[32m~/micromamba/envs/pyclass-docs/lib/python3.11/site-packages/dataretrieval/nwis.py:816\u001b[39m, in \u001b[36mget_info\u001b[39m\u001b[34m(ssl_check, **kwargs)\u001b[39m\n\u001b[32m    812\u001b[39m \u001b[38;5;28;01melse\u001b[39;00m:\n\u001b[32m    813\u001b[39m     \u001b[38;5;66;03m# cannot have both seriesCatalogOutput and the expanded format\u001b[39;00m\n\u001b[32m    814\u001b[39m     kwargs[\u001b[33m\"\u001b[39m\u001b[33msiteOutput\u001b[39m\u001b[33m\"\u001b[39m] = \u001b[33m\"\u001b[39m\u001b[33mExpanded\u001b[39m\u001b[33m\"\u001b[39m\n\u001b[32m--> \u001b[39m\u001b[32m816\u001b[39m response = \u001b[43mquery_waterservices\u001b[49m\u001b[43m(\u001b[49m\u001b[33;43m\"\u001b[39;49m\u001b[33;43msite\u001b[39;49m\u001b[33;43m\"\u001b[39;49m\u001b[43m,\u001b[49m\u001b[43m \u001b[49m\u001b[43mssl_check\u001b[49m\u001b[43m=\u001b[49m\u001b[43mssl_check\u001b[49m\u001b[43m,\u001b[49m\u001b[43m \u001b[49m\u001b[43m*\u001b[49m\u001b[43m*\u001b[49m\u001b[43mkwargs\u001b[49m\u001b[43m)\u001b[49m\n\u001b[32m    818\u001b[39m \u001b[38;5;28;01mreturn\u001b[39;00m _read_rdb(response.text), NWIS_Metadata(response, **kwargs)\n",
      "\u001b[36mFile \u001b[39m\u001b[32m~/micromamba/envs/pyclass-docs/lib/python3.11/site-packages/dataretrieval/nwis.py:633\u001b[39m, in \u001b[36mquery_waterservices\u001b[39m\u001b[34m(service, ssl_check, **kwargs)\u001b[39m\n\u001b[32m    629\u001b[39m     kwargs[\u001b[33m\"\u001b[39m\u001b[33mformat\u001b[39m\u001b[33m\"\u001b[39m] = \u001b[33m\"\u001b[39m\u001b[33mrdb\u001b[39m\u001b[33m\"\u001b[39m\n\u001b[32m    631\u001b[39m url = WATERSERVICE_URL + service\n\u001b[32m--> \u001b[39m\u001b[32m633\u001b[39m \u001b[38;5;28;01mreturn\u001b[39;00m \u001b[43mquery\u001b[49m\u001b[43m(\u001b[49m\u001b[43murl\u001b[49m\u001b[43m,\u001b[49m\u001b[43m \u001b[49m\u001b[43mpayload\u001b[49m\u001b[43m=\u001b[49m\u001b[43mkwargs\u001b[49m\u001b[43m,\u001b[49m\u001b[43m \u001b[49m\u001b[43mssl_check\u001b[49m\u001b[43m=\u001b[49m\u001b[43mssl_check\u001b[49m\u001b[43m)\u001b[49m\n",
      "\u001b[36mFile \u001b[39m\u001b[32m~/micromamba/envs/pyclass-docs/lib/python3.11/site-packages/dataretrieval/utils.py:190\u001b[39m, in \u001b[36mquery\u001b[39m\u001b[34m(url, payload, delimiter, ssl_check)\u001b[39m\n\u001b[32m    183\u001b[39m \u001b[38;5;66;03m# for index in range(len(payload)):\u001b[39;00m\n\u001b[32m    184\u001b[39m \u001b[38;5;66;03m#    key, value = payload[index]\u001b[39;00m\n\u001b[32m    185\u001b[39m \u001b[38;5;66;03m#    payload[index] = (key, to_str(value))\u001b[39;00m\n\u001b[32m    186\u001b[39m \n\u001b[32m    187\u001b[39m \u001b[38;5;66;03m# define the user agent for the query\u001b[39;00m\n\u001b[32m    188\u001b[39m user_agent = {\u001b[33m\"\u001b[39m\u001b[33muser-agent\u001b[39m\u001b[33m\"\u001b[39m: \u001b[33mf\u001b[39m\u001b[33m\"\u001b[39m\u001b[33mpython-dataretrieval/\u001b[39m\u001b[38;5;132;01m{\u001b[39;00mdataretrieval.__version__\u001b[38;5;132;01m}\u001b[39;00m\u001b[33m\"\u001b[39m}\n\u001b[32m--> \u001b[39m\u001b[32m190\u001b[39m response = \u001b[43mrequests\u001b[49m\u001b[43m.\u001b[49m\u001b[43mget\u001b[49m\u001b[43m(\u001b[49m\u001b[43murl\u001b[49m\u001b[43m,\u001b[49m\u001b[43m \u001b[49m\u001b[43mparams\u001b[49m\u001b[43m=\u001b[49m\u001b[43mpayload\u001b[49m\u001b[43m,\u001b[49m\u001b[43m \u001b[49m\u001b[43mheaders\u001b[49m\u001b[43m=\u001b[49m\u001b[43muser_agent\u001b[49m\u001b[43m,\u001b[49m\u001b[43m \u001b[49m\u001b[43mverify\u001b[49m\u001b[43m=\u001b[49m\u001b[43mssl_check\u001b[49m\u001b[43m)\u001b[49m\n\u001b[32m    192\u001b[39m \u001b[38;5;28;01mif\u001b[39;00m response.status_code == \u001b[32m400\u001b[39m:\n\u001b[32m    193\u001b[39m     \u001b[38;5;28;01mraise\u001b[39;00m \u001b[38;5;167;01mValueError\u001b[39;00m(\n\u001b[32m    194\u001b[39m         \u001b[33mf\u001b[39m\u001b[33m\"\u001b[39m\u001b[33mBad Request, check that your parameters are correct. URL: \u001b[39m\u001b[38;5;132;01m{\u001b[39;00mresponse.url\u001b[38;5;132;01m}\u001b[39;00m\u001b[33m\"\u001b[39m\n\u001b[32m    195\u001b[39m     )\n",
      "\u001b[36mFile \u001b[39m\u001b[32m~/micromamba/envs/pyclass-docs/lib/python3.11/site-packages/requests/api.py:73\u001b[39m, in \u001b[36mget\u001b[39m\u001b[34m(url, params, **kwargs)\u001b[39m\n\u001b[32m     62\u001b[39m \u001b[38;5;28;01mdef\u001b[39;00m\u001b[38;5;250m \u001b[39m\u001b[34mget\u001b[39m(url, params=\u001b[38;5;28;01mNone\u001b[39;00m, **kwargs):\n\u001b[32m     63\u001b[39m \u001b[38;5;250m    \u001b[39m\u001b[33mr\u001b[39m\u001b[33;03m\"\"\"Sends a GET request.\u001b[39;00m\n\u001b[32m     64\u001b[39m \n\u001b[32m     65\u001b[39m \u001b[33;03m    :param url: URL for the new :class:`Request` object.\u001b[39;00m\n\u001b[32m   (...)\u001b[39m\u001b[32m     70\u001b[39m \u001b[33;03m    :rtype: requests.Response\u001b[39;00m\n\u001b[32m     71\u001b[39m \u001b[33;03m    \"\"\"\u001b[39;00m\n\u001b[32m---> \u001b[39m\u001b[32m73\u001b[39m     \u001b[38;5;28;01mreturn\u001b[39;00m \u001b[43mrequest\u001b[49m\u001b[43m(\u001b[49m\u001b[33;43m\"\u001b[39;49m\u001b[33;43mget\u001b[39;49m\u001b[33;43m\"\u001b[39;49m\u001b[43m,\u001b[49m\u001b[43m \u001b[49m\u001b[43murl\u001b[49m\u001b[43m,\u001b[49m\u001b[43m \u001b[49m\u001b[43mparams\u001b[49m\u001b[43m=\u001b[49m\u001b[43mparams\u001b[49m\u001b[43m,\u001b[49m\u001b[43m \u001b[49m\u001b[43m*\u001b[49m\u001b[43m*\u001b[49m\u001b[43mkwargs\u001b[49m\u001b[43m)\u001b[49m\n",
      "\u001b[36mFile \u001b[39m\u001b[32m~/micromamba/envs/pyclass-docs/lib/python3.11/site-packages/requests/api.py:59\u001b[39m, in \u001b[36mrequest\u001b[39m\u001b[34m(method, url, **kwargs)\u001b[39m\n\u001b[32m     55\u001b[39m \u001b[38;5;66;03m# By using the 'with' statement we are sure the session is closed, thus we\u001b[39;00m\n\u001b[32m     56\u001b[39m \u001b[38;5;66;03m# avoid leaving sockets open which can trigger a ResourceWarning in some\u001b[39;00m\n\u001b[32m     57\u001b[39m \u001b[38;5;66;03m# cases, and look like a memory leak in others.\u001b[39;00m\n\u001b[32m     58\u001b[39m \u001b[38;5;28;01mwith\u001b[39;00m sessions.Session() \u001b[38;5;28;01mas\u001b[39;00m session:\n\u001b[32m---> \u001b[39m\u001b[32m59\u001b[39m     \u001b[38;5;28;01mreturn\u001b[39;00m \u001b[43msession\u001b[49m\u001b[43m.\u001b[49m\u001b[43mrequest\u001b[49m\u001b[43m(\u001b[49m\u001b[43mmethod\u001b[49m\u001b[43m=\u001b[49m\u001b[43mmethod\u001b[49m\u001b[43m,\u001b[49m\u001b[43m \u001b[49m\u001b[43murl\u001b[49m\u001b[43m=\u001b[49m\u001b[43murl\u001b[49m\u001b[43m,\u001b[49m\u001b[43m \u001b[49m\u001b[43m*\u001b[49m\u001b[43m*\u001b[49m\u001b[43mkwargs\u001b[49m\u001b[43m)\u001b[49m\n",
      "\u001b[36mFile \u001b[39m\u001b[32m~/micromamba/envs/pyclass-docs/lib/python3.11/site-packages/requests/sessions.py:589\u001b[39m, in \u001b[36mSession.request\u001b[39m\u001b[34m(self, method, url, params, data, headers, cookies, files, auth, timeout, allow_redirects, proxies, hooks, stream, verify, cert, json)\u001b[39m\n\u001b[32m    584\u001b[39m send_kwargs = {\n\u001b[32m    585\u001b[39m     \u001b[33m\"\u001b[39m\u001b[33mtimeout\u001b[39m\u001b[33m\"\u001b[39m: timeout,\n\u001b[32m    586\u001b[39m     \u001b[33m\"\u001b[39m\u001b[33mallow_redirects\u001b[39m\u001b[33m\"\u001b[39m: allow_redirects,\n\u001b[32m    587\u001b[39m }\n\u001b[32m    588\u001b[39m send_kwargs.update(settings)\n\u001b[32m--> \u001b[39m\u001b[32m589\u001b[39m resp = \u001b[38;5;28;43mself\u001b[39;49m\u001b[43m.\u001b[49m\u001b[43msend\u001b[49m\u001b[43m(\u001b[49m\u001b[43mprep\u001b[49m\u001b[43m,\u001b[49m\u001b[43m \u001b[49m\u001b[43m*\u001b[49m\u001b[43m*\u001b[49m\u001b[43msend_kwargs\u001b[49m\u001b[43m)\u001b[49m\n\u001b[32m    591\u001b[39m \u001b[38;5;28;01mreturn\u001b[39;00m resp\n",
      "\u001b[36mFile \u001b[39m\u001b[32m~/micromamba/envs/pyclass-docs/lib/python3.11/site-packages/requests/sessions.py:703\u001b[39m, in \u001b[36mSession.send\u001b[39m\u001b[34m(self, request, **kwargs)\u001b[39m\n\u001b[32m    700\u001b[39m start = preferred_clock()\n\u001b[32m    702\u001b[39m \u001b[38;5;66;03m# Send the request\u001b[39;00m\n\u001b[32m--> \u001b[39m\u001b[32m703\u001b[39m r = \u001b[43madapter\u001b[49m\u001b[43m.\u001b[49m\u001b[43msend\u001b[49m\u001b[43m(\u001b[49m\u001b[43mrequest\u001b[49m\u001b[43m,\u001b[49m\u001b[43m \u001b[49m\u001b[43m*\u001b[49m\u001b[43m*\u001b[49m\u001b[43mkwargs\u001b[49m\u001b[43m)\u001b[49m\n\u001b[32m    705\u001b[39m \u001b[38;5;66;03m# Total elapsed time of the request (approximately)\u001b[39;00m\n\u001b[32m    706\u001b[39m elapsed = preferred_clock() - start\n",
      "\u001b[36mFile \u001b[39m\u001b[32m~/micromamba/envs/pyclass-docs/lib/python3.11/site-packages/requests/adapters.py:675\u001b[39m, in \u001b[36mHTTPAdapter.send\u001b[39m\u001b[34m(self, request, stream, timeout, verify, cert, proxies)\u001b[39m\n\u001b[32m    671\u001b[39m         \u001b[38;5;28;01mraise\u001b[39;00m ProxyError(e, request=request)\n\u001b[32m    673\u001b[39m     \u001b[38;5;28;01mif\u001b[39;00m \u001b[38;5;28misinstance\u001b[39m(e.reason, _SSLError):\n\u001b[32m    674\u001b[39m         \u001b[38;5;66;03m# This branch is for urllib3 v1.22 and later.\u001b[39;00m\n\u001b[32m--> \u001b[39m\u001b[32m675\u001b[39m         \u001b[38;5;28;01mraise\u001b[39;00m SSLError(e, request=request)\n\u001b[32m    677\u001b[39m     \u001b[38;5;28;01mraise\u001b[39;00m \u001b[38;5;167;01mConnectionError\u001b[39;00m(e, request=request)\n\u001b[32m    679\u001b[39m \u001b[38;5;28;01mexcept\u001b[39;00m ClosedPoolError \u001b[38;5;28;01mas\u001b[39;00m e:\n",
      "\u001b[31mSSLError\u001b[39m: HTTPSConnectionPool(host='waterservices.usgs.gov', port=443): Max retries exceeded with url: /nwis/site?bBox=-123.1%2C38.45%2C-122.9%2C38.55&siteOutput=Expanded&format=rdb (Caused by SSLError(SSLEOFError(8, '[SSL: UNEXPECTED_EOF_WHILE_READING] EOF occurred in violation of protocol (_ssl.c:1016)')))"
     ]
    }
   ],
   "source": [
    "bbox = (-123.10, 38.45, -122.90, 38.55)\n",
    "info, metadata = nwis.get_info(bBox=[str(i) for i in bbox])\n",
    "if 'geometry' in list(info):\n",
    "    # dataretreival now returns as geopandas dataframe, drop \"geometry\" column for this example\n",
    "    info.drop(columns=[\"geometry\"], inplace=True)"
   ]
  },
  {
   "cell_type": "code",
   "execution_count": 3,
   "id": "97e48826-2eff-4cbb-ac69-f93f2011c0ec",
   "metadata": {
    "execution": {
     "iopub.execute_input": "2025-09-22T13:35:41.506084Z",
     "iopub.status.busy": "2025-09-22T13:35:41.505885Z",
     "iopub.status.idle": "2025-09-22T13:35:41.526427Z",
     "shell.execute_reply": "2025-09-22T13:35:41.525969Z"
    }
   },
   "outputs": [
    {
     "ename": "NameError",
     "evalue": "name 'info' is not defined",
     "output_type": "error",
     "traceback": [
      "\u001b[31m---------------------------------------------------------------------------\u001b[39m",
      "\u001b[31mNameError\u001b[39m                                 Traceback (most recent call last)",
      "\u001b[36mCell\u001b[39m\u001b[36m \u001b[39m\u001b[32mIn[3]\u001b[39m\u001b[32m, line 1\u001b[39m\n\u001b[32m----> \u001b[39m\u001b[32m1\u001b[39m \u001b[43minfo\u001b[49m.to_csv(data_path / \u001b[33m\"\u001b[39m\u001b[33msite_info.csv\u001b[39m\u001b[33m\"\u001b[39m, index=\u001b[38;5;28;01mFalse\u001b[39;00m)\n\u001b[32m      2\u001b[39m info.head()\n",
      "\u001b[31mNameError\u001b[39m: name 'info' is not defined"
     ]
    }
   ],
   "source": [
    "info.to_csv(data_path / \"site_info.csv\", index=False)\n",
    "info.head()"
   ]
  },
  {
   "cell_type": "markdown",
   "id": "0bc3b4d3",
   "metadata": {},
   "source": [
    "Wow that's a lot of gages in this location, let's info on all of them and then use this data to learn about pandas"
   ]
  },
  {
   "cell_type": "markdown",
   "id": "3740b558",
   "metadata": {},
   "source": [
    "The data returned to us from our NWIS query `info` was returned to us as pandas `DataFrame`. We'll be working with this to start learning about the basics of pandas."
   ]
  },
  {
   "cell_type": "markdown",
   "id": "ab43af55",
   "metadata": {},
   "source": [
    "## Viewing data in pandas\n",
    "\n",
    "Pandas has built in methods to inspect `DataFrame` objects. We'll look at a few handy methods:\n",
    "\n",
    "   - `.head()`: inspect the first few rows of data\n",
    "   - `.tail()`: inspect the last few rows of data\n",
    "   - `.index()`: show the row indexes\n",
    "   - `.columns()`: show the column names\n",
    "   - `.describe()`: statistically describe the data"
   ]
  },
  {
   "cell_type": "code",
   "execution_count": 4,
   "id": "12384282",
   "metadata": {
    "execution": {
     "iopub.execute_input": "2025-09-22T13:35:41.527952Z",
     "iopub.status.busy": "2025-09-22T13:35:41.527802Z",
     "iopub.status.idle": "2025-09-22T13:35:41.545488Z",
     "shell.execute_reply": "2025-09-22T13:35:41.545073Z"
    }
   },
   "outputs": [
    {
     "ename": "NameError",
     "evalue": "name 'info' is not defined",
     "output_type": "error",
     "traceback": [
      "\u001b[31m---------------------------------------------------------------------------\u001b[39m",
      "\u001b[31mNameError\u001b[39m                                 Traceback (most recent call last)",
      "\u001b[36mCell\u001b[39m\u001b[36m \u001b[39m\u001b[32mIn[4]\u001b[39m\u001b[32m, line 1\u001b[39m\n\u001b[32m----> \u001b[39m\u001b[32m1\u001b[39m \u001b[43minfo\u001b[49m.head()\n",
      "\u001b[31mNameError\u001b[39m: name 'info' is not defined"
     ]
    }
   ],
   "source": [
    "info.head()"
   ]
  },
  {
   "cell_type": "code",
   "execution_count": 5,
   "id": "fd42e690",
   "metadata": {
    "execution": {
     "iopub.execute_input": "2025-09-22T13:35:41.546804Z",
     "iopub.status.busy": "2025-09-22T13:35:41.546658Z",
     "iopub.status.idle": "2025-09-22T13:35:41.563865Z",
     "shell.execute_reply": "2025-09-22T13:35:41.563293Z"
    }
   },
   "outputs": [
    {
     "ename": "NameError",
     "evalue": "name 'info' is not defined",
     "output_type": "error",
     "traceback": [
      "\u001b[31m---------------------------------------------------------------------------\u001b[39m",
      "\u001b[31mNameError\u001b[39m                                 Traceback (most recent call last)",
      "\u001b[36mCell\u001b[39m\u001b[36m \u001b[39m\u001b[32mIn[5]\u001b[39m\u001b[32m, line 1\u001b[39m\n\u001b[32m----> \u001b[39m\u001b[32m1\u001b[39m \u001b[43minfo\u001b[49m.tail()\n",
      "\u001b[31mNameError\u001b[39m: name 'info' is not defined"
     ]
    }
   ],
   "source": [
    "info.tail()"
   ]
  },
  {
   "cell_type": "code",
   "execution_count": 6,
   "id": "40ec8e5e",
   "metadata": {
    "execution": {
     "iopub.execute_input": "2025-09-22T13:35:41.565320Z",
     "iopub.status.busy": "2025-09-22T13:35:41.565165Z",
     "iopub.status.idle": "2025-09-22T13:35:41.584209Z",
     "shell.execute_reply": "2025-09-22T13:35:41.583750Z"
    }
   },
   "outputs": [
    {
     "ename": "NameError",
     "evalue": "name 'info' is not defined",
     "output_type": "error",
     "traceback": [
      "\u001b[31m---------------------------------------------------------------------------\u001b[39m",
      "\u001b[31mNameError\u001b[39m                                 Traceback (most recent call last)",
      "\u001b[36mCell\u001b[39m\u001b[36m \u001b[39m\u001b[32mIn[6]\u001b[39m\u001b[32m, line 2\u001b[39m\n\u001b[32m      1\u001b[39m \u001b[38;5;66;03m# print the index names\u001b[39;00m\n\u001b[32m----> \u001b[39m\u001b[32m2\u001b[39m \u001b[38;5;28mprint\u001b[39m(\u001b[43minfo\u001b[49m.index)\n",
      "\u001b[31mNameError\u001b[39m: name 'info' is not defined"
     ]
    }
   ],
   "source": [
    "# print the index names\n",
    "print(info.index)"
   ]
  },
  {
   "cell_type": "code",
   "execution_count": 7,
   "id": "7a1c0d8a",
   "metadata": {
    "execution": {
     "iopub.execute_input": "2025-09-22T13:35:41.585601Z",
     "iopub.status.busy": "2025-09-22T13:35:41.585456Z",
     "iopub.status.idle": "2025-09-22T13:35:41.603612Z",
     "shell.execute_reply": "2025-09-22T13:35:41.603121Z"
    }
   },
   "outputs": [
    {
     "ename": "NameError",
     "evalue": "name 'info' is not defined",
     "output_type": "error",
     "traceback": [
      "\u001b[31m---------------------------------------------------------------------------\u001b[39m",
      "\u001b[31mNameError\u001b[39m                                 Traceback (most recent call last)",
      "\u001b[36mCell\u001b[39m\u001b[36m \u001b[39m\u001b[32mIn[7]\u001b[39m\u001b[32m, line 2\u001b[39m\n\u001b[32m      1\u001b[39m \u001b[38;5;66;03m# print the column names\u001b[39;00m\n\u001b[32m----> \u001b[39m\u001b[32m2\u001b[39m \u001b[38;5;28mprint\u001b[39m(\u001b[43minfo\u001b[49m.columns)\n\u001b[32m      4\u001b[39m \u001b[38;5;66;03m# print the column names as a list\u001b[39;00m\n\u001b[32m      5\u001b[39m \u001b[38;5;28mprint\u001b[39m(\u001b[38;5;28mlist\u001b[39m(info))\n",
      "\u001b[31mNameError\u001b[39m: name 'info' is not defined"
     ]
    }
   ],
   "source": [
    "# print the column names\n",
    "print(info.columns)\n",
    "\n",
    "# print the column names as a list\n",
    "print(list(info))"
   ]
  },
  {
   "cell_type": "markdown",
   "id": "2bff1bcf",
   "metadata": {},
   "source": [
    "The `describe()` method is only useful for numerical data. This example is does not have a lot of useful data for `describe()`, however we'll use it again later"
   ]
  },
  {
   "cell_type": "code",
   "execution_count": 8,
   "id": "f86033a1",
   "metadata": {
    "execution": {
     "iopub.execute_input": "2025-09-22T13:35:41.605118Z",
     "iopub.status.busy": "2025-09-22T13:35:41.604931Z",
     "iopub.status.idle": "2025-09-22T13:35:41.623373Z",
     "shell.execute_reply": "2025-09-22T13:35:41.622852Z"
    }
   },
   "outputs": [
    {
     "ename": "NameError",
     "evalue": "name 'info' is not defined",
     "output_type": "error",
     "traceback": [
      "\u001b[31m---------------------------------------------------------------------------\u001b[39m",
      "\u001b[31mNameError\u001b[39m                                 Traceback (most recent call last)",
      "\u001b[36mCell\u001b[39m\u001b[36m \u001b[39m\u001b[32mIn[8]\u001b[39m\u001b[32m, line 1\u001b[39m\n\u001b[32m----> \u001b[39m\u001b[32m1\u001b[39m \u001b[43minfo\u001b[49m.describe()\n",
      "\u001b[31mNameError\u001b[39m: name 'info' is not defined"
     ]
    }
   ],
   "source": [
    "info.describe()"
   ]
  },
  {
   "cell_type": "markdown",
   "id": "09d73a52",
   "metadata": {},
   "source": [
    "## Getting data from a pandas dataframe\n",
    "\n",
    "There are multiple methods to get data out of a pandas dataframe as either a \"series\", numpy array, or a list\n",
    "\n",
    "Let's start by getting data as a series using a few methods"
   ]
  },
  {
   "cell_type": "code",
   "execution_count": 9,
   "id": "1e4d13e4",
   "metadata": {
    "execution": {
     "iopub.execute_input": "2025-09-22T13:35:41.624834Z",
     "iopub.status.busy": "2025-09-22T13:35:41.624685Z",
     "iopub.status.idle": "2025-09-22T13:35:41.641866Z",
     "shell.execute_reply": "2025-09-22T13:35:41.641332Z"
    }
   },
   "outputs": [
    {
     "ename": "NameError",
     "evalue": "name 'info' is not defined",
     "output_type": "error",
     "traceback": [
      "\u001b[31m---------------------------------------------------------------------------\u001b[39m",
      "\u001b[31mNameError\u001b[39m                                 Traceback (most recent call last)",
      "\u001b[36mCell\u001b[39m\u001b[36m \u001b[39m\u001b[32mIn[9]\u001b[39m\u001b[32m, line 2\u001b[39m\n\u001b[32m      1\u001b[39m \u001b[38;5;66;03m# get a series of site numbers by key\u001b[39;00m\n\u001b[32m----> \u001b[39m\u001b[32m2\u001b[39m \u001b[43minfo\u001b[49m[\u001b[33m\"\u001b[39m\u001b[33msite_no\u001b[39m\u001b[33m\"\u001b[39m]\n",
      "\u001b[31mNameError\u001b[39m: name 'info' is not defined"
     ]
    }
   ],
   "source": [
    "# get a series of site numbers by key\n",
    "info[\"site_no\"]"
   ]
  },
  {
   "cell_type": "code",
   "execution_count": 10,
   "id": "daff4fea",
   "metadata": {
    "execution": {
     "iopub.execute_input": "2025-09-22T13:35:41.643406Z",
     "iopub.status.busy": "2025-09-22T13:35:41.643257Z",
     "iopub.status.idle": "2025-09-22T13:35:41.661163Z",
     "shell.execute_reply": "2025-09-22T13:35:41.660725Z"
    }
   },
   "outputs": [
    {
     "ename": "NameError",
     "evalue": "name 'info' is not defined",
     "output_type": "error",
     "traceback": [
      "\u001b[31m---------------------------------------------------------------------------\u001b[39m",
      "\u001b[31mNameError\u001b[39m                                 Traceback (most recent call last)",
      "\u001b[36mCell\u001b[39m\u001b[36m \u001b[39m\u001b[32mIn[10]\u001b[39m\u001b[32m, line 2\u001b[39m\n\u001b[32m      1\u001b[39m \u001b[38;5;66;03m# get station names by attribute\u001b[39;00m\n\u001b[32m----> \u001b[39m\u001b[32m2\u001b[39m \u001b[43minfo\u001b[49m.station_nm\n",
      "\u001b[31mNameError\u001b[39m: name 'info' is not defined"
     ]
    }
   ],
   "source": [
    "# get station names by attribute\n",
    "info.station_nm"
   ]
  },
  {
   "cell_type": "markdown",
   "id": "5bbba79a",
   "metadata": {},
   "source": [
    "getting data from a dataframe as a numpy array can be accomplished by using `.values`"
   ]
  },
  {
   "cell_type": "code",
   "execution_count": 11,
   "id": "d98d409c",
   "metadata": {
    "execution": {
     "iopub.execute_input": "2025-09-22T13:35:41.662523Z",
     "iopub.status.busy": "2025-09-22T13:35:41.662377Z",
     "iopub.status.idle": "2025-09-22T13:35:41.679950Z",
     "shell.execute_reply": "2025-09-22T13:35:41.679430Z"
    }
   },
   "outputs": [
    {
     "ename": "NameError",
     "evalue": "name 'info' is not defined",
     "output_type": "error",
     "traceback": [
      "\u001b[31m---------------------------------------------------------------------------\u001b[39m",
      "\u001b[31mNameError\u001b[39m                                 Traceback (most recent call last)",
      "\u001b[36mCell\u001b[39m\u001b[36m \u001b[39m\u001b[32mIn[11]\u001b[39m\u001b[32m, line 1\u001b[39m\n\u001b[32m----> \u001b[39m\u001b[32m1\u001b[39m \u001b[43minfo\u001b[49m.station_nm.values\n",
      "\u001b[31mNameError\u001b[39m: name 'info' is not defined"
     ]
    }
   ],
   "source": [
    "info.station_nm.values"
   ]
  },
  {
   "cell_type": "markdown",
   "id": "31def645",
   "metadata": {},
   "source": [
    "### Selection by position\n",
    "\n",
    "We can get data by position in the dataframe using the `.iloc` attribute "
   ]
  },
  {
   "cell_type": "code",
   "execution_count": 12,
   "id": "730501c2",
   "metadata": {
    "execution": {
     "iopub.execute_input": "2025-09-22T13:35:41.681395Z",
     "iopub.status.busy": "2025-09-22T13:35:41.681248Z",
     "iopub.status.idle": "2025-09-22T13:35:41.698376Z",
     "shell.execute_reply": "2025-09-22T13:35:41.697983Z"
    }
   },
   "outputs": [
    {
     "ename": "NameError",
     "evalue": "name 'info' is not defined",
     "output_type": "error",
     "traceback": [
      "\u001b[31m---------------------------------------------------------------------------\u001b[39m",
      "\u001b[31mNameError\u001b[39m                                 Traceback (most recent call last)",
      "\u001b[36mCell\u001b[39m\u001b[36m \u001b[39m\u001b[32mIn[12]\u001b[39m\u001b[32m, line 1\u001b[39m\n\u001b[32m----> \u001b[39m\u001b[32m1\u001b[39m \u001b[43minfo\u001b[49m.iloc[\u001b[32m0\u001b[39m:\u001b[32m2\u001b[39m, \u001b[32m1\u001b[39m:\u001b[32m4\u001b[39m]\n",
      "\u001b[31mNameError\u001b[39m: name 'info' is not defined"
     ]
    }
   ],
   "source": [
    "info.iloc[0:2, 1:4]"
   ]
  },
  {
   "cell_type": "markdown",
   "id": "b4d7c291",
   "metadata": {},
   "source": [
    "### Selection by label\n",
    "\n",
    "Pandas allows the user to get data from the dataframe by index and column labels"
   ]
  },
  {
   "cell_type": "code",
   "execution_count": 13,
   "id": "b430c660",
   "metadata": {
    "execution": {
     "iopub.execute_input": "2025-09-22T13:35:41.699785Z",
     "iopub.status.busy": "2025-09-22T13:35:41.699639Z",
     "iopub.status.idle": "2025-09-22T13:35:41.716987Z",
     "shell.execute_reply": "2025-09-22T13:35:41.716595Z"
    }
   },
   "outputs": [
    {
     "ename": "NameError",
     "evalue": "name 'info' is not defined",
     "output_type": "error",
     "traceback": [
      "\u001b[31m---------------------------------------------------------------------------\u001b[39m",
      "\u001b[31mNameError\u001b[39m                                 Traceback (most recent call last)",
      "\u001b[36mCell\u001b[39m\u001b[36m \u001b[39m\u001b[32mIn[13]\u001b[39m\u001b[32m, line 1\u001b[39m\n\u001b[32m----> \u001b[39m\u001b[32m1\u001b[39m \u001b[43minfo\u001b[49m.loc[\u001b[32m0\u001b[39m:\u001b[32m3\u001b[39m, [\u001b[33m\"\u001b[39m\u001b[33msite_no\u001b[39m\u001b[33m\"\u001b[39m, \u001b[33m\"\u001b[39m\u001b[33mstation_nm\u001b[39m\u001b[33m\"\u001b[39m, \u001b[33m\"\u001b[39m\u001b[33msite_tp_cd\u001b[39m\u001b[33m\"\u001b[39m]]\n",
      "\u001b[31mNameError\u001b[39m: name 'info' is not defined"
     ]
    }
   ],
   "source": [
    "info.loc[0:3, [\"site_no\", \"station_nm\", \"site_tp_cd\"]]"
   ]
  },
  {
   "cell_type": "markdown",
   "id": "43700bbe",
   "metadata": {},
   "source": [
    "### Boolean indexing\n",
    "\n",
    "pandas dataframes supports boolean indexing that allows a user to create a new dataframe with only the data that meets a boolean condition defined by the user.\n",
    "\n",
    "Let's get a dataframe of only groundwater sites from the `info` dataframe"
   ]
  },
  {
   "cell_type": "code",
   "execution_count": 14,
   "id": "24ea2d22",
   "metadata": {
    "execution": {
     "iopub.execute_input": "2025-09-22T13:35:41.718344Z",
     "iopub.status.busy": "2025-09-22T13:35:41.718203Z",
     "iopub.status.idle": "2025-09-22T13:35:41.736843Z",
     "shell.execute_reply": "2025-09-22T13:35:41.736249Z"
    }
   },
   "outputs": [
    {
     "ename": "NameError",
     "evalue": "name 'info' is not defined",
     "output_type": "error",
     "traceback": [
      "\u001b[31m---------------------------------------------------------------------------\u001b[39m",
      "\u001b[31mNameError\u001b[39m                                 Traceback (most recent call last)",
      "\u001b[36mCell\u001b[39m\u001b[36m \u001b[39m\u001b[32mIn[14]\u001b[39m\u001b[32m, line 1\u001b[39m\n\u001b[32m----> \u001b[39m\u001b[32m1\u001b[39m dfgw = \u001b[43minfo\u001b[49m[info[\u001b[33m\"\u001b[39m\u001b[33msite_tp_cd\u001b[39m\u001b[33m\"\u001b[39m] == \u001b[33m\"\u001b[39m\u001b[33mGW\u001b[39m\u001b[33m\"\u001b[39m]\n\u001b[32m      2\u001b[39m dfgw\n",
      "\u001b[31mNameError\u001b[39m: name 'info' is not defined"
     ]
    }
   ],
   "source": [
    "dfgw = info[info[\"site_tp_cd\"] == \"GW\"]\n",
    "dfgw"
   ]
  },
  {
   "cell_type": "markdown",
   "id": "b55d5649",
   "metadata": {},
   "source": [
    "### Reading and writing data to `.csv` files\n",
    "\n",
    "Pandas has support to both read and write many types of files. For this example we are focusing on `.csv` files. For information on other file types that are supported see the [ten minutes to pandas](https://pandas.pydata.org/docs/user_guide/10min.html#importing-and-exporting-data) tutorial documentation"
   ]
  },
  {
   "cell_type": "markdown",
   "id": "8d69feb7",
   "metadata": {},
   "source": [
    "For this part we'll write a new `.csv` file of the groundwater sites that we found in NWIS using `to_csv()`.\n",
    "\n",
    "`to_csv()` has a bunch of handy options for writing to file. For this example, I'm going to drop the index column while writing by passing `index=False`"
   ]
  },
  {
   "cell_type": "code",
   "execution_count": 15,
   "id": "ecb2281a",
   "metadata": {
    "execution": {
     "iopub.execute_input": "2025-09-22T13:35:41.738350Z",
     "iopub.status.busy": "2025-09-22T13:35:41.738194Z",
     "iopub.status.idle": "2025-09-22T13:35:41.756239Z",
     "shell.execute_reply": "2025-09-22T13:35:41.755711Z"
    }
   },
   "outputs": [
    {
     "ename": "NameError",
     "evalue": "name 'dfgw' is not defined",
     "output_type": "error",
     "traceback": [
      "\u001b[31m---------------------------------------------------------------------------\u001b[39m",
      "\u001b[31mNameError\u001b[39m                                 Traceback (most recent call last)",
      "\u001b[36mCell\u001b[39m\u001b[36m \u001b[39m\u001b[32mIn[15]\u001b[39m\u001b[32m, line 2\u001b[39m\n\u001b[32m      1\u001b[39m csv_file = data_path / \u001b[33m\"\u001b[39m\u001b[33mRussianRiverGWsites.csv\u001b[39m\u001b[33m\"\u001b[39m\n\u001b[32m----> \u001b[39m\u001b[32m2\u001b[39m \u001b[43mdfgw\u001b[49m.to_csv(csv_file, index=\u001b[38;5;28;01mFalse\u001b[39;00m)\n",
      "\u001b[31mNameError\u001b[39m: name 'dfgw' is not defined"
     ]
    }
   ],
   "source": [
    "csv_file = data_path / \"RussianRiverGWsites.csv\"\n",
    "dfgw.to_csv(csv_file, index=False)"
   ]
  },
  {
   "cell_type": "markdown",
   "id": "485540c8",
   "metadata": {},
   "source": [
    "Now we can load the csv file back into a pandas dataframe with the `read_csv()` method."
   ]
  },
  {
   "cell_type": "code",
   "execution_count": 16,
   "id": "da14892b",
   "metadata": {
    "execution": {
     "iopub.execute_input": "2025-09-22T13:35:41.757628Z",
     "iopub.status.busy": "2025-09-22T13:35:41.757480Z",
     "iopub.status.idle": "2025-09-22T13:35:41.775876Z",
     "shell.execute_reply": "2025-09-22T13:35:41.775456Z"
    }
   },
   "outputs": [
    {
     "data": {
      "text/html": [
       "<div>\n",
       "<style scoped>\n",
       "    .dataframe tbody tr th:only-of-type {\n",
       "        vertical-align: middle;\n",
       "    }\n",
       "\n",
       "    .dataframe tbody tr th {\n",
       "        vertical-align: top;\n",
       "    }\n",
       "\n",
       "    .dataframe thead th {\n",
       "        text-align: right;\n",
       "    }\n",
       "</style>\n",
       "<table border=\"1\" class=\"dataframe\">\n",
       "  <thead>\n",
       "    <tr style=\"text-align: right;\">\n",
       "      <th></th>\n",
       "      <th>agency_cd</th>\n",
       "      <th>site_no</th>\n",
       "      <th>station_nm</th>\n",
       "      <th>site_tp_cd</th>\n",
       "      <th>lat_va</th>\n",
       "      <th>long_va</th>\n",
       "      <th>dec_lat_va</th>\n",
       "      <th>dec_long_va</th>\n",
       "      <th>coord_meth_cd</th>\n",
       "      <th>coord_acy_cd</th>\n",
       "      <th>...</th>\n",
       "      <th>local_time_fg</th>\n",
       "      <th>reliability_cd</th>\n",
       "      <th>gw_file_cd</th>\n",
       "      <th>nat_aqfr_cd</th>\n",
       "      <th>aqfr_cd</th>\n",
       "      <th>aqfr_type_cd</th>\n",
       "      <th>well_depth_va</th>\n",
       "      <th>hole_depth_va</th>\n",
       "      <th>depth_src_cd</th>\n",
       "      <th>project_no</th>\n",
       "    </tr>\n",
       "  </thead>\n",
       "  <tbody>\n",
       "    <tr>\n",
       "      <th>0</th>\n",
       "      <td>USGS</td>\n",
       "      <td>382713123030401</td>\n",
       "      <td>007N011W14NU01M</td>\n",
       "      <td>GW</td>\n",
       "      <td>382712.5</td>\n",
       "      <td>1230303.5</td>\n",
       "      <td>38.453472</td>\n",
       "      <td>-123.050972</td>\n",
       "      <td>G</td>\n",
       "      <td>5</td>\n",
       "      <td>...</td>\n",
       "      <td>Y</td>\n",
       "      <td>C</td>\n",
       "      <td>YY   Y</td>\n",
       "      <td>NaN</td>\n",
       "      <td>NaN</td>\n",
       "      <td>NaN</td>\n",
       "      <td>81.70</td>\n",
       "      <td>NaN</td>\n",
       "      <td>S</td>\n",
       "      <td>GGMC200</td>\n",
       "    </tr>\n",
       "    <tr>\n",
       "      <th>1</th>\n",
       "      <td>USGS</td>\n",
       "      <td>382713123030403</td>\n",
       "      <td>007N011W14NU03M</td>\n",
       "      <td>GW</td>\n",
       "      <td>382712.5</td>\n",
       "      <td>1230303.5</td>\n",
       "      <td>38.453472</td>\n",
       "      <td>-123.050972</td>\n",
       "      <td>G</td>\n",
       "      <td>5</td>\n",
       "      <td>...</td>\n",
       "      <td>Y</td>\n",
       "      <td>C</td>\n",
       "      <td>YY   Y</td>\n",
       "      <td>NaN</td>\n",
       "      <td>NaN</td>\n",
       "      <td>NaN</td>\n",
       "      <td>32.56</td>\n",
       "      <td>NaN</td>\n",
       "      <td>S</td>\n",
       "      <td>GGMC200</td>\n",
       "    </tr>\n",
       "    <tr>\n",
       "      <th>2</th>\n",
       "      <td>USGS</td>\n",
       "      <td>382808122565401</td>\n",
       "      <td>007N010W10H001M</td>\n",
       "      <td>GW</td>\n",
       "      <td>382808.5</td>\n",
       "      <td>1225654.2</td>\n",
       "      <td>38.469028</td>\n",
       "      <td>-122.948389</td>\n",
       "      <td>G</td>\n",
       "      <td>5</td>\n",
       "      <td>...</td>\n",
       "      <td>Y</td>\n",
       "      <td>C</td>\n",
       "      <td>YY   Y</td>\n",
       "      <td>NaN</td>\n",
       "      <td>NaN</td>\n",
       "      <td>NaN</td>\n",
       "      <td>22.00</td>\n",
       "      <td>22.0</td>\n",
       "      <td>D</td>\n",
       "      <td>00BHM8187</td>\n",
       "    </tr>\n",
       "    <tr>\n",
       "      <th>3</th>\n",
       "      <td>USGS</td>\n",
       "      <td>382819123010001</td>\n",
       "      <td>007N010W07D001M</td>\n",
       "      <td>GW</td>\n",
       "      <td>382819.9</td>\n",
       "      <td>1230100.8</td>\n",
       "      <td>38.472194</td>\n",
       "      <td>-123.016889</td>\n",
       "      <td>G</td>\n",
       "      <td>5</td>\n",
       "      <td>...</td>\n",
       "      <td>Y</td>\n",
       "      <td>C</td>\n",
       "      <td>YY</td>\n",
       "      <td>N100CACSTL</td>\n",
       "      <td>NaN</td>\n",
       "      <td>NaN</td>\n",
       "      <td>99.00</td>\n",
       "      <td>110.0</td>\n",
       "      <td>D</td>\n",
       "      <td>9677BHM32</td>\n",
       "    </tr>\n",
       "    <tr>\n",
       "      <th>4</th>\n",
       "      <td>USGS</td>\n",
       "      <td>383001122540701</td>\n",
       "      <td>008N009W31C002M</td>\n",
       "      <td>GW</td>\n",
       "      <td>383001.9</td>\n",
       "      <td>1225407.7</td>\n",
       "      <td>38.500528</td>\n",
       "      <td>-122.902139</td>\n",
       "      <td>G</td>\n",
       "      <td>5</td>\n",
       "      <td>...</td>\n",
       "      <td>Y</td>\n",
       "      <td>C</td>\n",
       "      <td>YY</td>\n",
       "      <td>N100CACSTL</td>\n",
       "      <td>NaN</td>\n",
       "      <td>NaN</td>\n",
       "      <td>80.00</td>\n",
       "      <td>80.0</td>\n",
       "      <td>D</td>\n",
       "      <td>9677BHM32</td>\n",
       "    </tr>\n",
       "    <tr>\n",
       "      <th>5</th>\n",
       "      <td>USGS</td>\n",
       "      <td>383003122540401</td>\n",
       "      <td>008N009W31C003M</td>\n",
       "      <td>GW</td>\n",
       "      <td>383003.3</td>\n",
       "      <td>1225404.4</td>\n",
       "      <td>38.500917</td>\n",
       "      <td>-122.901222</td>\n",
       "      <td>G</td>\n",
       "      <td>1</td>\n",
       "      <td>...</td>\n",
       "      <td>Y</td>\n",
       "      <td>C</td>\n",
       "      <td>YY   Y</td>\n",
       "      <td>N100CACSTL</td>\n",
       "      <td>NaN</td>\n",
       "      <td>NaN</td>\n",
       "      <td>NaN</td>\n",
       "      <td>NaN</td>\n",
       "      <td>NaN</td>\n",
       "      <td>967760420</td>\n",
       "    </tr>\n",
       "    <tr>\n",
       "      <th>6</th>\n",
       "      <td>USGS</td>\n",
       "      <td>383003122540402</td>\n",
       "      <td>008N009W31C004M</td>\n",
       "      <td>GW</td>\n",
       "      <td>383003.3</td>\n",
       "      <td>1225404.4</td>\n",
       "      <td>38.500917</td>\n",
       "      <td>-122.901222</td>\n",
       "      <td>G</td>\n",
       "      <td>1</td>\n",
       "      <td>...</td>\n",
       "      <td>Y</td>\n",
       "      <td>C</td>\n",
       "      <td>Y</td>\n",
       "      <td>N100CACSTL</td>\n",
       "      <td>NaN</td>\n",
       "      <td>NaN</td>\n",
       "      <td>NaN</td>\n",
       "      <td>NaN</td>\n",
       "      <td>NaN</td>\n",
       "      <td>967760420</td>\n",
       "    </tr>\n",
       "    <tr>\n",
       "      <th>7</th>\n",
       "      <td>USGS</td>\n",
       "      <td>383003122540403</td>\n",
       "      <td>008N009W31C005M</td>\n",
       "      <td>GW</td>\n",
       "      <td>383003.3</td>\n",
       "      <td>1225404.4</td>\n",
       "      <td>38.500917</td>\n",
       "      <td>-122.901222</td>\n",
       "      <td>G</td>\n",
       "      <td>1</td>\n",
       "      <td>...</td>\n",
       "      <td>Y</td>\n",
       "      <td>C</td>\n",
       "      <td>YY   Y</td>\n",
       "      <td>N100CACSTL</td>\n",
       "      <td>NaN</td>\n",
       "      <td>NaN</td>\n",
       "      <td>25.00</td>\n",
       "      <td>NaN</td>\n",
       "      <td>S</td>\n",
       "      <td>967760420</td>\n",
       "    </tr>\n",
       "    <tr>\n",
       "      <th>8</th>\n",
       "      <td>USGS</td>\n",
       "      <td>383016123041101</td>\n",
       "      <td>008N011W27N001M</td>\n",
       "      <td>GW</td>\n",
       "      <td>383016.3</td>\n",
       "      <td>1230411.0</td>\n",
       "      <td>38.504528</td>\n",
       "      <td>-123.069722</td>\n",
       "      <td>G</td>\n",
       "      <td>5</td>\n",
       "      <td>...</td>\n",
       "      <td>Y</td>\n",
       "      <td>C</td>\n",
       "      <td>YY   Y</td>\n",
       "      <td>NaN</td>\n",
       "      <td>NaN</td>\n",
       "      <td>NaN</td>\n",
       "      <td>30.00</td>\n",
       "      <td>30.0</td>\n",
       "      <td>D</td>\n",
       "      <td>00BHM8187</td>\n",
       "    </tr>\n",
       "    <tr>\n",
       "      <th>9</th>\n",
       "      <td>USGS</td>\n",
       "      <td>383017122580301</td>\n",
       "      <td>008N010W28RU01M</td>\n",
       "      <td>GW</td>\n",
       "      <td>383017.4</td>\n",
       "      <td>1225802.5</td>\n",
       "      <td>38.504833</td>\n",
       "      <td>-122.967361</td>\n",
       "      <td>G</td>\n",
       "      <td>5</td>\n",
       "      <td>...</td>\n",
       "      <td>Y</td>\n",
       "      <td>C</td>\n",
       "      <td>YY</td>\n",
       "      <td>NaN</td>\n",
       "      <td>NaN</td>\n",
       "      <td>NaN</td>\n",
       "      <td>98.00</td>\n",
       "      <td>107.0</td>\n",
       "      <td>D</td>\n",
       "      <td>NaN</td>\n",
       "    </tr>\n",
       "    <tr>\n",
       "      <th>10</th>\n",
       "      <td>USGS</td>\n",
       "      <td>383034122590701</td>\n",
       "      <td>008N010W29H004M</td>\n",
       "      <td>GW</td>\n",
       "      <td>383034.4</td>\n",
       "      <td>1225907.9</td>\n",
       "      <td>38.509556</td>\n",
       "      <td>-122.985528</td>\n",
       "      <td>G</td>\n",
       "      <td>5</td>\n",
       "      <td>...</td>\n",
       "      <td>Y</td>\n",
       "      <td>C</td>\n",
       "      <td>YY   Y</td>\n",
       "      <td>N100CACSTL</td>\n",
       "      <td>NaN</td>\n",
       "      <td>NaN</td>\n",
       "      <td>99.00</td>\n",
       "      <td>110.0</td>\n",
       "      <td>D</td>\n",
       "      <td>9677BHM32</td>\n",
       "    </tr>\n",
       "  </tbody>\n",
       "</table>\n",
       "<p>11 rows × 42 columns</p>\n",
       "</div>"
      ],
      "text/plain": [
       "   agency_cd          site_no       station_nm site_tp_cd    lat_va  \\\n",
       "0       USGS  382713123030401  007N011W14NU01M         GW  382712.5   \n",
       "1       USGS  382713123030403  007N011W14NU03M         GW  382712.5   \n",
       "2       USGS  382808122565401  007N010W10H001M         GW  382808.5   \n",
       "3       USGS  382819123010001  007N010W07D001M         GW  382819.9   \n",
       "4       USGS  383001122540701  008N009W31C002M         GW  383001.9   \n",
       "5       USGS  383003122540401  008N009W31C003M         GW  383003.3   \n",
       "6       USGS  383003122540402  008N009W31C004M         GW  383003.3   \n",
       "7       USGS  383003122540403  008N009W31C005M         GW  383003.3   \n",
       "8       USGS  383016123041101  008N011W27N001M         GW  383016.3   \n",
       "9       USGS  383017122580301  008N010W28RU01M         GW  383017.4   \n",
       "10      USGS  383034122590701  008N010W29H004M         GW  383034.4   \n",
       "\n",
       "      long_va  dec_lat_va  dec_long_va coord_meth_cd  coord_acy_cd  ...  \\\n",
       "0   1230303.5   38.453472  -123.050972             G             5  ...   \n",
       "1   1230303.5   38.453472  -123.050972             G             5  ...   \n",
       "2   1225654.2   38.469028  -122.948389             G             5  ...   \n",
       "3   1230100.8   38.472194  -123.016889             G             5  ...   \n",
       "4   1225407.7   38.500528  -122.902139             G             5  ...   \n",
       "5   1225404.4   38.500917  -122.901222             G             1  ...   \n",
       "6   1225404.4   38.500917  -122.901222             G             1  ...   \n",
       "7   1225404.4   38.500917  -122.901222             G             1  ...   \n",
       "8   1230411.0   38.504528  -123.069722             G             5  ...   \n",
       "9   1225802.5   38.504833  -122.967361             G             5  ...   \n",
       "10  1225907.9   38.509556  -122.985528             G             5  ...   \n",
       "\n",
       "   local_time_fg reliability_cd  gw_file_cd  nat_aqfr_cd  aqfr_cd  \\\n",
       "0              Y              C      YY   Y          NaN      NaN   \n",
       "1              Y              C      YY   Y          NaN      NaN   \n",
       "2              Y              C      YY   Y          NaN      NaN   \n",
       "3              Y              C          YY   N100CACSTL      NaN   \n",
       "4              Y              C          YY   N100CACSTL      NaN   \n",
       "5              Y              C      YY   Y   N100CACSTL      NaN   \n",
       "6              Y              C           Y   N100CACSTL      NaN   \n",
       "7              Y              C      YY   Y   N100CACSTL      NaN   \n",
       "8              Y              C      YY   Y          NaN      NaN   \n",
       "9              Y              C          YY          NaN      NaN   \n",
       "10             Y              C      YY   Y   N100CACSTL      NaN   \n",
       "\n",
       "   aqfr_type_cd well_depth_va hole_depth_va  depth_src_cd  project_no  \n",
       "0           NaN         81.70           NaN             S     GGMC200  \n",
       "1           NaN         32.56           NaN             S     GGMC200  \n",
       "2           NaN         22.00          22.0             D   00BHM8187  \n",
       "3           NaN         99.00         110.0             D   9677BHM32  \n",
       "4           NaN         80.00          80.0             D   9677BHM32  \n",
       "5           NaN           NaN           NaN           NaN   967760420  \n",
       "6           NaN           NaN           NaN           NaN   967760420  \n",
       "7           NaN         25.00           NaN             S   967760420  \n",
       "8           NaN         30.00          30.0             D   00BHM8187  \n",
       "9           NaN         98.00         107.0             D         NaN  \n",
       "10          NaN         99.00         110.0             D   9677BHM32  \n",
       "\n",
       "[11 rows x 42 columns]"
      ]
     },
     "execution_count": 16,
     "metadata": {},
     "output_type": "execute_result"
    }
   ],
   "source": [
    "dfgw2 = pd.read_csv(csv_file)\n",
    "dfgw2"
   ]
  },
  {
   "cell_type": "markdown",
   "id": "5e5db256",
   "metadata": {},
   "source": [
    "## Class exercise 1 \n",
    "\n",
    "Using the methods presented in this notebook create a `DataFrame` of surface water sites from the `info` dataframe, write it to a csv file named `\"RussianRiverSWsites.csv\"`, and read it back in as a new `DataFrame`"
   ]
  },
  {
   "cell_type": "code",
   "execution_count": 17,
   "id": "126bba4e",
   "metadata": {
    "execution": {
     "iopub.execute_input": "2025-09-22T13:35:41.777217Z",
     "iopub.status.busy": "2025-09-22T13:35:41.777075Z",
     "iopub.status.idle": "2025-09-22T13:35:41.796329Z",
     "shell.execute_reply": "2025-09-22T13:35:41.795788Z"
    }
   },
   "outputs": [
    {
     "ename": "NameError",
     "evalue": "name 'info' is not defined",
     "output_type": "error",
     "traceback": [
      "\u001b[31m---------------------------------------------------------------------------\u001b[39m",
      "\u001b[31mNameError\u001b[39m                                 Traceback (most recent call last)",
      "\u001b[36mCell\u001b[39m\u001b[36m \u001b[39m\u001b[32mIn[17]\u001b[39m\u001b[32m, line 2\u001b[39m\n\u001b[32m      1\u001b[39m csv_name = data_path / \u001b[33m\"\u001b[39m\u001b[33mRussianRiverSWsites.csv\u001b[39m\u001b[33m\"\u001b[39m\n\u001b[32m----> \u001b[39m\u001b[32m2\u001b[39m dfsw = \u001b[43minfo\u001b[49m[info.site_tp_cd == \u001b[33m\"\u001b[39m\u001b[33mST\u001b[39m\u001b[33m\"\u001b[39m]\n\u001b[32m      3\u001b[39m dfsw.to_csv(csv_name, index=\u001b[38;5;28;01mFalse\u001b[39;00m)\n\u001b[32m      5\u001b[39m dfsw = pd.read_csv(csv_name)\n",
      "\u001b[31mNameError\u001b[39m: name 'info' is not defined"
     ]
    }
   ],
   "source": [
    "csv_name = data_path / \"RussianRiverSWsites.csv\"\n",
    "dfsw = info[info.site_tp_cd == \"ST\"]\n",
    "dfsw.to_csv(csv_name, index=False)\n",
    "\n",
    "dfsw = pd.read_csv(csv_name)\n",
    "dfsw.head()"
   ]
  },
  {
   "cell_type": "markdown",
   "id": "2182d335",
   "metadata": {},
   "source": [
    "## Get timeseries data from NWIS for surface water sites\n",
    "\n",
    "Now to start working with stream gage data from NWIS. We're going to send all surface water sites to NWIS and get only sites with daily discharge measurements.\n",
    "\n",
    "([11467002](https://waterdata.usgs.gov/nwis/inventory?agency_code=USGS&site_no=11467002))"
   ]
  },
  {
   "cell_type": "code",
   "execution_count": 18,
   "id": "edd1afbc",
   "metadata": {
    "execution": {
     "iopub.execute_input": "2025-09-22T13:35:41.797834Z",
     "iopub.status.busy": "2025-09-22T13:35:41.797676Z",
     "iopub.status.idle": "2025-09-22T13:35:41.819483Z",
     "shell.execute_reply": "2025-09-22T13:35:41.818922Z"
    }
   },
   "outputs": [
    {
     "ename": "NameError",
     "evalue": "name 'info' is not defined",
     "output_type": "error",
     "traceback": [
      "\u001b[31m---------------------------------------------------------------------------\u001b[39m",
      "\u001b[31mNameError\u001b[39m                                 Traceback (most recent call last)",
      "\u001b[36mCell\u001b[39m\u001b[36m \u001b[39m\u001b[32mIn[18]\u001b[39m\u001b[32m, line 2\u001b[39m\n\u001b[32m      1\u001b[39m \u001b[38;5;66;03m# filter for only SW sites\u001b[39;00m\n\u001b[32m----> \u001b[39m\u001b[32m2\u001b[39m dfsw = \u001b[43minfo\u001b[49m[info.site_tp_cd == \u001b[33m\"\u001b[39m\u001b[33mST\u001b[39m\u001b[33m\"\u001b[39m]\n\u001b[32m      4\u001b[39m \u001b[38;5;66;03m# create query\u001b[39;00m\n\u001b[32m      5\u001b[39m sites = dfsw.site_no.to_list()\n",
      "\u001b[31mNameError\u001b[39m: name 'info' is not defined"
     ]
    }
   ],
   "source": [
    "# filter for only SW sites\n",
    "dfsw = info[info.site_tp_cd == \"ST\"]\n",
    "\n",
    "# create query\n",
    "sites = dfsw.site_no.to_list()\n",
    "pcode = \"00060\"\n",
    "start_date = \"1939-09-22\"\n",
    "end_date = \"2023-12-31\"\n",
    "df, metadata = nwis.get_dv(\n",
    "    sites=sites, \n",
    "    start=start_date, \n",
    "    end=end_date, \n",
    "    parameterCd=pcode, \n",
    "    multi_index=False\n",
    ")\n",
    "df.head()"
   ]
  },
  {
   "cell_type": "markdown",
   "id": "9f00ba06",
   "metadata": {},
   "source": [
    "Awesome! There are two gages in this study area that have daily discharge data!\n",
    "\n",
    "### Inspect the data using `.plot()`"
   ]
  },
  {
   "cell_type": "code",
   "execution_count": 19,
   "id": "e2970f2e",
   "metadata": {
    "execution": {
     "iopub.execute_input": "2025-09-22T13:35:41.820950Z",
     "iopub.status.busy": "2025-09-22T13:35:41.820791Z",
     "iopub.status.idle": "2025-09-22T13:35:41.839860Z",
     "shell.execute_reply": "2025-09-22T13:35:41.839303Z"
    }
   },
   "outputs": [
    {
     "ename": "NameError",
     "evalue": "name 'df' is not defined",
     "output_type": "error",
     "traceback": [
      "\u001b[31m---------------------------------------------------------------------------\u001b[39m",
      "\u001b[31mNameError\u001b[39m                                 Traceback (most recent call last)",
      "\u001b[36mCell\u001b[39m\u001b[36m \u001b[39m\u001b[32mIn[19]\u001b[39m\u001b[32m, line 1\u001b[39m\n\u001b[32m----> \u001b[39m\u001b[32m1\u001b[39m ax = \u001b[43mdf\u001b[49m.plot()\n\u001b[32m      2\u001b[39m ax.set_ylabel(\u001b[33mr\u001b[39m\u001b[33m\"\u001b[39m\u001b[33mcubic meter per second\u001b[39m\u001b[33m\"\u001b[39m)\n\u001b[32m      3\u001b[39m ax.set_yscale(\u001b[33m\"\u001b[39m\u001b[33mlog\u001b[39m\u001b[33m\"\u001b[39m)\n",
      "\u001b[31mNameError\u001b[39m: name 'df' is not defined"
     ]
    }
   ],
   "source": [
    "ax = df.plot()\n",
    "ax.set_ylabel(r\"cubic meter per second\")\n",
    "ax.set_yscale(\"log\")"
   ]
  },
  {
   "cell_type": "markdown",
   "id": "fa2c35dd",
   "metadata": {},
   "source": [
    "### Updating column names\n",
    "\n",
    "Let's update column names for these gages based on their locations instead of their USGS gage id. First we'll get name information from the `info` class and then we'll use the station name information to remap the column names.\n",
    "\n",
    "the `rename()` method accepts a dictionary that is formatted `{current_col_name: new_col_name}`"
   ]
  },
  {
   "cell_type": "code",
   "execution_count": 20,
   "id": "b800fbbc",
   "metadata": {
    "execution": {
     "iopub.execute_input": "2025-09-22T13:35:41.841385Z",
     "iopub.status.busy": "2025-09-22T13:35:41.841223Z",
     "iopub.status.idle": "2025-09-22T13:35:41.858977Z",
     "shell.execute_reply": "2025-09-22T13:35:41.858479Z"
    }
   },
   "outputs": [
    {
     "ename": "NameError",
     "evalue": "name 'df' is not defined",
     "output_type": "error",
     "traceback": [
      "\u001b[31m---------------------------------------------------------------------------\u001b[39m",
      "\u001b[31mNameError\u001b[39m                                 Traceback (most recent call last)",
      "\u001b[36mCell\u001b[39m\u001b[36m \u001b[39m\u001b[32mIn[20]\u001b[39m\u001b[32m, line 1\u001b[39m\n\u001b[32m----> \u001b[39m\u001b[32m1\u001b[39m \u001b[43mdf\u001b[49m\n",
      "\u001b[31mNameError\u001b[39m: name 'df' is not defined"
     ]
    }
   ],
   "source": [
    "df"
   ]
  },
  {
   "cell_type": "code",
   "execution_count": 21,
   "id": "88b7dd45",
   "metadata": {
    "execution": {
     "iopub.execute_input": "2025-09-22T13:35:41.860362Z",
     "iopub.status.busy": "2025-09-22T13:35:41.860209Z",
     "iopub.status.idle": "2025-09-22T13:35:41.881326Z",
     "shell.execute_reply": "2025-09-22T13:35:41.880800Z"
    }
   },
   "outputs": [
    {
     "ename": "NameError",
     "evalue": "name 'df' is not defined",
     "output_type": "error",
     "traceback": [
      "\u001b[31m---------------------------------------------------------------------------\u001b[39m",
      "\u001b[31mNameError\u001b[39m                                 Traceback (most recent call last)",
      "\u001b[36mCell\u001b[39m\u001b[36m \u001b[39m\u001b[32mIn[21]\u001b[39m\u001b[32m, line 1\u001b[39m\n\u001b[32m----> \u001b[39m\u001b[32m1\u001b[39m df2 = \u001b[43mdf\u001b[49m[[\u001b[33m'\u001b[39m\u001b[33msite_no\u001b[39m\u001b[33m'\u001b[39m, \u001b[33m'\u001b[39m\u001b[33m00060_Mean\u001b[39m\u001b[33m'\u001b[39m]].pivot(columns=[\u001b[33m'\u001b[39m\u001b[33msite_no\u001b[39m\u001b[33m'\u001b[39m])\n\u001b[32m      2\u001b[39m df2.columns = df2.columns.get_level_values(\u001b[32m1\u001b[39m)\n\u001b[32m      4\u001b[39m site_names = {site_no: \u001b[33m'\u001b[39m\u001b[33m_\u001b[39m\u001b[33m'\u001b[39m.join(name.split()[:\u001b[32m2\u001b[39m]).lower() \u001b[38;5;28;01mfor\u001b[39;00m site_no, name \n\u001b[32m      5\u001b[39m               \u001b[38;5;129;01min\u001b[39;00m info.groupby(\u001b[33m'\u001b[39m\u001b[33msite_no\u001b[39m\u001b[33m'\u001b[39m)[\u001b[33m'\u001b[39m\u001b[33mstation_nm\u001b[39m\u001b[33m'\u001b[39m].first().loc[df2.columns].items()}\n",
      "\u001b[31mNameError\u001b[39m: name 'df' is not defined"
     ]
    }
   ],
   "source": [
    "df2 = df[['site_no', '00060_Mean']].pivot(columns=['site_no'])\n",
    "df2.columns = df2.columns.get_level_values(1)\n",
    "\n",
    "site_names = {site_no: '_'.join(name.split()[:2]).lower() for site_no, name \n",
    "              in info.groupby('site_no')['station_nm'].first().loc[df2.columns].items()}\n",
    "df2.rename(columns=site_names, inplace=True)\n",
    "df2.plot()"
   ]
  },
  {
   "cell_type": "markdown",
   "id": "f2c20720",
   "metadata": {},
   "source": [
    "### Adding a new column of data to the dataframe\n",
    "\n",
    "Adding new columns of data is relatively simple in pandas. The call signature is similar to a dictionary where df[\"key\"] = \"some_array_of_values\"\n",
    "\n",
    "Let's add a year column (water year) to the dataframe by getting the year from the index and adjusting it using `np.where()`"
   ]
  },
  {
   "cell_type": "code",
   "execution_count": 22,
   "id": "39ebd1e7",
   "metadata": {
    "execution": {
     "iopub.execute_input": "2025-09-22T13:35:41.882797Z",
     "iopub.status.busy": "2025-09-22T13:35:41.882643Z",
     "iopub.status.idle": "2025-09-22T13:35:41.902530Z",
     "shell.execute_reply": "2025-09-22T13:35:41.902111Z"
    }
   },
   "outputs": [
    {
     "ename": "NameError",
     "evalue": "name 'df2' is not defined",
     "output_type": "error",
     "traceback": [
      "\u001b[31m---------------------------------------------------------------------------\u001b[39m",
      "\u001b[31mNameError\u001b[39m                                 Traceback (most recent call last)",
      "\u001b[36mCell\u001b[39m\u001b[36m \u001b[39m\u001b[32mIn[22]\u001b[39m\u001b[32m, line 1\u001b[39m\n\u001b[32m----> \u001b[39m\u001b[32m1\u001b[39m df2[\u001b[33m'\u001b[39m\u001b[33myear\u001b[39m\u001b[33m'\u001b[39m] = np.where(\u001b[43mdf2\u001b[49m.index.month >=\u001b[32m10\u001b[39m, df2.index.year, df2.index.year - \u001b[32m1\u001b[39m)\n",
      "\u001b[31mNameError\u001b[39m: name 'df2' is not defined"
     ]
    }
   ],
   "source": [
    "df2['year'] = np.where(df2.index.month >=10, df2.index.year, df2.index.year - 1)"
   ]
  },
  {
   "cell_type": "markdown",
   "id": "5ccdd9e2",
   "metadata": {},
   "source": [
    "### Manipulating data\n",
    "\n",
    "Columns in a pandas dataframe can be manipulated similarly to working with a dictionary of numpy arrays. The discharge data units are $\\frac{ft^3}{s}$, let's accumulate this to daily discharge in $\\frac {ft^3}{d}$.\n",
    "\n",
    "The conversion for this is:\n",
    "\n",
    "## $ \\frac{1 ft^3}{s} \\times \\frac{60s}{min} \\times \\frac{60min}{hour} \\times \\frac{24hours}{day} \\rightarrow \\frac{ft^3}{day} $\n",
    "\n",
    "and then convert that to acre-feet (1 acre-ft = 43559.9)"
   ]
  },
  {
   "cell_type": "code",
   "execution_count": 23,
   "id": "b294a0ac",
   "metadata": {
    "execution": {
     "iopub.execute_input": "2025-09-22T13:35:41.903968Z",
     "iopub.status.busy": "2025-09-22T13:35:41.903826Z",
     "iopub.status.idle": "2025-09-22T13:35:41.921412Z",
     "shell.execute_reply": "2025-09-22T13:35:41.920869Z"
    }
   },
   "outputs": [
    {
     "ename": "NameError",
     "evalue": "name 'df2' is not defined",
     "output_type": "error",
     "traceback": [
      "\u001b[31m---------------------------------------------------------------------------\u001b[39m",
      "\u001b[31mNameError\u001b[39m                                 Traceback (most recent call last)",
      "\u001b[36mCell\u001b[39m\u001b[36m \u001b[39m\u001b[32mIn[23]\u001b[39m\u001b[32m, line 1\u001b[39m\n\u001b[32m----> \u001b[39m\u001b[32m1\u001b[39m \u001b[43mdf2\u001b[49m\n",
      "\u001b[31mNameError\u001b[39m: name 'df2' is not defined"
     ]
    }
   ],
   "source": [
    "df2"
   ]
  },
  {
   "cell_type": "code",
   "execution_count": 24,
   "id": "81980161",
   "metadata": {
    "execution": {
     "iopub.execute_input": "2025-09-22T13:35:41.922938Z",
     "iopub.status.busy": "2025-09-22T13:35:41.922778Z",
     "iopub.status.idle": "2025-09-22T13:35:41.944486Z",
     "shell.execute_reply": "2025-09-22T13:35:41.943924Z"
    }
   },
   "outputs": [
    {
     "ename": "NameError",
     "evalue": "name 'df2' is not defined",
     "output_type": "error",
     "traceback": [
      "\u001b[31m---------------------------------------------------------------------------\u001b[39m",
      "\u001b[31mNameError\u001b[39m                                 Traceback (most recent call last)",
      "\u001b[36mCell\u001b[39m\u001b[36m \u001b[39m\u001b[32mIn[24]\u001b[39m\u001b[32m, line 2\u001b[39m\n\u001b[32m      1\u001b[39m conv = \u001b[32m60\u001b[39m * \u001b[32m60\u001b[39m * \u001b[32m24\u001b[39m\n\u001b[32m----> \u001b[39m\u001b[32m2\u001b[39m df2[\u001b[33m\"\u001b[39m\u001b[33mrussian_r_cfd\u001b[39m\u001b[33m\"\u001b[39m] = \u001b[43mdf2\u001b[49m.russian_r * conv\n\u001b[32m      3\u001b[39m df2[\u001b[33m\"\u001b[39m\u001b[33mrussian_r_af\u001b[39m\u001b[33m\"\u001b[39m] = df2.russian_r_cfd / \u001b[32m43559.9\u001b[39m\n\u001b[32m      4\u001b[39m df2\n",
      "\u001b[31mNameError\u001b[39m: name 'df2' is not defined"
     ]
    }
   ],
   "source": [
    "conv = 60 * 60 * 24\n",
    "df2[\"russian_r_cfd\"] = df2.russian_r * conv\n",
    "df2[\"russian_r_af\"] = df2.russian_r_cfd / 43559.9\n",
    "df2\n",
    "\n",
    "# now let's plot up discharge from 2018 - 2020\n",
    "dfplt = df2[(df2[\"year\"] >= 2015) & (df2[\"year\"] <= 2020)]\n",
    "ax = dfplt[\"russian_r_af\"].plot()\n",
    "ax.set_yscale(\"log\")\n"
   ]
  },
  {
   "cell_type": "markdown",
   "id": "112292ee",
   "metadata": {},
   "source": [
    "## Class exercise 2:\n",
    "\n",
    "Using the methods described in the notebook. Convert the discharge for `\"austin_c\"` from $\\frac{m^3}{s}$ acre-ft by adding two additional fields to `df2` named `\"austin_c_cfs\"` and `\"austin_c_af\"`. \n",
    "\n",
    "After these two fields have been added to df2 use boolean indexing to create a new dataframe from 2015 through 2020. Finally plot the discharge data (in acre-ft) for \"austin_cr\".\n",
    "\n",
    "**bonus exercise** try to plot both `\"russian_r_af\"` and `\"austin_c_af\"` on the same plot"
   ]
  },
  {
   "cell_type": "code",
   "execution_count": 25,
   "id": "e92c3bc7",
   "metadata": {
    "execution": {
     "iopub.execute_input": "2025-09-22T13:35:41.946019Z",
     "iopub.status.busy": "2025-09-22T13:35:41.945867Z",
     "iopub.status.idle": "2025-09-22T13:35:41.966253Z",
     "shell.execute_reply": "2025-09-22T13:35:41.965720Z"
    }
   },
   "outputs": [
    {
     "ename": "NameError",
     "evalue": "name 'df2' is not defined",
     "output_type": "error",
     "traceback": [
      "\u001b[31m---------------------------------------------------------------------------\u001b[39m",
      "\u001b[31mNameError\u001b[39m                                 Traceback (most recent call last)",
      "\u001b[36mCell\u001b[39m\u001b[36m \u001b[39m\u001b[32mIn[25]\u001b[39m\u001b[32m, line 2\u001b[39m\n\u001b[32m      1\u001b[39m conv = \u001b[32m60\u001b[39m * \u001b[32m60\u001b[39m * \u001b[32m24\u001b[39m\n\u001b[32m----> \u001b[39m\u001b[32m2\u001b[39m df2[\u001b[33m\"\u001b[39m\u001b[33maustin_c_cfd\u001b[39m\u001b[33m\"\u001b[39m] = \u001b[43mdf2\u001b[49m.austin_c * conv\n\u001b[32m      3\u001b[39m df2[\u001b[33m\"\u001b[39m\u001b[33maustin_c_af\u001b[39m\u001b[33m\"\u001b[39m] = df2.austin_c_cfd / \u001b[32m43559.9\u001b[39m\n\u001b[32m      4\u001b[39m df2\n",
      "\u001b[31mNameError\u001b[39m: name 'df2' is not defined"
     ]
    }
   ],
   "source": [
    "conv = 60 * 60 * 24\n",
    "df2[\"austin_c_cfd\"] = df2.austin_c * conv\n",
    "df2[\"austin_c_af\"] = df2.austin_c_cfd / 43559.9\n",
    "df2\n",
    "\n",
    "# now let's plot up discharge from 2018 - 2020\n",
    "dfplt = df2[(df2[\"year\"] >= 2015) & (df2[\"year\"] <= 2020)]\n",
    "ax = dfplt[\"austin_c_af\"].plot()\n",
    "ax.set_yscale(\"log\")\n"
   ]
  },
  {
   "cell_type": "code",
   "execution_count": 26,
   "id": "6f349f19",
   "metadata": {
    "execution": {
     "iopub.execute_input": "2025-09-22T13:35:41.967678Z",
     "iopub.status.busy": "2025-09-22T13:35:41.967529Z",
     "iopub.status.idle": "2025-09-22T13:35:41.988222Z",
     "shell.execute_reply": "2025-09-22T13:35:41.987675Z"
    }
   },
   "outputs": [
    {
     "ename": "NameError",
     "evalue": "name 'df2' is not defined",
     "output_type": "error",
     "traceback": [
      "\u001b[31m---------------------------------------------------------------------------\u001b[39m",
      "\u001b[31mNameError\u001b[39m                                 Traceback (most recent call last)",
      "\u001b[36mCell\u001b[39m\u001b[36m \u001b[39m\u001b[32mIn[26]\u001b[39m\u001b[32m, line 2\u001b[39m\n\u001b[32m      1\u001b[39m \u001b[38;5;66;03m# now let's plot up discharge from 2018 - 2020\u001b[39;00m\n\u001b[32m----> \u001b[39m\u001b[32m2\u001b[39m dfplt = \u001b[43mdf2\u001b[49m[(df2[\u001b[33m\"\u001b[39m\u001b[33myear\u001b[39m\u001b[33m\"\u001b[39m] >= \u001b[32m2015\u001b[39m) & (df2[\u001b[33m\"\u001b[39m\u001b[33myear\u001b[39m\u001b[33m\"\u001b[39m] <= \u001b[32m2020\u001b[39m)]\n\u001b[32m      3\u001b[39m ax = dfplt[[\u001b[33m\"\u001b[39m\u001b[33mrussian_r_af\u001b[39m\u001b[33m\"\u001b[39m,\u001b[33m\"\u001b[39m\u001b[33maustin_c_af\u001b[39m\u001b[33m\"\u001b[39m]].plot()\n\u001b[32m      4\u001b[39m ax.set_yscale(\u001b[33m\"\u001b[39m\u001b[33mlog\u001b[39m\u001b[33m\"\u001b[39m)\n",
      "\u001b[31mNameError\u001b[39m: name 'df2' is not defined"
     ]
    }
   ],
   "source": [
    "# now let's plot up discharge from 2018 - 2020\n",
    "dfplt = df2[(df2[\"year\"] >= 2015) & (df2[\"year\"] <= 2020)]\n",
    "ax = dfplt[[\"russian_r_af\",\"austin_c_af\"]].plot()\n",
    "ax.set_yscale(\"log\")"
   ]
  },
  {
   "cell_type": "markdown",
   "id": "28e18569",
   "metadata": {},
   "source": [
    "### groupby: grouping data and performing mathematical operations on it\n",
    "\n",
    "`groupby()` is a powerful method that allows for performing statistical operations over a groups of \"common\" data within a dataframe. \n",
    "\n",
    "For this example we'll use it to get mean daily flows for the watershed. Pandas will group all common days of the year with each other and then calculate the mean value of these via the function `.mean()`. `groupby()` also supports other operations such as `.median()`, `.sum()`, `max()`, `min()`, `std()`, and other functions. "
   ]
  },
  {
   "cell_type": "code",
   "execution_count": 27,
   "id": "61938c67",
   "metadata": {
    "execution": {
     "iopub.execute_input": "2025-09-22T13:35:41.989745Z",
     "iopub.status.busy": "2025-09-22T13:35:41.989592Z",
     "iopub.status.idle": "2025-09-22T13:35:42.009879Z",
     "shell.execute_reply": "2025-09-22T13:35:42.009449Z"
    }
   },
   "outputs": [
    {
     "ename": "NameError",
     "evalue": "name 'df2' is not defined",
     "output_type": "error",
     "traceback": [
      "\u001b[31m---------------------------------------------------------------------------\u001b[39m",
      "\u001b[31mNameError\u001b[39m                                 Traceback (most recent call last)",
      "\u001b[36mCell\u001b[39m\u001b[36m \u001b[39m\u001b[32mIn[27]\u001b[39m\u001b[32m, line 1\u001b[39m\n\u001b[32m----> \u001b[39m\u001b[32m1\u001b[39m df2[\u001b[33m\"\u001b[39m\u001b[33mday_of_year\u001b[39m\u001b[33m\"\u001b[39m] = \u001b[43mdf2\u001b[49m.index.day_of_year\n\u001b[32m      3\u001b[39m df_mean_day = df2.groupby(by=[\u001b[33m\"\u001b[39m\u001b[33mday_of_year\u001b[39m\u001b[33m\"\u001b[39m], as_index=\u001b[38;5;28;01mFalse\u001b[39;00m)[[\u001b[33m\"\u001b[39m\u001b[33mrussian_r_af\u001b[39m\u001b[33m\"\u001b[39m, \u001b[33m\"\u001b[39m\u001b[33maustin_c_af\u001b[39m\u001b[33m\"\u001b[39m]].mean()\n\u001b[32m      4\u001b[39m ax = df_mean_day[[\u001b[33m\"\u001b[39m\u001b[33mrussian_r_af\u001b[39m\u001b[33m\"\u001b[39m, \u001b[33m\"\u001b[39m\u001b[33maustin_c_af\u001b[39m\u001b[33m\"\u001b[39m]].plot()\n",
      "\u001b[31mNameError\u001b[39m: name 'df2' is not defined"
     ]
    }
   ],
   "source": [
    "df2[\"day_of_year\"] = df2.index.day_of_year\n",
    "\n",
    "df_mean_day = df2.groupby(by=[\"day_of_year\"], as_index=False)[[\"russian_r_af\", \"austin_c_af\"]].mean()\n",
    "ax = df_mean_day[[\"russian_r_af\", \"austin_c_af\"]].plot()\n",
    "ax.set_yscale(\"log\")"
   ]
  },
  {
   "cell_type": "markdown",
   "id": "c0b36148",
   "metadata": {},
   "source": [
    "We can see that around March flow starts decreasing heavily and doesn't recover until sometime in october. What's going on here? Let's load some climate data and see what's happening."
   ]
  },
  {
   "cell_type": "code",
   "execution_count": 28,
   "id": "bcc86071",
   "metadata": {
    "execution": {
     "iopub.execute_input": "2025-09-22T13:35:42.011387Z",
     "iopub.status.busy": "2025-09-22T13:35:42.011245Z",
     "iopub.status.idle": "2025-09-22T13:35:42.076499Z",
     "shell.execute_reply": "2025-09-22T13:35:42.076081Z"
    }
   },
   "outputs": [
    {
     "data": {
      "text/html": [
       "<div>\n",
       "<style scoped>\n",
       "    .dataframe tbody tr th:only-of-type {\n",
       "        vertical-align: middle;\n",
       "    }\n",
       "\n",
       "    .dataframe tbody tr th {\n",
       "        vertical-align: top;\n",
       "    }\n",
       "\n",
       "    .dataframe thead th {\n",
       "        text-align: right;\n",
       "    }\n",
       "</style>\n",
       "<table border=\"1\" class=\"dataframe\">\n",
       "  <thead>\n",
       "    <tr style=\"text-align: right;\">\n",
       "      <th></th>\n",
       "      <th>Stn Id</th>\n",
       "      <th>Stn Name</th>\n",
       "      <th>CIMIS Region</th>\n",
       "      <th>Date</th>\n",
       "      <th>Jul</th>\n",
       "      <th>ETo (in)</th>\n",
       "      <th>Precip (in)</th>\n",
       "      <th>Sol Rad (Ly/day)</th>\n",
       "      <th>Avg Vap Pres (mBars)</th>\n",
       "      <th>Max Air Temp (F)</th>\n",
       "      <th>...</th>\n",
       "      <th>Rose NNE</th>\n",
       "      <th>Rose ENE</th>\n",
       "      <th>Rose ESE</th>\n",
       "      <th>Rose SSE</th>\n",
       "      <th>Rose SSW</th>\n",
       "      <th>Rose WSW</th>\n",
       "      <th>Rose WNW</th>\n",
       "      <th>Rose NNW</th>\n",
       "      <th>Wind Run (miles)</th>\n",
       "      <th>Avg Soil Temp (F)</th>\n",
       "    </tr>\n",
       "  </thead>\n",
       "  <tbody>\n",
       "    <tr>\n",
       "      <th>0</th>\n",
       "      <td>83</td>\n",
       "      <td>Santa Rosa</td>\n",
       "      <td>North Coast Valleys</td>\n",
       "      <td>1/1/1990</td>\n",
       "      <td>1</td>\n",
       "      <td>0.00</td>\n",
       "      <td>0.30</td>\n",
       "      <td>42.0</td>\n",
       "      <td>7.7</td>\n",
       "      <td>48.7</td>\n",
       "      <td>...</td>\n",
       "      <td>0.03</td>\n",
       "      <td>0.02</td>\n",
       "      <td>0.06</td>\n",
       "      <td>0.06</td>\n",
       "      <td>0.04</td>\n",
       "      <td>0.10</td>\n",
       "      <td>0.15</td>\n",
       "      <td>0.14</td>\n",
       "      <td>32.1</td>\n",
       "      <td>46.3</td>\n",
       "    </tr>\n",
       "    <tr>\n",
       "      <th>1</th>\n",
       "      <td>83</td>\n",
       "      <td>Santa Rosa</td>\n",
       "      <td>North Coast Valleys</td>\n",
       "      <td>1/2/1990</td>\n",
       "      <td>2</td>\n",
       "      <td>0.06</td>\n",
       "      <td>0.00</td>\n",
       "      <td>236.0</td>\n",
       "      <td>6.1</td>\n",
       "      <td>58.4</td>\n",
       "      <td>...</td>\n",
       "      <td>0.06</td>\n",
       "      <td>0.01</td>\n",
       "      <td>0.04</td>\n",
       "      <td>0.03</td>\n",
       "      <td>0.03</td>\n",
       "      <td>0.06</td>\n",
       "      <td>0.45</td>\n",
       "      <td>1.53</td>\n",
       "      <td>121.0</td>\n",
       "      <td>44.9</td>\n",
       "    </tr>\n",
       "    <tr>\n",
       "      <th>2</th>\n",
       "      <td>83</td>\n",
       "      <td>Santa Rosa</td>\n",
       "      <td>North Coast Valleys</td>\n",
       "      <td>1/3/1990</td>\n",
       "      <td>3</td>\n",
       "      <td>0.04</td>\n",
       "      <td>0.00</td>\n",
       "      <td>225.0</td>\n",
       "      <td>5.8</td>\n",
       "      <td>63.0</td>\n",
       "      <td>...</td>\n",
       "      <td>0.08</td>\n",
       "      <td>0.04</td>\n",
       "      <td>0.10</td>\n",
       "      <td>0.04</td>\n",
       "      <td>0.06</td>\n",
       "      <td>0.05</td>\n",
       "      <td>0.21</td>\n",
       "      <td>0.23</td>\n",
       "      <td>44.5</td>\n",
       "      <td>43.3</td>\n",
       "    </tr>\n",
       "    <tr>\n",
       "      <th>3</th>\n",
       "      <td>83</td>\n",
       "      <td>Santa Rosa</td>\n",
       "      <td>North Coast Valleys</td>\n",
       "      <td>1/4/1990</td>\n",
       "      <td>4</td>\n",
       "      <td>0.03</td>\n",
       "      <td>0.01</td>\n",
       "      <td>190.0</td>\n",
       "      <td>6.3</td>\n",
       "      <td>56.7</td>\n",
       "      <td>...</td>\n",
       "      <td>0.07</td>\n",
       "      <td>0.07</td>\n",
       "      <td>0.11</td>\n",
       "      <td>0.07</td>\n",
       "      <td>0.03</td>\n",
       "      <td>0.03</td>\n",
       "      <td>0.08</td>\n",
       "      <td>0.09</td>\n",
       "      <td>30.2</td>\n",
       "      <td>42.8</td>\n",
       "    </tr>\n",
       "    <tr>\n",
       "      <th>4</th>\n",
       "      <td>83</td>\n",
       "      <td>Santa Rosa</td>\n",
       "      <td>North Coast Valleys</td>\n",
       "      <td>1/5/1990</td>\n",
       "      <td>5</td>\n",
       "      <td>0.04</td>\n",
       "      <td>0.00</td>\n",
       "      <td>192.0</td>\n",
       "      <td>7.2</td>\n",
       "      <td>59.1</td>\n",
       "      <td>...</td>\n",
       "      <td>0.08</td>\n",
       "      <td>0.13</td>\n",
       "      <td>0.33</td>\n",
       "      <td>0.08</td>\n",
       "      <td>0.04</td>\n",
       "      <td>0.08</td>\n",
       "      <td>0.07</td>\n",
       "      <td>0.05</td>\n",
       "      <td>45.2</td>\n",
       "      <td>43.7</td>\n",
       "    </tr>\n",
       "    <tr>\n",
       "      <th>...</th>\n",
       "      <td>...</td>\n",
       "      <td>...</td>\n",
       "      <td>...</td>\n",
       "      <td>...</td>\n",
       "      <td>...</td>\n",
       "      <td>...</td>\n",
       "      <td>...</td>\n",
       "      <td>...</td>\n",
       "      <td>...</td>\n",
       "      <td>...</td>\n",
       "      <td>...</td>\n",
       "      <td>...</td>\n",
       "      <td>...</td>\n",
       "      <td>...</td>\n",
       "      <td>...</td>\n",
       "      <td>...</td>\n",
       "      <td>...</td>\n",
       "      <td>...</td>\n",
       "      <td>...</td>\n",
       "      <td>...</td>\n",
       "      <td>...</td>\n",
       "    </tr>\n",
       "    <tr>\n",
       "      <th>11948</th>\n",
       "      <td>83</td>\n",
       "      <td>Santa Rosa</td>\n",
       "      <td>North Coast Valleys</td>\n",
       "      <td>9/18/2022</td>\n",
       "      <td>261</td>\n",
       "      <td>0.03</td>\n",
       "      <td>0.77</td>\n",
       "      <td>113.0</td>\n",
       "      <td>16.4</td>\n",
       "      <td>66.8</td>\n",
       "      <td>...</td>\n",
       "      <td>0.01</td>\n",
       "      <td>0.04</td>\n",
       "      <td>0.29</td>\n",
       "      <td>0.51</td>\n",
       "      <td>0.14</td>\n",
       "      <td>0.01</td>\n",
       "      <td>0.00</td>\n",
       "      <td>0.00</td>\n",
       "      <td>197.4</td>\n",
       "      <td>65.2</td>\n",
       "    </tr>\n",
       "    <tr>\n",
       "      <th>11949</th>\n",
       "      <td>83</td>\n",
       "      <td>Santa Rosa</td>\n",
       "      <td>North Coast Valleys</td>\n",
       "      <td>9/19/2022</td>\n",
       "      <td>262</td>\n",
       "      <td>0.14</td>\n",
       "      <td>0.02</td>\n",
       "      <td>424.0</td>\n",
       "      <td>15.6</td>\n",
       "      <td>73.9</td>\n",
       "      <td>...</td>\n",
       "      <td>0.09</td>\n",
       "      <td>0.07</td>\n",
       "      <td>0.08</td>\n",
       "      <td>0.17</td>\n",
       "      <td>0.09</td>\n",
       "      <td>0.28</td>\n",
       "      <td>0.15</td>\n",
       "      <td>0.07</td>\n",
       "      <td>108.9</td>\n",
       "      <td>65.9</td>\n",
       "    </tr>\n",
       "    <tr>\n",
       "      <th>11950</th>\n",
       "      <td>83</td>\n",
       "      <td>Santa Rosa</td>\n",
       "      <td>North Coast Valleys</td>\n",
       "      <td>9/20/2022</td>\n",
       "      <td>263</td>\n",
       "      <td>0.10</td>\n",
       "      <td>0.00</td>\n",
       "      <td>330.0</td>\n",
       "      <td>13.9</td>\n",
       "      <td>72.6</td>\n",
       "      <td>...</td>\n",
       "      <td>0.08</td>\n",
       "      <td>0.04</td>\n",
       "      <td>0.10</td>\n",
       "      <td>0.11</td>\n",
       "      <td>0.18</td>\n",
       "      <td>0.25</td>\n",
       "      <td>0.15</td>\n",
       "      <td>0.10</td>\n",
       "      <td>79.6</td>\n",
       "      <td>65.8</td>\n",
       "    </tr>\n",
       "    <tr>\n",
       "      <th>11951</th>\n",
       "      <td>83</td>\n",
       "      <td>Santa Rosa</td>\n",
       "      <td>North Coast Valleys</td>\n",
       "      <td>9/21/2022</td>\n",
       "      <td>264</td>\n",
       "      <td>0.15</td>\n",
       "      <td>0.07</td>\n",
       "      <td>458.0</td>\n",
       "      <td>14.8</td>\n",
       "      <td>75.5</td>\n",
       "      <td>...</td>\n",
       "      <td>0.09</td>\n",
       "      <td>0.05</td>\n",
       "      <td>0.13</td>\n",
       "      <td>0.16</td>\n",
       "      <td>0.18</td>\n",
       "      <td>0.22</td>\n",
       "      <td>0.08</td>\n",
       "      <td>0.09</td>\n",
       "      <td>103.3</td>\n",
       "      <td>66.7</td>\n",
       "    </tr>\n",
       "    <tr>\n",
       "      <th>11952</th>\n",
       "      <td>83</td>\n",
       "      <td>Santa Rosa</td>\n",
       "      <td>North Coast Valleys</td>\n",
       "      <td>9/22/2022</td>\n",
       "      <td>265</td>\n",
       "      <td>0.17</td>\n",
       "      <td>0.00</td>\n",
       "      <td>494.0</td>\n",
       "      <td>13.1</td>\n",
       "      <td>82.9</td>\n",
       "      <td>...</td>\n",
       "      <td>0.14</td>\n",
       "      <td>0.06</td>\n",
       "      <td>0.09</td>\n",
       "      <td>0.10</td>\n",
       "      <td>0.11</td>\n",
       "      <td>0.20</td>\n",
       "      <td>0.12</td>\n",
       "      <td>0.19</td>\n",
       "      <td>83.7</td>\n",
       "      <td>66.3</td>\n",
       "    </tr>\n",
       "  </tbody>\n",
       "</table>\n",
       "<p>11953 rows × 27 columns</p>\n",
       "</div>"
      ],
      "text/plain": [
       "       Stn Id    Stn Name         CIMIS Region       Date  Jul  ETo (in)  \\\n",
       "0          83  Santa Rosa  North Coast Valleys   1/1/1990    1      0.00   \n",
       "1          83  Santa Rosa  North Coast Valleys   1/2/1990    2      0.06   \n",
       "2          83  Santa Rosa  North Coast Valleys   1/3/1990    3      0.04   \n",
       "3          83  Santa Rosa  North Coast Valleys   1/4/1990    4      0.03   \n",
       "4          83  Santa Rosa  North Coast Valleys   1/5/1990    5      0.04   \n",
       "...       ...         ...                  ...        ...  ...       ...   \n",
       "11948      83  Santa Rosa  North Coast Valleys  9/18/2022  261      0.03   \n",
       "11949      83  Santa Rosa  North Coast Valleys  9/19/2022  262      0.14   \n",
       "11950      83  Santa Rosa  North Coast Valleys  9/20/2022  263      0.10   \n",
       "11951      83  Santa Rosa  North Coast Valleys  9/21/2022  264      0.15   \n",
       "11952      83  Santa Rosa  North Coast Valleys  9/22/2022  265      0.17   \n",
       "\n",
       "       Precip (in)  Sol Rad (Ly/day)  Avg Vap Pres (mBars)  Max Air Temp (F)  \\\n",
       "0             0.30              42.0                   7.7              48.7   \n",
       "1             0.00             236.0                   6.1              58.4   \n",
       "2             0.00             225.0                   5.8              63.0   \n",
       "3             0.01             190.0                   6.3              56.7   \n",
       "4             0.00             192.0                   7.2              59.1   \n",
       "...            ...               ...                   ...               ...   \n",
       "11948         0.77             113.0                  16.4              66.8   \n",
       "11949         0.02             424.0                  15.6              73.9   \n",
       "11950         0.00             330.0                  13.9              72.6   \n",
       "11951         0.07             458.0                  14.8              75.5   \n",
       "11952         0.00             494.0                  13.1              82.9   \n",
       "\n",
       "       ...  Rose NNE  Rose ENE  Rose ESE  Rose SSE  Rose SSW  Rose WSW  \\\n",
       "0      ...      0.03      0.02      0.06      0.06      0.04      0.10   \n",
       "1      ...      0.06      0.01      0.04      0.03      0.03      0.06   \n",
       "2      ...      0.08      0.04      0.10      0.04      0.06      0.05   \n",
       "3      ...      0.07      0.07      0.11      0.07      0.03      0.03   \n",
       "4      ...      0.08      0.13      0.33      0.08      0.04      0.08   \n",
       "...    ...       ...       ...       ...       ...       ...       ...   \n",
       "11948  ...      0.01      0.04      0.29      0.51      0.14      0.01   \n",
       "11949  ...      0.09      0.07      0.08      0.17      0.09      0.28   \n",
       "11950  ...      0.08      0.04      0.10      0.11      0.18      0.25   \n",
       "11951  ...      0.09      0.05      0.13      0.16      0.18      0.22   \n",
       "11952  ...      0.14      0.06      0.09      0.10      0.11      0.20   \n",
       "\n",
       "       Rose WNW  Rose NNW  Wind Run (miles)  Avg Soil Temp (F)  \n",
       "0          0.15      0.14              32.1               46.3  \n",
       "1          0.45      1.53             121.0               44.9  \n",
       "2          0.21      0.23              44.5               43.3  \n",
       "3          0.08      0.09              30.2               42.8  \n",
       "4          0.07      0.05              45.2               43.7  \n",
       "...         ...       ...               ...                ...  \n",
       "11948      0.00      0.00             197.4               65.2  \n",
       "11949      0.15      0.07             108.9               65.9  \n",
       "11950      0.15      0.10              79.6               65.8  \n",
       "11951      0.08      0.09             103.3               66.7  \n",
       "11952      0.12      0.19              83.7               66.3  \n",
       "\n",
       "[11953 rows x 27 columns]"
      ]
     },
     "execution_count": 28,
     "metadata": {},
     "output_type": "execute_result"
    }
   ],
   "source": [
    "cimis_file = data_path / \"santa_rosa_CIMIS_83.csv\"\n",
    "df_cimis = pd.read_csv(cimis_file)\n",
    "drop_list = [\"qc\"] + [f\"qc.{i}\" for i in range(1, 22)]\n",
    "df_cimis.drop(columns=drop_list, inplace=True)\n",
    "df_cimis"
   ]
  },
  {
   "cell_type": "code",
   "execution_count": 29,
   "id": "072f50f4",
   "metadata": {
    "execution": {
     "iopub.execute_input": "2025-09-22T13:35:42.077946Z",
     "iopub.status.busy": "2025-09-22T13:35:42.077797Z",
     "iopub.status.idle": "2025-09-22T13:35:42.085206Z",
     "shell.execute_reply": "2025-09-22T13:35:42.084752Z"
    }
   },
   "outputs": [
    {
     "data": {
      "text/html": [
       "<div>\n",
       "<style scoped>\n",
       "    .dataframe tbody tr th:only-of-type {\n",
       "        vertical-align: middle;\n",
       "    }\n",
       "\n",
       "    .dataframe tbody tr th {\n",
       "        vertical-align: top;\n",
       "    }\n",
       "\n",
       "    .dataframe thead th {\n",
       "        text-align: right;\n",
       "    }\n",
       "</style>\n",
       "<table border=\"1\" class=\"dataframe\">\n",
       "  <thead>\n",
       "    <tr style=\"text-align: right;\">\n",
       "      <th></th>\n",
       "      <th>day_of_year</th>\n",
       "      <th>ETo (in)</th>\n",
       "      <th>Precip (in)</th>\n",
       "    </tr>\n",
       "  </thead>\n",
       "  <tbody>\n",
       "    <tr>\n",
       "      <th>0</th>\n",
       "      <td>1</td>\n",
       "      <td>0.031212</td>\n",
       "      <td>0.335455</td>\n",
       "    </tr>\n",
       "    <tr>\n",
       "      <th>1</th>\n",
       "      <td>2</td>\n",
       "      <td>0.031212</td>\n",
       "      <td>0.155152</td>\n",
       "    </tr>\n",
       "    <tr>\n",
       "      <th>2</th>\n",
       "      <td>3</td>\n",
       "      <td>0.030303</td>\n",
       "      <td>0.195484</td>\n",
       "    </tr>\n",
       "    <tr>\n",
       "      <th>3</th>\n",
       "      <td>4</td>\n",
       "      <td>0.030909</td>\n",
       "      <td>0.190303</td>\n",
       "    </tr>\n",
       "    <tr>\n",
       "      <th>4</th>\n",
       "      <td>5</td>\n",
       "      <td>0.034242</td>\n",
       "      <td>0.150000</td>\n",
       "    </tr>\n",
       "  </tbody>\n",
       "</table>\n",
       "</div>"
      ],
      "text/plain": [
       "   day_of_year  ETo (in)  Precip (in)\n",
       "0            1  0.031212     0.335455\n",
       "1            2  0.031212     0.155152\n",
       "2            3  0.030303     0.195484\n",
       "3            4  0.030909     0.190303\n",
       "4            5  0.034242     0.150000"
      ]
     },
     "execution_count": 29,
     "metadata": {},
     "output_type": "execute_result"
    }
   ],
   "source": [
    "df_mean_clim = df_cimis.groupby(by=[\"Jul\"], as_index=False)[[\"ETo (in)\", \"Precip (in)\"]].mean()\n",
    "df_mean_clim = df_mean_clim.rename(columns={\"Jul\": \"day_of_year\"})\n",
    "df_mean_clim.head()"
   ]
  },
  {
   "cell_type": "markdown",
   "id": "bb5edf3c",
   "metadata": {},
   "source": [
    "### Joining two `DataFrames` with an inner join\n",
    "\n",
    "Inner joins can be made in pandas with the `merge()` method. As inner join, joins two dataframes on a common key or values, when a key or value exists in one dataframe, but not the other that row of data will be excluded from the joined dataframe. \n",
    "\n",
    "There are a number of other ways to join dataframes in pandas. Detailed examples and discussion of the different merging methods can be found [here](https://realpython.com/pandas-merge-join-and-concat/)"
   ]
  },
  {
   "cell_type": "code",
   "execution_count": 30,
   "id": "d2b055b6",
   "metadata": {
    "execution": {
     "iopub.execute_input": "2025-09-22T13:35:42.086617Z",
     "iopub.status.busy": "2025-09-22T13:35:42.086470Z",
     "iopub.status.idle": "2025-09-22T13:35:42.105874Z",
     "shell.execute_reply": "2025-09-22T13:35:42.105488Z"
    }
   },
   "outputs": [
    {
     "ename": "NameError",
     "evalue": "name 'df_mean_day' is not defined",
     "output_type": "error",
     "traceback": [
      "\u001b[31m---------------------------------------------------------------------------\u001b[39m",
      "\u001b[31mNameError\u001b[39m                                 Traceback (most recent call last)",
      "\u001b[36mCell\u001b[39m\u001b[36m \u001b[39m\u001b[32mIn[30]\u001b[39m\u001b[32m, line 1\u001b[39m\n\u001b[32m----> \u001b[39m\u001b[32m1\u001b[39m df_merged = pd.merge(\u001b[43mdf_mean_day\u001b[49m, df_mean_clim, on=[\u001b[33m\"\u001b[39m\u001b[33mday_of_year\u001b[39m\u001b[33m\"\u001b[39m,])\n\u001b[32m      2\u001b[39m df_merged.head()\n",
      "\u001b[31mNameError\u001b[39m: name 'df_mean_day' is not defined"
     ]
    }
   ],
   "source": [
    "df_merged = pd.merge(df_mean_day, df_mean_clim, on=[\"day_of_year\",])\n",
    "df_merged.head()"
   ]
  },
  {
   "cell_type": "code",
   "execution_count": 31,
   "id": "1915d1b9",
   "metadata": {
    "execution": {
     "iopub.execute_input": "2025-09-22T13:35:42.107289Z",
     "iopub.status.busy": "2025-09-22T13:35:42.107141Z",
     "iopub.status.idle": "2025-09-22T13:35:42.125709Z",
     "shell.execute_reply": "2025-09-22T13:35:42.125260Z"
    }
   },
   "outputs": [
    {
     "ename": "NameError",
     "evalue": "name 'df_merged' is not defined",
     "output_type": "error",
     "traceback": [
      "\u001b[31m---------------------------------------------------------------------------\u001b[39m",
      "\u001b[31mNameError\u001b[39m                                 Traceback (most recent call last)",
      "\u001b[36mCell\u001b[39m\u001b[36m \u001b[39m\u001b[32mIn[31]\u001b[39m\u001b[32m, line 1\u001b[39m\n\u001b[32m----> \u001b[39m\u001b[32m1\u001b[39m cols = [i \u001b[38;5;28;01mfor\u001b[39;00m i \u001b[38;5;129;01min\u001b[39;00m \u001b[38;5;28mlist\u001b[39m(\u001b[43mdf_merged\u001b[49m) \u001b[38;5;28;01mif\u001b[39;00m i != \u001b[33m\"\u001b[39m\u001b[33mday_of_year\u001b[39m\u001b[33m\"\u001b[39m]\n\u001b[32m      2\u001b[39m ax = df_merged[cols].plot()\n\u001b[32m      3\u001b[39m ax.set_yscale(\u001b[33m\"\u001b[39m\u001b[33mlog\u001b[39m\u001b[33m\"\u001b[39m)\n",
      "\u001b[31mNameError\u001b[39m: name 'df_merged' is not defined"
     ]
    }
   ],
   "source": [
    "cols = [i for i in list(df_merged) if i != \"day_of_year\"]\n",
    "ax = df_merged[cols].plot()\n",
    "ax.set_yscale(\"log\")"
   ]
  },
  {
   "cell_type": "markdown",
   "id": "3ed8ec21",
   "metadata": {},
   "source": [
    "This starts to make a little more sense! We can see that this area gets most of it's precipitation in the winter and early spring. The evapotranspiration curve shows what we'd expect: that there is more evapotranspiration in the summer than the winter. "
   ]
  },
  {
   "cell_type": "markdown",
   "id": "47d9ca7e-fafe-4280-a2a1-7a87fb1ef3b5",
   "metadata": {},
   "source": [
    "## Stepping back for a minute: exploring Merge and Concat\n",
    "\n",
    "Merge and concat are very powerful and important methods for combining pandas DataFrames (and later geopandas GeoDataFrames). This section takes a moment, as an aside to explore some of the common funtions and options for performing merges and concatenation. "
   ]
  },
  {
   "cell_type": "markdown",
   "id": "893e3dab-72c4-4702-a50b-d9ee832af85f",
   "metadata": {},
   "source": [
    "### The `merge` method\n",
    "\n",
    "Pandas `merge` method allows the user to join two dataframes based on column values. There are a few methods that can be used to control the type of merge and the result.\n",
    "\n",
    "   - `inner`: operates as a intersection of the data and keeps rows from both dataframes if the row has a matching key in both dataframes.\n",
    "   - `outer`: operates as a union and joins all rows from both dataframes, fills columns with nan where data is not available for a row.\n",
    "   - `left`: keeps all rows from the 'left' dataframe and joins columns from the right\n",
    "   - `right`: keeps all rows from the 'right' dataframe and joins columns from the left"
   ]
  },
  {
   "cell_type": "code",
   "execution_count": 32,
   "id": "1472f91c-6cd7-429a-8203-9ba2648c5aae",
   "metadata": {
    "execution": {
     "iopub.execute_input": "2025-09-22T13:35:42.127138Z",
     "iopub.status.busy": "2025-09-22T13:35:42.126960Z",
     "iopub.status.idle": "2025-09-22T13:35:42.129548Z",
     "shell.execute_reply": "2025-09-22T13:35:42.129023Z"
    }
   },
   "outputs": [],
   "source": [
    "ex0 = {\n",
    "    \"name\": [], \n",
    "    \"childhood_dream_job\": []\n",
    "}\n",
    "ex1 = {\n",
    "    \"name\": [],\n",
    "    \"age\": []\n",
    "}"
   ]
  },
  {
   "cell_type": "code",
   "execution_count": null,
   "id": "e873668d-b867-498e-bf4a-66c465bc90b3",
   "metadata": {},
   "outputs": [],
   "source": []
  },
  {
   "cell_type": "code",
   "execution_count": null,
   "id": "4ac4b420-0be1-400c-b725-4d914a761889",
   "metadata": {},
   "outputs": [],
   "source": []
  },
  {
   "cell_type": "code",
   "execution_count": null,
   "id": "97d66c72-fe0a-42d0-a6cd-a8613db2da75",
   "metadata": {},
   "outputs": [],
   "source": []
  },
  {
   "cell_type": "markdown",
   "id": "4c998ffd-f62b-4b0a-8f16-55f814ea15b7",
   "metadata": {},
   "source": [
    "### The `concat` method\n",
    "\n",
    "Pandas `concat` method allows the user to concatenate dataframes together"
   ]
  },
  {
   "cell_type": "code",
   "execution_count": 33,
   "id": "aa7f3542-38eb-4082-a6f3-e8baa5bdac29",
   "metadata": {
    "execution": {
     "iopub.execute_input": "2025-09-22T13:35:42.131097Z",
     "iopub.status.busy": "2025-09-22T13:35:42.130928Z",
     "iopub.status.idle": "2025-09-22T13:35:42.151083Z",
     "shell.execute_reply": "2025-09-22T13:35:42.150543Z"
    }
   },
   "outputs": [
    {
     "ename": "NameError",
     "evalue": "name 'info' is not defined",
     "output_type": "error",
     "traceback": [
      "\u001b[31m---------------------------------------------------------------------------\u001b[39m",
      "\u001b[31mNameError\u001b[39m                                 Traceback (most recent call last)",
      "\u001b[36mCell\u001b[39m\u001b[36m \u001b[39m\u001b[32mIn[33]\u001b[39m\u001b[32m, line 1\u001b[39m\n\u001b[32m----> \u001b[39m\u001b[32m1\u001b[39m gw = \u001b[43minfo\u001b[49m[info.site_tp_cd == \u001b[33m\"\u001b[39m\u001b[33mGW\u001b[39m\u001b[33m\"\u001b[39m]\n\u001b[32m      2\u001b[39m sw = info[info.site_tp_cd == \u001b[33m\"\u001b[39m\u001b[33mST\u001b[39m\u001b[33m\"\u001b[39m]\n\u001b[32m      3\u001b[39m sw = sw[\u001b[38;5;28mlist\u001b[39m(sw)[\u001b[32m0\u001b[39m:\u001b[32m8\u001b[39m]]\n",
      "\u001b[31mNameError\u001b[39m: name 'info' is not defined"
     ]
    }
   ],
   "source": [
    "gw = info[info.site_tp_cd == \"GW\"]\n",
    "sw = info[info.site_tp_cd == \"ST\"]\n",
    "sw = sw[list(sw)[0:8]]\n",
    "sw.head()"
   ]
  },
  {
   "cell_type": "code",
   "execution_count": 34,
   "id": "fc81aead-4d2c-48b0-a868-46c546c0901c",
   "metadata": {
    "execution": {
     "iopub.execute_input": "2025-09-22T13:35:42.152412Z",
     "iopub.status.busy": "2025-09-22T13:35:42.152270Z",
     "iopub.status.idle": "2025-09-22T13:35:42.170029Z",
     "shell.execute_reply": "2025-09-22T13:35:42.169519Z"
    }
   },
   "outputs": [
    {
     "ename": "NameError",
     "evalue": "name 'gw' is not defined",
     "output_type": "error",
     "traceback": [
      "\u001b[31m---------------------------------------------------------------------------\u001b[39m",
      "\u001b[31mNameError\u001b[39m                                 Traceback (most recent call last)",
      "\u001b[36mCell\u001b[39m\u001b[36m \u001b[39m\u001b[32mIn[34]\u001b[39m\u001b[32m, line 1\u001b[39m\n\u001b[32m----> \u001b[39m\u001b[32m1\u001b[39m newdf = pd.concat((\u001b[43mgw\u001b[49m, sw), ignore_index=\u001b[38;5;28;01mTrue\u001b[39;00m)\n\u001b[32m      2\u001b[39m newdf\n",
      "\u001b[31mNameError\u001b[39m: name 'gw' is not defined"
     ]
    }
   ],
   "source": [
    "newdf = pd.concat((gw, sw), ignore_index=True)\n",
    "newdf"
   ]
  },
  {
   "cell_type": "markdown",
   "id": "835dd7c5-bce8-434b-889e-5ef837fac152",
   "metadata": {},
   "source": [
    "## Back to working with our climate and stream data"
   ]
  },
  {
   "cell_type": "markdown",
   "id": "0b486148",
   "metadata": {},
   "source": [
    "Is there anything else we can look at that might give us more insights into this basin? \n",
    "\n",
    "Let's try looking at long term, yearly trends to see what's there."
   ]
  },
  {
   "cell_type": "code",
   "execution_count": 35,
   "id": "e62109ef",
   "metadata": {
    "execution": {
     "iopub.execute_input": "2025-09-22T13:35:42.171461Z",
     "iopub.status.busy": "2025-09-22T13:35:42.171313Z",
     "iopub.status.idle": "2025-09-22T13:35:42.195910Z",
     "shell.execute_reply": "2025-09-22T13:35:42.195343Z"
    }
   },
   "outputs": [
    {
     "data": {
      "text/html": [
       "<div>\n",
       "<style scoped>\n",
       "    .dataframe tbody tr th:only-of-type {\n",
       "        vertical-align: middle;\n",
       "    }\n",
       "\n",
       "    .dataframe tbody tr th {\n",
       "        vertical-align: top;\n",
       "    }\n",
       "\n",
       "    .dataframe thead th {\n",
       "        text-align: right;\n",
       "    }\n",
       "</style>\n",
       "<table border=\"1\" class=\"dataframe\">\n",
       "  <thead>\n",
       "    <tr style=\"text-align: right;\">\n",
       "      <th></th>\n",
       "      <th>Stn Id</th>\n",
       "      <th>Stn Name</th>\n",
       "      <th>CIMIS Region</th>\n",
       "      <th>Date</th>\n",
       "      <th>Jul</th>\n",
       "      <th>ETo (in)</th>\n",
       "      <th>Precip (in)</th>\n",
       "      <th>Sol Rad (Ly/day)</th>\n",
       "      <th>Avg Vap Pres (mBars)</th>\n",
       "      <th>Max Air Temp (F)</th>\n",
       "      <th>...</th>\n",
       "      <th>Rose ENE</th>\n",
       "      <th>Rose ESE</th>\n",
       "      <th>Rose SSE</th>\n",
       "      <th>Rose SSW</th>\n",
       "      <th>Rose WSW</th>\n",
       "      <th>Rose WNW</th>\n",
       "      <th>Rose NNW</th>\n",
       "      <th>Wind Run (miles)</th>\n",
       "      <th>Avg Soil Temp (F)</th>\n",
       "      <th>year</th>\n",
       "    </tr>\n",
       "  </thead>\n",
       "  <tbody>\n",
       "    <tr>\n",
       "      <th>0</th>\n",
       "      <td>83</td>\n",
       "      <td>Santa Rosa</td>\n",
       "      <td>North Coast Valleys</td>\n",
       "      <td>1/1/1990</td>\n",
       "      <td>1</td>\n",
       "      <td>0.00</td>\n",
       "      <td>0.30</td>\n",
       "      <td>42.0</td>\n",
       "      <td>7.7</td>\n",
       "      <td>48.7</td>\n",
       "      <td>...</td>\n",
       "      <td>0.02</td>\n",
       "      <td>0.06</td>\n",
       "      <td>0.06</td>\n",
       "      <td>0.04</td>\n",
       "      <td>0.10</td>\n",
       "      <td>0.15</td>\n",
       "      <td>0.14</td>\n",
       "      <td>32.1</td>\n",
       "      <td>46.3</td>\n",
       "      <td>1989</td>\n",
       "    </tr>\n",
       "    <tr>\n",
       "      <th>1</th>\n",
       "      <td>83</td>\n",
       "      <td>Santa Rosa</td>\n",
       "      <td>North Coast Valleys</td>\n",
       "      <td>1/2/1990</td>\n",
       "      <td>2</td>\n",
       "      <td>0.06</td>\n",
       "      <td>0.00</td>\n",
       "      <td>236.0</td>\n",
       "      <td>6.1</td>\n",
       "      <td>58.4</td>\n",
       "      <td>...</td>\n",
       "      <td>0.01</td>\n",
       "      <td>0.04</td>\n",
       "      <td>0.03</td>\n",
       "      <td>0.03</td>\n",
       "      <td>0.06</td>\n",
       "      <td>0.45</td>\n",
       "      <td>1.53</td>\n",
       "      <td>121.0</td>\n",
       "      <td>44.9</td>\n",
       "      <td>1989</td>\n",
       "    </tr>\n",
       "    <tr>\n",
       "      <th>2</th>\n",
       "      <td>83</td>\n",
       "      <td>Santa Rosa</td>\n",
       "      <td>North Coast Valleys</td>\n",
       "      <td>1/3/1990</td>\n",
       "      <td>3</td>\n",
       "      <td>0.04</td>\n",
       "      <td>0.00</td>\n",
       "      <td>225.0</td>\n",
       "      <td>5.8</td>\n",
       "      <td>63.0</td>\n",
       "      <td>...</td>\n",
       "      <td>0.04</td>\n",
       "      <td>0.10</td>\n",
       "      <td>0.04</td>\n",
       "      <td>0.06</td>\n",
       "      <td>0.05</td>\n",
       "      <td>0.21</td>\n",
       "      <td>0.23</td>\n",
       "      <td>44.5</td>\n",
       "      <td>43.3</td>\n",
       "      <td>1989</td>\n",
       "    </tr>\n",
       "    <tr>\n",
       "      <th>3</th>\n",
       "      <td>83</td>\n",
       "      <td>Santa Rosa</td>\n",
       "      <td>North Coast Valleys</td>\n",
       "      <td>1/4/1990</td>\n",
       "      <td>4</td>\n",
       "      <td>0.03</td>\n",
       "      <td>0.01</td>\n",
       "      <td>190.0</td>\n",
       "      <td>6.3</td>\n",
       "      <td>56.7</td>\n",
       "      <td>...</td>\n",
       "      <td>0.07</td>\n",
       "      <td>0.11</td>\n",
       "      <td>0.07</td>\n",
       "      <td>0.03</td>\n",
       "      <td>0.03</td>\n",
       "      <td>0.08</td>\n",
       "      <td>0.09</td>\n",
       "      <td>30.2</td>\n",
       "      <td>42.8</td>\n",
       "      <td>1989</td>\n",
       "    </tr>\n",
       "    <tr>\n",
       "      <th>4</th>\n",
       "      <td>83</td>\n",
       "      <td>Santa Rosa</td>\n",
       "      <td>North Coast Valleys</td>\n",
       "      <td>1/5/1990</td>\n",
       "      <td>5</td>\n",
       "      <td>0.04</td>\n",
       "      <td>0.00</td>\n",
       "      <td>192.0</td>\n",
       "      <td>7.2</td>\n",
       "      <td>59.1</td>\n",
       "      <td>...</td>\n",
       "      <td>0.13</td>\n",
       "      <td>0.33</td>\n",
       "      <td>0.08</td>\n",
       "      <td>0.04</td>\n",
       "      <td>0.08</td>\n",
       "      <td>0.07</td>\n",
       "      <td>0.05</td>\n",
       "      <td>45.2</td>\n",
       "      <td>43.7</td>\n",
       "      <td>1989</td>\n",
       "    </tr>\n",
       "  </tbody>\n",
       "</table>\n",
       "<p>5 rows × 28 columns</p>\n",
       "</div>"
      ],
      "text/plain": [
       "   Stn Id    Stn Name         CIMIS Region      Date  Jul  ETo (in)  \\\n",
       "0      83  Santa Rosa  North Coast Valleys  1/1/1990    1      0.00   \n",
       "1      83  Santa Rosa  North Coast Valleys  1/2/1990    2      0.06   \n",
       "2      83  Santa Rosa  North Coast Valleys  1/3/1990    3      0.04   \n",
       "3      83  Santa Rosa  North Coast Valleys  1/4/1990    4      0.03   \n",
       "4      83  Santa Rosa  North Coast Valleys  1/5/1990    5      0.04   \n",
       "\n",
       "   Precip (in)  Sol Rad (Ly/day)  Avg Vap Pres (mBars)  Max Air Temp (F)  ...  \\\n",
       "0         0.30              42.0                   7.7              48.7  ...   \n",
       "1         0.00             236.0                   6.1              58.4  ...   \n",
       "2         0.00             225.0                   5.8              63.0  ...   \n",
       "3         0.01             190.0                   6.3              56.7  ...   \n",
       "4         0.00             192.0                   7.2              59.1  ...   \n",
       "\n",
       "   Rose ENE  Rose ESE  Rose SSE  Rose SSW  Rose WSW  Rose WNW  Rose NNW  \\\n",
       "0      0.02      0.06      0.06      0.04      0.10      0.15      0.14   \n",
       "1      0.01      0.04      0.03      0.03      0.06      0.45      1.53   \n",
       "2      0.04      0.10      0.04      0.06      0.05      0.21      0.23   \n",
       "3      0.07      0.11      0.07      0.03      0.03      0.08      0.09   \n",
       "4      0.13      0.33      0.08      0.04      0.08      0.07      0.05   \n",
       "\n",
       "   Wind Run (miles)  Avg Soil Temp (F)  year  \n",
       "0              32.1               46.3  1989  \n",
       "1             121.0               44.9  1989  \n",
       "2              44.5               43.3  1989  \n",
       "3              30.2               42.8  1989  \n",
       "4              45.2               43.7  1989  \n",
       "\n",
       "[5 rows x 28 columns]"
      ]
     },
     "execution_count": 35,
     "metadata": {},
     "output_type": "execute_result"
    }
   ],
   "source": [
    "year = []\n",
    "for dstr in df_cimis.Date.values:\n",
    "    mo, d, yr = [int(i) for i in dstr.split(\"/\")]\n",
    "    if mo < 10:\n",
    "        year.append(yr - 1)\n",
    "    else:\n",
    "        year.append(yr)\n",
    "df_cimis[\"year\"] = year\n",
    "df_cimis.head()"
   ]
  },
  {
   "cell_type": "code",
   "execution_count": 36,
   "id": "826df4a9",
   "metadata": {
    "execution": {
     "iopub.execute_input": "2025-09-22T13:35:42.197502Z",
     "iopub.status.busy": "2025-09-22T13:35:42.197349Z",
     "iopub.status.idle": "2025-09-22T13:35:42.216027Z",
     "shell.execute_reply": "2025-09-22T13:35:42.215531Z"
    }
   },
   "outputs": [
    {
     "ename": "NameError",
     "evalue": "name 'df2' is not defined",
     "output_type": "error",
     "traceback": [
      "\u001b[31m---------------------------------------------------------------------------\u001b[39m",
      "\u001b[31mNameError\u001b[39m                                 Traceback (most recent call last)",
      "\u001b[36mCell\u001b[39m\u001b[36m \u001b[39m\u001b[32mIn[36]\u001b[39m\u001b[32m, line 1\u001b[39m\n\u001b[32m----> \u001b[39m\u001b[32m1\u001b[39m \u001b[43mdf2\u001b[49m.head()\n",
      "\u001b[31mNameError\u001b[39m: name 'df2' is not defined"
     ]
    }
   ],
   "source": [
    "df2.head()"
   ]
  },
  {
   "cell_type": "markdown",
   "id": "49a97ec7",
   "metadata": {},
   "source": [
    "### `.aggregate()`\n",
    "\n",
    "The pandas `.aggregate()` can be used with `.groupy()` to perform multiple statistical operations.\n",
    "\n",
    "Example usage could be:\n",
    "\n",
    "```python\n",
    "    \n",
    "    agdf = df2.groupby(by=[\"day_of_year\"], as_index=False)[\"austin_c_af\"].aggregate([np.min, np.max, np.mean, np.std])\n",
    "```\n",
    "\n",
    "And would return a dataframe grouped by the day of year and take the min, max, mean, and standard deviation of these data."
   ]
  },
  {
   "cell_type": "markdown",
   "id": "ffd30f76",
   "metadata": {},
   "source": [
    "## Class exercise 3: groupy, aggregate, and merge\n",
    "\n",
    "For this exercise we need to produce yearly mean and standard deviation flows for the `russian_r_af` variable and merge the data with yearly mean precipitation and evapotranspiration  \n",
    "\n",
    "**Hints:**  \n",
    "   - `df2` and `df_cimis` are the dataframes these operations should be performed on  \n",
    "   - use `.groupby()` to group by the year and do `precip` and `ETo` in separate groupby routines\n",
    "   - rename the columns in the ETo aggregated dataframe and the Precip dataframe to `mean_et`, `std_et`, `mean_precip`, `std_precip`\n",
    "   - `np.mean` and `np.std` can be used to calculate mean and std flows  \n",
    "   \n",
    "Name your final joined dataframe `df_yearly`"
   ]
  },
  {
   "cell_type": "code",
   "execution_count": 37,
   "id": "3e0ac248",
   "metadata": {
    "execution": {
     "iopub.execute_input": "2025-09-22T13:35:42.217558Z",
     "iopub.status.busy": "2025-09-22T13:35:42.217406Z",
     "iopub.status.idle": "2025-09-22T13:35:42.239602Z",
     "shell.execute_reply": "2025-09-22T13:35:42.239064Z"
    }
   },
   "outputs": [
    {
     "ename": "NameError",
     "evalue": "name 'df2' is not defined",
     "output_type": "error",
     "traceback": [
      "\u001b[31m---------------------------------------------------------------------------\u001b[39m",
      "\u001b[31mNameError\u001b[39m                                 Traceback (most recent call last)",
      "\u001b[36mCell\u001b[39m\u001b[36m \u001b[39m\u001b[32mIn[37]\u001b[39m\u001b[32m, line 1\u001b[39m\n\u001b[32m----> \u001b[39m\u001b[32m1\u001b[39m dfg0 = \u001b[43mdf2\u001b[49m.groupby(by=[\u001b[33m\"\u001b[39m\u001b[33myear\u001b[39m\u001b[33m\"\u001b[39m], as_index=\u001b[38;5;28;01mFalse\u001b[39;00m)[\u001b[33m\"\u001b[39m\u001b[33mrussian_r_af\u001b[39m\u001b[33m\"\u001b[39m].aggregate([\u001b[33m'\u001b[39m\u001b[33mmean\u001b[39m\u001b[33m'\u001b[39m, \u001b[33m'\u001b[39m\u001b[33mstd\u001b[39m\u001b[33m'\u001b[39m])\n\u001b[32m      2\u001b[39m dfg1 = df_cimis.groupby(by=[\u001b[33m\"\u001b[39m\u001b[33myear\u001b[39m\u001b[33m\"\u001b[39m], as_index=\u001b[38;5;28;01mFalse\u001b[39;00m)[\u001b[33m\"\u001b[39m\u001b[33mETo (in)\u001b[39m\u001b[33m\"\u001b[39m].aggregate([\u001b[33m'\u001b[39m\u001b[33mmean\u001b[39m\u001b[33m'\u001b[39m, \u001b[33m'\u001b[39m\u001b[33mstd\u001b[39m\u001b[33m'\u001b[39m])\n\u001b[32m      3\u001b[39m dfg2 = df_cimis.groupby(by=[\u001b[33m\"\u001b[39m\u001b[33myear\u001b[39m\u001b[33m\"\u001b[39m], as_index=\u001b[38;5;28;01mFalse\u001b[39;00m)[\u001b[33m\"\u001b[39m\u001b[33mPrecip (in)\u001b[39m\u001b[33m\"\u001b[39m].aggregate([\u001b[33m'\u001b[39m\u001b[33mmean\u001b[39m\u001b[33m'\u001b[39m, \u001b[33m'\u001b[39m\u001b[33mstd\u001b[39m\u001b[33m'\u001b[39m])\n",
      "\u001b[31mNameError\u001b[39m: name 'df2' is not defined"
     ]
    }
   ],
   "source": [
    "dfg0 = df2.groupby(by=[\"year\"], as_index=False)[\"russian_r_af\"].aggregate(['mean', 'std'])\n",
    "dfg1 = df_cimis.groupby(by=[\"year\"], as_index=False)[\"ETo (in)\"].aggregate(['mean', 'std'])\n",
    "dfg2 = df_cimis.groupby(by=[\"year\"], as_index=False)[\"Precip (in)\"].aggregate(['mean', 'std'])\n",
    "\n",
    "dfm1 = pd.merge(dfg0, dfg1, on=[\"year\"], suffixes=(None, \"_et\"))\n",
    "df_yearly = pd.merge(dfm1, dfg2, on=[\"year\"], suffixes=(None, \"_precip\"))\n",
    "\n",
    "df_yearly"
   ]
  },
  {
   "cell_type": "markdown",
   "id": "c1f8ccef",
   "metadata": {},
   "source": [
    "Lets examine the long term flow record for the Russian River"
   ]
  },
  {
   "cell_type": "code",
   "execution_count": 38,
   "id": "31bcbf39",
   "metadata": {
    "execution": {
     "iopub.execute_input": "2025-09-22T13:35:42.240999Z",
     "iopub.status.busy": "2025-09-22T13:35:42.240833Z",
     "iopub.status.idle": "2025-09-22T13:35:42.263700Z",
     "shell.execute_reply": "2025-09-22T13:35:42.263140Z"
    }
   },
   "outputs": [
    {
     "ename": "NameError",
     "evalue": "name 'df2' is not defined",
     "output_type": "error",
     "traceback": [
      "\u001b[31m---------------------------------------------------------------------------\u001b[39m",
      "\u001b[31mNameError\u001b[39m                                 Traceback (most recent call last)",
      "\u001b[36mCell\u001b[39m\u001b[36m \u001b[39m\u001b[32mIn[38]\u001b[39m\u001b[32m, line 1\u001b[39m\n\u001b[32m----> \u001b[39m\u001b[32m1\u001b[39m df_y_flow = \u001b[43mdf2\u001b[49m.groupby(by=[\u001b[33m\"\u001b[39m\u001b[33myear\u001b[39m\u001b[33m\"\u001b[39m], as_index=\u001b[38;5;28;01mFalse\u001b[39;00m)[\u001b[33m\"\u001b[39m\u001b[33mrussian_r_af\u001b[39m\u001b[33m\"\u001b[39m].aggregate([\u001b[33m'\u001b[39m\u001b[33mmean\u001b[39m\u001b[33m'\u001b[39m, \u001b[33m'\u001b[39m\u001b[33mstd\u001b[39m\u001b[33m'\u001b[39m])\n\u001b[32m      3\u001b[39m fig = plt.figure(figsize=(\u001b[32m12\u001b[39m,\u001b[32m4\u001b[39m))\n\u001b[32m      5\u001b[39m lower_ci = df_y_flow[\u001b[33m\"\u001b[39m\u001b[33mmean\u001b[39m\u001b[33m\"\u001b[39m] - \u001b[32m2\u001b[39m * df_y_flow[\u001b[33m'\u001b[39m\u001b[33mstd\u001b[39m\u001b[33m'\u001b[39m]\n",
      "\u001b[31mNameError\u001b[39m: name 'df2' is not defined"
     ]
    }
   ],
   "source": [
    "df_y_flow = df2.groupby(by=[\"year\"], as_index=False)[\"russian_r_af\"].aggregate(['mean', 'std'])\n",
    "\n",
    "fig = plt.figure(figsize=(12,4))\n",
    "\n",
    "lower_ci = df_y_flow[\"mean\"] - 2 * df_y_flow['std']\n",
    "lower_ci = np.where(lower_ci < 0, 0, lower_ci)\n",
    "upper_ci = df_y_flow[\"mean\"] + 2 * df_y_flow['std']\n",
    "ax = df_y_flow[\"mean\"].plot(style=\"b.-\")\n",
    "ax.fill_between(df_y_flow.index, lower_ci, upper_ci, color=\"b\", alpha=0.5);"
   ]
  },
  {
   "cell_type": "markdown",
   "id": "0f91c518",
   "metadata": {},
   "source": [
    "From this plot it looks like the long term trend in yearly discharge in the Russian River has been decreasing. We will revisit and test this later. \n",
    "\n",
    "First let's see if there are any relationships between yearly discharge and climate"
   ]
  },
  {
   "cell_type": "code",
   "execution_count": 39,
   "id": "06406208",
   "metadata": {
    "execution": {
     "iopub.execute_input": "2025-09-22T13:35:42.265164Z",
     "iopub.status.busy": "2025-09-22T13:35:42.264988Z",
     "iopub.status.idle": "2025-09-22T13:35:42.292787Z",
     "shell.execute_reply": "2025-09-22T13:35:42.292362Z"
    }
   },
   "outputs": [
    {
     "ename": "NameError",
     "evalue": "name 'df2' is not defined",
     "output_type": "error",
     "traceback": [
      "\u001b[31m---------------------------------------------------------------------------\u001b[39m",
      "\u001b[31mNameError\u001b[39m                                 Traceback (most recent call last)",
      "\u001b[36mCell\u001b[39m\u001b[36m \u001b[39m\u001b[32mIn[39]\u001b[39m\u001b[32m, line 1\u001b[39m\n\u001b[32m----> \u001b[39m\u001b[32m1\u001b[39m dfg0 = \u001b[43mdf2\u001b[49m.groupby(by=[\u001b[33m\"\u001b[39m\u001b[33myear\u001b[39m\u001b[33m\"\u001b[39m], as_index=\u001b[38;5;28;01mFalse\u001b[39;00m)[\u001b[33m\"\u001b[39m\u001b[33mrussian_r_af\u001b[39m\u001b[33m\"\u001b[39m].aggregate([\u001b[33m'\u001b[39m\u001b[33mmean\u001b[39m\u001b[33m'\u001b[39m, \u001b[33m'\u001b[39m\u001b[33mstd\u001b[39m\u001b[33m'\u001b[39m, \u001b[33m'\u001b[39m\u001b[33msum\u001b[39m\u001b[33m'\u001b[39m])\n\u001b[32m      2\u001b[39m dfg1 = df_cimis.groupby(by=[\u001b[33m\"\u001b[39m\u001b[33myear\u001b[39m\u001b[33m\"\u001b[39m], as_index=\u001b[38;5;28;01mFalse\u001b[39;00m)[\u001b[33m\"\u001b[39m\u001b[33mETo (in)\u001b[39m\u001b[33m\"\u001b[39m].aggregate([\u001b[33m'\u001b[39m\u001b[33mmean\u001b[39m\u001b[33m'\u001b[39m, \u001b[33m'\u001b[39m\u001b[33mstd\u001b[39m\u001b[33m'\u001b[39m, \u001b[33m'\u001b[39m\u001b[33msum\u001b[39m\u001b[33m'\u001b[39m])\n\u001b[32m      3\u001b[39m dfg2 = df_cimis.groupby(by=[\u001b[33m\"\u001b[39m\u001b[33myear\u001b[39m\u001b[33m\"\u001b[39m], as_index=\u001b[38;5;28;01mFalse\u001b[39;00m)[\u001b[33m\"\u001b[39m\u001b[33mPrecip (in)\u001b[39m\u001b[33m\"\u001b[39m].aggregate([\u001b[33m'\u001b[39m\u001b[33mmean\u001b[39m\u001b[33m'\u001b[39m, \u001b[33m'\u001b[39m\u001b[33mstd\u001b[39m\u001b[33m'\u001b[39m, \u001b[33m'\u001b[39m\u001b[33msum\u001b[39m\u001b[33m'\u001b[39m])\n",
      "\u001b[31mNameError\u001b[39m: name 'df2' is not defined"
     ]
    }
   ],
   "source": [
    "dfg0 = df2.groupby(by=[\"year\"], as_index=False)[\"russian_r_af\"].aggregate(['mean', 'std', 'sum'])\n",
    "dfg1 = df_cimis.groupby(by=[\"year\"], as_index=False)[\"ETo (in)\"].aggregate(['mean', 'std', 'sum'])\n",
    "dfg2 = df_cimis.groupby(by=[\"year\"], as_index=False)[\"Precip (in)\"].aggregate(['mean', 'std', 'sum'])\n",
    "dfm1 = pd.merge(dfg0, dfg1, on=[\"year\"], suffixes=(None, \"_et\"))\n",
    "df_yearly = pd.merge(dfm1, dfg2, on=[\"year\"], suffixes=(None, \"_precip\"))\n",
    "\n",
    "fig = plt.figure(figsize=(12,4))\n",
    "\n",
    "lower_ci = df_yearly[\"mean\"] - 2 * df_yearly['std']\n",
    "lower_ci = np.where(lower_ci < 0, 0, lower_ci)\n",
    "upper_ci = df_yearly[\"mean\"] + 2 * df_yearly['std']\n",
    "ax = df_yearly[\"mean\"].plot(style=\"b.-\", label=\"flow_af\")\n",
    "ax.fill_between(df_yearly.index, lower_ci, upper_ci, color=\"b\", alpha=0.5)\n",
    "ax2 = ax.twinx()\n",
    "ax2.plot(df_yearly.index, df_yearly.sum_precip, \"k--\", lw=1.5, label=\"Precip\")\n",
    "ax2.plot(df_yearly.index, df_yearly.sum_et, \"r.--\", lw=1.5, label=\"ET\")\n",
    "plt.legend()\n",
    "plt.show();"
   ]
  },
  {
   "cell_type": "markdown",
   "id": "7a0f73bb",
   "metadata": {},
   "source": [
    "As expected, precipitation amount is the main driver of the yearly discharge regime here"
   ]
  },
  {
   "cell_type": "markdown",
   "id": "5834f46d",
   "metadata": {},
   "source": [
    "### Baseflow separation\n",
    "\n",
    "Baseflow separation is a method to separate the quick response hydrograph (storm runoff) from the long term flow. We're going to go back to the complete daily dataset to perform this operation. The following cell contains a low pass filtration method that is used for digital baseflow separation. We'll use these in our analysis"
   ]
  },
  {
   "cell_type": "code",
   "execution_count": 40,
   "id": "21356a99",
   "metadata": {
    "execution": {
     "iopub.execute_input": "2025-09-22T13:35:42.294277Z",
     "iopub.status.busy": "2025-09-22T13:35:42.294130Z",
     "iopub.status.idle": "2025-09-22T13:35:42.299458Z",
     "shell.execute_reply": "2025-09-22T13:35:42.299084Z"
    }
   },
   "outputs": [],
   "source": [
    "def _baseflow_low_pass_filter(arr, beta, enforce):\n",
    "    \"\"\"\n",
    "    Private method to apply digital baseflow separation filter\n",
    "    (Lyne & Hollick, 1979; Nathan & Mcmahon, 1990;\n",
    "    Boughton, 1993; Chapman & Maxwell, 1996).\n",
    "\n",
    "    This method should not be called by the user!\n",
    "\n",
    "    Method removes \"spikes\" which would be consistent with storm flow\n",
    "    events from data.\n",
    "\n",
    "    Parameters\n",
    "    ----------\n",
    "    arr : np.array\n",
    "        streamflow or municipal pumping time series\n",
    "\n",
    "    beta : float\n",
    "        baseflow filtering parameter that ranges from 0 - 1\n",
    "        values in 0.8 - 0.95 range used in literature for\n",
    "        streamflow baseflow separation\n",
    "\n",
    "    enforce : bool\n",
    "        enforce physical constraint of baseflow less than measured flow\n",
    "\n",
    "    Returns\n",
    "    -------\n",
    "        np.array of filtered data\n",
    "    \"\"\"\n",
    "    # prepend 10 records to data for initial spin up\n",
    "    # these records will be dropped before returning data to user\n",
    "    qt = np.zeros((arr.size + 10,), dtype=float)\n",
    "    qt[0:10] = arr[0:10]\n",
    "    qt[10:] = arr[:]\n",
    "\n",
    "    qdt = np.zeros((arr.size + 10,), dtype=float)\n",
    "    qbf = np.zeros((arr.size + 10,), dtype=float)\n",
    "\n",
    "    y = (1. + beta) / 2.\n",
    "\n",
    "    for ix in range(qdt.size):\n",
    "        if ix == 0:\n",
    "            qbf[ix] = qt[ix]\n",
    "            continue\n",
    "\n",
    "        x = beta * qdt[ix - 1]\n",
    "        z = qt[ix] - qt[ix - 1]\n",
    "        qdt[ix] = x + (y * z)\n",
    "\n",
    "        qb = qt[ix] - qdt[ix]\n",
    "        if enforce:\n",
    "            if qb > qt[ix]:\n",
    "                qbf[ix] = qt[ix]\n",
    "            else:\n",
    "                qbf[ix] = qb\n",
    "\n",
    "        else:\n",
    "            qbf[ix] = qb\n",
    "\n",
    "    return qbf[10:]\n",
    "\n",
    "\n",
    "def baseflow_low_pass_filter(arr, beta=0.9, T=1, enforce=True):\n",
    "    \"\"\"\n",
    "    User method to apply digital baseflow separation filter\n",
    "    (Lyne & Hollick, 1979; Nathan & Mcmahon, 1990;\n",
    "    Boughton, 1993; Chapman & Maxwell, 1996).\n",
    "\n",
    "    Method removes \"spikes\" which would be consistent with storm flow\n",
    "    events from data.\n",
    "\n",
    "    Parameters\n",
    "    ----------\n",
    "    arr : np.array\n",
    "        streamflow or municipal pumping time series\n",
    "\n",
    "    beta : float\n",
    "        baseflow filtering parameter that ranges from 0 - 1\n",
    "        values in 0.8 - 0.95 range used in literature for\n",
    "        streamflow baseflow separation\n",
    "\n",
    "    T : int\n",
    "        number of recursive filtering passes to apply to the data\n",
    "\n",
    "    enforce : bool\n",
    "        enforce physical constraint of baseflow less than measured flow\n",
    "\n",
    "    Returns\n",
    "    -------\n",
    "        np.array of baseflow\n",
    "    \"\"\"\n",
    "    for _ in range(T):\n",
    "        arr = _baseflow_low_pass_filter(arr, beta, enforce)\n",
    "\n",
    "    return arr\n"
   ]
  },
  {
   "cell_type": "markdown",
   "id": "17636f07",
   "metadata": {},
   "source": [
    "## Class exercise 4: baseflow separation\n",
    "\n",
    "Using the full dataframe discharge dataframe, `df2`, get the baseflows for the Russian River (in acre-ft) and add these to the dataframe as a new column named `russian_bf_af`.\n",
    "\n",
    "The function `baseflow_low_pass_filter()` will be used to perform baseflow. This function takes a numpy array of stream discharge and runs a digital low pass filtration method to calculate baseflow. \n",
    "\n",
    "After performing baseflow separation plot both the baseflow and the total discharge for the years 2015 - 2017.\n",
    "\n",
    "**Hints:**\n",
    "   - make sure to use the `.values` property when you get discharge data from the pandas dataframe\n",
    "   - feel free to play with the input parameters `beta` and `T`. \n",
    "      - `beta` is commonly between 0.8 - 0.95 for hydrologic problems.\n",
    "      - `T` is the number of filter passes over the data, therefore increasing `T` will create a smoother profile. I recommend starting with a `T` value of around 5 and adjusting it to see how it changes the baseflow profile."
   ]
  },
  {
   "cell_type": "code",
   "execution_count": 41,
   "id": "99dee893",
   "metadata": {
    "execution": {
     "iopub.execute_input": "2025-09-22T13:35:42.300742Z",
     "iopub.status.busy": "2025-09-22T13:35:42.300605Z",
     "iopub.status.idle": "2025-09-22T13:35:42.320756Z",
     "shell.execute_reply": "2025-09-22T13:35:42.320345Z"
    }
   },
   "outputs": [
    {
     "ename": "NameError",
     "evalue": "name 'df2' is not defined",
     "output_type": "error",
     "traceback": [
      "\u001b[31m---------------------------------------------------------------------------\u001b[39m",
      "\u001b[31mNameError\u001b[39m                                 Traceback (most recent call last)",
      "\u001b[36mCell\u001b[39m\u001b[36m \u001b[39m\u001b[32mIn[41]\u001b[39m\u001b[32m, line 1\u001b[39m\n\u001b[32m----> \u001b[39m\u001b[32m1\u001b[39m baseflow = baseflow_low_pass_filter(\u001b[43mdf2\u001b[49m[\u001b[33m\"\u001b[39m\u001b[33mrussian_r_af\u001b[39m\u001b[33m\"\u001b[39m].values, beta=\u001b[32m0.90\u001b[39m, T=\u001b[32m5\u001b[39m)\n\u001b[32m      2\u001b[39m df2[\u001b[33m\"\u001b[39m\u001b[33mrussian_bf_af\u001b[39m\u001b[33m\"\u001b[39m] = baseflow\n\u001b[32m      4\u001b[39m fig = plt.figure(figsize=(\u001b[32m15\u001b[39m, \u001b[32m10\u001b[39m))\n",
      "\u001b[31mNameError\u001b[39m: name 'df2' is not defined"
     ]
    }
   ],
   "source": [
    "baseflow = baseflow_low_pass_filter(df2[\"russian_r_af\"].values, beta=0.90, T=5)\n",
    "df2[\"russian_bf_af\"] = baseflow\n",
    "\n",
    "fig = plt.figure(figsize=(15, 10))\n",
    "tdf = df2[(df2.year >= 2015) & (df2.year <= 2017)]\n",
    "ax = tdf[[\"russian_r_af\", \"russian_bf_af\"]].plot()\n",
    "ax.set_yscale(\"log\");"
   ]
  },
  {
   "cell_type": "markdown",
   "id": "fc78258f",
   "metadata": {},
   "source": [
    "## Looking at trends and seasonal cycles in the data with `statsmodels`\n",
    "\n",
    "`statsmodels` is a Python module that provides classes and functions for the estimation of many different statistical models, as well as for conducting statistical tests, and statistical data exploration. For more information on `statsmodels` and it's many features visit [the getting started guide](https://www.statsmodels.org/dev/gettingstarted.html)\n",
    "\n",
    "For this example we'll be using time series analysis to perform a seasonal decomposition using moving averages. The `statsmodels` function `seasonal_decompose` will perform this analysis and return the data trend, seasonal fluctuations, and residuals."
   ]
  },
  {
   "cell_type": "code",
   "execution_count": 42,
   "id": "3be15037",
   "metadata": {
    "execution": {
     "iopub.execute_input": "2025-09-22T13:35:42.322135Z",
     "iopub.status.busy": "2025-09-22T13:35:42.321965Z",
     "iopub.status.idle": "2025-09-22T13:35:42.341684Z",
     "shell.execute_reply": "2025-09-22T13:35:42.341257Z"
    }
   },
   "outputs": [
    {
     "ename": "NameError",
     "evalue": "name 'df2' is not defined",
     "output_type": "error",
     "traceback": [
      "\u001b[31m---------------------------------------------------------------------------\u001b[39m",
      "\u001b[31mNameError\u001b[39m                                 Traceback (most recent call last)",
      "\u001b[36mCell\u001b[39m\u001b[36m \u001b[39m\u001b[32mIn[42]\u001b[39m\u001b[32m, line 1\u001b[39m\n\u001b[32m----> \u001b[39m\u001b[32m1\u001b[39m df2[\u001b[33m\"\u001b[39m\u001b[33mrussian_bf_af\u001b[39m\u001b[33m\"\u001b[39m] = baseflow_low_pass_filter(\u001b[43mdf2\u001b[49m[\u001b[33m\"\u001b[39m\u001b[33mrussian_r_af\u001b[39m\u001b[33m\"\u001b[39m].values, beta=\u001b[32m0.9\u001b[39m, T=\u001b[32m5\u001b[39m)\n\u001b[32m      2\u001b[39m \u001b[38;5;66;03m# drop nan values prior to running decomposition\u001b[39;00m\n\u001b[32m      3\u001b[39m dfsm = df2[df2[\u001b[33m'\u001b[39m\u001b[33mrussian_bf_af\u001b[39m\u001b[33m'\u001b[39m].notna()]\n",
      "\u001b[31mNameError\u001b[39m: name 'df2' is not defined"
     ]
    }
   ],
   "source": [
    "df2[\"russian_bf_af\"] = baseflow_low_pass_filter(df2[\"russian_r_af\"].values, beta=0.9, T=5)\n",
    "# drop nan values prior to running decomposition\n",
    "dfsm = df2[df2['russian_bf_af'].notna()]\n",
    "\n",
    "dfsm.head()\n",
    "# decompose\n",
    "decomposition = sm.tsa.seasonal_decompose(dfsm[\"russian_bf_af\"], period=365, model=\"additive\")\n",
    " \n",
    "decomposition.plot()\n",
    "mpl.rcParams['figure.figsize'] = [14, 14];"
   ]
  },
  {
   "cell_type": "markdown",
   "id": "6f80c43e",
   "metadata": {},
   "source": [
    "Now let's plot our baseflow trend against the baseflow we calculated "
   ]
  },
  {
   "cell_type": "code",
   "execution_count": 43,
   "id": "5aea97b2",
   "metadata": {
    "execution": {
     "iopub.execute_input": "2025-09-22T13:35:42.343026Z",
     "iopub.status.busy": "2025-09-22T13:35:42.342874Z",
     "iopub.status.idle": "2025-09-22T13:35:42.444331Z",
     "shell.execute_reply": "2025-09-22T13:35:42.443872Z"
    }
   },
   "outputs": [
    {
     "ename": "NameError",
     "evalue": "name 'df2' is not defined",
     "output_type": "error",
     "traceback": [
      "\u001b[31m---------------------------------------------------------------------------\u001b[39m",
      "\u001b[31mNameError\u001b[39m                                 Traceback (most recent call last)",
      "\u001b[36mCell\u001b[39m\u001b[36m \u001b[39m\u001b[32mIn[43]\u001b[39m\u001b[32m, line 3\u001b[39m\n\u001b[32m      1\u001b[39m fig, ax = plt.subplots(figsize=(\u001b[32m8\u001b[39m, \u001b[32m8\u001b[39m))\n\u001b[32m----> \u001b[39m\u001b[32m3\u001b[39m ax = \u001b[43mdf2\u001b[49m[\u001b[33m\"\u001b[39m\u001b[33mrussian_r_af\u001b[39m\u001b[33m\"\u001b[39m].plot(ax=ax)\n\u001b[32m      4\u001b[39m ax.plot(decomposition.trend.index, decomposition.trend, \u001b[33m\"\u001b[39m\u001b[33mr-\u001b[39m\u001b[33m\"\u001b[39m, lw=\u001b[32m1.5\u001b[39m)\n\u001b[32m      5\u001b[39m ax.set_yscale(\u001b[33m'\u001b[39m\u001b[33mlog\u001b[39m\u001b[33m'\u001b[39m)\n",
      "\u001b[31mNameError\u001b[39m: name 'df2' is not defined"
     ]
    },
    {
     "data": {
      "image/png": "[encoded data removed]",
      "text/plain": [
       "<Figure size 800x800 with 1 Axes>"
      ]
     },
     "metadata": {},
     "output_type": "display_data"
    }
   ],
   "source": [
    "fig, ax = plt.subplots(figsize=(8, 8))\n",
    "\n",
    "ax = df2[\"russian_r_af\"].plot(ax=ax)\n",
    "ax.plot(decomposition.trend.index, decomposition.trend, \"r-\", lw=1.5)\n",
    "ax.set_yscale('log')\n",
    "plt.savefig(\"russian_river.png\")\n"
   ]
  },
  {
   "cell_type": "markdown",
   "id": "3b253563",
   "metadata": {},
   "source": [
    "What's going on at the end of the 1970's? Why is the baseflow trend so low and peak flows are also low? \n",
    "\n",
    "From [\"California's Most Significant Droughts\"](https://cawaterlibrary.net/wp-content/uploads/2017/05/CalSignficantDroughts_v10_int.pdf), Chapter 3 \n",
    "\n",
    "The setting for the 1976-77 drought differed significantly from the dry times of the 1920s-30s. Although\n",
    "only a two-year event, its hydrology was severe.\n",
    "Based on 114 years of computed statewide runoff,\n",
    "1977 occupies rank 114 (driest year) and 1976 is in\n",
    "rank 104. The drought was notable for the impacts\n",
    "experienced by water agencies that were unprepared\n",
    "for such conditions.  One reason for the lack of\n",
    "preparedness was the perception of relatively ample\n",
    "water supplies in most areas of the state. "
   ]
  },
  {
   "cell_type": "markdown",
   "id": "ec0d85d6",
   "metadata": {},
   "source": [
    "We can also see the analysis that there is an overall reduction in baseflow from 1940's to the 2020's"
   ]
  },
  {
   "cell_type": "markdown",
   "id": "019341c3",
   "metadata": {},
   "source": [
    "### Writing yearly plots of data to a PDF document\n",
    "\n",
    "We can write the plots we make with pandas to a multipage pdf using matplotlib's `PdfPages`. For this example we'll make yearly plots of all of the discharge, baseflow, and baseflow trend and bundle them into a single pdf document."
   ]
  },
  {
   "cell_type": "code",
   "execution_count": 44,
   "id": "a430d0ac",
   "metadata": {
    "execution": {
     "iopub.execute_input": "2025-09-22T13:35:42.445865Z",
     "iopub.status.busy": "2025-09-22T13:35:42.445718Z",
     "iopub.status.idle": "2025-09-22T13:35:42.469457Z",
     "shell.execute_reply": "2025-09-22T13:35:42.469019Z"
    }
   },
   "outputs": [
    {
     "ename": "NameError",
     "evalue": "name 'decomposition' is not defined",
     "output_type": "error",
     "traceback": [
      "\u001b[31m---------------------------------------------------------------------------\u001b[39m",
      "\u001b[31mNameError\u001b[39m                                 Traceback (most recent call last)",
      "\u001b[36mCell\u001b[39m\u001b[36m \u001b[39m\u001b[32mIn[44]\u001b[39m\u001b[32m, line 2\u001b[39m\n\u001b[32m      1\u001b[39m \u001b[38;5;66;03m# add the decomposition trend to the dataframe to make plotting easy\u001b[39;00m\n\u001b[32m----> \u001b[39m\u001b[32m2\u001b[39m df2[\u001b[33m\"\u001b[39m\u001b[33mbaseflow_trend\u001b[39m\u001b[33m\"\u001b[39m] = \u001b[43mdecomposition\u001b[49m.trend\n\u001b[32m      4\u001b[39m pdf_file = data_path / \u001b[33m\"\u001b[39m\u001b[33mall_years_russian.pdf\u001b[39m\u001b[33m\"\u001b[39m\n\u001b[32m      5\u001b[39m \u001b[38;5;28;01mwith\u001b[39;00m PdfPages(pdf_file) \u001b[38;5;28;01mas\u001b[39;00m outpdf:\n",
      "\u001b[31mNameError\u001b[39m: name 'decomposition' is not defined"
     ]
    }
   ],
   "source": [
    "# add the decomposition trend to the dataframe to make plotting easy\n",
    "df2[\"baseflow_trend\"] = decomposition.trend\n",
    "\n",
    "pdf_file = data_path / \"all_years_russian.pdf\"\n",
    "with PdfPages(pdf_file) as outpdf:\n",
    "    for year in sorted(df2.year.unique()):\n",
    "        plt.figure()\n",
    "        tdf = df2[df2.year == year]\n",
    "        tdf[[\"russian_r_af\", \"russian_bf_af\", \"baseflow_trend\"]].plot()\n",
    "        plt.xlabel(\"date\")\n",
    "        plt.ylabel(\"acre-feet\")\n",
    "        plt.ylim([1, 300000])\n",
    "        plt.yscale(\"log\")\n",
    "        plt.tight_layout()\n",
    "        outpdf.savefig()\n",
    "        plt.close('all')"
   ]
  },
  {
   "cell_type": "markdown",
   "id": "f2761901",
   "metadata": {},
   "source": [
    "Go into the \"data/pandas\" and open up the file \"all_years_russian.pdf\" to check out the plots."
   ]
  },
  {
   "cell_type": "markdown",
   "id": "94ffa931",
   "metadata": {},
   "source": [
    "## Back to the basics:\n",
    "\n",
    "Now that we've done some analysis on real data, let's go back to the basic and briefly discuss how to adjust data values in pandas\n",
    "\n",
    "\n",
    "### Adjusting a whole column of data values\n",
    "\n",
    "Because pandas series objects (columns) are built off of numpy, we can perform mathematical operations in place on a whole column similarly to numpy arrays\n"
   ]
  },
  {
   "cell_type": "code",
   "execution_count": 45,
   "id": "45e51e85",
   "metadata": {
    "execution": {
     "iopub.execute_input": "2025-09-22T13:35:42.470840Z",
     "iopub.status.busy": "2025-09-22T13:35:42.470696Z",
     "iopub.status.idle": "2025-09-22T13:35:42.491495Z",
     "shell.execute_reply": "2025-09-22T13:35:42.491085Z"
    }
   },
   "outputs": [
    {
     "ename": "NameError",
     "evalue": "name 'df2' is not defined",
     "output_type": "error",
     "traceback": [
      "\u001b[31m---------------------------------------------------------------------------\u001b[39m",
      "\u001b[31mNameError\u001b[39m                                 Traceback (most recent call last)",
      "\u001b[36mCell\u001b[39m\u001b[36m \u001b[39m\u001b[32mIn[45]\u001b[39m\u001b[32m, line 1\u001b[39m\n\u001b[32m----> \u001b[39m\u001b[32m1\u001b[39m df3 = \u001b[43mdf2\u001b[49m.copy()\n\u001b[32m      2\u001b[39m \u001b[38;5;66;03m# Adding values\u001b[39;00m\n\u001b[32m      3\u001b[39m df3[\u001b[33m\"\u001b[39m\u001b[33mrussian_r\u001b[39m\u001b[33m\"\u001b[39m] += \u001b[32m10000\u001b[39m\n",
      "\u001b[31mNameError\u001b[39m: name 'df2' is not defined"
     ]
    }
   ],
   "source": [
    "df3 = df2.copy()\n",
    "# Adding values\n",
    "df3[\"russian_r\"] += 10000\n",
    "\n",
    "# Subtracting values\n",
    "df3[\"russian_r\"] -= 10000\n",
    "\n",
    "# multiplication\n",
    "df3[\"russian_r\"] *= 5\n",
    "\n",
    "# division\n",
    "df3[\"russian_r\"] /= 5\n",
    "\n",
    "# more complex operations\n",
    "df3[\"russian_r\"] = np.log10(df3[\"russian_r\"].values)\n",
    "df3.head()"
   ]
  },
  {
   "cell_type": "markdown",
   "id": "ee819e35",
   "metadata": {},
   "source": [
    "### updating values by position\n",
    "\n",
    "We can update single or multiple values by their position in the dataframe using `.iloc`"
   ]
  },
  {
   "cell_type": "code",
   "execution_count": 46,
   "id": "ba429e93",
   "metadata": {
    "execution": {
     "iopub.execute_input": "2025-09-22T13:35:42.492956Z",
     "iopub.status.busy": "2025-09-22T13:35:42.492808Z",
     "iopub.status.idle": "2025-09-22T13:35:42.510981Z",
     "shell.execute_reply": "2025-09-22T13:35:42.510489Z"
    }
   },
   "outputs": [
    {
     "ename": "NameError",
     "evalue": "name 'df3' is not defined",
     "output_type": "error",
     "traceback": [
      "\u001b[31m---------------------------------------------------------------------------\u001b[39m",
      "\u001b[31mNameError\u001b[39m                                 Traceback (most recent call last)",
      "\u001b[36mCell\u001b[39m\u001b[36m \u001b[39m\u001b[32mIn[46]\u001b[39m\u001b[32m, line 1\u001b[39m\n\u001b[32m----> \u001b[39m\u001b[32m1\u001b[39m \u001b[43mdf3\u001b[49m.iloc[\u001b[32m0\u001b[39m, \u001b[32m1\u001b[39m] = \u001b[32m999\u001b[39m\n\u001b[32m      2\u001b[39m df3.head()\n",
      "\u001b[31mNameError\u001b[39m: name 'df3' is not defined"
     ]
    }
   ],
   "source": [
    "df3.iloc[0, 1] = 999\n",
    "df3.head()"
   ]
  },
  {
   "cell_type": "markdown",
   "id": "d37f204f",
   "metadata": {},
   "source": [
    "### updating values based on location\n",
    "\n",
    "We can update values in the dataframe based on their index and column headers too using `.loc`"
   ]
  },
  {
   "cell_type": "code",
   "execution_count": 47,
   "id": "d2df90e4",
   "metadata": {
    "execution": {
     "iopub.execute_input": "2025-09-22T13:35:42.512457Z",
     "iopub.status.busy": "2025-09-22T13:35:42.512298Z",
     "iopub.status.idle": "2025-09-22T13:35:42.530296Z",
     "shell.execute_reply": "2025-09-22T13:35:42.529762Z"
    }
   },
   "outputs": [
    {
     "ename": "NameError",
     "evalue": "name 'df3' is not defined",
     "output_type": "error",
     "traceback": [
      "\u001b[31m---------------------------------------------------------------------------\u001b[39m",
      "\u001b[31mNameError\u001b[39m                                 Traceback (most recent call last)",
      "\u001b[36mCell\u001b[39m\u001b[36m \u001b[39m\u001b[32mIn[47]\u001b[39m\u001b[32m, line 1\u001b[39m\n\u001b[32m----> \u001b[39m\u001b[32m1\u001b[39m \u001b[43mdf3\u001b[49m.loc[df3.index[\u001b[32m0\u001b[39m], \u001b[33m'\u001b[39m\u001b[33mrussian_r\u001b[39m\u001b[33m'\u001b[39m] *= \u001b[32m100\u001b[39m\n\u001b[32m      2\u001b[39m df3.head()\n",
      "\u001b[31mNameError\u001b[39m: name 'df3' is not defined"
     ]
    }
   ],
   "source": [
    "df3.loc[df3.index[0], 'russian_r'] *= 100\n",
    "df3.head()"
   ]
  },
  {
   "cell_type": "markdown",
   "id": "b6ee8610",
   "metadata": {},
   "source": [
    "## Class exercise 5: setting data\n",
    "\n",
    "The russian river discharge in cubic feet per day highly variable and represented by large numbers. To make this data easier to read and plot, update it to a log10 representation.\n",
    "\n",
    "Then use either a location based method to change the value in austin_c on 10-4-1939 to 0.\n",
    "\n",
    "Finally display the first 5 records in the notebook."
   ]
  },
  {
   "cell_type": "code",
   "execution_count": 48,
   "id": "ff4b6eda",
   "metadata": {
    "execution": {
     "iopub.execute_input": "2025-09-22T13:35:42.531724Z",
     "iopub.status.busy": "2025-09-22T13:35:42.531574Z",
     "iopub.status.idle": "2025-09-22T13:35:42.549922Z",
     "shell.execute_reply": "2025-09-22T13:35:42.549397Z"
    }
   },
   "outputs": [
    {
     "ename": "NameError",
     "evalue": "name 'df3' is not defined",
     "output_type": "error",
     "traceback": [
      "\u001b[31m---------------------------------------------------------------------------\u001b[39m",
      "\u001b[31mNameError\u001b[39m                                 Traceback (most recent call last)",
      "\u001b[36mCell\u001b[39m\u001b[36m \u001b[39m\u001b[32mIn[48]\u001b[39m\u001b[32m, line 1\u001b[39m\n\u001b[32m----> \u001b[39m\u001b[32m1\u001b[39m df3[\u001b[33m\"\u001b[39m\u001b[33mrussian_r_cfd\u001b[39m\u001b[33m\"\u001b[39m] = np.log10(\u001b[43mdf3\u001b[49m[\u001b[33m\"\u001b[39m\u001b[33mrussian_r_cfd\u001b[39m\u001b[33m\"\u001b[39m])\n\u001b[32m      2\u001b[39m df3.loc[df3.index[\u001b[32m3\u001b[39m], \u001b[33m\"\u001b[39m\u001b[33maustin_c\u001b[39m\u001b[33m\"\u001b[39m] = \u001b[32m0\u001b[39m\n\u001b[32m      3\u001b[39m df3.head()\n",
      "\u001b[31mNameError\u001b[39m: name 'df3' is not defined"
     ]
    }
   ],
   "source": [
    "df3[\"russian_r_cfd\"] = np.log10(df3[\"russian_r_cfd\"])\n",
    "df3.loc[df3.index[3], \"austin_c\"] = 0\n",
    "df3.head()"
   ]
  },
  {
   "cell_type": "markdown",
   "id": "f1407f4b",
   "metadata": {},
   "source": [
    "## Now for some powerful analysis using fourier analysis to extract the data's signal.\n",
    "\n",
    "Some background for your evening viewing: https://youtu.be/spUNpyF58BY\n",
    "\n",
    "We have to detrend the data for fast fourier transforms to work properly. Here's a discussion on why: \n",
    "\n",
    "https://groups.google.com/forum/#!topic/comp.dsp/kYDZqetr_TU\n",
    "\n",
    "Fortunately we can easily do this in python using scipy!\n",
    "\n",
    "https://docs.scipy.org/doc/scipy/reference/generated/scipy.signal.detrend.html"
   ]
  },
  {
   "cell_type": "markdown",
   "id": "442b8004",
   "metadata": {},
   "source": [
    "Let's create a new dataframe with only the data we're interested in analysing."
   ]
  },
  {
   "cell_type": "code",
   "execution_count": 49,
   "id": "8cfa9ee7",
   "metadata": {
    "execution": {
     "iopub.execute_input": "2025-09-22T13:35:42.551298Z",
     "iopub.status.busy": "2025-09-22T13:35:42.551160Z",
     "iopub.status.idle": "2025-09-22T13:35:42.570535Z",
     "shell.execute_reply": "2025-09-22T13:35:42.570124Z"
    }
   },
   "outputs": [
    {
     "ename": "NameError",
     "evalue": "name 'df2' is not defined",
     "output_type": "error",
     "traceback": [
      "\u001b[31m---------------------------------------------------------------------------\u001b[39m",
      "\u001b[31mNameError\u001b[39m                                 Traceback (most recent call last)",
      "\u001b[36mCell\u001b[39m\u001b[36m \u001b[39m\u001b[32mIn[49]\u001b[39m\u001b[32m, line 1\u001b[39m\n\u001b[32m----> \u001b[39m\u001b[32m1\u001b[39m df_data = \u001b[43mdf2\u001b[49m[[\u001b[33m\"\u001b[39m\u001b[33mrussian_r_af\u001b[39m\u001b[33m\"\u001b[39m, \u001b[33m\"\u001b[39m\u001b[33myear\u001b[39m\u001b[33m\"\u001b[39m]]\n\u001b[32m      2\u001b[39m df_data = df_data.rename(columns={\u001b[33m\"\u001b[39m\u001b[33mrussian_r_af\u001b[39m\u001b[33m\"\u001b[39m: \u001b[33m\"\u001b[39m\u001b[33mQ\u001b[39m\u001b[33m\"\u001b[39m})\n\u001b[32m      3\u001b[39m df_data.describe()\n",
      "\u001b[31mNameError\u001b[39m: name 'df2' is not defined"
     ]
    }
   ],
   "source": [
    "df_data = df2[[\"russian_r_af\", \"year\"]]\n",
    "df_data = df_data.rename(columns={\"russian_r_af\": \"Q\"})\n",
    "df_data.describe()"
   ]
  },
  {
   "cell_type": "markdown",
   "id": "7a5a2210",
   "metadata": {},
   "source": [
    "#### Now we're going to detrend the data\n",
    "\n",
    "But first let's also set the water year by date on this dataframe and drop the single nan value from the dataframe"
   ]
  },
  {
   "cell_type": "code",
   "execution_count": 50,
   "id": "1520c21c",
   "metadata": {
    "execution": {
     "iopub.execute_input": "2025-09-22T13:35:42.571912Z",
     "iopub.status.busy": "2025-09-22T13:35:42.571765Z",
     "iopub.status.idle": "2025-09-22T13:35:42.590410Z",
     "shell.execute_reply": "2025-09-22T13:35:42.589962Z"
    }
   },
   "outputs": [
    {
     "ename": "NameError",
     "evalue": "name 'df_data' is not defined",
     "output_type": "error",
     "traceback": [
      "\u001b[31m---------------------------------------------------------------------------\u001b[39m",
      "\u001b[31mNameError\u001b[39m                                 Traceback (most recent call last)",
      "\u001b[36mCell\u001b[39m\u001b[36m \u001b[39m\u001b[32mIn[50]\u001b[39m\u001b[32m, line 1\u001b[39m\n\u001b[32m----> \u001b[39m\u001b[32m1\u001b[39m df_data[\u001b[33m'\u001b[39m\u001b[33mwater_year\u001b[39m\u001b[33m'\u001b[39m] = \u001b[43mdf_data\u001b[49m.index.shift(\u001b[32m30\u001b[39m+\u001b[32m31\u001b[39m+\u001b[32m31\u001b[39m,freq=\u001b[33m'\u001b[39m\u001b[33md\u001b[39m\u001b[33m'\u001b[39m).year\n\u001b[32m      2\u001b[39m df_data.dropna(inplace=\u001b[38;5;28;01mTrue\u001b[39;00m)\n\u001b[32m      3\u001b[39m df_data[\u001b[33m\"\u001b[39m\u001b[33mdetrended\u001b[39m\u001b[33m\"\u001b[39m] = detrend(df_data.Q.values)\n",
      "\u001b[31mNameError\u001b[39m: name 'df_data' is not defined"
     ]
    }
   ],
   "source": [
    "df_data['water_year'] = df_data.index.shift(30+31+31,freq='d').year\n",
    "df_data.dropna(inplace=True)\n",
    "df_data[\"detrended\"] = detrend(df_data.Q.values)"
   ]
  },
  {
   "cell_type": "code",
   "execution_count": 51,
   "id": "e8104b3e",
   "metadata": {
    "execution": {
     "iopub.execute_input": "2025-09-22T13:35:42.591776Z",
     "iopub.status.busy": "2025-09-22T13:35:42.591634Z",
     "iopub.status.idle": "2025-09-22T13:35:42.678214Z",
     "shell.execute_reply": "2025-09-22T13:35:42.677766Z"
    }
   },
   "outputs": [
    {
     "ename": "NameError",
     "evalue": "name 'df_data' is not defined",
     "output_type": "error",
     "traceback": [
      "\u001b[31m---------------------------------------------------------------------------\u001b[39m",
      "\u001b[31mNameError\u001b[39m                                 Traceback (most recent call last)",
      "\u001b[36mCell\u001b[39m\u001b[36m \u001b[39m\u001b[32mIn[51]\u001b[39m\u001b[32m, line 3\u001b[39m\n\u001b[32m      1\u001b[39m fig = plt.figure(figsize=(\u001b[32m12\u001b[39m,\u001b[32m6\u001b[39m))\n\u001b[32m      2\u001b[39m ax = plt.subplot(\u001b[32m3\u001b[39m,\u001b[32m1\u001b[39m,\u001b[32m1\u001b[39m)\n\u001b[32m----> \u001b[39m\u001b[32m3\u001b[39m plt.plot(\u001b[43mdf_data\u001b[49m.detrended)\n\u001b[32m      4\u001b[39m plt.title(\u001b[33m'\u001b[39m\u001b[33mdetrended signal\u001b[39m\u001b[33m'\u001b[39m)\n\u001b[32m      6\u001b[39m plt.subplot(\u001b[32m3\u001b[39m,\u001b[32m1\u001b[39m,\u001b[32m2\u001b[39m)\n",
      "\u001b[31mNameError\u001b[39m: name 'df_data' is not defined"
     ]
    },
    {
     "data": {
      "image/png": "[encoded data removed]",
      "text/plain": [
       "<Figure size 1200x600 with 1 Axes>"
      ]
     },
     "metadata": {},
     "output_type": "display_data"
    }
   ],
   "source": [
    "fig = plt.figure(figsize=(12,6))\n",
    "ax = plt.subplot(3,1,1)\n",
    "plt.plot(df_data.detrended)\n",
    "plt.title('detrended signal')\n",
    "\n",
    "plt.subplot(3,1,2)\n",
    "plt.plot(df_data.index, df_data.Q)\n",
    "plt.title('Raw Signal')\n",
    "\n",
    "plt.subplot(3,1,3)\n",
    "plt.plot(df_data.index, df_data.Q - df_data.detrended)\n",
    "plt.title('Difference')\n",
    "\n",
    "plt.tight_layout()"
   ]
  },
  {
   "cell_type": "markdown",
   "id": "af16ca60",
   "metadata": {},
   "source": [
    "### Evaluate and plot the Period Spectrum to see timing of recurrence\n",
    "\n",
    "Here we've created a function that performs fast fourier transforms and then plot's the spectrum for signals of various lengths."
   ]
  },
  {
   "cell_type": "code",
   "execution_count": 52,
   "id": "d2b002d4",
   "metadata": {
    "execution": {
     "iopub.execute_input": "2025-09-22T13:35:42.679770Z",
     "iopub.status.busy": "2025-09-22T13:35:42.679615Z",
     "iopub.status.idle": "2025-09-22T13:35:42.684467Z",
     "shell.execute_reply": "2025-09-22T13:35:42.684088Z"
    }
   },
   "outputs": [],
   "source": [
    "def fft_and_plot(df, plot_dominant_periods=4):\n",
    "    N = len(df)\n",
    "    yf = np.fft.fft(df.detrended)\n",
    "    yf = np.abs(yf[:int(N / 2)])\n",
    "    \n",
    "    # get the right frequency \n",
    "    # https://docs.scipy.org/doc/numpy/reference/generated/numpy.fft.fftfreq.html#numpy.fft.fftfreq\n",
    "    d = 1. # day\n",
    "    f = np.fft.fftfreq(N, d)[:int(N/2)]\n",
    "    f[0] = .00001\n",
    "    per = 1./f # days\n",
    "    \n",
    "    fig = plt.figure(figsize=(12,6))\n",
    "    ax = plt.subplot(2,1,1)\n",
    "    plt.plot(per, yf)\n",
    "    plt.xscale('log')\n",
    "\n",
    "    top=np.argsort(yf)[-plot_dominant_periods:]\n",
    "    j=(10-plot_dominant_periods)/10\n",
    "    for i in top:\n",
    "        plt.plot([per[i], per[i]], [0,np.max(yf)], 'r:')\n",
    "        plt.text(per[i], j*np.max(yf), f\"{per[i] :.2f}\")\n",
    "        j+=0.1\n",
    "\n",
    "    plt.title('Period Spectrum')\n",
    "    plt.grid()\n",
    "    ax.set_xlabel('Period (days)')\n",
    "    plt.xlim([1, 1e4])\n",
    "\n",
    "    plt.subplot(2,1,2)\n",
    "    plt.plot(df.index,df.Q)\n",
    "    plt.title('Raw Signal')\n",
    "    plt.tight_layout()"
   ]
  },
  {
   "cell_type": "markdown",
   "id": "89c462a3",
   "metadata": {},
   "source": [
    "### Now let's look at the whole signal"
   ]
  },
  {
   "cell_type": "code",
   "execution_count": 53,
   "id": "ae061a46",
   "metadata": {
    "execution": {
     "iopub.execute_input": "2025-09-22T13:35:42.685830Z",
     "iopub.status.busy": "2025-09-22T13:35:42.685684Z",
     "iopub.status.idle": "2025-09-22T13:35:42.705922Z",
     "shell.execute_reply": "2025-09-22T13:35:42.705402Z"
    }
   },
   "outputs": [
    {
     "ename": "NameError",
     "evalue": "name 'df_data' is not defined",
     "output_type": "error",
     "traceback": [
      "\u001b[31m---------------------------------------------------------------------------\u001b[39m",
      "\u001b[31mNameError\u001b[39m                                 Traceback (most recent call last)",
      "\u001b[36mCell\u001b[39m\u001b[36m \u001b[39m\u001b[32mIn[53]\u001b[39m\u001b[32m, line 1\u001b[39m\n\u001b[32m----> \u001b[39m\u001b[32m1\u001b[39m fft_and_plot(\u001b[43mdf_data\u001b[49m)\n",
      "\u001b[31mNameError\u001b[39m: name 'df_data' is not defined"
     ]
    }
   ],
   "source": [
    "fft_and_plot(df_data)"
   ]
  },
  {
   "cell_type": "markdown",
   "id": "35e769e4",
   "metadata": {},
   "source": [
    "We see a strong annual frequency that corresponds to spring snowmelt from the surrounding mountain ranges. The second strongest frequency is biannually, and is likely due to the onset of fall in winter rains"
   ]
  },
  {
   "cell_type": "markdown",
   "id": "92936f20",
   "metadata": {},
   "source": [
    "### Okay, what about years before dams were installed on the Russian River.\n",
    "\n",
    "Let's get in the wayback machine and look at only the years prior to 1954!"
   ]
  },
  {
   "cell_type": "code",
   "execution_count": 54,
   "id": "ed01ace9",
   "metadata": {
    "execution": {
     "iopub.execute_input": "2025-09-22T13:35:42.707405Z",
     "iopub.status.busy": "2025-09-22T13:35:42.707250Z",
     "iopub.status.idle": "2025-09-22T13:35:42.725026Z",
     "shell.execute_reply": "2025-09-22T13:35:42.724536Z"
    }
   },
   "outputs": [
    {
     "ename": "NameError",
     "evalue": "name 'df_data' is not defined",
     "output_type": "error",
     "traceback": [
      "\u001b[31m---------------------------------------------------------------------------\u001b[39m",
      "\u001b[31mNameError\u001b[39m                                 Traceback (most recent call last)",
      "\u001b[36mCell\u001b[39m\u001b[36m \u001b[39m\u001b[32mIn[54]\u001b[39m\u001b[32m, line 1\u001b[39m\n\u001b[32m----> \u001b[39m\u001b[32m1\u001b[39m fft_and_plot(\u001b[43mdf_data\u001b[49m[df_data.index.year < \u001b[32m1954\u001b[39m])\n",
      "\u001b[31mNameError\u001b[39m: name 'df_data' is not defined"
     ]
    }
   ],
   "source": [
    "fft_and_plot(df_data[df_data.index.year < 1954])"
   ]
  },
  {
   "cell_type": "markdown",
   "id": "5ae5807f",
   "metadata": {},
   "source": [
    "The binanual and annual signals have a much wider spread, which suggests that peak runoff was a little more variable in it's timing compared to the entire data record."
   ]
  },
  {
   "cell_type": "markdown",
   "id": "238d70b2",
   "metadata": {},
   "source": [
    "### What if we focus in on after 1954?"
   ]
  },
  {
   "cell_type": "code",
   "execution_count": 55,
   "id": "b71e84e3",
   "metadata": {
    "execution": {
     "iopub.execute_input": "2025-09-22T13:35:42.726403Z",
     "iopub.status.busy": "2025-09-22T13:35:42.726267Z",
     "iopub.status.idle": "2025-09-22T13:35:42.743688Z",
     "shell.execute_reply": "2025-09-22T13:35:42.743266Z"
    }
   },
   "outputs": [
    {
     "ename": "NameError",
     "evalue": "name 'df_data' is not defined",
     "output_type": "error",
     "traceback": [
      "\u001b[31m---------------------------------------------------------------------------\u001b[39m",
      "\u001b[31mNameError\u001b[39m                                 Traceback (most recent call last)",
      "\u001b[36mCell\u001b[39m\u001b[36m \u001b[39m\u001b[32mIn[55]\u001b[39m\u001b[32m, line 1\u001b[39m\n\u001b[32m----> \u001b[39m\u001b[32m1\u001b[39m fft_and_plot(\u001b[43mdf_data\u001b[49m[(df_data.index.year > \u001b[32m1954\u001b[39m)])\n",
      "\u001b[31mNameError\u001b[39m: name 'df_data' is not defined"
     ]
    }
   ],
   "source": [
    "fft_and_plot(df_data[(df_data.index.year > 1954)])"
   ]
  },
  {
   "cell_type": "markdown",
   "id": "e2e13b0a",
   "metadata": {},
   "source": [
    "It looks like flows are more controlled with a tighter periods.\n",
    "\n",
    "So post dam construction, flows are much more controlled with regular release schedules. "
   ]
  }
 ],
 "metadata": {
  "kernelspec": {
   "display_name": "Python 3 (ipykernel)",
   "language": "python",
   "name": "python3"
  },
  "language_info": {
   "codemirror_mode": {
    "name": "ipython",
    "version": 3
   },
   "file_extension": ".py",
   "mimetype": "text/x-python",
   "name": "python",
   "nbconvert_exporter": "python",
   "pygments_lexer": "ipython3",
   "version": "3.11.13"
  }
 },
 "nbformat": 4,
 "nbformat_minor": 5
}
