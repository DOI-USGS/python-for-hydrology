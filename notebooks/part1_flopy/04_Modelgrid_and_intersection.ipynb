{
 "cells": [
  {
   "cell_type": "markdown",
   "id": "c3a22877",
   "metadata": {},
   "source": [
    "# Modelgrid and intersection\n",
    "\n",
    "The first part of this notebook is focused on the `flopy.discretization.Grid` (modelgrid) object(s). The modelgrid object(s) are a relatively new addition to FloPy's capabilities and are the backbone of plotting, exporting, and GIS data processing within FloPy. These objects are automatically created when a model is loaded. Alternatively they can also be created as a stand alone object. \n",
    "\n",
    "There are three types of modelgrids:\n",
    "\n",
    "* `StructuredGrid`: the StructuredGrid object is created for rectilinear grids. i.e. models that use a DIS file for discretization\n",
    "* `VertexGrid`: the VertexGrid object is for discretizations that are defined by vertices (e.g., DISV packages)\n",
    "* `UnstructuredGrid`: the UnstructuredGrid object is for unstructured discretizations (e.g., DISU and MODFLOW-USG)\n",
    "\n",
    "These objects all have a common interface defined by the base `Grid` class. What this means for the user is if they want to get the cell center coordinates from a modelgrid, the function call is identical on all three grids.\n",
    "\n",
    "The best way to learn about these classes is by checking them out. "
   ]
  },
  {
   "cell_type": "code",
   "execution_count": null,
   "id": "72833c87",
   "metadata": {},
   "outputs": [],
   "source": [
    "import pathlib as pl\n",
    "import flopy\n",
    "from flopy.utils.gridgen import Gridgen\n",
    "from flopy.utils import GridIntersect, Raster\n",
    "\n",
    "import numpy as np\n",
    "import matplotlib.pyplot as plt\n",
    "import pandas as pd\n",
    "import geopandas as gpd\n",
    "\n",
    "# pd.options.mode.chained_assignment = None\n",
    "data_path = pl.Path(\"data/modelgrid_intersection\")"
   ]
  },
  {
   "cell_type": "markdown",
   "id": "b9ea69ac",
   "metadata": {},
   "source": [
    "## Grids"
   ]
  },
  {
   "cell_type": "markdown",
   "id": "d78299e2",
   "metadata": {},
   "source": [
    "## StructuredGrid\n",
    "\n",
    "Let's start with the most common type of MODFLOW modelgrid, the `StructuredGrid`\n",
    "\n",
    "#### First we'll build one from scratch "
   ]
  },
  {
   "cell_type": "code",
   "execution_count": null,
   "id": "7154ce13",
   "metadata": {},
   "outputs": [],
   "source": [
    "nrow = 20\n",
    "ncol = 15\n",
    "nlay = 1\n",
    "\n",
    "grad = np.expand_dims(np.linspace(50, 100, nrow), axis=1)[::-1]\n",
    "top = np.ones((nrow, ncol)) * grad\n",
    "botm = np.zeros((nlay, nrow, ncol))\n",
    "botm[0, :, :] = top - 50 \n",
    "delr = np.full((ncol,), 250)\n",
    "delc = np.full((nrow,), 150)\n",
    "ibound = np.ones((nlay, nrow, ncol))\n",
    "ibound[0, 4:10, 4:8] = 0\n",
    "\n",
    "modelgrid = flopy.discretization.StructuredGrid(\n",
    "    delc,\n",
    "    delr,\n",
    "    top,\n",
    "    botm,\n",
    "    ibound,\n",
    ")\n",
    "print(modelgrid)\n",
    "print(type(modelgrid))"
   ]
  },
  {
   "cell_type": "markdown",
   "id": "f568611b",
   "metadata": {},
   "source": [
    "Let's take a look at our modelgrid visually"
   ]
  },
  {
   "cell_type": "code",
   "execution_count": null,
   "id": "8eabc8cd",
   "metadata": {},
   "outputs": [],
   "source": [
    "modelgrid.plot();"
   ]
  },
  {
   "cell_type": "markdown",
   "id": "59337e12",
   "metadata": {},
   "source": [
    "This is great, but what if we want to orient it in space and add a coordinate reference system so we can do further processing? \n",
    "\n",
    "The `set_coord_info()` method allows us to update the coordinate offsets, rotation of the grid, and even add projection information."
   ]
  },
  {
   "cell_type": "code",
   "execution_count": null,
   "id": "bd579167",
   "metadata": {},
   "outputs": [],
   "source": [
    "xoff = 2345678\n",
    "yoff = 1234567\n",
    "angrot = -15\n",
    "epsg = 32610  # utm zone 10N\n",
    "\n",
    "modelgrid.set_coord_info(xoff=xoff, yoff=yoff, angrot=angrot, crs=epsg)"
   ]
  },
  {
   "cell_type": "code",
   "execution_count": null,
   "id": "075e0165",
   "metadata": {},
   "outputs": [],
   "source": [
    "fig, ax = plt.subplots(figsize=(10, 10))\n",
    "ax = modelgrid.plot(ax=ax)\n",
    "plt.title(str(modelgrid));"
   ]
  },
  {
   "cell_type": "markdown",
   "id": "67c85c8e",
   "metadata": {},
   "source": [
    "### Getting cell centers and cell vertices\n",
    "\n",
    "* Cell centers can be returned to the user through the `.xcellcenters`, `.ycellcenter`, and `.zcellcenter` properties.\n",
    "* Cell vertices can be returned to the user through the `.xvertices` and `.yvertices` properties"
   ]
  },
  {
   "cell_type": "code",
   "execution_count": null,
   "id": "046226a5",
   "metadata": {},
   "outputs": [],
   "source": [
    "xc, yc = modelgrid.xcellcenters, modelgrid.ycellcenters\n",
    "xv, yv = modelgrid.xvertices, modelgrid.yvertices\n",
    "\n",
    "fig, ax = plt.subplots(figsize=(10, 10))\n",
    "modelgrid.plot()\n",
    "ax.scatter(xc.ravel(), yc.ravel(), c=\"b\", label=\"cell centers\")\n",
    "ax.scatter(xv.ravel(), yv.ravel(), c=\"r\", label=\"cell vertices\")\n",
    "plt.legend(loc=0);"
   ]
  },
  {
   "cell_type": "markdown",
   "id": "82be3a1c",
   "metadata": {},
   "source": [
    "### Getting the ibound/idomain array\n",
    "\n",
    "The `.idomain` method returns the ibound/idomain array, which defines active (>1), inactive (0), and vertical pass through cells (<0) in the model."
   ]
  },
  {
   "cell_type": "code",
   "execution_count": null,
   "id": "6392c804",
   "metadata": {},
   "outputs": [],
   "source": [
    "ibound = modelgrid.idomain\n",
    "\n",
    "fig, ax = plt.subplots(figsize=(8, 8))\n",
    "pmv = flopy.plot.PlotMapView(modelgrid=modelgrid, ax=ax)\n",
    "pmv.plot_grid()\n",
    "pmv.plot_array(ibound, masked_values=[0,]);"
   ]
  },
  {
   "cell_type": "markdown",
   "id": "9497c9a2",
   "metadata": {},
   "source": [
    "### Getting the model top, bottom, delc, and delr\n",
    "\n",
    "The model top, bottom, delc, and delr can be accessed from the modelgrid using `.top`, `.bottom`, `.delc`, and `.delr`."
   ]
  },
  {
   "cell_type": "code",
   "execution_count": null,
   "id": "773296c6",
   "metadata": {},
   "outputs": [],
   "source": [
    "top = modelgrid.top\n",
    "botm = modelgrid.botm\n",
    "delc = modelgrid.delc\n",
    "delr = modelgrid.delr\n",
    "top, botm, delc, delr"
   ]
  },
  {
   "cell_type": "markdown",
   "id": "2cde8114",
   "metadata": {},
   "source": [
    "## Class exercise 1:\n",
    "\n",
    "Assume that the modelgrid is currently in meters and we want our grid to be in feet. Create a new modelgrid object from the existing one where the discretization is in feet.\n",
    "\n",
    "make a plot of the new modelgrid after it has been created"
   ]
  },
  {
   "cell_type": "code",
   "execution_count": null,
   "id": "6313fa4b",
   "metadata": {},
   "outputs": [],
   "source": []
  },
  {
   "cell_type": "markdown",
   "id": "474d307a",
   "metadata": {},
   "source": [
    "### Finding a cell's nearest neighbors\n",
    "\n",
    "Imagine that we want to find the nearest neighbors of a cell for some reason. The modelgrid has a built in method to 1) internally construct a table of nearest neighbors and 2) return the nearest neighbors for a given cell to the user."
   ]
  },
  {
   "cell_type": "code",
   "execution_count": null,
   "id": "9b7fd96b",
   "metadata": {},
   "outputs": [],
   "source": [
    "cell = (0, 0, 5)\n",
    "\n",
    "neighbors = modelgrid.neighbors(*cell)\n",
    "neighbors"
   ]
  },
  {
   "cell_type": "markdown",
   "id": "5047684b",
   "metadata": {},
   "source": [
    "### Finding grid cells by point location\n",
    "\n",
    "If we want to find a cell number based on x, y coordinate location the model grid has a built in `.intersect()` method that takes `x`, `y`, and an optional `z` coordinate and returns the cell number "
   ]
  },
  {
   "cell_type": "code",
   "execution_count": null,
   "id": "6426d2bc",
   "metadata": {},
   "outputs": [],
   "source": [
    "x, y, z = 2348000, 1235000, 25\n",
    "\n",
    "rowcol = modelgrid.intersect(x, y) # without z\n",
    "layrowcol = modelgrid.intersect(x, y, z) # with z location\n",
    "\n",
    "f\"{rowcol=}, {layrowcol=}\""
   ]
  },
  {
   "cell_type": "markdown",
   "id": "8389b845",
   "metadata": {},
   "source": [
    "## Vertex model grid\n",
    "\n",
    "The vertex model grid is produced for MODFLOW model discretizations that are defined by vertices (`DISV`). We can build a quadtree vertex grid from an existing structured modelgrid using the gridgen utility and the `Gridgen` class."
   ]
  },
  {
   "cell_type": "markdown",
   "id": "1791cc4a",
   "metadata": {},
   "source": [
    "First let's unrotate the grid coordinates of our structured grid to make this easy"
   ]
  },
  {
   "cell_type": "code",
   "execution_count": null,
   "id": "50642957",
   "metadata": {},
   "outputs": [],
   "source": [
    "modelgrid.set_coord_info(angrot=0)\n",
    "modelgrid.plot();"
   ]
  },
  {
   "cell_type": "markdown",
   "id": "7d4cd2c4",
   "metadata": {},
   "source": [
    "Lets load a couple of shapefiles to help with creating the quadtree"
   ]
  },
  {
   "cell_type": "code",
   "execution_count": null,
   "id": "70fc1ed9",
   "metadata": {},
   "outputs": [],
   "source": [
    "active_shp = data_path / \"active_area.shp\"\n",
    "refine_shp = data_path / \"refined_area.shp\"\n",
    "\n",
    "active = gpd.read_file(active_shp)\n",
    "refined = gpd.read_file(refine_shp)"
   ]
  },
  {
   "cell_type": "markdown",
   "id": "1c85d598",
   "metadata": {},
   "source": [
    "Now let's plot these areas on the grid to visualize them"
   ]
  },
  {
   "cell_type": "code",
   "execution_count": null,
   "id": "5ed44ddb",
   "metadata": {},
   "outputs": [],
   "source": [
    "fig, ax = plt.subplots(figsize=(8, 8))\n",
    "\n",
    "pmv = flopy.plot.PlotMapView(modelgrid=modelgrid)\n",
    "pmv.plot_grid()\n",
    "# active.geometry.to_list()\n",
    "pmv.plot_shapes(active.geometry.to_list(),  alpha=0.5, cmap='plasma')\n",
    "pmv.plot_shapes(refined.geometry.to_list(), alpha=0.5, cmap='magma');"
   ]
  },
  {
   "cell_type": "markdown",
   "id": "c747c5bc",
   "metadata": {},
   "source": [
    "### Generate the quadtree grid using `Gridgen`"
   ]
  },
  {
   "cell_type": "code",
   "execution_count": null,
   "id": "d5d43d7e",
   "metadata": {},
   "outputs": [],
   "source": [
    "g = Gridgen(modelgrid, model_ws=data_path)\n",
    "g.add_refinement_features(refined.geometry.to_list(), \"polygon\", 1, [0,])\n",
    "g.build(verbose=False)"
   ]
  },
  {
   "cell_type": "markdown",
   "id": "b0998989",
   "metadata": {},
   "source": [
    "#### Create a vertex model grid from the results"
   ]
  },
  {
   "cell_type": "code",
   "execution_count": null,
   "id": "a3ed5439",
   "metadata": {},
   "outputs": [],
   "source": [
    "gridprops = g.get_gridprops_vertexgrid()\n",
    "vertexgrid = flopy.discretization.VertexGrid(**gridprops)\n",
    "vertexgrid.plot();"
   ]
  },
  {
   "cell_type": "markdown",
   "id": "8a7cce38",
   "metadata": {},
   "source": [
    "### Getting the modelgrid's shape\n"
   ]
  },
  {
   "cell_type": "code",
   "execution_count": null,
   "id": "7a02615f",
   "metadata": {},
   "outputs": [],
   "source": [
    "shape = vertexgrid.shape\n",
    "shape"
   ]
  },
  {
   "cell_type": "markdown",
   "id": "49458e73",
   "metadata": {},
   "source": [
    "## Class Exercise 2: \n",
    "\n",
    "Find and plot all of the nearest neighbors at node 79 on the vertex modelgrid.\n",
    "\n",
    "**Hint**: Use `flopy.plot.PlotMapView` for your plotting, and plot a boolean (1, 0) array with the cells that are not neighbors masked out.\n"
   ]
  },
  {
   "cell_type": "code",
   "execution_count": null,
   "id": "fad34d11",
   "metadata": {},
   "outputs": [],
   "source": []
  },
  {
   "cell_type": "markdown",
   "id": "0426f4ab",
   "metadata": {},
   "source": [
    "## UnstructuredGrid\n",
    "\n",
    "The `UnstructuredGrid` class is used with MODFLOW-USG and MODFLOW-6 DISU type discretizations. We can also create an `UnstructuredGrid` object from the `Gridgen` results"
   ]
  },
  {
   "cell_type": "code",
   "execution_count": null,
   "id": "b6571b07",
   "metadata": {},
   "outputs": [],
   "source": [
    "gridprops = g.get_gridprops_unstructuredgrid()\n",
    "\n",
    "ugrid = flopy.discretization.UnstructuredGrid(**gridprops)\n",
    "ugrid, type(ugrid)"
   ]
  },
  {
   "cell_type": "code",
   "execution_count": null,
   "id": "afe46f93",
   "metadata": {},
   "outputs": [],
   "source": [
    "ugrid.plot();"
   ]
  },
  {
   "cell_type": "code",
   "execution_count": null,
   "id": "5575ecf9",
   "metadata": {},
   "outputs": [],
   "source": [
    "neighbors = ugrid.neighbors(79)\n",
    "arr = np.zeros(ugrid.shape, dtype=int)\n",
    "arr[neighbors] = 1\n",
    "\n",
    "fig, ax = plt.subplots(figsize=(8, 8))\n",
    "\n",
    "pmv = flopy.plot.PlotMapView(ax=ax, modelgrid=ugrid)\n",
    "pmv.plot_grid()\n",
    "pmv.plot_array(arr, masked_values=[0,]);"
   ]
  },
  {
   "cell_type": "markdown",
   "id": "32fb78b6",
   "metadata": {},
   "source": [
    "## Intersecting geospatial data\n",
    "\n",
    "In this part of the lesson we will intersect geospatial data with a modelgrid and begin building a simple adaptation of the Sagehen Creek model, near Truckee, CA. While building this model, we'll work with shapefile and raster data. As we build the model FloPy's intersection capabilities will be presented.\n",
    "\n",
    "Let's start by getting the basin boundary. For the Sagehen Creek model, we're interested in the contributing area for [USGS gage 10343500](https://waterdata.usgs.gov/ca/nwis/uv/?site_no=10343500&PARAmeter_cd=00065,00060) "
   ]
  },
  {
   "cell_type": "code",
   "execution_count": null,
   "id": "014f4da6",
   "metadata": {},
   "outputs": [],
   "source": [
    "station_id = \"10343500\"\n",
    "basin = gpd.read_file(data_path / \"sagehen_basin.shp\")\n",
    "basin = basin.set_index(\"identifier\")\n",
    "basin"
   ]
  },
  {
   "cell_type": "markdown",
   "id": "428b1d96",
   "metadata": {},
   "source": [
    "First thing that we notice is that the basin polygon is projected in decimal degrees, which is not good for modeling. An equal area projection would be better suited for this application"
   ]
  },
  {
   "cell_type": "code",
   "execution_count": null,
   "id": "f0c0b47b",
   "metadata": {},
   "outputs": [],
   "source": [
    "epsg = 26911  # NAD83 utm zone 11 N, epsg: 26911\n",
    "basin = basin.to_crs(epsg=epsg)\n",
    "basin"
   ]
  },
  {
   "cell_type": "code",
   "execution_count": null,
   "id": "1a4b2134",
   "metadata": {},
   "outputs": [],
   "source": [
    "basin.plot()"
   ]
  },
  {
   "cell_type": "markdown",
   "id": "30620402",
   "metadata": {},
   "source": [
    "We can now get our basin's bounding box using `.bounds`, buffer it, and then begin creating a modelgrid based on the basin boundary."
   ]
  },
  {
   "cell_type": "code",
   "execution_count": null,
   "id": "26693e3c",
   "metadata": {},
   "outputs": [],
   "source": [
    "cellsize = 90  # 90 m grid\n",
    "bounds = basin.bounds\n",
    "print(bounds)\n",
    "xmin = bounds.loc[station_id, \"minx\"] - (cellsize * 1)\n",
    "ymin = bounds.loc[station_id, \"miny\"] - (cellsize * 1)\n",
    "xmax = bounds.loc[station_id, \"maxx\"] + (cellsize * 1)\n",
    "ymax = bounds.loc[station_id, \"maxy\"] + (cellsize * 1)"
   ]
  },
  {
   "cell_type": "markdown",
   "id": "88e9ff72",
   "metadata": {},
   "source": [
    "Calculate the number of rows and columns the model will have and then create a delc and delr array."
   ]
  },
  {
   "cell_type": "code",
   "execution_count": null,
   "id": "e7de4cad",
   "metadata": {},
   "outputs": [],
   "source": [
    "dx = xmax - xmin\n",
    "dy = ymax - ymin\n",
    "\n",
    "nlay = 1\n",
    "nrow = np.ceil(dy / cellsize).astype(int)\n",
    "ncol = np.ceil(dx / cellsize).astype(int)\n",
    "delr = np.full((ncol,), cellsize)\n",
    "delc = np.full((nrow,), cellsize)\n",
    "\n",
    "# let's create a fake top and bottom for now\n",
    "top = np.full((nrow, ncol), 100)\n",
    "botm = np.full((nlay, nrow, ncol), 0)"
   ]
  },
  {
   "cell_type": "markdown",
   "id": "3dd72559",
   "metadata": {},
   "source": [
    "Now we can create a minimal modelgrid from the information we have"
   ]
  },
  {
   "cell_type": "code",
   "execution_count": null,
   "id": "c796e3f3",
   "metadata": {},
   "outputs": [],
   "source": [
    "modelgrid = flopy.discretization.StructuredGrid(\n",
    "    delc,\n",
    "    delr,\n",
    "    top=top,\n",
    "    botm=botm,\n",
    "    nlay=nlay,\n",
    "    xoff=xmin,\n",
    "    yoff=ymin,\n",
    "    crs=epsg\n",
    ")\n",
    "print(modelgrid)\n",
    "print(modelgrid.is_complete)"
   ]
  },
  {
   "cell_type": "code",
   "execution_count": null,
   "id": "f98ef0fd",
   "metadata": {},
   "outputs": [],
   "source": [
    "fig, ax = plt.subplots(figsize=(8, 8))\n",
    "\n",
    "ax = basin.plot(ax=ax)\n",
    "modelgrid.plot(ax=ax, lw=0.5);"
   ]
  },
  {
   "cell_type": "markdown",
   "id": "0a96c0b8",
   "metadata": {},
   "source": [
    "Fantastic! The modelgrid has been created and it completely overlays the contributing area."
   ]
  },
  {
   "cell_type": "markdown",
   "id": "12e0691f",
   "metadata": {},
   "source": [
    "### Intersecting a polygon with the modelgrid\n",
    "\n",
    "FloPy has a utility named `GridIntersect` that allows the user to intersect points, polygons, and polylines with modelgrid objects. \n",
    "\n",
    "In this example, the basin boundary will be intersected with the modelgrid to create the active and inactive extents of the model. The `.intersect()` method returns a numpy recarry with cellids, vertices, cell areas, and shapely polygon objects."
   ]
  },
  {
   "cell_type": "code",
   "execution_count": null,
   "id": "a8c64285",
   "metadata": {},
   "outputs": [],
   "source": [
    "gx = GridIntersect(modelgrid)\n",
    "\n",
    "result = gx.intersect(basin.loc[station_id, \"geometry\"])\n",
    "result.cellids"
   ]
  },
  {
   "cell_type": "markdown",
   "id": "178b1022",
   "metadata": {},
   "source": [
    "create the ibound/idomain array (active and inactive model cells)"
   ]
  },
  {
   "cell_type": "code",
   "execution_count": null,
   "id": "b9a4efb3",
   "metadata": {},
   "outputs": [],
   "source": [
    "ibound = np.zeros((nlay, nrow, ncol))\n",
    "i, j = zip(*result.cellids)\n",
    "ibound[:, i, j] = 1\n",
    "\n",
    "fig, ax = plt.subplots(figsize=(8, 8))\n",
    "pmv = flopy.plot.PlotMapView(modelgrid=modelgrid, ax=ax)\n",
    "pmv.plot_grid(lw=0.5)\n",
    "pmv.plot_array(ibound, masked_values=[0], cmap=\"viridis\")"
   ]
  },
  {
   "cell_type": "markdown",
   "id": "71cde52d",
   "metadata": {},
   "source": [
    "### Intersecting raster data with a modelgrid\n",
    "\n",
    "FloPy's `Raster` class allows us to intersect and resample raster data to the model grid. This class is useful for resampling a number of gridded products such as: Digital Elevation Model data, land cover data, and gridded climate data.\n",
    "\n",
    "The first example of using the `Raster` class will be to resample Digital Elevation Model (DEM) data to define the land surface of the Sagehen model"
   ]
  },
  {
   "cell_type": "code",
   "execution_count": null,
   "id": "9be5182b",
   "metadata": {},
   "outputs": [],
   "source": [
    "dem_file = data_path / \"dem_30m.img\"\n",
    "\n",
    "raster = Raster.load(dem_file)"
   ]
  },
  {
   "cell_type": "markdown",
   "id": "b09c2786",
   "metadata": {},
   "source": [
    "#### Now that the raster is loaded we can resample it\n",
    "\n",
    "The `resample_to_grid()` method performs geostatistics and returns an array in the shape of the modelgrid. Options for resampling include `\"nearest\"`, `\"linear\"` (bilinear), `\"cubic\"` (bicubic), `\"max\"`, `\"min\"`, `\"mean\"`, `\"median\"`, and `\"mode\"` (most common value)."
   ]
  },
  {
   "cell_type": "code",
   "execution_count": null,
   "id": "3e6057f8",
   "metadata": {},
   "outputs": [],
   "source": [
    "# let's get the nearest neighbor elevations\n",
    "dem_data = raster.resample_to_grid(\n",
    "    modelgrid,\n",
    "    band=raster.bands[0],\n",
    "    method=\"nearest\"\n",
    ")\n",
    "dem_data"
   ]
  },
  {
   "cell_type": "code",
   "execution_count": null,
   "id": "ec16505d",
   "metadata": {},
   "outputs": [],
   "source": [
    "# Now let's plot it up and see what we have\n",
    "fig, ax = plt.subplots(figsize=(10, 8)) \n",
    "pmv = flopy.plot.PlotMapView(ax=ax, modelgrid=modelgrid)\n",
    "\n",
    "pmv.plot_grid(lw=0.5, zorder=3)\n",
    "pc = pmv.plot_array(dem_data, alpha=0.75, zorder=1, cmap=\"viridis\")\n",
    "pmv.plot_array(ibound, masked_values=[1], cmap=\"magma\", zorder=2)\n",
    "plt.colorbar(pc, shrink=0.7);"
   ]
  },
  {
   "cell_type": "markdown",
   "id": "370b8b15",
   "metadata": {},
   "source": [
    "### Start creating model files from the data we've gathered so far.\n",
    "\n",
    "At this point we have almost everything we need to begin creating a model discretization package. The only thing left to calculate is the model bottom. Let's assume bedrock 150 m below land surface throughout the basin and begin creating our model. \n"
   ]
  },
  {
   "cell_type": "markdown",
   "id": "dc084602",
   "metadata": {},
   "source": [
    "We'll first start by creating our simulation object and adding a solver and the time discretization. This model will be a year long with 12 stress periods and a daily time step"
   ]
  },
  {
   "cell_type": "code",
   "execution_count": null,
   "id": "a68ba62a",
   "metadata": {},
   "outputs": [],
   "source": [
    "sim = flopy.mf6.MFSimulation(\"sagehen\", sim_ws=data_path)\n",
    "ims = flopy.mf6.ModflowIms(sim, complexity=\"COMPLEX\")\n",
    "nper = 12\n",
    "perlen = (31, 28, 31, 30, 31, 30, 31, 31, 30, 31, 30, 31)\n",
    "period_data = [(i, i, 1.0) for i in perlen]\n",
    "tdis = flopy.mf6.ModflowTdis(\n",
    "    sim,\n",
    "    nper=12,\n",
    "    perioddata=period_data,\n",
    "    time_units=\"days\"\n",
    ")"
   ]
  },
  {
   "cell_type": "markdown",
   "id": "d5c0ba6b",
   "metadata": {},
   "source": [
    "Now to create the Groundwater flow model object and add the dis file to it"
   ]
  },
  {
   "cell_type": "code",
   "execution_count": null,
   "id": "0953b65d",
   "metadata": {},
   "outputs": [],
   "source": [
    "gwf = flopy.mf6.ModflowGwf(\n",
    "    sim,\n",
    "    modelname='sagehen',\n",
    "    save_flows=True,\n",
    ")\n",
    "\n",
    "# add the dis package\n",
    "botm = np.expand_dims(dem_data, axis=0) - 200\n",
    "dis = flopy.mf6.ModflowGwfdis(\n",
    "    gwf,\n",
    "    nrow=modelgrid.nrow,\n",
    "    ncol=modelgrid.ncol,\n",
    "    delr=modelgrid.delr,\n",
    "    delc=modelgrid.delc,\n",
    "    top=dem_data,\n",
    "    botm=botm,\n",
    "    idomain=ibound\n",
    ")\n",
    "\n",
    "gwf"
   ]
  },
  {
   "cell_type": "markdown",
   "id": "34d64a8f",
   "metadata": {},
   "source": [
    "We can also add an initial conditions file to the model. Let's assume water level begins at 5 meters below land surface"
   ]
  },
  {
   "cell_type": "code",
   "execution_count": null,
   "id": "29159be8",
   "metadata": {},
   "outputs": [],
   "source": [
    "ic = flopy.mf6.ModflowGwfic(gwf, strt=dem_data - 5)\n",
    "gwf"
   ]
  },
  {
   "cell_type": "markdown",
   "id": "35bfb1ca",
   "metadata": {},
   "source": [
    "And we can create our NPF and STO packages using values from literature"
   ]
  },
  {
   "cell_type": "code",
   "execution_count": null,
   "id": "d44c69ce",
   "metadata": {},
   "outputs": [],
   "source": [
    "npf = flopy.mf6.ModflowGwfnpf(\n",
    "    gwf,\n",
    "    save_flows=True,\n",
    "    save_specific_discharge=True,\n",
    "    k=0.022  # value from Larsen et al, 2022\n",
    ")\n",
    "\n",
    "sto = flopy.mf6.ModflowGwfsto(\n",
    "    gwf,\n",
    "    save_flows=True,\n",
    "    iconvert=1,\n",
    "    ss=1e-07,  # values from Larsen et al, 2022\n",
    "    sy=0.2\n",
    ")"
   ]
  },
  {
   "cell_type": "markdown",
   "id": "eae7944a",
   "metadata": {},
   "source": [
    "We can also add a OC package now"
   ]
  },
  {
   "cell_type": "code",
   "execution_count": null,
   "id": "4385aa9d",
   "metadata": {},
   "outputs": [],
   "source": [
    "# build output control package\n",
    "budget_file = \"sagehen.cbc\"\n",
    "head_file = \"sagehen.hds\"\n",
    "saverecord = {i: [(\"HEAD\", \"ALL\"), (\"BUDGET\", \"ALL\")] for i in range(gwf.nper)}\n",
    "oc = flopy.mf6.ModflowGwfoc(\n",
    "    gwf,\n",
    "    budget_filerecord=budget_file,\n",
    "    head_filerecord=head_file,\n",
    "    saverecord=saverecord,\n",
    ")"
   ]
  },
  {
   "cell_type": "markdown",
   "id": "3c06684d",
   "metadata": {},
   "source": [
    "## Class Exercise: Loading and resampling rasters\n",
    "\n",
    "For this exercise we are loading and resampling monthly Daymet climate data for Sagehen basin.\n",
    "\n",
    "Load the potential evapotranspiration raster `pet_raster` using flopy's `Raster` class and create a dictionary of resampled PET that stores all 12 months of values.\n",
    "\n",
    "**Hints:**\n",
    "\n",
    "   - Rasters contain multiple datasets called bands, the `Raster` class has a `.bands` attribute that returns a list of all of the bands within the raster. Lists can be looped over!\n",
    "   - Because the data is coarse compared to our model discretization, the nearest neighbor method should be appropriate for resampling `method=\"nearest\"`\n",
    "   - Finally no data values should be converted to 0 value. The `Raster` class has a `.nodatavals` attribute that returns a list of no data values. There is only one in this list; use numpy's boolean indexing or `np.where()` to replace all of the no data entries with 0."
   ]
  },
  {
   "cell_type": "code",
   "execution_count": null,
   "id": "e97525f0",
   "metadata": {},
   "outputs": [],
   "source": [
    "pet_raster = data_path / \"pet.tif\"\n",
    "prcp_raster = data_path / \"prcp.tif\""
   ]
  },
  {
   "cell_type": "code",
   "execution_count": null,
   "id": "7ab932b9",
   "metadata": {},
   "outputs": [],
   "source": []
  },
  {
   "cell_type": "markdown",
   "id": "a6638822",
   "metadata": {},
   "source": [
    "Let's load the saved version of this data, it should be identical to the data that was produced in the exercise."
   ]
  },
  {
   "cell_type": "code",
   "execution_count": null,
   "id": "7469763b",
   "metadata": {},
   "outputs": [],
   "source": [
    "arr = np.genfromtxt(data_path / \"pet.txt\")\n",
    "arr.shape = (12, modelgrid.nrow, modelgrid.ncol)\n",
    "pet_monthly = {i: a for i, a in enumerate(arr)}\n",
    "pet_monthly"
   ]
  },
  {
   "cell_type": "markdown",
   "id": "330ebe43",
   "metadata": {},
   "source": [
    "And resample the precipitation raster we saved earlier"
   ]
  },
  {
   "cell_type": "code",
   "execution_count": null,
   "id": "4cb67791",
   "metadata": {},
   "outputs": [],
   "source": [
    "rstr = flopy.utils.Raster.load(prcp_raster)\n",
    "prcp_monthly = {}\n",
    "for band in rstr.bands:\n",
    "    t = rstr.resample_to_grid(\n",
    "        modelgrid,\n",
    "        band,\n",
    "        method=\"nearest\"\n",
    "    )\n",
    "    t[t == rstr.nodatavals[0]] = 0\n",
    "    prcp_monthly[band - 1] = t\n",
    "    \n",
    "prcp_monthly"
   ]
  },
  {
   "cell_type": "markdown",
   "id": "9864665e",
   "metadata": {},
   "source": [
    "Potetial evapotranspiration and Precipitation data from daymet are in mm/day, however our discretization is meters/day. "
   ]
  },
  {
   "cell_type": "code",
   "execution_count": null,
   "id": "5556e58f",
   "metadata": {},
   "outputs": [],
   "source": [
    "prcp_monthly = {k: v * 0.001 for k, v in prcp_monthly.items()}\n",
    "pet_monthly = {k: v * 0.001 for k, v in pet_monthly.items()}"
   ]
  },
  {
   "cell_type": "markdown",
   "id": "bc8ab240",
   "metadata": {},
   "source": [
    "Finally we can load a saved soil hydraulic conductivity array, and we have the information we need to create a Unsaturated Zone Flow (UZF) package for this model"
   ]
  },
  {
   "cell_type": "code",
   "execution_count": null,
   "id": "c6310044",
   "metadata": {},
   "outputs": [],
   "source": [
    "ksat_raster = data_path / \"ksat.img\"\n",
    "rstr = flopy.utils.Raster.load(ksat_raster)\n",
    "vks = rstr.resample_to_grid(\n",
    "    modelgrid,\n",
    "    rstr.bands[0],\n",
    "    method=\"nearest\"\n",
    ")\n",
    "\n",
    "vks[vks == rstr.nodatavals[0]] = np.nan\n",
    "vks[np.isnan(vks)] = np.nanmean(vks)\n",
    "vks *= 0.0864  # um per sec to m per day\n",
    "ims = plt.imshow(vks)\n",
    "plt.colorbar(shrink=0.6); "
   ]
  },
  {
   "cell_type": "markdown",
   "id": "af094113",
   "metadata": {},
   "source": [
    "#### Creating a UZF package \n",
    "\n",
    "Now that we have some climate and soils data we can create a UZF package from it and add it to the model!\n",
    "\n",
    "Create the package data and the stress period data info for flopy\n",
    "\n",
    "For the package data we are making some basic assumptions. `landflag=1` and `ivertcon=0` meaning that the cell is at the surface and is not connected to an underlying uzf cell. The `surfdep=1.0` which means that we have a surface depression (variable land surface) of 1 meter for all cells. `thtr=0.1`, `thts=0.38` meaning the soil is fairly porous and transmits water readily. `thti=0.1` which means initial conditions are residual water content. And finally a brooks-corey epsilon `eps=3.5`. \n",
    "\n",
    "For the stress period data, some additional assumptions are made. `extdp=0.5` which means that the evapotranspiration extinction depth is 0.5 m below the surface. `extwc=0.2` which means that the extinction water content (low end of field capacity) is 0.2 (unitless or m^3/m^3). All other values are placeholders and are not used with the current simulation options.  \n",
    "\n",
    "For more information about the UZF input options please see [UZF: online guide to MF6](https://modflow6.readthedocs.io/en/latest/_mf6io/gwf-uzf.html)"
   ]
  },
  {
   "cell_type": "code",
   "execution_count": null,
   "id": "6283510f",
   "metadata": {},
   "outputs": [],
   "source": [
    "modelgrid = gwf.modelgrid\n",
    "modelgrid.set_coord_info(xoff=xmin, yoff=ymin)\n",
    "package_data = []\n",
    "cnt = 0\n",
    "for i in range(modelgrid.nrow):\n",
    "    for j in range(modelgrid.ncol):\n",
    "        if modelgrid.idomain[0, i, j] == 0:\n",
    "            continue\n",
    "        # ifno, cellid, landflag, ivertcon, surfdep, vks, thtr, thts, thti, eps\n",
    "        rec = (cnt, (0, i, j), 1, 0, 1.0, vks[i, j], 0.1, 0.38, 0.1, 3.5)\n",
    "        package_data.append(rec)\n",
    "        cnt += 1\n",
    "\n",
    "period_data = {}\n",
    "for per in range(gwf.nper):\n",
    "    spd = []\n",
    "    cnt = 0\n",
    "    for i in range(modelgrid.nrow * modelgrid.ncol):\n",
    "        if modelgrid.idomain.ravel()[i] == 0:\n",
    "            continue\n",
    "        # ifno, finf, pet, extdp, extwc, [ha, hroot, rootact] in record, but not simulated\n",
    "        rec = (cnt, prcp_monthly[per].ravel()[i], pet_monthly[per].ravel()[i], 0.5, 0.2, -1.1, -75, 1.0)\n",
    "        spd.append(rec)\n",
    "        cnt += 1\n",
    "        \n",
    "    period_data[per] = spd"
   ]
  },
  {
   "cell_type": "code",
   "execution_count": null,
   "id": "d14f6df9",
   "metadata": {},
   "outputs": [],
   "source": [
    "uzf = flopy.mf6.ModflowGwfuzf(\n",
    "    gwf,\n",
    "    simulate_et=True,\n",
    "    ntrailwaves=15,\n",
    "    nwavesets=100,\n",
    "    packagedata=package_data,\n",
    "    perioddata=period_data,\n",
    "    unsat_etwc=True,\n",
    "    linear_gwet=True,\n",
    "    simulate_gwseep=True\n",
    ")"
   ]
  },
  {
   "cell_type": "markdown",
   "id": "6bc25d48",
   "metadata": {},
   "source": [
    "### Now to create a simple river package from NHD flowlines \n",
    "\n",
    "We can use the intersection routines that have been presented thus far to create a river package for the sagehen model. "
   ]
  },
  {
   "cell_type": "markdown",
   "id": "44e4060c",
   "metadata": {},
   "source": [
    "The first step is load the NHD flowlines for the basin"
   ]
  },
  {
   "cell_type": "code",
   "execution_count": null,
   "id": "513512bb",
   "metadata": {},
   "outputs": [],
   "source": [
    "flow_lines = data_path / \"sagehen_nhd.shp\"\n",
    "flw_all = gpd.read_file(flow_lines)\n",
    "flw_all.plot();"
   ]
  },
  {
   "cell_type": "markdown",
   "id": "30e6d2f5",
   "metadata": {},
   "source": [
    "Excellent! Now we have all of the flow lines for the Sagehen watershed. But what if we want to identify the main stem? "
   ]
  },
  {
   "cell_type": "code",
   "execution_count": null,
   "id": "87b4a83b",
   "metadata": {},
   "outputs": [],
   "source": [
    "flow_lines = data_path / \"sagehen_main_nhd.shp\"\n",
    "flw_main = gpd.read_file(flow_lines)\n",
    "flw_main.plot()\n",
    "flw_main"
   ]
  },
  {
   "cell_type": "markdown",
   "id": "fdf6a82e",
   "metadata": {},
   "source": [
    "Great! Now we can start processing data to create a river package. We can first identify our main stem cells."
   ]
  },
  {
   "cell_type": "code",
   "execution_count": null,
   "id": "bc236aeb",
   "metadata": {},
   "outputs": [],
   "source": [
    "main_stem = []\n",
    "gx = GridIntersect(modelgrid)\n",
    "for iloc, row in flw_main.iterrows():\n",
    "    results = gx.intersect(row.geometry)\n",
    "    main_stem += list(results.cellids)\n",
    "main_stem[0:5]"
   ]
  },
  {
   "cell_type": "markdown",
   "id": "747a7c97",
   "metadata": {},
   "source": [
    "## Class Exercise:\n",
    "\n",
    "Use GridIntersect to create a list of tributary cells from the `flw_all` geodataframe. \n",
    "\n",
    "**Hint**\n",
    "Use the `main_stem` list to filter out cells that are associated with the main stem of the river and only store the cells that are associated with tributaries to the main stem."
   ]
  },
  {
   "cell_type": "code",
   "execution_count": null,
   "id": "4972e581",
   "metadata": {},
   "outputs": [],
   "source": []
  },
  {
   "cell_type": "markdown",
   "id": "5709f808",
   "metadata": {},
   "source": [
    "The cellids for tributaries have been stored previously, so we'll load those up and continue on.\n"
   ]
  },
  {
   "cell_type": "code",
   "execution_count": null,
   "id": "d85d59db",
   "metadata": {},
   "outputs": [],
   "source": [
    "tributaries = []\n",
    "with open(data_path / \"trib_cells.txt\") as foo:\n",
    "    for line in foo:\n",
    "        t = line.strip().split(\",\")\n",
    "        tributaries.append((int(t[0]), int(t[1])))"
   ]
  },
  {
   "cell_type": "markdown",
   "id": "346df19a",
   "metadata": {},
   "source": [
    "#### We can also get daily discharge data to help calculate average monthly stages for the RIV package\n",
    "\n",
    "We'll use the `dataretrieval` package to get stage information for our model"
   ]
  },
  {
   "cell_type": "code",
   "execution_count": null,
   "id": "da9ce21b-dc4a-40be-b5c0-406ab4db8a42",
   "metadata": {},
   "outputs": [],
   "source": [
    "import dataretrieval.nwis as nwis\n",
    "\n",
    "gage = nwis.get_record(sites=station_id, service='iv', start=\"2023-01-01\", end=\"2023-12-31\", parameterCd=\"00065\")\n",
    "gage.to_csv(data_path / \"sagehen_gage_data.csv\")"
   ]
  },
  {
   "cell_type": "code",
   "execution_count": null,
   "id": "c9f6646d-71ba-40b7-ab37-b3cf4ecf3647",
   "metadata": {},
   "outputs": [],
   "source": [
    "gage = pd.read_csv(data_path / \"sagehen_gage_data.csv\")\n",
    "gage[\"datetime\"] = pd.to_datetime(gage[\"datetime\"])\n",
    "gage = gage.set_index(\"datetime\")\n",
    "\n",
    "gage.rename(columns={\"00065\": \"stage\"}, inplace=True)\n",
    "gage.stage *= 0.3284\n",
    "ax = gage.stage.plot()\n",
    "ax.set_ylabel(\"stage, in feet\")\n",
    "gage.head()"
   ]
  },
  {
   "cell_type": "markdown",
   "id": "11a7824d",
   "metadata": {},
   "source": [
    "Now we can aggregate to a mean monthly stage from 15 minute instantaneous values"
   ]
  },
  {
   "cell_type": "code",
   "execution_count": null,
   "id": "4ed1d203",
   "metadata": {},
   "outputs": [],
   "source": [
    "gage[\"month\"] = gage.index.month\n",
    "gage_mmo = gage.groupby(by=[\"month\"], as_index=False)[\"stage\"].mean()\n",
    "ax = gage_mmo.stage.plot()\n",
    "ax.set_ylabel(\"mean stage, in feet\");"
   ]
  },
  {
   "cell_type": "markdown",
   "id": "994b0757",
   "metadata": {},
   "source": [
    "### Now to create the RIV package\n"
   ]
  },
  {
   "cell_type": "code",
   "execution_count": null,
   "id": "d0d82e1f",
   "metadata": {},
   "outputs": [],
   "source": [
    "cond = 10\n",
    "rbadj = 1\n",
    "stage_adj = 0.33\n",
    "\n",
    "perioddata = {}\n",
    "for kper, row in gage_mmo.iterrows():\n",
    "    spd = []\n",
    "    for (i, j) in main_stem:\n",
    "        ctop = modelgrid.top[i, j]\n",
    "        rbed = ctop - rbadj\n",
    "        rec = ((0, i, j), row.stage + rbed, cond, rbed)\n",
    "        spd.append(rec)\n",
    "        \n",
    "    for (i, j) in tributaries:\n",
    "        ctop = modelgrid.top[i, j]\n",
    "        rbed = ctop - (rbadj / 2)\n",
    "        rec = ((0, i, j), row.stage + rbed, cond, rbed)\n",
    "        spd.append(rec)\n",
    "    \n",
    "    perioddata[kper] = spd\n",
    "\n",
    "perioddata[0][0:5]"
   ]
  },
  {
   "cell_type": "code",
   "execution_count": null,
   "id": "cadccc45",
   "metadata": {},
   "outputs": [],
   "source": [
    "riv = flopy.mf6.ModflowGwfriv(\n",
    "    gwf,\n",
    "    save_flows=True,\n",
    "    maxbound=len(perioddata[0]),\n",
    "    stress_period_data=perioddata\n",
    ")\n"
   ]
  },
  {
   "cell_type": "markdown",
   "id": "ca7a957f",
   "metadata": {},
   "source": [
    "# Testing the model"
   ]
  },
  {
   "cell_type": "code",
   "execution_count": null,
   "id": "fb26d180",
   "metadata": {},
   "outputs": [],
   "source": [
    "sim.write_simulation()\n",
    "sim.run_simulation();"
   ]
  },
  {
   "cell_type": "code",
   "execution_count": null,
   "id": "81fd5949",
   "metadata": {},
   "outputs": [],
   "source": [
    "hds = gwf.output.head()\n",
    "heads = hds.get_alldata()[-1]\n",
    "\n",
    "fig, ax = plt.subplots(figsize=(10, 8))\n",
    "pmv = flopy.plot.PlotMapView(modelgrid=modelgrid, ax=ax)\n",
    "pc = pmv.plot_array(heads, cmap='viridis', masked_values=[1e30, -1e30])\n",
    "pmv.plot_grid(lw=0.5)\n",
    "pmv.plot_inactive()\n",
    "plt.colorbar(pc, shrink=0.7)\n",
    "plt.show();"
   ]
  },
  {
   "cell_type": "code",
   "execution_count": null,
   "id": "20c39c28",
   "metadata": {},
   "outputs": [],
   "source": [
    "fig, ax = plt.subplots(figsize=(12, 8))\n",
    "ax.set_aspect(\"equal\")\n",
    "xc = flopy.plot.PlotCrossSection(modelgrid=modelgrid, ax=ax, line={\"row\": 36}, geographic_coords=True)\n",
    "pc = xc.plot_array(heads, cmap='plasma', head=heads, masked_values=[1e+30])\n",
    "xc.plot_grid(lw=0.5)\n",
    "xc.plot_inactive()\n",
    "plt.colorbar(pc, shrink=0.50)\n",
    "plt.tight_layout();"
   ]
  },
  {
   "cell_type": "code",
   "execution_count": null,
   "id": "f2b7cc47",
   "metadata": {},
   "outputs": [],
   "source": []
  }
 ],
 "metadata": {
  "kernelspec": {
   "display_name": "Python 3 (ipykernel)",
   "language": "python",
   "name": "python3"
  },
  "language_info": {
   "codemirror_mode": {
    "name": "ipython",
    "version": 3
   },
   "file_extension": ".py",
   "mimetype": "text/x-python",
   "name": "python",
   "nbconvert_exporter": "python",
   "pygments_lexer": "ipython3",
   "version": "3.11.7"
  }
 },
 "nbformat": 4,
 "nbformat_minor": 5
}
