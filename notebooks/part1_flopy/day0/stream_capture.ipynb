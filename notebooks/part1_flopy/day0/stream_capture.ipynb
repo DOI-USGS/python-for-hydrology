{
 "cells": [
  {
   "cell_type": "code",
   "execution_count": null,
   "id": "ffc212df",
   "metadata": {},
   "outputs": [],
   "source": [
    "import flopy as fp\n",
    "import flopy.utils as fu\n",
    "import pandas as pd\n",
    "import matplotlib.pyplot as plt\n",
    "import numpy as np\n",
    "from pathlib import Path"
   ]
  },
  {
   "cell_type": "code",
   "execution_count": null,
   "id": "27b1afd7",
   "metadata": {},
   "outputs": [],
   "source": [
    "modelpath = Path('../data/voronoi/')"
   ]
  },
  {
   "cell_type": "code",
   "execution_count": null,
   "id": "3e82ace2",
   "metadata": {},
   "outputs": [],
   "source": [
    "base_sim = fp.mf6.MFSimulation.load(sim_ws=str(modelpath))"
   ]
  },
  {
   "cell_type": "code",
   "execution_count": null,
   "id": "fa7fc8fa",
   "metadata": {},
   "outputs": [],
   "source": [
    "base_m = base_sim.get_model()"
   ]
  },
  {
   "cell_type": "code",
   "execution_count": null,
   "id": "b1866934",
   "metadata": {},
   "outputs": [],
   "source": [
    "sfr_base_obs = pd.read_csv(modelpath / 'sfr_obs.csv', index_col=0)"
   ]
  },
  {
   "cell_type": "code",
   "execution_count": null,
   "id": "75a6c488",
   "metadata": {},
   "outputs": [],
   "source": [
    "sfr_base_obs = sfr_base_obs[['GAGE1','GAGE2']]"
   ]
  },
  {
   "cell_type": "code",
   "execution_count": null,
   "id": "020e9bd3",
   "metadata": {},
   "outputs": [],
   "source": [
    "sfr_base_obs"
   ]
  },
  {
   "cell_type": "markdown",
   "id": "1bef5834",
   "metadata": {},
   "source": [
    "## find all the locations of cells"
   ]
  },
  {
   "cell_type": "code",
   "execution_count": null,
   "id": "361a183a",
   "metadata": {},
   "outputs": [],
   "source": [
    "cells = pd.DataFrame.from_records(base_m.dis.cell2d.array)\n",
    "cells"
   ]
  },
  {
   "cell_type": "markdown",
   "id": "f28664a4",
   "metadata": {},
   "source": [
    "# find the locations of cells that  contain streams and let's not place wells in or under them "
   ]
  },
  {
   "cell_type": "code",
   "execution_count": null,
   "id": "769a39ce",
   "metadata": {
    "scrolled": false
   },
   "outputs": [],
   "source": [
    "sfrcells = pd.DataFrame.from_records(base_m.sfr.packagedata.array)\n",
    "sfrcells"
   ]
  },
  {
   "cell_type": "code",
   "execution_count": null,
   "id": "2c3efaa1",
   "metadata": {},
   "outputs": [],
   "source": [
    "# make a new columns with just the cellid regardless of layer\n",
    "sfrcells['cell_no_layer'] = [i[1] for i in sfrcells.cellid]\n",
    "sfrcells"
   ]
  },
  {
   "cell_type": "markdown",
   "id": "6d7dbe70",
   "metadata": {},
   "source": [
    "## now we can find the cells from disv that are _not_ also in SFR using a `set` operation"
   ]
  },
  {
   "cell_type": "code",
   "execution_count": null,
   "id": "df535b68",
   "metadata": {},
   "outputs": [],
   "source": [
    "len(set(cells.icell2d)), len(set(sfrcells.cell_no_layer)), len(set(cells.icell2d))-len(set(sfrcells.cell_no_layer))"
   ]
  },
  {
   "cell_type": "code",
   "execution_count": null,
   "id": "1158011c",
   "metadata": {},
   "outputs": [],
   "source": [
    "cells_for_wells = list(set(cells.icell2d)-set(sfrcells.cell_no_layer))\n",
    "len(cells_for_wells)"
   ]
  },
  {
   "cell_type": "markdown",
   "id": "6cd10078",
   "metadata": {},
   "source": [
    "### now lets load the well file to find a representative pumping rate"
   ]
  },
  {
   "cell_type": "code",
   "execution_count": null,
   "id": "625d8db5",
   "metadata": {},
   "outputs": [],
   "source": [
    "wells = pd.DataFrame.from_records(base_m.wel.stress_period_data.array[0])\n",
    "wells"
   ]
  },
  {
   "cell_type": "code",
   "execution_count": null,
   "id": "17ecb444",
   "metadata": {},
   "outputs": [],
   "source": [
    "newq = wells.q.mean()\n",
    "newq"
   ]
  },
  {
   "cell_type": "markdown",
   "id": "541f5328",
   "metadata": {},
   "source": [
    "## now let's see about adding a new well"
   ]
  },
  {
   "cell_type": "code",
   "execution_count": null,
   "id": "48dd434d",
   "metadata": {},
   "outputs": [],
   "source": [
    "sim = fp.mf6.MFSimulation.load(sim_ws=str(modelpath))"
   ]
  },
  {
   "cell_type": "code",
   "execution_count": null,
   "id": "281f1bd1",
   "metadata": {},
   "outputs": [],
   "source": [
    "testmod = sim.get_model()"
   ]
  },
  {
   "cell_type": "code",
   "execution_count": null,
   "id": "0bae231a",
   "metadata": {},
   "outputs": [],
   "source": [
    "wells.dtypes"
   ]
  },
  {
   "cell_type": "code",
   "execution_count": null,
   "id": "8eaed08d",
   "metadata": {},
   "outputs": [],
   "source": [
    "twell = fp.mf6.ModflowGwfwel(testmod, save_flows=True, stress_period_data=[[(0,0), newq]])"
   ]
  },
  {
   "cell_type": "code",
   "execution_count": null,
   "id": "555ad503",
   "metadata": {},
   "outputs": [],
   "source": [
    "runpath = Path('../data/depletion/')\n",
    "sim.set_sim_path(str(runpath))"
   ]
  },
  {
   "cell_type": "code",
   "execution_count": null,
   "id": "322b230b",
   "metadata": {},
   "outputs": [],
   "source": [
    "sim.exe_name='mf6'\n",
    "sim.write_simulation()"
   ]
  },
  {
   "cell_type": "code",
   "execution_count": null,
   "id": "3d03aa56",
   "metadata": {},
   "outputs": [],
   "source": [
    "sim.run_simulation()"
   ]
  },
  {
   "cell_type": "code",
   "execution_count": null,
   "id": "22e4bda4",
   "metadata": {},
   "outputs": [],
   "source": [
    "testmod.output.list().get_data()"
   ]
  },
  {
   "cell_type": "code",
   "execution_count": null,
   "id": "5752f416",
   "metadata": {},
   "outputs": [],
   "source": [
    "sfr_test = pd.read_csv(runpath / 'sfr_obs.csv')[['GAGE1','GAGE2']]"
   ]
  },
  {
   "cell_type": "code",
   "execution_count": null,
   "id": "9059386c",
   "metadata": {},
   "outputs": [],
   "source": [
    "sfr_test"
   ]
  },
  {
   "cell_type": "code",
   "execution_count": null,
   "id": "2075cb43",
   "metadata": {},
   "outputs": [],
   "source": [
    "sfr_base_obs"
   ]
  },
  {
   "cell_type": "code",
   "execution_count": null,
   "id": "9412afce",
   "metadata": {},
   "outputs": [],
   "source": [
    "(sfr_base_obs.GAGE2.values-sfr_test.GAGE2.values)"
   ]
  },
  {
   "cell_type": "markdown",
   "id": "2dcab79b",
   "metadata": {},
   "source": [
    "## now let's make a dataframe to hold the results"
   ]
  },
  {
   "cell_type": "code",
   "execution_count": null,
   "id": "46d80de2",
   "metadata": {},
   "outputs": [],
   "source": [
    "cellids = np.hstack((cells.icell2d.values, cells.icell2d.values, cells.icell2d.values)) # three layers\n",
    "layers = np.hstack(([0 for i in range(len(cells.icell2d.values))],\n",
    "                   [1 for i in range(len(cells.icell2d.values))],\n",
    "                   [2 for i in range(len(cells.icell2d.values))]))"
   ]
  },
  {
   "cell_type": "code",
   "execution_count": null,
   "id": "8422b928",
   "metadata": {},
   "outputs": [],
   "source": [
    "layers"
   ]
  },
  {
   "cell_type": "code",
   "execution_count": null,
   "id": "4d675fb7",
   "metadata": {},
   "outputs": [],
   "source": [
    "cells_with_layers = list(zip(layers,cellids))"
   ]
  },
  {
   "cell_type": "code",
   "execution_count": null,
   "id": "6354f39c",
   "metadata": {},
   "outputs": [],
   "source": [
    "depletion_results = pd.DataFrame(index=pd.MultiIndex.from_tuples(cells_with_layers), data = {'Gage1':np.nan, 'Gage2':np.nan})\n",
    "depletion_results"
   ]
  },
  {
   "cell_type": "markdown",
   "id": "09d73dac",
   "metadata": {},
   "source": [
    "# now make a function to run ... the slow way"
   ]
  },
  {
   "cell_type": "code",
   "execution_count": null,
   "id": "b2a0d8f3",
   "metadata": {},
   "outputs": [],
   "source": [
    "def run_a_well_flopy(layer, cellid, newq, sfr_base_obs, depletion_results):\n",
    "    # read in the simulation\n",
    "    sim = fp.mf6.MFSimulation.load(sim_ws=str(modelpath))\n",
    "    # get the model\n",
    "    testmod = sim.get_model()\n",
    "    # add the test well \n",
    "    well_cellid = (layer,cellid)\n",
    "    twell = fp.mf6.ModflowGwfwel(testmod, save_flows=True, stress_period_data=[[well_cellid, newq]])\n",
    "    runpath = Path('../data/depletion/')\n",
    "    sim.set_sim_path(str(runpath))\n",
    "    sim.exe_name='mf6'\n",
    "    sim.write_simulation()\n",
    "    sim.run_simulation()\n",
    "    sfr_test = pd.read_csv(runpath / 'sfr_obs.csv')[['GAGE1','GAGE2']]\n",
    "    depletion_results.loc[well_cellid, 'Gage1'] = (sfr_base_obs.GAGE1.values-sfr_test.GAGE1.values)/newq\n",
    "    depletion_results.loc[well_cellid, 'Gage2'] = (sfr_base_obs.GAGE2.values-sfr_test.GAGE2.values)/newq\n",
    "    "
   ]
  },
  {
   "cell_type": "code",
   "execution_count": null,
   "id": "5484122e",
   "metadata": {
    "scrolled": true
   },
   "outputs": [],
   "source": [
    "for clay in range(3):\n",
    "    for cellid in cells_for_wells:\n",
    "        run_a_well_flopy(clay, cellid, newq,sfr_base_obs, depletion_results)"
   ]
  },
  {
   "cell_type": "code",
   "execution_count": null,
   "id": "c56f887d",
   "metadata": {},
   "outputs": [],
   "source": [
    "depletion_results"
   ]
  },
  {
   "cell_type": "code",
   "execution_count": null,
   "id": "5a83b9f9",
   "metadata": {},
   "outputs": [],
   "source": [
    "depletion_results.loc[0]\n"
   ]
  },
  {
   "cell_type": "code",
   "execution_count": null,
   "id": "2d3a417d",
   "metadata": {},
   "outputs": [],
   "source": [
    "l1g1 = depletion_results.loc[0].Gage1.values\n",
    "l1g1[l1g1<0] = np.nan\n",
    "mm = fp.plot.PlotMapView(model= base_m)\n",
    "cb = mm.plot_array(depletion_results.loc[0].Gage1.values)\n",
    "mm.plot_grid(lw=0.5, color=\"0.5\")\n",
    "plt.colorbar(cb, ax=plt.gca());"
   ]
  },
  {
   "cell_type": "code",
   "execution_count": null,
   "id": "c996237e",
   "metadata": {},
   "outputs": [],
   "source": [
    "l1g2 = depletion_results.loc[0].Gage2.values\n",
    "l1g2[l1g2<0] = np.nan\n",
    "mm = fp.plot.PlotMapView(model= base_m)\n",
    "cb = mm.plot_array(depletion_results.loc[0].Gage2.values)\n",
    "mm.plot_grid(lw=0.5, color=\"0.5\")\n",
    "plt.colorbar(cb, ax=plt.gca());"
   ]
  },
  {
   "cell_type": "code",
   "execution_count": null,
   "id": "7006137c",
   "metadata": {},
   "outputs": [],
   "source": [
    "np.nanmin(depletion_results.loc[0].Gage1.values)"
   ]
  },
  {
   "cell_type": "code",
   "execution_count": null,
   "id": "877e5d59",
   "metadata": {},
   "outputs": [],
   "source": [
    "import os\n",
    "os.getcwd()"
   ]
  },
  {
   "cell_type": "markdown",
   "id": "a2dd8128",
   "metadata": {},
   "source": [
    "# now make a function to run ... the FAST way\n",
    "### we will use flopy only to make the initial model and then manipulate and run only with MF6 files directly"
   ]
  },
  {
   "cell_type": "markdown",
   "id": "cd4dfb5c",
   "metadata": {},
   "source": [
    "### make a test directory to run in"
   ]
  },
  {
   "cell_type": "code",
   "execution_count": null,
   "id": "2599a667",
   "metadata": {},
   "outputs": [],
   "source": [
    "sim = fp.mf6.MFSimulation.load(sim_ws=str(modelpath))\n",
    "# get the model\n",
    "testmod = sim.get_model()\n",
    "# add the test well \n",
    "twell = fp.mf6.ModflowGwfwel(testmod, save_flows=True, stress_period_data=[[(0,0), newq]])\n",
    "runpath = Path('../data/depletion/')\n",
    "sim.set_sim_path(str(runpath))\n",
    "sim.exe_name='mf6'\n",
    "sim.write_simulation()"
   ]
  },
  {
   "cell_type": "markdown",
   "id": "22cb5dd2",
   "metadata": {},
   "source": [
    "### navigate the wel file to see where to put the new cell ids "
   ]
  },
  {
   "cell_type": "code",
   "execution_count": null,
   "id": "576bcc85",
   "metadata": {},
   "outputs": [],
   "source": [
    "inwell = open(runpath / 'project_0.wel', 'r').readlines()"
   ]
  },
  {
   "cell_type": "code",
   "execution_count": null,
   "id": "b8b279ad",
   "metadata": {},
   "outputs": [],
   "source": [
    "well_template = []\n",
    "for line in inwell:\n",
    "    if str(int(newq)) not in line:\n",
    "        well_template.append(line)\n",
    "    else:\n",
    "        well_template.append('<replace_me>\\n')"
   ]
  },
  {
   "cell_type": "code",
   "execution_count": null,
   "id": "87065dc0",
   "metadata": {},
   "outputs": [],
   "source": [
    "well_template = ' '.join(well_template)"
   ]
  },
  {
   "cell_type": "code",
   "execution_count": null,
   "id": "b38bda7d",
   "metadata": {},
   "outputs": [],
   "source": [
    "well_template.replace('<replace_me>',f'1 1 {newq:0.4f}')"
   ]
  },
  {
   "cell_type": "markdown",
   "id": "b86b76ad",
   "metadata": {},
   "source": [
    "### now we can run these by just rewriting the wel file directly and suppressing output - should be faster"
   ]
  },
  {
   "cell_type": "code",
   "execution_count": null,
   "id": "a0d70087",
   "metadata": {},
   "outputs": [],
   "source": [
    "# set the current working directory so that we can change as needed to run MF6\n",
    "cwd = os.getcwd()"
   ]
  },
  {
   "cell_type": "code",
   "execution_count": null,
   "id": "867ace37",
   "metadata": {},
   "outputs": [],
   "source": [
    "\n",
    "def run_a_well_just_mf6(layer, cellid, newq, sfr_base_obs, depletion_results_fast):\n",
    "    print(f'running layer = {layer}, cellid = {cellid}\\r', end='')\n",
    "    with open(runpath / 'project_0.wel','w') as ofp:\n",
    "        ofp.write(well_template.replace('<replace_me>',f'{layer+1:d} {cellid+1:d} {newq:0.4f}'))\n",
    "    well_cellid = (layer, cellid)\n",
    "    os.chdir(runpath)\n",
    "    os.system('mf6 > nul')\n",
    "    os.chdir(cwd)\n",
    "    sfr_test = pd.read_csv(runpath / 'sfr_obs.csv')[['GAGE1','GAGE2']]\n",
    "    depletion_results_fast.loc[well_cellid, 'Gage1'] = (sfr_base_obs.GAGE1.values-sfr_test.GAGE1.values)/newq\n",
    "    depletion_results_fast.loc[well_cellid, 'Gage2'] = (sfr_base_obs.GAGE2.values-sfr_test.GAGE2.values)/newq"
   ]
  },
  {
   "cell_type": "code",
   "execution_count": null,
   "id": "6a73c9b0",
   "metadata": {},
   "outputs": [],
   "source": [
    "depletion_results_fast = pd.DataFrame(index=pd.MultiIndex.from_tuples(cells_with_layers), \n",
    "                                      data = {'Gage1':np.nan, 'Gage2':np.nan})\n",
    "depletion_results_fast\n",
    "for lay in range(1):\n",
    "    for cid in cells_for_wells:\n",
    "        run_a_well_just_mf6(lay, cid, newq, sfr_base_obs, depletion_results_fast)"
   ]
  },
  {
   "cell_type": "code",
   "execution_count": null,
   "id": "9aeb123d",
   "metadata": {},
   "outputs": [],
   "source": [
    "depletion_results_fast"
   ]
  },
  {
   "cell_type": "code",
   "execution_count": null,
   "id": "abbfafe0",
   "metadata": {},
   "outputs": [],
   "source": [
    "l1g1 = depletion_results_fast.loc[0].Gage1.values\n",
    "l1g1[l1g1<0] = np.nan\n",
    "mm = fp.plot.PlotMapView(model= base_m)\n",
    "cb = mm.plot_array(depletion_results_fast.loc[0].Gage1.values)\n",
    "mm.plot_grid(lw=0.5, color=\"0.5\")\n",
    "plt.colorbar(cb, ax=plt.gca());\n"
   ]
  },
  {
   "cell_type": "code",
   "execution_count": null,
   "id": "16c2968e",
   "metadata": {},
   "outputs": [],
   "source": [
    "l1g2 = depletion_results_fast.loc[0].Gage2.values\n",
    "l1g2[l1g2<0] = np.nan\n",
    "mm = fp.plot.PlotMapView(model= base_m)\n",
    "cb = mm.plot_array(depletion_results_fast.loc[0].Gage2.values)\n",
    "mm.plot_grid(lw=0.5, color=\"0.5\")\n",
    "plt.colorbar(cb, ax=plt.gca());\n"
   ]
  },
  {
   "cell_type": "code",
   "execution_count": null,
   "id": "f2b5bdca",
   "metadata": {},
   "outputs": [],
   "source": []
  }
 ],
 "metadata": {
  "kernelspec": {
   "display_name": "Python 3 (ipykernel)",
   "language": "python",
   "name": "python3"
  },
  "language_info": {
   "codemirror_mode": {
    "name": "ipython",
    "version": 3
   },
   "file_extension": ".py",
   "mimetype": "text/x-python",
   "name": "python",
   "nbconvert_exporter": "python",
   "pygments_lexer": "ipython3",
   "version": "3.9.13"
  }
 },
 "nbformat": 4,
 "nbformat_minor": 5
}
