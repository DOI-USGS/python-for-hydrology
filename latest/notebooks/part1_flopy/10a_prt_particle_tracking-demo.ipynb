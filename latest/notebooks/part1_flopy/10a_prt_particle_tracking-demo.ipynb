{
 "cells": [
  {
   "cell_type": "markdown",
   "metadata": {},
   "source": [
    "# 10a: Particle tracking with MODFLOW 6 PRT\n",
    "In this exercise, we will use the MODFLOW 6 Particle Tracking (PRT) Model to simulate advective transport with a quadtree version of the Freyberg flow model. \n",
    "\n",
    "The PRT Model calculates three-dimensional, advective particle trajectories in flowing groundwater. The PRT Model is designed to work with the MODFLOW 6 Groundwater Flow (GWF) Model and uses the same spatial discretization, which may be represented using either a structured (DIS) or an unstructured (DISV) grid. The PRT Model replicates much of the functionality of MODPATH 7 and offers support for a much broader class of unstructured grids. The PRT Model can be run in the same simulation as the associated GWF Model or in a separate simulation that reads previously calculated flows from a binary budget file. Currently, the PRT Model documented does not support grids of DISU type, tracking of particles through advanced stress package features such as lakes or streams reaches, or exchange of particles between PRT models.\n",
    "\n",
    "This exercise demonstrates setting up and running the PRT Model in a separate simulation contained in a subfolder of the groundwater flow model workspace. We will also do some basic post-processing- making plots and exporting results to a GeoPackage for visualization in a GIS environment."
   ]
  },
  {
   "cell_type": "code",
   "execution_count": 1,
   "metadata": {
    "execution": {
     "iopub.execute_input": "2025-09-25T16:51:49.014984Z",
     "iopub.status.busy": "2025-09-25T16:51:49.014847Z",
     "iopub.status.idle": "2025-09-25T16:51:49.600562Z",
     "shell.execute_reply": "2025-09-25T16:51:49.600064Z"
    }
   },
   "outputs": [],
   "source": [
    "from IPython.display import clear_output, display\n",
    "import os\n",
    "from pathlib import Path\n",
    "\n",
    "import numpy as np\n",
    "import pandas as pd\n",
    "import geopandas as gpd\n",
    "import matplotlib.pyplot as plt\n",
    "from flopy.utils.gridintersect import GridIntersect\n",
    "import flopy\n"
   ]
  },
  {
   "cell_type": "markdown",
   "metadata": {},
   "source": [
    "The location of the contamination patch and the nodes that the define bounding cells of the patch are calculated below."
   ]
  },
  {
   "cell_type": "code",
   "execution_count": 2,
   "metadata": {
    "execution": {
     "iopub.execute_input": "2025-09-25T16:51:49.602359Z",
     "iopub.status.busy": "2025-09-25T16:51:49.602138Z",
     "iopub.status.idle": "2025-09-25T16:51:49.608030Z",
     "shell.execute_reply": "2025-09-25T16:51:49.607623Z"
    }
   },
   "outputs": [
    {
     "data": {
      "text/plain": [
       "((250.0, 7250.0), (750.0, 6500.0))"
      ]
     },
     "execution_count": 2,
     "metadata": {},
     "output_type": "execute_result"
    }
   ],
   "source": [
    "# patch upper left and lower right\n",
    "xmin, xmax = 250. * 1, 250. * 3\n",
    "ymin, ymax = (40 - 14) * 250., (40 - 11) * 250. \n",
    "\n",
    "csx, csy = [xmin, xmin, xmax, xmax, xmin], [ymin, ymax, ymax, ymin, ymin]\n",
    "polygon = [list(zip(csx, csy))]\n",
    "(xmin, ymax), (xmax, ymin)"
   ]
  },
  {
   "cell_type": "markdown",
   "metadata": {},
   "source": [
    "--------------------------\n",
    "\n",
    "### Define the workspace, model names and key options."
   ]
  },
  {
   "cell_type": "code",
   "execution_count": 3,
   "metadata": {
    "execution": {
     "iopub.execute_input": "2025-09-25T16:51:49.609413Z",
     "iopub.status.busy": "2025-09-25T16:51:49.609251Z",
     "iopub.status.idle": "2025-09-25T16:51:49.612438Z",
     "shell.execute_reply": "2025-09-25T16:51:49.611939Z"
    }
   },
   "outputs": [],
   "source": [
    "load_ws = Path('data/quadtree')\n",
    "gwf_ws = Path(\"temp/ex10a\")\n",
    "gwf_name = \"project\"\n",
    "#name_mp = f\"{name}_mp\"\n",
    "exe_name = 'mf6'\n",
    "\n",
    "# flow model output files to use with PRT\n",
    "headfile = f\"{gwf_name}.hds\"\n",
    "budgetfile = f\"{gwf_name}.cbc\"\n",
    "\n",
    "prt_name = f\"{gwf_name}-prt\"\n",
    "prt_model_ws = gwf_ws / 'prt'\n",
    "\n",
    "# PRT output files\n",
    "budgetfile_prt = f\"{prt_name}.cbc\"\n",
    "trackfile_prt = f\"{prt_name}.trk\"\n",
    "trackcsvfile_prt = f\"{prt_name}.trk.csv\"\n",
    "\n",
    "# if using \"local_z\" option\n",
    "# 1=start particles at top of cell\n",
    "# 0=start particles at bottom of cell\n",
    "# 1 resulted in Error: release point (z=29.899951638778955) is above grid top 29.886768340000000\n",
    "particle_release_zrpt = .99\n"
   ]
  },
  {
   "cell_type": "markdown",
   "metadata": {},
   "source": [
    "## Load the MODFLOW 6 Model\n",
    "\n",
    "Load a simulation object using `flopy.mf6.MFSimulation().load()`."
   ]
  },
  {
   "cell_type": "code",
   "execution_count": 4,
   "metadata": {
    "execution": {
     "iopub.execute_input": "2025-09-25T16:51:49.613742Z",
     "iopub.status.busy": "2025-09-25T16:51:49.613594Z",
     "iopub.status.idle": "2025-09-25T16:51:50.397476Z",
     "shell.execute_reply": "2025-09-25T16:51:50.396921Z"
    }
   },
   "outputs": [],
   "source": [
    "%%capture\n",
    "sim = flopy.mf6.MFSimulation.load(sim_name=gwf_name, exe_name=exe_name,\n",
    "                                  sim_ws=load_ws)"
   ]
  },
  {
   "cell_type": "markdown",
   "metadata": {},
   "source": [
    "### Load the groundwater flow model"
   ]
  },
  {
   "cell_type": "code",
   "execution_count": 5,
   "metadata": {
    "execution": {
     "iopub.execute_input": "2025-09-25T16:51:50.399199Z",
     "iopub.status.busy": "2025-09-25T16:51:50.399020Z",
     "iopub.status.idle": "2025-09-25T16:51:50.403113Z",
     "shell.execute_reply": "2025-09-25T16:51:50.402708Z"
    }
   },
   "outputs": [
    {
     "data": {
      "text/plain": [
       "xll:0.0; yll:0.0; rotation:0.0; units:meters; lenuni:2"
      ]
     },
     "execution_count": 5,
     "metadata": {},
     "output_type": "execute_result"
    }
   ],
   "source": [
    "gwf = sim.get_model(gwf_name)\n",
    "gwf.modelgrid"
   ]
  },
  {
   "cell_type": "markdown",
   "metadata": {},
   "source": [
    "### Change the workspace"
   ]
  },
  {
   "cell_type": "code",
   "execution_count": 6,
   "metadata": {
    "execution": {
     "iopub.execute_input": "2025-09-25T16:51:50.404370Z",
     "iopub.status.busy": "2025-09-25T16:51:50.404236Z",
     "iopub.status.idle": "2025-09-25T16:51:50.406596Z",
     "shell.execute_reply": "2025-09-25T16:51:50.406230Z"
    }
   },
   "outputs": [],
   "source": [
    "sim.set_sim_path(gwf_ws)"
   ]
  },
  {
   "cell_type": "markdown",
   "metadata": {},
   "source": [
    "### Add ``save_saturation`` and ``save_flows`` to the NPF Package\n",
    "(required for PRT)"
   ]
  },
  {
   "cell_type": "code",
   "execution_count": 7,
   "metadata": {
    "execution": {
     "iopub.execute_input": "2025-09-25T16:51:50.407826Z",
     "iopub.status.busy": "2025-09-25T16:51:50.407682Z",
     "iopub.status.idle": "2025-09-25T16:51:50.410000Z",
     "shell.execute_reply": "2025-09-25T16:51:50.409593Z"
    }
   },
   "outputs": [],
   "source": [
    "gwf.npf.save_saturation = True\n",
    "gwf.npf.save_flows = True"
   ]
  },
  {
   "cell_type": "markdown",
   "metadata": {},
   "source": [
    "### Write the model files"
   ]
  },
  {
   "cell_type": "code",
   "execution_count": 8,
   "metadata": {
    "execution": {
     "iopub.execute_input": "2025-09-25T16:51:50.411277Z",
     "iopub.status.busy": "2025-09-25T16:51:50.411140Z",
     "iopub.status.idle": "2025-09-25T16:51:50.930618Z",
     "shell.execute_reply": "2025-09-25T16:51:50.930121Z"
    }
   },
   "outputs": [],
   "source": [
    "%%capture\n",
    "sim.write_simulation()"
   ]
  },
  {
   "cell_type": "markdown",
   "metadata": {},
   "source": [
    "Run the simulation."
   ]
  },
  {
   "cell_type": "code",
   "execution_count": 9,
   "metadata": {
    "execution": {
     "iopub.execute_input": "2025-09-25T16:51:50.931995Z",
     "iopub.status.busy": "2025-09-25T16:51:50.931845Z",
     "iopub.status.idle": "2025-09-25T16:51:51.337790Z",
     "shell.execute_reply": "2025-09-25T16:51:51.337369Z"
    }
   },
   "outputs": [
    {
     "name": "stdout",
     "output_type": "stream",
     "text": [
      "FloPy is using the following executable to run the model: ../../../../../../../../../.local/bin/mf6\n",
      "                                   MODFLOW 6\n",
      "                U.S. GEOLOGICAL SURVEY MODULAR HYDROLOGIC MODEL\n",
      "                            VERSION 6.6.2 05/12/2025\n",
      "\n",
      "   MODFLOW 6 compiled May 24 2025 11:41:46 with Intel(R) Fortran Intel(R) 64\n",
      "   Compiler Classic for applications running on Intel(R) 64, Version 2021.7.0\n",
      "                             Build 20220726_000000\n",
      "\n",
      "This software has been approved for release by the U.S. Geological \n",
      "Survey (USGS). Although the software has been subjected to rigorous \n",
      "review, the USGS reserves the right to update the software as needed \n",
      "pursuant to further analysis and review. No warranty, expressed or \n",
      "implied, is made by the USGS or the U.S. Government as to the \n",
      "functionality of the software and related material nor shall the \n",
      "fact of release constitute any such warranty. Furthermore, the \n",
      "software is released on condition that neither the USGS nor the U.S. \n",
      "Government shall be held liable for any damages resulting from its \n",
      "authorized or unauthorized use. Also refer to the USGS Water \n",
      "Resources Software User Rights Notice for complete use, copyright, \n",
      "and distribution information.\n",
      "\n",
      " \n",
      " MODFLOW runs in SEQUENTIAL mode\n",
      " \n",
      " Run start date and time (yyyy/mm/dd hh:mm:ss): 2025/09/25 16:51:50\n",
      " \n",
      " Writing simulation list file: mfsim.lst\n",
      " Using Simulation name file: mfsim.nam\n",
      " \n",
      "    Solving:  Stress period:     1    Time step:     1\n"
     ]
    },
    {
     "name": "stdout",
     "output_type": "stream",
     "text": [
      " \n",
      " Run end date and time (yyyy/mm/dd hh:mm:ss): 2025/09/25 16:51:51\n",
      " Elapsed run time:  0.398 Seconds\n",
      " \n",
      "\n",
      "WARNING REPORT:\n",
      "\n",
      "  1. OPTIONS BLOCK VARIABLE 'UNIT_CONVERSION' IN FILE 'project.sfr' WAS\n",
      "     DEPRECATED IN VERSION 6.4.2. SETTING UNIT_CONVERSION DIRECTLY.\n",
      " Normal termination of simulation.\n"
     ]
    },
    {
     "data": {
      "text/plain": [
       "(True, [])"
      ]
     },
     "execution_count": 9,
     "metadata": {},
     "output_type": "execute_result"
    }
   ],
   "source": [
    "sim.run_simulation()"
   ]
  },
  {
   "cell_type": "markdown",
   "metadata": {},
   "source": [
    "## Create and Run the PRT model"
   ]
  },
  {
   "cell_type": "markdown",
   "metadata": {},
   "source": [
    "### Plot the model grid and the location of the contamination patch"
   ]
  },
  {
   "cell_type": "code",
   "execution_count": 10,
   "metadata": {
    "execution": {
     "iopub.execute_input": "2025-09-25T16:51:51.339233Z",
     "iopub.status.busy": "2025-09-25T16:51:51.339075Z",
     "iopub.status.idle": "2025-09-25T16:51:51.933135Z",
     "shell.execute_reply": "2025-09-25T16:51:51.932597Z"
    }
   },
   "outputs": [
    {
     "data": {
      "image/png": "[encoded data removed]",
      "text/plain": [
       "<Figure size 500x900 with 1 Axes>"
      ]
     },
     "metadata": {},
     "output_type": "display_data"
    }
   ],
   "source": [
    "fig, ax = plt.subplots(figsize=(5, 9))\n",
    "mm = flopy.plot.PlotMapView(gwf, layer=0, ax=ax)\n",
    "\n",
    "mm.plot_bc('SFR', color=\"b\", plotAll=True)\n",
    "mm.plot_bc('WEL', plotAll=True)\n",
    "mm.plot_inactive(alpha=0.75)\n",
    "\n",
    "mm.plot_grid(lw=0.25, color='grey')\n",
    "\n",
    "ax.fill(csx, csy, color='#e534eb');"
   ]
  },
  {
   "cell_type": "markdown",
   "metadata": {},
   "source": [
    "### Get the model cells intersecting the contamination patch\n",
    "The `GridIntersect` utility in Flopy has an `intersect` method that can find the model cells intersecting a set of points, lines, or polygons. Since this is a DISV grid, these will be ``cell2d`` values (that are the same across the model layers). Similarly, for a structured grid, `GridIntersect` would return row, column locations."
   ]
  },
  {
   "cell_type": "code",
   "execution_count": 11,
   "metadata": {
    "execution": {
     "iopub.execute_input": "2025-09-25T16:51:51.934607Z",
     "iopub.status.busy": "2025-09-25T16:51:51.934450Z",
     "iopub.status.idle": "2025-09-25T16:51:52.014895Z",
     "shell.execute_reply": "2025-09-25T16:51:52.014411Z"
    }
   },
   "outputs": [
    {
     "data": {
      "text/plain": [
       "array([1352, 1353, 1459, 1460, 1581, 1582])"
      ]
     },
     "execution_count": 11,
     "metadata": {},
     "output_type": "execute_result"
    }
   ],
   "source": [
    "gx = GridIntersect(gwf.modelgrid)\n",
    "results = gx.intersect(polygon, 'Polygon')\n",
    "particle_start_nodes = results.cellids.astype(int)\n",
    "particle_start_nodes"
   ]
  },
  {
   "cell_type": "markdown",
   "metadata": {},
   "source": [
    "### Instantiate the MODFLOW 6 prt model\n",
    "and discretization packages"
   ]
  },
  {
   "cell_type": "code",
   "execution_count": 12,
   "metadata": {
    "execution": {
     "iopub.execute_input": "2025-09-25T16:51:52.016238Z",
     "iopub.status.busy": "2025-09-25T16:51:52.016091Z",
     "iopub.status.idle": "2025-09-25T16:51:52.034365Z",
     "shell.execute_reply": "2025-09-25T16:51:52.033858Z"
    }
   },
   "outputs": [],
   "source": [
    "prt_sim = flopy.mf6.MFSimulation(sim_name=prt_name, sim_ws=prt_model_ws)\n",
    "\n",
    "# Instantiate the MODFLOW 6 temporal discretization package\n",
    "flopy.mf6.modflow.mftdis.ModflowTdis(\n",
    "    prt_sim,\n",
    "    time_units=\"DAYS\",\n",
    "    nper=1,\n",
    "    perioddata=[(1, 1, 1)],  # perlen, nstp, tsmult\n",
    ")\n",
    "prt = flopy.mf6.ModflowPrt(\n",
    "    prt_sim, modelname=prt_name, model_nam_file=f\"{prt_name}.nam\"\n",
    ")\n",
    "\n",
    "# Instantiate the MODFLOW 6 prt discretization package\n",
    "nlay, ncells_per_layer = gwf.dis.botm.array.shape\n",
    "disv = flopy.mf6.ModflowGwfdisv(\n",
    "    prt,\n",
    "    nlay=nlay,\n",
    "    ncpl=gwf.dis.ncpl.array,\n",
    "    nvert=gwf.dis.nvert.array,\n",
    "    length_units=gwf.dis.length_units.array,\n",
    "    top=gwf.dis.top.array,\n",
    "    botm=gwf.dis.botm.array,\n",
    "    vertices=gwf.dis.vertices.array,\n",
    "    cell2d=gwf.dis.cell2d.array,\n",
    "    idomain=gwf.dis.idomain.array,\n",
    "    xorigin=gwf.dis.xorigin.array,\n",
    "    yorigin=gwf.dis.yorigin.array,\n",
    ")"
   ]
  },
  {
   "cell_type": "markdown",
   "metadata": {},
   "source": [
    "### Instantiate the MODFLOW 6 PRT Model Input Package.\n",
    "\n",
    "**First make an ``izone`` array** with a zone number for each cell. The \"izone\" for the model cell will be reported in the PRT output, allowing us to more easily track where particles go, and where they ultimately discharge. For example, if we start particles at the water table, we can determine the contributing area for a stream or other boundary condition, by assigning an izone to those cells. One of the izone numbers can be designated as an ``istopzone``; particles entering this zone will be terminated regardless of whether the zone is a strong sink or not.\n",
    "\n",
    "In this example, we'll assign different izone numbers to SFR and Well Package cells."
   ]
  },
  {
   "cell_type": "code",
   "execution_count": 13,
   "metadata": {
    "execution": {
     "iopub.execute_input": "2025-09-25T16:51:52.035637Z",
     "iopub.status.busy": "2025-09-25T16:51:52.035492Z",
     "iopub.status.idle": "2025-09-25T16:51:52.038601Z",
     "shell.execute_reply": "2025-09-25T16:51:52.038206Z"
    }
   },
   "outputs": [],
   "source": [
    "# start with a default zone of 0\n",
    "izone_array = np.zeros((nlay, ncells_per_layer), dtype=int)\n",
    "\n",
    "# get the locations of SFR cells\n",
    "sfr_k, sfr_cellid = zip(*gwf.sfr.packagedata.array['cellid'])\n",
    "sfr_k[:10], sfr_cellid[:10]\n",
    "\n",
    "izones = {\n",
    "    'wel': 1,\n",
    "    'sfr': 2\n",
    "}"
   ]
  },
  {
   "cell_type": "markdown",
   "metadata": {},
   "source": [
    "**Assign SFR cells to zone 2**"
   ]
  },
  {
   "cell_type": "code",
   "execution_count": 14,
   "metadata": {
    "execution": {
     "iopub.execute_input": "2025-09-25T16:51:52.039831Z",
     "iopub.status.busy": "2025-09-25T16:51:52.039683Z",
     "iopub.status.idle": "2025-09-25T16:51:52.042134Z",
     "shell.execute_reply": "2025-09-25T16:51:52.041757Z"
    }
   },
   "outputs": [],
   "source": [
    "izone_array[sfr_k, sfr_cellid] = izones['sfr']"
   ]
  },
  {
   "cell_type": "markdown",
   "metadata": {},
   "source": [
    "**Assign wells to zone 1**\n",
    "Using the stress period data. Note that in models with more than one stress period, different wells may be represented in different stress periods."
   ]
  },
  {
   "cell_type": "code",
   "execution_count": 15,
   "metadata": {
    "execution": {
     "iopub.execute_input": "2025-09-25T16:51:52.043437Z",
     "iopub.status.busy": "2025-09-25T16:51:52.043292Z",
     "iopub.status.idle": "2025-09-25T16:51:52.047719Z",
     "shell.execute_reply": "2025-09-25T16:51:52.047344Z"
    }
   },
   "outputs": [],
   "source": [
    "well_k = list()\n",
    "well_cellid = list()\n",
    "for per, recarray in gwf.wel.stress_period_data.data.items():\n",
    "    well_k_per, well_cellid_per = zip(*recarray['cellid'])\n",
    "    well_k.append(well_k_per)\n",
    "    well_cellid.append(well_cellid_per)\n",
    "\n",
    "izone_array[well_k, well_cellid] = izones['wel']"
   ]
  },
  {
   "cell_type": "markdown",
   "metadata": {},
   "source": [
    "**Make the package**"
   ]
  },
  {
   "cell_type": "code",
   "execution_count": 16,
   "metadata": {
    "execution": {
     "iopub.execute_input": "2025-09-25T16:51:52.048967Z",
     "iopub.status.busy": "2025-09-25T16:51:52.048831Z",
     "iopub.status.idle": "2025-09-25T16:51:52.054098Z",
     "shell.execute_reply": "2025-09-25T16:51:52.053594Z"
    }
   },
   "outputs": [
    {
     "data": {
      "text/plain": [
       "package_name = mip\n",
       "filename = project-prt.mip\n",
       "package_type = mip\n",
       "model_or_simulation_package = model\n",
       "model_name = project-prt\n",
       "\n",
       "Block griddata\n",
       "--------------------\n",
       "porosity\n",
       "{constant 0.1}\n",
       "\n",
       "izone\n",
       "Layer_1{internal}\n",
       "(array([0, 0, 0, ..., 0, 0, 0], shape=(5108,), dtype=int32))\n",
       "Layer_2{internal}\n",
       "(array([0, 0, 0, ..., 0, 0, 0], shape=(5108,), dtype=int32))\n",
       "Layer_3{internal}\n",
       "(array([0, 0, 0, ..., 0, 0, 0], shape=(5108,), dtype=int32))\n",
       "\n"
      ]
     },
     "execution_count": 16,
     "metadata": {},
     "output_type": "execute_result"
    }
   ],
   "source": [
    "flopy.mf6.ModflowPrtmip(prt,\n",
    "                        porosity=0.1, \n",
    "                        izone=izone_array\n",
    "                        )   "
   ]
  },
  {
   "cell_type": "markdown",
   "metadata": {},
   "source": [
    "### Create the particle start data\n",
    "From the nodes intersecting the polygon we made above, develop a DataFrame of particle start locations. For simplicity, we are just starting a single particle in each cell, but since the x and y are in local (model) coordinates, it would be fairly straightforward to start multiple particles in each cell on a finer spacing. "
   ]
  },
  {
   "cell_type": "code",
   "execution_count": 17,
   "metadata": {
    "execution": {
     "iopub.execute_input": "2025-09-25T16:51:52.055454Z",
     "iopub.status.busy": "2025-09-25T16:51:52.055305Z",
     "iopub.status.idle": "2025-09-25T16:51:52.064508Z",
     "shell.execute_reply": "2025-09-25T16:51:52.064030Z"
    }
   },
   "outputs": [
    {
     "data": {
      "text/html": [
       "<div>\n",
       "<style scoped>\n",
       "    .dataframe tbody tr th:only-of-type {\n",
       "        vertical-align: middle;\n",
       "    }\n",
       "\n",
       "    .dataframe tbody tr th {\n",
       "        vertical-align: top;\n",
       "    }\n",
       "\n",
       "    .dataframe thead th {\n",
       "        text-align: right;\n",
       "    }\n",
       "</style>\n",
       "<table border=\"1\" class=\"dataframe\">\n",
       "  <thead>\n",
       "    <tr style=\"text-align: right;\">\n",
       "      <th></th>\n",
       "      <th>irptno</th>\n",
       "      <th>k</th>\n",
       "      <th>cell2d</th>\n",
       "      <th>xrpt</th>\n",
       "      <th>yrpt</th>\n",
       "      <th>zrpt</th>\n",
       "      <th>boundname</th>\n",
       "    </tr>\n",
       "  </thead>\n",
       "  <tbody>\n",
       "    <tr>\n",
       "      <th>0</th>\n",
       "      <td>0</td>\n",
       "      <td>0</td>\n",
       "      <td>1352</td>\n",
       "      <td>375.0</td>\n",
       "      <td>7125.0</td>\n",
       "      <td>0.99</td>\n",
       "      <td>prt_1352</td>\n",
       "    </tr>\n",
       "    <tr>\n",
       "      <th>1</th>\n",
       "      <td>1</td>\n",
       "      <td>0</td>\n",
       "      <td>1353</td>\n",
       "      <td>625.0</td>\n",
       "      <td>7125.0</td>\n",
       "      <td>0.99</td>\n",
       "      <td>prt_1353</td>\n",
       "    </tr>\n",
       "    <tr>\n",
       "      <th>2</th>\n",
       "      <td>2</td>\n",
       "      <td>0</td>\n",
       "      <td>1459</td>\n",
       "      <td>375.0</td>\n",
       "      <td>6875.0</td>\n",
       "      <td>0.99</td>\n",
       "      <td>prt_1459</td>\n",
       "    </tr>\n",
       "    <tr>\n",
       "      <th>3</th>\n",
       "      <td>3</td>\n",
       "      <td>0</td>\n",
       "      <td>1460</td>\n",
       "      <td>625.0</td>\n",
       "      <td>6875.0</td>\n",
       "      <td>0.99</td>\n",
       "      <td>prt_1460</td>\n",
       "    </tr>\n",
       "    <tr>\n",
       "      <th>4</th>\n",
       "      <td>4</td>\n",
       "      <td>0</td>\n",
       "      <td>1581</td>\n",
       "      <td>375.0</td>\n",
       "      <td>6625.0</td>\n",
       "      <td>0.99</td>\n",
       "      <td>prt_1581</td>\n",
       "    </tr>\n",
       "    <tr>\n",
       "      <th>5</th>\n",
       "      <td>5</td>\n",
       "      <td>0</td>\n",
       "      <td>1582</td>\n",
       "      <td>625.0</td>\n",
       "      <td>6625.0</td>\n",
       "      <td>0.99</td>\n",
       "      <td>prt_1582</td>\n",
       "    </tr>\n",
       "  </tbody>\n",
       "</table>\n",
       "</div>"
      ],
      "text/plain": [
       "   irptno  k  cell2d   xrpt    yrpt  zrpt boundname\n",
       "0       0  0    1352  375.0  7125.0  0.99  prt_1352\n",
       "1       1  0    1353  625.0  7125.0  0.99  prt_1353\n",
       "2       2  0    1459  375.0  6875.0  0.99  prt_1459\n",
       "3       3  0    1460  625.0  6875.0  0.99  prt_1460\n",
       "4       4  0    1581  375.0  6625.0  0.99  prt_1581\n",
       "5       5  0    1582  625.0  6625.0  0.99  prt_1582"
      ]
     },
     "execution_count": 17,
     "metadata": {},
     "output_type": "execute_result"
    }
   ],
   "source": [
    "# release particles at each row, column location\n",
    "prt_start_x, prt_start_y = gwf.modelgrid.get_local_coords(\n",
    "    gwf.modelgrid.xcellcenters[particle_start_nodes], \n",
    "    gwf.modelgrid.ycellcenters[particle_start_nodes])\n",
    "\n",
    "prt_start_data = pd.DataFrame({\n",
    "    'irptno': np.arange(len(prt_start_x.ravel())),\n",
    "    'k': 0,\n",
    "    'cell2d': particle_start_nodes,\n",
    "    'xrpt': prt_start_x.ravel(),\n",
    "    'yrpt': prt_start_y.ravel(),\n",
    "    # start particles near top of saturation in cell with local_z=True\n",
    "    'zrpt': particle_release_zrpt, #[1] * len(prt_i) ,\n",
    "    # generic boundname for now;\n",
    "    # could be used to differentiate source areas\n",
    "    'boundname': [f'prt_{cell2d}' for cell2d in particle_start_nodes]\n",
    "})\n",
    "#prt_start_data = prt_particle_data\n",
    "prt_start_data"
   ]
  },
  {
   "cell_type": "markdown",
   "metadata": {},
   "source": [
    "Alternatively, the [Modflow 6 Examples](https://github.com/MODFLOW-ORG/modflow6-examples/blob/develop/scripts/ex-prt-mp7-p02.py) illustrate functionality in Flopy to generate evenly spaced particles along cell faces for MODPATH models, and then convert the results to PRT format (if you can get it to work; search the MODFLOW 6 Examples repository for \"``ModflowPrtprp``\")"
   ]
  },
  {
   "cell_type": "code",
   "execution_count": 18,
   "metadata": {
    "execution": {
     "iopub.execute_input": "2025-09-25T16:51:52.065882Z",
     "iopub.status.busy": "2025-09-25T16:51:52.065734Z",
     "iopub.status.idle": "2025-09-25T16:51:52.196273Z",
     "shell.execute_reply": "2025-09-25T16:51:52.195813Z"
    }
   },
   "outputs": [
    {
     "data": {
      "text/plain": [
       "[(0,\n",
       "  (0, 1352),\n",
       "  np.float64(291.6666666666667),\n",
       "  np.float64(7041.666666666667),\n",
       "  np.float64(25.157748113333334)),\n",
       " (1,\n",
       "  (0, 1352),\n",
       "  np.float64(375.0),\n",
       "  np.float64(7041.666666666667),\n",
       "  np.float64(25.157748113333334)),\n",
       " (2,\n",
       "  (0, 1352),\n",
       "  np.float64(458.33333333333337),\n",
       "  np.float64(7041.666666666667),\n",
       "  np.float64(25.157748113333334)),\n",
       " (3,\n",
       "  (0, 1352),\n",
       "  np.float64(291.6666666666667),\n",
       "  np.float64(7125.0),\n",
       "  np.float64(25.157748113333334)),\n",
       " (4,\n",
       "  (0, 1352),\n",
       "  np.float64(375.0),\n",
       "  np.float64(7125.0),\n",
       "  np.float64(25.157748113333334)),\n",
       " (5,\n",
       "  (0, 1352),\n",
       "  np.float64(458.33333333333337),\n",
       "  np.float64(7125.0),\n",
       "  np.float64(25.157748113333334)),\n",
       " (6,\n",
       "  (0, 1352),\n",
       "  np.float64(291.6666666666667),\n",
       "  np.float64(7208.333333333334),\n",
       "  np.float64(25.157748113333334)),\n",
       " (7,\n",
       "  (0, 1352),\n",
       "  np.float64(375.0),\n",
       "  np.float64(7208.333333333334),\n",
       "  np.float64(25.157748113333334)),\n",
       " (8,\n",
       "  (0, 1352),\n",
       "  np.float64(458.33333333333337),\n",
       "  np.float64(7208.333333333334),\n",
       "  np.float64(25.157748113333334)),\n",
       " (9,\n",
       "  (0, 1352),\n",
       "  np.float64(291.6666666666667),\n",
       "  np.float64(7041.666666666667),\n",
       "  np.float64(26.95494016)),\n",
       " (10,\n",
       "  (0, 1352),\n",
       "  np.float64(375.0),\n",
       "  np.float64(7041.666666666667),\n",
       "  np.float64(26.95494016)),\n",
       " (11,\n",
       "  (0, 1352),\n",
       "  np.float64(458.33333333333337),\n",
       "  np.float64(7041.666666666667),\n",
       "  np.float64(26.95494016)),\n",
       " (12,\n",
       "  (0, 1352),\n",
       "  np.float64(291.6666666666667),\n",
       "  np.float64(7125.0),\n",
       "  np.float64(26.95494016)),\n",
       " (13,\n",
       "  (0, 1352),\n",
       "  np.float64(375.0),\n",
       "  np.float64(7125.0),\n",
       "  np.float64(26.95494016)),\n",
       " (14,\n",
       "  (0, 1352),\n",
       "  np.float64(458.33333333333337),\n",
       "  np.float64(7125.0),\n",
       "  np.float64(26.95494016)),\n",
       " (15,\n",
       "  (0, 1352),\n",
       "  np.float64(291.6666666666667),\n",
       "  np.float64(7208.333333333334),\n",
       "  np.float64(26.95494016)),\n",
       " (16,\n",
       "  (0, 1352),\n",
       "  np.float64(375.0),\n",
       "  np.float64(7208.333333333334),\n",
       "  np.float64(26.95494016)),\n",
       " (17,\n",
       "  (0, 1352),\n",
       "  np.float64(458.33333333333337),\n",
       "  np.float64(7208.333333333334),\n",
       "  np.float64(26.95494016)),\n",
       " (18,\n",
       "  (0, 1352),\n",
       "  np.float64(291.6666666666667),\n",
       "  np.float64(7041.666666666667),\n",
       "  np.float64(28.752132206666666)),\n",
       " (19,\n",
       "  (0, 1352),\n",
       "  np.float64(375.0),\n",
       "  np.float64(7041.666666666667),\n",
       "  np.float64(28.752132206666666)),\n",
       " (20,\n",
       "  (0, 1352),\n",
       "  np.float64(458.33333333333337),\n",
       "  np.float64(7041.666666666667),\n",
       "  np.float64(28.752132206666666)),\n",
       " (21,\n",
       "  (0, 1352),\n",
       "  np.float64(291.6666666666667),\n",
       "  np.float64(7125.0),\n",
       "  np.float64(28.752132206666666)),\n",
       " (22,\n",
       "  (0, 1352),\n",
       "  np.float64(375.0),\n",
       "  np.float64(7125.0),\n",
       "  np.float64(28.752132206666666)),\n",
       " (23,\n",
       "  (0, 1352),\n",
       "  np.float64(458.33333333333337),\n",
       "  np.float64(7125.0),\n",
       "  np.float64(28.752132206666666)),\n",
       " (24,\n",
       "  (0, 1352),\n",
       "  np.float64(291.6666666666667),\n",
       "  np.float64(7208.333333333334),\n",
       "  np.float64(28.752132206666666)),\n",
       " (25,\n",
       "  (0, 1352),\n",
       "  np.float64(375.0),\n",
       "  np.float64(7208.333333333334),\n",
       "  np.float64(28.752132206666666)),\n",
       " (26,\n",
       "  (0, 1352),\n",
       "  np.float64(458.33333333333337),\n",
       "  np.float64(7208.333333333334),\n",
       "  np.float64(28.752132206666666))]"
      ]
     },
     "execution_count": 18,
     "metadata": {},
     "output_type": "execute_result"
    }
   ],
   "source": [
    "sd = flopy.modpath.CellDataType()\n",
    "mp7_particle_data = flopy.modpath.NodeParticleData(subdivisiondata=[sd],\n",
    "                                   nodes=list(particle_start_nodes))\n",
    "prt_particle_data = list(mp7_particle_data.to_prp(prt.modelgrid))\n",
    "prt_particle_data"
   ]
  },
  {
   "cell_type": "markdown",
   "metadata": {},
   "source": [
    "### Instantiate the MODFLOW 6 prt particle release point (PRP) package\n",
    "\n",
    "**Notes:**\n",
    "\n",
    "``local_z``—indicates that “zrpt” [in the particle start data] defines the local z coordinate of the release point within the cell, with value of 0\n",
    "at the bottom and 1 at the top of the cell. If the cell is partially saturated at release time, the top of the cell is\n",
    "considered to be the water table elevation (the head in the cell) rather than the top defined by the user.  \n",
    "\n",
    "``istopzone``—integer value defining the stop zone number. If cells have been assigned IZONE values in the\n",
    "GRIDDATA block, a particle terminates if it enters a cell whose IZONE value matches ISTOPZONE. An\n",
    "ISTOPZONE value of zero indicates that there is no stop zone. The default value is zero. This way we can allow weak sinks but have exceptions where the particles will stop anyways.  \n",
    "\n",
    "See the MODFLOW 6 Description of Input and Output for more options\n"
   ]
  },
  {
   "cell_type": "code",
   "execution_count": 19,
   "metadata": {
    "execution": {
     "iopub.execute_input": "2025-09-25T16:51:52.197713Z",
     "iopub.status.busy": "2025-09-25T16:51:52.197572Z",
     "iopub.status.idle": "2025-09-25T16:51:52.208962Z",
     "shell.execute_reply": "2025-09-25T16:51:52.208464Z"
    }
   },
   "outputs": [
    {
     "data": {
      "text/plain": [
       "package_name = prp_0\n",
       "filename = project-prt.prp\n",
       "package_type = prp\n",
       "model_or_simulation_package = model\n",
       "model_name = project-prt\n",
       "\n",
       "Block options\n",
       "--------------------\n",
       "boundnames\n",
       "{internal}\n",
       "(True)\n",
       "\n",
       "exit_solve_tolerance\n",
       "{internal}\n",
       "(1e-05)\n",
       "\n",
       "local_z\n",
       "{internal}\n",
       "(True)\n",
       "\n",
       "extend_tracking\n",
       "{internal}\n",
       "(True)\n",
       "\n",
       "\n",
       "Block dimensions\n",
       "--------------------\n",
       "nreleasepts\n",
       "{internal}\n",
       "(6)\n",
       "\n",
       "\n",
       "Block packagedata\n",
       "--------------------\n",
       "packagedata\n",
       "{internal}\n",
       "(rec.array([(0, (0, 1352), 375., 7125., 0.99, 'prt_1352'),\n",
       "           (1, (0, 1353), 625., 7125., 0.99, 'prt_1353'),\n",
       "           (2, (0, 1459), 375., 6875., 0.99, 'prt_1459'),\n",
       "           (3, (0, 1460), 625., 6875., 0.99, 'prt_1460'),\n",
       "           (4, (0, 1581), 375., 6625., 0.99, 'prt_1581'),\n",
       "           (5, (0, 1582), 625., 6625., 0.99, 'prt_1582')],\n",
       "          dtype=[('irptno', '<i8'), ('cellid', 'O'), ('xrpt', '<f8'), ('yrpt', '<f8'), ('zrpt', '<f8'), ('boundname', 'O')]))\n",
       "\n",
       "\n",
       "Block period\n",
       "--------------------\n",
       "perioddata\n",
       "{internal}\n",
       "(rec.array([('FIRST', None)],\n",
       "          dtype=[('releasesetting', 'O'), ('releasesetting_data', 'O')]))\n",
       "\n"
      ]
     },
     "execution_count": 19,
     "metadata": {},
     "output_type": "execute_result"
    }
   ],
   "source": [
    "flopy.mf6.ModflowPrtprp(\n",
    "    prt,\n",
    "    nreleasepts=len(prt_start_data),\n",
    "    packagedata=prt_start_data.to_records(index=False).tolist(),\n",
    "    local_z=True,\n",
    "    boundnames=True,\n",
    "    perioddata={0: [\"FIRST\"]},\n",
    "    exit_solve_tolerance=1e-5,\n",
    "    extend_tracking=True,\n",
    "    #istopzone=istopzone\n",
    ")"
   ]
  },
  {
   "cell_type": "markdown",
   "metadata": {},
   "source": [
    "### Instantiate the MODFLOW 6 PRT output control package\n",
    "\n",
    "**Notes:**\n",
    "PRT outputs a record each time a:\n",
    "    0: particle was released\n",
    "    1: particle exited a cell\n",
    "    2: time step ended\n",
    "    3: particle terminated\n",
    "    4: particle entered a weak sink cell\n",
    "    5: user-specified tracking time\n",
    "    \n",
    "The code below shows how to input user-specified tracking times to Flopy. Depending on the problem, this may not be necessary in a real-world context, as there may already be many records from particles exiting cells. Therefore, `tracktimes=None` (no user-specified times) is ultimately input to Flopy."
   ]
  },
  {
   "cell_type": "code",
   "execution_count": 20,
   "metadata": {
    "execution": {
     "iopub.execute_input": "2025-09-25T16:51:52.210279Z",
     "iopub.status.busy": "2025-09-25T16:51:52.210132Z",
     "iopub.status.idle": "2025-09-25T16:51:52.219466Z",
     "shell.execute_reply": "2025-09-25T16:51:52.219085Z"
    }
   },
   "outputs": [
    {
     "data": {
      "text/plain": [
       "package_name = oc\n",
       "filename = project-prt.oc\n",
       "package_type = oc\n",
       "model_or_simulation_package = model\n",
       "model_name = project-prt\n",
       "\n",
       "Block options\n",
       "--------------------\n",
       "budget_filerecord\n",
       "{internal}\n",
       "(rec.array([('project-prt.cbc',)],\n",
       "          dtype=[('budgetfile', 'O')]))\n",
       "\n",
       "track_filerecord\n",
       "{internal}\n",
       "(rec.array([('project-prt.trk',)],\n",
       "          dtype=[('trackfile', 'O')]))\n",
       "\n",
       "trackcsv_filerecord\n",
       "{internal}\n",
       "(rec.array([('project-prt.trk.csv',)],\n",
       "          dtype=[('trackcsvfile', 'O')]))\n",
       "\n",
       "\n",
       "Block dimensions\n",
       "--------------------\n",
       "ntracktimes\n",
       "{internal}\n",
       "(0)\n",
       "\n",
       "\n",
       "Block period\n",
       "--------------------\n",
       "saverecord\n",
       "{internal}\n",
       "(rec.array([('BUDGET', 'ALL', None)],\n",
       "          dtype=[('rtype', 'O'), ('ocsetting', 'O'), ('ocsetting_data', 'O')]))\n",
       "\n",
       "printrecord\n",
       "None\n"
      ]
     },
     "execution_count": 20,
     "metadata": {},
     "output_type": "execute_result"
    }
   ],
   "source": [
    "budget_record = [budgetfile_prt]\n",
    "track_record = [trackfile_prt]\n",
    "trackcsv_record = [trackcsvfile_prt]\n",
    "# track positions every year for 100 years\n",
    "track_nyears = 100\n",
    "tracktimes = np.linspace(0, track_nyears*365.25, track_nyears+1)\n",
    "flopy.mf6.ModflowPrtoc(\n",
    "    prt,\n",
    "    budget_filerecord=budget_record,\n",
    "    track_filerecord=track_record,\n",
    "    trackcsv_filerecord=trackcsv_record,\n",
    "    ntracktimes=0,#len(tracktimes),\n",
    "    tracktimes=None,#[(t,) for t in tracktimes],\n",
    "    saverecord=[(\"BUDGET\", \"ALL\")],\n",
    ")"
   ]
  },
  {
   "cell_type": "markdown",
   "metadata": {},
   "source": [
    "### Instantiate the PRT Flow Model Interface and Explicit Model Solution Packages\n",
    "\n"
   ]
  },
  {
   "cell_type": "code",
   "execution_count": 21,
   "metadata": {
    "execution": {
     "iopub.execute_input": "2025-09-25T16:51:52.220725Z",
     "iopub.status.busy": "2025-09-25T16:51:52.220578Z",
     "iopub.status.idle": "2025-09-25T16:51:52.225322Z",
     "shell.execute_reply": "2025-09-25T16:51:52.224936Z"
    }
   },
   "outputs": [],
   "source": [
    "fmi_pd = [\n",
    "    (\"GWFHEAD\", os.path.relpath(gwf_ws / headfile, prt_model_ws)), #Path(f\"../{gwf_ws.name}/{headfile}\")),\n",
    "    (\"GWFBUDGET\", os.path.relpath(gwf_ws / budgetfile, prt_model_ws)) #Path(f\"../{gwf_ws.name}/{budgetfile}\")),\n",
    "]\n",
    "flopy.mf6.ModflowPrtfmi(prt, packagedata=fmi_pd)\n",
    "\n",
    "# Create an explicit model solution (EMS) for the MODFLOW 6 prt model\n",
    "ems = flopy.mf6.ModflowEms(\n",
    "    prt_sim,\n",
    "    filename=f\"{prt_name}.ems\",\n",
    ")\n",
    "sim.register_solution_package(ems, [prt.name])"
   ]
  },
  {
   "cell_type": "markdown",
   "metadata": {},
   "source": [
    "### Write the PRT input files and run the model"
   ]
  },
  {
   "cell_type": "code",
   "execution_count": 22,
   "metadata": {
    "execution": {
     "iopub.execute_input": "2025-09-25T16:51:52.226587Z",
     "iopub.status.busy": "2025-09-25T16:51:52.226453Z",
     "iopub.status.idle": "2025-09-25T16:51:52.552718Z",
     "shell.execute_reply": "2025-09-25T16:51:52.552290Z"
    }
   },
   "outputs": [
    {
     "name": "stdout",
     "output_type": "stream",
     "text": [
      "writing simulation...\n",
      "  writing simulation name file...\n",
      "  writing simulation tdis package...\n",
      "  writing solution package ems_-1...\n",
      "  writing model project-prt...\n",
      "    writing model name file...\n",
      "    writing package disv...\n"
     ]
    },
    {
     "name": "stdout",
     "output_type": "stream",
     "text": [
      "    writing package mip...\n",
      "    writing package prp_0...\n",
      "    writing package oc...\n",
      "    writing package fmi...\n"
     ]
    }
   ],
   "source": [
    "prt_sim.write_simulation()"
   ]
  },
  {
   "cell_type": "code",
   "execution_count": 23,
   "metadata": {
    "execution": {
     "iopub.execute_input": "2025-09-25T16:51:52.554033Z",
     "iopub.status.busy": "2025-09-25T16:51:52.553886Z",
     "iopub.status.idle": "2025-09-25T16:51:52.661208Z",
     "shell.execute_reply": "2025-09-25T16:51:52.660704Z"
    }
   },
   "outputs": [
    {
     "name": "stdout",
     "output_type": "stream",
     "text": [
      "FloPy is using the following executable to run the model: ../../../../../../../../../../.local/bin/mf6\n",
      "                                   MODFLOW 6\n",
      "                U.S. GEOLOGICAL SURVEY MODULAR HYDROLOGIC MODEL\n",
      "                            VERSION 6.6.2 05/12/2025\n",
      "\n",
      "   MODFLOW 6 compiled May 24 2025 11:41:46 with Intel(R) Fortran Intel(R) 64\n",
      "   Compiler Classic for applications running on Intel(R) 64, Version 2021.7.0\n",
      "                             Build 20220726_000000\n",
      "\n",
      "This software has been approved for release by the U.S. Geological \n",
      "Survey (USGS). Although the software has been subjected to rigorous \n",
      "review, the USGS reserves the right to update the software as needed \n",
      "pursuant to further analysis and review. No warranty, expressed or \n",
      "implied, is made by the USGS or the U.S. Government as to the \n",
      "functionality of the software and related material nor shall the \n",
      "fact of release constitute any such warranty. Furthermore, the \n",
      "software is released on condition that neither the USGS nor the U.S. \n",
      "Government shall be held liable for any damages resulting from its \n",
      "authorized or unauthorized use. Also refer to the USGS Water \n",
      "Resources Software User Rights Notice for complete use, copyright, \n",
      "and distribution information.\n",
      "\n",
      " \n",
      " MODFLOW runs in SEQUENTIAL mode\n",
      " \n",
      " Run start date and time (yyyy/mm/dd hh:mm:ss): 2025/09/25 16:51:52\n",
      " \n",
      " Writing simulation list file: mfsim.lst\n",
      " Using Simulation name file: mfsim.nam\n",
      " \n",
      "    Solving:  Stress period:     1    Time step:     1\n",
      " \n",
      " Run end date and time (yyyy/mm/dd hh:mm:ss): 2025/09/25 16:51:52\n",
      " Elapsed run time:  0.101 Seconds\n",
      " \n",
      " Normal termination of simulation.\n"
     ]
    },
    {
     "data": {
      "text/plain": [
       "(True, [])"
      ]
     },
     "execution_count": 23,
     "metadata": {},
     "output_type": "execute_result"
    }
   ],
   "source": [
    "prt_sim.run_simulation()"
   ]
  },
  {
   "cell_type": "markdown",
   "metadata": {},
   "source": [
    "## Post-Process the MODFLOW and PRT Results\n",
    "\n",
    "\n",
    "### Load MODFLOW and PRT results from the heads and pathline files\n",
    "\n",
    "Load the MODFLOW heads"
   ]
  },
  {
   "cell_type": "code",
   "execution_count": 24,
   "metadata": {
    "execution": {
     "iopub.execute_input": "2025-09-25T16:51:52.662504Z",
     "iopub.status.busy": "2025-09-25T16:51:52.662360Z",
     "iopub.status.idle": "2025-09-25T16:51:52.666174Z",
     "shell.execute_reply": "2025-09-25T16:51:52.665693Z"
    }
   },
   "outputs": [],
   "source": [
    "hobj = gwf.output.head()"
   ]
  },
  {
   "cell_type": "code",
   "execution_count": 25,
   "metadata": {
    "execution": {
     "iopub.execute_input": "2025-09-25T16:51:52.667381Z",
     "iopub.status.busy": "2025-09-25T16:51:52.667240Z",
     "iopub.status.idle": "2025-09-25T16:51:52.669813Z",
     "shell.execute_reply": "2025-09-25T16:51:52.669336Z"
    }
   },
   "outputs": [],
   "source": [
    "hds = hobj.get_data()"
   ]
  },
  {
   "cell_type": "markdown",
   "metadata": {},
   "source": [
    "Load the tracking CSV file"
   ]
  },
  {
   "cell_type": "code",
   "execution_count": 26,
   "metadata": {
    "execution": {
     "iopub.execute_input": "2025-09-25T16:51:52.671107Z",
     "iopub.status.busy": "2025-09-25T16:51:52.670944Z",
     "iopub.status.idle": "2025-09-25T16:51:52.680335Z",
     "shell.execute_reply": "2025-09-25T16:51:52.679829Z"
    }
   },
   "outputs": [
    {
     "data": {
      "text/html": [
       "<div>\n",
       "<style scoped>\n",
       "    .dataframe tbody tr th:only-of-type {\n",
       "        vertical-align: middle;\n",
       "    }\n",
       "\n",
       "    .dataframe tbody tr th {\n",
       "        vertical-align: top;\n",
       "    }\n",
       "\n",
       "    .dataframe thead th {\n",
       "        text-align: right;\n",
       "    }\n",
       "</style>\n",
       "<table border=\"1\" class=\"dataframe\">\n",
       "  <thead>\n",
       "    <tr style=\"text-align: right;\">\n",
       "      <th></th>\n",
       "      <th>kper</th>\n",
       "      <th>kstp</th>\n",
       "      <th>imdl</th>\n",
       "      <th>iprp</th>\n",
       "      <th>irpt</th>\n",
       "      <th>ilay</th>\n",
       "      <th>icell</th>\n",
       "      <th>izone</th>\n",
       "      <th>istatus</th>\n",
       "      <th>ireason</th>\n",
       "      <th>trelease</th>\n",
       "      <th>t</th>\n",
       "      <th>x</th>\n",
       "      <th>y</th>\n",
       "      <th>z</th>\n",
       "      <th>name</th>\n",
       "    </tr>\n",
       "  </thead>\n",
       "  <tbody>\n",
       "    <tr>\n",
       "      <th>0</th>\n",
       "      <td>1</td>\n",
       "      <td>1</td>\n",
       "      <td>1</td>\n",
       "      <td>1</td>\n",
       "      <td>1</td>\n",
       "      <td>1</td>\n",
       "      <td>1353</td>\n",
       "      <td>0</td>\n",
       "      <td>1</td>\n",
       "      <td>0</td>\n",
       "      <td>0.0</td>\n",
       "      <td>0.000000</td>\n",
       "      <td>375.000000</td>\n",
       "      <td>7125.0</td>\n",
       "      <td>29.843871</td>\n",
       "      <td>PRT_1352</td>\n",
       "    </tr>\n",
       "    <tr>\n",
       "      <th>1</th>\n",
       "      <td>1</td>\n",
       "      <td>1</td>\n",
       "      <td>1</td>\n",
       "      <td>1</td>\n",
       "      <td>1</td>\n",
       "      <td>1</td>\n",
       "      <td>1353</td>\n",
       "      <td>0</td>\n",
       "      <td>1</td>\n",
       "      <td>1</td>\n",
       "      <td>0.0</td>\n",
       "      <td>0.000000</td>\n",
       "      <td>375.000000</td>\n",
       "      <td>7125.0</td>\n",
       "      <td>29.650728</td>\n",
       "      <td>PRT_1352</td>\n",
       "    </tr>\n",
       "    <tr>\n",
       "      <th>2</th>\n",
       "      <td>1</td>\n",
       "      <td>1</td>\n",
       "      <td>1</td>\n",
       "      <td>1</td>\n",
       "      <td>1</td>\n",
       "      <td>1</td>\n",
       "      <td>1353</td>\n",
       "      <td>0</td>\n",
       "      <td>1</td>\n",
       "      <td>1</td>\n",
       "      <td>0.0</td>\n",
       "      <td>5600.493437</td>\n",
       "      <td>378.953010</td>\n",
       "      <td>7250.0</td>\n",
       "      <td>29.650728</td>\n",
       "      <td>PRT_1352</td>\n",
       "    </tr>\n",
       "    <tr>\n",
       "      <th>3</th>\n",
       "      <td>1</td>\n",
       "      <td>1</td>\n",
       "      <td>1</td>\n",
       "      <td>1</td>\n",
       "      <td>1</td>\n",
       "      <td>1</td>\n",
       "      <td>1198</td>\n",
       "      <td>0</td>\n",
       "      <td>1</td>\n",
       "      <td>1</td>\n",
       "      <td>0.0</td>\n",
       "      <td>11433.142331</td>\n",
       "      <td>402.113867</td>\n",
       "      <td>7500.0</td>\n",
       "      <td>29.417818</td>\n",
       "      <td>PRT_1352</td>\n",
       "    </tr>\n",
       "    <tr>\n",
       "      <th>4</th>\n",
       "      <td>1</td>\n",
       "      <td>1</td>\n",
       "      <td>1</td>\n",
       "      <td>1</td>\n",
       "      <td>1</td>\n",
       "      <td>1</td>\n",
       "      <td>1043</td>\n",
       "      <td>0</td>\n",
       "      <td>1</td>\n",
       "      <td>1</td>\n",
       "      <td>0.0</td>\n",
       "      <td>15357.870522</td>\n",
       "      <td>425.233970</td>\n",
       "      <td>7750.0</td>\n",
       "      <td>29.079618</td>\n",
       "      <td>PRT_1352</td>\n",
       "    </tr>\n",
       "  </tbody>\n",
       "</table>\n",
       "</div>"
      ],
      "text/plain": [
       "   kper  kstp  imdl  iprp  irpt  ilay  icell  izone  istatus  ireason  \\\n",
       "0     1     1     1     1     1     1   1353      0        1        0   \n",
       "1     1     1     1     1     1     1   1353      0        1        1   \n",
       "2     1     1     1     1     1     1   1353      0        1        1   \n",
       "3     1     1     1     1     1     1   1198      0        1        1   \n",
       "4     1     1     1     1     1     1   1043      0        1        1   \n",
       "\n",
       "   trelease             t           x       y          z      name  \n",
       "0       0.0      0.000000  375.000000  7125.0  29.843871  PRT_1352  \n",
       "1       0.0      0.000000  375.000000  7125.0  29.650728  PRT_1352  \n",
       "2       0.0   5600.493437  378.953010  7250.0  29.650728  PRT_1352  \n",
       "3       0.0  11433.142331  402.113867  7500.0  29.417818  PRT_1352  \n",
       "4       0.0  15357.870522  425.233970  7750.0  29.079618  PRT_1352  "
      ]
     },
     "execution_count": 26,
     "metadata": {},
     "output_type": "execute_result"
    }
   ],
   "source": [
    "particle_data = pd.read_csv(prt_model_ws / trackcsvfile_prt)\n",
    "particle_data.head()"
   ]
  },
  {
   "cell_type": "markdown",
   "metadata": {},
   "source": [
    "### Plot the heads and pathlines"
   ]
  },
  {
   "cell_type": "code",
   "execution_count": 27,
   "metadata": {
    "execution": {
     "iopub.execute_input": "2025-09-25T16:51:52.681707Z",
     "iopub.status.busy": "2025-09-25T16:51:52.681570Z",
     "iopub.status.idle": "2025-09-25T16:51:53.202077Z",
     "shell.execute_reply": "2025-09-25T16:51:53.201645Z"
    }
   },
   "outputs": [
    {
     "data": {
      "image/png": "[encoded data removed]",
      "text/plain": [
       "<Figure size 500x900 with 1 Axes>"
      ]
     },
     "metadata": {},
     "output_type": "display_data"
    }
   ],
   "source": [
    "fig, ax = plt.subplots(figsize=(5, 9))\n",
    "mm = flopy.plot.PlotMapView(model=gwf, layer=0, ax=ax)\n",
    "mm.plot_array(hds, masked_values=[1e30])\n",
    "\n",
    "mm.plot_bc('SFR', color='b', plotAll=True)\n",
    "mm.plot_bc('WEL', plotAll=True)\n",
    "mm.plot_ibound()\n",
    "mm.plot_pathline(particle_data, layer='all', color='blue', lw=1)\n",
    "mm.plot_grid(lw=0.2, color=\"0.5\")\n",
    "\n",
    "ax = plt.gca()\n",
    "ax.fill(csx, csy, color='#e534eb', zorder=100, alpha=.75);"
   ]
  },
  {
   "cell_type": "code",
   "execution_count": 28,
   "metadata": {
    "execution": {
     "iopub.execute_input": "2025-09-25T16:51:53.203498Z",
     "iopub.status.busy": "2025-09-25T16:51:53.203350Z",
     "iopub.status.idle": "2025-09-25T16:52:16.536905Z",
     "shell.execute_reply": "2025-09-25T16:52:16.536469Z"
    }
   },
   "outputs": [
    {
     "data": {
      "image/png": "[encoded data removed]",
      "text/plain": [
       "<Figure size 500x900 with 2 Axes>"
      ]
     },
     "metadata": {},
     "output_type": "display_data"
    }
   ],
   "source": [
    "fig, ax = plt.subplots(figsize=(5, 9))\n",
    "\n",
    "mm = flopy.plot.PlotMapView(model=gwf, ax=ax, layer=0)\n",
    "mm.plot_array(hds, masked_values=[1e30])\n",
    "mm.plot_bc('SFR', color='b', plotAll=True)\n",
    "mm.plot_bc('WEL', plotAll=True)\n",
    "mm.plot_ibound()\n",
    "mm.plot_grid(lw=0.2, color=\"0.5\")\n",
    "\n",
    "df = particle_data\n",
    "vmin, vmax = df['t'].min(), df['t'].max()\n",
    "\n",
    "times = list(range(0, 74001, 1000))\n",
    "for ix in range(1, len(times)):\n",
    "    tmp = df[(df['t'] >= times[ix - 1]) & (df['t'] < times[ix])]\n",
    "    s = ax.scatter(tmp['x'].values, tmp['y'].values, s=5, c=tmp['t'].values, \n",
    "                   vmin=vmin, vmax=vmax, cmap=\"magma\")\n",
    "    ax.set_title(f\"{times[ix - 1]} - {times[ix]} days\")\n",
    "    if ix == 1:\n",
    "        cbar = fig.colorbar(s, shrink=0.7)\n",
    "        cbar.set_label('particle travel time from source', rotation=270, labelpad=14)\n",
    "    display(fig)\n",
    "    clear_output(wait=True)\n",
    "    plt.pause(0.1)    "
   ]
  },
  {
   "cell_type": "markdown",
   "metadata": {},
   "source": [
    "### Export the pathlines to a GeoPackage\n",
    "GeoPackages allow for subsequent adding of layers; delete any pre-existing version of this GeoPackage to clear any pre-existing layers (often good practice in real projects)."
   ]
  },
  {
   "cell_type": "code",
   "execution_count": 29,
   "metadata": {
    "execution": {
     "iopub.execute_input": "2025-09-25T16:52:16.538290Z",
     "iopub.status.busy": "2025-09-25T16:52:16.538140Z",
     "iopub.status.idle": "2025-09-25T16:52:16.540682Z",
     "shell.execute_reply": "2025-09-25T16:52:16.540285Z"
    }
   },
   "outputs": [],
   "source": [
    "output_geopackage = Path(prt_model_ws / 'Pathlines.gpkg')\n",
    "output_geopackage.unlink(missing_ok=True)"
   ]
  },
  {
   "cell_type": "markdown",
   "metadata": {},
   "source": [
    "#### First the PRT results DataFrame needs to be converted to a ``GeoDataFrame``\n",
    "* In the real world, the model coordinates also need to be converted to real world coordinates. \n",
    "* We may also want to convert the travel times from the typical model time units of days to years.\n",
    "* We may want to decompose the ``cellid`` into model layer (`k`) and ``cell2d`` (location in each layer, in this case), or layer, row column if the model has a regular structured grid.\n",
    "* Finally, the GeoDataFrame will need a coordinate reference (to write to the GeoPackage) defining the coordinate reference system for the real-world coordinates (for example, UTM zone 15 north, represented by EPSG code 29615)."
   ]
  },
  {
   "cell_type": "code",
   "execution_count": 30,
   "metadata": {
    "execution": {
     "iopub.execute_input": "2025-09-25T16:52:16.541930Z",
     "iopub.status.busy": "2025-09-25T16:52:16.541800Z",
     "iopub.status.idle": "2025-09-25T16:52:16.543852Z",
     "shell.execute_reply": "2025-09-25T16:52:16.543488Z"
    }
   },
   "outputs": [],
   "source": [
    "gwf.modelgrid.crs # no CRS attached"
   ]
  },
  {
   "cell_type": "code",
   "execution_count": 31,
   "metadata": {
    "execution": {
     "iopub.execute_input": "2025-09-25T16:52:16.545062Z",
     "iopub.status.busy": "2025-09-25T16:52:16.544906Z",
     "iopub.status.idle": "2025-09-25T16:52:16.548878Z",
     "shell.execute_reply": "2025-09-25T16:52:16.548379Z"
    }
   },
   "outputs": [],
   "source": [
    "gwf.modelgrid.crs = 26915"
   ]
  },
  {
   "cell_type": "code",
   "execution_count": 32,
   "metadata": {
    "execution": {
     "iopub.execute_input": "2025-09-25T16:52:16.550208Z",
     "iopub.status.busy": "2025-09-25T16:52:16.550059Z",
     "iopub.status.idle": "2025-09-25T16:52:16.553448Z",
     "shell.execute_reply": "2025-09-25T16:52:16.553051Z"
    }
   },
   "outputs": [],
   "source": [
    "df['t_years'] = df['t'] * 325.25\n",
    "df['k'] = df['icell'].values[-1] // ncells_per_layer\n",
    "df['cell2d'] = df['icell'].values[-1] % ncells_per_layer\n"
   ]
  },
  {
   "cell_type": "code",
   "execution_count": 33,
   "metadata": {
    "execution": {
     "iopub.execute_input": "2025-09-25T16:52:16.554641Z",
     "iopub.status.busy": "2025-09-25T16:52:16.554496Z",
     "iopub.status.idle": "2025-09-25T16:52:16.559318Z",
     "shell.execute_reply": "2025-09-25T16:52:16.558938Z"
    }
   },
   "outputs": [],
   "source": [
    "x_crs, y_crs = gwf.modelgrid.get_coords(df['x'], df['y'])\n",
    "\n",
    "gdf = gpd.GeoDataFrame(df, \n",
    "                       geometry=gpd.points_from_xy(x_crs, y_crs),\n",
    "                       crs=gwf.modelgrid.crs)"
   ]
  },
  {
   "cell_type": "markdown",
   "metadata": {},
   "source": [
    "#### write the GeoPackage\n",
    "Write particles terminating in Well and SFR cells to separate layers"
   ]
  },
  {
   "cell_type": "code",
   "execution_count": 34,
   "metadata": {
    "execution": {
     "iopub.execute_input": "2025-09-25T16:52:16.560585Z",
     "iopub.status.busy": "2025-09-25T16:52:16.560454Z",
     "iopub.status.idle": "2025-09-25T16:52:16.626807Z",
     "shell.execute_reply": "2025-09-25T16:52:16.626383Z"
    }
   },
   "outputs": [
    {
     "name": "stderr",
     "output_type": "stream",
     "text": [
      "/home/runner/micromamba/envs/pyclass-docs/lib/python3.11/site-packages/pyogrio/__init__.py:7: DeprecationWarning: The 'shapely.geos' module is deprecated, and will be removed in a future version. All attributes of 'shapely.geos' are available directly from the top-level 'shapely' namespace (since shapely 2.0.0).\n",
      "  import shapely.geos  # noqa: F401\n"
     ]
    }
   ],
   "source": [
    "for package, izone in izones.items():\n",
    "    layer_name = f\"Particles going to {package.upper()} cells\"\n",
    "    izone_df = gdf.loc[gdf['izone'] == izone]\n",
    "    izone_df.to_file(output_geopackage, index=False, layer=layer_name)\n",
    "\n",
    "gdf.loc[gdf['izone'] == 0].to_file(\n",
    "    output_geopackage, index=False, layer='All other particles')"
   ]
  },
  {
   "cell_type": "markdown",
   "metadata": {},
   "source": [
    "#### Add a layer with pathlines\n",
    "The previous layers that we added to the GeoPackage were points representing particle locations at discrete points in time. We can also combine these in to pathlines (linestrings) to better visualize the paths taken by the particles. In real-world projects, for example where are particle is started in every cell of a large model, we may also have too many points to work with easily; showing a single pathline for each particle may be advantageous."
   ]
  },
  {
   "cell_type": "code",
   "execution_count": 35,
   "metadata": {
    "execution": {
     "iopub.execute_input": "2025-09-25T16:52:16.628249Z",
     "iopub.status.busy": "2025-09-25T16:52:16.627993Z",
     "iopub.status.idle": "2025-09-25T16:52:16.639806Z",
     "shell.execute_reply": "2025-09-25T16:52:16.639442Z"
    }
   },
   "outputs": [],
   "source": [
    "from shapely.geometry import LineString\n",
    "\n",
    "# create set of pathlines with start and end information\n",
    "# first group by particle\n",
    "by_particle = gdf.sort_values(by=['irpt', 't']).groupby('irpt')\n",
    "lines = by_particle.last()\n",
    "lines.crs = gdf.crs  # CRS isn't retained in groupby\n",
    "lines.rename(columns={'k': 'end_k', 'cell2d': 'end_cell2d'}, inplace=True)\n",
    "line_starts = by_particle.first()\n",
    "lines['start_k'] = line_starts['k']\n",
    "lines['start_cell2d'] = line_starts['cell2d']\n",
    "\n",
    "# above we sorted the results by particle and then time\n",
    "# use the .agg method on the grouby object to create a LineString\n",
    "# from the (sorted) sequence of points defining each particle path\n",
    "linestring_geoms = by_particle['geometry'].agg(lambda x: LineString(x))\n",
    "lines['geometry'] = linestring_geoms"
   ]
  },
  {
   "cell_type": "code",
   "execution_count": 36,
   "metadata": {
    "execution": {
     "iopub.execute_input": "2025-09-25T16:52:16.641107Z",
     "iopub.status.busy": "2025-09-25T16:52:16.640937Z",
     "iopub.status.idle": "2025-09-25T16:52:16.672808Z",
     "shell.execute_reply": "2025-09-25T16:52:16.672427Z"
    }
   },
   "outputs": [],
   "source": [
    "for package, izone in izones.items():\n",
    "    layer_name = f\"Pathlines going to {package.upper()} cells\"\n",
    "    izone_df = lines.loc[lines['izone'] == izone]\n",
    "    izone_df.to_file(output_geopackage, index=False, layer=layer_name)"
   ]
  },
  {
   "cell_type": "markdown",
   "metadata": {},
   "source": [
    "### Plot pathlines going to SFR and WEL cells"
   ]
  },
  {
   "cell_type": "code",
   "execution_count": 37,
   "metadata": {
    "execution": {
     "iopub.execute_input": "2025-09-25T16:52:16.674166Z",
     "iopub.status.busy": "2025-09-25T16:52:16.673994Z",
     "iopub.status.idle": "2025-09-25T16:52:17.257706Z",
     "shell.execute_reply": "2025-09-25T16:52:17.257252Z"
    }
   },
   "outputs": [
    {
     "data": {
      "text/plain": [
       "<matplotlib.legend.Legend at 0x7fd15da1cc50>"
      ]
     },
     "execution_count": 37,
     "metadata": {},
     "output_type": "execute_result"
    },
    {
     "data": {
      "image/png": "[encoded data removed]",
      "text/plain": [
       "<Figure size 600x1000 with 1 Axes>"
      ]
     },
     "metadata": {},
     "output_type": "display_data"
    }
   ],
   "source": [
    "fig, ax = plt.subplots(figsize=(6, 10))\n",
    "pmv = flopy.plot.PlotMapView(gwf, ax=ax)\n",
    "pmv.plot_grid(lw=0.5)\n",
    "line_colors = {\n",
    "    'sfr': 'b',\n",
    "    'wel': 'r'\n",
    "}\n",
    "for package, izone in izones.items():\n",
    "    izone_df = lines.loc[lines['izone'] == izone]\n",
    "    izone_df.plot(ax=ax, ec=line_colors[package],\n",
    "                  label=f'Pathlines going to {package.upper()} cells')\n",
    "pmv.plot_ibound()\n",
    "pmv.ax.legend()"
   ]
  }
 ],
 "metadata": {
  "kernelspec": {
   "display_name": "pyclass",
   "language": "python",
   "name": "python3"
  },
  "language_info": {
   "codemirror_mode": {
    "name": "ipython",
    "version": 3
   },
   "file_extension": ".py",
   "mimetype": "text/x-python",
   "name": "python",
   "nbconvert_exporter": "python",
   "pygments_lexer": "ipython3",
   "version": "3.11.13"
  }
 },
 "nbformat": 4,
 "nbformat_minor": 4
}
