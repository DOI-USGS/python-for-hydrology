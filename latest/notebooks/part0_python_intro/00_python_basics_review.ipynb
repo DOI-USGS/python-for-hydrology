{
 "cells": [
  {
   "cell_type": "markdown",
   "metadata": {},
   "source": [
    "# 00: Introduction to python for hydrologists\n",
    "\n",
    "In this background introduction, we will review concepts introduced in the \n",
    "[University of Waterloo Python Background Tutorial](https://cscircles.cemc.uwaterloo.ca/)\n",
    "\n",
    "This notebook is a general overview of Python. We will cover many of the basic aspects of Python that are distinct (and sometimes confusing) relative to other programming and scripting languages. \n",
    "\n",
    "First let's consider three ways that we can interact with Python:\n",
    "\n",
    "1. Through a command-line session\n",
    "2. Using iPython\n",
    "3. Using a Jupyter notebook like this one\n",
    "\n"
   ]
  },
  {
   "cell_type": "code",
   "execution_count": 1,
   "metadata": {
    "execution": {
     "iopub.execute_input": "2025-09-26T14:21:19.055318Z",
     "iopub.status.busy": "2025-09-26T14:21:19.055154Z",
     "iopub.status.idle": "2025-09-26T14:21:19.060442Z",
     "shell.execute_reply": "2025-09-26T14:21:19.059938Z"
    }
   },
   "outputs": [
    {
     "name": "stdout",
     "output_type": "stream",
     "text": [
      "hello world\n"
     ]
    }
   ],
   "source": [
    "print('hello world')"
   ]
  },
  {
   "cell_type": "markdown",
   "metadata": {},
   "source": [
    "## Using Python as a Calculator\n",
    "Python can be used to simple perform arithmetic operations.\n",
    "(note: in an iPython notebook like this one, shift-ENTER evaluates the code)"
   ]
  },
  {
   "cell_type": "markdown",
   "metadata": {},
   "source": [
    "Spaces are fine"
   ]
  },
  {
   "cell_type": "code",
   "execution_count": 2,
   "metadata": {
    "execution": {
     "iopub.execute_input": "2025-09-26T14:21:19.084590Z",
     "iopub.status.busy": "2025-09-26T14:21:19.084386Z",
     "iopub.status.idle": "2025-09-26T14:21:19.089531Z",
     "shell.execute_reply": "2025-09-26T14:21:19.089025Z"
    }
   },
   "outputs": [
    {
     "data": {
      "text/plain": [
       "54"
      ]
     },
     "execution_count": 2,
     "metadata": {},
     "output_type": "execute_result"
    }
   ],
   "source": [
    "6*9"
   ]
  },
  {
   "cell_type": "code",
   "execution_count": 3,
   "metadata": {
    "execution": {
     "iopub.execute_input": "2025-09-26T14:21:19.091092Z",
     "iopub.status.busy": "2025-09-26T14:21:19.090916Z",
     "iopub.status.idle": "2025-09-26T14:21:19.094204Z",
     "shell.execute_reply": "2025-09-26T14:21:19.093789Z"
    }
   },
   "outputs": [
    {
     "data": {
      "text/plain": [
       "505.90000000000003"
      ]
     },
     "execution_count": 3,
     "metadata": {},
     "output_type": "execute_result"
    }
   ],
   "source": [
    "6 + (99.98 * 5.)"
   ]
  },
  {
   "cell_type": "markdown",
   "metadata": {},
   "source": [
    "Exponents use `**` rather than `^` in some other languages."
   ]
  },
  {
   "cell_type": "code",
   "execution_count": 4,
   "metadata": {
    "execution": {
     "iopub.execute_input": "2025-09-26T14:21:19.095579Z",
     "iopub.status.busy": "2025-09-26T14:21:19.095440Z",
     "iopub.status.idle": "2025-09-26T14:21:19.098132Z",
     "shell.execute_reply": "2025-09-26T14:21:19.097688Z"
    }
   },
   "outputs": [
    {
     "name": "stdout",
     "output_type": "stream",
     "text": [
      "2294177.623218786\n"
     ]
    }
   ],
   "source": [
    "print (5**9.1)"
   ]
  },
  {
   "cell_type": "code",
   "execution_count": null,
   "metadata": {},
   "outputs": [],
   "source": []
  },
  {
   "cell_type": "markdown",
   "metadata": {},
   "source": [
    "### What if you want to do more than basic arithmetic?\n",
    "There are a couple ways to access more mathematical functions:  "
   ]
  },
  {
   "cell_type": "code",
   "execution_count": 5,
   "metadata": {
    "execution": {
     "iopub.execute_input": "2025-09-26T14:21:19.099519Z",
     "iopub.status.busy": "2025-09-26T14:21:19.099370Z",
     "iopub.status.idle": "2025-09-26T14:21:19.151837Z",
     "shell.execute_reply": "2025-09-26T14:21:19.150921Z"
    }
   },
   "outputs": [
    {
     "data": {
      "text/plain": [
       "np.float64(3.0)"
      ]
     },
     "execution_count": 5,
     "metadata": {},
     "output_type": "execute_result"
    }
   ],
   "source": [
    "import numpy as np\n",
    "import math\n",
    "np.sqrt(9)"
   ]
  },
  {
   "cell_type": "code",
   "execution_count": 6,
   "metadata": {
    "execution": {
     "iopub.execute_input": "2025-09-26T14:21:19.153662Z",
     "iopub.status.busy": "2025-09-26T14:21:19.153442Z",
     "iopub.status.idle": "2025-09-26T14:21:19.157487Z",
     "shell.execute_reply": "2025-09-26T14:21:19.157030Z"
    }
   },
   "outputs": [],
   "source": [
    "? np"
   ]
  },
  {
   "cell_type": "code",
   "execution_count": 7,
   "metadata": {
    "execution": {
     "iopub.execute_input": "2025-09-26T14:21:19.159807Z",
     "iopub.status.busy": "2025-09-26T14:21:19.159175Z",
     "iopub.status.idle": "2025-09-26T14:21:19.163810Z",
     "shell.execute_reply": "2025-09-26T14:21:19.163391Z"
    }
   },
   "outputs": [
    {
     "data": {
      "text/plain": [
       "3.0166206257996713"
      ]
     },
     "execution_count": 7,
     "metadata": {},
     "output_type": "execute_result"
    }
   ],
   "source": [
    "math.sqrt(9.1)"
   ]
  },
  {
   "cell_type": "markdown",
   "metadata": {},
   "source": [
    "Of these two options, we typically use `np` because, as we will cover in detail later, `numpy` provides many other features important to the kind of scientific work we perform."
   ]
  },
  {
   "cell_type": "markdown",
   "metadata": {},
   "source": [
    "## Data Structures and a few definitions  \n",
    "**data structure** -- A way to store and organize data in a computer.  \n",
    "In Python, there are a variety of data structures -- some mutable, and others immutable\n",
    "\n",
    "**mutability** -- An _immutable_ object is one whose property or state cannot be changed, whereas, _mutable_ objects can change state  \n",
    "\n",
    "The most basic data types are numbers, including:  \n",
    "`integer (int)`  \n",
    "`float/double precision (float)`  \n",
    "`long ingteger (long)`  \n",
    "`complex (complex)`\n",
    "There are also groups of characters:\n",
    "`string (str)`\n",
    "\n",
    "Variables can be of any type and the results can be assigned to symbols without predefining type (like `DIMENSION` in FORTRAN). `print` statements display values to standard output, and the `type` function tells you which number type a variable (or number) is.\n"
   ]
  },
  {
   "cell_type": "code",
   "execution_count": 8,
   "metadata": {
    "execution": {
     "iopub.execute_input": "2025-09-26T14:21:19.165455Z",
     "iopub.status.busy": "2025-09-26T14:21:19.165286Z",
     "iopub.status.idle": "2025-09-26T14:21:19.169513Z",
     "shell.execute_reply": "2025-09-26T14:21:19.169126Z"
    }
   },
   "outputs": [
    {
     "name": "stdout",
     "output_type": "stream",
     "text": [
      "5.9\n",
      "5.9\n",
      "5.91\n"
     ]
    }
   ],
   "source": [
    "a = 5.9\n",
    "print (a)\n",
    "aa = 5.91\n",
    "print (a)\n",
    "print (aa)"
   ]
  },
  {
   "cell_type": "code",
   "execution_count": 9,
   "metadata": {
    "execution": {
     "iopub.execute_input": "2025-09-26T14:21:19.171182Z",
     "iopub.status.busy": "2025-09-26T14:21:19.171021Z",
     "iopub.status.idle": "2025-09-26T14:21:19.176606Z",
     "shell.execute_reply": "2025-09-26T14:21:19.176198Z"
    }
   },
   "outputs": [
    {
     "name": "stdout",
     "output_type": "stream",
     "text": [
      "5.0\n"
     ]
    },
    {
     "data": {
      "text/plain": [
       "float"
      ]
     },
     "execution_count": 9,
     "metadata": {},
     "output_type": "execute_result"
    }
   ],
   "source": [
    "a2 = 5.\n",
    "print (a2)\n",
    "type(a2)"
   ]
  },
  {
   "cell_type": "markdown",
   "metadata": {},
   "source": [
    "## Variables and types\n",
    "\n",
    "### Symbol names \n",
    "\n",
    "Variable names in Python can contain alphanumerical characters `a-z`, `A-Z`, `0-9` and some special characters such as `_`. Normal variable names must start with a letter. \n",
    "\n",
    "By convention, variable names start with a lower-case letter, and Class names start with a capital letter. \n",
    "\n",
    "In addition, there are a number of Python keywords that cannot be used as variable names. These keywords are:\n",
    "\n",
    ">    `and, as, assert, break, class, continue, def, del, elif, else, except, exec, finally, for, from, global, if, import, in, is, lambda, not, or, pass, print, raise, return, try, while, with, yield`\n",
    "\n",
    "Note: Be aware of the keyword `lambda`, which could easily be a natural variable name in a scientific program. But being a keyword, it cannot be used as a variable name.\n"
   ]
  },
  {
   "cell_type": "code",
   "execution_count": 10,
   "metadata": {
    "execution": {
     "iopub.execute_input": "2025-09-26T14:21:19.178880Z",
     "iopub.status.busy": "2025-09-26T14:21:19.178282Z",
     "iopub.status.idle": "2025-09-26T14:21:19.183171Z",
     "shell.execute_reply": "2025-09-26T14:21:19.182738Z"
    }
   },
   "outputs": [
    {
     "data": {
      "text/plain": [
       "['False',\n",
       " 'None',\n",
       " 'True',\n",
       " 'and',\n",
       " 'as',\n",
       " 'assert',\n",
       " 'async',\n",
       " 'await',\n",
       " 'break',\n",
       " 'class',\n",
       " 'continue',\n",
       " 'def',\n",
       " 'del',\n",
       " 'elif',\n",
       " 'else',\n",
       " 'except',\n",
       " 'finally',\n",
       " 'for',\n",
       " 'from',\n",
       " 'global',\n",
       " 'if',\n",
       " 'import',\n",
       " 'in',\n",
       " 'is',\n",
       " 'lambda',\n",
       " 'nonlocal',\n",
       " 'not',\n",
       " 'or',\n",
       " 'pass',\n",
       " 'raise',\n",
       " 'return',\n",
       " 'try',\n",
       " 'while',\n",
       " 'with',\n",
       " 'yield']"
      ]
     },
     "execution_count": 10,
     "metadata": {},
     "output_type": "execute_result"
    }
   ],
   "source": [
    "import keyword\n",
    "keyword.kwlist"
   ]
  },
  {
   "cell_type": "markdown",
   "metadata": {},
   "source": [
    "There are also built-in objects that should not be used as variable names."
   ]
  },
  {
   "cell_type": "code",
   "execution_count": 11,
   "metadata": {
    "execution": {
     "iopub.execute_input": "2025-09-26T14:21:19.184845Z",
     "iopub.status.busy": "2025-09-26T14:21:19.184686Z",
     "iopub.status.idle": "2025-09-26T14:21:19.190529Z",
     "shell.execute_reply": "2025-09-26T14:21:19.190034Z"
    }
   },
   "outputs": [
    {
     "data": {
      "text/plain": [
       "['ArithmeticError',\n",
       " 'AssertionError',\n",
       " 'AttributeError',\n",
       " 'BaseException',\n",
       " 'BaseExceptionGroup',\n",
       " 'BlockingIOError',\n",
       " 'BrokenPipeError',\n",
       " 'BufferError',\n",
       " 'BytesWarning',\n",
       " 'ChildProcessError',\n",
       " 'ConnectionAbortedError',\n",
       " 'ConnectionError',\n",
       " 'ConnectionRefusedError',\n",
       " 'ConnectionResetError',\n",
       " 'DeprecationWarning',\n",
       " 'EOFError',\n",
       " 'Ellipsis',\n",
       " 'EncodingWarning',\n",
       " 'EnvironmentError',\n",
       " 'Exception',\n",
       " 'ExceptionGroup',\n",
       " 'False',\n",
       " 'FileExistsError',\n",
       " 'FileNotFoundError',\n",
       " 'FloatingPointError',\n",
       " 'FutureWarning',\n",
       " 'GeneratorExit',\n",
       " 'IOError',\n",
       " 'ImportError',\n",
       " 'ImportWarning',\n",
       " 'IndentationError',\n",
       " 'IndexError',\n",
       " 'InterruptedError',\n",
       " 'IsADirectoryError',\n",
       " 'KeyError',\n",
       " 'KeyboardInterrupt',\n",
       " 'LookupError',\n",
       " 'MemoryError',\n",
       " 'ModuleNotFoundError',\n",
       " 'NameError',\n",
       " 'None',\n",
       " 'NotADirectoryError',\n",
       " 'NotImplemented',\n",
       " 'NotImplementedError',\n",
       " 'OSError',\n",
       " 'OverflowError',\n",
       " 'PendingDeprecationWarning',\n",
       " 'PermissionError',\n",
       " 'ProcessLookupError',\n",
       " 'RecursionError',\n",
       " 'ReferenceError',\n",
       " 'ResourceWarning',\n",
       " 'RuntimeError',\n",
       " 'RuntimeWarning',\n",
       " 'StopAsyncIteration',\n",
       " 'StopIteration',\n",
       " 'SyntaxError',\n",
       " 'SyntaxWarning',\n",
       " 'SystemError',\n",
       " 'SystemExit',\n",
       " 'TabError',\n",
       " 'TimeoutError',\n",
       " 'True',\n",
       " 'TypeError',\n",
       " 'UnboundLocalError',\n",
       " 'UnicodeDecodeError',\n",
       " 'UnicodeEncodeError',\n",
       " 'UnicodeError',\n",
       " 'UnicodeTranslateError',\n",
       " 'UnicodeWarning',\n",
       " 'UserWarning',\n",
       " 'ValueError',\n",
       " 'Warning',\n",
       " 'ZeroDivisionError',\n",
       " '__IPYTHON__',\n",
       " '__build_class__',\n",
       " '__debug__',\n",
       " '__doc__',\n",
       " '__import__',\n",
       " '__loader__',\n",
       " '__name__',\n",
       " '__package__',\n",
       " '__spec__',\n",
       " 'abs',\n",
       " 'aiter',\n",
       " 'all',\n",
       " 'anext',\n",
       " 'any',\n",
       " 'ascii',\n",
       " 'bin',\n",
       " 'bool',\n",
       " 'breakpoint',\n",
       " 'bytearray',\n",
       " 'bytes',\n",
       " 'callable',\n",
       " 'chr',\n",
       " 'classmethod',\n",
       " 'compile',\n",
       " 'complex',\n",
       " 'copyright',\n",
       " 'credits',\n",
       " 'delattr',\n",
       " 'dict',\n",
       " 'dir',\n",
       " 'display',\n",
       " 'divmod',\n",
       " 'enumerate',\n",
       " 'eval',\n",
       " 'exec',\n",
       " 'execfile',\n",
       " 'filter',\n",
       " 'float',\n",
       " 'format',\n",
       " 'frozenset',\n",
       " 'get_ipython',\n",
       " 'getattr',\n",
       " 'globals',\n",
       " 'hasattr',\n",
       " 'hash',\n",
       " 'help',\n",
       " 'hex',\n",
       " 'id',\n",
       " 'input',\n",
       " 'int',\n",
       " 'isinstance',\n",
       " 'issubclass',\n",
       " 'iter',\n",
       " 'len',\n",
       " 'license',\n",
       " 'list',\n",
       " 'locals',\n",
       " 'map',\n",
       " 'max',\n",
       " 'memoryview',\n",
       " 'min',\n",
       " 'next',\n",
       " 'object',\n",
       " 'oct',\n",
       " 'open',\n",
       " 'ord',\n",
       " 'pow',\n",
       " 'print',\n",
       " 'property',\n",
       " 'range',\n",
       " 'repr',\n",
       " 'reversed',\n",
       " 'round',\n",
       " 'runfile',\n",
       " 'set',\n",
       " 'setattr',\n",
       " 'slice',\n",
       " 'sorted',\n",
       " 'staticmethod',\n",
       " 'str',\n",
       " 'sum',\n",
       " 'super',\n",
       " 'tuple',\n",
       " 'type',\n",
       " 'vars',\n",
       " 'zip']"
      ]
     },
     "execution_count": 11,
     "metadata": {},
     "output_type": "execute_result"
    }
   ],
   "source": [
    "import builtins\n",
    "dir(builtins)"
   ]
  },
  {
   "cell_type": "markdown",
   "metadata": {},
   "source": [
    "### Assignment\n",
    "\n",
    "The assignment operator in Python is `=`. Python is a dynamically typed language, so we do not need to specify the type of a variable when we create one.\n",
    "\n",
    "Assigning a value to a new variable creates the variable:"
   ]
  },
  {
   "cell_type": "code",
   "execution_count": 12,
   "metadata": {
    "execution": {
     "iopub.execute_input": "2025-09-26T14:21:19.194014Z",
     "iopub.status.busy": "2025-09-26T14:21:19.193344Z",
     "iopub.status.idle": "2025-09-26T14:21:19.197604Z",
     "shell.execute_reply": "2025-09-26T14:21:19.197165Z"
    }
   },
   "outputs": [
    {
     "name": "stdout",
     "output_type": "stream",
     "text": [
      "7\n"
     ]
    }
   ],
   "source": [
    "b=99.1\n",
    "# variable names can practically as long as you like\n",
    "this_reallyDESCRIPTIVE_crazyvariableNAME_is_maybe_a_bit_long = 7\n",
    "print(this_reallyDESCRIPTIVE_crazyvariableNAME_is_maybe_a_bit_long)"
   ]
  },
  {
   "cell_type": "markdown",
   "metadata": {},
   "source": [
    "In general, appropriate type conversion is possible:"
   ]
  },
  {
   "cell_type": "code",
   "execution_count": 13,
   "metadata": {
    "execution": {
     "iopub.execute_input": "2025-09-26T14:21:19.199428Z",
     "iopub.status.busy": "2025-09-26T14:21:19.199275Z",
     "iopub.status.idle": "2025-09-26T14:21:19.204892Z",
     "shell.execute_reply": "2025-09-26T14:21:19.204476Z"
    }
   },
   "outputs": [
    {
     "name": "stdout",
     "output_type": "stream",
     "text": [
      "8\n"
     ]
    },
    {
     "data": {
      "text/plain": [
       "8"
      ]
     },
     "execution_count": 13,
     "metadata": {},
     "output_type": "execute_result"
    }
   ],
   "source": [
    "a = 8.9\n",
    "b = int(a)\n",
    "print (b)\n",
    "c = str(a)\n",
    "b"
   ]
  },
  {
   "cell_type": "markdown",
   "metadata": {},
   "source": [
    "### Strings\n",
    "Grouping characters together creates strings."
   ]
  },
  {
   "cell_type": "code",
   "execution_count": 14,
   "metadata": {
    "execution": {
     "iopub.execute_input": "2025-09-26T14:21:19.207232Z",
     "iopub.status.busy": "2025-09-26T14:21:19.206568Z",
     "iopub.status.idle": "2025-09-26T14:21:19.212082Z",
     "shell.execute_reply": "2025-09-26T14:21:19.211673Z"
    }
   },
   "outputs": [
    {
     "name": "stdout",
     "output_type": "stream",
     "text": [
      "this is a string (Includes 'spaces' and punctuation)\n"
     ]
    },
    {
     "data": {
      "text/plain": [
       "52"
      ]
     },
     "execution_count": 14,
     "metadata": {},
     "output_type": "execute_result"
    }
   ],
   "source": [
    "avar = \"this is a string (Includes 'spaces' and punctuation)\"\n",
    "print(avar)\n",
    "len(avar)"
   ]
  },
  {
   "cell_type": "markdown",
   "metadata": {},
   "source": [
    "Using square brackets (`[]`) we can dereference values as if the string were an array or a list (as we will discuss next)"
   ]
  },
  {
   "cell_type": "code",
   "execution_count": 15,
   "metadata": {
    "execution": {
     "iopub.execute_input": "2025-09-26T14:21:19.213700Z",
     "iopub.status.busy": "2025-09-26T14:21:19.213539Z",
     "iopub.status.idle": "2025-09-26T14:21:19.217922Z",
     "shell.execute_reply": "2025-09-26T14:21:19.217547Z"
    }
   },
   "outputs": [
    {
     "name": "stdout",
     "output_type": "stream",
     "text": [
      "t\n",
      "h\n",
      ")\n",
      "n\n",
      "tss rgIle'asa nui)\n"
     ]
    }
   ],
   "source": [
    "print(avar[0])\n",
    "print(avar[1])\n",
    "# negative indices count from the end of the string\n",
    "print(avar[-1])\n",
    "print(avar[-2])\n",
    "# we can even print every nth character\n",
    "print(avar[::3])"
   ]
  },
  {
   "cell_type": "markdown",
   "metadata": {},
   "source": [
    "Since strings are just sequences of characters, they can be operated on using addition and multiplication."
   ]
  },
  {
   "cell_type": "code",
   "execution_count": 16,
   "metadata": {
    "execution": {
     "iopub.execute_input": "2025-09-26T14:21:19.219317Z",
     "iopub.status.busy": "2025-09-26T14:21:19.219181Z",
     "iopub.status.idle": "2025-09-26T14:21:19.221829Z",
     "shell.execute_reply": "2025-09-26T14:21:19.221436Z"
    }
   },
   "outputs": [
    {
     "name": "stdout",
     "output_type": "stream",
     "text": [
      "ab c \n",
      "ab c ab c ab c ab c ab c \n"
     ]
    }
   ],
   "source": [
    "d =  'a' + 'b' + ' c '\n",
    "print (d)\n",
    "print (d*5)\n"
   ]
  },
  {
   "cell_type": "markdown",
   "metadata": {},
   "source": [
    "For comparisons, it can be important to match case, so we can cast to upper or lower or a couple other options"
   ]
  },
  {
   "cell_type": "code",
   "execution_count": 17,
   "metadata": {
    "execution": {
     "iopub.execute_input": "2025-09-26T14:21:19.223102Z",
     "iopub.status.busy": "2025-09-26T14:21:19.222944Z",
     "iopub.status.idle": "2025-09-26T14:21:19.225956Z",
     "shell.execute_reply": "2025-09-26T14:21:19.225572Z"
    }
   },
   "outputs": [
    {
     "data": {
      "text/plain": [
       "\"THIS IS A STRING (INCLUDES 'SPACES' AND PUNCTUATION)\""
      ]
     },
     "execution_count": 17,
     "metadata": {},
     "output_type": "execute_result"
    }
   ],
   "source": [
    "avar.upper()"
   ]
  },
  {
   "cell_type": "code",
   "execution_count": 18,
   "metadata": {
    "execution": {
     "iopub.execute_input": "2025-09-26T14:21:19.227219Z",
     "iopub.status.busy": "2025-09-26T14:21:19.227082Z",
     "iopub.status.idle": "2025-09-26T14:21:19.230203Z",
     "shell.execute_reply": "2025-09-26T14:21:19.229722Z"
    }
   },
   "outputs": [
    {
     "data": {
      "text/plain": [
       "\"this is a string (includes 'spaces' and punctuation)\""
      ]
     },
     "execution_count": 18,
     "metadata": {},
     "output_type": "execute_result"
    }
   ],
   "source": [
    "avar.lower()"
   ]
  },
  {
   "cell_type": "code",
   "execution_count": 19,
   "metadata": {
    "execution": {
     "iopub.execute_input": "2025-09-26T14:21:19.231523Z",
     "iopub.status.busy": "2025-09-26T14:21:19.231369Z",
     "iopub.status.idle": "2025-09-26T14:21:19.234415Z",
     "shell.execute_reply": "2025-09-26T14:21:19.233949Z"
    }
   },
   "outputs": [
    {
     "data": {
      "text/plain": [
       "\"This is a string (includes 'spaces' and punctuation)\""
      ]
     },
     "execution_count": 19,
     "metadata": {},
     "output_type": "execute_result"
    }
   ],
   "source": [
    "avar.capitalize()"
   ]
  },
  {
   "cell_type": "code",
   "execution_count": 20,
   "metadata": {
    "execution": {
     "iopub.execute_input": "2025-09-26T14:21:19.235778Z",
     "iopub.status.busy": "2025-09-26T14:21:19.235638Z",
     "iopub.status.idle": "2025-09-26T14:21:19.238669Z",
     "shell.execute_reply": "2025-09-26T14:21:19.238278Z"
    }
   },
   "outputs": [
    {
     "data": {
      "text/plain": [
       "\"THIS IS A STRING (iNCLUDES 'SPACES' AND PUNCTUATION)\""
      ]
     },
     "execution_count": 20,
     "metadata": {},
     "output_type": "execute_result"
    }
   ],
   "source": [
    "avar.swapcase()"
   ]
  },
  {
   "cell_type": "markdown",
   "metadata": {},
   "source": [
    "We can also replace text using `replace()`"
   ]
  },
  {
   "cell_type": "code",
   "execution_count": 21,
   "metadata": {
    "execution": {
     "iopub.execute_input": "2025-09-26T14:21:19.239930Z",
     "iopub.status.busy": "2025-09-26T14:21:19.239799Z",
     "iopub.status.idle": "2025-09-26T14:21:19.242721Z",
     "shell.execute_reply": "2025-09-26T14:21:19.242324Z"
    }
   },
   "outputs": [
    {
     "data": {
      "text/plain": [
       "\"this is a string (Includes 'spaces' & punctuation)\""
      ]
     },
     "execution_count": 21,
     "metadata": {},
     "output_type": "execute_result"
    }
   ],
   "source": [
    "avar.replace('and','&')"
   ]
  },
  {
   "cell_type": "markdown",
   "metadata": {},
   "source": [
    "### Lists ###\n",
    "There are a few ways to group values in Python. The most basic way is a list, defined by square brackets(`[ ]`) and comma-delimited \n"
   ]
  },
  {
   "cell_type": "code",
   "execution_count": 22,
   "metadata": {
    "execution": {
     "iopub.execute_input": "2025-09-26T14:21:19.243957Z",
     "iopub.status.busy": "2025-09-26T14:21:19.243827Z",
     "iopub.status.idle": "2025-09-26T14:21:19.246672Z",
     "shell.execute_reply": "2025-09-26T14:21:19.246205Z"
    }
   },
   "outputs": [
    {
     "name": "stdout",
     "output_type": "stream",
     "text": [
      "<class 'list'>\n",
      "<class 'float'>\n",
      "[2.3, 3.4, 5.5, 12.4, 33]\n"
     ]
    }
   ],
   "source": [
    "a = [2.3, 3.4, 5.5, 12.4, 33]\n",
    "print(type(a))\n",
    "print(type(a[1]))\n",
    "print(a)"
   ]
  },
  {
   "cell_type": "markdown",
   "metadata": {},
   "source": [
    "#### Important Note!!! -->\n",
    "Python uses zero-referencing (like C, but unlike MATLAB and FORTRAN). Using square brackets, look at the various values of `a` (e.g. `a[0]`, `a[2]`). Also, see what you get with `a[-1]` and `a[-2]`"
   ]
  },
  {
   "cell_type": "code",
   "execution_count": 23,
   "metadata": {
    "execution": {
     "iopub.execute_input": "2025-09-26T14:21:19.248011Z",
     "iopub.status.busy": "2025-09-26T14:21:19.247834Z",
     "iopub.status.idle": "2025-09-26T14:21:19.250790Z",
     "shell.execute_reply": "2025-09-26T14:21:19.250425Z"
    }
   },
   "outputs": [
    {
     "data": {
      "text/plain": [
       "2.3"
      ]
     },
     "execution_count": 23,
     "metadata": {},
     "output_type": "execute_result"
    }
   ],
   "source": [
    "a[0]"
   ]
  },
  {
   "cell_type": "markdown",
   "metadata": {},
   "source": [
    "### Lists of Lists\n",
    "You can make lists made up of anything (e.g. numbers, other lists, etc.)"
   ]
  },
  {
   "cell_type": "code",
   "execution_count": 24,
   "metadata": {
    "execution": {
     "iopub.execute_input": "2025-09-26T14:21:19.252159Z",
     "iopub.status.busy": "2025-09-26T14:21:19.252020Z",
     "iopub.status.idle": "2025-09-26T14:21:19.255162Z",
     "shell.execute_reply": "2025-09-26T14:21:19.254746Z"
    }
   },
   "outputs": [
    {
     "name": "stdout",
     "output_type": "stream",
     "text": [
      "[[2.3, 3.4, 5.5, 12.4, 33], 5, [3, '4stuff', 5.9]]\n",
      "[2.3, 3.4, 5.5, 12.4, 33]\n",
      "5\n",
      "[3, '4stuff', 5.9]\n"
     ]
    }
   ],
   "source": [
    "b=5\n",
    "c=[3,'4stuff',5.9]\n",
    "d = [a,b,c]\n",
    "print (d)\n",
    "print (d[0])\n",
    "print (d[1])\n",
    "print (d[2])"
   ]
  },
  {
   "cell_type": "code",
   "execution_count": 25,
   "metadata": {
    "execution": {
     "iopub.execute_input": "2025-09-26T14:21:19.256437Z",
     "iopub.status.busy": "2025-09-26T14:21:19.256305Z",
     "iopub.status.idle": "2025-09-26T14:21:19.259470Z",
     "shell.execute_reply": "2025-09-26T14:21:19.258991Z"
    }
   },
   "outputs": [
    {
     "data": {
      "text/plain": [
       "[1, 2, 3, 5]"
      ]
     },
     "execution_count": 25,
     "metadata": {},
     "output_type": "execute_result"
    }
   ],
   "source": [
    "aaaa = [1,2,3]\n",
    "aaaa + [5]"
   ]
  },
  {
   "cell_type": "markdown",
   "metadata": {},
   "source": [
    "### `append` versus `extend`\n",
    "You can add to a list in two ways -- using the `extend` or `append` methods. Let's look at `append` first:"
   ]
  },
  {
   "cell_type": "code",
   "execution_count": 26,
   "metadata": {
    "execution": {
     "iopub.execute_input": "2025-09-26T14:21:19.260831Z",
     "iopub.status.busy": "2025-09-26T14:21:19.260691Z",
     "iopub.status.idle": "2025-09-26T14:21:19.263230Z",
     "shell.execute_reply": "2025-09-26T14:21:19.262757Z"
    }
   },
   "outputs": [
    {
     "name": "stdout",
     "output_type": "stream",
     "text": [
      "[1, 2, 3]\n"
     ]
    }
   ],
   "source": [
    "a=[1,2,3]\n",
    "print (a)"
   ]
  },
  {
   "cell_type": "code",
   "execution_count": 27,
   "metadata": {
    "execution": {
     "iopub.execute_input": "2025-09-26T14:21:19.264529Z",
     "iopub.status.busy": "2025-09-26T14:21:19.264393Z",
     "iopub.status.idle": "2025-09-26T14:21:19.266996Z",
     "shell.execute_reply": "2025-09-26T14:21:19.266499Z"
    }
   },
   "outputs": [
    {
     "name": "stdout",
     "output_type": "stream",
     "text": [
      "[1, 2, 3, 4, 5]\n"
     ]
    }
   ],
   "source": [
    "a.append(4)\n",
    "a.append(5)\n",
    "print (a)"
   ]
  },
  {
   "cell_type": "code",
   "execution_count": 28,
   "metadata": {
    "execution": {
     "iopub.execute_input": "2025-09-26T14:21:19.268318Z",
     "iopub.status.busy": "2025-09-26T14:21:19.268182Z",
     "iopub.status.idle": "2025-09-26T14:21:19.271574Z",
     "shell.execute_reply": "2025-09-26T14:21:19.271203Z"
    }
   },
   "outputs": [
    {
     "name": "stdout",
     "output_type": "stream",
     "text": [
      "[1, 2, 3, 4, 5, [6, 7, 8]]\n"
     ]
    },
    {
     "data": {
      "text/plain": [
       "[6, 7, 8]"
      ]
     },
     "execution_count": 28,
     "metadata": {},
     "output_type": "execute_result"
    }
   ],
   "source": [
    "a.append([6,7,8])\n",
    "print (a)\n",
    "a[-1]"
   ]
  },
  {
   "cell_type": "markdown",
   "metadata": {},
   "source": [
    "This did exactly what it should, but looks strange at first. We `appended` on the data we wanted to, but since we passed a list, we just took the list `[6,7,8]` on to the end of `a`. What if we wanted to continue our sequence? Then we could use `extend`."
   ]
  },
  {
   "cell_type": "code",
   "execution_count": 29,
   "metadata": {
    "execution": {
     "iopub.execute_input": "2025-09-26T14:21:19.272930Z",
     "iopub.status.busy": "2025-09-26T14:21:19.272782Z",
     "iopub.status.idle": "2025-09-26T14:21:19.275531Z",
     "shell.execute_reply": "2025-09-26T14:21:19.275061Z"
    }
   },
   "outputs": [
    {
     "name": "stdout",
     "output_type": "stream",
     "text": [
      "[1, 2, 3, 4, 5, 6, 7, 8]\n"
     ]
    }
   ],
   "source": [
    "a=[1,2,3,4,5]\n",
    "a.extend([6,7,8])\n",
    "print (a)"
   ]
  },
  {
   "cell_type": "markdown",
   "metadata": {},
   "source": [
    "The same behavior will happen even if the list as it is is already made up of multiple types."
   ]
  },
  {
   "cell_type": "code",
   "execution_count": 30,
   "metadata": {
    "execution": {
     "iopub.execute_input": "2025-09-26T14:21:19.276818Z",
     "iopub.status.busy": "2025-09-26T14:21:19.276675Z",
     "iopub.status.idle": "2025-09-26T14:21:19.279408Z",
     "shell.execute_reply": "2025-09-26T14:21:19.278920Z"
    }
   },
   "outputs": [
    {
     "name": "stdout",
     "output_type": "stream",
     "text": [
      "[[2.3, 3.4, 5.5, 12.4, 33], 5, [3, '4stuff', 5.9]]\n",
      "[[2.3, 3.4, 5.5, 12.4, 33], 5, [3, '4stuff', 5.9], [5, 6, 7, 8, 9]]\n"
     ]
    }
   ],
   "source": [
    "print (d)\n",
    "d.append([5,6,7,8,9])\n",
    "print (d)"
   ]
  },
  {
   "cell_type": "markdown",
   "metadata": {},
   "source": [
    "We can create an empty list two ways"
   ]
  },
  {
   "cell_type": "code",
   "execution_count": 31,
   "metadata": {
    "execution": {
     "iopub.execute_input": "2025-09-26T14:21:19.280870Z",
     "iopub.status.busy": "2025-09-26T14:21:19.280721Z",
     "iopub.status.idle": "2025-09-26T14:21:19.283562Z",
     "shell.execute_reply": "2025-09-26T14:21:19.283095Z"
    }
   },
   "outputs": [
    {
     "name": "stdout",
     "output_type": "stream",
     "text": [
      "<class 'list'> []\n",
      "<class 'list'> []\n"
     ]
    }
   ],
   "source": [
    "a = list()\n",
    "print (type(a),  a)\n",
    "b = []\n",
    "print (type(b), b)"
   ]
  },
  {
   "cell_type": "code",
   "execution_count": 32,
   "metadata": {
    "execution": {
     "iopub.execute_input": "2025-09-26T14:21:19.285022Z",
     "iopub.status.busy": "2025-09-26T14:21:19.284857Z",
     "iopub.status.idle": "2025-09-26T14:21:19.287536Z",
     "shell.execute_reply": "2025-09-26T14:21:19.287055Z"
    }
   },
   "outputs": [
    {
     "name": "stdout",
     "output_type": "stream",
     "text": [
      "['stuff', 99]\n"
     ]
    }
   ],
   "source": [
    "a.append('stuff')\n",
    "a.append(99)\n",
    "print (a)"
   ]
  },
  {
   "cell_type": "code",
   "execution_count": 33,
   "metadata": {
    "execution": {
     "iopub.execute_input": "2025-09-26T14:21:19.288923Z",
     "iopub.status.busy": "2025-09-26T14:21:19.288775Z",
     "iopub.status.idle": "2025-09-26T14:21:19.292085Z",
     "shell.execute_reply": "2025-09-26T14:21:19.291653Z"
    }
   },
   "outputs": [
    {
     "data": {
      "text/plain": [
       "[0, 8]"
      ]
     },
     "execution_count": 33,
     "metadata": {},
     "output_type": "execute_result"
    }
   ],
   "source": [
    "aaa = [0]\n",
    "aaa.append(8)\n",
    "aaa"
   ]
  },
  {
   "cell_type": "markdown",
   "metadata": {},
   "source": [
    "We can also add and remove elements from lists in a couple ways:"
   ]
  },
  {
   "cell_type": "code",
   "execution_count": 34,
   "metadata": {
    "execution": {
     "iopub.execute_input": "2025-09-26T14:21:19.293402Z",
     "iopub.status.busy": "2025-09-26T14:21:19.293262Z",
     "iopub.status.idle": "2025-09-26T14:21:19.296176Z",
     "shell.execute_reply": "2025-09-26T14:21:19.295791Z"
    }
   },
   "outputs": [
    {
     "data": {
      "text/plain": [
       "['stuff', 99]"
      ]
     },
     "execution_count": 34,
     "metadata": {},
     "output_type": "execute_result"
    }
   ],
   "source": [
    "a"
   ]
  },
  {
   "cell_type": "code",
   "execution_count": 35,
   "metadata": {
    "execution": {
     "iopub.execute_input": "2025-09-26T14:21:19.297467Z",
     "iopub.status.busy": "2025-09-26T14:21:19.297332Z",
     "iopub.status.idle": "2025-09-26T14:21:19.301052Z",
     "shell.execute_reply": "2025-09-26T14:21:19.300641Z"
    }
   },
   "outputs": [
    {
     "name": "stdout",
     "output_type": "stream",
     "text": [
      "1\n"
     ]
    },
    {
     "data": {
      "text/plain": [
       "[2, 99, 2, 99, 'stuff']"
      ]
     },
     "execution_count": 35,
     "metadata": {},
     "output_type": "execute_result"
    }
   ],
   "source": [
    "a = [ 2,99,2,99, 'stuff']\n",
    "print (a.index(99))\n",
    "a"
   ]
  },
  {
   "cell_type": "code",
   "execution_count": 36,
   "metadata": {
    "execution": {
     "iopub.execute_input": "2025-09-26T14:21:19.302282Z",
     "iopub.status.busy": "2025-09-26T14:21:19.302138Z",
     "iopub.status.idle": "2025-09-26T14:21:19.305053Z",
     "shell.execute_reply": "2025-09-26T14:21:19.304635Z"
    }
   },
   "outputs": [
    {
     "name": "stdout",
     "output_type": "stream",
     "text": [
      "1\n",
      "4\n",
      "['newstuff', 2, 99, 2, 99, 'stuff']\n"
     ]
    }
   ],
   "source": [
    "# index tells us where in a list a specific value resides\n",
    "print (a.index(99))\n",
    "print (a.index('stuff'))\n",
    "# insert can add a value -- note that this shifts the list over\n",
    "a.insert(0, 'newstuff')\n",
    "print (a)"
   ]
  },
  {
   "cell_type": "code",
   "execution_count": 37,
   "metadata": {
    "execution": {
     "iopub.execute_input": "2025-09-26T14:21:19.306335Z",
     "iopub.status.busy": "2025-09-26T14:21:19.306197Z",
     "iopub.status.idle": "2025-09-26T14:21:19.309824Z",
     "shell.execute_reply": "2025-09-26T14:21:19.309364Z"
    }
   },
   "outputs": [
    {
     "name": "stdout",
     "output_type": "stream",
     "text": [
      "[99999, 2, 99, 2, 99, 'stuff']\n",
      "99\n"
     ]
    },
    {
     "data": {
      "text/plain": [
       "[99999, 2, 99, 2, 'stuff']"
      ]
     },
     "execution_count": 37,
     "metadata": {},
     "output_type": "execute_result"
    }
   ],
   "source": [
    "a[0] = 99999\n",
    "print (a)\n",
    "b = a.pop(4)  #remove item in position 4 and assign to b\n",
    "print (b)\n",
    "a"
   ]
  },
  {
   "cell_type": "markdown",
   "metadata": {},
   "source": [
    "### Tuples\n",
    "A similar construction to a `list` is a `tuple`. A `tuple` is defined using regular parentheses (`()`). The key differences is tuples are *immutable*.\n"
   ]
  },
  {
   "cell_type": "code",
   "execution_count": 38,
   "metadata": {
    "execution": {
     "iopub.execute_input": "2025-09-26T14:21:19.311123Z",
     "iopub.status.busy": "2025-09-26T14:21:19.310987Z",
     "iopub.status.idle": "2025-09-26T14:21:19.313619Z",
     "shell.execute_reply": "2025-09-26T14:21:19.313253Z"
    }
   },
   "outputs": [
    {
     "name": "stdout",
     "output_type": "stream",
     "text": [
      "<class 'list'>\n",
      "[3, 4, 5]\n",
      "[999, 4, 5]\n"
     ]
    }
   ],
   "source": [
    "# we can make a list\n",
    "a = [3,4,5]\n",
    "print (type(a))\n",
    "print (a)\n",
    "# it's mutable meaning we can change it in place\n",
    "a[0] = 999\n",
    "print (a)"
   ]
  },
  {
   "cell_type": "code",
   "execution_count": 39,
   "metadata": {
    "execution": {
     "iopub.execute_input": "2025-09-26T14:21:19.314838Z",
     "iopub.status.busy": "2025-09-26T14:21:19.314693Z",
     "iopub.status.idle": "2025-09-26T14:21:19.478446Z",
     "shell.execute_reply": "2025-09-26T14:21:19.477885Z"
    }
   },
   "outputs": [
    {
     "name": "stdout",
     "output_type": "stream",
     "text": [
      "<class 'tuple'>\n",
      "(3, 4, 5)\n",
      "3\n"
     ]
    },
    {
     "ename": "TypeError",
     "evalue": "'tuple' object does not support item assignment",
     "output_type": "error",
     "traceback": [
      "\u001b[31m---------------------------------------------------------------------------\u001b[39m",
      "\u001b[31mTypeError\u001b[39m                                 Traceback (most recent call last)",
      "\u001b[36mCell\u001b[39m\u001b[36m \u001b[39m\u001b[32mIn[39]\u001b[39m\u001b[32m, line 8\u001b[39m\n\u001b[32m      6\u001b[39m \u001b[38;5;28mprint\u001b[39m (a[\u001b[32m0\u001b[39m])\n\u001b[32m      7\u001b[39m \u001b[38;5;66;03m# but we cannot change values in place\u001b[39;00m\n\u001b[32m----> \u001b[39m\u001b[32m8\u001b[39m \u001b[43ma\u001b[49m\u001b[43m[\u001b[49m\u001b[32;43m0\u001b[39;49m\u001b[43m]\u001b[49m = \u001b[32m999\u001b[39m\n",
      "\u001b[31mTypeError\u001b[39m: 'tuple' object does not support item assignment"
     ]
    }
   ],
   "source": [
    "# a tuple is similar\n",
    "a = (3,4,5)\n",
    "print(type(a))\n",
    "print (a)\n",
    "# we can dereference values from it in the same way as we would a list\n",
    "print (a[0])\n",
    "# but we cannot change values in place\n",
    "a[0] = 999"
   ]
  },
  {
   "cell_type": "code",
   "execution_count": 40,
   "metadata": {
    "execution": {
     "iopub.execute_input": "2025-09-26T14:21:19.479928Z",
     "iopub.status.busy": "2025-09-26T14:21:19.479774Z",
     "iopub.status.idle": "2025-09-26T14:21:19.482712Z",
     "shell.execute_reply": "2025-09-26T14:21:19.482242Z"
    }
   },
   "outputs": [
    {
     "name": "stdout",
     "output_type": "stream",
     "text": [
      "<class 'tuple'>\n",
      "<class 'list'>\n"
     ]
    }
   ],
   "source": [
    "a=(1,'howdy')\n",
    "b=list(a)\n",
    "print (type(a))\n",
    "print (type(b))"
   ]
  },
  {
   "cell_type": "markdown",
   "metadata": {},
   "source": [
    "We won't talk very much about `tuples` except to say that they are sometimes required as input to functions, sometimes functions return them, and they can be useful for other reasons. Also, they can be constructed using `zip` to pull together a couple `lists`."
   ]
  },
  {
   "cell_type": "code",
   "execution_count": 41,
   "metadata": {
    "execution": {
     "iopub.execute_input": "2025-09-26T14:21:19.484046Z",
     "iopub.status.busy": "2025-09-26T14:21:19.483888Z",
     "iopub.status.idle": "2025-09-26T14:21:19.486868Z",
     "shell.execute_reply": "2025-09-26T14:21:19.486470Z"
    }
   },
   "outputs": [
    {
     "name": "stdout",
     "output_type": "stream",
     "text": [
      "<zip object at 0x7f28f0574340>\n",
      "<class 'zip'>\n",
      "(1, 11, 111)\n",
      "(2, 22, 222)\n"
     ]
    }
   ],
   "source": [
    "a = zip([1,2],[11,22],[111,222])\n",
    "print (a)\n",
    "print(type(a))\n",
    "for b in a:\n",
    "    print(b)"
   ]
  },
  {
   "cell_type": "markdown",
   "metadata": {},
   "source": [
    "We can also assign tuples without using parentheses, although it's kind of sloppy. We can unpack a tuple into multiple variables."
   ]
  },
  {
   "cell_type": "code",
   "execution_count": 42,
   "metadata": {
    "execution": {
     "iopub.execute_input": "2025-09-26T14:21:19.488182Z",
     "iopub.status.busy": "2025-09-26T14:21:19.488050Z",
     "iopub.status.idle": "2025-09-26T14:21:19.490885Z",
     "shell.execute_reply": "2025-09-26T14:21:19.490491Z"
    }
   },
   "outputs": [
    {
     "name": "stdout",
     "output_type": "stream",
     "text": [
      "(5, 6, 7)\n",
      "5\n",
      "6\n",
      "7\n"
     ]
    }
   ],
   "source": [
    "a = 5,6,7\n",
    "val1, val2, val3 = a\n",
    "print (a)\n",
    "print (val1)\n",
    "print (val2)\n",
    "print (val3)\n"
   ]
  },
  {
   "cell_type": "markdown",
   "metadata": {},
   "source": [
    "This can be done all at once as well!"
   ]
  },
  {
   "cell_type": "code",
   "execution_count": 43,
   "metadata": {
    "execution": {
     "iopub.execute_input": "2025-09-26T14:21:19.492164Z",
     "iopub.status.busy": "2025-09-26T14:21:19.492019Z",
     "iopub.status.idle": "2025-09-26T14:21:19.494581Z",
     "shell.execute_reply": "2025-09-26T14:21:19.494208Z"
    }
   },
   "outputs": [
    {
     "name": "stdout",
     "output_type": "stream",
     "text": [
      "5\n",
      "6\n",
      "7\n"
     ]
    }
   ],
   "source": [
    "val1, val2, val3 = 5,6,7\n",
    "print (val1)\n",
    "print (val2)\n",
    "print (val3)"
   ]
  },
  {
   "cell_type": "markdown",
   "metadata": {},
   "source": [
    "### Dictionaries\n",
    "\n",
    "Dictionaries are also like lists, except that each element is a key-value pair. The syntax for dictionaries is `{key1 : value1, ...}`:"
   ]
  },
  {
   "cell_type": "code",
   "execution_count": 44,
   "metadata": {
    "execution": {
     "iopub.execute_input": "2025-09-26T14:21:19.495856Z",
     "iopub.status.busy": "2025-09-26T14:21:19.495709Z",
     "iopub.status.idle": "2025-09-26T14:21:19.500407Z",
     "shell.execute_reply": "2025-09-26T14:21:19.499904Z"
    }
   },
   "outputs": [
    {
     "name": "stdout",
     "output_type": "stream",
     "text": [
      "<class 'dict'>\n",
      "{'parameter1': 1.0, 'parameter2': 2.0, 'parameter3': 3.0}\n",
      "{'parameter1': 1.0, 'parameter2': 2.0, 'parameter3': 3.0}\n"
     ]
    }
   ],
   "source": [
    "params = {\"parameter1\" : 1.0,\n",
    "          \"parameter2\" : 2.0,\n",
    "          \"parameter3\" : 3.0,}\n",
    "\n",
    "print(type(params))\n",
    "print(params)\n",
    "\n",
    "parlist = [ 1.0, 2.0, 3.0]\n",
    "print (params)"
   ]
  },
  {
   "cell_type": "code",
   "execution_count": 45,
   "metadata": {
    "execution": {
     "iopub.execute_input": "2025-09-26T14:21:19.501773Z",
     "iopub.status.busy": "2025-09-26T14:21:19.501632Z",
     "iopub.status.idle": "2025-09-26T14:21:19.504743Z",
     "shell.execute_reply": "2025-09-26T14:21:19.504346Z"
    }
   },
   "outputs": [
    {
     "data": {
      "text/plain": [
       "dict_items([('parameter1', 1.0), ('parameter2', 2.0), ('parameter3', 3.0)])"
      ]
     },
     "execution_count": 45,
     "metadata": {},
     "output_type": "execute_result"
    }
   ],
   "source": [
    "params.items()"
   ]
  },
  {
   "cell_type": "markdown",
   "metadata": {},
   "source": [
    "The keys can be obtained separate from their values as a list."
   ]
  },
  {
   "cell_type": "code",
   "execution_count": 46,
   "metadata": {
    "execution": {
     "iopub.execute_input": "2025-09-26T14:21:19.506024Z",
     "iopub.status.busy": "2025-09-26T14:21:19.505863Z",
     "iopub.status.idle": "2025-09-26T14:21:19.508303Z",
     "shell.execute_reply": "2025-09-26T14:21:19.507902Z"
    }
   },
   "outputs": [
    {
     "name": "stdout",
     "output_type": "stream",
     "text": [
      "parameter1\n",
      "parameter2\n",
      "parameter3\n"
     ]
    }
   ],
   "source": [
    "for i in params.keys():\n",
    "    print (i)\n"
   ]
  },
  {
   "cell_type": "code",
   "execution_count": 47,
   "metadata": {
    "execution": {
     "iopub.execute_input": "2025-09-26T14:21:19.509580Z",
     "iopub.status.busy": "2025-09-26T14:21:19.509444Z",
     "iopub.status.idle": "2025-09-26T14:21:19.511576Z",
     "shell.execute_reply": "2025-09-26T14:21:19.511205Z"
    }
   },
   "outputs": [],
   "source": [
    "ckeys = [i for i in params.keys()]"
   ]
  },
  {
   "cell_type": "code",
   "execution_count": 48,
   "metadata": {
    "execution": {
     "iopub.execute_input": "2025-09-26T14:21:19.512804Z",
     "iopub.status.busy": "2025-09-26T14:21:19.512670Z",
     "iopub.status.idle": "2025-09-26T14:21:19.515722Z",
     "shell.execute_reply": "2025-09-26T14:21:19.515256Z"
    }
   },
   "outputs": [
    {
     "data": {
      "text/plain": [
       "2.0"
      ]
     },
     "execution_count": 48,
     "metadata": {},
     "output_type": "execute_result"
    }
   ],
   "source": [
    "params[ckeys[1]]"
   ]
  },
  {
   "cell_type": "code",
   "execution_count": 49,
   "metadata": {
    "execution": {
     "iopub.execute_input": "2025-09-26T14:21:19.517096Z",
     "iopub.status.busy": "2025-09-26T14:21:19.516925Z",
     "iopub.status.idle": "2025-09-26T14:21:19.519804Z",
     "shell.execute_reply": "2025-09-26T14:21:19.519336Z"
    }
   },
   "outputs": [
    {
     "name": "stdout",
     "output_type": "stream",
     "text": [
      "parameter1 = 1.0\n",
      "parameter2 = 2.0\n",
      "parameter3 = 3.0\n"
     ]
    }
   ],
   "source": [
    "print(\"parameter1 = \" + str(params[\"parameter1\"]))\n",
    "print(\"parameter2 = \" + str(params[\"parameter2\"]))\n",
    "print(\"parameter3 = \" + str(params[\"parameter3\"]))"
   ]
  },
  {
   "cell_type": "markdown",
   "metadata": {},
   "source": [
    "Can also get just the values"
   ]
  },
  {
   "cell_type": "code",
   "execution_count": 50,
   "metadata": {
    "execution": {
     "iopub.execute_input": "2025-09-26T14:21:19.521092Z",
     "iopub.status.busy": "2025-09-26T14:21:19.520940Z",
     "iopub.status.idle": "2025-09-26T14:21:19.523910Z",
     "shell.execute_reply": "2025-09-26T14:21:19.523424Z"
    }
   },
   "outputs": [
    {
     "data": {
      "text/plain": [
       "dict_values([1.0, 2.0, 3.0])"
      ]
     },
     "execution_count": 50,
     "metadata": {},
     "output_type": "execute_result"
    }
   ],
   "source": [
    "params.values()"
   ]
  },
  {
   "cell_type": "markdown",
   "metadata": {},
   "source": [
    "Or everyone's favorite....`tuples`! `.items()` returns tuples of the key, values pairs"
   ]
  },
  {
   "cell_type": "code",
   "execution_count": 51,
   "metadata": {
    "execution": {
     "iopub.execute_input": "2025-09-26T14:21:19.525316Z",
     "iopub.status.busy": "2025-09-26T14:21:19.525168Z",
     "iopub.status.idle": "2025-09-26T14:21:19.528255Z",
     "shell.execute_reply": "2025-09-26T14:21:19.527750Z"
    }
   },
   "outputs": [
    {
     "data": {
      "text/plain": [
       "dict_items([('parameter1', 1.0), ('parameter2', 2.0), ('parameter3', 3.0)])"
      ]
     },
     "execution_count": 51,
     "metadata": {},
     "output_type": "execute_result"
    }
   ],
   "source": [
    "params.items()"
   ]
  },
  {
   "cell_type": "code",
   "execution_count": 52,
   "metadata": {
    "execution": {
     "iopub.execute_input": "2025-09-26T14:21:19.529498Z",
     "iopub.status.busy": "2025-09-26T14:21:19.529354Z",
     "iopub.status.idle": "2025-09-26T14:21:19.532616Z",
     "shell.execute_reply": "2025-09-26T14:21:19.532143Z"
    }
   },
   "outputs": [
    {
     "name": "stdout",
     "output_type": "stream",
     "text": [
      "parameter1 = A\n",
      "parameter2 = B\n",
      "parameter3 = 3.0\n",
      "parameter4 = D\n"
     ]
    }
   ],
   "source": [
    "params[\"parameter1\"] = \"A\"\n",
    "params[\"parameter2\"] = \"B\"\n",
    "\n",
    "# add a new entry\n",
    "params[\"parameter4\"] = \"D\"\n",
    "\n",
    "print(\"parameter1 = \" + str(params[\"parameter1\"]))\n",
    "print(\"parameter2 = \" + str(params[\"parameter2\"]))\n",
    "print(\"parameter3 = \" + str(params[\"parameter3\"]))\n",
    "print(\"parameter4 = \" + str(params[\"parameter4\"]))"
   ]
  },
  {
   "cell_type": "markdown",
   "metadata": {},
   "source": [
    "#### A trick using `zip` and `dict` ####\n",
    "Say we have two lists -- one of which is a set of keys and another is accompanying values (like we read them in from two columns in a spreadsheet)"
   ]
  },
  {
   "cell_type": "code",
   "execution_count": 53,
   "metadata": {
    "execution": {
     "iopub.execute_input": "2025-09-26T14:21:19.533954Z",
     "iopub.status.busy": "2025-09-26T14:21:19.533821Z",
     "iopub.status.idle": "2025-09-26T14:21:19.537109Z",
     "shell.execute_reply": "2025-09-26T14:21:19.536705Z"
    }
   },
   "outputs": [
    {
     "data": {
      "text/plain": [
       "{'HK': 1.2e-06, 'VKA': 0.001, 'RCH': 1.9e-09, 'COND': 4.0}"
      ]
     },
     "execution_count": 53,
     "metadata": {},
     "output_type": "execute_result"
    }
   ],
   "source": [
    "keys = ['HK','VKA','RCH','COND']\n",
    "vals = [1.2e-6, 0.001, 1.9e-9, 4.0]\n",
    "MFdict = dict(zip(keys,vals))\n",
    "MFdict"
   ]
  },
  {
   "cell_type": "markdown",
   "metadata": {},
   "source": [
    "## Process Flow\n",
    "We will cover conditional statements and a variety of loop types.\n",
    "### Conditional statements: if, elif, else\n",
    "\n",
    "The Python syntax for conditional execution of code use the keywords `if`, `elif` (else if), `else`:"
   ]
  },
  {
   "cell_type": "code",
   "execution_count": 54,
   "metadata": {
    "execution": {
     "iopub.execute_input": "2025-09-26T14:21:19.538356Z",
     "iopub.status.busy": "2025-09-26T14:21:19.538223Z",
     "iopub.status.idle": "2025-09-26T14:21:19.541165Z",
     "shell.execute_reply": "2025-09-26T14:21:19.540750Z"
    }
   },
   "outputs": [
    {
     "name": "stdout",
     "output_type": "stream",
     "text": [
      "statement1 is True\n"
     ]
    }
   ],
   "source": [
    "statement1 = True\n",
    "statement2 = True\n",
    "\n",
    "if statement1==True:\n",
    "    print(\"statement1 is True\")\n",
    "    \n",
    "elif statement2==True:\n",
    "    print(\"statement2 is True\")\n",
    "    \n",
    "else:\n",
    "    print(\"statement1 and statement2 are False\")"
   ]
  },
  {
   "cell_type": "markdown",
   "metadata": {},
   "source": [
    "There are a couple critical things to see here. \n",
    "\n",
    "1. There is no `end if ` or other closing of the statement. This is all controlled by indentation.\n",
    "2. Each statement ends in a `':'`\n"
   ]
  },
  {
   "cell_type": "code",
   "execution_count": 55,
   "metadata": {
    "execution": {
     "iopub.execute_input": "2025-09-26T14:21:19.542513Z",
     "iopub.status.busy": "2025-09-26T14:21:19.542377Z",
     "iopub.status.idle": "2025-09-26T14:21:19.545403Z",
     "shell.execute_reply": "2025-09-26T14:21:19.544904Z"
    }
   },
   "outputs": [
    {
     "data": {
      "text/plain": [
       "True"
      ]
     },
     "execution_count": 55,
     "metadata": {},
     "output_type": "execute_result"
    }
   ],
   "source": [
    "statement1 or statement2"
   ]
  },
  {
   "cell_type": "code",
   "execution_count": 56,
   "metadata": {
    "execution": {
     "iopub.execute_input": "2025-09-26T14:21:19.546700Z",
     "iopub.status.busy": "2025-09-26T14:21:19.546554Z",
     "iopub.status.idle": "2025-09-26T14:21:19.549559Z",
     "shell.execute_reply": "2025-09-26T14:21:19.549102Z"
    }
   },
   "outputs": [
    {
     "data": {
      "text/plain": [
       "False"
      ]
     },
     "execution_count": 56,
     "metadata": {},
     "output_type": "execute_result"
    }
   ],
   "source": [
    "not statement2"
   ]
  },
  {
   "cell_type": "markdown",
   "metadata": {},
   "source": [
    "Rather than just `True` or `False`, we can check for equivalence to other values.\n",
    "\n",
    "1. '`==`' indicates test for equality\n",
    "2. '`!=`' indicates test for nonequality"
   ]
  },
  {
   "cell_type": "code",
   "execution_count": 57,
   "metadata": {
    "execution": {
     "iopub.execute_input": "2025-09-26T14:21:19.550811Z",
     "iopub.status.busy": "2025-09-26T14:21:19.550669Z",
     "iopub.status.idle": "2025-09-26T14:21:19.554004Z",
     "shell.execute_reply": "2025-09-26T14:21:19.553613Z"
    }
   },
   "outputs": [
    {
     "name": "stdout",
     "output_type": "stream",
     "text": [
      "5\n"
     ]
    },
    {
     "data": {
      "text/plain": [
       "True"
      ]
     },
     "execution_count": 57,
     "metadata": {},
     "output_type": "execute_result"
    }
   ],
   "source": [
    "a = 5\n",
    "print (a)\n",
    "a!=5.01"
   ]
  },
  {
   "cell_type": "code",
   "execution_count": 58,
   "metadata": {
    "execution": {
     "iopub.execute_input": "2025-09-26T14:21:19.555241Z",
     "iopub.status.busy": "2025-09-26T14:21:19.555096Z",
     "iopub.status.idle": "2025-09-26T14:21:19.558076Z",
     "shell.execute_reply": "2025-09-26T14:21:19.557581Z"
    }
   },
   "outputs": [
    {
     "name": "stdout",
     "output_type": "stream",
     "text": [
      "neither \"junky\" nor 5\n",
      "wow - it worked?\n"
     ]
    }
   ],
   "source": [
    "statement1 = 5.2\n",
    "\n",
    "if statement1 == 'junk':\n",
    "    print ('junky')\n",
    "       \n",
    "elif statement1 != 5:\n",
    "    print ('neither \"junky\" nor 5')\n",
    "else:\n",
    "    print ('must be 5 eh?')\n",
    "print ('wow - it worked?')"
   ]
  },
  {
   "cell_type": "markdown",
   "metadata": {},
   "source": [
    "### An aside on indentation\n",
    "Technically, tabs or any *consistent* number of spaces can be used to control indentation. A casual standard is using 4 spaces. Many editors replace tabs with spaces to be safe. \n",
    "\n",
    "The level of indentation defines blocks without requiring a symbol or word to close a block or loop."
   ]
  },
  {
   "cell_type": "markdown",
   "metadata": {},
   "source": [
    "####  few examples of indentation behavior:"
   ]
  },
  {
   "cell_type": "code",
   "execution_count": 59,
   "metadata": {
    "execution": {
     "iopub.execute_input": "2025-09-26T14:21:19.559505Z",
     "iopub.status.busy": "2025-09-26T14:21:19.559356Z",
     "iopub.status.idle": "2025-09-26T14:21:19.562249Z",
     "shell.execute_reply": "2025-09-26T14:21:19.561767Z"
    }
   },
   "outputs": [
    {
     "name": "stdout",
     "output_type": "stream",
     "text": [
      "both statement1 and statement2 are True\n",
      "True\n"
     ]
    }
   ],
   "source": [
    "statement1 = True\n",
    "statement2 = True\n",
    "\n",
    "if statement1==True:\n",
    "    if statement2==True:\n",
    "        print(\"both statement1 and statement2 are True\")\n",
    "print( statement2)"
   ]
  },
  {
   "cell_type": "code",
   "execution_count": 60,
   "metadata": {
    "execution": {
     "iopub.execute_input": "2025-09-26T14:21:19.563611Z",
     "iopub.status.busy": "2025-09-26T14:21:19.563476Z",
     "iopub.status.idle": "2025-09-26T14:21:19.566900Z",
     "shell.execute_reply": "2025-09-26T14:21:19.566529Z"
    }
   },
   "outputs": [
    {
     "ename": "IndentationError",
     "evalue": "expected an indented block after 'if' statement on line 3 (2973964442.py, line 4)",
     "output_type": "error",
     "traceback": [
      "  \u001b[36mCell\u001b[39m\u001b[36m \u001b[39m\u001b[32mIn[60]\u001b[39m\u001b[32m, line 4\u001b[39m\n\u001b[31m    \u001b[39m\u001b[31mprint(\"both statement1 and statement2 are True\")  # this line is not properly indented\u001b[39m\n    ^\n\u001b[31mIndentationError\u001b[39m\u001b[31m:\u001b[39m expected an indented block after 'if' statement on line 3\n"
     ]
    }
   ],
   "source": [
    "# Bad indentation!\n",
    "if statement1==True:\n",
    "    if statement2==True:\n",
    "    print(\"both statement1 and statement2 are True\")  # this line is not properly indented"
   ]
  },
  {
   "cell_type": "code",
   "execution_count": 61,
   "metadata": {
    "execution": {
     "iopub.execute_input": "2025-09-26T14:21:19.568202Z",
     "iopub.status.busy": "2025-09-26T14:21:19.568062Z",
     "iopub.status.idle": "2025-09-26T14:21:19.570498Z",
     "shell.execute_reply": "2025-09-26T14:21:19.570119Z"
    }
   },
   "outputs": [
    {
     "name": "stdout",
     "output_type": "stream",
     "text": [
      "printed if statement1 is True\n",
      "Trying to say False but still inside the if block\n"
     ]
    }
   ],
   "source": [
    "statement1 = True \n",
    "\n",
    "if statement1==True:\n",
    "    print(\"printed if statement1 is True\")\n",
    "    \n",
    "    print(\"Trying to say False but still inside the if block\")"
   ]
  },
  {
   "cell_type": "code",
   "execution_count": 62,
   "metadata": {
    "execution": {
     "iopub.execute_input": "2025-09-26T14:21:19.571745Z",
     "iopub.status.busy": "2025-09-26T14:21:19.571613Z",
     "iopub.status.idle": "2025-09-26T14:21:19.574297Z",
     "shell.execute_reply": "2025-09-26T14:21:19.573883Z"
    }
   },
   "outputs": [
    {
     "name": "stdout",
     "output_type": "stream",
     "text": [
      "printed if statement1 is True\n",
      "Statement 1 is false --- printed now outside the if block\n"
     ]
    }
   ],
   "source": [
    "if statement1:\n",
    "    print(\"printed if statement1 is True\")\n",
    "    \n",
    "print(\"Statement 1 is false --- printed now outside the if block\")"
   ]
  },
  {
   "cell_type": "markdown",
   "metadata": {},
   "source": [
    "## Loops\n",
    "\n",
    "In Python, loops can be programmed in a number of different ways. The most common is the `for` loop, which is used together with iterable objects, such as lists. The basic syntax is:\n",
    "\n",
    "\n",
    "**`for` loops**:"
   ]
  },
  {
   "cell_type": "code",
   "execution_count": 63,
   "metadata": {
    "execution": {
     "iopub.execute_input": "2025-09-26T14:21:19.575558Z",
     "iopub.status.busy": "2025-09-26T14:21:19.575415Z",
     "iopub.status.idle": "2025-09-26T14:21:19.578154Z",
     "shell.execute_reply": "2025-09-26T14:21:19.577651Z"
    }
   },
   "outputs": [
    {
     "name": "stdout",
     "output_type": "stream",
     "text": [
      "1\n",
      "2\n",
      "[9, 8, 0]\n",
      "4\n"
     ]
    }
   ],
   "source": [
    "for i in [1,2,[9,8,0],4]:\n",
    "    print (i)"
   ]
  },
  {
   "cell_type": "markdown",
   "metadata": {},
   "source": [
    "The `for` loop iterates over the elements of the supplied list, and executes the containing block once for each element. Note the same indentation rules as for `if` statements. \n",
    "\n",
    "Any kind of list can be used in the `for` loop. For example:"
   ]
  },
  {
   "cell_type": "code",
   "execution_count": 64,
   "metadata": {
    "execution": {
     "iopub.execute_input": "2025-09-26T14:21:19.579424Z",
     "iopub.status.busy": "2025-09-26T14:21:19.579280Z",
     "iopub.status.idle": "2025-09-26T14:21:19.582449Z",
     "shell.execute_reply": "2025-09-26T14:21:19.581984Z"
    }
   },
   "outputs": [
    {
     "data": {
      "text/plain": [
       "range(0, 4)"
      ]
     },
     "execution_count": 64,
     "metadata": {},
     "output_type": "execute_result"
    }
   ],
   "source": [
    "range(4)"
   ]
  },
  {
   "cell_type": "code",
   "execution_count": 65,
   "metadata": {
    "execution": {
     "iopub.execute_input": "2025-09-26T14:21:19.583703Z",
     "iopub.status.busy": "2025-09-26T14:21:19.583567Z",
     "iopub.status.idle": "2025-09-26T14:21:19.586509Z",
     "shell.execute_reply": "2025-09-26T14:21:19.586113Z"
    }
   },
   "outputs": [
    {
     "name": "stdout",
     "output_type": "stream",
     "text": [
      "0\n",
      "1\n",
      "2\n",
      "3\n",
      "------------\n",
      "4 is missing but the length is 4\n"
     ]
    }
   ],
   "source": [
    "for x in range(4): # by default range start at 0\n",
    "    print(x)\n",
    "print ('-'*12)\n",
    "print ('4 is missing but the length is {0}'.format(len(range(4))))"
   ]
  },
  {
   "cell_type": "markdown",
   "metadata": {},
   "source": [
    "Uh oh! Where is 4? `range` constructions do not include the final value. This takes some getting used to! \n",
    "\n",
    "There is a long discussion here: http://stackoverflow.com/questions/4504662/why-does-rangestart-end-not-include-end\n",
    "\n",
    "Suffice it to say that the length of a range is the number stated and this is all related to zero indexing.\n",
    "\n",
    "Ranges can also start at values other than 0, but still never include the final value."
   ]
  },
  {
   "cell_type": "code",
   "execution_count": 66,
   "metadata": {
    "execution": {
     "iopub.execute_input": "2025-09-26T14:21:19.587785Z",
     "iopub.status.busy": "2025-09-26T14:21:19.587652Z",
     "iopub.status.idle": "2025-09-26T14:21:19.590345Z",
     "shell.execute_reply": "2025-09-26T14:21:19.589925Z"
    }
   },
   "outputs": [
    {
     "name": "stdout",
     "output_type": "stream",
     "text": [
      "-3\n",
      "-2\n",
      "-1\n",
      "0\n",
      "1\n",
      "2\n"
     ]
    }
   ],
   "source": [
    "for x in range(-3,3):\n",
    "    print(x)"
   ]
  },
  {
   "cell_type": "markdown",
   "metadata": {},
   "source": [
    "Notice that we aren't using an index like `i` to dereference items from the list. Rather, we are just iterating over those items. They need not be numbers."
   ]
  },
  {
   "cell_type": "code",
   "execution_count": 67,
   "metadata": {
    "execution": {
     "iopub.execute_input": "2025-09-26T14:21:19.591617Z",
     "iopub.status.busy": "2025-09-26T14:21:19.591473Z",
     "iopub.status.idle": "2025-09-26T14:21:19.594319Z",
     "shell.execute_reply": "2025-09-26T14:21:19.593838Z"
    }
   },
   "outputs": [
    {
     "name": "stdout",
     "output_type": "stream",
     "text": [
      "This\n",
      "is\n",
      "different\n",
      "than\n",
      "F77\n"
     ]
    }
   ],
   "source": [
    "a = ['This', 'is', 'different', 'than', 'F77']\n",
    "for word in a:\n",
    "    print (word)"
   ]
  },
  {
   "cell_type": "markdown",
   "metadata": {},
   "source": [
    "We could do this like in other languages, but quickly it becomes clear that it would be contrived."
   ]
  },
  {
   "cell_type": "code",
   "execution_count": 68,
   "metadata": {
    "execution": {
     "iopub.execute_input": "2025-09-26T14:21:19.595631Z",
     "iopub.status.busy": "2025-09-26T14:21:19.595488Z",
     "iopub.status.idle": "2025-09-26T14:21:19.598226Z",
     "shell.execute_reply": "2025-09-26T14:21:19.597728Z"
    }
   },
   "outputs": [
    {
     "name": "stdout",
     "output_type": "stream",
     "text": [
      "This\n",
      "is\n",
      "different\n",
      "than\n",
      "F77\n"
     ]
    }
   ],
   "source": [
    "for i in range(len(a)):\n",
    "    print (a[i])"
   ]
  },
  {
   "cell_type": "markdown",
   "metadata": {},
   "source": [
    "Sometimes we also need an index for some reason. We can get both using `enumerate`"
   ]
  },
  {
   "cell_type": "code",
   "execution_count": 69,
   "metadata": {
    "execution": {
     "iopub.execute_input": "2025-09-26T14:21:19.599492Z",
     "iopub.status.busy": "2025-09-26T14:21:19.599351Z",
     "iopub.status.idle": "2025-09-26T14:21:19.601750Z",
     "shell.execute_reply": "2025-09-26T14:21:19.601369Z"
    }
   },
   "outputs": [
    {
     "name": "stdout",
     "output_type": "stream",
     "text": [
      "word number 0 is \"This\"\n",
      "word number 1 is \"is\"\n",
      "word number 2 is \"different\"\n",
      "word number 3 is \"than\"\n",
      "word number 4 is \"F77\"\n"
     ]
    }
   ],
   "source": [
    "for i, word in enumerate(a):\n",
    "    print ('word number {0} is \"{1}\"'.format(i, word))"
   ]
  },
  {
   "cell_type": "markdown",
   "metadata": {},
   "source": [
    "We can also iterate over the keys of a dictionary in a couple ways. First, just iterating over the keys:"
   ]
  },
  {
   "cell_type": "code",
   "execution_count": 70,
   "metadata": {
    "execution": {
     "iopub.execute_input": "2025-09-26T14:21:19.603063Z",
     "iopub.status.busy": "2025-09-26T14:21:19.602907Z",
     "iopub.status.idle": "2025-09-26T14:21:19.605551Z",
     "shell.execute_reply": "2025-09-26T14:21:19.605077Z"
    }
   },
   "outputs": [
    {
     "name": "stdout",
     "output_type": "stream",
     "text": [
      "parameter1 = A\n",
      "parameter2 = B\n",
      "parameter3 = 3.0\n",
      "parameter4 = D\n"
     ]
    }
   ],
   "source": [
    "for key in params.keys():\n",
    "    print (key + \" = \" + str(params[key]))"
   ]
  },
  {
   "cell_type": "code",
   "execution_count": 71,
   "metadata": {
    "execution": {
     "iopub.execute_input": "2025-09-26T14:21:19.606844Z",
     "iopub.status.busy": "2025-09-26T14:21:19.606707Z",
     "iopub.status.idle": "2025-09-26T14:21:19.609168Z",
     "shell.execute_reply": "2025-09-26T14:21:19.608764Z"
    }
   },
   "outputs": [
    {
     "name": "stdout",
     "output_type": "stream",
     "text": [
      "parameter1 = A\n",
      "parameter2 = B\n",
      "parameter3 = 3.0\n",
      "parameter4 = D\n"
     ]
    }
   ],
   "source": [
    "# the following shorthand is now preferred\n",
    "for key in params:\n",
    "    print (key + \" = \" + str(params[key]))"
   ]
  },
  {
   "cell_type": "markdown",
   "metadata": {},
   "source": [
    "Second we can iterate over the items and unpack them."
   ]
  },
  {
   "cell_type": "code",
   "execution_count": 72,
   "metadata": {
    "execution": {
     "iopub.execute_input": "2025-09-26T14:21:19.610551Z",
     "iopub.status.busy": "2025-09-26T14:21:19.610412Z",
     "iopub.status.idle": "2025-09-26T14:21:19.613077Z",
     "shell.execute_reply": "2025-09-26T14:21:19.612580Z"
    }
   },
   "outputs": [
    {
     "name": "stdout",
     "output_type": "stream",
     "text": [
      "parameter1 = A\n",
      "parameter2 = B\n",
      "parameter3 = 3.0\n",
      "parameter4 = D\n"
     ]
    }
   ],
   "source": [
    "for key, val in params.items():\n",
    "    print (key + \" = \" + str(val))\n",
    "    #print (poo)"
   ]
  },
  {
   "cell_type": "markdown",
   "metadata": {},
   "source": [
    "### List Comprehension\n",
    "\n",
    "A very Pythonic and compact way to build a list using a `for` loop is using a `list comprehension`"
   ]
  },
  {
   "cell_type": "code",
   "execution_count": 73,
   "metadata": {
    "execution": {
     "iopub.execute_input": "2025-09-26T14:21:19.614427Z",
     "iopub.status.busy": "2025-09-26T14:21:19.614289Z",
     "iopub.status.idle": "2025-09-26T14:21:19.616909Z",
     "shell.execute_reply": "2025-09-26T14:21:19.616429Z"
    }
   },
   "outputs": [
    {
     "name": "stdout",
     "output_type": "stream",
     "text": [
      "[0, 1, 8, 27, 64, 125, 216, 343, 512, 729]\n"
     ]
    }
   ],
   "source": [
    "a = [x**3 for x in range(10)]\n",
    "print (a)"
   ]
  },
  {
   "cell_type": "markdown",
   "metadata": {},
   "source": [
    "You can get conditional statements into a  list comprehension -- but, once it get too complicated, it gets to be \"clever\" and it's better to be more explicit"
   ]
  },
  {
   "cell_type": "code",
   "execution_count": 74,
   "metadata": {
    "execution": {
     "iopub.execute_input": "2025-09-26T14:21:19.618245Z",
     "iopub.status.busy": "2025-09-26T14:21:19.618107Z",
     "iopub.status.idle": "2025-09-26T14:21:19.620784Z",
     "shell.execute_reply": "2025-09-26T14:21:19.620300Z"
    }
   },
   "outputs": [
    {
     "name": "stdout",
     "output_type": "stream",
     "text": [
      "[-5, -4, -3, -2, -1, 0, 1, 8, 27, 64]\n"
     ]
    }
   ],
   "source": [
    "b = [x**3 if x>0 else x for x in range(-5,5)]\n",
    "print (b)"
   ]
  },
  {
   "cell_type": "code",
   "execution_count": 75,
   "metadata": {
    "execution": {
     "iopub.execute_input": "2025-09-26T14:21:19.622142Z",
     "iopub.status.busy": "2025-09-26T14:21:19.621997Z",
     "iopub.status.idle": "2025-09-26T14:21:19.624155Z",
     "shell.execute_reply": "2025-09-26T14:21:19.623761Z"
    }
   },
   "outputs": [],
   "source": [
    "adict = dict(zip(range(10),a))"
   ]
  },
  {
   "cell_type": "code",
   "execution_count": 76,
   "metadata": {
    "execution": {
     "iopub.execute_input": "2025-09-26T14:21:19.625431Z",
     "iopub.status.busy": "2025-09-26T14:21:19.625286Z",
     "iopub.status.idle": "2025-09-26T14:21:19.627767Z",
     "shell.execute_reply": "2025-09-26T14:21:19.627374Z"
    }
   },
   "outputs": [
    {
     "name": "stdout",
     "output_type": "stream",
     "text": [
      "0^3 = 0\n",
      "1^3 = 1\n",
      "2^3 = 8\n",
      "3^3 = 27\n",
      "4^3 = 64\n",
      "5^3 = 125\n",
      "6^3 = 216\n",
      "7^3 = 343\n",
      "8^3 = 512\n",
      "9^3 = 729\n"
     ]
    }
   ],
   "source": [
    "for key, value in adict.items():\n",
    "    print (str(key) + \"^3 = \" + str(value))"
   ]
  },
  {
   "cell_type": "markdown",
   "metadata": {},
   "source": [
    "We can also do a \"dictionary comprehension\"  \n",
    "http://stackoverflow.com/questions/1747817/python-create-a-dictionary-with-list-comprehension"
   ]
  },
  {
   "cell_type": "code",
   "execution_count": 77,
   "metadata": {
    "execution": {
     "iopub.execute_input": "2025-09-26T14:21:19.629088Z",
     "iopub.status.busy": "2025-09-26T14:21:19.628915Z",
     "iopub.status.idle": "2025-09-26T14:21:19.631457Z",
     "shell.execute_reply": "2025-09-26T14:21:19.631076Z"
    }
   },
   "outputs": [
    {
     "name": "stdout",
     "output_type": "stream",
     "text": [
      "{'0^3': 0, '1^3': 1, '2^3': 8, '3^3': 27, '4^3': 64, '5^3': 125, '6^3': 216, '7^3': 343, '8^3': 512, '9^3': 729}\n"
     ]
    }
   ],
   "source": [
    "d = {str(a) + \"^3\": a**3 for a in range(10)}\n",
    "print (d)"
   ]
  },
  {
   "cell_type": "markdown",
   "metadata": {},
   "source": [
    "**`while` loops**:"
   ]
  },
  {
   "cell_type": "code",
   "execution_count": 78,
   "metadata": {
    "execution": {
     "iopub.execute_input": "2025-09-26T14:21:19.632883Z",
     "iopub.status.busy": "2025-09-26T14:21:19.632732Z",
     "iopub.status.idle": "2025-09-26T14:21:19.635456Z",
     "shell.execute_reply": "2025-09-26T14:21:19.634984Z"
    }
   },
   "outputs": [
    {
     "name": "stdout",
     "output_type": "stream",
     "text": [
      "0\n",
      "1\n",
      "2\n",
      "3\n"
     ]
    }
   ],
   "source": [
    "i = 0\n",
    "while i<4:\n",
    "    print(i)\n",
    "    i += 1 # shorthand for i = i + 1"
   ]
  },
  {
   "cell_type": "code",
   "execution_count": 79,
   "metadata": {
    "execution": {
     "iopub.execute_input": "2025-09-26T14:21:19.636779Z",
     "iopub.status.busy": "2025-09-26T14:21:19.636637Z",
     "iopub.status.idle": "2025-09-26T14:21:19.639195Z",
     "shell.execute_reply": "2025-09-26T14:21:19.638804Z"
    }
   },
   "outputs": [
    {
     "name": "stdout",
     "output_type": "stream",
     "text": [
      "howdy again\n",
      "howdy again\n",
      "howdy again\n",
      "howdy again\n",
      "howdy again\n"
     ]
    }
   ],
   "source": [
    "i = 5\n",
    "while i: # shorthand for while i != 0\n",
    "    print('howdy again')\n",
    "    i -= 1 # shorthand for i = i - 1"
   ]
  },
  {
   "cell_type": "code",
   "execution_count": 80,
   "metadata": {
    "execution": {
     "iopub.execute_input": "2025-09-26T14:21:19.640488Z",
     "iopub.status.busy": "2025-09-26T14:21:19.640353Z",
     "iopub.status.idle": "2025-09-26T14:21:19.643165Z",
     "shell.execute_reply": "2025-09-26T14:21:19.642742Z"
    }
   },
   "outputs": [
    {
     "name": "stdout",
     "output_type": "stream",
     "text": [
      "0\n",
      "2\n",
      "4\n",
      "6\n",
      "8\n",
      "10\n"
     ]
    }
   ],
   "source": [
    "i = 0\n",
    "while 3:\n",
    "    print(i)\n",
    "    i += 2\n",
    "    if i > 10:\n",
    "        break"
   ]
  },
  {
   "cell_type": "markdown",
   "metadata": {},
   "source": [
    "## HEEEEEELP!\n",
    "\n",
    "You will always need help with Python. There are so many packages, modules, functions, datatypes, and everything else it takes a while to keep it all straight, and you will always need to update \n",
    "\n",
    "1. Stackoverflow is amazing--it can be toxic at times, but the community often converges on useful answers. Here's an [example](http://stackoverflow.com/questions/5505380/most-efficient-way-to-pull-specified-rows-from-a-2-d-array).\n",
    "2. Official documentation is good, but can overwhelm.\n",
    "    \n",
    "    * Python in general: https://docs.python.org/3/contents.html\n",
    "    * numpy and scipy: http://docs.scipy.org/doc/\n",
    "    * matplotlib: https://matplotlib.org/stable/users/index.html and especially https://matplotlib.org/stable/gallery/index.html\n",
    "3. Of course, Google is good _Google your error message text!_\n",
    "4. If you like books, consider [O'Reilly](http://shop.oreilly.com/product/0636920028154.do)\n",
    "5. While in iPython (or a notebook) try `help(os)` or `? os` for example.\n",
    "\n",
    "    * `help(os)` brings up docstrings in the output window\n",
    "    * `?os` opens a separate pane below (that you can kick out to another tab using a button next to the X)  \n",
    "  \n",
    "6. How about AI? Copilot, ChatGPT, etc.?\n"
   ]
  },
  {
   "cell_type": "code",
   "execution_count": 81,
   "metadata": {
    "execution": {
     "iopub.execute_input": "2025-09-26T14:21:19.644427Z",
     "iopub.status.busy": "2025-09-26T14:21:19.644286Z",
     "iopub.status.idle": "2025-09-26T14:21:19.738143Z",
     "shell.execute_reply": "2025-09-26T14:21:19.737564Z"
    }
   },
   "outputs": [
    {
     "ename": "FileNotFoundError",
     "evalue": "[Errno 2] No such file or directory: './data/lex.png'",
     "output_type": "error",
     "traceback": [
      "\u001b[31m---------------------------------------------------------------------------\u001b[39m",
      "\u001b[31mFileNotFoundError\u001b[39m                         Traceback (most recent call last)",
      "\u001b[36mCell\u001b[39m\u001b[36m \u001b[39m\u001b[32mIn[81]\u001b[39m\u001b[32m, line 3\u001b[39m\n\u001b[32m      1\u001b[39m \u001b[38;5;28;01mfrom\u001b[39;00m\u001b[38;5;250m \u001b[39m\u001b[34;01mIPython\u001b[39;00m\u001b[34;01m.\u001b[39;00m\u001b[34;01mdisplay\u001b[39;00m\u001b[38;5;250m \u001b[39m\u001b[38;5;28;01mimport\u001b[39;00m Image, display\n\u001b[32m----> \u001b[39m\u001b[32m3\u001b[39m display(\u001b[43mImage\u001b[49m\u001b[43m(\u001b[49m\u001b[43mfilename\u001b[49m\u001b[43m=\u001b[49m\u001b[33;43m'\u001b[39;49m\u001b[33;43m./data/lex.png\u001b[39;49m\u001b[33;43m'\u001b[39;49m\u001b[43m,\u001b[49m\u001b[43m \u001b[49m\u001b[43mwidth\u001b[49m\u001b[43m=\u001b[49m\u001b[32;43m400\u001b[39;49m\u001b[43m)\u001b[49m)\n",
      "\u001b[36mFile \u001b[39m\u001b[32m~/micromamba/envs/pyclass-docs/lib/python3.11/site-packages/IPython/core/display.py:1025\u001b[39m, in \u001b[36mImage.__init__\u001b[39m\u001b[34m(self, data, url, filename, format, embed, width, height, retina, unconfined, metadata, alt)\u001b[39m\n\u001b[32m   1023\u001b[39m \u001b[38;5;28mself\u001b[39m.unconfined = unconfined\n\u001b[32m   1024\u001b[39m \u001b[38;5;28mself\u001b[39m.alt = alt\n\u001b[32m-> \u001b[39m\u001b[32m1025\u001b[39m \u001b[38;5;28;43msuper\u001b[39;49m\u001b[43m(\u001b[49m\u001b[43mImage\u001b[49m\u001b[43m,\u001b[49m\u001b[43m \u001b[49m\u001b[38;5;28;43mself\u001b[39;49m\u001b[43m)\u001b[49m\u001b[43m.\u001b[49m\u001b[34;43m__init__\u001b[39;49m\u001b[43m(\u001b[49m\u001b[43mdata\u001b[49m\u001b[43m=\u001b[49m\u001b[43mdata\u001b[49m\u001b[43m,\u001b[49m\u001b[43m \u001b[49m\u001b[43murl\u001b[49m\u001b[43m=\u001b[49m\u001b[43murl\u001b[49m\u001b[43m,\u001b[49m\u001b[43m \u001b[49m\u001b[43mfilename\u001b[49m\u001b[43m=\u001b[49m\u001b[43mfilename\u001b[49m\u001b[43m,\u001b[49m\n\u001b[32m   1026\u001b[39m \u001b[43m        \u001b[49m\u001b[43mmetadata\u001b[49m\u001b[43m=\u001b[49m\u001b[43mmetadata\u001b[49m\u001b[43m)\u001b[49m\n\u001b[32m   1028\u001b[39m \u001b[38;5;28;01mif\u001b[39;00m \u001b[38;5;28mself\u001b[39m.width \u001b[38;5;129;01mis\u001b[39;00m \u001b[38;5;28;01mNone\u001b[39;00m \u001b[38;5;129;01mand\u001b[39;00m \u001b[38;5;28mself\u001b[39m.metadata.get(\u001b[33m'\u001b[39m\u001b[33mwidth\u001b[39m\u001b[33m'\u001b[39m, {}):\n\u001b[32m   1029\u001b[39m     \u001b[38;5;28mself\u001b[39m.width = metadata[\u001b[33m'\u001b[39m\u001b[33mwidth\u001b[39m\u001b[33m'\u001b[39m]\n",
      "\u001b[36mFile \u001b[39m\u001b[32m~/micromamba/envs/pyclass-docs/lib/python3.11/site-packages/IPython/core/display.py:343\u001b[39m, in \u001b[36mDisplayObject.__init__\u001b[39m\u001b[34m(self, data, url, filename, metadata)\u001b[39m\n\u001b[32m    340\u001b[39m \u001b[38;5;28;01melif\u001b[39;00m \u001b[38;5;28mself\u001b[39m.metadata \u001b[38;5;129;01mis\u001b[39;00m \u001b[38;5;28;01mNone\u001b[39;00m:\n\u001b[32m    341\u001b[39m     \u001b[38;5;28mself\u001b[39m.metadata = {}\n\u001b[32m--> \u001b[39m\u001b[32m343\u001b[39m \u001b[38;5;28;43mself\u001b[39;49m\u001b[43m.\u001b[49m\u001b[43mreload\u001b[49m\u001b[43m(\u001b[49m\u001b[43m)\u001b[49m\n\u001b[32m    344\u001b[39m \u001b[38;5;28mself\u001b[39m._check_data()\n",
      "\u001b[36mFile \u001b[39m\u001b[32m~/micromamba/envs/pyclass-docs/lib/python3.11/site-packages/IPython/core/display.py:1060\u001b[39m, in \u001b[36mImage.reload\u001b[39m\u001b[34m(self)\u001b[39m\n\u001b[32m   1058\u001b[39m \u001b[38;5;250m\u001b[39m\u001b[33;03m\"\"\"Reload the raw data from file or URL.\"\"\"\u001b[39;00m\n\u001b[32m   1059\u001b[39m \u001b[38;5;28;01mif\u001b[39;00m \u001b[38;5;28mself\u001b[39m.embed:\n\u001b[32m-> \u001b[39m\u001b[32m1060\u001b[39m     \u001b[38;5;28;43msuper\u001b[39;49m\u001b[43m(\u001b[49m\u001b[43mImage\u001b[49m\u001b[43m,\u001b[49m\u001b[38;5;28;43mself\u001b[39;49m\u001b[43m)\u001b[49m\u001b[43m.\u001b[49m\u001b[43mreload\u001b[49m\u001b[43m(\u001b[49m\u001b[43m)\u001b[49m\n\u001b[32m   1061\u001b[39m     \u001b[38;5;28;01mif\u001b[39;00m \u001b[38;5;28mself\u001b[39m.retina:\n\u001b[32m   1062\u001b[39m         \u001b[38;5;28mself\u001b[39m._retina_shape()\n",
      "\u001b[36mFile \u001b[39m\u001b[32m~/micromamba/envs/pyclass-docs/lib/python3.11/site-packages/IPython/core/display.py:369\u001b[39m, in \u001b[36mDisplayObject.reload\u001b[39m\u001b[34m(self)\u001b[39m\n\u001b[32m    367\u001b[39m \u001b[38;5;28;01mif\u001b[39;00m \u001b[38;5;28mself\u001b[39m.filename \u001b[38;5;129;01mis\u001b[39;00m \u001b[38;5;129;01mnot\u001b[39;00m \u001b[38;5;28;01mNone\u001b[39;00m:\n\u001b[32m    368\u001b[39m     encoding = \u001b[38;5;28;01mNone\u001b[39;00m \u001b[38;5;28;01mif\u001b[39;00m \u001b[33m\"\u001b[39m\u001b[33mb\u001b[39m\u001b[33m\"\u001b[39m \u001b[38;5;129;01min\u001b[39;00m \u001b[38;5;28mself\u001b[39m._read_flags \u001b[38;5;28;01melse\u001b[39;00m \u001b[33m\"\u001b[39m\u001b[33mutf-8\u001b[39m\u001b[33m\"\u001b[39m\n\u001b[32m--> \u001b[39m\u001b[32m369\u001b[39m     \u001b[38;5;28;01mwith\u001b[39;00m \u001b[38;5;28;43mopen\u001b[39;49m\u001b[43m(\u001b[49m\u001b[38;5;28;43mself\u001b[39;49m\u001b[43m.\u001b[49m\u001b[43mfilename\u001b[49m\u001b[43m,\u001b[49m\u001b[43m \u001b[49m\u001b[38;5;28;43mself\u001b[39;49m\u001b[43m.\u001b[49m\u001b[43m_read_flags\u001b[49m\u001b[43m,\u001b[49m\u001b[43m \u001b[49m\u001b[43mencoding\u001b[49m\u001b[43m=\u001b[49m\u001b[43mencoding\u001b[49m\u001b[43m)\u001b[49m \u001b[38;5;28;01mas\u001b[39;00m f:\n\u001b[32m    370\u001b[39m         \u001b[38;5;28mself\u001b[39m.data = f.read()\n\u001b[32m    371\u001b[39m \u001b[38;5;28;01melif\u001b[39;00m \u001b[38;5;28mself\u001b[39m.url \u001b[38;5;129;01mis\u001b[39;00m \u001b[38;5;129;01mnot\u001b[39;00m \u001b[38;5;28;01mNone\u001b[39;00m:\n\u001b[32m    372\u001b[39m     \u001b[38;5;66;03m# Deferred import\u001b[39;00m\n",
      "\u001b[31mFileNotFoundError\u001b[39m: [Errno 2] No such file or directory: './data/lex.png'"
     ]
    }
   ],
   "source": [
    "from IPython.display import Image, display\n",
    "\n",
    "display(Image(filename='./data/lex.png', width=400))\n"
   ]
  }
 ],
 "metadata": {
  "kernelspec": {
   "display_name": "Python 3 (ipykernel)",
   "language": "python",
   "name": "python3"
  },
  "language_info": {
   "codemirror_mode": {
    "name": "ipython",
    "version": 3
   },
   "file_extension": ".py",
   "mimetype": "text/x-python",
   "name": "python",
   "nbconvert_exporter": "python",
   "pygments_lexer": "ipython3",
   "version": "3.11.13"
  }
 },
 "nbformat": 4,
 "nbformat_minor": 4
}
