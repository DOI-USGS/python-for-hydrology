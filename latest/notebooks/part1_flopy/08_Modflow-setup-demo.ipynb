{
 "cells": [
  {
   "cell_type": "markdown",
   "metadata": {},
   "source": [
    "# 08: Modflow-setup demonstration\n",
    "\n",
    "[Modflow-setup](https://github.com/DOI-USGS/modflow-setup) is a Python package for rapid, automated construction of MODFLOW models. Often in modeling projects, construction of the basic model structure (discretization, boundary conditions, etc) consumes a lot of time that could be spent on effective history matching, uncertainty quantification and forecast scenario development. While scripting with Flopy can speed construction of the basic model in a way that is robust and repeatable, it still takes time—with each project, new code must be developed or re-worked, dependencies managed, the idiosyncrasies of various interfaces recalled, and inevitable mistakes checked for and debugged. \n",
    "\n",
    "Modflow-setup aims to speed up construction of the basic model in a way that is robust and repeatable. Grid-independent source data such as shapefiles and rasters are specified in a single configuration file, along with the desired packages and their options. Modflow-setup reads the configuration and the source data, and within a few minutes, produces an external array-based MODFLOW model that is amenable to parameter estimation and uncertainty quantification using PEST (e.g. [White et al, 2021](https://doi.org/10.1016/j.envsoft.2021.105022)). Detailed description of Modflow-setup is provided by [Leaf and Fienen (2022)](https://www.frontiersin.org/articles/10.3389/feart.2022.903965) and in [online documentation](https://doi-usgs.github.io/modflow-setup/latest/).\n",
    "\n",
    "#### Example problem\n",
    "Here we demonstrate Modflow-setup with a simplified version of the Pleasant Lake model published by Fienen et al (2022), who used a multi-scale modeling approach to evaluate the effects of agricultural groundwater abstraction on the ecology of Pleasant Lake in central Wisconsin, USA. The original report and model files are available at the links below. Figure 1 shows the original published model, which included a coarse (200 meter resolution) \"parent\" model tightly coupled to a 20 meter resolution local grid refinement (LGR) inset (sub)model (see for example, Mehl and others, 2006; Langevin and others, 2017). The parent model was designed to capture the transient effects of agricultural pumping; the inset model was created to simulate groundwater/lake interactions at a finer scale. To incorporate the effects of distant boundaries, the parent model was in turn loosely coupled to a larger transient regional model via specified head boundaries along the model parameter. \n",
    "\n",
    "##### Some advantages of this multi-scale approach over an unstructured grid alternative include:\n",
    "* The large regional model, which consumes substantial disk space and carries a longer run time, can be managed independently of the parent and inset models. The perimeter of the parent model is sufficiently distant from the area of interest where two-way coupling is not needed.\n",
    "* Uniform, rectilinear grids are used for the parent and inset models, which greatly simplifies model construction, diagnostics, postprocessing and visualization\n",
    "* With the parent and inset models tightly coupled at the matrix (inner iteration) level, little or no model solution efficiency is lost vs. an unstructured discretization approach.\n",
    "\n",
    "<img src=\"https://github.com/doi-usgs/modflow-setup/blob/develop/docs/source/_static/fig1_pleasant_lake_model.jpg?raw=true\" align=\"center\">\n",
    "\n",
    "**Figure 1**: The full Pleasant Lake model domain with location map, showing the relationship between the regional, parent and LGR inset models, as well as the irrigation wells considered.\n",
    "\n",
    "Most details of the Fienen et al (2022) model are included here, but to reduce file sizes and execution time, a smaller parent model domain is used, and the inset model spacing is increased to 40 meters. The example model here is for illustrative purposes only, and is not intended to be adequate for representing pumping impacts or providing a sufficient distance to the perimeter boundaries.\n",
    "\n",
    "##### Example model details  \n",
    "\n",
    "* Transient MODFLOW-6 simulation with local grid refinement (LGR)\n",
    "* \"Parent\" and LGR \"inset\" models are dynamically coupled via the Groundwater Flow Exchange Package at the MODFLOW 6 Simulation level\n",
    "* Coarser \"parent\" model grid has a uniform 200 meter cell size \n",
    "* Locally refined \"inset\" model grid has a uniform 40 meter cell size\n",
    "* Both parent and inset models are 5 layers\n",
    "* Parent model is in turn based partially on a larger regional MODFLOW 6 model\n",
    "    * The RCHa, NPF, STO, and WEL input are rediscretized from the regional model\n",
    "    * Layer 1 in the regional model is represented by layers 1 and 2 in the parent and inset models\n",
    "    * The remaining layers are mapped as follows: regional layer 2 to parent/inset layer 3, 3:4 and 4:5\n",
    "* All models begin with an initial steady-state stress period, followed by monthly timesteps representing calendar year 2012.\n",
    "* Starting heads for the parent and inset models are resampled from the regional model binary output.\n",
    "* The Streamflow Routing (SFR) packages in the parent and inset models are constructed from a [NHDPlus v2 dataset](https://nhdplus.com/NHDPlus/NHDPlusV2_data.php), and linked together using the Water Mover (MVR) Package\n",
    "* Head observations are specified from csv files\n",
    "* LGR inset model extent is based on a buffer distance around a feature of interest (the lake).\n",
    "* LGR inset model DIS, IC, NPF, STO and RCHa input are rediscretized from the parent model input.\n",
    "* The Lake package is created from a polygon feature, bathymetry raster, stage-area-volume file and climate data from [PRISM](https://prism.oregonstate.edu/).\n",
    "* Lake package observations are set up automatically (with an output file for each lake)\n",
    "\n",
    "As we'll see below, Modflow-setup does all of this automatically, based on input specified in two configuration files (for the parent and inset models) that can be viewed with VSCode or any YAML-aware text editor:\n",
    "  \n",
    "``data/pleasant_lgr_parent.yml``  \n",
    "``data/pleasant_lgr_inset.yml``  \n",
    "\n",
    "\n",
    "#### A final note if you want to try Modflow-setup for your project\n",
    "The example here is presented in an interactive Jupyter Notebook format primarily for illustrative purposes. Typically, the best way to use Modflow-setup is within a python script (`*.py` file) that runs from start to finish. To get started with Modflow-setup on your project, see the [10 Minutes to Modflow-setup](https://doi-usgs.github.io/modflow-setup/latest/10min.html) guide, which includes template configuration files and model build scripts that you can download.\n",
    "\n"
   ]
  },
  {
   "cell_type": "code",
   "execution_count": 1,
   "metadata": {
    "execution": {
     "iopub.execute_input": "2024-07-30T17:19:50.599484Z",
     "iopub.status.busy": "2024-07-30T17:19:50.599107Z",
     "iopub.status.idle": "2024-07-30T17:19:51.916131Z",
     "shell.execute_reply": "2024-07-30T17:19:51.915619Z"
    }
   },
   "outputs": [
    {
     "ename": "AttributeError",
     "evalue": "`np.float_` was removed in the NumPy 2.0 release. Use `np.float64` instead.",
     "output_type": "error",
     "traceback": [
      "\u001b[0;31m---------------------------------------------------------------------------\u001b[0m",
      "\u001b[0;31mAttributeError\u001b[0m                            Traceback (most recent call last)",
      "Cell \u001b[0;32mIn[1], line 8\u001b[0m\n\u001b[1;32m      6\u001b[0m \u001b[38;5;28;01mimport\u001b[39;00m \u001b[38;5;21;01mmatplotlib\u001b[39;00m\u001b[38;5;21;01m.\u001b[39;00m\u001b[38;5;21;01mpyplot\u001b[39;00m \u001b[38;5;28;01mas\u001b[39;00m \u001b[38;5;21;01mplt\u001b[39;00m\n\u001b[1;32m      7\u001b[0m \u001b[38;5;28;01mfrom\u001b[39;00m \u001b[38;5;21;01mmatplotlib\u001b[39;00m \u001b[38;5;28;01mimport\u001b[39;00m patheffects\n\u001b[0;32m----> 8\u001b[0m \u001b[38;5;28;01mimport\u001b[39;00m \u001b[38;5;21;01mflopy\u001b[39;00m\n\u001b[1;32m      9\u001b[0m \u001b[38;5;28;01mfrom\u001b[39;00m \u001b[38;5;21;01mmfsetup\u001b[39;00m \u001b[38;5;28;01mimport\u001b[39;00m MF6model\n\u001b[1;32m     11\u001b[0m wd \u001b[38;5;241m=\u001b[39m Path\u001b[38;5;241m.\u001b[39mcwd()\n",
      "File \u001b[0;32m~/micromamba/envs/pyclass-docs/lib/python3.11/site-packages/flopy/__init__.py:26\u001b[0m\n\u001b[1;32m     23\u001b[0m __author__ \u001b[38;5;241m=\u001b[39m \u001b[38;5;124m\"\u001b[39m\u001b[38;5;124mFloPy Team\u001b[39m\u001b[38;5;124m\"\u001b[39m\n\u001b[1;32m     25\u001b[0m \u001b[38;5;28;01mfrom\u001b[39;00m \u001b[38;5;21;01m.\u001b[39;00m\u001b[38;5;21;01mversion\u001b[39;00m \u001b[38;5;28;01mimport\u001b[39;00m __version__  \u001b[38;5;66;03m# isort:skip\u001b[39;00m\n\u001b[0;32m---> 26\u001b[0m \u001b[38;5;28;01mfrom\u001b[39;00m \u001b[38;5;21;01m.\u001b[39;00m \u001b[38;5;28;01mimport\u001b[39;00m (\n\u001b[1;32m     27\u001b[0m     discretization,\n\u001b[1;32m     28\u001b[0m     export,\n\u001b[1;32m     29\u001b[0m     mf6,\n\u001b[1;32m     30\u001b[0m     mfusg,\n\u001b[1;32m     31\u001b[0m     modflow,\n\u001b[1;32m     32\u001b[0m     modflowlgr,\n\u001b[1;32m     33\u001b[0m     modpath,\n\u001b[1;32m     34\u001b[0m     mt3d,\n\u001b[1;32m     35\u001b[0m     pest,\n\u001b[1;32m     36\u001b[0m     plot,\n\u001b[1;32m     37\u001b[0m     seawat,\n\u001b[1;32m     38\u001b[0m     utils,\n\u001b[1;32m     39\u001b[0m )\n\u001b[1;32m     40\u001b[0m \u001b[38;5;28;01mfrom\u001b[39;00m \u001b[38;5;21;01m.\u001b[39;00m\u001b[38;5;21;01mmbase\u001b[39;00m \u001b[38;5;28;01mimport\u001b[39;00m run_model, which\n\u001b[1;32m     42\u001b[0m __all__ \u001b[38;5;241m=\u001b[39m [\n\u001b[1;32m     43\u001b[0m     \u001b[38;5;124m\"\u001b[39m\u001b[38;5;124m__author__\u001b[39m\u001b[38;5;124m\"\u001b[39m,\n\u001b[1;32m     44\u001b[0m     \u001b[38;5;124m\"\u001b[39m\u001b[38;5;124m__version__\u001b[39m\u001b[38;5;124m\"\u001b[39m,\n\u001b[0;32m   (...)\u001b[0m\n\u001b[1;32m     58\u001b[0m     \u001b[38;5;124m\"\u001b[39m\u001b[38;5;124mwhich\u001b[39m\u001b[38;5;124m\"\u001b[39m,\n\u001b[1;32m     59\u001b[0m ]\n",
      "File \u001b[0;32m~/micromamba/envs/pyclass-docs/lib/python3.11/site-packages/flopy/discretization/__init__.py:1\u001b[0m\n\u001b[0;32m----> 1\u001b[0m \u001b[38;5;28;01mfrom\u001b[39;00m \u001b[38;5;21;01m.\u001b[39;00m\u001b[38;5;21;01mstructuredgrid\u001b[39;00m \u001b[38;5;28;01mimport\u001b[39;00m StructuredGrid\n\u001b[1;32m      2\u001b[0m \u001b[38;5;28;01mfrom\u001b[39;00m \u001b[38;5;21;01m.\u001b[39;00m\u001b[38;5;21;01munstructuredgrid\u001b[39;00m \u001b[38;5;28;01mimport\u001b[39;00m UnstructuredGrid\n\u001b[1;32m      3\u001b[0m \u001b[38;5;28;01mfrom\u001b[39;00m \u001b[38;5;21;01m.\u001b[39;00m\u001b[38;5;21;01mvertexgrid\u001b[39;00m \u001b[38;5;28;01mimport\u001b[39;00m VertexGrid\n",
      "File \u001b[0;32m~/micromamba/envs/pyclass-docs/lib/python3.11/site-packages/flopy/discretization/structuredgrid.py:7\u001b[0m\n\u001b[1;32m      3\u001b[0m \u001b[38;5;28;01mfrom\u001b[39;00m \u001b[38;5;21;01mtyping\u001b[39;00m \u001b[38;5;28;01mimport\u001b[39;00m Union\n\u001b[1;32m      5\u001b[0m \u001b[38;5;28;01mimport\u001b[39;00m \u001b[38;5;21;01mnumpy\u001b[39;00m \u001b[38;5;28;01mas\u001b[39;00m \u001b[38;5;21;01mnp\u001b[39;00m\n\u001b[0;32m----> 7\u001b[0m \u001b[38;5;28;01mfrom\u001b[39;00m \u001b[38;5;21;01m.\u001b[39;00m\u001b[38;5;21;01mgrid\u001b[39;00m \u001b[38;5;28;01mimport\u001b[39;00m CachedData, Grid\n\u001b[1;32m     10\u001b[0m \u001b[38;5;28;01mdef\u001b[39;00m \u001b[38;5;21marray_at_verts_basic2d\u001b[39m(a):\n\u001b[1;32m     11\u001b[0m \u001b[38;5;250m    \u001b[39m\u001b[38;5;124;03m\"\"\"\u001b[39;00m\n\u001b[1;32m     12\u001b[0m \u001b[38;5;124;03m    Computes values at cell vertices on 2d array using neighbor averaging.\u001b[39;00m\n\u001b[1;32m     13\u001b[0m \n\u001b[0;32m   (...)\u001b[0m\n\u001b[1;32m     22\u001b[0m \u001b[38;5;124;03m        Array values at cell vertices, shape (a.shape[0]+1, a.shape[1]+1).\u001b[39;00m\n\u001b[1;32m     23\u001b[0m \u001b[38;5;124;03m    \"\"\"\u001b[39;00m\n",
      "File \u001b[0;32m~/micromamba/envs/pyclass-docs/lib/python3.11/site-packages/flopy/discretization/grid.py:16\u001b[0m\n\u001b[1;32m     13\u001b[0m \u001b[38;5;28;01mexcept\u001b[39;00m \u001b[38;5;167;01mImportError\u001b[39;00m:\n\u001b[1;32m     14\u001b[0m     HAS_PYPROJ \u001b[38;5;241m=\u001b[39m \u001b[38;5;28;01mFalse\u001b[39;00m\n\u001b[0;32m---> 16\u001b[0m \u001b[38;5;28;01mfrom\u001b[39;00m \u001b[38;5;21;01m.\u001b[39;00m\u001b[38;5;21;01m.\u001b[39;00m\u001b[38;5;21;01mutils\u001b[39;00m \u001b[38;5;28;01mimport\u001b[39;00m geometry\n\u001b[1;32m     17\u001b[0m \u001b[38;5;28;01mfrom\u001b[39;00m \u001b[38;5;21;01m.\u001b[39;00m\u001b[38;5;21;01m.\u001b[39;00m\u001b[38;5;21;01mutils\u001b[39;00m\u001b[38;5;21;01m.\u001b[39;00m\u001b[38;5;21;01mcrs\u001b[39;00m \u001b[38;5;28;01mimport\u001b[39;00m get_crs\n\u001b[1;32m     18\u001b[0m \u001b[38;5;28;01mfrom\u001b[39;00m \u001b[38;5;21;01m.\u001b[39;00m\u001b[38;5;21;01m.\u001b[39;00m\u001b[38;5;21;01mutils\u001b[39;00m\u001b[38;5;21;01m.\u001b[39;00m\u001b[38;5;21;01mgridutil\u001b[39;00m \u001b[38;5;28;01mimport\u001b[39;00m get_lni\n",
      "File \u001b[0;32m~/micromamba/envs/pyclass-docs/lib/python3.11/site-packages/flopy/utils/__init__.py:51\u001b[0m\n\u001b[1;32m     49\u001b[0m \u001b[38;5;28;01mfrom\u001b[39;00m \u001b[38;5;21;01m.\u001b[39;00m\u001b[38;5;21;01moptionblock\u001b[39;00m \u001b[38;5;28;01mimport\u001b[39;00m OptionBlock\n\u001b[1;32m     50\u001b[0m \u001b[38;5;28;01mfrom\u001b[39;00m \u001b[38;5;21;01m.\u001b[39;00m\u001b[38;5;21;01mpostprocessing\u001b[39;00m \u001b[38;5;28;01mimport\u001b[39;00m get_specific_discharge, get_transmissivities\n\u001b[0;32m---> 51\u001b[0m \u001b[38;5;28;01mfrom\u001b[39;00m \u001b[38;5;21;01m.\u001b[39;00m\u001b[38;5;21;01mrasters\u001b[39;00m \u001b[38;5;28;01mimport\u001b[39;00m Raster\n\u001b[1;32m     52\u001b[0m \u001b[38;5;28;01mfrom\u001b[39;00m \u001b[38;5;21;01m.\u001b[39;00m\u001b[38;5;21;01mrecarray_utils\u001b[39;00m \u001b[38;5;28;01mimport\u001b[39;00m create_empty_recarray, ra_slice, recarray\n\u001b[1;32m     53\u001b[0m \u001b[38;5;28;01mfrom\u001b[39;00m \u001b[38;5;21;01m.\u001b[39;00m\u001b[38;5;21;01mreference\u001b[39;00m \u001b[38;5;28;01mimport\u001b[39;00m TemporalReference\n",
      "File \u001b[0;32m~/micromamba/envs/pyclass-docs/lib/python3.11/site-packages/flopy/utils/rasters.py:13\u001b[0m\n\u001b[1;32m      8\u001b[0m \u001b[38;5;28;01mfrom\u001b[39;00m \u001b[38;5;21;01m.\u001b[39;00m\u001b[38;5;21;01mutl_import\u001b[39;00m \u001b[38;5;28;01mimport\u001b[39;00m import_optional_dependency\n\u001b[1;32m     10\u001b[0m warnings\u001b[38;5;241m.\u001b[39msimplefilter(\u001b[38;5;124m\"\u001b[39m\u001b[38;5;124malways\u001b[39m\u001b[38;5;124m\"\u001b[39m, \u001b[38;5;167;01mDeprecationWarning\u001b[39;00m)\n\u001b[0;32m---> 13\u001b[0m \u001b[38;5;28;43;01mclass\u001b[39;49;00m\u001b[43m \u001b[49m\u001b[38;5;21;43;01mRaster\u001b[39;49;00m\u001b[43m:\u001b[49m\n\u001b[1;32m     14\u001b[0m \u001b[38;5;250;43m    \u001b[39;49m\u001b[38;5;124;43;03m\"\"\"\u001b[39;49;00m\n\u001b[1;32m     15\u001b[0m \u001b[38;5;124;43;03m    The Raster object is used for cropping, sampling raster values,\u001b[39;49;00m\n\u001b[1;32m     16\u001b[0m \u001b[38;5;124;43;03m    and re-sampling raster values to grids, and provides methods to\u001b[39;49;00m\n\u001b[0;32m   (...)\u001b[0m\n\u001b[1;32m     45\u001b[0m \n\u001b[1;32m     46\u001b[0m \u001b[38;5;124;43;03m    \"\"\"\u001b[39;49;00m\n\u001b[1;32m     48\u001b[0m \u001b[43m    \u001b[49m\u001b[43mFLOAT32\u001b[49m\u001b[43m \u001b[49m\u001b[38;5;241;43m=\u001b[39;49m\u001b[43m \u001b[49m\u001b[43m(\u001b[49m\u001b[38;5;28;43mfloat\u001b[39;49m\u001b[43m,\u001b[49m\u001b[43m \u001b[49m\u001b[43mnp\u001b[49m\u001b[38;5;241;43m.\u001b[39;49m\u001b[43mfloat32\u001b[49m\u001b[43m,\u001b[49m\u001b[43m \u001b[49m\u001b[43mnp\u001b[49m\u001b[38;5;241;43m.\u001b[39;49m\u001b[43mfloat_\u001b[49m\u001b[43m)\u001b[49m\n",
      "File \u001b[0;32m~/micromamba/envs/pyclass-docs/lib/python3.11/site-packages/flopy/utils/rasters.py:48\u001b[0m, in \u001b[0;36mRaster\u001b[0;34m()\u001b[0m\n\u001b[1;32m     13\u001b[0m \u001b[38;5;28;01mclass\u001b[39;00m \u001b[38;5;21;01mRaster\u001b[39;00m:\n\u001b[1;32m     14\u001b[0m \u001b[38;5;250m    \u001b[39m\u001b[38;5;124;03m\"\"\"\u001b[39;00m\n\u001b[1;32m     15\u001b[0m \u001b[38;5;124;03m    The Raster object is used for cropping, sampling raster values,\u001b[39;00m\n\u001b[1;32m     16\u001b[0m \u001b[38;5;124;03m    and re-sampling raster values to grids, and provides methods to\u001b[39;00m\n\u001b[0;32m   (...)\u001b[0m\n\u001b[1;32m     45\u001b[0m \n\u001b[1;32m     46\u001b[0m \u001b[38;5;124;03m    \"\"\"\u001b[39;00m\n\u001b[0;32m---> 48\u001b[0m     FLOAT32 \u001b[38;5;241m=\u001b[39m (\u001b[38;5;28mfloat\u001b[39m, np\u001b[38;5;241m.\u001b[39mfloat32, \u001b[43mnp\u001b[49m\u001b[38;5;241;43m.\u001b[39;49m\u001b[43mfloat_\u001b[49m)\n\u001b[1;32m     49\u001b[0m     FLOAT64 \u001b[38;5;241m=\u001b[39m (np\u001b[38;5;241m.\u001b[39mfloat64,)\n\u001b[1;32m     50\u001b[0m     INT8 \u001b[38;5;241m=\u001b[39m (np\u001b[38;5;241m.\u001b[39mint8, np\u001b[38;5;241m.\u001b[39muint8)\n",
      "File \u001b[0;32m~/micromamba/envs/pyclass-docs/lib/python3.11/site-packages/numpy/__init__.py:397\u001b[0m, in \u001b[0;36m__getattr__\u001b[0;34m(attr)\u001b[0m\n\u001b[1;32m    394\u001b[0m     \u001b[38;5;28;01mraise\u001b[39;00m \u001b[38;5;167;01mAttributeError\u001b[39;00m(__former_attrs__[attr])\n\u001b[1;32m    396\u001b[0m \u001b[38;5;28;01mif\u001b[39;00m attr \u001b[38;5;129;01min\u001b[39;00m __expired_attributes__:\n\u001b[0;32m--> 397\u001b[0m     \u001b[38;5;28;01mraise\u001b[39;00m \u001b[38;5;167;01mAttributeError\u001b[39;00m(\n\u001b[1;32m    398\u001b[0m         \u001b[38;5;124mf\u001b[39m\u001b[38;5;124m\"\u001b[39m\u001b[38;5;124m`np.\u001b[39m\u001b[38;5;132;01m{\u001b[39;00mattr\u001b[38;5;132;01m}\u001b[39;00m\u001b[38;5;124m` was removed in the NumPy 2.0 release. \u001b[39m\u001b[38;5;124m\"\u001b[39m\n\u001b[1;32m    399\u001b[0m         \u001b[38;5;124mf\u001b[39m\u001b[38;5;124m\"\u001b[39m\u001b[38;5;132;01m{\u001b[39;00m__expired_attributes__[attr]\u001b[38;5;132;01m}\u001b[39;00m\u001b[38;5;124m\"\u001b[39m\n\u001b[1;32m    400\u001b[0m     )\n\u001b[1;32m    402\u001b[0m \u001b[38;5;28;01mif\u001b[39;00m attr \u001b[38;5;241m==\u001b[39m \u001b[38;5;124m\"\u001b[39m\u001b[38;5;124mchararray\u001b[39m\u001b[38;5;124m\"\u001b[39m:\n\u001b[1;32m    403\u001b[0m     warnings\u001b[38;5;241m.\u001b[39mwarn(\n\u001b[1;32m    404\u001b[0m         \u001b[38;5;124m\"\u001b[39m\u001b[38;5;124m`np.chararray` is deprecated and will be removed from \u001b[39m\u001b[38;5;124m\"\u001b[39m\n\u001b[1;32m    405\u001b[0m         \u001b[38;5;124m\"\u001b[39m\u001b[38;5;124mthe main namespace in the future. Use an array with a string \u001b[39m\u001b[38;5;124m\"\u001b[39m\n\u001b[1;32m    406\u001b[0m         \u001b[38;5;124m\"\u001b[39m\u001b[38;5;124mor bytes dtype instead.\u001b[39m\u001b[38;5;124m\"\u001b[39m, \u001b[38;5;167;01mDeprecationWarning\u001b[39;00m, stacklevel\u001b[38;5;241m=\u001b[39m\u001b[38;5;241m2\u001b[39m)\n",
      "\u001b[0;31mAttributeError\u001b[0m: `np.float_` was removed in the NumPy 2.0 release. Use `np.float64` instead."
     ]
    }
   ],
   "source": [
    "import os\n",
    "from pathlib import Path\n",
    "import numpy as np\n",
    "import pandas as pd\n",
    "from scipy.interpolate import griddata\n",
    "import matplotlib.pyplot as plt\n",
    "from matplotlib import patheffects\n",
    "import flopy\n",
    "from mfsetup import MF6model\n",
    "\n",
    "wd = Path.cwd()"
   ]
  },
  {
   "cell_type": "markdown",
   "metadata": {},
   "source": [
    "### Just make a model grid\n",
    "Oftentimes at the start of a modeling project, we want to quickly test different grid resolutions and extents before attempting to build the model. We can do this with Modflow-setup by creating a model instance and then running the ``setup_grid()`` method. A model grid instance is created from the ``setup_grid:`` block in the configuration file. "
   ]
  },
  {
   "cell_type": "code",
   "execution_count": 2,
   "metadata": {
    "execution": {
     "iopub.execute_input": "2024-07-30T17:19:51.918173Z",
     "iopub.status.busy": "2024-07-30T17:19:51.917985Z",
     "iopub.status.idle": "2024-07-30T17:19:51.928672Z",
     "shell.execute_reply": "2024-07-30T17:19:51.928197Z"
    }
   },
   "outputs": [
    {
     "ename": "NameError",
     "evalue": "name 'MF6model' is not defined",
     "output_type": "error",
     "traceback": [
      "\u001b[0;31m---------------------------------------------------------------------------\u001b[0m",
      "\u001b[0;31mNameError\u001b[0m                                 Traceback (most recent call last)",
      "Cell \u001b[0;32mIn[2], line 1\u001b[0m\n\u001b[0;32m----> 1\u001b[0m m \u001b[38;5;241m=\u001b[39m \u001b[43mMF6model\u001b[49m(cfg\u001b[38;5;241m=\u001b[39m\u001b[38;5;124m'\u001b[39m\u001b[38;5;124mdata/pleasant_lgr_parent.yml\u001b[39m\u001b[38;5;124m'\u001b[39m)\n\u001b[1;32m      2\u001b[0m m\u001b[38;5;241m.\u001b[39msetup_grid()\n",
      "\u001b[0;31mNameError\u001b[0m: name 'MF6model' is not defined"
     ]
    }
   ],
   "source": [
    "%%capture\n",
    "m = MF6model(cfg='data/pleasant_lgr_parent.yml')\n",
    "m.setup_grid()"
   ]
  },
  {
   "cell_type": "code",
   "execution_count": 3,
   "metadata": {
    "execution": {
     "iopub.execute_input": "2024-07-30T17:19:51.930503Z",
     "iopub.status.busy": "2024-07-30T17:19:51.930261Z",
     "iopub.status.idle": "2024-07-30T17:19:51.939930Z",
     "shell.execute_reply": "2024-07-30T17:19:51.939440Z"
    }
   },
   "outputs": [
    {
     "ename": "NameError",
     "evalue": "name 'm' is not defined",
     "output_type": "error",
     "traceback": [
      "\u001b[0;31m---------------------------------------------------------------------------\u001b[0m",
      "\u001b[0;31mNameError\u001b[0m                                 Traceback (most recent call last)",
      "Cell \u001b[0;32mIn[3], line 3\u001b[0m\n\u001b[1;32m      1\u001b[0m \u001b[38;5;66;03m#regional_sim = flopy.mf6.MFSimulation.load('pleasant', sim_ws='../pleasant-lake')\u001b[39;00m\n\u001b[1;32m      2\u001b[0m \u001b[38;5;66;03m#regional = regional_sim.get_model()\u001b[39;00m\n\u001b[0;32m----> 3\u001b[0m regional \u001b[38;5;241m=\u001b[39m \u001b[43mm\u001b[49m\u001b[38;5;241m.\u001b[39mparent\n\u001b[1;32m      4\u001b[0m regional\u001b[38;5;241m.\u001b[39mmodelgrid\u001b[38;5;241m.\u001b[39mwrite_shapefile(\u001b[38;5;124m'\u001b[39m\u001b[38;5;124mpostproc/shps/regional_model_grid.shp\u001b[39m\u001b[38;5;124m'\u001b[39m)\n",
      "\u001b[0;31mNameError\u001b[0m: name 'm' is not defined"
     ]
    }
   ],
   "source": [
    "#regional_sim = flopy.mf6.MFSimulation.load('pleasant', sim_ws='../pleasant-lake')\n",
    "#regional = regional_sim.get_model()\n",
    "regional = m.parent\n",
    "regional.modelgrid.write_shapefile('postproc/shps/regional_model_grid.shp')"
   ]
  },
  {
   "cell_type": "markdown",
   "metadata": {},
   "source": [
    "Since this model has local-grid refinement, it actually consists of two models: a parent built from ``pleasant_lgr_parent.yml``, and an inset built from ``pleasant_lgr_inset.yml``, which is referenced within ``pleasant_lgr_parent.yml``. The two sub-models are connected and solved simulataneously within the same MODFLOW 6 simulation. A model grid is made for each sub-model. The model grids are instances of the ``MFsetupGrid`` grid class, a subclass of the Flopy ``StructuredGrid`` class with some added functionality."
   ]
  },
  {
   "cell_type": "code",
   "execution_count": 4,
   "metadata": {
    "execution": {
     "iopub.execute_input": "2024-07-30T17:19:51.941877Z",
     "iopub.status.busy": "2024-07-30T17:19:51.941513Z",
     "iopub.status.idle": "2024-07-30T17:19:51.950784Z",
     "shell.execute_reply": "2024-07-30T17:19:51.950378Z"
    }
   },
   "outputs": [
    {
     "ename": "NameError",
     "evalue": "name 'm' is not defined",
     "output_type": "error",
     "traceback": [
      "\u001b[0;31m---------------------------------------------------------------------------\u001b[0m",
      "\u001b[0;31mNameError\u001b[0m                                 Traceback (most recent call last)",
      "Cell \u001b[0;32mIn[4], line 1\u001b[0m\n\u001b[0;32m----> 1\u001b[0m \u001b[43mm\u001b[49m\u001b[38;5;241m.\u001b[39mmodelgrid\n",
      "\u001b[0;31mNameError\u001b[0m: name 'm' is not defined"
     ]
    }
   ],
   "source": [
    "m.modelgrid"
   ]
  },
  {
   "cell_type": "code",
   "execution_count": 5,
   "metadata": {
    "execution": {
     "iopub.execute_input": "2024-07-30T17:19:51.952632Z",
     "iopub.status.busy": "2024-07-30T17:19:51.952329Z",
     "iopub.status.idle": "2024-07-30T17:19:51.961941Z",
     "shell.execute_reply": "2024-07-30T17:19:51.961524Z"
    }
   },
   "outputs": [
    {
     "ename": "NameError",
     "evalue": "name 'm' is not defined",
     "output_type": "error",
     "traceback": [
      "\u001b[0;31m---------------------------------------------------------------------------\u001b[0m",
      "\u001b[0;31mNameError\u001b[0m                                 Traceback (most recent call last)",
      "Cell \u001b[0;32mIn[5], line 1\u001b[0m\n\u001b[0;32m----> 1\u001b[0m \u001b[43mm\u001b[49m\u001b[38;5;241m.\u001b[39minset[\u001b[38;5;124m'\u001b[39m\u001b[38;5;124mplsnt-lgr-inset\u001b[39m\u001b[38;5;124m'\u001b[39m]\u001b[38;5;241m.\u001b[39mmodelgrid\n",
      "\u001b[0;31mNameError\u001b[0m: name 'm' is not defined"
     ]
    }
   ],
   "source": [
    "m.inset['plsnt-lgr-inset'].modelgrid"
   ]
  },
  {
   "cell_type": "markdown",
   "metadata": {},
   "source": [
    "#### Working directory gottcha\n",
    "Currently, to simplify working with external files in Flopy, **Modflow-setup changes the working directory to the model workspace**. In the context of a flat script that only builds the model, this is fine, but in a notebook or other workflows, this can potentially cause confusion."
   ]
  },
  {
   "cell_type": "code",
   "execution_count": 6,
   "metadata": {
    "execution": {
     "iopub.execute_input": "2024-07-30T17:19:51.963784Z",
     "iopub.status.busy": "2024-07-30T17:19:51.963433Z",
     "iopub.status.idle": "2024-07-30T17:19:51.968242Z",
     "shell.execute_reply": "2024-07-30T17:19:51.967850Z"
    }
   },
   "outputs": [
    {
     "data": {
      "text/plain": [
       "PosixPath('/home/runner/work/python-for-hydrology/python-for-hydrology/docs/source/notebooks/part1_flopy')"
      ]
     },
     "execution_count": 6,
     "metadata": {},
     "output_type": "execute_result"
    }
   ],
   "source": [
    "Path.cwd()"
   ]
  },
  {
   "cell_type": "markdown",
   "metadata": {},
   "source": [
    "### Write shapefiles of the inset and parent modelgrids\n",
    "A shapefile of the grid bounding box is written by default on creation of the model grid, to the location specified by ``output_files: grid_file:`` in the ``setup_grid:`` block (default is ``<model workspace>/postproc/shps/``). A shapefile of the grid cells as polygon features can be written as below:"
   ]
  },
  {
   "cell_type": "code",
   "execution_count": 7,
   "metadata": {
    "execution": {
     "iopub.execute_input": "2024-07-30T17:19:51.970070Z",
     "iopub.status.busy": "2024-07-30T17:19:51.969756Z",
     "iopub.status.idle": "2024-07-30T17:19:51.979750Z",
     "shell.execute_reply": "2024-07-30T17:19:51.979338Z"
    }
   },
   "outputs": [
    {
     "ename": "NameError",
     "evalue": "name 'm' is not defined",
     "output_type": "error",
     "traceback": [
      "\u001b[0;31m---------------------------------------------------------------------------\u001b[0m",
      "\u001b[0;31mNameError\u001b[0m                                 Traceback (most recent call last)",
      "Cell \u001b[0;32mIn[7], line 1\u001b[0m\n\u001b[0;32m----> 1\u001b[0m \u001b[43mm\u001b[49m\u001b[38;5;241m.\u001b[39mmodelgrid\u001b[38;5;241m.\u001b[39mwrite_shapefile(\u001b[38;5;124m'\u001b[39m\u001b[38;5;124mpostproc/shps/plsnt-lgr-parent_grid.shp\u001b[39m\u001b[38;5;124m'\u001b[39m)\n\u001b[1;32m      2\u001b[0m m\u001b[38;5;241m.\u001b[39minset[\u001b[38;5;124m'\u001b[39m\u001b[38;5;124mplsnt-lgr-inset\u001b[39m\u001b[38;5;124m'\u001b[39m]\u001b[38;5;241m.\u001b[39mmodelgrid\u001b[38;5;241m.\u001b[39mwrite_shapefile(\u001b[38;5;124m'\u001b[39m\u001b[38;5;124mpostproc/shps/plsnt-lgr-inset_grid.shp\u001b[39m\u001b[38;5;124m'\u001b[39m)\n",
      "\u001b[0;31mNameError\u001b[0m: name 'm' is not defined"
     ]
    }
   ],
   "source": [
    "m.modelgrid.write_shapefile('postproc/shps/plsnt-lgr-parent_grid.shp')\n",
    "m.inset['plsnt-lgr-inset'].modelgrid.write_shapefile('postproc/shps/plsnt-lgr-inset_grid.shp')"
   ]
  },
  {
   "cell_type": "markdown",
   "metadata": {},
   "source": [
    "##### Change the working directory back to the notebook location"
   ]
  },
  {
   "cell_type": "code",
   "execution_count": 8,
   "metadata": {
    "execution": {
     "iopub.execute_input": "2024-07-30T17:19:51.981571Z",
     "iopub.status.busy": "2024-07-30T17:19:51.981285Z",
     "iopub.status.idle": "2024-07-30T17:19:51.991371Z",
     "shell.execute_reply": "2024-07-30T17:19:51.990969Z"
    }
   },
   "outputs": [
    {
     "ename": "NameError",
     "evalue": "name 'wd' is not defined",
     "output_type": "error",
     "traceback": [
      "\u001b[0;31m---------------------------------------------------------------------------\u001b[0m",
      "\u001b[0;31mNameError\u001b[0m                                 Traceback (most recent call last)",
      "Cell \u001b[0;32mIn[8], line 1\u001b[0m\n\u001b[0;32m----> 1\u001b[0m os\u001b[38;5;241m.\u001b[39mchdir(\u001b[43mwd\u001b[49m)\n",
      "\u001b[0;31mNameError\u001b[0m: name 'wd' is not defined"
     ]
    }
   ],
   "source": [
    "os.chdir(wd)"
   ]
  },
  {
   "cell_type": "markdown",
   "metadata": {},
   "source": [
    "### Build the whole model"
   ]
  },
  {
   "cell_type": "code",
   "execution_count": 9,
   "metadata": {
    "execution": {
     "iopub.execute_input": "2024-07-30T17:19:51.993138Z",
     "iopub.status.busy": "2024-07-30T17:19:51.992833Z",
     "iopub.status.idle": "2024-07-30T17:19:52.002337Z",
     "shell.execute_reply": "2024-07-30T17:19:52.001837Z"
    }
   },
   "outputs": [
    {
     "ename": "NameError",
     "evalue": "name 'MF6model' is not defined",
     "output_type": "error",
     "traceback": [
      "\u001b[0;31m---------------------------------------------------------------------------\u001b[0m",
      "\u001b[0;31mNameError\u001b[0m                                 Traceback (most recent call last)",
      "Cell \u001b[0;32mIn[9], line 1\u001b[0m\n\u001b[0;32m----> 1\u001b[0m m \u001b[38;5;241m=\u001b[39m \u001b[43mMF6model\u001b[49m\u001b[38;5;241m.\u001b[39msetup_from_yaml(\u001b[38;5;124m'\u001b[39m\u001b[38;5;124mdata/pleasant_lgr_parent.yml\u001b[39m\u001b[38;5;124m'\u001b[39m)\n",
      "\u001b[0;31mNameError\u001b[0m: name 'MF6model' is not defined"
     ]
    }
   ],
   "source": [
    "%%capture\n",
    "m = MF6model.setup_from_yaml('data/pleasant_lgr_parent.yml')"
   ]
  },
  {
   "cell_type": "markdown",
   "metadata": {},
   "source": [
    "a ``MF6model`` instance (subclass of ``flopy.mf6.ModflowGwf``) is returned"
   ]
  },
  {
   "cell_type": "code",
   "execution_count": 10,
   "metadata": {
    "execution": {
     "iopub.execute_input": "2024-07-30T17:19:52.004105Z",
     "iopub.status.busy": "2024-07-30T17:19:52.003796Z",
     "iopub.status.idle": "2024-07-30T17:19:52.013010Z",
     "shell.execute_reply": "2024-07-30T17:19:52.012492Z"
    }
   },
   "outputs": [
    {
     "ename": "NameError",
     "evalue": "name 'm' is not defined",
     "output_type": "error",
     "traceback": [
      "\u001b[0;31m---------------------------------------------------------------------------\u001b[0m",
      "\u001b[0;31mNameError\u001b[0m                                 Traceback (most recent call last)",
      "Cell \u001b[0;32mIn[10], line 1\u001b[0m\n\u001b[0;32m----> 1\u001b[0m \u001b[43mm\u001b[49m\n",
      "\u001b[0;31mNameError\u001b[0m: name 'm' is not defined"
     ]
    }
   ],
   "source": [
    "m"
   ]
  },
  {
   "cell_type": "markdown",
   "metadata": {},
   "source": [
    "information from the configuration file is stored in an attached ``cfg`` dictionary"
   ]
  },
  {
   "cell_type": "code",
   "execution_count": 11,
   "metadata": {
    "execution": {
     "iopub.execute_input": "2024-07-30T17:19:52.014876Z",
     "iopub.status.busy": "2024-07-30T17:19:52.014562Z",
     "iopub.status.idle": "2024-07-30T17:19:52.024033Z",
     "shell.execute_reply": "2024-07-30T17:19:52.023623Z"
    }
   },
   "outputs": [
    {
     "ename": "NameError",
     "evalue": "name 'm' is not defined",
     "output_type": "error",
     "traceback": [
      "\u001b[0;31m---------------------------------------------------------------------------\u001b[0m",
      "\u001b[0;31mNameError\u001b[0m                                 Traceback (most recent call last)",
      "Cell \u001b[0;32mIn[11], line 1\u001b[0m\n\u001b[0;32m----> 1\u001b[0m \u001b[43mm\u001b[49m\u001b[38;5;241m.\u001b[39mcfg\u001b[38;5;241m.\u001b[39mkeys()\n",
      "\u001b[0;31mNameError\u001b[0m: name 'm' is not defined"
     ]
    }
   ],
   "source": [
    "m.cfg.keys()"
   ]
  },
  {
   "cell_type": "markdown",
   "metadata": {},
   "source": [
    "the ``cfg`` dictionary contains both information from the configuration file, and MODFLOW input (such as external text file arrays) that was developed from the original source data. Internally in Modflow-setup, MODFLOW input in ``cfg`` is fed to the various Flopy object constructors."
   ]
  },
  {
   "cell_type": "code",
   "execution_count": 12,
   "metadata": {
    "execution": {
     "iopub.execute_input": "2024-07-30T17:19:52.025922Z",
     "iopub.status.busy": "2024-07-30T17:19:52.025481Z",
     "iopub.status.idle": "2024-07-30T17:19:52.034998Z",
     "shell.execute_reply": "2024-07-30T17:19:52.034621Z"
    }
   },
   "outputs": [
    {
     "ename": "NameError",
     "evalue": "name 'm' is not defined",
     "output_type": "error",
     "traceback": [
      "\u001b[0;31m---------------------------------------------------------------------------\u001b[0m",
      "\u001b[0;31mNameError\u001b[0m                                 Traceback (most recent call last)",
      "Cell \u001b[0;32mIn[12], line 1\u001b[0m\n\u001b[0;32m----> 1\u001b[0m \u001b[43mm\u001b[49m\u001b[38;5;241m.\u001b[39mcfg[\u001b[38;5;124m'\u001b[39m\u001b[38;5;124mdis\u001b[39m\u001b[38;5;124m'\u001b[39m]\n",
      "\u001b[0;31mNameError\u001b[0m: name 'm' is not defined"
     ]
    }
   ],
   "source": [
    "m.cfg['dis']"
   ]
  },
  {
   "cell_type": "markdown",
   "metadata": {},
   "source": [
    "The inset LGR model is attached to the parent within an ``inset`` dictionary"
   ]
  },
  {
   "cell_type": "code",
   "execution_count": 13,
   "metadata": {
    "execution": {
     "iopub.execute_input": "2024-07-30T17:19:52.036603Z",
     "iopub.status.busy": "2024-07-30T17:19:52.036464Z",
     "iopub.status.idle": "2024-07-30T17:19:52.045852Z",
     "shell.execute_reply": "2024-07-30T17:19:52.045350Z"
    }
   },
   "outputs": [
    {
     "ename": "NameError",
     "evalue": "name 'm' is not defined",
     "output_type": "error",
     "traceback": [
      "\u001b[0;31m---------------------------------------------------------------------------\u001b[0m",
      "\u001b[0;31mNameError\u001b[0m                                 Traceback (most recent call last)",
      "Cell \u001b[0;32mIn[13], line 1\u001b[0m\n\u001b[0;32m----> 1\u001b[0m \u001b[43mm\u001b[49m\u001b[38;5;241m.\u001b[39minset\n",
      "\u001b[0;31mNameError\u001b[0m: name 'm' is not defined"
     ]
    }
   ],
   "source": [
    "m.inset"
   ]
  },
  {
   "cell_type": "markdown",
   "metadata": {},
   "source": [
    "#### Plot the inset and parent model grids with Lake Package connections by layer"
   ]
  },
  {
   "cell_type": "code",
   "execution_count": 14,
   "metadata": {
    "execution": {
     "iopub.execute_input": "2024-07-30T17:19:52.047744Z",
     "iopub.status.busy": "2024-07-30T17:19:52.047451Z",
     "iopub.status.idle": "2024-07-30T17:19:52.063172Z",
     "shell.execute_reply": "2024-07-30T17:19:52.062660Z"
    }
   },
   "outputs": [
    {
     "ename": "NameError",
     "evalue": "name 'm' is not defined",
     "output_type": "error",
     "traceback": [
      "\u001b[0;31m---------------------------------------------------------------------------\u001b[0m",
      "\u001b[0;31mNameError\u001b[0m                                 Traceback (most recent call last)",
      "Cell \u001b[0;32mIn[14], line 1\u001b[0m\n\u001b[0;32m----> 1\u001b[0m inset \u001b[38;5;241m=\u001b[39m \u001b[43mm\u001b[49m\u001b[38;5;241m.\u001b[39minset[\u001b[38;5;124m'\u001b[39m\u001b[38;5;124mplsnt-lgr-inset\u001b[39m\u001b[38;5;124m'\u001b[39m]\n\u001b[1;32m      3\u001b[0m \u001b[38;5;66;03m# Get the parent model grid extent\u001b[39;00m\n\u001b[1;32m      4\u001b[0m \u001b[38;5;66;03m# to set plot limits later\u001b[39;00m\n\u001b[1;32m      5\u001b[0m l, r, b, t \u001b[38;5;241m=\u001b[39m m\u001b[38;5;241m.\u001b[39mmodelgrid\u001b[38;5;241m.\u001b[39mextent\n",
      "\u001b[0;31mNameError\u001b[0m: name 'm' is not defined"
     ]
    }
   ],
   "source": [
    "inset = m.inset['plsnt-lgr-inset']\n",
    "\n",
    "# Get the parent model grid extent\n",
    "# to set plot limits later\n",
    "l, r, b, t = m.modelgrid.extent\n",
    "\n",
    "# Make the plot\n",
    "fig, ax = plt.subplots(figsize=(10, 10))\n",
    "parent_mv = flopy.plot.PlotMapView(model=m, ax=ax)\n",
    "inset_mv = flopy.plot.PlotMapView(model=inset, ax=ax)\n",
    "parent_mv.plot_bc(\"SFR\", plotAll=True)\n",
    "inset_mv.plot_bc(\"SFR\", plotAll=True)\n",
    "lcp = parent_mv.plot_grid(lw=0.5, ax=ax)\n",
    "lci = inset_mv.plot_grid(lw=0.5)\n",
    "\n",
    "# Get the lake connections\n",
    "vconn = inset.lak.connectiondata.array[inset.lak.connectiondata.array['claktype'] == 'vertical']\n",
    "k, i, j = zip(*vconn['cellid'])\n",
    "lakeconnections = np.zeros((inset.nrow, inset.ncol))\n",
    "lakeconnections[i, j] = np.array(k)\n",
    "lakeconnections = np.ma.masked_array(lakeconnections, mask=lakeconnections == 0)\n",
    "qmi = inset_mv.plot_array(lakeconnections)\n",
    "\n",
    "# re-limit the plot to the parent model extent\n",
    "ax.set_ylim(b, t)\n",
    "ax.set_xlim(l, r)\n",
    "ax.set_aspect(1)\n",
    "plt.colorbar(qmi, shrink=0.5, label='Lake connection layer')\n",
    "ax.set_xlabel('Easting, in WTM meters (epsg: 3070)')\n",
    "ax.set_ylabel('Northing, in WTM meters (epsg: 3070)')"
   ]
  },
  {
   "cell_type": "markdown",
   "metadata": {},
   "source": [
    "### write the MODFLOW input files\n",
    "(just like you would for a Flopy model)"
   ]
  },
  {
   "cell_type": "code",
   "execution_count": 15,
   "metadata": {
    "execution": {
     "iopub.execute_input": "2024-07-30T17:19:52.065071Z",
     "iopub.status.busy": "2024-07-30T17:19:52.064766Z",
     "iopub.status.idle": "2024-07-30T17:19:52.074634Z",
     "shell.execute_reply": "2024-07-30T17:19:52.074243Z"
    }
   },
   "outputs": [
    {
     "ename": "NameError",
     "evalue": "name 'm' is not defined",
     "output_type": "error",
     "traceback": [
      "\u001b[0;31m---------------------------------------------------------------------------\u001b[0m",
      "\u001b[0;31mNameError\u001b[0m                                 Traceback (most recent call last)",
      "Cell \u001b[0;32mIn[15], line 1\u001b[0m\n\u001b[0;32m----> 1\u001b[0m \u001b[43mm\u001b[49m\u001b[38;5;241m.\u001b[39mwrite_input()\n",
      "\u001b[0;31mNameError\u001b[0m: name 'm' is not defined"
     ]
    }
   ],
   "source": [
    "m.write_input()"
   ]
  },
  {
   "cell_type": "markdown",
   "metadata": {},
   "source": [
    "### Run the model\n",
    "\n",
    "**Note:** Running the model through Flopy (as below) requires specification of the MODFLOW executable. In Flopy, the executable is specified via the ``exe_name`` argument to the simulation constructor for MODFLOW 6, or model constructor for previous MODFLOW versions. Similarly, in Modflow-setup, the ``exe_name`` is specified in the ``simulation:`` or ``model:`` block of the [configuration file](https://doi-usgs.github.io/modflow-setup/latest/config-file-gallery.html#pleasant-lake-test-case). This example assumes that a MODFLOW 6 executable with the name \"mf6\" either resides in the model workspace, or is included in the system path."
   ]
  },
  {
   "cell_type": "code",
   "execution_count": 16,
   "metadata": {
    "execution": {
     "iopub.execute_input": "2024-07-30T17:19:52.076404Z",
     "iopub.status.busy": "2024-07-30T17:19:52.076071Z",
     "iopub.status.idle": "2024-07-30T17:19:52.085466Z",
     "shell.execute_reply": "2024-07-30T17:19:52.084980Z"
    }
   },
   "outputs": [
    {
     "ename": "NameError",
     "evalue": "name 'm' is not defined",
     "output_type": "error",
     "traceback": [
      "\u001b[0;31m---------------------------------------------------------------------------\u001b[0m",
      "\u001b[0;31mNameError\u001b[0m                                 Traceback (most recent call last)",
      "Cell \u001b[0;32mIn[16], line 1\u001b[0m\n\u001b[0;32m----> 1\u001b[0m \u001b[43mm\u001b[49m\u001b[38;5;241m.\u001b[39msimulation\u001b[38;5;241m.\u001b[39mrun_simulation()\n",
      "\u001b[0;31mNameError\u001b[0m: name 'm' is not defined"
     ]
    }
   ],
   "source": [
    "m.simulation.run_simulation()"
   ]
  },
  {
   "cell_type": "markdown",
   "metadata": {},
   "source": [
    "### Plot the results\n"
   ]
  },
  {
   "cell_type": "code",
   "execution_count": 17,
   "metadata": {
    "execution": {
     "iopub.execute_input": "2024-07-30T17:19:52.087178Z",
     "iopub.status.busy": "2024-07-30T17:19:52.087022Z",
     "iopub.status.idle": "2024-07-30T17:19:52.090283Z",
     "shell.execute_reply": "2024-07-30T17:19:52.089791Z"
    }
   },
   "outputs": [
    {
     "data": {
      "text/plain": [
       "PosixPath('/home/runner/work/python-for-hydrology/python-for-hydrology/docs/source/notebooks/part1_flopy')"
      ]
     },
     "execution_count": 17,
     "metadata": {},
     "output_type": "execute_result"
    }
   ],
   "source": [
    "Path.cwd()"
   ]
  },
  {
   "cell_type": "markdown",
   "metadata": {},
   "source": [
    "#### Read the output and post-process the 3D head results into 2D water table(s)"
   ]
  },
  {
   "cell_type": "code",
   "execution_count": 18,
   "metadata": {
    "execution": {
     "iopub.execute_input": "2024-07-30T17:19:52.092124Z",
     "iopub.status.busy": "2024-07-30T17:19:52.091733Z",
     "iopub.status.idle": "2024-07-30T17:19:52.385301Z",
     "shell.execute_reply": "2024-07-30T17:19:52.384803Z"
    }
   },
   "outputs": [
    {
     "ename": "AttributeError",
     "evalue": "`np.float_` was removed in the NumPy 2.0 release. Use `np.float64` instead.",
     "output_type": "error",
     "traceback": [
      "\u001b[0;31m---------------------------------------------------------------------------\u001b[0m",
      "\u001b[0;31mAttributeError\u001b[0m                            Traceback (most recent call last)",
      "Cell \u001b[0;32mIn[18], line 1\u001b[0m\n\u001b[0;32m----> 1\u001b[0m \u001b[38;5;28;01mimport\u001b[39;00m \u001b[38;5;21;01mflopy\u001b[39;00m\u001b[38;5;21;01m.\u001b[39;00m\u001b[38;5;21;01mutils\u001b[39;00m\u001b[38;5;21;01m.\u001b[39;00m\u001b[38;5;21;01mbinaryfile\u001b[39;00m \u001b[38;5;28;01mas\u001b[39;00m \u001b[38;5;21;01mbf\u001b[39;00m\n\u001b[1;32m      2\u001b[0m \u001b[38;5;28;01mfrom\u001b[39;00m \u001b[38;5;21;01mflopy\u001b[39;00m\u001b[38;5;21;01m.\u001b[39;00m\u001b[38;5;21;01mutils\u001b[39;00m\u001b[38;5;21;01m.\u001b[39;00m\u001b[38;5;21;01mpostprocessing\u001b[39;00m \u001b[38;5;28;01mimport\u001b[39;00m get_water_table\n\u001b[1;32m      4\u001b[0m lgr_parent_headsobj \u001b[38;5;241m=\u001b[39m bf\u001b[38;5;241m.\u001b[39mHeadFile(\u001b[38;5;124m'\u001b[39m\u001b[38;5;124mplsnt-lgr-parent.hds\u001b[39m\u001b[38;5;124m'\u001b[39m)\n",
      "File \u001b[0;32m~/micromamba/envs/pyclass-docs/lib/python3.11/site-packages/flopy/__init__.py:26\u001b[0m\n\u001b[1;32m     23\u001b[0m __author__ \u001b[38;5;241m=\u001b[39m \u001b[38;5;124m\"\u001b[39m\u001b[38;5;124mFloPy Team\u001b[39m\u001b[38;5;124m\"\u001b[39m\n\u001b[1;32m     25\u001b[0m \u001b[38;5;28;01mfrom\u001b[39;00m \u001b[38;5;21;01m.\u001b[39;00m\u001b[38;5;21;01mversion\u001b[39;00m \u001b[38;5;28;01mimport\u001b[39;00m __version__  \u001b[38;5;66;03m# isort:skip\u001b[39;00m\n\u001b[0;32m---> 26\u001b[0m \u001b[38;5;28;01mfrom\u001b[39;00m \u001b[38;5;21;01m.\u001b[39;00m \u001b[38;5;28;01mimport\u001b[39;00m (\n\u001b[1;32m     27\u001b[0m     discretization,\n\u001b[1;32m     28\u001b[0m     export,\n\u001b[1;32m     29\u001b[0m     mf6,\n\u001b[1;32m     30\u001b[0m     mfusg,\n\u001b[1;32m     31\u001b[0m     modflow,\n\u001b[1;32m     32\u001b[0m     modflowlgr,\n\u001b[1;32m     33\u001b[0m     modpath,\n\u001b[1;32m     34\u001b[0m     mt3d,\n\u001b[1;32m     35\u001b[0m     pest,\n\u001b[1;32m     36\u001b[0m     plot,\n\u001b[1;32m     37\u001b[0m     seawat,\n\u001b[1;32m     38\u001b[0m     utils,\n\u001b[1;32m     39\u001b[0m )\n\u001b[1;32m     40\u001b[0m \u001b[38;5;28;01mfrom\u001b[39;00m \u001b[38;5;21;01m.\u001b[39;00m\u001b[38;5;21;01mmbase\u001b[39;00m \u001b[38;5;28;01mimport\u001b[39;00m run_model, which\n\u001b[1;32m     42\u001b[0m __all__ \u001b[38;5;241m=\u001b[39m [\n\u001b[1;32m     43\u001b[0m     \u001b[38;5;124m\"\u001b[39m\u001b[38;5;124m__author__\u001b[39m\u001b[38;5;124m\"\u001b[39m,\n\u001b[1;32m     44\u001b[0m     \u001b[38;5;124m\"\u001b[39m\u001b[38;5;124m__version__\u001b[39m\u001b[38;5;124m\"\u001b[39m,\n\u001b[0;32m   (...)\u001b[0m\n\u001b[1;32m     58\u001b[0m     \u001b[38;5;124m\"\u001b[39m\u001b[38;5;124mwhich\u001b[39m\u001b[38;5;124m\"\u001b[39m,\n\u001b[1;32m     59\u001b[0m ]\n",
      "File \u001b[0;32m~/micromamba/envs/pyclass-docs/lib/python3.11/site-packages/flopy/discretization/__init__.py:1\u001b[0m\n\u001b[0;32m----> 1\u001b[0m \u001b[38;5;28;01mfrom\u001b[39;00m \u001b[38;5;21;01m.\u001b[39;00m\u001b[38;5;21;01mstructuredgrid\u001b[39;00m \u001b[38;5;28;01mimport\u001b[39;00m StructuredGrid\n\u001b[1;32m      2\u001b[0m \u001b[38;5;28;01mfrom\u001b[39;00m \u001b[38;5;21;01m.\u001b[39;00m\u001b[38;5;21;01munstructuredgrid\u001b[39;00m \u001b[38;5;28;01mimport\u001b[39;00m UnstructuredGrid\n\u001b[1;32m      3\u001b[0m \u001b[38;5;28;01mfrom\u001b[39;00m \u001b[38;5;21;01m.\u001b[39;00m\u001b[38;5;21;01mvertexgrid\u001b[39;00m \u001b[38;5;28;01mimport\u001b[39;00m VertexGrid\n",
      "File \u001b[0;32m~/micromamba/envs/pyclass-docs/lib/python3.11/site-packages/flopy/discretization/structuredgrid.py:7\u001b[0m\n\u001b[1;32m      3\u001b[0m \u001b[38;5;28;01mfrom\u001b[39;00m \u001b[38;5;21;01mtyping\u001b[39;00m \u001b[38;5;28;01mimport\u001b[39;00m Union\n\u001b[1;32m      5\u001b[0m \u001b[38;5;28;01mimport\u001b[39;00m \u001b[38;5;21;01mnumpy\u001b[39;00m \u001b[38;5;28;01mas\u001b[39;00m \u001b[38;5;21;01mnp\u001b[39;00m\n\u001b[0;32m----> 7\u001b[0m \u001b[38;5;28;01mfrom\u001b[39;00m \u001b[38;5;21;01m.\u001b[39;00m\u001b[38;5;21;01mgrid\u001b[39;00m \u001b[38;5;28;01mimport\u001b[39;00m CachedData, Grid\n\u001b[1;32m     10\u001b[0m \u001b[38;5;28;01mdef\u001b[39;00m \u001b[38;5;21marray_at_verts_basic2d\u001b[39m(a):\n\u001b[1;32m     11\u001b[0m \u001b[38;5;250m    \u001b[39m\u001b[38;5;124;03m\"\"\"\u001b[39;00m\n\u001b[1;32m     12\u001b[0m \u001b[38;5;124;03m    Computes values at cell vertices on 2d array using neighbor averaging.\u001b[39;00m\n\u001b[1;32m     13\u001b[0m \n\u001b[0;32m   (...)\u001b[0m\n\u001b[1;32m     22\u001b[0m \u001b[38;5;124;03m        Array values at cell vertices, shape (a.shape[0]+1, a.shape[1]+1).\u001b[39;00m\n\u001b[1;32m     23\u001b[0m \u001b[38;5;124;03m    \"\"\"\u001b[39;00m\n",
      "File \u001b[0;32m~/micromamba/envs/pyclass-docs/lib/python3.11/site-packages/flopy/discretization/grid.py:16\u001b[0m\n\u001b[1;32m     13\u001b[0m \u001b[38;5;28;01mexcept\u001b[39;00m \u001b[38;5;167;01mImportError\u001b[39;00m:\n\u001b[1;32m     14\u001b[0m     HAS_PYPROJ \u001b[38;5;241m=\u001b[39m \u001b[38;5;28;01mFalse\u001b[39;00m\n\u001b[0;32m---> 16\u001b[0m \u001b[38;5;28;01mfrom\u001b[39;00m \u001b[38;5;21;01m.\u001b[39;00m\u001b[38;5;21;01m.\u001b[39;00m\u001b[38;5;21;01mutils\u001b[39;00m \u001b[38;5;28;01mimport\u001b[39;00m geometry\n\u001b[1;32m     17\u001b[0m \u001b[38;5;28;01mfrom\u001b[39;00m \u001b[38;5;21;01m.\u001b[39;00m\u001b[38;5;21;01m.\u001b[39;00m\u001b[38;5;21;01mutils\u001b[39;00m\u001b[38;5;21;01m.\u001b[39;00m\u001b[38;5;21;01mcrs\u001b[39;00m \u001b[38;5;28;01mimport\u001b[39;00m get_crs\n\u001b[1;32m     18\u001b[0m \u001b[38;5;28;01mfrom\u001b[39;00m \u001b[38;5;21;01m.\u001b[39;00m\u001b[38;5;21;01m.\u001b[39;00m\u001b[38;5;21;01mutils\u001b[39;00m\u001b[38;5;21;01m.\u001b[39;00m\u001b[38;5;21;01mgridutil\u001b[39;00m \u001b[38;5;28;01mimport\u001b[39;00m get_lni\n",
      "File \u001b[0;32m~/micromamba/envs/pyclass-docs/lib/python3.11/site-packages/flopy/utils/__init__.py:51\u001b[0m\n\u001b[1;32m     49\u001b[0m \u001b[38;5;28;01mfrom\u001b[39;00m \u001b[38;5;21;01m.\u001b[39;00m\u001b[38;5;21;01moptionblock\u001b[39;00m \u001b[38;5;28;01mimport\u001b[39;00m OptionBlock\n\u001b[1;32m     50\u001b[0m \u001b[38;5;28;01mfrom\u001b[39;00m \u001b[38;5;21;01m.\u001b[39;00m\u001b[38;5;21;01mpostprocessing\u001b[39;00m \u001b[38;5;28;01mimport\u001b[39;00m get_specific_discharge, get_transmissivities\n\u001b[0;32m---> 51\u001b[0m \u001b[38;5;28;01mfrom\u001b[39;00m \u001b[38;5;21;01m.\u001b[39;00m\u001b[38;5;21;01mrasters\u001b[39;00m \u001b[38;5;28;01mimport\u001b[39;00m Raster\n\u001b[1;32m     52\u001b[0m \u001b[38;5;28;01mfrom\u001b[39;00m \u001b[38;5;21;01m.\u001b[39;00m\u001b[38;5;21;01mrecarray_utils\u001b[39;00m \u001b[38;5;28;01mimport\u001b[39;00m create_empty_recarray, ra_slice, recarray\n\u001b[1;32m     53\u001b[0m \u001b[38;5;28;01mfrom\u001b[39;00m \u001b[38;5;21;01m.\u001b[39;00m\u001b[38;5;21;01mreference\u001b[39;00m \u001b[38;5;28;01mimport\u001b[39;00m TemporalReference\n",
      "File \u001b[0;32m~/micromamba/envs/pyclass-docs/lib/python3.11/site-packages/flopy/utils/rasters.py:13\u001b[0m\n\u001b[1;32m      8\u001b[0m \u001b[38;5;28;01mfrom\u001b[39;00m \u001b[38;5;21;01m.\u001b[39;00m\u001b[38;5;21;01mutl_import\u001b[39;00m \u001b[38;5;28;01mimport\u001b[39;00m import_optional_dependency\n\u001b[1;32m     10\u001b[0m warnings\u001b[38;5;241m.\u001b[39msimplefilter(\u001b[38;5;124m\"\u001b[39m\u001b[38;5;124malways\u001b[39m\u001b[38;5;124m\"\u001b[39m, \u001b[38;5;167;01mDeprecationWarning\u001b[39;00m)\n\u001b[0;32m---> 13\u001b[0m \u001b[38;5;28;43;01mclass\u001b[39;49;00m\u001b[43m \u001b[49m\u001b[38;5;21;43;01mRaster\u001b[39;49;00m\u001b[43m:\u001b[49m\n\u001b[1;32m     14\u001b[0m \u001b[38;5;250;43m    \u001b[39;49m\u001b[38;5;124;43;03m\"\"\"\u001b[39;49;00m\n\u001b[1;32m     15\u001b[0m \u001b[38;5;124;43;03m    The Raster object is used for cropping, sampling raster values,\u001b[39;49;00m\n\u001b[1;32m     16\u001b[0m \u001b[38;5;124;43;03m    and re-sampling raster values to grids, and provides methods to\u001b[39;49;00m\n\u001b[0;32m   (...)\u001b[0m\n\u001b[1;32m     45\u001b[0m \n\u001b[1;32m     46\u001b[0m \u001b[38;5;124;43;03m    \"\"\"\u001b[39;49;00m\n\u001b[1;32m     48\u001b[0m \u001b[43m    \u001b[49m\u001b[43mFLOAT32\u001b[49m\u001b[43m \u001b[49m\u001b[38;5;241;43m=\u001b[39;49m\u001b[43m \u001b[49m\u001b[43m(\u001b[49m\u001b[38;5;28;43mfloat\u001b[39;49m\u001b[43m,\u001b[49m\u001b[43m \u001b[49m\u001b[43mnp\u001b[49m\u001b[38;5;241;43m.\u001b[39;49m\u001b[43mfloat32\u001b[49m\u001b[43m,\u001b[49m\u001b[43m \u001b[49m\u001b[43mnp\u001b[49m\u001b[38;5;241;43m.\u001b[39;49m\u001b[43mfloat_\u001b[49m\u001b[43m)\u001b[49m\n",
      "File \u001b[0;32m~/micromamba/envs/pyclass-docs/lib/python3.11/site-packages/flopy/utils/rasters.py:48\u001b[0m, in \u001b[0;36mRaster\u001b[0;34m()\u001b[0m\n\u001b[1;32m     13\u001b[0m \u001b[38;5;28;01mclass\u001b[39;00m \u001b[38;5;21;01mRaster\u001b[39;00m:\n\u001b[1;32m     14\u001b[0m \u001b[38;5;250m    \u001b[39m\u001b[38;5;124;03m\"\"\"\u001b[39;00m\n\u001b[1;32m     15\u001b[0m \u001b[38;5;124;03m    The Raster object is used for cropping, sampling raster values,\u001b[39;00m\n\u001b[1;32m     16\u001b[0m \u001b[38;5;124;03m    and re-sampling raster values to grids, and provides methods to\u001b[39;00m\n\u001b[0;32m   (...)\u001b[0m\n\u001b[1;32m     45\u001b[0m \n\u001b[1;32m     46\u001b[0m \u001b[38;5;124;03m    \"\"\"\u001b[39;00m\n\u001b[0;32m---> 48\u001b[0m     FLOAT32 \u001b[38;5;241m=\u001b[39m (\u001b[38;5;28mfloat\u001b[39m, np\u001b[38;5;241m.\u001b[39mfloat32, \u001b[43mnp\u001b[49m\u001b[38;5;241;43m.\u001b[39;49m\u001b[43mfloat_\u001b[49m)\n\u001b[1;32m     49\u001b[0m     FLOAT64 \u001b[38;5;241m=\u001b[39m (np\u001b[38;5;241m.\u001b[39mfloat64,)\n\u001b[1;32m     50\u001b[0m     INT8 \u001b[38;5;241m=\u001b[39m (np\u001b[38;5;241m.\u001b[39mint8, np\u001b[38;5;241m.\u001b[39muint8)\n",
      "File \u001b[0;32m~/micromamba/envs/pyclass-docs/lib/python3.11/site-packages/numpy/__init__.py:397\u001b[0m, in \u001b[0;36m__getattr__\u001b[0;34m(attr)\u001b[0m\n\u001b[1;32m    394\u001b[0m     \u001b[38;5;28;01mraise\u001b[39;00m \u001b[38;5;167;01mAttributeError\u001b[39;00m(__former_attrs__[attr])\n\u001b[1;32m    396\u001b[0m \u001b[38;5;28;01mif\u001b[39;00m attr \u001b[38;5;129;01min\u001b[39;00m __expired_attributes__:\n\u001b[0;32m--> 397\u001b[0m     \u001b[38;5;28;01mraise\u001b[39;00m \u001b[38;5;167;01mAttributeError\u001b[39;00m(\n\u001b[1;32m    398\u001b[0m         \u001b[38;5;124mf\u001b[39m\u001b[38;5;124m\"\u001b[39m\u001b[38;5;124m`np.\u001b[39m\u001b[38;5;132;01m{\u001b[39;00mattr\u001b[38;5;132;01m}\u001b[39;00m\u001b[38;5;124m` was removed in the NumPy 2.0 release. \u001b[39m\u001b[38;5;124m\"\u001b[39m\n\u001b[1;32m    399\u001b[0m         \u001b[38;5;124mf\u001b[39m\u001b[38;5;124m\"\u001b[39m\u001b[38;5;132;01m{\u001b[39;00m__expired_attributes__[attr]\u001b[38;5;132;01m}\u001b[39;00m\u001b[38;5;124m\"\u001b[39m\n\u001b[1;32m    400\u001b[0m     )\n\u001b[1;32m    402\u001b[0m \u001b[38;5;28;01mif\u001b[39;00m attr \u001b[38;5;241m==\u001b[39m \u001b[38;5;124m\"\u001b[39m\u001b[38;5;124mchararray\u001b[39m\u001b[38;5;124m\"\u001b[39m:\n\u001b[1;32m    403\u001b[0m     warnings\u001b[38;5;241m.\u001b[39mwarn(\n\u001b[1;32m    404\u001b[0m         \u001b[38;5;124m\"\u001b[39m\u001b[38;5;124m`np.chararray` is deprecated and will be removed from \u001b[39m\u001b[38;5;124m\"\u001b[39m\n\u001b[1;32m    405\u001b[0m         \u001b[38;5;124m\"\u001b[39m\u001b[38;5;124mthe main namespace in the future. Use an array with a string \u001b[39m\u001b[38;5;124m\"\u001b[39m\n\u001b[1;32m    406\u001b[0m         \u001b[38;5;124m\"\u001b[39m\u001b[38;5;124mor bytes dtype instead.\u001b[39m\u001b[38;5;124m\"\u001b[39m, \u001b[38;5;167;01mDeprecationWarning\u001b[39;00m, stacklevel\u001b[38;5;241m=\u001b[39m\u001b[38;5;241m2\u001b[39m)\n",
      "\u001b[0;31mAttributeError\u001b[0m: `np.float_` was removed in the NumPy 2.0 release. Use `np.float64` instead."
     ]
    }
   ],
   "source": [
    "import flopy.utils.binaryfile as bf\n",
    "from flopy.utils.postprocessing import get_water_table\n",
    "\n",
    "lgr_parent_headsobj = bf.HeadFile('plsnt-lgr-parent.hds')\n",
    "lgr_inset_headsobj = bf.HeadFile('plsnt-lgr-inset.hds')\n",
    "\n",
    "# read the head results for the last stress period\n",
    "kper = 12\n",
    "lgr_parent_hds = lgr_parent_headsobj.get_data(kstpkper=(0, kper))\n",
    "lgr_inset_hds = lgr_inset_headsobj.get_data(kstpkper=(0, kper))\n",
    "\n",
    "# Get the water table elevation from the 3D head results\n",
    "inset_wt = get_water_table(lgr_inset_hds)\n",
    "parent_wt = get_water_table(lgr_parent_hds)\n",
    "\n",
    "# put in the lake level (not included in head output)\n",
    "lake_results = pd.read_csv('lake1.obs.csv')\n",
    "stage = lake_results['STAGE'][kper]\n",
    "inset_wt[inset.lakarr[0] == 1] = stage\n",
    "# add the SFR stage as well\n",
    "parent_sfr_stage = m.sfr.output.stage().get_data()[0, 0, :]\n",
    "# get the SFR cell i, j locations\n",
    "# by unpacking the cellid tuples in the packagedata\n",
    "psfr_k, psfr_i, psfr_j = zip(*m.sfr.packagedata.array['cellid'])\n",
    "parent_wt[psfr_i, psfr_j] = parent_sfr_stage\n",
    "inset_sfr_stage = inset.sfr.output.stage().get_data()[0, 0, :]\n",
    "# get the SFR cell i, j locations\n",
    "# by unpacking the cellid tuples in the packagedata\n",
    "isfr_k, isfr_i, isfr_j = zip(*inset.sfr.packagedata.array['cellid'])\n",
    "inset_wt[isfr_i, isfr_j] = inset_sfr_stage\n",
    "\n",
    "# get the cell budget using the .output attribute\n",
    "# (instead of the binaryfile utility directly)\n",
    "cbc = m.output.budget()\n",
    "inset_cbc = inset.output.budget()\n",
    "lak = inset_cbc.get_data(text='lak', full3D=True)[0].sum(axis=0)\n",
    "parent_sfr = cbc.get_data(text='sfr', full3D=True)[0]\n",
    "inset_sfr = inset_cbc.get_data(text='sfr', full3D=True)[0]"
   ]
  },
  {
   "cell_type": "markdown",
   "metadata": {},
   "source": [
    "#### Then combine the parent and inset model head results\n",
    "(into a single grid at the inset model resolution; for a nicer looking plot)\n",
    "\n",
    "Note: We could skip this step and simply work with the parent and inset models individually in the same plot (as we are doing below with the grids and boundary conditions). However, if we want to create continuous contours of the head solution, we need to first resample it to a single grid (usually at the finer inset model resolution) that spans the whole model domain. "
   ]
  },
  {
   "cell_type": "code",
   "execution_count": 19,
   "metadata": {
    "execution": {
     "iopub.execute_input": "2024-07-30T17:19:52.387193Z",
     "iopub.status.busy": "2024-07-30T17:19:52.386904Z",
     "iopub.status.idle": "2024-07-30T17:19:52.400351Z",
     "shell.execute_reply": "2024-07-30T17:19:52.399879Z"
    }
   },
   "outputs": [
    {
     "ename": "NameError",
     "evalue": "name 'm' is not defined",
     "output_type": "error",
     "traceback": [
      "\u001b[0;31m---------------------------------------------------------------------------\u001b[0m",
      "\u001b[0;31mNameError\u001b[0m                                 Traceback (most recent call last)",
      "Cell \u001b[0;32mIn[19], line 2\u001b[0m\n\u001b[1;32m      1\u001b[0m \u001b[38;5;66;03m# make the single grid\u001b[39;00m\n\u001b[0;32m----> 2\u001b[0m l, b, r, t \u001b[38;5;241m=\u001b[39m \u001b[43mm\u001b[49m\u001b[38;5;241m.\u001b[39mmodelgrid\u001b[38;5;241m.\u001b[39mbounds\n\u001b[1;32m      3\u001b[0m xi \u001b[38;5;241m=\u001b[39m np\u001b[38;5;241m.\u001b[39marange(l, r, \u001b[38;5;241m40\u001b[39m)\n\u001b[1;32m      4\u001b[0m yi \u001b[38;5;241m=\u001b[39m np\u001b[38;5;241m.\u001b[39marange(b, t, \u001b[38;5;241m40\u001b[39m)[::\u001b[38;5;241m-\u001b[39m\u001b[38;5;241m1\u001b[39m]\n",
      "\u001b[0;31mNameError\u001b[0m: name 'm' is not defined"
     ]
    }
   ],
   "source": [
    "# make the single grid\n",
    "l, b, r, t = m.modelgrid.bounds\n",
    "xi = np.arange(l, r, 40)\n",
    "yi = np.arange(b, t, 40)[::-1]\n",
    "Xi, Yi = np.meshgrid(xi, yi)\n",
    "\n",
    "# make a single set of points\n",
    "# including both parent and inset cell centers\n",
    "# and water table values\n",
    "x = m.modelgrid.xcellcenters[~parent_wt.mask]\n",
    "y = m.modelgrid.ycellcenters[~parent_wt.mask]\n",
    "x = np.append(x, inset.modelgrid.xcellcenters[~inset_wt.mask])\n",
    "y = np.append(y, inset.modelgrid.ycellcenters[~inset_wt.mask])\n",
    "z = parent_wt[~parent_wt.mask].data\n",
    "z = np.append(z, inset_wt[~inset_wt.mask].data)\n",
    "\n",
    "# interpolate the results from the points\n",
    "# onto the single inset resolution grid\n",
    "results = griddata((x, y), z, (Xi, Yi))"
   ]
  },
  {
   "cell_type": "markdown",
   "metadata": {},
   "source": [
    "### Make the plot\n",
    "* include the parent and inset model grids\n",
    "* show the head contours for the combined parent/inset simulation\n",
    "* show \"leakage\" results for the Lake and SFR packages (neg. values indicate groundwater discharge to surface water)\n",
    "\n",
    "Note: Leakage (cell by cell flow) reported by MODFLOW is volumetric, so the apparent parent model values will be higher, simply because they contain more length of stream than the inset model cells."
   ]
  },
  {
   "cell_type": "code",
   "execution_count": 20,
   "metadata": {
    "execution": {
     "iopub.execute_input": "2024-07-30T17:19:52.402116Z",
     "iopub.status.busy": "2024-07-30T17:19:52.401847Z",
     "iopub.status.idle": "2024-07-30T17:19:52.517422Z",
     "shell.execute_reply": "2024-07-30T17:19:52.516945Z"
    }
   },
   "outputs": [
    {
     "ename": "NameError",
     "evalue": "name 'flopy' is not defined",
     "output_type": "error",
     "traceback": [
      "\u001b[0;31m---------------------------------------------------------------------------\u001b[0m",
      "\u001b[0;31mNameError\u001b[0m                                 Traceback (most recent call last)",
      "Cell \u001b[0;32mIn[20], line 8\u001b[0m\n\u001b[1;32m      6\u001b[0m fig, ax \u001b[38;5;241m=\u001b[39m plt\u001b[38;5;241m.\u001b[39msubplots(figsize\u001b[38;5;241m=\u001b[39m(\u001b[38;5;241m12\u001b[39m, \u001b[38;5;241m12\u001b[39m))\n\u001b[1;32m      7\u001b[0m \u001b[38;5;66;03m# create Flopy plot objects\u001b[39;00m\n\u001b[0;32m----> 8\u001b[0m parent_mv \u001b[38;5;241m=\u001b[39m \u001b[43mflopy\u001b[49m\u001b[38;5;241m.\u001b[39mplot\u001b[38;5;241m.\u001b[39mPlotMapView(model\u001b[38;5;241m=\u001b[39mm, ax\u001b[38;5;241m=\u001b[39max, layer\u001b[38;5;241m=\u001b[39mlayer)\n\u001b[1;32m      9\u001b[0m inset_mv \u001b[38;5;241m=\u001b[39m flopy\u001b[38;5;241m.\u001b[39mplot\u001b[38;5;241m.\u001b[39mPlotMapView(model\u001b[38;5;241m=\u001b[39minset, ax\u001b[38;5;241m=\u001b[39max, layer\u001b[38;5;241m=\u001b[39mlayer)\n\u001b[1;32m     11\u001b[0m vmin, vmax \u001b[38;5;241m=\u001b[39m \u001b[38;5;241m-\u001b[39m\u001b[38;5;241m100\u001b[39m, \u001b[38;5;241m100\u001b[39m\n",
      "\u001b[0;31mNameError\u001b[0m: name 'flopy' is not defined"
     ]
    },
    {
     "data": {
      "image/png": "[encoded data removed]",
      "text/plain": [
       "<Figure size 1200x1200 with 1 Axes>"
      ]
     },
     "metadata": {},
     "output_type": "display_data"
    }
   ],
   "source": [
    "plt.rcParams['axes.labelsize'] = 10\n",
    "plt.rcParams['xtick.labelsize'] = 10\n",
    "plt.rcParams['ytick.labelsize'] = 10\n",
    "\n",
    "layer = 0\n",
    "fig, ax = plt.subplots(figsize=(12, 12))\n",
    "# create Flopy plot objects\n",
    "parent_mv = flopy.plot.PlotMapView(model=m, ax=ax, layer=layer)\n",
    "inset_mv = flopy.plot.PlotMapView(model=inset, ax=ax, layer=layer)\n",
    "\n",
    "vmin, vmax = -100, 100\n",
    "parent_mv.plot_array(parent_sfr.sum(axis=0), cmap='coolwarm', vmin=vmin, vmax=vmax)\n",
    "im = inset_mv.plot_array(lak, cmap='coolwarm', vmin=vmin, vmax=vmax)\n",
    "im = inset_mv.plot_array(inset_sfr.sum(axis=0), cmap='coolwarm', vmin=vmin, vmax=vmax)\n",
    "cb = fig.colorbar(im, shrink=0.75, label='Leakage, in m$^3$/day')\n",
    "\n",
    "# contour the combined inset/parent head results\n",
    "levels = np.arange(290, 315, 2)\n",
    "ctr = ax.contour(Xi, Yi, results, levels=levels, colors='b', zorder=10)\n",
    "labels = ax.clabel(ctr, inline=True, fontsize=10, inline_spacing=20)\n",
    "plt.setp(labels, path_effects=[\n",
    "    patheffects.withStroke(linewidth=3, foreground=\"w\")])\n",
    "\n",
    "# plot the grid cell edges\n",
    "lcp = parent_mv.plot_grid(lw=0.5, ax=ax)\n",
    "lci = inset_mv.plot_grid(lw=0.5)\n",
    "\n",
    "ax.set_ylim(b, t)\n",
    "ax.set_xlim(l, r)\n",
    "ax.set_aspect(1)\n",
    "ax.set_ylabel('Northing, in Wisconsin Transverse Mercator (meters)')\n",
    "ax.set_xlabel('Easting, in Wisconsin Transverse Mercator (meters)')\n",
    "\n"
   ]
  },
  {
   "cell_type": "markdown",
   "metadata": {},
   "source": [
    "#### References\n",
    "Fienen, M. N., Haserodt, M. J., Leaf, A. T., and Westenbroek, S. M. (2022). Simulation of regional groundwater flow and groundwater/lake interactions in the central Sands, Wisconsin. U.S. Geological Survey Scientific Investigations Report 2022-5046. doi:10.3133/sir20225046\n",
    "\n",
    "Langevin, C.D., Hughes, J.D., Banta, E.R., Niswonger, R.G., Panday, S., and Provost, A.M., 2017, Documentation for the MODFLOW 6 groundwater flow model: U.S. Geological Survey Techniques and Methods, book 6, chap. A55, 197 p., https://doi.org/ 10.3133/tm6A55.\n",
    "\n",
    "Leaf, A.T. and Fienen, M.N. (2022) Modflow-setup: Robust automation of groundwater model construction. Front. Earth Sci. 10:903965. doi: 10.3389/feart.2022.903965\n",
    "\n",
    "Mehl, S., Hill, M.C., and Leake, S.A., 2006, Comparison of local grid refinement methods for MODFLOW: Groundwater, v. 44, no. 6, p. 792–796, https://doi.org/10.1111/j.1745-6584.2006.00192.x\n",
    "\n",
    "Westenbroek, S. M., Engott, J. A., Kelson, V. A., and Hunt, R. J. (2018). SWB Version 2.0—a soil-water-balance code for estimating net infiltration and other 1152 water-budget components. U.S. Geological Survey Techniques and Methods, book 6,\n",
    "118. chap. A59. doi:10.3133/tm6A59\n",
    "\n",
    "White, J. T., Hemmings, B., Fienen, M. N., and Knowling, M. J. (2021). Towards improved environmental modeling outcomes: Enabling low-cost access to high- 1157 dimensional, geostatistical-based decision-support analyses. Environ. Model. Softw.\n",
    "139, 105022. doi:10.1016/j.envsoft.2021.105022\n",
    "\n",
    "Wisconsin Department of Natural Resources (WDNR) (2021). Central Sands Lake study report: Findings and recommendations. Rep. Wis. State Legislature. 1162 doi:10.5281/zenodo.5708791"
   ]
  }
 ],
 "metadata": {
  "kernelspec": {
   "display_name": "pyclass",
   "language": "python",
   "name": "python3"
  },
  "language_info": {
   "codemirror_mode": {
    "name": "ipython",
    "version": 3
   },
   "file_extension": ".py",
   "mimetype": "text/x-python",
   "name": "python",
   "nbconvert_exporter": "python",
   "pygments_lexer": "ipython3",
   "version": "3.11.9"
  }
 },
 "nbformat": 4,
 "nbformat_minor": 4
}
