{
 "cells": [
  {
   "cell_type": "markdown",
   "id": "81c052ce-0ca3-4f8c-a6e3-f626433018b3",
   "metadata": {},
   "source": [
    "# 05: Unstructured grid and general mesh generation with FloPy\n",
    "\n",
    "In this notebook we'll cover how to build Structured and Unstructured Meshes (Grids) with FloPy for use in MODFLOW models. \n",
    "\n",
    "This notebook will start with generating a simple Structured Grid and we will use this grid object to begin developing Unstructured Meshes. The grids generated in theis notebook include the following:\n",
    "\n",
    "   - Regular structured grid (review)\n",
    "   - Irregular structured grid with variable row and column spacings\n",
    "   - Local Grid Refinement (LGR): A locally refined mesh that can be subsetted into a second model within a MODFLOW simulation\n",
    "   - Quadtree Mesh: A mesh with a four fold (quad) refinement for each grid cell in a given refinement area\n",
    "   - Triangular Mesh: A triangular mesh generated using Delaunay triangulation\n",
    "   - Voronoi Mesh: A mesh generated from the connected centers of the Delaunay triangulation circumcircles\n"
   ]
  },
  {
   "cell_type": "code",
   "execution_count": 1,
   "id": "296be634-fa9e-4373-805c-15952a73baa4",
   "metadata": {
    "execution": {
     "iopub.execute_input": "2025-09-25T16:50:30.458651Z",
     "iopub.status.busy": "2025-09-25T16:50:30.458432Z",
     "iopub.status.idle": "2025-09-25T16:50:31.270283Z",
     "shell.execute_reply": "2025-09-25T16:50:31.269849Z"
    }
   },
   "outputs": [
    {
     "ename": "ModuleNotFoundError",
     "evalue": "No module named 'contextily'",
     "output_type": "error",
     "traceback": [
      "\u001b[31m---------------------------------------------------------------------------\u001b[39m",
      "\u001b[31mModuleNotFoundError\u001b[39m                       Traceback (most recent call last)",
      "\u001b[36mCell\u001b[39m\u001b[36m \u001b[39m\u001b[32mIn[1]\u001b[39m\u001b[32m, line 9\u001b[39m\n\u001b[32m      7\u001b[39m \u001b[38;5;28;01mimport\u001b[39;00m\u001b[38;5;250m \u001b[39m\u001b[34;01mnumpy\u001b[39;00m\u001b[38;5;250m \u001b[39m\u001b[38;5;28;01mas\u001b[39;00m\u001b[38;5;250m \u001b[39m\u001b[34;01mnp\u001b[39;00m\n\u001b[32m      8\u001b[39m \u001b[38;5;28;01mimport\u001b[39;00m\u001b[38;5;250m \u001b[39m\u001b[34;01mpandas\u001b[39;00m\u001b[38;5;250m \u001b[39m\u001b[38;5;28;01mas\u001b[39;00m\u001b[38;5;250m \u001b[39m\u001b[34;01mpd\u001b[39;00m\n\u001b[32m----> \u001b[39m\u001b[32m9\u001b[39m \u001b[38;5;28;01mimport\u001b[39;00m\u001b[38;5;250m \u001b[39m\u001b[34;01mcontextily\u001b[39;00m\u001b[38;5;250m \u001b[39m\u001b[38;5;28;01mas\u001b[39;00m\u001b[38;5;250m \u001b[39m\u001b[34;01mctx\u001b[39;00m\n\u001b[32m     10\u001b[39m \u001b[38;5;28;01mfrom\u001b[39;00m\u001b[38;5;250m \u001b[39m\u001b[34;01mdataretrieval\u001b[39;00m\u001b[38;5;250m \u001b[39m\u001b[38;5;28;01mimport\u001b[39;00m nldi, nwis\n\u001b[32m     11\u001b[39m \u001b[38;5;28;01mfrom\u001b[39;00m\u001b[38;5;250m \u001b[39m\u001b[34;01mflopy\u001b[39;00m\u001b[34;01m.\u001b[39;00m\u001b[34;01mdiscretization\u001b[39;00m\u001b[38;5;250m \u001b[39m\u001b[38;5;28;01mimport\u001b[39;00m StructuredGrid, VertexGrid\n",
      "\u001b[31mModuleNotFoundError\u001b[39m: No module named 'contextily'"
     ]
    }
   ],
   "source": [
    "import warnings\n",
    "from pathlib import Path\n",
    "\n",
    "import flopy\n",
    "import geopandas as gpd\n",
    "import matplotlib.pyplot as plt\n",
    "import numpy as np\n",
    "import pandas as pd\n",
    "import contextily as ctx\n",
    "from dataretrieval import nldi, nwis\n",
    "from flopy.discretization import StructuredGrid, VertexGrid\n",
    "from flopy.plot import PlotMapView\n",
    "from flopy.utils.gridgen import Gridgen\n",
    "from flopy.utils.gridintersect import GridIntersect\n",
    "from flopy.utils.lgrutil import Lgr\n",
    "from flopy.utils.rasters import Raster\n",
    "from flopy.utils.triangle import Triangle\n",
    "from flopy.utils.voronoi import VoronoiGrid\n",
    "from shapely.errors import ShapelyDeprecationWarning\n",
    "\n",
    "warnings.simplefilter(\"ignore\", DeprecationWarning)\n",
    "warnings.simplefilter(\"ignore\", ShapelyDeprecationWarning)"
   ]
  },
  {
   "cell_type": "markdown",
   "id": "96fbc012-0c27-4335-9cc6-2314b5e445e5",
   "metadata": {},
   "source": [
    "## Creating a regular structured (rectilinear) grid\n",
    "\n",
    "This activity will start by creating a simple sturctured (rectilinear) grid from a 1/3 arc second Digital Elevation Model of the Sagehen Creek watershed as an illustration of how we can create an initial mesh that can be used to develop a model from.\n",
    "\n",
    "This is a quick review for more information, see the previous activity `04_Modelgrid_and_intersection.ipynb`"
   ]
  },
  {
   "cell_type": "markdown",
   "id": "a140b317-5a20-4af5-9e1e-07392acdeb2a",
   "metadata": {},
   "source": [
    "Load the Digital Elevation Model and visualize it"
   ]
  },
  {
   "cell_type": "code",
   "execution_count": 2,
   "id": "32163ef9-ede0-4cdd-a238-c64b8bef43da",
   "metadata": {
    "execution": {
     "iopub.execute_input": "2025-09-25T16:50:31.271888Z",
     "iopub.status.busy": "2025-09-25T16:50:31.271723Z",
     "iopub.status.idle": "2025-09-25T16:50:31.289063Z",
     "shell.execute_reply": "2025-09-25T16:50:31.288557Z"
    }
   },
   "outputs": [
    {
     "ename": "NameError",
     "evalue": "name 'Raster' is not defined",
     "output_type": "error",
     "traceback": [
      "\u001b[31m---------------------------------------------------------------------------\u001b[39m",
      "\u001b[31mNameError\u001b[39m                                 Traceback (most recent call last)",
      "\u001b[36mCell\u001b[39m\u001b[36m \u001b[39m\u001b[32mIn[2]\u001b[39m\u001b[32m, line 4\u001b[39m\n\u001b[32m      2\u001b[39m geospatial_ws = data_ws / \u001b[33m\"\u001b[39m\u001b[33munstructured_grid_data\u001b[39m\u001b[33m\"\u001b[39m\n\u001b[32m      3\u001b[39m dem = geospatial_ws / \u001b[33m\"\u001b[39m\u001b[33mdem.img\u001b[39m\u001b[33m\"\u001b[39m\n\u001b[32m----> \u001b[39m\u001b[32m4\u001b[39m rstr = \u001b[43mRaster\u001b[49m.load(dem)\n\u001b[32m      5\u001b[39m rstr.plot();\n",
      "\u001b[31mNameError\u001b[39m: name 'Raster' is not defined"
     ]
    }
   ],
   "source": [
    "data_ws = Path(\"./data\")\n",
    "geospatial_ws = data_ws / \"unstructured_grid_data\"\n",
    "dem = geospatial_ws / \"dem.img\"\n",
    "rstr = Raster.load(dem)\n",
    "rstr.plot();"
   ]
  },
  {
   "cell_type": "markdown",
   "id": "3e09da28-5aac-43c4-b248-98488e783bb2",
   "metadata": {},
   "source": [
    "Get the DEM boundaries"
   ]
  },
  {
   "cell_type": "code",
   "execution_count": 3,
   "id": "11714a91-b05b-4586-b1c2-278faa625bdb",
   "metadata": {
    "execution": {
     "iopub.execute_input": "2025-09-25T16:50:31.290440Z",
     "iopub.status.busy": "2025-09-25T16:50:31.290298Z",
     "iopub.status.idle": "2025-09-25T16:50:31.308177Z",
     "shell.execute_reply": "2025-09-25T16:50:31.307751Z"
    }
   },
   "outputs": [
    {
     "ename": "NameError",
     "evalue": "name 'rstr' is not defined",
     "output_type": "error",
     "traceback": [
      "\u001b[31m---------------------------------------------------------------------------\u001b[39m",
      "\u001b[31mNameError\u001b[39m                                 Traceback (most recent call last)",
      "\u001b[36mCell\u001b[39m\u001b[36m \u001b[39m\u001b[32mIn[3]\u001b[39m\u001b[32m, line 1\u001b[39m\n\u001b[32m----> \u001b[39m\u001b[32m1\u001b[39m xmin, xmax, ymin, ymax = \u001b[43mrstr\u001b[49m.bounds\n\u001b[32m      2\u001b[39m epsg = rstr.crs.to_epsg()\n\u001b[32m      3\u001b[39m \u001b[38;5;28mprint\u001b[39m(\u001b[33mf\u001b[39m\u001b[33m\"\u001b[39m\u001b[38;5;132;01m{\u001b[39;00mxmin\u001b[38;5;132;01m=}\u001b[39;00m\u001b[33m, \u001b[39m\u001b[38;5;132;01m{\u001b[39;00mxmax\u001b[38;5;132;01m=}\u001b[39;00m\u001b[33m\"\u001b[39m)\n",
      "\u001b[31mNameError\u001b[39m: name 'rstr' is not defined"
     ]
    }
   ],
   "source": [
    "xmin, xmax, ymin, ymax = rstr.bounds\n",
    "epsg = rstr.crs.to_epsg()\n",
    "print(f\"{xmin=}, {xmax=}\")\n",
    "print(f\"{epsg=}\")"
   ]
  },
  {
   "cell_type": "markdown",
   "id": "5b234f85-67ed-4ef0-b6b7-6f4d6cddb9de",
   "metadata": {},
   "source": [
    "And begin developing an initial mesh for the model"
   ]
  },
  {
   "cell_type": "code",
   "execution_count": 4,
   "id": "29b63ada-d57b-4254-beb0-e03d7ec9322e",
   "metadata": {
    "execution": {
     "iopub.execute_input": "2025-09-25T16:50:31.309444Z",
     "iopub.status.busy": "2025-09-25T16:50:31.309297Z",
     "iopub.status.idle": "2025-09-25T16:50:31.311556Z",
     "shell.execute_reply": "2025-09-25T16:50:31.311070Z"
    }
   },
   "outputs": [],
   "source": [
    "# live code modelgrid creation\n",
    "cellsize = 200\n"
   ]
  },
  {
   "cell_type": "markdown",
   "id": "998ebaa1-7304-4cbb-b506-7536a91a0a34",
   "metadata": {},
   "source": [
    "Finally create a fake top, bottom, and idomain for the model for now. These will be refined in a subsequent step."
   ]
  },
  {
   "cell_type": "code",
   "execution_count": 5,
   "id": "562186f7-e3a8-47ef-9fc8-7202f98be7ae",
   "metadata": {
    "execution": {
     "iopub.execute_input": "2025-09-25T16:50:31.312833Z",
     "iopub.status.busy": "2025-09-25T16:50:31.312679Z",
     "iopub.status.idle": "2025-09-25T16:50:31.314836Z",
     "shell.execute_reply": "2025-09-25T16:50:31.314443Z"
    }
   },
   "outputs": [],
   "source": [
    "# live code modelgrid creation\n"
   ]
  },
  {
   "cell_type": "markdown",
   "id": "7d9a5b38-de02-45ed-85ea-57d596c7e0eb",
   "metadata": {},
   "source": [
    "And now we can generate a `StructuredGrid` object (called `sgrid`) that can be used for developing model inputs"
   ]
  },
  {
   "cell_type": "code",
   "execution_count": 6,
   "id": "7b52fe9c-991a-4c1e-a088-cd080c13af5c",
   "metadata": {
    "execution": {
     "iopub.execute_input": "2025-09-25T16:50:31.316108Z",
     "iopub.status.busy": "2025-09-25T16:50:31.315942Z",
     "iopub.status.idle": "2025-09-25T16:50:31.318117Z",
     "shell.execute_reply": "2025-09-25T16:50:31.317621Z"
    }
   },
   "outputs": [],
   "source": [
    "# live code modelgrid creation\n"
   ]
  },
  {
   "cell_type": "markdown",
   "id": "9232a243-d892-4aac-8af1-191346429ecd",
   "metadata": {},
   "source": [
    "We can plot our `SturcturedGrid` object over the existing raster data to check that it is correctly orientied in space"
   ]
  },
  {
   "cell_type": "code",
   "execution_count": 7,
   "id": "88b9c624-fae6-4ebc-8686-11d4bd159da2",
   "metadata": {
    "execution": {
     "iopub.execute_input": "2025-09-25T16:50:31.319509Z",
     "iopub.status.busy": "2025-09-25T16:50:31.319368Z",
     "iopub.status.idle": "2025-09-25T16:50:31.412984Z",
     "shell.execute_reply": "2025-09-25T16:50:31.412504Z"
    }
   },
   "outputs": [
    {
     "ename": "NameError",
     "evalue": "name 'rstr' is not defined",
     "output_type": "error",
     "traceback": [
      "\u001b[31m---------------------------------------------------------------------------\u001b[39m",
      "\u001b[31mNameError\u001b[39m                                 Traceback (most recent call last)",
      "\u001b[36mCell\u001b[39m\u001b[36m \u001b[39m\u001b[32mIn[7]\u001b[39m\u001b[32m, line 2\u001b[39m\n\u001b[32m      1\u001b[39m fig, ax = plt.subplots(figsize=(\u001b[32m6\u001b[39m, \u001b[32m6\u001b[39m))\n\u001b[32m----> \u001b[39m\u001b[32m2\u001b[39m \u001b[43mrstr\u001b[49m.plot(ax=ax)\n\u001b[32m      3\u001b[39m pmv = PlotMapView(modelgrid=sgrid, ax=ax)\n\u001b[32m      4\u001b[39m pmv.plot_grid(lw=\u001b[32m0.5\u001b[39m);\n",
      "\u001b[31mNameError\u001b[39m: name 'rstr' is not defined"
     ]
    },
    {
     "data": {
      "image/png": "[encoded data removed]",
      "text/plain": [
       "<Figure size 600x600 with 1 Axes>"
      ]
     },
     "metadata": {},
     "output_type": "display_data"
    }
   ],
   "source": [
    "fig, ax = plt.subplots(figsize=(6, 6))\n",
    "rstr.plot(ax=ax)\n",
    "pmv = PlotMapView(modelgrid=sgrid, ax=ax)\n",
    "pmv.plot_grid(lw=0.5);"
   ]
  },
  {
   "cell_type": "markdown",
   "id": "b5d6c8c1-bdc9-488d-936d-11cace8c2024",
   "metadata": {},
   "source": [
    "### Resampling data to finish creating our initial grid.\n",
    "\n",
    "Once we have an initial grid, raster and vector data can be resampled or intersected with the grid to begin building a model domain. Although the focus of this notebook is to generate different types of meshes for modeling, the resampling and intersection process in this notebook can be applied many different data types and be used to generate boundary conditions within a MODFLOW model."
   ]
  },
  {
   "cell_type": "markdown",
   "id": "c3e392d0-6c07-4d97-b3be-f29902094081",
   "metadata": {},
   "source": [
    "#### Raster resampling\n",
    "We'll use FloPy's built in raster resampling method to generate values for land surface elevation (`top`) using the existing `StructuredGrid` object. For more information on raster resampling, please see this [example](https://flopy.readthedocs.io/en/latest/Notebooks/raster_intersection_example.html)"
   ]
  },
  {
   "cell_type": "code",
   "execution_count": 8,
   "id": "369ee997-04f2-4618-94a5-e6fd51458627",
   "metadata": {
    "execution": {
     "iopub.execute_input": "2025-09-25T16:50:31.414470Z",
     "iopub.status.busy": "2025-09-25T16:50:31.414309Z",
     "iopub.status.idle": "2025-09-25T16:50:31.431623Z",
     "shell.execute_reply": "2025-09-25T16:50:31.431189Z"
    }
   },
   "outputs": [
    {
     "ename": "NameError",
     "evalue": "name 'rstr' is not defined",
     "output_type": "error",
     "traceback": [
      "\u001b[31m---------------------------------------------------------------------------\u001b[39m",
      "\u001b[31mNameError\u001b[39m                                 Traceback (most recent call last)",
      "\u001b[36mCell\u001b[39m\u001b[36m \u001b[39m\u001b[32mIn[8]\u001b[39m\u001b[32m, line 1\u001b[39m\n\u001b[32m----> \u001b[39m\u001b[32m1\u001b[39m top = \u001b[43mrstr\u001b[49m.resample_to_grid(\n\u001b[32m      2\u001b[39m     sgrid, rstr.bands[\u001b[32m0\u001b[39m], method=\u001b[33m\"\u001b[39m\u001b[33mmin\u001b[39m\u001b[33m\"\u001b[39m, extrapolate_edges=\u001b[38;5;28;01mTrue\u001b[39;00m\n\u001b[32m      3\u001b[39m )\n",
      "\u001b[31mNameError\u001b[39m: name 'rstr' is not defined"
     ]
    }
   ],
   "source": [
    "top = rstr.resample_to_grid(\n",
    "    sgrid, rstr.bands[0], method=\"min\", extrapolate_edges=True\n",
    ")"
   ]
  },
  {
   "cell_type": "code",
   "execution_count": 9,
   "id": "7d639180-2dda-48f0-abff-f9b90ae718cf",
   "metadata": {
    "execution": {
     "iopub.execute_input": "2025-09-25T16:50:31.432909Z",
     "iopub.status.busy": "2025-09-25T16:50:31.432755Z",
     "iopub.status.idle": "2025-09-25T16:50:31.565157Z",
     "shell.execute_reply": "2025-09-25T16:50:31.564702Z"
    }
   },
   "outputs": [
    {
     "ename": "NameError",
     "evalue": "name 'PlotMapView' is not defined",
     "output_type": "error",
     "traceback": [
      "\u001b[31m---------------------------------------------------------------------------\u001b[39m",
      "\u001b[31mNameError\u001b[39m                                 Traceback (most recent call last)",
      "\u001b[36mCell\u001b[39m\u001b[36m \u001b[39m\u001b[32mIn[9]\u001b[39m\u001b[32m, line 2\u001b[39m\n\u001b[32m      1\u001b[39m fig, ax = plt.subplots(figsize=(\u001b[32m7\u001b[39m, \u001b[32m7\u001b[39m))\n\u001b[32m----> \u001b[39m\u001b[32m2\u001b[39m pmv = \u001b[43mPlotMapView\u001b[49m(modelgrid=sgrid)\n\u001b[32m      3\u001b[39m pc = pmv.plot_array(top)\n\u001b[32m      4\u001b[39m pmv.plot_grid(lw=\u001b[32m0.5\u001b[39m)\n",
      "\u001b[31mNameError\u001b[39m: name 'PlotMapView' is not defined"
     ]
    },
    {
     "data": {
      "image/png": "[encoded data removed]",
      "text/plain": [
       "<Figure size 700x700 with 1 Axes>"
      ]
     },
     "metadata": {},
     "output_type": "display_data"
    }
   ],
   "source": [
    "fig, ax = plt.subplots(figsize=(7, 7))\n",
    "pmv = PlotMapView(modelgrid=sgrid)\n",
    "pc = pmv.plot_array(top)\n",
    "pmv.plot_grid(lw=0.5)\n",
    "plt.colorbar(pc, shrink=0.7);"
   ]
  },
  {
   "cell_type": "markdown",
   "id": "e714343a-2d99-44e8-b245-5a3a6dea62d4",
   "metadata": {},
   "source": [
    "### Vector (shapefile) intersection review\n",
    "\n",
    "We can also intersect lines, points, and polygons with an existing modelgrid object. In this example, we'll load up the watershed boundary and get the active and inactive areas of the grid. For more information on intersecting shapefiles with a modelgrid/model see this [example](https://flopy.readthedocs.io/en/latest/Notebooks/grid_intersection_example.html)"
   ]
  },
  {
   "cell_type": "markdown",
   "id": "0aaa3503-a6f0-47c5-9092-454baeedf233",
   "metadata": {},
   "source": [
    "Our first step in this process is to get the watershed boundary. We can use the `dataretrieval` package to begin downloading information about the watershed from NWIS.\n",
    "\n",
    "**Note**: this information has been stored in the repository as shapefiles if internet access is not available."
   ]
  },
  {
   "cell_type": "code",
   "execution_count": 10,
   "id": "a53d258e",
   "metadata": {
    "execution": {
     "iopub.execute_input": "2025-09-25T16:50:31.566618Z",
     "iopub.status.busy": "2025-09-25T16:50:31.566476Z",
     "iopub.status.idle": "2025-09-25T16:50:31.586927Z",
     "shell.execute_reply": "2025-09-25T16:50:31.586408Z"
    }
   },
   "outputs": [
    {
     "ename": "NameError",
     "evalue": "name 'sgrid' is not defined",
     "output_type": "error",
     "traceback": [
      "\u001b[31m---------------------------------------------------------------------------\u001b[39m",
      "\u001b[31mNameError\u001b[39m                                 Traceback (most recent call last)",
      "\u001b[36mCell\u001b[39m\u001b[36m \u001b[39m\u001b[32mIn[10]\u001b[39m\u001b[32m, line 2\u001b[39m\n\u001b[32m      1\u001b[39m \u001b[38;5;66;03m# the get_info() call accepts a decimal lat/lon bounding box\u001b[39;00m\n\u001b[32m----> \u001b[39m\u001b[32m2\u001b[39m griddf = \u001b[43msgrid\u001b[49m.geo_dataframe.set_crs(epsg=\u001b[32m26911\u001b[39m)\n\u001b[32m      3\u001b[39m grid_wgs = griddf.to_crs(epsg=\u001b[32m4326\u001b[39m)\n\u001b[32m      5\u001b[39m wxmin, wxmax, wymin, wymax = grid_wgs.total_bounds\n",
      "\u001b[31mNameError\u001b[39m: name 'sgrid' is not defined"
     ]
    }
   ],
   "source": [
    "# the get_info() call accepts a decimal lat/lon bounding box\n",
    "griddf = sgrid.geo_dataframe.set_crs(epsg=26911)\n",
    "grid_wgs = griddf.to_crs(epsg=4326)\n",
    "\n",
    "wxmin, wxmax, wymin, wymax = grid_wgs.total_bounds\n",
    "wgs_bounds = [wxmin, wymin, wxmax, wymax]\n",
    "\n",
    "try:\n",
    "    info, metadata = nwis.get_info(bBox=[f\"{i :.2f}\" for i in wgs_bounds])\n",
    "except (ValueError, ConnectionError, NameError):\n",
    "    info = gpd.read_file(geospatial_ws / \"gage_info.shp\")\n",
    "\n",
    "info.head()"
   ]
  },
  {
   "cell_type": "markdown",
   "id": "d83035a3",
   "metadata": {},
   "source": [
    "Reproject the gage data into UTM Zone 11 N"
   ]
  },
  {
   "cell_type": "code",
   "execution_count": 11,
   "id": "3abe3530",
   "metadata": {
    "execution": {
     "iopub.execute_input": "2025-09-25T16:50:31.588285Z",
     "iopub.status.busy": "2025-09-25T16:50:31.588134Z",
     "iopub.status.idle": "2025-09-25T16:50:31.604177Z",
     "shell.execute_reply": "2025-09-25T16:50:31.603748Z"
    }
   },
   "outputs": [
    {
     "ename": "NameError",
     "evalue": "name 'info' is not defined",
     "output_type": "error",
     "traceback": [
      "\u001b[31m---------------------------------------------------------------------------\u001b[39m",
      "\u001b[31mNameError\u001b[39m                                 Traceback (most recent call last)",
      "\u001b[36mCell\u001b[39m\u001b[36m \u001b[39m\u001b[32mIn[11]\u001b[39m\u001b[32m, line 1\u001b[39m\n\u001b[32m----> \u001b[39m\u001b[32m1\u001b[39m info = \u001b[43minfo\u001b[49m.to_crs(epsg=epsg)\n",
      "\u001b[31mNameError\u001b[39m: name 'info' is not defined"
     ]
    }
   ],
   "source": [
    "info = info.to_crs(epsg=epsg)"
   ]
  },
  {
   "cell_type": "markdown",
   "id": "80e102e3",
   "metadata": {},
   "source": [
    "And plot the gage data on the raster"
   ]
  },
  {
   "cell_type": "code",
   "execution_count": 12,
   "id": "0c451f3e",
   "metadata": {
    "execution": {
     "iopub.execute_input": "2025-09-25T16:50:31.605488Z",
     "iopub.status.busy": "2025-09-25T16:50:31.605350Z",
     "iopub.status.idle": "2025-09-25T16:50:31.685754Z",
     "shell.execute_reply": "2025-09-25T16:50:31.685309Z"
    }
   },
   "outputs": [
    {
     "ename": "NameError",
     "evalue": "name 'rstr' is not defined",
     "output_type": "error",
     "traceback": [
      "\u001b[31m---------------------------------------------------------------------------\u001b[39m",
      "\u001b[31mNameError\u001b[39m                                 Traceback (most recent call last)",
      "\u001b[36mCell\u001b[39m\u001b[36m \u001b[39m\u001b[32mIn[12]\u001b[39m\u001b[32m, line 3\u001b[39m\n\u001b[32m      1\u001b[39m fig, ax = plt.subplots()\n\u001b[32m----> \u001b[39m\u001b[32m3\u001b[39m \u001b[43mrstr\u001b[49m.plot(ax=ax)\n\u001b[32m      4\u001b[39m info.plot(\n\u001b[32m      5\u001b[39m     column=\u001b[33m\"\u001b[39m\u001b[33msite_no\u001b[39m\u001b[33m\"\u001b[39m,\n\u001b[32m      6\u001b[39m     ax=ax,\n\u001b[32m   (...)\u001b[39m\u001b[32m      9\u001b[39m     legend_kwds={\u001b[33m\"\u001b[39m\u001b[33mfontsize\u001b[39m\u001b[33m\"\u001b[39m: \u001b[32m6\u001b[39m},\n\u001b[32m     10\u001b[39m );\n",
      "\u001b[31mNameError\u001b[39m: name 'rstr' is not defined"
     ]
    },
    {
     "data": {
      "image/png": "[encoded data removed]",
      "text/plain": [
       "<Figure size 640x480 with 1 Axes>"
      ]
     },
     "metadata": {},
     "output_type": "display_data"
    }
   ],
   "source": [
    "fig, ax = plt.subplots()\n",
    "\n",
    "rstr.plot(ax=ax)\n",
    "info.plot(\n",
    "    column=\"site_no\",\n",
    "    ax=ax,\n",
    "    cmap=\"tab20\",\n",
    "    legend=True,\n",
    "    legend_kwds={\"fontsize\": 6},\n",
    ");"
   ]
  },
  {
   "cell_type": "markdown",
   "id": "1d1ba528",
   "metadata": {},
   "source": [
    "Grab the site record for gage number 10343500"
   ]
  },
  {
   "cell_type": "code",
   "execution_count": 13,
   "id": "36ed5138",
   "metadata": {
    "execution": {
     "iopub.execute_input": "2025-09-25T16:50:31.687085Z",
     "iopub.status.busy": "2025-09-25T16:50:31.686927Z",
     "iopub.status.idle": "2025-09-25T16:50:31.702892Z",
     "shell.execute_reply": "2025-09-25T16:50:31.702483Z"
    }
   },
   "outputs": [
    {
     "ename": "NameError",
     "evalue": "name 'info' is not defined",
     "output_type": "error",
     "traceback": [
      "\u001b[31m---------------------------------------------------------------------------\u001b[39m",
      "\u001b[31mNameError\u001b[39m                                 Traceback (most recent call last)",
      "\u001b[36mCell\u001b[39m\u001b[36m \u001b[39m\u001b[32mIn[13]\u001b[39m\u001b[32m, line 1\u001b[39m\n\u001b[32m----> \u001b[39m\u001b[32m1\u001b[39m sitedf = \u001b[43minfo\u001b[49m.loc[info.site_no == \u001b[33m\"\u001b[39m\u001b[33m10343500\u001b[39m\u001b[33m\"\u001b[39m]\n\u001b[32m      2\u001b[39m sitedf\n",
      "\u001b[31mNameError\u001b[39m: name 'info' is not defined"
     ]
    }
   ],
   "source": [
    "sitedf = info.loc[info.site_no == \"10343500\"]\n",
    "sitedf"
   ]
  },
  {
   "cell_type": "markdown",
   "id": "28eb81e2",
   "metadata": {},
   "source": [
    "Get the upstream basin from nldi using the NWIS stream gage station code"
   ]
  },
  {
   "cell_type": "code",
   "execution_count": 14,
   "id": "27c167f8",
   "metadata": {
    "execution": {
     "iopub.execute_input": "2025-09-25T16:50:31.704269Z",
     "iopub.status.busy": "2025-09-25T16:50:31.704121Z",
     "iopub.status.idle": "2025-09-25T16:50:31.861389Z",
     "shell.execute_reply": "2025-09-25T16:50:31.860931Z"
    }
   },
   "outputs": [
    {
     "name": "stderr",
     "output_type": "stream",
     "text": [
      "/home/runner/micromamba/envs/pyclass-docs/lib/python3.11/site-packages/pyogrio/__init__.py:7: DeprecationWarning: The 'shapely.geos' module is deprecated, and will be removed in a future version. All attributes of 'shapely.geos' are available directly from the top-level 'shapely' namespace (since shapely 2.0.0).\n",
      "  import shapely.geos  # noqa: F401\n"
     ]
    },
    {
     "ename": "DataSourceError",
     "evalue": "data/unstructured_grid_data/basin_boundary.shp: No such file or directory",
     "output_type": "error",
     "traceback": [
      "\u001b[31m---------------------------------------------------------------------------\u001b[39m",
      "\u001b[31mDataSourceError\u001b[39m                           Traceback (most recent call last)",
      "\u001b[36mCell\u001b[39m\u001b[36m \u001b[39m\u001b[32mIn[14]\u001b[39m\u001b[32m, line 8\u001b[39m\n\u001b[32m      6\u001b[39m     basindf = basindf.to_crs(epsg=epsg)\n\u001b[32m      7\u001b[39m \u001b[38;5;28;01mexcept\u001b[39;00m (\u001b[38;5;167;01mValueError\u001b[39;00m, \u001b[38;5;167;01mConnectionError\u001b[39;00m, \u001b[38;5;167;01mNameError\u001b[39;00m):\n\u001b[32m----> \u001b[39m\u001b[32m8\u001b[39m     basindf = \u001b[43mgpd\u001b[49m\u001b[43m.\u001b[49m\u001b[43mread_file\u001b[49m\u001b[43m(\u001b[49m\u001b[43mgeospatial_ws\u001b[49m\u001b[43m \u001b[49m\u001b[43m/\u001b[49m\u001b[43m \u001b[49m\u001b[33;43m\"\u001b[39;49m\u001b[33;43mbasin_boundary.shp\u001b[39;49m\u001b[33;43m\"\u001b[39;49m\u001b[43m)\u001b[49m\n",
      "\u001b[36mFile \u001b[39m\u001b[32m~/micromamba/envs/pyclass-docs/lib/python3.11/site-packages/geopandas/io/file.py:316\u001b[39m, in \u001b[36m_read_file\u001b[39m\u001b[34m(filename, bbox, mask, columns, rows, engine, **kwargs)\u001b[39m\n\u001b[32m    313\u001b[39m             filename = response.read()\n\u001b[32m    315\u001b[39m \u001b[38;5;28;01mif\u001b[39;00m engine == \u001b[33m\"\u001b[39m\u001b[33mpyogrio\u001b[39m\u001b[33m\"\u001b[39m:\n\u001b[32m--> \u001b[39m\u001b[32m316\u001b[39m     \u001b[38;5;28;01mreturn\u001b[39;00m \u001b[43m_read_file_pyogrio\u001b[49m\u001b[43m(\u001b[49m\n\u001b[32m    317\u001b[39m \u001b[43m        \u001b[49m\u001b[43mfilename\u001b[49m\u001b[43m,\u001b[49m\u001b[43m \u001b[49m\u001b[43mbbox\u001b[49m\u001b[43m=\u001b[49m\u001b[43mbbox\u001b[49m\u001b[43m,\u001b[49m\u001b[43m \u001b[49m\u001b[43mmask\u001b[49m\u001b[43m=\u001b[49m\u001b[43mmask\u001b[49m\u001b[43m,\u001b[49m\u001b[43m \u001b[49m\u001b[43mcolumns\u001b[49m\u001b[43m=\u001b[49m\u001b[43mcolumns\u001b[49m\u001b[43m,\u001b[49m\u001b[43m \u001b[49m\u001b[43mrows\u001b[49m\u001b[43m=\u001b[49m\u001b[43mrows\u001b[49m\u001b[43m,\u001b[49m\u001b[43m \u001b[49m\u001b[43m*\u001b[49m\u001b[43m*\u001b[49m\u001b[43mkwargs\u001b[49m\n\u001b[32m    318\u001b[39m \u001b[43m    \u001b[49m\u001b[43m)\u001b[49m\n\u001b[32m    320\u001b[39m \u001b[38;5;28;01melif\u001b[39;00m engine == \u001b[33m\"\u001b[39m\u001b[33mfiona\u001b[39m\u001b[33m\"\u001b[39m:\n\u001b[32m    321\u001b[39m     \u001b[38;5;28;01mif\u001b[39;00m pd.api.types.is_file_like(filename):\n",
      "\u001b[36mFile \u001b[39m\u001b[32m~/micromamba/envs/pyclass-docs/lib/python3.11/site-packages/geopandas/io/file.py:576\u001b[39m, in \u001b[36m_read_file_pyogrio\u001b[39m\u001b[34m(path_or_bytes, bbox, mask, rows, **kwargs)\u001b[39m\n\u001b[32m    567\u001b[39m     warnings.warn(\n\u001b[32m    568\u001b[39m         \u001b[33m\"\u001b[39m\u001b[33mThe \u001b[39m\u001b[33m'\u001b[39m\u001b[33minclude_fields\u001b[39m\u001b[33m'\u001b[39m\u001b[33m and \u001b[39m\u001b[33m'\u001b[39m\u001b[33mignore_fields\u001b[39m\u001b[33m'\u001b[39m\u001b[33m keywords are deprecated, and \u001b[39m\u001b[33m\"\u001b[39m\n\u001b[32m    569\u001b[39m         \u001b[33m\"\u001b[39m\u001b[33mwill be removed in a future release. You can use the \u001b[39m\u001b[33m'\u001b[39m\u001b[33mcolumns\u001b[39m\u001b[33m'\u001b[39m\u001b[33m keyword \u001b[39m\u001b[33m\"\u001b[39m\n\u001b[32m   (...)\u001b[39m\u001b[32m    572\u001b[39m         stacklevel=\u001b[32m3\u001b[39m,\n\u001b[32m    573\u001b[39m     )\n\u001b[32m    574\u001b[39m     kwargs[\u001b[33m\"\u001b[39m\u001b[33mcolumns\u001b[39m\u001b[33m\"\u001b[39m] = kwargs.pop(\u001b[33m\"\u001b[39m\u001b[33minclude_fields\u001b[39m\u001b[33m\"\u001b[39m)\n\u001b[32m--> \u001b[39m\u001b[32m576\u001b[39m \u001b[38;5;28;01mreturn\u001b[39;00m \u001b[43mpyogrio\u001b[49m\u001b[43m.\u001b[49m\u001b[43mread_dataframe\u001b[49m\u001b[43m(\u001b[49m\u001b[43mpath_or_bytes\u001b[49m\u001b[43m,\u001b[49m\u001b[43m \u001b[49m\u001b[43mbbox\u001b[49m\u001b[43m=\u001b[49m\u001b[43mbbox\u001b[49m\u001b[43m,\u001b[49m\u001b[43m \u001b[49m\u001b[43m*\u001b[49m\u001b[43m*\u001b[49m\u001b[43mkwargs\u001b[49m\u001b[43m)\u001b[49m\n",
      "\u001b[36mFile \u001b[39m\u001b[32m~/micromamba/envs/pyclass-docs/lib/python3.11/site-packages/pyogrio/geopandas.py:275\u001b[39m, in \u001b[36mread_dataframe\u001b[39m\u001b[34m(path_or_buffer, layer, encoding, columns, read_geometry, force_2d, skip_features, max_features, where, bbox, mask, fids, sql, sql_dialect, fid_as_index, use_arrow, on_invalid, arrow_to_pandas_kwargs, **kwargs)\u001b[39m\n\u001b[32m    270\u001b[39m \u001b[38;5;28;01mif\u001b[39;00m \u001b[38;5;129;01mnot\u001b[39;00m use_arrow:\n\u001b[32m    271\u001b[39m     \u001b[38;5;66;03m# For arrow, datetimes are read as is.\u001b[39;00m\n\u001b[32m    272\u001b[39m     \u001b[38;5;66;03m# For numpy IO, datetimes are read as string values to preserve timezone info\u001b[39;00m\n\u001b[32m    273\u001b[39m     \u001b[38;5;66;03m# as numpy does not directly support timezones.\u001b[39;00m\n\u001b[32m    274\u001b[39m     kwargs[\u001b[33m\"\u001b[39m\u001b[33mdatetime_as_string\u001b[39m\u001b[33m\"\u001b[39m] = \u001b[38;5;28;01mTrue\u001b[39;00m\n\u001b[32m--> \u001b[39m\u001b[32m275\u001b[39m result = \u001b[43mread_func\u001b[49m\u001b[43m(\u001b[49m\n\u001b[32m    276\u001b[39m \u001b[43m    \u001b[49m\u001b[43mpath_or_buffer\u001b[49m\u001b[43m,\u001b[49m\n\u001b[32m    277\u001b[39m \u001b[43m    \u001b[49m\u001b[43mlayer\u001b[49m\u001b[43m=\u001b[49m\u001b[43mlayer\u001b[49m\u001b[43m,\u001b[49m\n\u001b[32m    278\u001b[39m \u001b[43m    \u001b[49m\u001b[43mencoding\u001b[49m\u001b[43m=\u001b[49m\u001b[43mencoding\u001b[49m\u001b[43m,\u001b[49m\n\u001b[32m    279\u001b[39m \u001b[43m    \u001b[49m\u001b[43mcolumns\u001b[49m\u001b[43m=\u001b[49m\u001b[43mcolumns\u001b[49m\u001b[43m,\u001b[49m\n\u001b[32m    280\u001b[39m \u001b[43m    \u001b[49m\u001b[43mread_geometry\u001b[49m\u001b[43m=\u001b[49m\u001b[43mread_geometry\u001b[49m\u001b[43m,\u001b[49m\n\u001b[32m    281\u001b[39m \u001b[43m    \u001b[49m\u001b[43mforce_2d\u001b[49m\u001b[43m=\u001b[49m\u001b[43mgdal_force_2d\u001b[49m\u001b[43m,\u001b[49m\n\u001b[32m    282\u001b[39m \u001b[43m    \u001b[49m\u001b[43mskip_features\u001b[49m\u001b[43m=\u001b[49m\u001b[43mskip_features\u001b[49m\u001b[43m,\u001b[49m\n\u001b[32m    283\u001b[39m \u001b[43m    \u001b[49m\u001b[43mmax_features\u001b[49m\u001b[43m=\u001b[49m\u001b[43mmax_features\u001b[49m\u001b[43m,\u001b[49m\n\u001b[32m    284\u001b[39m \u001b[43m    \u001b[49m\u001b[43mwhere\u001b[49m\u001b[43m=\u001b[49m\u001b[43mwhere\u001b[49m\u001b[43m,\u001b[49m\n\u001b[32m    285\u001b[39m \u001b[43m    \u001b[49m\u001b[43mbbox\u001b[49m\u001b[43m=\u001b[49m\u001b[43mbbox\u001b[49m\u001b[43m,\u001b[49m\n\u001b[32m    286\u001b[39m \u001b[43m    \u001b[49m\u001b[43mmask\u001b[49m\u001b[43m=\u001b[49m\u001b[43mmask\u001b[49m\u001b[43m,\u001b[49m\n\u001b[32m    287\u001b[39m \u001b[43m    \u001b[49m\u001b[43mfids\u001b[49m\u001b[43m=\u001b[49m\u001b[43mfids\u001b[49m\u001b[43m,\u001b[49m\n\u001b[32m    288\u001b[39m \u001b[43m    \u001b[49m\u001b[43msql\u001b[49m\u001b[43m=\u001b[49m\u001b[43msql\u001b[49m\u001b[43m,\u001b[49m\n\u001b[32m    289\u001b[39m \u001b[43m    \u001b[49m\u001b[43msql_dialect\u001b[49m\u001b[43m=\u001b[49m\u001b[43msql_dialect\u001b[49m\u001b[43m,\u001b[49m\n\u001b[32m    290\u001b[39m \u001b[43m    \u001b[49m\u001b[43mreturn_fids\u001b[49m\u001b[43m=\u001b[49m\u001b[43mfid_as_index\u001b[49m\u001b[43m,\u001b[49m\n\u001b[32m    291\u001b[39m \u001b[43m    \u001b[49m\u001b[43m*\u001b[49m\u001b[43m*\u001b[49m\u001b[43mkwargs\u001b[49m\u001b[43m,\u001b[49m\n\u001b[32m    292\u001b[39m \u001b[43m\u001b[49m\u001b[43m)\u001b[49m\n\u001b[32m    294\u001b[39m \u001b[38;5;28;01mif\u001b[39;00m use_arrow:\n\u001b[32m    295\u001b[39m     \u001b[38;5;28;01mimport\u001b[39;00m\u001b[38;5;250m \u001b[39m\u001b[34;01mpyarrow\u001b[39;00m\u001b[38;5;250m \u001b[39m\u001b[38;5;28;01mas\u001b[39;00m\u001b[38;5;250m \u001b[39m\u001b[34;01mpa\u001b[39;00m\n",
      "\u001b[36mFile \u001b[39m\u001b[32m~/micromamba/envs/pyclass-docs/lib/python3.11/site-packages/pyogrio/raw.py:198\u001b[39m, in \u001b[36mread\u001b[39m\u001b[34m(path_or_buffer, layer, encoding, columns, read_geometry, force_2d, skip_features, max_features, where, bbox, mask, fids, sql, sql_dialect, return_fids, datetime_as_string, **kwargs)\u001b[39m\n\u001b[32m     59\u001b[39m \u001b[38;5;250m\u001b[39m\u001b[33;03m\"\"\"Read OGR data source into numpy arrays.\u001b[39;00m\n\u001b[32m     60\u001b[39m \n\u001b[32m     61\u001b[39m \u001b[33;03mIMPORTANT: non-linear geometry types (e.g., MultiSurface) are converted\u001b[39;00m\n\u001b[32m   (...)\u001b[39m\u001b[32m    194\u001b[39m \n\u001b[32m    195\u001b[39m \u001b[33;03m\"\"\"\u001b[39;00m\n\u001b[32m    196\u001b[39m dataset_kwargs = _preprocess_options_key_value(kwargs) \u001b[38;5;28;01mif\u001b[39;00m kwargs \u001b[38;5;28;01melse\u001b[39;00m {}\n\u001b[32m--> \u001b[39m\u001b[32m198\u001b[39m \u001b[38;5;28;01mreturn\u001b[39;00m \u001b[43mogr_read\u001b[49m\u001b[43m(\u001b[49m\n\u001b[32m    199\u001b[39m \u001b[43m    \u001b[49m\u001b[43mget_vsi_path_or_buffer\u001b[49m\u001b[43m(\u001b[49m\u001b[43mpath_or_buffer\u001b[49m\u001b[43m)\u001b[49m\u001b[43m,\u001b[49m\n\u001b[32m    200\u001b[39m \u001b[43m    \u001b[49m\u001b[43mlayer\u001b[49m\u001b[43m=\u001b[49m\u001b[43mlayer\u001b[49m\u001b[43m,\u001b[49m\n\u001b[32m    201\u001b[39m \u001b[43m    \u001b[49m\u001b[43mencoding\u001b[49m\u001b[43m=\u001b[49m\u001b[43mencoding\u001b[49m\u001b[43m,\u001b[49m\n\u001b[32m    202\u001b[39m \u001b[43m    \u001b[49m\u001b[43mcolumns\u001b[49m\u001b[43m=\u001b[49m\u001b[43mcolumns\u001b[49m\u001b[43m,\u001b[49m\n\u001b[32m    203\u001b[39m \u001b[43m    \u001b[49m\u001b[43mread_geometry\u001b[49m\u001b[43m=\u001b[49m\u001b[43mread_geometry\u001b[49m\u001b[43m,\u001b[49m\n\u001b[32m    204\u001b[39m \u001b[43m    \u001b[49m\u001b[43mforce_2d\u001b[49m\u001b[43m=\u001b[49m\u001b[43mforce_2d\u001b[49m\u001b[43m,\u001b[49m\n\u001b[32m    205\u001b[39m \u001b[43m    \u001b[49m\u001b[43mskip_features\u001b[49m\u001b[43m=\u001b[49m\u001b[43mskip_features\u001b[49m\u001b[43m,\u001b[49m\n\u001b[32m    206\u001b[39m \u001b[43m    \u001b[49m\u001b[43mmax_features\u001b[49m\u001b[43m=\u001b[49m\u001b[43mmax_features\u001b[49m\u001b[43m \u001b[49m\u001b[38;5;129;43;01mor\u001b[39;49;00m\u001b[43m \u001b[49m\u001b[32;43m0\u001b[39;49m\u001b[43m,\u001b[49m\n\u001b[32m    207\u001b[39m \u001b[43m    \u001b[49m\u001b[43mwhere\u001b[49m\u001b[43m=\u001b[49m\u001b[43mwhere\u001b[49m\u001b[43m,\u001b[49m\n\u001b[32m    208\u001b[39m \u001b[43m    \u001b[49m\u001b[43mbbox\u001b[49m\u001b[43m=\u001b[49m\u001b[43mbbox\u001b[49m\u001b[43m,\u001b[49m\n\u001b[32m    209\u001b[39m \u001b[43m    \u001b[49m\u001b[43mmask\u001b[49m\u001b[43m=\u001b[49m\u001b[43m_mask_to_wkb\u001b[49m\u001b[43m(\u001b[49m\u001b[43mmask\u001b[49m\u001b[43m)\u001b[49m\u001b[43m,\u001b[49m\n\u001b[32m    210\u001b[39m \u001b[43m    \u001b[49m\u001b[43mfids\u001b[49m\u001b[43m=\u001b[49m\u001b[43mfids\u001b[49m\u001b[43m,\u001b[49m\n\u001b[32m    211\u001b[39m \u001b[43m    \u001b[49m\u001b[43msql\u001b[49m\u001b[43m=\u001b[49m\u001b[43msql\u001b[49m\u001b[43m,\u001b[49m\n\u001b[32m    212\u001b[39m \u001b[43m    \u001b[49m\u001b[43msql_dialect\u001b[49m\u001b[43m=\u001b[49m\u001b[43msql_dialect\u001b[49m\u001b[43m,\u001b[49m\n\u001b[32m    213\u001b[39m \u001b[43m    \u001b[49m\u001b[43mreturn_fids\u001b[49m\u001b[43m=\u001b[49m\u001b[43mreturn_fids\u001b[49m\u001b[43m,\u001b[49m\n\u001b[32m    214\u001b[39m \u001b[43m    \u001b[49m\u001b[43mdataset_kwargs\u001b[49m\u001b[43m=\u001b[49m\u001b[43mdataset_kwargs\u001b[49m\u001b[43m,\u001b[49m\n\u001b[32m    215\u001b[39m \u001b[43m    \u001b[49m\u001b[43mdatetime_as_string\u001b[49m\u001b[43m=\u001b[49m\u001b[43mdatetime_as_string\u001b[49m\u001b[43m,\u001b[49m\n\u001b[32m    216\u001b[39m \u001b[43m\u001b[49m\u001b[43m)\u001b[49m\n",
      "\u001b[36mFile \u001b[39m\u001b[32mpyogrio/_io.pyx:1293\u001b[39m, in \u001b[36mpyogrio._io.ogr_read\u001b[39m\u001b[34m()\u001b[39m\n",
      "\u001b[36mFile \u001b[39m\u001b[32mpyogrio/_io.pyx:232\u001b[39m, in \u001b[36mpyogrio._io.ogr_open\u001b[39m\u001b[34m()\u001b[39m\n",
      "\u001b[31mDataSourceError\u001b[39m: data/unstructured_grid_data/basin_boundary.shp: No such file or directory"
     ]
    }
   ],
   "source": [
    "try:\n",
    "    basindf = nldi.get_basin(\n",
    "        feature_source=\"nwissite\",\n",
    "        feature_id=f\"USGS-{sitedf.site_no.values[0]}\",\n",
    "    )\n",
    "    basindf = basindf.to_crs(epsg=epsg)\n",
    "except (ValueError, ConnectionError, NameError):\n",
    "    basindf = gpd.read_file(geospatial_ws / \"basin_boundary.shp\")"
   ]
  },
  {
   "cell_type": "markdown",
   "id": "e5a29e7b",
   "metadata": {},
   "source": [
    "Plot up the basin boundary with the existing raster"
   ]
  },
  {
   "cell_type": "code",
   "execution_count": 15,
   "id": "099710ee",
   "metadata": {
    "execution": {
     "iopub.execute_input": "2025-09-25T16:50:31.862851Z",
     "iopub.status.busy": "2025-09-25T16:50:31.862700Z",
     "iopub.status.idle": "2025-09-25T16:50:31.945442Z",
     "shell.execute_reply": "2025-09-25T16:50:31.945033Z"
    }
   },
   "outputs": [
    {
     "ename": "NameError",
     "evalue": "name 'rstr' is not defined",
     "output_type": "error",
     "traceback": [
      "\u001b[31m---------------------------------------------------------------------------\u001b[39m",
      "\u001b[31mNameError\u001b[39m                                 Traceback (most recent call last)",
      "\u001b[36mCell\u001b[39m\u001b[36m \u001b[39m\u001b[32mIn[15]\u001b[39m\u001b[32m, line 2\u001b[39m\n\u001b[32m      1\u001b[39m fig, ax = plt.subplots()\n\u001b[32m----> \u001b[39m\u001b[32m2\u001b[39m \u001b[43mrstr\u001b[49m.plot(ax=ax)\n\u001b[32m      3\u001b[39m basindf.plot(ax=ax, facecolor=\u001b[33m\"\u001b[39m\u001b[33mNone\u001b[39m\u001b[33m\"\u001b[39m, edgecolor=\u001b[33m\"\u001b[39m\u001b[33mk\u001b[39m\u001b[33m\"\u001b[39m, lw=\u001b[32m1.5\u001b[39m)\n\u001b[32m      4\u001b[39m info.plot(\n\u001b[32m      5\u001b[39m     column=\u001b[33m\"\u001b[39m\u001b[33msite_no\u001b[39m\u001b[33m\"\u001b[39m,\n\u001b[32m      6\u001b[39m     ax=ax,\n\u001b[32m   (...)\u001b[39m\u001b[32m      9\u001b[39m     legend_kwds={\u001b[33m\"\u001b[39m\u001b[33mfontsize\u001b[39m\u001b[33m\"\u001b[39m: \u001b[32m6\u001b[39m},\n\u001b[32m     10\u001b[39m );\n",
      "\u001b[31mNameError\u001b[39m: name 'rstr' is not defined"
     ]
    },
    {
     "data": {
      "image/png": "[encoded data removed]",
      "text/plain": [
       "<Figure size 640x480 with 1 Axes>"
      ]
     },
     "metadata": {},
     "output_type": "display_data"
    }
   ],
   "source": [
    "fig, ax = plt.subplots()\n",
    "rstr.plot(ax=ax)\n",
    "basindf.plot(ax=ax, facecolor=\"None\", edgecolor=\"k\", lw=1.5)\n",
    "info.plot(\n",
    "    column=\"site_no\",\n",
    "    ax=ax,\n",
    "    cmap=\"tab20\",\n",
    "    legend=True,\n",
    "    legend_kwds={\"fontsize\": 6},\n",
    ");"
   ]
  },
  {
   "cell_type": "markdown",
   "id": "cce0613c-1187-4739-b316-61ae03bf0237",
   "metadata": {},
   "source": [
    "Doing the intersection"
   ]
  },
  {
   "cell_type": "code",
   "execution_count": 16,
   "id": "8720cab6-8f03-401d-8150-216a4f6b8a71",
   "metadata": {
    "execution": {
     "iopub.execute_input": "2025-09-25T16:50:31.946751Z",
     "iopub.status.busy": "2025-09-25T16:50:31.946614Z",
     "iopub.status.idle": "2025-09-25T16:50:31.963887Z",
     "shell.execute_reply": "2025-09-25T16:50:31.963402Z"
    }
   },
   "outputs": [
    {
     "ename": "NameError",
     "evalue": "name 'GridIntersect' is not defined",
     "output_type": "error",
     "traceback": [
      "\u001b[31m---------------------------------------------------------------------------\u001b[39m",
      "\u001b[31mNameError\u001b[39m                                 Traceback (most recent call last)",
      "\u001b[36mCell\u001b[39m\u001b[36m \u001b[39m\u001b[32mIn[16]\u001b[39m\u001b[32m, line 1\u001b[39m\n\u001b[32m----> \u001b[39m\u001b[32m1\u001b[39m ix = \u001b[43mGridIntersect\u001b[49m(sgrid, method=\u001b[33m\"\u001b[39m\u001b[33mvertex\u001b[39m\u001b[33m\"\u001b[39m)\n\u001b[32m      2\u001b[39m result = ix.intersect(basindf.geometry.values[\u001b[32m0\u001b[39m], contains_centroid=\u001b[38;5;28;01mTrue\u001b[39;00m)\n\u001b[32m      3\u001b[39m rowcol = result[\u001b[33m\"\u001b[39m\u001b[33mcellids\u001b[39m\u001b[33m\"\u001b[39m]\n",
      "\u001b[31mNameError\u001b[39m: name 'GridIntersect' is not defined"
     ]
    }
   ],
   "source": [
    "ix = GridIntersect(sgrid, method=\"vertex\")\n",
    "result = ix.intersect(basindf.geometry.values[0], contains_centroid=True)\n",
    "rowcol = result[\"cellids\"]"
   ]
  },
  {
   "cell_type": "code",
   "execution_count": 17,
   "id": "ce6c3715-0a4a-456c-a833-b2830a6cf764",
   "metadata": {
    "execution": {
     "iopub.execute_input": "2025-09-25T16:50:31.965366Z",
     "iopub.status.busy": "2025-09-25T16:50:31.965205Z",
     "iopub.status.idle": "2025-09-25T16:50:31.981826Z",
     "shell.execute_reply": "2025-09-25T16:50:31.981430Z"
    }
   },
   "outputs": [
    {
     "ename": "NameError",
     "evalue": "name 'rowcol' is not defined",
     "output_type": "error",
     "traceback": [
      "\u001b[31m---------------------------------------------------------------------------\u001b[39m",
      "\u001b[31mNameError\u001b[39m                                 Traceback (most recent call last)",
      "\u001b[36mCell\u001b[39m\u001b[36m \u001b[39m\u001b[32mIn[17]\u001b[39m\u001b[32m, line 1\u001b[39m\n\u001b[32m----> \u001b[39m\u001b[32m1\u001b[39m row, col = \u001b[38;5;28mlist\u001b[39m(\u001b[38;5;28mzip\u001b[39m(*\u001b[43mrowcol\u001b[49m))\n",
      "\u001b[31mNameError\u001b[39m: name 'rowcol' is not defined"
     ]
    }
   ],
   "source": [
    "row, col = list(zip(*rowcol))"
   ]
  },
  {
   "cell_type": "markdown",
   "id": "0a9e6f47-527f-4356-8873-a28c59faf095",
   "metadata": {},
   "source": [
    "Building idomain from the intersection"
   ]
  },
  {
   "cell_type": "code",
   "execution_count": 18,
   "id": "12287849-a3ef-4efd-9950-7c544b5e0c79",
   "metadata": {
    "execution": {
     "iopub.execute_input": "2025-09-25T16:50:31.983116Z",
     "iopub.status.busy": "2025-09-25T16:50:31.982965Z",
     "iopub.status.idle": "2025-09-25T16:50:31.999501Z",
     "shell.execute_reply": "2025-09-25T16:50:31.999089Z"
    }
   },
   "outputs": [
    {
     "ename": "NameError",
     "evalue": "name 'nlay' is not defined",
     "output_type": "error",
     "traceback": [
      "\u001b[31m---------------------------------------------------------------------------\u001b[39m",
      "\u001b[31mNameError\u001b[39m                                 Traceback (most recent call last)",
      "\u001b[36mCell\u001b[39m\u001b[36m \u001b[39m\u001b[32mIn[18]\u001b[39m\u001b[32m, line 1\u001b[39m\n\u001b[32m----> \u001b[39m\u001b[32m1\u001b[39m idomain = np.zeros((\u001b[43mnlay\u001b[49m, nrow, ncol), dtype=\u001b[38;5;28mint\u001b[39m)\n\u001b[32m      2\u001b[39m idomain[:, row, col] = \u001b[32m1\u001b[39m\n",
      "\u001b[31mNameError\u001b[39m: name 'nlay' is not defined"
     ]
    }
   ],
   "source": [
    "idomain = np.zeros((nlay, nrow, ncol), dtype=int)\n",
    "idomain[:, row, col] = 1"
   ]
  },
  {
   "cell_type": "markdown",
   "id": "de193428-71a0-4e32-b6de-e5ba9c04e221",
   "metadata": {},
   "source": [
    "#### Putting it all together into a completed `StructuredGrid`"
   ]
  },
  {
   "cell_type": "code",
   "execution_count": 19,
   "id": "2b911cd2-cabe-4ff3-8a48-5ae23c9dbc67",
   "metadata": {
    "execution": {
     "iopub.execute_input": "2025-09-25T16:50:32.000804Z",
     "iopub.status.busy": "2025-09-25T16:50:32.000664Z",
     "iopub.status.idle": "2025-09-25T16:50:32.018954Z",
     "shell.execute_reply": "2025-09-25T16:50:32.018557Z"
    }
   },
   "outputs": [
    {
     "ename": "NameError",
     "evalue": "name 'StructuredGrid' is not defined",
     "output_type": "error",
     "traceback": [
      "\u001b[31m---------------------------------------------------------------------------\u001b[39m",
      "\u001b[31mNameError\u001b[39m                                 Traceback (most recent call last)",
      "\u001b[36mCell\u001b[39m\u001b[36m \u001b[39m\u001b[32mIn[19]\u001b[39m\u001b[32m, line 1\u001b[39m\n\u001b[32m----> \u001b[39m\u001b[32m1\u001b[39m sgrid = \u001b[43mStructuredGrid\u001b[49m(\n\u001b[32m      2\u001b[39m     delc=sgrid.delc,\n\u001b[32m      3\u001b[39m     delr=sgrid.delr,\n\u001b[32m      4\u001b[39m     top=top,\n\u001b[32m      5\u001b[39m     botm=sgrid.botm,\n\u001b[32m      6\u001b[39m     idomain=idomain,\n\u001b[32m      7\u001b[39m     nlay=sgrid.nlay,\n\u001b[32m      8\u001b[39m     nrow=sgrid.nrow,\n\u001b[32m      9\u001b[39m     ncol=sgrid.ncol,\n\u001b[32m     10\u001b[39m     xoff=sgrid.xoffset,\n\u001b[32m     11\u001b[39m     yoff=sgrid.yoffset,\n\u001b[32m     12\u001b[39m     crs=sgrid.crs,\n\u001b[32m     13\u001b[39m )\n\u001b[32m     14\u001b[39m sgrid\n",
      "\u001b[31mNameError\u001b[39m: name 'StructuredGrid' is not defined"
     ]
    }
   ],
   "source": [
    "sgrid = StructuredGrid(\n",
    "    delc=sgrid.delc,\n",
    "    delr=sgrid.delr,\n",
    "    top=top,\n",
    "    botm=sgrid.botm,\n",
    "    idomain=idomain,\n",
    "    nlay=sgrid.nlay,\n",
    "    nrow=sgrid.nrow,\n",
    "    ncol=sgrid.ncol,\n",
    "    xoff=sgrid.xoffset,\n",
    "    yoff=sgrid.yoffset,\n",
    "    crs=sgrid.crs,\n",
    ")\n",
    "sgrid"
   ]
  },
  {
   "cell_type": "markdown",
   "id": "a329bace",
   "metadata": {},
   "source": [
    "Plotting the completed grid with gage locations and the watershed boundary"
   ]
  },
  {
   "cell_type": "code",
   "execution_count": 20,
   "id": "db12ad0b-d15e-4cd3-87c3-6c13cef9fdf9",
   "metadata": {
    "execution": {
     "iopub.execute_input": "2025-09-25T16:50:32.020319Z",
     "iopub.status.busy": "2025-09-25T16:50:32.020178Z",
     "iopub.status.idle": "2025-09-25T16:50:32.101591Z",
     "shell.execute_reply": "2025-09-25T16:50:32.101181Z"
    }
   },
   "outputs": [
    {
     "ename": "NameError",
     "evalue": "name 'PlotMapView' is not defined",
     "output_type": "error",
     "traceback": [
      "\u001b[31m---------------------------------------------------------------------------\u001b[39m",
      "\u001b[31mNameError\u001b[39m                                 Traceback (most recent call last)",
      "\u001b[36mCell\u001b[39m\u001b[36m \u001b[39m\u001b[32mIn[20]\u001b[39m\u001b[32m, line 2\u001b[39m\n\u001b[32m      1\u001b[39m fig, ax = plt.subplots(figsize=(\u001b[32m5\u001b[39m, \u001b[32m5\u001b[39m))\n\u001b[32m----> \u001b[39m\u001b[32m2\u001b[39m pmv = \u001b[43mPlotMapView\u001b[49m(modelgrid=sgrid)\n\u001b[32m      3\u001b[39m pc = pmv.plot_array(sgrid.top)\n\u001b[32m      4\u001b[39m ib = pmv.plot_inactive()\n",
      "\u001b[31mNameError\u001b[39m: name 'PlotMapView' is not defined"
     ]
    },
    {
     "data": {
      "image/png": "[encoded data removed]",
      "text/plain": [
       "<Figure size 500x500 with 1 Axes>"
      ]
     },
     "metadata": {},
     "output_type": "display_data"
    }
   ],
   "source": [
    "fig, ax = plt.subplots(figsize=(5, 5))\n",
    "pmv = PlotMapView(modelgrid=sgrid)\n",
    "pc = pmv.plot_array(sgrid.top)\n",
    "ib = pmv.plot_inactive()\n",
    "pmv.plot_grid(lw=0.5)\n",
    "plt.colorbar(pc, shrink=0.7)\n",
    "\n",
    "basindf.plot(ax=ax, facecolor=\"None\", edgecolor=\"r\", lw=1.5)\n",
    "sitedf.plot(\n",
    "    column=\"site_no\",\n",
    "    ax=ax,\n",
    "    cmap=\"tab20\",\n",
    "    legend=True,\n",
    "    legend_kwds={\"fontsize\": 6},\n",
    "    zorder=6\n",
    ");"
   ]
  },
  {
   "cell_type": "markdown",
   "id": "7c512728-fc6e-4e83-8fd8-b8e13b0e844a",
   "metadata": {},
   "source": [
    "Because this is a watershed, we can also overlay a shapefile of the streams and get the stream cells using `GridIntersect`"
   ]
  },
  {
   "cell_type": "markdown",
   "id": "1b4155d8",
   "metadata": {},
   "source": [
    "NHD-Plus stream lines can be downloaded using streamgage information with the `dataretrieval` package"
   ]
  },
  {
   "cell_type": "code",
   "execution_count": 21,
   "id": "9557e678-89de-475d-b2ac-f138373a0648",
   "metadata": {
    "execution": {
     "iopub.execute_input": "2025-09-25T16:50:32.102903Z",
     "iopub.status.busy": "2025-09-25T16:50:32.102758Z",
     "iopub.status.idle": "2025-09-25T16:50:32.122624Z",
     "shell.execute_reply": "2025-09-25T16:50:32.122146Z"
    }
   },
   "outputs": [
    {
     "data": {
      "text/html": [
       "<div>\n",
       "<style scoped>\n",
       "    .dataframe tbody tr th:only-of-type {\n",
       "        vertical-align: middle;\n",
       "    }\n",
       "\n",
       "    .dataframe tbody tr th {\n",
       "        vertical-align: top;\n",
       "    }\n",
       "\n",
       "    .dataframe thead th {\n",
       "        text-align: right;\n",
       "    }\n",
       "</style>\n",
       "<table border=\"1\" class=\"dataframe\">\n",
       "  <thead>\n",
       "    <tr style=\"text-align: right;\">\n",
       "      <th></th>\n",
       "      <th>nhdplus_co</th>\n",
       "      <th>geometry</th>\n",
       "    </tr>\n",
       "  </thead>\n",
       "  <tbody>\n",
       "    <tr>\n",
       "      <th>0</th>\n",
       "      <td>8933522</td>\n",
       "      <td>LINESTRING (221038.59 4369598.73, 221076.943 4...</td>\n",
       "    </tr>\n",
       "    <tr>\n",
       "      <th>1</th>\n",
       "      <td>8933608</td>\n",
       "      <td>LINESTRING (220451.353 4367186.202, 220542.627...</td>\n",
       "    </tr>\n",
       "    <tr>\n",
       "      <th>2</th>\n",
       "      <td>8933524</td>\n",
       "      <td>LINESTRING (220541.209 4369697.393, 220691.816...</td>\n",
       "    </tr>\n",
       "    <tr>\n",
       "      <th>3</th>\n",
       "      <td>8934342</td>\n",
       "      <td>LINESTRING (219823.023 4371753.116, 219905.68 ...</td>\n",
       "    </tr>\n",
       "    <tr>\n",
       "      <th>4</th>\n",
       "      <td>8933520</td>\n",
       "      <td>LINESTRING (220240.836 4369758.678, 220245.466...</td>\n",
       "    </tr>\n",
       "  </tbody>\n",
       "</table>\n",
       "</div>"
      ],
      "text/plain": [
       "  nhdplus_co                                           geometry\n",
       "0    8933522  LINESTRING (221038.59 4369598.73, 221076.943 4...\n",
       "1    8933608  LINESTRING (220451.353 4367186.202, 220542.627...\n",
       "2    8933524  LINESTRING (220541.209 4369697.393, 220691.816...\n",
       "3    8934342  LINESTRING (219823.023 4371753.116, 219905.68 ...\n",
       "4    8933520  LINESTRING (220240.836 4369758.678, 220245.466..."
      ]
     },
     "execution_count": 21,
     "metadata": {},
     "output_type": "execute_result"
    }
   ],
   "source": [
    "try:\n",
    "    nhddf = nldi.get_flowlines(\n",
    "        navigation_mode=\"UT\",\n",
    "        distance=999,\n",
    "        feature_source=\"nwissite\",\n",
    "        feature_id=f\"USGS-{sitedf.site_no.values[0]}\",\n",
    "    )\n",
    "    nhddf = nhddf.to_crs(epsg=epsg)\n",
    "except (ValueError, ConnectionError, NameError):\n",
    "    nhddf = gpd.read_file(geospatial_ws / \"nhd_streams.shp\")\n",
    "\n",
    "nhddf.head()"
   ]
  },
  {
   "cell_type": "markdown",
   "id": "8da12304",
   "metadata": {},
   "source": [
    "Intersect stream lines with the existing modelgrid"
   ]
  },
  {
   "cell_type": "code",
   "execution_count": 22,
   "id": "f3285925-ce26-48ec-b9ce-ffeb2c1f6249",
   "metadata": {
    "execution": {
     "iopub.execute_input": "2025-09-25T16:50:32.123901Z",
     "iopub.status.busy": "2025-09-25T16:50:32.123753Z",
     "iopub.status.idle": "2025-09-25T16:50:32.141655Z",
     "shell.execute_reply": "2025-09-25T16:50:32.141164Z"
    }
   },
   "outputs": [
    {
     "ename": "NameError",
     "evalue": "name 'GridIntersect' is not defined",
     "output_type": "error",
     "traceback": [
      "\u001b[31m---------------------------------------------------------------------------\u001b[39m",
      "\u001b[31mNameError\u001b[39m                                 Traceback (most recent call last)",
      "\u001b[36mCell\u001b[39m\u001b[36m \u001b[39m\u001b[32mIn[22]\u001b[39m\u001b[32m, line 2\u001b[39m\n\u001b[32m      1\u001b[39m rowcols = []\n\u001b[32m----> \u001b[39m\u001b[32m2\u001b[39m ix = \u001b[43mGridIntersect\u001b[49m(sgrid, method=\u001b[33m\"\u001b[39m\u001b[33mvertex\u001b[39m\u001b[33m\"\u001b[39m)\n\u001b[32m      3\u001b[39m \u001b[38;5;28;01mfor\u001b[39;00m geom \u001b[38;5;129;01min\u001b[39;00m nhddf.geometry.values:\n\u001b[32m      4\u001b[39m     rcs = ix.intersects(geom)[\u001b[33m\"\u001b[39m\u001b[33mcellids\u001b[39m\u001b[33m\"\u001b[39m]\n",
      "\u001b[31mNameError\u001b[39m: name 'GridIntersect' is not defined"
     ]
    }
   ],
   "source": [
    "rowcols = []\n",
    "ix = GridIntersect(sgrid, method=\"vertex\")\n",
    "for geom in nhddf.geometry.values:\n",
    "    rcs = ix.intersects(geom)[\"cellids\"]\n",
    "    rowcols.extend(list(rcs))"
   ]
  },
  {
   "cell_type": "code",
   "execution_count": 23,
   "id": "c3a12d60-e5d7-4dad-bb7e-edead8697191",
   "metadata": {
    "execution": {
     "iopub.execute_input": "2025-09-25T16:50:32.142882Z",
     "iopub.status.busy": "2025-09-25T16:50:32.142737Z",
     "iopub.status.idle": "2025-09-25T16:50:32.159522Z",
     "shell.execute_reply": "2025-09-25T16:50:32.159006Z"
    }
   },
   "outputs": [
    {
     "ename": "ValueError",
     "evalue": "not enough values to unpack (expected 2, got 0)",
     "output_type": "error",
     "traceback": [
      "\u001b[31m---------------------------------------------------------------------------\u001b[39m",
      "\u001b[31mValueError\u001b[39m                                Traceback (most recent call last)",
      "\u001b[36mCell\u001b[39m\u001b[36m \u001b[39m\u001b[32mIn[23]\u001b[39m\u001b[32m, line 1\u001b[39m\n\u001b[32m----> \u001b[39m\u001b[32m1\u001b[39m row, col = \u001b[38;5;28mlist\u001b[39m(\u001b[38;5;28mzip\u001b[39m(*rowcols))\n\u001b[32m      2\u001b[39m strms = np.zeros((nrow, ncol))\n\u001b[32m      3\u001b[39m strms[row, col] = \u001b[32m1\u001b[39m\n",
      "\u001b[31mValueError\u001b[39m: not enough values to unpack (expected 2, got 0)"
     ]
    }
   ],
   "source": [
    "row, col = list(zip(*rowcols))\n",
    "strms = np.zeros((nrow, ncol))\n",
    "strms[row, col] = 1\n",
    "strms"
   ]
  },
  {
   "cell_type": "markdown",
   "id": "12c3ae47-a03b-4ee2-b879-47a39bf9c1b8",
   "metadata": {},
   "source": [
    "Plot the intersection results"
   ]
  },
  {
   "cell_type": "code",
   "execution_count": 24,
   "id": "1d8b1e04-1590-4acd-a89b-ee3283220e43",
   "metadata": {
    "execution": {
     "iopub.execute_input": "2025-09-25T16:50:32.160775Z",
     "iopub.status.busy": "2025-09-25T16:50:32.160631Z",
     "iopub.status.idle": "2025-09-25T16:50:32.241546Z",
     "shell.execute_reply": "2025-09-25T16:50:32.241071Z"
    }
   },
   "outputs": [
    {
     "ename": "NameError",
     "evalue": "name 'PlotMapView' is not defined",
     "output_type": "error",
     "traceback": [
      "\u001b[31m---------------------------------------------------------------------------\u001b[39m",
      "\u001b[31mNameError\u001b[39m                                 Traceback (most recent call last)",
      "\u001b[36mCell\u001b[39m\u001b[36m \u001b[39m\u001b[32mIn[24]\u001b[39m\u001b[32m, line 2\u001b[39m\n\u001b[32m      1\u001b[39m fig, ax = plt.subplots(figsize=(\u001b[32m5\u001b[39m, \u001b[32m5\u001b[39m))\n\u001b[32m----> \u001b[39m\u001b[32m2\u001b[39m pmv = \u001b[43mPlotMapView\u001b[49m(modelgrid=sgrid, ax=ax)\n\u001b[32m      3\u001b[39m pc = pmv.plot_array(sgrid.top, cmap=\u001b[33m\"\u001b[39m\u001b[33mviridis\u001b[39m\u001b[33m\"\u001b[39m)\n\u001b[32m      4\u001b[39m pmv.plot_array(strms, masked_values=[\u001b[32m0\u001b[39m,], alpha=\u001b[32m0.3\u001b[39m, cmap=\u001b[33m\"\u001b[39m\u001b[33mReds_r\u001b[39m\u001b[33m\"\u001b[39m)\n",
      "\u001b[31mNameError\u001b[39m: name 'PlotMapView' is not defined"
     ]
    },
    {
     "data": {
      "image/png": "[encoded data removed]",
      "text/plain": [
       "<Figure size 500x500 with 1 Axes>"
      ]
     },
     "metadata": {},
     "output_type": "display_data"
    }
   ],
   "source": [
    "fig, ax = plt.subplots(figsize=(5, 5))\n",
    "pmv = PlotMapView(modelgrid=sgrid, ax=ax)\n",
    "pc = pmv.plot_array(sgrid.top, cmap=\"viridis\")\n",
    "pmv.plot_array(strms, masked_values=[0,], alpha=0.3, cmap=\"Reds_r\")\n",
    "pmv.plot_inactive()\n",
    "pmv.plot_grid(lw=0.5)\n",
    "plt.colorbar(pc, shrink=0.7)\n",
    "nhddf.plot(ax=ax);"
   ]
  },
  {
   "cell_type": "markdown",
   "id": "3548e80e-aacc-4df5-8850-f8643431bf6f",
   "metadata": {},
   "source": [
    "Information from the grid we've created here can now be used for generating more complex meshes."
   ]
  },
  {
   "cell_type": "markdown",
   "id": "2afa63f8-4086-437f-80e6-d49c976ff7aa",
   "metadata": {},
   "source": [
    "## Irregular structured Grid (DIS)\n",
    "\n",
    "In this example, an irregular structured grid is created to demonstrate how to add local refinement to an area of the model using a structured (rectilinear) grid. "
   ]
  },
  {
   "cell_type": "code",
   "execution_count": 25,
   "id": "13244acf-3649-4d98-9e9c-5cc9621509cb",
   "metadata": {
    "execution": {
     "iopub.execute_input": "2025-09-25T16:50:32.242855Z",
     "iopub.status.busy": "2025-09-25T16:50:32.242719Z",
     "iopub.status.idle": "2025-09-25T16:50:32.264068Z",
     "shell.execute_reply": "2025-09-25T16:50:32.263638Z"
    }
   },
   "outputs": [
    {
     "ename": "NameError",
     "evalue": "name 'xmax' is not defined",
     "output_type": "error",
     "traceback": [
      "\u001b[31m---------------------------------------------------------------------------\u001b[39m",
      "\u001b[31mNameError\u001b[39m                                 Traceback (most recent call last)",
      "\u001b[36mCell\u001b[39m\u001b[36m \u001b[39m\u001b[32mIn[25]\u001b[39m\u001b[32m, line 1\u001b[39m\n\u001b[32m----> \u001b[39m\u001b[32m1\u001b[39m lx = \u001b[43mxmax\u001b[49m - xmin\n\u001b[32m      2\u001b[39m ly = ymax - ymin\n\u001b[32m      3\u001b[39m cellsize = \u001b[32m200\u001b[39m\n",
      "\u001b[31mNameError\u001b[39m: name 'xmax' is not defined"
     ]
    }
   ],
   "source": [
    "lx = xmax - xmin\n",
    "ly = ymax - ymin\n",
    "cellsize = 200\n",
    "rcellsize = 100\n",
    "\n",
    "smooth = np.linspace(100, 200, 10).tolist()\n",
    "delr = 9 * [cellsize] + smooth[::-1] + 8 * [rcellsize] + smooth + 9 * [cellsize] \n",
    "delc = 8 * [cellsize] + smooth[::-1] + 7 * [rcellsize] + smooth + 8 * [cellsize]\n",
    "nlay = 1\n",
    "nrow = len(delc)\n",
    "ncol = len(delr)\n",
    "\n",
    "# create some fake data for the moment\n",
    "top = np.ones((nrow, ncol))\n",
    "botm = np.zeros((nlay, nrow, ncol))\n",
    "idomain = np.ones(botm.shape, dtype=int)"
   ]
  },
  {
   "cell_type": "code",
   "execution_count": 26,
   "id": "e10e99f1-cd5b-40f4-aab9-9b7c9a8e95cf",
   "metadata": {
    "execution": {
     "iopub.execute_input": "2025-09-25T16:50:32.265373Z",
     "iopub.status.busy": "2025-09-25T16:50:32.265237Z",
     "iopub.status.idle": "2025-09-25T16:50:32.283780Z",
     "shell.execute_reply": "2025-09-25T16:50:32.283385Z"
    }
   },
   "outputs": [
    {
     "ename": "NameError",
     "evalue": "name 'StructuredGrid' is not defined",
     "output_type": "error",
     "traceback": [
      "\u001b[31m---------------------------------------------------------------------------\u001b[39m",
      "\u001b[31mNameError\u001b[39m                                 Traceback (most recent call last)",
      "\u001b[36mCell\u001b[39m\u001b[36m \u001b[39m\u001b[32mIn[26]\u001b[39m\u001b[32m, line 1\u001b[39m\n\u001b[32m----> \u001b[39m\u001b[32m1\u001b[39m rfgrid = \u001b[43mStructuredGrid\u001b[49m(\n\u001b[32m      2\u001b[39m     delc=np.array(delc),\n\u001b[32m      3\u001b[39m     delr=np.array(delr),\n\u001b[32m      4\u001b[39m     nlay=nlay,\n\u001b[32m      5\u001b[39m     top=top,\n\u001b[32m      6\u001b[39m     botm=botm,\n\u001b[32m      7\u001b[39m     idomain=idomain,\n\u001b[32m      8\u001b[39m     xoff=xmin,\n\u001b[32m      9\u001b[39m     yoff=ymin\n\u001b[32m     10\u001b[39m )\n\u001b[32m     11\u001b[39m \u001b[38;5;28mprint\u001b[39m(nlay, nrow, ncol)\n\u001b[32m     12\u001b[39m \u001b[38;5;28mprint\u001b[39m(rfgrid.nrow, rfgrid.ncol)\n",
      "\u001b[31mNameError\u001b[39m: name 'StructuredGrid' is not defined"
     ]
    }
   ],
   "source": [
    "rfgrid = StructuredGrid(\n",
    "    delc=np.array(delc),\n",
    "    delr=np.array(delr),\n",
    "    nlay=nlay,\n",
    "    top=top,\n",
    "    botm=botm,\n",
    "    idomain=idomain,\n",
    "    xoff=xmin,\n",
    "    yoff=ymin\n",
    ")\n",
    "print(nlay, nrow, ncol)\n",
    "print(rfgrid.nrow, rfgrid.ncol)"
   ]
  },
  {
   "cell_type": "markdown",
   "id": "737b140f-a786-473c-9632-f76f3b2ae440",
   "metadata": {},
   "source": [
    "Intersect the basin boundary with the grid to set active and inactive cells (idomain)"
   ]
  },
  {
   "cell_type": "code",
   "execution_count": 27,
   "id": "4820e68f-dd08-4530-88fb-0f841ae58ab9",
   "metadata": {
    "execution": {
     "iopub.execute_input": "2025-09-25T16:50:32.285071Z",
     "iopub.status.busy": "2025-09-25T16:50:32.284915Z",
     "iopub.status.idle": "2025-09-25T16:50:32.303396Z",
     "shell.execute_reply": "2025-09-25T16:50:32.302994Z"
    }
   },
   "outputs": [
    {
     "ename": "NameError",
     "evalue": "name 'GridIntersect' is not defined",
     "output_type": "error",
     "traceback": [
      "\u001b[31m---------------------------------------------------------------------------\u001b[39m",
      "\u001b[31mNameError\u001b[39m                                 Traceback (most recent call last)",
      "\u001b[36mCell\u001b[39m\u001b[36m \u001b[39m\u001b[32mIn[27]\u001b[39m\u001b[32m, line 1\u001b[39m\n\u001b[32m----> \u001b[39m\u001b[32m1\u001b[39m ix = \u001b[43mGridIntersect\u001b[49m(rfgrid, method=\u001b[33m\"\u001b[39m\u001b[33mvertex\u001b[39m\u001b[33m\"\u001b[39m)\n\u001b[32m      2\u001b[39m result = ix.intersect(basindf.geometry.values[\u001b[32m0\u001b[39m], contains_centroid=\u001b[38;5;28;01mTrue\u001b[39;00m)\n\u001b[32m      3\u001b[39m rowcol = result[\u001b[33m\"\u001b[39m\u001b[33mcellids\u001b[39m\u001b[33m\"\u001b[39m]\n",
      "\u001b[31mNameError\u001b[39m: name 'GridIntersect' is not defined"
     ]
    }
   ],
   "source": [
    "ix = GridIntersect(rfgrid, method=\"vertex\")\n",
    "result = ix.intersect(basindf.geometry.values[0], contains_centroid=True)\n",
    "rowcol = result[\"cellids\"]\n",
    "\n",
    "row, col = list(zip(*rowcol))\n",
    "idomain = np.zeros((nlay, nrow, ncol), dtype=int)\n",
    "idomain[:, row, col] = 1\n",
    "\n",
    "# tricky way so we don't have to recreate the grid\n",
    "rfgrid._idomain = idomain"
   ]
  },
  {
   "cell_type": "markdown",
   "id": "f2d24d71-6b47-4caf-b9a0-dbc651cc7c94",
   "metadata": {},
   "source": [
    "Resample the top elevation"
   ]
  },
  {
   "cell_type": "code",
   "execution_count": 28,
   "id": "89b48168-809f-422f-9943-6bdc796927dd",
   "metadata": {
    "execution": {
     "iopub.execute_input": "2025-09-25T16:50:32.304677Z",
     "iopub.status.busy": "2025-09-25T16:50:32.304537Z",
     "iopub.status.idle": "2025-09-25T16:50:32.321491Z",
     "shell.execute_reply": "2025-09-25T16:50:32.321090Z"
    }
   },
   "outputs": [
    {
     "ename": "NameError",
     "evalue": "name 'rstr' is not defined",
     "output_type": "error",
     "traceback": [
      "\u001b[31m---------------------------------------------------------------------------\u001b[39m",
      "\u001b[31mNameError\u001b[39m                                 Traceback (most recent call last)",
      "\u001b[36mCell\u001b[39m\u001b[36m \u001b[39m\u001b[32mIn[28]\u001b[39m\u001b[32m, line 1\u001b[39m\n\u001b[32m----> \u001b[39m\u001b[32m1\u001b[39m top = \u001b[43mrstr\u001b[49m.resample_to_grid(\n\u001b[32m      2\u001b[39m     rfgrid, rstr.bands[\u001b[32m0\u001b[39m], method=\u001b[33m\"\u001b[39m\u001b[33mmin\u001b[39m\u001b[33m\"\u001b[39m, extrapolate_edges=\u001b[38;5;28;01mTrue\u001b[39;00m\n\u001b[32m      3\u001b[39m )\n\u001b[32m      5\u001b[39m \u001b[38;5;66;03m# tricky way so we don't have to recreate the grid\u001b[39;00m\n\u001b[32m      6\u001b[39m rfgrid._top = top\n",
      "\u001b[31mNameError\u001b[39m: name 'rstr' is not defined"
     ]
    }
   ],
   "source": [
    "top = rstr.resample_to_grid(\n",
    "    rfgrid, rstr.bands[0], method=\"min\", extrapolate_edges=True\n",
    ")\n",
    "\n",
    "# tricky way so we don't have to recreate the grid\n",
    "rfgrid._top = top"
   ]
  },
  {
   "cell_type": "markdown",
   "id": "0814ada3-16ac-481b-b129-49d241b3ea26",
   "metadata": {},
   "source": [
    "Now we can plot the grid"
   ]
  },
  {
   "cell_type": "code",
   "execution_count": 29,
   "id": "4d450173-15f0-43b7-abbd-c9946cd885bb",
   "metadata": {
    "execution": {
     "iopub.execute_input": "2025-09-25T16:50:32.322757Z",
     "iopub.status.busy": "2025-09-25T16:50:32.322623Z",
     "iopub.status.idle": "2025-09-25T16:50:32.403898Z",
     "shell.execute_reply": "2025-09-25T16:50:32.403423Z"
    }
   },
   "outputs": [
    {
     "ename": "NameError",
     "evalue": "name 'PlotMapView' is not defined",
     "output_type": "error",
     "traceback": [
      "\u001b[31m---------------------------------------------------------------------------\u001b[39m",
      "\u001b[31mNameError\u001b[39m                                 Traceback (most recent call last)",
      "\u001b[36mCell\u001b[39m\u001b[36m \u001b[39m\u001b[32mIn[29]\u001b[39m\u001b[32m, line 2\u001b[39m\n\u001b[32m      1\u001b[39m fig, ax = plt.subplots(figsize=(\u001b[32m5\u001b[39m, \u001b[32m5\u001b[39m))\n\u001b[32m----> \u001b[39m\u001b[32m2\u001b[39m pmv = \u001b[43mPlotMapView\u001b[49m(modelgrid=rfgrid)\n\u001b[32m      3\u001b[39m pc = pmv.plot_array(rfgrid.top, cmap=\u001b[33m\"\u001b[39m\u001b[33mviridis\u001b[39m\u001b[33m\"\u001b[39m)\n\u001b[32m      4\u001b[39m ib = pmv.plot_inactive()\n",
      "\u001b[31mNameError\u001b[39m: name 'PlotMapView' is not defined"
     ]
    },
    {
     "data": {
      "image/png": "[encoded data removed]",
      "text/plain": [
       "<Figure size 500x500 with 1 Axes>"
      ]
     },
     "metadata": {},
     "output_type": "display_data"
    }
   ],
   "source": [
    "fig, ax = plt.subplots(figsize=(5, 5))\n",
    "pmv = PlotMapView(modelgrid=rfgrid)\n",
    "pc = pmv.plot_array(rfgrid.top, cmap=\"viridis\")\n",
    "ib = pmv.plot_inactive()\n",
    "pmv.plot_grid(lw=0.5)\n",
    "plt.colorbar(pc, shrink=0.7)\n",
    "\n",
    "basindf.plot(ax=ax, facecolor=\"None\", edgecolor=\"r\", lw=1.5)\n",
    "sitedf.plot(\n",
    "    column=\"site_no\",\n",
    "    ax=ax,\n",
    "    cmap=\"tab20\",\n",
    "    legend=True,\n",
    "    legend_kwds={\"fontsize\": 6},\n",
    "    zorder=6\n",
    ");"
   ]
  },
  {
   "cell_type": "markdown",
   "id": "e31adf58-9a3e-4b03-ab42-1d1a247bc8ce",
   "metadata": {},
   "source": [
    "## Local Grid Refinement (LGR) mesh\n",
    "\n",
    "A Local Grid Refinement (LGR) mesh can be created in an area of interest to get finer discretization than the existing/surrounding mesh. FloPy's `Lgr` utility, creates the refined mesh as a seperate modelgrid, and calculates the exchanges between the multi-model simulation mesh that results from refinement. \n",
    "\n",
    "The `Lgr` utility has a number of input parameters:\n",
    "   - `nlayp`: the number of parent model layers\n",
    "   - `nrowp`: the number of parent model rows\n",
    "   - `ncolp`: the number of parent model columns\n",
    "   - `delrp`: the parent model delr array\n",
    "   - `delcp`: the parent model delc array\n",
    "   - `topp`: the parent model top array\n",
    "   - `botmp`: the parent model botm array\n",
    "   - `idomainp`: an idomain array that is used to create the child grid. Values of 1 indicate parent model cells, values of 0 indicate child model cells. The child model must be a rectangular region that is continuous.\n",
    "   - `ncpp`: number of child cells along the face of a parent cell\n",
    "   - `ncppl`: number of child cells per parent layer\n",
    "   - `xllp`: (optional) x location of parent grid lower left corner\n",
    "   - `yllp`: (optional) y-location of parent grid lower left corner"
   ]
  },
  {
   "cell_type": "markdown",
   "id": "6729b854-0fd2-4595-8fbc-5411f80adf86",
   "metadata": {},
   "source": [
    "**Load up the refinement area polygon**"
   ]
  },
  {
   "cell_type": "code",
   "execution_count": 30,
   "id": "e2764262-3604-4314-96fd-0f6e7b16b209",
   "metadata": {
    "execution": {
     "iopub.execute_input": "2025-09-25T16:50:32.405322Z",
     "iopub.status.busy": "2025-09-25T16:50:32.405173Z",
     "iopub.status.idle": "2025-09-25T16:50:32.409633Z",
     "shell.execute_reply": "2025-09-25T16:50:32.409149Z"
    }
   },
   "outputs": [],
   "source": [
    "lgr_gdf = gpd.read_file(geospatial_ws / \"lgr_bound.shp\")"
   ]
  },
  {
   "cell_type": "markdown",
   "id": "5c81271d-5554-448f-bc4d-464ce5617b8a",
   "metadata": {},
   "source": [
    "Plot it to see if it lines up properly with our model"
   ]
  },
  {
   "cell_type": "code",
   "execution_count": 31,
   "id": "5b143c4c-a4b5-4fe6-825b-6e540568ac6f",
   "metadata": {
    "execution": {
     "iopub.execute_input": "2025-09-25T16:50:32.411015Z",
     "iopub.status.busy": "2025-09-25T16:50:32.410878Z",
     "iopub.status.idle": "2025-09-25T16:50:32.490833Z",
     "shell.execute_reply": "2025-09-25T16:50:32.490342Z"
    }
   },
   "outputs": [
    {
     "ename": "NameError",
     "evalue": "name 'PlotMapView' is not defined",
     "output_type": "error",
     "traceback": [
      "\u001b[31m---------------------------------------------------------------------------\u001b[39m",
      "\u001b[31mNameError\u001b[39m                                 Traceback (most recent call last)",
      "\u001b[36mCell\u001b[39m\u001b[36m \u001b[39m\u001b[32mIn[31]\u001b[39m\u001b[32m, line 2\u001b[39m\n\u001b[32m      1\u001b[39m fig, ax = plt.subplots(figsize=(\u001b[32m5\u001b[39m, \u001b[32m5\u001b[39m))\n\u001b[32m----> \u001b[39m\u001b[32m2\u001b[39m pmv = \u001b[43mPlotMapView\u001b[49m(modelgrid=sgrid, ax=ax)\n\u001b[32m      3\u001b[39m pc = pmv.plot_array(sgrid.top, cmap=\u001b[33m\"\u001b[39m\u001b[33mviridis\u001b[39m\u001b[33m\"\u001b[39m)\n\u001b[32m      4\u001b[39m pmv.plot_array(strms, masked_values=[\u001b[32m0\u001b[39m,], alpha=\u001b[32m0.3\u001b[39m, cmap=\u001b[33m\"\u001b[39m\u001b[33mReds_r\u001b[39m\u001b[33m\"\u001b[39m)\n",
      "\u001b[31mNameError\u001b[39m: name 'PlotMapView' is not defined"
     ]
    },
    {
     "data": {
      "image/png": "[encoded data removed]",
      "text/plain": [
       "<Figure size 500x500 with 1 Axes>"
      ]
     },
     "metadata": {},
     "output_type": "display_data"
    }
   ],
   "source": [
    "fig, ax = plt.subplots(figsize=(5, 5))\n",
    "pmv = PlotMapView(modelgrid=sgrid, ax=ax)\n",
    "pc = pmv.plot_array(sgrid.top, cmap=\"viridis\")\n",
    "pmv.plot_array(strms, masked_values=[0,], alpha=0.3, cmap=\"Reds_r\")\n",
    "pmv.plot_inactive()\n",
    "pmv.plot_grid(lw=0.5)\n",
    "nhddf.plot(ax=ax)\n",
    "lgr_gdf.plot(ax=ax, alpha=0.5)\n",
    "plt.colorbar(pc, shrink=0.7);"
   ]
  },
  {
   "cell_type": "markdown",
   "id": "058053a4-d54c-4dea-bdae-52cbe110c6af",
   "metadata": {},
   "source": [
    "Creating the parent/child idomainp array for `Lgr` using `GridIntersect`"
   ]
  },
  {
   "cell_type": "code",
   "execution_count": 32,
   "id": "55b19ebb-3baa-4718-83a9-a965b3f79ead",
   "metadata": {
    "execution": {
     "iopub.execute_input": "2025-09-25T16:50:32.492216Z",
     "iopub.status.busy": "2025-09-25T16:50:32.492069Z",
     "iopub.status.idle": "2025-09-25T16:50:32.496593Z",
     "shell.execute_reply": "2025-09-25T16:50:32.496108Z"
    }
   },
   "outputs": [
    {
     "data": {
      "text/html": [
       "<div>\n",
       "<style scoped>\n",
       "    .dataframe tbody tr th:only-of-type {\n",
       "        vertical-align: middle;\n",
       "    }\n",
       "\n",
       "    .dataframe tbody tr th {\n",
       "        vertical-align: top;\n",
       "    }\n",
       "\n",
       "    .dataframe thead th {\n",
       "        text-align: right;\n",
       "    }\n",
       "</style>\n",
       "<table border=\"1\" class=\"dataframe\">\n",
       "  <thead>\n",
       "    <tr style=\"text-align: right;\">\n",
       "      <th></th>\n",
       "      <th>Id</th>\n",
       "      <th>geometry</th>\n",
       "    </tr>\n",
       "  </thead>\n",
       "  <tbody>\n",
       "    <tr>\n",
       "      <th>0</th>\n",
       "      <td>0</td>\n",
       "      <td>POLYGON ((221180.716 4369310.065, 219973.134 4...</td>\n",
       "    </tr>\n",
       "  </tbody>\n",
       "</table>\n",
       "</div>"
      ],
      "text/plain": [
       "   Id                                           geometry\n",
       "0   0  POLYGON ((221180.716 4369310.065, 219973.134 4..."
      ]
     },
     "execution_count": 32,
     "metadata": {},
     "output_type": "execute_result"
    }
   ],
   "source": [
    "lgr_gdf"
   ]
  },
  {
   "cell_type": "markdown",
   "id": "fe0e95b8",
   "metadata": {},
   "source": [
    "## Activity: Create the `idomainp` (parent, child) array from the polygon provided by the lgr geodataframe\n",
    "\n",
    "`idomainp` should be the same shape as the existing modelgrid's `idomain` array. The child model extent should be represented with the value 0 and the parent 1.\n",
    "\n",
    "*Hint*: `GridIntersect()` can be used to find the cellids where the lgr polygon intersects with the existing modelgrid"
   ]
  },
  {
   "cell_type": "code",
   "execution_count": 33,
   "id": "ccd7f65c-911e-409c-8382-4fe1655b5caf",
   "metadata": {
    "execution": {
     "iopub.execute_input": "2025-09-25T16:50:32.497827Z",
     "iopub.status.busy": "2025-09-25T16:50:32.497694Z",
     "iopub.status.idle": "2025-09-25T16:50:32.516929Z",
     "shell.execute_reply": "2025-09-25T16:50:32.516425Z"
    }
   },
   "outputs": [
    {
     "ename": "NameError",
     "evalue": "name 'sgrid' is not defined",
     "output_type": "error",
     "traceback": [
      "\u001b[31m---------------------------------------------------------------------------\u001b[39m",
      "\u001b[31mNameError\u001b[39m                                 Traceback (most recent call last)",
      "\u001b[36mCell\u001b[39m\u001b[36m \u001b[39m\u001b[32mIn[33]\u001b[39m\u001b[32m, line 2\u001b[39m\n\u001b[32m      1\u001b[39m \u001b[38;5;66;03m# live code this/give it as an activity\u001b[39;00m\n\u001b[32m----> \u001b[39m\u001b[32m2\u001b[39m idomainp = np.ones(\u001b[43msgrid\u001b[49m.idomain.shape, dtype=\u001b[38;5;28mint\u001b[39m)\n\u001b[32m      4\u001b[39m gix = GridIntersect(sgrid, method=\u001b[33m\"\u001b[39m\u001b[33mvertex\u001b[39m\u001b[33m\"\u001b[39m)\n\u001b[32m      5\u001b[39m result = gix.intersect(lgr_gdf.geometry.values[\u001b[32m0\u001b[39m])\n",
      "\u001b[31mNameError\u001b[39m: name 'sgrid' is not defined"
     ]
    }
   ],
   "source": [
    "# live code this/give it as an activity\n",
    "idomainp = np.ones(sgrid.idomain.shape, dtype=int)\n",
    "\n",
    "gix = GridIntersect(sgrid, method=\"vertex\")\n",
    "result = gix.intersect(lgr_gdf.geometry.values[0])\n",
    "cid = result[\"cellids\"]\n",
    "\n",
    "crow, ccol = list(zip(*cid))\n",
    "idomainp[:, crow, ccol] = 0"
   ]
  },
  {
   "cell_type": "markdown",
   "id": "21d37cdb-96f0-4deb-95cf-755416422091",
   "metadata": {},
   "source": [
    "Creating the `Lgr` object/child grid"
   ]
  },
  {
   "cell_type": "code",
   "execution_count": 34,
   "id": "7552cda5-806e-4e86-aaa5-0e9351fc875b",
   "metadata": {
    "execution": {
     "iopub.execute_input": "2025-09-25T16:50:32.518470Z",
     "iopub.status.busy": "2025-09-25T16:50:32.518298Z",
     "iopub.status.idle": "2025-09-25T16:50:32.536619Z",
     "shell.execute_reply": "2025-09-25T16:50:32.536217Z"
    }
   },
   "outputs": [
    {
     "ename": "NameError",
     "evalue": "name 'Lgr' is not defined",
     "output_type": "error",
     "traceback": [
      "\u001b[31m---------------------------------------------------------------------------\u001b[39m",
      "\u001b[31mNameError\u001b[39m                                 Traceback (most recent call last)",
      "\u001b[36mCell\u001b[39m\u001b[36m \u001b[39m\u001b[32mIn[34]\u001b[39m\u001b[32m, line 1\u001b[39m\n\u001b[32m----> \u001b[39m\u001b[32m1\u001b[39m lgr = \u001b[43mLgr\u001b[49m(\n\u001b[32m      2\u001b[39m     nlayp=sgrid.nlay,\n\u001b[32m      3\u001b[39m     nrowp=sgrid.nrow,\n\u001b[32m      4\u001b[39m     ncolp=sgrid.ncol,\n\u001b[32m      5\u001b[39m     delrp=sgrid.delr,\n\u001b[32m      6\u001b[39m     delcp=sgrid.delc,\n\u001b[32m      7\u001b[39m     topp=sgrid.top,\n\u001b[32m      8\u001b[39m     botmp=sgrid.botm,\n\u001b[32m      9\u001b[39m     idomainp=idomainp,\n\u001b[32m     10\u001b[39m     ncpp=\u001b[32m4\u001b[39m,\n\u001b[32m     11\u001b[39m     xllp=sgrid.xoffset,\n\u001b[32m     12\u001b[39m     yllp=sgrid.yoffset,\n\u001b[32m     13\u001b[39m )\n",
      "\u001b[31mNameError\u001b[39m: name 'Lgr' is not defined"
     ]
    }
   ],
   "source": [
    "lgr = Lgr(\n",
    "    nlayp=sgrid.nlay,\n",
    "    nrowp=sgrid.nrow,\n",
    "    ncolp=sgrid.ncol,\n",
    "    delrp=sgrid.delr,\n",
    "    delcp=sgrid.delc,\n",
    "    topp=sgrid.top,\n",
    "    botmp=sgrid.botm,\n",
    "    idomainp=idomainp,\n",
    "    ncpp=4,\n",
    "    xllp=sgrid.xoffset,\n",
    "    yllp=sgrid.yoffset,\n",
    ")"
   ]
  },
  {
   "cell_type": "markdown",
   "id": "36bab4ba-d52d-4e15-8f68-4f389775fd34",
   "metadata": {},
   "source": [
    "Get a `StructuredGrid` of the child model"
   ]
  },
  {
   "cell_type": "code",
   "execution_count": 35,
   "id": "6860ee97-09eb-41d7-a614-d413217cc031",
   "metadata": {
    "execution": {
     "iopub.execute_input": "2025-09-25T16:50:32.537875Z",
     "iopub.status.busy": "2025-09-25T16:50:32.537739Z",
     "iopub.status.idle": "2025-09-25T16:50:32.553655Z",
     "shell.execute_reply": "2025-09-25T16:50:32.553175Z"
    }
   },
   "outputs": [
    {
     "ename": "NameError",
     "evalue": "name 'lgr' is not defined",
     "output_type": "error",
     "traceback": [
      "\u001b[31m---------------------------------------------------------------------------\u001b[39m",
      "\u001b[31mNameError\u001b[39m                                 Traceback (most recent call last)",
      "\u001b[36mCell\u001b[39m\u001b[36m \u001b[39m\u001b[32mIn[35]\u001b[39m\u001b[32m, line 1\u001b[39m\n\u001b[32m----> \u001b[39m\u001b[32m1\u001b[39m childgrid = \u001b[43mlgr\u001b[49m.child.modelgrid\n\u001b[32m      2\u001b[39m childgrid\n",
      "\u001b[31mNameError\u001b[39m: name 'lgr' is not defined"
     ]
    }
   ],
   "source": [
    "childgrid = lgr.child.modelgrid\n",
    "childgrid"
   ]
  },
  {
   "cell_type": "markdown",
   "id": "8742de05-8964-4bc6-aa9a-4c8df0cc1825",
   "metadata": {},
   "source": [
    "Resample top elevations to the child grid"
   ]
  },
  {
   "cell_type": "code",
   "execution_count": 36,
   "id": "fb559103-4392-44a2-8aba-bf68ae03e8c9",
   "metadata": {
    "execution": {
     "iopub.execute_input": "2025-09-25T16:50:32.555034Z",
     "iopub.status.busy": "2025-09-25T16:50:32.554897Z",
     "iopub.status.idle": "2025-09-25T16:50:32.571715Z",
     "shell.execute_reply": "2025-09-25T16:50:32.571328Z"
    }
   },
   "outputs": [
    {
     "ename": "NameError",
     "evalue": "name 'rstr' is not defined",
     "output_type": "error",
     "traceback": [
      "\u001b[31m---------------------------------------------------------------------------\u001b[39m",
      "\u001b[31mNameError\u001b[39m                                 Traceback (most recent call last)",
      "\u001b[36mCell\u001b[39m\u001b[36m \u001b[39m\u001b[32mIn[36]\u001b[39m\u001b[32m, line 1\u001b[39m\n\u001b[32m----> \u001b[39m\u001b[32m1\u001b[39m childtop = \u001b[43mrstr\u001b[49m.resample_to_grid(childgrid, band=rstr.bands[\u001b[32m0\u001b[39m], method=\u001b[33m\"\u001b[39m\u001b[33mmin\u001b[39m\u001b[33m\"\u001b[39m)\n\u001b[32m      2\u001b[39m \u001b[38;5;28mprint\u001b[39m(childtop.shape)\n\u001b[32m      3\u001b[39m \u001b[38;5;28mprint\u001b[39m(childgrid.shape)\n",
      "\u001b[31mNameError\u001b[39m: name 'rstr' is not defined"
     ]
    }
   ],
   "source": [
    "childtop = rstr.resample_to_grid(childgrid, band=rstr.bands[0], method=\"min\")\n",
    "print(childtop.shape)\n",
    "print(childgrid.shape)"
   ]
  },
  {
   "cell_type": "markdown",
   "id": "b820dced-8c11-428a-adec-95a76887d8f8",
   "metadata": {},
   "source": [
    "Reset the top elevations in the `childgrid` object"
   ]
  },
  {
   "cell_type": "code",
   "execution_count": 37,
   "id": "a8621ac6-067d-47b4-bffd-9f5ff71a42d8",
   "metadata": {
    "execution": {
     "iopub.execute_input": "2025-09-25T16:50:32.572973Z",
     "iopub.status.busy": "2025-09-25T16:50:32.572830Z",
     "iopub.status.idle": "2025-09-25T16:50:32.589189Z",
     "shell.execute_reply": "2025-09-25T16:50:32.588686Z"
    }
   },
   "outputs": [
    {
     "ename": "NameError",
     "evalue": "name 'childtop' is not defined",
     "output_type": "error",
     "traceback": [
      "\u001b[31m---------------------------------------------------------------------------\u001b[39m",
      "\u001b[31mNameError\u001b[39m                                 Traceback (most recent call last)",
      "\u001b[36mCell\u001b[39m\u001b[36m \u001b[39m\u001b[32mIn[37]\u001b[39m\u001b[32m, line 1\u001b[39m\n\u001b[32m----> \u001b[39m\u001b[32m1\u001b[39m childgrid._top = \u001b[43mchildtop\u001b[49m\n",
      "\u001b[31mNameError\u001b[39m: name 'childtop' is not defined"
     ]
    }
   ],
   "source": [
    "childgrid._top = childtop"
   ]
  },
  {
   "cell_type": "markdown",
   "id": "8b21c6fa-cf67-4ba0-bc9d-225a403a5d5a",
   "metadata": {},
   "source": [
    "Intersect streams with the Child mesh to define stream cells"
   ]
  },
  {
   "cell_type": "code",
   "execution_count": 38,
   "id": "f2bef21c-e3cd-4377-b4e4-ac3545ea626e",
   "metadata": {
    "execution": {
     "iopub.execute_input": "2025-09-25T16:50:32.590444Z",
     "iopub.status.busy": "2025-09-25T16:50:32.590313Z",
     "iopub.status.idle": "2025-09-25T16:50:32.609110Z",
     "shell.execute_reply": "2025-09-25T16:50:32.608705Z"
    }
   },
   "outputs": [
    {
     "ename": "NameError",
     "evalue": "name 'GridIntersect' is not defined",
     "output_type": "error",
     "traceback": [
      "\u001b[31m---------------------------------------------------------------------------\u001b[39m",
      "\u001b[31mNameError\u001b[39m                                 Traceback (most recent call last)",
      "\u001b[36mCell\u001b[39m\u001b[36m \u001b[39m\u001b[32mIn[38]\u001b[39m\u001b[32m, line 1\u001b[39m\n\u001b[32m----> \u001b[39m\u001b[32m1\u001b[39m ix = \u001b[43mGridIntersect\u001b[49m(childgrid, method=\u001b[33m\"\u001b[39m\u001b[33mvertex\u001b[39m\u001b[33m\"\u001b[39m)\n\u001b[32m      2\u001b[39m cstrmcells = []\n\u001b[32m      3\u001b[39m \u001b[38;5;28;01mfor\u001b[39;00m geom \u001b[38;5;129;01min\u001b[39;00m nhddf.geometry.values:\n",
      "\u001b[31mNameError\u001b[39m: name 'GridIntersect' is not defined"
     ]
    }
   ],
   "source": [
    "ix = GridIntersect(childgrid, method=\"vertex\")\n",
    "cstrmcells = []\n",
    "for geom in nhddf.geometry.values:\n",
    "    rcs = ix.intersects(geom)[\"cellids\"]\n",
    "    if len(rowcol) > 0:\n",
    "        cstrmcells.extend(list(rcs))\n",
    "\n",
    "cstrms = np.zeros((childgrid.nrow, childgrid.ncol), dtype=int)\n",
    "row, col = list(zip(*cstrmcells))\n",
    "cstrms[row, col] = 1"
   ]
  },
  {
   "cell_type": "markdown",
   "id": "a6deba6b-ff4b-4fe0-ad63-e90bed6623a4",
   "metadata": {},
   "source": [
    "And now we can visualize the new LGR mesh"
   ]
  },
  {
   "cell_type": "code",
   "execution_count": 39,
   "id": "99f30580-98eb-44c4-bb24-837373be5bdb",
   "metadata": {
    "execution": {
     "iopub.execute_input": "2025-09-25T16:50:32.610370Z",
     "iopub.status.busy": "2025-09-25T16:50:32.610239Z",
     "iopub.status.idle": "2025-09-25T16:50:32.711666Z",
     "shell.execute_reply": "2025-09-25T16:50:32.711231Z"
    }
   },
   "outputs": [
    {
     "ename": "NameError",
     "evalue": "name 'sgrid' is not defined",
     "output_type": "error",
     "traceback": [
      "\u001b[31m---------------------------------------------------------------------------\u001b[39m",
      "\u001b[31mNameError\u001b[39m                                 Traceback (most recent call last)",
      "\u001b[36mCell\u001b[39m\u001b[36m \u001b[39m\u001b[32mIn[39]\u001b[39m\u001b[32m, line 2\u001b[39m\n\u001b[32m      1\u001b[39m fig, ax = plt.subplots(figsize=(\u001b[32m10\u001b[39m, \u001b[32m10\u001b[39m))\n\u001b[32m----> \u001b[39m\u001b[32m2\u001b[39m vmin, vmax = np.min(\u001b[43msgrid\u001b[49m.top), np.max(sgrid.top)\n\u001b[32m      4\u001b[39m \u001b[38;5;66;03m# plot the parent\u001b[39;00m\n\u001b[32m      5\u001b[39m pmvp = PlotMapView(modelgrid=sgrid, ax=ax)\n",
      "\u001b[31mNameError\u001b[39m: name 'sgrid' is not defined"
     ]
    },
    {
     "data": {
      "image/png": "[encoded data removed]",
      "text/plain": [
       "<Figure size 1000x1000 with 1 Axes>"
      ]
     },
     "metadata": {},
     "output_type": "display_data"
    }
   ],
   "source": [
    "fig, ax = plt.subplots(figsize=(10, 10))\n",
    "vmin, vmax = np.min(sgrid.top), np.max(sgrid.top)\n",
    "\n",
    "# plot the parent\n",
    "pmvp = PlotMapView(modelgrid=sgrid, ax=ax)\n",
    "ptop = sgrid.top.copy()\n",
    "ptop[crow, ccol] = np.nan\n",
    "strms[crow, ccol] = np.nan\n",
    "pc = pmvp.plot_array(ptop, cmap=\"viridis\", vmin=vmin, vmax=vmax)\n",
    "pmvp.plot_array(strms, masked_values=[0,], alpha=0.3, cmap=\"Reds_r\")\n",
    "pmvp.plot_inactive()\n",
    "pmvp.plot_grid(lw=0.3)\n",
    "nhddf.plot(ax=ax)\n",
    "\n",
    "# plot the child\n",
    "pmvc = PlotMapView(modelgrid=childgrid, ax=ax, extent=sgrid.extent)\n",
    "pmvc.plot_array(childtop, cmap=\"viridis\", vmin=vmin, vmax=vmax)\n",
    "pmvc.plot_array(cstrms, masked_values=[0,], alpha=0.3, cmap=\"Reds_r\")\n",
    "pmvc.plot_grid(lw=0.3)\n",
    "plt.colorbar(pc, shrink=0.7);"
   ]
  },
  {
   "attachments": {
    "Quadmesh.png": {
     "image/png": "[encoded data removed]"
    }
   },
   "cell_type": "markdown",
   "id": "6af4c1c2-3fea-4aac-824d-422deebf8899",
   "metadata": {},
   "source": [
    "## Quadtree Mesh\n",
    "\n",
    "A quadtree mesh is an unstructured refinement to a rectilinear modelgrid. In a quadtree mesh each node is split into 4 child nodes per level of refinement. The figure below is from [Lien and others, 2019](https://pubs.usgs.gov/of/2014/1109/pdf/ofr2014-1109.pdf) and shows multiple levels of recursive refinement.\n",
    "\n",
    "![Quadmesh.png](attachment:Quadmesh.png)\n",
    "\n",
    "For this example, we will be using GRIDGEN and the FloPy utility `Gridgen` to create quadtree refinement around the streams in our example."
   ]
  },
  {
   "cell_type": "code",
   "execution_count": 40,
   "id": "f7ab3319-2555-40cb-bc40-35760cb059e8",
   "metadata": {
    "execution": {
     "iopub.execute_input": "2025-09-25T16:50:32.713029Z",
     "iopub.status.busy": "2025-09-25T16:50:32.712891Z",
     "iopub.status.idle": "2025-09-25T16:50:32.715186Z",
     "shell.execute_reply": "2025-09-25T16:50:32.714787Z"
    }
   },
   "outputs": [],
   "source": [
    "gridgen_dir = data_ws / \"sagehen_gridgen\"\n",
    "gridgen_dir.mkdir(exist_ok=True)"
   ]
  },
  {
   "cell_type": "markdown",
   "id": "b7f86d9b-9e30-44ab-8a3b-ae8160ed76cb",
   "metadata": {},
   "source": [
    "The `Gridgen` class a number of input parameters and further documentation/examples of the class can be found [here](https://flopy.readthedocs.io/en/latest/Notebooks/gridgen_example.html). For our example, we will be refining the area around the stream channels."
   ]
  },
  {
   "cell_type": "code",
   "execution_count": 41,
   "id": "950682df-493e-4d17-b7eb-5ad49341da0a",
   "metadata": {
    "execution": {
     "iopub.execute_input": "2025-09-25T16:50:32.716455Z",
     "iopub.status.busy": "2025-09-25T16:50:32.716309Z",
     "iopub.status.idle": "2025-09-25T16:50:32.733827Z",
     "shell.execute_reply": "2025-09-25T16:50:32.733399Z"
    }
   },
   "outputs": [
    {
     "ename": "NameError",
     "evalue": "name 'Gridgen' is not defined",
     "output_type": "error",
     "traceback": [
      "\u001b[31m---------------------------------------------------------------------------\u001b[39m",
      "\u001b[31mNameError\u001b[39m                                 Traceback (most recent call last)",
      "\u001b[36mCell\u001b[39m\u001b[36m \u001b[39m\u001b[32mIn[41]\u001b[39m\u001b[32m, line 1\u001b[39m\n\u001b[32m----> \u001b[39m\u001b[32m1\u001b[39m g = \u001b[43mGridgen\u001b[49m(sgrid, model_ws=gridgen_dir)\n\u001b[32m      2\u001b[39m \u001b[38;5;28;01mfor\u001b[39;00m geom \u001b[38;5;129;01min\u001b[39;00m nhddf.geometry.values:\n\u001b[32m      3\u001b[39m     xy = \u001b[38;5;28mlist\u001b[39m(\u001b[38;5;28mzip\u001b[39m(*geom.coords.xy))\n",
      "\u001b[31mNameError\u001b[39m: name 'Gridgen' is not defined"
     ]
    }
   ],
   "source": [
    "g = Gridgen(sgrid, model_ws=gridgen_dir)\n",
    "for geom in nhddf.geometry.values:\n",
    "    xy = list(zip(*geom.coords.xy))\n",
    "    g.add_refinement_features([xy,], \"line\", 2, [0,])"
   ]
  },
  {
   "cell_type": "code",
   "execution_count": 42,
   "id": "45024b09-8e86-4ea3-a77d-23fcd5870bd4",
   "metadata": {
    "execution": {
     "iopub.execute_input": "2025-09-25T16:50:32.735197Z",
     "iopub.status.busy": "2025-09-25T16:50:32.735031Z",
     "iopub.status.idle": "2025-09-25T16:50:32.750506Z",
     "shell.execute_reply": "2025-09-25T16:50:32.749992Z"
    }
   },
   "outputs": [
    {
     "ename": "NameError",
     "evalue": "name 'g' is not defined",
     "output_type": "error",
     "traceback": [
      "\u001b[31m---------------------------------------------------------------------------\u001b[39m",
      "\u001b[31mNameError\u001b[39m                                 Traceback (most recent call last)",
      "\u001b[36mCell\u001b[39m\u001b[36m \u001b[39m\u001b[32mIn[42]\u001b[39m\u001b[32m, line 1\u001b[39m\n\u001b[32m----> \u001b[39m\u001b[32m1\u001b[39m \u001b[43mg\u001b[49m.build()\n",
      "\u001b[31mNameError\u001b[39m: name 'g' is not defined"
     ]
    }
   ],
   "source": [
    "g.build()"
   ]
  },
  {
   "cell_type": "markdown",
   "id": "afe3071c-6fa8-4411-8461-de554810f186",
   "metadata": {},
   "source": [
    "After gridgen builds the mesh, it can be used to create a `VertexGrid` (or DISV) that represents the basin"
   ]
  },
  {
   "cell_type": "code",
   "execution_count": 43,
   "id": "3d06162e-b420-4435-b616-d4b0f08759a3",
   "metadata": {
    "execution": {
     "iopub.execute_input": "2025-09-25T16:50:32.751843Z",
     "iopub.status.busy": "2025-09-25T16:50:32.751698Z",
     "iopub.status.idle": "2025-09-25T16:50:32.768227Z",
     "shell.execute_reply": "2025-09-25T16:50:32.767718Z"
    }
   },
   "outputs": [
    {
     "ename": "NameError",
     "evalue": "name 'g' is not defined",
     "output_type": "error",
     "traceback": [
      "\u001b[31m---------------------------------------------------------------------------\u001b[39m",
      "\u001b[31mNameError\u001b[39m                                 Traceback (most recent call last)",
      "\u001b[36mCell\u001b[39m\u001b[36m \u001b[39m\u001b[32mIn[43]\u001b[39m\u001b[32m, line 1\u001b[39m\n\u001b[32m----> \u001b[39m\u001b[32m1\u001b[39m gridprops = \u001b[43mg\u001b[49m.get_gridprops_disv()\n\u001b[32m      2\u001b[39m gridprops.pop(\u001b[33m\"\u001b[39m\u001b[33mnvert\u001b[39m\u001b[33m\"\u001b[39m)\n\u001b[32m      4\u001b[39m quadgrid = VertexGrid(**gridprops)\n",
      "\u001b[31mNameError\u001b[39m: name 'g' is not defined"
     ]
    }
   ],
   "source": [
    "gridprops = g.get_gridprops_disv()\n",
    "gridprops.pop(\"nvert\")\n",
    "\n",
    "quadgrid = VertexGrid(**gridprops)\n",
    "quadgrid.extent"
   ]
  },
  {
   "cell_type": "markdown",
   "id": "845ea4b5-2e51-4d45-a311-45e727f1c9dc",
   "metadata": {},
   "source": [
    "Resample top elevations to the quadtree mesh and intersect the basin boundary and stream vectors"
   ]
  },
  {
   "cell_type": "code",
   "execution_count": 44,
   "id": "cb60bb16-8381-4c72-a97b-61e0c362170f",
   "metadata": {
    "execution": {
     "iopub.execute_input": "2025-09-25T16:50:32.769623Z",
     "iopub.status.busy": "2025-09-25T16:50:32.769473Z",
     "iopub.status.idle": "2025-09-25T16:50:32.852062Z",
     "shell.execute_reply": "2025-09-25T16:50:32.851511Z"
    }
   },
   "outputs": [
    {
     "ename": "NameError",
     "evalue": "name 'rstr' is not defined",
     "output_type": "error",
     "traceback": [
      "\u001b[31m---------------------------------------------------------------------------\u001b[39m",
      "\u001b[31mNameError\u001b[39m                                 Traceback (most recent call last)",
      "\u001b[36mCell\u001b[39m\u001b[36m \u001b[39m\u001b[32mIn[44]\u001b[39m\u001b[32m, line 2\u001b[39m\n\u001b[32m      1\u001b[39m \u001b[38;5;66;03m# create the top array\u001b[39;00m\n\u001b[32m----> \u001b[39m\u001b[32m2\u001b[39m top = \u001b[43mrstr\u001b[49m.resample_to_grid(quadgrid, band=rstr.bands[\u001b[32m0\u001b[39m], method=\u001b[33m\"\u001b[39m\u001b[33mmin\u001b[39m\u001b[33m\"\u001b[39m)\n\u001b[32m      3\u001b[39m quadgrid._top = top\n",
      "\u001b[31mNameError\u001b[39m: name 'rstr' is not defined"
     ]
    }
   ],
   "source": [
    "# create the top array\n",
    "top = rstr.resample_to_grid(quadgrid, band=rstr.bands[0], method=\"min\")\n",
    "quadgrid._top = top"
   ]
  },
  {
   "cell_type": "code",
   "execution_count": 45,
   "id": "8f977f97-38dd-40aa-8cf1-b9f89824f0ca",
   "metadata": {
    "execution": {
     "iopub.execute_input": "2025-09-25T16:50:32.853593Z",
     "iopub.status.busy": "2025-09-25T16:50:32.853437Z",
     "iopub.status.idle": "2025-09-25T16:50:32.872163Z",
     "shell.execute_reply": "2025-09-25T16:50:32.871740Z"
    }
   },
   "outputs": [
    {
     "ename": "NameError",
     "evalue": "name 'quadgrid' is not defined",
     "output_type": "error",
     "traceback": [
      "\u001b[31m---------------------------------------------------------------------------\u001b[39m",
      "\u001b[31mNameError\u001b[39m                                 Traceback (most recent call last)",
      "\u001b[36mCell\u001b[39m\u001b[36m \u001b[39m\u001b[32mIn[45]\u001b[39m\u001b[32m, line 2\u001b[39m\n\u001b[32m      1\u001b[39m \u001b[38;5;66;03m# create the idomain array\u001b[39;00m\n\u001b[32m----> \u001b[39m\u001b[32m2\u001b[39m idomain = np.zeros(\u001b[43mquadgrid\u001b[49m.shape, dtype=\u001b[38;5;28mint\u001b[39m)\n\u001b[32m      3\u001b[39m ix = GridIntersect(quadgrid, method=\u001b[33m\"\u001b[39m\u001b[33mvertex\u001b[39m\u001b[33m\"\u001b[39m)\n\u001b[32m      4\u001b[39m nodes = ix.intersect(basindf.geometry.values[\u001b[32m0\u001b[39m], contains_centroid=\u001b[38;5;28;01mTrue\u001b[39;00m)[\u001b[33m\"\u001b[39m\u001b[33mcellids\u001b[39m\u001b[33m\"\u001b[39m]\n",
      "\u001b[31mNameError\u001b[39m: name 'quadgrid' is not defined"
     ]
    }
   ],
   "source": [
    "# create the idomain array\n",
    "idomain = np.zeros(quadgrid.shape, dtype=int)\n",
    "ix = GridIntersect(quadgrid, method=\"vertex\")\n",
    "nodes = ix.intersect(basindf.geometry.values[0], contains_centroid=True)[\"cellids\"]\n",
    "\n",
    "idomain[:, list(nodes)] = 1\n",
    "quadgrid._idomain = idomain"
   ]
  },
  {
   "cell_type": "code",
   "execution_count": 46,
   "id": "9dfaa463-e79f-451d-855a-d033e1957552",
   "metadata": {
    "execution": {
     "iopub.execute_input": "2025-09-25T16:50:32.873404Z",
     "iopub.status.busy": "2025-09-25T16:50:32.873257Z",
     "iopub.status.idle": "2025-09-25T16:50:32.890520Z",
     "shell.execute_reply": "2025-09-25T16:50:32.890014Z"
    }
   },
   "outputs": [
    {
     "ename": "NameError",
     "evalue": "name 'GridIntersect' is not defined",
     "output_type": "error",
     "traceback": [
      "\u001b[31m---------------------------------------------------------------------------\u001b[39m",
      "\u001b[31mNameError\u001b[39m                                 Traceback (most recent call last)",
      "\u001b[36mCell\u001b[39m\u001b[36m \u001b[39m\u001b[32mIn[46]\u001b[39m\u001b[32m, line 3\u001b[39m\n\u001b[32m      1\u001b[39m \u001b[38;5;66;03m# create an array of stream cells\u001b[39;00m\n\u001b[32m      2\u001b[39m qstr = []\n\u001b[32m----> \u001b[39m\u001b[32m3\u001b[39m ix = \u001b[43mGridIntersect\u001b[49m(quadgrid, method=\u001b[33m\"\u001b[39m\u001b[33mvertex\u001b[39m\u001b[33m\"\u001b[39m)\n\u001b[32m      4\u001b[39m \u001b[38;5;28;01mfor\u001b[39;00m geom \u001b[38;5;129;01min\u001b[39;00m nhddf.geometry.values:\n\u001b[32m      5\u001b[39m     nodes = ix.intersects(geom)[\u001b[33m\"\u001b[39m\u001b[33mcellids\u001b[39m\u001b[33m\"\u001b[39m]\n",
      "\u001b[31mNameError\u001b[39m: name 'GridIntersect' is not defined"
     ]
    }
   ],
   "source": [
    "# create an array of stream cells\n",
    "qstr = []\n",
    "ix = GridIntersect(quadgrid, method=\"vertex\")\n",
    "for geom in nhddf.geometry.values:\n",
    "    nodes = ix.intersects(geom)[\"cellids\"]\n",
    "    qstr.extend(list(nodes))"
   ]
  },
  {
   "cell_type": "code",
   "execution_count": 47,
   "id": "0d004d92-1e98-43d6-8034-7e3f4e73451a",
   "metadata": {
    "execution": {
     "iopub.execute_input": "2025-09-25T16:50:32.891763Z",
     "iopub.status.busy": "2025-09-25T16:50:32.891628Z",
     "iopub.status.idle": "2025-09-25T16:50:32.908578Z",
     "shell.execute_reply": "2025-09-25T16:50:32.908134Z"
    }
   },
   "outputs": [
    {
     "ename": "NameError",
     "evalue": "name 'quadgrid' is not defined",
     "output_type": "error",
     "traceback": [
      "\u001b[31m---------------------------------------------------------------------------\u001b[39m",
      "\u001b[31mNameError\u001b[39m                                 Traceback (most recent call last)",
      "\u001b[36mCell\u001b[39m\u001b[36m \u001b[39m\u001b[32mIn[47]\u001b[39m\u001b[32m, line 1\u001b[39m\n\u001b[32m----> \u001b[39m\u001b[32m1\u001b[39m qstrms = np.zeros((\u001b[43mquadgrid\u001b[49m.ncpl,), dtype=\u001b[38;5;28mint\u001b[39m)\n\u001b[32m      2\u001b[39m qstrms[qstr] = \u001b[32m1\u001b[39m\n",
      "\u001b[31mNameError\u001b[39m: name 'quadgrid' is not defined"
     ]
    }
   ],
   "source": [
    "qstrms = np.zeros((quadgrid.ncpl,), dtype=int)\n",
    "qstrms[qstr] = 1"
   ]
  },
  {
   "cell_type": "markdown",
   "id": "18574f1f-46f1-4343-82b7-c61debc16655",
   "metadata": {},
   "source": [
    "Plot the quadtree mesh with top elevations and streams"
   ]
  },
  {
   "cell_type": "code",
   "execution_count": 48,
   "id": "73679f36-5d8d-427c-9706-75b57bf5d4f8",
   "metadata": {
    "execution": {
     "iopub.execute_input": "2025-09-25T16:50:32.909864Z",
     "iopub.status.busy": "2025-09-25T16:50:32.909719Z",
     "iopub.status.idle": "2025-09-25T16:50:32.989277Z",
     "shell.execute_reply": "2025-09-25T16:50:32.988768Z"
    }
   },
   "outputs": [
    {
     "ename": "NameError",
     "evalue": "name 'PlotMapView' is not defined",
     "output_type": "error",
     "traceback": [
      "\u001b[31m---------------------------------------------------------------------------\u001b[39m",
      "\u001b[31mNameError\u001b[39m                                 Traceback (most recent call last)",
      "\u001b[36mCell\u001b[39m\u001b[36m \u001b[39m\u001b[32mIn[48]\u001b[39m\u001b[32m, line 3\u001b[39m\n\u001b[32m      1\u001b[39m fig, ax = plt.subplots(figsize=(\u001b[32m5\u001b[39m, \u001b[32m5\u001b[39m))\n\u001b[32m----> \u001b[39m\u001b[32m3\u001b[39m pmv = \u001b[43mPlotMapView\u001b[49m(modelgrid=quadgrid)\n\u001b[32m      4\u001b[39m pc = pmv.plot_array(quadgrid.top)\n\u001b[32m      5\u001b[39m pmv.plot_array(qstrms, masked_values=[\u001b[32m0\u001b[39m,], alpha=\u001b[32m0.3\u001b[39m, cmap=\u001b[33m\"\u001b[39m\u001b[33mReds_r\u001b[39m\u001b[33m\"\u001b[39m)\n",
      "\u001b[31mNameError\u001b[39m: name 'PlotMapView' is not defined"
     ]
    },
    {
     "data": {
      "image/png": "[encoded data removed]",
      "text/plain": [
       "<Figure size 500x500 with 1 Axes>"
      ]
     },
     "metadata": {},
     "output_type": "display_data"
    }
   ],
   "source": [
    "fig, ax = plt.subplots(figsize=(5, 5))\n",
    "\n",
    "pmv = PlotMapView(modelgrid=quadgrid)\n",
    "pc = pmv.plot_array(quadgrid.top)\n",
    "pmv.plot_array(qstrms, masked_values=[0,], alpha=0.3, cmap=\"Reds_r\")\n",
    "pmv.plot_inactive()\n",
    "pmv.plot_grid(lw=0.3)\n",
    "nhddf.plot(ax=ax)\n",
    "plt.colorbar(pc, shrink=0.7);"
   ]
  },
  {
   "cell_type": "markdown",
   "id": "aa833f5b-ce9a-4d68-9e4b-832aea1c09f9",
   "metadata": {},
   "source": [
    "## Triangular Mesh\n",
    "\n",
    "An unstructured/vertex based triangular mesh can be generated using the code \"triangle\"([Shewchuk, 2002](https://www.sciencedirect.com/science/article/pii/S0925772101000475)). And the FloPy utility, `Triangle` that creates inputs for and translates the outputs from \"triangle\". \n",
    "\n",
    "For this example, we will be using triangle to generate a mesh and add refinement around the streams."
   ]
  },
  {
   "cell_type": "code",
   "execution_count": 49,
   "id": "dc3ab2b7-378e-4eb8-8a9a-fa1ea7ae9bdd",
   "metadata": {
    "execution": {
     "iopub.execute_input": "2025-09-25T16:50:32.990698Z",
     "iopub.status.busy": "2025-09-25T16:50:32.990547Z",
     "iopub.status.idle": "2025-09-25T16:50:32.992996Z",
     "shell.execute_reply": "2025-09-25T16:50:32.992530Z"
    }
   },
   "outputs": [],
   "source": [
    "tri_dir = data_ws / \"sagehen_tri\"\n",
    "tri_dir.mkdir(exist_ok=True)"
   ]
  },
  {
   "cell_type": "markdown",
   "id": "1e8987ed-1970-480a-a796-7bd71c86af09",
   "metadata": {},
   "source": [
    "For this example, we will use the watershed boundary we downloaded from NLDI and create a dissovled polygon of stream segments to generate our triangulation regions."
   ]
  },
  {
   "cell_type": "code",
   "execution_count": 50,
   "id": "6ffe2440-b82c-448e-8735-d89651b562ea",
   "metadata": {
    "execution": {
     "iopub.execute_input": "2025-09-25T16:50:32.994402Z",
     "iopub.status.busy": "2025-09-25T16:50:32.994255Z",
     "iopub.status.idle": "2025-09-25T16:50:33.010714Z",
     "shell.execute_reply": "2025-09-25T16:50:33.010311Z"
    }
   },
   "outputs": [
    {
     "ename": "NameError",
     "evalue": "name 'basindf' is not defined",
     "output_type": "error",
     "traceback": [
      "\u001b[31m---------------------------------------------------------------------------\u001b[39m",
      "\u001b[31mNameError\u001b[39m                                 Traceback (most recent call last)",
      "\u001b[36mCell\u001b[39m\u001b[36m \u001b[39m\u001b[32mIn[50]\u001b[39m\u001b[32m, line 1\u001b[39m\n\u001b[32m----> \u001b[39m\u001b[32m1\u001b[39m \u001b[43mbasindf\u001b[49m.head()\n",
      "\u001b[31mNameError\u001b[39m: name 'basindf' is not defined"
     ]
    }
   ],
   "source": [
    "basindf.head()"
   ]
  },
  {
   "cell_type": "markdown",
   "id": "1fa96714-8444-427e-97df-a435b9d4a7f9",
   "metadata": {},
   "source": [
    "We will also dissolve and buffer the stream network into a single polygon that defines our area of refinement"
   ]
  },
  {
   "cell_type": "code",
   "execution_count": 51,
   "id": "e75ec798-9cc4-4e3b-8712-030d54e168dd",
   "metadata": {
    "execution": {
     "iopub.execute_input": "2025-09-25T16:50:33.012014Z",
     "iopub.status.busy": "2025-09-25T16:50:33.011865Z",
     "iopub.status.idle": "2025-09-25T16:50:33.099774Z",
     "shell.execute_reply": "2025-09-25T16:50:33.099288Z"
    }
   },
   "outputs": [
    {
     "data": {
      "image/png": "[encoded data removed]",
      "text/plain": [
       "<Figure size 640x480 with 1 Axes>"
      ]
     },
     "metadata": {},
     "output_type": "display_data"
    }
   ],
   "source": [
    "bufgdf = nhddf.dissolve()\n",
    "bufgdf[\"geometry\"] = bufgdf.geometry.buffer(100, cap_style=2, join_style=3)\n",
    "bufgdf.plot();"
   ]
  },
  {
   "cell_type": "markdown",
   "id": "e8571d37-71fd-4324-9905-13565b2c8835",
   "metadata": {},
   "source": [
    "These two polygons can now be used to generate a triangular mesh with the `Triangle` utility. The `Triangle` class has a number of input parameters. For more detail on the inputs and additional examples please see this [notebook](https://flopy.readthedocs.io/en/latest/Notebooks/dis_voronoi_example.html)"
   ]
  },
  {
   "cell_type": "code",
   "execution_count": 52,
   "id": "1668863c-03fe-46d7-9f1e-ede287eacb36",
   "metadata": {
    "execution": {
     "iopub.execute_input": "2025-09-25T16:50:33.101170Z",
     "iopub.status.busy": "2025-09-25T16:50:33.101001Z",
     "iopub.status.idle": "2025-09-25T16:50:33.103258Z",
     "shell.execute_reply": "2025-09-25T16:50:33.102872Z"
    }
   },
   "outputs": [],
   "source": [
    "# define point locations within the watershed and the stream for adding regions\n",
    "wsloc = (220000, 4368000)\n",
    "stloc = (219250, 4370000)"
   ]
  },
  {
   "cell_type": "code",
   "execution_count": 53,
   "id": "3da8bd04-c9cf-4b59-af7a-b54073aa9be9",
   "metadata": {
    "execution": {
     "iopub.execute_input": "2025-09-25T16:50:33.104493Z",
     "iopub.status.busy": "2025-09-25T16:50:33.104346Z",
     "iopub.status.idle": "2025-09-25T16:50:33.122895Z",
     "shell.execute_reply": "2025-09-25T16:50:33.122390Z"
    }
   },
   "outputs": [
    {
     "ename": "NameError",
     "evalue": "name 'Triangle' is not defined",
     "output_type": "error",
     "traceback": [
      "\u001b[31m---------------------------------------------------------------------------\u001b[39m",
      "\u001b[31mNameError\u001b[39m                                 Traceback (most recent call last)",
      "\u001b[36mCell\u001b[39m\u001b[36m \u001b[39m\u001b[32mIn[53]\u001b[39m\u001b[32m, line 1\u001b[39m\n\u001b[32m----> \u001b[39m\u001b[32m1\u001b[39m tri = \u001b[43mTriangle\u001b[49m(angle=\u001b[32m30\u001b[39m, model_ws=tri_dir)\n\u001b[32m      3\u001b[39m \u001b[38;5;66;03m# define the model/mesh boundary\u001b[39;00m\n\u001b[32m      4\u001b[39m tri.add_polygon(basindf.geometry.values[\u001b[32m0\u001b[39m])\n",
      "\u001b[31mNameError\u001b[39m: name 'Triangle' is not defined"
     ]
    }
   ],
   "source": [
    "tri = Triangle(angle=30, model_ws=tri_dir)\n",
    "\n",
    "# define the model/mesh boundary\n",
    "tri.add_polygon(basindf.geometry.values[0])\n",
    "tri.add_region(wsloc, 0, maximum_area=100 * 300)\n",
    "\n",
    "# define the stream refinement area\n",
    "tri.add_polygon(bufgdf.geometry.values[0])\n",
    "tri.add_region(stloc, 1, maximum_area=40 * 40)"
   ]
  },
  {
   "cell_type": "code",
   "execution_count": 54,
   "id": "a8a020c5-0878-4a19-aab0-3aa2ff0bac68",
   "metadata": {
    "execution": {
     "iopub.execute_input": "2025-09-25T16:50:33.124221Z",
     "iopub.status.busy": "2025-09-25T16:50:33.124072Z",
     "iopub.status.idle": "2025-09-25T16:50:33.140931Z",
     "shell.execute_reply": "2025-09-25T16:50:33.140450Z"
    }
   },
   "outputs": [
    {
     "ename": "NameError",
     "evalue": "name 'tri' is not defined",
     "output_type": "error",
     "traceback": [
      "\u001b[31m---------------------------------------------------------------------------\u001b[39m",
      "\u001b[31mNameError\u001b[39m                                 Traceback (most recent call last)",
      "\u001b[36mCell\u001b[39m\u001b[36m \u001b[39m\u001b[32mIn[54]\u001b[39m\u001b[32m, line 1\u001b[39m\n\u001b[32m----> \u001b[39m\u001b[32m1\u001b[39m \u001b[43mtri\u001b[49m.build()\n",
      "\u001b[31mNameError\u001b[39m: name 'tri' is not defined"
     ]
    }
   ],
   "source": [
    "tri.build()"
   ]
  },
  {
   "cell_type": "markdown",
   "id": "a5bbe12a-d44c-479f-b76a-6d17f1f88128",
   "metadata": {},
   "source": [
    "Visualize the triangular mesh"
   ]
  },
  {
   "cell_type": "code",
   "execution_count": 55,
   "id": "0cd510b8-901c-4648-af86-1986434017fa",
   "metadata": {
    "execution": {
     "iopub.execute_input": "2025-09-25T16:50:33.142369Z",
     "iopub.status.busy": "2025-09-25T16:50:33.142220Z",
     "iopub.status.idle": "2025-09-25T16:50:33.221999Z",
     "shell.execute_reply": "2025-09-25T16:50:33.221506Z"
    }
   },
   "outputs": [
    {
     "ename": "NameError",
     "evalue": "name 'tri' is not defined",
     "output_type": "error",
     "traceback": [
      "\u001b[31m---------------------------------------------------------------------------\u001b[39m",
      "\u001b[31mNameError\u001b[39m                                 Traceback (most recent call last)",
      "\u001b[36mCell\u001b[39m\u001b[36m \u001b[39m\u001b[32mIn[55]\u001b[39m\u001b[32m, line 2\u001b[39m\n\u001b[32m      1\u001b[39m fig, ax = plt.subplots(figsize=(\u001b[32m6\u001b[39m, \u001b[32m6\u001b[39m))\n\u001b[32m----> \u001b[39m\u001b[32m2\u001b[39m \u001b[43mtri\u001b[49m.plot(ax=ax)\n\u001b[32m      3\u001b[39m nhddf.plot(ax=ax);\n",
      "\u001b[31mNameError\u001b[39m: name 'tri' is not defined"
     ]
    },
    {
     "data": {
      "image/png": "[encoded data removed]",
      "text/plain": [
       "<Figure size 600x600 with 1 Axes>"
      ]
     },
     "metadata": {},
     "output_type": "display_data"
    }
   ],
   "source": [
    "fig, ax = plt.subplots(figsize=(6, 6))\n",
    "tri.plot(ax=ax)\n",
    "nhddf.plot(ax=ax);"
   ]
  },
  {
   "cell_type": "markdown",
   "id": "22c159b8-185b-41b4-85a9-5dd57b65d7aa",
   "metadata": {},
   "source": [
    "Create a `VertexGrid` from the triangular mesh and resample the land surface elevations"
   ]
  },
  {
   "cell_type": "code",
   "execution_count": 56,
   "id": "647735f0-4544-4e3a-b207-be3970661a71",
   "metadata": {
    "execution": {
     "iopub.execute_input": "2025-09-25T16:50:33.223455Z",
     "iopub.status.busy": "2025-09-25T16:50:33.223317Z",
     "iopub.status.idle": "2025-09-25T16:50:33.242907Z",
     "shell.execute_reply": "2025-09-25T16:50:33.242497Z"
    }
   },
   "outputs": [
    {
     "ename": "NameError",
     "evalue": "name 'tri' is not defined",
     "output_type": "error",
     "traceback": [
      "\u001b[31m---------------------------------------------------------------------------\u001b[39m",
      "\u001b[31mNameError\u001b[39m                                 Traceback (most recent call last)",
      "\u001b[36mCell\u001b[39m\u001b[36m \u001b[39m\u001b[32mIn[56]\u001b[39m\u001b[32m, line 1\u001b[39m\n\u001b[32m----> \u001b[39m\u001b[32m1\u001b[39m cell2d = \u001b[43mtri\u001b[49m.get_cell2d()\n\u001b[32m      2\u001b[39m vertices = tri.get_vertices()\n\u001b[32m      3\u001b[39m ncpl = \u001b[38;5;28mlen\u001b[39m(cell2d)\n",
      "\u001b[31mNameError\u001b[39m: name 'tri' is not defined"
     ]
    }
   ],
   "source": [
    "cell2d = tri.get_cell2d()\n",
    "vertices = tri.get_vertices()\n",
    "ncpl = len(cell2d)\n",
    "nlay = 1\n",
    "idomain = np.ones((nlay, ncpl), dtype=int)\n",
    "\n",
    "# set fake values for top and botm for now)\n",
    "top = np.ones((ncpl,))\n",
    "botm = np.zeros((nlay, ncpl))"
   ]
  },
  {
   "cell_type": "code",
   "execution_count": 57,
   "id": "0934cc74-7c65-4546-9707-51643f0b1d85",
   "metadata": {
    "execution": {
     "iopub.execute_input": "2025-09-25T16:50:33.244140Z",
     "iopub.status.busy": "2025-09-25T16:50:33.243988Z",
     "iopub.status.idle": "2025-09-25T16:50:33.261231Z",
     "shell.execute_reply": "2025-09-25T16:50:33.260717Z"
    }
   },
   "outputs": [
    {
     "ename": "NameError",
     "evalue": "name 'VertexGrid' is not defined",
     "output_type": "error",
     "traceback": [
      "\u001b[31m---------------------------------------------------------------------------\u001b[39m",
      "\u001b[31mNameError\u001b[39m                                 Traceback (most recent call last)",
      "\u001b[36mCell\u001b[39m\u001b[36m \u001b[39m\u001b[32mIn[57]\u001b[39m\u001b[32m, line 1\u001b[39m\n\u001b[32m----> \u001b[39m\u001b[32m1\u001b[39m trigrid = \u001b[43mVertexGrid\u001b[49m(\n\u001b[32m      2\u001b[39m     vertices=vertices,\n\u001b[32m      3\u001b[39m     cell2d=cell2d,\n\u001b[32m      4\u001b[39m     ncpl=ncpl,\n\u001b[32m      5\u001b[39m     nlay=nlay,\n\u001b[32m      6\u001b[39m     idomain=idomain,\n\u001b[32m      7\u001b[39m     top=top,\n\u001b[32m      8\u001b[39m     botm=botm,\n\u001b[32m      9\u001b[39m     crs=\u001b[33m\"\u001b[39m\u001b[33mEPSG:26911\u001b[39m\u001b[33m\"\u001b[39m,\n\u001b[32m     10\u001b[39m )\n\u001b[32m     11\u001b[39m trigrid.extent\n",
      "\u001b[31mNameError\u001b[39m: name 'VertexGrid' is not defined"
     ]
    }
   ],
   "source": [
    "trigrid = VertexGrid(\n",
    "    vertices=vertices,\n",
    "    cell2d=cell2d,\n",
    "    ncpl=ncpl,\n",
    "    nlay=nlay,\n",
    "    idomain=idomain,\n",
    "    top=top,\n",
    "    botm=botm,\n",
    "    crs=\"EPSG:26911\",\n",
    ")\n",
    "trigrid.extent"
   ]
  },
  {
   "cell_type": "code",
   "execution_count": 58,
   "id": "3fe7d3e9-4bfa-454d-9ff3-2e54aaa18a39",
   "metadata": {
    "execution": {
     "iopub.execute_input": "2025-09-25T16:50:33.262532Z",
     "iopub.status.busy": "2025-09-25T16:50:33.262390Z",
     "iopub.status.idle": "2025-09-25T16:50:33.279234Z",
     "shell.execute_reply": "2025-09-25T16:50:33.278715Z"
    }
   },
   "outputs": [
    {
     "ename": "NameError",
     "evalue": "name 'rstr' is not defined",
     "output_type": "error",
     "traceback": [
      "\u001b[31m---------------------------------------------------------------------------\u001b[39m",
      "\u001b[31mNameError\u001b[39m                                 Traceback (most recent call last)",
      "\u001b[36mCell\u001b[39m\u001b[36m \u001b[39m\u001b[32mIn[58]\u001b[39m\u001b[32m, line 1\u001b[39m\n\u001b[32m----> \u001b[39m\u001b[32m1\u001b[39m top = \u001b[43mrstr\u001b[49m.resample_to_grid(\n\u001b[32m      2\u001b[39m     trigrid, band=rstr.bands[\u001b[32m0\u001b[39m], method=\u001b[33m\"\u001b[39m\u001b[33mmin\u001b[39m\u001b[33m\"\u001b[39m, extrapolate_edges=\u001b[38;5;28;01mTrue\u001b[39;00m\n\u001b[32m      3\u001b[39m )\n\u001b[32m      4\u001b[39m trigrid._top = top\n",
      "\u001b[31mNameError\u001b[39m: name 'rstr' is not defined"
     ]
    }
   ],
   "source": [
    "top = rstr.resample_to_grid(\n",
    "    trigrid, band=rstr.bands[0], method=\"min\", extrapolate_edges=True\n",
    ")\n",
    "trigrid._top = top"
   ]
  },
  {
   "cell_type": "markdown",
   "id": "8522ed38-a10a-42ff-82cf-2dba5d91e56f",
   "metadata": {},
   "source": [
    "And perform intersection to identify stream cells"
   ]
  },
  {
   "cell_type": "code",
   "execution_count": 59,
   "id": "d870c5cf-8ce1-4692-93cc-49e18b90b05f",
   "metadata": {
    "execution": {
     "iopub.execute_input": "2025-09-25T16:50:33.280702Z",
     "iopub.status.busy": "2025-09-25T16:50:33.280533Z",
     "iopub.status.idle": "2025-09-25T16:50:33.299555Z",
     "shell.execute_reply": "2025-09-25T16:50:33.299165Z"
    }
   },
   "outputs": [
    {
     "ename": "NameError",
     "evalue": "name 'GridIntersect' is not defined",
     "output_type": "error",
     "traceback": [
      "\u001b[31m---------------------------------------------------------------------------\u001b[39m",
      "\u001b[31mNameError\u001b[39m                                 Traceback (most recent call last)",
      "\u001b[36mCell\u001b[39m\u001b[36m \u001b[39m\u001b[32mIn[59]\u001b[39m\u001b[32m, line 2\u001b[39m\n\u001b[32m      1\u001b[39m tristr = []\n\u001b[32m----> \u001b[39m\u001b[32m2\u001b[39m ix = \u001b[43mGridIntersect\u001b[49m(trigrid, method=\u001b[33m\"\u001b[39m\u001b[33mvertex\u001b[39m\u001b[33m\"\u001b[39m)\n\u001b[32m      3\u001b[39m \u001b[38;5;28;01mfor\u001b[39;00m geom \u001b[38;5;129;01min\u001b[39;00m nhddf.geometry.values:\n\u001b[32m      4\u001b[39m     nodes = ix.intersects(geom)[\u001b[33m\"\u001b[39m\u001b[33mcellids\u001b[39m\u001b[33m\"\u001b[39m]\n",
      "\u001b[31mNameError\u001b[39m: name 'GridIntersect' is not defined"
     ]
    }
   ],
   "source": [
    "tristr = []\n",
    "ix = GridIntersect(trigrid, method=\"vertex\")\n",
    "for geom in nhddf.geometry.values:\n",
    "    nodes = ix.intersects(geom)[\"cellids\"]\n",
    "    tristr.extend(list(nodes))\n",
    "\n",
    "tristrms = np.zeros((trigrid.ncpl,), dtype=int)\n",
    "tristrms[tristr] = 1"
   ]
  },
  {
   "cell_type": "markdown",
   "id": "54e52bc2-ee4a-42c5-ad20-68656c78896e",
   "metadata": {},
   "source": [
    "Now to plot up the triangular grid"
   ]
  },
  {
   "cell_type": "code",
   "execution_count": 60,
   "id": "cb064b04-fd24-4830-9eb3-69a67a2f61eb",
   "metadata": {
    "execution": {
     "iopub.execute_input": "2025-09-25T16:50:33.300816Z",
     "iopub.status.busy": "2025-09-25T16:50:33.300684Z",
     "iopub.status.idle": "2025-09-25T16:50:33.384672Z",
     "shell.execute_reply": "2025-09-25T16:50:33.384227Z"
    }
   },
   "outputs": [
    {
     "ename": "NameError",
     "evalue": "name 'PlotMapView' is not defined",
     "output_type": "error",
     "traceback": [
      "\u001b[31m---------------------------------------------------------------------------\u001b[39m",
      "\u001b[31mNameError\u001b[39m                                 Traceback (most recent call last)",
      "\u001b[36mCell\u001b[39m\u001b[36m \u001b[39m\u001b[32mIn[60]\u001b[39m\u001b[32m, line 3\u001b[39m\n\u001b[32m      1\u001b[39m fig, ax = plt.subplots(figsize=(\u001b[32m7\u001b[39m, \u001b[32m7\u001b[39m))\n\u001b[32m----> \u001b[39m\u001b[32m3\u001b[39m pmv = \u001b[43mPlotMapView\u001b[49m(modelgrid=trigrid)\n\u001b[32m      4\u001b[39m pc = pmv.plot_array(trigrid.top)\n\u001b[32m      5\u001b[39m pmv.plot_array(tristrms, masked_values=[\u001b[32m0\u001b[39m,], alpha=\u001b[32m0.3\u001b[39m, cmap=\u001b[33m\"\u001b[39m\u001b[33mReds_r\u001b[39m\u001b[33m\"\u001b[39m)\n",
      "\u001b[31mNameError\u001b[39m: name 'PlotMapView' is not defined"
     ]
    },
    {
     "data": {
      "image/png": "[encoded data removed]",
      "text/plain": [
       "<Figure size 700x700 with 1 Axes>"
      ]
     },
     "metadata": {},
     "output_type": "display_data"
    }
   ],
   "source": [
    "fig, ax = plt.subplots(figsize=(7, 7))\n",
    "\n",
    "pmv = PlotMapView(modelgrid=trigrid)\n",
    "pc = pmv.plot_array(trigrid.top)\n",
    "pmv.plot_array(tristrms, masked_values=[0,], alpha=0.3, cmap=\"Reds_r\")\n",
    "pmv.plot_inactive()\n",
    "pmv.plot_grid(lw=0.3)\n",
    "nhddf.plot(ax=ax)\n",
    "plt.colorbar(pc, shrink=0.7);"
   ]
  },
  {
   "cell_type": "markdown",
   "id": "34736781-43ea-483c-acbf-962bb0b507ef",
   "metadata": {},
   "source": [
    "## Voronoi Mesh\n",
    "\n",
    "A voronoi mesh can be generated from the circumcirle centroids of each triangular node in a Delaunay triangulation. The centroid of each circumcirle produces a vertex for the voronoi mesh and these vertices are connected via adjacency relationships of the triangulation. \n",
    "\n",
    "FloPy has a built in utility `VoronoiGrid` that produces voronoi meshes from Delaunay triangulations. For more information and additional examples on `VoronoiGrid`'s usage, see this [notebook](https://flopy.readthedocs.io/en/latest/Notebooks/dis_voronoi_example.html)"
   ]
  },
  {
   "cell_type": "markdown",
   "id": "6c0852aa-8d11-4c7c-b449-30921ca11216",
   "metadata": {},
   "source": [
    "To generate a voronoi mesh, we just need to pass our triangluation object (`tri`) to the `VoronoiGrid` utility"
   ]
  },
  {
   "cell_type": "code",
   "execution_count": 61,
   "id": "ed25dcc4-8b4a-4162-b603-35f605fe45e2",
   "metadata": {
    "execution": {
     "iopub.execute_input": "2025-09-25T16:50:33.386018Z",
     "iopub.status.busy": "2025-09-25T16:50:33.385880Z",
     "iopub.status.idle": "2025-09-25T16:50:33.402663Z",
     "shell.execute_reply": "2025-09-25T16:50:33.402167Z"
    }
   },
   "outputs": [
    {
     "ename": "NameError",
     "evalue": "name 'VoronoiGrid' is not defined",
     "output_type": "error",
     "traceback": [
      "\u001b[31m---------------------------------------------------------------------------\u001b[39m",
      "\u001b[31mNameError\u001b[39m                                 Traceback (most recent call last)",
      "\u001b[36mCell\u001b[39m\u001b[36m \u001b[39m\u001b[32mIn[61]\u001b[39m\u001b[32m, line 1\u001b[39m\n\u001b[32m----> \u001b[39m\u001b[32m1\u001b[39m vor = \u001b[43mVoronoiGrid\u001b[49m(tri)\n",
      "\u001b[31mNameError\u001b[39m: name 'VoronoiGrid' is not defined"
     ]
    }
   ],
   "source": [
    "vor = VoronoiGrid(tri)"
   ]
  },
  {
   "cell_type": "markdown",
   "id": "345a997b-9584-4a4f-8f5d-4b5c657efbf2",
   "metadata": {},
   "source": [
    "Build a `VertexGrid`"
   ]
  },
  {
   "cell_type": "code",
   "execution_count": 62,
   "id": "9bba5fd7-8a3e-4ff0-8002-1ee521c040f3",
   "metadata": {
    "execution": {
     "iopub.execute_input": "2025-09-25T16:50:33.404106Z",
     "iopub.status.busy": "2025-09-25T16:50:33.403932Z",
     "iopub.status.idle": "2025-09-25T16:50:33.421490Z",
     "shell.execute_reply": "2025-09-25T16:50:33.420988Z"
    }
   },
   "outputs": [
    {
     "ename": "NameError",
     "evalue": "name 'vor' is not defined",
     "output_type": "error",
     "traceback": [
      "\u001b[31m---------------------------------------------------------------------------\u001b[39m",
      "\u001b[31mNameError\u001b[39m                                 Traceback (most recent call last)",
      "\u001b[36mCell\u001b[39m\u001b[36m \u001b[39m\u001b[32mIn[62]\u001b[39m\u001b[32m, line 1\u001b[39m\n\u001b[32m----> \u001b[39m\u001b[32m1\u001b[39m gridprops = \u001b[43mvor\u001b[49m.get_gridprops_vertexgrid()\n\u001b[32m      2\u001b[39m nlay = \u001b[32m1\u001b[39m\n\u001b[32m      3\u001b[39m idomain = np.ones(gridprops[\u001b[33m\"\u001b[39m\u001b[33mncpl\u001b[39m\u001b[33m\"\u001b[39m], dtype=\u001b[38;5;28mint\u001b[39m)\n",
      "\u001b[31mNameError\u001b[39m: name 'vor' is not defined"
     ]
    }
   ],
   "source": [
    "gridprops = vor.get_gridprops_vertexgrid()\n",
    "nlay = 1\n",
    "idomain = np.ones(gridprops[\"ncpl\"], dtype=int)\n",
    "top = idomain.copy().astype(float)\n",
    "botm = np.zeros((nlay, gridprops[\"ncpl\"]))"
   ]
  },
  {
   "cell_type": "code",
   "execution_count": 63,
   "id": "c87424f9-d9e1-4798-b5a1-99ec2b35f87d",
   "metadata": {
    "execution": {
     "iopub.execute_input": "2025-09-25T16:50:33.422822Z",
     "iopub.status.busy": "2025-09-25T16:50:33.422676Z",
     "iopub.status.idle": "2025-09-25T16:50:33.438903Z",
     "shell.execute_reply": "2025-09-25T16:50:33.438435Z"
    }
   },
   "outputs": [
    {
     "ename": "NameError",
     "evalue": "name 'VertexGrid' is not defined",
     "output_type": "error",
     "traceback": [
      "\u001b[31m---------------------------------------------------------------------------\u001b[39m",
      "\u001b[31mNameError\u001b[39m                                 Traceback (most recent call last)",
      "\u001b[36mCell\u001b[39m\u001b[36m \u001b[39m\u001b[32mIn[63]\u001b[39m\u001b[32m, line 1\u001b[39m\n\u001b[32m----> \u001b[39m\u001b[32m1\u001b[39m vorgrid = \u001b[43mVertexGrid\u001b[49m(\n\u001b[32m      2\u001b[39m     nlay=nlay, idomain=idomain, top=top, botm=botm, **gridprops\n\u001b[32m      3\u001b[39m )\n",
      "\u001b[31mNameError\u001b[39m: name 'VertexGrid' is not defined"
     ]
    }
   ],
   "source": [
    "vorgrid = VertexGrid(\n",
    "    nlay=nlay, idomain=idomain, top=top, botm=botm, **gridprops\n",
    ")"
   ]
  },
  {
   "cell_type": "markdown",
   "id": "d2cd1136-11ba-46d2-ad45-80db9408368e",
   "metadata": {},
   "source": [
    "Resample the land surface elevation from the DEM to the voronoi grid"
   ]
  },
  {
   "cell_type": "code",
   "execution_count": 64,
   "id": "c42a08d0-71b2-4f38-95d4-be4b9e3356bf",
   "metadata": {
    "execution": {
     "iopub.execute_input": "2025-09-25T16:50:33.440206Z",
     "iopub.status.busy": "2025-09-25T16:50:33.440027Z",
     "iopub.status.idle": "2025-09-25T16:50:33.456626Z",
     "shell.execute_reply": "2025-09-25T16:50:33.456153Z"
    }
   },
   "outputs": [
    {
     "ename": "NameError",
     "evalue": "name 'rstr' is not defined",
     "output_type": "error",
     "traceback": [
      "\u001b[31m---------------------------------------------------------------------------\u001b[39m",
      "\u001b[31mNameError\u001b[39m                                 Traceback (most recent call last)",
      "\u001b[36mCell\u001b[39m\u001b[36m \u001b[39m\u001b[32mIn[64]\u001b[39m\u001b[32m, line 1\u001b[39m\n\u001b[32m----> \u001b[39m\u001b[32m1\u001b[39m top = \u001b[43mrstr\u001b[49m.resample_to_grid(\n\u001b[32m      2\u001b[39m     vorgrid, band=rstr.bands[\u001b[32m0\u001b[39m], method=\u001b[33m\"\u001b[39m\u001b[33mmin\u001b[39m\u001b[33m\"\u001b[39m, extrapolate_edges=\u001b[38;5;28;01mTrue\u001b[39;00m\n\u001b[32m      3\u001b[39m )\n\u001b[32m      4\u001b[39m vorgrid._top = top\n",
      "\u001b[31mNameError\u001b[39m: name 'rstr' is not defined"
     ]
    }
   ],
   "source": [
    "top = rstr.resample_to_grid(\n",
    "    vorgrid, band=rstr.bands[0], method=\"min\", extrapolate_edges=True\n",
    ")\n",
    "vorgrid._top = top"
   ]
  },
  {
   "cell_type": "markdown",
   "id": "997be18a-d2b7-42a1-ad8f-49285d36de49",
   "metadata": {},
   "source": [
    "Identify stream cells with `GridIntersect`"
   ]
  },
  {
   "cell_type": "code",
   "execution_count": 65,
   "id": "93dd9221-4f32-4b90-9adb-13426ef4dcaa",
   "metadata": {
    "execution": {
     "iopub.execute_input": "2025-09-25T16:50:33.457987Z",
     "iopub.status.busy": "2025-09-25T16:50:33.457843Z",
     "iopub.status.idle": "2025-09-25T16:50:33.476643Z",
     "shell.execute_reply": "2025-09-25T16:50:33.476170Z"
    }
   },
   "outputs": [
    {
     "ename": "NameError",
     "evalue": "name 'GridIntersect' is not defined",
     "output_type": "error",
     "traceback": [
      "\u001b[31m---------------------------------------------------------------------------\u001b[39m",
      "\u001b[31mNameError\u001b[39m                                 Traceback (most recent call last)",
      "\u001b[36mCell\u001b[39m\u001b[36m \u001b[39m\u001b[32mIn[65]\u001b[39m\u001b[32m, line 2\u001b[39m\n\u001b[32m      1\u001b[39m vorst = []\n\u001b[32m----> \u001b[39m\u001b[32m2\u001b[39m ix = \u001b[43mGridIntersect\u001b[49m(vorgrid, method=\u001b[33m\"\u001b[39m\u001b[33mvertex\u001b[39m\u001b[33m\"\u001b[39m)\n\u001b[32m      3\u001b[39m \u001b[38;5;28;01mfor\u001b[39;00m geom \u001b[38;5;129;01min\u001b[39;00m nhddf.geometry.values:\n\u001b[32m      4\u001b[39m     nodes = ix.intersects(geom)[\u001b[33m\"\u001b[39m\u001b[33mcellids\u001b[39m\u001b[33m\"\u001b[39m]\n",
      "\u001b[31mNameError\u001b[39m: name 'GridIntersect' is not defined"
     ]
    }
   ],
   "source": [
    "vorst = []\n",
    "ix = GridIntersect(vorgrid, method=\"vertex\")\n",
    "for geom in nhddf.geometry.values:\n",
    "    nodes = ix.intersects(geom)[\"cellids\"]\n",
    "    vorst.extend(list(nodes))\n",
    "\n",
    "vorstrms = np.zeros((vorgrid.ncpl,), dtype=int)\n",
    "vorstrms[vorst] = 1"
   ]
  },
  {
   "cell_type": "markdown",
   "id": "0f749c17-6db8-49d3-9e35-7309f183f8db",
   "metadata": {},
   "source": [
    "Finally plot the voronoi mesh with the DEM data and stream locations"
   ]
  },
  {
   "cell_type": "code",
   "execution_count": 66,
   "id": "a6ba684f-498a-4e7e-b10c-ad61ba8a9f1f",
   "metadata": {
    "execution": {
     "iopub.execute_input": "2025-09-25T16:50:33.477908Z",
     "iopub.status.busy": "2025-09-25T16:50:33.477765Z",
     "iopub.status.idle": "2025-09-25T16:50:33.562691Z",
     "shell.execute_reply": "2025-09-25T16:50:33.562299Z"
    }
   },
   "outputs": [
    {
     "ename": "NameError",
     "evalue": "name 'PlotMapView' is not defined",
     "output_type": "error",
     "traceback": [
      "\u001b[31m---------------------------------------------------------------------------\u001b[39m",
      "\u001b[31mNameError\u001b[39m                                 Traceback (most recent call last)",
      "\u001b[36mCell\u001b[39m\u001b[36m \u001b[39m\u001b[32mIn[66]\u001b[39m\u001b[32m, line 3\u001b[39m\n\u001b[32m      1\u001b[39m fig, ax = plt.subplots(figsize=(\u001b[32m7\u001b[39m, \u001b[32m7\u001b[39m))\n\u001b[32m----> \u001b[39m\u001b[32m3\u001b[39m pmv = \u001b[43mPlotMapView\u001b[49m(modelgrid=vorgrid)\n\u001b[32m      4\u001b[39m pc = pmv.plot_array(vorgrid.top)\n\u001b[32m      5\u001b[39m pmv.plot_array(vorstrms, masked_values=[\u001b[32m0\u001b[39m], alpha=\u001b[32m0.3\u001b[39m, cmap=\u001b[33m\"\u001b[39m\u001b[33mReds_r\u001b[39m\u001b[33m\"\u001b[39m)\n",
      "\u001b[31mNameError\u001b[39m: name 'PlotMapView' is not defined"
     ]
    },
    {
     "data": {
      "image/png": "[encoded data removed]",
      "text/plain": [
       "<Figure size 700x700 with 1 Axes>"
      ]
     },
     "metadata": {},
     "output_type": "display_data"
    }
   ],
   "source": [
    "fig, ax = plt.subplots(figsize=(7, 7))\n",
    "\n",
    "pmv = PlotMapView(modelgrid=vorgrid)\n",
    "pc = pmv.plot_array(vorgrid.top)\n",
    "pmv.plot_array(vorstrms, masked_values=[0], alpha=0.3, cmap=\"Reds_r\")\n",
    "pmv.plot_inactive()\n",
    "pmv.plot_grid(lw=0.3)\n",
    "nhddf.plot(ax=ax)\n",
    "plt.colorbar(pc, shrink=0.7);"
   ]
  },
  {
   "cell_type": "markdown",
   "id": "82758f91-a8dc-43f4-a729-83023ef5c4a8",
   "metadata": {},
   "source": [
    "### plot the meshes we produced side by side for comparison!"
   ]
  },
  {
   "cell_type": "code",
   "execution_count": 67,
   "id": "c106ccf9-8950-4164-a398-d15db0daecac",
   "metadata": {
    "execution": {
     "iopub.execute_input": "2025-09-25T16:50:33.564029Z",
     "iopub.status.busy": "2025-09-25T16:50:33.563881Z",
     "iopub.status.idle": "2025-09-25T16:50:33.952271Z",
     "shell.execute_reply": "2025-09-25T16:50:33.951765Z"
    }
   },
   "outputs": [
    {
     "ename": "NameError",
     "evalue": "name 'PlotMapView' is not defined",
     "output_type": "error",
     "traceback": [
      "\u001b[31m---------------------------------------------------------------------------\u001b[39m",
      "\u001b[31mNameError\u001b[39m                                 Traceback (most recent call last)",
      "\u001b[36mCell\u001b[39m\u001b[36m \u001b[39m\u001b[32mIn[67]\u001b[39m\u001b[32m, line 9\u001b[39m\n\u001b[32m      6\u001b[39m axs = axm.ravel()\n\u001b[32m      8\u001b[39m \u001b[38;5;66;03m# structured grid\u001b[39;00m\n\u001b[32m----> \u001b[39m\u001b[32m9\u001b[39m pmv = \u001b[43mPlotMapView\u001b[49m(modelgrid=sgrid, ax=axs[\u001b[32m0\u001b[39m])\n\u001b[32m     10\u001b[39m pmv.plot_array(sgrid.top, cmap=\u001b[33m\"\u001b[39m\u001b[33mviridis\u001b[39m\u001b[33m\"\u001b[39m)\n\u001b[32m     11\u001b[39m pmv.plot_array(strms, masked_values=[\u001b[32m0\u001b[39m,], alpha=\u001b[32m0.3\u001b[39m, cmap=\u001b[33m\"\u001b[39m\u001b[33mReds_r\u001b[39m\u001b[33m\"\u001b[39m)\n",
      "\u001b[31mNameError\u001b[39m: name 'PlotMapView' is not defined"
     ]
    },
    {
     "data": {
      "image/png": "[encoded data removed]",
      "text/plain": [
       "<Figure size 1000x1200 with 6 Axes>"
      ]
     },
     "metadata": {},
     "output_type": "display_data"
    }
   ],
   "source": [
    "from flopy.plot import styles\n",
    "from matplotlib.gridspec import GridSpec\n",
    "\n",
    "with styles.USGSMap():\n",
    "    fig, axm = plt.subplots(nrows=3, ncols=2, figsize=(10,12))\n",
    "    axs = axm.ravel()\n",
    "    \n",
    "    # structured grid\n",
    "    pmv = PlotMapView(modelgrid=sgrid, ax=axs[0])\n",
    "    pmv.plot_array(sgrid.top, cmap=\"viridis\")\n",
    "    pmv.plot_array(strms, masked_values=[0,], alpha=0.3, cmap=\"Reds_r\")\n",
    "    pmv.plot_inactive()\n",
    "    pmv.plot_grid(lw=0.3)\n",
    "    nhddf.plot(ax=axs[0])\n",
    "    styles.heading(axs[0], \"A. \", heading=\"Structured Grid\", x=0.08)\n",
    "\n",
    "    # non-uniform DIS\n",
    "    pmv = PlotMapView(modelgrid=rfgrid, ax=axs[1])\n",
    "    pmv.plot_array(rfgrid.top, cmap=\"viridis\")\n",
    "    pmv.plot_inactive()\n",
    "    pmv.plot_grid(lw=0.3)\n",
    "    nhddf.plot(ax=axs[1])\n",
    "    styles.heading(axs[1], \"B.\", heading=\"Structured Grid: non-uniform\", x=0.08)\n",
    "\n",
    "    # LGR grid\n",
    "    pmvp = PlotMapView(modelgrid=sgrid, ax=axs[2])\n",
    "    ptop = sgrid.top.copy()\n",
    "    ptop[crow, ccol] = np.nan\n",
    "    strms[crow, ccol] = np.nan\n",
    "    pc = pmvp.plot_array(ptop, cmap=\"viridis\", vmin=vmin, vmax=vmax)\n",
    "    pmvp.plot_array(strms, masked_values=[0], alpha=0.3, cmap=\"Reds_r\")\n",
    "    pmvp.plot_inactive()\n",
    "    pmvp.plot_grid(lw=0.3)\n",
    "    nhddf.plot(ax=axs[2])\n",
    "\n",
    "    pmvc = PlotMapView(modelgrid=childgrid, ax=axs[2])\n",
    "    pmvc.plot_array(childtop, cmap=\"viridis\", vmin=vmin, vmax=vmax)\n",
    "    pmvc.plot_array(cstrms, masked_values=[0], alpha=0.3, cmap=\"Reds_r\")\n",
    "    pmvc.plot_grid(lw=0.3)\n",
    "    styles.heading(axs[2], \"C. \", heading=\"LGR Grid\", x=0.08)\n",
    "\n",
    "    # Quadtree grid\n",
    "    pmv = PlotMapView(modelgrid=quadgrid, ax=axs[3])\n",
    "    pc = pmv.plot_array(quadgrid.top)\n",
    "    pmv.plot_array(qstrms, masked_values=[0,], alpha=0.3, cmap=\"Reds_r\")\n",
    "    pmv.plot_inactive()\n",
    "    pmv.plot_grid(lw=0.2)\n",
    "    nhddf.plot(ax=axs[3])\n",
    "    styles.heading(axs[3], \"D. \", heading=\"Quadtree Grid\", x=0.08)\n",
    "\n",
    "    # Triangular grid\n",
    "    pmv = PlotMapView(modelgrid=trigrid, ax=axs[4])\n",
    "    pc = pmv.plot_array(trigrid.top)\n",
    "    pmv.plot_array(tristrms, masked_values=[0,], alpha=0.3, cmap=\"Reds_r\")\n",
    "    pmv.plot_inactive()\n",
    "    pmv.plot_grid(lw=0.3)\n",
    "    nhddf.plot(ax=axs[4])\n",
    "    styles.heading(axs[4], \"E. \", heading=\"Triangular Grid\", x=0.08)\n",
    "\n",
    "    # Voronoi grid\n",
    "    pmv = PlotMapView(modelgrid=vorgrid, ax=axs[5])\n",
    "    pc = pmv.plot_array(vorgrid.top)\n",
    "    pmv.plot_array(vorstrms, masked_values=[0,], alpha=0.3, cmap=\"Reds_r\")\n",
    "    pmv.plot_inactive()\n",
    "    pmv.plot_grid(lw=0.3)\n",
    "    nhddf.plot(ax=axs[5])\n",
    "    styles.heading(axs[5], \"F. \", heading=\"Voronoi Grid\", x=0.08)\n",
    "\n",
    "    # colorbar\n",
    "\n",
    "    \n",
    "    # ax5.spines[[\"left\", \"right\", \"top\", \"bottom\"]].set_visible(False)\n",
    "    fig.colorbar(\n",
    "        pc,\n",
    "        ax=axm,\n",
    "        location=\"top\",\n",
    "        label=\"Land surface elevation, in meters\",\n",
    "        shrink=0.5,\n",
    "        fraction=.05\n",
    "    )\n"
   ]
  },
  {
   "cell_type": "markdown",
   "id": "be66dfa8-8e48-4614-b1f3-86baafc73b14",
   "metadata": {},
   "source": [
    "### More information \n",
    "For more inforation and and examples on how to use the utilities presented in this notebook please see:\n",
    "\n",
    "#### Examples\n",
    "   - [FloPy Examples Gallery](https://flopy.readthedocs.io/en/latest/examples.html)\n",
    "\n",
    "#### API reference\n",
    "   - [FloPy utils API reference](https://flopy.readthedocs.io/en/latest/code.html#flopy-utilities)\n",
    "   - [FloPy lgrutil API reference](https://flopy.readthedocs.io/en/latest/source/flopy.utils.lgrutil.html)\n",
    "   - [FloPy gridgen API reference](https://flopy.readthedocs.io/en/latest/source/flopy.utils.gridgen.html)\n",
    "   - [FloPy triangle API reference](https://flopy.readthedocs.io/en/latest/source/flopy.utils.triangle.html)\n",
    "   - [FloPy voronoi API reference](https://flopy.readthedocs.io/en/latest/source/flopy.utils.voronoi.html)"
   ]
  },
  {
   "cell_type": "markdown",
   "id": "67c62f41",
   "metadata": {},
   "source": [
    "## Activity (If time permits); Build a Voronoi mesh/Vertex Grid:\n",
    "\n",
    "Define a voronoi grid for the basin upstream of the Black Earth Creek streamgauge near Cross Plains, WI. The upstream basin information is supplied by NLDI and has been saved to the class repo in case of internet connectivity or NLDI service issues.\n",
    "\n",
    "Some of the previous code can be re-used to create a voronoi mesh and subsequent `VertexGrid` representation of the basin. See the Triangular and Voronoi grid sections of the notebook.\n",
    "\n",
    "**Optional**, use the Upstream Main segment of Black Earth Creek to refine the voronoi mesh around the stream location. Refinement control points have been pre-defined below."
   ]
  },
  {
   "cell_type": "code",
   "execution_count": 68,
   "id": "d58d2db7",
   "metadata": {
    "execution": {
     "iopub.execute_input": "2025-09-25T16:50:33.953882Z",
     "iopub.status.busy": "2025-09-25T16:50:33.953740Z",
     "iopub.status.idle": "2025-09-25T16:50:33.972679Z",
     "shell.execute_reply": "2025-09-25T16:50:33.972184Z"
    }
   },
   "outputs": [
    {
     "ename": "NameError",
     "evalue": "name 'nldi' is not defined",
     "output_type": "error",
     "traceback": [
      "\u001b[31m---------------------------------------------------------------------------\u001b[39m",
      "\u001b[31mNameError\u001b[39m                                 Traceback (most recent call last)",
      "\u001b[36mCell\u001b[39m\u001b[36m \u001b[39m\u001b[32mIn[68]\u001b[39m\u001b[32m, line 5\u001b[39m\n\u001b[32m      2\u001b[39m \u001b[38;5;66;03m# try:\u001b[39;00m\n\u001b[32m      3\u001b[39m     \u001b[38;5;66;03m# todo: update this for black earth creek near cross plains WI site-no 05406479\u001b[39;00m\n\u001b[32m      4\u001b[39m be_cr_nr_cp = \u001b[33m\"\u001b[39m\u001b[33m05406479\u001b[39m\u001b[33m\"\u001b[39m\n\u001b[32m----> \u001b[39m\u001b[32m5\u001b[39m basindf = \u001b[43mnldi\u001b[49m.get_basin(\n\u001b[32m      6\u001b[39m     feature_source=\u001b[33m\"\u001b[39m\u001b[33mnwissite\u001b[39m\u001b[33m\"\u001b[39m, feature_id=\u001b[33mf\u001b[39m\u001b[33m\"\u001b[39m\u001b[33mUSGS-\u001b[39m\u001b[38;5;132;01m{\u001b[39;00mbe_cr_nr_cp\u001b[38;5;132;01m}\u001b[39;00m\u001b[33m\"\u001b[39m\n\u001b[32m      7\u001b[39m )\n\u001b[32m      8\u001b[39m basindf = basindf.to_crs(epsg=epsg)\n\u001b[32m      9\u001b[39m basindf.to_file(geospatial_ws / \u001b[33m\"\u001b[39m\u001b[33mblack_earth_basin.shp\u001b[39m\u001b[33m\"\u001b[39m)\n",
      "\u001b[31mNameError\u001b[39m: name 'nldi' is not defined"
     ]
    }
   ],
   "source": [
    "epsg = 5070  # NAD83 CONUS Albers\n",
    "# try:\n",
    "    # todo: update this for black earth creek near cross plains WI site-no 05406479\n",
    "be_cr_nr_cp = \"05406479\"\n",
    "basindf = nldi.get_basin(\n",
    "    feature_source=\"nwissite\", feature_id=f\"USGS-{be_cr_nr_cp}\"\n",
    ")\n",
    "basindf = basindf.to_crs(epsg=epsg)\n",
    "basindf.to_file(geospatial_ws / \"black_earth_basin.shp\")\n",
    "# except (ValueError, ConnectionError, NameError):\n",
    "#     basindf = gpd.read_file(geospatial_ws / \"black_earth_basin.shp\")"
   ]
  },
  {
   "cell_type": "code",
   "execution_count": 69,
   "id": "47c81ac1-e436-4685-a943-dffe9e023f1a",
   "metadata": {
    "execution": {
     "iopub.execute_input": "2025-09-25T16:50:33.974281Z",
     "iopub.status.busy": "2025-09-25T16:50:33.974139Z",
     "iopub.status.idle": "2025-09-25T16:50:33.991477Z",
     "shell.execute_reply": "2025-09-25T16:50:33.990936Z"
    }
   },
   "outputs": [],
   "source": [
    "try:\n",
    "    nhddf = nldi.get_flowlines(\n",
    "        navigation_mode=\"UM\",\n",
    "        distance=9999,\n",
    "        feature_source=\"nwissite\",\n",
    "        feature_id=f\"USGS-{be_cr_nr_cp}\",\n",
    "    )\n",
    "    nhddf = nhddf.to_crs(epsg=epsg)\n",
    "    nhddf.to_file(geospatial_ws / \"black_earth_creek_main.shp\")\n",
    "except (ValueError, ConnectionError, NameError):\n",
    "    nhddf = gpd.read_file(geospatial_ws / \"black_earth_creek_main.shp\")"
   ]
  },
  {
   "cell_type": "markdown",
   "id": "dcb74970-e19d-40b0-8443-f68f11e5a615",
   "metadata": {},
   "source": [
    "Visualize the example \"study area\""
   ]
  },
  {
   "cell_type": "code",
   "execution_count": 70,
   "id": "32c1f501-88e3-41e4-90fb-1f5d4299e984",
   "metadata": {
    "execution": {
     "iopub.execute_input": "2025-09-25T16:50:33.992891Z",
     "iopub.status.busy": "2025-09-25T16:50:33.992736Z",
     "iopub.status.idle": "2025-09-25T16:50:34.073665Z",
     "shell.execute_reply": "2025-09-25T16:50:34.073184Z"
    }
   },
   "outputs": [
    {
     "ename": "NameError",
     "evalue": "name 'basindf' is not defined",
     "output_type": "error",
     "traceback": [
      "\u001b[31m---------------------------------------------------------------------------\u001b[39m",
      "\u001b[31mNameError\u001b[39m                                 Traceback (most recent call last)",
      "\u001b[36mCell\u001b[39m\u001b[36m \u001b[39m\u001b[32mIn[70]\u001b[39m\u001b[32m, line 3\u001b[39m\n\u001b[32m      1\u001b[39m fig, ax = plt.subplots()\n\u001b[32m----> \u001b[39m\u001b[32m3\u001b[39m \u001b[43mbasindf\u001b[49m.plot(ax=ax, facecolor=\u001b[33m\"\u001b[39m\u001b[33mNone\u001b[39m\u001b[33m\"\u001b[39m, edgecolor=\u001b[33m\"\u001b[39m\u001b[33mk\u001b[39m\u001b[33m\"\u001b[39m)\n\u001b[32m      4\u001b[39m nhddf.plot(ax=ax)\n\u001b[32m      5\u001b[39m ctx.add_basemap(\n\u001b[32m      6\u001b[39m     ax=ax,\n\u001b[32m      7\u001b[39m     crs=basindf.crs,\n\u001b[32m      8\u001b[39m     source=ctx.providers.USGS.USTopo\n\u001b[32m      9\u001b[39m )\n",
      "\u001b[31mNameError\u001b[39m: name 'basindf' is not defined"
     ]
    },
    {
     "data": {
      "image/png": "[encoded data removed]",
      "text/plain": [
       "<Figure size 640x480 with 1 Axes>"
      ]
     },
     "metadata": {},
     "output_type": "display_data"
    }
   ],
   "source": [
    "fig, ax = plt.subplots()\n",
    "\n",
    "basindf.plot(ax=ax, facecolor=\"None\", edgecolor=\"k\")\n",
    "nhddf.plot(ax=ax)\n",
    "ctx.add_basemap(\n",
    "    ax=ax,\n",
    "    crs=basindf.crs,\n",
    "    source=ctx.providers.USGS.USTopo\n",
    ")"
   ]
  },
  {
   "cell_type": "markdown",
   "id": "cc6b79b0-198a-410c-9428-13fa814d3052",
   "metadata": {},
   "source": [
    "Grid refinement control points are defined here for the optional part of this exercise"
   ]
  },
  {
   "cell_type": "code",
   "execution_count": 71,
   "id": "4bacc5c8-6b0e-436f-8c67-42ae6e393bf5",
   "metadata": {
    "execution": {
     "iopub.execute_input": "2025-09-25T16:50:34.074968Z",
     "iopub.status.busy": "2025-09-25T16:50:34.074830Z",
     "iopub.status.idle": "2025-09-25T16:50:34.091949Z",
     "shell.execute_reply": "2025-09-25T16:50:34.091329Z"
    }
   },
   "outputs": [
    {
     "ename": "NameError",
     "evalue": "name 'basindf' is not defined",
     "output_type": "error",
     "traceback": [
      "\u001b[31m---------------------------------------------------------------------------\u001b[39m",
      "\u001b[31mNameError\u001b[39m                                 Traceback (most recent call last)",
      "\u001b[36mCell\u001b[39m\u001b[36m \u001b[39m\u001b[32mIn[71]\u001b[39m\u001b[32m, line 1\u001b[39m\n\u001b[32m----> \u001b[39m\u001b[32m1\u001b[39m wsloc = \u001b[43mbasindf\u001b[49m.centroid.values[\u001b[32m0\u001b[39m]\n\u001b[32m      2\u001b[39m stloc = \u001b[38;5;28mlist\u001b[39m(\u001b[38;5;28mzip\u001b[39m(*nhddf.geometry.values[\u001b[32m10\u001b[39m].xy))[\u001b[32m0\u001b[39m]\n",
      "\u001b[31mNameError\u001b[39m: name 'basindf' is not defined"
     ]
    }
   ],
   "source": [
    "wsloc = basindf.centroid.values[0]\n",
    "stloc = list(zip(*nhddf.geometry.values[10].xy))[0]"
   ]
  },
  {
   "cell_type": "code",
   "execution_count": null,
   "id": "6b6d8a83-e226-4020-8889-0e6c35bd3af3",
   "metadata": {},
   "outputs": [],
   "source": []
  },
  {
   "cell_type": "code",
   "execution_count": null,
   "id": "f5bb2150-fe6e-4fe1-918b-7e09239d3694",
   "metadata": {},
   "outputs": [],
   "source": []
  },
  {
   "cell_type": "code",
   "execution_count": null,
   "id": "ccecfea2-121b-442f-bfca-0e345ccc5173",
   "metadata": {},
   "outputs": [],
   "source": []
  }
 ],
 "metadata": {
  "kernelspec": {
   "display_name": "Python 3 (ipykernel)",
   "language": "python",
   "name": "python3"
  },
  "language_info": {
   "codemirror_mode": {
    "name": "ipython",
    "version": 3
   },
   "file_extension": ".py",
   "mimetype": "text/x-python",
   "name": "python",
   "nbconvert_exporter": "python",
   "pygments_lexer": "ipython3",
   "version": "3.11.13"
  }
 },
 "nbformat": 4,
 "nbformat_minor": 5
}
