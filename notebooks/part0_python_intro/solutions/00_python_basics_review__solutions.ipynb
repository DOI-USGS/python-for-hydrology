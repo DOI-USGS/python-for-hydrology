{
 "cells": [
  {
   "cell_type": "markdown",
   "id": "e8898c38",
   "metadata": {},
   "source": [
    "# TEST YOR SKILLS #0"
   ]
  },
  {
   "cell_type": "code",
   "execution_count": null,
   "id": "941f8e32",
   "metadata": {},
   "outputs": [],
   "source": [
    "from pathlib import Path\n",
    "from sklearn.feature_extraction.text import ENGLISH_STOP_WORDS\n",
    "stopwords = list(ENGLISH_STOP_WORDS)\n"
   ]
  },
  {
   "cell_type": "code",
   "execution_count": null,
   "id": "a1a07ba5",
   "metadata": {},
   "outputs": [],
   "source": [
    "datapath = Path('../data')"
   ]
  },
  {
   "cell_type": "code",
   "execution_count": null,
   "id": "f9edd245",
   "metadata": {},
   "outputs": [],
   "source": [
    "speech_raw = open(datapath / 'dream.txt').readlines()"
   ]
  },
  {
   "cell_type": "code",
   "execution_count": null,
   "id": "bad99527",
   "metadata": {},
   "outputs": [],
   "source": [
    "speech = [i.strip() for i in speech_raw]"
   ]
  },
  {
   "cell_type": "code",
   "execution_count": null,
   "id": "ff208e23",
   "metadata": {},
   "outputs": [],
   "source": [
    "newdata = []\n",
    "for i in speech:\n",
    "    newdata.append(i)\n",
    "newdata = ' '.join(newdata)"
   ]
  },
  {
   "cell_type": "code",
   "execution_count": null,
   "id": "3f4842ad",
   "metadata": {},
   "outputs": [],
   "source": [
    "len(newdata)"
   ]
  },
  {
   "cell_type": "code",
   "execution_count": null,
   "id": "f5bd8ab1",
   "metadata": {},
   "outputs": [],
   "source": [
    "newdata"
   ]
  },
  {
   "cell_type": "code",
   "execution_count": null,
   "id": "0051f87b",
   "metadata": {},
   "outputs": [],
   "source": [
    "newdata = newdata.lower()"
   ]
  },
  {
   "cell_type": "code",
   "execution_count": null,
   "id": "3371ec7d",
   "metadata": {},
   "outputs": [],
   "source": [
    "newdata"
   ]
  },
  {
   "cell_type": "code",
   "execution_count": null,
   "id": "0b3c8d11",
   "metadata": {},
   "outputs": [],
   "source": [
    "punks = ['.',',',':',';','!','-']"
   ]
  },
  {
   "cell_type": "code",
   "execution_count": null,
   "id": "0ad2436e",
   "metadata": {},
   "outputs": [],
   "source": [
    "for punk in punks:\n",
    "    newdata = newdata.replace(punk, '')"
   ]
  },
  {
   "cell_type": "code",
   "execution_count": null,
   "id": "99e90459",
   "metadata": {},
   "outputs": [],
   "source": [
    "newdata"
   ]
  },
  {
   "cell_type": "code",
   "execution_count": null,
   "id": "10966edf",
   "metadata": {},
   "outputs": [],
   "source": [
    "newdata = newdata.split()\n",
    "len(newdata)"
   ]
  },
  {
   "cell_type": "code",
   "execution_count": null,
   "id": "58ff104d",
   "metadata": {},
   "outputs": [],
   "source": [
    "finaldata = []\n",
    "for i in newdata:\n",
    "    if i not in stopwords:\n",
    "        finaldata.append(i)"
   ]
  },
  {
   "cell_type": "code",
   "execution_count": null,
   "id": "9f62bf76",
   "metadata": {},
   "outputs": [],
   "source": [
    "len(finaldata)"
   ]
  },
  {
   "cell_type": "code",
   "execution_count": null,
   "id": "3aa73eaa",
   "metadata": {},
   "outputs": [],
   "source": [
    "'i' in finaldata"
   ]
  },
  {
   "cell_type": "code",
   "execution_count": null,
   "id": "7a1321e4",
   "metadata": {},
   "outputs": [],
   "source": [
    "# make an empty dictionary that will have keys being the unique words in the speech, \n",
    "# and values being their counts\n",
    "counts = dict()"
   ]
  },
  {
   "cell_type": "code",
   "execution_count": null,
   "id": "f8aaf7f2",
   "metadata": {},
   "outputs": [],
   "source": [
    "for cw in finaldata:\n",
    "    if cw in counts.keys():\n",
    "        counts[cw] += 1\n",
    "    else:\n",
    "        counts[cw] = 1"
   ]
  },
  {
   "cell_type": "code",
   "execution_count": null,
   "id": "51d9dcd0",
   "metadata": {},
   "outputs": [],
   "source": [
    "counts"
   ]
  },
  {
   "cell_type": "code",
   "execution_count": null,
   "id": "57359e42",
   "metadata": {},
   "outputs": [],
   "source": [
    "top_counts = sorted(counts.values(), reverse=True)\n",
    "\n",
    "top_counts_unique = []\n",
    "for i in top_counts:\n",
    "    if i not in top_counts_unique:\n",
    "        top_counts_unique.append(i)\n",
    "len(top_counts_unique)"
   ]
  },
  {
   "cell_type": "code",
   "execution_count": null,
   "id": "ee69113b",
   "metadata": {
    "scrolled": true
   },
   "outputs": [],
   "source": [
    "for i in top_counts_unique:\n",
    "    for ck, cv in counts.items():\n",
    "        if cv == i:\n",
    "            print(ck, cv)"
   ]
  },
  {
   "cell_type": "code",
   "execution_count": null,
   "id": "eee3f73b",
   "metadata": {},
   "outputs": [],
   "source": []
  },
  {
   "cell_type": "code",
   "execution_count": null,
   "id": "a8ccf54e-d958-40e7-af3d-21e59c222e3b",
   "metadata": {},
   "outputs": [],
   "source": []
  }
 ],
 "metadata": {
  "kernelspec": {
   "display_name": "Python 3 (ipykernel)",
   "language": "python",
   "name": "python3"
  },
  "language_info": {
   "codemirror_mode": {
    "name": "ipython",
    "version": 3
   },
   "file_extension": ".py",
   "mimetype": "text/x-python",
   "name": "python",
   "nbconvert_exporter": "python",
   "pygments_lexer": "ipython3",
   "version": "3.11.7"
  }
 },
 "nbformat": 4,
 "nbformat_minor": 5
}
