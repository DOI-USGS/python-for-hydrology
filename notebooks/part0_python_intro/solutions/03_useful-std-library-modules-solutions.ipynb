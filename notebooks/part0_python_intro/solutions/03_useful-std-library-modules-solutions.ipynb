{
 "cells": [
  {
   "cell_type": "markdown",
   "metadata": {},
   "source": [
    "# Useful standard library modules exercise solutions"
   ]
  },
  {
   "cell_type": "code",
   "execution_count": null,
   "metadata": {},
   "outputs": [],
   "source": [
    "import os\n",
    "from pathlib import Path\n",
    "import shutil\n",
    "import subprocess\n",
    "import sys\n",
    "import zipfile"
   ]
  },
  {
   "cell_type": "markdown",
   "metadata": {},
   "source": [
    "### Exercise: Make a script with a command line argument using sys.argv\n",
    "\n",
    "1) Using a text editor such as VSCode, make a new ``*.py`` file with the following contents:\n",
    "\n",
    "```python\n",
    "import sys\n",
    "\n",
    "if len(sys.argv) > 1:\n",
    "    for argument in sys.argv[1:]:\n",
    "        print(argument)\n",
    "else:\n",
    "    print(\"usage is: python <script name>.py argument\")\n",
    "    quit()\n",
    "```\n",
    "\n",
    "2) Try running the script at the command line"
   ]
  },
  {
   "cell_type": "code",
   "execution_count": null,
   "metadata": {},
   "outputs": [],
   "source": [
    "write_text = (\n",
    "    'import sys\\n\\n'\n",
    "    'if len(sys.argv) > 1:\\n'\n",
    "    '    for argument in sys.argv[1:]:\\n'\n",
    "    '        print(argument)\\n'\n",
    "    'else:\\n'\n",
    "    '   print(\"usage is: python <script name>.py argument\")\\n'\n",
    "    'quit()\\n'\n",
    ")\n",
    "\n",
    "with open('myscript.py', 'w') as dest:\n",
    "    dest.write(write_text)"
   ]
  },
  {
   "cell_type": "code",
   "execution_count": null,
   "metadata": {},
   "outputs": [],
   "source": [
    "result = subprocess.run(['python', 'myscript.py'], check=True)\n",
    "result.stdout"
   ]
  },
  {
   "cell_type": "code",
   "execution_count": null,
   "metadata": {},
   "outputs": [],
   "source": [
    "result = subprocess.run(['python', 'myscript.py', 'arg1', 'arg2'], check=True)\n",
    "result.stdout"
   ]
  },
  {
   "cell_type": "markdown",
   "metadata": {},
   "source": [
    "## Testing Your Skills with a truly awful example:\n",
    "\n",
    "#### the problem:\n",
    "Pretend that the file `data/fileio/netcdf_data.zip` contains some climate data (in the NetCDF format with the ``*.nc`` extension) that we downloaded. If you open `data/fileio/netcdf_data.zip`, you'll see that within a subfolder `zipped` are a bunch of additional subfolders, each for a different year. Within each subfolder is another zipfile. Within each of these zipfiles is yet another subfolder, inside of which is the actual data file we want (`prcp.nc`). "
   ]
  },
  {
   "cell_type": "code",
   "execution_count": null,
   "metadata": {},
   "outputs": [],
   "source": [
    "with zipfile.ZipFile('../data/netcdf_data.zip') as src:\n",
    "    for f in src.namelist()[:10]:\n",
    "        print(f)"
   ]
  },
  {
   "cell_type": "markdown",
   "metadata": {},
   "source": [
    "#### the goal:\n",
    "To extract all of these `prcp.nc` files into a single folder, after renaming them with their respective years (obtained from their enclosing folders or zip files). e.g.  \n",
    "```\n",
    "prcp_1980.nc\n",
    "prcp_1981.nc\n",
    "...\n",
    "```\n",
    "This will allow us to open them together as a dataset in `xarray` (more on that later). Does this sound awful? I'm not making this up. This is the kind of structure you get when downloading tiles of climate data with the [Daymet Tile Selection Tool](https://daymet.ornl.gov/gridded/)\n",
    "\n",
    "#### hint:\n",
    "you might find these functions helpful:\n",
    "```\n",
    "ZipFile.extractall\n",
    "ZipFile.extract\n",
    "Path.glob\n",
    "Path.mkdir\n",
    "Path.stem\n",
    "Path.parent\n",
    "Path.name\n",
    "shutil.move\n",
    "Path.rmdir()\n",
    "\n",
    "\n",
    "os.path.isdir\n",
    "os.makedirs\n",
    "\n",
    "os.path.split\n",
    "os.path.splitext\n",
    "os.path.join\n",
    "os.rename\n",
    "os.rmdir\n",
    "```"
   ]
  },
  {
   "cell_type": "markdown",
   "metadata": {},
   "source": [
    "#### hint: start by using ``ZipFile.extractall()`` to extract all of the individual zip files from the main zip archive\n",
    "This extracts the entire contents of the zip file to a designated folder"
   ]
  },
  {
   "cell_type": "code",
   "execution_count": null,
   "metadata": {},
   "outputs": [],
   "source": [
    "output_folder = Path('../03-output')\n",
    "output_folder.mkdir(exist_ok=True)\n",
    "\n",
    "with zipfile.ZipFile('../data/netcdf_data.zip') as src:\n",
    "    src.extractall(output_folder)"
   ]
  },
  {
   "cell_type": "markdown",
   "metadata": {},
   "source": [
    "Make a list of the zipfiles"
   ]
  },
  {
   "cell_type": "code",
   "execution_count": null,
   "metadata": {},
   "outputs": [],
   "source": [
    "zipfiles = list(output_folder.glob('netcdf_data/zipped/*/*.zip'))\n",
    "zipfiles[:5]"
   ]
  },
  {
   "cell_type": "markdown",
   "metadata": {},
   "source": [
    "### Part 1: extract with a single file"
   ]
  },
  {
   "cell_type": "code",
   "execution_count": null,
   "metadata": {},
   "outputs": [],
   "source": [
    "f = zipfiles[0]\n",
    "f"
   ]
  },
  {
   "cell_type": "markdown",
   "metadata": {},
   "source": [
    "#### 1a) Use ``ZipFile.namelist()`` (as above) list the contents\n",
    "\n",
    "This will yield the name of the ``*.nc`` file that we need to extract"
   ]
  },
  {
   "cell_type": "code",
   "execution_count": null,
   "metadata": {},
   "outputs": [],
   "source": [
    "with zipfile.ZipFile(f) as src:\n",
    "    nc_file = src.namelist()[0]\n",
    "print(nc_file)"
   ]
  },
  {
   "cell_type": "markdown",
   "metadata": {},
   "source": [
    "#### 1b) Use ``ZipFile.extract()`` to extract the ``*.nc`` file to the destination folder\n",
    "(you may need to create the destination folder first)"
   ]
  },
  {
   "cell_type": "code",
   "execution_count": null,
   "metadata": {},
   "outputs": [],
   "source": [
    "with zipfile.ZipFile(f) as src:\n",
    "    src.extract(nc_file, output_folder)"
   ]
  },
  {
   "cell_type": "markdown",
   "metadata": {},
   "source": [
    "#### 1c) Move the extracted file out of any enclosing subfolders, and rename to ``prcp_<year>.nc``\n",
    "(so that if we repeat this for subsequent files, the extracted ``*.nc`` files will end up in the same place)"
   ]
  },
  {
   "cell_type": "code",
   "execution_count": null,
   "metadata": {},
   "outputs": [],
   "source": [
    "# make a path for the extracted file\n",
    "extracted_path = output_folder / nc_file\n",
    "extracted_path"
   ]
  },
  {
   "cell_type": "code",
   "execution_count": null,
   "metadata": {},
   "outputs": [],
   "source": [
    "# make a path for the new file\n",
    "nc_file = Path(nc_file)\n",
    "variable = nc_file.stem\n",
    "year = nc_file.parent.name.split('_')[1]\n",
    "new_file = output_folder / f\"{variable}_{year}.nc\"\n",
    "new_file"
   ]
  },
  {
   "cell_type": "code",
   "execution_count": null,
   "metadata": {},
   "outputs": [],
   "source": [
    "# do the move\n",
    "shutil.move(extracted_path, new_file)"
   ]
  },
  {
   "cell_type": "markdown",
   "metadata": {},
   "source": [
    "#### 1d) Remove the extra subfolders that were extracted"
   ]
  },
  {
   "cell_type": "code",
   "execution_count": null,
   "metadata": {},
   "outputs": [],
   "source": [
    "extracted_path.parent.rmdir()"
   ]
  },
  {
   "cell_type": "markdown",
   "metadata": {},
   "source": [
    "### Part 2: put the above steps together into a loop to repeat the workflow for all of the NetCDF files"
   ]
  },
  {
   "cell_type": "code",
   "execution_count": null,
   "metadata": {},
   "outputs": [],
   "source": [
    "for f in zipfiles:\n",
    "    with zipfile.ZipFile(f) as src:\n",
    "        \n",
    "        # get the NetCDF file\n",
    "        nc_file = src.namelist()[0]\n",
    "        \n",
    "        # extract it to the output folder\n",
    "        src.extract(nc_file, output_folder)\n",
    "        \n",
    "        # make a path for the extracted file\n",
    "        extracted_path = output_folder / nc_file\n",
    "        \n",
    "        # make a path for the new file\n",
    "        nc_file = Path(nc_file)\n",
    "        variable = nc_file.stem\n",
    "        year = nc_file.parent.name.split('_')[1]\n",
    "        new_file = output_folder / f\"{variable}_{year}.nc\"\n",
    "        \n",
    "        # move the extracted NetCDF file to the dest. location\n",
    "        shutil.move(extracted_path, new_file)\n",
    "        \n",
    "        # remove the subfolders that were extracted\n",
    "        extracted_path.parent.rmdir()\n",
    "        \n",
    "        print(f\"{f}/{nc_file} --> {new_file}\")"
   ]
  },
  {
   "cell_type": "markdown",
   "metadata": {},
   "source": [
    "### Another way to do this using ``os`` instead of ``pathlib``\n",
    "(from the 2018 Madison Python class)"
   ]
  },
  {
   "cell_type": "code",
   "execution_count": null,
   "metadata": {},
   "outputs": [],
   "source": [
    "# declare a destination path\n",
    "dest_path = 'extracted_data'\n",
    "variable = 'prcp'\n",
    "\n",
    "for f in zipfiles:\n",
    "    with zipfile.ZipFile(f) as src:\n",
    "        # get the path to the source file and the year\n",
    "        _, fname = os.path.split(f)\n",
    "        name = os.path.splitext(fname)[0].replace('.tar', '')\n",
    "        srcfile = '{}/{}.nc'.format(name, variable)\n",
    "        year = name.split('_')[1]\n",
    "\n",
    "        # where we want the extracted .nc file to end up\n",
    "        destfile = os.path.join(dest_path, '{}_{}.nc'.format(variable, year))\n",
    "\n",
    "        # extract the srcfile path to the /daymet folder\n",
    "        # unfortunately this extracts the whole path, not just the file\n",
    "        src.extract(srcfile, dest_path)\n",
    "        # move the file up from subfolders to /daymet\n",
    "        shutil.move(os.path.join(dest_path, srcfile), dest_path)\n",
    "        # rename to include year\n",
    "        os.rename(os.path.join(dest_path, '{}.nc'.format(variable)),\n",
    "                  destfile)\n",
    "        # trash subfolders that were extracted\n",
    "        os.rmdir(os.path.join(dest_path, name))\n",
    "        print('{}/{} --> {}'.format(f, srcfile, destfile))"
   ]
  }
 ],
 "metadata": {
  "language_info": {
   "name": "python"
  }
 },
 "nbformat": 4,
 "nbformat_minor": 4
}
