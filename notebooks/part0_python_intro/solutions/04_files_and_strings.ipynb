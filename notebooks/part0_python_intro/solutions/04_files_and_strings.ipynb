{
 "cells": [
  {
   "cell_type": "markdown",
   "id": "6264d3bb",
   "metadata": {},
   "source": [
    "# Introduction to python for hydrologists &mdash; file input and output\n",
    "\n",
    "In this exercise we will be learning about using python to work with file input and output. We will also learn a little about reading and writing formatted ascii files, binary files, and retrieving data from the web to creat plots and data files. \n",
    "\n",
    "### Initialization of Notebook\n",
    "\n",
    "Populate the interactive namespace with the python packages we will be using in this exercise"
   ]
  },
  {
   "cell_type": "code",
   "execution_count": 1,
   "id": "8cc6bb20",
   "metadata": {},
   "outputs": [],
   "source": [
    "import sys\n",
    "import os\n",
    "import numpy as np\n",
    "import matplotlib.pyplot as plt\n",
    "\n",
    "import pygeohydro as gh\n",
    "from pygeohydro import NWIS\n",
    "\n",
    "# set up the path to our data\n",
    "pthnb = os.path.join('..', 'data', 'fileio')\n",
    "if not os.path.exists(pthnb):\n",
    "    os.makedirs(pthnb)"
   ]
  },
  {
   "cell_type": "markdown",
   "id": "236f62c2",
   "metadata": {},
   "source": [
    "### Additional reading and supporting documentation\n",
    "\n",
    "http://openbookproject.net/thinkcs/python/english3e/files.html"
   ]
  },
  {
   "cell_type": "markdown",
   "id": "65676ef7",
   "metadata": {},
   "source": [
    "### About files\n",
    "While a program is running, its data is stored in random access memory (RAM). RAM is fast and inexpensive, but it is also **volatile**, which means that when the program ends, or the computer shuts down, data in RAM disappears. To make data available the next time the computer is turned on and the program is started, it has to be written to a non-volatile storage medium, such a hard drive, usb drive, or CD-RW.\n",
    "\n",
    "Data on **non-volatile** storage media is stored in named locations on the media called **files**. By reading and writing files, programs can save information between program runs.\n",
    "\n",
    "Working with files is a lot like working with a notebook. To use a notebook, it has to be opened. When done, it has to be closed. While the notebook is open, it can either be read from or written to. In either case, the notebook holder knows where they are. They can read the whole notebook in its natural order or they can skip around.\n",
    "\n",
    "All of this applies to files as well. To open a file, we specify its name and indicate whether we want to read or write.\n",
    "\n",
    "### Writing our first file\n",
    "Let’s begin with a simple program that writes three lines of text into a file:"
   ]
  },
  {
   "cell_type": "code",
   "execution_count": 2,
   "id": "5b1095c5",
   "metadata": {},
   "outputs": [],
   "source": [
    "fname = os.path.join(pthnb,'test.txt')\n",
    "myfile = open(fname, 'w')\n",
    "myfile.write('My first file written from Python\\n')\n",
    "myfile.write('---------------------------------\\n')\n",
    "myfile.write('Hello, world!\\n')\n",
    "myfile.close()"
   ]
  },
  {
   "cell_type": "markdown",
   "id": "66b01ba8",
   "metadata": {},
   "source": [
    "Opening a file creates what we call a file **handle**. In this example, the variable myfile refers to the new handle object. Our program calls methods on the handle, and this makes changes to the actual file which is usually located on our disk.\n",
    "\n",
    "On line 1, the open function takes two arguments. The first is the name of the file, and the second is the mode. Mode \"w\" means that we are opening the file for writing.\n",
    "\n",
    "With mode \"w\", if there is no file named test.txt on the disk, it will be created. If there already is one, it will be replaced by the file we are writing.\n",
    "\n",
    "To put data in the file we invoke the write method on the handle, shown in lines 2, 3 and 4 above. In bigger programs, lines 2–4 will usually be replaced by a loop that writes many more lines into the file.\n",
    "\n",
    "Closing the file handle (line 5) tells the system that we are done writing and makes the disk file available for reading by other programs (or by our own program)."
   ]
  },
  {
   "cell_type": "markdown",
   "id": "8c837396",
   "metadata": {},
   "source": [
    "### A better way to write a file, with `with`.\n",
    "\n",
    "The python `with` statement allows us to create a file handle that automatically closes after the code exits the with statement. This not only reduces the amount of code that exists, it also ensures that file handles are not not left open as the code progresses."
   ]
  },
  {
   "cell_type": "code",
   "execution_count": 3,
   "id": "d7240d58",
   "metadata": {},
   "outputs": [
    {
     "name": "stdout",
     "output_type": "stream",
     "text": [
      "myfile is closed: True\n"
     ]
    }
   ],
   "source": [
    "with open(fname, \"w\") as myfile:\n",
    "    myfile.write('My first file written from Python using with!\\n')\n",
    "    myfile.write('---------------------------------\\n')\n",
    "    myfile.write('Hello, world!\\n')\n",
    "\n",
    "print(f\"myfile is closed: {myfile.closed}\")"
   ]
  },
  {
   "cell_type": "markdown",
   "id": "1c01bf3c",
   "metadata": {},
   "source": [
    "### Reading a file line-at-a-time\n",
    "\n",
    "Now that the file exists on our disk, we can open it, this time for reading, and read all the lines in the file, one at a time. This time, the mode argument is `'r'` for reading:\n",
    "\n",
    "We can also use the `with open() as` convention for reading files:"
   ]
  },
  {
   "cell_type": "code",
   "execution_count": 4,
   "id": "9c0abd01",
   "metadata": {},
   "outputs": [
    {
     "name": "stdout",
     "output_type": "stream",
     "text": [
      "My first file written from Python using with!\n",
      "---------------------------------\n",
      "Hello, world!\n"
     ]
    }
   ],
   "source": [
    "with open(fname, \"r\") as mynewhandle:\n",
    "    while True:                          # keep reading forever\n",
    "        theline = mynewhandle.readline() # try to read the next line\n",
    "        if len(theline) == 0:            # if there are no more lines\n",
    "            break                        # leave the loop\n",
    "        # now process the line we've just read\n",
    "        print(theline.rstrip())"
   ]
  },
  {
   "cell_type": "markdown",
   "id": "a7d044de",
   "metadata": {},
   "source": [
    "In bigger programs, we’d squeeze more extensive logic into the body of the loop at the `print` statement. For example, if each line of the file contained the name and email address of one of our friends, perhaps we’d split the line into some pieces and call a function to send the friend a party invitation.\n",
    "\n",
    "We suppress the newline character (`'\\n'`) in the string `theline` using `.rstrip()`. Why? \n",
    "\n",
    "This is because the string already has its own newline : the `readline` method in line 3 returns everything up to and including the newline character. This also explains the end-of-file detection logic: when there are no more lines to be read from the file, `readline` returns an empty string — one that does not even have a newline at the end, hence its length is 0.\n",
    "\n",
    "See [python's string documentation](https://docs.python.org/3.9/library/string.html) for more information on common string operations."
   ]
  },
  {
   "cell_type": "markdown",
   "id": "a32def48",
   "metadata": {},
   "source": [
    "### A second way to read file input\n",
    "\n",
    "Instead of using the `readline()` method we can loop over the handle object read a file line by line."
   ]
  },
  {
   "cell_type": "code",
   "execution_count": 5,
   "id": "2b9c5d3a",
   "metadata": {},
   "outputs": [
    {
     "name": "stdout",
     "output_type": "stream",
     "text": [
      "My first file written from Python using with!\n",
      "---------------------------------\n",
      "Hello, world!\n"
     ]
    }
   ],
   "source": [
    "with open(fname, \"r\") as myloophandle:\n",
    "    for line in myloophandle:\n",
    "        # process the line\n",
    "        print(line.strip())"
   ]
  },
  {
   "cell_type": "markdown",
   "id": "36cd23fb",
   "metadata": {},
   "source": [
    "This approach is much easier, but both methods (looping over the object and `readline()`) have applications for reading input. "
   ]
  },
  {
   "cell_type": "markdown",
   "id": "25559ccb",
   "metadata": {},
   "source": [
    "### What if we open a file that does not exist\n",
    "If we try to open a file that does not exist, we get an error:"
   ]
  },
  {
   "cell_type": "code",
   "execution_count": 6,
   "id": "4c8d4763",
   "metadata": {},
   "outputs": [
    {
     "name": "stdout",
     "output_type": "stream",
     "text": [
      "[Errno 2] No such file or directory: 'wharrah.txt'\n"
     ]
    }
   ],
   "source": [
    "try:\n",
    "    mynewhandle = open('wharrah.txt', 'r')\n",
    "except Exception as e:\n",
    "    print(e) "
   ]
  },
  {
   "cell_type": "markdown",
   "id": "adbd3686",
   "metadata": {},
   "source": [
    "### Class Activity 1\n",
    "\n",
    "Write and read your own file. Use the completed code blocks above as a template. **Don't be ashamed to adapt code you got from someone else or on the internet to accomplish something useful.**"
   ]
  },
  {
   "cell_type": "code",
   "execution_count": 7,
   "id": "b15e6d13",
   "metadata": {},
   "outputs": [
    {
     "name": "stdout",
     "output_type": "stream",
     "text": [
      "Hello World\n"
     ]
    }
   ],
   "source": [
    "f = os.path.join(pthnb, 'mynewfile.txt')\n",
    "with open(f, \"w\") as foo:\n",
    "    foo.write(\"Hello World\")\n",
    "    \n",
    "with open(f) as foo:\n",
    "    for line in foo:\n",
    "        print(line.strip())"
   ]
  },
  {
   "cell_type": "code",
   "execution_count": null,
   "id": "40ddafbb",
   "metadata": {},
   "outputs": [],
   "source": []
  },
  {
   "cell_type": "markdown",
   "id": "09da2347",
   "metadata": {},
   "source": [
    "### File paths\n",
    "\n",
    "Files on non-volatile storage media are organized by a set of rules known as a **file system**. File systems are made up of files and **directories**, which are containers for both files and other directories.\n",
    "\n",
    "By default, when we create a new file by opening it goes in the current directory (wherever we were when we ran the program). Similarly, when we open a file for reading, Python looks for it in the current directory. In the above example, we have used `os.path.join()` to write the file to a specific directory rather than the directory we are running this notebook from. If `'test.txt'` was used in the `open` statement, the file would have been written to the current working directory. The current working directory can be determined using:"
   ]
  },
  {
   "cell_type": "code",
   "execution_count": 8,
   "id": "0cbb7843",
   "metadata": {},
   "outputs": [
    {
     "data": {
      "text/plain": [
       "'C:\\\\Users\\\\jlarsen\\\\Desktop\\\\Work\\\\madison_WI_2022\\\\notebooks\\\\part0_python_intro\\\\solutions'"
      ]
     },
     "execution_count": 8,
     "metadata": {},
     "output_type": "execute_result"
    }
   ],
   "source": [
    "os.getcwd()"
   ]
  },
  {
   "cell_type": "markdown",
   "id": "3a60f550",
   "metadata": {},
   "source": [
    "Determine the directory that we wrote `'test.txt'` (`fname`) to in the blank code block below using `os.path.abspath()`:"
   ]
  },
  {
   "cell_type": "code",
   "execution_count": 9,
   "id": "98f4cff6",
   "metadata": {},
   "outputs": [
    {
     "data": {
      "text/plain": [
       "'C:\\\\Users\\\\jlarsen\\\\Desktop\\\\Work\\\\madison_WI_2022\\\\notebooks\\\\part0_python_intro\\\\data\\\\fileio\\\\test.txt'"
      ]
     },
     "execution_count": 9,
     "metadata": {},
     "output_type": "execute_result"
    }
   ],
   "source": [
    "os.path.abspath(fname)"
   ]
  },
  {
   "cell_type": "markdown",
   "id": "81d4f4b9",
   "metadata": {},
   "source": [
    "On Windows, a full path could look like `'C:\\\\temp\\\\somefile.txt'`, while on MacOSX, Linux, and Unix systems the full path could be `'/home/jimmy/somefile.txt'`. Because backslashes are used to escape things like newlines and tabs, we need to write two backslashes in a literal string to get one! So the length of these two strings is the same!\n",
    "\n",
    "We cannot use `/` or `\\` as part of a filename; they are reserved as a delimiter between directory and filenames.\n",
    "\n",
    "`os.path` includes a number of useful methods for manipulating pathnames. For example, `os.path.normpath(path)` can be used to take Unix style paths into paths that can be used with Windows.\n",
    "\n",
    "Take a look at https://docs.python.org/3.9/library/os.path.html for more information of `os.path` methods."
   ]
  },
  {
   "cell_type": "markdown",
   "id": "98746627",
   "metadata": {},
   "source": [
    "### Turning a file into a list of lines\n",
    "\n",
    "It is often useful to fetch data from a disk file and turn it into a list of lines. Suppose we have a file containing our friends and their email addresses, one per line in the file. But we’d like the lines sorted into alphabetical order. A good plan is to read everything into a list of lines, then sort the list, then write the sorted list back to another file, and then read the sorted file and print the data from the file:"
   ]
  },
  {
   "cell_type": "code",
   "execution_count": 10,
   "id": "6b9c4370",
   "metadata": {},
   "outputs": [
    {
     "name": "stdout",
     "output_type": "stream",
     "text": [
      "Annihilator, Morbo, , morbo@futurama.org\n",
      "Brannigan, Zapp, , brannigan@futurama.org\n",
      "Clampazzo, Francis, X., clamps@futurama.org\n",
      "Conrad, Hermes, , hermes@futurama.org\n",
      "Farnsworth, Hubert, J., professor@futurama.org\n",
      "Fry, Philip, J., fry@futurama.org\n",
      "Kroker, Kif, , kif@futurama.org\n",
      "Mousepad, Joey, , mousepad@futurama.org\n",
      "Nibbler, Lord, , nibbler@fututama.org\n",
      "Rodriguez, Bender, Bending, bender@futurama.org\n",
      "Turanga, Leela, , leela@futurama.org\n",
      "Wernstrom, Ogden, , wernstrom@futurama.org\n",
      "Wong, Amy, , amy@futurama.org\n",
      "Zoidberg, John, A., zoidberg@futurama.org\n",
      "van Schoonhoven, Linda, , vanschoonhoven@futurama.org\n"
     ]
    }
   ],
   "source": [
    "fname = os.path.join(pthnb, 'friends.txt')\n",
    "with open(fname, 'r') as f:\n",
    "    xs = f.readlines()\n",
    "\n",
    "xs.sort()\n",
    "\n",
    "gname = os.path.join(pthnb, 'sortedfriends.txt')\n",
    "with open(gname, 'w') as g:\n",
    "    for v in xs:\n",
    "        g.write(v)\n",
    "\n",
    "        \n",
    "with open(gname, \"r\") as foo:\n",
    "    for line in foo:\n",
    "        print(line.strip())"
   ]
  },
  {
   "cell_type": "markdown",
   "id": "462f4723",
   "metadata": {},
   "source": [
    "### Adding data from a file to a list of select data\n",
    "\n",
    "It is also useful to fetch data from a disk file, extracting the data from the lines read from the disk file, and add select data to a list. We will read the the names of our friends from the sorted file we just created, and add the last name, the first name and the email address to a list. We will then print the list:"
   ]
  },
  {
   "cell_type": "code",
   "execution_count": 11,
   "id": "7c4e9941",
   "metadata": {},
   "outputs": [
    {
     "name": "stdout",
     "output_type": "stream",
     "text": [
      "Annihilator         , Morbo      : morbo@futurama.org\n",
      "Brannigan           , Zapp       : brannigan@futurama.org\n",
      "Clampazzo           , Francis    : clamps@futurama.org\n",
      "Conrad              , Hermes     : hermes@futurama.org\n",
      "Farnsworth          , Hubert     : professor@futurama.org\n",
      "Fry                 , Philip     : fry@futurama.org\n",
      "Kroker              , Kif        : kif@futurama.org\n",
      "Mousepad            , Joey       : mousepad@futurama.org\n",
      "Nibbler             , Lord       : nibbler@fututama.org\n",
      "Rodriguez           , Bender     : bender@futurama.org\n",
      "Turanga             , Leela      : leela@futurama.org\n",
      "Wernstrom           , Ogden      : wernstrom@futurama.org\n",
      "Wong                , Amy        : amy@futurama.org\n",
      "Zoidberg            , John       : zoidberg@futurama.org\n",
      "van Schoonhoven     , Linda      : vanschoonhoven@futurama.org\n"
     ]
    }
   ],
   "source": [
    "mynewhandle = open(gname, 'r')\n",
    "with open(gname, \"r\") as foo:\n",
    "    mylist = []\n",
    "    for line in foo: \n",
    "        t = line.strip().split(',')\n",
    "        mylist.append([t[0].strip(), t[1].strip(), t[3].strip()])\n",
    "\n",
    "\n",
    "for [ln, fn, e] in mylist:\n",
    "    print(f'{ln :20s}, {fn :11s}: {e}')"
   ]
  },
  {
   "cell_type": "markdown",
   "id": "b1812a7f",
   "metadata": {},
   "source": [
    "### Class Activity 2\n",
    "\n",
    "1. What does the `split()` method do?\n",
    "2. What does `fn[0]` do? What would `fn[:2]` do? What is `mylist[2]`?\n",
    "\n",
    "Use the empty code blocks below to answer these questions. **Remember it os ok to use the internet to help figure out what's going on.**"
   ]
  },
  {
   "cell_type": "code",
   "execution_count": 12,
   "id": "eca4cfc0",
   "metadata": {},
   "outputs": [
    {
     "name": "stdout",
     "output_type": "stream",
     "text": [
      "['van Schoonhoven', ' Linda', ' ', ' vanschoonhoven@futurama.org\\n']\n"
     ]
    }
   ],
   "source": [
    "t = line.split(\",\")\n",
    "print(t)"
   ]
  },
  {
   "cell_type": "code",
   "execution_count": 13,
   "id": "0eefa513",
   "metadata": {},
   "outputs": [
    {
     "name": "stdout",
     "output_type": "stream",
     "text": [
      "L\n",
      "nda\n",
      "['Clampazzo', 'Francis', 'clamps@futurama.org']\n"
     ]
    }
   ],
   "source": [
    "print(fn[0])\n",
    "print(fn[2:])\n",
    "print(mylist[2])"
   ]
  },
  {
   "cell_type": "markdown",
   "id": "86d9127e",
   "metadata": {},
   "source": [
    "### String format statements\n",
    "\n",
    "“Format specifications” are used within replacement fields contained within a format string \"f-string\" to define how individual values are presented. They can also be passed directly to the built-in `format()` function. Each formattable type may define how the format specification is to be interpreted.\n",
    "\n",
    "Most built-in types implement the following options for format specifications, although some of the formatting options are only supported by the numeric types.\n",
    "\n",
    "A general convention is that an empty format string (`''`) produces the same result as if you had called `str()` on the value. A non-empty format string typically modifies the result.\n",
    "\n",
    "**The general form of a standard format specifier is:**\n",
    "\n",
    "* format_spec :   `[[fill]align][sign][#][0][width][,][.precision][type]`\n",
    "\n",
    "* fill        :   `<any character> `\n",
    "\n",
    "* align       :   `'<'.  '>'.  '='.  '^'`\n",
    "\n",
    "* sign        :   `'+', '-', ' '` \n",
    "\n",
    "* width       :   `integer`\n",
    "\n",
    "* precision   :   `integer`\n",
    "\n",
    "* type        :  `'b', 'c', 'd', 'e', 'E', 'f', 'F', 'g', 'G', 'n', 'o', 's', 'x', 'X', ,'%'`\n",
    "\n",
    "If a valid *align* value is specified, it can be preceded by a *fill* character that can be any character and defaults to a space if omitted. Note that it is not possible to use { and } as *fill* `char` while using the `str.format()` and \"f-string\" methods; this limitation however doesn’t affect the `format()` function.\n",
    "\n",
    "**The meaning of the various alignment options is as follows:**\n",
    "\n",
    "**Option**\n",
    "\n",
    "* `'<'`\t: Forces the field to be left-aligned within the available space (this is the default for most objects).\n",
    "* `'>'`\t: Forces the field to be right-aligned within the available space (this is the default for numbers).\n",
    "* `'='`\t: Forces the padding to be placed after the sign (if any) but before the digits. This is used for printing fields in the form ‘+000000120’. : This alignment option is only valid for numeric types.\n",
    "* `'^'`\t: Forces the field to be centered within the available space.\n",
    "\n",
    "Note that unless a minimum field width is defined, the field width will always be the same size as the data to fill it, so that the alignment option has no meaning in this case.\n",
    "\n",
    "The sign option is only valid for number types, and can be one of the following:\n",
    "\n",
    "**Option**\n",
    "\n",
    "* `'+'`\t: indicates that a sign should be used for both positive as well as negative numbers.\n",
    "* `'-'`\t: indicates that a sign should be used only for negative numbers (this is the default behavior).\n",
    "* `space`\t: indicates that a leading space should be used on positive numbers, and a minus sign on negative numbers.\n",
    "\n",
    "The `','` option signals the use of a comma for a thousands separator.\n"
   ]
  },
  {
   "cell_type": "markdown",
   "id": "d65d78e4",
   "metadata": {},
   "source": [
    "#### Let's look at the `str.format()` method first\n",
    "\n",
    "A great explanation with examples for the `str.format()` and older formatting methods can be found at [pyformat](https://pyformat.info/)\n",
    "\n",
    "Accessing arguments by position:"
   ]
  },
  {
   "cell_type": "code",
   "execution_count": 14,
   "id": "86de60d5",
   "metadata": {},
   "outputs": [
    {
     "name": "stdout",
     "output_type": "stream",
     "text": [
      "a, b, c\n",
      "a, b, c\n",
      "c, b, a\n",
      "c, b, a\n",
      "abracadabra\n"
     ]
    }
   ],
   "source": [
    "print('{0}, {1}, {2}'.format('a', 'b', 'c'))\n",
    "print('{}, {}, {}'.format('a', 'b', 'c'))  # 2.7+ only\n",
    "print('{2}, {1}, {0}'.format('a', 'b', 'c'))\n",
    "print('{2}, {1}, {0}'.format(*'abc'))      # unpacking argument sequence\n",
    "print('{0}{1}{0}'.format('abra', 'cad')) "
   ]
  },
  {
   "cell_type": "markdown",
   "id": "731fd0a1",
   "metadata": {},
   "source": [
    "Accessing arguments by name:"
   ]
  },
  {
   "cell_type": "code",
   "execution_count": 15,
   "id": "efb539fc",
   "metadata": {},
   "outputs": [
    {
     "name": "stdout",
     "output_type": "stream",
     "text": [
      "Coordinates: 37.24N, -115.81W\n",
      "Coordinates: 37.24N, -115.81W\n"
     ]
    }
   ],
   "source": [
    "print('Coordinates: {latitude}, {longitude}'.format(latitude='37.24N', longitude='-115.81W'))\n",
    "coord = {'latitude': '37.24N', 'longitude': '-115.81W'}\n",
    "print('Coordinates: {latitude}, {longitude}'.format(**coord))"
   ]
  },
  {
   "cell_type": "code",
   "execution_count": 16,
   "id": "c5833d09",
   "metadata": {},
   "outputs": [
    {
     "name": "stdout",
     "output_type": "stream",
     "text": [
      "X: 3;  Y: 5\n"
     ]
    }
   ],
   "source": [
    "coord = (3, 5)\n",
    "print('X: {0[0]};  Y: {0[1]}'.format(coord))"
   ]
  },
  {
   "cell_type": "markdown",
   "id": "0206d674",
   "metadata": {},
   "source": [
    "#### f-strings: a better solution in most cases\n",
    "\n",
    "f-strings are a relatively new, but powerful feature for string formatting. \n",
    "\n",
    "Construction of an f string is similar to the `str.format`, however we no longer need to add a `.format()` call to the end of the string. \n",
    "\n",
    "The call signiture for f-strings is:\n",
    "\n",
    "```python\n",
    "f\"{some_variable}\"\n",
    "```"
   ]
  },
  {
   "cell_type": "code",
   "execution_count": 17,
   "id": "1050362d",
   "metadata": {},
   "outputs": [],
   "source": [
    "abc = \"abc\"\n",
    "a, b, c = \"abc\""
   ]
  },
  {
   "cell_type": "code",
   "execution_count": 18,
   "id": "fb8541ba",
   "metadata": {},
   "outputs": [
    {
     "name": "stdout",
     "output_type": "stream",
     "text": [
      "a, b, c\n",
      "c, a, b\n",
      "a, b, c\n"
     ]
    }
   ],
   "source": [
    "print(f\"{a}, {b}, {c}\")\n",
    "print(f\"{c}, {a}, {b}\")\n",
    "print(f\"{abc[0]}, {abc[1]}, {abc[2]}\")"
   ]
  },
  {
   "cell_type": "markdown",
   "id": "188f124e",
   "metadata": {},
   "source": [
    "Aligning text and specifying a width"
   ]
  },
  {
   "cell_type": "code",
   "execution_count": 19,
   "id": "9f3f4f1a",
   "metadata": {},
   "outputs": [
    {
     "name": "stdout",
     "output_type": "stream",
     "text": [
      "left aligned                  \n",
      "                 right aligned\n",
      "           centered           \n",
      "***********centered***********\n"
     ]
    }
   ],
   "source": [
    "print(f\"{'left aligned' :<30}\")\n",
    "print(f\"{'right aligned' :>30}\")\n",
    "print(f\"{'centered' :^30}\")\n",
    "print(f\"{'centered' :*^30}\") # use '*' as a fill character"
   ]
  },
  {
   "cell_type": "markdown",
   "id": "cf47fc55",
   "metadata": {},
   "source": [
    "Replacing %+f, %-f, and % f and specifying a sign:"
   ]
  },
  {
   "cell_type": "code",
   "execution_count": 20,
   "id": "95ce430a",
   "metadata": {},
   "outputs": [
    {
     "name": "stdout",
     "output_type": "stream",
     "text": [
      "+3.140000; -3.140000\n",
      " 3.140000; -3.140000\n",
      " 3.140000; -3.140000\n"
     ]
    }
   ],
   "source": [
    "print(f'{3.14 :+f}; {-3.14 :+f}')  # show it always\n",
    "print(f'{3.14 : f}; {-3.14 : f}')  # show a space for positive numbers\n",
    "print(f' {3.14 :-f}; {-3.14 :-f}')"
   ]
  },
  {
   "cell_type": "markdown",
   "id": "002b6440",
   "metadata": {},
   "source": [
    "Using the comma as a thousands separator:"
   ]
  },
  {
   "cell_type": "code",
   "execution_count": 21,
   "id": "70a7522e",
   "metadata": {},
   "outputs": [
    {
     "name": "stdout",
     "output_type": "stream",
     "text": [
      "1,234,567,890\n"
     ]
    }
   ],
   "source": [
    "print(f'{1234567890 :,}')"
   ]
  },
  {
   "cell_type": "markdown",
   "id": "44cf05b2",
   "metadata": {},
   "source": [
    "Expressing a percentage:"
   ]
  },
  {
   "cell_type": "code",
   "execution_count": 22,
   "id": "b18326f0",
   "metadata": {},
   "outputs": [
    {
     "name": "stdout",
     "output_type": "stream",
     "text": [
      "Correct answers: 88.64%\n"
     ]
    }
   ],
   "source": [
    "points = 19.5\n",
    "total = 22\n",
    "print(f'Correct answers: {points/total :.2%}')"
   ]
  },
  {
   "cell_type": "markdown",
   "id": "0efe783e",
   "metadata": {},
   "source": [
    "Self describing formatting:"
   ]
  },
  {
   "cell_type": "code",
   "execution_count": 23,
   "id": "8d21bec8",
   "metadata": {},
   "outputs": [
    {
     "name": "stdout",
     "output_type": "stream",
     "text": [
      "correct_answers= 88.64%\n"
     ]
    }
   ],
   "source": [
    "correct_answers = points/total\n",
    "print(f\"{correct_answers= :.2%}\")"
   ]
  },
  {
   "cell_type": "markdown",
   "id": "267bc0ce",
   "metadata": {},
   "source": [
    "Using type-specific formatting:"
   ]
  },
  {
   "cell_type": "code",
   "execution_count": 24,
   "id": "4d2767c2",
   "metadata": {},
   "outputs": [
    {
     "name": "stdout",
     "output_type": "stream",
     "text": [
      "2010-07-04 12:15:58\n"
     ]
    }
   ],
   "source": [
    "import datetime\n",
    "dt = datetime.datetime(2010, 7, 4, 12, 15, 58)\n",
    "print(f'{dt :%Y-%m-%d %H:%M:%S}')"
   ]
  },
  {
   "cell_type": "markdown",
   "id": "9ec5de37",
   "metadata": {},
   "source": [
    "More string formatting examples can be found in the [python documentation](https://docs.python.org/3/tutorial/inputoutput.html#fancier-output-formatting)"
   ]
  },
  {
   "cell_type": "markdown",
   "id": "13d9f940",
   "metadata": {},
   "source": [
    "## Class Activity 3\n",
    "Use the empty code blocks below to write the following:\n",
    "\n",
    "1. print `'MODFLOW', 1., 1999'`. Enter them in this order in the `str.format` method but print them in reverse order.\n",
    "2. print `'MODFLOW', 'SUTRA'` left and right justified in 25 character strings using the `f-string` method.\n",
    "3. create a variable called modflow and one called sutra and print them in a self describing string."
   ]
  },
  {
   "cell_type": "code",
   "execution_count": 25,
   "id": "b915ab66",
   "metadata": {},
   "outputs": [
    {
     "name": "stdout",
     "output_type": "stream",
     "text": [
      "1999, 1, MODFLOW\n",
      "MODFLOW                  ,                     SUTRA\n",
      "modflow='MODFLOW', sutra='SUTRA'\n"
     ]
    }
   ],
   "source": [
    "print(\"{2}, {1}, {0}\".format(\"MODFLOW\", 1, 1999))\n",
    "print(f\"{'MODFLOW' :<25}, {'SUTRA' :>25}\")\n",
    "\n",
    "modflow = \"MODFLOW\"\n",
    "sutra = \"SUTRA\"\n",
    "print(f\"{modflow=}, {sutra=}\")"
   ]
  },
  {
   "cell_type": "code",
   "execution_count": null,
   "id": "b2e3d509",
   "metadata": {},
   "outputs": [],
   "source": []
  },
  {
   "cell_type": "markdown",
   "id": "bea10ae3",
   "metadata": {},
   "source": [
    "### Reading and interpreting fixed format data from a string\n",
    "The following example shows how python can be used to parse a fixed format string with touching numbers. This can be difficult to do in other programming languages."
   ]
  },
  {
   "cell_type": "code",
   "execution_count": 26,
   "id": "8bda24d9",
   "metadata": {},
   "outputs": [
    {
     "name": "stdout",
     "output_type": "stream",
     "text": [
      "[1.11, 2.22, 3.33, 4.44, 5.55, 6.66, 7.77, 8.88, 9.99, 10.1, 11.11, 12.12, 13.13, 14.14, 15.15, 16.16, 17.17, 18.18, 19.19, 20.2]\n"
     ]
    }
   ],
   "source": [
    "d = '01.1102.2203.3304.4405.5506.6607.7708.8809.9910.1011.1112.1213.1314.1415.1516.1617.1718.1819.1920.20'\n",
    "rawdata = []\n",
    "width = 5\n",
    "istart, istop = 0, width\n",
    "for idx in range(0, len(d), width):\n",
    "    rawdata.append(d[istart:istop])\n",
    "    istart = istop\n",
    "    istop += width\n",
    "\n",
    "fd = [float(dat) for dat in rawdata]\n",
    "print(fd)"
   ]
  },
  {
   "cell_type": "markdown",
   "id": "e64ab02e",
   "metadata": {},
   "source": [
    "### Reading the whole file at once\n",
    "\n",
    "Another way of working with text files is to read the complete contents of the file into a string, and then to use our string-processing skills to work with the contents.\n",
    "\n",
    "We’d normally use this method of processing files if we were not interested in the line structure of the file. Prior to the `split()`, we replace all commas (`','`) in the line with no space (`''`) and double spaces (`'  '`) with a single space (`' '`). And finally, we replace the line termination string (`'\\n'`) with a comma and a space (`', '`). So here is how we might count the number of words in a file:"
   ]
  },
  {
   "cell_type": "code",
   "execution_count": 27,
   "id": "62039b75",
   "metadata": {},
   "outputs": [
    {
     "name": "stdout",
     "output_type": "stream",
     "text": [
      "There are 51 words in the file.\n",
      "Annihilator Morbo morbo@futurama.org, Brannigan Zapp brannigan@futurama.org, Clampazzo Francis X. clamps@futurama.org, Conrad Hermes hermes@futurama.org, Farnsworth Hubert J. professor@futurama.org, Fry Philip J. fry@futurama.org, Kroker Kif kif@futurama.org, Mousepad Joey mousepad@futurama.org, Nibbler Lord nibbler@fututama.org, Rodriguez Bender Bending bender@futurama.org, Turanga Leela leela@futurama.org, Wernstrom Ogden wernstrom@futurama.org, Wong Amy amy@futurama.org, Zoidberg John A. zoidberg@futurama.org, van Schoonhoven Linda vanschoonhoven@futurama.org, \n"
     ]
    }
   ],
   "source": [
    "with open(gname) as f:\n",
    "    content = f.read()\n",
    "\n",
    "\n",
    "# remove commas and double spaces from line\n",
    "content = content.replace(',','')\n",
    "content = content.replace('  ',' ')\n",
    "# replace line ending with \", \"\n",
    "content = content.replace('\\n',', ')\n",
    "\n",
    "words = content.split()\n",
    "print(f'There are {len(words)} words in the file.')\n",
    "\n",
    "print(f'{content}')"
   ]
  },
  {
   "cell_type": "markdown",
   "id": "939346ef",
   "metadata": {},
   "source": [
    "Notice here that we left out the `'r'` mode in the `open()` statement. By default, if we don’t supply the mode, Python opens the file for reading."
   ]
  },
  {
   "cell_type": "markdown",
   "id": "a3228a7c",
   "metadata": {},
   "source": [
    "### An example\n",
    "\n",
    "Many useful line-processing programs will read a text file line-at-a-time and do some minor processing as they write the lines to an output file. They might number the lines in the output file, or insert extra blank lines after every 60 lines to make it convenient for printing on sheets of paper, or extract some specific columns only from each line in the source file, or only print lines that contain a specific substring. We call this kind of program a filter.\n",
    "\n",
    "Here is a filter that copies one file to another, omitting any lines that begin with #:"
   ]
  },
  {
   "cell_type": "code",
   "execution_count": 28,
   "id": "3177bc27",
   "metadata": {},
   "outputs": [],
   "source": [
    "def file_filter(oldfile, newfile):\n",
    "    with open(oldfile) as infile:\n",
    "        with open(newfile, \"w\") as outfile:\n",
    "            for line in infile:\n",
    "                if line.startswith(\"#\"):\n",
    "                    continue\n",
    "                    \n",
    "                # put additional processing logic here\n",
    "                outfile.write(line)"
   ]
  },
  {
   "cell_type": "markdown",
   "id": "221cedf6",
   "metadata": {},
   "source": [
    "The `continue` statement skips over the remaining lines in the current iteration of the loop, but the loop will still iterate. This style looks a bit contrived here, but it is often useful to say *“get the lines we’re not concerned with out of the way early, so that we have cleaner more focused logic in the meaty part of the loop that might be written around line 9.”*\n",
    "\n",
    "If the first character of `text` is a hash mark, the flow of execution goes to the top of the loop, ready to start processing the next line. If the `text` does not start with \"#\", the code falls through to do the processing at line 9, in this example, writing the line into the new file.\n",
    "\n",
    "Let’s consider one more case: suppose our original file contained empty lines. At the  `if len(text) == 0` line, would this program do anything with the emtpy line? Yes! Recall that a blank line always includes the newline character in the string it returns. "
   ]
  },
  {
   "cell_type": "markdown",
   "id": "39ac5185",
   "metadata": {},
   "source": [
    "### Class Activity 4\n",
    "Let's use the `file_filter` function to remove the comment lines from `'FileWithComments.txt'` and create `'FileWithOutComments.txt'`. Use one of the approaches discussed above to open, read, and print data in both files after calling the `file_filter` function. Use the Remember to use `os.path.join` to access the file in the `pthnb` directory. \n",
    "\n",
    "Use the blank code block below to complete this activity."
   ]
  },
  {
   "cell_type": "code",
   "execution_count": 29,
   "id": "c2beb56c",
   "metadata": {},
   "outputs": [],
   "source": [
    "infile = os.path.join(pthnb, \"FileWithComments.txt\")\n",
    "outfile = os.path.join(pthnb, \"FileWithOutComments.txt\")\n",
    "\n",
    "file_filter(infile, outfile)"
   ]
  },
  {
   "cell_type": "markdown",
   "id": "698fe2db",
   "metadata": {},
   "source": [
    "### Retrieving data from the web\n",
    "\n",
    "You can access the web to copy content from a web URL file into memory or to a local file.\n",
    "\n",
    "We will use hydrofunctions, which is a simple wrapper around the USGS Water Information System JSON API. We will be using pandas since it provides an easy way to plot the data with matplotlib. We will learn more about these two python libraries in subsequent exercises."
   ]
  },
  {
   "cell_type": "markdown",
   "id": "e3fa4e68",
   "metadata": {},
   "source": [
    "Say we're interested in the Wisconsin River downstream of Muscoda ([05407000](https://waterdata.usgs.gov/usa/nwis/uv?05407000)), because we'd to find the best time of year to plan a day of canoeing. We can pull discharge data for the Wisconsin River at Muscoda, WI gage directly from NWIS.\n",
    "\n",
    "Let's look at where the gage is first, then we'll grab the data"
   ]
  },
  {
   "cell_type": "code",
   "execution_count": 30,
   "id": "24c3f9a1",
   "metadata": {},
   "outputs": [
    {
     "data": {
      "text/html": [
       "<div style=\"width:100%;\"><div style=\"position:relative;width:100%;height:0;padding-bottom:60%;\"><span style=\"color:#565656\">Make this Notebook Trusted to load map: File -> Trust Notebook</span><iframe srcdoc=\"&lt;!DOCTYPE html&gt;\n",
       "&lt;head&gt;    \n",
       "    &lt;meta http-equiv=&quot;content-type&quot; content=&quot;text/html; charset=UTF-8&quot; /&gt;\n",
       "    \n",
       "        &lt;script&gt;\n",
       "            L_NO_TOUCH = false;\n",
       "            L_DISABLE_3D = false;\n",
       "        &lt;/script&gt;\n",
       "    \n",
       "    &lt;style&gt;html, body {width: 100%;height: 100%;margin: 0;padding: 0;}&lt;/style&gt;\n",
       "    &lt;style&gt;#map {position:absolute;top:0;bottom:0;right:0;left:0;}&lt;/style&gt;\n",
       "    &lt;script src=&quot;https://cdn.jsdelivr.net/npm/leaflet@1.6.0/dist/leaflet.js&quot;&gt;&lt;/script&gt;\n",
       "    &lt;script src=&quot;https://code.jquery.com/jquery-1.12.4.min.js&quot;&gt;&lt;/script&gt;\n",
       "    &lt;script src=&quot;https://maxcdn.bootstrapcdn.com/bootstrap/3.2.0/js/bootstrap.min.js&quot;&gt;&lt;/script&gt;\n",
       "    &lt;script src=&quot;https://cdnjs.cloudflare.com/ajax/libs/Leaflet.awesome-markers/2.0.2/leaflet.awesome-markers.js&quot;&gt;&lt;/script&gt;\n",
       "    &lt;link rel=&quot;stylesheet&quot; href=&quot;https://cdn.jsdelivr.net/npm/leaflet@1.6.0/dist/leaflet.css&quot;/&gt;\n",
       "    &lt;link rel=&quot;stylesheet&quot; href=&quot;https://maxcdn.bootstrapcdn.com/bootstrap/3.2.0/css/bootstrap.min.css&quot;/&gt;\n",
       "    &lt;link rel=&quot;stylesheet&quot; href=&quot;https://maxcdn.bootstrapcdn.com/bootstrap/3.2.0/css/bootstrap-theme.min.css&quot;/&gt;\n",
       "    &lt;link rel=&quot;stylesheet&quot; href=&quot;https://maxcdn.bootstrapcdn.com/font-awesome/4.6.3/css/font-awesome.min.css&quot;/&gt;\n",
       "    &lt;link rel=&quot;stylesheet&quot; href=&quot;https://cdnjs.cloudflare.com/ajax/libs/Leaflet.awesome-markers/2.0.2/leaflet.awesome-markers.css&quot;/&gt;\n",
       "    &lt;link rel=&quot;stylesheet&quot; href=&quot;https://cdn.jsdelivr.net/gh/python-visualization/folium/folium/templates/leaflet.awesome.rotate.min.css&quot;/&gt;\n",
       "    \n",
       "            &lt;meta name=&quot;viewport&quot; content=&quot;width=device-width,\n",
       "                initial-scale=1.0, maximum-scale=1.0, user-scalable=no&quot; /&gt;\n",
       "            &lt;style&gt;\n",
       "                #map_250bc79119c7b8b23f431f11d5795bf9 {\n",
       "                    position: relative;\n",
       "                    width: 100.0%;\n",
       "                    height: 100.0%;\n",
       "                    left: 0.0%;\n",
       "                    top: 0.0%;\n",
       "                }\n",
       "            &lt;/style&gt;\n",
       "        \n",
       "&lt;/head&gt;\n",
       "&lt;body&gt;    \n",
       "    \n",
       "            &lt;div class=&quot;folium-map&quot; id=&quot;map_250bc79119c7b8b23f431f11d5795bf9&quot; &gt;&lt;/div&gt;\n",
       "        \n",
       "&lt;/body&gt;\n",
       "&lt;script&gt;    \n",
       "    \n",
       "            var map_250bc79119c7b8b23f431f11d5795bf9 = L.map(\n",
       "                &quot;map_250bc79119c7b8b23f431f11d5795bf9&quot;,\n",
       "                {\n",
       "                    center: [43.175, -90.45500000000001],\n",
       "                    crs: L.CRS.EPSG3857,\n",
       "                    zoom: 10,\n",
       "                    zoomControl: true,\n",
       "                    preferCanvas: false,\n",
       "                }\n",
       "            );\n",
       "\n",
       "            \n",
       "\n",
       "        \n",
       "    \n",
       "            var tile_layer_ba5a7bb0c683657fb00ceaadc0b7916a = L.tileLayer(\n",
       "                &quot;https://stamen-tiles-{s}.a.ssl.fastly.net/terrain/{z}/{x}/{y}.jpg&quot;,\n",
       "                {&quot;attribution&quot;: &quot;Map tiles by \\u003ca href=\\&quot;http://stamen.com\\&quot;\\u003eStamen Design\\u003c/a\\u003e, under \\u003ca href=\\&quot;http://creativecommons.org/licenses/by/3.0\\&quot;\\u003eCC BY 3.0\\u003c/a\\u003e. Data by \\u0026copy; \\u003ca href=\\&quot;http://openstreetmap.org\\&quot;\\u003eOpenStreetMap\\u003c/a\\u003e, under \\u003ca href=\\&quot;http://creativecommons.org/licenses/by-sa/3.0\\&quot;\\u003eCC BY SA\\u003c/a\\u003e.&quot;, &quot;detectRetina&quot;: false, &quot;maxNativeZoom&quot;: 18, &quot;maxZoom&quot;: 18, &quot;minZoom&quot;: 0, &quot;noWrap&quot;: false, &quot;opacity&quot;: 1, &quot;subdomains&quot;: &quot;abc&quot;, &quot;tms&quot;: false}\n",
       "            ).addTo(map_250bc79119c7b8b23f431f11d5795bf9);\n",
       "        \n",
       "    \n",
       "            var marker_e289196d50b324cb5ff24224d2d81633 = L.marker(\n",
       "                [43.19805556, -90.4433333],\n",
       "                {}\n",
       "            ).addTo(map_250bc79119c7b8b23f431f11d5795bf9);\n",
       "        \n",
       "    \n",
       "            var icon_cffa553107b38438c121376e2b3e2b03 = L.AwesomeMarkers.icon(\n",
       "                {&quot;extraClasses&quot;: &quot;fa-rotate-0&quot;, &quot;icon&quot;: &quot;info-sign&quot;, &quot;iconColor&quot;: &quot;white&quot;, &quot;markerColor&quot;: &quot;blue&quot;, &quot;prefix&quot;: &quot;glyphicon&quot;}\n",
       "            );\n",
       "            marker_e289196d50b324cb5ff24224d2d81633.setIcon(icon_cffa553107b38438c121376e2b3e2b03);\n",
       "        \n",
       "    \n",
       "        var popup_e324e191a7cef7d34e30b3c6bd033fc4 = L.popup({&quot;maxWidth&quot;: 250});\n",
       "\n",
       "        \n",
       "            var html_83e5f3f5972792e51a619289220e4e66 = $(`&lt;div id=&quot;html_83e5f3f5972792e51a619289220e4e66&quot; style=&quot;width: 100.0%; height: 100.0%;&quot;&gt;&lt;strong&gt;Site No.&lt;/strong&gt;: 05407000&lt;br&gt;&lt;strong&gt;Station Name&lt;/strong&gt;: Wisconsin River At Muscoda, WI&lt;br&gt;&lt;strong&gt;Coordinate&lt;/strong&gt;: (-90.4433333, 43.19805556)&lt;br&gt;&lt;strong&gt;Altitude&lt;/strong&gt;: 666.55 ft above NAVD88&lt;br&gt;&lt;strong&gt;HUC8&lt;/strong&gt;: 07070005&lt;br&gt;&lt;strong&gt;Drainage Area (NWIS)&lt;/strong&gt;: 10400.0 sqmi&lt;br&gt;&lt;strong&gt;Contributing Drainage Area (NWIS)&lt;/strong&gt;: N/A&lt;br&gt;&lt;strong&gt;Drainage Area (GagesII)&lt;/strong&gt;: 27400.94 sqkm&lt;br&gt;&lt;strong&gt;HCDN 2009&lt;/strong&gt;: False&lt;br&gt;&lt;a href=&quot;https://waterdata.usgs.gov/nwis/inventory?agency_code=USGS&amp;site_no=05407000&quot; target=&quot;_blank&quot;&gt;More on USGS Website&lt;/div&gt;`)[0];\n",
       "            popup_e324e191a7cef7d34e30b3c6bd033fc4.setContent(html_83e5f3f5972792e51a619289220e4e66);\n",
       "        \n",
       "\n",
       "        marker_e289196d50b324cb5ff24224d2d81633.bindPopup(popup_e324e191a7cef7d34e30b3c6bd033fc4)\n",
       "        ;\n",
       "\n",
       "        \n",
       "    \n",
       "    \n",
       "            var marker_fc977cdf0e9a7d30883f08e735206c33 = L.marker(\n",
       "                [43.18554235, -90.4420696],\n",
       "                {}\n",
       "            ).addTo(map_250bc79119c7b8b23f431f11d5795bf9);\n",
       "        \n",
       "    \n",
       "            var icon_7b3a5ca0a2313bb6598a257898d262dc = L.AwesomeMarkers.icon(\n",
       "                {&quot;extraClasses&quot;: &quot;fa-rotate-0&quot;, &quot;icon&quot;: &quot;info-sign&quot;, &quot;iconColor&quot;: &quot;white&quot;, &quot;markerColor&quot;: &quot;blue&quot;, &quot;prefix&quot;: &quot;glyphicon&quot;}\n",
       "            );\n",
       "            marker_fc977cdf0e9a7d30883f08e735206c33.setIcon(icon_7b3a5ca0a2313bb6598a257898d262dc);\n",
       "        \n",
       "    \n",
       "        var popup_f6b1541678ed99f52bac6c51d1631edf = L.popup({&quot;maxWidth&quot;: 250});\n",
       "\n",
       "        \n",
       "            var html_0e1e7cd486ae7043cd55c5e4d6916cd6 = $(`&lt;div id=&quot;html_0e1e7cd486ae7043cd55c5e4d6916cd6&quot; style=&quot;width: 100.0%; height: 100.0%;&quot;&gt;&lt;strong&gt;Site No.&lt;/strong&gt;: 431108090263101&lt;br&gt;&lt;strong&gt;Station Name&lt;/strong&gt;: Gr-08/01W/12-0020&lt;br&gt;&lt;strong&gt;Coordinate&lt;/strong&gt;: (-90.4420696, 43.18554235)&lt;br&gt;&lt;strong&gt;Altitude&lt;/strong&gt;: 693.0 ft above NGVD29&lt;br&gt;&lt;strong&gt;HUC8&lt;/strong&gt;: 07070005&lt;br&gt;&lt;strong&gt;Drainage Area (NWIS)&lt;/strong&gt;: N/A&lt;br&gt;&lt;strong&gt;Contributing Drainage Area (NWIS)&lt;/strong&gt;: N/A&lt;br&gt;&lt;strong&gt;Drainage Area (GagesII)&lt;/strong&gt;: N/A&lt;br&gt;&lt;strong&gt;HCDN 2009&lt;/strong&gt;: False&lt;br&gt;&lt;a href=&quot;https://waterdata.usgs.gov/nwis/inventory?agency_code=USGS&amp;site_no=431108090263101&quot; target=&quot;_blank&quot;&gt;More on USGS Website&lt;/div&gt;`)[0];\n",
       "            popup_f6b1541678ed99f52bac6c51d1631edf.setContent(html_0e1e7cd486ae7043cd55c5e4d6916cd6);\n",
       "        \n",
       "\n",
       "        marker_fc977cdf0e9a7d30883f08e735206c33.bindPopup(popup_f6b1541678ed99f52bac6c51d1631edf)\n",
       "        ;\n",
       "\n",
       "        \n",
       "    \n",
       "    \n",
       "            var marker_7907fab0246c7b600543c9bf53f929a1 = L.marker(\n",
       "                [43.18554235, -90.4420696],\n",
       "                {}\n",
       "            ).addTo(map_250bc79119c7b8b23f431f11d5795bf9);\n",
       "        \n",
       "    \n",
       "            var icon_1e0aebafec8d1d1f6781c74ddcf29e27 = L.AwesomeMarkers.icon(\n",
       "                {&quot;extraClasses&quot;: &quot;fa-rotate-0&quot;, &quot;icon&quot;: &quot;info-sign&quot;, &quot;iconColor&quot;: &quot;white&quot;, &quot;markerColor&quot;: &quot;blue&quot;, &quot;prefix&quot;: &quot;glyphicon&quot;}\n",
       "            );\n",
       "            marker_7907fab0246c7b600543c9bf53f929a1.setIcon(icon_1e0aebafec8d1d1f6781c74ddcf29e27);\n",
       "        \n",
       "    \n",
       "        var popup_fd7a98df117ac4922679166c298706e9 = L.popup({&quot;maxWidth&quot;: 250});\n",
       "\n",
       "        \n",
       "            var html_4317e03a252cdd7baec2a9ef5fd3fa25 = $(`&lt;div id=&quot;html_4317e03a252cdd7baec2a9ef5fd3fa25&quot; style=&quot;width: 100.0%; height: 100.0%;&quot;&gt;&lt;strong&gt;Site No.&lt;/strong&gt;: 431108090263102&lt;br&gt;&lt;strong&gt;Station Name&lt;/strong&gt;: Gr-08/01W/12-0037&lt;br&gt;&lt;strong&gt;Coordinate&lt;/strong&gt;: (-90.4420696, 43.18554235)&lt;br&gt;&lt;strong&gt;Altitude&lt;/strong&gt;: 693.0 ft above NGVD29&lt;br&gt;&lt;strong&gt;HUC8&lt;/strong&gt;: 07070005&lt;br&gt;&lt;strong&gt;Drainage Area (NWIS)&lt;/strong&gt;: N/A&lt;br&gt;&lt;strong&gt;Contributing Drainage Area (NWIS)&lt;/strong&gt;: N/A&lt;br&gt;&lt;strong&gt;Drainage Area (GagesII)&lt;/strong&gt;: N/A&lt;br&gt;&lt;strong&gt;HCDN 2009&lt;/strong&gt;: False&lt;br&gt;&lt;a href=&quot;https://waterdata.usgs.gov/nwis/inventory?agency_code=USGS&amp;site_no=431108090263102&quot; target=&quot;_blank&quot;&gt;More on USGS Website&lt;/div&gt;`)[0];\n",
       "            popup_fd7a98df117ac4922679166c298706e9.setContent(html_4317e03a252cdd7baec2a9ef5fd3fa25);\n",
       "        \n",
       "\n",
       "        marker_7907fab0246c7b600543c9bf53f929a1.bindPopup(popup_fd7a98df117ac4922679166c298706e9)\n",
       "        ;\n",
       "\n",
       "        \n",
       "    \n",
       "&lt;/script&gt;\" style=\"position:absolute;width:100%;height:100%;left:0;top:0;border:none !important;\" allowfullscreen webkitallowfullscreen mozallowfullscreen></iframe></div></div>"
      ],
      "text/plain": [
       "<folium.folium.Map at 0x23f57061430>"
      ]
     },
     "execution_count": 30,
     "metadata": {},
     "output_type": "execute_result"
    }
   ],
   "source": [
    "bbox = (-90.43, 43.15, -90.48, 43.2)\n",
    "gh.interactive_map(bbox)"
   ]
  },
  {
   "cell_type": "markdown",
   "id": "e16c9f4a",
   "metadata": {},
   "source": [
    "Now let's actually get some data"
   ]
  },
  {
   "cell_type": "code",
   "execution_count": 31,
   "id": "6aa3a7c1",
   "metadata": {},
   "outputs": [
    {
     "data": {
      "text/html": [
       "<div>\n",
       "<style scoped>\n",
       "    .dataframe tbody tr th:only-of-type {\n",
       "        vertical-align: middle;\n",
       "    }\n",
       "\n",
       "    .dataframe tbody tr th {\n",
       "        vertical-align: top;\n",
       "    }\n",
       "\n",
       "    .dataframe thead th {\n",
       "        text-align: right;\n",
       "    }\n",
       "</style>\n",
       "<table border=\"1\" class=\"dataframe\">\n",
       "  <thead>\n",
       "    <tr style=\"text-align: right;\">\n",
       "      <th></th>\n",
       "      <th>agency_cd</th>\n",
       "      <th>site_no</th>\n",
       "      <th>station_nm</th>\n",
       "      <th>site_tp_cd</th>\n",
       "      <th>dec_lat_va</th>\n",
       "      <th>dec_long_va</th>\n",
       "      <th>coord_acy_cd</th>\n",
       "      <th>dec_coord_datum_cd</th>\n",
       "      <th>alt_va</th>\n",
       "      <th>alt_acy_va</th>\n",
       "      <th>alt_datum_cd</th>\n",
       "      <th>huc_cd</th>\n",
       "      <th>drain_sqkm</th>\n",
       "      <th>hcdn_2009</th>\n",
       "      <th>geometry</th>\n",
       "    </tr>\n",
       "  </thead>\n",
       "  <tbody>\n",
       "    <tr>\n",
       "      <th>0</th>\n",
       "      <td>USGS</td>\n",
       "      <td>05407000</td>\n",
       "      <td>Wisconsin River At Muscoda, WI</td>\n",
       "      <td>ST</td>\n",
       "      <td>43.198056</td>\n",
       "      <td>-90.443333</td>\n",
       "      <td>S</td>\n",
       "      <td>NAD83</td>\n",
       "      <td>666.55</td>\n",
       "      <td>0.01</td>\n",
       "      <td>NAVD88</td>\n",
       "      <td>07070005</td>\n",
       "      <td>27400.94</td>\n",
       "      <td>False</td>\n",
       "      <td>POINT (-90.44333 43.19806)</td>\n",
       "    </tr>\n",
       "  </tbody>\n",
       "</table>\n",
       "</div>"
      ],
      "text/plain": [
       "  agency_cd   site_no                      station_nm site_tp_cd  dec_lat_va  \\\n",
       "0      USGS  05407000  Wisconsin River At Muscoda, WI         ST   43.198056   \n",
       "\n",
       "   dec_long_va coord_acy_cd dec_coord_datum_cd  alt_va  alt_acy_va  \\\n",
       "0   -90.443333            S              NAD83  666.55        0.01   \n",
       "\n",
       "  alt_datum_cd    huc_cd  drain_sqkm  hcdn_2009                    geometry  \n",
       "0       NAVD88  07070005    27400.94      False  POINT (-90.44333 43.19806)  "
      ]
     },
     "execution_count": 31,
     "metadata": {},
     "output_type": "execute_result"
    }
   ],
   "source": [
    "site = \"05407000\"\n",
    "dates = (\"2021-09-01\", \"2022-09-22\")\n",
    "nwis = NWIS()\n",
    "query = {\"sites\": site}\n",
    "# get info about the site\n",
    "info_box = nwis.get_info(query)\n",
    "info_box"
   ]
  },
  {
   "cell_type": "code",
   "execution_count": 32,
   "id": "55ce708b",
   "metadata": {},
   "outputs": [
    {
     "name": "stdout",
     "output_type": "stream",
     "text": [
      "                           USGS-05407000\n",
      "dateTime                                \n",
      "2021-09-01 05:00:00+00:00       1.669686\n",
      "2021-09-02 05:00:00+00:00       1.491110\n",
      "2021-09-03 05:00:00+00:00       1.705401\n",
      "2021-09-04 05:00:00+00:00       1.535754\n",
      "2021-09-05 05:00:00+00:00       1.303605\n"
     ]
    },
    {
     "data": {
      "image/png": "[encoded data removed]",
      "text/plain": [
       "Figure(nrows=2, ncols=4, refwidth=6.5, refheight=2.2)"
      ]
     },
     "metadata": {
      "image/png": {
       "height": 523,
       "width": 720
      }
     },
     "output_type": "display_data"
    }
   ],
   "source": [
    "# lets get streamflow data\n",
    "qobs = nwis.get_streamflow([site,], dates, mmd=True)\n",
    "print(qobs.head())\n",
    "gh.plot.signatures(qobs)"
   ]
  },
  {
   "cell_type": "markdown",
   "id": "a9cf0b3f",
   "metadata": {},
   "source": [
    "### Class Activity 5 - *get data for another gage*\n",
    "In the blank code block below retrieve discharge data from the **CLEAR CREEK NEAR LAWSON, CO (USGS 06716500)** gage (or another gage of your choosing) and plot it up."
   ]
  },
  {
   "cell_type": "code",
   "execution_count": 33,
   "id": "faf62f17",
   "metadata": {},
   "outputs": [
    {
     "data": {
      "text/plain": [
       "['USGS-06716500']"
      ]
     },
     "execution_count": 33,
     "metadata": {},
     "output_type": "execute_result"
    }
   ],
   "source": [
    "site = \"06716500\"\n",
    "dates = (\"2021-09-01\", \"2022-09-22\")\n",
    "nwis = NWIS()\n",
    "query = {\"sites\": site}\n",
    "# get info about the site\n",
    "info_box = nwis.get_info(query)\n",
    "qobs = nwis.get_streamflow([site,], dates, mmd=False)\n",
    "qobs.head()\n",
    "list(qobs)"
   ]
  },
  {
   "cell_type": "markdown",
   "id": "ebe348ef",
   "metadata": {},
   "source": [
    "Save the discharge or stage data for the gage you extracted to a csv file. One approach for doing this is:\n",
    "\n",
    "```python\n",
    "fname = os.path.join(pthnb, 'ClearCreekNearLawsonQ.csv')\n",
    "with open(fname, \"w\") as f:\n",
    "    for idx in range(qobs['USGS-06716500'].shape[0]):\n",
    "        f.write(f\"{qobs.index[idx]},{qobs['USGS-06716500'][idx]}\\n\")\n",
    "```"
   ]
  },
  {
   "cell_type": "code",
   "execution_count": 34,
   "id": "aba5e0f5",
   "metadata": {},
   "outputs": [],
   "source": [
    "fname = os.path.join(pthnb, 'ClearCreekNearLawsonQ.csv')\n",
    "with open(fname, \"w\") as f:\n",
    "    for idx in range(qobs['USGS-06716500'].shape[0]):\n",
    "        f.write(f\"{qobs.index[idx]},{qobs['USGS-06716500'][idx]}\\n\")"
   ]
  },
  {
   "cell_type": "markdown",
   "id": "1cb5fdae",
   "metadata": {},
   "source": []
  }
 ],
 "metadata": {
  "kernelspec": {
   "display_name": "Python 3 (ipykernel)",
   "language": "python",
   "name": "python3"
  },
  "language_info": {
   "codemirror_mode": {
    "name": "ipython",
    "version": 3
   },
   "file_extension": ".py",
   "mimetype": "text/x-python",
   "name": "python",
   "nbconvert_exporter": "python",
   "pygments_lexer": "ipython3",
   "version": "3.9.12"
  }
 },
 "nbformat": 4,
 "nbformat_minor": 5
}
