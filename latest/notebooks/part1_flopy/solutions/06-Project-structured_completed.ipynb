{
 "cells": [
  {
   "cell_type": "code",
   "execution_count": 1,
   "id": "fc15635f-e887-417c-a9b6-583f1d0c758e",
   "metadata": {
    "execution": {
     "iopub.execute_input": "2024-02-05T21:29:05.559835Z",
     "iopub.status.busy": "2024-02-05T21:29:05.559428Z",
     "iopub.status.idle": "2024-02-05T21:29:06.246021Z",
     "shell.execute_reply": "2024-02-05T21:29:06.245496Z"
    }
   },
   "outputs": [],
   "source": [
    "import numpy as np\n",
    "import matplotlib.pyplot as plt\n",
    "import geopandas as gpd\n",
    "import shapely\n",
    "import shapefile\n",
    "import flopy\n",
    "from flopy.utils.gridgen import Gridgen\n",
    "from flopy.discretization import StructuredGrid, VertexGrid\n",
    "from flopy.utils.triangle import Triangle as Triangle\n",
    "from flopy.utils.voronoi import VoronoiGrid\n",
    "from flopy.utils.gridintersect import GridIntersect"
   ]
  },
  {
   "cell_type": "code",
   "execution_count": 2,
   "id": "f55b0c73-ec82-4654-ac95-d840845c6a80",
   "metadata": {
    "execution": {
     "iopub.execute_input": "2024-02-05T21:29:06.248487Z",
     "iopub.status.busy": "2024-02-05T21:29:06.247976Z",
     "iopub.status.idle": "2024-02-05T21:29:06.250590Z",
     "shell.execute_reply": "2024-02-05T21:29:06.250199Z"
    }
   },
   "outputs": [],
   "source": [
    "model_ws = \"../temp/structured/\""
   ]
  },
  {
   "cell_type": "markdown",
   "id": "ff71738e-4c13-40f1-88e2-ac42cf408c5a",
   "metadata": {},
   "source": [
    "Load a few raster files"
   ]
  },
  {
   "cell_type": "code",
   "execution_count": 3,
   "id": "c1f45d54-e585-4b6f-aa44-8db54d57b68c",
   "metadata": {
    "execution": {
     "iopub.execute_input": "2024-02-05T21:29:06.252332Z",
     "iopub.status.busy": "2024-02-05T21:29:06.252172Z",
     "iopub.status.idle": "2024-02-05T21:29:06.629885Z",
     "shell.execute_reply": "2024-02-05T21:29:06.629285Z"
    }
   },
   "outputs": [
    {
     "ename": "RasterioIOError",
     "evalue": "../data_project/aquifer_bottom.asc: No such file or directory",
     "output_type": "error",
     "traceback": [
      "\u001b[0;31m---------------------------------------------------------------------------\u001b[0m",
      "\u001b[0;31mCPLE_OpenFailedError\u001b[0m                      Traceback (most recent call last)",
      "File \u001b[0;32mrasterio/_base.pyx:310\u001b[0m, in \u001b[0;36mrasterio._base.DatasetBase.__init__\u001b[0;34m()\u001b[0m\n",
      "File \u001b[0;32mrasterio/_base.pyx:221\u001b[0m, in \u001b[0;36mrasterio._base.open_dataset\u001b[0;34m()\u001b[0m\n",
      "File \u001b[0;32mrasterio/_err.pyx:221\u001b[0m, in \u001b[0;36mrasterio._err.exc_wrap_pointer\u001b[0;34m()\u001b[0m\n",
      "\u001b[0;31mCPLE_OpenFailedError\u001b[0m: ../data_project/aquifer_bottom.asc: No such file or directory",
      "\nDuring handling of the above exception, another exception occurred:\n",
      "\u001b[0;31mRasterioIOError\u001b[0m                           Traceback (most recent call last)",
      "Cell \u001b[0;32mIn[3], line 1\u001b[0m\n\u001b[0;32m----> 1\u001b[0m bottom \u001b[38;5;241m=\u001b[39m \u001b[43mflopy\u001b[49m\u001b[38;5;241;43m.\u001b[39;49m\u001b[43mutils\u001b[49m\u001b[38;5;241;43m.\u001b[39;49m\u001b[43mRaster\u001b[49m\u001b[38;5;241;43m.\u001b[39;49m\u001b[43mload\u001b[49m\u001b[43m(\u001b[49m\u001b[38;5;124;43m\"\u001b[39;49m\u001b[38;5;124;43m../data_project/aquifer_bottom.asc\u001b[39;49m\u001b[38;5;124;43m\"\u001b[39;49m\u001b[43m)\u001b[49m\n\u001b[1;32m      2\u001b[0m top \u001b[38;5;241m=\u001b[39m flopy\u001b[38;5;241m.\u001b[39mutils\u001b[38;5;241m.\u001b[39mRaster\u001b[38;5;241m.\u001b[39mload(\u001b[38;5;124m\"\u001b[39m\u001b[38;5;124m../data_project/aquifer_top.asc\u001b[39m\u001b[38;5;124m\"\u001b[39m)\n\u001b[1;32m      3\u001b[0m kaq \u001b[38;5;241m=\u001b[39m flopy\u001b[38;5;241m.\u001b[39mutils\u001b[38;5;241m.\u001b[39mRaster\u001b[38;5;241m.\u001b[39mload(\u001b[38;5;124m\"\u001b[39m\u001b[38;5;124m../data_project/aquifer_k.asc\u001b[39m\u001b[38;5;124m\"\u001b[39m)\n",
      "File \u001b[0;32m~/micromamba/envs/pyclass-docs/lib/python3.11/site-packages/flopy/utils/rasters.py:759\u001b[0m, in \u001b[0;36mRaster.load\u001b[0;34m(raster)\u001b[0m\n\u001b[1;32m    743\u001b[0m \u001b[38;5;250m\u001b[39m\u001b[38;5;124;03m\"\"\"\u001b[39;00m\n\u001b[1;32m    744\u001b[0m \u001b[38;5;124;03mStatic method to load a raster file\u001b[39;00m\n\u001b[1;32m    745\u001b[0m \u001b[38;5;124;03minto the raster object\u001b[39;00m\n\u001b[0;32m   (...)\u001b[0m\n\u001b[1;32m    755\u001b[0m \n\u001b[1;32m    756\u001b[0m \u001b[38;5;124;03m\"\"\"\u001b[39;00m\n\u001b[1;32m    757\u001b[0m rasterio \u001b[38;5;241m=\u001b[39m import_optional_dependency(\u001b[38;5;124m\"\u001b[39m\u001b[38;5;124mrasterio\u001b[39m\u001b[38;5;124m\"\u001b[39m)\n\u001b[0;32m--> 759\u001b[0m dataset \u001b[38;5;241m=\u001b[39m \u001b[43mrasterio\u001b[49m\u001b[38;5;241;43m.\u001b[39;49m\u001b[43mopen\u001b[49m\u001b[43m(\u001b[49m\u001b[43mraster\u001b[49m\u001b[43m)\u001b[49m\n\u001b[1;32m    760\u001b[0m array \u001b[38;5;241m=\u001b[39m dataset\u001b[38;5;241m.\u001b[39mread()\n\u001b[1;32m    761\u001b[0m bands \u001b[38;5;241m=\u001b[39m dataset\u001b[38;5;241m.\u001b[39mindexes\n",
      "File \u001b[0;32m~/micromamba/envs/pyclass-docs/lib/python3.11/site-packages/rasterio/env.py:451\u001b[0m, in \u001b[0;36mensure_env_with_credentials.<locals>.wrapper\u001b[0;34m(*args, **kwds)\u001b[0m\n\u001b[1;32m    448\u001b[0m     session \u001b[38;5;241m=\u001b[39m DummySession()\n\u001b[1;32m    450\u001b[0m \u001b[38;5;28;01mwith\u001b[39;00m env_ctor(session\u001b[38;5;241m=\u001b[39msession):\n\u001b[0;32m--> 451\u001b[0m     \u001b[38;5;28;01mreturn\u001b[39;00m \u001b[43mf\u001b[49m\u001b[43m(\u001b[49m\u001b[38;5;241;43m*\u001b[39;49m\u001b[43margs\u001b[49m\u001b[43m,\u001b[49m\u001b[43m \u001b[49m\u001b[38;5;241;43m*\u001b[39;49m\u001b[38;5;241;43m*\u001b[39;49m\u001b[43mkwds\u001b[49m\u001b[43m)\u001b[49m\n",
      "File \u001b[0;32m~/micromamba/envs/pyclass-docs/lib/python3.11/site-packages/rasterio/__init__.py:304\u001b[0m, in \u001b[0;36mopen\u001b[0;34m(fp, mode, driver, width, height, count, crs, transform, dtype, nodata, sharing, **kwargs)\u001b[0m\n\u001b[1;32m    301\u001b[0m path \u001b[38;5;241m=\u001b[39m _parse_path(raw_dataset_path)\n\u001b[1;32m    303\u001b[0m \u001b[38;5;28;01mif\u001b[39;00m mode \u001b[38;5;241m==\u001b[39m \u001b[38;5;124m\"\u001b[39m\u001b[38;5;124mr\u001b[39m\u001b[38;5;124m\"\u001b[39m:\n\u001b[0;32m--> 304\u001b[0m     dataset \u001b[38;5;241m=\u001b[39m \u001b[43mDatasetReader\u001b[49m\u001b[43m(\u001b[49m\u001b[43mpath\u001b[49m\u001b[43m,\u001b[49m\u001b[43m \u001b[49m\u001b[43mdriver\u001b[49m\u001b[38;5;241;43m=\u001b[39;49m\u001b[43mdriver\u001b[49m\u001b[43m,\u001b[49m\u001b[43m \u001b[49m\u001b[43msharing\u001b[49m\u001b[38;5;241;43m=\u001b[39;49m\u001b[43msharing\u001b[49m\u001b[43m,\u001b[49m\u001b[43m \u001b[49m\u001b[38;5;241;43m*\u001b[39;49m\u001b[38;5;241;43m*\u001b[39;49m\u001b[43mkwargs\u001b[49m\u001b[43m)\u001b[49m\n\u001b[1;32m    305\u001b[0m \u001b[38;5;28;01melif\u001b[39;00m mode \u001b[38;5;241m==\u001b[39m \u001b[38;5;124m\"\u001b[39m\u001b[38;5;124mr+\u001b[39m\u001b[38;5;124m\"\u001b[39m:\n\u001b[1;32m    306\u001b[0m     dataset \u001b[38;5;241m=\u001b[39m get_writer_for_path(path, driver\u001b[38;5;241m=\u001b[39mdriver)(\n\u001b[1;32m    307\u001b[0m         path, mode, driver\u001b[38;5;241m=\u001b[39mdriver, sharing\u001b[38;5;241m=\u001b[39msharing, \u001b[38;5;241m*\u001b[39m\u001b[38;5;241m*\u001b[39mkwargs\n\u001b[1;32m    308\u001b[0m     )\n",
      "File \u001b[0;32mrasterio/_base.pyx:312\u001b[0m, in \u001b[0;36mrasterio._base.DatasetBase.__init__\u001b[0;34m()\u001b[0m\n",
      "\u001b[0;31mRasterioIOError\u001b[0m: ../data_project/aquifer_bottom.asc: No such file or directory"
     ]
    }
   ],
   "source": [
    "bottom = flopy.utils.Raster.load(\"../data_project/aquifer_bottom.asc\")\n",
    "top = flopy.utils.Raster.load(\"../data_project/aquifer_top.asc\")\n",
    "kaq = flopy.utils.Raster.load(\"../data_project/aquifer_k.asc\")"
   ]
  },
  {
   "cell_type": "markdown",
   "id": "d27b2059-7d15-48be-89e4-5ea3a0a4f246",
   "metadata": {},
   "source": [
    "Load a few shapefiles with geopandas"
   ]
  },
  {
   "cell_type": "code",
   "execution_count": 4,
   "id": "a056df43-3d04-41c4-9e6d-641fd118f331",
   "metadata": {
    "execution": {
     "iopub.execute_input": "2024-02-05T21:29:06.632419Z",
     "iopub.status.busy": "2024-02-05T21:29:06.631879Z",
     "iopub.status.idle": "2024-02-05T21:29:06.787074Z",
     "shell.execute_reply": "2024-02-05T21:29:06.786488Z"
    }
   },
   "outputs": [
    {
     "ename": "DriverError",
     "evalue": "../data_project/Flowline_river.shp: No such file or directory",
     "output_type": "error",
     "traceback": [
      "\u001b[0;31m---------------------------------------------------------------------------\u001b[0m",
      "\u001b[0;31mCPLE_OpenFailedError\u001b[0m                      Traceback (most recent call last)",
      "File \u001b[0;32mfiona/ogrext.pyx:136\u001b[0m, in \u001b[0;36mfiona.ogrext.gdal_open_vector\u001b[0;34m()\u001b[0m\n",
      "File \u001b[0;32mfiona/_err.pyx:291\u001b[0m, in \u001b[0;36mfiona._err.exc_wrap_pointer\u001b[0;34m()\u001b[0m\n",
      "\u001b[0;31mCPLE_OpenFailedError\u001b[0m: ../data_project/Flowline_river.shp: No such file or directory",
      "\nDuring handling of the above exception, another exception occurred:\n",
      "\u001b[0;31mDriverError\u001b[0m                               Traceback (most recent call last)",
      "Cell \u001b[0;32mIn[4], line 1\u001b[0m\n\u001b[0;32m----> 1\u001b[0m river \u001b[38;5;241m=\u001b[39m \u001b[43mgpd\u001b[49m\u001b[38;5;241;43m.\u001b[39;49m\u001b[43mread_file\u001b[49m\u001b[43m(\u001b[49m\u001b[38;5;124;43m\"\u001b[39;49m\u001b[38;5;124;43m../data_project/Flowline_river.shp\u001b[39;49m\u001b[38;5;124;43m\"\u001b[39;49m\u001b[43m)\u001b[49m\n\u001b[1;32m      2\u001b[0m inactive \u001b[38;5;241m=\u001b[39m gpd\u001b[38;5;241m.\u001b[39mread_file(\u001b[38;5;124m\"\u001b[39m\u001b[38;5;124m../data_project/inactive_area.shp\u001b[39m\u001b[38;5;124m\"\u001b[39m)\n\u001b[1;32m      3\u001b[0m active \u001b[38;5;241m=\u001b[39m gpd\u001b[38;5;241m.\u001b[39mread_file(\u001b[38;5;124m\"\u001b[39m\u001b[38;5;124m../data_project/active_area.shp\u001b[39m\u001b[38;5;124m\"\u001b[39m)\n",
      "File \u001b[0;32m~/micromamba/envs/pyclass-docs/lib/python3.11/site-packages/geopandas/io/file.py:297\u001b[0m, in \u001b[0;36m_read_file\u001b[0;34m(filename, bbox, mask, rows, engine, **kwargs)\u001b[0m\n\u001b[1;32m    294\u001b[0m     \u001b[38;5;28;01melse\u001b[39;00m:\n\u001b[1;32m    295\u001b[0m         path_or_bytes \u001b[38;5;241m=\u001b[39m filename\n\u001b[0;32m--> 297\u001b[0m     \u001b[38;5;28;01mreturn\u001b[39;00m \u001b[43m_read_file_fiona\u001b[49m\u001b[43m(\u001b[49m\n\u001b[1;32m    298\u001b[0m \u001b[43m        \u001b[49m\u001b[43mpath_or_bytes\u001b[49m\u001b[43m,\u001b[49m\u001b[43m \u001b[49m\u001b[43mfrom_bytes\u001b[49m\u001b[43m,\u001b[49m\u001b[43m \u001b[49m\u001b[43mbbox\u001b[49m\u001b[38;5;241;43m=\u001b[39;49m\u001b[43mbbox\u001b[49m\u001b[43m,\u001b[49m\u001b[43m \u001b[49m\u001b[43mmask\u001b[49m\u001b[38;5;241;43m=\u001b[39;49m\u001b[43mmask\u001b[49m\u001b[43m,\u001b[49m\u001b[43m \u001b[49m\u001b[43mrows\u001b[49m\u001b[38;5;241;43m=\u001b[39;49m\u001b[43mrows\u001b[49m\u001b[43m,\u001b[49m\u001b[43m \u001b[49m\u001b[38;5;241;43m*\u001b[39;49m\u001b[38;5;241;43m*\u001b[39;49m\u001b[43mkwargs\u001b[49m\n\u001b[1;32m    299\u001b[0m \u001b[43m    \u001b[49m\u001b[43m)\u001b[49m\n\u001b[1;32m    301\u001b[0m \u001b[38;5;28;01melse\u001b[39;00m:\n\u001b[1;32m    302\u001b[0m     \u001b[38;5;28;01mraise\u001b[39;00m \u001b[38;5;167;01mValueError\u001b[39;00m(\u001b[38;5;124mf\u001b[39m\u001b[38;5;124m\"\u001b[39m\u001b[38;5;124munknown engine \u001b[39m\u001b[38;5;124m'\u001b[39m\u001b[38;5;132;01m{\u001b[39;00mengine\u001b[38;5;132;01m}\u001b[39;00m\u001b[38;5;124m'\u001b[39m\u001b[38;5;124m\"\u001b[39m)\n",
      "File \u001b[0;32m~/micromamba/envs/pyclass-docs/lib/python3.11/site-packages/geopandas/io/file.py:338\u001b[0m, in \u001b[0;36m_read_file_fiona\u001b[0;34m(path_or_bytes, from_bytes, bbox, mask, rows, where, **kwargs)\u001b[0m\n\u001b[1;32m    335\u001b[0m     reader \u001b[38;5;241m=\u001b[39m fiona\u001b[38;5;241m.\u001b[39mopen\n\u001b[1;32m    337\u001b[0m \u001b[38;5;28;01mwith\u001b[39;00m fiona_env():\n\u001b[0;32m--> 338\u001b[0m     \u001b[38;5;28;01mwith\u001b[39;00m \u001b[43mreader\u001b[49m\u001b[43m(\u001b[49m\u001b[43mpath_or_bytes\u001b[49m\u001b[43m,\u001b[49m\u001b[43m \u001b[49m\u001b[38;5;241;43m*\u001b[39;49m\u001b[38;5;241;43m*\u001b[39;49m\u001b[43mkwargs\u001b[49m\u001b[43m)\u001b[49m \u001b[38;5;28;01mas\u001b[39;00m features:\n\u001b[1;32m    339\u001b[0m         crs \u001b[38;5;241m=\u001b[39m features\u001b[38;5;241m.\u001b[39mcrs_wkt\n\u001b[1;32m    340\u001b[0m         \u001b[38;5;66;03m# attempt to get EPSG code\u001b[39;00m\n",
      "File \u001b[0;32m~/micromamba/envs/pyclass-docs/lib/python3.11/site-packages/fiona/env.py:457\u001b[0m, in \u001b[0;36mensure_env_with_credentials.<locals>.wrapper\u001b[0;34m(*args, **kwds)\u001b[0m\n\u001b[1;32m    454\u001b[0m     session \u001b[38;5;241m=\u001b[39m DummySession()\n\u001b[1;32m    456\u001b[0m \u001b[38;5;28;01mwith\u001b[39;00m env_ctor(session\u001b[38;5;241m=\u001b[39msession):\n\u001b[0;32m--> 457\u001b[0m     \u001b[38;5;28;01mreturn\u001b[39;00m \u001b[43mf\u001b[49m\u001b[43m(\u001b[49m\u001b[38;5;241;43m*\u001b[39;49m\u001b[43margs\u001b[49m\u001b[43m,\u001b[49m\u001b[43m \u001b[49m\u001b[38;5;241;43m*\u001b[39;49m\u001b[38;5;241;43m*\u001b[39;49m\u001b[43mkwds\u001b[49m\u001b[43m)\u001b[49m\n",
      "File \u001b[0;32m~/micromamba/envs/pyclass-docs/lib/python3.11/site-packages/fiona/__init__.py:292\u001b[0m, in \u001b[0;36mopen\u001b[0;34m(fp, mode, driver, schema, crs, encoding, layer, vfs, enabled_drivers, crs_wkt, allow_unsupported_drivers, **kwargs)\u001b[0m\n\u001b[1;32m    289\u001b[0m     path \u001b[38;5;241m=\u001b[39m parse_path(fp)\n\u001b[1;32m    291\u001b[0m \u001b[38;5;28;01mif\u001b[39;00m mode \u001b[38;5;129;01min\u001b[39;00m (\u001b[38;5;124m\"\u001b[39m\u001b[38;5;124ma\u001b[39m\u001b[38;5;124m\"\u001b[39m, \u001b[38;5;124m\"\u001b[39m\u001b[38;5;124mr\u001b[39m\u001b[38;5;124m\"\u001b[39m):\n\u001b[0;32m--> 292\u001b[0m     colxn \u001b[38;5;241m=\u001b[39m \u001b[43mCollection\u001b[49m\u001b[43m(\u001b[49m\n\u001b[1;32m    293\u001b[0m \u001b[43m        \u001b[49m\u001b[43mpath\u001b[49m\u001b[43m,\u001b[49m\n\u001b[1;32m    294\u001b[0m \u001b[43m        \u001b[49m\u001b[43mmode\u001b[49m\u001b[43m,\u001b[49m\n\u001b[1;32m    295\u001b[0m \u001b[43m        \u001b[49m\u001b[43mdriver\u001b[49m\u001b[38;5;241;43m=\u001b[39;49m\u001b[43mdriver\u001b[49m\u001b[43m,\u001b[49m\n\u001b[1;32m    296\u001b[0m \u001b[43m        \u001b[49m\u001b[43mencoding\u001b[49m\u001b[38;5;241;43m=\u001b[39;49m\u001b[43mencoding\u001b[49m\u001b[43m,\u001b[49m\n\u001b[1;32m    297\u001b[0m \u001b[43m        \u001b[49m\u001b[43mlayer\u001b[49m\u001b[38;5;241;43m=\u001b[39;49m\u001b[43mlayer\u001b[49m\u001b[43m,\u001b[49m\n\u001b[1;32m    298\u001b[0m \u001b[43m        \u001b[49m\u001b[43menabled_drivers\u001b[49m\u001b[38;5;241;43m=\u001b[39;49m\u001b[43menabled_drivers\u001b[49m\u001b[43m,\u001b[49m\n\u001b[1;32m    299\u001b[0m \u001b[43m        \u001b[49m\u001b[43mallow_unsupported_drivers\u001b[49m\u001b[38;5;241;43m=\u001b[39;49m\u001b[43mallow_unsupported_drivers\u001b[49m\u001b[43m,\u001b[49m\n\u001b[1;32m    300\u001b[0m \u001b[43m        \u001b[49m\u001b[38;5;241;43m*\u001b[39;49m\u001b[38;5;241;43m*\u001b[39;49m\u001b[43mkwargs\u001b[49m\n\u001b[1;32m    301\u001b[0m \u001b[43m    \u001b[49m\u001b[43m)\u001b[49m\n\u001b[1;32m    302\u001b[0m \u001b[38;5;28;01melif\u001b[39;00m mode \u001b[38;5;241m==\u001b[39m \u001b[38;5;124m\"\u001b[39m\u001b[38;5;124mw\u001b[39m\u001b[38;5;124m\"\u001b[39m:\n\u001b[1;32m    303\u001b[0m     colxn \u001b[38;5;241m=\u001b[39m Collection(\n\u001b[1;32m    304\u001b[0m         path,\n\u001b[1;32m    305\u001b[0m         mode,\n\u001b[0;32m   (...)\u001b[0m\n\u001b[1;32m    314\u001b[0m         \u001b[38;5;241m*\u001b[39m\u001b[38;5;241m*\u001b[39mkwargs\n\u001b[1;32m    315\u001b[0m     )\n",
      "File \u001b[0;32m~/micromamba/envs/pyclass-docs/lib/python3.11/site-packages/fiona/collection.py:243\u001b[0m, in \u001b[0;36mCollection.__init__\u001b[0;34m(self, path, mode, driver, schema, crs, encoding, layer, vsi, archive, enabled_drivers, crs_wkt, ignore_fields, ignore_geometry, include_fields, wkt_version, allow_unsupported_drivers, **kwargs)\u001b[0m\n\u001b[1;32m    241\u001b[0m \u001b[38;5;28;01mif\u001b[39;00m \u001b[38;5;28mself\u001b[39m\u001b[38;5;241m.\u001b[39mmode \u001b[38;5;241m==\u001b[39m \u001b[38;5;124m\"\u001b[39m\u001b[38;5;124mr\u001b[39m\u001b[38;5;124m\"\u001b[39m:\n\u001b[1;32m    242\u001b[0m     \u001b[38;5;28mself\u001b[39m\u001b[38;5;241m.\u001b[39msession \u001b[38;5;241m=\u001b[39m Session()\n\u001b[0;32m--> 243\u001b[0m     \u001b[38;5;28;43mself\u001b[39;49m\u001b[38;5;241;43m.\u001b[39;49m\u001b[43msession\u001b[49m\u001b[38;5;241;43m.\u001b[39;49m\u001b[43mstart\u001b[49m\u001b[43m(\u001b[49m\u001b[38;5;28;43mself\u001b[39;49m\u001b[43m,\u001b[49m\u001b[43m \u001b[49m\u001b[38;5;241;43m*\u001b[39;49m\u001b[38;5;241;43m*\u001b[39;49m\u001b[43mkwargs\u001b[49m\u001b[43m)\u001b[49m\n\u001b[1;32m    244\u001b[0m \u001b[38;5;28;01melif\u001b[39;00m \u001b[38;5;28mself\u001b[39m\u001b[38;5;241m.\u001b[39mmode \u001b[38;5;129;01min\u001b[39;00m (\u001b[38;5;124m\"\u001b[39m\u001b[38;5;124ma\u001b[39m\u001b[38;5;124m\"\u001b[39m, \u001b[38;5;124m\"\u001b[39m\u001b[38;5;124mw\u001b[39m\u001b[38;5;124m\"\u001b[39m):\n\u001b[1;32m    245\u001b[0m     \u001b[38;5;28mself\u001b[39m\u001b[38;5;241m.\u001b[39msession \u001b[38;5;241m=\u001b[39m WritingSession()\n",
      "File \u001b[0;32mfiona/ogrext.pyx:588\u001b[0m, in \u001b[0;36mfiona.ogrext.Session.start\u001b[0;34m()\u001b[0m\n",
      "File \u001b[0;32mfiona/ogrext.pyx:143\u001b[0m, in \u001b[0;36mfiona.ogrext.gdal_open_vector\u001b[0;34m()\u001b[0m\n",
      "\u001b[0;31mDriverError\u001b[0m: ../data_project/Flowline_river.shp: No such file or directory"
     ]
    }
   ],
   "source": [
    "river = gpd.read_file(\"../data_project/Flowline_river.shp\")\n",
    "inactive = gpd.read_file(\"../data_project/inactive_area.shp\")\n",
    "active = gpd.read_file(\"../data_project/active_area.shp\")\n",
    "wells = gpd.read_file(\"../data_project/pumping_well_locations.shp\")"
   ]
  },
  {
   "cell_type": "markdown",
   "id": "4ec28213-31e6-45f4-9899-56772618afb5",
   "metadata": {},
   "source": [
    "Plot the shapefiles with geopandas"
   ]
  },
  {
   "cell_type": "code",
   "execution_count": 5,
   "id": "802e1ec8-04c4-42c6-905d-e28ec06d3515",
   "metadata": {
    "execution": {
     "iopub.execute_input": "2024-02-05T21:29:06.789207Z",
     "iopub.status.busy": "2024-02-05T21:29:06.788873Z",
     "iopub.status.idle": "2024-02-05T21:29:06.800081Z",
     "shell.execute_reply": "2024-02-05T21:29:06.799583Z"
    }
   },
   "outputs": [
    {
     "ename": "NameError",
     "evalue": "name 'river' is not defined",
     "output_type": "error",
     "traceback": [
      "\u001b[0;31m---------------------------------------------------------------------------\u001b[0m",
      "\u001b[0;31mNameError\u001b[0m                                 Traceback (most recent call last)",
      "Cell \u001b[0;32mIn[5], line 1\u001b[0m\n\u001b[0;32m----> 1\u001b[0m ax \u001b[38;5;241m=\u001b[39m \u001b[43mriver\u001b[49m\u001b[38;5;241m.\u001b[39mplot(color\u001b[38;5;241m=\u001b[39m\u001b[38;5;124m\"\u001b[39m\u001b[38;5;124mcyan\u001b[39m\u001b[38;5;124m\"\u001b[39m)\n\u001b[1;32m      2\u001b[0m active\u001b[38;5;241m.\u001b[39mplot(ax\u001b[38;5;241m=\u001b[39max, color\u001b[38;5;241m=\u001b[39m\u001b[38;5;124m\"\u001b[39m\u001b[38;5;124mblue\u001b[39m\u001b[38;5;124m\"\u001b[39m)\n\u001b[1;32m      3\u001b[0m inactive\u001b[38;5;241m.\u001b[39mplot(ax\u001b[38;5;241m=\u001b[39max, color\u001b[38;5;241m=\u001b[39m\u001b[38;5;124m\"\u001b[39m\u001b[38;5;124mwhite\u001b[39m\u001b[38;5;124m\"\u001b[39m)\n",
      "\u001b[0;31mNameError\u001b[0m: name 'river' is not defined"
     ]
    }
   ],
   "source": [
    "ax = river.plot(color=\"cyan\")\n",
    "active.plot(ax=ax, color=\"blue\")\n",
    "inactive.plot(ax=ax, color=\"white\")\n",
    "wells.plot(ax=ax, color=\"red\", markersize=8);"
   ]
  },
  {
   "cell_type": "markdown",
   "id": "649393e3-e455-41ee-968d-8131c0057a79",
   "metadata": {},
   "source": [
    "#### Make a structured model grid"
   ]
  },
  {
   "cell_type": "code",
   "execution_count": 6,
   "id": "99fee6a1-dba6-4c47-9239-f0b2c0e81e04",
   "metadata": {
    "execution": {
     "iopub.execute_input": "2024-02-05T21:29:06.802048Z",
     "iopub.status.busy": "2024-02-05T21:29:06.801751Z",
     "iopub.status.idle": "2024-02-05T21:29:06.805137Z",
     "shell.execute_reply": "2024-02-05T21:29:06.804656Z"
    }
   },
   "outputs": [],
   "source": [
    "nlay, nrow, ncol = 3, 160, 80\n",
    "shape2d, shape3d = (nrow, ncol), (nlay, nrow, ncol)\n",
    "xlen, ylen = 5000.0, 10000.0\n",
    "delr = np.full(ncol, xlen / ncol, dtype=float)\n",
    "delc = np.full(nrow, ylen / nrow, dtype=float)\n",
    "ttop = np.full(shape2d, 1.0, dtype=float)\n",
    "tbotm = np.full(shape3d, 0.0, dtype=float)"
   ]
  },
  {
   "cell_type": "code",
   "execution_count": 7,
   "id": "a44240d6-b0f0-4436-bd2d-fbba92d6dd7e",
   "metadata": {
    "execution": {
     "iopub.execute_input": "2024-02-05T21:29:06.806974Z",
     "iopub.status.busy": "2024-02-05T21:29:06.806666Z",
     "iopub.status.idle": "2024-02-05T21:29:06.809271Z",
     "shell.execute_reply": "2024-02-05T21:29:06.808875Z"
    }
   },
   "outputs": [],
   "source": [
    "base_grid = StructuredGrid(\n",
    "    delc=delc, delr=delr, nlay=1, nrow=nrow, ncol=ncol, \n",
    "    top=ttop, botm=tbotm\n",
    ")"
   ]
  },
  {
   "cell_type": "markdown",
   "id": "87e67c65-3a48-4489-b284-8a535c195c8a",
   "metadata": {},
   "source": [
    "### Intersect the modelgrid with the shapefiles\n",
    "\n",
    "#### Create an intersection object"
   ]
  },
  {
   "cell_type": "code",
   "execution_count": 8,
   "id": "9eb9a7bd-02f1-4966-b522-4bdbabeb0d40",
   "metadata": {
    "execution": {
     "iopub.execute_input": "2024-02-05T21:29:06.811048Z",
     "iopub.status.busy": "2024-02-05T21:29:06.810737Z",
     "iopub.status.idle": "2024-02-05T21:29:06.827723Z",
     "shell.execute_reply": "2024-02-05T21:29:06.827277Z"
    }
   },
   "outputs": [],
   "source": [
    "ix = GridIntersect(base_grid, method=\"vertex\", rtree=True)"
   ]
  },
  {
   "cell_type": "markdown",
   "id": "ed099929-5257-4c83-93da-337aecfab0a1",
   "metadata": {},
   "source": [
    "#### Intersect inactive and active shapefiles with the modelgrid\n",
    "\n",
    "After all of the intersection operations, take a look at the data contained in the returned objects"
   ]
  },
  {
   "cell_type": "code",
   "execution_count": 9,
   "id": "c8e5ef38-e57c-41f7-8c45-a953ae1a5568",
   "metadata": {
    "execution": {
     "iopub.execute_input": "2024-02-05T21:29:06.829877Z",
     "iopub.status.busy": "2024-02-05T21:29:06.829549Z",
     "iopub.status.idle": "2024-02-05T21:29:06.840821Z",
     "shell.execute_reply": "2024-02-05T21:29:06.840427Z"
    }
   },
   "outputs": [
    {
     "ename": "NameError",
     "evalue": "name 'inactive' is not defined",
     "output_type": "error",
     "traceback": [
      "\u001b[0;31m---------------------------------------------------------------------------\u001b[0m",
      "\u001b[0;31mNameError\u001b[0m                                 Traceback (most recent call last)",
      "Cell \u001b[0;32mIn[9], line 1\u001b[0m\n\u001b[0;32m----> 1\u001b[0m bedrock \u001b[38;5;241m=\u001b[39m ix\u001b[38;5;241m.\u001b[39mintersect(\u001b[43minactive\u001b[49m\u001b[38;5;241m.\u001b[39mgeometry[\u001b[38;5;241m0\u001b[39m])\n\u001b[1;32m      2\u001b[0m active_cells \u001b[38;5;241m=\u001b[39m ix\u001b[38;5;241m.\u001b[39mintersect(active\u001b[38;5;241m.\u001b[39mgeometry[\u001b[38;5;241m0\u001b[39m])\n",
      "\u001b[0;31mNameError\u001b[0m: name 'inactive' is not defined"
     ]
    }
   ],
   "source": [
    "bedrock = ix.intersect(inactive.geometry[0])\n",
    "active_cells = ix.intersect(active.geometry[0])"
   ]
  },
  {
   "cell_type": "code",
   "execution_count": 10,
   "id": "8d5ee1df-925f-4d93-8d06-7adaff89522f",
   "metadata": {
    "execution": {
     "iopub.execute_input": "2024-02-05T21:29:06.842553Z",
     "iopub.status.busy": "2024-02-05T21:29:06.842316Z",
     "iopub.status.idle": "2024-02-05T21:29:06.852724Z",
     "shell.execute_reply": "2024-02-05T21:29:06.852316Z"
    }
   },
   "outputs": [
    {
     "ename": "NameError",
     "evalue": "name 'active_cells' is not defined",
     "output_type": "error",
     "traceback": [
      "\u001b[0;31m---------------------------------------------------------------------------\u001b[0m",
      "\u001b[0;31mNameError\u001b[0m                                 Traceback (most recent call last)",
      "Cell \u001b[0;32mIn[10], line 1\u001b[0m\n\u001b[0;32m----> 1\u001b[0m \u001b[43mactive_cells\u001b[49m[:\u001b[38;5;241m4\u001b[39m], active_cells\u001b[38;5;241m.\u001b[39mdtype\n",
      "\u001b[0;31mNameError\u001b[0m: name 'active_cells' is not defined"
     ]
    }
   ],
   "source": [
    "active_cells[:4], active_cells.dtype"
   ]
  },
  {
   "cell_type": "markdown",
   "id": "01ea9e5f-0aa0-4219-9bdf-cc8c639188e4",
   "metadata": {},
   "source": [
    "#### Intersect well shapefile with the modelgrid"
   ]
  },
  {
   "cell_type": "code",
   "execution_count": 11,
   "id": "07742516-d0b2-4bb3-9afe-e25afcd55bcd",
   "metadata": {
    "execution": {
     "iopub.execute_input": "2024-02-05T21:29:06.854687Z",
     "iopub.status.busy": "2024-02-05T21:29:06.854380Z",
     "iopub.status.idle": "2024-02-05T21:29:06.865979Z",
     "shell.execute_reply": "2024-02-05T21:29:06.865468Z"
    }
   },
   "outputs": [
    {
     "ename": "NameError",
     "evalue": "name 'wells' is not defined",
     "output_type": "error",
     "traceback": [
      "\u001b[0;31m---------------------------------------------------------------------------\u001b[0m",
      "\u001b[0;31mNameError\u001b[0m                                 Traceback (most recent call last)",
      "Cell \u001b[0;32mIn[11], line 2\u001b[0m\n\u001b[1;32m      1\u001b[0m well_cells \u001b[38;5;241m=\u001b[39m []\n\u001b[0;32m----> 2\u001b[0m \u001b[38;5;28;01mfor\u001b[39;00m g \u001b[38;5;129;01min\u001b[39;00m \u001b[43mwells\u001b[49m\u001b[38;5;241m.\u001b[39mgeometry:\n\u001b[1;32m      3\u001b[0m     v \u001b[38;5;241m=\u001b[39m ix\u001b[38;5;241m.\u001b[39mintersect(g)\n\u001b[1;32m      4\u001b[0m     well_cells \u001b[38;5;241m+\u001b[39m\u001b[38;5;241m=\u001b[39m v[\u001b[38;5;124m\"\u001b[39m\u001b[38;5;124mcellids\u001b[39m\u001b[38;5;124m\"\u001b[39m]\u001b[38;5;241m.\u001b[39mtolist()\n",
      "\u001b[0;31mNameError\u001b[0m: name 'wells' is not defined"
     ]
    }
   ],
   "source": [
    "well_cells = []\n",
    "for g in wells.geometry:\n",
    "    v = ix.intersect(g)\n",
    "    well_cells += v[\"cellids\"].tolist()"
   ]
  },
  {
   "cell_type": "code",
   "execution_count": 12,
   "id": "71700525-1e82-4334-868a-33c84af18c79",
   "metadata": {
    "execution": {
     "iopub.execute_input": "2024-02-05T21:29:06.867947Z",
     "iopub.status.busy": "2024-02-05T21:29:06.867613Z",
     "iopub.status.idle": "2024-02-05T21:29:06.872555Z",
     "shell.execute_reply": "2024-02-05T21:29:06.872131Z"
    }
   },
   "outputs": [
    {
     "data": {
      "text/plain": [
       "[]"
      ]
     },
     "execution_count": 12,
     "metadata": {},
     "output_type": "execute_result"
    }
   ],
   "source": [
    "well_cells"
   ]
  },
  {
   "cell_type": "markdown",
   "id": "04ecb26d-183a-4629-8adb-6dd22a22d787",
   "metadata": {},
   "source": [
    "#### Intersect river shapefile with the modelgrid"
   ]
  },
  {
   "cell_type": "code",
   "execution_count": 13,
   "id": "26e2f376-7ba5-42ae-8b8f-822f244cc888",
   "metadata": {
    "execution": {
     "iopub.execute_input": "2024-02-05T21:29:06.874267Z",
     "iopub.status.busy": "2024-02-05T21:29:06.873996Z",
     "iopub.status.idle": "2024-02-05T21:29:06.884720Z",
     "shell.execute_reply": "2024-02-05T21:29:06.884253Z"
    }
   },
   "outputs": [
    {
     "ename": "NameError",
     "evalue": "name 'river' is not defined",
     "output_type": "error",
     "traceback": [
      "\u001b[0;31m---------------------------------------------------------------------------\u001b[0m",
      "\u001b[0;31mNameError\u001b[0m                                 Traceback (most recent call last)",
      "Cell \u001b[0;32mIn[13], line 1\u001b[0m\n\u001b[0;32m----> 1\u001b[0m river_cells \u001b[38;5;241m=\u001b[39m ix\u001b[38;5;241m.\u001b[39mintersect(\u001b[43mriver\u001b[49m\u001b[38;5;241m.\u001b[39mgeometry[\u001b[38;5;241m0\u001b[39m])\n",
      "\u001b[0;31mNameError\u001b[0m: name 'river' is not defined"
     ]
    }
   ],
   "source": [
    "river_cells = ix.intersect(river.geometry[0])"
   ]
  },
  {
   "cell_type": "code",
   "execution_count": 14,
   "id": "0fa25077-4dc4-4b64-9629-42733843cf9a",
   "metadata": {
    "execution": {
     "iopub.execute_input": "2024-02-05T21:29:06.886614Z",
     "iopub.status.busy": "2024-02-05T21:29:06.886248Z",
     "iopub.status.idle": "2024-02-05T21:29:06.896148Z",
     "shell.execute_reply": "2024-02-05T21:29:06.895668Z"
    }
   },
   "outputs": [
    {
     "ename": "NameError",
     "evalue": "name 'river_cells' is not defined",
     "output_type": "error",
     "traceback": [
      "\u001b[0;31m---------------------------------------------------------------------------\u001b[0m",
      "\u001b[0;31mNameError\u001b[0m                                 Traceback (most recent call last)",
      "Cell \u001b[0;32mIn[14], line 1\u001b[0m\n\u001b[0;32m----> 1\u001b[0m \u001b[43mriver_cells\u001b[49m[:\u001b[38;5;241m4\u001b[39m], river_cells\u001b[38;5;241m.\u001b[39mdtype\n",
      "\u001b[0;31mNameError\u001b[0m: name 'river_cells' is not defined"
     ]
    }
   ],
   "source": [
    "river_cells[:4], river_cells.dtype"
   ]
  },
  {
   "cell_type": "markdown",
   "id": "da8d7508-eaa8-4a66-a0a9-6a9a3302a957",
   "metadata": {},
   "source": [
    "### Intersect constant head line with the modelgrid\n",
    "\n",
    "Use a line with two points to defined the location of the constant head cells. The line verticase are `[(1250, 0.1), (4250, 0.1)]`."
   ]
  },
  {
   "cell_type": "code",
   "execution_count": 15,
   "id": "d1ad7c18-b221-4272-bd4c-aa8b4145373b",
   "metadata": {
    "execution": {
     "iopub.execute_input": "2024-02-05T21:29:06.898037Z",
     "iopub.status.busy": "2024-02-05T21:29:06.897663Z",
     "iopub.status.idle": "2024-02-05T21:29:06.902054Z",
     "shell.execute_reply": "2024-02-05T21:29:06.901590Z"
    }
   },
   "outputs": [],
   "source": [
    "constant_cells = ix.intersect(\n",
    "    [(1250, 0.1), (4250, 0.1)], shapetype=\"linestring\"\n",
    ")"
   ]
  },
  {
   "cell_type": "code",
   "execution_count": 16,
   "id": "5b452111-1be5-40a9-afeb-878fb48875eb",
   "metadata": {
    "execution": {
     "iopub.execute_input": "2024-02-05T21:29:06.903862Z",
     "iopub.status.busy": "2024-02-05T21:29:06.903551Z",
     "iopub.status.idle": "2024-02-05T21:29:06.907322Z",
     "shell.execute_reply": "2024-02-05T21:29:06.906838Z"
    }
   },
   "outputs": [
    {
     "data": {
      "text/plain": [
       "(rec.array([((159, 20), <LINESTRING (1250 0.1, 1312.5 0.1)>, 62.5),\n",
       "            ((159, 21), <LINESTRING (1312.5 0.1, 1375 0.1)>, 62.5),\n",
       "            ((159, 22), <LINESTRING (1375 0.1, 1437.5 0.1)>, 62.5),\n",
       "            ((159, 23), <LINESTRING (1437.5 0.1, 1500 0.1)>, 62.5)],\n",
       "           dtype=[('cellids', 'O'), ('ixshapes', 'O'), ('lengths', '<f8')]),\n",
       " dtype((numpy.record, [('cellids', 'O'), ('ixshapes', 'O'), ('lengths', '<f8')])))"
      ]
     },
     "execution_count": 16,
     "metadata": {},
     "output_type": "execute_result"
    }
   ],
   "source": [
    "constant_cells[:4], constant_cells.dtype"
   ]
  },
  {
   "cell_type": "markdown",
   "id": "b16d9318-24e8-417e-8944-343da5262632",
   "metadata": {},
   "source": [
    "### Resample the raster data to the modelgrid\n",
    "\n",
    "Use the `resample_to_grid()` method on each raster object."
   ]
  },
  {
   "cell_type": "code",
   "execution_count": 17,
   "id": "00e8eed1-2735-48c8-8bc7-cb2ea88a78a6",
   "metadata": {
    "execution": {
     "iopub.execute_input": "2024-02-05T21:29:06.909192Z",
     "iopub.status.busy": "2024-02-05T21:29:06.908890Z",
     "iopub.status.idle": "2024-02-05T21:29:06.921197Z",
     "shell.execute_reply": "2024-02-05T21:29:06.920797Z"
    }
   },
   "outputs": [
    {
     "ename": "NameError",
     "evalue": "name 'top' is not defined",
     "output_type": "error",
     "traceback": [
      "\u001b[0;31m---------------------------------------------------------------------------\u001b[0m",
      "\u001b[0;31mNameError\u001b[0m                                 Traceback (most recent call last)",
      "Cell \u001b[0;32mIn[17], line 1\u001b[0m\n\u001b[0;32m----> 1\u001b[0m rtop \u001b[38;5;241m=\u001b[39m \u001b[43mtop\u001b[49m\u001b[38;5;241m.\u001b[39mresample_to_grid(\n\u001b[1;32m      2\u001b[0m     base_grid,\n\u001b[1;32m      3\u001b[0m     band\u001b[38;5;241m=\u001b[39mtop\u001b[38;5;241m.\u001b[39mbands[\u001b[38;5;241m0\u001b[39m],\n\u001b[1;32m      4\u001b[0m     method\u001b[38;5;241m=\u001b[39m\u001b[38;5;124m\"\u001b[39m\u001b[38;5;124mlinear\u001b[39m\u001b[38;5;124m\"\u001b[39m,\n\u001b[1;32m      5\u001b[0m     extrapolate_edges\u001b[38;5;241m=\u001b[39m\u001b[38;5;28;01mTrue\u001b[39;00m,\n\u001b[1;32m      6\u001b[0m )\n\u001b[1;32m      7\u001b[0m rbot \u001b[38;5;241m=\u001b[39m bottom\u001b[38;5;241m.\u001b[39mresample_to_grid(\n\u001b[1;32m      8\u001b[0m     base_grid,\n\u001b[1;32m      9\u001b[0m     band\u001b[38;5;241m=\u001b[39mbottom\u001b[38;5;241m.\u001b[39mbands[\u001b[38;5;241m0\u001b[39m],\n\u001b[1;32m     10\u001b[0m     method\u001b[38;5;241m=\u001b[39m\u001b[38;5;124m\"\u001b[39m\u001b[38;5;124mlinear\u001b[39m\u001b[38;5;124m\"\u001b[39m,\n\u001b[1;32m     11\u001b[0m     extrapolate_edges\u001b[38;5;241m=\u001b[39m\u001b[38;5;28;01mTrue\u001b[39;00m,\n\u001b[1;32m     12\u001b[0m )\n\u001b[1;32m     13\u001b[0m rkaq \u001b[38;5;241m=\u001b[39m (\n\u001b[1;32m     14\u001b[0m     kaq\u001b[38;5;241m.\u001b[39mresample_to_grid(\n\u001b[1;32m     15\u001b[0m         base_grid, band\u001b[38;5;241m=\u001b[39mkaq\u001b[38;5;241m.\u001b[39mbands[\u001b[38;5;241m0\u001b[39m], method\u001b[38;5;241m=\u001b[39m\u001b[38;5;124m\"\u001b[39m\u001b[38;5;124mlinear\u001b[39m\u001b[38;5;124m\"\u001b[39m, \n\u001b[0;32m   (...)\u001b[0m\n\u001b[1;32m     18\u001b[0m     \u001b[38;5;241m*\u001b[39m \u001b[38;5;241m86400.0\u001b[39m\n\u001b[1;32m     19\u001b[0m )\n",
      "\u001b[0;31mNameError\u001b[0m: name 'top' is not defined"
     ]
    }
   ],
   "source": [
    "rtop = top.resample_to_grid(\n",
    "    base_grid,\n",
    "    band=top.bands[0],\n",
    "    method=\"linear\",\n",
    "    extrapolate_edges=True,\n",
    ")\n",
    "rbot = bottom.resample_to_grid(\n",
    "    base_grid,\n",
    "    band=bottom.bands[0],\n",
    "    method=\"linear\",\n",
    "    extrapolate_edges=True,\n",
    ")\n",
    "rkaq = (\n",
    "    kaq.resample_to_grid(\n",
    "        base_grid, band=kaq.bands[0], method=\"linear\", \n",
    "        extrapolate_edges=True\n",
    "    )\n",
    "    * 86400.0\n",
    ")"
   ]
  },
  {
   "cell_type": "markdown",
   "id": "4d38c553-7319-445a-bda1-b9f1b324ba87",
   "metadata": {},
   "source": [
    "### Plot the resampled data \n",
    "\n",
    "Plot the aquifer top, bottom, and hydraulic conductivity. Also plot the aquifer thickness."
   ]
  },
  {
   "cell_type": "code",
   "execution_count": 18,
   "id": "d3e680a2-7112-4c79-81b8-5c9dc15c0f89",
   "metadata": {
    "execution": {
     "iopub.execute_input": "2024-02-05T21:29:06.923046Z",
     "iopub.status.busy": "2024-02-05T21:29:06.922736Z",
     "iopub.status.idle": "2024-02-05T21:29:07.016944Z",
     "shell.execute_reply": "2024-02-05T21:29:07.016505Z"
    }
   },
   "outputs": [
    {
     "ename": "NameError",
     "evalue": "name 'rtop' is not defined",
     "output_type": "error",
     "traceback": [
      "\u001b[0;31m---------------------------------------------------------------------------\u001b[0m",
      "\u001b[0;31mNameError\u001b[0m                                 Traceback (most recent call last)",
      "Cell \u001b[0;32mIn[18], line 2\u001b[0m\n\u001b[1;32m      1\u001b[0m mm \u001b[38;5;241m=\u001b[39m flopy\u001b[38;5;241m.\u001b[39mplot\u001b[38;5;241m.\u001b[39mPlotMapView(modelgrid\u001b[38;5;241m=\u001b[39mbase_grid)\n\u001b[0;32m----> 2\u001b[0m mm\u001b[38;5;241m.\u001b[39mplot_array(\u001b[43mrtop\u001b[49m)\n\u001b[1;32m      3\u001b[0m mm\u001b[38;5;241m.\u001b[39mplot_grid(lw\u001b[38;5;241m=\u001b[39m\u001b[38;5;241m0.5\u001b[39m, color\u001b[38;5;241m=\u001b[39m\u001b[38;5;124m\"\u001b[39m\u001b[38;5;124m0.5\u001b[39m\u001b[38;5;124m\"\u001b[39m);\n",
      "\u001b[0;31mNameError\u001b[0m: name 'rtop' is not defined"
     ]
    },
    {
     "data": {
      "image/png": "[encoded data removed]",
      "text/plain": [
       "<Figure size 640x480 with 1 Axes>"
      ]
     },
     "metadata": {},
     "output_type": "display_data"
    }
   ],
   "source": [
    "mm = flopy.plot.PlotMapView(modelgrid=base_grid)\n",
    "mm.plot_array(rtop)\n",
    "mm.plot_grid(lw=0.5, color=\"0.5\");"
   ]
  },
  {
   "cell_type": "code",
   "execution_count": 19,
   "id": "0e344430-3dd6-40f3-99dc-eb3ff4525fd9",
   "metadata": {
    "execution": {
     "iopub.execute_input": "2024-02-05T21:29:07.018908Z",
     "iopub.status.busy": "2024-02-05T21:29:07.018582Z",
     "iopub.status.idle": "2024-02-05T21:29:07.106568Z",
     "shell.execute_reply": "2024-02-05T21:29:07.106063Z"
    }
   },
   "outputs": [
    {
     "ename": "NameError",
     "evalue": "name 'rbot' is not defined",
     "output_type": "error",
     "traceback": [
      "\u001b[0;31m---------------------------------------------------------------------------\u001b[0m",
      "\u001b[0;31mNameError\u001b[0m                                 Traceback (most recent call last)",
      "Cell \u001b[0;32mIn[19], line 2\u001b[0m\n\u001b[1;32m      1\u001b[0m mm \u001b[38;5;241m=\u001b[39m flopy\u001b[38;5;241m.\u001b[39mplot\u001b[38;5;241m.\u001b[39mPlotMapView(modelgrid\u001b[38;5;241m=\u001b[39mbase_grid)\n\u001b[0;32m----> 2\u001b[0m mm\u001b[38;5;241m.\u001b[39mplot_array(\u001b[43mrbot\u001b[49m)\n\u001b[1;32m      3\u001b[0m mm\u001b[38;5;241m.\u001b[39mplot_grid(lw\u001b[38;5;241m=\u001b[39m\u001b[38;5;241m0.5\u001b[39m, color\u001b[38;5;241m=\u001b[39m\u001b[38;5;124m\"\u001b[39m\u001b[38;5;124m0.5\u001b[39m\u001b[38;5;124m\"\u001b[39m);\n",
      "\u001b[0;31mNameError\u001b[0m: name 'rbot' is not defined"
     ]
    },
    {
     "data": {
      "image/png": "[encoded data removed]",
      "text/plain": [
       "<Figure size 640x480 with 1 Axes>"
      ]
     },
     "metadata": {},
     "output_type": "display_data"
    }
   ],
   "source": [
    "mm = flopy.plot.PlotMapView(modelgrid=base_grid)\n",
    "mm.plot_array(rbot)\n",
    "mm.plot_grid(lw=0.5, color=\"0.5\");"
   ]
  },
  {
   "cell_type": "code",
   "execution_count": 20,
   "id": "6025c075-3b2f-4bc4-929c-6ded94d7fb49",
   "metadata": {
    "execution": {
     "iopub.execute_input": "2024-02-05T21:29:07.108623Z",
     "iopub.status.busy": "2024-02-05T21:29:07.108290Z",
     "iopub.status.idle": "2024-02-05T21:29:07.195670Z",
     "shell.execute_reply": "2024-02-05T21:29:07.195235Z"
    }
   },
   "outputs": [
    {
     "ename": "NameError",
     "evalue": "name 'rtop' is not defined",
     "output_type": "error",
     "traceback": [
      "\u001b[0;31m---------------------------------------------------------------------------\u001b[0m",
      "\u001b[0;31mNameError\u001b[0m                                 Traceback (most recent call last)",
      "Cell \u001b[0;32mIn[20], line 2\u001b[0m\n\u001b[1;32m      1\u001b[0m mm \u001b[38;5;241m=\u001b[39m flopy\u001b[38;5;241m.\u001b[39mplot\u001b[38;5;241m.\u001b[39mPlotMapView(modelgrid\u001b[38;5;241m=\u001b[39mbase_grid)\n\u001b[0;32m----> 2\u001b[0m cb \u001b[38;5;241m=\u001b[39m mm\u001b[38;5;241m.\u001b[39mplot_array(\u001b[43mrtop\u001b[49m \u001b[38;5;241m-\u001b[39m rbot)\n\u001b[1;32m      3\u001b[0m mm\u001b[38;5;241m.\u001b[39mplot_grid(lw\u001b[38;5;241m=\u001b[39m\u001b[38;5;241m0.5\u001b[39m, color\u001b[38;5;241m=\u001b[39m\u001b[38;5;124m\"\u001b[39m\u001b[38;5;124m0.5\u001b[39m\u001b[38;5;124m\"\u001b[39m)\n\u001b[1;32m      4\u001b[0m plt\u001b[38;5;241m.\u001b[39mcolorbar(cb);\n",
      "\u001b[0;31mNameError\u001b[0m: name 'rtop' is not defined"
     ]
    },
    {
     "data": {
      "image/png": "[encoded data removed]",
      "text/plain": [
       "<Figure size 640x480 with 1 Axes>"
      ]
     },
     "metadata": {},
     "output_type": "display_data"
    }
   ],
   "source": [
    "mm = flopy.plot.PlotMapView(modelgrid=base_grid)\n",
    "cb = mm.plot_array(rtop - rbot)\n",
    "mm.plot_grid(lw=0.5, color=\"0.5\")\n",
    "plt.colorbar(cb);"
   ]
  },
  {
   "cell_type": "code",
   "execution_count": 21,
   "id": "fc131289-28c2-4c27-9c28-e2393760ee7a",
   "metadata": {
    "execution": {
     "iopub.execute_input": "2024-02-05T21:29:07.197702Z",
     "iopub.status.busy": "2024-02-05T21:29:07.197366Z",
     "iopub.status.idle": "2024-02-05T21:29:07.283982Z",
     "shell.execute_reply": "2024-02-05T21:29:07.283546Z"
    }
   },
   "outputs": [
    {
     "ename": "NameError",
     "evalue": "name 'rkaq' is not defined",
     "output_type": "error",
     "traceback": [
      "\u001b[0;31m---------------------------------------------------------------------------\u001b[0m",
      "\u001b[0;31mNameError\u001b[0m                                 Traceback (most recent call last)",
      "Cell \u001b[0;32mIn[21], line 2\u001b[0m\n\u001b[1;32m      1\u001b[0m mm \u001b[38;5;241m=\u001b[39m flopy\u001b[38;5;241m.\u001b[39mplot\u001b[38;5;241m.\u001b[39mPlotMapView(modelgrid\u001b[38;5;241m=\u001b[39mbase_grid)\n\u001b[0;32m----> 2\u001b[0m cb \u001b[38;5;241m=\u001b[39m mm\u001b[38;5;241m.\u001b[39mplot_array(\u001b[43mrkaq\u001b[49m, cmap\u001b[38;5;241m=\u001b[39m\u001b[38;5;124m\"\u001b[39m\u001b[38;5;124mjet\u001b[39m\u001b[38;5;124m\"\u001b[39m, vmin\u001b[38;5;241m=\u001b[39m\u001b[38;5;241m1\u001b[39m, vmax\u001b[38;5;241m=\u001b[39m\u001b[38;5;241m10\u001b[39m)\n\u001b[1;32m      3\u001b[0m mm\u001b[38;5;241m.\u001b[39mplot_grid(lw\u001b[38;5;241m=\u001b[39m\u001b[38;5;241m0.5\u001b[39m, color\u001b[38;5;241m=\u001b[39m\u001b[38;5;124m\"\u001b[39m\u001b[38;5;124m0.5\u001b[39m\u001b[38;5;124m\"\u001b[39m)\n\u001b[1;32m      4\u001b[0m plt\u001b[38;5;241m.\u001b[39mcolorbar(cb);\n",
      "\u001b[0;31mNameError\u001b[0m: name 'rkaq' is not defined"
     ]
    },
    {
     "data": {
      "image/png": "[encoded data removed]",
      "text/plain": [
       "<Figure size 640x480 with 1 Axes>"
      ]
     },
     "metadata": {},
     "output_type": "display_data"
    }
   ],
   "source": [
    "mm = flopy.plot.PlotMapView(modelgrid=base_grid)\n",
    "cb = mm.plot_array(rkaq, cmap=\"jet\", vmin=1, vmax=10)\n",
    "mm.plot_grid(lw=0.5, color=\"0.5\")\n",
    "plt.colorbar(cb);"
   ]
  },
  {
   "cell_type": "markdown",
   "id": "e9f459b8-7ba3-4778-a790-25ea654f5b49",
   "metadata": {},
   "source": [
    "#### Build the model data\n",
    "\n",
    "_Create the bottom of each model layer_\n",
    "\n",
    "Assume that the thickness of each layer at a row, column location is equal."
   ]
  },
  {
   "cell_type": "code",
   "execution_count": 22,
   "id": "fa75d47d-2a36-4d14-9e3a-8e690933315a",
   "metadata": {
    "execution": {
     "iopub.execute_input": "2024-02-05T21:29:07.285829Z",
     "iopub.status.busy": "2024-02-05T21:29:07.285679Z",
     "iopub.status.idle": "2024-02-05T21:29:07.370528Z",
     "shell.execute_reply": "2024-02-05T21:29:07.369996Z"
    }
   },
   "outputs": [
    {
     "ename": "NameError",
     "evalue": "name 'rbot' is not defined",
     "output_type": "error",
     "traceback": [
      "\u001b[0;31m---------------------------------------------------------------------------\u001b[0m",
      "\u001b[0;31mNameError\u001b[0m                                 Traceback (most recent call last)",
      "Cell \u001b[0;32mIn[22], line 2\u001b[0m\n\u001b[1;32m      1\u001b[0m botm \u001b[38;5;241m=\u001b[39m np\u001b[38;5;241m.\u001b[39mzeros(shape3d, dtype\u001b[38;5;241m=\u001b[39m\u001b[38;5;28mfloat\u001b[39m)\n\u001b[0;32m----> 2\u001b[0m botm[\u001b[38;5;241m-\u001b[39m\u001b[38;5;241m1\u001b[39m, :, :] \u001b[38;5;241m=\u001b[39m \u001b[43mrbot\u001b[49m[:, :]\n\u001b[1;32m      3\u001b[0m layer_thickness \u001b[38;5;241m=\u001b[39m (rtop \u001b[38;5;241m-\u001b[39m rbot) \u001b[38;5;241m/\u001b[39m nlay\n\u001b[1;32m      4\u001b[0m \u001b[38;5;28;01mfor\u001b[39;00m k \u001b[38;5;129;01min\u001b[39;00m \u001b[38;5;28mreversed\u001b[39m(\u001b[38;5;28mrange\u001b[39m(nlay \u001b[38;5;241m-\u001b[39m \u001b[38;5;241m1\u001b[39m)):\n",
      "\u001b[0;31mNameError\u001b[0m: name 'rbot' is not defined"
     ]
    }
   ],
   "source": [
    "botm = np.zeros(shape3d, dtype=float)\n",
    "botm[-1, :, :] = rbot[:, :]\n",
    "layer_thickness = (rtop - rbot) / nlay\n",
    "for k in reversed(range(nlay - 1)):\n",
    "    botm[k] = botm[k + 1] + layer_thickness"
   ]
  },
  {
   "cell_type": "markdown",
   "id": "78271f86-4d9b-4e95-8f6d-159340ba0030",
   "metadata": {},
   "source": [
    "_Create the idomain array_\n",
    "\n",
    "Use the intersection data from the active and inactive shapefiles to create the idomain array"
   ]
  },
  {
   "cell_type": "code",
   "execution_count": 23,
   "id": "6bb26307-5b6f-46e1-b633-45b6a851c2bb",
   "metadata": {
    "execution": {
     "iopub.execute_input": "2024-02-05T21:29:07.372688Z",
     "iopub.status.busy": "2024-02-05T21:29:07.372366Z",
     "iopub.status.idle": "2024-02-05T21:29:07.385661Z",
     "shell.execute_reply": "2024-02-05T21:29:07.385242Z"
    }
   },
   "outputs": [
    {
     "ename": "NameError",
     "evalue": "name 'active_cells' is not defined",
     "output_type": "error",
     "traceback": [
      "\u001b[0;31m---------------------------------------------------------------------------\u001b[0m",
      "\u001b[0;31mNameError\u001b[0m                                 Traceback (most recent call last)",
      "Cell \u001b[0;32mIn[23], line 2\u001b[0m\n\u001b[1;32m      1\u001b[0m idomain \u001b[38;5;241m=\u001b[39m np\u001b[38;5;241m.\u001b[39mzeros((nlay, nrow, ncol), dtype\u001b[38;5;241m=\u001b[39m\u001b[38;5;28mfloat\u001b[39m)\n\u001b[0;32m----> 2\u001b[0m \u001b[38;5;28;01mfor\u001b[39;00m i, j \u001b[38;5;129;01min\u001b[39;00m \u001b[43mactive_cells\u001b[49m[\u001b[38;5;124m\"\u001b[39m\u001b[38;5;124mcellids\u001b[39m\u001b[38;5;124m\"\u001b[39m]:\n\u001b[1;32m      3\u001b[0m     idomain[:, i, j] \u001b[38;5;241m=\u001b[39m \u001b[38;5;241m1\u001b[39m\n\u001b[1;32m      4\u001b[0m \u001b[38;5;28;01mfor\u001b[39;00m i, j \u001b[38;5;129;01min\u001b[39;00m bedrock[\u001b[38;5;124m\"\u001b[39m\u001b[38;5;124mcellids\u001b[39m\u001b[38;5;124m\"\u001b[39m]:\n",
      "\u001b[0;31mNameError\u001b[0m: name 'active_cells' is not defined"
     ]
    }
   ],
   "source": [
    "idomain = np.zeros((nlay, nrow, ncol), dtype=float)\n",
    "for i, j in active_cells[\"cellids\"]:\n",
    "    idomain[:, i, j] = 1\n",
    "for i, j in bedrock[\"cellids\"]:\n",
    "    idomain[:, i, j] = 0"
   ]
  },
  {
   "cell_type": "markdown",
   "id": "187e97f7-ba7c-41f8-8d39-1c1ab8245903",
   "metadata": {},
   "source": [
    "_A more pythonic approach_"
   ]
  },
  {
   "cell_type": "code",
   "execution_count": 24,
   "id": "af769a74-b776-4dba-b8bd-c4457530664f",
   "metadata": {
    "execution": {
     "iopub.execute_input": "2024-02-05T21:29:07.387546Z",
     "iopub.status.busy": "2024-02-05T21:29:07.387235Z",
     "iopub.status.idle": "2024-02-05T21:29:07.389808Z",
     "shell.execute_reply": "2024-02-05T21:29:07.389391Z"
    }
   },
   "outputs": [],
   "source": [
    "idomain_bool = np.zeros((nrow, ncol), dtype=bool)"
   ]
  },
  {
   "cell_type": "code",
   "execution_count": 25,
   "id": "261de40a-739b-4524-a072-42a937f35608",
   "metadata": {
    "execution": {
     "iopub.execute_input": "2024-02-05T21:29:07.391537Z",
     "iopub.status.busy": "2024-02-05T21:29:07.391232Z",
     "iopub.status.idle": "2024-02-05T21:29:07.402115Z",
     "shell.execute_reply": "2024-02-05T21:29:07.401626Z"
    }
   },
   "outputs": [
    {
     "ename": "NameError",
     "evalue": "name 'active_cells' is not defined",
     "output_type": "error",
     "traceback": [
      "\u001b[0;31m---------------------------------------------------------------------------\u001b[0m",
      "\u001b[0;31mNameError\u001b[0m                                 Traceback (most recent call last)",
      "Cell \u001b[0;32mIn[25], line 1\u001b[0m\n\u001b[0;32m----> 1\u001b[0m idomain_bool[\u001b[38;5;28mtuple\u001b[39m(\u001b[38;5;28mzip\u001b[39m(\u001b[38;5;241m*\u001b[39m\u001b[43mactive_cells\u001b[49m[\u001b[38;5;124m\"\u001b[39m\u001b[38;5;124mcellids\u001b[39m\u001b[38;5;124m\"\u001b[39m]\u001b[38;5;241m.\u001b[39mtolist()))] \u001b[38;5;241m=\u001b[39m \u001b[38;5;28;01mTrue\u001b[39;00m\n",
      "\u001b[0;31mNameError\u001b[0m: name 'active_cells' is not defined"
     ]
    }
   ],
   "source": [
    "idomain_bool[tuple(zip(*active_cells[\"cellids\"].tolist()))] = True"
   ]
  },
  {
   "cell_type": "code",
   "execution_count": 26,
   "id": "707b1911-6ce1-4cee-9b6f-092112cda57b",
   "metadata": {
    "execution": {
     "iopub.execute_input": "2024-02-05T21:29:07.404035Z",
     "iopub.status.busy": "2024-02-05T21:29:07.403691Z",
     "iopub.status.idle": "2024-02-05T21:29:07.413977Z",
     "shell.execute_reply": "2024-02-05T21:29:07.413491Z"
    }
   },
   "outputs": [
    {
     "ename": "NameError",
     "evalue": "name 'bedrock' is not defined",
     "output_type": "error",
     "traceback": [
      "\u001b[0;31m---------------------------------------------------------------------------\u001b[0m",
      "\u001b[0;31mNameError\u001b[0m                                 Traceback (most recent call last)",
      "Cell \u001b[0;32mIn[26], line 1\u001b[0m\n\u001b[0;32m----> 1\u001b[0m idomain_bool[\u001b[38;5;28mtuple\u001b[39m(\u001b[38;5;28mzip\u001b[39m(\u001b[38;5;241m*\u001b[39m\u001b[43mbedrock\u001b[49m[\u001b[38;5;124m\"\u001b[39m\u001b[38;5;124mcellids\u001b[39m\u001b[38;5;124m\"\u001b[39m]\u001b[38;5;241m.\u001b[39mtolist()))] \u001b[38;5;241m=\u001b[39m \u001b[38;5;28;01mFalse\u001b[39;00m\n",
      "\u001b[0;31mNameError\u001b[0m: name 'bedrock' is not defined"
     ]
    }
   ],
   "source": [
    "idomain_bool[tuple(zip(*bedrock[\"cellids\"].tolist()))] = False"
   ]
  },
  {
   "cell_type": "code",
   "execution_count": 27,
   "id": "f01f4f25-5954-459b-9847-a2dfc59333ba",
   "metadata": {
    "execution": {
     "iopub.execute_input": "2024-02-05T21:29:07.415819Z",
     "iopub.status.busy": "2024-02-05T21:29:07.415444Z",
     "iopub.status.idle": "2024-02-05T21:29:07.506757Z",
     "shell.execute_reply": "2024-02-05T21:29:07.506241Z"
    }
   },
   "outputs": [
    {
     "data": {
      "text/plain": [
       "<matplotlib.image.AxesImage at 0x7f839276a1d0>"
      ]
     },
     "execution_count": 27,
     "metadata": {},
     "output_type": "execute_result"
    },
    {
     "data": {
      "image/png": "[encoded data removed]",
      "text/plain": [
       "<Figure size 640x480 with 1 Axes>"
      ]
     },
     "metadata": {},
     "output_type": "display_data"
    }
   ],
   "source": [
    "plt.imshow(idomain_bool)"
   ]
  },
  {
   "cell_type": "code",
   "execution_count": 28,
   "id": "10ed5e0a-7fd5-4dc8-b6c1-dd3271288032",
   "metadata": {
    "execution": {
     "iopub.execute_input": "2024-02-05T21:29:07.508861Z",
     "iopub.status.busy": "2024-02-05T21:29:07.508550Z",
     "iopub.status.idle": "2024-02-05T21:29:07.512175Z",
     "shell.execute_reply": "2024-02-05T21:29:07.511678Z"
    }
   },
   "outputs": [
    {
     "data": {
      "text/plain": [
       "array([[False, False, False, ..., False, False, False],\n",
       "       [False, False, False, ..., False, False, False],\n",
       "       [False, False, False, ..., False, False, False],\n",
       "       ...,\n",
       "       [False, False, False, ..., False, False, False],\n",
       "       [False, False, False, ..., False, False, False],\n",
       "       [False, False, False, ..., False, False, False]])"
      ]
     },
     "execution_count": 28,
     "metadata": {},
     "output_type": "execute_result"
    }
   ],
   "source": [
    "idomain_bool"
   ]
  },
  {
   "cell_type": "code",
   "execution_count": 29,
   "id": "16ac7af1-49c4-4cde-bbbb-84f935b68830",
   "metadata": {
    "execution": {
     "iopub.execute_input": "2024-02-05T21:29:07.514027Z",
     "iopub.status.busy": "2024-02-05T21:29:07.513718Z",
     "iopub.status.idle": "2024-02-05T21:29:07.666311Z",
     "shell.execute_reply": "2024-02-05T21:29:07.665800Z"
    }
   },
   "outputs": [
    {
     "data": {
      "text/plain": [
       "<matplotlib.colorbar.Colorbar at 0x7f839aa5ced0>"
      ]
     },
     "execution_count": 29,
     "metadata": {},
     "output_type": "execute_result"
    },
    {
     "data": {
      "image/png": "[encoded data removed]",
      "text/plain": [
       "<Figure size 640x480 with 2 Axes>"
      ]
     },
     "metadata": {},
     "output_type": "display_data"
    }
   ],
   "source": [
    "idomain = np.zeros((nrow, ncol), dtype=float)\n",
    "idomain[idomain_bool] = 1\n",
    "v = plt.imshow(idomain)\n",
    "plt.colorbar(v)"
   ]
  },
  {
   "cell_type": "code",
   "execution_count": 30,
   "id": "2ab2c53b-1e4f-4974-9325-0bfce1dc9dbe",
   "metadata": {
    "execution": {
     "iopub.execute_input": "2024-02-05T21:29:07.668332Z",
     "iopub.status.busy": "2024-02-05T21:29:07.667985Z",
     "iopub.status.idle": "2024-02-05T21:29:07.671721Z",
     "shell.execute_reply": "2024-02-05T21:29:07.671231Z"
    }
   },
   "outputs": [
    {
     "data": {
      "text/plain": [
       "(3, 160, 80)"
      ]
     },
     "execution_count": 30,
     "metadata": {},
     "output_type": "execute_result"
    }
   ],
   "source": [
    "idomain = np.array([idomain, idomain, idomain])\n",
    "idomain.shape"
   ]
  },
  {
   "cell_type": "markdown",
   "id": "410fd6be-b9b2-44d8-8e45-cf022470d4a5",
   "metadata": {},
   "source": [
    "_Build the well package stress period data_\n",
    "\n",
    "* The pumping rates are in the `wells` geopandas dataframe\n",
    "* Pumping rates are in m$^3$/sec\n",
    "* The wells are located in model layer 3"
   ]
  },
  {
   "cell_type": "code",
   "execution_count": 31,
   "id": "8abad8ba-f38b-4c85-bafe-040b8bd5de26",
   "metadata": {
    "execution": {
     "iopub.execute_input": "2024-02-05T21:29:07.673588Z",
     "iopub.status.busy": "2024-02-05T21:29:07.673337Z",
     "iopub.status.idle": "2024-02-05T21:29:07.684047Z",
     "shell.execute_reply": "2024-02-05T21:29:07.683651Z"
    }
   },
   "outputs": [
    {
     "ename": "NameError",
     "evalue": "name 'wells' is not defined",
     "output_type": "error",
     "traceback": [
      "\u001b[0;31m---------------------------------------------------------------------------\u001b[0m",
      "\u001b[0;31mNameError\u001b[0m                                 Traceback (most recent call last)",
      "Cell \u001b[0;32mIn[31], line 1\u001b[0m\n\u001b[0;32m----> 1\u001b[0m \u001b[43mwells\u001b[49m\n",
      "\u001b[0;31mNameError\u001b[0m: name 'wells' is not defined"
     ]
    }
   ],
   "source": [
    "wells"
   ]
  },
  {
   "cell_type": "code",
   "execution_count": 32,
   "id": "92672b02-13cb-4253-b009-cfa23ff572be",
   "metadata": {
    "execution": {
     "iopub.execute_input": "2024-02-05T21:29:07.685901Z",
     "iopub.status.busy": "2024-02-05T21:29:07.685576Z",
     "iopub.status.idle": "2024-02-05T21:29:07.697998Z",
     "shell.execute_reply": "2024-02-05T21:29:07.697567Z"
    }
   },
   "outputs": [
    {
     "ename": "NameError",
     "evalue": "name 'wells' is not defined",
     "output_type": "error",
     "traceback": [
      "\u001b[0;31m---------------------------------------------------------------------------\u001b[0m",
      "\u001b[0;31mNameError\u001b[0m                                 Traceback (most recent call last)",
      "Cell \u001b[0;32mIn[32], line 2\u001b[0m\n\u001b[1;32m      1\u001b[0m well_spd \u001b[38;5;241m=\u001b[39m []\n\u001b[0;32m----> 2\u001b[0m \u001b[38;5;28;01mfor\u001b[39;00m (i, j), q \u001b[38;5;129;01min\u001b[39;00m \u001b[38;5;28mzip\u001b[39m(well_cells, \u001b[43mwells\u001b[49m[\u001b[38;5;124m\"\u001b[39m\u001b[38;5;124mQ\u001b[39m\u001b[38;5;124m\"\u001b[39m]):\n\u001b[1;32m      3\u001b[0m     well_spd\u001b[38;5;241m.\u001b[39mappend([\u001b[38;5;241m2\u001b[39m, i, j, q \u001b[38;5;241m*\u001b[39m \u001b[38;5;241m86400.0\u001b[39m])\n\u001b[1;32m      4\u001b[0m well_spd\n",
      "\u001b[0;31mNameError\u001b[0m: name 'wells' is not defined"
     ]
    }
   ],
   "source": [
    "well_spd = []\n",
    "for (i, j), q in zip(well_cells, wells[\"Q\"]):\n",
    "    well_spd.append([2, i, j, q * 86400.0])\n",
    "well_spd"
   ]
  },
  {
   "cell_type": "markdown",
   "id": "b9acc234-e7b7-434a-8a1d-8533c7225003",
   "metadata": {},
   "source": [
    "_Build the river package stress period data_\n",
    "\n",
    "* Calculate the length of the river using the `\"lengths\"` key. \n",
    "* The vertical hydraulic conductivity of the river bed sediments is 3.5 m/d.\n",
    "* The thickness of river bottom sediments at the upstream (North) and downstream (South) end of the river is 0.5 and 1.5 meters, respectively. \n",
    "* The river bottom at the upstream and downstream end of the river is 16.5 and 14.5 meters, respectively. The river width at the upstream and downstream end of the river is 5.0 and 10.0 meters, respectively. \n",
    "* The river stage at the upstream and downstream end of the river is 16.6 and 15.5 meters, respectively.\n",
    "* Use the boundname `upstream` for river cells where the upstream end of the river cell is less than 5000 m from the North end of the model. Use the boundname `downstream` for all other river cells. \n",
    "* Make sure the river cell is in the upper most layer where the river bottom exceeds the bottom of the cell.\n",
    "\n",
    "Use the upstream and downstream values to interpolate the river sediment thickness, bottom, width, and stage for each river cell.\n",
    "\n",
    "The river cells will be conected to model layer 1. The river bottom, width, and stage values should be calculated at the center of the river reach."
   ]
  },
  {
   "cell_type": "code",
   "execution_count": 33,
   "id": "1f0b8a27-6dba-4f62-b11c-f92bdada50a8",
   "metadata": {
    "execution": {
     "iopub.execute_input": "2024-02-05T21:29:07.699797Z",
     "iopub.status.busy": "2024-02-05T21:29:07.699485Z",
     "iopub.status.idle": "2024-02-05T21:29:07.702090Z",
     "shell.execute_reply": "2024-02-05T21:29:07.701707Z"
    }
   },
   "outputs": [],
   "source": [
    "river_kv = 3.5\n",
    "river_thickness_up, river_thickness_down = 0.5, 1.5\n",
    "river_bot_up, river_bot_down = 16.5, 14.5\n",
    "river_width_up, river_width_down = 5.0, 10.0\n",
    "stage_up, stage_down = 16.6, 15.5"
   ]
  },
  {
   "cell_type": "code",
   "execution_count": 34,
   "id": "d0013ce6-3c75-4f25-b7a4-17cf7ce7e456",
   "metadata": {
    "execution": {
     "iopub.execute_input": "2024-02-05T21:29:07.703833Z",
     "iopub.status.busy": "2024-02-05T21:29:07.703592Z",
     "iopub.status.idle": "2024-02-05T21:29:07.714489Z",
     "shell.execute_reply": "2024-02-05T21:29:07.714029Z"
    }
   },
   "outputs": [
    {
     "ename": "NameError",
     "evalue": "name 'river_cells' is not defined",
     "output_type": "error",
     "traceback": [
      "\u001b[0;31m---------------------------------------------------------------------------\u001b[0m",
      "\u001b[0;31mNameError\u001b[0m                                 Traceback (most recent call last)",
      "Cell \u001b[0;32mIn[34], line 1\u001b[0m\n\u001b[0;32m----> 1\u001b[0m river_length \u001b[38;5;241m=\u001b[39m \u001b[43mriver_cells\u001b[49m[\u001b[38;5;124m\"\u001b[39m\u001b[38;5;124mlengths\u001b[39m\u001b[38;5;124m\"\u001b[39m]\u001b[38;5;241m.\u001b[39msum()\n\u001b[1;32m      2\u001b[0m river_length\n",
      "\u001b[0;31mNameError\u001b[0m: name 'river_cells' is not defined"
     ]
    }
   ],
   "source": [
    "river_length = river_cells[\"lengths\"].sum()\n",
    "river_length"
   ]
  },
  {
   "cell_type": "code",
   "execution_count": 35,
   "id": "a565b394-c57c-45bd-a947-8565c86ed87b",
   "metadata": {
    "execution": {
     "iopub.execute_input": "2024-02-05T21:29:07.716352Z",
     "iopub.status.busy": "2024-02-05T21:29:07.716092Z",
     "iopub.status.idle": "2024-02-05T21:29:07.726407Z",
     "shell.execute_reply": "2024-02-05T21:29:07.725999Z"
    }
   },
   "outputs": [
    {
     "ename": "NameError",
     "evalue": "name 'river_length' is not defined",
     "output_type": "error",
     "traceback": [
      "\u001b[0;31m---------------------------------------------------------------------------\u001b[0m",
      "\u001b[0;31mNameError\u001b[0m                                 Traceback (most recent call last)",
      "Cell \u001b[0;32mIn[35], line 3\u001b[0m\n\u001b[1;32m      1\u001b[0m river_thickness_slope \u001b[38;5;241m=\u001b[39m (\n\u001b[1;32m      2\u001b[0m     river_thickness_down \u001b[38;5;241m-\u001b[39m river_thickness_up\n\u001b[0;32m----> 3\u001b[0m ) \u001b[38;5;241m/\u001b[39m \u001b[43mriver_length\u001b[49m\n",
      "\u001b[0;31mNameError\u001b[0m: name 'river_length' is not defined"
     ]
    }
   ],
   "source": [
    "river_thickness_slope = (\n",
    "    river_thickness_down - river_thickness_up\n",
    ") / river_length"
   ]
  },
  {
   "cell_type": "code",
   "execution_count": 36,
   "id": "488d4e1b-6ee5-474e-91a0-6fe1dc764dee",
   "metadata": {
    "execution": {
     "iopub.execute_input": "2024-02-05T21:29:07.728211Z",
     "iopub.status.busy": "2024-02-05T21:29:07.727879Z",
     "iopub.status.idle": "2024-02-05T21:29:07.737845Z",
     "shell.execute_reply": "2024-02-05T21:29:07.737448Z"
    }
   },
   "outputs": [
    {
     "ename": "NameError",
     "evalue": "name 'river_length' is not defined",
     "output_type": "error",
     "traceback": [
      "\u001b[0;31m---------------------------------------------------------------------------\u001b[0m",
      "\u001b[0;31mNameError\u001b[0m                                 Traceback (most recent call last)",
      "Cell \u001b[0;32mIn[36], line 1\u001b[0m\n\u001b[0;32m----> 1\u001b[0m river_bot_slope \u001b[38;5;241m=\u001b[39m (river_bot_down \u001b[38;5;241m-\u001b[39m river_bot_up) \u001b[38;5;241m/\u001b[39m \u001b[43mriver_length\u001b[49m\n",
      "\u001b[0;31mNameError\u001b[0m: name 'river_length' is not defined"
     ]
    }
   ],
   "source": [
    "river_bot_slope = (river_bot_down - river_bot_up) / river_length"
   ]
  },
  {
   "cell_type": "code",
   "execution_count": 37,
   "id": "9f7fca4f-b31a-4679-a06c-9fe79abd4318",
   "metadata": {
    "execution": {
     "iopub.execute_input": "2024-02-05T21:29:07.739609Z",
     "iopub.status.busy": "2024-02-05T21:29:07.739305Z",
     "iopub.status.idle": "2024-02-05T21:29:07.749461Z",
     "shell.execute_reply": "2024-02-05T21:29:07.748968Z"
    }
   },
   "outputs": [
    {
     "ename": "NameError",
     "evalue": "name 'river_length' is not defined",
     "output_type": "error",
     "traceback": [
      "\u001b[0;31m---------------------------------------------------------------------------\u001b[0m",
      "\u001b[0;31mNameError\u001b[0m                                 Traceback (most recent call last)",
      "Cell \u001b[0;32mIn[37], line 1\u001b[0m\n\u001b[0;32m----> 1\u001b[0m river_width_slope \u001b[38;5;241m=\u001b[39m (river_width_down \u001b[38;5;241m-\u001b[39m river_width_up) \u001b[38;5;241m/\u001b[39m \u001b[43mriver_length\u001b[49m\n",
      "\u001b[0;31mNameError\u001b[0m: name 'river_length' is not defined"
     ]
    }
   ],
   "source": [
    "river_width_slope = (river_width_down - river_width_up) / river_length"
   ]
  },
  {
   "cell_type": "code",
   "execution_count": 38,
   "id": "9d5cafa8-be40-4055-a56b-b67878c78e73",
   "metadata": {
    "execution": {
     "iopub.execute_input": "2024-02-05T21:29:07.751569Z",
     "iopub.status.busy": "2024-02-05T21:29:07.751124Z",
     "iopub.status.idle": "2024-02-05T21:29:07.761910Z",
     "shell.execute_reply": "2024-02-05T21:29:07.761496Z"
    }
   },
   "outputs": [
    {
     "ename": "NameError",
     "evalue": "name 'river_length' is not defined",
     "output_type": "error",
     "traceback": [
      "\u001b[0;31m---------------------------------------------------------------------------\u001b[0m",
      "\u001b[0;31mNameError\u001b[0m                                 Traceback (most recent call last)",
      "Cell \u001b[0;32mIn[38], line 1\u001b[0m\n\u001b[0;32m----> 1\u001b[0m stage_slope \u001b[38;5;241m=\u001b[39m (stage_down \u001b[38;5;241m-\u001b[39m stage_up) \u001b[38;5;241m/\u001b[39m \u001b[43mriver_length\u001b[49m\n",
      "\u001b[0;31mNameError\u001b[0m: name 'river_length' is not defined"
     ]
    }
   ],
   "source": [
    "stage_slope = (stage_down - stage_up) / river_length"
   ]
  },
  {
   "cell_type": "code",
   "execution_count": 39,
   "id": "d693f849-55a8-450c-934b-2cb7a2ddcc80",
   "metadata": {
    "execution": {
     "iopub.execute_input": "2024-02-05T21:29:07.763779Z",
     "iopub.status.busy": "2024-02-05T21:29:07.763473Z",
     "iopub.status.idle": "2024-02-05T21:29:07.780375Z",
     "shell.execute_reply": "2024-02-05T21:29:07.779929Z"
    },
    "scrolled": true
   },
   "outputs": [
    {
     "ename": "NameError",
     "evalue": "name 'river_cells' is not defined",
     "output_type": "error",
     "traceback": [
      "\u001b[0;31m---------------------------------------------------------------------------\u001b[0m",
      "\u001b[0;31mNameError\u001b[0m                                 Traceback (most recent call last)",
      "Cell \u001b[0;32mIn[39], line 5\u001b[0m\n\u001b[1;32m      2\u001b[0m total_length \u001b[38;5;241m=\u001b[39m \u001b[38;5;241m0.0\u001b[39m\n\u001b[1;32m      3\u001b[0m river_spd \u001b[38;5;241m=\u001b[39m []\n\u001b[1;32m      4\u001b[0m \u001b[38;5;28;01mfor\u001b[39;00m idx, (cellid, length) \u001b[38;5;129;01min\u001b[39;00m \u001b[38;5;28menumerate\u001b[39m(\n\u001b[0;32m----> 5\u001b[0m     \u001b[38;5;28mzip\u001b[39m(\u001b[43mriver_cells\u001b[49m[\u001b[38;5;124m\"\u001b[39m\u001b[38;5;124mcellids\u001b[39m\u001b[38;5;124m\"\u001b[39m], river_cells[\u001b[38;5;124m\"\u001b[39m\u001b[38;5;124mlengths\u001b[39m\u001b[38;5;124m\"\u001b[39m])\n\u001b[1;32m      6\u001b[0m ):\n\u001b[1;32m      7\u001b[0m     \u001b[38;5;28;01mif\u001b[39;00m total_length \u001b[38;5;241m>\u001b[39m\u001b[38;5;241m=\u001b[39m \u001b[38;5;241m5000.0\u001b[39m \u001b[38;5;129;01mand\u001b[39;00m boundname \u001b[38;5;241m==\u001b[39m \u001b[38;5;124m\"\u001b[39m\u001b[38;5;124mupstream\u001b[39m\u001b[38;5;124m\"\u001b[39m:\n\u001b[1;32m      8\u001b[0m         boundname \u001b[38;5;241m=\u001b[39m \u001b[38;5;124m\"\u001b[39m\u001b[38;5;124mdownstream\u001b[39m\u001b[38;5;124m\"\u001b[39m\n",
      "\u001b[0;31mNameError\u001b[0m: name 'river_cells' is not defined"
     ]
    }
   ],
   "source": [
    "boundname = \"upstream\"\n",
    "total_length = 0.0\n",
    "river_spd = []\n",
    "for idx, (cellid, length) in enumerate(\n",
    "    zip(river_cells[\"cellids\"], river_cells[\"lengths\"])\n",
    "):\n",
    "    if total_length >= 5000.0 and boundname == \"upstream\":\n",
    "        boundname = \"downstream\"\n",
    "    dx = 0.5 * length\n",
    "    total_length += dx\n",
    "    river_thickness = river_thickness_up + river_thickness_slope * total_length\n",
    "    river_bot = river_bot_up + river_bot_slope * total_length\n",
    "    river_width = river_width_up + river_width_slope * total_length\n",
    "    river_stage = stage_up + stage_slope * total_length\n",
    "    conductance = river_kv * length * river_width / river_thickness\n",
    "\n",
    "    i, j = cellid\n",
    "    for k in range(nlay):\n",
    "        if river_bot - river_thickness > botm[k, i, j]:\n",
    "            riv_layer = k\n",
    "            break\n",
    "\n",
    "    river_spd.append(\n",
    "        [riv_layer, i, j, river_stage, conductance, river_bot, boundname]\n",
    "    )\n",
    "    total_length += dx\n",
    "river_spd[:2], river_spd[-2:]"
   ]
  },
  {
   "cell_type": "markdown",
   "id": "3d7f40ea-769f-4a79-8c3d-71c8a66b77f0",
   "metadata": {},
   "source": [
    "_A more pythonic approach_"
   ]
  },
  {
   "cell_type": "code",
   "execution_count": 40,
   "id": "364d718f-cf55-4464-a700-34e4ffd4a995",
   "metadata": {
    "execution": {
     "iopub.execute_input": "2024-02-05T21:29:07.782239Z",
     "iopub.status.busy": "2024-02-05T21:29:07.782078Z",
     "iopub.status.idle": "2024-02-05T21:29:07.793145Z",
     "shell.execute_reply": "2024-02-05T21:29:07.792669Z"
    }
   },
   "outputs": [
    {
     "ename": "NameError",
     "evalue": "name 'river_cells' is not defined",
     "output_type": "error",
     "traceback": [
      "\u001b[0;31m---------------------------------------------------------------------------\u001b[0m",
      "\u001b[0;31mNameError\u001b[0m                                 Traceback (most recent call last)",
      "Cell \u001b[0;32mIn[40], line 1\u001b[0m\n\u001b[0;32m----> 1\u001b[0m xmid \u001b[38;5;241m=\u001b[39m \u001b[43mriver_cells\u001b[49m[\u001b[38;5;124m\"\u001b[39m\u001b[38;5;124mlengths\u001b[39m\u001b[38;5;124m\"\u001b[39m]\u001b[38;5;241m.\u001b[39mcumsum() \u001b[38;5;241m-\u001b[39m \u001b[38;5;241m0.5\u001b[39m \u001b[38;5;241m*\u001b[39m river_cells[\u001b[38;5;124m\"\u001b[39m\u001b[38;5;124mlengths\u001b[39m\u001b[38;5;124m\"\u001b[39m]\n\u001b[1;32m      2\u001b[0m xp \u001b[38;5;241m=\u001b[39m [\u001b[38;5;241m0\u001b[39m, river_cells[\u001b[38;5;124m\"\u001b[39m\u001b[38;5;124mlengths\u001b[39m\u001b[38;5;124m\"\u001b[39m]\u001b[38;5;241m.\u001b[39mcumsum()[\u001b[38;5;241m-\u001b[39m\u001b[38;5;241m1\u001b[39m]]\n\u001b[1;32m      3\u001b[0m xp\n",
      "\u001b[0;31mNameError\u001b[0m: name 'river_cells' is not defined"
     ]
    }
   ],
   "source": [
    "xmid = river_cells[\"lengths\"].cumsum() - 0.5 * river_cells[\"lengths\"]\n",
    "xp = [0, river_cells[\"lengths\"].cumsum()[-1]]\n",
    "xp"
   ]
  },
  {
   "cell_type": "code",
   "execution_count": 41,
   "id": "2e7733e1-d760-4a86-bdd0-473ff6be4e08",
   "metadata": {
    "execution": {
     "iopub.execute_input": "2024-02-05T21:29:07.795031Z",
     "iopub.status.busy": "2024-02-05T21:29:07.794666Z",
     "iopub.status.idle": "2024-02-05T21:29:07.806324Z",
     "shell.execute_reply": "2024-02-05T21:29:07.805925Z"
    }
   },
   "outputs": [
    {
     "ename": "NameError",
     "evalue": "name 'xmid' is not defined",
     "output_type": "error",
     "traceback": [
      "\u001b[0;31m---------------------------------------------------------------------------\u001b[0m",
      "\u001b[0;31mNameError\u001b[0m                                 Traceback (most recent call last)",
      "Cell \u001b[0;32mIn[41], line 1\u001b[0m\n\u001b[0;32m----> 1\u001b[0m riv_stage \u001b[38;5;241m=\u001b[39m np\u001b[38;5;241m.\u001b[39minterp(\u001b[43mxmid\u001b[49m, xp, [stage_up, stage_down])\n\u001b[1;32m      2\u001b[0m riv_thick \u001b[38;5;241m=\u001b[39m np\u001b[38;5;241m.\u001b[39minterp(xmid, xp, [river_thickness_up, river_thickness_down])\n\u001b[1;32m      3\u001b[0m riv_bot \u001b[38;5;241m=\u001b[39m np\u001b[38;5;241m.\u001b[39minterp(xmid, xp, [river_bot_up, river_bot_down])\n",
      "\u001b[0;31mNameError\u001b[0m: name 'xmid' is not defined"
     ]
    }
   ],
   "source": [
    "riv_stage = np.interp(xmid, xp, [stage_up, stage_down])\n",
    "riv_thick = np.interp(xmid, xp, [river_thickness_up, river_thickness_down])\n",
    "riv_bot = np.interp(xmid, xp, [river_bot_up, river_bot_down])\n",
    "riv_wid = np.interp(xmid, xp, [river_width_up, river_width_down])\n",
    "riv_cond = river_kv * river_cells[\"lengths\"] * riv_wid / riv_thick"
   ]
  },
  {
   "cell_type": "code",
   "execution_count": 42,
   "id": "3e6d136c-50b1-4659-90a7-ef5b3f75cb9f",
   "metadata": {
    "execution": {
     "iopub.execute_input": "2024-02-05T21:29:07.808215Z",
     "iopub.status.busy": "2024-02-05T21:29:07.807887Z",
     "iopub.status.idle": "2024-02-05T21:29:07.818848Z",
     "shell.execute_reply": "2024-02-05T21:29:07.818390Z"
    }
   },
   "outputs": [
    {
     "ename": "NameError",
     "evalue": "name 'riv_bot' is not defined",
     "output_type": "error",
     "traceback": [
      "\u001b[0;31m---------------------------------------------------------------------------\u001b[0m",
      "\u001b[0;31mNameError\u001b[0m                                 Traceback (most recent call last)",
      "Cell \u001b[0;32mIn[42], line 1\u001b[0m\n\u001b[0;32m----> 1\u001b[0m riv_bot_elev \u001b[38;5;241m=\u001b[39m \u001b[43mriv_bot\u001b[49m \u001b[38;5;241m-\u001b[39m riv_thick\n\u001b[1;32m      2\u001b[0m riv_layer \u001b[38;5;241m=\u001b[39m [\u001b[38;5;241m0\u001b[39m \u001b[38;5;28;01mif\u001b[39;00m riv_bot_elev[idx] \u001b[38;5;241m>\u001b[39m botm[\u001b[38;5;241m0\u001b[39m, i, j] \u001b[38;5;28;01melse\u001b[39;00m \u001b[38;5;241m1\u001b[39m \u001b[38;5;28;01mfor\u001b[39;00m idx, (i, j) \u001b[38;5;129;01min\u001b[39;00m \u001b[38;5;28menumerate\u001b[39m(river_cells[\u001b[38;5;124m\"\u001b[39m\u001b[38;5;124mcellids\u001b[39m\u001b[38;5;124m\"\u001b[39m])] \n",
      "\u001b[0;31mNameError\u001b[0m: name 'riv_bot' is not defined"
     ]
    }
   ],
   "source": [
    "riv_bot_elev = riv_bot - riv_thick\n",
    "riv_layer = [0 if riv_bot_elev[idx] > botm[0, i, j] else 1 for idx, (i, j) in enumerate(river_cells[\"cellids\"])] "
   ]
  },
  {
   "cell_type": "code",
   "execution_count": 43,
   "id": "94386a56-f10b-44c2-9972-99172b36a9a6",
   "metadata": {
    "execution": {
     "iopub.execute_input": "2024-02-05T21:29:07.820777Z",
     "iopub.status.busy": "2024-02-05T21:29:07.820418Z",
     "iopub.status.idle": "2024-02-05T21:29:07.830787Z",
     "shell.execute_reply": "2024-02-05T21:29:07.830310Z"
    }
   },
   "outputs": [
    {
     "ename": "NameError",
     "evalue": "name 'riv_cond' is not defined",
     "output_type": "error",
     "traceback": [
      "\u001b[0;31m---------------------------------------------------------------------------\u001b[0m",
      "\u001b[0;31mNameError\u001b[0m                                 Traceback (most recent call last)",
      "Cell \u001b[0;32mIn[43], line 1\u001b[0m\n\u001b[0;32m----> 1\u001b[0m riv_bndname \u001b[38;5;241m=\u001b[39m np\u001b[38;5;241m.\u001b[39mfull(\u001b[43mriv_cond\u001b[49m\u001b[38;5;241m.\u001b[39mshape, \u001b[38;5;124m\"\u001b[39m\u001b[38;5;124mupstream\u001b[39m\u001b[38;5;124m\"\u001b[39m, dtype\u001b[38;5;241m=\u001b[39m\u001b[38;5;124m\"\u001b[39m\u001b[38;5;124m|S10\u001b[39m\u001b[38;5;124m\"\u001b[39m)\n\u001b[1;32m      2\u001b[0m riv_bndname[xmid \u001b[38;5;241m>\u001b[39m \u001b[38;5;241m5000.\u001b[39m] \u001b[38;5;241m=\u001b[39m \u001b[38;5;124m\"\u001b[39m\u001b[38;5;124mdownstream\u001b[39m\u001b[38;5;124m\"\u001b[39m\n",
      "\u001b[0;31mNameError\u001b[0m: name 'riv_cond' is not defined"
     ]
    }
   ],
   "source": [
    "riv_bndname = np.full(riv_cond.shape, \"upstream\", dtype=\"|S10\")\n",
    "riv_bndname[xmid > 5000.] = \"downstream\""
   ]
  },
  {
   "cell_type": "code",
   "execution_count": 44,
   "id": "5b520e0a-a6a0-4cec-bc5c-42c738bc9f99",
   "metadata": {
    "execution": {
     "iopub.execute_input": "2024-02-05T21:29:07.832548Z",
     "iopub.status.busy": "2024-02-05T21:29:07.832273Z",
     "iopub.status.idle": "2024-02-05T21:29:07.843467Z",
     "shell.execute_reply": "2024-02-05T21:29:07.843001Z"
    }
   },
   "outputs": [
    {
     "ename": "NameError",
     "evalue": "name 'river_cells' is not defined",
     "output_type": "error",
     "traceback": [
      "\u001b[0;31m---------------------------------------------------------------------------\u001b[0m",
      "\u001b[0;31mNameError\u001b[0m                                 Traceback (most recent call last)",
      "Cell \u001b[0;32mIn[44], line 2\u001b[0m\n\u001b[1;32m      1\u001b[0m river_spd \u001b[38;5;241m=\u001b[39m [(riv_layer[idx], i, j, riv_stage[idx], riv_cond[idx], riv_bot[idx], riv_bndname[idx]\u001b[38;5;241m.\u001b[39mdecode(\u001b[38;5;124m'\u001b[39m\u001b[38;5;124mUTF-8\u001b[39m\u001b[38;5;124m'\u001b[39m)) \n\u001b[0;32m----> 2\u001b[0m              \u001b[38;5;28;01mfor\u001b[39;00m idx, (i,j) \u001b[38;5;129;01min\u001b[39;00m \u001b[38;5;28menumerate\u001b[39m(\u001b[43mriver_cells\u001b[49m[\u001b[38;5;124m\"\u001b[39m\u001b[38;5;124mcellids\u001b[39m\u001b[38;5;124m\"\u001b[39m])]\n\u001b[1;32m      3\u001b[0m river_spd[:\u001b[38;5;241m2\u001b[39m], river_spd[\u001b[38;5;241m-\u001b[39m\u001b[38;5;241m2\u001b[39m:]\n",
      "\u001b[0;31mNameError\u001b[0m: name 'river_cells' is not defined"
     ]
    }
   ],
   "source": [
    "river_spd = [(riv_layer[idx], i, j, riv_stage[idx], riv_cond[idx], riv_bot[idx], riv_bndname[idx].decode('UTF-8')) \n",
    "             for idx, (i,j) in enumerate(river_cells[\"cellids\"])]\n",
    "river_spd[:2], river_spd[-2:]"
   ]
  },
  {
   "cell_type": "markdown",
   "id": "837ae702-a313-4e4e-90f0-6bc6c6b5ef61",
   "metadata": {},
   "source": [
    "_Define river observations_"
   ]
  },
  {
   "cell_type": "code",
   "execution_count": 45,
   "id": "452fa4f3-aac7-422b-b38b-1045e8b4cd1f",
   "metadata": {
    "execution": {
     "iopub.execute_input": "2024-02-05T21:29:07.845400Z",
     "iopub.status.busy": "2024-02-05T21:29:07.845089Z",
     "iopub.status.idle": "2024-02-05T21:29:07.847691Z",
     "shell.execute_reply": "2024-02-05T21:29:07.847316Z"
    }
   },
   "outputs": [],
   "source": [
    "riv_obs = {\n",
    "    \"riv_obs.csv\": [\n",
    "        (\"UPSTREAM\", \"RIV\", \"UPSTREAM\"),\n",
    "        (\"DOWNSTREAM\", \"RIV\", \"DOWNSTREAM\"),\n",
    "    ],\n",
    "    \"more_riv_obs.csv\": [\n",
    "        (\"00000000\", \"RIV\", 0, 0, 0),\n",
    "        (\"gage2\", \"RIV\", 1, 2, 3),\n",
    "    ],\n",
    "}"
   ]
  },
  {
   "cell_type": "markdown",
   "id": "7906e810-488e-4894-9120-a91419a0c803",
   "metadata": {},
   "source": [
    "_Define the constant head cells_\n",
    "\n",
    "Assume the constant head cells are located in all three layers and have values equal to the downstream river stage (`stage_down`). Make sure the constant head stage is greater that the bottom of the layer."
   ]
  },
  {
   "cell_type": "code",
   "execution_count": 46,
   "id": "7eb1d1d6-13e3-48a6-ae02-dc82e1878652",
   "metadata": {
    "execution": {
     "iopub.execute_input": "2024-02-05T21:29:07.849372Z",
     "iopub.status.busy": "2024-02-05T21:29:07.849215Z",
     "iopub.status.idle": "2024-02-05T21:29:07.853554Z",
     "shell.execute_reply": "2024-02-05T21:29:07.853158Z"
    }
   },
   "outputs": [
    {
     "data": {
      "text/plain": [
       "([], [])"
      ]
     },
     "execution_count": 46,
     "metadata": {},
     "output_type": "execute_result"
    }
   ],
   "source": [
    "chd_spd = []\n",
    "for i, j in constant_cells[\"cellids\"]:\n",
    "    for k in range(nlay):\n",
    "        if stage_down > botm[k, i, j] and idomain[k, i, j] > 0:\n",
    "            chd_spd.append((k, i, j, stage_down))\n",
    "chd_spd[:2], chd_spd[-2:]"
   ]
  },
  {
   "cell_type": "markdown",
   "id": "a5f85bfe-d6df-42ff-b475-3d63773a3c2f",
   "metadata": {},
   "source": [
    "_Define recharge rates_\n",
    "\n",
    "* The recharge rate is 0.16000000E-08 m/sec"
   ]
  },
  {
   "cell_type": "code",
   "execution_count": 47,
   "id": "08edb467-a90f-47c9-8465-0b619ea02e83",
   "metadata": {
    "execution": {
     "iopub.execute_input": "2024-02-05T21:29:07.855159Z",
     "iopub.status.busy": "2024-02-05T21:29:07.855001Z",
     "iopub.status.idle": "2024-02-05T21:29:07.858229Z",
     "shell.execute_reply": "2024-02-05T21:29:07.857836Z"
    }
   },
   "outputs": [
    {
     "data": {
      "text/plain": [
       "0.00013824"
      ]
     },
     "execution_count": 47,
     "metadata": {},
     "output_type": "execute_result"
    }
   ],
   "source": [
    "recharge_rate = 0.16000000e-08 * 86400.0\n",
    "recharge_rate"
   ]
  },
  {
   "cell_type": "markdown",
   "id": "6353df62-e5b5-4bab-9e32-0f4cf3e679df",
   "metadata": {},
   "source": [
    "#### Build the model\n",
    "\n",
    "Build a steady-state model using the data that you have created. Packages to create:\n",
    "\n",
    "* Simulation\n",
    "* TDIS (1 stress period, `TIME_UNITS='days'`)\n",
    "* IMS (default parameters)\n",
    "\n",
    "* GWF model (`SAVE_FLOWS=True`)\n",
    "* DIS (`LENGTH_UNITS='meters'`)\n",
    "* IC (`STRT=40.`)\n",
    "* NPF (Unconfined, same K for all layers, `SAVE_SPECIFIC_DISCHARGE=True`, `icelltype=1`)\n",
    "* RCH (array based)\n",
    "* RIV (`BOUNDNAMES=True`,add `RIV` observations for defined boundnames)\n",
    "* CHD\n",
    "* WEL\n",
    "* OC (Save `HEAD ALL` and `BUDGET ALL`)\n"
   ]
  },
  {
   "cell_type": "code",
   "execution_count": 48,
   "id": "b98023a9-21da-4916-a419-4047a423b5df",
   "metadata": {
    "execution": {
     "iopub.execute_input": "2024-02-05T21:29:07.859801Z",
     "iopub.status.busy": "2024-02-05T21:29:07.859652Z",
     "iopub.status.idle": "2024-02-05T21:29:07.861844Z",
     "shell.execute_reply": "2024-02-05T21:29:07.861472Z"
    }
   },
   "outputs": [],
   "source": [
    "name = \"project\""
   ]
  },
  {
   "cell_type": "code",
   "execution_count": 49,
   "id": "ceeb9cf4-c2a5-4eed-bb6e-058b141739d7",
   "metadata": {
    "execution": {
     "iopub.execute_input": "2024-02-05T21:29:07.863468Z",
     "iopub.status.busy": "2024-02-05T21:29:07.863231Z",
     "iopub.status.idle": "2024-02-05T21:29:07.899546Z",
     "shell.execute_reply": "2024-02-05T21:29:07.899112Z"
    }
   },
   "outputs": [],
   "source": [
    "sim = flopy.mf6.MFSimulation(sim_name=name, sim_ws=model_ws, exe_name=\"mf6\")\n",
    "tdis = flopy.mf6.ModflowTdis(sim, time_units=\"days\")\n",
    "ims = flopy.mf6.ModflowIms(\n",
    "    sim, outer_maximum=200, inner_maximum=100, linear_acceleration=\"bicgstab\"\n",
    ")"
   ]
  },
  {
   "cell_type": "code",
   "execution_count": 50,
   "id": "9c85c033-c73a-43ec-8682-e866c094fcb9",
   "metadata": {
    "execution": {
     "iopub.execute_input": "2024-02-05T21:29:07.901612Z",
     "iopub.status.busy": "2024-02-05T21:29:07.901441Z",
     "iopub.status.idle": "2024-02-05T21:29:07.904667Z",
     "shell.execute_reply": "2024-02-05T21:29:07.904160Z"
    }
   },
   "outputs": [],
   "source": [
    "gwf = flopy.mf6.ModflowGwf(\n",
    "    sim,\n",
    "    modelname=name,\n",
    "    save_flows=True,\n",
    "    newtonoptions=\"NETWON UNDER_RELAXATION\",\n",
    ")"
   ]
  },
  {
   "cell_type": "code",
   "execution_count": 51,
   "id": "0ce841a8-14ce-408a-844d-49251d91b091",
   "metadata": {
    "execution": {
     "iopub.execute_input": "2024-02-05T21:29:07.906494Z",
     "iopub.status.busy": "2024-02-05T21:29:07.906191Z",
     "iopub.status.idle": "2024-02-05T21:29:07.922253Z",
     "shell.execute_reply": "2024-02-05T21:29:07.921836Z"
    }
   },
   "outputs": [
    {
     "ename": "NameError",
     "evalue": "name 'rtop' is not defined",
     "output_type": "error",
     "traceback": [
      "\u001b[0;31m---------------------------------------------------------------------------\u001b[0m",
      "\u001b[0;31mNameError\u001b[0m                                 Traceback (most recent call last)",
      "Cell \u001b[0;32mIn[51], line 9\u001b[0m\n\u001b[1;32m      1\u001b[0m dis \u001b[38;5;241m=\u001b[39m flopy\u001b[38;5;241m.\u001b[39mmf6\u001b[38;5;241m.\u001b[39mModflowGwfdis(\n\u001b[1;32m      2\u001b[0m     gwf,\n\u001b[1;32m      3\u001b[0m     length_units\u001b[38;5;241m=\u001b[39m\u001b[38;5;124m\"\u001b[39m\u001b[38;5;124mmeters\u001b[39m\u001b[38;5;124m\"\u001b[39m,\n\u001b[1;32m      4\u001b[0m     nlay\u001b[38;5;241m=\u001b[39mnlay,\n\u001b[1;32m      5\u001b[0m     nrow\u001b[38;5;241m=\u001b[39mnrow,\n\u001b[1;32m      6\u001b[0m     ncol\u001b[38;5;241m=\u001b[39mncol,\n\u001b[1;32m      7\u001b[0m     delr\u001b[38;5;241m=\u001b[39mdelr,\n\u001b[1;32m      8\u001b[0m     delc\u001b[38;5;241m=\u001b[39mdelc,\n\u001b[0;32m----> 9\u001b[0m     top\u001b[38;5;241m=\u001b[39m\u001b[43mrtop\u001b[49m,\n\u001b[1;32m     10\u001b[0m     botm\u001b[38;5;241m=\u001b[39mbotm,\n\u001b[1;32m     11\u001b[0m     idomain\u001b[38;5;241m=\u001b[39midomain,\n\u001b[1;32m     12\u001b[0m )\n\u001b[1;32m     13\u001b[0m ic \u001b[38;5;241m=\u001b[39m flopy\u001b[38;5;241m.\u001b[39mmf6\u001b[38;5;241m.\u001b[39mModflowGwfic(gwf, strt\u001b[38;5;241m=\u001b[39m\u001b[38;5;241m40.0\u001b[39m)\n\u001b[1;32m     14\u001b[0m npf \u001b[38;5;241m=\u001b[39m flopy\u001b[38;5;241m.\u001b[39mmf6\u001b[38;5;241m.\u001b[39mModflowGwfnpf(\n\u001b[1;32m     15\u001b[0m     gwf, save_specific_discharge\u001b[38;5;241m=\u001b[39m\u001b[38;5;28;01mTrue\u001b[39;00m, k\u001b[38;5;241m=\u001b[39m[rkaq, rkaq, rkaq], icelltype\u001b[38;5;241m=\u001b[39m\u001b[38;5;241m1\u001b[39m\n\u001b[1;32m     16\u001b[0m )\n",
      "\u001b[0;31mNameError\u001b[0m: name 'rtop' is not defined"
     ]
    }
   ],
   "source": [
    "dis = flopy.mf6.ModflowGwfdis(\n",
    "    gwf,\n",
    "    length_units=\"meters\",\n",
    "    nlay=nlay,\n",
    "    nrow=nrow,\n",
    "    ncol=ncol,\n",
    "    delr=delr,\n",
    "    delc=delc,\n",
    "    top=rtop,\n",
    "    botm=botm,\n",
    "    idomain=idomain,\n",
    ")\n",
    "ic = flopy.mf6.ModflowGwfic(gwf, strt=40.0)\n",
    "npf = flopy.mf6.ModflowGwfnpf(\n",
    "    gwf, save_specific_discharge=True, k=[rkaq, rkaq, rkaq], icelltype=1\n",
    ")\n",
    "rch = flopy.mf6.ModflowGwfrcha(gwf, recharge=recharge_rate)\n",
    "riv = flopy.mf6.ModflowGwfriv(\n",
    "    gwf, boundnames=True, stress_period_data=river_spd\n",
    ")\n",
    "riv.obs.initialize(\n",
    "    filename=f\"{name}.riv.obs\",\n",
    "    digits=9,\n",
    "    print_input=True,\n",
    "    continuous=riv_obs,\n",
    ")\n",
    "wel = flopy.mf6.ModflowGwfwel(gwf, stress_period_data=well_spd)\n",
    "chd = flopy.mf6.ModflowGwfchd(gwf, stress_period_data=chd_spd)\n",
    "oc = flopy.mf6.ModflowGwfoc(\n",
    "    gwf,\n",
    "    head_filerecord=f\"{name}.hds\",\n",
    "    budget_filerecord=f\"{name}.cbc\",\n",
    "    saverecord=[(\"HEAD\", \"ALL\"), (\"BUDGET\", \"ALL\")],\n",
    ")"
   ]
  },
  {
   "cell_type": "markdown",
   "id": "9a6d3a06-05b3-4f68-aa34-00dec952ef7d",
   "metadata": {},
   "source": [
    "#### Write the model files"
   ]
  },
  {
   "cell_type": "code",
   "execution_count": 52,
   "id": "6a671453-1197-41db-9905-cc6549f705e1",
   "metadata": {
    "execution": {
     "iopub.execute_input": "2024-02-05T21:29:07.923999Z",
     "iopub.status.busy": "2024-02-05T21:29:07.923843Z",
     "iopub.status.idle": "2024-02-05T21:29:07.928167Z",
     "shell.execute_reply": "2024-02-05T21:29:07.927716Z"
    }
   },
   "outputs": [
    {
     "name": "stdout",
     "output_type": "stream",
     "text": [
      "writing simulation...\n",
      "  writing simulation name file...\n",
      "  writing simulation tdis package...\n",
      "  writing solution package ims_-1...\n",
      "  writing model project...\n",
      "    writing model name file...\n"
     ]
    }
   ],
   "source": [
    "sim.write_simulation()"
   ]
  },
  {
   "cell_type": "markdown",
   "id": "b53e1ada-e0a7-43b0-a72a-cc5ed8a4bc31",
   "metadata": {},
   "source": [
    "#### Run the model"
   ]
  },
  {
   "cell_type": "code",
   "execution_count": 53,
   "id": "8f6a82ba-1005-484e-8a5a-3f59e732eb58",
   "metadata": {
    "execution": {
     "iopub.execute_input": "2024-02-05T21:29:07.930060Z",
     "iopub.status.busy": "2024-02-05T21:29:07.929762Z",
     "iopub.status.idle": "2024-02-05T21:29:07.937383Z",
     "shell.execute_reply": "2024-02-05T21:29:07.936898Z"
    }
   },
   "outputs": [
    {
     "name": "stdout",
     "output_type": "stream",
     "text": [
      "FloPy is using the following executable to run the model: ../../../../../../../../../.local/bin/mf6\n",
      "                                   MODFLOW 6\n",
      "                U.S. GEOLOGICAL SURVEY MODULAR HYDROLOGIC MODEL\n",
      "                            VERSION 6.4.2 06/28/2023\n",
      "\n",
      "   MODFLOW 6 compiled Jul 05 2023 20:29:14 with Intel(R) Fortran Intel(R) 64\n",
      "   Compiler Classic for applications running on Intel(R) 64, Version 2021.7.0\n",
      "                             Build 20220726_000000\n",
      "\n",
      "This software has been approved for release by the U.S. Geological \n",
      "Survey (USGS). Although the software has been subjected to rigorous \n",
      "review, the USGS reserves the right to update the software as needed \n",
      "pursuant to further analysis and review. No warranty, expressed or \n",
      "implied, is made by the USGS or the U.S. Government as to the \n",
      "functionality of the software and related material nor shall the \n",
      "fact of release constitute any such warranty. Furthermore, the \n",
      "software is released on condition that neither the USGS nor the U.S. \n",
      "Government shall be held liable for any damages resulting from its \n",
      "authorized or unauthorized use. Also refer to the USGS Water \n",
      "Resources Software User Rights Notice for complete use, copyright, \n",
      "and distribution information.\n",
      "\n",
      " \n",
      " Run start date and time (yyyy/mm/dd hh:mm:ss): 2024/02/05 21:29:07\n",
      " \n",
      " Writing simulation list file: mfsim.lst\n",
      " Using Simulation name file: mfsim.nam\n",
      " \n",
      "\n",
      "ERROR REPORT:\n",
      "\n",
      "  1. Required block \"PACKAGES\" not found.  Found end of file instead.\n",
      "\n",
      "UNIT ERROR REPORT:\n",
      "\n",
      "  1. Error occurred while reading file\n",
      "     '/home/runner/work/python-for-hydrology/python-for-hydrology/docs/source/\n",
      "     notebooks/part1_flopy/temp/structured/project.nam'\n"
     ]
    },
    {
     "data": {
      "text/plain": [
       "(False, [])"
      ]
     },
     "execution_count": 53,
     "metadata": {},
     "output_type": "execute_result"
    }
   ],
   "source": [
    "sim.run_simulation()"
   ]
  },
  {
   "cell_type": "markdown",
   "id": "dab370b7-c023-402a-bf3d-792cc82ad4de",
   "metadata": {},
   "source": [
    "#### Post-process the results\n",
    "\n",
    "Use `gwf.output.` method to get the observations."
   ]
  },
  {
   "cell_type": "code",
   "execution_count": 54,
   "id": "6b1b0a5d-b1e6-4824-94c3-c849e176146b",
   "metadata": {
    "execution": {
     "iopub.execute_input": "2024-02-05T21:29:07.939077Z",
     "iopub.status.busy": "2024-02-05T21:29:07.938921Z",
     "iopub.status.idle": "2024-02-05T21:29:08.006981Z",
     "shell.execute_reply": "2024-02-05T21:29:08.006540Z"
    }
   },
   "outputs": [
    {
     "ename": "AttributeError",
     "evalue": "riv",
     "output_type": "error",
     "traceback": [
      "\u001b[0;31m---------------------------------------------------------------------------\u001b[0m",
      "\u001b[0;31mAttributeError\u001b[0m                            Traceback (most recent call last)",
      "Cell \u001b[0;32mIn[54], line 1\u001b[0m\n\u001b[0;32m----> 1\u001b[0m myobs \u001b[38;5;241m=\u001b[39m \u001b[43mgwf\u001b[49m\u001b[38;5;241;43m.\u001b[39;49m\u001b[43mriv\u001b[49m\u001b[38;5;241m.\u001b[39moutput\u001b[38;5;241m.\u001b[39mobs()\u001b[38;5;241m.\u001b[39mget_data()\n\u001b[1;32m      2\u001b[0m myobs\u001b[38;5;241m.\u001b[39mdtype\n",
      "File \u001b[0;32m~/micromamba/envs/pyclass-docs/lib/python3.11/site-packages/flopy/mf6/mfmodel.py:183\u001b[0m, in \u001b[0;36mMFModel.__getattr__\u001b[0;34m(self, item)\u001b[0m\n\u001b[1;32m    181\u001b[0m \u001b[38;5;28;01mif\u001b[39;00m package \u001b[38;5;129;01mis\u001b[39;00m \u001b[38;5;129;01mnot\u001b[39;00m \u001b[38;5;28;01mNone\u001b[39;00m:\n\u001b[1;32m    182\u001b[0m     \u001b[38;5;28;01mreturn\u001b[39;00m package\n\u001b[0;32m--> 183\u001b[0m \u001b[38;5;28;01mraise\u001b[39;00m \u001b[38;5;167;01mAttributeError\u001b[39;00m(item)\n",
      "\u001b[0;31mAttributeError\u001b[0m: riv"
     ]
    }
   ],
   "source": [
    "myobs = gwf.riv.output.obs().get_data()\n",
    "myobs.dtype"
   ]
  },
  {
   "cell_type": "code",
   "execution_count": 55,
   "id": "5f66f01c-9f11-4d83-be31-874c4df3717a",
   "metadata": {
    "execution": {
     "iopub.execute_input": "2024-02-05T21:29:08.009058Z",
     "iopub.status.busy": "2024-02-05T21:29:08.008670Z",
     "iopub.status.idle": "2024-02-05T21:29:08.019565Z",
     "shell.execute_reply": "2024-02-05T21:29:08.019067Z"
    }
   },
   "outputs": [
    {
     "ename": "NameError",
     "evalue": "name 'myobs' is not defined",
     "output_type": "error",
     "traceback": [
      "\u001b[0;31m---------------------------------------------------------------------------\u001b[0m",
      "\u001b[0;31mNameError\u001b[0m                                 Traceback (most recent call last)",
      "Cell \u001b[0;32mIn[55], line 1\u001b[0m\n\u001b[0;32m----> 1\u001b[0m \u001b[43mmyobs\u001b[49m[\u001b[38;5;124m\"\u001b[39m\u001b[38;5;124mUPSTREAM\u001b[39m\u001b[38;5;124m\"\u001b[39m], myobs[\u001b[38;5;124m\"\u001b[39m\u001b[38;5;124mDOWNSTREAM\u001b[39m\u001b[38;5;124m\"\u001b[39m]\n",
      "\u001b[0;31mNameError\u001b[0m: name 'myobs' is not defined"
     ]
    }
   ],
   "source": [
    "myobs[\"UPSTREAM\"], myobs[\"DOWNSTREAM\"]"
   ]
  },
  {
   "cell_type": "markdown",
   "id": "50b64389-c690-4c21-bf74-2d4a5479de23",
   "metadata": {},
   "source": [
    "Use `gwf.output.` method to get the heads and specific discharge. Make a map and cross-sections of the data using `flopy.plot` methods. Plot specific discharge vectors on the map and cross-sections."
   ]
  },
  {
   "cell_type": "code",
   "execution_count": 56,
   "id": "5d872228-ac57-4cba-8873-fb6430dac670",
   "metadata": {
    "execution": {
     "iopub.execute_input": "2024-02-05T21:29:08.021641Z",
     "iopub.status.busy": "2024-02-05T21:29:08.021314Z",
     "iopub.status.idle": "2024-02-05T21:29:08.031287Z",
     "shell.execute_reply": "2024-02-05T21:29:08.030813Z"
    }
   },
   "outputs": [
    {
     "ename": "AttributeError",
     "evalue": "'MF6Output' object has no attribute 'head'",
     "output_type": "error",
     "traceback": [
      "\u001b[0;31m---------------------------------------------------------------------------\u001b[0m",
      "\u001b[0;31mAttributeError\u001b[0m                            Traceback (most recent call last)",
      "Cell \u001b[0;32mIn[56], line 1\u001b[0m\n\u001b[0;32m----> 1\u001b[0m head \u001b[38;5;241m=\u001b[39m \u001b[43mgwf\u001b[49m\u001b[38;5;241;43m.\u001b[39;49m\u001b[43moutput\u001b[49m\u001b[38;5;241;43m.\u001b[39;49m\u001b[43mhead\u001b[49m()\u001b[38;5;241m.\u001b[39mget_data()\n",
      "\u001b[0;31mAttributeError\u001b[0m: 'MF6Output' object has no attribute 'head'"
     ]
    }
   ],
   "source": [
    "head = gwf.output.head().get_data()"
   ]
  },
  {
   "cell_type": "markdown",
   "id": "8a38f807-ef85-4bbc-a66a-04f804c2633d",
   "metadata": {},
   "source": [
    "fpth = \"/Users/jdhughes/Documents/Training/python-for-hydrology/notebooks/part1_flopy/data_project/aquifer_top.asc\"\n",
    "np.savetxt(fpth, head[0] + 2.)"
   ]
  },
  {
   "cell_type": "code",
   "execution_count": 57,
   "id": "4d75de40-e830-4c20-9b16-c5edfbdbb628",
   "metadata": {
    "execution": {
     "iopub.execute_input": "2024-02-05T21:29:08.033192Z",
     "iopub.status.busy": "2024-02-05T21:29:08.032888Z",
     "iopub.status.idle": "2024-02-05T21:29:08.043656Z",
     "shell.execute_reply": "2024-02-05T21:29:08.043180Z"
    }
   },
   "outputs": [
    {
     "ename": "AttributeError",
     "evalue": "'MF6Output' object has no attribute 'budget'",
     "output_type": "error",
     "traceback": [
      "\u001b[0;31m---------------------------------------------------------------------------\u001b[0m",
      "\u001b[0;31mAttributeError\u001b[0m                            Traceback (most recent call last)",
      "Cell \u001b[0;32mIn[57], line 1\u001b[0m\n\u001b[0;32m----> 1\u001b[0m \u001b[43mgwf\u001b[49m\u001b[38;5;241;43m.\u001b[39;49m\u001b[43moutput\u001b[49m\u001b[38;5;241;43m.\u001b[39;49m\u001b[43mbudget\u001b[49m()\u001b[38;5;241m.\u001b[39mget_unique_record_names()\n",
      "\u001b[0;31mAttributeError\u001b[0m: 'MF6Output' object has no attribute 'budget'"
     ]
    }
   ],
   "source": [
    "gwf.output.budget().get_unique_record_names()"
   ]
  },
  {
   "cell_type": "code",
   "execution_count": 58,
   "id": "cc988112-38dd-43dc-b4f0-77ec2f41b627",
   "metadata": {
    "execution": {
     "iopub.execute_input": "2024-02-05T21:29:08.045467Z",
     "iopub.status.busy": "2024-02-05T21:29:08.045282Z",
     "iopub.status.idle": "2024-02-05T21:29:08.056807Z",
     "shell.execute_reply": "2024-02-05T21:29:08.056293Z"
    }
   },
   "outputs": [
    {
     "ename": "AttributeError",
     "evalue": "'MF6Output' object has no attribute 'budget'",
     "output_type": "error",
     "traceback": [
      "\u001b[0;31m---------------------------------------------------------------------------\u001b[0m",
      "\u001b[0;31mAttributeError\u001b[0m                            Traceback (most recent call last)",
      "Cell \u001b[0;32mIn[58], line 1\u001b[0m\n\u001b[0;32m----> 1\u001b[0m spdis \u001b[38;5;241m=\u001b[39m \u001b[43mgwf\u001b[49m\u001b[38;5;241;43m.\u001b[39;49m\u001b[43moutput\u001b[49m\u001b[38;5;241;43m.\u001b[39;49m\u001b[43mbudget\u001b[49m()\u001b[38;5;241m.\u001b[39mget_data(text\u001b[38;5;241m=\u001b[39m\u001b[38;5;124m\"\u001b[39m\u001b[38;5;124mDATA-SPDIS\u001b[39m\u001b[38;5;124m\"\u001b[39m)[\u001b[38;5;241m0\u001b[39m]\n\u001b[1;32m      2\u001b[0m qx, qy, qz \u001b[38;5;241m=\u001b[39m flopy\u001b[38;5;241m.\u001b[39mutils\u001b[38;5;241m.\u001b[39mpostprocessing\u001b[38;5;241m.\u001b[39mget_specific_discharge(\n\u001b[1;32m      3\u001b[0m     spdis, gwf, head\u001b[38;5;241m=\u001b[39mhead\n\u001b[1;32m      4\u001b[0m )\n",
      "\u001b[0;31mAttributeError\u001b[0m: 'MF6Output' object has no attribute 'budget'"
     ]
    }
   ],
   "source": [
    "spdis = gwf.output.budget().get_data(text=\"DATA-SPDIS\")[0]\n",
    "qx, qy, qz = flopy.utils.postprocessing.get_specific_discharge(\n",
    "    spdis, gwf, head=head\n",
    ")"
   ]
  },
  {
   "cell_type": "code",
   "execution_count": 59,
   "id": "bd3c9c9f-be85-4a31-afd6-883fa78af810",
   "metadata": {
    "execution": {
     "iopub.execute_input": "2024-02-05T21:29:08.058895Z",
     "iopub.status.busy": "2024-02-05T21:29:08.058529Z",
     "iopub.status.idle": "2024-02-05T21:29:08.190804Z",
     "shell.execute_reply": "2024-02-05T21:29:08.190281Z"
    }
   },
   "outputs": [
    {
     "ename": "NameError",
     "evalue": "name 'head' is not defined",
     "output_type": "error",
     "traceback": [
      "\u001b[0;31m---------------------------------------------------------------------------\u001b[0m",
      "\u001b[0;31mNameError\u001b[0m                                 Traceback (most recent call last)",
      "Cell \u001b[0;32mIn[59], line 9\u001b[0m\n\u001b[1;32m      1\u001b[0m fig, ax \u001b[38;5;241m=\u001b[39m plt\u001b[38;5;241m.\u001b[39msubplots(\n\u001b[1;32m      2\u001b[0m     ncols\u001b[38;5;241m=\u001b[39m\u001b[38;5;241m1\u001b[39m,\n\u001b[1;32m      3\u001b[0m     nrows\u001b[38;5;241m=\u001b[39m\u001b[38;5;241m1\u001b[39m,\n\u001b[0;32m   (...)\u001b[0m\n\u001b[1;32m      6\u001b[0m     subplot_kw\u001b[38;5;241m=\u001b[39m\u001b[38;5;28mdict\u001b[39m(aspect\u001b[38;5;241m=\u001b[39m\u001b[38;5;124m\"\u001b[39m\u001b[38;5;124mequal\u001b[39m\u001b[38;5;124m\"\u001b[39m),\n\u001b[1;32m      7\u001b[0m )\n\u001b[1;32m      8\u001b[0m mm \u001b[38;5;241m=\u001b[39m flopy\u001b[38;5;241m.\u001b[39mplot\u001b[38;5;241m.\u001b[39mPlotMapView(model\u001b[38;5;241m=\u001b[39mgwf, ax\u001b[38;5;241m=\u001b[39max, layer\u001b[38;5;241m=\u001b[39m\u001b[38;5;241m0\u001b[39m)\n\u001b[0;32m----> 9\u001b[0m cb \u001b[38;5;241m=\u001b[39m mm\u001b[38;5;241m.\u001b[39mplot_array(\u001b[43mhead\u001b[49m, masked_values\u001b[38;5;241m=\u001b[39m[\u001b[38;5;241m1e30\u001b[39m], vmin\u001b[38;5;241m=\u001b[39m\u001b[38;5;241m10\u001b[39m, vmax\u001b[38;5;241m=\u001b[39m\u001b[38;5;241m30\u001b[39m)\n\u001b[1;32m     10\u001b[0m river\u001b[38;5;241m.\u001b[39mplot(color\u001b[38;5;241m=\u001b[39m\u001b[38;5;124m\"\u001b[39m\u001b[38;5;124mcyan\u001b[39m\u001b[38;5;124m\"\u001b[39m, ax\u001b[38;5;241m=\u001b[39mmm\u001b[38;5;241m.\u001b[39max)\n\u001b[1;32m     11\u001b[0m mm\u001b[38;5;241m.\u001b[39mplot_grid(lw\u001b[38;5;241m=\u001b[39m\u001b[38;5;241m0.5\u001b[39m, color\u001b[38;5;241m=\u001b[39m\u001b[38;5;124m\"\u001b[39m\u001b[38;5;124m0.5\u001b[39m\u001b[38;5;124m\"\u001b[39m)\n",
      "\u001b[0;31mNameError\u001b[0m: name 'head' is not defined"
     ]
    },
    {
     "data": {
      "image/png": "[encoded data removed]",
      "text/plain": [
       "<Figure size 500x800 with 1 Axes>"
      ]
     },
     "metadata": {},
     "output_type": "display_data"
    }
   ],
   "source": [
    "fig, ax = plt.subplots(\n",
    "    ncols=1,\n",
    "    nrows=1,\n",
    "    figsize=(5, 8),\n",
    "    constrained_layout=True,\n",
    "    subplot_kw=dict(aspect=\"equal\"),\n",
    ")\n",
    "mm = flopy.plot.PlotMapView(model=gwf, ax=ax, layer=0)\n",
    "cb = mm.plot_array(head, masked_values=[1e30], vmin=10, vmax=30)\n",
    "river.plot(color=\"cyan\", ax=mm.ax)\n",
    "mm.plot_grid(lw=0.5, color=\"0.5\")\n",
    "mm.plot_vector(qx, qy, normalize=True)\n",
    "cs = mm.contour_array(\n",
    "    head,\n",
    "    masked_values=[1e30],\n",
    "    colors=\"red\",\n",
    "    levels=np.arange(10, 28, 1),\n",
    "    linestyles=\":\",\n",
    "    linewidths=1.0,\n",
    ")\n",
    "ax.clabel(\n",
    "    cs,\n",
    "    inline=True,\n",
    "    fmt=\"%1.0f\",\n",
    "    fontsize=10,\n",
    "    inline_spacing=0.5,\n",
    ")\n",
    "# mm.plot_inactive(ibound=idomain)\n",
    "plt.colorbar(cb, ax=mm.ax, shrink=0.5)\n",
    "\n",
    "fig.savefig(\"../figures/freyberg-structured.png\", dpi=300);"
   ]
  },
  {
   "cell_type": "code",
   "execution_count": 60,
   "id": "44dbdf83-3b9d-4a8e-9a00-c498647c5155",
   "metadata": {
    "execution": {
     "iopub.execute_input": "2024-02-05T21:29:08.192894Z",
     "iopub.status.busy": "2024-02-05T21:29:08.192547Z",
     "iopub.status.idle": "2024-02-05T21:29:08.327996Z",
     "shell.execute_reply": "2024-02-05T21:29:08.327528Z"
    }
   },
   "outputs": [
    {
     "ename": "AttributeError",
     "evalue": "dis",
     "output_type": "error",
     "traceback": [
      "\u001b[0;31m---------------------------------------------------------------------------\u001b[0m",
      "\u001b[0;31mAttributeError\u001b[0m                            Traceback (most recent call last)",
      "Cell \u001b[0;32mIn[60], line 10\u001b[0m\n\u001b[1;32m      1\u001b[0m fig, ax \u001b[38;5;241m=\u001b[39m plt\u001b[38;5;241m.\u001b[39msubplots(\n\u001b[1;32m      2\u001b[0m     ncols\u001b[38;5;241m=\u001b[39m\u001b[38;5;241m1\u001b[39m,\n\u001b[1;32m      3\u001b[0m     nrows\u001b[38;5;241m=\u001b[39m\u001b[38;5;241m1\u001b[39m,\n\u001b[0;32m   (...)\u001b[0m\n\u001b[1;32m      6\u001b[0m     subplot_kw\u001b[38;5;241m=\u001b[39m\u001b[38;5;28mdict\u001b[39m(aspect\u001b[38;5;241m=\u001b[39m\u001b[38;5;124m\"\u001b[39m\u001b[38;5;124mequal\u001b[39m\u001b[38;5;124m\"\u001b[39m),\n\u001b[1;32m      7\u001b[0m )\n\u001b[1;32m      9\u001b[0m mm \u001b[38;5;241m=\u001b[39m flopy\u001b[38;5;241m.\u001b[39mplot\u001b[38;5;241m.\u001b[39mPlotMapView(model\u001b[38;5;241m=\u001b[39mgwf, ax\u001b[38;5;241m=\u001b[39max, layer\u001b[38;5;241m=\u001b[39m\u001b[38;5;241m0\u001b[39m)\n\u001b[0;32m---> 10\u001b[0m cb \u001b[38;5;241m=\u001b[39m mm\u001b[38;5;241m.\u001b[39mplot_array(\u001b[43mgwf\u001b[49m\u001b[38;5;241;43m.\u001b[39;49m\u001b[43mdis\u001b[49m\u001b[38;5;241m.\u001b[39mtop\u001b[38;5;241m.\u001b[39marray, masked_values\u001b[38;5;241m=\u001b[39m[\u001b[38;5;241m1e30\u001b[39m], vmin\u001b[38;5;241m=\u001b[39m\u001b[38;5;241m15\u001b[39m, vmax\u001b[38;5;241m=\u001b[39m\u001b[38;5;241m30\u001b[39m)\n\u001b[1;32m     11\u001b[0m river\u001b[38;5;241m.\u001b[39mplot(color\u001b[38;5;241m=\u001b[39m\u001b[38;5;124m\"\u001b[39m\u001b[38;5;124mcyan\u001b[39m\u001b[38;5;124m\"\u001b[39m, ax\u001b[38;5;241m=\u001b[39mmm\u001b[38;5;241m.\u001b[39max)\n\u001b[1;32m     12\u001b[0m mm\u001b[38;5;241m.\u001b[39mplot_grid(lw\u001b[38;5;241m=\u001b[39m\u001b[38;5;241m0.5\u001b[39m, color\u001b[38;5;241m=\u001b[39m\u001b[38;5;124m\"\u001b[39m\u001b[38;5;124m0.5\u001b[39m\u001b[38;5;124m\"\u001b[39m, zorder\u001b[38;5;241m=\u001b[39m\u001b[38;5;241m11\u001b[39m)\n",
      "File \u001b[0;32m~/micromamba/envs/pyclass-docs/lib/python3.11/site-packages/flopy/mf6/mfmodel.py:183\u001b[0m, in \u001b[0;36mMFModel.__getattr__\u001b[0;34m(self, item)\u001b[0m\n\u001b[1;32m    181\u001b[0m \u001b[38;5;28;01mif\u001b[39;00m package \u001b[38;5;129;01mis\u001b[39;00m \u001b[38;5;129;01mnot\u001b[39;00m \u001b[38;5;28;01mNone\u001b[39;00m:\n\u001b[1;32m    182\u001b[0m     \u001b[38;5;28;01mreturn\u001b[39;00m package\n\u001b[0;32m--> 183\u001b[0m \u001b[38;5;28;01mraise\u001b[39;00m \u001b[38;5;167;01mAttributeError\u001b[39;00m(item)\n",
      "\u001b[0;31mAttributeError\u001b[0m: dis"
     ]
    },
    {
     "data": {
      "image/png": "[encoded data removed]",
      "text/plain": [
       "<Figure size 500x800 with 1 Axes>"
      ]
     },
     "metadata": {},
     "output_type": "display_data"
    }
   ],
   "source": [
    "fig, ax = plt.subplots(\n",
    "    ncols=1,\n",
    "    nrows=1,\n",
    "    figsize=(5, 8),\n",
    "    constrained_layout=True,\n",
    "    subplot_kw=dict(aspect=\"equal\"),\n",
    ")\n",
    "\n",
    "mm = flopy.plot.PlotMapView(model=gwf, ax=ax, layer=0)\n",
    "cb = mm.plot_array(gwf.dis.top.array, masked_values=[1e30], vmin=15, vmax=30)\n",
    "river.plot(color=\"cyan\", ax=mm.ax)\n",
    "mm.plot_grid(lw=0.5, color=\"0.5\", zorder=11)\n",
    "mm.plot_inactive(zorder=10)\n",
    "cs = mm.contour_array(\n",
    "    gwf.dis.top.array,\n",
    "    colors=\"red\",\n",
    "    levels=np.arange(15, 31, 1),\n",
    "    linestyles=\":\",\n",
    "    linewidths=1.0,\n",
    ")\n",
    "ax.clabel(\n",
    "    cs,\n",
    "    inline=True,\n",
    "    fmt=\"%1.0f\",\n",
    "    fontsize=10,\n",
    "    inline_spacing=0.5,\n",
    ")\n",
    "plt.colorbar(cb, ax=mm.ax, shrink=0.5)\n",
    "\n",
    "fig.savefig(\"../figures/freyberg-structured-grid.png\", dpi=300);"
   ]
  },
  {
   "cell_type": "code",
   "execution_count": null,
   "id": "ca1097ac-0fd5-4b46-b759-d24a4566dd59",
   "metadata": {},
   "outputs": [],
   "source": []
  }
 ],
 "metadata": {
  "kernelspec": {
   "display_name": "Python 3 (ipykernel)",
   "language": "python",
   "name": "python3"
  },
  "language_info": {
   "codemirror_mode": {
    "name": "ipython",
    "version": 3
   },
   "file_extension": ".py",
   "mimetype": "text/x-python",
   "name": "python",
   "nbconvert_exporter": "python",
   "pygments_lexer": "ipython3",
   "version": "3.11.7"
  }
 },
 "nbformat": 4,
 "nbformat_minor": 5
}
